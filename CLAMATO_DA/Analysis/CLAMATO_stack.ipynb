{
 "cells": [
  {
   "cell_type": "markdown",
   "metadata": {},
   "source": [
    "# Stacking the CLAMATO dataset"
   ]
  },
  {
   "cell_type": "code",
   "execution_count": 2,
   "metadata": {
    "collapsed": false
   },
   "outputs": [],
   "source": [
    "# imports\n",
    "from astropy import constants as const\n",
    "\n",
    "from linetools.spectra import utils as ltsu\n",
    "\n",
    "from specdb.specdb import IgmSpec\n",
    "from xastropy.xutils import xdebug as xdb"
   ]
  },
  {
   "cell_type": "markdown",
   "metadata": {},
   "source": [
    "## Test spec DB"
   ]
  },
  {
   "cell_type": "code",
   "execution_count": 3,
   "metadata": {
    "collapsed": false
   },
   "outputs": [
    {
     "name": "stdout",
     "output_type": "stream",
     "text": [
      "Database is CLAMATO\n",
      "Created on 2017-Jan-23\n"
     ]
    }
   ],
   "source": [
    "clamato = IgmSpec(db_file=os.getenv('DROPBOX_DIR')+'/cl2016_redux/clamato.hdf5')"
   ]
  },
  {
   "cell_type": "code",
   "execution_count": 4,
   "metadata": {
    "collapsed": false
   },
   "outputs": [
    {
     "data": {
      "text/plain": [
       "(237,)"
      ]
     },
     "execution_count": 4,
     "metadata": {},
     "output_type": "execute_result"
    }
   ],
   "source": [
    "clamato.hdf['LRIS/spec'].shape"
   ]
  },
  {
   "cell_type": "markdown",
   "metadata": {},
   "source": [
    "## Grab a set of the spectra"
   ]
  },
  {
   "cell_type": "code",
   "execution_count": 5,
   "metadata": {
    "collapsed": false
   },
   "outputs": [
    {
     "data": {
      "text/html": [
       "&lt;Column name=&apos;CLAM_ID&apos; dtype=&apos;int64&apos; length=3&gt;\n",
       "<table>\n",
       "<tr><td>0</td></tr>\n",
       "<tr><td>1</td></tr>\n",
       "<tr><td>2</td></tr>\n",
       "</table>"
      ],
      "text/plain": [
       "<Column name='CLAM_ID' dtype='int64' length=3>\n",
       "0\n",
       "1\n",
       "2"
      ]
     },
     "execution_count": 5,
     "metadata": {},
     "output_type": "execute_result"
    }
   ],
   "source": [
    "ids = clamato.qcat.cat['CLAM_ID']\n",
    "ids[0:3]"
   ]
  },
  {
   "cell_type": "markdown",
   "metadata": {},
   "source": [
    "### Lya coverage"
   ]
  },
  {
   "cell_type": "code",
   "execution_count": 7,
   "metadata": {
    "collapsed": false
   },
   "outputs": [
    {
     "data": {
      "text/plain": [
       "231"
      ]
     },
     "execution_count": 7,
     "metadata": {},
     "output_type": "execute_result"
    }
   ],
   "source": [
    "gds = clamato.cat['zem'] > 1.7\n",
    "np.sum(gds)"
   ]
  },
  {
   "cell_type": "code",
   "execution_count": 8,
   "metadata": {
    "collapsed": false
   },
   "outputs": [
    {
     "data": {
      "text/plain": [
       "231"
      ]
     },
     "execution_count": 8,
     "metadata": {},
     "output_type": "execute_result"
    }
   ],
   "source": [
    "rows = clamato['LRIS'].ids_to_firstrow(ids[gds])\n",
    "len(rows)"
   ]
  },
  {
   "cell_type": "code",
   "execution_count": 10,
   "metadata": {
    "collapsed": false
   },
   "outputs": [
    {
     "name": "stdout",
     "output_type": "stream",
     "text": [
      "Staged 231 spectra totalling 0.0155232 Gb\n",
      "Loaded spectra\n"
     ]
    },
    {
     "name": "stderr",
     "output_type": "stream",
     "text": [
      "/Users/xavier/local/Python/linetools/linetools/spectra/xspectrum1d.py:248: UserWarning: No unit given to wavelength, assuming Angstroms.\n",
      "  warnings.warn(\"No unit given to wavelength, assuming Angstroms.\")\n"
     ]
    }
   ],
   "source": [
    "spec, meta = clamato['LRIS'].grab_specmeta(rows)"
   ]
  },
  {
   "cell_type": "code",
   "execution_count": 11,
   "metadata": {
    "collapsed": false
   },
   "outputs": [
    {
     "data": {
      "text/plain": [
       "<XSpectrum1D: file=none, nspec=231, select=0, wvmin=3850.23 Angstrom, wvmax=5603.31 Angstrom>"
      ]
     },
     "execution_count": 11,
     "metadata": {},
     "output_type": "execute_result"
    }
   ],
   "source": [
    "spec"
   ]
  },
  {
   "cell_type": "code",
   "execution_count": 12,
   "metadata": {
    "collapsed": false
   },
   "outputs": [
    {
     "data": {
      "text/html": [
       "&lt;Table length=5&gt;\n",
       "<table id=\"table4551050704\" class=\"table-striped table-bordered table-condensed\">\n",
       "<thead><tr><th>RA_GROUP</th><th>DEC_GROUP</th><th>STYPE</th><th>zem_GROUP</th><th>sig_zem</th><th>flag_zem</th><th>DATE-OBS</th><th>R</th><th>DISPERSER</th><th>EPOCH</th><th>GROUP_ID</th><th>CLAM_ID</th><th>NPIX</th><th>WV_MIN</th><th>WV_MAX</th><th>SPEC_FILE</th><th>INSTR</th><th>TELESCOPE</th></tr></thead>\n",
       "<thead><tr><th>float64</th><th>float64</th><th>str3</th><th>float64</th><th>float64</th><th>str8</th><th>str10</th><th>float64</th><th>str8</th><th>float64</th><th>int64</th><th>int64</th><th>int64</th><th>float64</th><th>float64</th><th>str71</th><th>str5</th><th>str6</th></tr></thead>\n",
       "<tr><td>150.2357</td><td>2.1661</td><td>QSO</td><td>2.128</td><td>0.0</td><td>CLAMATO</td><td>2016-02-12</td><td>1000.0</td><td>600/4000</td><td>2000.0</td><td>0</td><td>0</td><td>1375</td><td>3850.2</td><td>5603.3</td><td>/u/xavier/Dropbox//cl2016_redux/spec///./c16_11_zph2.3_12434_F.fits</td><td>LRISb</td><td>Keck-I</td></tr>\n",
       "<tr><td>150.2045</td><td>2.1710</td><td>QSO</td><td>2.370</td><td>0.0</td><td>CLAMATO</td><td>2016-02-12</td><td>1000.0</td><td>600/4000</td><td>2000.0</td><td>1</td><td>1</td><td>1816</td><td>3346.8</td><td>5603.1</td><td>/u/xavier/Dropbox//cl2016_redux/spec///./c16_11_zph2.4_12707_F.fits</td><td>LRISb</td><td>Keck-I</td></tr>\n",
       "<tr><td>150.1827</td><td>2.1548</td><td>QSO</td><td>2.436</td><td>0.0</td><td>CLAMATO</td><td>2016-02-12</td><td>1000.0</td><td>600/4000</td><td>2000.0</td><td>2</td><td>2</td><td>1989</td><td>3103.5</td><td>5520.5</td><td>/u/xavier/Dropbox//cl2016_redux/spec///./c16_11_zph2.4_12732_F.fits</td><td>LRISb</td><td>Keck-I</td></tr>\n",
       "<tr><td>150.1698</td><td>2.1409</td><td>QSO</td><td>2.170</td><td>0.0</td><td>CLAMATO</td><td>2016-02-12</td><td>1000.0</td><td>600/4000</td><td>2000.0</td><td>3</td><td>3</td><td>1835</td><td>3102.7</td><td>5308.6</td><td>/u/xavier/Dropbox//cl2016_redux/spec///./c16_11_zph2.4_12751_F.fits</td><td>LRISb</td><td>Keck-I</td></tr>\n",
       "<tr><td>150.2277</td><td>2.2360</td><td>QSO</td><td>2.493</td><td>0.0</td><td>CLAMATO</td><td>2016-02-12</td><td>1000.0</td><td>600/4000</td><td>2000.0</td><td>4</td><td>4</td><td>1516</td><td>3682.6</td><td>5603.5</td><td>/u/xavier/Dropbox//cl2016_redux/spec///./c16_11_zph2.5_12304_F.fits</td><td>LRISb</td><td>Keck-I</td></tr>\n",
       "</table>"
      ],
      "text/plain": [
       "<Table length=5>\n",
       "RA_GROUP DEC_GROUP STYPE ... INSTR TELESCOPE\n",
       "float64   float64   str3 ...  str5    str6  \n",
       "-------- --------- ----- ... ----- ---------\n",
       "150.2357    2.1661   QSO ... LRISb    Keck-I\n",
       "150.2045    2.1710   QSO ... LRISb    Keck-I\n",
       "150.1827    2.1548   QSO ... LRISb    Keck-I\n",
       "150.1698    2.1409   QSO ... LRISb    Keck-I\n",
       "150.2277    2.2360   QSO ... LRISb    Keck-I"
      ]
     },
     "execution_count": 12,
     "metadata": {},
     "output_type": "execute_result"
    }
   ],
   "source": [
    "meta[0:5]"
   ]
  },
  {
   "cell_type": "code",
   "execution_count": 14,
   "metadata": {
    "collapsed": false
   },
   "outputs": [
    {
     "data": {
      "text/plain": [
       "1.74"
      ]
     },
     "execution_count": 14,
     "metadata": {},
     "output_type": "execute_result"
    }
   ],
   "source": [
    "np.min(meta['zem_GROUP'])"
   ]
  },
  {
   "cell_type": "markdown",
   "metadata": {},
   "source": [
    "## Rebin"
   ]
  },
  {
   "cell_type": "code",
   "execution_count": 15,
   "metadata": {
    "collapsed": false
   },
   "outputs": [],
   "source": [
    "zarr = meta['zem_GROUP']"
   ]
  },
  {
   "cell_type": "code",
   "execution_count": 17,
   "metadata": {
    "collapsed": false
   },
   "outputs": [],
   "source": [
    "reload(ltsu)\n",
    "rest_spec = ltsu.rebin_to_rest(spec, zarr, 200*u.km/u.s, debug=False, grow_bad_sig=True)"
   ]
  },
  {
   "cell_type": "code",
   "execution_count": 18,
   "metadata": {
    "collapsed": true
   },
   "outputs": [],
   "source": [
    "rest_spec.select=2\n",
    "rest_spec.plot()"
   ]
  },
  {
   "cell_type": "code",
   "execution_count": 19,
   "metadata": {
    "collapsed": false
   },
   "outputs": [
    {
     "data": {
      "text/latex": [
       "$[0,~0,~0,~\\dots, 0,~0,~0] \\; \\mathrm{}$"
      ],
      "text/plain": [
       "<Quantity [ 0., 0., 0.,...,  0., 0., 0.]>"
      ]
     },
     "execution_count": 19,
     "metadata": {},
     "output_type": "execute_result"
    }
   ],
   "source": [
    "rest_spec.sig\n",
    "# That last pixel is a bit worrisome"
   ]
  },
  {
   "cell_type": "markdown",
   "metadata": {
    "collapsed": true
   },
   "source": [
    "## Stack"
   ]
  },
  {
   "cell_type": "code",
   "execution_count": 20,
   "metadata": {
    "collapsed": false
   },
   "outputs": [],
   "source": [
    "reload(ltsu)\n",
    "stack = ltsu.smash_spectra(rest_spec, debug=False)"
   ]
  },
  {
   "cell_type": "code",
   "execution_count": null,
   "metadata": {
    "collapsed": false
   },
   "outputs": [
    {
     "name": "stderr",
     "output_type": "stream",
     "text": [
      "/Users/xavier/local/Python/linetools/linetools/spectra/xspectrum1d.py:347: UserWarning: This spectrum does not contain an input error array\n",
      "  warnings.warn(\"This spectrum does not contain an input error array\")\n"
     ]
    },
    {
     "name": "stdout",
     "output_type": "stream",
     "text": [
      "button=1, x=650.000000, y=352.000000, xdata=1493.550004, ydata=0.10523\n"
     ]
    }
   ],
   "source": [
    "stack.plot(xspec=True)"
   ]
  },
  {
   "cell_type": "markdown",
   "metadata": {},
   "source": [
    "## Quick figure"
   ]
  },
  {
   "cell_type": "markdown",
   "metadata": {},
   "source": [
    "## Tests"
   ]
  },
  {
   "cell_type": "code",
   "execution_count": 32,
   "metadata": {
    "collapsed": false
   },
   "outputs": [],
   "source": [
    "nspec, npix = 3, 100\n",
    "wave = np.outer(np.ones(nspec), np.arange(npix))\n",
    "flux = np.ones_like(wave)\n",
    "sig = np.ones_like(wave)"
   ]
  },
  {
   "cell_type": "code",
   "execution_count": 33,
   "metadata": {
    "collapsed": true
   },
   "outputs": [],
   "source": [
    "from linetools.spectra.xspectrum1d import XSpectrum1D"
   ]
  },
  {
   "cell_type": "code",
   "execution_count": 34,
   "metadata": {
    "collapsed": true
   },
   "outputs": [],
   "source": [
    "new_spec = XSpectrum1D(wave, flux, sig=sig)"
   ]
  },
  {
   "cell_type": "code",
   "execution_count": null,
   "metadata": {
    "collapsed": true
   },
   "outputs": [],
   "source": []
  }
 ],
 "metadata": {
  "kernelspec": {
   "display_name": "Python 2",
   "language": "python",
   "name": "python2"
  },
  "language_info": {
   "codemirror_mode": {
    "name": "ipython",
    "version": 2
   },
   "file_extension": ".py",
   "mimetype": "text/x-python",
   "name": "python",
   "nbconvert_exporter": "python",
   "pygments_lexer": "ipython2",
   "version": "2.7.11"
  }
 },
 "nbformat": 4,
 "nbformat_minor": 0
}
