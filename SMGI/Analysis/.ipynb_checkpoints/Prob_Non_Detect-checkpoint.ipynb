{
 "cells": [
  {
   "cell_type": "markdown",
   "metadata": {},
   "source": [
    "# Notebook to Assess the Likelihood of Non-Detection of the Metals (1.1)"
   ]
  },
  {
   "cell_type": "code",
   "execution_count": 56,
   "metadata": {
    "collapsed": true
   },
   "outputs": [],
   "source": [
    "%matplotlib notebook"
   ]
  },
  {
   "cell_type": "code",
   "execution_count": 55,
   "metadata": {
    "collapsed": false
   },
   "outputs": [],
   "source": [
    "# suppress warnings for these examples\n",
    "import warnings\n",
    "warnings.filterwarnings('ignore')\n",
    "# imports\n",
    "import numpy as np\n",
    "import pdb\n",
    "\n",
    "from astropy.table import Table\n",
    "from astropy import units as u\n",
    "\n",
    "from linetools.spectra import io as lsio\n",
    "\n",
    "# plotting\n",
    "import seaborn as sns\n",
    "sns.set_style(\"whitegrid\")\n",
    "import matplotlib.pyplot as plt"
   ]
  },
  {
   "cell_type": "markdown",
   "metadata": {},
   "source": [
    "## Load QPQ7 measurements"
   ]
  },
  {
   "cell_type": "code",
   "execution_count": 2,
   "metadata": {
    "collapsed": false
   },
   "outputs": [
    {
     "data": {
      "text/html": [
       "&lt;Table length=2&gt;\n",
       "<table id=\"table4598485072\">\n",
       "<thead><tr><th>DATE</th><th>QPQ_SAVFIL</th><th>QSO</th><th>RAD</th><th>DECD</th><th>QSO_BG</th><th>RAD_BG</th><th>DECD_BG</th><th>ORIG_Z_FG</th><th>Z_FG</th><th>Z_FSIG</th><th>Z_BG</th><th>R_PHYS</th><th>FLG_BOSS</th><th>LYA_INSTR</th><th>LYA_FIL</th><th>INFLG_LYAFIL</th><th>S2N_LYA</th><th>FLG_OTHICK</th><th>Z_LYA</th><th>EWLYA</th><th>SIG_EWLYA</th><th>FLG_EWLYA</th><th>VEW [5]</th><th>VEWLYA [5]</th><th>SIG_VEWLYA [5]</th><th>AVGFLYA [5]</th><th>DELTFLYA [5]</th><th>Z_NHI</th><th>NHI</th><th>SIG_NHI [2]</th><th>FLG_NHI</th><th>FLG_METAL_EW [100]</th><th>FLG_METAL_EYE [100]</th><th>METAL_WREST [100]</th><th>RAW_METAL_EW [100]</th><th>METAL_EW [100]</th><th>METAL_SIGEW [100]</th><th>METAL_S2N [100]</th><th>METAL_VCEN [100]</th><th>L_912</th><th>G_UV</th><th>L_BOL</th></tr></thead>\n",
       "<thead><tr><th>str24</th><th>str85</th><th>str14</th><th>float64</th><th>float64</th><th>str14</th><th>float64</th><th>float64</th><th>float32</th><th>float64</th><th>float64</th><th>float64</th><th>float32</th><th>int16</th><th>str9</th><th>str47</th><th>int16</th><th>float32</th><th>int16</th><th>float64</th><th>float32</th><th>float32</th><th>int16</th><th>float32</th><th>float32</th><th>float32</th><th>float32</th><th>float32</th><th>float32</th><th>float32</th><th>float32</th><th>int16</th><th>int16</th><th>int16</th><th>float64</th><th>float32</th><th>float32</th><th>float32</th><th>float32</th><th>float32</th><th>float32</th><th>float32</th><th>float32</th></tr></thead>\n",
       "<tr><td>Fri Oct  3 05:05:57 2014</td><td>~/Dropbox/QSOPairs/QPQ-CGM_v5_4_45/QPQ-CGM_00.000-01.000_Sun-Jan-27-18:18:57-2013.sav</td><td>SDSSJ0002-0529</td><td>0.549036804392</td><td>-5.48569053094</td><td>SDSSJ0002-0530</td><td>0.569453216712</td><td>-5.50211784133</td><td>2.81702</td><td>2.81900429726</td><td>520.99987793</td><td>3.14737582207</td><td>768.469</td><td>0</td><td>SDSS</td><td>/data/MAGE_redux/SDSSJ091046.68+041448.3_F.fits</td><td>11</td><td>41.4537</td><td>0</td><td>2.81604441579</td><td>1.28383</td><td>0.0473478</td><td>2</td><td>150.0 .. 0.0</td><td>0.471749 .. 0.0</td><td>0.0251098 .. 0.0</td><td>0.0 .. 0.0</td><td>1.0 .. 0.0</td><td>2.81604</td><td>18.0</td><td>0.2 .. 0.2</td><td>3</td><td>0 .. 0</td><td>0 .. 0</td><td>1302.16845703 .. 0.0</td><td>0.0 .. 0.0</td><td>0.0 .. 0.0</td><td>0.0 .. 0.0</td><td>0.0 .. 0.0</td><td>0.0 .. 0.0</td><td>30.4563</td><td>64.5017</td><td>46.4887</td></tr>\n",
       "<tr><td>Fri Oct  3 05:05:57 2014</td><td>~/Dropbox/QSOPairs/QPQ-CGM_v5_4_45/QPQ-CGM_00.000-01.000_Sun-Jan-27-18:18:57-2013.sav</td><td>BOSSJ0004+0057</td><td>1.11012513262</td><td>0.950996855971</td><td>BOSSJ0004+0056</td><td>1.13652291883</td><td>0.936806821982</td><td>2.81289</td><td>2.8122522831</td><td>792.381164551</td><td>2.92031121254</td><td>881.583</td><td>0</td><td>BOSS</td><td>/data/MAGE_redux/SDSSJ091046.68+041448.3_F.fits</td><td>11</td><td>16.8973</td><td>0</td><td>2.80680317624</td><td>1.32959</td><td>0.112202</td><td>2</td><td>150.0 .. 0.0</td><td>0.696013 .. 0.0</td><td>0.0690574 .. 0.0</td><td>0.0 .. 0.0</td><td>1.0 .. 0.0</td><td>0.0</td><td>0.0</td><td>0.0 .. 0.0</td><td>0</td><td>0 .. 0</td><td>0 .. 0</td><td>1302.16845703 .. 0.0</td><td>0.0 .. 0.0</td><td>0.0 .. 0.0</td><td>0.0 .. 0.0</td><td>0.0 .. 0.0</td><td>0.0 .. 0.0</td><td>29.9643</td><td>16.5225</td><td>45.9986</td></tr>\n",
       "</table>"
      ],
      "text/plain": [
       "<Table length=2>\n",
       "          DATE           ...  L_BOL \n",
       "         str24           ... float32\n",
       "------------------------ ... -------\n",
       "Fri Oct  3 05:05:57 2014 ... 46.4887\n",
       "Fri Oct  3 05:05:57 2014 ... 45.9986"
      ]
     },
     "execution_count": 2,
     "metadata": {},
     "output_type": "execute_result"
    }
   ],
   "source": [
    "qpq_fil = '/Users/xavier/Dropbox/QSOPairs/qpq7_pairs.fits'\n",
    "qpq_strct = Table.read(qpq_fil)\n",
    "qpq_strct[0:2]"
   ]
  },
  {
   "cell_type": "markdown",
   "metadata": {
    "collapsed": true
   },
   "source": [
    "### Cut down on wrest"
   ]
  },
  {
   "cell_type": "code",
   "execution_count": 3,
   "metadata": {
    "collapsed": true
   },
   "outputs": [],
   "source": [
    "def cut_qpq(qpq_strct, wrest):\n",
    "    good = np.where((qpq_strct['Z_FG']+1)*wrest > ((qpq_strct['Z_BG']+1)*1215.6701 + 20.))\n",
    "    # \n",
    "    return qpq_strct[good]"
   ]
  },
  {
   "cell_type": "markdown",
   "metadata": {},
   "source": [
    "### Detections"
   ]
  },
  {
   "cell_type": "code",
   "execution_count": 10,
   "metadata": {
    "collapsed": true
   },
   "outputs": [],
   "source": [
    "def grab_det(qpq_strct, wrest):\n",
    "    #\n",
    "    if wrest == 1334.5323:\n",
    "        sigEWlim = 0.20 # Ang\n",
    "    else:\n",
    "        pdb.set_trace()\n",
    "    #\n",
    "    gd = np.where( (np.abs(qpq_strct['METAL_WREST']-wrest) < 1e-3) and (\n",
    "            qpq_strct['METAL_SIGEW'] < sigEWlim) and (\n",
    "            qpq_strct['FLG_METAL_EYE'] % 256) >= 128 and (qpq_strct['FLG_METAL_EW'] == 1))[0]\n",
    "    return gd"
   ]
  },
  {
   "cell_type": "markdown",
   "metadata": {},
   "source": [
    "#### Test"
   ]
  },
  {
   "cell_type": "code",
   "execution_count": 17,
   "metadata": {
    "collapsed": true
   },
   "outputs": [],
   "source": [
    "wrest = 1334.5323\n",
    "sigEWlim = 0.20"
   ]
  },
  {
   "cell_type": "code",
   "execution_count": 20,
   "metadata": {
    "collapsed": false
   },
   "outputs": [
    {
     "data": {
      "text/plain": [
       "False"
      ]
     },
     "execution_count": 20,
     "metadata": {},
     "output_type": "execute_result"
    }
   ],
   "source": [
    "np.all([np.abs(qpq_strct['METAL_WREST']-wrest) < 1e-3, qpq_strct['METAL_SIGEW'] < sigEWlim])"
   ]
  },
  {
   "cell_type": "code",
   "execution_count": 23,
   "metadata": {
    "collapsed": false
   },
   "outputs": [
    {
     "data": {
      "text/plain": [
       "(427, 100)"
      ]
     },
     "execution_count": 23,
     "metadata": {},
     "output_type": "execute_result"
    }
   ],
   "source": [
    "(np.abs(qpq_strct['METAL_WREST']-wrest) < 1e-3).shape"
   ]
  },
  {
   "cell_type": "code",
   "execution_count": 22,
   "metadata": {
    "collapsed": false
   },
   "outputs": [
    {
     "data": {
      "text/plain": [
       "(427, 100)"
      ]
     },
     "execution_count": 22,
     "metadata": {},
     "output_type": "execute_result"
    }
   ],
   "source": [
    "(qpq_strct['METAL_SIGEW'] < sigEWlim).shape"
   ]
  },
  {
   "cell_type": "code",
   "execution_count": 13,
   "metadata": {
    "collapsed": false
   },
   "outputs": [],
   "source": [
    "new_qpq = cut_qpq(qpq_strct, wrest)"
   ]
  },
  {
   "cell_type": "code",
   "execution_count": 11,
   "metadata": {
    "collapsed": false
   },
   "outputs": [
    {
     "ename": "ValueError",
     "evalue": "The truth value of an array with more than one element is ambiguous. Use a.any() or a.all()",
     "output_type": "error",
     "traceback": [
      "\u001b[0;31m---------------------------------------------------------------------------\u001b[0m",
      "\u001b[0;31mValueError\u001b[0m                                Traceback (most recent call last)",
      "\u001b[0;32m<ipython-input-11-d84413be8e25>\u001b[0m in \u001b[0;36m<module>\u001b[0;34m()\u001b[0m\n\u001b[0;32m----> 1\u001b[0;31m \u001b[0midx\u001b[0m \u001b[0;34m=\u001b[0m \u001b[0mgrab_det\u001b[0m\u001b[0;34m(\u001b[0m\u001b[0mnew_qpq\u001b[0m\u001b[0;34m,\u001b[0m \u001b[0;36m1334.5323\u001b[0m\u001b[0;34m)\u001b[0m\u001b[0;34m\u001b[0m\u001b[0m\n\u001b[0m\u001b[1;32m      2\u001b[0m \u001b[0midx\u001b[0m\u001b[0;34m\u001b[0m\u001b[0m\n",
      "\u001b[0;32m<ipython-input-10-4968e85d5fd8>\u001b[0m in \u001b[0;36mgrab_det\u001b[0;34m(qpq_strct, wrest)\u001b[0m\n\u001b[1;32m      6\u001b[0m         \u001b[0mpdb\u001b[0m\u001b[0;34m.\u001b[0m\u001b[0mset_trace\u001b[0m\u001b[0;34m(\u001b[0m\u001b[0;34m)\u001b[0m\u001b[0;34m\u001b[0m\u001b[0m\n\u001b[1;32m      7\u001b[0m     \u001b[0;31m#\u001b[0m\u001b[0;34m\u001b[0m\u001b[0;34m\u001b[0m\u001b[0m\n\u001b[0;32m----> 8\u001b[0;31m     gd = np.where( (np.abs(qpq_strct['METAL_WREST']-wrest) < 1e-3) and (\n\u001b[0m\u001b[1;32m      9\u001b[0m             \u001b[0mqpq_strct\u001b[0m\u001b[0;34m[\u001b[0m\u001b[0;34m'METAL_SIGEW'\u001b[0m\u001b[0;34m]\u001b[0m \u001b[0;34m<\u001b[0m \u001b[0msigEWlim\u001b[0m\u001b[0;34m)\u001b[0m \u001b[0;32mand\u001b[0m \u001b[0;34m(\u001b[0m\u001b[0;34m\u001b[0m\u001b[0m\n\u001b[1;32m     10\u001b[0m             qpq_strct['FLG_METAL_EYE'] % 256) >= 128 and (qpq_strct['FLG_METAL_EW'] == 1))[0]\n",
      "\u001b[0;31mValueError\u001b[0m: The truth value of an array with more than one element is ambiguous. Use a.any() or a.all()"
     ]
    }
   ],
   "source": [
    "idx = grab_det(new_qpq, 1334.5323)\n",
    "idx"
   ]
  },
  {
   "cell_type": "code",
   "execution_count": 5,
   "metadata": {
    "collapsed": false
   },
   "outputs": [
    {
     "data": {
      "text/plain": [
       "(274, 427)"
      ]
     },
     "execution_count": 5,
     "metadata": {},
     "output_type": "execute_result"
    }
   ],
   "source": [
    "len(new_qpq), len(qpq_strct)"
   ]
  },
  {
   "cell_type": "markdown",
   "metadata": {},
   "source": [
    "## HeLMS 0015+0404\n",
    "\n",
    "### Load spectrum"
   ]
  },
  {
   "cell_type": "code",
   "execution_count": 6,
   "metadata": {
    "collapsed": true
   },
   "outputs": [],
   "source": [
    "helms = lsio.readspec(os.getenv('DROPBOX_DIR')+'/SMGs/bluex/HeLMS_0015+0404_N.fits')\n",
    "helms.plot()"
   ]
  },
  {
   "cell_type": "markdown",
   "metadata": {},
   "source": [
    "## L6-FLS 1712+6001"
   ]
  },
  {
   "cell_type": "markdown",
   "metadata": {},
   "source": [
    "### Load spectrum"
   ]
  },
  {
   "cell_type": "code",
   "execution_count": 66,
   "metadata": {
    "collapsed": false
   },
   "outputs": [],
   "source": [
    "L6 = lsio.readspec(os.getenv('DROPBOX_DIR')+'/SMGs/bluex/L6-FLS_1712+6001_N.fits')\n",
    "L6.normed=True  # Turn continuum on\n",
    "L6.plot()"
   ]
  },
  {
   "cell_type": "markdown",
   "metadata": {},
   "source": [
    "### FWHM at Lya"
   ]
  },
  {
   "cell_type": "code",
   "execution_count": 32,
   "metadata": {
    "collapsed": true
   },
   "outputs": [],
   "source": [
    "R = 600  # Assumed FWHM"
   ]
  },
  {
   "cell_type": "code",
   "execution_count": 33,
   "metadata": {
    "collapsed": false
   },
   "outputs": [
    {
     "data": {
      "text/latex": [
       "$3699.2838 \\; \\mathrm{\\mathring{A}}$"
      ],
      "text/plain": [
       "<Quantity 3699.2838100000004 Angstrom>"
      ]
     },
     "execution_count": 33,
     "metadata": {},
     "output_type": "execute_result"
    }
   ],
   "source": [
    "z=2.043\n",
    "wvlya= (1+z)*1215.670*u.AA\n",
    "wvlya"
   ]
  },
  {
   "cell_type": "code",
   "execution_count": 34,
   "metadata": {
    "collapsed": false
   },
   "outputs": [
    {
     "data": {
      "text/latex": [
       "$2.1003375 \\; \\mathrm{\\mathring{A}}$"
      ],
      "text/plain": [
       "<Quantity 2.100337479544123 Angstrom>"
      ]
     },
     "execution_count": 34,
     "metadata": {},
     "output_type": "execute_result"
    }
   ],
   "source": [
    "dwv = np.abs(L6.wavelength-np.roll(L6.wavelength,1))\n",
    "idx = np.argmin(np.abs(L6.wavelength-wvlya))\n",
    "dwv[idx]"
   ]
  },
  {
   "cell_type": "code",
   "execution_count": 37,
   "metadata": {
    "collapsed": false
   },
   "outputs": [
    {
     "data": {
      "text/latex": [
       "$2.9354678 \\; \\mathrm{}$"
      ],
      "text/plain": [
       "<Quantity 2.9354677887312084>"
      ]
     },
     "execution_count": 37,
     "metadata": {},
     "output_type": "execute_result"
    }
   ],
   "source": [
    "FWHM_pix = (wvlya/dwv[idx])/R\n",
    "FWHM_pix"
   ]
  },
  {
   "cell_type": "markdown",
   "metadata": {},
   "source": [
    "### Faux spectrum"
   ]
  },
  {
   "cell_type": "code",
   "execution_count": 25,
   "metadata": {
    "collapsed": true
   },
   "outputs": [],
   "source": [
    "l6_faux = L6.copy()\n",
    "l6_faux.flux[:] = 1."
   ]
  },
  {
   "cell_type": "markdown",
   "metadata": {},
   "source": [
    "### HI complex"
   ]
  },
  {
   "cell_type": "code",
   "execution_count": 43,
   "metadata": {
    "collapsed": true
   },
   "outputs": [],
   "source": [
    "from linetools.spectralline import AbsLine\n",
    "from linetools.analysis.voigt import voigt_from_abslines"
   ]
  },
  {
   "cell_type": "code",
   "execution_count": 50,
   "metadata": {
    "collapsed": false
   },
   "outputs": [],
   "source": [
    "lya1 = AbsLine('HI 1215',z=z)\n",
    "lya1.attrib['N'] = 10.**18 / u.cm**2\n",
    "lya1.attrib['b'] = 25.*u.km/u.s"
   ]
  },
  {
   "cell_type": "code",
   "execution_count": 51,
   "metadata": {
    "collapsed": false
   },
   "outputs": [],
   "source": [
    "model = voigt_from_abslines(L6.wavelength, [lya1], fwhm=FWHM_pix)"
   ]
  },
  {
   "cell_type": "code",
   "execution_count": 71,
   "metadata": {
    "collapsed": false
   },
   "outputs": [
    {
     "data": {
      "application/javascript": [
       "/* Put everything inside the global mpl namespace */\n",
       "window.mpl = {};\n",
       "\n",
       "mpl.get_websocket_type = function() {\n",
       "    if (typeof(WebSocket) !== 'undefined') {\n",
       "        return WebSocket;\n",
       "    } else if (typeof(MozWebSocket) !== 'undefined') {\n",
       "        return MozWebSocket;\n",
       "    } else {\n",
       "        alert('Your browser does not have WebSocket support.' +\n",
       "              'Please try Chrome, Safari or Firefox ≥ 6. ' +\n",
       "              'Firefox 4 and 5 are also supported but you ' +\n",
       "              'have to enable WebSockets in about:config.');\n",
       "    };\n",
       "}\n",
       "\n",
       "mpl.figure = function(figure_id, websocket, ondownload, parent_element) {\n",
       "    this.id = figure_id;\n",
       "\n",
       "    this.ws = websocket;\n",
       "\n",
       "    this.supports_binary = (this.ws.binaryType != undefined);\n",
       "\n",
       "    if (!this.supports_binary) {\n",
       "        var warnings = document.getElementById(\"mpl-warnings\");\n",
       "        if (warnings) {\n",
       "            warnings.style.display = 'block';\n",
       "            warnings.textContent = (\n",
       "                \"This browser does not support binary websocket messages. \" +\n",
       "                    \"Performance may be slow.\");\n",
       "        }\n",
       "    }\n",
       "\n",
       "    this.imageObj = new Image();\n",
       "\n",
       "    this.context = undefined;\n",
       "    this.message = undefined;\n",
       "    this.canvas = undefined;\n",
       "    this.rubberband_canvas = undefined;\n",
       "    this.rubberband_context = undefined;\n",
       "    this.format_dropdown = undefined;\n",
       "\n",
       "    this.image_mode = 'full';\n",
       "\n",
       "    this.root = $('<div/>');\n",
       "    this._root_extra_style(this.root)\n",
       "    this.root.attr('style', 'display: inline-block');\n",
       "\n",
       "    $(parent_element).append(this.root);\n",
       "\n",
       "    this._init_header(this);\n",
       "    this._init_canvas(this);\n",
       "    this._init_toolbar(this);\n",
       "\n",
       "    var fig = this;\n",
       "\n",
       "    this.waiting = false;\n",
       "\n",
       "    this.ws.onopen =  function () {\n",
       "            fig.send_message(\"supports_binary\", {value: fig.supports_binary});\n",
       "            fig.send_message(\"send_image_mode\", {});\n",
       "            fig.send_message(\"refresh\", {});\n",
       "        }\n",
       "\n",
       "    this.imageObj.onload = function() {\n",
       "            if (fig.image_mode == 'full') {\n",
       "                // Full images could contain transparency (where diff images\n",
       "                // almost always do), so we need to clear the canvas so that\n",
       "                // there is no ghosting.\n",
       "                fig.context.clearRect(0, 0, fig.canvas.width, fig.canvas.height);\n",
       "            }\n",
       "            fig.context.drawImage(fig.imageObj, 0, 0);\n",
       "        };\n",
       "\n",
       "    this.imageObj.onunload = function() {\n",
       "        this.ws.close();\n",
       "    }\n",
       "\n",
       "    this.ws.onmessage = this._make_on_message_function(this);\n",
       "\n",
       "    this.ondownload = ondownload;\n",
       "}\n",
       "\n",
       "mpl.figure.prototype._init_header = function() {\n",
       "    var titlebar = $(\n",
       "        '<div class=\"ui-dialog-titlebar ui-widget-header ui-corner-all ' +\n",
       "        'ui-helper-clearfix\"/>');\n",
       "    var titletext = $(\n",
       "        '<div class=\"ui-dialog-title\" style=\"width: 100%; ' +\n",
       "        'text-align: center; padding: 3px;\"/>');\n",
       "    titlebar.append(titletext)\n",
       "    this.root.append(titlebar);\n",
       "    this.header = titletext[0];\n",
       "}\n",
       "\n",
       "\n",
       "\n",
       "mpl.figure.prototype._canvas_extra_style = function(canvas_div) {\n",
       "\n",
       "}\n",
       "\n",
       "\n",
       "mpl.figure.prototype._root_extra_style = function(canvas_div) {\n",
       "\n",
       "}\n",
       "\n",
       "mpl.figure.prototype._init_canvas = function() {\n",
       "    var fig = this;\n",
       "\n",
       "    var canvas_div = $('<div/>');\n",
       "\n",
       "    canvas_div.attr('style', 'position: relative; clear: both; outline: 0');\n",
       "\n",
       "    function canvas_keyboard_event(event) {\n",
       "        return fig.key_event(event, event['data']);\n",
       "    }\n",
       "\n",
       "    canvas_div.keydown('key_press', canvas_keyboard_event);\n",
       "    canvas_div.keyup('key_release', canvas_keyboard_event);\n",
       "    this.canvas_div = canvas_div\n",
       "    this._canvas_extra_style(canvas_div)\n",
       "    this.root.append(canvas_div);\n",
       "\n",
       "    var canvas = $('<canvas/>');\n",
       "    canvas.addClass('mpl-canvas');\n",
       "    canvas.attr('style', \"left: 0; top: 0; z-index: 0; outline: 0\")\n",
       "\n",
       "    this.canvas = canvas[0];\n",
       "    this.context = canvas[0].getContext(\"2d\");\n",
       "\n",
       "    var rubberband = $('<canvas/>');\n",
       "    rubberband.attr('style', \"position: absolute; left: 0; top: 0; z-index: 1;\")\n",
       "\n",
       "    var pass_mouse_events = true;\n",
       "\n",
       "    canvas_div.resizable({\n",
       "        start: function(event, ui) {\n",
       "            pass_mouse_events = false;\n",
       "        },\n",
       "        resize: function(event, ui) {\n",
       "            fig.request_resize(ui.size.width, ui.size.height);\n",
       "        },\n",
       "        stop: function(event, ui) {\n",
       "            pass_mouse_events = true;\n",
       "            fig.request_resize(ui.size.width, ui.size.height);\n",
       "        },\n",
       "    });\n",
       "\n",
       "    function mouse_event_fn(event) {\n",
       "        if (pass_mouse_events)\n",
       "            return fig.mouse_event(event, event['data']);\n",
       "    }\n",
       "\n",
       "    rubberband.mousedown('button_press', mouse_event_fn);\n",
       "    rubberband.mouseup('button_release', mouse_event_fn);\n",
       "    // Throttle sequential mouse events to 1 every 20ms.\n",
       "    rubberband.mousemove('motion_notify', mouse_event_fn);\n",
       "\n",
       "    rubberband.mouseenter('figure_enter', mouse_event_fn);\n",
       "    rubberband.mouseleave('figure_leave', mouse_event_fn);\n",
       "\n",
       "    canvas_div.on(\"wheel\", function (event) {\n",
       "        event = event.originalEvent;\n",
       "        event['data'] = 'scroll'\n",
       "        if (event.deltaY < 0) {\n",
       "            event.step = 1;\n",
       "        } else {\n",
       "            event.step = -1;\n",
       "        }\n",
       "        mouse_event_fn(event);\n",
       "    });\n",
       "\n",
       "    canvas_div.append(canvas);\n",
       "    canvas_div.append(rubberband);\n",
       "\n",
       "    this.rubberband = rubberband;\n",
       "    this.rubberband_canvas = rubberband[0];\n",
       "    this.rubberband_context = rubberband[0].getContext(\"2d\");\n",
       "    this.rubberband_context.strokeStyle = \"#000000\";\n",
       "\n",
       "    this._resize_canvas = function(width, height) {\n",
       "        // Keep the size of the canvas, canvas container, and rubber band\n",
       "        // canvas in synch.\n",
       "        canvas_div.css('width', width)\n",
       "        canvas_div.css('height', height)\n",
       "\n",
       "        canvas.attr('width', width);\n",
       "        canvas.attr('height', height);\n",
       "\n",
       "        rubberband.attr('width', width);\n",
       "        rubberband.attr('height', height);\n",
       "    }\n",
       "\n",
       "    // Set the figure to an initial 600x600px, this will subsequently be updated\n",
       "    // upon first draw.\n",
       "    this._resize_canvas(600, 600);\n",
       "\n",
       "    // Disable right mouse context menu.\n",
       "    $(this.rubberband_canvas).bind(\"contextmenu\",function(e){\n",
       "        return false;\n",
       "    });\n",
       "\n",
       "    function set_focus () {\n",
       "        canvas.focus();\n",
       "        canvas_div.focus();\n",
       "    }\n",
       "\n",
       "    window.setTimeout(set_focus, 100);\n",
       "}\n",
       "\n",
       "mpl.figure.prototype._init_toolbar = function() {\n",
       "    var fig = this;\n",
       "\n",
       "    var nav_element = $('<div/>')\n",
       "    nav_element.attr('style', 'width: 100%');\n",
       "    this.root.append(nav_element);\n",
       "\n",
       "    // Define a callback function for later on.\n",
       "    function toolbar_event(event) {\n",
       "        return fig.toolbar_button_onclick(event['data']);\n",
       "    }\n",
       "    function toolbar_mouse_event(event) {\n",
       "        return fig.toolbar_button_onmouseover(event['data']);\n",
       "    }\n",
       "\n",
       "    for(var toolbar_ind in mpl.toolbar_items) {\n",
       "        var name = mpl.toolbar_items[toolbar_ind][0];\n",
       "        var tooltip = mpl.toolbar_items[toolbar_ind][1];\n",
       "        var image = mpl.toolbar_items[toolbar_ind][2];\n",
       "        var method_name = mpl.toolbar_items[toolbar_ind][3];\n",
       "\n",
       "        if (!name) {\n",
       "            // put a spacer in here.\n",
       "            continue;\n",
       "        }\n",
       "        var button = $('<button/>');\n",
       "        button.addClass('ui-button ui-widget ui-state-default ui-corner-all ' +\n",
       "                        'ui-button-icon-only');\n",
       "        button.attr('role', 'button');\n",
       "        button.attr('aria-disabled', 'false');\n",
       "        button.click(method_name, toolbar_event);\n",
       "        button.mouseover(tooltip, toolbar_mouse_event);\n",
       "\n",
       "        var icon_img = $('<span/>');\n",
       "        icon_img.addClass('ui-button-icon-primary ui-icon');\n",
       "        icon_img.addClass(image);\n",
       "        icon_img.addClass('ui-corner-all');\n",
       "\n",
       "        var tooltip_span = $('<span/>');\n",
       "        tooltip_span.addClass('ui-button-text');\n",
       "        tooltip_span.html(tooltip);\n",
       "\n",
       "        button.append(icon_img);\n",
       "        button.append(tooltip_span);\n",
       "\n",
       "        nav_element.append(button);\n",
       "    }\n",
       "\n",
       "    var fmt_picker_span = $('<span/>');\n",
       "\n",
       "    var fmt_picker = $('<select/>');\n",
       "    fmt_picker.addClass('mpl-toolbar-option ui-widget ui-widget-content');\n",
       "    fmt_picker_span.append(fmt_picker);\n",
       "    nav_element.append(fmt_picker_span);\n",
       "    this.format_dropdown = fmt_picker[0];\n",
       "\n",
       "    for (var ind in mpl.extensions) {\n",
       "        var fmt = mpl.extensions[ind];\n",
       "        var option = $(\n",
       "            '<option/>', {selected: fmt === mpl.default_extension}).html(fmt);\n",
       "        fmt_picker.append(option)\n",
       "    }\n",
       "\n",
       "    // Add hover states to the ui-buttons\n",
       "    $( \".ui-button\" ).hover(\n",
       "        function() { $(this).addClass(\"ui-state-hover\");},\n",
       "        function() { $(this).removeClass(\"ui-state-hover\");}\n",
       "    );\n",
       "\n",
       "    var status_bar = $('<span class=\"mpl-message\"/>');\n",
       "    nav_element.append(status_bar);\n",
       "    this.message = status_bar[0];\n",
       "}\n",
       "\n",
       "mpl.figure.prototype.request_resize = function(x_pixels, y_pixels) {\n",
       "    // Request matplotlib to resize the figure. Matplotlib will then trigger a resize in the client,\n",
       "    // which will in turn request a refresh of the image.\n",
       "    this.send_message('resize', {'width': x_pixels, 'height': y_pixels});\n",
       "}\n",
       "\n",
       "mpl.figure.prototype.send_message = function(type, properties) {\n",
       "    properties['type'] = type;\n",
       "    properties['figure_id'] = this.id;\n",
       "    this.ws.send(JSON.stringify(properties));\n",
       "}\n",
       "\n",
       "mpl.figure.prototype.send_draw_message = function() {\n",
       "    if (!this.waiting) {\n",
       "        this.waiting = true;\n",
       "        this.ws.send(JSON.stringify({type: \"draw\", figure_id: this.id}));\n",
       "    }\n",
       "}\n",
       "\n",
       "\n",
       "mpl.figure.prototype.handle_save = function(fig, msg) {\n",
       "    var format_dropdown = fig.format_dropdown;\n",
       "    var format = format_dropdown.options[format_dropdown.selectedIndex].value;\n",
       "    fig.ondownload(fig, format);\n",
       "}\n",
       "\n",
       "\n",
       "mpl.figure.prototype.handle_resize = function(fig, msg) {\n",
       "    var size = msg['size'];\n",
       "    if (size[0] != fig.canvas.width || size[1] != fig.canvas.height) {\n",
       "        fig._resize_canvas(size[0], size[1]);\n",
       "        fig.send_message(\"refresh\", {});\n",
       "    };\n",
       "}\n",
       "\n",
       "mpl.figure.prototype.handle_rubberband = function(fig, msg) {\n",
       "    var x0 = msg['x0'];\n",
       "    var y0 = fig.canvas.height - msg['y0'];\n",
       "    var x1 = msg['x1'];\n",
       "    var y1 = fig.canvas.height - msg['y1'];\n",
       "    x0 = Math.floor(x0) + 0.5;\n",
       "    y0 = Math.floor(y0) + 0.5;\n",
       "    x1 = Math.floor(x1) + 0.5;\n",
       "    y1 = Math.floor(y1) + 0.5;\n",
       "    var min_x = Math.min(x0, x1);\n",
       "    var min_y = Math.min(y0, y1);\n",
       "    var width = Math.abs(x1 - x0);\n",
       "    var height = Math.abs(y1 - y0);\n",
       "\n",
       "    fig.rubberband_context.clearRect(\n",
       "        0, 0, fig.canvas.width, fig.canvas.height);\n",
       "\n",
       "    fig.rubberband_context.strokeRect(min_x, min_y, width, height);\n",
       "}\n",
       "\n",
       "mpl.figure.prototype.handle_figure_label = function(fig, msg) {\n",
       "    // Updates the figure title.\n",
       "    fig.header.textContent = msg['label'];\n",
       "}\n",
       "\n",
       "mpl.figure.prototype.handle_cursor = function(fig, msg) {\n",
       "    var cursor = msg['cursor'];\n",
       "    switch(cursor)\n",
       "    {\n",
       "    case 0:\n",
       "        cursor = 'pointer';\n",
       "        break;\n",
       "    case 1:\n",
       "        cursor = 'default';\n",
       "        break;\n",
       "    case 2:\n",
       "        cursor = 'crosshair';\n",
       "        break;\n",
       "    case 3:\n",
       "        cursor = 'move';\n",
       "        break;\n",
       "    }\n",
       "    fig.rubberband_canvas.style.cursor = cursor;\n",
       "}\n",
       "\n",
       "mpl.figure.prototype.handle_message = function(fig, msg) {\n",
       "    fig.message.textContent = msg['message'];\n",
       "}\n",
       "\n",
       "mpl.figure.prototype.handle_draw = function(fig, msg) {\n",
       "    // Request the server to send over a new figure.\n",
       "    fig.send_draw_message();\n",
       "}\n",
       "\n",
       "mpl.figure.prototype.handle_image_mode = function(fig, msg) {\n",
       "    fig.image_mode = msg['mode'];\n",
       "}\n",
       "\n",
       "mpl.figure.prototype.updated_canvas_event = function() {\n",
       "    // Called whenever the canvas gets updated.\n",
       "    this.send_message(\"ack\", {});\n",
       "}\n",
       "\n",
       "// A function to construct a web socket function for onmessage handling.\n",
       "// Called in the figure constructor.\n",
       "mpl.figure.prototype._make_on_message_function = function(fig) {\n",
       "    return function socket_on_message(evt) {\n",
       "        if (evt.data instanceof Blob) {\n",
       "            /* FIXME: We get \"Resource interpreted as Image but\n",
       "             * transferred with MIME type text/plain:\" errors on\n",
       "             * Chrome.  But how to set the MIME type?  It doesn't seem\n",
       "             * to be part of the websocket stream */\n",
       "            evt.data.type = \"image/png\";\n",
       "\n",
       "            /* Free the memory for the previous frames */\n",
       "            if (fig.imageObj.src) {\n",
       "                (window.URL || window.webkitURL).revokeObjectURL(\n",
       "                    fig.imageObj.src);\n",
       "            }\n",
       "\n",
       "            fig.imageObj.src = (window.URL || window.webkitURL).createObjectURL(\n",
       "                evt.data);\n",
       "            fig.updated_canvas_event();\n",
       "            fig.waiting = false;\n",
       "            return;\n",
       "        }\n",
       "        else if (typeof evt.data === 'string' && evt.data.slice(0, 21) == \"data:image/png;base64\") {\n",
       "            fig.imageObj.src = evt.data;\n",
       "            fig.updated_canvas_event();\n",
       "            fig.waiting = false;\n",
       "            return;\n",
       "        }\n",
       "\n",
       "        var msg = JSON.parse(evt.data);\n",
       "        var msg_type = msg['type'];\n",
       "\n",
       "        // Call the  \"handle_{type}\" callback, which takes\n",
       "        // the figure and JSON message as its only arguments.\n",
       "        try {\n",
       "            var callback = fig[\"handle_\" + msg_type];\n",
       "        } catch (e) {\n",
       "            console.log(\"No handler for the '\" + msg_type + \"' message type: \", msg);\n",
       "            return;\n",
       "        }\n",
       "\n",
       "        if (callback) {\n",
       "            try {\n",
       "                // console.log(\"Handling '\" + msg_type + \"' message: \", msg);\n",
       "                callback(fig, msg);\n",
       "            } catch (e) {\n",
       "                console.log(\"Exception inside the 'handler_\" + msg_type + \"' callback:\", e, e.stack, msg);\n",
       "            }\n",
       "        }\n",
       "    };\n",
       "}\n",
       "\n",
       "// from http://stackoverflow.com/questions/1114465/getting-mouse-location-in-canvas\n",
       "mpl.findpos = function(e) {\n",
       "    //this section is from http://www.quirksmode.org/js/events_properties.html\n",
       "    var targ;\n",
       "    if (!e)\n",
       "        e = window.event;\n",
       "    if (e.target)\n",
       "        targ = e.target;\n",
       "    else if (e.srcElement)\n",
       "        targ = e.srcElement;\n",
       "    if (targ.nodeType == 3) // defeat Safari bug\n",
       "        targ = targ.parentNode;\n",
       "\n",
       "    // jQuery normalizes the pageX and pageY\n",
       "    // pageX,Y are the mouse positions relative to the document\n",
       "    // offset() returns the position of the element relative to the document\n",
       "    var x = e.pageX - $(targ).offset().left;\n",
       "    var y = e.pageY - $(targ).offset().top;\n",
       "\n",
       "    return {\"x\": x, \"y\": y};\n",
       "};\n",
       "\n",
       "/*\n",
       " * return a copy of an object with only non-object keys\n",
       " * we need this to avoid circular references\n",
       " * http://stackoverflow.com/a/24161582/3208463\n",
       " */\n",
       "function simpleKeys (original) {\n",
       "  return Object.keys(original).reduce(function (obj, key) {\n",
       "    if (typeof original[key] !== 'object')\n",
       "        obj[key] = original[key]\n",
       "    return obj;\n",
       "  }, {});\n",
       "}\n",
       "\n",
       "mpl.figure.prototype.mouse_event = function(event, name) {\n",
       "    var canvas_pos = mpl.findpos(event)\n",
       "\n",
       "    if (name === 'button_press')\n",
       "    {\n",
       "        this.canvas.focus();\n",
       "        this.canvas_div.focus();\n",
       "    }\n",
       "\n",
       "    var x = canvas_pos.x;\n",
       "    var y = canvas_pos.y;\n",
       "\n",
       "    this.send_message(name, {x: x, y: y, button: event.button,\n",
       "                             step: event.step,\n",
       "                             guiEvent: simpleKeys(event)});\n",
       "\n",
       "    /* This prevents the web browser from automatically changing to\n",
       "     * the text insertion cursor when the button is pressed.  We want\n",
       "     * to control all of the cursor setting manually through the\n",
       "     * 'cursor' event from matplotlib */\n",
       "    event.preventDefault();\n",
       "    return false;\n",
       "}\n",
       "\n",
       "mpl.figure.prototype._key_event_extra = function(event, name) {\n",
       "    // Handle any extra behaviour associated with a key event\n",
       "}\n",
       "\n",
       "mpl.figure.prototype.key_event = function(event, name) {\n",
       "\n",
       "    // Prevent repeat events\n",
       "    if (name == 'key_press')\n",
       "    {\n",
       "        if (event.which === this._key)\n",
       "            return;\n",
       "        else\n",
       "            this._key = event.which;\n",
       "    }\n",
       "    if (name == 'key_release')\n",
       "        this._key = null;\n",
       "\n",
       "    var value = '';\n",
       "    if (event.ctrlKey && event.which != 17)\n",
       "        value += \"ctrl+\";\n",
       "    if (event.altKey && event.which != 18)\n",
       "        value += \"alt+\";\n",
       "    if (event.shiftKey && event.which != 16)\n",
       "        value += \"shift+\";\n",
       "\n",
       "    value += 'k';\n",
       "    value += event.which.toString();\n",
       "\n",
       "    this._key_event_extra(event, name);\n",
       "\n",
       "    this.send_message(name, {key: value,\n",
       "                             guiEvent: simpleKeys(event)});\n",
       "    return false;\n",
       "}\n",
       "\n",
       "mpl.figure.prototype.toolbar_button_onclick = function(name) {\n",
       "    if (name == 'download') {\n",
       "        this.handle_save(this, null);\n",
       "    } else {\n",
       "        this.send_message(\"toolbar_button\", {name: name});\n",
       "    }\n",
       "};\n",
       "\n",
       "mpl.figure.prototype.toolbar_button_onmouseover = function(tooltip) {\n",
       "    this.message.textContent = tooltip;\n",
       "};\n",
       "mpl.toolbar_items = [[\"Home\", \"Reset original view\", \"fa fa-home icon-home\", \"home\"], [\"Back\", \"Back to  previous view\", \"fa fa-arrow-left icon-arrow-left\", \"back\"], [\"Forward\", \"Forward to next view\", \"fa fa-arrow-right icon-arrow-right\", \"forward\"], [\"\", \"\", \"\", \"\"], [\"Pan\", \"Pan axes with left mouse, zoom with right\", \"fa fa-arrows icon-move\", \"pan\"], [\"Zoom\", \"Zoom to rectangle\", \"fa fa-square-o icon-check-empty\", \"zoom\"], [\"\", \"\", \"\", \"\"], [\"Download\", \"Download plot\", \"fa fa-floppy-o icon-save\", \"download\"]];\n",
       "\n",
       "mpl.extensions = [\"eps\", \"jpeg\", \"pdf\", \"png\", \"ps\", \"raw\", \"svg\", \"tif\"];\n",
       "\n",
       "mpl.default_extension = \"png\";var comm_websocket_adapter = function(comm) {\n",
       "    // Create a \"websocket\"-like object which calls the given IPython comm\n",
       "    // object with the appropriate methods. Currently this is a non binary\n",
       "    // socket, so there is still some room for performance tuning.\n",
       "    var ws = {};\n",
       "\n",
       "    ws.close = function() {\n",
       "        comm.close()\n",
       "    };\n",
       "    ws.send = function(m) {\n",
       "        //console.log('sending', m);\n",
       "        comm.send(m);\n",
       "    };\n",
       "    // Register the callback with on_msg.\n",
       "    comm.on_msg(function(msg) {\n",
       "        //console.log('receiving', msg['content']['data'], msg);\n",
       "        // Pass the mpl event to the overriden (by mpl) onmessage function.\n",
       "        ws.onmessage(msg['content']['data'])\n",
       "    });\n",
       "    return ws;\n",
       "}\n",
       "\n",
       "mpl.mpl_figure_comm = function(comm, msg) {\n",
       "    // This is the function which gets called when the mpl process\n",
       "    // starts-up an IPython Comm through the \"matplotlib\" channel.\n",
       "\n",
       "    var id = msg.content.data.id;\n",
       "    // Get hold of the div created by the display call when the Comm\n",
       "    // socket was opened in Python.\n",
       "    var element = $(\"#\" + id);\n",
       "    var ws_proxy = comm_websocket_adapter(comm)\n",
       "\n",
       "    function ondownload(figure, format) {\n",
       "        window.open(figure.imageObj.src);\n",
       "    }\n",
       "\n",
       "    var fig = new mpl.figure(id, ws_proxy,\n",
       "                           ondownload,\n",
       "                           element.get(0));\n",
       "\n",
       "    // Call onopen now - mpl needs it, as it is assuming we've passed it a real\n",
       "    // web socket which is closed, not our websocket->open comm proxy.\n",
       "    ws_proxy.onopen();\n",
       "\n",
       "    fig.parent_element = element.get(0);\n",
       "    fig.cell_info = mpl.find_output_cell(\"<div id='\" + id + \"'></div>\");\n",
       "    if (!fig.cell_info) {\n",
       "        console.error(\"Failed to find cell for figure\", id, fig);\n",
       "        return;\n",
       "    }\n",
       "\n",
       "    var output_index = fig.cell_info[2]\n",
       "    var cell = fig.cell_info[0];\n",
       "\n",
       "};\n",
       "\n",
       "mpl.figure.prototype.handle_close = function(fig, msg) {\n",
       "    fig.root.unbind('remove')\n",
       "\n",
       "    // Update the output cell to use the data from the current canvas.\n",
       "    fig.push_to_output();\n",
       "    var dataURL = fig.canvas.toDataURL();\n",
       "    // Re-enable the keyboard manager in IPython - without this line, in FF,\n",
       "    // the notebook keyboard shortcuts fail.\n",
       "    IPython.keyboard_manager.enable()\n",
       "    $(fig.parent_element).html('<img src=\"' + dataURL + '\">');\n",
       "    fig.close_ws(fig, msg);\n",
       "}\n",
       "\n",
       "mpl.figure.prototype.close_ws = function(fig, msg){\n",
       "    fig.send_message('closing', msg);\n",
       "    // fig.ws.close()\n",
       "}\n",
       "\n",
       "mpl.figure.prototype.push_to_output = function(remove_interactive) {\n",
       "    // Turn the data on the canvas into data in the output cell.\n",
       "    var dataURL = this.canvas.toDataURL();\n",
       "    this.cell_info[1]['text/html'] = '<img src=\"' + dataURL + '\">';\n",
       "}\n",
       "\n",
       "mpl.figure.prototype.updated_canvas_event = function() {\n",
       "    // Tell IPython that the notebook contents must change.\n",
       "    IPython.notebook.set_dirty(true);\n",
       "    this.send_message(\"ack\", {});\n",
       "    var fig = this;\n",
       "    // Wait a second, then push the new image to the DOM so\n",
       "    // that it is saved nicely (might be nice to debounce this).\n",
       "    setTimeout(function () { fig.push_to_output() }, 1000);\n",
       "}\n",
       "\n",
       "mpl.figure.prototype._init_toolbar = function() {\n",
       "    var fig = this;\n",
       "\n",
       "    var nav_element = $('<div/>')\n",
       "    nav_element.attr('style', 'width: 100%');\n",
       "    this.root.append(nav_element);\n",
       "\n",
       "    // Define a callback function for later on.\n",
       "    function toolbar_event(event) {\n",
       "        return fig.toolbar_button_onclick(event['data']);\n",
       "    }\n",
       "    function toolbar_mouse_event(event) {\n",
       "        return fig.toolbar_button_onmouseover(event['data']);\n",
       "    }\n",
       "\n",
       "    for(var toolbar_ind in mpl.toolbar_items){\n",
       "        var name = mpl.toolbar_items[toolbar_ind][0];\n",
       "        var tooltip = mpl.toolbar_items[toolbar_ind][1];\n",
       "        var image = mpl.toolbar_items[toolbar_ind][2];\n",
       "        var method_name = mpl.toolbar_items[toolbar_ind][3];\n",
       "\n",
       "        if (!name) { continue; };\n",
       "\n",
       "        var button = $('<button class=\"btn btn-default\" href=\"#\" title=\"' + name + '\"><i class=\"fa ' + image + ' fa-lg\"></i></button>');\n",
       "        button.click(method_name, toolbar_event);\n",
       "        button.mouseover(tooltip, toolbar_mouse_event);\n",
       "        nav_element.append(button);\n",
       "    }\n",
       "\n",
       "    // Add the status bar.\n",
       "    var status_bar = $('<span class=\"mpl-message\" style=\"text-align:right; float: right;\"/>');\n",
       "    nav_element.append(status_bar);\n",
       "    this.message = status_bar[0];\n",
       "\n",
       "    // Add the close button to the window.\n",
       "    var buttongrp = $('<div class=\"btn-group inline pull-right\"></div>');\n",
       "    var button = $('<button class=\"btn btn-mini btn-primary\" href=\"#\" title=\"Stop Interaction\"><i class=\"fa fa-power-off icon-remove icon-large\"></i></button>');\n",
       "    button.click(function (evt) { fig.handle_close(fig, {}); } );\n",
       "    button.mouseover('Stop Interaction', toolbar_mouse_event);\n",
       "    buttongrp.append(button);\n",
       "    var titlebar = this.root.find($('.ui-dialog-titlebar'));\n",
       "    titlebar.prepend(buttongrp);\n",
       "}\n",
       "\n",
       "mpl.figure.prototype._root_extra_style = function(el){\n",
       "    var fig = this\n",
       "    el.on(\"remove\", function(){\n",
       "\tfig.close_ws(fig, {});\n",
       "    });\n",
       "}\n",
       "\n",
       "mpl.figure.prototype._canvas_extra_style = function(el){\n",
       "    // this is important to make the div 'focusable\n",
       "    el.attr('tabindex', 0)\n",
       "    // reach out to IPython and tell the keyboard manager to turn it's self\n",
       "    // off when our div gets focus\n",
       "\n",
       "    // location in version 3\n",
       "    if (IPython.notebook.keyboard_manager) {\n",
       "        IPython.notebook.keyboard_manager.register_events(el);\n",
       "    }\n",
       "    else {\n",
       "        // location in version 2\n",
       "        IPython.keyboard_manager.register_events(el);\n",
       "    }\n",
       "\n",
       "}\n",
       "\n",
       "mpl.figure.prototype._key_event_extra = function(event, name) {\n",
       "    var manager = IPython.notebook.keyboard_manager;\n",
       "    if (!manager)\n",
       "        manager = IPython.keyboard_manager;\n",
       "\n",
       "    // Check for shift+enter\n",
       "    if (event.shiftKey && event.which == 13) {\n",
       "        this.canvas_div.blur();\n",
       "        event.shiftKey = false;\n",
       "        // Send a \"J\" for go to next cell\n",
       "        event.which = 74;\n",
       "        event.keyCode = 74;\n",
       "        manager.command_mode();\n",
       "        manager.handle_keydown(event);\n",
       "    }\n",
       "}\n",
       "\n",
       "mpl.figure.prototype.handle_save = function(fig, msg) {\n",
       "    fig.ondownload(fig, null);\n",
       "}\n",
       "\n",
       "\n",
       "mpl.find_output_cell = function(html_output) {\n",
       "    // Return the cell and output element which can be found *uniquely* in the notebook.\n",
       "    // Note - this is a bit hacky, but it is done because the \"notebook_saving.Notebook\"\n",
       "    // IPython event is triggered only after the cells have been serialised, which for\n",
       "    // our purposes (turning an active figure into a static one), is too late.\n",
       "    var cells = IPython.notebook.get_cells();\n",
       "    var ncells = cells.length;\n",
       "    for (var i=0; i<ncells; i++) {\n",
       "        var cell = cells[i];\n",
       "        if (cell.cell_type === 'code'){\n",
       "            for (var j=0; j<cell.output_area.outputs.length; j++) {\n",
       "                var data = cell.output_area.outputs[j];\n",
       "                if (data.data) {\n",
       "                    // IPython >= 3 moved mimebundle to data attribute of output\n",
       "                    data = data.data;\n",
       "                }\n",
       "                if (data['text/html'] == html_output) {\n",
       "                    return [cell, data, j];\n",
       "                }\n",
       "            }\n",
       "        }\n",
       "    }\n",
       "}\n",
       "\n",
       "// Register the function which deals with the matplotlib target/channel.\n",
       "// The kernel may be null if the page has been refreshed.\n",
       "if (IPython.notebook.kernel != null) {\n",
       "    IPython.notebook.kernel.comm_manager.register_target('matplotlib', mpl.mpl_figure_comm);\n",
       "}\n"
      ],
      "text/plain": [
       "<IPython.core.display.Javascript object>"
      ]
     },
     "metadata": {},
     "output_type": "display_data"
    },
    {
     "data": {
      "text/html": [
       "<img src=\"data:image/png;base64,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\">"
      ],
      "text/plain": [
       "<IPython.core.display.HTML object>"
      ]
     },
     "metadata": {},
     "output_type": "display_data"
    }
   ],
   "source": [
    "plt.clf()\n",
    "ax = plt.gca()\n",
    "# Data\n",
    "ax.plot(L6.wavelength, L6.flux, 'k-', drawstyle='steps-mid')\n",
    "# Model\n",
    "ax.plot(model.wavelength, model.flux, 'b-')\n",
    "# zero line\n",
    "ax.plot([-1e9,1e9], [0.]*2, 'g:')\n",
    "# Axes\n",
    "ax.set_xlim(wvlya.value-20,wvlya.value+20)\n",
    "ax.set_ylim(-0.2, 1.3)\n",
    "ax.set_xlabel('Wavelength')\n",
    "ax.set_ylabel('Normalized Flux')\n",
    "plt.show()"
   ]
  },
  {
   "cell_type": "code",
   "execution_count": null,
   "metadata": {
    "collapsed": true
   },
   "outputs": [],
   "source": []
  }
 ],
 "metadata": {
  "kernelspec": {
   "display_name": "Python 2",
   "language": "python",
   "name": "python2"
  },
  "language_info": {
   "codemirror_mode": {
    "name": "ipython",
    "version": 2
   },
   "file_extension": ".py",
   "mimetype": "text/x-python",
   "name": "python",
   "nbconvert_exporter": "python",
   "pygments_lexer": "ipython2",
   "version": "2.7.11"
  }
 },
 "nbformat": 4,
 "nbformat_minor": 0
}
