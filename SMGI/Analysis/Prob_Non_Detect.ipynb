{
 "cells": [
  {
   "cell_type": "markdown",
   "metadata": {},
   "source": [
    "# Notebook to Assess the Likelihood of Non-Detection of the Metals"
   ]
  },
  {
   "cell_type": "code",
   "execution_count": 1,
   "metadata": {
    "collapsed": true
   },
   "outputs": [],
   "source": [
    "# imports"
   ]
  },
  {
   "cell_type": "markdown",
   "metadata": {},
   "source": [
    "## Load QPQ7 measurements"
   ]
  },
  {
   "cell_type": "code",
   "execution_count": 5,
   "metadata": {
    "collapsed": false
   },
   "outputs": [
    {
     "data": {
      "text/html": [
       "&lt;Table length=2&gt;\n",
       "<table id=\"table4548456720\">\n",
       "<thead><tr><th>DATE</th><th>QPQ_SAVFIL</th><th>QSO</th><th>RAD</th><th>DECD</th><th>QSO_BG</th><th>RAD_BG</th><th>DECD_BG</th><th>ORIG_Z_FG</th><th>Z_FG</th><th>Z_FSIG</th><th>Z_BG</th><th>R_PHYS</th><th>FLG_BOSS</th><th>LYA_INSTR</th><th>LYA_FIL</th><th>INFLG_LYAFIL</th><th>S2N_LYA</th><th>FLG_OTHICK</th><th>Z_LYA</th><th>EWLYA</th><th>SIG_EWLYA</th><th>FLG_EWLYA</th><th>VEW [5]</th><th>VEWLYA [5]</th><th>SIG_VEWLYA [5]</th><th>AVGFLYA [5]</th><th>DELTFLYA [5]</th><th>Z_NHI</th><th>NHI</th><th>SIG_NHI [2]</th><th>FLG_NHI</th><th>FLG_METAL_EW [100]</th><th>FLG_METAL_EYE [100]</th><th>METAL_WREST [100]</th><th>RAW_METAL_EW [100]</th><th>METAL_EW [100]</th><th>METAL_SIGEW [100]</th><th>METAL_S2N [100]</th><th>METAL_VCEN [100]</th><th>L_912</th><th>G_UV</th><th>L_BOL</th></tr></thead>\n",
       "<thead><tr><th>str24</th><th>str85</th><th>str14</th><th>float64</th><th>float64</th><th>str14</th><th>float64</th><th>float64</th><th>float32</th><th>float64</th><th>float64</th><th>float64</th><th>float32</th><th>int16</th><th>str9</th><th>str47</th><th>int16</th><th>float32</th><th>int16</th><th>float64</th><th>float32</th><th>float32</th><th>int16</th><th>float32</th><th>float32</th><th>float32</th><th>float32</th><th>float32</th><th>float32</th><th>float32</th><th>float32</th><th>int16</th><th>int16</th><th>int16</th><th>float64</th><th>float32</th><th>float32</th><th>float32</th><th>float32</th><th>float32</th><th>float32</th><th>float32</th><th>float32</th></tr></thead>\n",
       "<tr><td>Fri Oct  3 05:05:57 2014</td><td>~/Dropbox/QSOPairs/QPQ-CGM_v5_4_45/QPQ-CGM_00.000-01.000_Sun-Jan-27-18:18:57-2013.sav</td><td>SDSSJ0002-0529</td><td>0.549036804392</td><td>-5.48569053094</td><td>SDSSJ0002-0530</td><td>0.569453216712</td><td>-5.50211784133</td><td>2.81702</td><td>2.81900429726</td><td>520.99987793</td><td>3.14737582207</td><td>768.469</td><td>0</td><td>SDSS</td><td>/data/MAGE_redux/SDSSJ091046.68+041448.3_F.fits</td><td>11</td><td>41.4537</td><td>0</td><td>2.81604441579</td><td>1.28383</td><td>0.0473478</td><td>2</td><td>150.0 .. 0.0</td><td>0.471749 .. 0.0</td><td>0.0251098 .. 0.0</td><td>0.0 .. 0.0</td><td>1.0 .. 0.0</td><td>2.81604</td><td>18.0</td><td>0.2 .. 0.2</td><td>3</td><td>0 .. 0</td><td>0 .. 0</td><td>1302.16845703 .. 0.0</td><td>0.0 .. 0.0</td><td>0.0 .. 0.0</td><td>0.0 .. 0.0</td><td>0.0 .. 0.0</td><td>0.0 .. 0.0</td><td>30.4563</td><td>64.5017</td><td>46.4887</td></tr>\n",
       "<tr><td>Fri Oct  3 05:05:57 2014</td><td>~/Dropbox/QSOPairs/QPQ-CGM_v5_4_45/QPQ-CGM_00.000-01.000_Sun-Jan-27-18:18:57-2013.sav</td><td>BOSSJ0004+0057</td><td>1.11012513262</td><td>0.950996855971</td><td>BOSSJ0004+0056</td><td>1.13652291883</td><td>0.936806821982</td><td>2.81289</td><td>2.8122522831</td><td>792.381164551</td><td>2.92031121254</td><td>881.583</td><td>0</td><td>BOSS</td><td>/data/MAGE_redux/SDSSJ091046.68+041448.3_F.fits</td><td>11</td><td>16.8973</td><td>0</td><td>2.80680317624</td><td>1.32959</td><td>0.112202</td><td>2</td><td>150.0 .. 0.0</td><td>0.696013 .. 0.0</td><td>0.0690574 .. 0.0</td><td>0.0 .. 0.0</td><td>1.0 .. 0.0</td><td>0.0</td><td>0.0</td><td>0.0 .. 0.0</td><td>0</td><td>0 .. 0</td><td>0 .. 0</td><td>1302.16845703 .. 0.0</td><td>0.0 .. 0.0</td><td>0.0 .. 0.0</td><td>0.0 .. 0.0</td><td>0.0 .. 0.0</td><td>0.0 .. 0.0</td><td>29.9643</td><td>16.5225</td><td>45.9986</td></tr>\n",
       "</table>"
      ],
      "text/plain": [
       "<Table length=2>\n",
       "          DATE           ...  L_BOL \n",
       "         str24           ... float32\n",
       "------------------------ ... -------\n",
       "Fri Oct  3 05:05:57 2014 ... 46.4887\n",
       "Fri Oct  3 05:05:57 2014 ... 45.9986"
      ]
     },
     "execution_count": 5,
     "metadata": {},
     "output_type": "execute_result"
    }
   ],
   "source": [
    "qpq_fil = '/Users/xavier/Dropbox/QSOPairs/qpq7_pairs.fits'\n",
    "qpq_strct = Table.read(qpq_fil)\n",
    "qpq_strct[0:2]"
   ]
  },
  {
   "cell_type": "code",
   "execution_count": null,
   "metadata": {
    "collapsed": true
   },
   "outputs": [],
   "source": []
  },
  {
   "cell_type": "markdown",
   "metadata": {},
   "source": [
    "## HeLMS 0015+0404\n",
    "\n",
    "### Load spectrum"
   ]
  },
  {
   "cell_type": "code",
   "execution_count": null,
   "metadata": {
    "collapsed": true
   },
   "outputs": [],
   "source": []
  }
 ],
 "metadata": {
  "kernelspec": {
   "display_name": "Python 2",
   "language": "python",
   "name": "python2"
  },
  "language_info": {
   "codemirror_mode": {
    "name": "ipython",
    "version": 2
   },
   "file_extension": ".py",
   "mimetype": "text/x-python",
   "name": "python",
   "nbconvert_exporter": "python",
   "pygments_lexer": "ipython2",
   "version": "2.7.11"
  }
 },
 "nbformat": 4,
 "nbformat_minor": 0
}
