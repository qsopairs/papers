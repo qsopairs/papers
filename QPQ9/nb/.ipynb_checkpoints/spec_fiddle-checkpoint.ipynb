{
 "cells": [
  {
   "cell_type": "markdown",
   "metadata": {},
   "source": [
    "# Fiddling about with spectra"
   ]
  },
  {
   "cell_type": "code",
   "execution_count": 4,
   "metadata": {
    "collapsed": true
   },
   "outputs": [],
   "source": [
    "# imports\n",
    "from specdb.specdb import SpecDB"
   ]
  },
  {
   "cell_type": "markdown",
   "metadata": {},
   "source": [
    "## Load QPQ"
   ]
  },
  {
   "cell_type": "code",
   "execution_count": 7,
   "metadata": {
    "collapsed": false
   },
   "outputs": [],
   "source": [
    "qpq_fil = '/Users/lwymarie/Desktop/qpq_optical.hdf5'"
   ]
  },
  {
   "cell_type": "code",
   "execution_count": 8,
   "metadata": {
    "collapsed": false
   },
   "outputs": [
    {
     "name": "stdout",
     "output_type": "stream",
     "text": [
      "Using /Users/lwymarie/Desktop/qpq_optical.hdf5 for the catalog file\n",
      "Using /Users/lwymarie/Desktop/qpq_optical.hdf5 for the DB file\n",
      "Available surveys: [u'GMOS', u'MODS', u'HIRES', u'MMT', u'XSHOOTER', u'MIKE', u'MAGE', u'LRIS', u'ESI']\n"
     ]
    }
   ],
   "source": [
    "qpqsp = SpecDB(db_file=qpq_fil)"
   ]
  },
  {
   "cell_type": "code",
   "execution_count": 9,
   "metadata": {
    "collapsed": false
   },
   "outputs": [
    {
     "name": "stdout",
     "output_type": "stream",
     "text": [
      "Your search yielded 1 match[es]\n",
      "Staged 0 spectra totalling 0 Gb\n",
      "No spectra matching in survey ESI\n",
      "Staged 0 spectra totalling 0 Gb\n",
      "No spectra matching in survey GMOS\n",
      "Staged 0 spectra totalling 0 Gb\n",
      "No spectra matching in survey HIRES\n",
      "Staged 1 spectra totalling 6.72e-05 Gb\n",
      "Loaded spectra\n",
      "Staged 0 spectra totalling 0 Gb\n",
      "No spectra matching in survey MAGE\n",
      "Staged 0 spectra totalling 0 Gb\n",
      "No spectra matching in survey MIKE\n",
      "Staged 0 spectra totalling 0 Gb\n",
      "No spectra matching in survey MMT\n",
      "Staged 0 spectra totalling 0 Gb\n",
      "No spectra matching in survey MODS\n",
      "Staged 0 spectra totalling 0 Gb\n",
      "No spectra matching in survey XSHOOTER\n"
     ]
    },
    {
     "name": "stderr",
     "output_type": "stream",
     "text": [
      "/Users/lwymarie/python/linetools/linetools/spectra/xspectrum1d.py:295: UserWarning: No unit given to wavelength, assuming Angstroms.\n",
      "  warnings.warn(\"No unit given to wavelength, assuming Angstroms.\")\n"
     ]
    }
   ],
   "source": [
    "spec, meta = qpqsp.spec_from_coord('J100627.10+480429.9')"
   ]
  },
  {
   "cell_type": "code",
   "execution_count": null,
   "metadata": {
    "collapsed": false
   },
   "outputs": [],
   "source": [
    "spec[0].plot()"
   ]
  },
  {
   "cell_type": "code",
   "execution_count": null,
   "metadata": {
    "collapsed": true
   },
   "outputs": [],
   "source": []
  }
 ],
 "metadata": {
  "kernelspec": {
   "display_name": "Python 2",
   "language": "python",
   "name": "python2"
  },
  "language_info": {
   "codemirror_mode": {
    "name": "ipython",
    "version": 2
   },
   "file_extension": ".py",
   "mimetype": "text/x-python",
   "name": "python",
   "nbconvert_exporter": "python",
   "pygments_lexer": "ipython2",
   "version": "2.7.12"
  }
 },
 "nbformat": 4,
 "nbformat_minor": 0
}
