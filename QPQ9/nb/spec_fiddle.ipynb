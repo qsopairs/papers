{
 "cells": [
  {
   "cell_type": "markdown",
   "metadata": {},
   "source": [
    "# Fiddling about with spectra"
   ]
  },
  {
   "cell_type": "code",
   "execution_count": 1,
   "metadata": {
    "collapsed": false
   },
   "outputs": [],
   "source": [
    "# imports\n",
    "from specdb.specdb import SpecDB"
   ]
  },
  {
   "cell_type": "markdown",
   "metadata": {},
   "source": [
    "## Load QPQ"
   ]
  },
  {
   "cell_type": "code",
   "execution_count": 2,
   "metadata": {
    "collapsed": true
   },
   "outputs": [],
   "source": [
    "qpq_fil = '/Users/lwymarie/Desktop/qpq_optical.hdf5'"
   ]
  },
  {
   "cell_type": "code",
   "execution_count": 5,
   "metadata": {
    "collapsed": false
   },
   "outputs": [
    {
     "name": "stdout",
     "output_type": "stream",
     "text": [
      "Using /Users/lwymarie/Desktop/qpq_optical.hdf5 for the catalog file\n",
      "Using /Users/lwymarie/Desktop/qpq_optical.hdf5 for the DB file\n",
      "Available surveys: [u'GMOS', u'MODS', u'HIRES', u'MMT', u'XSHOOTER', u'MIKE', u'BOSS', u'MAGE', u'LRIS', u'SDSS', u'ESI']\n",
      "Database is QPQ\n",
      "Created on 2016-Oct-11\n"
     ]
    }
   ],
   "source": [
    "qpqsp = SpecDB(db_file=qpq_fil)"
   ]
  },
  {
   "cell_type": "code",
   "execution_count": 30,
   "metadata": {
    "collapsed": false
   },
   "outputs": [
    {
     "data": {
      "text/plain": [
       "(180.12145833333332, 1.4961944444444446)"
      ]
     },
     "execution_count": 30,
     "metadata": {},
     "output_type": "execute_result"
    }
   ],
   "source": [
    "qpqsp.cat['RA'][12*36+4-1],qpqsp.cat['DEC'][12*36+4-1]"
   ]
  },
  {
   "cell_type": "code",
   "execution_count": 3,
   "metadata": {
    "collapsed": false
   },
   "outputs": [
    {
     "data": {
      "text/plain": [
       "u'10h02m47.142s +00d20m53.008s'"
      ]
     },
     "execution_count": 3,
     "metadata": {},
     "output_type": "execute_result"
    }
   ],
   "source": [
    "from astropy import units as u\n",
    "from astropy.coordinates import SkyCoord\n",
    "c = SkyCoord(ra=150.696425115*u.degree, dec=0.348057780352*u.degree, frame='icrs')\n",
    "c.to_string('hmsdms')"
   ]
  },
  {
   "cell_type": "code",
   "execution_count": 33,
   "metadata": {
    "collapsed": false
   },
   "outputs": [
    {
     "data": {
      "text/html": [
       "&lt;Column name=&apos;PRIV_ID&apos; dtype=&apos;int64&apos; length=8454&gt;\n",
       "<table>\n",
       "<tr><td>0</td></tr>\n",
       "<tr><td>1</td></tr>\n",
       "<tr><td>2</td></tr>\n",
       "<tr><td>3</td></tr>\n",
       "<tr><td>4</td></tr>\n",
       "<tr><td>5</td></tr>\n",
       "<tr><td>6</td></tr>\n",
       "<tr><td>7</td></tr>\n",
       "<tr><td>8</td></tr>\n",
       "<tr><td>9</td></tr>\n",
       "<tr><td>10</td></tr>\n",
       "<tr><td>11</td></tr>\n",
       "<tr><td>...</td></tr>\n",
       "<tr><td>8442</td></tr>\n",
       "<tr><td>8443</td></tr>\n",
       "<tr><td>8444</td></tr>\n",
       "<tr><td>8445</td></tr>\n",
       "<tr><td>8446</td></tr>\n",
       "<tr><td>8447</td></tr>\n",
       "<tr><td>8448</td></tr>\n",
       "<tr><td>8449</td></tr>\n",
       "<tr><td>8450</td></tr>\n",
       "<tr><td>8451</td></tr>\n",
       "<tr><td>8452</td></tr>\n",
       "<tr><td>8453</td></tr>\n",
       "</table>"
      ],
      "text/plain": [
       "<Column name='PRIV_ID' dtype='int64' length=8454>\n",
       "   0\n",
       "   1\n",
       "   2\n",
       "   3\n",
       "   4\n",
       "   5\n",
       "   6\n",
       "   7\n",
       "   8\n",
       "   9\n",
       "  10\n",
       "  11\n",
       " ...\n",
       "8442\n",
       "8443\n",
       "8444\n",
       "8445\n",
       "8446\n",
       "8447\n",
       "8448\n",
       "8449\n",
       "8450\n",
       "8451\n",
       "8452\n",
       "8453"
      ]
     },
     "execution_count": 33,
     "metadata": {},
     "output_type": "execute_result"
    }
   ],
   "source": [
    "qpqsp.cat['PRIV_ID']"
   ]
  },
  {
   "cell_type": "code",
   "execution_count": 70,
   "metadata": {
    "collapsed": false,
    "scrolled": true
   },
   "outputs": [
    {
     "name": "stdout",
     "output_type": "stream",
     "text": [
      "Your search yielded 6 match[es]\n",
      "Staged 6 spectra totalling 0.0006 Gb\n",
      "Loaded spectra\n",
      "Staged 0 spectra totalling 0 Gb\n",
      "No spectra matching in survey ESI\n",
      "Staged 0 spectra totalling 0 Gb\n",
      "No spectra matching in survey GMOS\n",
      "Staged 0 spectra totalling 0 Gb\n",
      "No spectra matching in survey HIRES\n",
      "Staged 1 spectra totalling 8.4e-05 Gb\n",
      "Loaded spectra\n",
      "Staged 0 spectra totalling 0 Gb\n",
      "No spectra matching in survey MAGE\n",
      "Staged 0 spectra totalling 0 Gb\n",
      "No spectra matching in survey MIKE\n",
      "Staged 0 spectra totalling 0 Gb\n",
      "No spectra matching in survey MMT\n",
      "Staged 0 spectra totalling 0 Gb\n",
      "No spectra matching in survey MODS\n",
      "Staged 0 spectra totalling 0 Gb\n",
      "No spectra matching in survey SDSS\n",
      "Staged 0 spectra totalling 0 Gb\n",
      "No spectra matching in survey XSHOOTER\n"
     ]
    },
    {
     "data": {
      "text/html": [
       "&lt;Table length=6&gt;\n",
       "<table id=\"table4477936336\" class=\"table-striped table-bordered table-condensed\">\n",
       "<thead><tr><th>sig_zem</th><th>flag_zem</th><th>flag_survey</th><th>zem</th><th>RA</th><th>DEC</th><th>IGM_ID</th><th>STYPE</th><th>R</th><th>EPOCH</th><th>PRIV_ID</th><th>NPIX</th><th>WV_MIN</th><th>WV_MAX</th><th>SPEC_FILE</th><th>DATE-OBS</th><th>INSTR</th><th>TELESCOPE</th><th>GRATING</th><th>SURVEY_ID</th><th>VERSION</th></tr></thead>\n",
       "<thead><tr><th>float64</th><th>str9</th><th>int64</th><th>float64</th><th>float64</th><th>float64</th><th>int64</th><th>str3</th><th>float64</th><th>float64</th><th>int64</th><th>int64</th><th>float64</th><th>float64</th><th>str74</th><th>str10</th><th>str4</th><th>str10</th><th>str4</th><th>str5</th><th>str7</th></tr></thead>\n",
       "<tr><td>0.0</td><td>QPQ</td><td>1</td><td>2.508</td><td>330.701291667</td><td>12.6156388889</td><td>273189</td><td>QSO</td><td>2100.0</td><td>2000.0</td><td>829</td><td>4599</td><td>3591.69954787</td><td>10353.8054441</td><td>/u/xavier/Dropbox//QSOPairs/data/BOSS/v5_5_0/SDSSJ220248.31+123656.3.fits</td><td>2000-01-01</td><td>BOSS</td><td>SDSS 2.5-M</td><td>BOTH</td><td>DUMMY</td><td>v5_5_0</td></tr>\n",
       "<tr><td>0.0</td><td>QPQ</td><td>1</td><td>2.508</td><td>330.701291667</td><td>12.6156388889</td><td>273189</td><td>QSO</td><td>2100.0</td><td>2000.0</td><td>1700</td><td>4599</td><td>3591.69954787</td><td>10353.8054441</td><td>/u/xavier/Dropbox//QSOPairs/data/BOSS/v5_5_0/SDSSJ220248.31+123656.3.fits</td><td>2000-01-01</td><td>BOSS</td><td>SDSS 2.5-M</td><td>BOTH</td><td>DUMMY</td><td>v5_5_0</td></tr>\n",
       "<tr><td>0.0</td><td>QPQ</td><td>1</td><td>2.508</td><td>330.701291667</td><td>12.6156388889</td><td>273189</td><td>QSO</td><td>2100.0</td><td>2000.0</td><td>3971</td><td>4599</td><td>3591.69954787</td><td>10353.8054441</td><td>/u/xavier/Dropbox//QSOPairs/data/BOSS/v5_5_0/SDSSJ220248.31+123656.3.fits</td><td>2000-01-01</td><td>BOSS</td><td>SDSS 2.5-M</td><td>BOTH</td><td>DUMMY</td><td>v5_5_0</td></tr>\n",
       "<tr><td>0.0</td><td>QPQ</td><td>1</td><td>2.508</td><td>330.701291667</td><td>12.6156388889</td><td>273189</td><td>QSO</td><td>2100.0</td><td>2000.0</td><td>5465</td><td>4599</td><td>3591.69954787</td><td>10353.8054441</td><td>/u/xavier/Dropbox//QSOPairs/data/BOSS/v5_7_0/SDSSJ220248.31+123656.3.fits</td><td>2000-01-01</td><td>BOSS</td><td>SDSS 2.5-M</td><td>BOTH</td><td>DUMMY</td><td>v5_7_0</td></tr>\n",
       "<tr><td>0.0</td><td>QPQ</td><td>1</td><td>2.508</td><td>330.701291667</td><td>12.6156388889</td><td>273189</td><td>QSO</td><td>2100.0</td><td>2000.0</td><td>6278</td><td>4599</td><td>3591.69954787</td><td>10353.8054441</td><td>/u/xavier/Dropbox//QSOPairs/data/BOSS/v5_5_0/SDSSJ220248.31+123656.3.fits</td><td>2000-01-01</td><td>BOSS</td><td>SDSS 2.5-M</td><td>BOTH</td><td>DUMMY</td><td>v5_5_0</td></tr>\n",
       "<tr><td>0.0</td><td>QPQ</td><td>1</td><td>2.508</td><td>330.701291667</td><td>12.6156388889</td><td>273189</td><td>QSO</td><td>2100.0</td><td>2000.0</td><td>7772</td><td>4599</td><td>3591.69954787</td><td>10353.8054441</td><td>/u/xavier/Dropbox//QSOPairs/data/BOSS/v5_7_0/SDSSJ220248.31+123656.3.fits</td><td>2000-01-01</td><td>BOSS</td><td>SDSS 2.5-M</td><td>BOTH</td><td>DUMMY</td><td>v5_7_0</td></tr>\n",
       "</table>"
      ],
      "text/plain": [
       "<Table length=6>\n",
       "sig_zem flag_zem flag_survey   zem   ... TELESCOPE  GRATING SURVEY_ID VERSION\n",
       "float64   str9      int64    float64 ...   str10      str4     str5     str7 \n",
       "------- -------- ----------- ------- ... ---------- ------- --------- -------\n",
       "    0.0      QPQ           1   2.508 ... SDSS 2.5-M    BOTH     DUMMY  v5_5_0\n",
       "    0.0      QPQ           1   2.508 ... SDSS 2.5-M    BOTH     DUMMY  v5_5_0\n",
       "    0.0      QPQ           1   2.508 ... SDSS 2.5-M    BOTH     DUMMY  v5_5_0\n",
       "    0.0      QPQ           1   2.508 ... SDSS 2.5-M    BOTH     DUMMY  v5_7_0\n",
       "    0.0      QPQ           1   2.508 ... SDSS 2.5-M    BOTH     DUMMY  v5_5_0\n",
       "    0.0      QPQ           1   2.508 ... SDSS 2.5-M    BOTH     DUMMY  v5_7_0"
      ]
     },
     "execution_count": 70,
     "metadata": {},
     "output_type": "execute_result"
    }
   ],
   "source": [
    "(specs, metas) = qpqsp.spec_from_coord('220248.31+123656.3',private=True)\n",
    "import numpy as np\n",
    "import matplotlib.pyplot as plt\n",
    "metas[0]"
   ]
  },
  {
   "cell_type": "code",
   "execution_count": 71,
   "metadata": {
    "collapsed": false
   },
   "outputs": [],
   "source": [
    "specs[0].select = 2\n",
    "specs[0].plot()"
   ]
  },
  {
   "cell_type": "code",
   "execution_count": 11,
   "metadata": {
    "collapsed": false
   },
   "outputs": [
    {
     "data": {
      "text/plain": [
       "(array([], dtype=int64),)"
      ]
     },
     "execution_count": 11,
     "metadata": {},
     "output_type": "execute_result"
    }
   ],
   "source": [
    "np.where(specs[0].co != 0)"
   ]
  },
  {
   "cell_type": "code",
   "execution_count": null,
   "metadata": {
    "collapsed": false,
    "scrolled": true
   },
   "outputs": [],
   "source": [
    "%matplotlib inline\n",
    "spec[-1].normalize(spec[-1].co)\n",
    "spec[-1].normalized_spec().plot()"
   ]
  },
  {
   "cell_type": "code",
   "execution_count": 139,
   "metadata": {
    "collapsed": false
   },
   "outputs": [
    {
     "data": {
      "text/plain": [
       "3993.5324129177138"
      ]
     },
     "execution_count": 139,
     "metadata": {},
     "output_type": "execute_result"
    }
   ],
   "source": [
    "spec[0].data['wave'][0].data[0]"
   ]
  },
  {
   "cell_type": "code",
   "execution_count": 144,
   "metadata": {
    "collapsed": false
   },
   "outputs": [
    {
     "name": "stdout",
     "output_type": "stream",
     "text": [
      "711\n"
     ]
    }
   ],
   "source": [
    "for ii,cc in enumerate(conti):\n",
    "    if (conti[ii] != conti[ii+1]):\n",
    "        print(ii+1)\n",
    "        break\n"
   ]
  },
  {
   "cell_type": "code",
   "execution_count": 146,
   "metadata": {
    "collapsed": false
   },
   "outputs": [
    {
     "data": {
      "text/html": [
       "&lt;Column name=&apos;SPEC_FILE&apos; dtype=&apos;str78&apos; length=1&gt;\n",
       "<table>\n",
       "<tr><td>/u/xavier/Dropbox//QSOPairs/data/ESI_redux/./SDSSJ022519.50+004823.7_F.fits.gz</td></tr>\n",
       "</table>"
      ],
      "text/plain": [
       "<Column name='SPEC_FILE' dtype='str78' length=1>\n",
       "/u/xavier/Dropbox//QSOPairs/data/ESI_redux/./SDSSJ022519.50+004823.7_F.fits.gz"
      ]
     },
     "execution_count": 146,
     "metadata": {},
     "output_type": "execute_result"
    }
   ],
   "source": [
    "meta[0]['SPEC_FILE']"
   ]
  },
  {
   "cell_type": "code",
   "execution_count": 19,
   "metadata": {
    "collapsed": false
   },
   "outputs": [
    {
     "name": "stdout",
     "output_type": "stream",
     "text": [
      "Using /Users/lwymarie/Desktop/IGMspec_DB_v01.hdf5 for the catalog file\n",
      "Using /Users/lwymarie/Desktop/IGMspec_DB_v01.hdf5 for the DB file\n",
      "Available surveys: [u'BOSS_DR12', u'SDSS_DR7', u'KODIAQ_DR1', u'HD-LLS_DR1', u'2QZ', u'ESI_DLA', u'HDLA100', u'GGG', u'COS-Halos', u'HST_z2', u'XQ-100']\n",
      "Your search yielded 0 match[es]\n"
     ]
    },
    {
     "name": "stderr",
     "output_type": "stream",
     "text": [
      "/Users/lwymarie/python/specdb/specdb/specdb.py:78: UserWarning: No sources found at your coordinate.  Returning none\n",
      "  warnings.warn(\"No sources found at your coordinate.  Returning none\")\n"
     ]
    }
   ],
   "source": [
    "igmsp = SpecDB(db_file='/Users/lwymarie/Desktop/IGMspec_DB_v01.hdf5')\n",
    "spec2, meta2 = igmsp.spec_from_coord('013816.37-004145.3')"
   ]
  },
  {
   "cell_type": "code",
   "execution_count": 13,
   "metadata": {
    "collapsed": false
   },
   "outputs": [
    {
     "data": {
      "text/plain": [
       "(<Column name='SDSS_NAME' dtype='str18' length=1>\n",
       " 100247.14+002052.9, <Column name='SDSS_DR7' dtype='int32' length=1>\n",
       " 0, <Column name='NSPEC_BOSS' dtype='int32' length=1>\n",
       " 0, <Column name='INSTR' dtype='str4' length=1>\n",
       " BOSS, <Column name='SPEC_FILE' dtype='str28' length=1>\n",
       " spec-3829-55300-0682.fits.gz)"
      ]
     },
     "execution_count": 13,
     "metadata": {},
     "output_type": "execute_result"
    }
   ],
   "source": [
    "meta2[0]['SDSS_NAME'],meta2[0]['SDSS_DR7'],meta2[0]['NSPEC_BOSS'],meta2[0]['INSTR'],meta2[0]['SPEC_FILE']"
   ]
  },
  {
   "cell_type": "code",
   "execution_count": 11,
   "metadata": {
    "collapsed": false
   },
   "outputs": [
    {
     "name": "stdout",
     "output_type": "stream",
     "text": [
      "Your search yielded 0 match[es]\n"
     ]
    },
    {
     "name": "stderr",
     "output_type": "stream",
     "text": [
      "/Users/lwymarie/python/specdb/specdb/specdb.py:78: UserWarning: No sources found at your coordinate.  Returning none\n",
      "  warnings.warn(\"No sources found at your coordinate.  Returning none\")\n"
     ]
    }
   ],
   "source": [
    "from astropy import units as u\n",
    "spec3, meta3 = qpqsp.spec_from_coord('100247.142+002053.0',private=True)"
   ]
  },
  {
   "cell_type": "code",
   "execution_count": 12,
   "metadata": {
    "collapsed": false
   },
   "outputs": [
    {
     "ename": "TypeError",
     "evalue": "'NoneType' object has no attribute '__getitem__'",
     "output_type": "error",
     "traceback": [
      "\u001b[0;31m---------------------------------------------------------------------------\u001b[0m",
      "\u001b[0;31mTypeError\u001b[0m                                 Traceback (most recent call last)",
      "\u001b[0;32m<ipython-input-12-9aded3c6cacf>\u001b[0m in \u001b[0;36m<module>\u001b[0;34m()\u001b[0m\n\u001b[0;32m----> 1\u001b[0;31m \u001b[0mspec3\u001b[0m\u001b[0;34m[\u001b[0m\u001b[0;36m2\u001b[0m\u001b[0;34m]\u001b[0m\u001b[0;34m\u001b[0m\u001b[0m\n\u001b[0m",
      "\u001b[0;31mTypeError\u001b[0m: 'NoneType' object has no attribute '__getitem__'"
     ]
    }
   ],
   "source": [
    "spec3[2]"
   ]
  },
  {
   "cell_type": "code",
   "execution_count": null,
   "metadata": {
    "collapsed": true
   },
   "outputs": [],
   "source": [
    "spec3[2].plot()"
   ]
  },
  {
   "cell_type": "code",
   "execution_count": null,
   "metadata": {
    "collapsed": false
   },
   "outputs": [],
   "source": [
    "spec3[2].sig"
   ]
  },
  {
   "cell_type": "code",
   "execution_count": null,
   "metadata": {
    "collapsed": false
   },
   "outputs": [],
   "source": [
    "import numpy as np\n",
    "len(spec3[2].flux)"
   ]
  },
  {
   "cell_type": "code",
   "execution_count": null,
   "metadata": {
    "collapsed": false
   },
   "outputs": [],
   "source": [
    "meta3[2]"
   ]
  },
  {
   "cell_type": "code",
   "execution_count": null,
   "metadata": {
    "collapsed": false
   },
   "outputs": [],
   "source": [
    "len(spec3[0:-1][0].flux)"
   ]
  },
  {
   "cell_type": "code",
   "execution_count": null,
   "metadata": {
    "collapsed": false
   },
   "outputs": [],
   "source": [
    "spec3[0].flux"
   ]
  },
  {
   "cell_type": "code",
   "execution_count": null,
   "metadata": {
    "collapsed": false
   },
   "outputs": [],
   "source": [
    "spec3[0].sig"
   ]
  },
  {
   "cell_type": "code",
   "execution_count": 14,
   "metadata": {
    "collapsed": true
   },
   "outputs": [],
   "source": [
    "spec_file = '/Marie_X/QPQ9/Continuua/XSHOOTER/SDSSJ091338.97-010704.6_F_c.fits'"
   ]
  },
  {
   "cell_type": "code",
   "execution_count": null,
   "metadata": {
    "collapsed": false
   },
   "outputs": [],
   "source": [
    "'J0913' in spec_file and 'XSHOOTER' in spec_file"
   ]
  },
  {
   "cell_type": "code",
   "execution_count": 25,
   "metadata": {
    "collapsed": false
   },
   "outputs": [
    {
     "name": "stdout",
     "output_type": "stream",
     "text": [
      "Your search yielded 0 match[es]\n"
     ]
    }
   ],
   "source": [
    "spec4, meta4 = igmsp.spec_from_coord('074853.65+222525.2')"
   ]
  },
  {
   "cell_type": "code",
   "execution_count": null,
   "metadata": {
    "collapsed": false
   },
   "outputs": [],
   "source": [
    "meta3[['INSTR']"
   ]
  },
  {
   "cell_type": "code",
   "execution_count": null,
   "metadata": {
    "collapsed": false
   },
   "outputs": [],
   "source": [
    "'XSHOOTER' in meta3[2]['INSTR'][0]"
   ]
  },
  {
   "cell_type": "code",
   "execution_count": null,
   "metadata": {
    "collapsed": false
   },
   "outputs": [],
   "source": [
    "type(meta3)"
   ]
  },
  {
   "cell_type": "code",
   "execution_count": null,
   "metadata": {
    "collapsed": false
   },
   "outputs": [],
   "source": [
    "for meta in meta3:\n",
    "    print('XSHOOTER' in meta['INSTR'][0])"
   ]
  },
  {
   "cell_type": "code",
   "execution_count": null,
   "metadata": {
    "collapsed": false
   },
   "outputs": [],
   "source": [
    "spec3[0]"
   ]
  },
  {
   "cell_type": "code",
   "execution_count": null,
   "metadata": {
    "collapsed": true
   },
   "outputs": [],
   "source": [
    "str1 = 'MagE'"
   ]
  },
  {
   "cell_type": "code",
   "execution_count": null,
   "metadata": {
    "collapsed": false
   },
   "outputs": [],
   "source": [
    "dir(str1)"
   ]
  },
  {
   "cell_type": "code",
   "execution_count": null,
   "metadata": {
    "collapsed": false
   },
   "outputs": [],
   "source": [
    "str1.capitalize"
   ]
  },
  {
   "cell_type": "code",
   "execution_count": null,
   "metadata": {
    "collapsed": false
   },
   "outputs": [],
   "source": [
    "str1.upper()"
   ]
  },
  {
   "cell_type": "code",
   "execution_count": 29,
   "metadata": {
    "collapsed": false
   },
   "outputs": [],
   "source": [
    "import matplotlib.pyplot as plt\n",
    "import numpy as np\n",
    "plt.plot(np.array([1,2,3]),np.array([1,2,3]))\n",
    "plt.ylim(-2,2)\n",
    "plt.show()"
   ]
  },
  {
   "cell_type": "code",
   "execution_count": 27,
   "metadata": {
    "collapsed": false
   },
   "outputs": [],
   "source": [
    "mpl.plot?"
   ]
  },
  {
   "cell_type": "code",
   "execution_count": 89,
   "metadata": {
    "collapsed": true
   },
   "outputs": [],
   "source": [
    "alist = [1,2,3]"
   ]
  },
  {
   "cell_type": "code",
   "execution_count": 90,
   "metadata": {
    "collapsed": false
   },
   "outputs": [
    {
     "data": {
      "text/plain": [
       "(3, 2, 1)"
      ]
     },
     "execution_count": 90,
     "metadata": {},
     "output_type": "execute_result"
    }
   ],
   "source": [
    "alist[-1],alist[-2],alist[-3]"
   ]
  },
  {
   "cell_type": "code",
   "execution_count": 15,
   "metadata": {
    "collapsed": false
   },
   "outputs": [],
   "source": [
    "import numpy as np\n",
    "wave = np.outer(np.ones(3), np.arange(100))"
   ]
  },
  {
   "cell_type": "code",
   "execution_count": 16,
   "metadata": {
    "collapsed": false
   },
   "outputs": [
    {
     "data": {
      "text/plain": [
       "array([[  0.,   1.,   2.,   3.,   4.,   5.,   6.,   7.,   8.,   9.,  10.,\n",
       "         11.,  12.,  13.,  14.,  15.,  16.,  17.,  18.,  19.,  20.,  21.,\n",
       "         22.,  23.,  24.,  25.,  26.,  27.,  28.,  29.,  30.,  31.,  32.,\n",
       "         33.,  34.,  35.,  36.,  37.,  38.,  39.,  40.,  41.,  42.,  43.,\n",
       "         44.,  45.,  46.,  47.,  48.,  49.,  50.,  51.,  52.,  53.,  54.,\n",
       "         55.,  56.,  57.,  58.,  59.,  60.,  61.,  62.,  63.,  64.,  65.,\n",
       "         66.,  67.,  68.,  69.,  70.,  71.,  72.,  73.,  74.,  75.,  76.,\n",
       "         77.,  78.,  79.,  80.,  81.,  82.,  83.,  84.,  85.,  86.,  87.,\n",
       "         88.,  89.,  90.,  91.,  92.,  93.,  94.,  95.,  96.,  97.,  98.,\n",
       "         99.],\n",
       "       [  0.,   1.,   2.,   3.,   4.,   5.,   6.,   7.,   8.,   9.,  10.,\n",
       "         11.,  12.,  13.,  14.,  15.,  16.,  17.,  18.,  19.,  20.,  21.,\n",
       "         22.,  23.,  24.,  25.,  26.,  27.,  28.,  29.,  30.,  31.,  32.,\n",
       "         33.,  34.,  35.,  36.,  37.,  38.,  39.,  40.,  41.,  42.,  43.,\n",
       "         44.,  45.,  46.,  47.,  48.,  49.,  50.,  51.,  52.,  53.,  54.,\n",
       "         55.,  56.,  57.,  58.,  59.,  60.,  61.,  62.,  63.,  64.,  65.,\n",
       "         66.,  67.,  68.,  69.,  70.,  71.,  72.,  73.,  74.,  75.,  76.,\n",
       "         77.,  78.,  79.,  80.,  81.,  82.,  83.,  84.,  85.,  86.,  87.,\n",
       "         88.,  89.,  90.,  91.,  92.,  93.,  94.,  95.,  96.,  97.,  98.,\n",
       "         99.],\n",
       "       [  0.,   1.,   2.,   3.,   4.,   5.,   6.,   7.,   8.,   9.,  10.,\n",
       "         11.,  12.,  13.,  14.,  15.,  16.,  17.,  18.,  19.,  20.,  21.,\n",
       "         22.,  23.,  24.,  25.,  26.,  27.,  28.,  29.,  30.,  31.,  32.,\n",
       "         33.,  34.,  35.,  36.,  37.,  38.,  39.,  40.,  41.,  42.,  43.,\n",
       "         44.,  45.,  46.,  47.,  48.,  49.,  50.,  51.,  52.,  53.,  54.,\n",
       "         55.,  56.,  57.,  58.,  59.,  60.,  61.,  62.,  63.,  64.,  65.,\n",
       "         66.,  67.,  68.,  69.,  70.,  71.,  72.,  73.,  74.,  75.,  76.,\n",
       "         77.,  78.,  79.,  80.,  81.,  82.,  83.,  84.,  85.,  86.,  87.,\n",
       "         88.,  89.,  90.,  91.,  92.,  93.,  94.,  95.,  96.,  97.,  98.,\n",
       "         99.]])"
      ]
     },
     "execution_count": 16,
     "metadata": {},
     "output_type": "execute_result"
    }
   ],
   "source": [
    "wave"
   ]
  },
  {
   "cell_type": "code",
   "execution_count": 148,
   "metadata": {
    "collapsed": false
   },
   "outputs": [
    {
     "data": {
      "text/plain": [
       "[0]"
      ]
     },
     "execution_count": 148,
     "metadata": {},
     "output_type": "execute_result"
    }
   ],
   "source": []
  },
  {
   "cell_type": "code",
   "execution_count": 55,
   "metadata": {
    "collapsed": false
   },
   "outputs": [
    {
     "name": "stdout",
     "output_type": "stream",
     "text": [
      "0\n",
      "1\n",
      "2\n"
     ]
    },
    {
     "data": {
      "text/plain": [
       "[0, 1, 2]"
      ]
     },
     "execution_count": 55,
     "metadata": {},
     "output_type": "execute_result"
    }
   ],
   "source": [
    "nplt = 32 \n",
    "pages = nplt//15 + ((nplt % 15) > 0)\n",
    "for ipage in range(pages):\n",
    "    print(ipage)\n",
    "range(pages)[0:3]"
   ]
  },
  {
   "cell_type": "code",
   "execution_count": 50,
   "metadata": {
    "collapsed": false
   },
   "outputs": [
    {
     "data": {
      "text/plain": [
       "'plt_qpq9_zNIR_1_page3.pdf'"
      ]
     },
     "execution_count": 50,
     "metadata": {},
     "output_type": "execute_result"
    }
   ],
   "source": [
    "outfil = 'plt_qpq9_zNIR_{:d}_page{:d}.pdf'.format(1,2+1)\n",
    "outfil"
   ]
  },
  {
   "cell_type": "code",
   "execution_count": 16,
   "metadata": {
    "collapsed": false
   },
   "outputs": [
    {
     "data": {
      "text/plain": [
       "0.99325177301028345"
      ]
     },
     "execution_count": 16,
     "metadata": {},
     "output_type": "execute_result"
    }
   ],
   "source": [
    "np.log(2.7)"
   ]
  },
  {
   "cell_type": "code",
   "execution_count": 17,
   "metadata": {
    "collapsed": false
   },
   "outputs": [
    {
     "data": {
      "text/plain": [
       "2.0"
      ]
     },
     "execution_count": 17,
     "metadata": {},
     "output_type": "execute_result"
    }
   ],
   "source": [
    "np.sqrt(4)"
   ]
  },
  {
   "cell_type": "code",
   "execution_count": 20,
   "metadata": {
    "collapsed": false
   },
   "outputs": [
    {
     "data": {
      "text/plain": [
       "array([1, 4, 9])"
      ]
     },
     "execution_count": 20,
     "metadata": {},
     "output_type": "execute_result"
    }
   ],
   "source": [
    "tau = np.array([1,2,3])\n",
    "tau**2"
   ]
  },
  {
   "cell_type": "code",
   "execution_count": 21,
   "metadata": {
    "collapsed": false
   },
   "outputs": [
    {
     "name": "stdout",
     "output_type": "stream",
     "text": [
      "Help on function sum in module numpy.core.fromnumeric:\n",
      "\n",
      "sum(a, axis=None, dtype=None, out=None, keepdims=False)\n",
      "    Sum of array elements over a given axis.\n",
      "    \n",
      "    Parameters\n",
      "    ----------\n",
      "    a : array_like\n",
      "        Elements to sum.\n",
      "    axis : None or int or tuple of ints, optional\n",
      "        Axis or axes along which a sum is performed.  The default,\n",
      "        axis=None, will sum all of the elements of the input array.  If\n",
      "        axis is negative it counts from the last to the first axis.\n",
      "    \n",
      "        .. versionadded:: 1.7.0\n",
      "    \n",
      "        If axis is a tuple of ints, a sum is performed on all of the axes\n",
      "        specified in the tuple instead of a single axis or all the axes as\n",
      "        before.\n",
      "    dtype : dtype, optional\n",
      "        The type of the returned array and of the accumulator in which the\n",
      "        elements are summed.  The dtype of `a` is used by default unless `a`\n",
      "        has an integer dtype of less precision than the default platform\n",
      "        integer.  In that case, if `a` is signed then the platform integer\n",
      "        is used while if `a` is unsigned then an unsigned integer of the\n",
      "        same precision as the platform integer is used.\n",
      "    out : ndarray, optional\n",
      "        Alternative output array in which to place the result. It must have\n",
      "        the same shape as the expected output, but the type of the output\n",
      "        values will be cast if necessary.\n",
      "    keepdims : bool, optional\n",
      "        If this is set to True, the axes which are reduced are left in the\n",
      "        result as dimensions with size one. With this option, the result\n",
      "        will broadcast correctly against the input array.\n",
      "    \n",
      "    Returns\n",
      "    -------\n",
      "    sum_along_axis : ndarray\n",
      "        An array with the same shape as `a`, with the specified\n",
      "        axis removed.   If `a` is a 0-d array, or if `axis` is None, a scalar\n",
      "        is returned.  If an output array is specified, a reference to\n",
      "        `out` is returned.\n",
      "    \n",
      "    See Also\n",
      "    --------\n",
      "    ndarray.sum : Equivalent method.\n",
      "    \n",
      "    cumsum : Cumulative sum of array elements.\n",
      "    \n",
      "    trapz : Integration of array values using the composite trapezoidal rule.\n",
      "    \n",
      "    mean, average\n",
      "    \n",
      "    Notes\n",
      "    -----\n",
      "    Arithmetic is modular when using integer types, and no error is\n",
      "    raised on overflow.\n",
      "    \n",
      "    The sum of an empty array is the neutral element 0:\n",
      "    \n",
      "    >>> np.sum([])\n",
      "    0.0\n",
      "    \n",
      "    Examples\n",
      "    --------\n",
      "    >>> np.sum([0.5, 1.5])\n",
      "    2.0\n",
      "    >>> np.sum([0.5, 0.7, 0.2, 1.5], dtype=np.int32)\n",
      "    1\n",
      "    >>> np.sum([[0, 1], [0, 5]])\n",
      "    6\n",
      "    >>> np.sum([[0, 1], [0, 5]], axis=0)\n",
      "    array([0, 6])\n",
      "    >>> np.sum([[0, 1], [0, 5]], axis=1)\n",
      "    array([1, 5])\n",
      "    \n",
      "    If the accumulator is too small, overflow occurs:\n",
      "    \n",
      "    >>> np.ones(128, dtype=np.int8).sum(dtype=np.int8)\n",
      "    -128\n",
      "\n"
     ]
    }
   ],
   "source": [
    "help(np.sum)"
   ]
  },
  {
   "cell_type": "code",
   "execution_count": 24,
   "metadata": {
    "collapsed": false
   },
   "outputs": [],
   "source": [
    "cumtau = np.cumsum(np.array([1,2,3]))"
   ]
  },
  {
   "cell_type": "code",
   "execution_count": 26,
   "metadata": {
    "collapsed": false
   },
   "outputs": [
    {
     "data": {
      "text/plain": [
       "(array([1, 2]),)"
      ]
     },
     "execution_count": 26,
     "metadata": {},
     "output_type": "execute_result"
    }
   ],
   "source": [
    "np.where(cumtau > 1)"
   ]
  },
  {
   "cell_type": "code",
   "execution_count": 22,
   "metadata": {
    "collapsed": false
   },
   "outputs": [
    {
     "data": {
      "text/plain": [
       "(array([1, 2, 3]),)"
      ]
     },
     "execution_count": 22,
     "metadata": {},
     "output_type": "execute_result"
    }
   ],
   "source": [
    "wavelength = np.array([1,2,3,4,5])\n",
    "np.where((wavelength > 1) & (wavelength < 5))"
   ]
  },
  {
   "cell_type": "code",
   "execution_count": null,
   "metadata": {
    "collapsed": false
   },
   "outputs": [],
   "source": []
  },
  {
   "cell_type": "code",
   "execution_count": null,
   "metadata": {
    "collapsed": true
   },
   "outputs": [],
   "source": []
  }
 ],
 "metadata": {
  "kernelspec": {
   "display_name": "Python 2",
   "language": "python",
   "name": "python2"
  },
  "language_info": {
   "codemirror_mode": {
    "name": "ipython",
    "version": 2
   },
   "file_extension": ".py",
   "mimetype": "text/x-python",
   "name": "python",
   "nbconvert_exporter": "python",
   "pygments_lexer": "ipython2",
   "version": "2.7.12"
  }
 },
 "nbformat": 4,
 "nbformat_minor": 0
}
