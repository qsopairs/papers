{
 "cells": [
  {
   "cell_type": "markdown",
   "metadata": {},
   "source": [
    "## Fiddling about with spectra"
   ]
  },
  {
   "cell_type": "code",
   "execution_count": 1,
   "metadata": {
    "collapsed": false
   },
   "outputs": [
    {
     "name": "stdout",
     "output_type": "stream",
     "text": [
      "Using /Users/lwymarie/Desktop/IGMspec_DB_v02.hdf5 for the catalog file\n",
      "Using /Users/lwymarie/Desktop/IGMspec_DB_v02.hdf5 for the DB file\n",
      "Available surveys: [u'BOSS_DR12', u'HSTQSO', u'SDSS_DR7', u'KODIAQ_DR1', u'MUSoDLA', u'HD-LLS_DR1', u'2QZ', u'ESI_DLA', u'HDLA100', u'GGG', u'COS-Halos', u'HST_z2', u'COS-Dwarfs', u'XQ-100']\n",
      "Database is igmspec\n",
      "Created on 2016-Oct-25\n"
     ]
    },
    {
     "name": "stderr",
     "output_type": "stream",
     "text": [
      "/Users/lwymarie/python/linetools/linetools/spectra/xspectrum1d.py:297: UserWarning: No unit given to wavelength, assuming Angstroms.\n",
      "  warnings.warn(\"No unit given to wavelength, assuming Angstroms.\")\n"
     ]
    },
    {
     "data": {
      "text/plain": [
       "[u'2QZ',\n",
       " u'BOSS_DR12',\n",
       " u'COS-Dwarfs',\n",
       " u'COS-Halos',\n",
       " u'ESI_DLA',\n",
       " u'GGG',\n",
       " u'HD-LLS_DR1',\n",
       " u'HDLA100',\n",
       " u'HSTQSO',\n",
       " u'HST_z2',\n",
       " u'KODIAQ_DR1',\n",
       " u'MUSoDLA',\n",
       " u'SDSS_DR7',\n",
       " u'XQ-100']"
      ]
     },
     "execution_count": 1,
     "metadata": {},
     "output_type": "execute_result"
    }
   ],
   "source": [
    "# imports\n",
    "from specdb.specdb import SpecDB,IgmSpec\n",
    "import astropy.units as u\n",
    "igmsp = IgmSpec(verbose=False)\n",
    "spec, meta = igmsp.spec_from_coord('00:40:54.7-09:15:27',verbose=False,isurvey=['SDSS_DR7'])\n",
    "igmsp.qcat.surveys"
   ]
  },
  {
   "cell_type": "markdown",
   "metadata": {},
   "source": [
    "## Load QPQ"
   ]
  },
  {
   "cell_type": "code",
   "execution_count": 2,
   "metadata": {
    "collapsed": true
   },
   "outputs": [],
   "source": [
    "qpq_fil = '/Users/lwymarie/Desktop/qpq_optical.hdf5'"
   ]
  },
  {
   "cell_type": "code",
   "execution_count": 3,
   "metadata": {
    "collapsed": false
   },
   "outputs": [
    {
     "name": "stdout",
     "output_type": "stream",
     "text": [
      "Using /Users/lwymarie/Desktop/qpq_optical.hdf5 for the catalog file\n",
      "Using /Users/lwymarie/Desktop/qpq_optical.hdf5 for the DB file\n",
      "Available surveys: [u'GMOS', u'MODS', u'HIRES', u'MMT', u'XSHOOTER', u'MIKE', u'BOSS', u'MAGE', u'LRIS', u'SDSS', u'ESI']\n",
      "Database is QPQ\n",
      "Created on 2016-Oct-11\n"
     ]
    }
   ],
   "source": [
    "qpqsp = SpecDB(db_file=qpq_fil,idkey='PRIV_ID')"
   ]
  },
  {
   "cell_type": "code",
   "execution_count": 30,
   "metadata": {
    "collapsed": false
   },
   "outputs": [
    {
     "data": {
      "text/plain": [
       "(180.12145833333332, 1.4961944444444446)"
      ]
     },
     "execution_count": 30,
     "metadata": {},
     "output_type": "execute_result"
    }
   ],
   "source": [
    "qpqsp.cat['RA'][12*36+4-1],qpqsp.cat['DEC'][12*36+4-1]"
   ]
  },
  {
   "cell_type": "code",
   "execution_count": 3,
   "metadata": {
    "collapsed": false
   },
   "outputs": [
    {
     "data": {
      "text/plain": [
       "u'10h02m47.142s +00d20m53.008s'"
      ]
     },
     "execution_count": 3,
     "metadata": {},
     "output_type": "execute_result"
    }
   ],
   "source": [
    "from astropy import units as u\n",
    "from astropy.coordinates import SkyCoord\n",
    "c = SkyCoord(ra=150.696425115*u.degree, dec=0.348057780352*u.degree, frame='icrs')\n",
    "c.to_string('hmsdms')"
   ]
  },
  {
   "cell_type": "code",
   "execution_count": 76,
   "metadata": {
    "collapsed": false
   },
   "outputs": [
    {
     "data": {
      "text/plain": [
       "['sig_zem',\n",
       " 'flag_zem',\n",
       " 'flag_survey',\n",
       " 'zem',\n",
       " 'RA',\n",
       " 'DEC',\n",
       " 'IGM_ID',\n",
       " 'STYPE',\n",
       " 'PRIV_ID']"
      ]
     },
     "execution_count": 76,
     "metadata": {},
     "output_type": "execute_result"
    }
   ],
   "source": [
    "qpqsp.cat.keys()"
   ]
  },
  {
   "cell_type": "code",
   "execution_count": 6,
   "metadata": {
    "collapsed": false,
    "scrolled": true
   },
   "outputs": [
    {
     "name": "stdout",
     "output_type": "stream",
     "text": [
      "Your search yielded 8 match[es]\n"
     ]
    },
    {
     "data": {
      "text/plain": [
       "[<Table length=8>\n",
       " sig_zem flag_zem flag_survey      zem      ... GRATING SURVEY_ID VERSION\n",
       " float64   str9      int64       float64    ...   str4     str5     str7 \n",
       " ------- -------- ----------- ------------- ... ------- --------- -------\n",
       "     0.0      QPQ           1         2.105 ...    BOTH     DUMMY  v5_5_0\n",
       "     0.0 BOSS_PCA           1 2.09800004959 ...    BOTH     DUMMY  v5_5_0\n",
       "     0.0      QPQ           1         2.105 ...    BOTH     DUMMY  v5_5_0\n",
       "     0.0 BOSS_PCA           1 2.09800004959 ...    BOTH     DUMMY  v5_5_0\n",
       "     0.0      QPQ           1         2.105 ...    BOTH     DUMMY  v5_5_0\n",
       "     0.0 BOSS_PCA           1 2.09800004959 ...    BOTH     DUMMY  v5_5_0\n",
       "     0.0      QPQ           1         2.105 ...    BOTH     DUMMY  v5_5_0\n",
       "     0.0 BOSS_PCA           1 2.09800004959 ...    BOTH     DUMMY  v5_5_0,\n",
       " <Table length=1>\n",
       " sig_zem flag_zem flag_survey   zem   ... INSTR TELESCOPE SURVEY_ID\n",
       " float64   str9      int64    float64 ...  str5    str6      str5  \n",
       " ------- -------- ----------- ------- ... ----- --------- ---------\n",
       "     0.0      QPQ           1   2.105 ... LRISb    Keck-I     DUMMY]"
      ]
     },
     "execution_count": 6,
     "metadata": {},
     "output_type": "execute_result"
    }
   ],
   "source": [
    "import astropy.units as u\n",
    "(specs, metas) = qpqsp.spec_from_coord((227.053328443*u.deg,36.5917417532*u.deg),private=True)\n",
    "import numpy as np\n",
    "import matplotlib.pyplot as plt\n",
    "metas"
   ]
  },
  {
   "cell_type": "code",
   "execution_count": null,
   "metadata": {
    "collapsed": false
   },
   "outputs": [],
   "source": [
    "specs[1].plot()"
   ]
  },
  {
   "cell_type": "code",
   "execution_count": 42,
   "metadata": {
    "collapsed": false
   },
   "outputs": [
    {
     "data": {
      "text/plain": [
       "False"
      ]
     },
     "execution_count": 42,
     "metadata": {},
     "output_type": "execute_result"
    }
   ],
   "source": [
    "[None,None] is None"
   ]
  },
  {
   "cell_type": "code",
   "execution_count": null,
   "metadata": {
    "collapsed": false,
    "scrolled": true
   },
   "outputs": [],
   "source": [
    "%matplotlib inline\n",
    "spec[-1].normalize(spec[-1].co)\n",
    "spec[-1].normalized_spec().plot()"
   ]
  },
  {
   "cell_type": "code",
   "execution_count": 139,
   "metadata": {
    "collapsed": false
   },
   "outputs": [
    {
     "data": {
      "text/plain": [
       "3993.5324129177138"
      ]
     },
     "execution_count": 139,
     "metadata": {},
     "output_type": "execute_result"
    }
   ],
   "source": [
    "spec[0].data['wave'][0].data[0]"
   ]
  },
  {
   "cell_type": "code",
   "execution_count": 144,
   "metadata": {
    "collapsed": false
   },
   "outputs": [
    {
     "name": "stdout",
     "output_type": "stream",
     "text": [
      "711\n"
     ]
    }
   ],
   "source": [
    "for ii,cc in enumerate(conti):\n",
    "    if (conti[ii] != conti[ii+1]):\n",
    "        print(ii+1)\n",
    "        break\n"
   ]
  },
  {
   "cell_type": "code",
   "execution_count": 146,
   "metadata": {
    "collapsed": false
   },
   "outputs": [
    {
     "data": {
      "text/html": [
       "&lt;Column name=&apos;SPEC_FILE&apos; dtype=&apos;str78&apos; length=1&gt;\n",
       "<table>\n",
       "<tr><td>/u/xavier/Dropbox//QSOPairs/data/ESI_redux/./SDSSJ022519.50+004823.7_F.fits.gz</td></tr>\n",
       "</table>"
      ],
      "text/plain": [
       "<Column name='SPEC_FILE' dtype='str78' length=1>\n",
       "/u/xavier/Dropbox//QSOPairs/data/ESI_redux/./SDSSJ022519.50+004823.7_F.fits.gz"
      ]
     },
     "execution_count": 146,
     "metadata": {},
     "output_type": "execute_result"
    }
   ],
   "source": [
    "meta[0]['SPEC_FILE']"
   ]
  },
  {
   "cell_type": "code",
   "execution_count": 17,
   "metadata": {
    "collapsed": false
   },
   "outputs": [
    {
     "name": "stdout",
     "output_type": "stream",
     "text": [
      "Using /Users/lwymarie/Desktop/IGMspec_DB_v02.hdf5 for the catalog file\n",
      "Using /Users/lwymarie/Desktop/IGMspec_DB_v02.hdf5 for the DB file\n",
      "Available surveys: [u'BOSS_DR12', u'HSTQSO', u'SDSS_DR7', u'KODIAQ_DR1', u'MUSoDLA', u'HD-LLS_DR1', u'2QZ', u'ESI_DLA', u'HDLA100', u'GGG', u'COS-Halos', u'HST_z2', u'COS-Dwarfs', u'XQ-100']\n",
      "Database is igmspec\n",
      "Created on 2016-Oct-25\n",
      "Your search yielded 1 match[es]\n"
     ]
    },
    {
     "data": {
      "text/plain": [
       "[<Table length=1>\n",
       "       SDSSJ            RA      DEC    ... GRATING TELESCOPE  flag_zem\n",
       "       str31         float64  float64  ...   str4    str10     str10  \n",
       " ------------------ --------- -------- ... ------- ---------- --------\n",
       " 004316.50+001045.1 10.818782 0.179202 ...    BOTH SDSS 2.5-M  SDSS-HW]"
      ]
     },
     "execution_count": 17,
     "metadata": {},
     "output_type": "execute_result"
    }
   ],
   "source": [
    "igmsp = SpecDB(db_file='/Users/lwymarie/Desktop/IGMspec_DB_v02.hdf5')\n",
    "spec2, meta2 = igmsp.spec_from_coord((10.818782*u.deg,0.179202*u.deg))\n",
    "meta2"
   ]
  },
  {
   "cell_type": "code",
   "execution_count": 19,
   "metadata": {
    "collapsed": false
   },
   "outputs": [
    {
     "ename": "IndexError",
     "evalue": "list index out of range",
     "output_type": "error",
     "traceback": [
      "\u001b[0;31m---------------------------------------------------------------------------\u001b[0m",
      "\u001b[0;31mIndexError\u001b[0m                                Traceback (most recent call last)",
      "\u001b[0;32m<ipython-input-19-17245a4b4a56>\u001b[0m in \u001b[0;36m<module>\u001b[0;34m()\u001b[0m\n\u001b[0;32m----> 1\u001b[0;31m \u001b[0mspec2\u001b[0m\u001b[0;34m[\u001b[0m\u001b[0;36m1\u001b[0m\u001b[0;34m]\u001b[0m\u001b[0;34m.\u001b[0m\u001b[0mplot\u001b[0m\u001b[0;34m(\u001b[0m\u001b[0;34m)\u001b[0m\u001b[0;34m\u001b[0m\u001b[0m\n\u001b[0m",
      "\u001b[0;31mIndexError\u001b[0m: list index out of range"
     ]
    }
   ],
   "source": [
    "spec2[1].plot()"
   ]
  },
  {
   "cell_type": "code",
   "execution_count": 4,
   "metadata": {
    "collapsed": false
   },
   "outputs": [
    {
     "name": "stdout",
     "output_type": "stream",
     "text": [
      "Your search yielded 1 match[es]\n"
     ]
    },
    {
     "data": {
      "text/html": [
       "&lt;Table length=1&gt;\n",
       "<table id=\"table4713461520\" class=\"table-striped table-bordered table-condensed\">\n",
       "<thead><tr><th>sig_zem</th><th>flag_zem</th><th>flag_survey</th><th>zem</th><th>RA</th><th>DEC</th><th>IGM_ID</th><th>STYPE</th><th>DATE-OBS</th><th>R</th><th>GRATING</th><th>EPOCH</th><th>PRIV_ID</th><th>NPIX</th><th>WV_MIN</th><th>WV_MAX</th><th>SPEC_FILE</th><th>INSTR</th><th>TELESCOPE</th><th>SURVEY_ID</th></tr></thead>\n",
       "<thead><tr><th>float64</th><th>str9</th><th>int64</th><th>float64</th><th>float64</th><th>float64</th><th>int64</th><th>str3</th><th>str10</th><th>float64</th><th>str9</th><th>float64</th><th>int64</th><th>int64</th><th>float64</th><th>float64</th><th>str86</th><th>str5</th><th>str6</th><th>str5</th></tr></thead>\n",
       "<tr><td>0.0</td><td>QPQ</td><td>1</td><td>2.012</td><td>215.22675</td><td>16.05925</td><td>215293</td><td>QSO</td><td>2007-04-13</td><td>2180.0</td><td>1200/3400</td><td>2000.0</td><td>8195</td><td>2048</td><td>2889.59380559</td><td>3878.37963564</td><td>/u/xavier/Dropbox//QSOPairs/data/LRIS_redux//./SDSSJ142054.42+160333.3_b1200_F.fits.gz</td><td>LRISb</td><td>Keck-I</td><td>DUMMY</td></tr>\n",
       "</table>"
      ],
      "text/plain": [
       "<Table length=1>\n",
       "sig_zem flag_zem flag_survey   zem   ... INSTR TELESCOPE SURVEY_ID\n",
       "float64   str9      int64    float64 ...  str5    str6      str5  \n",
       "------- -------- ----------- ------- ... ----- --------- ---------\n",
       "    0.0      QPQ           1   2.012 ... LRISb    Keck-I     DUMMY"
      ]
     },
     "execution_count": 4,
     "metadata": {},
     "output_type": "execute_result"
    }
   ],
   "source": [
    "from astropy import units as u\n",
    "spec3, meta3 = qpqsp.spec_from_coord('142054.42+160333.3',private=True)\n",
    "meta3[0]"
   ]
  },
  {
   "cell_type": "code",
   "execution_count": 134,
   "metadata": {
    "collapsed": false
   },
   "outputs": [],
   "source": [
    "spec3[0].plot()"
   ]
  },
  {
   "cell_type": "code",
   "execution_count": null,
   "metadata": {
    "collapsed": true
   },
   "outputs": [],
   "source": []
  },
  {
   "cell_type": "code",
   "execution_count": null,
   "metadata": {
    "collapsed": false
   },
   "outputs": [],
   "source": [
    "spec3[2].sig"
   ]
  },
  {
   "cell_type": "code",
   "execution_count": null,
   "metadata": {
    "collapsed": false
   },
   "outputs": [],
   "source": [
    "import numpy as np\n",
    "len(spec3[2].flux)"
   ]
  },
  {
   "cell_type": "code",
   "execution_count": null,
   "metadata": {
    "collapsed": false
   },
   "outputs": [],
   "source": [
    "meta3[2]"
   ]
  },
  {
   "cell_type": "code",
   "execution_count": null,
   "metadata": {
    "collapsed": false
   },
   "outputs": [],
   "source": [
    "len(spec3[0:-1][0].flux)"
   ]
  },
  {
   "cell_type": "code",
   "execution_count": null,
   "metadata": {
    "collapsed": false
   },
   "outputs": [],
   "source": [
    "spec3[0].flux"
   ]
  },
  {
   "cell_type": "code",
   "execution_count": null,
   "metadata": {
    "collapsed": false
   },
   "outputs": [],
   "source": [
    "spec3[0].sig"
   ]
  },
  {
   "cell_type": "code",
   "execution_count": 14,
   "metadata": {
    "collapsed": true
   },
   "outputs": [],
   "source": [
    "spec_file = '/Marie_X/QPQ9/Continuua/XSHOOTER/SDSSJ091338.97-010704.6_F_c.fits'"
   ]
  },
  {
   "cell_type": "code",
   "execution_count": null,
   "metadata": {
    "collapsed": false
   },
   "outputs": [],
   "source": [
    "'J0913' in spec_file and 'XSHOOTER' in spec_file"
   ]
  },
  {
   "cell_type": "code",
   "execution_count": 25,
   "metadata": {
    "collapsed": false
   },
   "outputs": [
    {
     "name": "stdout",
     "output_type": "stream",
     "text": [
      "Your search yielded 0 match[es]\n"
     ]
    }
   ],
   "source": [
    "spec4, meta4 = igmsp.spec_from_coord('074853.65+222525.2')"
   ]
  },
  {
   "cell_type": "code",
   "execution_count": null,
   "metadata": {
    "collapsed": false
   },
   "outputs": [],
   "source": [
    "meta3[['INSTR']"
   ]
  },
  {
   "cell_type": "code",
   "execution_count": null,
   "metadata": {
    "collapsed": false
   },
   "outputs": [],
   "source": [
    "'XSHOOTER' in meta3[2]['INSTR'][0]"
   ]
  },
  {
   "cell_type": "code",
   "execution_count": null,
   "metadata": {
    "collapsed": false
   },
   "outputs": [],
   "source": [
    "type(meta3)"
   ]
  },
  {
   "cell_type": "code",
   "execution_count": null,
   "metadata": {
    "collapsed": false
   },
   "outputs": [],
   "source": [
    "for meta in meta3:\n",
    "    print('XSHOOTER' in meta['INSTR'][0])"
   ]
  },
  {
   "cell_type": "code",
   "execution_count": null,
   "metadata": {
    "collapsed": false
   },
   "outputs": [],
   "source": [
    "spec3[0]"
   ]
  },
  {
   "cell_type": "code",
   "execution_count": null,
   "metadata": {
    "collapsed": true
   },
   "outputs": [],
   "source": [
    "str1 = 'MagE'"
   ]
  },
  {
   "cell_type": "code",
   "execution_count": null,
   "metadata": {
    "collapsed": false
   },
   "outputs": [],
   "source": [
    "dir(str1)"
   ]
  },
  {
   "cell_type": "code",
   "execution_count": null,
   "metadata": {
    "collapsed": false
   },
   "outputs": [],
   "source": [
    "str1.capitalize"
   ]
  },
  {
   "cell_type": "code",
   "execution_count": null,
   "metadata": {
    "collapsed": false
   },
   "outputs": [],
   "source": [
    "str1.upper()"
   ]
  },
  {
   "cell_type": "code",
   "execution_count": 29,
   "metadata": {
    "collapsed": false
   },
   "outputs": [],
   "source": [
    "import matplotlib.pyplot as plt\n",
    "import numpy as np\n",
    "plt.plot(np.array([1,2,3]),np.array([1,2,3]))\n",
    "plt.ylim(-2,2)\n",
    "plt.show()"
   ]
  },
  {
   "cell_type": "code",
   "execution_count": 27,
   "metadata": {
    "collapsed": false
   },
   "outputs": [],
   "source": [
    "mpl.plot?"
   ]
  },
  {
   "cell_type": "code",
   "execution_count": 89,
   "metadata": {
    "collapsed": true
   },
   "outputs": [],
   "source": [
    "alist = [1,2,3]"
   ]
  },
  {
   "cell_type": "code",
   "execution_count": 90,
   "metadata": {
    "collapsed": false
   },
   "outputs": [
    {
     "data": {
      "text/plain": [
       "(3, 2, 1)"
      ]
     },
     "execution_count": 90,
     "metadata": {},
     "output_type": "execute_result"
    }
   ],
   "source": [
    "alist[-1],alist[-2],alist[-3]"
   ]
  },
  {
   "cell_type": "code",
   "execution_count": 15,
   "metadata": {
    "collapsed": false
   },
   "outputs": [],
   "source": [
    "import numpy as np\n",
    "wave = np.outer(np.ones(3), np.arange(100))"
   ]
  },
  {
   "cell_type": "code",
   "execution_count": 16,
   "metadata": {
    "collapsed": false
   },
   "outputs": [
    {
     "data": {
      "text/plain": [
       "array([[  0.,   1.,   2.,   3.,   4.,   5.,   6.,   7.,   8.,   9.,  10.,\n",
       "         11.,  12.,  13.,  14.,  15.,  16.,  17.,  18.,  19.,  20.,  21.,\n",
       "         22.,  23.,  24.,  25.,  26.,  27.,  28.,  29.,  30.,  31.,  32.,\n",
       "         33.,  34.,  35.,  36.,  37.,  38.,  39.,  40.,  41.,  42.,  43.,\n",
       "         44.,  45.,  46.,  47.,  48.,  49.,  50.,  51.,  52.,  53.,  54.,\n",
       "         55.,  56.,  57.,  58.,  59.,  60.,  61.,  62.,  63.,  64.,  65.,\n",
       "         66.,  67.,  68.,  69.,  70.,  71.,  72.,  73.,  74.,  75.,  76.,\n",
       "         77.,  78.,  79.,  80.,  81.,  82.,  83.,  84.,  85.,  86.,  87.,\n",
       "         88.,  89.,  90.,  91.,  92.,  93.,  94.,  95.,  96.,  97.,  98.,\n",
       "         99.],\n",
       "       [  0.,   1.,   2.,   3.,   4.,   5.,   6.,   7.,   8.,   9.,  10.,\n",
       "         11.,  12.,  13.,  14.,  15.,  16.,  17.,  18.,  19.,  20.,  21.,\n",
       "         22.,  23.,  24.,  25.,  26.,  27.,  28.,  29.,  30.,  31.,  32.,\n",
       "         33.,  34.,  35.,  36.,  37.,  38.,  39.,  40.,  41.,  42.,  43.,\n",
       "         44.,  45.,  46.,  47.,  48.,  49.,  50.,  51.,  52.,  53.,  54.,\n",
       "         55.,  56.,  57.,  58.,  59.,  60.,  61.,  62.,  63.,  64.,  65.,\n",
       "         66.,  67.,  68.,  69.,  70.,  71.,  72.,  73.,  74.,  75.,  76.,\n",
       "         77.,  78.,  79.,  80.,  81.,  82.,  83.,  84.,  85.,  86.,  87.,\n",
       "         88.,  89.,  90.,  91.,  92.,  93.,  94.,  95.,  96.,  97.,  98.,\n",
       "         99.],\n",
       "       [  0.,   1.,   2.,   3.,   4.,   5.,   6.,   7.,   8.,   9.,  10.,\n",
       "         11.,  12.,  13.,  14.,  15.,  16.,  17.,  18.,  19.,  20.,  21.,\n",
       "         22.,  23.,  24.,  25.,  26.,  27.,  28.,  29.,  30.,  31.,  32.,\n",
       "         33.,  34.,  35.,  36.,  37.,  38.,  39.,  40.,  41.,  42.,  43.,\n",
       "         44.,  45.,  46.,  47.,  48.,  49.,  50.,  51.,  52.,  53.,  54.,\n",
       "         55.,  56.,  57.,  58.,  59.,  60.,  61.,  62.,  63.,  64.,  65.,\n",
       "         66.,  67.,  68.,  69.,  70.,  71.,  72.,  73.,  74.,  75.,  76.,\n",
       "         77.,  78.,  79.,  80.,  81.,  82.,  83.,  84.,  85.,  86.,  87.,\n",
       "         88.,  89.,  90.,  91.,  92.,  93.,  94.,  95.,  96.,  97.,  98.,\n",
       "         99.]])"
      ]
     },
     "execution_count": 16,
     "metadata": {},
     "output_type": "execute_result"
    }
   ],
   "source": [
    "wave"
   ]
  },
  {
   "cell_type": "code",
   "execution_count": 148,
   "metadata": {
    "collapsed": false
   },
   "outputs": [
    {
     "data": {
      "text/plain": [
       "[0]"
      ]
     },
     "execution_count": 148,
     "metadata": {},
     "output_type": "execute_result"
    }
   ],
   "source": []
  },
  {
   "cell_type": "code",
   "execution_count": 55,
   "metadata": {
    "collapsed": false
   },
   "outputs": [
    {
     "name": "stdout",
     "output_type": "stream",
     "text": [
      "0\n",
      "1\n",
      "2\n"
     ]
    },
    {
     "data": {
      "text/plain": [
       "[0, 1, 2]"
      ]
     },
     "execution_count": 55,
     "metadata": {},
     "output_type": "execute_result"
    }
   ],
   "source": [
    "nplt = 32 \n",
    "pages = nplt//15 + ((nplt % 15) > 0)\n",
    "for ipage in range(pages):\n",
    "    print(ipage)\n",
    "range(pages)[0:3]"
   ]
  },
  {
   "cell_type": "code",
   "execution_count": 50,
   "metadata": {
    "collapsed": false
   },
   "outputs": [
    {
     "data": {
      "text/plain": [
       "'plt_qpq9_zNIR_1_page3.pdf'"
      ]
     },
     "execution_count": 50,
     "metadata": {},
     "output_type": "execute_result"
    }
   ],
   "source": [
    "outfil = 'plt_qpq9_zNIR_{:d}_page{:d}.pdf'.format(1,2+1)\n",
    "outfil"
   ]
  },
  {
   "cell_type": "code",
   "execution_count": 16,
   "metadata": {
    "collapsed": false
   },
   "outputs": [
    {
     "data": {
      "text/plain": [
       "0.99325177301028345"
      ]
     },
     "execution_count": 16,
     "metadata": {},
     "output_type": "execute_result"
    }
   ],
   "source": [
    "np.log(2.7)"
   ]
  },
  {
   "cell_type": "code",
   "execution_count": 17,
   "metadata": {
    "collapsed": false
   },
   "outputs": [
    {
     "data": {
      "text/plain": [
       "2.0"
      ]
     },
     "execution_count": 17,
     "metadata": {},
     "output_type": "execute_result"
    }
   ],
   "source": [
    "np.sqrt(4)"
   ]
  },
  {
   "cell_type": "code",
   "execution_count": 20,
   "metadata": {
    "collapsed": false
   },
   "outputs": [
    {
     "data": {
      "text/plain": [
       "array([1, 4, 9])"
      ]
     },
     "execution_count": 20,
     "metadata": {},
     "output_type": "execute_result"
    }
   ],
   "source": [
    "tau = np.array([1,2,3])\n",
    "tau**2"
   ]
  },
  {
   "cell_type": "code",
   "execution_count": 21,
   "metadata": {
    "collapsed": false
   },
   "outputs": [
    {
     "name": "stdout",
     "output_type": "stream",
     "text": [
      "Help on function sum in module numpy.core.fromnumeric:\n",
      "\n",
      "sum(a, axis=None, dtype=None, out=None, keepdims=False)\n",
      "    Sum of array elements over a given axis.\n",
      "    \n",
      "    Parameters\n",
      "    ----------\n",
      "    a : array_like\n",
      "        Elements to sum.\n",
      "    axis : None or int or tuple of ints, optional\n",
      "        Axis or axes along which a sum is performed.  The default,\n",
      "        axis=None, will sum all of the elements of the input array.  If\n",
      "        axis is negative it counts from the last to the first axis.\n",
      "    \n",
      "        .. versionadded:: 1.7.0\n",
      "    \n",
      "        If axis is a tuple of ints, a sum is performed on all of the axes\n",
      "        specified in the tuple instead of a single axis or all the axes as\n",
      "        before.\n",
      "    dtype : dtype, optional\n",
      "        The type of the returned array and of the accumulator in which the\n",
      "        elements are summed.  The dtype of `a` is used by default unless `a`\n",
      "        has an integer dtype of less precision than the default platform\n",
      "        integer.  In that case, if `a` is signed then the platform integer\n",
      "        is used while if `a` is unsigned then an unsigned integer of the\n",
      "        same precision as the platform integer is used.\n",
      "    out : ndarray, optional\n",
      "        Alternative output array in which to place the result. It must have\n",
      "        the same shape as the expected output, but the type of the output\n",
      "        values will be cast if necessary.\n",
      "    keepdims : bool, optional\n",
      "        If this is set to True, the axes which are reduced are left in the\n",
      "        result as dimensions with size one. With this option, the result\n",
      "        will broadcast correctly against the input array.\n",
      "    \n",
      "    Returns\n",
      "    -------\n",
      "    sum_along_axis : ndarray\n",
      "        An array with the same shape as `a`, with the specified\n",
      "        axis removed.   If `a` is a 0-d array, or if `axis` is None, a scalar\n",
      "        is returned.  If an output array is specified, a reference to\n",
      "        `out` is returned.\n",
      "    \n",
      "    See Also\n",
      "    --------\n",
      "    ndarray.sum : Equivalent method.\n",
      "    \n",
      "    cumsum : Cumulative sum of array elements.\n",
      "    \n",
      "    trapz : Integration of array values using the composite trapezoidal rule.\n",
      "    \n",
      "    mean, average\n",
      "    \n",
      "    Notes\n",
      "    -----\n",
      "    Arithmetic is modular when using integer types, and no error is\n",
      "    raised on overflow.\n",
      "    \n",
      "    The sum of an empty array is the neutral element 0:\n",
      "    \n",
      "    >>> np.sum([])\n",
      "    0.0\n",
      "    \n",
      "    Examples\n",
      "    --------\n",
      "    >>> np.sum([0.5, 1.5])\n",
      "    2.0\n",
      "    >>> np.sum([0.5, 0.7, 0.2, 1.5], dtype=np.int32)\n",
      "    1\n",
      "    >>> np.sum([[0, 1], [0, 5]])\n",
      "    6\n",
      "    >>> np.sum([[0, 1], [0, 5]], axis=0)\n",
      "    array([0, 6])\n",
      "    >>> np.sum([[0, 1], [0, 5]], axis=1)\n",
      "    array([1, 5])\n",
      "    \n",
      "    If the accumulator is too small, overflow occurs:\n",
      "    \n",
      "    >>> np.ones(128, dtype=np.int8).sum(dtype=np.int8)\n",
      "    -128\n",
      "\n"
     ]
    }
   ],
   "source": [
    "help(np.sum)"
   ]
  },
  {
   "cell_type": "code",
   "execution_count": 24,
   "metadata": {
    "collapsed": false
   },
   "outputs": [],
   "source": [
    "cumtau = np.cumsum(np.array([1,2,3]))"
   ]
  },
  {
   "cell_type": "code",
   "execution_count": 26,
   "metadata": {
    "collapsed": false
   },
   "outputs": [
    {
     "data": {
      "text/plain": [
       "(array([1, 2]),)"
      ]
     },
     "execution_count": 26,
     "metadata": {},
     "output_type": "execute_result"
    }
   ],
   "source": [
    "np.where(cumtau > 1)"
   ]
  },
  {
   "cell_type": "code",
   "execution_count": 22,
   "metadata": {
    "collapsed": false
   },
   "outputs": [
    {
     "data": {
      "text/plain": [
       "(array([1, 2, 3]),)"
      ]
     },
     "execution_count": 22,
     "metadata": {},
     "output_type": "execute_result"
    }
   ],
   "source": [
    "wavelength = np.array([1,2,3,4,5])\n",
    "np.where((wavelength > 1) & (wavelength < 5))"
   ]
  },
  {
   "cell_type": "code",
   "execution_count": 82,
   "metadata": {
    "collapsed": false
   },
   "outputs": [
    {
     "name": "stdout",
     "output_type": "stream",
     "text": [
      "Using /Users/lwymarie/Desktop/IGMspec_DB_v02.hdf5 for the catalog file\n",
      "Using /Users/lwymarie/Desktop/IGMspec_DB_v02.hdf5 for the DB file\n",
      "Available surveys: [u'BOSS_DR12', u'HSTQSO', u'SDSS_DR7', u'KODIAQ_DR1', u'HD-LLS_DR1', u'2QZ', u'ESI_DLA', u'HDLA100', u'GGG', u'COS-Halos', u'HST_z2', u'COS-Dwarfs', u'XQ-100']\n",
      "Database is igmspec\n",
      "Created on 2016-Oct-10\n",
      "299.354234775 amin kpc / arcmin\n"
     ]
    }
   ],
   "source": [
    "from specdb.specdb import IgmSpec\n",
    "igmsp = IgmSpec()\n",
    "from astropy.cosmology import FlatLambdaCDM\n",
    "cosmo = FlatLambdaCDM(H0=70, Om0=0.26)\n",
    "kpc_amin = cosmo.kpc_proper_per_arcmin(1.7)\n",
    "print(0.57*u.amin*kpc_amin)"
   ]
  },
  {
   "cell_type": "code",
   "execution_count": 104,
   "metadata": {
    "collapsed": false
   },
   "outputs": [
    {
     "data": {
      "text/html": [
       "&lt;Column name=&apos;IGM_ID&apos; dtype=&apos;int64&apos; length=1829&gt;\n",
       "<table>\n",
       "<tr><td>96</td></tr>\n",
       "<tr><td>293</td></tr>\n",
       "<tr><td>434</td></tr>\n",
       "<tr><td>851</td></tr>\n",
       "<tr><td>1006</td></tr>\n",
       "<tr><td>1243</td></tr>\n",
       "<tr><td>1638</td></tr>\n",
       "<tr><td>2490</td></tr>\n",
       "<tr><td>2748</td></tr>\n",
       "<tr><td>2830</td></tr>\n",
       "<tr><td>2872</td></tr>\n",
       "<tr><td>2940</td></tr>\n",
       "<tr><td>...</td></tr>\n",
       "<tr><td>401307</td></tr>\n",
       "<tr><td>401332</td></tr>\n",
       "<tr><td>401360</td></tr>\n",
       "<tr><td>401378</td></tr>\n",
       "<tr><td>401449</td></tr>\n",
       "<tr><td>402197</td></tr>\n",
       "<tr><td>402479</td></tr>\n",
       "<tr><td>402704</td></tr>\n",
       "<tr><td>402775</td></tr>\n",
       "<tr><td>403017</td></tr>\n",
       "<tr><td>403075</td></tr>\n",
       "<tr><td>403083</td></tr>\n",
       "</table>"
      ],
      "text/plain": [
       "<Column name='IGM_ID' dtype='int64' length=1829>\n",
       "    96\n",
       "   293\n",
       "   434\n",
       "   851\n",
       "  1006\n",
       "  1243\n",
       "  1638\n",
       "  2490\n",
       "  2748\n",
       "  2830\n",
       "  2872\n",
       "  2940\n",
       "   ...\n",
       "401307\n",
       "401332\n",
       "401360\n",
       "401378\n",
       "401449\n",
       "402197\n",
       "402479\n",
       "402704\n",
       "402775\n",
       "403017\n",
       "403075\n",
       "403083"
      ]
     },
     "execution_count": 104,
     "metadata": {},
     "output_type": "execute_result"
    }
   ],
   "source": [
    "ID_fg, ID_bg = igmsp.pairs(0.57*u.arcmin, 3000.*u.km/u.s)\n",
    "#igmsp.show_cat(ID_fg)\n",
    "ID_fg"
   ]
  },
  {
   "cell_type": "code",
   "execution_count": 77,
   "metadata": {
    "collapsed": false
   },
   "outputs": [
    {
     "data": {
      "text/html": [
       "&lt;Column name=&apos;IGM_ID&apos; dtype=&apos;int64&apos; length=8454&gt;\n",
       "<table>\n",
       "<tr><td>23591</td></tr>\n",
       "<tr><td>25868</td></tr>\n",
       "<tr><td>25900</td></tr>\n",
       "<tr><td>26939</td></tr>\n",
       "<tr><td>32382</td></tr>\n",
       "<tr><td>36445</td></tr>\n",
       "<tr><td>48329</td></tr>\n",
       "<tr><td>56495</td></tr>\n",
       "<tr><td>59502</td></tr>\n",
       "<tr><td>118007</td></tr>\n",
       "<tr><td>143820</td></tr>\n",
       "<tr><td>145634</td></tr>\n",
       "<tr><td>...</td></tr>\n",
       "<tr><td>245458</td></tr>\n",
       "<tr><td>247069</td></tr>\n",
       "<tr><td>372101</td></tr>\n",
       "<tr><td>8844</td></tr>\n",
       "<tr><td>220830</td></tr>\n",
       "<tr><td>-9999</td></tr>\n",
       "<tr><td>-9999</td></tr>\n",
       "<tr><td>-9999</td></tr>\n",
       "<tr><td>-9999</td></tr>\n",
       "<tr><td>285367</td></tr>\n",
       "<tr><td>285370</td></tr>\n",
       "<tr><td>291728</td></tr>\n",
       "</table>"
      ],
      "text/plain": [
       "<Column name='IGM_ID' dtype='int64' length=8454>\n",
       " 23591\n",
       " 25868\n",
       " 25900\n",
       " 26939\n",
       " 32382\n",
       " 36445\n",
       " 48329\n",
       " 56495\n",
       " 59502\n",
       "118007\n",
       "143820\n",
       "145634\n",
       "   ...\n",
       "245458\n",
       "247069\n",
       "372101\n",
       "  8844\n",
       "220830\n",
       " -9999\n",
       " -9999\n",
       " -9999\n",
       " -9999\n",
       "285367\n",
       "285370\n",
       "291728"
      ]
     },
     "execution_count": 77,
     "metadata": {},
     "output_type": "execute_result"
    }
   ],
   "source": [
    "qpqsp.cat['IGM_ID']"
   ]
  },
  {
   "cell_type": "code",
   "execution_count": 86,
   "metadata": {
    "collapsed": false
   },
   "outputs": [
    {
     "name": "stdout",
     "output_type": "stream",
     "text": [
      "105\n",
      "291\n",
      "859\n",
      "1009\n",
      "1232\n",
      "1637\n",
      "2499\n",
      "2754\n",
      "2824\n",
      "2876\n",
      "2942\n",
      "3280\n",
      "3506\n",
      "3982\n",
      "302658\n",
      "5296\n",
      "5335\n",
      "5736\n",
      "6112\n",
      "6369\n",
      "6434\n",
      "6595\n",
      "6823\n",
      "6887\n",
      "7086\n",
      "7124\n",
      "7729\n",
      "303082\n",
      "9379\n",
      "9719\n",
      "10059\n",
      "10153\n",
      "10352\n",
      "10715\n",
      "11429\n",
      "11440\n",
      "11889\n",
      "11975\n",
      "12158\n",
      "12351\n",
      "13030\n",
      "13130\n",
      "13141\n",
      "13744\n",
      "14790\n",
      "14823\n",
      "15040\n",
      "15621\n",
      "15859\n",
      "16081\n",
      "16267\n",
      "17003\n",
      "17088\n",
      "17434\n",
      "17722\n",
      "18059\n",
      "18090\n",
      "18110\n",
      "18138\n",
      "18260\n",
      "18407\n",
      "19106\n",
      "304556\n",
      "20605\n",
      "20691\n",
      "21648\n",
      "22139\n",
      "305046\n",
      "22974\n",
      "24152\n",
      "24414\n",
      "24447\n",
      "24483\n",
      "25545\n",
      "25549\n",
      "26020\n",
      "26070\n",
      "26679\n",
      "26934\n",
      "27010\n",
      "27050\n",
      "27478\n",
      "27598\n",
      "29209\n",
      "29561\n",
      "306228\n",
      "31347\n",
      "306406\n",
      "306465\n",
      "32623\n",
      "33100\n",
      "33604\n",
      "33859\n",
      "33879\n",
      "306873\n",
      "34014\n",
      "34296\n",
      "34364\n",
      "34578\n",
      "35044\n",
      "35082\n",
      "35123\n",
      "35190\n",
      "35299\n",
      "35387\n",
      "35415\n",
      "35621\n",
      "307091\n",
      "35882\n",
      "35919\n",
      "35923\n",
      "35979\n",
      "36116\n",
      "36224\n",
      "36221\n",
      "36284\n",
      "36320\n",
      "36352\n",
      "36422\n",
      "36451\n",
      "36467\n",
      "36580\n",
      "36638\n",
      "36693\n",
      "36696\n",
      "36700\n",
      "36742\n",
      "36915\n",
      "36955\n",
      "37056\n",
      "37138\n",
      "37320\n",
      "37569\n",
      "37600\n",
      "37924\n",
      "38107\n",
      "38187\n",
      "38476\n",
      "38614\n",
      "38668\n",
      "38934\n",
      "38980\n",
      "39051\n",
      "39180\n",
      "39237\n",
      "39363\n",
      "39382\n",
      "39438\n",
      "39570\n",
      "39643\n",
      "41284\n",
      "310245\n",
      "43131\n",
      "310899\n",
      "44369\n",
      "311581\n",
      "45468\n",
      "45668\n",
      "46914\n",
      "312346\n",
      "47364\n",
      "47677\n",
      "312561\n",
      "48063\n",
      "48180\n",
      "48241\n",
      "48490\n",
      "49134\n",
      "49525\n",
      "49590\n",
      "49859\n",
      "49950\n",
      "50295\n",
      "50366\n",
      "50880\n",
      "50894\n",
      "51166\n",
      "313784\n",
      "52040\n",
      "314019\n",
      "52752\n",
      "52879\n",
      "53126\n",
      "53178\n",
      "53511\n",
      "53573\n",
      "54068\n",
      "54097\n",
      "54405\n",
      "54727\n",
      "55016\n",
      "55238\n",
      "314775\n",
      "55627\n",
      "55826\n",
      "56132\n",
      "56410\n",
      "315275\n",
      "57142\n",
      "57263\n",
      "57548\n",
      "57980\n",
      "315659\n",
      "58584\n",
      "58728\n",
      "58743\n",
      "59229\n",
      "59636\n",
      "59798\n",
      "316285\n",
      "60290\n",
      "60342\n",
      "61008\n",
      "61036\n",
      "61706\n",
      "62097\n",
      "62245\n",
      "62303\n",
      "62432\n",
      "62536\n",
      "62602\n",
      "317309\n",
      "62833\n",
      "62911\n",
      "317427\n",
      "63367\n",
      "63475\n",
      "63664\n",
      "63959\n",
      "64019\n",
      "64099\n",
      "64571\n",
      "317968\n",
      "64954\n",
      "65427\n",
      "65651\n",
      "65706\n",
      "65769\n",
      "66103\n",
      "66320\n",
      "66394\n",
      "66625\n",
      "66761\n",
      "66786\n",
      "66797\n",
      "67011\n",
      "67168\n",
      "67294\n",
      "318752\n",
      "67412\n",
      "67452\n",
      "67489\n",
      "67568\n",
      "67831\n",
      "67832\n",
      "67883\n",
      "68746\n",
      "68822\n",
      "68863\n",
      "68924\n",
      "68980\n",
      "69014\n",
      "319401\n",
      "69444\n",
      "69535\n",
      "69533\n",
      "319466\n",
      "70084\n",
      "70104\n",
      "70646\n",
      "71207\n",
      "71287\n",
      "71366\n",
      "71394\n",
      "72095\n",
      "72419\n",
      "320512\n",
      "73612\n",
      "73952\n",
      "321033\n",
      "74338\n",
      "74647\n",
      "74716\n",
      "74801\n",
      "75448\n",
      "75600\n",
      "75693\n",
      "321666\n",
      "76246\n",
      "76593\n",
      "76660\n",
      "76796\n",
      "76971\n",
      "77923\n",
      "77979\n",
      "78444\n",
      "78549\n",
      "78558\n",
      "78726\n",
      "322742\n",
      "79308\n",
      "79364\n",
      "79400\n",
      "79667\n",
      "79817\n",
      "79923\n",
      "80205\n",
      "80666\n",
      "323512\n",
      "82095\n",
      "82275\n",
      "323947\n",
      "82623\n",
      "82677\n",
      "82960\n",
      "83071\n",
      "84074\n",
      "84138\n",
      "84295\n",
      "84477\n",
      "84574\n",
      "85687\n",
      "85739\n",
      "85709\n",
      "86106\n",
      "86181\n",
      "86256\n",
      "86323\n",
      "86368\n",
      "325459\n",
      "87077\n",
      "87448\n",
      "87433\n",
      "87516\n",
      "325680\n",
      "325717\n",
      "87738\n",
      "87952\n",
      "87999\n",
      "88355\n",
      "88511\n",
      "326051\n",
      "89068\n",
      "89321\n",
      "326311\n",
      "326351\n",
      "90018\n",
      "90253\n",
      "90515\n",
      "91150\n",
      "91210\n",
      "91382\n",
      "91539\n",
      "91915\n",
      "92136\n",
      "92271\n",
      "92301\n",
      "92433\n",
      "92926\n",
      "93128\n",
      "93203\n",
      "93248\n",
      "93260\n",
      "93535\n",
      "93525\n",
      "93685\n",
      "327547\n",
      "94478\n",
      "327769\n",
      "94827\n",
      "94885\n",
      "95207\n",
      "95233\n",
      "95455\n",
      "95673\n",
      "95953\n",
      "96130\n",
      "328486\n",
      "328526\n",
      "96813\n",
      "96972\n",
      "97051\n",
      "328731\n",
      "328732\n",
      "97356\n",
      "97546\n",
      "98084\n",
      "98673\n",
      "98770\n",
      "98875\n",
      "99074\n",
      "99202\n",
      "100012\n",
      "100135\n",
      "100163\n",
      "100485\n",
      "100684\n",
      "101307\n",
      "329910\n",
      "101477\n",
      "101655\n",
      "101710\n",
      "101788\n",
      "102004\n",
      "102680\n",
      "102737\n",
      "102946\n",
      "103004\n",
      "103135\n",
      "103421\n",
      "103521\n",
      "330479\n",
      "104178\n",
      "104335\n",
      "104414\n",
      "104486\n",
      "105078\n",
      "106088\n",
      "331128\n",
      "106166\n",
      "106417\n",
      "106852\n",
      "331678\n",
      "108546\n",
      "108659\n",
      "109078\n",
      "109703\n",
      "109805\n",
      "332222\n",
      "110832\n",
      "110901\n",
      "110978\n",
      "112061\n",
      "112624\n",
      "332815\n",
      "112947\n",
      "113278\n",
      "332972\n",
      "113556\n",
      "114084\n",
      "114381\n",
      "114624\n",
      "115070\n",
      "115284\n",
      "115892\n",
      "116085\n",
      "333728\n",
      "116201\n",
      "333762\n",
      "116827\n",
      "117227\n",
      "117704\n",
      "334224\n",
      "118732\n",
      "118760\n",
      "118897\n",
      "119097\n",
      "119375\n",
      "119839\n",
      "120734\n",
      "120778\n",
      "335067\n",
      "121322\n",
      "335248\n",
      "121545\n",
      "122341\n",
      "335666\n",
      "122948\n",
      "123530\n",
      "123638\n",
      "123776\n",
      "124172\n",
      "124380\n",
      "124628\n",
      "125029\n",
      "125376\n",
      "125371\n",
      "125690\n",
      "125783\n",
      "336409\n",
      "126237\n",
      "336481\n",
      "126493\n",
      "126969\n",
      "336632\n",
      "392302\n",
      "336705\n",
      "127475\n",
      "127747\n",
      "127852\n",
      "127965\n",
      "128175\n",
      "128168\n",
      "128282\n",
      "336965\n",
      "128520\n",
      "129011\n",
      "129211\n",
      "129523\n",
      "130136\n",
      "130599\n",
      "130663\n",
      "337723\n",
      "131664\n",
      "131986\n",
      "132886\n",
      "133099\n",
      "338253\n",
      "133647\n",
      "133681\n",
      "338524\n",
      "134831\n",
      "135359\n",
      "135389\n",
      "135465\n",
      "135572\n",
      "136692\n",
      "136760\n",
      "136764\n",
      "137113\n",
      "137218\n",
      "137377\n",
      "137663\n",
      "137642\n",
      "137941\n",
      "137975\n",
      "138200\n",
      "138327\n",
      "138372\n",
      "138986\n",
      "139399\n",
      "339958\n",
      "140173\n",
      "140611\n",
      "140663\n",
      "141378\n",
      "141454\n",
      "340476\n",
      "141578\n",
      "142832\n",
      "142986\n",
      "143076\n",
      "143461\n",
      "143666\n",
      "143889\n",
      "144172\n",
      "144219\n",
      "144343\n",
      "144557\n",
      "144975\n",
      "145242\n",
      "145343\n",
      "145451\n",
      "145514\n",
      "145635\n",
      "146051\n",
      "146837\n",
      "146868\n",
      "147322\n",
      "147469\n",
      "147789\n",
      "147853\n",
      "148102\n",
      "148511\n",
      "149629\n",
      "342693\n",
      "149920\n",
      "342757\n",
      "150107\n",
      "150498\n",
      "151395\n",
      "151584\n",
      "151718\n",
      "152326\n",
      "343678\n",
      "153652\n",
      "154562\n",
      "154748\n",
      "154846\n",
      "155353\n",
      "155534\n",
      "156257\n",
      "344375\n",
      "156522\n",
      "157928\n",
      "158274\n",
      "158463\n",
      "158727\n",
      "345122\n",
      "159216\n",
      "345163\n",
      "159633\n",
      "159677\n",
      "159675\n",
      "159843\n",
      "160084\n",
      "160141\n",
      "160447\n",
      "160693\n",
      "161016\n",
      "161139\n",
      "162925\n",
      "163153\n",
      "163753\n",
      "163738\n",
      "346422\n",
      "163875\n",
      "164133\n",
      "164169\n",
      "346588\n",
      "346744\n",
      "165496\n",
      "165616\n",
      "165723\n",
      "166349\n",
      "347178\n",
      "166771\n",
      "168108\n",
      "168156\n",
      "168303\n",
      "347827\n",
      "168779\n",
      "168997\n",
      "169397\n",
      "170015\n",
      "348333\n",
      "170573\n",
      "170595\n",
      "171390\n",
      "171730\n",
      "171860\n",
      "171973\n",
      "172047\n",
      "173020\n",
      "173156\n",
      "349093\n",
      "173564\n",
      "173717\n",
      "173717\n",
      "349246\n",
      "174453\n",
      "174513\n",
      "174516\n",
      "174904\n",
      "349614\n",
      "175613\n",
      "176321\n",
      "176362\n",
      "176636\n",
      "177100\n",
      "177970\n",
      "178411\n",
      "179170\n",
      "179227\n",
      "179710\n",
      "180132\n",
      "180388\n",
      "350996\n",
      "180637\n",
      "180748\n",
      "181371\n",
      "181493\n",
      "181623\n",
      "182446\n",
      "182710\n",
      "182799\n",
      "182916\n",
      "351673\n",
      "351675\n",
      "183402\n",
      "183484\n",
      "352030\n",
      "184857\n",
      "185215\n",
      "185412\n",
      "185536\n",
      "185779\n",
      "185868\n",
      "186219\n",
      "186326\n",
      "186886\n",
      "187163\n",
      "187211\n",
      "187388\n",
      "187635\n",
      "187837\n",
      "187886\n",
      "187927\n",
      "352899\n",
      "188427\n",
      "188809\n",
      "188890\n",
      "189075\n",
      "189251\n",
      "189803\n",
      "189938\n",
      "189999\n",
      "353370\n",
      "190479\n",
      "190557\n",
      "190653\n",
      "353492\n",
      "190734\n",
      "353511\n",
      "191872\n",
      "396083\n",
      "191921\n",
      "192369\n",
      "192512\n",
      "192540\n",
      "192596\n",
      "192734\n",
      "192905\n",
      "193096\n",
      "193558\n",
      "194994\n",
      "195240\n",
      "195487\n",
      "196211\n",
      "197145\n",
      "197871\n",
      "198459\n",
      "199085\n",
      "199257\n",
      "199280\n",
      "199272\n",
      "355754\n",
      "199870\n",
      "200598\n",
      "200656\n",
      "200718\n",
      "201054\n",
      "356221\n",
      "201204\n",
      "201240\n",
      "201569\n",
      "201903\n",
      "202627\n",
      "203313\n",
      "203415\n",
      "356895\n",
      "204058\n",
      "204150\n",
      "204156\n",
      "357002\n",
      "204712\n",
      "357371\n",
      "357591\n",
      "357594\n",
      "206521\n",
      "207018\n",
      "358016\n",
      "207854\n",
      "208955\n",
      "209277\n",
      "209410\n",
      "209458\n",
      "209610\n",
      "209627\n",
      "358546\n",
      "210025\n",
      "358600\n",
      "210366\n",
      "210645\n",
      "358820\n",
      "211048\n",
      "211157\n",
      "211238\n",
      "211810\n",
      "212722\n",
      "212780\n",
      "359344\n",
      "213254\n",
      "213455\n",
      "213533\n",
      "213664\n",
      "213712\n",
      "213827\n",
      "214165\n",
      "214229\n",
      "214262\n",
      "214402\n",
      "214468\n",
      "214532\n",
      "215088\n",
      "215350\n",
      "215399\n",
      "215452\n",
      "215583\n",
      "215925\n",
      "216044\n",
      "216032\n",
      "216075\n",
      "216768\n",
      "216828\n",
      "216925\n",
      "217168\n",
      "217306\n",
      "217321\n",
      "217489\n",
      "217853\n",
      "217916\n",
      "218573\n",
      "218565\n",
      "218601\n",
      "218940\n",
      "219119\n",
      "219278\n",
      "219495\n",
      "360994\n",
      "361386\n",
      "221335\n",
      "361516\n",
      "221790\n",
      "221816\n",
      "221879\n",
      "222214\n",
      "223346\n",
      "224202\n",
      "362291\n",
      "224336\n",
      "227510\n",
      "363438\n",
      "227803\n",
      "228320\n",
      "363801\n",
      "229456\n",
      "229558\n",
      "229594\n",
      "364847\n",
      "232202\n",
      "364921\n",
      "232378\n",
      "365125\n",
      "233082\n",
      "233458\n",
      "233936\n",
      "233981\n",
      "365495\n",
      "234262\n",
      "234464\n",
      "234736\n",
      "235443\n",
      "366548\n",
      "237745\n",
      "366835\n",
      "239244\n",
      "367240\n",
      "239650\n",
      "367847\n",
      "368320\n",
      "243131\n",
      "243140\n",
      "368486\n",
      "243976\n",
      "244315\n",
      "244742\n",
      "245478\n",
      "245688\n",
      "246461\n",
      "246763\n",
      "246835\n",
      "247005\n",
      "247940\n",
      "249226\n",
      "249306\n",
      "250923\n",
      "252191\n",
      "252584\n",
      "253453\n",
      "253761\n",
      "254278\n",
      "372249\n",
      "257205\n",
      "373392\n",
      "257948\n",
      "373959\n",
      "260952\n",
      "263618\n",
      "263667\n",
      "264096\n",
      "266518\n",
      "376713\n",
      "267955\n",
      "268342\n",
      "268463\n",
      "268657\n",
      "269377\n",
      "269406\n",
      "270148\n",
      "270234\n",
      "270274\n",
      "270357\n",
      "271042\n",
      "271231\n",
      "271259\n",
      "271412\n",
      "271492\n",
      "271780\n",
      "378975\n",
      "379005\n",
      "272439\n",
      "272770\n",
      "274859\n",
      "275337\n",
      "275415\n",
      "276133\n",
      "276410\n",
      "276473\n",
      "277032\n",
      "277377\n",
      "277979\n",
      "278486\n",
      "278543\n",
      "279017\n",
      "279107\n",
      "280301\n",
      "281342\n",
      "281410\n",
      "282280\n",
      "380529\n",
      "282553\n",
      "282792\n",
      "282824\n",
      "282846\n",
      "283644\n",
      "283727\n",
      "284673\n",
      "285553\n",
      "285670\n",
      "285795\n",
      "285990\n",
      "286132\n",
      "286341\n",
      "286816\n",
      "286835\n",
      "287030\n",
      "287216\n",
      "287643\n",
      "287821\n",
      "289270\n",
      "289287\n",
      "289430\n",
      "289624\n",
      "289754\n",
      "289784\n",
      "289801\n",
      "290834\n",
      "290926\n",
      "290984\n",
      "291220\n",
      "291250\n",
      "381689\n",
      "381693\n",
      "291466\n",
      "291629\n",
      "291858\n",
      "291971\n",
      "292065\n",
      "292195\n",
      "292575\n",
      "293180\n",
      "293287\n",
      "294009\n",
      "294876\n",
      "295098\n",
      "295337\n",
      "295455\n",
      "295809\n",
      "296323\n",
      "296357\n",
      "296426\n",
      "296789\n",
      "296975\n",
      "297059\n",
      "297083\n",
      "297133\n",
      "1469\n",
      "11029\n",
      "303512\n",
      "303834\n",
      "304256\n",
      "304505\n",
      "19906\n",
      "305269\n",
      "24230\n",
      "24245\n",
      "25291\n",
      "305729\n",
      "32920\n",
      "33997\n",
      "306955\n",
      "35486\n",
      "36100\n",
      "36625\n",
      "37182\n",
      "37973\n",
      "38554\n",
      "52222\n",
      "72542\n",
      "101073\n",
      "329945\n",
      "113621\n",
      "391934\n",
      "337029\n",
      "337210\n",
      "341358\n",
      "158227\n",
      "347295\n",
      "395040\n",
      "352748\n",
      "212322\n",
      "215538\n",
      "216019\n",
      "218439\n",
      "366773\n",
      "254651\n",
      "375360\n",
      "268717\n",
      "379512\n",
      "282665\n",
      "286756\n",
      "381754\n",
      "424\n",
      "302495\n",
      "302495\n",
      "302640\n",
      "4931\n",
      "6131\n",
      "302913\n",
      "6920\n",
      "303032\n",
      "7390\n",
      "8223\n",
      "8549\n",
      "9427\n",
      "10818\n",
      "11390\n",
      "11448\n",
      "11716\n",
      "11950\n",
      "13083\n",
      "15221\n",
      "15496\n",
      "304104\n",
      "16926\n",
      "17048\n",
      "17653\n",
      "304443\n",
      "18726\n",
      "19539\n",
      "21402\n",
      "21703\n",
      "23292\n",
      "23877\n",
      "24290\n",
      "305380\n",
      "305415\n",
      "25364\n",
      "305750\n",
      "305821\n",
      "305821\n",
      "27871\n",
      "305945\n",
      "28782\n",
      "306020\n",
      "306048\n",
      "29311\n",
      "29512\n",
      "31829\n",
      "33384\n",
      "33641\n",
      "306939\n",
      "34715\n",
      "35240\n",
      "36283\n",
      "38828\n",
      "38841\n",
      "40367\n",
      "40545\n",
      "307763\n",
      "308896\n",
      "308994\n",
      "309037\n",
      "309145\n",
      "41480\n",
      "42318\n",
      "43673\n",
      "44688\n",
      "45085\n",
      "45718\n",
      "47736\n",
      "47793\n",
      "312706\n",
      "48414\n",
      "48485\n",
      "48922\n",
      "49712\n",
      "50607\n",
      "51414\n",
      "51449\n",
      "313735\n",
      "51677\n",
      "51920\n",
      "52187\n",
      "52738\n",
      "53554\n",
      "55327\n",
      "55554\n",
      "55684\n",
      "56109\n",
      "315038\n",
      "57650\n",
      "315444\n",
      "58278\n",
      "58311\n",
      "58770\n",
      "58881\n",
      "60280\n",
      "60336\n",
      "60442\n",
      "60930\n",
      "60917\n",
      "61022\n",
      "61680\n",
      "61852\n",
      "62036\n",
      "62104\n",
      "62199\n",
      "62469\n",
      "63200\n",
      "63668\n",
      "63901\n",
      "63962\n",
      "64080\n",
      "317991\n",
      "65043\n",
      "318189\n",
      "67288\n",
      "68398\n",
      "68833\n",
      "68900\n",
      "319450\n",
      "69671\n",
      "71035\n",
      "71139\n",
      "71482\n",
      "71624\n",
      "320155\n",
      "72587\n",
      "72813\n",
      "320541\n",
      "73103\n",
      "73371\n",
      "73420\n",
      "73798\n",
      "74432\n",
      "74459\n",
      "74482\n",
      "74624\n",
      "74823\n",
      "74854\n",
      "74940\n",
      "74968\n",
      "75089\n",
      "75301\n",
      "75527\n",
      "76113\n",
      "76424\n",
      "322406\n",
      "78287\n",
      "78970\n",
      "79134\n",
      "80443\n",
      "80549\n",
      "80720\n",
      "81776\n",
      "81826\n",
      "82121\n",
      "82742\n",
      "82933\n",
      "83063\n",
      "83362\n",
      "83533\n",
      "83727\n",
      "83738\n",
      "84426\n",
      "84638\n",
      "84731\n",
      "85986\n",
      "86021\n",
      "86461\n",
      "86979\n",
      "87102\n",
      "87140\n",
      "87664\n",
      "87999\n",
      "88313\n",
      "88357\n",
      "88401\n",
      "326528\n",
      "90712\n",
      "91898\n",
      "91907\n",
      "93115\n",
      "94215\n",
      "94465\n",
      "94492\n",
      "327854\n",
      "95036\n",
      "95240\n",
      "95577\n",
      "95723\n",
      "95860\n",
      "96841\n",
      "97693\n",
      "98450\n",
      "98518\n",
      "98750\n",
      "99709\n",
      "99755\n",
      "99842\n",
      "100655\n",
      "100674\n",
      "100670\n",
      "101479\n",
      "101509\n",
      "102182\n",
      "102317\n",
      "102827\n",
      "330439\n",
      "103784\n",
      "103944\n",
      "104127\n",
      "105088\n",
      "105081\n",
      "105742\n",
      "106182\n",
      "106813\n",
      "107008\n",
      "107118\n",
      "107278\n",
      "107378\n",
      "107554\n",
      "108924\n",
      "111305\n",
      "112155\n",
      "112576\n",
      "113040\n",
      "113303\n",
      "114549\n",
      "115088\n",
      "115522\n",
      "115631\n",
      "115743\n",
      "116086\n",
      "116838\n",
      "116869\n",
      "116913\n",
      "116956\n",
      "117326\n",
      "117421\n",
      "118040\n",
      "119412\n",
      "119551\n",
      "119675\n",
      "120453\n",
      "120766\n",
      "122027\n",
      "122379\n",
      "122457\n",
      "122591\n",
      "123707\n",
      "123762\n",
      "123965\n",
      "123988\n",
      "392209\n",
      "392221\n",
      "126059\n",
      "127119\n",
      "127255\n",
      "127300\n",
      "128148\n",
      "129648\n",
      "129702\n",
      "130022\n",
      "130038\n",
      "130189\n",
      "130600\n",
      "337695\n",
      "131267\n",
      "132974\n",
      "133718\n",
      "135816\n",
      "338897\n",
      "136665\n",
      "137209\n",
      "137347\n",
      "137996\n",
      "138067\n",
      "138269\n",
      "138476\n",
      "138897\n",
      "139096\n",
      "140352\n",
      "141263\n",
      "141339\n",
      "141412\n",
      "142077\n",
      "142178\n",
      "142865\n",
      "143250\n",
      "143744\n",
      "143786\n",
      "145162\n",
      "146075\n",
      "146473\n",
      "147739\n",
      "147897\n",
      "147922\n",
      "147989\n",
      "148563\n",
      "393488\n",
      "148913\n",
      "150123\n",
      "150521\n",
      "150669\n",
      "152033\n",
      "152778\n",
      "153128\n",
      "153225\n",
      "153502\n",
      "153897\n",
      "343832\n",
      "154332\n",
      "154979\n",
      "155260\n",
      "156817\n",
      "157539\n",
      "344845\n",
      "158137\n",
      "158699\n",
      "158728\n",
      "158841\n",
      "158968\n",
      "159097\n",
      "159133\n",
      "159335\n",
      "160249\n",
      "161292\n",
      "163245\n",
      "163292\n",
      "164218\n",
      "164477\n",
      "164965\n",
      "166096\n",
      "167031\n",
      "167687\n",
      "167741\n",
      "169172\n",
      "169762\n",
      "348178\n",
      "169976\n",
      "170478\n",
      "171038\n",
      "171109\n",
      "171201\n",
      "171264\n",
      "171850\n",
      "171912\n",
      "171999\n",
      "172099\n",
      "172183\n",
      "172199\n",
      "172231\n",
      "172390\n",
      "172459\n",
      "172982\n",
      "173262\n",
      "173339\n",
      "173442\n",
      "173565\n",
      "173799\n",
      "174111\n",
      "174448\n",
      "174462\n",
      "349484\n",
      "349550\n",
      "175695\n",
      "176072\n",
      "176082\n",
      "176306\n",
      "176381\n",
      "177285\n",
      "395294\n",
      "179044\n",
      "350796\n",
      "182074\n",
      "182420\n",
      "183122\n",
      "183535\n",
      "183860\n",
      "184089\n",
      "185383\n",
      "185780\n",
      "186429\n",
      "187090\n",
      "187619\n",
      "188144\n",
      "382647\n",
      "189403\n",
      "189882\n",
      "191221\n",
      "191617\n",
      "192222\n",
      "192425\n",
      "193391\n",
      "193524\n",
      "195331\n",
      "196888\n",
      "197021\n",
      "355295\n",
      "197847\n",
      "199619\n",
      "199761\n",
      "199824\n",
      "200098\n",
      "200571\n",
      "200620\n",
      "201246\n",
      "203312\n",
      "204235\n",
      "205437\n",
      "206366\n",
      "206757\n",
      "206874\n",
      "358200\n",
      "208984\n",
      "210395\n",
      "210653\n",
      "212035\n",
      "397135\n",
      "213179\n",
      "213500\n",
      "213660\n",
      "214389\n",
      "215083\n",
      "215519\n",
      "215763\n",
      "215766\n",
      "215888\n",
      "216621\n",
      "218539\n",
      "220626\n",
      "221888\n",
      "361760\n",
      "222833\n",
      "223310\n",
      "362098\n",
      "223714\n",
      "224938\n",
      "225330\n",
      "225807\n",
      "226376\n",
      "226541\n",
      "226940\n",
      "363172\n",
      "227041\n",
      "227973\n",
      "228198\n",
      "228738\n",
      "228820\n",
      "228992\n",
      "229732\n",
      "229989\n",
      "230040\n",
      "230731\n",
      "232867\n",
      "232943\n",
      "233299\n",
      "233394\n",
      "234272\n",
      "234993\n",
      "235174\n",
      "235589\n",
      "236151\n",
      "236269\n",
      "236484\n",
      "236961\n",
      "237408\n",
      "237747\n",
      "367040\n",
      "240725\n",
      "367944\n",
      "241623\n",
      "241714\n",
      "241844\n",
      "242438\n",
      "243050\n",
      "243387\n",
      "244744\n",
      "245077\n",
      "245322\n",
      "246649\n",
      "247155\n",
      "247758\n",
      "247906\n",
      "248255\n",
      "249170\n",
      "249986\n",
      "250310\n",
      "250969\n",
      "251232\n",
      "251983\n",
      "252305\n",
      "252839\n",
      "252916\n",
      "254718\n",
      "255811\n",
      "256335\n",
      "373092\n",
      "256863\n",
      "257116\n",
      "257740\n",
      "257813\n",
      "257821\n",
      "258293\n",
      "258365\n",
      "258411\n",
      "258687\n",
      "259194\n",
      "259771\n",
      "259793\n",
      "259924\n",
      "260669\n",
      "261524\n",
      "374978\n",
      "375057\n",
      "262254\n",
      "262702\n",
      "262935\n",
      "263686\n",
      "263888\n",
      "264543\n",
      "264698\n",
      "264854\n",
      "265131\n",
      "377059\n",
      "377817\n",
      "378058\n",
      "268400\n",
      "268514\n",
      "269960\n",
      "270723\n",
      "271503\n",
      "272314\n",
      "272467\n",
      "273050\n",
      "273717\n",
      "379303\n",
      "275534\n",
      "277031\n",
      "277102\n",
      "277099\n",
      "281244\n",
      "282483\n",
      "380599\n",
      "284065\n",
      "380824\n",
      "285669\n",
      "285903\n",
      "286332\n",
      "288274\n",
      "288504\n",
      "381345\n",
      "381594\n",
      "292306\n",
      "294008\n",
      "295108\n",
      "295325\n",
      "295638\n",
      "297036\n",
      "382393\n",
      "382834\n",
      "382904\n",
      "384109\n",
      "384257\n",
      "384270\n",
      "384348\n",
      "384518\n",
      "384534\n",
      "384966\n",
      "385198\n",
      "385403\n",
      "382479\n",
      "385603\n",
      "386468\n",
      "386566\n",
      "386622\n",
      "387008\n",
      "387014\n",
      "387159\n",
      "388239\n",
      "388241\n",
      "388728\n",
      "389559\n",
      "389627\n",
      "389938\n",
      "390248\n",
      "327982\n",
      "390945\n",
      "390985\n",
      "391070\n",
      "107149\n",
      "331642\n",
      "391352\n",
      "113203\n",
      "115614\n",
      "116794\n",
      "391767\n",
      "391901\n",
      "392149\n",
      "125633\n",
      "392257\n",
      "392318\n",
      "392415\n",
      "130311\n",
      "392545\n",
      "133058\n",
      "339333\n",
      "140780\n",
      "141165\n",
      "143272\n",
      "341327\n",
      "144929\n",
      "147613\n",
      "150244\n",
      "393606\n",
      "161095\n",
      "173131\n",
      "175758\n",
      "176486\n",
      "177928\n",
      "395682\n",
      "186745\n",
      "194739\n",
      "196948\n",
      "355219\n",
      "197591\n",
      "356480\n",
      "203956\n",
      "205196\n",
      "206212\n",
      "208934\n",
      "397335\n",
      "221660\n",
      "222186\n",
      "397736\n",
      "397933\n",
      "398239\n",
      "398977\n",
      "399264\n",
      "399423\n",
      "399532\n",
      "399671\n",
      "399800\n",
      "400291\n",
      "400487\n",
      "400680\n",
      "400988\n",
      "401311\n",
      "401330\n",
      "401358\n",
      "401381\n",
      "401446\n",
      "402196\n",
      "402478\n",
      "402703\n",
      "402773\n",
      "403016\n",
      "403076\n",
      "403081\n",
      "1682\n"
     ]
    }
   ],
   "source": [
    "counter = 0\n",
    "for ii in ID_bg:\n",
    "    if ii not in qpqsp.cat['IGM_ID']:\n",
    "        print(ii)\n",
    "        counter += 1\n",
    "print(counter)"
   ]
  },
  {
   "cell_type": "code",
   "execution_count": 87,
   "metadata": {
    "collapsed": false
   },
   "outputs": [
    {
     "name": "stdout",
     "output_type": "stream",
     "text": [
      "IGM_ID    RA      DEC     zem   flag_survey sig_zem flag_zem STYPE PRIV_ID\n",
      "------ -------- -------- ------ ----------- ------- -------- ----- -------\n",
      "   438   0.3685   8.6760  3.728           1   0.000 BOSS_PCA   QSO    5431\n",
      "   438   0.3685   8.6760  3.728           1   0.000 BOSS_PCA   QSO    7738\n",
      "----------\n",
      "Survey key:\n",
      "    BOSS: 1\n",
      "    ESI: 2\n",
      "    GMOS: 4\n",
      "    HIRES: 16\n",
      "    LRIS: 128\n",
      "    MAGE: 256\n",
      "    MIKE: 512\n",
      "    MMT: 1024\n",
      "    MODS: 2048\n",
      "    SDSS: 32768\n",
      "    XSHOOTER: 131072\n"
     ]
    }
   ],
   "source": [
    "qpqsp.show_cat(438)"
   ]
  },
  {
   "cell_type": "code",
   "execution_count": 91,
   "metadata": {
    "collapsed": false
   },
   "outputs": [
    {
     "data": {
      "text/html": [
       "&lt;Row index=5431&gt;\n",
       "<table id=\"table4475095824\">\n",
       "<thead><tr><th>sig_zem</th><th>flag_zem</th><th>flag_survey</th><th>zem</th><th>RA</th><th>DEC</th><th>IGM_ID</th><th>STYPE</th><th>PRIV_ID</th></tr></thead>\n",
       "<thead><tr><th>float64</th><th>str9</th><th>int64</th><th>float64</th><th>float64</th><th>float64</th><th>int64</th><th>str3</th><th>int64</th></tr></thead>\n",
       "<tr><td>0.000</td><td>BOSS_PCA</td><td>1</td><td>3.728</td><td>0.3685</td><td>8.6760</td><td>438</td><td>QSO</td><td>5431</td></tr>\n",
       "</table>"
      ],
      "text/plain": [
       "<Row index=5431>\n",
       "sig_zem flag_zem flag_survey   zem      RA      DEC    IGM_ID STYPE PRIV_ID\n",
       "float64   str9      int64    float64 float64  float64  int64   str3  int64 \n",
       "------- -------- ----------- ------- -------- -------- ------ ----- -------\n",
       "  0.000 BOSS_PCA           1   3.728   0.3685   8.6760    438   QSO    5431"
      ]
     },
     "execution_count": 91,
     "metadata": {},
     "output_type": "execute_result"
    }
   ],
   "source": [
    "qpqsp.cat[5431]"
   ]
  },
  {
   "cell_type": "code",
   "execution_count": 203,
   "metadata": {
    "collapsed": false
   },
   "outputs": [
    {
     "name": "stdout",
     "output_type": "stream",
     "text": [
      "Your search yielded 1 match[es]\n",
      "Staged 0 spectra totalling 0 Gb\n",
      "No spectra matching in survey BOSS\n",
      "Staged 0 spectra totalling 0 Gb\n",
      "No spectra matching in survey ESI\n",
      "Staged 0 spectra totalling 0 Gb\n",
      "No spectra matching in survey GMOS\n",
      "Staged 0 spectra totalling 0 Gb\n",
      "No spectra matching in survey HIRES\n",
      "Staged 1 spectra totalling 8.4e-05 Gb\n",
      "Loaded spectra\n",
      "Staged 0 spectra totalling 0 Gb\n",
      "No spectra matching in survey MAGE\n",
      "Staged 0 spectra totalling 0 Gb\n",
      "No spectra matching in survey MIKE\n",
      "Staged 0 spectra totalling 0 Gb\n",
      "No spectra matching in survey MMT\n",
      "Staged 0 spectra totalling 0 Gb\n",
      "No spectra matching in survey MODS\n",
      "Staged 0 spectra totalling 0 Gb\n",
      "No spectra matching in survey SDSS\n",
      "Staged 0 spectra totalling 0 Gb\n",
      "No spectra matching in survey XSHOOTER\n"
     ]
    },
    {
     "data": {
      "text/plain": [
       "[<Table length=1>\n",
       " sig_zem flag_zem flag_survey   zem   ... INSTR TELESCOPE SURVEY_ID\n",
       " float64   str9      int64    float64 ...  str5    str6      str5  \n",
       " ------- -------- ----------- ------- ... ----- --------- ---------\n",
       "     0.0      QPQ           1   2.064 ... LRISb    Keck-I     DUMMY]"
      ]
     },
     "execution_count": 203,
     "metadata": {},
     "output_type": "execute_result"
    }
   ],
   "source": [
    "specs, metas = qpqsp.spec_from_coord((120.20306832*u.deg,35.7086976546*u.deg),private=True)\n",
    "metas"
   ]
  },
  {
   "cell_type": "code",
   "execution_count": 100,
   "metadata": {
    "collapsed": false
   },
   "outputs": [
    {
     "name": "stdout",
     "output_type": "stream",
     "text": [
      "Your search yielded 1 match[es]\n",
      "Staged 0 spectra totalling 0 Gb\n",
      "No spectra matching in survey 2QZ\n",
      "Staged 1 spectra totalling 9.3e-05 Gb\n",
      "Loaded spectra\n",
      "Staged 0 spectra totalling 0 Gb\n",
      "No spectra matching in survey COS-Dwarfs\n",
      "Staged 0 spectra totalling 0 Gb\n",
      "No spectra matching in survey COS-Halos\n",
      "Staged 0 spectra totalling 0 Gb\n",
      "No spectra matching in survey ESI_DLA\n",
      "Staged 0 spectra totalling 0 Gb\n",
      "No spectra matching in survey GGG\n",
      "Staged 0 spectra totalling 0 Gb\n",
      "No spectra matching in survey HD-LLS_DR1\n",
      "Staged 0 spectra totalling 0 Gb\n",
      "No spectra matching in survey HDLA100\n",
      "Staged 0 spectra totalling 0 Gb\n",
      "No spectra matching in survey HSTQSO\n",
      "Staged 0 spectra totalling 0 Gb\n",
      "No spectra matching in survey HST_z2\n",
      "Staged 0 spectra totalling 0 Gb\n",
      "No spectra matching in survey KODIAQ_DR1\n",
      "Staged 0 spectra totalling 0 Gb\n",
      "No spectra matching in survey SDSS_DR7\n",
      "Staged 0 spectra totalling 0 Gb\n",
      "No spectra matching in survey XQ-100\n"
     ]
    },
    {
     "data": {
      "text/html": [
       "&lt;Table length=1&gt;\n",
       "<table id=\"table4687668560\" class=\"table-striped table-bordered table-condensed\">\n",
       "<thead><tr><th>SDSS_NAME</th><th>RA</th><th>DEC</th><th>THING_ID</th><th>PLATE</th><th>MJD</th><th>FIBERID</th><th>Z_VI</th><th>Z_PIPE</th><th>ERR_ZPIPE</th><th>ZWARNING</th><th>Z_PCA</th><th>ERR_ZPCA</th><th>PCA_QUAL</th><th>Z_CIV</th><th>Z_CIII</th><th>Z_MGII</th><th>SDSS_MORPHO</th><th>BOSS_TARGET1</th><th>ANCILLARY_TARGET1</th><th>ANCILLARY_TARGET2</th><th>EBOSS_TARGET0</th><th>NSPEC_BOSS</th><th>PLATE_DUPLICATE [32]</th><th>MJD_DUPLICATE [32]</th><th>FIBERID_DUPLICATE [32]</th><th>SDSS_DR7</th><th>PLATE_DR7</th><th>MJD_DR7</th><th>FIBERID_DR7</th><th>UNIFORM</th><th>ALPHA_NU</th><th>SNR_SPEC</th><th>SNR_DUPLICATE [32]</th><th>SNR_1700</th><th>SNR_3000</th><th>SNR_5150</th><th>FWHM_CIV</th><th>BHWHM_CIV</th><th>RHWHM_CIV</th><th>AMP_CIV</th><th>REWE_CIV</th><th>ERR_REWE_CIV</th><th>FWHM_CIII</th><th>BHWHM_CIII</th><th>RHWHM_CIII</th><th>AMP_CIII</th><th>REWE_CIII</th><th>ERR_REWE_CIII</th><th>FWHM_MGII</th><th>BHWHM_MGII</th><th>RHWHM_MGII</th><th>AMP_MGII</th><th>REWE_MGII</th><th>ERR_REWE_MGII</th><th>BAL_FLAG_VI</th><th>BI_CIV</th><th>ERR_BI_CIV</th><th>AI_CIV</th><th>ERR_AI_CIV</th><th>CHI2TROUGH</th><th>NCIV_2000</th><th>VMIN_CIV_2000</th><th>VMAX_CIV_2000</th><th>NCIV_450</th><th>VMIN_CIV_450</th><th>VMAX_CIV_450</th><th>REW_SIIV</th><th>REW_CIV</th><th>REW_ALIII</th><th>RUN_NUMBER</th><th>PHOTO_MJD</th><th>RERUN_NUMBER</th><th>COL_NUMBER</th><th>FIELD_NUMBER</th><th>OBJ_ID</th><th>PSFFLUX [5]</th><th>IVAR_PSFFLUX [5]</th><th>PSFMAG [5]</th><th>ERR_PSFMAG [5]</th><th>TARGET_FLUX [5]</th><th>MI</th><th>DGMI</th><th>EXTINCTION [5]</th><th>EXTINCTION_RECAL [5]</th><th>HI_GAL</th><th>VAR_MATCHED</th><th>VAR_CHI2</th><th>VAR_A</th><th>VAR_GAMMA</th><th>RASS_COUNTS</th><th>RASS_COUNTS_SNR</th><th>SDSS2ROSAT_SEP</th><th>N_DETECTION_XMM</th><th>FLUX02_12KEV_SGL</th><th>ERR_FLUX02_12KEV_SGL</th><th>FLUX02_2KEV</th><th>ERR_FLUX02_2KEV</th><th>FLUX2_12KEV</th><th>ERR_FLUX2_12KEV</th><th>FLUX02_12KEV</th><th>ERR_FLUX02_12KEV</th><th>LUM02_2KEV_SGL</th><th>LUM05_2KEV</th><th>LUM2_12KEV</th><th>LUM02_2KEV</th><th>LUMX2_10_UPPER</th><th>SDSS2XMM_SEP</th><th>GALEX_MATCHED</th><th>FUV</th><th>FUV_IVAR</th><th>NUV</th><th>NUV_IVAR</th><th>JMAG</th><th>ERR_JMAG</th><th>JSNR</th><th>JRDFLAG</th><th>HMAG</th><th>ERR_HMAG</th><th>HSNR</th><th>HRDFLAG</th><th>KMAG</th><th>ERR_KMAG</th><th>KSNR</th><th>KRDFLAG</th><th>SDSS2MASS_SEP</th><th>W1MAG</th><th>ERR_W1MAG</th><th>W1SNR</th><th>W1CHI2</th><th>W2MAG</th><th>ERR_W2MAG</th><th>W2SNR</th><th>W2CHI2</th><th>W3MAG</th><th>ERR_W3MAG</th><th>W3SNR</th><th>W3CHI2</th><th>W4MAG</th><th>ERR_W4MAG</th><th>W4SNR</th><th>W4CHI2</th><th>CC_FLAGS</th><th>PH_FLAG</th><th>SDSS2WISE_SEP</th><th>UKIDSS_MATCHED</th><th>YFLUX</th><th>YFLUX_ERR</th><th>JFLUX</th><th>JFLUX_ERR</th><th>HFLUX</th><th>HFLUX_ERR</th><th>KFLUX</th><th>KFLUX_ERR</th><th>FIRST_MATCHED</th><th>FIRST_FLUX</th><th>FIRST_SNR</th><th>SDSS2FIRST_SEP</th><th>DATE-OBS</th><th>R</th><th>zem</th><th>sig_zem</th><th>flag_zem</th><th>IGM_ID</th><th>SPEC_FILE</th><th>NPIX</th><th>WV_MIN</th><th>WV_MAX</th><th>SURVEY_ID</th><th>EPOCH</th><th>CAT</th><th>INSTR</th><th>GRATING</th><th>TELESCOPE</th></tr></thead>\n",
       "<thead><tr><th>str18</th><th>float64</th><th>float64</th><th>int32</th><th>int32</th><th>int32</th><th>int32</th><th>float64</th><th>float64</th><th>float64</th><th>int32</th><th>float64</th><th>float64</th><th>float64</th><th>float64</th><th>float64</th><th>float64</th><th>int32</th><th>int64</th><th>int64</th><th>int64</th><th>int64</th><th>int32</th><th>int32</th><th>int32</th><th>int32</th><th>int32</th><th>int32</th><th>int32</th><th>int32</th><th>int16</th><th>float64</th><th>float64</th><th>float64</th><th>float64</th><th>float64</th><th>float64</th><th>float64</th><th>float64</th><th>float64</th><th>float64</th><th>float64</th><th>float64</th><th>float64</th><th>float64</th><th>float64</th><th>float64</th><th>float64</th><th>float64</th><th>float64</th><th>float64</th><th>float64</th><th>float64</th><th>float64</th><th>float64</th><th>int32</th><th>float64</th><th>float64</th><th>float64</th><th>float64</th><th>float64</th><th>int32</th><th>float64</th><th>float64</th><th>int32</th><th>float64</th><th>float64</th><th>float64</th><th>float64</th><th>float64</th><th>int16</th><th>int32</th><th>str3</th><th>int16</th><th>int16</th><th>str19</th><th>float64</th><th>float64</th><th>float64</th><th>float64</th><th>float64</th><th>float64</th><th>float64</th><th>float64</th><th>float32</th><th>float64</th><th>int16</th><th>float64</th><th>float64</th><th>float64</th><th>float64</th><th>float64</th><th>float64</th><th>int16</th><th>float64</th><th>float64</th><th>float64</th><th>float64</th><th>float64</th><th>float64</th><th>float64</th><th>float64</th><th>float64</th><th>float64</th><th>float64</th><th>float64</th><th>int16</th><th>float64</th><th>int16</th><th>float64</th><th>float64</th><th>float64</th><th>float64</th><th>float64</th><th>float64</th><th>float64</th><th>int32</th><th>float64</th><th>float64</th><th>float64</th><th>int32</th><th>float64</th><th>float64</th><th>float64</th><th>int32</th><th>float64</th><th>float64</th><th>float64</th><th>float64</th><th>float64</th><th>float64</th><th>float64</th><th>float64</th><th>float64</th><th>float64</th><th>float64</th><th>float64</th><th>float64</th><th>float64</th><th>float64</th><th>float64</th><th>float64</th><th>str4</th><th>str4</th><th>float64</th><th>int16</th><th>float32</th><th>float32</th><th>float32</th><th>float32</th><th>float32</th><th>float32</th><th>float32</th><th>float32</th><th>int16</th><th>float64</th><th>float64</th><th>float64</th><th>str10</th><th>float64</th><th>float64</th><th>float64</th><th>str9</th><th>int64</th><th>str28</th><th>int64</th><th>float64</th><th>float64</th><th>int64</th><th>float64</th><th>str5</th><th>str4</th><th>str4</th><th>str10</th></tr></thead>\n",
       "<tr><td>000128.44+084033.5</td><td>0.368506876232</td><td>8.67598577342</td><td>189374894</td><td>4534</td><td>55863</td><td>480</td><td>3.72780561447</td><td>3.72780561447</td><td>0.000584314228036</td><td>0</td><td>3.71039546698</td><td>0.0020709181824</td><td>0.104884202205</td><td>3.70254512435</td><td>3.72884724076</td><td>-1.0</td><td>0</td><td>12094628052992</td><td>0</td><td>0</td><td>0</td><td>0</td><td>-1 .. -1</td><td>-1 .. -1</td><td>-1 .. -1</td><td>0</td><td>-1</td><td>-1</td><td>-1</td><td>0</td><td>-1.75777711204</td><td>4.02526434747</td><td>-1.0 .. -1.0</td><td>1.89542448965</td><td>-1.0</td><td>-1.0</td><td>5292.66605433</td><td>2627.86497295</td><td>2664.80108137</td><td>6.147918685</td><td>48.6735674497</td><td>1.81247125058</td><td>9731.99071553</td><td>2018.25805977</td><td>7713.73265576</td><td>1.64990147441</td><td>26.8078040051</td><td>30.7440478522</td><td>-1.0</td><td>-1.0</td><td>-1.0</td><td>-1.0</td><td>-1.0</td><td>-1.0</td><td>0</td><td>0.0</td><td>0.0</td><td>0.0</td><td>0.0</td><td>0.0</td><td>0</td><td>0.0</td><td>0.0</td><td>0</td><td>0.0</td><td>0.0</td><td>0.0</td><td>0.0</td><td>0.0</td><td>5636</td><td>53638</td><td>301</td><td>6</td><td>124</td><td>1237669682261787057</td><td>0.00735410163179 .. 8.60192584991</td><td>11.7005186081 .. 0.863817691803</td><td>24.6061668396 .. 20.1555633545</td><td>1.13321936131 .. 0.133839011192</td><td>0.00735410116613 .. 8.60192584991</td><td>-26.6765312581</td><td>0.017635345459</td><td>0.313715457916 .. 0.0900068134069</td><td>0.288791 .. 0.0860447</td><td>21.9238913499</td><td>0</td><td>0.0</td><td>0.0</td><td>0.0</td><td>0.0</td><td>0.0</td><td>0.0</td><td>0</td><td>0.0</td><td>0.0</td><td>0.0</td><td>0.0</td><td>0.0</td><td>0.0</td><td>0.0</td><td>0.0</td><td>0.0</td><td>0.0</td><td>0.0</td><td>0.0</td><td>0</td><td>0.0</td><td>1</td><td>-0.0182337481529</td><td>37.467887255</td><td>0.37832480669</td><td>19.5439831886</td><td>0.0</td><td>0.0</td><td>0.0</td><td>0</td><td>0.0</td><td>0.0</td><td>0.0</td><td>0</td><td>0.0</td><td>0.0</td><td>0.0</td><td>0</td><td>0.0</td><td>17.401</td><td>0.177000001073</td><td>6.1</td><td>1.025</td><td>16.132</td><td>0.20000000298</td><td>5.4</td><td>0.8172</td><td>11.734</td><td>0.268000006676</td><td>4.1</td><td>1.071</td><td>8.295</td><td>0.317000001669</td><td>3.4</td><td>0.0</td><td>0000</td><td>BBBB</td><td>0.562869026946</td><td>1</td><td>2.89416e-31</td><td>3.13364e-32</td><td>3.57508e-31</td><td>3.3574e-32</td><td>3.6259e-31</td><td>4.68969e-32</td><td>3.75312e-31</td><td>4.69901e-32</td><td>0</td><td>0.0</td><td>0.0</td><td>0.0</td><td>2011-10-29</td><td>2100.0</td><td>3.71039546698</td><td>0.0020709181824</td><td>BOSS_PCA</td><td>438</td><td>spec-4534-55863-0480.fits.gz</td><td>4607</td><td>3554.67651367</td><td>10265.9755859</td><td>438</td><td>2000.0</td><td>DR12Q</td><td>BOSS</td><td>BOTH</td><td>SDSS 2.5-M</td></tr>\n",
       "</table>"
      ],
      "text/plain": [
       "<Table length=1>\n",
       "    SDSS_NAME            RA            DEC      ... INSTR GRATING TELESCOPE \n",
       "      str18           float64        float64    ...  str4   str4    str10   \n",
       "------------------ -------------- ------------- ... ----- ------- ----------\n",
       "000128.44+084033.5 0.368506876232 8.67598577342 ...  BOSS    BOTH SDSS 2.5-M"
      ]
     },
     "execution_count": 100,
     "metadata": {},
     "output_type": "execute_result"
    }
   ],
   "source": [
    "specs, metas = igmsp.spec_from_coord((0.3685,8.6760))\n",
    "metas[0]"
   ]
  },
  {
   "cell_type": "code",
   "execution_count": 101,
   "metadata": {
    "collapsed": false
   },
   "outputs": [
    {
     "name": "stdout",
     "output_type": "stream",
     "text": [
      "('repeated', 256807)\n",
      "('repeated', 343678)\n"
     ]
    }
   ],
   "source": [
    "for ii in ID_fg:\n",
    "    if ii in ID_bg:\n",
    "        print('repeated',ii)"
   ]
  },
  {
   "cell_type": "code",
   "execution_count": 109,
   "metadata": {
    "collapsed": false
   },
   "outputs": [],
   "source": [
    "from astropy.io import fits\n",
    "data = fits.open('../Analysis/Stacks/QPQ9_zIRMgII_1334.fits')"
   ]
  },
  {
   "cell_type": "code",
   "execution_count": 130,
   "metadata": {
    "collapsed": false
   },
   "outputs": [],
   "source": [
    "dat = np.transpose([data[0].data,data[1].data,np.zeros_like(data[1].data)])"
   ]
  },
  {
   "cell_type": "code",
   "execution_count": null,
   "metadata": {
    "collapsed": true
   },
   "outputs": [],
   "source": []
  },
  {
   "cell_type": "code",
   "execution_count": 131,
   "metadata": {
    "collapsed": false
   },
   "outputs": [
    {
     "name": "stdout",
     "output_type": "stream",
     "text": [
      "0.9700400233268738 1321.2438935755008 0.0\n",
      "0.9806720018386841 1321.6847293082908 0.0\n",
      "0.9740078449249268 1322.1257092802687 0.0\n",
      "0.9691532850265503 1322.566833635886 0.0\n",
      "0.9640882611274719 1323.0081025197353 0.0\n",
      "0.9731051921844482 1323.4495160765514 0.0\n",
      "0.9689950942993164 1323.891074451212 0.0\n",
      "0.9593449831008911 1324.3327777887373 0.0\n",
      "0.9298703670501709 1324.7746262342898 0.0\n",
      "0.9671471118927002 1325.216619933176 0.0\n",
      "0.9774489402770996 1325.6587590308447 0.0\n",
      "0.9605249166488647 1326.1010436728889 0.0\n",
      "0.9561501741409302 1326.5434740050455 0.0\n",
      "0.9597588777542114 1326.986050173195 0.0\n",
      "0.9510238170623779 1327.4287723233629 0.0\n",
      "0.9826961159706116 1327.8716406017184 0.0\n",
      "0.9722848534584045 1328.314655154576 0.0\n",
      "0.9555654525756836 1328.7578161283952 0.0\n",
      "0.9776575565338135 1329.2011236697806 0.0\n",
      "0.9879497289657593 1329.644577925482 0.0\n",
      "0.9552170634269714 1330.088179042396 0.0\n",
      "0.9480270147323608 1330.5319271675637 0.0\n",
      "0.9264969229698181 1330.9758224481739 0.0\n",
      "0.933535635471344 1331.419865031561 0.0\n",
      "0.9284469485282898 1331.864055065206 0.0\n",
      "0.9029764533042908 1332.3083926967374 0.0\n",
      "0.9364001154899597 1332.7528780739308 0.0\n",
      "0.9476637244224548 1333.1975113447093 0.0\n",
      "0.8960624933242798 1333.6422926571431 0.0\n",
      "0.8791993856430054 1334.087222159451 0.0\n",
      "0.8742189407348633 1334.5323 0.0\n",
      "0.8484936952590942 1334.9775263273054 0.0\n",
      "0.8682695627212524 1335.4229012900307 0.0\n",
      "0.8396889567375183 1335.8684250369893 0.0\n",
      "0.8564870953559875 1336.3140977171427 0.0\n",
      "0.9021388292312622 1336.7599194796032 0.0\n",
      "0.9229442477226257 1337.2058904736314 0.0\n",
      "0.9098989367485046 1337.6520108486386 0.0\n",
      "0.946846604347229 1338.0982807541861 0.0\n",
      "0.9522125124931335 1338.5447003399856 0.0\n",
      "0.9527709484100342 1338.9912697558998 0.0\n",
      "0.9214752316474915 1339.437989151942 0.0\n",
      "0.9598274827003479 1339.8848586782767 0.0\n",
      "0.9770351052284241 1340.3318784852197 0.0\n",
      "0.9903783798217773 1340.7790487232392 0.0\n",
      "0.9659500122070312 1341.2263695429551 0.0\n",
      "0.958006739616394 1341.6738410951382 0.0\n",
      "0.9550772309303284 1342.121463530714 0.0\n",
      "0.9648910164833069 1342.5692370007591 0.0\n",
      "0.9334456920623779 1343.0171616565037 0.0\n",
      "0.9318509101867676 1343.4652376493304 0.0\n",
      "0.9972668886184692 1343.913465130777 0.0\n",
      "0.9924487471580505 1344.361844252533 0.0\n",
      "0.9483714699745178 1344.8103751664435 0.0\n",
      "0.9724276065826416 1345.259058024507 0.0\n",
      "0.9818736910820007 1345.7078929788765 0.0\n",
      "0.9540190696716309 1346.1568801818607 0.0\n",
      "0.9491981863975525 1346.6060197859222 0.0\n",
      "0.9457089304924011 1347.0553119436788 0.0\n",
      "0.9656621217727661 1347.5047568079053 0.0\n",
      "0.9859762191772461 1347.9543545315303 0.0\n"
     ]
    }
   ],
   "source": [
    "from astropy.io import ascii\n",
    "import sys\n",
    "ascii.write(dat, sys.stdout, delimiter=' ',format='no_header')"
   ]
  },
  {
   "cell_type": "code",
   "execution_count": 126,
   "metadata": {
    "collapsed": false
   },
   "outputs": [
    {
     "name": "stdout",
     "output_type": "stream",
     "text": [
      "Help on built-in function write:\n",
      "\n",
      "write(...)\n",
      "    write(str) -> None.  Write string str to file.\n",
      "    \n",
      "    Note that due to buffering, flush() or close() may be needed before\n",
      "    the file on disk reflects the data written.\n",
      "\n"
     ]
    }
   ],
   "source": [
    "f = open('data_new.txt', 'wb')\n",
    "help(f.write)"
   ]
  },
  {
   "cell_type": "code",
   "execution_count": 138,
   "metadata": {
    "collapsed": false
   },
   "outputs": [
    {
     "name": "stderr",
     "output_type": "stream",
     "text": [
      "/Users/lwymarie/anaconda/lib/python2.7/site-packages/ipykernel/__main__.py:2: UserWarning: Using a sub-grid wavelength array because the input array is too coarse.\n",
      "  from ipykernel import kernelapp as app\n"
     ]
    }
   ],
   "source": [
    "import warnings \n",
    "warnings.warn('Using a sub-grid wavelength array because the input array is too coarse.')"
   ]
  },
  {
   "cell_type": "code",
   "execution_count": 2,
   "metadata": {
    "collapsed": false
   },
   "outputs": [
    {
     "name": "stdout",
     "output_type": "stream",
     "text": [
      "x.fits.bintab_to_table: Reading /Users/lwymarie/python/enigma/enigma/data/redshifts/masterlist_liam.fits\n"
     ]
    }
   ],
   "source": [
    "from astropy.table import Column\n",
    "from xastropy.xutils import fits as xxf\n",
    "import imp\n",
    "import numpy as np\n",
    "from astropy import units as u\n",
    "from astropy.coordinates import SkyCoord\n",
    "enigma_path = imp.find_module('enigma')[1]\n",
    "liam = xxf.bintab_to_table(enigma_path+'/data/redshifts/masterlist_liam.fits')\n",
    "c_liam = SkyCoord(liam['RAJ2000'], liam['DEJ2000'], frame='icrs')"
   ]
  },
  {
   "cell_type": "code",
   "execution_count": 46,
   "metadata": {
    "collapsed": false
   },
   "outputs": [
    {
     "name": "stdout",
     "output_type": "stream",
     "text": [
      "x.fits.bintab_to_table: Reading /Users/lwymarie/Dropbox/Marie_Enrico/papers/QPQ9/Analysis/qpq9_final.fits\n"
     ]
    },
    {
     "data": {
      "text/plain": [
       "[u'00h34m23.0635s -10d50m02.0012s',\n",
       " u'00h57m17.3646s -00d01m13.3303s',\n",
       " u'01h49m17.1049s -00d21m41.6461s',\n",
       " u'02h25m17.6801s +00d48m21.966s',\n",
       " u'02h30m18.2659s -03d33m19.4168s',\n",
       " u'03h41m38.1578s +00d00m02.9332s',\n",
       " u'04h09m55.872s -04d11m26.9365s',\n",
       " u'07h52m59.8146s +40d11m28.2199s',\n",
       " u'08h00m49.8934s +35d42m49.6331s',\n",
       " u'08h28m43.368s +45d45m17.2955s',\n",
       " u'08h37m13.5609s +36d30m37.3449s',\n",
       " u'08h37m57.9144s +38d37m27.1164s',\n",
       " u'08h41m58.4701s +39d21m20.9741s',\n",
       " u'08h53m58.3643s -00d11m08.0473s',\n",
       " u'09h10m46.4006s +04d14m58.5125s',\n",
       " u'09h13m38.304s -01d07m08.6819s',\n",
       " u'09h14m32.0166s +01d09m12.4277s',\n",
       " u'09h24m17.6496s +39d29m20.2547s',\n",
       " u'09h32m26.3442s +09d25m26.1095s',\n",
       " u'09h36m40.3458s -00d58m40.0921s',\n",
       " u'09h38m04.2177s +53d17m43.9106s',\n",
       " u'10h02m46.8558s +00d21m03.9938s',\n",
       " u'10h05m09.5996s +50d19m29.7953s',\n",
       " u'10h06m27.4687s +48d04m20.047s',\n",
       " u'10h09m41.3471s +25d01m04.0768s',\n",
       " u'10h10m01.5087s +40d37m55.4805s',\n",
       " u'10h26m18.8051s +46d14m45.2755s',\n",
       " u'10h38m57.371s +50d27m07.9806s',\n",
       " u'10h41m43.0992s +19d57m22.1954s',\n",
       " u'10h45m08.8768s +43d51m18.2108s',\n",
       " u'11h41m46.1872s +07d24m10.9899s',\n",
       " u'11h44m35.5364s +09d59m21.6938s',\n",
       " u'11h45m46.54s +03d22m36.7476s',\n",
       " u'12h04m17.4689s +02d21m04.7146s',\n",
       " u'12h08m56.94s +07d37m41.2172s',\n",
       " u'12h49m48.1823s +06d07m14.0471s',\n",
       " u'13h01m24.7375s +47d59m09.6285s',\n",
       " u'13h06m05.19s +61d58m23.7262s',\n",
       " u'13h27m40.582s +34d23m23.7427s',\n",
       " u'13h58m49.7126s +27d38m06.8626s',\n",
       " u'14h02m08.0965s +47d01m11.1266s',\n",
       " u'14h13m37.1791s +27d15m17.0969s',\n",
       " u'14h20m03.67s +02d27m26.6692s',\n",
       " u'14h20m54.4177s +16d03m33.3387s',\n",
       " u'14h27m58.8881s -01d21m30.3734s',\n",
       " u'14h31m09.6746s +57d27m28.9987s',\n",
       " u'14h42m32.9167s +01d37m30.4042s',\n",
       " u'15h08m14.0616s +36d35m29.357s',\n",
       " u'15h33m28.8312s +14d25m42.5012s',\n",
       " u'15h53m25.6077s +19d21m40.9521s',\n",
       " u'15h59m47.7342s +49d43m07.2919s',\n",
       " u'16h27m36.3981s +22d15m38.085s',\n",
       " u'16h27m38.633s +46d05m38.3878s',\n",
       " u'16h57m16.8526s +31d05m13.9773s',\n",
       " u'21h46m20.6876s -07d52m50.6088s',\n",
       " u'22h02m48.6104s +12d36m45.5447s']"
      ]
     },
     "execution_count": 46,
     "metadata": {},
     "output_type": "execute_result"
    }
   ],
   "source": [
    "new_qpq9 = xxf.bintab_to_table('/Users/lwymarie/Dropbox/Marie_Enrico/papers/QPQ9/Analysis/qpq9_final.fits')\n",
    "c_QPQ9 = SkyCoord(new_qpq9['FG_RA']*u.deg,new_qpq9['FG_DEC']*u.deg,frame='icrs')\n",
    "c_QPQ9.to_string('hmsdms')"
   ]
  },
  {
   "cell_type": "code",
   "execution_count": 4,
   "metadata": {
    "collapsed": false
   },
   "outputs": [
    {
     "name": "stdout",
     "output_type": "stream",
     "text": [
      "x.fits.bintab_to_table: Reading /Users/lwymarie/python/enigma/enigma/data/qpq/qpq7_pairs.fits.gz\n"
     ]
    }
   ],
   "source": [
    "QPQ7_fil = imp.find_module('enigma')[1] + '/data/qpq/qpq7_pairs.fits.gz'\n",
    "QPQ7 = xxf.bintab_to_table(QPQ7_fil)"
   ]
  },
  {
   "cell_type": "code",
   "execution_count": 33,
   "metadata": {
    "collapsed": false
   },
   "outputs": [
    {
     "name": "stdout",
     "output_type": "stream",
     "text": [
      "<SkyCoord (ICRS): (ra, dec) in deg\n",
      "    (62.47579167, -4.19361389)>\n",
      "<SkyCoord (ICRS): (ra, dec) in deg\n",
      "    (192.45075, 6.12055556)>\n",
      "<SkyCoord (ICRS): (ra, dec) in deg\n",
      "    (130.4969125, 39.3611)>\n",
      "<SkyCoord (ICRS): (ra, dec) in deg\n",
      "    (210.539675, 47.02161944)>\n",
      "<SkyCoord (ICRS): (ra, dec) in deg\n",
      "    (330.70127917, 12.61563333)>\n",
      "<SkyCoord (ICRS): (ra, dec) in deg\n",
      "    (120.20308333, 35.70869444)>\n",
      "<SkyCoord (ICRS): (ra, dec) in deg\n",
      "    (137.69455417, 4.24676389)>\n",
      "<SkyCoord (ICRS): (ra, dec) in deg\n",
      "    (215.22883333, 16.06192222)>\n",
      "<SkyCoord (ICRS): (ra, dec) in deg\n",
      "    (159.75005417, 50.44801111)>\n",
      "<SkyCoord (ICRS): (ra, dec) in deg\n",
      "    (196.51479167, 61.97644444)>\n",
      "<SkyCoord (ICRS): (ra, dec) in deg\n",
      "    (156.5671625, 46.23911944)>\n",
      "<SkyCoord (ICRS): (ra, dec) in deg\n",
      "    (246.90795833, 22.25258611)>\n",
      "<SkyCoord (ICRS): (ra, dec) in deg\n",
      "    (175.43927917, 7.40646389)>\n",
      "<SkyCoord (ICRS): (ra, dec) in deg\n",
      "    (138.41238333, -1.11795)>\n",
      "<SkyCoord (ICRS): (ra, dec) in deg\n",
      "    (133.48954167, -0.18502778)>\n"
     ]
    },
    {
     "data": {
      "text/plain": [
       "<SkyCoord (ICRS): (ra, dec) in deg\n",
       "    (244.524375, 9.33447222)>"
      ]
     },
     "execution_count": 33,
     "metadata": {},
     "output_type": "execute_result"
    }
   ],
   "source": [
    "for cc in radec_liam:\n",
    "    if len(np.where(cc.separation(radec_qpq9) < 5*u.arcsec)[0]) > 0:\n",
    "        print(cc)"
   ]
  },
  {
   "cell_type": "code",
   "execution_count": 69,
   "metadata": {
    "collapsed": false
   },
   "outputs": [
    {
     "name": "stdout",
     "output_type": "stream",
     "text": [
      "(u'12h31m43.0985s +00d28m46.2929s', u'12h31m41.7338s +00d29m13.9428s')\n",
      "270.595353028 kpc\n",
      "     Z_FG          Z_BG    \n",
      "------------- -------------\n",
      "3.21249008179 3.30788516998\n"
     ]
    }
   ],
   "source": [
    "from astropy.cosmology import FlatLambdaCDM\n",
    "cosmo = FlatLambdaCDM(H0=70, Om0=0.26)\n",
    "c_QPQ7 = SkyCoord(QPQ7['RAD']*u.deg,QPQ7['DECD']*u.deg,frame='icrs')\n",
    "c_QPQ7_bg = SkyCoord(ra=QPQ7['RAD_BG']*u.deg,dec=QPQ7['DECD_BG']*u.deg)\n",
    "kpc_amin = cosmo.kpc_proper_per_arcmin(QPQ7['Z_FG'])\n",
    "ang_sep = c_QPQ7.separation(c_QPQ7_bg).to('arcmin')\n",
    "                                          \n",
    "for qq,cc in enumerate(c_QPQ7):\n",
    "    if kpc_amin[qq]*ang_sep[qq] < 300*u.kpc:\n",
    "        if len(np.where(cc.separation(c_liam) < 5*u.arcsec)[0]) > 0: # in QPQ7\n",
    "            if len(np.where(cc.separation(radec_qpq9) < 5*u.arcsec)[0]) == 0: # not in QPQ9\n",
    "                print(cc.to_string('hmsdms'),c_QPQ7_bg[qq].to_string('hmsdms'))\n",
    "                print(kpc_amin[qq]*ang_sep[qq])\n",
    "                print(QPQ7['Z_FG','Z_BG'][qq])"
   ]
  },
  {
   "cell_type": "code",
   "execution_count": 67,
   "metadata": {
    "collapsed": false
   },
   "outputs": [
    {
     "name": "stdout",
     "output_type": "stream",
     "text": [
      "REDSHIFT    RAJ2000       DEJ2000   \n",
      "-------- ------------- -------------\n",
      "  3.2141 12h31m43.090s +00d28m46.20s\n"
     ]
    }
   ],
   "source": [
    "good_coord = SkyCoord('12h31m43.0985s','+00d28m46.2929s',frame='icrs')\n",
    "for qq,cc in enumerate(c_liam):\n",
    "    if cc.separation(good_coord) < 5*u.arcsec:\n",
    "        print(liam['REDSHIFT','RAJ2000','DEJ2000'][qq])"
   ]
  },
  {
   "cell_type": "code",
   "execution_count": 71,
   "metadata": {
    "collapsed": false
   },
   "outputs": [
    {
     "name": "stdout",
     "output_type": "stream",
     "text": [
      "Using /Users/lwymarie/Desktop/IGMspec_DB_v02.hdf5 for the catalog file\n",
      "Using /Users/lwymarie/Desktop/IGMspec_DB_v02.hdf5 for the DB file\n",
      "Available surveys: [u'BOSS_DR12', u'HSTQSO', u'SDSS_DR7', u'KODIAQ_DR1', u'HD-LLS_DR1', u'2QZ', u'ESI_DLA', u'HDLA100', u'GGG', u'COS-Halos', u'HST_z2', u'COS-Dwarfs', u'XQ-100']\n",
      "Database is igmspec\n",
      "Created on 2016-Oct-10\n",
      "check multiple quasars\n",
      "(u'02h39m46.4276s -01d06m40.4939s', u'02h39m46.4454s -01d06m44.1288s')\n",
      "31.0655330711 kpc\n",
      "(u'14h33m45.501s +06d41m09.9867s', u'14h33m44.5509s +06d41m11.9347s')\n",
      "121.960789857 kpc\n",
      "(u'23h38m45.1943s -00d03m27.1218s', u'23h38m45.451s -00d03m31.8384s')\n",
      "51.3253173159 kpc\n",
      "(u'02h01m43.4873s +00d32m22.713s', u'02h01m42.2498s +00d32m18.4626s')\n",
      "0.0 kpc\n",
      "check multiple quasars\n"
     ]
    }
   ],
   "source": [
    "from specdb.specdb import IgmSpec\n",
    "igmsp = IgmSpec()\n",
    "ID_fg, ID_bg = igmsp.pairs(0.69*u.arcmin, 3000.*u.km/u.s)\n",
    "c_igmsp = SkyCoord(igmsp.cat['RA'][ID_fg]*u.deg,igmsp.cat['DEC'][ID_fg]*u.deg,frame='icrs')\n",
    "c_igmsp_bg = SkyCoord(igmsp.cat['RA'][ID_bg]*u.deg,igmsp.cat['DEC'][ID_bg]*u.deg,frame='icrs')\n",
    "kpc_amin = cosmo.kpc_proper_per_arcmin(igmsp.cat['zem'][ID_fg])\n",
    "ang_sep = c_igmsp.separation(c_igmsp_bg).to('arcmin')\n",
    "for qq,cc in enumerate(c_igmsp):\n",
    "    if kpc_amin[qq]*ang_sep[qq] < 300 *u.kpc:\n",
    "        if len(np.where(cc.separation(c_liam) < 5*u.arcsec)[0]) > 0: # in igmspec \n",
    "            if len(np.where(cc.separation(c_liam) < 5*u.arcsec)[0]) > 1:\n",
    "                print('check multiple quasars')\n",
    "            if (len(np.where(cc.separation(c_QPQ7) < 5*u.arcsec)[0]) == 0) & \\\n",
    "            (len(np.where(cc.separation(c_QPQ9) < 5*u.arcsec)[0]) == 0): # not in QPQ7, QPQ9\n",
    "                print(cc.to_string('hmsdms'),c_igmsp_bg[qq].to_string('hmsdms'))\n",
    "                print(kpc_amin[qq]*ang_sep[qq])"
   ]
  },
  {
   "cell_type": "code",
   "execution_count": 21,
   "metadata": {
    "collapsed": false
   },
   "outputs": [
    {
     "data": {
      "text/plain": [
       "<SkyCoord (ICRS): (ra, dec) in deg\n",
       "    (0.027228, 0.51534098)>"
      ]
     },
     "execution_count": 21,
     "metadata": {},
     "output_type": "execute_result"
    }
   ],
   "source": [
    "from astropy.table import Table\n",
    "myers = Table(igmsp.idb.hdf['quasars'].value)\n",
    "c_myers = SkyCoord(myers['RA']*u.deg,myers['DEC']*u.deg,frame='icrs')\n",
    "c_myers[0]"
   ]
  },
  {
   "cell_type": "code",
   "execution_count": 68,
   "metadata": {
    "collapsed": false
   },
   "outputs": [
    {
     "name": "stdout",
     "output_type": "stream",
     "text": [
      "02h25m26.3251s -01d14m34.3572s\n",
      "02h32m26.5384s -00d11m45.096s\n",
      "02h46m03.6823s -00d32m11.7492s\n",
      "09h21m22.8918s +56d31m27.6022s\n",
      "10h28m21.2549s +24d01m21.7932s\n",
      "12h16m57.8174s +15d27m06.5808s\n",
      "13h53m06.3464s +11d38m04.7134s\n",
      "14h03m55.1514s +37d34m01.7404s\n",
      "14h36m09.1443s +31d34m26.7549s\n",
      "14h56m19.3323s +11d37m34.2366s\n",
      "15h43m49.1162s +44d45m14.7354s\n",
      "15h57m33.9807s +29d28m44.3385s\n",
      "16h54m42.2095s +25d12m49.2284s\n",
      "00h40m18.2178s +00d55m30.9324s\n",
      "00h01m25.1443s +00d00m09.4356s\n",
      "00h08m04.2269s -00d39m22.9824s\n",
      "00h08m05.1814s -00d39m46.7819s\n",
      "00h42m38.2384s +13d50m54.8069s\n",
      "00h47m57.2575s +14d47m41.9591s\n",
      "01h03m23.8408s -00d02m54.204s\n",
      "01h06m16.3966s +00d56m56.85s\n",
      "01h54m48.9377s +00d20m42.774s\n",
      "02h06m00.4834s +22d38m40.4979s\n",
      "02h14m16.9583s -00d52m29.1468s\n",
      "02h24m47.8958s -00d47m00.3552s\n",
      "02h42m57.2067s -00d45m49.5071s\n",
      "02h50m38.692s -00d47m39.1056s\n",
      "03h34m44.0341s -00d58m26.1984s\n",
      "07h49m54.1077s +37d02m16.7661s\n",
      "08h09m45.1721s +45d39m18.1055s\n",
      "08h12m23.1683s +26d20m00.9087s\n",
      "08h14m27.2095s +04d02m29.1343s\n",
      "08h18m00.4907s +15d28m04.4204s\n",
      "08h18m32.8656s +12d32m19.904s\n",
      "08h26m42.8632s +47d08m29.5322s\n",
      "08h30m30.379s +54d52m28.7778s\n",
      "08h33m14.2456s +48d23m35.5472s\n",
      "08h37m05.8337s +08d10m02.4628s\n",
      "08h38m54.5251s +46d21m24.3979s\n",
      "08h44m33.5486s +48d39m40.9982s\n",
      "08h45m36.5332s +32d02m27.3129s\n",
      "08h56m29.48s +55d14m50.2496s\n",
      "08h57m37.5806s +39d01m20.4611s\n",
      "09h02m50.0171s +36d02m55.1358s\n",
      "09h03m59.1394s +51d32m46.8411s\n",
      "09h04m17.9407s +00d41m48.2495s\n",
      "09h06m57.7991s +10d01m21.4362s\n",
      "09h07m39.5105s +28d03m01.8787s\n",
      "09h11m15.1282s +49d05m38.53s\n",
      "09h12m17.5708s +41d39m33.5138s\n",
      "09h12m20.1489s +25d17m53.2063s\n",
      "09h12m34.2737s +30d56m16.2154s\n",
      "09h13m56.0706s +31d51m36.2151s\n",
      "09h15m51.7236s +01d19m00.1774s\n",
      "09h16m13.7402s +42d50m09.6222s\n",
      "09h20m49.3726s +33d41m14.3683s\n",
      "09h32m07.8918s +08d44m10.5547s\n",
      "09h33m17.428s +59d20m27.4475s\n",
      "09h35m30.8862s +45d32m26.9284s\n",
      "09h40m07.3828s +33d46m09.6121s\n",
      "09h41m33.6438s +23d08m40.0516s\n",
      "09h42m43.4692s +13d47m16.8759s\n",
      "09h56m42.7148s +02d48m12.6753s\n",
      "10h00m46.4465s +03d37m08.8281s\n",
      "10h01m06.4526s +40d23m41.6995s\n",
      "10h09m03.2043s +17d50m24.1653s\n",
      "10h09m13.9124s +02d36m12.3764s\n",
      "10h10m53.9832s +45d18m17.0123s\n",
      "10h10m57.3853s +08d22m03.6362s\n",
      "10h13m23.8989s +03d30m16.9559s\n",
      "10h14m21.3721s +26d53m26.0989s\n",
      "10h15m27.5867s +12d45m20.9667s\n",
      "10h17m53.3789s +62d26m53.3698s\n",
      "10h20m07.2986s +61d19m55.9579s\n",
      "10h24m10.1917s +03d54m47.905s\n",
      "10h24m43.9856s +26d16m15.0641s\n",
      "10h28m05.2808s +51d21m24.6176s\n",
      "10h34m43.623s +08d57m02.9794s\n",
      "10h36m28.1946s +50d11m57.8741s\n",
      "10h42m44.8389s +65d00m02.7191s\n",
      "10h44m35.625s +31d39m50.7143s\n",
      "10h45m25.8435s +10d00m18.4124s\n",
      "10h52m21.7712s +55d52m53.5107s\n",
      "10h59m41.4331s +62d55m34.3506s\n",
      "11h06m17.1716s +46d35m24.646s\n",
      "11h13m39.8584s +33d06m04.7598s\n",
      "11h18m50.4382s +40d25m53.7827s\n",
      "11h36m51.5479s -00d28m36.0048s\n",
      "11h38m52.6465s +63d29m34.0173s\n",
      "11h40m18.9917s +27d09m47.5626s\n",
      "11h42m09.8438s +28d22m56.7929s\n",
      "11h42m18.1677s +11d28m15.4239s\n",
      "11h50m39.1626s +58d02m59.2694s\n",
      "11h52m53.0933s +15d07m06.4584s\n",
      "11h55m33.6182s +39d33m59.1998s\n",
      "11h59m44.0149s +14d33m05.0372s\n",
      "12h00m30.3479s +01d29m18.3554s\n",
      "12h02m24.6753s +07d48m00.2633s\n",
      "12h11m59.7986s +32d40m09.9609s\n",
      "12h13m44.2786s +47d19m58.7183s\n",
      "12h25m14.2932s +57d09m42.3441s\n",
      "12h40m02.2302s +39d55m55.4718s\n",
      "12h42m27.7844s +53d31m25.6796s\n",
      "12h44m20.8411s +39d16m07.9642s\n",
      "12h44m31.3696s +32d08m23.8605s\n",
      "12h45m17.0361s +59d22m18.1485s\n",
      "12h46m32.3035s +23d45m31.16s\n",
      "12h48m46.0474s +40d57m58.1479s\n",
      "12h53m04.5703s +63d27m18.5971s\n",
      "12h55m52.5952s +22d34m24.4066s\n",
      "13h10m17.9883s +11d34m25.0589s\n",
      "13h19m39.4592s +21d38m06.7355s\n",
      "13h25m14.9744s +54d09m30.5612s\n",
      "13h35m15.3223s +43d30m12.2772s\n",
      "13h46m50.0793s +19d52m35.2048s\n",
      "14h10m18.7793s +48d04m46.5784s\n",
      "14h15m51.7529s -01d50m53.8945s\n",
      "14h22m15.5713s +46d52m30.7141s\n",
      "14h28m29.4214s +55d09m42.7972s\n",
      "14h33m12.5574s +08d26m51.7596s\n",
      "14h48m21.8408s +56d50m16.1041s\n",
      "14h57m27.4915s +02d37m28.4267s\n",
      "15h15m15.0586s +26d28m14.6617s\n",
      "15h17m44.7949s +20d03m04.3575s\n",
      "15h30m27.3303s +25d15m08.3565s\n",
      "15h34m56.0193s +21d53m42.3175s\n",
      "15h38m51.9763s +57d08m14.5084s\n",
      "15h39m54.7449s +31d46m29.2845s\n",
      "15h54m22.8772s +12d44m38.0067s\n",
      "15h56m20.7532s +30d41m21.9351s\n",
      "15h57m43.0664s +04d34m39.2021s\n",
      "16h18m16.4465s +18d42m08.2082s\n",
      "16h19m30.9375s +19d26m20.8983s\n",
      "16h28m24.5178s +23d42m27.8256s\n",
      "16h31m21.7456s +43d33m17.3007s\n",
      "16h31m30.2087s +36d59m22.262s\n",
      "16h35m46.2964s +25d47m59.0359s\n",
      "16h51m59.0076s +34d10m48.6465s\n",
      "20h53m03.479s -01d04m15.0854s\n",
      "21h56m55.1367s -00d04m00.9732s\n",
      "22h12m27.4365s -00d11m58.4412s\n",
      "22h55m35.6689s -00d01m56.8416s\n",
      "22h55m50.3979s -00d09m17.73s\n",
      "23h14m25.1294s -01d09m02.9267s\n",
      "23h41m09.3164s -00d41m32.7047s\n",
      "23h48m30.9814s +01d10m37.6606s\n",
      "23h52m32.0728s -00d15m03.9456s\n",
      "23h54m21.3501s -00d19m12.1476s\n"
     ]
    }
   ],
   "source": [
    "for qq,cc in enumerate(c_igmsp):\n",
    "    if kpc_amin[qq]*ang_sep[qq] < 300 *u.kpc:\n",
    "        if len(np.where(cc.separation(c_liam) < 5*u.arcsec)[0]) == 0: # not in liam  \n",
    "            if len(np.where(cc.separation(c_QPQ7) < 5*u.arcsec)[0]) == 0: # not in QPQ7\n",
    "                if len(np.where(cc.separation(c_myers) < 5*u.arcsec)[0]) > 0: # in Myers\n",
    "                    if myers['ZEM_SOURCE'][np.where(cc.separation(c_myers) < 5*u.arcsec)[0][0]] == 'SDSS-HW': # good z\n",
    "                        if ((myers['ZEM'][np.where(cc.separation(c_myers) < 5*u.arcsec)[0][0]] > 1.6) & \\\n",
    "                        (myers['ZEM'][np.where(cc.separation(c_myers) < 5*u.arcsec)[0][0]] < 2.1)): # QPQ z\n",
    "                            print(c_myers[np.where(cc.separation(c_myers) < 5*u.arcsec)[0][0]].to_string('hmsdms'))"
   ]
  },
  {
   "cell_type": "code",
   "execution_count": 65,
   "metadata": {
    "collapsed": false
   },
   "outputs": [
    {
     "data": {
      "text/latex": [
       "$0^\\circ00{}^\\prime01.2517{}^{\\prime\\prime}$"
      ],
      "text/plain": [
       "<Angle 0.0003476904883323653 deg>"
      ]
     },
     "execution_count": 65,
     "metadata": {},
     "output_type": "execute_result"
    }
   ],
   "source": [
    "c_1 = SkyCoord('02h25m17.6834s','+00d48m21.924s',frame='icrs')\n",
    "c_2 = SkyCoord('02h25m17.6001s','+00d48m22s',frame='icrs')\n",
    "c_1.separation(c_2)"
   ]
  },
  {
   "cell_type": "code",
   "execution_count": 53,
   "metadata": {
    "collapsed": false
   },
   "outputs": [
    {
     "name": "stdout",
     "output_type": "stream",
     "text": [
      "Your search yielded 1 match[es]\n",
      "Staged 0 spectra totalling 0 Gb\n",
      "No spectra matching in survey 2QZ\n",
      "Staged 1 spectra totalling 9.3e-05 Gb\n",
      "Loaded spectra\n",
      "Staged 0 spectra totalling 0 Gb\n",
      "No spectra matching in survey COS-Dwarfs\n",
      "Staged 0 spectra totalling 0 Gb\n",
      "No spectra matching in survey COS-Halos\n",
      "Staged 0 spectra totalling 0 Gb\n",
      "No spectra matching in survey ESI_DLA\n",
      "Staged 0 spectra totalling 0 Gb\n",
      "No spectra matching in survey GGG\n",
      "Staged 0 spectra totalling 0 Gb\n",
      "No spectra matching in survey HD-LLS_DR1\n",
      "Staged 0 spectra totalling 0 Gb\n",
      "No spectra matching in survey HDLA100\n",
      "Staged 0 spectra totalling 0 Gb\n",
      "No spectra matching in survey HSTQSO\n",
      "Staged 0 spectra totalling 0 Gb\n",
      "No spectra matching in survey HST_z2\n",
      "Staged 0 spectra totalling 0 Gb\n",
      "No spectra matching in survey KODIAQ_DR1\n",
      "Staged 1 spectra totalling 6.4e-05 Gb\n",
      "Loaded spectra\n",
      "Staged 0 spectra totalling 0 Gb\n",
      "No spectra matching in survey XQ-100\n"
     ]
    },
    {
     "data": {
      "text/plain": [
       "[<Table length=1>\n",
       "     SDSS_NAME            RA           DEC       ... INSTR GRATING TELESCOPE \n",
       "       str18           float64       float64     ...  str4   str4    str10   \n",
       " ------------------ ------------- -------------- ... ----- ------- ----------\n",
       " 020143.48+003222.7 30.4311972623 0.539642504377 ...  BOSS    BOTH SDSS 2.5-M,\n",
       " <Table length=1>\n",
       "       SDSSJ            RA      DEC    ... GRATING TELESCOPE  flag_zem\n",
       "       str31         float64  float64  ...   str4    str10     str10  \n",
       " ------------------ --------- -------- ... ------- ---------- --------\n",
       " 020143.48+003222.7 30.431195 0.539658 ...    BOTH SDSS 2.5-M  SDSS-HW]"
      ]
     },
     "execution_count": 53,
     "metadata": {},
     "output_type": "execute_result"
    }
   ],
   "source": [
    "(specs, metas) = igmsp.spec_from_coord('020143.49+003222.7')\n",
    "metas"
   ]
  },
  {
   "cell_type": "code",
   "execution_count": 36,
   "metadata": {
    "collapsed": false
   },
   "outputs": [
    {
     "data": {
      "text/html": [
       "&lt;Table length=1&gt;\n",
       "<table id=\"table4498974288\" class=\"table-striped table-bordered table-condensed\">\n",
       "<thead><tr><th>SDSS_NAME</th><th>RA</th><th>DEC</th><th>THING_ID</th><th>PLATE</th><th>MJD</th><th>FIBERID</th><th>Z_VI</th><th>Z_PIPE</th><th>ERR_ZPIPE</th><th>ZWARNING</th><th>Z_PCA</th><th>ERR_ZPCA</th><th>PCA_QUAL</th><th>Z_CIV</th><th>Z_CIII</th><th>Z_MGII</th><th>SDSS_MORPHO</th><th>BOSS_TARGET1</th><th>ANCILLARY_TARGET1</th><th>ANCILLARY_TARGET2</th><th>EBOSS_TARGET0</th><th>NSPEC_BOSS</th><th>PLATE_DUPLICATE [32]</th><th>MJD_DUPLICATE [32]</th><th>FIBERID_DUPLICATE [32]</th><th>SDSS_DR7</th><th>PLATE_DR7</th><th>MJD_DR7</th><th>FIBERID_DR7</th><th>UNIFORM</th><th>ALPHA_NU</th><th>SNR_SPEC</th><th>SNR_DUPLICATE [32]</th><th>SNR_1700</th><th>SNR_3000</th><th>SNR_5150</th><th>FWHM_CIV</th><th>BHWHM_CIV</th><th>RHWHM_CIV</th><th>AMP_CIV</th><th>REWE_CIV</th><th>ERR_REWE_CIV</th><th>FWHM_CIII</th><th>BHWHM_CIII</th><th>RHWHM_CIII</th><th>AMP_CIII</th><th>REWE_CIII</th><th>ERR_REWE_CIII</th><th>FWHM_MGII</th><th>BHWHM_MGII</th><th>RHWHM_MGII</th><th>AMP_MGII</th><th>REWE_MGII</th><th>ERR_REWE_MGII</th><th>BAL_FLAG_VI</th><th>BI_CIV</th><th>ERR_BI_CIV</th><th>AI_CIV</th><th>ERR_AI_CIV</th><th>CHI2TROUGH</th><th>NCIV_2000</th><th>VMIN_CIV_2000</th><th>VMAX_CIV_2000</th><th>NCIV_450</th><th>VMIN_CIV_450</th><th>VMAX_CIV_450</th><th>REW_SIIV</th><th>REW_CIV</th><th>REW_ALIII</th><th>RUN_NUMBER</th><th>PHOTO_MJD</th><th>RERUN_NUMBER</th><th>COL_NUMBER</th><th>FIELD_NUMBER</th><th>OBJ_ID</th><th>PSFFLUX [5]</th><th>IVAR_PSFFLUX [5]</th><th>PSFMAG [5]</th><th>ERR_PSFMAG [5]</th><th>TARGET_FLUX [5]</th><th>MI</th><th>DGMI</th><th>EXTINCTION [5]</th><th>EXTINCTION_RECAL [5]</th><th>HI_GAL</th><th>VAR_MATCHED</th><th>VAR_CHI2</th><th>VAR_A</th><th>VAR_GAMMA</th><th>RASS_COUNTS</th><th>RASS_COUNTS_SNR</th><th>SDSS2ROSAT_SEP</th><th>N_DETECTION_XMM</th><th>FLUX02_12KEV_SGL</th><th>ERR_FLUX02_12KEV_SGL</th><th>FLUX02_2KEV</th><th>ERR_FLUX02_2KEV</th><th>FLUX2_12KEV</th><th>ERR_FLUX2_12KEV</th><th>FLUX02_12KEV</th><th>ERR_FLUX02_12KEV</th><th>LUM02_2KEV_SGL</th><th>LUM05_2KEV</th><th>LUM2_12KEV</th><th>LUM02_2KEV</th><th>LUMX2_10_UPPER</th><th>SDSS2XMM_SEP</th><th>GALEX_MATCHED</th><th>FUV</th><th>FUV_IVAR</th><th>NUV</th><th>NUV_IVAR</th><th>JMAG</th><th>ERR_JMAG</th><th>JSNR</th><th>JRDFLAG</th><th>HMAG</th><th>ERR_HMAG</th><th>HSNR</th><th>HRDFLAG</th><th>KMAG</th><th>ERR_KMAG</th><th>KSNR</th><th>KRDFLAG</th><th>SDSS2MASS_SEP</th><th>W1MAG</th><th>ERR_W1MAG</th><th>W1SNR</th><th>W1CHI2</th><th>W2MAG</th><th>ERR_W2MAG</th><th>W2SNR</th><th>W2CHI2</th><th>W3MAG</th><th>ERR_W3MAG</th><th>W3SNR</th><th>W3CHI2</th><th>W4MAG</th><th>ERR_W4MAG</th><th>W4SNR</th><th>W4CHI2</th><th>CC_FLAGS</th><th>PH_FLAG</th><th>SDSS2WISE_SEP</th><th>UKIDSS_MATCHED</th><th>YFLUX</th><th>YFLUX_ERR</th><th>JFLUX</th><th>JFLUX_ERR</th><th>HFLUX</th><th>HFLUX_ERR</th><th>KFLUX</th><th>KFLUX_ERR</th><th>FIRST_MATCHED</th><th>FIRST_FLUX</th><th>FIRST_SNR</th><th>SDSS2FIRST_SEP</th><th>DATE-OBS</th><th>R</th><th>zem</th><th>sig_zem</th><th>flag_zem</th><th>IGM_ID</th><th>SPEC_FILE</th><th>NPIX</th><th>WV_MIN</th><th>WV_MAX</th><th>SURVEY_ID</th><th>EPOCH</th><th>CAT</th><th>INSTR</th><th>GRATING</th><th>TELESCOPE</th></tr></thead>\n",
       "<thead><tr><th>str18</th><th>float64</th><th>float64</th><th>int32</th><th>int32</th><th>int32</th><th>int32</th><th>float64</th><th>float64</th><th>float64</th><th>int32</th><th>float64</th><th>float64</th><th>float64</th><th>float64</th><th>float64</th><th>float64</th><th>int32</th><th>int64</th><th>int64</th><th>int64</th><th>int64</th><th>int32</th><th>int32</th><th>int32</th><th>int32</th><th>int32</th><th>int32</th><th>int32</th><th>int32</th><th>int16</th><th>float64</th><th>float64</th><th>float64</th><th>float64</th><th>float64</th><th>float64</th><th>float64</th><th>float64</th><th>float64</th><th>float64</th><th>float64</th><th>float64</th><th>float64</th><th>float64</th><th>float64</th><th>float64</th><th>float64</th><th>float64</th><th>float64</th><th>float64</th><th>float64</th><th>float64</th><th>float64</th><th>float64</th><th>int32</th><th>float64</th><th>float64</th><th>float64</th><th>float64</th><th>float64</th><th>int32</th><th>float64</th><th>float64</th><th>int32</th><th>float64</th><th>float64</th><th>float64</th><th>float64</th><th>float64</th><th>int16</th><th>int32</th><th>str3</th><th>int16</th><th>int16</th><th>str19</th><th>float64</th><th>float64</th><th>float64</th><th>float64</th><th>float64</th><th>float64</th><th>float64</th><th>float64</th><th>float32</th><th>float64</th><th>int16</th><th>float64</th><th>float64</th><th>float64</th><th>float64</th><th>float64</th><th>float64</th><th>int16</th><th>float64</th><th>float64</th><th>float64</th><th>float64</th><th>float64</th><th>float64</th><th>float64</th><th>float64</th><th>float64</th><th>float64</th><th>float64</th><th>float64</th><th>int16</th><th>float64</th><th>int16</th><th>float64</th><th>float64</th><th>float64</th><th>float64</th><th>float64</th><th>float64</th><th>float64</th><th>int32</th><th>float64</th><th>float64</th><th>float64</th><th>int32</th><th>float64</th><th>float64</th><th>float64</th><th>int32</th><th>float64</th><th>float64</th><th>float64</th><th>float64</th><th>float64</th><th>float64</th><th>float64</th><th>float64</th><th>float64</th><th>float64</th><th>float64</th><th>float64</th><th>float64</th><th>float64</th><th>float64</th><th>float64</th><th>float64</th><th>str4</th><th>str4</th><th>float64</th><th>int16</th><th>float32</th><th>float32</th><th>float32</th><th>float32</th><th>float32</th><th>float32</th><th>float32</th><th>float32</th><th>int16</th><th>float64</th><th>float64</th><th>float64</th><th>str10</th><th>float64</th><th>float64</th><th>float64</th><th>str9</th><th>int64</th><th>str28</th><th>int64</th><th>float64</th><th>float64</th><th>int64</th><th>float64</th><th>str5</th><th>str4</th><th>str4</th><th>str10</th></tr></thead>\n",
       "<tr><td>022517.67+004821.9</td><td>36.3236563298</td><td>0.806094386422</td><td>110824852</td><td>6780</td><td>56577</td><td>600</td><td>2.735</td><td>2.71879839897</td><td>0.00048095555394</td><td>0</td><td>2.73468700213</td><td>-1.0</td><td>0.0574668400994</td><td>2.71391855333</td><td>2.71924983077</td><td>-1.0</td><td>0</td><td>4096</td><td>0</td><td>134217728</td><td>0</td><td>3</td><td>6370 .. -1</td><td>56238 .. -1</td><td>592 .. -1</td><td>1</td><td>1508</td><td>52944</td><td>533</td><td>0</td><td>-0.403327574388</td><td>5.26009932464</td><td>3.21941953936 .. -1.0</td><td>6.1495299731</td><td>-1.0</td><td>-1.0</td><td>8183.41314115</td><td>4654.38699407</td><td>3529.02614708</td><td>4.15937579574</td><td>29.4633346768</td><td>0.829443785265</td><td>8135.6946964</td><td>3650.1055229</td><td>4485.5891735</td><td>3.31214926938</td><td>27.8978151872</td><td>2.41327119054</td><td>-1.0</td><td>-1.0</td><td>-1.0</td><td>-1.0</td><td>-1.0</td><td>-1.0</td><td>0</td><td>0.0</td><td>0.0</td><td>363.03631392</td><td>35.181856812</td><td>10.9130446072</td><td>0</td><td>0.0</td><td>0.0</td><td>2</td><td>1.66805671441</td><td>22220.1834862</td><td>0.0</td><td>0.0</td><td>0.0</td><td>2820</td><td>52261</td><td>301</td><td>5</td><td>109</td><td>1237657587096027528</td><td>1.69164609909 .. 6.17131376266</td><td>19.9168567657 .. 1.63567590714</td><td>21.9218654633 .. 20.5087718964</td><td>0.141884624958 .. 0.133768901229</td><td>-1.0 .. -1.0</td><td>-25.8095364852</td><td>0.179479524493</td><td>0.203960433602 .. 0.0585174486041</td><td>0.211264 .. 0.0629456</td><td>21.7604413326</td><td>89</td><td>15.8031692505</td><td>0.180879965425</td><td>0.472228884697</td><td>0.0</td><td>0.0</td><td>0.0</td><td>0</td><td>0.0</td><td>0.0</td><td>0.0</td><td>0.0</td><td>0.0</td><td>0.0</td><td>0.0</td><td>0.0</td><td>0.0</td><td>0.0</td><td>0.0</td><td>0.0</td><td>0</td><td>0.0</td><td>1</td><td>0.0199743490666</td><td>1268.93944838</td><td>-0.105492308736</td><td>106.366614012</td><td>0.0</td><td>0.0</td><td>0.0</td><td>0</td><td>0.0</td><td>0.0</td><td>0.0</td><td>0</td><td>0.0</td><td>0.0</td><td>0.0</td><td>0</td><td>0.0</td><td>0.0</td><td>0.0</td><td>0.0</td><td>0.0</td><td>0.0</td><td>0.0</td><td>0.0</td><td>0.0</td><td>0.0</td><td>0.0</td><td>0.0</td><td>0.0</td><td>0.0</td><td>0.0</td><td>0.0</td><td>0.0</td><td></td><td></td><td>0.0</td><td>1</td><td>2.10258e-31</td><td>3.35997e-32</td><td>2.14301e-31</td><td>3.84726e-32</td><td>1.8909e-31</td><td>6.53236e-32</td><td>2.68743e-31</td><td>6.02758e-32</td><td>0</td><td>0.0</td><td>0.0</td><td>0.0</td><td>2013-10-12</td><td>2100.0</td><td>2.73468700213</td><td>-1.0</td><td>BOSS_PCA</td><td>35342</td><td>spec-6780-56577-0600.fits.gz</td><td>4551</td><td>3611.60229492</td><td>10296.7480469</td><td>35342</td><td>2000.0</td><td>DR12Q</td><td>BOSS</td><td>BOTH</td><td>SDSS 2.5-M</td></tr>\n",
       "</table>"
      ],
      "text/plain": [
       "<Table length=1>\n",
       "    SDSS_NAME            RA           DEC       ... INSTR GRATING TELESCOPE \n",
       "      str18           float64       float64     ...  str4   str4    str10   \n",
       "------------------ ------------- -------------- ... ----- ------- ----------\n",
       "022517.67+004821.9 36.3236563298 0.806094386422 ...  BOSS    BOTH SDSS 2.5-M"
      ]
     },
     "execution_count": 36,
     "metadata": {},
     "output_type": "execute_result"
    }
   ],
   "source": [
    "metas[0]"
   ]
  },
  {
   "cell_type": "code",
   "execution_count": 37,
   "metadata": {
    "collapsed": false
   },
   "outputs": [
    {
     "data": {
      "text/html": [
       "&lt;Table length=1&gt;\n",
       "<table id=\"table4477052496\" class=\"table-striped table-bordered table-condensed\">\n",
       "<thead><tr><th>SDSSJ</th><th>RA</th><th>DEC</th><th>zem</th><th>UMAG</th><th>UMAGERR</th><th>GMAG</th><th>GMAGERR</th><th>RMAG</th><th>RMAGERR</th><th>IMAG</th><th>IMAGERR</th><th>ZMAG</th><th>ZMAGERR</th><th>AU</th><th>logNH</th><th>FIRSTMAG</th><th>FIRSTSN</th><th>FIRSTDEL</th><th>RASSCNT</th><th>RASSSN</th><th>RASSDEL</th><th>JMAG</th><th>JMAGERR</th><th>HMAG</th><th>HMAGERR</th><th>KMAG</th><th>KMAGERR</th><th>MASSDEL</th><th>MASSFLG</th><th>MIMAG</th><th>DGMI</th><th>MFLAG</th><th>SPFLAG</th><th>MODEFLAG</th><th>USELFLAG</th><th>BESTFLAG</th><th>LZFLAG</th><th>HZFLAG</th><th>FTFLAG</th><th>RTFLAG</th><th>SRFLAG</th><th>STFLAG</th><th>GXFLAG</th><th>RUN</th><th>RMJD</th><th>SMJD</th><th>PLATE</th><th>FIBER</th><th>RERUN</th><th>CAMCOL</th><th>FIELD</th><th>OBJECT</th><th>TFLAG</th><th>LZTFLAG</th><th>HZTFLAG</th><th>FTTFLAG</th><th>RTTFLAG</th><th>SRTFLAG</th><th>STTFLAG</th><th>GXTFLAG</th><th>UTMAG</th><th>UTMAGERR</th><th>GTMAG</th><th>GTMAGERR</th><th>RTMAG</th><th>RTMAGERR</th><th>ITMAG</th><th>ITMAGERR</th><th>ZTMAG</th><th>ZTMAGERR</th><th>BESTID</th><th>SPECOID</th><th>ONAME</th><th>DATE-OBS</th><th>EPOCH</th><th>R</th><th>sig_zem</th><th>IGM_ID</th><th>SPEC_FILE</th><th>NPIX</th><th>WV_MIN</th><th>WV_MAX</th><th>SURVEY_ID</th><th>INSTR</th><th>GRATING</th><th>TELESCOPE</th><th>flag_zem</th></tr></thead>\n",
       "<thead><tr><th>str31</th><th>float64</th><th>float64</th><th>float64</th><th>float64</th><th>float64</th><th>float64</th><th>float64</th><th>float64</th><th>float64</th><th>float64</th><th>float64</th><th>float64</th><th>float64</th><th>float64</th><th>float64</th><th>float64</th><th>float64</th><th>float64</th><th>float64</th><th>float64</th><th>float64</th><th>float64</th><th>float64</th><th>float64</th><th>float64</th><th>float64</th><th>float64</th><th>float64</th><th>int32</th><th>float64</th><th>float64</th><th>int32</th><th>int32</th><th>int32</th><th>int32</th><th>int32</th><th>int32</th><th>int32</th><th>int32</th><th>int32</th><th>int32</th><th>int32</th><th>int32</th><th>int32</th><th>int32</th><th>int32</th><th>int32</th><th>int32</th><th>int32</th><th>int32</th><th>int32</th><th>int32</th><th>int32</th><th>int32</th><th>int32</th><th>int32</th><th>int32</th><th>int32</th><th>int32</th><th>int32</th><th>float64</th><th>float64</th><th>float64</th><th>float64</th><th>float64</th><th>float64</th><th>float64</th><th>float64</th><th>float64</th><th>float64</th><th>str31</th><th>str31</th><th>str31</th><th>str10</th><th>float64</th><th>float64</th><th>float64</th><th>int64</th><th>str28</th><th>int64</th><th>float64</th><th>float64</th><th>int64</th><th>str4</th><th>str4</th><th>str10</th><th>str10</th></tr></thead>\n",
       "<tr><td>022517.68+004821.9</td><td>36.323682</td><td>0.80609</td><td>2.7216129303</td><td>21.936</td><td>0.191</td><td>20.797</td><td>0.041</td><td>20.486</td><td>0.031</td><td>20.382</td><td>0.041</td><td>20.551</td><td>0.15</td><td>0.204</td><td>20.476</td><td>0.0</td><td>0.0</td><td>0.0</td><td>-9.0</td><td>0.0</td><td>0.0</td><td>0.0</td><td>0.0</td><td>0.0</td><td>0.0</td><td>0.0</td><td>0.0</td><td>0.0</td><td>0</td><td>-25.778</td><td>0.244</td><td>0</td><td>0</td><td>1</td><td>0</td><td>0</td><td>0</td><td>0</td><td>0</td><td>0</td><td>0</td><td>0</td><td>0</td><td>2738</td><td>52234</td><td>52944</td><td>1508</td><td>533</td><td>40</td><td>5</td><td>161</td><td>400</td><td>0</td><td>0</td><td>0</td><td>0</td><td>0</td><td>0</td><td>0</td><td>0</td><td>21.936</td><td>0.191</td><td>20.797</td><td>0.041</td><td>20.486</td><td>0.031</td><td>20.382</td><td>0.041</td><td>20.551</td><td>0.15</td><td>587731513687212432</td><td>424691659863752704</td><td>SDSS J022517.68+004821.9</td><td>2003-11-01</td><td>2000.0</td><td>2000.0</td><td>0.0</td><td>35342</td><td>spSpec-52944-1508-533.fit.gz</td><td>3840</td><td>3803.64520329</td><td>9206.61537502</td><td>6146</td><td>SDSS</td><td>BOTH</td><td>SDSS 2.5-M</td><td>SDSS-HW</td></tr>\n",
       "</table>"
      ],
      "text/plain": [
       "<Table length=1>\n",
       "      SDSSJ            RA      DEC   ... GRATING TELESCOPE  flag_zem\n",
       "      str31         float64  float64 ...   str4    str10     str10  \n",
       "------------------ --------- ------- ... ------- ---------- --------\n",
       "022517.68+004821.9 36.323682 0.80609 ...    BOTH SDSS 2.5-M  SDSS-HW"
      ]
     },
     "execution_count": 37,
     "metadata": {},
     "output_type": "execute_result"
    }
   ],
   "source": [
    "metas[1]"
   ]
  },
  {
   "cell_type": "code",
   "execution_count": 59,
   "metadata": {
    "collapsed": false
   },
   "outputs": [
    {
     "data": {
      "text/plain": [
       "44"
      ]
     },
     "execution_count": 59,
     "metadata": {},
     "output_type": "execute_result"
    }
   ],
   "source": [
    "c1 = SkyCoord('14h27m58.8897s','-01d21m30.3753s',frame='icrs')\n",
    "np.where(c1.separation(c_QPQ9) < 5*u.arcsec)[0][0]"
   ]
  },
  {
   "cell_type": "code",
   "execution_count": 55,
   "metadata": {
    "collapsed": false
   },
   "outputs": [
    {
     "name": "stderr",
     "output_type": "stream",
     "text": [
      "/Users/lwymarie/anaconda/lib/python2.7/site-packages/ipykernel/__main__.py:2: UserWarning: deprecated\n",
      "  from ipykernel import kernelapp as app\n"
     ]
    }
   ],
   "source": [
    "import warnings\n",
    "warnings.warn(\"deprecated\")"
   ]
  },
  {
   "cell_type": "code",
   "execution_count": 62,
   "metadata": {
    "collapsed": false
   },
   "outputs": [
    {
     "data": {
      "text/html": [
       "&lt;Row index=1816&gt;\n",
       "<table id=\"table4572419088\">\n",
       "<thead><tr><th>sig_zem</th><th>flag_zem</th><th>flag_survey</th><th>zem</th><th>RA</th><th>DEC</th><th>IGM_ID</th><th>STYPE</th><th>PRIV_ID</th></tr></thead>\n",
       "<thead><tr><th>float64</th><th>str9</th><th>int64</th><th>float64</th><th>float64</th><th>float64</th><th>int64</th><th>str3</th><th>int64</th></tr></thead>\n",
       "<tr><td>0.000</td><td>BOSS_PCA</td><td>1</td><td>2.805</td><td>11.4822</td><td>0.1901</td><td>12537</td><td>QSO</td><td>1816</td></tr>\n",
       "</table>"
      ],
      "text/plain": [
       "<Row index=1816>\n",
       "sig_zem flag_zem flag_survey   zem      RA      DEC    IGM_ID STYPE PRIV_ID\n",
       "float64   str9      int64    float64 float64  float64  int64   str3  int64 \n",
       "------- -------- ----------- ------- -------- -------- ------ ----- -------\n",
       "  0.000 BOSS_PCA           1   2.805  11.4822   0.1901  12537   QSO    1816"
      ]
     },
     "execution_count": 62,
     "metadata": {},
     "output_type": "execute_result"
    }
   ],
   "source": [
    "qpqsp.cat[1816]"
   ]
  },
  {
   "cell_type": "code",
   "execution_count": 61,
   "metadata": {
    "collapsed": false
   },
   "outputs": [
    {
     "data": {
      "text/html": [
       "&lt;Row index=4087&gt;\n",
       "<table id=\"table4572419088\">\n",
       "<thead><tr><th>sig_zem</th><th>flag_zem</th><th>flag_survey</th><th>zem</th><th>RA</th><th>DEC</th><th>IGM_ID</th><th>STYPE</th><th>PRIV_ID</th></tr></thead>\n",
       "<thead><tr><th>float64</th><th>str9</th><th>int64</th><th>float64</th><th>float64</th><th>float64</th><th>int64</th><th>str3</th><th>int64</th></tr></thead>\n",
       "<tr><td>0.000</td><td>BOSS_PCA</td><td>1</td><td>2.805</td><td>11.4822</td><td>0.1901</td><td>12537</td><td>QSO</td><td>4087</td></tr>\n",
       "</table>"
      ],
      "text/plain": [
       "<Row index=4087>\n",
       "sig_zem flag_zem flag_survey   zem      RA      DEC    IGM_ID STYPE PRIV_ID\n",
       "float64   str9      int64    float64 float64  float64  int64   str3  int64 \n",
       "------- -------- ----------- ------- -------- -------- ------ ----- -------\n",
       "  0.000 BOSS_PCA           1   2.805  11.4822   0.1901  12537   QSO    4087"
      ]
     },
     "execution_count": 61,
     "metadata": {},
     "output_type": "execute_result"
    }
   ],
   "source": [
    "qpqsp.cat[4087]"
   ]
  },
  {
   "cell_type": "code",
   "execution_count": 95,
   "metadata": {
    "collapsed": false
   },
   "outputs": [
    {
     "data": {
      "text/plain": [
       "3.175535037626087"
      ]
     },
     "execution_count": 95,
     "metadata": {},
     "output_type": "execute_result"
    }
   ],
   "source": [
    "100./299792. * (2800*(1+2.4))"
   ]
  },
  {
   "cell_type": "code",
   "execution_count": 200,
   "metadata": {
    "collapsed": false
   },
   "outputs": [
    {
     "data": {
      "text/plain": [
       "array([[-1,  0]])"
      ]
     },
     "execution_count": 200,
     "metadata": {},
     "output_type": "execute_result"
    }
   ],
   "source": [
    "sig = np.array([1,0,0,4,5])\n",
    "msk = np.ones(5)\n",
    "bad = np.where((sig <= 0.) | (sig is np.nan))\n",
    "msk[bad] = 0\n",
    "msk[np.array(bad)-2] = 0\n",
    "msk[np.array(bad)+2] = 0\n",
    "np.array(bad)-2"
   ]
  },
  {
   "cell_type": "code",
   "execution_count": 199,
   "metadata": {
    "collapsed": false
   },
   "outputs": [
    {
     "data": {
      "text/plain": [
       "array([1])"
      ]
     },
     "execution_count": 199,
     "metadata": {},
     "output_type": "execute_result"
    }
   ],
   "source": [
    "twod_msk = np.ones((10,5))\n",
    "twod_msk[1,np.array(bad)-2] = 0\n",
    "bad[0]"
   ]
  },
  {
   "cell_type": "code",
   "execution_count": 177,
   "metadata": {
    "collapsed": false
   },
   "outputs": [
    {
     "data": {
      "text/plain": [
       "False"
      ]
     },
     "execution_count": 177,
     "metadata": {},
     "output_type": "execute_result"
    }
   ],
   "source": [
    "(bad == tuple()) is True"
   ]
  },
  {
   "cell_type": "code",
   "execution_count": 180,
   "metadata": {
    "collapsed": false
   },
   "outputs": [
    {
     "data": {
      "text/plain": [
       "numpy.ndarray"
      ]
     },
     "execution_count": 180,
     "metadata": {},
     "output_type": "execute_result"
    }
   ],
   "source": [
    "type(bad[0])"
   ]
  },
  {
   "cell_type": "code",
   "execution_count": 201,
   "metadata": {
    "collapsed": false
   },
   "outputs": [
    {
     "name": "stdout",
     "output_type": "stream",
     "text": [
      "[1 2]\n"
     ]
    }
   ],
   "source": [
    "for bb in bad:\n",
    "    print(bb)"
   ]
  },
  {
   "cell_type": "code",
   "execution_count": 206,
   "metadata": {
    "collapsed": false
   },
   "outputs": [
    {
     "data": {
      "text/plain": [
       "{1, 5, 6}"
      ]
     },
     "execution_count": 206,
     "metadata": {},
     "output_type": "execute_result"
    }
   ],
   "source": [
    "set([1,2,3,4,5,6]) - set([2,3,4])"
   ]
  },
  {
   "cell_type": "code",
   "execution_count": 226,
   "metadata": {
    "collapsed": false
   },
   "outputs": [
    {
     "name": "stdout",
     "output_type": "stream",
     "text": [
      "{'a': 12, 'b': 'abc'}\n"
     ]
    }
   ],
   "source": [
    "def my_function(**kwargs):\n",
    "    print str(kwargs)\n",
    "\n",
    "my_function(a=12, b=\"abc\")"
   ]
  },
  {
   "cell_type": "code",
   "execution_count": null,
   "metadata": {
    "collapsed": true
   },
   "outputs": [],
   "source": []
  }
 ],
 "metadata": {
  "kernelspec": {
   "display_name": "Python 2",
   "language": "python",
   "name": "python2"
  },
  "language_info": {
   "codemirror_mode": {
    "name": "ipython",
    "version": 2
   },
   "file_extension": ".py",
   "mimetype": "text/x-python",
   "name": "python",
   "nbconvert_exporter": "python",
   "pygments_lexer": "ipython2",
   "version": "2.7.12"
  }
 },
 "nbformat": 4,
 "nbformat_minor": 0
}
