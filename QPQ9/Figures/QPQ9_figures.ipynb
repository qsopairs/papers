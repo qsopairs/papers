{
 "cells": [
  {
   "cell_type": "markdown",
   "metadata": {},
   "source": [
    "# Figures for QPQ9"
   ]
  },
  {
   "cell_type": "code",
   "execution_count": 1,
   "metadata": {
    "collapsed": true
   },
   "outputs": [],
   "source": [
    "%matplotlib inline"
   ]
  },
  {
   "cell_type": "code",
   "execution_count": 2,
   "metadata": {
    "collapsed": false
   },
   "outputs": [
    {
     "name": "stderr",
     "output_type": "stream",
     "text": [
      "/Users/lwymarie/anaconda/lib/python2.7/site-packages/astroquery/sdss/__init__.py:28: UserWarning: Experimental: SDSS has not yet been refactored to have its API match the rest of astroquery (but it's nearly there).\n",
      "  warnings.warn(\"Experimental: SDSS has not yet been refactored to have its API \"\n"
     ]
    }
   ],
   "source": [
    "from __future__ import print_function, absolute_import, division, unicode_literals\n",
    "\n",
    "import numpy as np\n",
    "import glob, os, sys, copy\n",
    "from scipy import stats as scistats\n",
    "\n",
    "import matplotlib as mpl\n",
    "mpl.rcParams['font.family'] = 'stixgeneral'\n",
    "from matplotlib.backends.backend_pdf import PdfPages\n",
    "from matplotlib import pyplot as plt\n",
    "import matplotlib.gridspec as gridspec\n",
    "\n",
    "from astropy.table import QTable, Table\n",
    "from astropy.io import ascii\n",
    "from astropy import units as u\n",
    "from astropy import constants as const\n",
    "\n",
    "from linetools.spectralline import AbsLine\n",
    "\n",
    "from xastropy.igm.abs_sys import abssys_utils as abssys\n",
    "from xastropy import spec as xspec\n",
    "from xastropy.plotting import utils as xputils\n",
    "from xastropy.xutils import xdebug as xdb\n",
    "from xastropy.obs import radec as xor\n",
    "from xastropy.atomic import ionization as xai\n",
    "\n",
    "sys.path.append(os.path.abspath(\"./py\"))\n",
    "import qpq9_figs as qpq9f"
   ]
  },
  {
   "cell_type": "markdown",
   "metadata": {},
   "source": [
    "## Experiment"
   ]
  },
  {
   "cell_type": "code",
   "execution_count": null,
   "metadata": {
    "collapsed": false
   },
   "outputs": [
    {
     "name": "stdout",
     "output_type": "stream",
     "text": [
      "Reading /Users/lwymarie/python/enigma/enigma/data/qpq/qpq9_final.fits\n",
      "4.5030178527 1 / Angstrom"
     ]
    }
   ],
   "source": [
    "reload(qpq9f)\n",
    "qpq9f.experiment(outfil='fig_experiment_CII.pdf',wrest=1334.5323*u.AA,S2N_cut=5.5/u.AA,zfg_mnx=(1.6,9999))"
   ]
  },
  {
   "cell_type": "code",
   "execution_count": null,
   "metadata": {
    "collapsed": true
   },
   "outputs": [],
   "source": [
    "reload(qpq9f)\n",
    "qpq9f.experiment(outfil='fig_experiment_CIV.pdf',wrest=1548.195*u.AA,S2N_cut=5.5/u.AA,zfg_mnx=(1.6,9999))"
   ]
  },
  {
   "cell_type": "code",
   "execution_count": null,
   "metadata": {
    "collapsed": true
   },
   "outputs": [],
   "source": [
    "reload(qpq9f)\n",
    "qpq9f.experiment(outfil='fig_experiment_MgII.pdf',wrest=2796.352*u.AA,S2N_cut=5.5/u.AA,zfg_mnx=(1.6,9999))"
   ]
  }
 ],
 "metadata": {
  "kernelspec": {
   "display_name": "Python 2",
   "language": "python",
   "name": "python2"
  },
  "language_info": {
   "codemirror_mode": {
    "name": "ipython",
    "version": 2
   },
   "file_extension": ".py",
   "mimetype": "text/x-python",
   "name": "python",
   "nbconvert_exporter": "python",
   "pygments_lexer": "ipython2",
   "version": "2.7.12"
  }
 },
 "nbformat": 4,
 "nbformat_minor": 0
}
