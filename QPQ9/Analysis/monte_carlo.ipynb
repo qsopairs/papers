{
 "cells": [
  {
   "cell_type": "markdown",
   "metadata": {},
   "source": [
    "## Monte Carlo simulation trial"
   ]
  },
  {
   "cell_type": "code",
   "execution_count": 1,
   "metadata": {
    "collapsed": false
   },
   "outputs": [
    {
     "name": "stderr",
     "output_type": "stream",
     "text": [
      "/Users/lwymarie/anaconda/lib/python2.7/site-packages/astroquery/sdss/__init__.py:28: UserWarning: Experimental: SDSS has not yet been refactored to have its API match the rest of astroquery (but it's nearly there).\n",
      "  warnings.warn(\"Experimental: SDSS has not yet been refactored to have its API \"\n"
     ]
    }
   ],
   "source": [
    "%matplotlib inline\n",
    "from __future__ import print_function,absolute_import,division,unicode_literals\n",
    "import numpy as np\n",
    "import glob,os,sys,copy,imp \n",
    "from scipy import stats as scistats\n",
    "import matplotlib as mpl\n",
    "mpl.rcParams['font.family']='stixgeneral'\n",
    "from matplotlib.backends.backend_pdf import PdfPages\n",
    "from matplotlib import pyplot as plt\n",
    "import matplotlib.gridspec as gridspec\n",
    "from astropy.table import QTable,Table\n",
    "from astropy.io import ascii,fits\n",
    "from astropy import units as u\n",
    "from astropy import constants as const\n",
    "from astropy.coordinates import SkyCoord\n",
    "from linetools.spectralline import AbsLine\n",
    "import linetools.utils as ltu\n",
    "from xastropy.igm.abs_sys import abssys_utils as abssys\n",
    "from xastropy import spec as xpsec\n",
    "from xastropy.plotting import utils as xputils\n",
    "from xastropy.xutils import xdebug as xdb\n",
    "from xastropy.obs import radec as xor\n",
    "from xastropy.atomic import ionization as xai\n",
    "from xastropy.xutils import fits as xxf\n",
    "sys.path.append(os.path.abspath(\"../../../py\"))\n",
    "from enigma.qpq import utils as qpqutils\n",
    "from enigma.qpq import spec as qpqs\n",
    "from enigma.qpq import stacks as qpqk\n",
    "sys.path.append(os.path.abspath(\"./Stacks/py\"))\n",
    "import qpq9_stacks as qpq9k\n",
    "import scipy.integrate as integrate\n",
    "from astropy.modeling import models,fitting\n",
    "from astropy.cosmology import FlatLambdaCDM\n",
    "cosmo = FlatLambdaCDM(H0=70,Om0=0.26)"
   ]
  },
  {
   "cell_type": "code",
   "execution_count": 9,
   "metadata": {
    "collapsed": false
   },
   "outputs": [],
   "source": [
    "def gen_stck_img(R_phys,z_fg,Deltav,v_grid,n_trials): # R_phys in kpc, Deltav in km/s\n",
    "    probs = np.zeros(len(v_grid))\n",
    "    cumulative_probs = np.zeros(len(v_grid))\n",
    "    Hubble_h = cosmo.H(0).value/100.\n",
    "    ell_IGM_DLA = 0.2*((1+z_fg)/(1+2.5))**2.1\n",
    "    ell_IGM_SLLS = 0.44*((1+z_fg)/(1+2.5))**2.1\n",
    "    ell_IGM_LLS = 1.05*((1+z_fg)/(1+2.5))**2.1\n",
    "    R_comov = R_phys/1000.*(1+z_fg)*Hubble_h # in h^-1 Mpc \n",
    "    for ii,vv in enumerate(v_grid):\n",
    "        gamma_DLA = 1.6\n",
    "        r0_DLA = 3.9\n",
    "#        gamma_SLLS = 1.6\n",
    "#        r0_SLLS = 15.5\n",
    "#        gamma_LLS = 1.6\n",
    "#        r0_LLS = 13.9\n",
    "        gamma_SLLS = 1.68\n",
    "        r0_SLLS = 14.0\n",
    "        gamma_LLS = 1.68\n",
    "        r0_LLS = 12.5\n",
    "        chi_DLA = 1./Deltav*integrate.quad(\n",
    "            lambda v:(np.sqrt(R_comov**2+(v/(cosmo.H(z_fg).value/(1+z_fg)))**2)/r0_DLA)**(-gamma_DLA),\n",
    "            v_grid[ii]-Deltav/2,v_grid[ii]+Deltav/2)[0]\n",
    "        chi_SLLS = 1./Deltav*integrate.quad(\n",
    "            lambda v:(np.sqrt(R_comov**2+(v/(cosmo.H(z_fg).value/(1+z_fg)))**2)/r0_SLLS)**(-gamma_SLLS),\n",
    "            v_grid[ii]-Deltav/2,v_grid[ii]+Deltav/2)[0]\n",
    "        chi_LLS = 1./Deltav*integrate.quad(\n",
    "            lambda v:(np.sqrt(R_comov**2+(v/(cosmo.H(z_fg).value/(1+z_fg)))**2)/r0_LLS)**(-gamma_LLS),\n",
    "            v_grid[ii]-Deltav/2,v_grid[ii]+Deltav/2)[0]\n",
    "        Deltaz = ltu.z_from_v(z_fg,v_grid[ii]+Deltav/2)-ltu.z_from_v(z_fg,v_grid[ii]-Deltav/2)\n",
    "        prob = (ell_IGM_DLA*(1+chi_DLA)+ell_IGM_SLLS*(1+chi_SLLS)+ell_IGM_LLS*(1+chi_LLS))*Deltaz\n",
    "        # test effect of doubling number of absorbers \n",
    "#        prob = prob*2\n",
    "        probs[ii] = prob\n",
    "        cumulative_probs[ii] = prob + np.sum(probs[0:ii])\n",
    "    norm = np.sum(probs)\n",
    "    probs = probs/norm\n",
    "    print('Expected number of absorbers at R_phys',norm,R_phys)   \n",
    "    stck_img = np.zeros((n_trials,len(v_grid)))\n",
    "    for nt in np.arange(n_trials):\n",
    "        N_abs = np.random.poisson(norm)\n",
    "        flux = np.ones(len(v_grid))\n",
    "        for ii,na in enumerate(np.arange(N_abs)):\n",
    "            v_Hubble = np.random.choice(v_grid,p=probs)\n",
    "            v_peculiar = np.random.normal(loc=0.,scale=212.) # sigma_1D for QPQ halo mass \n",
    "            # Want mean = 207 km/s, final dispersion = 352 km/s\n",
    "#            v_peculiar = np.random.normal(loc=170.,scale=283.)\n",
    "            v_add = v_Hubble + v_peculiar\n",
    "        # rest EW = 0.3 angstrom, mean of QPQ8\n",
    "#            one_abs = models.GaussianAbsorption1D(amplitude=0.74,mean=v_add,stddev=35.)\n",
    "            # Higher rest EW to match data amplitude \n",
    "            one_abs = models.GaussianAbsorption1D(amplitude=3.0,mean=v_add,stddev=34.) \n",
    "            flux = flux*one_abs(v_grid)\n",
    "            flux[np.where(flux < 0.)] = 0.\n",
    "        stck_img[nt,:] = flux    \n",
    "    \n",
    "    return stck_img"
   ]
  },
  {
   "cell_type": "code",
   "execution_count": 8,
   "metadata": {
    "collapsed": false
   },
   "outputs": [
    {
     "name": "stdout",
     "output_type": "stream",
     "text": [
      "rest EW in angstrom 0.608591330722\n"
     ]
    },
    {
     "name": "stderr",
     "output_type": "stream",
     "text": [
      "/Users/lwymarie/anaconda/lib/python2.7/site-packages/ipykernel/__main__.py:12: RuntimeWarning: divide by zero encountered in log\n"
     ]
    },
    {
     "data": {
      "text/plain": [
       "[-200, 200, 0, 1.05]"
      ]
     },
     "execution_count": 8,
     "metadata": {},
     "output_type": "execute_result"
    },
    {
     "data": {
      "image/png": "[encoded data removed]",
      "text/plain": [
       "<matplotlib.figure.Figure at 0x10f813890>"
      ]
     },
     "metadata": {},
     "output_type": "display_data"
    }
   ],
   "source": [
    "# Try CII absorbers of other amplitude, std_dev that preserve rest EW = 0.31 angstrom \n",
    "Deltav = 10.\n",
    "v_grid = -2000. + np.arange((2000.-(-2000.))/Deltav+1)*Deltav\n",
    "relativistic_equiv = u.doppler_relativistic(1334.5323*u.AA)\n",
    "wave_grid = (v_grid*u.km/u.s).to(u.AA,equivalencies=relativistic_equiv)\n",
    "#tau = models.Voigt1D(x_0=0.,amplitude_L=244,fwhm_L=0.7,fwhm_G=35)\n",
    "#tau2 = models.Voigt1D(x_0=100.,amplitude_L=244,fwhm_L=0.7,fwhm_G=35)\n",
    "#flux = np.exp(-1.*tau(v_grid))*np.exp(-1.*tau2(v_grid))\n",
    "one_abs = models.GaussianAbsorption1D(amplitude=3.0,mean=0,stddev=34.)\n",
    "flux = one_abs(v_grid)\n",
    "flux[np.where(flux < 0.)] = 0.\n",
    "tau = -np.log(flux)\n",
    "total_flux = np.exp(-tau)\n",
    "plt.plot(v_grid,total_flux,drawstyle='steps-mid',linewidth=2)\n",
    "print('rest EW in angstrom',np.sum((1.-total_flux[:-1])*np.diff(wave_grid.value)))\n",
    "plt.axis([-200,200,0,1.05])\n",
    "#one_abs = models.GaussianAbsorption1D(amplitude=0.7,mean=0,stddev=39.)\n",
    "#flux = one_abs(v_grid)\n",
    "#tau = -np.log(flux)\n",
    "#total_flux = np.exp(-2*tau)\n",
    "#plt.plot(v_grid,total_flux,drawstyle='steps-mid',linewidth=2)\n",
    "#print('rest EW in angstrom',np.sum((1.-total_flux[:-1])*np.diff(wave_grid.value)))"
   ]
  },
  {
   "cell_type": "code",
   "execution_count": 4,
   "metadata": {
    "collapsed": false
   },
   "outputs": [
    {
     "name": "stderr",
     "output_type": "stream",
     "text": [
      "/Users/lwymarie/python/specdb/specdb/query_catalog.py:140: UserWarning: No sources found at your coordinate within tol=0.5 arcsec.  Returning None\n",
      "  warnings.warn(\"No sources found at your coordinate within tol={:g}.  Returning None\".format(tol))\n",
      "/Users/lwymarie/python/linetools/linetools/spectra/xspectrum1d.py:295: UserWarning: No unit given to wavelength, assuming Angstroms.\n",
      "  warnings.warn(\"No unit given to wavelength, assuming Angstroms.\")\n"
     ]
    },
    {
     "name": "stdout",
     "output_type": "stream",
     "text": [
      "Reading /Users/lwymarie/python/enigma/enigma/data/qpq/qpq9_final.fits\n",
      "4.5030178527 1 / Angstrom\n",
      "No spectrum found for BOSSJ0008-0039 and wvobs=3920.97 Angstrom!\n",
      "3.96814209033 1 / Angstrom\n",
      "No spectrum found for BOSSJ0042+1350 and wvobs=3704.79 Angstrom!\n",
      "81.1223225091 1 / Angstrom\n",
      "44.1513656402 1 / Angstrom\n",
      "Using /u/xavier/Dropbox//QSOPairs/data/GMOS_redux//./SDSSJ034139.19-000012.7_b1200_F.fits.gz for SDSSJ0341-0000\n",
      "S/N 81.1223225091 1 / Angstrom\n",
      "91.8691590217 1 / Angstrom\n",
      "Using /u/xavier/Dropbox//QSOPairs/data/LRIS_redux//./SDSSJ080048.74+354231.3_b1200_F.fits.gz for APOJ0800+3542\n",
      "S/N 91.8691590217 1 / Angstrom\n",
      "6.82627542183 1 / Angstrom\n",
      "Using spec-7328-56715-0428.fits.gz for BOSSJ0809+4539\n",
      "S/N 6.82627542183 1 / Angstrom\n",
      "No spectrum found for BOSSJ0826+4708 and wvobs=3734.97 Angstrom!\n",
      "7.18768185783 1 / Angstrom\n",
      "30.4325951329 1 / Angstrom\n",
      "Using /u/xavier/Dropbox//QSOPairs/data/LRIS_redux//./SDSSJ082844.87+454518.2_b1200_F.fits.gz for SDSSJ0828+4545\n",
      "S/N 30.4325951329 1 / Angstrom\n",
      "30.2325672808 1 / Angstrom\n",
      "Using /u/xavier/Dropbox//QSOPairs/data/LRIS_redux//./SDSSJ083757.13+383722.4_b1200_F.fits.gz for APOJ0837+3837\n",
      "S/N 30.2325672808 1 / Angstrom\n",
      "14.3637472477 1 / Angstrom\n",
      "Using /u/xavier/Dropbox//QSOPairs/data/BOSS/v5_5_0/SDSSJ084159.26+392140.0.fits for BOSSJ0841+3921\n",
      "S/N 14.3637472477 1 / Angstrom\n",
      "98.9433999318 1 / Angstrom\n",
      "Using /u/xavier/Dropbox//QSOPairs/data/MAGE_redux//./SDSSJ085357.49-001106.1_F.fits.gz for BOSSJ0853-0011\n",
      "S/N 98.9433999318 1 / Angstrom\n",
      "1.62381004726 1 / Angstrom\n",
      "No spectrum found for BOSSJ0903+5133 and wvobs=3827.56 Angstrom!\n",
      "No spectrum found for BOSSJ0904+0042 and wvobs=3493.83 Angstrom!\n",
      "150.03949429 1 / Angstrom\n",
      "17.3991571859 1 / Angstrom\n",
      "Using /u/xavier/Dropbox//QSOPairs/data/XSHOOTER_redux//./SDSSJ091338.97-010704.6_F.fits.gz for BOSSJ0913-0107\n",
      "S/N 150.03949429 1 / Angstrom\n",
      "10.8041188824 1 / Angstrom\n",
      "Using /u/xavier/Dropbox//QSOPairs/data/BOSS/v5_5_0/SDSSJ091553.38+011911.3.fits for BOSSJ0915+0119\n",
      "S/N 10.8041188824 1 / Angstrom\n",
      "73.81824179 1 / Angstrom\n",
      "Using /u/xavier/Dropbox//QSOPairs/data/LRIS_redux//./SDSSJ092416.73+392914.6_b1200_F.fits.gz for APOJ0924+3929\n",
      "S/N 73.81824179 1 / Angstrom\n",
      "63.9766522587 1 / Angstrom\n",
      "Using /u/xavier/Dropbox//QSOPairs/data/MAGE_redux//./SDSSJ093225.60+092500.2_F.fits.gz for APOJ0932+0925\n",
      "S/N 63.9766522587 1 / Angstrom\n",
      "3.9769376434 1 / Angstrom\n",
      "No spectrum found for BOSSJ1002+0020 and wvobs=4239.54 Angstrom!\n",
      "61.5398404705 1 / Angstrom\n",
      "Using /u/xavier/Dropbox//QSOPairs/data/LRIS_redux//./SDSSJ100507.08+501929.8_b1200_F.fits.gz for SDSSJ1005+5019\n",
      "S/N 61.5398404705 1 / Angstrom\n",
      "5.73742272355 1 / Angstrom\n",
      "Using /u/xavier/Dropbox//QSOPairs/data/BOSS/v5_6_0/SDSSJ100940.58+250053.9.fits for APOJ1009+2500\n",
      "S/N 5.73742272355 1 / Angstrom\n",
      "108.634313678 1 / Angstrom\n",
      "Using /u/xavier/Dropbox//QSOPairs/data/ESI_redux//./SDSSJ102616.12+461420.8_F.fits.gz for APOJ1026+4614\n",
      "S/N 108.634313678 1 / Angstrom\n",
      "18.4091862035 1 / Angstrom\n",
      "Using spec-6702-56381-0508.fits.gz for BOSSJ1036+5012\n",
      "S/N 18.4091862035 1 / Angstrom\n",
      "47.8324556688 1 / Angstrom\n",
      "14.4231604961 1 / Angstrom\n",
      "56.6214028343 1 / Angstrom\n",
      "Using /u/xavier/Dropbox//QSOPairs/data/ESI_redux//./SDSSJ103900.01+502652.8_F.fits.gz for BOSSJ1039+5026\n",
      "S/N 56.6214028343 1 / Angstrom\n",
      "13.0086514544 1 / Angstrom\n",
      "Using spec-7083-56722-0068.fits.gz for BOSSJ1042+6459\n",
      "S/N 13.0086514544 1 / Angstrom\n",
      "52.1925547055 1 / Angstrom\n",
      "24.7137380174 1 / Angstrom\n",
      "No continuum: /u/xavier/Dropbox//QSOPairs/data/LRIS_redux//./SDSSJ114145.43+072423.3_b400_F.fits.gz\n",
      "Using /u/xavier/Dropbox//QSOPairs/data/GMOS_redux//./SDSSJ114145.43+072423.3_b600_F.fits.gz for APOJ1141+0724\n",
      "S/N 52.1925547055 1 / Angstrom\n",
      "68.393253611 1 / Angstrom"
     ]
    },
    {
     "name": "stderr",
     "output_type": "stream",
     "text": [
      "/Users/lwymarie/python/specdb/specdb/query_catalog.py:145: UserWarning: Found multiple sources in the catalog. Taking the closest one\n",
      "  warnings.warn(\"Found multiple sources in the catalog. Taking the closest one\")\n",
      "/Users/lwymarie/anaconda/lib/python2.7/site-packages/astropy/units/quantity.py:850: RuntimeWarning: invalid value encountered in true_divide\n",
      "  return super(Quantity, self).__itruediv__(other)\n"
     ]
    },
    {
     "name": "stdout",
     "output_type": "stream",
     "text": [
      "\n",
      "143.628373235 1 / Angstrom\n",
      "Using /u/xavier/Dropbox//QSOPairs/data/ESI_redux//./SDSSJ114436.66+095904.9_F.fits.gz for BOSSJ1144+0959\n",
      "S/N 143.628373235 1 / Angstrom\n",
      "No continuum: /u/xavier/Dropbox//QSOPairs/data/GMOS_redux//./SDSSJ120416.69+022111.0_b1200_F.fits.gz\n",
      "No continuum: /u/xavier/Dropbox//QSOPairs/data/HIRES_redux//./SDSSJ120416.69+022111.0_f.fits.gz\n",
      "Using conti=1 for HIRES\n",
      "142.871410019 1 / Angstrom\n",
      "47.2201789204 1 / Angstrom\n",
      "Using /u/xavier/Dropbox//QSOPairs/data/HIRES_redux//./SDSSJ120416.69+022111.0_f.fits.gz for BOSSJ1204+0221\n",
      "S/N 142.871410019 1 / Angstrom\n",
      "15.4016156076 1 / Angstrom\n",
      "Using /u/xavier/Dropbox//QSOPairs/data/SDSS//./SDSSJ121558.80+571555.4.fits.gz for BOSSJ1215+5715\n",
      "S/N 15.4016156076 1 / Angstrom\n",
      "78.1873569683 1 / Angstrom\n",
      "12.5385900365 1 / Angstrom\n",
      "30.4123138554 1 / Angstrom\n",
      "Using /u/xavier/Dropbox//QSOPairs/data/GMOS_redux//./SDSSJ123141.73+002913.9_b600_F.fits.gz for BOSSJ1231+0029\n",
      "S/N 78.1873569683 1 / Angstrom\n",
      "5.74372243786 1 / Angstrom\n",
      "Using spec-6482-56358-0110.fits.gz for BOSSJ1244+3208\n",
      "S/N 5.74372243786 1 / Angstrom\n",
      "3.27963612433 1 / Angstrom\n",
      "No spectrum found for BOSSJ1253+6327 and wvobs=3960.22 Angstrom!\n",
      "32.2260362938 1 / Angstrom\n",
      "Using /u/xavier/Dropbox//QSOPairs/data/LRIS_redux//./SDSSJ130603.55+615835.2_b1200_F.fits.gz for APOJ1306+6158\n",
      "S/N 32.2260362938 1 / Angstrom\n",
      "34.4735060467 1 / Angstrom\n",
      "5.29411699216 1 / Angstrom\n",
      "Using /u/xavier/Dropbox//QSOPairs/data/LRIS_redux//./SDSSJ135629.54+613310.4_b1200_F.fits.gz for BOSSJ1356+6133\n",
      "S/N 34.4735060467 1 / Angstrom\n",
      "15.1103513223 1 / Angstrom\n",
      "Using /u/xavier/Dropbox//QSOPairs/data/BOSS/v5_6_0/SDSSJ135849.54+273756.9.fits for APOJ1358+2737\n",
      "S/N 15.1103513223 1 / Angstrom\n",
      "43.8456885446 1 / Angstrom\n",
      "Using /u/xavier/Dropbox//QSOPairs/data/MAGE_redux//./SDSSJ142054.92+160342.9_F.fits.gz for APOJ1420+1603\n",
      "S/N 43.8456885446 1 / Angstrom\n",
      "No continuum: /u/xavier/Dropbox//QSOPairs/data/GMOS_redux//./SDSSJ142758.74-012136.2_b1200_F.fits.gz\n",
      "138.502983858 1 / Angstrom\n",
      "105.739031052 1 / Angstrom\n",
      "Using /u/xavier/Dropbox//QSOPairs/data/MIKE_redux//./SDSSJ142758.74-012136.2_b_F.fits.gz for BOSSJ1427-0121\n",
      "S/N 138.502983858 1 / Angstrom\n",
      "22.5711986597 1 / Angstrom\n",
      "Using /u/xavier/Dropbox//QSOPairs/data/BOSS/v5_4_45/SDSSJ143344.55+064111.9.fits for BOSSJ1433+0641\n",
      "S/N 22.5711986597 1 / Angstrom\n",
      "22.0937672202 1 / Angstrom\n",
      "Using /u/xavier/Dropbox//QSOPairs/data/MAGE_redux//./SDSSJ155325.89+192137.7_F.fits.gz for APOJ1553+1921\n",
      "S/N 22.0937672202 1 / Angstrom\n",
      "24.779005478 1 / Angstrom\n",
      "Using /u/xavier/Dropbox//QSOPairs/data/LRIS_redux//./SDSSJ155946.28+494326.5_b1200_F.fits.gz for APOJ1559+4943\n",
      "S/N 24.779005478 1 / Angstrom\n",
      "17.6300410978 1 / Angstrom\n",
      "Using /u/xavier/Dropbox//QSOPairs/data/BOSS/v5_6_0/SDSSJ160546.67+511323.0.fits for BOSSJ1605+5113\n",
      "S/N 17.6300410978 1 / Angstrom\n",
      "1.30299972739 1 / Angstrom\n",
      "No spectrum found for BOSSJ1618+1842 and wvobs=4067.76 Angstrom!\n",
      "121.295573564 1 / Angstrom\n",
      "Using /u/xavier/Dropbox//QSOPairs/data/ESI_redux//./SDSSJ162737.25+460609.3_F.fits.gz for APOJ1627+4606\n",
      "S/N 121.295573564 1 / Angstrom\n",
      "10.3337297074 1 / Angstrom\n",
      "Using /u/xavier/Dropbox//QSOPairs/data/BOSS/v5_5_0/SDSSJ225549.55-000927.7.fits for BOSSJ2255-0009\n",
      "S/N 10.3337297074 1 / Angstrom\n"
     ]
    },
    {
     "name": "stderr",
     "output_type": "stream",
     "text": [
      "/Users/lwymarie/anaconda/lib/python2.7/site-packages/astropy/units/quantity.py:850: RuntimeWarning: divide by zero encountered in true_divide\n",
      "  return super(Quantity, self).__itruediv__(other)\n",
      "/Users/lwymarie/python/linetools/linetools/spectra/xspectrum1d.py:807: UserWarning: Ignoring NAN and inf in flux\n",
      "  warnings.warn(\"Ignoring NAN and inf in flux\")\n"
     ]
    }
   ],
   "source": [
    "stack_tup0 = qpq9k.qpq9_IRMgII(passback=True,wrest=1334.5323*u.AA,S2N_cut=5.5/u.AA,\n",
    "                               zfg_mnx=(1.6,9999),plot_indiv=False)\n",
    "fin_velo, stck_img, stck_msk, all_dict = stack_tup0"
   ]
  },
  {
   "cell_type": "code",
   "execution_count": 10,
   "metadata": {
    "collapsed": false
   },
   "outputs": [
    {
     "name": "stdout",
     "output_type": "stream",
     "text": [
      "Expected number of absorbers at R_phys 0.494300301765 190.162078857\n",
      "Expected number of absorbers at R_phys 0.420115278067 200.727334478\n",
      "Expected number of absorbers at R_phys 0.351922729298 291.955898238\n",
      "Expected number of absorbers at R_phys 0.480355291644 137.483764648\n",
      "Expected number of absorbers at R_phys 0.7578484166 89.2255343659\n",
      "Expected number of absorbers at R_phys 0.470555367371 182.693675263\n",
      "Expected number of absorbers at R_phys 0.880441024878 111.641532541\n",
      "Expected number of absorbers at R_phys 1.34179738531 88.838035754\n",
      "Expected number of absorbers at R_phys 0.376001901972 235.999657906\n",
      "Expected number of absorbers at R_phys 0.574246922955 106.124389648\n",
      "Expected number of absorbers at R_phys 0.553284751914 237.906701175\n",
      "Expected number of absorbers at R_phys 0.347259800466 211.233413696\n",
      "Expected number of absorbers at R_phys 0.503320894793 127.239715576\n",
      "Expected number of absorbers at R_phys 0.974525295216 288.342084422\n",
      "Expected number of absorbers at R_phys 0.355385879527 271.170697934\n",
      "Expected number of absorbers at R_phys 0.95934596741 233.309681131\n",
      "Expected number of absorbers at R_phys 0.39107677666 226.591836543\n",
      "Expected number of absorbers at R_phys 1.85479030773 126.990506376\n",
      "Expected number of absorbers at R_phys 0.97811746021 189.139866522\n",
      "Expected number of absorbers at R_phys 0.903330419659 112.11515776\n",
      "Expected number of absorbers at R_phys 0.422198095542 184.053763659\n",
      "Expected number of absorbers at R_phys 0.917430919177 270.623718262\n",
      "Expected number of absorbers at R_phys 0.459213958373 176.430140595\n",
      "Expected number of absorbers at R_phys 0.590524994441 140.571571594\n",
      "Expected number of absorbers at R_phys 0.442044415087 196.6701203\n",
      "Expected number of absorbers at R_phys 0.65335270303 88.7519073486\n",
      "Expected number of absorbers at R_phys 0.662147913734 103.843642376\n",
      "Expected number of absorbers at R_phys 1.27844377653 53.2431282313\n",
      "Expected number of absorbers at R_phys 0.759900345166 121.985050196\n",
      "Expected number of absorbers at R_phys 1.13962233174 44.3676243036\n",
      "Expected number of absorbers at R_phys 0.364037024923 209.724258423\n",
      "Expected number of absorbers at R_phys 0.534392650142 101.751617581\n",
      "Expected number of absorbers at R_phys 1.41076833591 252.825397594\n",
      "Expected number of absorbers at R_phys 0.540247721073 140.328888578\n"
     ]
    }
   ],
   "source": [
    "n_trials = 1000\n",
    "Deltav = 10.\n",
    "v_grid = -2000. + np.arange((2000.-(-2000.))/Deltav+1)*Deltav\n",
    "relativistic_equiv = u.doppler_relativistic(1334.5323*u.AA)\n",
    "wave_grid = (v_grid*u.km/u.s).to(u.AA,equivalencies=relativistic_equiv)\n",
    "sv_mean_flux = []\n",
    "for ii,idict in enumerate(all_dict):\n",
    "    if idict is None:\n",
    "        continue\n",
    "    if 'J1508+3635' in idict['qpq']['NAME']:\n",
    "        continue\n",
    "    else:\n",
    "        stck_img = gen_stck_img(idict['qpq']['R_PHYS'],idict['qpq']['Z_FG'],Deltav,v_grid,n_trials)\n",
    "        mean_flux = np.sum(stck_img,0)/n_trials\n",
    "        sv_mean_flux.append(mean_flux)"
   ]
  },
  {
   "cell_type": "code",
   "execution_count": 11,
   "metadata": {
    "collapsed": false
   },
   "outputs": [
    {
     "name": "stdout",
     "output_type": "stream",
     "text": [
      "Rest EW in angstrom: 0.406677740718\n"
     ]
    },
    {
     "data": {
      "text/plain": [
       "<CompoundModel1(amplitude_0=0.9961571398576063, amplitude_1=0.1250893173064369, mean_1=-2.0296916642323337, stddev_1=243.1915091672537)>"
      ]
     },
     "execution_count": 11,
     "metadata": {},
     "output_type": "execute_result"
    },
    {
     "data": {
      "image/png": "[encoded data removed]",
      "text/plain": [
       "<matplotlib.figure.Figure at 0x10ff54050>"
      ]
     },
     "metadata": {},
     "output_type": "display_data"
    }
   ],
   "source": [
    "mean_flux = np.mean(sv_mean_flux,0)\n",
    "plt.figure(figsize=(8,5))\n",
    "plt.plot(v_grid,mean_flux,drawstyle='steps-mid',linewidth=2.,)\n",
    "plt.axis([-2000,2000,0.65,1.05])\n",
    "print('Rest EW in angstrom:',np.sum((1.-mean_flux[:-1])*np.diff(wave_grid.value)))\n",
    "model_init = models.GaussianAbsorption1D(amplitude=0.11,mean=0.,stddev=250.)\n",
    "c_init = models.Const1D(amplitude=0.997)\n",
    "model_init = c_init*model_init\n",
    "fit = fitting.LevMarLSQFitter()\n",
    "model_final = fit(model_init,v_grid,mean_flux)\n",
    "plt.plot(v_grid,model_final(v_grid))\n",
    "model_final\n",
    "#tau = np.log(1./(mean_flux))\n",
    "#tau_disp = np.sqrt(np.sum(v_grid**2*tau)/np.sum(tau))\n",
    "#print(tau_disp)\n",
    "#print(np.sum((v_grid**2)*np.log(1/(mean_flux/0.994))))"
   ]
  },
  {
   "cell_type": "code",
   "execution_count": 12,
   "metadata": {
    "collapsed": true
   },
   "outputs": [],
   "source": [
    "# save model \n",
    "dict = {}\n",
    "for ii,pp in enumerate(model_final.parameters):\n",
    "    dict[model_final.param_names[ii]] = [pp]\n",
    "ascii.write(Table(dict),'monte.dat')"
   ]
  },
  {
   "cell_type": "code",
   "execution_count": 7,
   "metadata": {
    "collapsed": false
   },
   "outputs": [
    {
     "data": {
      "image/png": "[encoded data removed]",
      "text/plain": [
       "<matplotlib.figure.Figure at 0x11d741450>"
      ]
     },
     "metadata": {},
     "output_type": "display_data"
    }
   ],
   "source": [
    "from astropy.modeling.models import Voigt1D\n",
    "plt.figure()\n",
    "x = np.arange(0, 10, 0.01)\n",
    "v1 = Voigt1D(x_0=5, amplitude_L=20, fwhm_L=0.5, fwhm_G=0.9)\n",
    "plt.plot(x, np.exp(-1.*v1(x)))\n",
    "plt.show()"
   ]
  },
  {
   "cell_type": "code",
   "execution_count": 8,
   "metadata": {
    "collapsed": false
   },
   "outputs": [
    {
     "data": {
      "text/plain": [
       "0.30790000000000001"
      ]
     },
     "execution_count": 8,
     "metadata": {},
     "output_type": "execute_result"
    }
   ],
   "source": [
    "# Find mean equivalent width of QPQ8 LLS\n",
    "np.mean([0.000,0.042,0.345,0.195,0.025,0.030,0.053,0.168,0.504,0.248,0.779,0.281,0.341,\n",
    "         0.328,0.756,0.650,0.154,0.179,0.130,0.950])"
   ]
  },
  {
   "cell_type": "code",
   "execution_count": 9,
   "metadata": {
    "collapsed": false
   },
   "outputs": [
    {
     "data": {
      "text/plain": [
       "223.79730850507931"
      ]
     },
     "execution_count": 9,
     "metadata": {},
     "output_type": "execute_result"
    }
   ],
   "source": [
    "# Find mean redshift errors of QPQ9 CII systems\n",
    "sigmas = np.array([272,44,272,272,300,44,44,272,272,272,44,272,272,395,272,44,272,395,44,44,44,44,272,300,272,272,44,\n",
    "                   44,44,44,272,272,44,272])\n",
    "np.mean(sigmas**2.)**(1/2.)"
   ]
  },
  {
   "cell_type": "code",
   "execution_count": 14,
   "metadata": {
    "collapsed": false
   },
   "outputs": [
    {
     "data": {
      "text/plain": [
       "330.49205739321485"
      ]
     },
     "execution_count": 14,
     "metadata": {},
     "output_type": "execute_result"
    }
   ],
   "source": [
    "np.sqrt(243.**2+224.**2.)"
   ]
  },
  {
   "cell_type": "code",
   "execution_count": 15,
   "metadata": {
    "collapsed": false
   },
   "outputs": [
    {
     "data": {
      "text/plain": [
       "388.15589651582002"
      ]
     },
     "execution_count": 15,
     "metadata": {},
     "output_type": "execute_result"
    }
   ],
   "source": [
    "np.sqrt(317**2+224.**2)"
   ]
  },
  {
   "cell_type": "code",
   "execution_count": 18,
   "metadata": {
    "collapsed": false
   },
   "outputs": [
    {
     "data": {
      "text/plain": [
       "203.56817039999157"
      ]
     },
     "execution_count": 18,
     "metadata": {},
     "output_type": "execute_result"
    }
   ],
   "source": [
    "np.sqrt(317**2-243**2)"
   ]
  },
  {
   "cell_type": "code",
   "execution_count": 19,
   "metadata": {
    "collapsed": false
   },
   "outputs": [
    {
     "data": {
      "text/plain": [
       "204.06861591141347"
      ]
     },
     "execution_count": 19,
     "metadata": {},
     "output_type": "execute_result"
    }
   ],
   "source": [
    "np.sqrt(388**2-330**2)"
   ]
  },
  {
   "cell_type": "code",
   "execution_count": 21,
   "metadata": {
    "collapsed": false
   },
   "outputs": [
    {
     "data": {
      "text/plain": [
       "314"
      ]
     },
     "execution_count": 21,
     "metadata": {},
     "output_type": "execute_result"
    }
   ],
   "source": [
    "388-2*37"
   ]
  },
  {
   "cell_type": "code",
   "execution_count": 22,
   "metadata": {
    "collapsed": false
   },
   "outputs": [
    {
     "data": {
      "text/plain": [
       "98596"
      ]
     },
     "execution_count": 22,
     "metadata": {},
     "output_type": "execute_result"
    }
   ],
   "source": []
  },
  {
   "cell_type": "code",
   "execution_count": null,
   "metadata": {
    "collapsed": true
   },
   "outputs": [],
   "source": []
  }
 ],
 "metadata": {
  "kernelspec": {
   "display_name": "Python 2",
   "language": "python",
   "name": "python2"
  },
  "language_info": {
   "codemirror_mode": {
    "name": "ipython",
    "version": 2
   },
   "file_extension": ".py",
   "mimetype": "text/x-python",
   "name": "python",
   "nbconvert_exporter": "python",
   "pygments_lexer": "ipython2",
   "version": "2.7.12"
  }
 },
 "nbformat": 4,
 "nbformat_minor": 0
}
