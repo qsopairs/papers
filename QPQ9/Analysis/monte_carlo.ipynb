{
 "cells": [
  {
   "cell_type": "markdown",
   "metadata": {},
   "source": [
    "## Monte Carlo simulation trial"
   ]
  },
  {
   "cell_type": "code",
   "execution_count": 1,
   "metadata": {
    "collapsed": false
   },
   "outputs": [
    {
     "name": "stderr",
     "output_type": "stream",
     "text": [
      "/Users/lwymarie/anaconda/lib/python2.7/site-packages/astroquery/sdss/__init__.py:28: UserWarning: Experimental: SDSS has not yet been refactored to have its API match the rest of astroquery (but it's nearly there).\n",
      "  warnings.warn(\"Experimental: SDSS has not yet been refactored to have its API \"\n"
     ]
    }
   ],
   "source": [
    "%matplotlib inline\n",
    "from __future__ import print_function,absolute_import,division,unicode_literals\n",
    "import numpy as np\n",
    "import glob,os,sys,copy,imp \n",
    "from scipy import stats as scistats\n",
    "import matplotlib as mpl\n",
    "mpl.rcParams['font.family']='stixgeneral'\n",
    "from matplotlib.backends.backend_pdf import PdfPages\n",
    "from matplotlib import pyplot as plt\n",
    "import matplotlib.gridspec as gridspec\n",
    "from astropy.table import QTable,Table\n",
    "from astropy.io import ascii,fits\n",
    "from astropy import units as u\n",
    "from astropy import constants as const\n",
    "from astropy.coordinates import SkyCoord\n",
    "from linetools.spectralline import AbsLine\n",
    "import linetools.utils as ltu\n",
    "from xastropy.igm.abs_sys import abssys_utils as abssys\n",
    "from xastropy import spec as xpsec\n",
    "from xastropy.plotting import utils as xputils\n",
    "from xastropy.xutils import xdebug as xdb\n",
    "from xastropy.obs import radec as xor\n",
    "from xastropy.atomic import ionization as xai\n",
    "from xastropy.xutils import fits as xxf\n",
    "sys.path.append(os.path.abspath(\"../../../py\"))\n",
    "from enigma.qpq import utils as qpqutils\n",
    "from enigma.qpq import spec as qpqs\n",
    "from enigma.qpq import stacks as qpqk\n",
    "sys.path.append(os.path.abspath(\"./Stacks/py\"))\n",
    "import qpq9_stacks as qpq9k\n",
    "import scipy.integrate as integrate\n",
    "from astropy.modeling import models,fitting\n",
    "from astropy.cosmology import FlatLambdaCDM\n",
    "cosmo = FlatLambdaCDM(H0=70,Om0=0.26)"
   ]
  },
  {
   "cell_type": "code",
   "execution_count": 2,
   "metadata": {
    "collapsed": false
   },
   "outputs": [],
   "source": [
    "# the constants\n",
    "n_trials = 1000\n",
    "Deltav = 10.\n",
    "v_grid = -2000. + np.arange((2000.-(-2000.))/Deltav+1)*Deltav\n",
    "relativistic_equiv = u.doppler_relativistic(1334.5323*u.AA)\n",
    "wave_grid = (v_grid*u.km/u.s).to(u.AA,equivalencies=relativistic_equiv)\n",
    "\n",
    "def gen_stck_img(R_phys,z_fg,stddev_oneabs,sigma1D): # R_phys in kpc, Deltav in km/s\n",
    "    probs = np.zeros(len(v_grid))\n",
    "    cumulative_probs = np.zeros(len(v_grid))\n",
    "    Hubble_h = cosmo.H(0).value/100.\n",
    "    ell_IGM_DLA = 0.2*((1+z_fg)/(1+2.5))**2.1\n",
    "    ell_IGM_SLLS = 0.44*((1+z_fg)/(1+2.5))**2.1\n",
    "    ell_IGM_LLS = 1.05*((1+z_fg)/(1+2.5))**2.1\n",
    "    R_comov = R_phys/1000.*(1+z_fg)*Hubble_h # in h^-1 Mpc \n",
    "    for ii,vv in enumerate(v_grid):\n",
    "        gamma_DLA = 1.6\n",
    "        r0_DLA = 3.9\n",
    "#        gamma_SLLS = 1.6\n",
    "#        r0_SLLS = 15.5\n",
    "#        gamma_LLS = 1.6\n",
    "#        r0_LLS = 13.9\n",
    "        gamma_SLLS = 1.68\n",
    "        r0_SLLS = 14.0\n",
    "        gamma_LLS = 1.68\n",
    "        r0_LLS = 12.5\n",
    "        chi_DLA = 1./Deltav*integrate.quad(\n",
    "            lambda v:(np.sqrt(R_comov**2+(v/(cosmo.H(z_fg).value/(1+z_fg)))**2)/r0_DLA)**(-gamma_DLA),\n",
    "            v_grid[ii]-Deltav/2,v_grid[ii]+Deltav/2)[0]\n",
    "        chi_SLLS = 1./Deltav*integrate.quad(\n",
    "            lambda v:(np.sqrt(R_comov**2+(v/(cosmo.H(z_fg).value/(1+z_fg)))**2)/r0_SLLS)**(-gamma_SLLS),\n",
    "            v_grid[ii]-Deltav/2,v_grid[ii]+Deltav/2)[0]\n",
    "        chi_LLS = 1./Deltav*integrate.quad(\n",
    "            lambda v:(np.sqrt(R_comov**2+(v/(cosmo.H(z_fg).value/(1+z_fg)))**2)/r0_LLS)**(-gamma_LLS),\n",
    "            v_grid[ii]-Deltav/2,v_grid[ii]+Deltav/2)[0]\n",
    "        Deltaz = ltu.z_from_dv((v_grid[ii]+Deltav/2)*u.km/u.s,z_fg)-ltu.z_from_dv((v_grid[ii]-Deltav/2)*u.km/u.s,z_fg)\n",
    "        prob = (ell_IGM_DLA*(1+chi_DLA)+ell_IGM_SLLS*(1+chi_SLLS)+ell_IGM_LLS*(1+chi_LLS))*Deltaz\n",
    "        # test effect of doubling number of absorbers \n",
    "#        prob = prob*2\n",
    "        probs[ii] = prob\n",
    "        cumulative_probs[ii] = prob + np.sum(probs[0:ii])\n",
    "    norm = np.sum(probs)\n",
    "    probs = probs/norm\n",
    "#    print('Expected number of absorbers at R_phys',norm,R_phys)   \n",
    "    stck_img = np.zeros((n_trials,len(v_grid)))\n",
    "    for nt in np.arange(n_trials):\n",
    "        N_abs = np.random.poisson(norm)\n",
    "        flux = np.ones(len(v_grid))\n",
    "        for ii,na in enumerate(np.arange(N_abs)):\n",
    "            v_Hubble = np.random.choice(v_grid,p=probs)\n",
    "            v_peculiar = np.random.normal(loc=0.,scale=sigma1D)         \n",
    "            v_add = v_Hubble + v_peculiar\n",
    "            one_abs = models.GaussianAbsorption1D(amplitude=3.0,mean=v_add,stddev=stddev_oneabs)\n",
    "            flux = flux*one_abs(v_grid)\n",
    "            flux[np.where(flux < 0.)] = 0.\n",
    "        stck_img[nt,:] = flux    \n",
    "    \n",
    "    return stck_img"
   ]
  },
  {
   "cell_type": "code",
   "execution_count": 3,
   "metadata": {
    "collapsed": false
   },
   "outputs": [],
   "source": [
    "def stddev_oneabs_to_WCII(stddev_oneabs):\n",
    "    one_abs = models.GaussianAbsorption1D(amplitude=3.0,mean=0,stddev=stddev_oneabs)\n",
    "    flux = one_abs(v_grid)\n",
    "    flux[np.where(flux < 0.)] = 0.\n",
    "    tau = -np.log(flux)\n",
    "    total_flux = np.exp(-tau)\n",
    "    #plt.plot(v_grid,total_flux,drawstyle='steps-mid',linewidth=2)\n",
    "    W_CII = np.sum((1.-total_flux[:-1])*np.diff(wave_grid.value))\n",
    "    return W_CII\n",
    "    #plt.axis([-200,200,0,1.05])\n"
   ]
  },
  {
   "cell_type": "code",
   "execution_count": 4,
   "metadata": {
    "collapsed": false
   },
   "outputs": [
    {
     "name": "stdout",
     "output_type": "stream",
     "text": [
      "Reading /Users/lwymarie/python/enigma/enigma/data/qpq/qpq9_final.fits\n",
      "Database is QPQ\n",
      "Created on 2017-Jan-31\n",
      "Database is igmspec\n",
      "Created on 2016-Dec-13\n",
      "Staged 1 spectra totalling 8e-05 Gb\n",
      "Loaded spectra\n",
      "No spectrum found for BOSSJ0008-0039 and wvobs=3921.71 Angstrom!\n",
      "Database is QPQ\n",
      "Created on 2017-Jan-31\n",
      "Database is igmspec\n",
      "Created on 2016-Dec-13\n",
      "Staged 1 spectra totalling 9.3e-05 Gb\n",
      "Loaded spectra\n",
      "No spectrum found for BOSSJ0042+1350 and wvobs=3705.49 Angstrom!\n",
      "Database is QPQ\n",
      "Created on 2017-Jan-31\n",
      "Staged 1 spectra totalling 0.00016 Gb\n",
      "Loaded spectra\n",
      "Staged 1 spectra totalling 0.00036 Gb\n",
      "Loaded spectra\n",
      "Using /u/xavier/Dropbox//QSOPairs/data/GMOS_redux//./SDSSJ034139.19-000012.7_b1200_F.fits.gz for SDSSJ0341-0000\n",
      "S/N in rest frame: 81.2002163512 1 / Angstrom\n",
      "Database is QPQ\n",
      "Created on 2017-Jan-31\n",
      "Staged 1 spectra totalling 8.4e-05 Gb\n",
      "Loaded spectra\n",
      "Staged 1 spectra totalling 2.4e-05 Gb\n",
      "Loaded spectra\n",
      "No continuum: /u/xavier/Dropbox//QSOPairs/data/NIRI_redux//./SDSSJ080048.74+354231.3.fits\n",
      "Using /u/xavier/Dropbox//QSOPairs/data/LRIS_redux//./SDSSJ080048.74+354231.3_b1200_F.fits.gz for APOJ0800+3542\n",
      "S/N in rest frame: 91.8637821431 1 / Angstrom\n",
      "Database is QPQ\n",
      "Created on 2017-Jan-31\n",
      "Staged 1 spectra totalling 0.0001 Gb\n",
      "Loaded spectra\n",
      "Database is igmspec\n",
      "Created on 2016-Dec-13\n",
      "Staged 1 spectra totalling 9.3e-05 Gb\n",
      "Loaded spectra\n",
      "Using spec-7328-56715-0428.fits.gz for BOSSJ0809+4539\n",
      "S/N in rest frame: 6.81812554325 1 / Angstrom\n",
      "Database is QPQ\n",
      "Created on 2017-Jan-31\n",
      "Database is igmspec\n",
      "Created on 2016-Dec-13\n",
      "Staged 1 spectra totalling 8e-05 Gb\n",
      "Loaded spectra\n",
      "No spectrum found for BOSSJ0826+4708 and wvobs=3735.68 Angstrom!\n",
      "Database is QPQ\n",
      "Created on 2017-Jan-31\n",
      "Staged 1 spectra totalling 0.0001 Gb\n",
      "Loaded spectra\n",
      "Staged 1 spectra totalling 8.4e-05 Gb\n",
      "Loaded spectra\n",
      "Staged 1 spectra totalling 8e-05 Gb\n",
      "Loaded spectra\n",
      "Using /u/xavier/Dropbox//QSOPairs/data/LRIS_redux//./SDSSJ082844.87+454518.2_b1200_F.fits.gz for SDSSJ0828+4545\n",
      "S/N in rest frame: 30.3853921563 1 / Angstrom\n",
      "Database is QPQ\n",
      "Created on 2017-Jan-31\n",
      "Staged 1 spectra totalling 8.4e-05 Gb\n",
      "Loaded spectra\n",
      "Using /u/xavier/Dropbox//QSOPairs/data/LRIS_redux//./SDSSJ083757.13+383722.4_b1200_F.fits.gz for APOJ0837+3837\n",
      "S/N in rest frame: 30.2325672808 1 / Angstrom\n",
      "Database is QPQ\n",
      "Created on 2017-Jan-31\n",
      "Staged 1 spectra totalling 0.0001 Gb\n",
      "Loaded spectra\n",
      "Staged 1 spectra totalling 8.4e-05 Gb\n",
      "Loaded spectra\n",
      "Staged 1 spectra totalling 2.4e-05 Gb\n",
      "Loaded spectra\n",
      "No continuum: /u/xavier/Dropbox//QSOPairs/data/NIRI_redux//./SDSSJ084159.26+392140.0.fits\n",
      "Using /u/xavier/Dropbox//QSOPairs/data/LRIS_redux//./SDSSJ084159.26+392140.0_b1200_F.fits.gz for BOSSJ0841+3921\n",
      "S/N in rest frame: 60.8515103927 1 / Angstrom\n",
      "Database is QPQ\n",
      "Created on 2017-Jan-31\n",
      "Staged 1 spectra totalling 0.00036 Gb\n",
      "Loaded spectra\n",
      "Staged 1 spectra totalling 2.4e-05 Gb\n",
      "Loaded spectra\n",
      "No continuum: /u/xavier/Dropbox//QSOPairs/data/NIRSPEC_redux//./SDSSJ085357.49-001106.2.fits\n",
      "Using /u/xavier/Dropbox//QSOPairs/data/MAGE_redux//./SDSSJ085357.49-001106.1_F.fits.gz for BOSSJ0853-0011\n",
      "S/N in rest frame: 98.9573309653 1 / Angstrom\n",
      "Database is QPQ\n",
      "Created on 2017-Jan-31\n",
      "Database is igmspec\n",
      "Created on 2016-Dec-13\n",
      "Staged 1 spectra totalling 9.3e-05 Gb\n",
      "Loaded spectra\n",
      "No spectrum found for BOSSJ0903+5133 and wvobs=3828.28 Angstrom!\n",
      "Database is QPQ\n",
      "Created on 2017-Jan-31\n",
      "Database is igmspec\n",
      "Created on 2016-Dec-13\n",
      "Staged 1 spectra totalling 8e-05 Gb\n",
      "Loaded spectra\n",
      "No spectrum found for BOSSJ0904+0042 and wvobs=3494.49 Angstrom!\n",
      "Database is QPQ\n",
      "Created on 2017-Jan-31\n",
      "Staged 1 spectra totalling 0.0001 Gb\n",
      "Loaded spectra\n",
      "Staged 1 spectra totalling 0.00016 Gb\n",
      "Loaded spectra\n",
      "Staged 1 spectra totalling 0.00036 Gb\n",
      "Loaded spectra\n",
      "Staged 1 spectra totalling 0.0008 Gb\n",
      "Loaded spectra\n",
      "Using /u/xavier/Dropbox//QSOPairs/data/XSHOOTER_redux//./SDSSJ091338.97-010704.6_F.fits.gz for BOSSJ0913-0107\n",
      "S/N in rest frame: 148.785541965 1 / Angstrom\n",
      "Database is QPQ\n",
      "Created on 2017-Jan-31\n",
      "Staged 1 spectra totalling 0.0001 Gb\n",
      "Loaded spectra\n",
      "Using /u/xavier/Dropbox//QSOPairs/data/BOSS/v5_5_0/SDSSJ091553.38+011911.3.fits for BOSSJ0915+0119\n",
      "S/N in rest frame: 10.8051460331 1 / Angstrom\n",
      "Database is QPQ\n",
      "Created on 2017-Jan-31\n",
      "Staged 1 spectra totalling 8.4e-05 Gb\n",
      "Loaded spectra\n",
      "Using /u/xavier/Dropbox//QSOPairs/data/LRIS_redux//./SDSSJ092416.73+392914.6_b1200_F.fits.gz for APOJ0924+3929\n",
      "S/N in rest frame: 73.4837197801 1 / Angstrom\n",
      "Database is QPQ\n",
      "Created on 2017-Jan-31\n",
      "Staged 1 spectra totalling 0.00036 Gb\n",
      "Loaded spectra\n",
      "Using /u/xavier/Dropbox//QSOPairs/data/MAGE_redux//./SDSSJ093225.60+092500.2_F.fits.gz for APOJ0932+0925\n",
      "S/N in rest frame: 63.4469432352 1 / Angstrom\n",
      "Database is QPQ\n",
      "Created on 2017-Jan-31\n",
      "Staged 1 spectra totalling 8.4e-05 Gb\n",
      "Loaded spectra\n",
      "Staged 1 spectra totalling 8e-05 Gb\n",
      "Loaded spectra\n",
      "Using /u/xavier/Dropbox//QSOPairs/data/LRIS_redux//./SDSSJ100507.08+501929.8_b1200_F.fits.gz for SDSSJ1005+5019\n",
      "S/N in rest frame: 61.1958688467 1 / Angstrom\n",
      "Database is QPQ\n",
      "Created on 2017-Jan-31\n",
      "Staged 1 spectra totalling 0.0001 Gb\n",
      "Loaded spectra\n",
      "Staged 1 spectra totalling 8.4e-05 Gb\n",
      "Loaded spectra\n",
      "Using /u/xavier/Dropbox//QSOPairs/data/LRIS_redux//./SDSSJ100940.58+250053.9_b1200_F.fits.gz for APOJ1009+2500\n",
      "S/N in rest frame: 57.7116647736 1 / Angstrom\n",
      "Database is QPQ\n",
      "Created on 2017-Jan-31\n",
      "Database is igmspec\n",
      "Created on 2016-Dec-13\n",
      "Staged 1 spectra totalling 9.3e-05 Gb\n",
      "Loaded spectra\n",
      "Using spec-6702-56381-0508.fits.gz for BOSSJ1036+5012\n",
      "S/N in rest frame: 18.3833276369 1 / Angstrom\n",
      "Database is QPQ\n",
      "Created on 2017-Jan-31\n",
      "Staged 1 spectra totalling 0.0007 Gb\n",
      "Loaded spectra\n",
      "Staged 1 spectra totalling 0.00016 Gb\n",
      "Loaded spectra\n",
      "Staged 2 spectra totalling 0.000168 Gb\n",
      "Loaded spectra\n",
      "No continuum: /u/xavier/Dropbox//QSOPairs/data/LRIS_redux//./SDSSJ103900.01+502652.8_r600_F.fits.gz\n",
      "Using /u/xavier/Dropbox//QSOPairs/data/ESI_redux//./SDSSJ103900.01+502652.8_F.fits.gz for BOSSJ1039+5026\n",
      "S/N in rest frame: 56.6216841306 1 / Angstrom\n",
      "Database is QPQ\n",
      "Created on 2017-Jan-31\n",
      "Database is igmspec\n",
      "Created on 2016-Dec-13\n",
      "Staged 1 spectra totalling 9.3e-05 Gb\n",
      "Loaded spectra\n",
      "Using spec-7083-56722-0068.fits.gz for BOSSJ1042+6459\n",
      "S/N in rest frame: 13.0098881907 1 / Angstrom\n",
      "Database is QPQ\n",
      "Created on 2017-Jan-31\n",
      "Staged 1 spectra totalling 0.0007 Gb\n",
      "Loaded spectra\n",
      "Staged 1 spectra totalling 0.00036 Gb\n",
      "Loaded spectra\n",
      "Staged 3 spectra totalling 0.00612 Gb\n",
      "Loaded spectra\n",
      "No continuum: /u/xavier/Dropbox//QSOPairs/data/MIKE_redux//./SDSSJ114436.65+095904.9_spl_F.fits.gz\n",
      "Using /u/xavier/Dropbox//QSOPairs/data/MIKE_redux//./SDSSJ114436.65+095904.9_r_F.fits.gz for BOSSJ1144+0959\n",
      "S/N in rest frame: 183.161521083 1 / Angstrom\n",
      "Database is QPQ\n",
      "Created on 2017-Jan-31\n",
      "Staged 1 spectra totalling 0.00016 Gb\n",
      "Loaded spectra\n",
      "Staged 1 spectra totalling 0.00144 Gb\n",
      "Loaded spectra\n",
      "Staged 1 spectra totalling 0.00036 Gb\n",
      "Loaded spectra\n",
      "No continuum: /u/xavier/Dropbox//QSOPairs/data/GMOS_redux//./SDSSJ120416.69+022111.0_b1200_F.fits.gz\n",
      "No continuum: /u/xavier/Dropbox//QSOPairs/data/HIRES_redux//./SDSSJ120416.69+022111.0_f.fits.gz\n",
      "Using conti=1 for HIRES\n",
      "Using /u/xavier/Dropbox//QSOPairs/data/HIRES_redux//./SDSSJ120416.69+022111.0_f.fits.gz for BOSSJ1204+0221\n",
      "S/N in rest frame: 143.009676121 1 / Angstrom\n",
      "Database is QPQ\n",
      "Created on 2017-Jan-31\n",
      "Staged 1 spectra totalling 8.4e-05 Gb\n",
      "Loaded spectra\n",
      "Staged 1 spectra totalling 2.4e-05 Gb\n",
      "Loaded spectra\n",
      "Staged 1 spectra totalling 8e-05 Gb\n",
      "Loaded spectra\n",
      "No continuum: /u/xavier/Dropbox//QSOPairs/data/NIRI_redux//./SDSSJ121558.82+571555.6.fits\n",
      "Using /u/xavier/Dropbox//QSOPairs/data/SDSS//./SDSSJ121558.80+571555.4.fits.gz for BOSSJ1215+5715\n",
      "S/N in rest frame: 15.4009220707 1 / Angstrom\n",
      "Database is QPQ\n",
      "Created on 2017-Jan-31\n",
      "Staged 1 spectra totalling 0.0001 Gb\n",
      "Loaded spectra\n",
      "Staged 1 spectra totalling 0.00016 Gb\n",
      "Loaded spectra\n",
      "Staged 2 spectra totalling 0.000168 Gb"
     ]
    },
    {
     "name": "stderr",
     "output_type": "stream",
     "text": [
      "/Users/lwymarie/python/linetools/linetools/spectra/xspectrum1d.py:247: UserWarning: No unit given to wavelength, assuming Angstroms.\n",
      "  warnings.warn(\"No unit given to wavelength, assuming Angstroms.\")\n",
      "/Users/lwymarie/anaconda/lib/python2.7/site-packages/astropy/units/quantity.py:858: RuntimeWarning: divide by zero encountered in true_divide\n",
      "  return super(Quantity, self).__rtruediv__(other)\n"
     ]
    },
    {
     "name": "stdout",
     "output_type": "stream",
     "text": [
      "\n",
      "Loaded spectra\n",
      "Staged 1 spectra totalling 0.0008 Gb\n",
      "Loaded spectra\n",
      "No continuum: /u/xavier/Dropbox//QSOPairs/data/LRIS_redux//./SDSSJ123141.73+002913.9_r600_F.fits.gz\n",
      "Using /u/xavier/Dropbox//QSOPairs/data/GMOS_redux//./SDSSJ123141.73+002913.9_b600_F.fits.gz for BOSSJ1231+0029\n",
      "S/N in rest frame: 77.9062475252 1 / Angstrom\n",
      "Database is QPQ\n",
      "Created on 2017-Jan-31\n",
      "Database is igmspec\n",
      "Created on 2016-Dec-13\n",
      "Staged 1 spectra totalling 9.3e-05 Gb\n",
      "Loaded spectra\n",
      "Using spec-6482-56358-0110.fits.gz for BOSSJ1244+3208\n",
      "S/N in rest frame: 5.7442684952 1 / Angstrom\n",
      "Database is QPQ\n",
      "Created on 2017-Jan-31\n",
      "Database is igmspec\n",
      "Created on 2016-Dec-13\n",
      "Staged 1 spectra totalling 9.3e-05 Gb\n",
      "Loaded spectra\n",
      "No spectrum found for BOSSJ1253+6327 and wvobs=3960.97 Angstrom!\n",
      "Database is QPQ\n",
      "Created on 2017-Jan-31\n",
      "Staged 1 spectra totalling 8.4e-05 Gb\n",
      "Loaded spectra\n",
      "Using /u/xavier/Dropbox//QSOPairs/data/LRIS_redux//./SDSSJ130603.55+615835.2_b1200_F.fits.gz for APOJ1306+6158\n",
      "S/N in rest frame: 32.2260362938 1 / Angstrom\n",
      "Database is QPQ\n",
      "Created on 2017-Jan-31\n",
      "Staged 1 spectra totalling 8.4e-05 Gb\n",
      "Loaded spectra\n",
      "Staged 1 spectra totalling 8e-05 Gb\n",
      "Loaded spectra\n",
      "Using /u/xavier/Dropbox//QSOPairs/data/LRIS_redux//./SDSSJ135629.54+613310.4_b1200_F.fits.gz for BOSSJ1356+6133\n",
      "S/N in rest frame: 34.2970121093 1 / Angstrom\n",
      "Database is QPQ\n",
      "Created on 2017-Jan-31\n",
      "Staged 1 spectra totalling 0.0001 Gb\n",
      "Loaded spectra\n",
      "Staged 1 spectra totalling 8.4e-05 Gb\n",
      "Loaded spectra\n",
      "Using /u/xavier/Dropbox//QSOPairs/data/LRIS_redux//./SDSSJ135849.55+273756.9_b1200_F.fits.gz for APOJ1358+2737\n",
      "S/N in rest frame: 52.9957482164 1 / Angstrom\n",
      "Database is QPQ\n",
      "Created on 2017-Jan-31\n",
      "Staged 1 spectra totalling 8.4e-05 Gb\n",
      "Loaded spectra\n",
      "Staged 1 spectra totalling 0.00036 Gb\n",
      "Loaded spectra\n",
      "Staged 1 spectra totalling 2.4e-05 Gb\n",
      "Loaded spectra\n",
      "No continuum: /u/xavier/Dropbox//QSOPairs/data/NIRI_redux//./SDSSJ142054.92+160342.9.fits\n",
      "Using /u/xavier/Dropbox//QSOPairs/data/MAGE_redux//./SDSSJ142054.92+160342.9_F.fits.gz for APOJ1420+1603\n",
      "S/N in rest frame: 43.8359026859 1 / Angstrom\n",
      "Database is QPQ\n",
      "Created on 2017-Jan-31\n",
      "Staged 1 spectra totalling 0.00016 Gb\n",
      "Loaded spectra\n",
      "Staged 1 spectra totalling 0.00036 Gb\n",
      "Loaded spectra\n",
      "Staged 3 spectra totalling 0.00612 Gb\n",
      "Loaded spectra\n",
      "No continuum: /u/xavier/Dropbox//QSOPairs/data/GMOS_redux//./SDSSJ142758.74-012136.2_b1200_F.fits.gz\n",
      "No continuum: /u/xavier/Dropbox//QSOPairs/data/MIKE_redux//./SDSSJ142758.74-012136.2_r_F.fits.gz\n",
      "No continuum: /u/xavier/Dropbox//QSOPairs/data/MIKE_redux//./SDSSJ142758.74-012136.2_spl_F.fits.gz\n",
      "Using /u/xavier/Dropbox//QSOPairs/data/MIKE_redux//./SDSSJ142758.74-012136.2_b_F.fits.gz for BOSSJ1427-0121\n",
      "S/N in rest frame: 138.30326756 1 / Angstrom\n",
      "Database is QPQ\n",
      "Created on 2017-Jan-31\n",
      "Staged 3 spectra totalling 0.0003 Gb\n",
      "Loaded spectra\n",
      "Using /u/xavier/Dropbox//QSOPairs/data/BOSS/v5_7_0/SDSSJ143344.55+064111.9.fits for BOSSJ1433+0641\n",
      "S/N in rest frame: 23.5395543472 1 / Angstrom\n",
      "Database is QPQ\n",
      "Created on 2017-Jan-31\n",
      "Staged 1 spectra totalling 8.4e-05 Gb\n",
      "Loaded spectra\n",
      "Staged 1 spectra totalling 0.00036 Gb\n",
      "Loaded spectra\n",
      "Using /u/xavier/Dropbox//QSOPairs/data/MAGE_redux//./SDSSJ155325.89+192137.7_F.fits.gz for APOJ1553+1921\n",
      "S/N in rest frame: 21.9095759058 1 / Angstrom\n",
      "Database is QPQ\n",
      "Created on 2017-Jan-31\n",
      "Staged 1 spectra totalling 8.4e-05 Gb\n",
      "Loaded spectra\n",
      "Using /u/xavier/Dropbox//QSOPairs/data/LRIS_redux//./SDSSJ155946.28+494326.5_b1200_F.fits.gz for APOJ1559+4943\n",
      "S/N in rest frame: 24.839736758 1 / Angstrom\n",
      "Database is QPQ\n",
      "Created on 2017-Jan-31\n",
      "Staged 1 spectra totalling 0.0001 Gb\n",
      "Loaded spectra\n",
      "Staged 1 spectra totalling 8.4e-05 Gb\n",
      "Loaded spectra\n",
      "Using /u/xavier/Dropbox//QSOPairs/data/LRIS_redux//./SDSSJ160546.67+511322.9_b1200_F.fits.gz for BOSSJ1605+5113\n",
      "S/N in rest frame: 42.1050898975 1 / Angstrom\n",
      "Database is QPQ\n",
      "Created on 2017-Jan-31\n",
      "Staged 1 spectra totalling 0.0001 Gb\n",
      "Loaded spectra\n",
      "No spectrum found for BOSSJ1618+1842 and wvobs=4068.53 Angstrom!\n",
      "Database is QPQ\n",
      "Created on 2017-Jan-31\n",
      "Staged 1 spectra totalling 0.0007 Gb\n",
      "Loaded spectra\n",
      "Using /u/xavier/Dropbox//QSOPairs/data/ESI_redux//./SDSSJ162737.25+460609.3_F.fits.gz for APOJ1627+4606\n",
      "S/N in rest frame: 121.364130368 1 / Angstrom\n",
      "Database is QPQ\n",
      "Created on 2017-Jan-31\n",
      "Staged 1 spectra totalling 0.0001 Gb\n",
      "Loaded spectra\n",
      "Using /u/xavier/Dropbox//QSOPairs/data/BOSS/v5_5_0/SDSSJ225549.55-000927.7.fits for BOSSJ2255-0009\n",
      "S/N in rest frame: 10.3335223788 1 / Angstrom\n"
     ]
    }
   ],
   "source": [
    "stack_tup0 = qpq9k.qpq9_IRMgII(passback=True,wrest=1334.5323*u.AA,S2N_cut=5.5/u.AA,\n",
    "                               vsig_cut=400*u.km/u.s,zfg_mnx=(1.6,9999),plot_indiv=False)\n",
    "fin_velo, stck_img, stck_msk, all_dict = stack_tup0"
   ]
  },
  {
   "cell_type": "code",
   "execution_count": 5,
   "metadata": {
    "collapsed": true
   },
   "outputs": [],
   "source": [
    "def model_width(stddev_oneabs,sigma1D,all_dict):\n",
    "    sv_mean_flux = []\n",
    "    for ii,idict in enumerate(all_dict):\n",
    "        if idict is None:\n",
    "            continue\n",
    "        if 'J1508+3635' in idict['qpq']['NAME']:\n",
    "            continue\n",
    "        else:\n",
    "            stck_img = gen_stck_img(idict['qpq']['R_PHYS'],idict['qpq']['Z_FG'],stddev_oneabs,sigma1D)\n",
    "            mean_flux = np.sum(stck_img,0)/n_trials\n",
    "            sv_mean_flux.append(mean_flux)\n",
    "    mean_flux = np.mean(sv_mean_flux,0)\n",
    "#    plt.figure(figsize=(8,5))\n",
    "#    plt.plot(v_grid,mean_flux,drawstyle='steps-mid',linewidth=2.)\n",
    "#    plt.axis([-2000,2000,0.65,1.05])\n",
    "    model_init = models.GaussianAbsorption1D(amplitude=0.11,mean=0.,stddev=250.)\n",
    "    c_init = models.Const1D(amplitude=0.997)\n",
    "    model_init = c_init*model_init\n",
    "    fit = fitting.LevMarLSQFitter()\n",
    "    model_final = fit(model_init,v_grid,mean_flux)\n",
    "#    plt.plot(v_grid,model_final(v_grid))\n",
    "    return model_final.stddev_1.value,model_final.amplitude_1.value"
   ]
  },
  {
   "cell_type": "code",
   "execution_count": 51,
   "metadata": {
    "collapsed": false
   },
   "outputs": [],
   "source": [
    "# make contour plot \n",
    "stddev_oneabs_grid = np.arange(20.,71.,10.)\n",
    "sigma1D_grid = np.arange(110.,311.,20.)\n",
    "sigma1D_GRID,stddev_oneabs_GRID = np.meshgrid(sigma1D_grid,stddev_oneabs_grid)\n",
    "widths = np.zeros_like(stddev_oneabs_GRID)\n",
    "amps = np.zeros_like(stddev_oneabs_GRID)\n",
    "for ii in np.arange(widths.shape[0]):\n",
    "    for jj in np.arange(widths.shape[1]):\n",
    "        widths[ii,jj],amps[ii,jj] = model_width(stddev_oneabs_GRID[ii,jj],sigma1D_GRID[ii,jj])"
   ]
  },
  {
   "cell_type": "code",
   "execution_count": 52,
   "metadata": {
    "collapsed": false
   },
   "outputs": [
    {
     "name": "stderr",
     "output_type": "stream",
     "text": [
      "/Users/lwymarie/anaconda/lib/python2.7/site-packages/ipykernel/__main__.py:6: RuntimeWarning: divide by zero encountered in log\n"
     ]
    },
    {
     "data": {
      "text/plain": [
       "array([[ 0.,  0.,  1.,  0.,  0.,  0.,  0.,  0.,  0.,  0.,  0.,  0.],\n",
       "       [ 0.,  0.,  1.,  1.,  2.,  3.,  3.,  0.,  0.,  0.,  0.,  0.],\n",
       "       [ 0.,  0.,  0.,  0.,  2.,  3.,  3.,  3.,  2.,  1.,  1.,  0.],\n",
       "       [ 0.,  0.,  0.,  0.,  0.,  0.,  3.,  2.,  2.,  1.,  0.,  0.],\n",
       "       [ 0.,  0.,  0.,  0.,  0.,  0.,  0.,  0.,  0.,  1.,  0.,  0.],\n",
       "       [ 0.,  0.,  0.,  0.,  0.,  0.,  0.,  0.,  0.,  0.,  0.,  0.],\n",
       "       [ 0.,  0.,  0.,  0.,  0.,  0.,  0.,  0.,  0.,  0.,  0.,  0.]])"
      ]
     },
     "execution_count": 52,
     "metadata": {},
     "output_type": "execute_result"
    },
    {
     "data": {
      "image/png": "[encoded data removed]",
      "text/plain": [
       "<matplotlib.figure.Figure at 0x10f967b50>"
      ]
     },
     "metadata": {},
     "output_type": "display_data"
    }
   ],
   "source": [
    "WCII_grid = np.zeros_like(stddev_oneabs_grid)\n",
    "width_levels = [174,203,232,290,319,348]\n",
    "amp_bounds = [0.108,0.174]\n",
    "for ii,wcii in enumerate(WCII_grid):\n",
    "    WCII_grid[ii] = stddev_oneabs_to_WCII(stddev_oneabs_grid[ii])\n",
    "mass_grid = np.zeros_like(sigma1D_grid)\n",
    "for ii,mass in enumerate(mass_grid):\n",
    "    mass_grid[ii] = np.log10(2.37*10**26*(sigma1D_grid[ii]*1.4/1.07*1000)**3/(1.99*10**30))\n",
    "mass_GRID,WCII_GRID = np.meshgrid(mass_grid,WCII_grid)\n",
    "levels = np.zeros_like(stddev_oneabs_GRID)\n",
    "for ii in np.arange(widths.shape[0]):\n",
    "    for jj in np.arange(widths.shape[1]):\n",
    "        if ((widths[ii,jj] >= width_levels[0]) & (widths[ii,jj] < width_levels[1])) | \\\n",
    "        ((widths[ii,jj] >= width_levels[4]) & (widths[ii,jj] < width_levels[5])):\n",
    "            levels[ii,jj] = 1.\n",
    "        if ((widths[ii,jj] >= width_levels[1]) & (widths[ii,jj] < width_levels[2])) | \\\n",
    "        ((widths[ii,jj] >= width_levels[3]) & (widths[ii,jj] < width_levels[4])):\n",
    "            levels[ii,jj] = 2.\n",
    "        if (widths[ii,jj] >= width_levels[2]) & (widths[ii,jj] < width_levels[3]):\n",
    "            levels[ii,jj] = 3.+0.01  ## get around truncation error \n",
    "        if (amps[ii,jj] < amp_bounds[0]) | (amps[ii,jj] > amp_bounds[1]):\n",
    "            levels[ii,jj] = 0.\n",
    "plt.contourf(mass_GRID,WCII_GRID,levels,levels=[1,2,3])\n",
    "plt.xlabel('log (M_halo/M_sun)', size=12.)\n",
    "plt.ylabel('W_CII (angstrom)', size=12.)\n",
    "levels"
   ]
  },
  {
   "cell_type": "code",
   "execution_count": 87,
   "metadata": {
    "collapsed": false
   },
   "outputs": [],
   "source": [
    "hdu0 = fits.PrimaryHDU()\n",
    "hdu1 = fits.ImageHDU(mass_GRID)\n",
    "hdu2 = fits.ImageHDU(WCII_GRID)\n",
    "hdu3 = fits.ImageHDU(levels)\n",
    "hdulist = fits.HDUList([hdu0,hdu1,hdu2,hdu3])\n",
    "hdulist.writeto('contour.fits',clobber=True)"
   ]
  },
  {
   "cell_type": "code",
   "execution_count": 8,
   "metadata": {
    "collapsed": false
   },
   "outputs": [
    {
     "data": {
      "text/plain": [
       "0.30790000000000001"
      ]
     },
     "execution_count": 8,
     "metadata": {},
     "output_type": "execute_result"
    }
   ],
   "source": [
    "# Find mean equivalent width of QPQ8 LLS\n",
    "np.mean([0.000,0.042,0.345,0.195,0.025,0.030,0.053,0.168,0.504,0.248,0.779,0.281,0.341,\n",
    "         0.328,0.756,0.650,0.154,0.179,0.130,0.950])"
   ]
  },
  {
   "cell_type": "code",
   "execution_count": 20,
   "metadata": {
    "collapsed": false
   },
   "outputs": [
    {
     "data": {
      "text/plain": [
       "(142.26556615809935, 0.14305477604382211)"
      ]
     },
     "execution_count": 20,
     "metadata": {},
     "output_type": "execute_result"
    },
    {
     "data": {
      "image/png": "[encoded data removed]",
      "text/plain": [
       "<matplotlib.figure.Figure at 0x1103ae550>"
      ]
     },
     "metadata": {},
     "output_type": "display_data"
    }
   ],
   "source": [
    "# 3 times modeling error smaller than observed width and minus redshift error broadening gives intrinsic width 142 km/s\n",
    "width, amp = model_width(25.2,114.)\n",
    "plt.figure(figsize=(8,5))\n",
    "plt.axis([-2000,2000,0.65,1.05])\n",
    "model_final = models.GaussianAbsorption1D(amplitude=amp,mean=0.,stddev=width)\n",
    "plt.plot(v_grid,model_final(v_grid))\n",
    "width,amp"
   ]
  },
  {
   "cell_type": "code",
   "execution_count": 26,
   "metadata": {
    "collapsed": false
   },
   "outputs": [
    {
     "data": {
      "text/plain": [
       "(283.56528970273473, 0.14021551676458052)"
      ]
     },
     "execution_count": 26,
     "metadata": {},
     "output_type": "execute_result"
    },
    {
     "data": {
      "image/png": "[encoded data removed]",
      "text/plain": [
       "<matplotlib.figure.Figure at 0x11039a290>"
      ]
     },
     "metadata": {},
     "output_type": "display_data"
    }
   ],
   "source": [
    "# QPQ halo mass sigma_1D\n",
    "width, amp = model_width(47,246.)\n",
    "plt.figure(figsize=(8,5))\n",
    "plt.axis([-2000,2000,0.65,1.05])\n",
    "model_final = models.GaussianAbsorption1D(amplitude=amp,mean=0.,stddev=width)\n",
    "plt.plot(v_grid,model_final(v_grid))\n",
    "print(width,amp)"
   ]
  },
  {
   "cell_type": "code",
   "execution_count": 27,
   "metadata": {
    "collapsed": true
   },
   "outputs": [],
   "source": [
    "# save model \n",
    "dict = {}\n",
    "for ii,pp in enumerate(model_final.parameters):\n",
    "    dict[model_final.param_names[ii]] = [pp]\n",
    "ascii.write(Table(dict),'monte.dat')"
   ]
  },
  {
   "cell_type": "code",
   "execution_count": 4,
   "metadata": {
    "collapsed": false
   },
   "outputs": [
    {
     "name": "stdout",
     "output_type": "stream",
     "text": [
      "0.839679105685\n"
     ]
    },
    {
     "name": "stderr",
     "output_type": "stream",
     "text": [
      "/Users/lwymarie/anaconda/lib/python2.7/site-packages/ipykernel/__main__.py:5: RuntimeWarning: divide by zero encountered in log\n"
     ]
    }
   ],
   "source": [
    "print(stddev_oneabs_to_WCII(47))"
   ]
  },
  {
   "cell_type": "code",
   "execution_count": 4,
   "metadata": {
    "collapsed": false
   },
   "outputs": [
    {
     "name": "stderr",
     "output_type": "stream",
     "text": [
      "/Users/lwymarie/anaconda/lib/python2.7/site-packages/ipykernel/__main__.py:5: RuntimeWarning: divide by zero encountered in log\n"
     ]
    },
    {
     "data": {
      "text/plain": [
       "0.44834064769921955"
      ]
     },
     "execution_count": 4,
     "metadata": {},
     "output_type": "execute_result"
    }
   ],
   "source": [
    "stddev_oneabs_to_WCII(25.2)"
   ]
  },
  {
   "cell_type": "code",
   "execution_count": null,
   "metadata": {
    "collapsed": true
   },
   "outputs": [],
   "source": []
  }
 ],
 "metadata": {
  "kernelspec": {
   "display_name": "Python 2",
   "language": "python",
   "name": "python2"
  },
  "language_info": {
   "codemirror_mode": {
    "name": "ipython",
    "version": 2
   },
   "file_extension": ".py",
   "mimetype": "text/x-python",
   "name": "python",
   "nbconvert_exporter": "python",
   "pygments_lexer": "ipython2",
   "version": "2.7.12"
  }
 },
 "nbformat": 4,
 "nbformat_minor": 0
}
