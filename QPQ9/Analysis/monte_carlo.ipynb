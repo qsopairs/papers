{
 "cells": [
  {
   "cell_type": "markdown",
   "metadata": {},
   "source": [
    "## Monte Carlo simulation trial"
   ]
  },
  {
   "cell_type": "code",
   "execution_count": 3,
   "metadata": {
    "collapsed": false
   },
   "outputs": [
    {
     "name": "stderr",
     "output_type": "stream",
     "text": [
      "/Users/lwymarie/anaconda/lib/python2.7/site-packages/astroquery/sdss/__init__.py:28: UserWarning: Experimental: SDSS has not yet been refactored to have its API match the rest of astroquery (but it's nearly there).\n",
      "  warnings.warn(\"Experimental: SDSS has not yet been refactored to have its API \"\n"
     ]
    }
   ],
   "source": [
    "%matplotlib inline\n",
    "from __future__ import print_function,absolute_import,division,unicode_literals\n",
    "import numpy as np\n",
    "import glob,os,sys,copy,imp \n",
    "from scipy import stats as scistats\n",
    "import matplotlib as mpl\n",
    "mpl.rcParams['font.family']='stixgeneral'\n",
    "from matplotlib.backends.backend_pdf import PdfPages\n",
    "from matplotlib import pyplot as plt\n",
    "import matplotlib.gridspec as gridspec\n",
    "from astropy.table import QTable,Table\n",
    "from astropy.io import ascii,fits\n",
    "from astropy import units as u\n",
    "from astropy import constants as const\n",
    "from astropy.coordinates import SkyCoord\n",
    "from linetools.spectralline import AbsLine\n",
    "import linetools.utils as ltu\n",
    "from xastropy.igm.abs_sys import abssys_utils as abssys\n",
    "from xastropy import spec as xpsec\n",
    "from xastropy.plotting import utils as xputils\n",
    "from xastropy.xutils import xdebug as xdb\n",
    "from xastropy.obs import radec as xor\n",
    "from xastropy.atomic import ionization as xai\n",
    "from xastropy.xutils import fits as xxf\n",
    "sys.path.append(os.path.abspath(\"../../../py\"))\n",
    "from enigma.qpq import utils as qpqutils\n",
    "from enigma.qpq import spec as qpqs\n",
    "from enigma.qpq import stacks as qpqk\n",
    "sys.path.append(os.path.abspath(\"./Stacks/py\"))\n",
    "import qpq9_stacks as qpq9k\n",
    "import scipy.integrate as integrate\n",
    "from astropy.modeling import models,fitting\n",
    "from astropy.cosmology import FlatLambdaCDM\n",
    "cosmo = FlatLambdaCDM(H0=70,Om0=0.26)"
   ]
  },
  {
   "cell_type": "code",
   "execution_count": 108,
   "metadata": {
    "collapsed": true
   },
   "outputs": [],
   "source": [
    "def gen_stck_img(R_phys,z_fg,Deltav,v_grid,n_trials): # R_phys in kpc, Deltav in km/s\n",
    "    probs = np.zeros(len(v_grid))\n",
    "    cumulative_probs = np.zeros(len(v_grid))\n",
    "    Hubble_h = cosmo.H(0).value/100.\n",
    "    ell_IGM_DLA = 0.2*((1+z_fg)/(1+2.5))**2.1\n",
    "    ell_IGM_SLLS = 0.44*((1+z_fg)/(1+2.5))**2.1\n",
    "    ell_IGM_LLS = 1.05*((1+z_fg)/(1+2.5))**2.1\n",
    "    R_comov = R_phys/1000.*(1+z_fg)*Hubble_h # in h^-1 Mpc \n",
    "    for ii,vv in enumerate(v_grid):\n",
    "        gamma_DLA = 1.6\n",
    "        r0_DLA = 3.9\n",
    "#        gamma_SLLS = 1.6\n",
    "#        r0_SLLS = 15.5\n",
    "#        gamma_LLS = 1.6\n",
    "#        r0_LLS = 13.9\n",
    "        gamma_SLLS = 1.68\n",
    "        r0_SLLS = 14.0\n",
    "        gamma_LLS = 1.68\n",
    "        r0_LLS = 12.5\n",
    "        chi_DLA = 1./Deltav*integrate.quad(\n",
    "            lambda v:(np.sqrt(R_comov**2+(v/(cosmo.H(z_fg).value/(1+z_fg)))**2)/r0_DLA)**(-gamma_DLA),\n",
    "            v_grid[ii]-Deltav/2,v_grid[ii]+Deltav/2)[0]\n",
    "        chi_SLLS = 1./Deltav*integrate.quad(\n",
    "            lambda v:(np.sqrt(R_comov**2+(v/(cosmo.H(z_fg).value/(1+z_fg)))**2)/r0_SLLS)**(-gamma_SLLS),\n",
    "            v_grid[ii]-Deltav/2,v_grid[ii]+Deltav/2)[0]\n",
    "        chi_LLS = 1./Deltav*integrate.quad(\n",
    "            lambda v:(np.sqrt(R_comov**2+(v/(cosmo.H(z_fg).value/(1+z_fg)))**2)/r0_LLS)**(-gamma_LLS),\n",
    "            v_grid[ii]-Deltav/2,v_grid[ii]+Deltav/2)[0]\n",
    "        Deltaz = ltu.z_from_v(z_fg,v_grid[ii]+Deltav/2)-ltu.z_from_v(z_fg,v_grid[ii]-Deltav/2)\n",
    "        prob = (ell_IGM_DLA*(1+chi_DLA)+ell_IGM_SLLS*(1+chi_SLLS)+ell_IGM_LLS*(1+chi_LLS))*Deltaz\n",
    "        # test effect of doubling number of absorbers \n",
    "#        prob = prob*2\n",
    "        probs[ii] = prob\n",
    "        cumulative_probs[ii] = prob + np.sum(probs[0:ii])\n",
    "    norm = np.sum(probs)\n",
    "    probs = probs/norm\n",
    "#    print('Expected number of absorbers at R_phys',norm,R_phys)   \n",
    "    stck_img = np.zeros((n_trials,len(v_grid)))\n",
    "    for nt in np.arange(n_trials):\n",
    "        N_abs = np.random.poisson(norm)\n",
    "        flux = np.ones(len(v_grid))\n",
    "        for ii,na in enumerate(np.arange(N_abs)):\n",
    "            v_Hubble = np.random.choice(v_grid,p=probs)\n",
    "#            v_peculiar = np.random.normal(loc=0.,scale=246.) # sigma_1D for QPQ halo mass \n",
    "            v_peculiar = np.random.normal(loc=0.,scale=74.) # Try to produce sigma_1D^2 +182^2 = (312-35*3)^2 \n",
    "            v_add = v_Hubble + v_peculiar\n",
    "            # Higher rest EW to match data amplitude \n",
    "#            one_abs = models.GaussianAbsorption1D(amplitude=3.0,mean=v_add,stddev=45.) \n",
    "            one_abs = models.GaussianAbsorption1D(amplitude=3.0,mean=v_add,stddev=17.) # To match (312-35*3)^2 \n",
    "            flux = flux*one_abs(v_grid)\n",
    "            flux[np.where(flux < 0.)] = 0.\n",
    "        stck_img[nt,:] = flux    \n",
    "    \n",
    "    return stck_img"
   ]
  },
  {
   "cell_type": "code",
   "execution_count": 109,
   "metadata": {
    "collapsed": false
   },
   "outputs": [
    {
     "name": "stdout",
     "output_type": "stream",
     "text": [
      "rest EW in angstrom 0.299757582072\n"
     ]
    },
    {
     "name": "stderr",
     "output_type": "stream",
     "text": [
      "/Users/lwymarie/anaconda/lib/python2.7/site-packages/ipykernel/__main__.py:12: RuntimeWarning: divide by zero encountered in log\n"
     ]
    },
    {
     "data": {
      "text/plain": [
       "[-200, 200, 0, 1.05]"
      ]
     },
     "execution_count": 109,
     "metadata": {},
     "output_type": "execute_result"
    },
    {
     "data": {
      "image/png": "[encoded data removed]",
      "text/plain": [
       "<matplotlib.figure.Figure at 0x104f2bb90>"
      ]
     },
     "metadata": {},
     "output_type": "display_data"
    }
   ],
   "source": [
    "# Try CII absorbers of other amplitude, std_dev that preserve rest EW = 0.31 angstrom \n",
    "Deltav = 10.\n",
    "v_grid = -2000. + np.arange((2000.-(-2000.))/Deltav+1)*Deltav\n",
    "relativistic_equiv = u.doppler_relativistic(1334.5323*u.AA)\n",
    "wave_grid = (v_grid*u.km/u.s).to(u.AA,equivalencies=relativistic_equiv)\n",
    "#tau = models.Voigt1D(x_0=0.,amplitude_L=244,fwhm_L=0.7,fwhm_G=35)\n",
    "#tau2 = models.Voigt1D(x_0=100.,amplitude_L=244,fwhm_L=0.7,fwhm_G=35)\n",
    "#flux = np.exp(-1.*tau(v_grid))*np.exp(-1.*tau2(v_grid))\n",
    "one_abs = models.GaussianAbsorption1D(amplitude=3.0,mean=0,stddev=17.)\n",
    "flux = one_abs(v_grid)\n",
    "flux[np.where(flux < 0.)] = 0.\n",
    "tau = -np.log(flux)\n",
    "total_flux = np.exp(-tau)\n",
    "plt.plot(v_grid,total_flux,drawstyle='steps-mid',linewidth=2)\n",
    "print('rest EW in angstrom',np.sum((1.-total_flux[:-1])*np.diff(wave_grid.value)))\n",
    "plt.axis([-200,200,0,1.05])\n",
    "#one_abs = models.GaussianAbsorption1D(amplitude=0.7,mean=0,stddev=39.)\n",
    "#flux = one_abs(v_grid)\n",
    "#tau = -np.log(flux)\n",
    "#total_flux = np.exp(-2*tau)\n",
    "#plt.plot(v_grid,total_flux,drawstyle='steps-mid',linewidth=2)\n",
    "#print('rest EW in angstrom',np.sum((1.-total_flux[:-1])*np.diff(wave_grid.value)))"
   ]
  },
  {
   "cell_type": "code",
   "execution_count": 5,
   "metadata": {
    "collapsed": false
   },
   "outputs": [
    {
     "name": "stderr",
     "output_type": "stream",
     "text": [
      "/Users/lwymarie/python/specdb/specdb/query_catalog.py:140: UserWarning: No sources found at your coordinate within tol=0.5 arcsec.  Returning None\n",
      "  warnings.warn(\"No sources found at your coordinate within tol={:g}.  Returning None\".format(tol))\n",
      "/Users/lwymarie/python/linetools/linetools/spectra/xspectrum1d.py:295: UserWarning: No unit given to wavelength, assuming Angstroms.\n",
      "  warnings.warn(\"No unit given to wavelength, assuming Angstroms.\")\n"
     ]
    },
    {
     "name": "stdout",
     "output_type": "stream",
     "text": [
      "Reading /Users/lwymarie/python/enigma/enigma/data/qpq/qpq9_final.fits\n",
      "4.50292750736 1 / Angstrom\n",
      "No spectrum found for BOSSJ0008-0039 and wvobs=3921.71 Angstrom!\n",
      "3.96738337038 1 / Angstrom\n",
      "No spectrum found for BOSSJ0042+1350 and wvobs=3705.49 Angstrom!\n",
      "81.2002163512 1 / Angstrom\n",
      "43.8725850917 1 / Angstrom\n",
      "Using /u/xavier/Dropbox//QSOPairs/data/GMOS_redux//./SDSSJ034139.19-000012.7_b1200_F.fits.gz for SDSSJ0341-0000\n",
      "S/N 81.2002163512 1 / Angstrom\n",
      "91.8637821431 1 / Angstrom\n",
      "Using /u/xavier/Dropbox//QSOPairs/data/LRIS_redux//./SDSSJ080048.74+354231.3_b1200_F.fits.gz for APOJ0800+3542\n",
      "S/N 91.8637821431 1 / Angstrom\n",
      "6.81812554325 1 / Angstrom\n",
      "Using spec-7328-56715-0428.fits.gz for BOSSJ0809+4539\n",
      "S/N 6.81812554325 1 / Angstrom\n",
      "No spectrum found for BOSSJ0826+4708 and wvobs=3735.68 Angstrom!\n",
      "7.18837682491 1 / Angstrom\n",
      "30.3853921563 1 / Angstrom\n",
      "Using /u/xavier/Dropbox//QSOPairs/data/LRIS_redux//./SDSSJ082844.87+454518.2_b1200_F.fits.gz for SDSSJ0828+4545\n",
      "S/N 30.3853921563 1 / Angstrom\n",
      "30.2325672808 1 / Angstrom\n",
      "Using /u/xavier/Dropbox//QSOPairs/data/LRIS_redux//./SDSSJ083757.13+383722.4_b1200_F.fits.gz for APOJ0837+3837\n",
      "S/N 30.2325672808 1 / Angstrom\n",
      "14.3649768624 1 / Angstrom\n",
      "Using /u/xavier/Dropbox//QSOPairs/data/BOSS/v5_5_0/SDSSJ084159.26+392140.0.fits for BOSSJ0841+3921\n",
      "S/N 14.3649768624 1 / Angstrom\n",
      "98.9573309653 1 / Angstrom\n",
      "Using /u/xavier/Dropbox//QSOPairs/data/MAGE_redux//./SDSSJ085357.49-001106.1_F.fits.gz for BOSSJ0853-0011\n",
      "S/N 98.9573309653 1 / Angstrom\n",
      "1.62396442335 1 / Angstrom\n",
      "No spectrum found for BOSSJ0903+5133 and wvobs=3828.28 Angstrom!\n",
      "No spectrum found for BOSSJ0904+0042 and wvobs=3494.49 Angstrom!\n",
      "148.785541965 1 / Angstrom\n",
      "17.3423231584 1 / Angstrom\n",
      "Using /u/xavier/Dropbox//QSOPairs/data/XSHOOTER_redux//./SDSSJ091338.97-010704.6_F.fits.gz for BOSSJ0913-0107\n",
      "S/N 148.785541965 1 / Angstrom\n",
      "10.8051460331 1 / Angstrom\n",
      "Using /u/xavier/Dropbox//QSOPairs/data/BOSS/v5_5_0/SDSSJ091553.38+011911.3.fits for BOSSJ0915+0119\n",
      "S/N 10.8051460331 1 / Angstrom\n",
      "73.4837197801 1 / Angstrom\n",
      "Using /u/xavier/Dropbox//QSOPairs/data/LRIS_redux//./SDSSJ092416.73+392914.6_b1200_F.fits.gz for APOJ0924+3929\n",
      "S/N 73.4837197801 1 / Angstrom\n",
      "63.4469432352 1 / Angstrom\n",
      "Using /u/xavier/Dropbox//QSOPairs/data/MAGE_redux//./SDSSJ093225.60+092500.2_F.fits.gz for APOJ0932+0925\n",
      "S/N 63.4469432352 1 / Angstrom\n",
      "61.1958688467 1 / Angstrom\n",
      "Using /u/xavier/Dropbox//QSOPairs/data/LRIS_redux//./SDSSJ100507.08+501929.8_b1200_F.fits.gz for SDSSJ1005+5019\n",
      "S/N 61.1958688467 1 / Angstrom\n",
      "5.80076751493 1 / Angstrom\n",
      "Using /u/xavier/Dropbox//QSOPairs/data/BOSS/v5_6_0/SDSSJ100940.58+250053.9.fits for APOJ1009+2500\n",
      "S/N 5.80076751493 1 / Angstrom\n",
      "18.3833276369 1 / Angstrom\n",
      "Using spec-6702-56381-0508.fits.gz for BOSSJ1036+5012\n",
      "S/N 18.3833276369 1 / Angstrom\n",
      "47.8321699841 1 / Angstrom\n",
      "14.4811127001 1 / Angstrom\n",
      "56.6216841306 1 / Angstrom\n",
      "Using /u/xavier/Dropbox//QSOPairs/data/ESI_redux//./SDSSJ103900.01+502652.8_F.fits.gz for BOSSJ1039+5026\n",
      "S/N 56.6216841306 1 / Angstrom\n",
      "13.0098881907 1 / Angstrom\n",
      "Using spec-7083-56722-0068.fits.gz for BOSSJ1042+6459\n",
      "S/N 13.0098881907 1 / Angstrom\n",
      "68.4231952803 1 / Angstrom"
     ]
    },
    {
     "name": "stderr",
     "output_type": "stream",
     "text": [
      "/Users/lwymarie/python/specdb/specdb/query_catalog.py:145: UserWarning: Found multiple sources in the catalog. Taking the closest one\n",
      "  warnings.warn(\"Found multiple sources in the catalog. Taking the closest one\")\n",
      "/Users/lwymarie/anaconda/lib/python2.7/site-packages/astropy/units/quantity.py:850: RuntimeWarning: invalid value encountered in true_divide\n",
      "  return super(Quantity, self).__itruediv__(other)\n"
     ]
    },
    {
     "name": "stdout",
     "output_type": "stream",
     "text": [
      "\n",
      "143.701568431 1 / Angstrom\n",
      "Using /u/xavier/Dropbox//QSOPairs/data/ESI_redux//./SDSSJ114436.66+095904.9_F.fits.gz for BOSSJ1144+0959\n",
      "S/N 143.701568431 1 / Angstrom\n",
      "No continuum: /u/xavier/Dropbox//QSOPairs/data/GMOS_redux//./SDSSJ120416.69+022111.0_b1200_F.fits.gz\n",
      "No continuum: /u/xavier/Dropbox//QSOPairs/data/HIRES_redux//./SDSSJ120416.69+022111.0_f.fits.gz\n",
      "Using conti=1 for HIRES\n",
      "143.009676121 1 / Angstrom\n",
      "47.1880601379 1 / Angstrom\n",
      "Using /u/xavier/Dropbox//QSOPairs/data/HIRES_redux//./SDSSJ120416.69+022111.0_f.fits.gz for BOSSJ1204+0221\n",
      "S/N 143.009676121 1 / Angstrom\n",
      "15.4009220707 1 / Angstrom\n",
      "Using /u/xavier/Dropbox//QSOPairs/data/SDSS//./SDSSJ121558.80+571555.4.fits.gz for BOSSJ1215+5715\n",
      "S/N 15.4009220707 1 / Angstrom\n",
      "77.9062475252 1 / Angstrom\n",
      "12.5394715796 1 / Angstrom\n",
      "30.426493273 1 / Angstrom\n",
      "Using /u/xavier/Dropbox//QSOPairs/data/GMOS_redux//./SDSSJ123141.73+002913.9_b600_F.fits.gz for BOSSJ1231+0029\n",
      "S/N 77.9062475252 1 / Angstrom\n",
      "5.7442684952 1 / Angstrom\n",
      "Using spec-6482-56358-0110.fits.gz for BOSSJ1244+3208\n",
      "S/N 5.7442684952 1 / Angstrom\n",
      "3.22637701191 1 / Angstrom\n",
      "No spectrum found for BOSSJ1253+6327 and wvobs=3960.97 Angstrom!\n",
      "32.2260362938 1 / Angstrom\n",
      "Using /u/xavier/Dropbox//QSOPairs/data/LRIS_redux//./SDSSJ130603.55+615835.2_b1200_F.fits.gz for APOJ1306+6158\n",
      "S/N 32.2260362938 1 / Angstrom\n",
      "34.2970121093 1 / Angstrom\n",
      "5.29401077478 1 / Angstrom\n",
      "Using /u/xavier/Dropbox//QSOPairs/data/LRIS_redux//./SDSSJ135629.54+613310.4_b1200_F.fits.gz for BOSSJ1356+6133\n",
      "S/N 34.2970121093 1 / Angstrom\n",
      "15.1009716431 1 / Angstrom\n",
      "Using /u/xavier/Dropbox//QSOPairs/data/BOSS/v5_6_0/SDSSJ135849.54+273756.9.fits for APOJ1358+2737\n",
      "S/N 15.1009716431 1 / Angstrom\n",
      "43.8359026859 1 / Angstrom\n",
      "Using /u/xavier/Dropbox//QSOPairs/data/MAGE_redux//./SDSSJ142054.92+160342.9_F.fits.gz for APOJ1420+1603\n",
      "S/N 43.8359026859 1 / Angstrom\n",
      "No continuum: /u/xavier/Dropbox//QSOPairs/data/GMOS_redux//./SDSSJ142758.74-012136.2_b1200_F.fits.gz\n",
      "138.30326756 1 / Angstrom\n",
      "105.667653814 1 / Angstrom\n",
      "Using /u/xavier/Dropbox//QSOPairs/data/MIKE_redux//./SDSSJ142758.74-012136.2_b_F.fits.gz for BOSSJ1427-0121\n",
      "S/N 138.30326756 1 / Angstrom\n",
      "22.5701822755 1 / Angstrom\n",
      "Using /u/xavier/Dropbox//QSOPairs/data/BOSS/v5_4_45/SDSSJ143344.55+064111.9.fits for BOSSJ1433+0641\n",
      "S/N 22.5701822755 1 / Angstrom\n",
      "21.9095759058 1 / Angstrom\n",
      "Using /u/xavier/Dropbox//QSOPairs/data/MAGE_redux//./SDSSJ155325.89+192137.7_F.fits.gz for APOJ1553+1921\n",
      "S/N 21.9095759058 1 / Angstrom\n",
      "24.839736758 1 / Angstrom\n",
      "Using /u/xavier/Dropbox//QSOPairs/data/LRIS_redux//./SDSSJ155946.28+494326.5_b1200_F.fits.gz for APOJ1559+4943\n",
      "S/N 24.839736758 1 / Angstrom\n",
      "17.6816574408 1 / Angstrom\n",
      "Using /u/xavier/Dropbox//QSOPairs/data/BOSS/v5_6_0/SDSSJ160546.67+511323.0.fits for BOSSJ1605+5113\n",
      "S/N 17.6816574408 1 / Angstrom\n",
      "1.30297358494 1 / Angstrom\n",
      "No spectrum found for BOSSJ1618+1842 and wvobs=4068.53 Angstrom!\n",
      "121.364130368 1 / Angstrom\n",
      "Using /u/xavier/Dropbox//QSOPairs/data/ESI_redux//./SDSSJ162737.25+460609.3_F.fits.gz for APOJ1627+4606\n",
      "S/N 121.364130368 1 / Angstrom\n",
      "10.3335223788 1 / Angstrom\n",
      "Using /u/xavier/Dropbox//QSOPairs/data/BOSS/v5_5_0/SDSSJ225549.55-000927.7.fits for BOSSJ2255-0009\n",
      "S/N 10.3335223788 1 / Angstrom\n"
     ]
    },
    {
     "name": "stderr",
     "output_type": "stream",
     "text": [
      "/Users/lwymarie/anaconda/lib/python2.7/site-packages/astropy/units/quantity.py:850: RuntimeWarning: divide by zero encountered in true_divide\n",
      "  return super(Quantity, self).__itruediv__(other)\n",
      "/Users/lwymarie/python/linetools/linetools/spectra/xspectrum1d.py:807: UserWarning: Ignoring NAN and inf in flux\n",
      "  warnings.warn(\"Ignoring NAN and inf in flux\")\n"
     ]
    }
   ],
   "source": [
    "stack_tup0 = qpq9k.qpq9_IRMgII(passback=True,wrest=1334.5323*u.AA,S2N_cut=5.5/u.AA,\n",
    "                               vsig_cut=400*u.km/u.s,zfg_mnx=(1.6,9999),plot_indiv=False)\n",
    "fin_velo, stck_img, stck_msk, all_dict = stack_tup0"
   ]
  },
  {
   "cell_type": "code",
   "execution_count": 110,
   "metadata": {
    "collapsed": false
   },
   "outputs": [],
   "source": [
    "n_trials = 1000\n",
    "Deltav = 10.\n",
    "v_grid = -2000. + np.arange((2000.-(-2000.))/Deltav+1)*Deltav\n",
    "relativistic_equiv = u.doppler_relativistic(1334.5323*u.AA)\n",
    "wave_grid = (v_grid*u.km/u.s).to(u.AA,equivalencies=relativistic_equiv)\n",
    "sv_mean_flux = []\n",
    "for ii,idict in enumerate(all_dict):\n",
    "    if idict is None:\n",
    "        continue\n",
    "    if 'J1508+3635' in idict['qpq']['NAME']:\n",
    "        continue\n",
    "    else:\n",
    "        stck_img = gen_stck_img(idict['qpq']['R_PHYS'],idict['qpq']['Z_FG'],Deltav,v_grid,n_trials)\n",
    "        mean_flux = np.sum(stck_img,0)/n_trials\n",
    "        sv_mean_flux.append(mean_flux)"
   ]
  },
  {
   "cell_type": "code",
   "execution_count": 111,
   "metadata": {
    "collapsed": false
   },
   "outputs": [
    {
     "name": "stdout",
     "output_type": "stream",
     "text": [
      "Rest EW in angstrom: 0.189619297479\n"
     ]
    },
    {
     "data": {
      "text/plain": [
       "<CompoundModel24(amplitude_0=0.9975770972709369, amplitude_1=0.13345271564321876, mean_1=0.49725580621226606, stddev_1=98.54702767032168)>"
      ]
     },
     "execution_count": 111,
     "metadata": {},
     "output_type": "execute_result"
    },
    {
     "data": {
      "image/png": "[encoded data removed]",
      "text/plain": [
       "<matplotlib.figure.Figure at 0x1109ae390>"
      ]
     },
     "metadata": {},
     "output_type": "display_data"
    }
   ],
   "source": [
    "mean_flux = np.mean(sv_mean_flux,0)\n",
    "plt.figure(figsize=(8,5))\n",
    "plt.plot(v_grid,mean_flux,drawstyle='steps-mid',linewidth=2.,)\n",
    "plt.axis([-2000,2000,0.65,1.05])\n",
    "print('Rest EW in angstrom:',np.sum((1.-mean_flux[:-1])*np.diff(wave_grid.value)))\n",
    "model_init = models.GaussianAbsorption1D(amplitude=0.11,mean=0.,stddev=250.)\n",
    "c_init = models.Const1D(amplitude=0.997)\n",
    "model_init = c_init*model_init\n",
    "fit = fitting.LevMarLSQFitter()\n",
    "model_final = fit(model_init,v_grid,mean_flux)\n",
    "plt.plot(v_grid,model_final(v_grid))\n",
    "model_final\n",
    "#tau = np.log(1./(mean_flux))\n",
    "#tau_disp = np.sqrt(np.sum(v_grid**2*tau)/np.sum(tau))\n",
    "#print(tau_disp)\n",
    "#print(np.sum((v_grid**2)*np.log(1/(mean_flux/0.994))))"
   ]
  },
  {
   "cell_type": "code",
   "execution_count": 93,
   "metadata": {
    "collapsed": true
   },
   "outputs": [],
   "source": [
    "# save model \n",
    "dict = {}\n",
    "for ii,pp in enumerate(model_final.parameters):\n",
    "    dict[model_final.param_names[ii]] = [pp]\n",
    "ascii.write(Table(dict),'monte.dat')"
   ]
  },
  {
   "cell_type": "code",
   "execution_count": 7,
   "metadata": {
    "collapsed": false
   },
   "outputs": [
    {
     "data": {
      "image/png": "[encoded data removed]"
     },
     "metadata": {},
     "output_type": "display_data"
    }
   ],
   "source": [
    "from astropy.modeling.models import Voigt1D\n",
    "plt.figure()\n",
    "x = np.arange(0, 10, 0.01)\n",
    "v1 = Voigt1D(x_0=5, amplitude_L=20, fwhm_L=0.5, fwhm_G=0.9)\n",
    "plt.plot(x, np.exp(-1.*v1(x)))\n",
    "plt.show()"
   ]
  },
  {
   "cell_type": "code",
   "execution_count": 8,
   "metadata": {
    "collapsed": false
   },
   "outputs": [
    {
     "data": {
      "text/plain": [
       "0.30790000000000001"
      ]
     },
     "execution_count": 8,
     "metadata": {},
     "output_type": "execute_result"
    }
   ],
   "source": [
    "# Find mean equivalent width of QPQ8 LLS\n",
    "np.mean([0.000,0.042,0.345,0.195,0.025,0.030,0.053,0.168,0.504,0.248,0.779,0.281,0.341,\n",
    "         0.328,0.756,0.650,0.154,0.179,0.130,0.950])"
   ]
  },
  {
   "cell_type": "code",
   "execution_count": null,
   "metadata": {
    "collapsed": true
   },
   "outputs": [],
   "source": []
  }
 ],
 "metadata": {
  "kernelspec": {
   "display_name": "Python 2",
   "language": "python",
   "name": "python2"
  },
  "language_info": {
   "codemirror_mode": {
    "name": "ipython",
    "version": 2
   },
   "file_extension": ".py",
   "mimetype": "text/x-python",
   "name": "python",
   "nbconvert_exporter": "python",
   "pygments_lexer": "ipython2",
   "version": "2.7.12"
  }
 },
 "nbformat": 4,
 "nbformat_minor": 0
}
