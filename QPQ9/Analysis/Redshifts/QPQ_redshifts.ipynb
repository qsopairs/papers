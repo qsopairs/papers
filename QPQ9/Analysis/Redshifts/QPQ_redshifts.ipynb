{
 "cells": [
  {
   "cell_type": "markdown",
   "metadata": {},
   "source": [
    "# QPQ Redshift Measurements (v2.0)"
   ]
  },
  {
   "cell_type": "code",
   "execution_count": 4,
   "metadata": {
    "collapsed": false
   },
   "outputs": [
    {
     "ename": "ImportError",
     "evalue": "No module named hewittwildz",
     "output_type": "error",
     "traceback": [
      "\u001b[0;31m---------------------------------------------------------------------------\u001b[0m",
      "\u001b[0;31mImportError\u001b[0m                               Traceback (most recent call last)",
      "\u001b[0;32m<ipython-input-4-92aaab3d19e2>\u001b[0m in \u001b[0;36m<module>\u001b[0;34m()\u001b[0m\n\u001b[1;32m      3\u001b[0m \u001b[0;32mimport\u001b[0m \u001b[0msys\u001b[0m\u001b[0;34m,\u001b[0m\u001b[0mos\u001b[0m\u001b[0;34m\u001b[0m\u001b[0m\n\u001b[1;32m      4\u001b[0m \u001b[0msys\u001b[0m\u001b[0;34m.\u001b[0m\u001b[0mpath\u001b[0m\u001b[0;34m.\u001b[0m\u001b[0mappend\u001b[0m\u001b[0;34m(\u001b[0m\u001b[0mos\u001b[0m\u001b[0;34m.\u001b[0m\u001b[0mpath\u001b[0m\u001b[0;34m.\u001b[0m\u001b[0mabspath\u001b[0m\u001b[0;34m(\u001b[0m\u001b[0;34m\"./py\"\u001b[0m\u001b[0;34m)\u001b[0m\u001b[0;34m)\u001b[0m\u001b[0;34m\u001b[0m\u001b[0m\n\u001b[0;32m----> 5\u001b[0;31m \u001b[0;32mimport\u001b[0m \u001b[0mqpq_z\u001b[0m \u001b[0;32mas\u001b[0m \u001b[0mqpqz\u001b[0m\u001b[0;34m\u001b[0m\u001b[0m\n\u001b[0m\u001b[1;32m      6\u001b[0m \u001b[0;32mfrom\u001b[0m \u001b[0mxastropy\u001b[0m\u001b[0;34m.\u001b[0m\u001b[0msdss\u001b[0m \u001b[0;32mimport\u001b[0m \u001b[0mqso\u001b[0m \u001b[0;32mas\u001b[0m \u001b[0msdssqso\u001b[0m\u001b[0;34m\u001b[0m\u001b[0m\n\u001b[1;32m      7\u001b[0m \u001b[0;32mfrom\u001b[0m \u001b[0menigma\u001b[0m\u001b[0;34m.\u001b[0m\u001b[0mqso\u001b[0m \u001b[0;32mimport\u001b[0m \u001b[0mhewittwildz\u001b[0m \u001b[0;32mas\u001b[0m \u001b[0mhw10z\u001b[0m\u001b[0;34m\u001b[0m\u001b[0m\n",
      "\u001b[0;32m/Users/lwymarie/QSOClustering/tex/QPQ9/Analysis/Redshifts/py/qpq_z.py\u001b[0m in \u001b[0;36m<module>\u001b[0;34m()\u001b[0m\n\u001b[1;32m     39\u001b[0m \u001b[0;34m\u001b[0m\u001b[0m\n\u001b[1;32m     40\u001b[0m \u001b[0msys\u001b[0m\u001b[0;34m.\u001b[0m\u001b[0mpath\u001b[0m\u001b[0;34m.\u001b[0m\u001b[0mappend\u001b[0m\u001b[0;34m(\u001b[0m\u001b[0mos\u001b[0m\u001b[0;34m.\u001b[0m\u001b[0mpath\u001b[0m\u001b[0;34m.\u001b[0m\u001b[0mabspath\u001b[0m\u001b[0;34m(\u001b[0m\u001b[0mos\u001b[0m\u001b[0;34m.\u001b[0m\u001b[0mgetenv\u001b[0m\u001b[0;34m(\u001b[0m\u001b[0;34m'QPQ9'\u001b[0m\u001b[0;34m)\u001b[0m\u001b[0;34m+\u001b[0m\u001b[0;34m\"/Analysis/Redshifts/py\"\u001b[0m\u001b[0;34m)\u001b[0m\u001b[0;34m)\u001b[0m\u001b[0;34m\u001b[0m\u001b[0m\n\u001b[0;32m---> 41\u001b[0;31m \u001b[0;32mimport\u001b[0m \u001b[0mhewittwildz\u001b[0m \u001b[0;32mas\u001b[0m \u001b[0mhw10z\u001b[0m\u001b[0;34m\u001b[0m\u001b[0m\n\u001b[0m\u001b[1;32m     42\u001b[0m \u001b[0;34m\u001b[0m\u001b[0m\n\u001b[1;32m     43\u001b[0m \u001b[0;32mdef\u001b[0m \u001b[0mparse_o2_zstruct\u001b[0m\u001b[0;34m(\u001b[0m\u001b[0mxx\u001b[0m\u001b[0;34m=\u001b[0m\u001b[0mNone\u001b[0m\u001b[0;34m)\u001b[0m\u001b[0;34m:\u001b[0m\u001b[0;34m\u001b[0m\u001b[0m\n",
      "\u001b[0;31mImportError\u001b[0m: No module named hewittwildz"
     ]
    }
   ],
   "source": [
    "# imports\n",
    "from linetools.spectra import io as lsio\n",
    "import sys,os\n",
    "from xastropy.sdss import qso as sdssqso\n",
    "from enigma.qso import hewittwildz as hw10z\n",
    "sys.path.append(os.path.abspath(\"./py\"))\n",
    "import qpq_z as qpqz"
   ]
  },
  {
   "cell_type": "code",
   "execution_count": null,
   "metadata": {
    "collapsed": false
   },
   "outputs": [],
   "source": [
    "# Read O2 file\n",
    "qsozout = os.getenv('DROPBOX_DIR') + '/O2_zsys/qsos_o2_zstruct.fits'\n",
    "qsos = Table.read(qsozout)\n",
    "qsos[0:3]"
   ]
  },
  {
   "cell_type": "code",
   "execution_count": 22,
   "metadata": {
    "collapsed": false
   },
   "outputs": [],
   "source": [
    "# Cut on good [OII]\n",
    "good_o2 = ((qsos['ZSYS_ZSYS'] > 0.0)&# AND $   ;; systemic redshift not zero\n",
    "          (qsos['ZSYS_OII_QUAL'] == 1)&# AND $ ;; received\n",
    "          (qsos['M_I_Z2'] <= -23.0)&# AND $   ;; bright enough to be a QSO and not Seyfert\n",
    "          (qsos['OII_SN'] >= 30.0)& # AND $     ;; OII S/N ratio cut (S/N in a 500 km/s window)\n",
    "          (qsos['ZSYS_OII_PEAK2CONT'] >= 0.5)) # ;; OII peak/continuum > 0.5"
   ]
  },
  {
   "cell_type": "code",
   "execution_count": 23,
   "metadata": {
    "collapsed": false
   },
   "outputs": [],
   "source": [
    "# Good MgII\n",
    "good = good_o2 & (qsos['MGII_MODE'] > 0.0)\n",
    "lambda_line = 2798.75\n",
    "z_line = qsos['MGII_MODE']/lambda_line - 1.0\n",
    "#\n",
    "ikeep = np.where(good)\n",
    "gqsos = qsos[ikeep]\n",
    "z_line = z_line[ikeep]"
   ]
  },
  {
   "cell_type": "code",
   "execution_count": 25,
   "metadata": {
    "collapsed": false
   },
   "outputs": [],
   "source": [
    "# Velocity differences\n",
    "lambda_o2 = 3728.30  # ;; Boroson or van den Berk??\n",
    "z_O2 = gqsos['ZSYS_OII_FPEAK']/lambda_o2 - 1.0\n",
    "\n",
    "vdiff = 3e5*(z_O2-z_line)/(1+z_O2)"
   ]
  },
  {
   "cell_type": "code",
   "execution_count": 26,
   "metadata": {
    "collapsed": true
   },
   "outputs": [],
   "source": [
    "xdb.xhist(vdiff)"
   ]
  },
  {
   "cell_type": "markdown",
   "metadata": {},
   "source": [
    "## Generating plots for JFH redshifts"
   ]
  },
  {
   "cell_type": "code",
   "execution_count": 54,
   "metadata": {
    "collapsed": false
   },
   "outputs": [
    {
     "name": "stdout",
     "output_type": "stream",
     "text": [
      "RMS=412.84 before\n",
      "Wrote: mgii_vs_o2_jfh.pdf\n"
     ]
    },
    {
     "name": "stderr",
     "output_type": "stream",
     "text": [
      "/Users/xavier/anaconda/lib/python2.7/site-packages/matplotlib/pyplot.py:424: RuntimeWarning: More than 20 figures have been opened. Figures created through the pyplot interface (`matplotlib.pyplot.figure`) are retained until explicitly closed and may consume too much memory. (To control this warning, see the rcParam `figure.max_open_warning`).\n",
      "  max_open_warning, RuntimeWarning)\n"
     ]
    }
   ],
   "source": [
    "reload(qpqz)\n",
    "qpqz.xx_o2_joe('MgII', outfil='mgii_vs_o2_jfh.pdf')"
   ]
  },
  {
   "cell_type": "code",
   "execution_count": 55,
   "metadata": {
    "collapsed": false
   },
   "outputs": [
    {
     "name": "stdout",
     "output_type": "stream",
     "text": [
      "RMS=285.004 before\n",
      "Wrote: Ha_vs_o2_jfh.pdf\n"
     ]
    }
   ],
   "source": [
    "reload(qpqz)\n",
    "qpqz.xx_o2_joe('Ha', outfil='Ha_vs_o2_jfh.pdf')"
   ]
  },
  {
   "cell_type": "code",
   "execution_count": 56,
   "metadata": {
    "collapsed": false
   },
   "outputs": [
    {
     "name": "stdout",
     "output_type": "stream",
     "text": [
      "RMS=680.578 before\n",
      "Wrote: Hb_vs_o2_jfh.pdf\n"
     ]
    }
   ],
   "source": [
    "reload(qpqz)\n",
    "qpqz.xx_o2_joe('Hb', outfil='Hb_vs_o2_jfh.pdf')"
   ]
  },
  {
   "cell_type": "code",
   "execution_count": null,
   "metadata": {
    "collapsed": true
   },
   "outputs": [],
   "source": [
    "reload(qpqz)\n",
    "qpqz.xx_o2_joe('Hb', outfil='Hb_vs_o2_jfh.pdf')"
   ]
  },
  {
   "cell_type": "markdown",
   "metadata": {},
   "source": [
    "## Test run of HW -- See other notebook"
   ]
  },
  {
   "cell_type": "markdown",
   "metadata": {},
   "source": [
    "## Spot Check a few Hbeta"
   ]
  },
  {
   "cell_type": "code",
   "execution_count": 11,
   "metadata": {
    "collapsed": true
   },
   "outputs": [],
   "source": [
    "# Grab list\n",
    "reload(qpqz)\n",
    "gqsos, z_O2, z_line = qpqz.parse_o2_zstruct('Hb')\n",
    "all_vdiff = const.c.to('km/s').value*(z_O2-z_line)/(1+z_O2)"
   ]
  },
  {
   "cell_type": "code",
   "execution_count": 13,
   "metadata": {
    "collapsed": false
   },
   "outputs": [
    {
     "data": {
      "text/plain": [
       "176"
      ]
     },
     "execution_count": 13,
     "metadata": {},
     "output_type": "execute_result"
    }
   ],
   "source": [
    "bad = np.where(all_vdiff < -1000.)[0]\n",
    "len(bad)"
   ]
  },
  {
   "cell_type": "code",
   "execution_count": 15,
   "metadata": {
    "collapsed": false
   },
   "outputs": [
    {
     "name": "stdout",
     "output_type": "stream",
     "text": [
      "SDSSJ074858.31+332822.6.fits\n",
      "SDSSJ075821.41+355713.9.fits\n",
      "SDSSJ090240.51+020743.8.fits\n",
      "SDSSJ090446.00+020843.0.fits\n",
      "SDSSJ090608.18+023714.5.fits\n",
      "SDSSJ135759.82+360244.8.fits\n",
      "SDSSJ135832.89+363957.8.fits\n",
      "SDSSJ145622.74+302921.2.fits\n",
      "SDSSJ160313.21+162439.0.fits\n",
      "SDSSJ155354.00+205839.5.fits\n"
     ]
    }
   ],
   "source": [
    "## Examine a few\n",
    "for ii in range(10):\n",
    "    print(gqsos[bad[ii]]['SPEC_FILE'])"
   ]
  },
  {
   "cell_type": "code",
   "execution_count": 16,
   "metadata": {
    "collapsed": true
   },
   "outputs": [],
   "source": [
    "# First one was blobby + poorish S/N\n",
    "# Next had narrow + broad with the broad blended with [OIII]\n",
    "# Poor data in the red (sky subtraction)\n",
    "# Sensible data with wild, double broad emission (MgII too)\n",
    "# Narrow + broad; broad is ~1000km/s offset\n",
    "# Another narrow + broad; broad is ~1000km/s offset"
   ]
  },
  {
   "cell_type": "markdown",
   "metadata": {},
   "source": [
    "### Now a few good cases"
   ]
  },
  {
   "cell_type": "code",
   "execution_count": 17,
   "metadata": {
    "collapsed": false
   },
   "outputs": [
    {
     "name": "stdout",
     "output_type": "stream",
     "text": [
      "SDSSJ014040.71+001758.2.fits\n",
      "SDSSJ074325.12+440815.0.fits\n",
      "SDSSJ080043.86+515806.5.fits\n",
      "SDSSJ080129.36+423651.8.fits\n",
      "SDSSJ075649.71+420632.5.fits\n",
      "SDSSJ081804.16+454232.2.fits\n",
      "SDSSJ081336.06+481302.6.fits\n",
      "SDSSJ075615.51+305821.6.fits\n",
      "SDSSJ082049.74+373728.1.fits\n",
      "SDSSJ074843.02+361258.7.fits\n"
     ]
    }
   ],
   "source": [
    "good = np.where(np.abs(all_vdiff) < 50.)[0]\n",
    "## Examine a few\n",
    "for ii in range(10):\n",
    "    print(gqsos[good[ii]]['SPEC_FILE'])"
   ]
  },
  {
   "cell_type": "code",
   "execution_count": null,
   "metadata": {
    "collapsed": true
   },
   "outputs": [],
   "source": [
    "# Examining\n",
    "# Peaky Hbeta on top of a broad component\n",
    "# Low S/N at Hbeta\n",
    "# \n"
   ]
  }
 ],
 "metadata": {
  "kernelspec": {
   "display_name": "Python 2",
   "language": "python",
   "name": "python2"
  },
  "language_info": {
   "codemirror_mode": {
    "name": "ipython",
    "version": 2
   },
   "file_extension": ".py",
   "mimetype": "text/x-python",
   "name": "python",
   "nbconvert_exporter": "python",
   "pygments_lexer": "ipython2",
   "version": "2.7.12"
  }
 },
 "nbformat": 4,
 "nbformat_minor": 0
}
