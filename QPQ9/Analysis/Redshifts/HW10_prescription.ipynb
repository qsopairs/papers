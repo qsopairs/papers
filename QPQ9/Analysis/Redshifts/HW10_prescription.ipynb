{
 "cells": [
  {
   "cell_type": "markdown",
   "metadata": {},
   "source": [
    "# QPQ Redshift Measurements"
   ]
  },
  {
   "cell_type": "code",
   "execution_count": 27,
   "metadata": {
    "collapsed": false
   },
   "outputs": [],
   "source": [
    "# imports\n",
    "from xastropy.xguis import spec_guis as xsg\n",
    "from xastropy.sdss import quasars as sdssq\n",
    "from xastropy.sdss import qso as sdssqso\n",
    "\n",
    "import multiprocessing\n",
    "\n",
    "from linetools.spectra import io as lsio\n",
    "import qpq_z as qpqz"
   ]
  },
  {
   "cell_type": "markdown",
   "metadata": {},
   "source": [
    "## Following Hewitt & Wild 2010\n",
    "\n",
    "Their prescription, applied to SDSS spectra, is as follows\n",
    "(in order of preference):\n",
    "\n",
    "**Redshift recipe:**\n",
    "\n",
    "1. Gassian fits to [OIII]\n",
    "1. Gaussian fit to [OII] -- Effective wavelength = 3728.60A\n",
    "1. Cross-correlation with MgII\n",
    "  * Minimum rest-wavelength of 1975A for $z<1.1$\n",
    "  * Lower minimum for $z>1.1$ which includes CIII]\n",
    "  * Residuals are at the $\\Delta z \\, / (1+z) \\approx 10^{-5}$ level\n",
    "1. Cross-correlation dominated by CIII]\n",
    "  * Required for $z>2$ SDSS spectra\n",
    "  * Must correct for luminosity bias assessed from $1.1<z<2$ quasars\n",
    "1. Cross-correlation including CIV\n",
    "  * Used when CIII] is too weak\n",
    "  * Strong luminosity bias with broken slopes is applied\n",
    "  * One must also include a correction for CIV absorption \n",
    "  \n",
    "**Systematics:**\n",
    "\n",
    "1. [OIII] is offset by 45 km/s bluewards from CaII in $z<0.4$ AGN\n",
    "1. [OII] is offset by 24 km/s redwards of [OIII]\n",
    "1. Alternative template for FIRST detected, especially for CIII]\n",
    "\n",
    "**Cross-correlation:**\n",
    "\n",
    "1. Avoid strong emission-lines near edge of spectrum\n",
    "1. Define an identical window for quasar and template spectrum\n",
    "1. Narrow absorption features are flagged from a continuum-subtracted spectrum\n",
    "    * Continuum is defined with a 61-pixel median filter\n",
    "    * Those falling 4.5$\\sigma$ below are flagged with grow radius of 2 pixels\n",
    "1. Restrict rest-frame wavelength range:\n",
    "    * Pixels with $\\lambda_r > 7000$A are excluded\n",
    "    * Pixels near the brightest sky lines are masked\n",
    "    * Pixels with $\\lambda_r < 1275$A are excluded\n",
    "    * They have a series of other rules, mainly for SDSS\n",
    "1. Calculate the cross-correlation lag:\n",
    "$cc(l) = \\frac{ \\Sigma_i Q_i T_i/\\sigma_i^2}{\\sqrt{\\Sigma_i (Q_i/\\sigma_i)^2 \\Sigma_i (T_i/\\sigma_i)^2}}$\n",
    "\n",
    "    * $Q$ is the continuum-subtracted quasar spectrum. They use a 601 pixel, median filter\n",
    "    * $T$ is the template, also continuum-subtracted\n",
    "    * $\\sigma_i$ is the noise array\n",
    "2. Fit a quadratic to $cc(l)$ over $\\pm 100$ pixels\n",
    "3. Iteratively reduce the fit until it is over only $\\pm 20$ pixels\n",
    "4. Strive for $cc_{max} > 0.2$"
   ]
  },
  {
   "cell_type": "markdown",
   "metadata": {},
   "source": [
    "---\n",
    "## Modifying for QPQ"
   ]
  },
  {
   "cell_type": "markdown",
   "metadata": {},
   "source": [
    "### Key concerns\n",
    "\n",
    "1. Should we convert their SDSS pixel intervals to km/s intervals?\n",
    "    * Yes\n",
    "1. How sensitive will our results be to our fluxing?\n",
    "    * Continuum subtraction should help\n",
    "    * Consider using our own\n",
    "1. How should we handle bright sky lines?\n",
    "    * Mask only the ones that H&W do\n",
    "1. How should we mask in the near-IR?\n",
    "    * N/A.  Not worth it for the small sample with MgII alone\n",
    "1. Should we attempt to stitch optical and near-IR spectra together?\n",
    "    * N/A\n",
    "1. How shall we rebin the templates to our non-SDSS data?\n",
    "    * Rebin to data wavelength grid\n",
    "1. How shall we rebin our data to a constant velocity grid?\n",
    "    * Avoid"
   ]
  },
  {
   "cell_type": "markdown",
   "metadata": {},
   "source": [
    "## Exploring the template"
   ]
  },
  {
   "cell_type": "code",
   "execution_count": 2,
   "metadata": {
    "collapsed": false
   },
   "outputs": [
    {
     "data": {
      "text/html": [
       "&lt;QTable masked=False length=5&gt;\n",
       "<table id=\"table4746247696\">\n",
       "<thead><tr><th>wave</th><th>flux</th><th>N</th><th>FD</th><th>NFD</th></tr></thead>\n",
       "<thead><tr><th>float64</th><th>float64</th><th>int64</th><th>float64</th><th>int64</th></tr></thead>\n",
       "<tr><td>1275.26</td><td>8.131</td><td>179</td><td>-999.0</td><td>0</td></tr>\n",
       "<tr><td>1275.56</td><td>7.582</td><td>186</td><td>-999.0</td><td>0</td></tr>\n",
       "<tr><td>1275.85</td><td>7.845</td><td>191</td><td>-999.0</td><td>0</td></tr>\n",
       "<tr><td>1276.15</td><td>7.78</td><td>196</td><td>-999.0</td><td>0</td></tr>\n",
       "<tr><td>1276.44</td><td>7.673</td><td>204</td><td>-999.0</td><td>0</td></tr>\n",
       "</table>"
      ],
      "text/plain": [
       "<QTable masked=False length=5>\n",
       "  wave    flux    N      FD    NFD \n",
       "float64 float64 int64 float64 int64\n",
       "------- ------- ----- ------- -----\n",
       "1275.26   8.131   179  -999.0     0\n",
       "1275.56   7.582   186  -999.0     0\n",
       "1275.85   7.845   191  -999.0     0\n",
       "1276.15    7.78   196  -999.0     0\n",
       "1276.44   7.673   204  -999.0     0"
      ]
     },
     "execution_count": 2,
     "metadata": {},
     "output_type": "execute_result"
    }
   ],
   "source": [
    "#Read\n",
    "hw10 = QTable.read('hw10_template.dat',format='ascii',names=['wave','flux','N','FD','NFD'])\n",
    "hw10[0:5]"
   ]
  },
  {
   "cell_type": "code",
   "execution_count": 3,
   "metadata": {
    "collapsed": false
   },
   "outputs": [],
   "source": [
    "# Plot\n",
    "reload(xsg)\n",
    "chk=False\n",
    "if chk:\n",
    "    xsg.run_xspec((hw10['wave'],hw10['flux']))"
   ]
  },
  {
   "cell_type": "markdown",
   "metadata": {
    "collapsed": true
   },
   "source": [
    "## Test Spectrum (DR7)"
   ]
  },
  {
   "cell_type": "code",
   "execution_count": 162,
   "metadata": {
    "collapsed": false
   },
   "outputs": [
    {
     "data": {
      "text/plain": [
       "{'zinit': 1.845, 'wvmax': <Quantity 0.0 Angstrom>, 'wvmin': <Quantity 0.0 Angstrom>, 'zguess': 1.845}"
      ]
     },
     "execution_count": 162,
     "metadata": {},
     "output_type": "execute_result"
    }
   ],
   "source": [
    "reload(lsio)\n",
    "reload(qpqz)\n",
    "spec = lsio.readspec('/u/xavier/SDSS/DR7_QSO/spectro/1d_26/0650/1d/spSpec-52143-0650-199.fit')\n",
    "#z_dict = qpqz.init_zdict(zguess=1.845)\n",
    "#z_dict = qpqz.init_zdict(zguess=1.8519)#1.8507)\n",
    "HW = qpqz.HewittWildz(spec,1.845)\n",
    "HW"
   ]
  },
  {
   "cell_type": "markdown",
   "metadata": {},
   "source": [
    "## Wavelength Window"
   ]
  },
  {
   "cell_type": "code",
   "execution_count": 163,
   "metadata": {
    "collapsed": false
   },
   "outputs": [
    {
     "data": {
      "text/plain": [
       "{'zinit': 1.845, 'wvmax': <Quantity 3241.2888053576944 Angstrom>, 'wvmin': <Quantity 1364.1 Angstrom>, 'zguess': 1.845}"
      ]
     },
     "execution_count": 163,
     "metadata": {},
     "output_type": "execute_result"
    }
   ],
   "source": [
    "reload(qpqz)\n",
    "HW.set_window()\n",
    "HW"
   ]
  },
  {
   "cell_type": "markdown",
   "metadata": {},
   "source": [
    "## Mask"
   ]
  },
  {
   "cell_type": "code",
   "execution_count": 164,
   "metadata": {
    "collapsed": false
   },
   "outputs": [
    {
     "data": {
      "text/plain": [
       "array([False, False, False, ..., False, False, False], dtype=bool)"
      ]
     },
     "execution_count": 164,
     "metadata": {},
     "output_type": "execute_result"
    }
   ],
   "source": [
    "reload(qpqz)\n",
    "HW.set_mask()\n",
    "HW.mask"
   ]
  },
  {
   "cell_type": "markdown",
   "metadata": {},
   "source": [
    "## Apply mask"
   ]
  },
  {
   "cell_type": "code",
   "execution_count": 160,
   "metadata": {
    "collapsed": false
   },
   "outputs": [
    {
     "ename": "AttributeError",
     "evalue": "'HewittWildz' object has no attribute 'mask'",
     "output_type": "error",
     "traceback": [
      "\u001b[0;31m---------------------------------------------------------------------------\u001b[0m",
      "\u001b[0;31mAttributeError\u001b[0m                            Traceback (most recent call last)",
      "\u001b[0;32m<ipython-input-160-aa746b4ec47b>\u001b[0m in \u001b[0;36m<module>\u001b[0;34m()\u001b[0m\n\u001b[1;32m      1\u001b[0m \u001b[0;31m#cut_spec = qpqz.apply_mask(spec, mask)\u001b[0m\u001b[0;34m\u001b[0m\u001b[0;34m\u001b[0m\u001b[0m\n\u001b[0;32m----> 2\u001b[0;31m \u001b[0mHW\u001b[0m\u001b[0;34m.\u001b[0m\u001b[0mapply_mask\u001b[0m\u001b[0;34m(\u001b[0m\u001b[0;34m)\u001b[0m\u001b[0;34m\u001b[0m\u001b[0m\n\u001b[0m",
      "\u001b[0;32m/Users/xavier/paper/QSOClustering/tex/QPQ9/Analysis/Redshifts/py/qpq_z.pyc\u001b[0m in \u001b[0;36mapply_mask\u001b[0;34m(self)\u001b[0m\n\u001b[1;32m    418\u001b[0m         '''\n\u001b[1;32m    419\u001b[0m         \u001b[0;31m# Find first and last pixels\u001b[0m\u001b[0;34m\u001b[0m\u001b[0;34m\u001b[0m\u001b[0m\n\u001b[0;32m--> 420\u001b[0;31m         \u001b[0mgdp\u001b[0m \u001b[0;34m=\u001b[0m \u001b[0mnp\u001b[0m\u001b[0;34m.\u001b[0m\u001b[0mwhere\u001b[0m\u001b[0;34m(\u001b[0m\u001b[0mself\u001b[0m\u001b[0;34m.\u001b[0m\u001b[0mmask\u001b[0m\u001b[0;34m)\u001b[0m\u001b[0;34m[\u001b[0m\u001b[0;36m0\u001b[0m\u001b[0;34m]\u001b[0m\u001b[0;34m\u001b[0m\u001b[0m\n\u001b[0m\u001b[1;32m    421\u001b[0m         \u001b[0mistart\u001b[0m \u001b[0;34m=\u001b[0m \u001b[0mgdp\u001b[0m\u001b[0;34m[\u001b[0m\u001b[0;36m0\u001b[0m\u001b[0;34m]\u001b[0m\u001b[0;34m\u001b[0m\u001b[0m\n\u001b[1;32m    422\u001b[0m         \u001b[0miend\u001b[0m \u001b[0;34m=\u001b[0m \u001b[0mgdp\u001b[0m\u001b[0;34m[\u001b[0m\u001b[0;34m-\u001b[0m\u001b[0;36m1\u001b[0m\u001b[0;34m]\u001b[0m\u001b[0;34m\u001b[0m\u001b[0m\n",
      "\u001b[0;31mAttributeError\u001b[0m: 'HewittWildz' object has no attribute 'mask'"
     ]
    }
   ],
   "source": [
    "#cut_spec = qpqz.apply_mask(spec, mask)\n",
    "HW.apply_mask()"
   ]
  },
  {
   "cell_type": "code",
   "execution_count": 161,
   "metadata": {
    "collapsed": false
   },
   "outputs": [],
   "source": [
    "chk=False\n",
    "if chk:\n",
    "    HW.cut_spec.plot()"
   ]
  },
  {
   "cell_type": "markdown",
   "metadata": {},
   "source": [
    "## Rebin template"
   ]
  },
  {
   "cell_type": "code",
   "execution_count": 149,
   "metadata": {
    "collapsed": false
   },
   "outputs": [],
   "source": [
    "#new_templ = qpqz.rebin_template(cut_spec.dispersion/(1+z_dict['zguess']))\n",
    "HW.rebin_template()"
   ]
  },
  {
   "cell_type": "code",
   "execution_count": 150,
   "metadata": {
    "collapsed": true
   },
   "outputs": [],
   "source": [
    "#Check\n",
    "chk=False\n",
    "if chk:\n",
    "    xdb.xplot(hw10['wave'],hw10['flux'], xtwo=HW.new_templ.dispersion, ytwo=HW.new_templ.flux)\n",
    "# Looks good"
   ]
  },
  {
   "cell_type": "markdown",
   "metadata": {},
   "source": [
    "## Continuum subtract"
   ]
  },
  {
   "cell_type": "code",
   "execution_count": 151,
   "metadata": {
    "collapsed": false
   },
   "outputs": [],
   "source": [
    "HW.sub_spec = HW.continuum_subtract(HW.cut_spec)\n",
    "HW.sub_templ = HW.continuum_subtract(HW.new_templ)\n",
    "#\n",
    "chk=False\n",
    "if chk:\n",
    "    xdb.xplot(HW.sub_spec.dispersion, HW.sub_spec.flux, HW.sub_templ.flux)"
   ]
  },
  {
   "cell_type": "markdown",
   "metadata": {},
   "source": [
    "## Cross-correlate"
   ]
  },
  {
   "cell_type": "code",
   "execution_count": 153,
   "metadata": {
    "collapsed": false
   },
   "outputs": [],
   "source": [
    "HW.cross_correlate()\n",
    "#HW.cc"
   ]
  },
  {
   "cell_type": "markdown",
   "metadata": {},
   "source": [
    "## Fit"
   ]
  },
  {
   "cell_type": "code",
   "execution_count": 80,
   "metadata": {
    "collapsed": false
   },
   "outputs": [],
   "source": [
    "reload(qpqz)\n",
    "HW.fit_cc(cc)"
   ]
  },
  {
   "cell_type": "markdown",
   "metadata": {},
   "source": [
    "## Loop"
   ]
  },
  {
   "cell_type": "code",
   "execution_count": 81,
   "metadata": {
    "collapsed": false
   },
   "outputs": [
    {
     "name": "stdout",
     "output_type": "stream",
     "text": [
      "olag=6.66591\n",
      "olag=7.58112\n",
      "olag=7.48768\n",
      "olag=5.20349\n",
      "olag=0.849906\n"
     ]
    }
   ],
   "source": [
    "reload(qpqz)\n",
    "nlags = [100,80,60,40,20]\n",
    "olag = 0.\n",
    "for nlag in nlags:\n",
    "    iolag = int(np.round(olag))\n",
    "    # Cross-correlate\n",
    "    cc = qpqz.cross_correlate(sub_spec, z_dict, sub_templ,olag=iolag,nlag=nlag)\n",
    "    # Centre\n",
    "    centre = qpqz.fit_cc(cc)#,debug=True)\n",
    "    # Rest olag\n",
    "    olag += centre\n",
    "    print('olag={:g}'.format(olag))"
   ]
  },
  {
   "cell_type": "markdown",
   "metadata": {},
   "source": [
    "## Final answer"
   ]
  },
  {
   "cell_type": "code",
   "execution_count": 82,
   "metadata": {
    "collapsed": false
   },
   "outputs": [
    {
     "data": {
      "text/latex": [
       "$1.852458 \\; \\mathrm{}$"
      ],
      "text/plain": [
       "<Quantity 1.852458047339095>"
      ]
     },
     "execution_count": 82,
     "metadata": {},
     "output_type": "execute_result"
    }
   ],
   "source": [
    "dv_SDSS = 69.021818 * u.km/u.s\n",
    "newz = z_dict['zguess'] + (1+z_dict['zguess'])*(dv_SDSS*olag)/const.c.to('km/s')\n",
    "newz"
   ]
  },
  {
   "cell_type": "markdown",
   "metadata": {},
   "source": [
    "---\n",
    "## Simple Class Test"
   ]
  },
  {
   "cell_type": "code",
   "execution_count": 179,
   "metadata": {
    "collapsed": false
   },
   "outputs": [
    {
     "data": {
      "text/plain": [
       "{'zinit': 1.845, 'wvmax': <Quantity 0.0 Angstrom>, 'wvmin': <Quantity 0.0 Angstrom>, 'zguess': 1.845}"
      ]
     },
     "execution_count": 179,
     "metadata": {},
     "output_type": "execute_result"
    }
   ],
   "source": [
    "reload(qpqz)\n",
    "spec = lsio.readspec('/u/xavier/SDSS/DR7_QSO/spectro/1d_26/0650/1d/spSpec-52143-0650-199.fit')\n",
    "HW = qpqz.HewittWildz(spec,1.845)\n",
    "HW"
   ]
  },
  {
   "cell_type": "code",
   "execution_count": 180,
   "metadata": {
    "collapsed": false
   },
   "outputs": [
    {
     "data": {
      "text/plain": [
       "{'wvmax': <Quantity 3234.8053563977755 Angstrom>, 'zguess': 1.8507021706899576, 'wvmin': <Quantity 1364.1 Angstrom>, 'zinit': 1.845, u'zfin': 1.851909860303605, u'cc_max': 0.35159941560007851}"
      ]
     },
     "execution_count": 180,
     "metadata": {},
     "output_type": "execute_result"
    }
   ],
   "source": [
    "HW.run()\n",
    "HW"
   ]
  },
  {
   "cell_type": "markdown",
   "metadata": {},
   "source": [
    "---\n",
    "## DR7 Test"
   ]
  },
  {
   "cell_type": "markdown",
   "metadata": {},
   "source": [
    "### HW10 Table 4\n",
    "Taken from Vizier.  Appears updated"
   ]
  },
  {
   "cell_type": "code",
   "execution_count": 11,
   "metadata": {
    "collapsed": false
   },
   "outputs": [
    {
     "data": {
      "text/html": [
       "&lt;QTable masked=False length=3&gt;\n",
       "<table id=\"table4446203216\">\n",
       "<thead><tr><th>SDSS</th><th>z</th><th>e_z</th><th>Det</th><th>z1</th><th>n_z</th><th>Plate</th><th>MJD</th><th>Fiber</th><th>Sloan</th><th>DR7</th><th>RAJ2000</th><th>DEJ2000</th></tr></thead>\n",
       "<thead><tr><th></th><th></th><th></th><th></th><th></th><th></th><th></th><th>d</th><th></th><th></th><th></th><th>deg</th><th>deg</th></tr></thead>\n",
       "<thead><tr><th>string152</th><th>float32</th><th>float32</th><th>int16</th><th>float32</th><th>uint8</th><th>int16</th><th>float64</th><th>int16</th><th>string40</th><th>string24</th><th>float64</th><th>float64</th></tr></thead>\n",
       "<tr><td>J000006.53+003055.2</td><td>1.8232</td><td>0.001</td><td>-1</td><td>nan</td><td>3</td><td>685</td><td>52203.0</td><td>467</td><td>Sloan</td><td>DR7</td><td>0.02723</td><td>0.51534</td></tr>\n",
       "<tr><td>J000008.13+001634.6</td><td>1.8363</td><td>0.0006</td><td>-1</td><td>nan</td><td>3</td><td>685</td><td>52203.0</td><td>470</td><td>Sloan</td><td>DR7</td><td>0.0339</td><td>0.2763</td></tr>\n",
       "<tr><td>J000009.26+151754.5</td><td>1.1974</td><td>0.0004</td><td>0</td><td>1.2</td><td>2</td><td>751</td><td>52251.0</td><td>354</td><td>Sloan</td><td>DR7</td><td>0.0386</td><td>15.29848</td></tr>\n",
       "</table>"
      ],
      "text/plain": [
       "<QTable masked=False length=3>\n",
       "        SDSS           z      e_z    Det  ...  Sloan     DR7    RAJ2000 DEJ2000 \n",
       "                                          ...                     deg     deg   \n",
       "     string152      float32 float32 int16 ... string40 string24 float64 float64 \n",
       "------------------- ------- ------- ----- ... -------- -------- ------- --------\n",
       "J000006.53+003055.2  1.8232   0.001    -1 ...    Sloan      DR7 0.02723  0.51534\n",
       "J000008.13+001634.6  1.8363  0.0006    -1 ...    Sloan      DR7  0.0339   0.2763\n",
       "J000009.26+151754.5  1.1974  0.0004     0 ...    Sloan      DR7  0.0386 15.29848"
      ]
     },
     "execution_count": 11,
     "metadata": {},
     "output_type": "execute_result"
    }
   ],
   "source": [
    "#HW10 Table 4\n",
    "fil = os.getenv('QPQ9')+'Analysis/Redshifts/hw10_tab4.fits.gz'\n",
    "hw10_tab4 = QTable.read(fil)\n",
    "hw10_tab4[0:3]"
   ]
  },
  {
   "cell_type": "code",
   "execution_count": 8,
   "metadata": {
    "collapsed": false
   },
   "outputs": [
    {
     "name": "stdout",
     "output_type": "stream",
     "text": [
      "We have 30370 DR7 quasars to try.\n"
     ]
    }
   ],
   "source": [
    "# Parse\n",
    "zmnx = [1.5,2.2]\n",
    "gdq = np.where( (hw10_tab4['z']>zmnx[0]) & (hw10_tab4['z']<zmnx[1]))[0]\n",
    "print('We have {:d} DR7 quasars to try.'.format(len(gdq)))"
   ]
  },
  {
   "cell_type": "markdown",
   "metadata": {},
   "source": [
    "### Load up those in my SDSS DR7 dataset"
   ]
  },
  {
   "cell_type": "code",
   "execution_count": 17,
   "metadata": {
    "collapsed": false
   },
   "outputs": [],
   "source": [
    "reload(sdssq)\n",
    "sdss_dr7 = sdssq.SdssQuasars(verbose=False)"
   ]
  },
  {
   "cell_type": "code",
   "execution_count": 23,
   "metadata": {
    "collapsed": true
   },
   "outputs": [],
   "source": [
    "def load_qso(ii):\n",
    "    pf = (hw10_tab4['Plate'][ii],hw10_tab4['Fiber'][ii])\n",
    "    return sdss_dr7[pf[0],pf[1]]"
   ]
  },
  {
   "cell_type": "code",
   "execution_count": 24,
   "metadata": {
    "collapsed": false,
    "scrolled": false
   },
   "outputs": [],
   "source": [
    "#tst_qsos = [sdss_dr7[hw10_tab4['Plate'][igd],hw10_tab4['Fiber'][igd]] for igd in gdq[0:100]]\n",
    "tst_qsos = map(load_qso,gdq[0:10])"
   ]
  },
  {
   "cell_type": "code",
   "execution_count": 36,
   "metadata": {
    "collapsed": false
   },
   "outputs": [],
   "source": [
    "# Multi-processing\n",
    "pool = multiprocessing.Pool(4) # initialize thread pool N threads\n",
    "tst_qsos = pool.map(load_qso,gdq[0:20])"
   ]
  },
  {
   "cell_type": "code",
   "execution_count": 35,
   "metadata": {
    "collapsed": false
   },
   "outputs": [
    {
     "data": {
      "text/plain": [
       "30370"
      ]
     },
     "execution_count": 35,
     "metadata": {},
     "output_type": "execute_result"
    }
   ],
   "source": [
    "len(tst_qsos)"
   ]
  },
  {
   "cell_type": "code",
   "execution_count": 10,
   "metadata": {
    "collapsed": false
   },
   "outputs": [
    {
     "name": "stdout",
     "output_type": "stream",
     "text": [
      "8\n"
     ]
    }
   ],
   "source": [
    "print(multiprocessing.cpu_count())"
   ]
  },
  {
   "cell_type": "markdown",
   "metadata": {},
   "source": [
    "### Sandbox"
   ]
  },
  {
   "cell_type": "code",
   "execution_count": 6,
   "metadata": {
    "collapsed": false
   },
   "outputs": [],
   "source": [
    "reload(qpqz)\n",
    "new_templ = qpqz.rebin_template(spec.dispersion/(1+z_dict['zguess']))"
   ]
  },
  {
   "cell_type": "code",
   "execution_count": 30,
   "metadata": {
    "collapsed": false
   },
   "outputs": [
    {
     "data": {
      "text/latex": [
       "$[-427854.47,~69.021818,~69.021818,~\\dots, 69.021818,~69.021818,~69.021818] \\; \\mathrm{\\frac{km}{s}}$"
      ],
      "text/plain": [
       "<Quantity [ -4.27854475e+05,  6.90218177e+01,  6.90218177e+01,...,\n",
       "             6.90218177e+01,  6.90218177e+01,  6.90218177e+01] km / s>"
      ]
     },
     "execution_count": 30,
     "metadata": {},
     "output_type": "execute_result"
    }
   ],
   "source": [
    "dwv = spec.dispersion - np.roll(spec.dispersion,1)\n",
    "dv = const.c.to('km/s')*dwv/spec.dispersion\n",
    "dv"
   ]
  },
  {
   "cell_type": "code",
   "execution_count": 5,
   "metadata": {
    "collapsed": true
   },
   "outputs": [],
   "source": [
    "spec.plot()"
   ]
  },
  {
   "cell_type": "code",
   "execution_count": 26,
   "metadata": {
    "collapsed": false
   },
   "outputs": [],
   "source": [
    "nlag = 100\n",
    "lags = -1*nlag + np.arange(2*nlag+1)"
   ]
  },
  {
   "cell_type": "code",
   "execution_count": 27,
   "metadata": {
    "collapsed": false
   },
   "outputs": [
    {
     "data": {
      "text/plain": [
       "array([-100,  -99,  -98,  -97,  -96,  -95,  -94,  -93,  -92,  -91,  -90,\n",
       "        -89,  -88,  -87,  -86,  -85,  -84,  -83,  -82,  -81,  -80,  -79,\n",
       "        -78,  -77,  -76,  -75,  -74,  -73,  -72,  -71,  -70,  -69,  -68,\n",
       "        -67,  -66,  -65,  -64,  -63,  -62,  -61,  -60,  -59,  -58,  -57,\n",
       "        -56,  -55,  -54,  -53,  -52,  -51,  -50,  -49,  -48,  -47,  -46,\n",
       "        -45,  -44,  -43,  -42,  -41,  -40,  -39,  -38,  -37,  -36,  -35,\n",
       "        -34,  -33,  -32,  -31,  -30,  -29,  -28,  -27,  -26,  -25,  -24,\n",
       "        -23,  -22,  -21,  -20,  -19,  -18,  -17,  -16,  -15,  -14,  -13,\n",
       "        -12,  -11,  -10,   -9,   -8,   -7,   -6,   -5,   -4,   -3,   -2,\n",
       "         -1,    0,    1,    2,    3,    4,    5,    6,    7,    8,    9,\n",
       "         10,   11,   12,   13,   14,   15,   16,   17,   18,   19,   20,\n",
       "         21,   22,   23,   24,   25,   26,   27,   28,   29,   30,   31,\n",
       "         32,   33,   34,   35,   36,   37,   38,   39,   40,   41,   42,\n",
       "         43,   44,   45,   46,   47,   48,   49,   50,   51,   52,   53,\n",
       "         54,   55,   56,   57,   58,   59,   60,   61,   62,   63,   64,\n",
       "         65,   66,   67,   68,   69,   70,   71,   72,   73,   74,   75,\n",
       "         76,   77,   78,   79,   80,   81,   82,   83,   84,   85,   86,\n",
       "         87,   88,   89,   90,   91,   92,   93,   94,   95,   96,   97,\n",
       "         98,   99,  100])"
      ]
     },
     "execution_count": 27,
     "metadata": {},
     "output_type": "execute_result"
    }
   ],
   "source": [
    "lags"
   ]
  },
  {
   "cell_type": "code",
   "execution_count": null,
   "metadata": {
    "collapsed": true
   },
   "outputs": [],
   "source": []
  }
 ],
 "metadata": {
  "kernelspec": {
   "display_name": "Python 2",
   "language": "python",
   "name": "python2"
  },
  "language_info": {
   "codemirror_mode": {
    "name": "ipython",
    "version": 2
   },
   "file_extension": ".py",
   "mimetype": "text/x-python",
   "name": "python",
   "nbconvert_exporter": "python",
   "pygments_lexer": "ipython2",
   "version": "2.7.10"
  }
 },
 "nbformat": 4,
 "nbformat_minor": 0
}
