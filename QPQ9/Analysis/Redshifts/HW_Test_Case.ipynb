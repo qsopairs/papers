{
 "cells": [
  {
   "cell_type": "markdown",
   "metadata": {},
   "source": [
    "# HW Test Case\n",
    "Examine a handful of HW measurements in detail.\n",
    "\n",
    "HW10 report a 75km/s dispersion between MgII_cc and [OIII].\n",
    "But they surely can't know this at z>1, right?"
   ]
  },
  {
   "cell_type": "code",
   "execution_count": 51,
   "metadata": {
    "collapsed": false
   },
   "outputs": [],
   "source": [
    "# imports\n",
    "from linetools.spectra import io as lsio\n",
    "import qpq_z as qpqz\n",
    "from xastropy.sdss import qso as sdssqso\n",
    "import hewittwildz as hw10z\n",
    "from astropy.coordinates import SkyCoord\n",
    "from xastropy.sdss import quasars as sdssq"
   ]
  },
  {
   "cell_type": "markdown",
   "metadata": {},
   "source": [
    "## Setup"
   ]
  },
  {
   "cell_type": "code",
   "execution_count": 2,
   "metadata": {
    "collapsed": true
   },
   "outputs": [],
   "source": [
    "# Load good MgII list from JFH\n",
    "reload(qpqz)\n",
    "gqsos, z_O2, z_line = qpqz.parse_o2_zstruct('MgII')"
   ]
  },
  {
   "cell_type": "code",
   "execution_count": 8,
   "metadata": {
    "collapsed": false
   },
   "outputs": [
    {
     "data": {
      "text/html": [
       "&lt;Table masked=False length=3&gt;\n",
       "<table id=\"table4470151632\">\n",
       "<thead><tr><th>SDSS</th><th>z</th><th>e_z</th><th>Det</th><th>z1</th><th>n_z</th><th>Plate</th><th>MJD</th><th>Fiber</th><th>Sloan</th><th>DR7</th><th>RAJ2000</th><th>DEJ2000</th></tr></thead>\n",
       "<thead><tr><th></th><th></th><th></th><th></th><th></th><th></th><th></th><th>d</th><th></th><th></th><th></th><th>deg</th><th>deg</th></tr></thead>\n",
       "<thead><tr><th>string152</th><th>float32</th><th>float32</th><th>int16</th><th>float32</th><th>uint8</th><th>int16</th><th>int32</th><th>int16</th><th>string40</th><th>string24</th><th>float64</th><th>float64</th></tr></thead>\n",
       "<tr><td>J000006.53+003055.2</td><td>1.8232</td><td>0.001</td><td>-1</td><td>nan</td><td>3</td><td>685</td><td>52203</td><td>467</td><td>Sloan</td><td>DR7</td><td>0.02723</td><td>0.51534</td></tr>\n",
       "<tr><td>J000008.13+001634.6</td><td>1.8363</td><td>0.0006</td><td>-1</td><td>nan</td><td>3</td><td>685</td><td>52203</td><td>470</td><td>Sloan</td><td>DR7</td><td>0.0339</td><td>0.2763</td></tr>\n",
       "<tr><td>J000009.26+151754.5</td><td>1.1974</td><td>0.0004</td><td>0</td><td>1.2</td><td>2</td><td>751</td><td>52251</td><td>354</td><td>Sloan</td><td>DR7</td><td>0.0386</td><td>15.29848</td></tr>\n",
       "</table>"
      ],
      "text/plain": [
       "<Table masked=False length=3>\n",
       "        SDSS           z      e_z    Det  ...  Sloan     DR7    RAJ2000 DEJ2000 \n",
       "                                          ...                     deg     deg   \n",
       "     string152      float32 float32 int16 ... string40 string24 float64 float64 \n",
       "------------------- ------- ------- ----- ... -------- -------- ------- --------\n",
       "J000006.53+003055.2  1.8232   0.001    -1 ...    Sloan      DR7 0.02723  0.51534\n",
       "J000008.13+001634.6  1.8363  0.0006    -1 ...    Sloan      DR7  0.0339   0.2763\n",
       "J000009.26+151754.5  1.1974  0.0004     0 ...    Sloan      DR7  0.0386 15.29848"
      ]
     },
     "execution_count": 8,
     "metadata": {},
     "output_type": "execute_result"
    }
   ],
   "source": [
    "# Load HW Table from Vizier\n",
    "#  Could grab the Table from MNRAS (I think)\n",
    "hw10_tab = Table.read('hw10_tab4.fits.gz')\n",
    "hw10_tab[0:3]"
   ]
  },
  {
   "cell_type": "code",
   "execution_count": 164,
   "metadata": {
    "collapsed": true
   },
   "outputs": [],
   "source": [
    "# Good redshifts for zMgII analysis\n",
    "zMgII = np.where(np.abs(hw10_tab['z']-1.4) < 0.3)[0]"
   ]
  },
  {
   "cell_type": "code",
   "execution_count": 52,
   "metadata": {
    "collapsed": false
   },
   "outputs": [],
   "source": [
    "# Load DR7\n",
    "sdss_dr7 = sdssq.SdssQuasars(verbose=False)"
   ]
  },
  {
   "cell_type": "markdown",
   "metadata": {},
   "source": [
    "## Try First One"
   ]
  },
  {
   "cell_type": "code",
   "execution_count": 92,
   "metadata": {
    "collapsed": false
   },
   "outputs": [
    {
     "name": "stdout",
     "output_type": "stream",
     "text": [
      "/u/xavier/Dropbox//O2_zsys/sdss_boss_o2/spectra/SDSSJ003153.84+005916.2.fits\n",
      "1.36684204789\n",
      "(3587, 552)\n"
     ]
    }
   ],
   "source": [
    "idx1=1\n",
    "spec_file = os.getenv('DROPBOX_DIR')+'/O2_zsys/sdss_boss_o2/spectra/'+gqsos[idx1]['SPEC_FILE']\n",
    "print(spec_file)\n",
    "print(z_O2[idx1])\n",
    "print(gqsos['PLATE'][idx1], gqsos['FIBERID'][idx1])"
   ]
  },
  {
   "cell_type": "code",
   "execution_count": 66,
   "metadata": {
    "collapsed": false
   },
   "outputs": [
    {
     "data": {
      "text/html": [
       "&lt;Table masked=False length=1&gt;\n",
       "<table id=\"table4524602064\">\n",
       "<thead><tr><th>SDSS</th><th>z</th><th>e_z</th><th>Det</th><th>z1</th><th>n_z</th><th>Plate</th><th>MJD</th><th>Fiber</th><th>Sloan</th><th>DR7</th><th>RAJ2000</th><th>DEJ2000</th></tr></thead>\n",
       "<thead><tr><th></th><th></th><th></th><th></th><th></th><th></th><th></th><th>d</th><th></th><th></th><th></th><th>deg</th><th>deg</th></tr></thead>\n",
       "<thead><tr><th>string152</th><th>float32</th><th>float32</th><th>int16</th><th>float32</th><th>uint8</th><th>int16</th><th>int32</th><th>int16</th><th>string40</th><th>string24</th><th>float64</th><th>float64</th></tr></thead>\n",
       "<tr><td>J003153.84+005916.1</td><td>1.3659</td><td>0.0005</td><td>-1</td><td>nan</td><td>3</td><td>391</td><td>51782</td><td>603</td><td>Sloan</td><td>DR7</td><td>7.97433</td><td>0.98783</td></tr>\n",
       "</table>"
      ],
      "text/plain": [
       "<Table masked=False length=1>\n",
       "        SDSS           z      e_z    Det  ...  Sloan     DR7    RAJ2000 DEJ2000\n",
       "                                          ...                     deg     deg  \n",
       "     string152      float32 float32 int16 ... string40 string24 float64 float64\n",
       "------------------- ------- ------- ----- ... -------- -------- ------- -------\n",
       "J003153.84+005916.1  1.3659  0.0005    -1 ...    Sloan      DR7 7.97433 0.98783"
      ]
     },
     "execution_count": 66,
     "metadata": {},
     "output_type": "execute_result"
    }
   ],
   "source": [
    "# HW\n",
    "idx_HW1 = np.where( (np.abs(hw10_tab['RAJ2000']-gqsos['PLUG_RA'][idx1]) < 1e-4) &\n",
    "                  (np.abs(hw10_tab['DEJ2000']-gqsos['PLUG_DEC'][idx1]) < 1e-4))[0]\n",
    "hw10_tab[idx_HW1]"
   ]
  },
  {
   "cell_type": "code",
   "execution_count": 70,
   "metadata": {
    "collapsed": false
   },
   "outputs": [
    {
     "name": "stdout",
     "output_type": "stream",
     "text": [
      "SdssQso: Loading spectrum from /u/xavier/SDSS//DR7_QSO/spectro/1d_26/0391/1d/spSpec-51782-0391-603.fit\n"
     ]
    }
   ],
   "source": [
    "# SDSSQSO Class\n",
    "qso1 = sdss_dr7[hw10_tab['Plate'][idx_HW1], hw10_tab['Fiber'][idx_HW1]]\n",
    "qso1.load_spec()"
   ]
  },
  {
   "cell_type": "code",
   "execution_count": 162,
   "metadata": {
    "collapsed": false
   },
   "outputs": [
    {
     "name": "stdout",
     "output_type": "stream",
     "text": [
      "z_init = 1.36326\n",
      "nlag=100, olag = 3.84965\n",
      "nlag=80, olag = 5.22534\n",
      "nlag=60, olag = 5.97515\n",
      "nlag=40, olag = 5.57626\n",
      "nlag=20, olag = 4.69399\n",
      "zguess=1.36326, zfin=1.36581\n",
      "nlag=100, olag = 0.498189\n",
      "nlag=80, olag = 1.37875\n",
      "nlag=60, olag = 1.63502\n",
      "nlag=40, olag = 0.692836\n",
      "nlag=20, olag = 0.14168\n",
      "zguess=1.36581, zfin=1.36589\n"
     ]
    },
    {
     "data": {
      "text/plain": [
       "{'wvmax': <Quantity 3299.2817036109304 Angstrom>, 'zguess': 1.3658140213124523, 'wvmin': <Quantity 2200.489996727403 Angstrom>, 'zinit': 1.36326, u'zfin': 1.3658911926764696, u'cc_max': 0.63684254459078538}"
      ]
     },
     "execution_count": 162,
     "metadata": {},
     "output_type": "execute_result"
    }
   ],
   "source": [
    "# Run HW10 algorithm\n",
    "reload(hw10z)\n",
    "qso1.spec.z = qso1.z\n",
    "print('z_init = {:g}'.format(qso1.z))\n",
    "hwz1 = hw10z.HewittWildz(qso1.spec)\n",
    "hwz1.run(debug=True,niter=2,msk_for_mgii=True)\n",
    "hwz1"
   ]
  },
  {
   "cell_type": "code",
   "execution_count": 163,
   "metadata": {
    "collapsed": false
   },
   "outputs": [
    {
     "name": "stdout",
     "output_type": "stream",
     "text": [
      "HW10 vs JXP_HW = -1.12182\n",
      "[OII] vs JXP_HW = -120.57\n"
     ]
    }
   ],
   "source": [
    "# Offsets\n",
    "HWvdiff1 = 3e5*(hwz1.z_dict['zfin']-hw10_tab['z'][idx_HW1[0]])/(hwz1.z_dict['zfin']+1)\n",
    "print('HW10 vs JXP_HW = {:g}'.format(HWvdiff1))\n",
    "o2_vdiff1 = 3e5*(hwz1.z_dict['zfin']-z_O2[idx1])/(hwz1.z_dict['zfin']+1)\n",
    "print('[OII] vs JXP_HW = {:g}'.format(o2_vdiff1))"
   ]
  },
  {
   "cell_type": "markdown",
   "metadata": {},
   "source": [
    "## Try Another"
   ]
  },
  {
   "cell_type": "code",
   "execution_count": 209,
   "metadata": {
    "collapsed": false
   },
   "outputs": [
    {
     "data": {
      "text/html": [
       "&lt;Table masked=False length=1&gt;\n",
       "<table id=\"table4524226960\">\n",
       "<thead><tr><th>SDSS</th><th>z</th><th>e_z</th><th>Det</th><th>z1</th><th>n_z</th><th>Plate</th><th>MJD</th><th>Fiber</th><th>Sloan</th><th>DR7</th><th>RAJ2000</th><th>DEJ2000</th></tr></thead>\n",
       "<thead><tr><th></th><th></th><th></th><th></th><th></th><th></th><th></th><th>d</th><th></th><th></th><th></th><th>deg</th><th>deg</th></tr></thead>\n",
       "<thead><tr><th>string152</th><th>float32</th><th>float32</th><th>int16</th><th>float32</th><th>uint8</th><th>int16</th><th>int32</th><th>int16</th><th>string40</th><th>string24</th><th>float64</th><th>float64</th></tr></thead>\n",
       "<tr><td>J000053.09-003712.8</td><td>1.3247</td><td>0.0005</td><td>-1</td><td>nan</td><td>3</td><td>387</td><td>51791</td><td>169</td><td>Sloan</td><td>DR7</td><td>0.22122</td><td>-0.62024</td></tr>\n",
       "</table>"
      ],
      "text/plain": [
       "<Table masked=False length=1>\n",
       "        SDSS           z      e_z    Det  ...  Sloan     DR7    RAJ2000 DEJ2000 \n",
       "                                          ...                     deg     deg   \n",
       "     string152      float32 float32 int16 ... string40 string24 float64 float64 \n",
       "------------------- ------- ------- ----- ... -------- -------- ------- --------\n",
       "J000053.09-003712.8  1.3247  0.0005    -1 ...    Sloan      DR7 0.22122 -0.62024"
      ]
     },
     "execution_count": 209,
     "metadata": {},
     "output_type": "execute_result"
    }
   ],
   "source": [
    "# HW\n",
    "idx_HW2 = zMgII[10]\n",
    "hw10_tab[idx_HW2+np.arange(1)]"
   ]
  },
  {
   "cell_type": "code",
   "execution_count": 210,
   "metadata": {
    "collapsed": false
   },
   "outputs": [
    {
     "name": "stdout",
     "output_type": "stream",
     "text": [
      "SdssQso: Loading spectrum from /u/xavier/SDSS//DR7_QSO/spectro/1d_26/0387/1d/spSpec-51791-0387-169.fit\n"
     ]
    }
   ],
   "source": [
    "# SDSSQSO Class\n",
    "qso2 = sdss_dr7[hw10_tab['Plate'][idx_HW2], hw10_tab['Fiber'][idx_HW2]]\n",
    "qso2.load_spec()"
   ]
  },
  {
   "cell_type": "code",
   "execution_count": 264,
   "metadata": {
    "collapsed": false
   },
   "outputs": [
    {
     "name": "stdout",
     "output_type": "stream",
     "text": [
      "z_init = 1.3208\n",
      "nlag=100, olag = 5.86136\n",
      "nlag=80, olag = 7.48997\n",
      "nlag=60, olag = 8.98672\n",
      "nlag=40, olag = 9.96489\n",
      "nlag=20, olag = 10.9397\n",
      "zguess=1.3208, zfin=1.32665\n",
      "nlag=100, olag = -1.90623\n",
      "nlag=80, olag = -2.37133\n",
      "nlag=60, olag = -2.29385\n",
      "nlag=40, olag = -1.14942\n",
      "nlag=20, olag = 0.00739869\n",
      "zguess=1.32665, zfin=1.32665\n"
     ]
    },
    {
     "data": {
      "text/plain": [
       "{'wvmax': <Quantity 3299.664782327628 Angstrom>, 'zguess': 1.3266452940333897, 'wvmin': <Quantity 2200.238812991854 Angstrom>, 'zinit': 1.3207999, u'zfin': 1.3266492572775639, u'cc_max': 0.68035952082379603}"
      ]
     },
     "execution_count": 264,
     "metadata": {},
     "output_type": "execute_result"
    }
   ],
   "source": [
    "# Run HW10 algorithm\n",
    "reload(hw10z)\n",
    "qso2.spec.z = qso2.z\n",
    "print('z_init = {:g}'.format(qso2.z))\n",
    "hwz2 = hw10z.HewittWildz(qso2.spec)\n",
    "hwz2.run(debug=True,niter=2,msk_for_mgii=True)\n",
    "hwz2"
   ]
  },
  {
   "cell_type": "code",
   "execution_count": 265,
   "metadata": {
    "collapsed": false
   },
   "outputs": [
    {
     "name": "stdout",
     "output_type": "stream",
     "text": [
      "Wrote: J000053.09-003712.8.pdf\n"
     ]
    }
   ],
   "source": [
    "hwz2.qa_plot(hw10_tab['SDSS'][idx_HW2], ztwo=hw10_tab['z'][idx_HW2], \n",
    "             templ_xymnx=dict(xmin=2700.,xmax=2900.,ymin=-2,ymax=8))"
   ]
  },
  {
   "cell_type": "code",
   "execution_count": 217,
   "metadata": {
    "collapsed": false
   },
   "outputs": [
    {
     "name": "stdout",
     "output_type": "stream",
     "text": [
      "HW10 vs JXP_HW = 251.339\n"
     ]
    }
   ],
   "source": [
    "# Offsets\n",
    "HWvdiff2 = 3e5*(hwz2.z_dict['zfin']-hw10_tab['z'][idx_HW2])/(hwz2.z_dict['zfin']+1)\n",
    "print('HW10 vs JXP_HW = {:g}'.format(HWvdiff2))\n",
    "#o2_vdiff2 = 3e5*(hwz2.z_dict['zfin']-z_O2[idx2])/(hwz2.z_dict['zfin']+1)\n",
    "#print('[OII] vs JXP_HW = {:g}'.format(o2_vdiff2))"
   ]
  },
  {
   "cell_type": "markdown",
   "metadata": {},
   "source": [
    "## Try one more"
   ]
  },
  {
   "cell_type": "code",
   "execution_count": 257,
   "metadata": {
    "collapsed": false
   },
   "outputs": [
    {
     "data": {
      "text/html": [
       "&lt;Table masked=False length=1&gt;\n",
       "<table id=\"table4898771984\">\n",
       "<thead><tr><th>SDSS</th><th>z</th><th>e_z</th><th>Det</th><th>z1</th><th>n_z</th><th>Plate</th><th>MJD</th><th>Fiber</th><th>Sloan</th><th>DR7</th><th>RAJ2000</th><th>DEJ2000</th></tr></thead>\n",
       "<thead><tr><th></th><th></th><th></th><th></th><th></th><th></th><th></th><th>d</th><th></th><th></th><th></th><th>deg</th><th>deg</th></tr></thead>\n",
       "<thead><tr><th>string152</th><th>float32</th><th>float32</th><th>int16</th><th>float32</th><th>uint8</th><th>int16</th><th>int32</th><th>int16</th><th>string40</th><th>string24</th><th>float64</th><th>float64</th></tr></thead>\n",
       "<tr><td>J015248.43+011442.6</td><td>1.1715</td><td>0.0005</td><td>-1</td><td>nan</td><td>3</td><td>402</td><td>51793</td><td>521</td><td>Sloan</td><td>DR7</td><td>28.2018</td><td>1.24519</td></tr>\n",
       "</table>"
      ],
      "text/plain": [
       "<Table masked=False length=1>\n",
       "        SDSS           z      e_z    Det  ...  Sloan     DR7    RAJ2000 DEJ2000\n",
       "                                          ...                     deg     deg  \n",
       "     string152      float32 float32 int16 ... string40 string24 float64 float64\n",
       "------------------- ------- ------- ----- ... -------- -------- ------- -------\n",
       "J015248.43+011442.6  1.1715  0.0005    -1 ...    Sloan      DR7 28.2018 1.24519"
      ]
     },
     "execution_count": 257,
     "metadata": {},
     "output_type": "execute_result"
    }
   ],
   "source": [
    "# HW\n",
    "idx_HW3 = zMgII[1533]\n",
    "hw10_tab[idx_HW3+np.arange(1)]"
   ]
  },
  {
   "cell_type": "code",
   "execution_count": 258,
   "metadata": {
    "collapsed": false
   },
   "outputs": [
    {
     "name": "stdout",
     "output_type": "stream",
     "text": [
      "SdssQso: Loading spectrum from /u/xavier/SDSS//DR7_QSO/spectro/1d_26/0402/1d/spSpec-51793-0402-521.fit\n"
     ]
    }
   ],
   "source": [
    "# SDSSQSO Class\n",
    "qso3 = sdss_dr7[hw10_tab['Plate'][idx_HW3], hw10_tab['Fiber'][idx_HW3]]\n",
    "qso3.load_spec()"
   ]
  },
  {
   "cell_type": "code",
   "execution_count": 266,
   "metadata": {
    "collapsed": false
   },
   "outputs": [
    {
     "name": "stdout",
     "output_type": "stream",
     "text": [
      "z_init = 1.17133\n",
      "nlag=100, olag = 3.68214\n",
      "nlag=80, olag = 3.80046\n",
      "nlag=60, olag = 3.2258\n",
      "nlag=40, olag = 3.15986\n",
      "nlag=20, olag = 3.39952\n",
      "zguess=1.17133, zfin=1.17303\n",
      "nlag=100, olag = 1.13813\n",
      "nlag=80, olag = 0.950661\n",
      "nlag=60, olag = 0.0776723\n",
      "nlag=40, olag = -0.306479\n",
      "nlag=20, olag = -0.401356\n",
      "zguess=1.17303, zfin=1.17283\n"
     ]
    },
    {
     "data": {
      "text/plain": [
       "{'wvmax': <Quantity 3299.3956139660027 Angstrom>, 'zguess': 1.1730294255880258, 'wvmin': <Quantity 2200.059329706267 Angstrom>, 'zinit': 1.17133, u'zfin': 1.172828626790637, u'cc_max': 0.64399763654730102}"
      ]
     },
     "execution_count": 266,
     "metadata": {},
     "output_type": "execute_result"
    }
   ],
   "source": [
    "# Run HW10 algorithm\n",
    "reload(hw10z)\n",
    "qso3.spec.z = qso3.z\n",
    "print('z_init = {:g}'.format(qso3.z))\n",
    "hwz3 = hw10z.HewittWildz(qso3.spec)\n",
    "hwz3.run(debug=True,niter=2,msk_for_mgii=True)\n",
    "hwz3"
   ]
  },
  {
   "cell_type": "code",
   "execution_count": 267,
   "metadata": {
    "collapsed": false
   },
   "outputs": [
    {
     "name": "stdout",
     "output_type": "stream",
     "text": [
      "Wrote: J015248.43+011442.6.pdf\n"
     ]
    }
   ],
   "source": [
    "hwz3.qa_plot(hw10_tab['SDSS'][idx_HW3], ztwo=hw10_tab['z'][idx_HW3],\n",
    "             templ_xymnx=dict(xmin=2700.,xmax=2900.,ymin=-2,ymax=6))"
   ]
  },
  {
   "cell_type": "code",
   "execution_count": 260,
   "metadata": {
    "collapsed": false
   },
   "outputs": [
    {
     "name": "stdout",
     "output_type": "stream",
     "text": [
      "HW10 vs JXP_HW = 183.446\n"
     ]
    }
   ],
   "source": [
    "# Offsets\n",
    "HWvdiff3 = 3e5*(hwz3.z_dict['zfin']-hw10_tab['z'][idx_HW3])/(hwz3.z_dict['zfin']+1)\n",
    "print('HW10 vs JXP_HW = {:g}'.format(HWvdiff3))"
   ]
  },
  {
   "cell_type": "code",
   "execution_count": 186,
   "metadata": {
    "collapsed": false
   },
   "outputs": [],
   "source": [
    "hwz3.chk_spec_templ()"
   ]
  },
  {
   "cell_type": "code",
   "execution_count": null,
   "metadata": {
    "collapsed": true
   },
   "outputs": [],
   "source": []
  }
 ],
 "metadata": {
  "kernelspec": {
   "display_name": "Python 2",
   "language": "python",
   "name": "python2"
  },
  "language_info": {
   "codemirror_mode": {
    "name": "ipython",
    "version": 2
   },
   "file_extension": ".py",
   "mimetype": "text/x-python",
   "name": "python",
   "nbconvert_exporter": "python",
   "pygments_lexer": "ipython2",
   "version": "2.7.10"
  }
 },
 "nbformat": 4,
 "nbformat_minor": 0
}
