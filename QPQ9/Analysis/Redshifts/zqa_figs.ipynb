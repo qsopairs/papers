{
 "cells": [
  {
   "cell_type": "markdown",
   "metadata": {},
   "source": [
    "# Fiddling about for QA"
   ]
  },
  {
   "cell_type": "code",
   "execution_count": 1,
   "metadata": {
    "collapsed": true
   },
   "outputs": [],
   "source": [
    "%matplotlib inline"
   ]
  },
  {
   "cell_type": "code",
   "execution_count": 2,
   "metadata": {
    "collapsed": false
   },
   "outputs": [],
   "source": [
    "# imports\n",
    "\n",
    "from astropy.table import QTable\n",
    "\n",
    "from xastropy.spec import readwrite as xsr\n",
    "\n",
    "import zsys_figs as zsysf\n",
    "\n",
    "#sys.path.append(os.path.abspath(os.getenv('QPQ9')+\"/Analysis/Candidates/py\"))\n",
    "#import z1qso_cand as z1qc"
   ]
  },
  {
   "cell_type": "code",
   "execution_count": 15,
   "metadata": {
    "collapsed": true
   },
   "outputs": [],
   "source": [
    "#zem_fil = 'zem/SDSSJ022517.68+004821.9_zem.fits'\n",
    "zem_fil = 'zem/SDSSJ005717.36-000113.3_zem.fits'"
   ]
  },
  {
   "cell_type": "code",
   "execution_count": 16,
   "metadata": {
    "collapsed": false
   },
   "outputs": [],
   "source": [
    "out_strct = QTable.read(zem_fil)\n",
    "zstrct = QTable.read(zem_fil,2)"
   ]
  },
  {
   "cell_type": "code",
   "execution_count": 17,
   "metadata": {
    "collapsed": false
   },
   "outputs": [
    {
     "data": {
      "text/html": [
       "&lt;QTable masked=False length=1&gt;\n",
       "<table id=\"table4605539408\">\n",
       "<thead><tr><th>LYA_MODE</th><th>SIV_MODE</th><th>CIV_MODE</th><th>CIII_MODE</th><th>MGII_MODE</th><th>OII_MODE</th><th>HB_MODE</th><th>OIII_MODE</th><th>HA_MODE</th><th>SIV_GAUS</th><th>CIV_GAUS</th><th>CIII_GAUS</th><th>MGII_GAUS</th><th>OII_GAUS</th><th>HB_GAUS</th><th>OIII_GAUS</th><th>HA_GAUS</th><th>LYA_SN</th><th>SIV_SN</th><th>CIV_SN</th><th>CIII_SN</th><th>MGII_SN</th><th>OII_SN</th><th>HB_SN</th><th>OIII_SN</th><th>HA_SN</th><th>ZSYS_OIII_FWEIGHT</th><th>ZSYS_OIII_PDF</th><th>ZSYS_OIII_QUAL</th><th>ZSYS_OIII_FPEAK</th><th>ZSYS_OIII_ERR</th><th>ZSYS_OIII_ZERR</th><th>ZSYS_OIII_VDIFF</th><th>ZSYS_OIII_FORMERR</th><th>ZSYS_OIII_PEAK2CONT</th><th>ZSYS_OIII_VDIFF_MAX</th><th>ZSYS_OIII_SN_MIN</th><th>ZSYS_OIII_FORMERR_MAX</th><th>ZSYS_OIII_PEAK2CONT_MIN</th><th>ZSYS_OII_FWEIGHT</th><th>ZSYS_OII_PDF</th><th>ZSYS_OII_QUAL</th><th>ZSYS_OII_FPEAK</th><th>ZSYS_OII_ERR</th><th>ZSYS_OII_ZERR</th><th>ZSYS_OII_VDIFF</th><th>ZSYS_OII_FORMERR</th><th>ZSYS_OII_PEAK2CONT</th><th>ZSYS_OII_VDIFF_MAX</th><th>ZSYS_OII_SN_MIN</th><th>ZSYS_OII_FORMERR_MAX</th><th>ZSYS_OII_PEAK2CONT_MIN</th><th>SPEC_FIL</th><th>ZSYS_ZGUESS</th><th>ZSYS_ZSYS</th><th>ZSYS_ZERR</th><th>ZSYS_ERR</th><th>ZSYS_ZSYS_GAUS</th><th>ZSYS_ZERR_GAUS</th><th>ZSYS_ERR_GAUS</th><th>ZSYS_FLAG</th><th>ZSYS_FLAG_GAUS</th><th>ZSYS_FIT_FLAG</th><th>ZSYS_TOLER_OUT</th><th>ZSYS_VDIFF</th><th>ZSYS_SIGWARN</th><th>ZSYS_TWARN</th></tr></thead>\n",
       "<thead><tr><th>float64</th><th>float64</th><th>float64</th><th>float64</th><th>float64</th><th>float64</th><th>float64</th><th>float64</th><th>float64</th><th>float64</th><th>float64</th><th>float64</th><th>float64</th><th>float64</th><th>float64</th><th>float64</th><th>float64</th><th>float64</th><th>float64</th><th>float64</th><th>float64</th><th>float64</th><th>float64</th><th>float64</th><th>float64</th><th>float64</th><th>float64</th><th>float64</th><th>int32</th><th>float64</th><th>float64</th><th>float64</th><th>float64</th><th>float64</th><th>float64</th><th>float64</th><th>float64</th><th>float64</th><th>float64</th><th>float64</th><th>float64</th><th>int32</th><th>float64</th><th>float64</th><th>float64</th><th>float64</th><th>float64</th><th>float64</th><th>float64</th><th>float64</th><th>float64</th><th>float64</th><th>string512</th><th>float64</th><th>float64</th><th>float64</th><th>float64</th><th>float64</th><th>float64</th><th>float64</th><th>int32</th><th>int32</th><th>int32</th><th>float64</th><th>float64</th><th>int32</th><th>int32</th></tr></thead>\n",
       "<tr><td>-1.0</td><td>-1.0</td><td>-1.0</td><td>-1.0</td><td>-1.0</td><td>-1.0</td><td>15459.5768379</td><td>15898.982015</td><td>-1.0</td><td>-1.0</td><td>-1.0</td><td>-1.0</td><td>-1.0</td><td>-1.0</td><td>15449.0440707</td><td>15911.4959468</td><td>-1.0</td><td>-1.0</td><td>-1.0</td><td>-1.0</td><td>-1.0</td><td>-1.0</td><td>-1.0</td><td>42.1738693873</td><td>34.4960264485</td><td>-1.0</td><td>2.16363688795</td><td>2.17485164215</td><td>3</td><td>15842.8209103</td><td>44.394834</td><td>0.000468487884631</td><td>1060.85187792</td><td>95.8413852222</td><td>-9.49588476751</td><td>100.0</td><td>10.0</td><td>100.0</td><td>0.300000011921</td><td>0.0</td><td>0.0</td><td>0</td><td>0.0</td><td>0.0</td><td>0.0</td><td>0.0</td><td>0.0</td><td>0.0</td><td>0.0</td><td>0.0</td><td>0.0</td><td>0.0</td><td>~/Dropbox/QSOPairs/data/ISAAC_redux/SDSSJ005717.36-000113.3.fits</td><td>2.15499997139</td><td>2.17951707641</td><td>0.00116038974931</td><td>109.411614036</td><td>2.17735083902</td><td>0.00115959916395</td><td>109.411614036</td><td>1</td><td>1</td><td>4</td><td>10.0</td><td>-2311.68539125</td><td>1</td><td>0</td></tr>\n",
       "</table>"
      ],
      "text/plain": [
       "<QTable masked=False length=1>\n",
       "LYA_MODE SIV_MODE CIV_MODE CIII_MODE ...   ZSYS_VDIFF   ZSYS_SIGWARN ZSYS_TWARN\n",
       "float64  float64  float64   float64  ...    float64        int32       int32   \n",
       "-------- -------- -------- --------- ... -------------- ------------ ----------\n",
       "    -1.0     -1.0     -1.0      -1.0 ... -2311.68539125            1          0"
      ]
     },
     "execution_count": 17,
     "metadata": {},
     "output_type": "execute_result"
    }
   ],
   "source": [
    "out_strct"
   ]
  },
  {
   "cell_type": "code",
   "execution_count": 18,
   "metadata": {
    "collapsed": false
   },
   "outputs": [
    {
     "data": {
      "text/html": [
       "&lt;QTable masked=False length=3&gt;\n",
       "<table id=\"table4607172944\">\n",
       "<thead><tr><th>LINENAME</th><th>LINEWAVELAB</th><th>LINEWAVESHIFT</th><th>LINEWAVEFIT</th><th>LINEGAUSSCEN</th><th>LINEZ</th><th>LINEZ_ERR</th><th>LINESIGMA</th><th>LINESIGMA_ERR</th><th>LINEAREA</th><th>LINEAREA_ERR</th><th>LINEEW</th><th>LINEEW_ERR</th><th>LINEEW_EFF</th><th>LINEEW_EFF_ERR</th><th>LINECONTLEVEL</th><th>LINECONTLEVEL_ERR</th><th>LINEALLBUTLEVEL</th><th>LINEALLBUTLEVEL_ERR</th><th>LINENPIXLEFT</th><th>LINENPIXRIGHT</th><th>LINEGPIXLEFT</th><th>LINEGPIXRIGHT</th><th>LINEDOF</th><th>LINEDVPIX</th><th>LINECHI2</th><th>LINEPEAK</th><th>LINEPIX</th><th>LINE_SN</th><th>LINE_SN500</th><th>LINEZ_MODE</th><th>LINEMODE</th><th>Z_SYS</th><th>PEAK_FRAC</th><th>REDCHI2</th><th>INNER_FITMASK [1024]</th><th>YFIT [1024]</th><th>BFIT [1024]</th><th>ALLBUTLINE [1024]</th><th>FITMASK [1024]</th><th>ZFLAG</th><th>MIN_SN</th><th>MAX_X2</th></tr></thead>\n",
       "<thead><tr><th>string80</th><th>float64</th><th>float64</th><th>float64</th><th>float64</th><th>float64</th><th>float64</th><th>float64</th><th>float64</th><th>float64</th><th>float64</th><th>float64</th><th>float64</th><th>float64</th><th>float64</th><th>float64</th><th>float64</th><th>float64</th><th>float64</th><th>int32</th><th>int32</th><th>int32</th><th>int32</th><th>float64</th><th>float64</th><th>float64</th><th>float64</th><th>int32</th><th>float64</th><th>float64</th><th>float64</th><th>float64</th><th>float64</th><th>float64</th><th>float64</th><th>uint8</th><th>float64</th><th>float64</th><th>float64</th><th>uint8</th><th>int32</th><th>float64</th><th>float64</th></tr></thead>\n",
       "<tr><td>H_beta</td><td>4862.68</td><td>4862.68</td><td>4862.68</td><td>15449.0440707</td><td>2.17706369135</td><td>0.00069677521909</td><td>5000.00021537</td><td>-0.0</td><td>198328.896704</td><td>8402.34930049</td><td>0.0</td><td>-1.0</td><td>0.0</td><td>-1.0</td><td>-18.6030174593</td><td>11.7303905487</td><td>-16.5237632078</td><td>11.7303905487</td><td>350</td><td>488</td><td>350</td><td>488</td><td>835.666687012</td><td>15.571396081</td><td>1018.41603942</td><td>307.075484069</td><td>350</td><td>7.44255790747</td><td>42.1738693873</td><td>2.17922973297</td><td>15459.5768379</td><td>0.0</td><td>0.6</td><td>1.21868689424</td><td>1 .. 1</td><td>211.87620682 .. 99.8184196578</td><td>44.3886271479 .. -139.726961108</td><td>44.3887268019 .. 62.4107066286</td><td>1 .. 1</td><td>1</td><td>10.0</td><td>25.0</td></tr>\n",
       "<tr><td>O_III_4959</td><td>4960.3</td><td>4960.3</td><td>4960.3</td><td>15753.802384</td><td>2.17597774006</td><td>0.00687176520167</td><td>2058.9715776</td><td>600.054052654</td><td>19903.5873608</td><td>13476.6220022</td><td>0.0</td><td>-1.0</td><td>0.0</td><td>-1.0</td><td>-63.8871616963</td><td>122.41607666</td><td>165.318646726</td><td>122.41607666</td><td>202</td><td>205</td><td>202</td><td>205</td><td>405.5</td><td>15.2110566096</td><td>451.318174437</td><td>73.3882275238</td><td>729</td><td>6.69155527843</td><td>38.3647507366</td><td>2.17385207813</td><td>15743.2584631</td><td>0.0</td><td>0.6</td><td>1.11299179886</td><td>1 .. 1</td><td>212.575615018 .. 99.1159903855</td><td>52.7694141203 .. -110.933850919</td><td>212.575597091 .. 91.660593013</td><td>1 .. 1</td><td>1</td><td>10.0</td><td>25.0</td></tr>\n",
       "<tr><td>O_III_5007</td><td>5008.24</td><td>5008.24</td><td>5008.24</td><td>15911.4959468</td><td>2.1770633889</td><td>0.000696775152757</td><td>2200.00009476</td><td>-0.0</td><td>68629.2860294</td><td>4241.48604131</td><td>0.0</td><td>-1.0</td><td>0.0</td><td>-1.0</td><td>-122.449249206</td><td>19.0444355011</td><td>-24.6928442601</td><td>19.0444355011</td><td>219</td><td>96</td><td>219</td><td>96</td><td>313.666656494</td><td>15.0092436894</td><td>379.694860711</td><td>234.480403676</td><td>927</td><td>5.97672776327</td><td>34.4960264485</td><td>2.17456472034</td><td>15898.982015</td><td>0.0</td><td>0.6</td><td>1.21050437734</td><td>1 .. 1</td><td>211.87620682 .. 99.8184196578</td><td>44.3886271479 .. -139.726961108</td><td>211.876206684 .. -90.7167440785</td><td>1 .. 1</td><td>1</td><td>10.0</td><td>25.0</td></tr>\n",
       "</table>"
      ],
      "text/plain": [
       "<QTable masked=False length=3>\n",
       " LINENAME  LINEWAVELAB LINEWAVESHIFT LINEWAVEFIT ... ZFLAG  MIN_SN  MAX_X2\n",
       " string80    float64      float64      float64   ... int32 float64 float64\n",
       "---------- ----------- ------------- ----------- ... ----- ------- -------\n",
       "H_beta         4862.68       4862.68     4862.68 ...     1    10.0    25.0\n",
       "O_III_4959      4960.3        4960.3      4960.3 ...     1    10.0    25.0\n",
       "O_III_5007     5008.24       5008.24     5008.24 ...     1    10.0    25.0"
      ]
     },
     "execution_count": 18,
     "metadata": {},
     "output_type": "execute_result"
    }
   ],
   "source": [
    "zstrct"
   ]
  },
  {
   "cell_type": "code",
   "execution_count": 23,
   "metadata": {
    "collapsed": false
   },
   "outputs": [
    {
     "name": "stdout",
     "output_type": "stream",
     "text": [
      "Writing zQA/SDSSJ005717.36-000113.3_zQA.pdf\n"
     ]
    }
   ],
   "source": [
    "reload(zsysf)\n",
    "zsysf.zsys_qa(zem_fil)"
   ]
  },
  {
   "cell_type": "code",
   "execution_count": 107,
   "metadata": {
    "collapsed": false
   },
   "outputs": [
    {
     "data": {
      "image/png": "[encoded data removed]",
      "text/plain": [
       "<matplotlib.figure.Figure at 0x158c2a590>"
      ]
     },
     "metadata": {},
     "output_type": "display_data"
    }
   ],
   "source": [
    "plt.figure(figsize=(9, 5),dpi=1200)\n",
    "plt.clf()\n",
    "\n",
    "plt.plot( [0., 1.], [0., 1])\n",
    "tmp2=2.33\n",
    "plt.text(0.5, 0.5, r'$z_{'+'{:g}'.format(tmp2)+'}$')\n",
    "plt.show()"
   ]
  },
  {
   "cell_type": "code",
   "execution_count": null,
   "metadata": {
    "collapsed": true
   },
   "outputs": [],
   "source": []
  }
 ],
 "metadata": {
  "kernelspec": {
   "display_name": "Python 2",
   "language": "python",
   "name": "python2"
  },
  "language_info": {
   "codemirror_mode": {
    "name": "ipython",
    "version": 2
   },
   "file_extension": ".py",
   "mimetype": "text/x-python",
   "name": "python",
   "nbconvert_exporter": "python",
   "pygments_lexer": "ipython2",
   "version": "2.7.9"
  }
 },
 "nbformat": 4,
 "nbformat_minor": 0
}
