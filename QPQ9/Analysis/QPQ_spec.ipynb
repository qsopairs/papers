{
 "cells": [
  {
   "cell_type": "markdown",
   "metadata": {},
   "source": [
    "# QPQ Spec -- Tinkering with spectra in the database\n",
    "### See qpq_spec.py module for more"
   ]
  },
  {
   "cell_type": "code",
   "execution_count": 2,
   "metadata": {
    "collapsed": true
   },
   "outputs": [],
   "source": [
    "%matplotlib inline"
   ]
  },
  {
   "cell_type": "code",
   "execution_count": 3,
   "metadata": {
    "collapsed": false
   },
   "outputs": [],
   "source": [
    "# imports\n",
    "import glob \n",
    "\n",
    "from astropy.coordinates import SkyCoord\n",
    "from astropy.units import Unit\n",
    "\n",
    "from xastropy.obs import radec as xrad\n",
    "from xastropy.xutils import fits as xxf\n",
    "from xastropy.xutils import xdebug as xdb\n",
    "from xastropy.spec import readwrite as xsr\n",
    "\n",
    "import qpq_spec as qpqs"
   ]
  },
  {
   "cell_type": "markdown",
   "metadata": {},
   "source": [
    "## Search QPQ database for spectral files"
   ]
  },
  {
   "cell_type": "code",
   "execution_count": 26,
   "metadata": {
    "collapsed": false
   },
   "outputs": [
    {
     "data": {
      "text/plain": [
       "'J005718.90-000134.7'"
      ]
     },
     "execution_count": 26,
     "metadata": {},
     "output_type": "execute_result"
    }
   ],
   "source": [
    "# Source\n",
    "bg_qso = 'J005718.90-000134.7'\n",
    "bg_ra = 14.328763368360512*u.degree\n",
    "bg_dec = -0.02631087023488874*u.degree\n",
    "#bg_qso = 'J080048.74+354231.3'\n",
    "bg_qso2 = 'J124948.13+060709.0'\n",
    "bg_qso"
   ]
  },
  {
   "cell_type": "code",
   "execution_count": 27,
   "metadata": {
    "collapsed": false
   },
   "outputs": [
    {
     "data": {
      "text/plain": [
       "[[u'/u/xavier/Dropbox//QSOPairs/data/BOSS/v5_7_0/SDSSJ005718.90-000134.7.fits.gz'],\n",
       " [u'/u/xavier/Dropbox//QSOPairs/data/LRIS_redux/SDSSJ124948.13+060709.0_b1200_F.fits.gz']]"
      ]
     },
     "execution_count": 27,
     "metadata": {},
     "output_type": "execute_result"
    }
   ],
   "source": [
    "reload(qpqs)\n",
    "spec_files = qpqs.get_spec_files([bg_qso,bg_qso2])#, verbose=True)\n",
    "#spec_files = qpqs.get_spec_files((bg_ra,bg_dec))\n",
    "spec_files"
   ]
  },
  {
   "cell_type": "code",
   "execution_count": 6,
   "metadata": {
    "collapsed": false
   },
   "outputs": [
    {
     "data": {
      "text/plain": [
       "[u'/u/xavier/Dropbox//QSOPairs/data/LRIS_redux/SDSSJ124948.13+060709.0_b1200_F.fits.gz']"
      ]
     },
     "execution_count": 6,
     "metadata": {},
     "output_type": "execute_result"
    }
   ],
   "source": [
    "reload(qpqs)\n",
    "bg_ra = 192.450391578*u.degree\n",
    "bg_dec = 6.11922910393*u.degree\n",
    "spec_files = qpqs.get_spec_files((bg_ra,bg_dec),toler=1.*u.arcsec)\n",
    "spec_files"
   ]
  },
  {
   "cell_type": "code",
   "execution_count": 103,
   "metadata": {
    "collapsed": true
   },
   "outputs": [],
   "source": [
    "cc = SkyCoord(ra=bg_ra, dec=bg_dec)"
   ]
  },
  {
   "cell_type": "markdown",
   "metadata": {},
   "source": [
    "## Load up "
   ]
  },
  {
   "cell_type": "code",
   "execution_count": 30,
   "metadata": {
    "collapsed": true
   },
   "outputs": [],
   "source": [
    "spec_files = spec_files[0] # May not be necessary"
   ]
  },
  {
   "cell_type": "code",
   "execution_count": 40,
   "metadata": {
    "collapsed": false
   },
   "outputs": [
    {
     "data": {
      "text/plain": [
       "[{u'conti': array([ 5.81565762,  5.7684288 ,  5.72098875, ..., -0.38245511,\n",
       "         -0.37393203, -0.36503467], dtype=float32),\n",
       "  u'file': u'/u/xavier/paper/QSOClustering//data/BOSS/v5_5_0/SDSSJ005718.90-000134.7.fits',\n",
       "  u'instr': 'BOSS',\n",
       "  u'spec': XSpectrum1D([ 0.59240758, -4.74473286,  7.49330425, ..., -3.06645155,\n",
       "               -3.06654739, -3.06664324]),\n",
       "  u'wvmnx': (<Quantity 3566.1532304264047 Angstrom>,\n",
       "   <Quantity 10384.844550082738 Angstrom>)}]"
      ]
     },
     "execution_count": 40,
     "metadata": {},
     "output_type": "execute_result"
    }
   ],
   "source": [
    "reload(qpqs)\n",
    "aspec_dict = [qpqs.load_spec(spec_file) for spec_file in spec_files]\n",
    "aspec_dict"
   ]
  },
  {
   "cell_type": "code",
   "execution_count": 41,
   "metadata": {
    "collapsed": false
   },
   "outputs": [
    {
     "data": {
      "image/png": "[encoded data removed]",
      "text/plain": [
       "<matplotlib.figure.Figure at 0x114be3650>"
      ]
     },
     "metadata": {},
     "output_type": "display_data"
    }
   ],
   "source": [
    "spec_dict = aspec_dict[0]\n",
    "xdb.xplot(spec_dict['spec'].dispersion, spec_dict['spec'].flux, \n",
    "          spec_dict['spec'].sig, spec_dict['conti'])"
   ]
  },
  {
   "cell_type": "markdown",
   "metadata": {},
   "source": [
    "## Continuum"
   ]
  },
  {
   "cell_type": "code",
   "execution_count": 19,
   "metadata": {
    "collapsed": false
   },
   "outputs": [
    {
     "data": {
      "text/plain": [
       "[u'/u/xavier/Dropbox//QSOPairs/data/LRIS_redux/SDSSJ124948.13+060709.0_b1200_F_c.fits.gz']"
      ]
     },
     "execution_count": 19,
     "metadata": {},
     "output_type": "execute_result"
    }
   ],
   "source": [
    "reload(qpqs)\n",
    "cfil = qpqs.find_conti_fil(spec_files[0])\n",
    "glob.glob(cfil+'*')"
   ]
  },
  {
   "cell_type": "code",
   "execution_count": null,
   "metadata": {
    "collapsed": true
   },
   "outputs": [],
   "source": []
  }
 ],
 "metadata": {
  "kernelspec": {
   "display_name": "Python 2",
   "language": "python",
   "name": "python2"
  },
  "language_info": {
   "codemirror_mode": {
    "name": "ipython",
    "version": 2
   },
   "file_extension": ".py",
   "mimetype": "text/x-python",
   "name": "python",
   "nbconvert_exporter": "python",
   "pygments_lexer": "ipython2",
   "version": "2.7.9"
  }
 },
 "nbformat": 4,
 "nbformat_minor": 0
}
