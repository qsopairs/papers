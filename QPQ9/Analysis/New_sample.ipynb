{
 "cells": [
  {
   "cell_type": "markdown",
   "metadata": {},
   "source": [
    "# Cleaner code for generating a new sample, that does not use SDSS-HW redshifts"
   ]
  },
  {
   "cell_type": "code",
   "execution_count": 1,
   "metadata": {},
   "outputs": [],
   "source": [
    "# imports\n",
    "from scipy.io import readsav as scirs\n",
    "import copy, os, glob, imp, pdb\n",
    "import numpy as np\n",
    "\n",
    "from astropy.coordinates import SkyCoord\n",
    "from astropy import units as u\n",
    "from astropy.table import Column, Table, QTable\n",
    "from astropy.io import fits, ascii\n",
    "\n",
    "from specdb.specdb import IgmSpec, SpecDB\n",
    "from specdb import query_catalog as spqcat\n",
    "from specdb import interface_group as spigp\n",
    "from specdb import utils as spdbu\n",
    "\n",
    "from linetools import utils as ltu\n",
    "\n",
    "from astropy.cosmology import FlatLambdaCDM\n",
    "cosmo = FlatLambdaCDM(H0=70, Om0=0.26)\n",
    "\n",
    "import enigma"
   ]
  },
  {
   "cell_type": "markdown",
   "metadata": {},
   "source": [
    "## Load newly measured redshifts "
   ]
  },
  {
   "cell_type": "code",
   "execution_count": 2,
   "metadata": {},
   "outputs": [],
   "source": [
    "zsys_line = ['H$\\\\alpha$','H$\\\\beta$','MgII','[OIII]']\n",
    "zem_list = []\n",
    "zem_coord = []\n",
    "zem_fil = glob.glob(os.getenv('QPQ9')+'Analysis/Redshifts/zem/From_X_Joe/*')\n",
    "for ff in zem_fil:\n",
    "    zem = QTable(fits.open(ff)[1].data)\n",
    "    if zem['ZSYS_FLAG'] not in [0,1,2,11]:\n",
    "        continue\n",
    "    zem_list.append(zem)\n",
    "    ipos = zem['SPEC_FIL'][0].rfind('/SDSSJ')+6\n",
    "    radec = zem['SPEC_FIL'][0][ipos:]\n",
    "    ipos2 = radec.rfind('+')\n",
    "    if ipos2 == -1:\n",
    "        ipos2 = radec.rfind('-')\n",
    "    ipos3 = radec.rfind('_F.fits')\n",
    "    if ipos3 == -1:\n",
    "        ipos3 = radec.rfind('.fits')\n",
    "    RA = radec[0:2]+'h'+radec[2:4]+'m'+radec[4:ipos2]+'s'\n",
    "    dec = radec[ipos2:ipos2+3]+'d'+radec[ipos2+3:ipos2+5]+'m'+radec[ipos2+5:ipos3]+'s'\n",
    "    zem_coord.append(SkyCoord(RA,dec))\n",
    "zem_fil = glob.glob(os.getenv('QPQ9')+'Analysis/Redshifts/zem/*_zem.fits')\n",
    "for ff in zem_fil:\n",
    "    zem = QTable(fits.open(ff)[1].data)\n",
    "    if zem['ZSYS_FLAG'] not in [0,1,2,11]:\n",
    "        continue\n",
    "    zem_list.append(zem)\n",
    "    ipos = zem['SPEC_FIL'][0].rfind('/SDSSJ')+6\n",
    "    radec = zem['SPEC_FIL'][0][ipos:]\n",
    "    RA = radec[0:2]+'h'+radec[2:4]+'m'+radec[4:9]+'s'\n",
    "    dec = radec[9:12]+'d'+radec[12:14]+'m'+radec[14:18]+'s'\n",
    "    zem_coord.append(SkyCoord(RA,dec))\n",
    "zem_coord = SkyCoord(zem_coord)"
   ]
  },
  {
   "cell_type": "markdown",
   "metadata": {},
   "source": [
    "## Make a new sample merging QPQ9_zIR and QPQ7"
   ]
  },
  {
   "cell_type": "code",
   "execution_count": 3,
   "metadata": {},
   "outputs": [
    {
     "data": {
      "text/plain": [
       "31"
      ]
     },
     "execution_count": 3,
     "output_type": "execute_result",
     "metadata": {}
    }
   ],
   "source": [
    "# Fix problems in the QPQ9_zIR structure\n",
    "zIR_fil = 'qpq9_zIR.fits'\n",
    "QPQ_zIR = QTable(fits.open(zIR_fil)[1].data)\n",
    "QPQ9 = copy.deepcopy(QPQ_zIR)\n",
    "QPQ9.rename_column('FG_ZIR', 'Z_FG')\n",
    "QPQ9.rename_column('FG_SIG_ZIR','Z_FSIG')\n",
    "QPQ9.keep_columns(['FG_RA','FG_DEC','NAME','RA','DEC','Z_FG','Z_FSIG','BG_Z','R_PHYS','ZFG_LINE','G_UV'])\n",
    "for ii,qq in enumerate(QPQ9):\n",
    "    try:\n",
    "        assert 'J0225+0048' in qq['NAME'] # redshift is marked to be OII by mistake\n",
    "        QPQ9.remove_row(ii)\n",
    "    except AssertionError:\n",
    "        pass\n",
    "    try:\n",
    "        assert 'J0913-0107' in qq['NAME'] # Hb redshift is not good, use MgII\n",
    "        for zz,zem in enumerate(zem_list):\n",
    "            if SkyCoord(qq['FG_RA']*u.deg,qq['FG_DEC']*u.deg).separation(zem_coord[zz]) < 1*u.arcsec:\n",
    "                qq['Z_FG'] = zem['ZSYS_ZSYS'][0]\n",
    "                qq['Z_FSIG'] = np.rint(zem['ZSYS_ERR'][0])\n",
    "                qq['ZFG_LINE'] = zsys_line[np.min([zem['ZSYS_FLAG'][0],3])]   \n",
    "    except AssertionError:\n",
    "        pass\n",
    "    try:\n",
    "        assert 'J1433+0641' in qq['NAME'] # redshift is Null in the zIR structure \n",
    "        for zz,zem in enumerate(zem_list):\n",
    "            if SkyCoord(qq['FG_RA']*u.deg,qq['FG_DEC']*u.deg).separation(zem_coord[zz]) < 1*u.arcsec:\n",
    "                qq['Z_FG'] = zem['ZSYS_ZSYS'][0]\n",
    "                qq['Z_FSIG'] = np.rint(zem['ZSYS_ERR'][0])\n",
    "                qq['ZFG_LINE'] = zsys_line[np.min([zem['ZSYS_FLAG'][0],3])]\n",
    "    except AssertionError:\n",
    "        pass\n",
    "len(QPQ9)"
   ]
  },
  {
   "cell_type": "code",
   "execution_count": 4,
   "metadata": {},
   "outputs": [
    {
     "name": "stdout",
     "output_type": "stream",
     "text": [
      "(u'12h31m43.0985s +00d28m46.2929s', 'added')\n",
      "(u'14h09m18.0061s +52d25m52.3684s', 'added')\n",
      "(u'14h44m29.3999s +31d13m21.2384s', 'added')\n",
      "(u'16h05m47.6055s +51d13m30.5441s', 'added')\n"
     ]
    }
   ],
   "source": [
    "# Add QPQ7 pairs with newly measured redshifts \n",
    "QPQ7_fil = imp.find_module('enigma')[1] + '/data/qpq/qpq7_pairs.fits.gz'\n",
    "QPQ7 = QTable(fits.open(QPQ7_fil)[1].data)\n",
    "c_QPQzIR = SkyCoord(ra=QPQ_zIR['FG_RA']*u.deg, dec=QPQ_zIR['FG_DEC']*u.deg)\n",
    "c_QPQ7 = SkyCoord(ra=QPQ7['RAD']*u.deg, dec=QPQ7['DECD']*u.deg)\n",
    "c_QPQ7_bg = SkyCoord(ra=QPQ7['RAD_BG']*u.deg,dec=QPQ7['DECD_BG']*u.deg)\n",
    "kpc_amin = cosmo.kpc_proper_per_arcmin(QPQ7['Z_FG'])\n",
    "ang_sep = c_QPQ7.separation(c_QPQ7_bg).to('arcmin')                             \n",
    "for qq,cc in enumerate(c_QPQ7):\n",
    "    # do not copy the entry with wrong spectral file \n",
    "    wrong_c = SkyCoord(ra=8.59753707028004*u.deg,dec=-10.832307685613417*u.deg)\n",
    "    if c_QPQ7_bg[qq].separation(wrong_c).to('arcsec') < 0.5*u.arcsec:\n",
    "        continue\n",
    "    if len(np.where(cc.separation(c_QPQzIR).to('arcsec') < 0.5*u.arcsec)[0]) == 0:\n",
    "        if kpc_amin[qq]*ang_sep[qq] < 300*u.kpc:\n",
    "            for zz,zem in enumerate(zem_list):\n",
    "                if cc.separation(zem_coord[zz]) < 1*u.arcsec:\n",
    "                    print(cc.to_string('hmsdms'),'added')\n",
    "                    QPQ9.add_row({'FG_RA':QPQ7[qq]['RAD'],'FG_DEC':QPQ7[qq]['DECD'],\n",
    "                                  'NAME':QPQ7[qq]['QSO_BG'],'RA':QPQ7[qq]['RAD_BG'],\n",
    "                                  'DEC':QPQ7[qq]['DECD_BG'],'Z_FG':zem['ZSYS_ZSYS'][0],\n",
    "                                  'Z_FSIG':np.rint(zem['ZSYS_ERR'][0]),'BG_Z':QPQ7[qq]['Z_BG'],\n",
    "                                  'R_PHYS':QPQ7[qq]['R_PHYS'],\n",
    "                                  'ZFG_LINE':zsys_line[np.min([zem['ZSYS_FLAG'][0],3])],\n",
    "                                  'G_UV':QPQ7[qq]['G_UV']})\n",
    "                        \n",
    "QPQ9.sort(['FG_RA','FG_DEC'])"
   ]
  },
  {
   "cell_type": "code",
   "execution_count": 5,
   "metadata": {},
   "outputs": [
    {
     "data": {
      "text/plain": [
       "(35, <QTable length=14>\n",
       "      NAME       ZFG_LINE\n",
       "     str14        str36  \n",
       " -------------- ---------\n",
       " SDSSJ1301+4759 H$\\alpha$\n",
       "  APOJ1306+6158 H$\\alpha$\n",
       " BOSSJ1402+4701    [OIII]\n",
       " SDSSJ1409+5225      MgII\n",
       " BOSSJ1420+0227    [OIII]\n",
       "  APOJ1420+1603    [OIII]\n",
       " BOSSJ1427-0121    [OIII]\n",
       " BOSSJ1433+0641    [OIII]\n",
       " APOJ1444+3113       MgII\n",
       "  APOJ1553+1921    [OIII]\n",
       " APOJ1605+5113       MgII\n",
       " BOSSJ1627+2215  H$\\beta$\n",
       "  APOJ1627+4606    [OIII]\n",
       "  APOJ2146-0753    [OIII])"
      ]
     },
     "execution_count": 5,
     "output_type": "execute_result",
     "metadata": {}
    }
   ],
   "source": [
    "len(QPQ9),QPQ9['NAME','ZFG_LINE'][20:34]"
   ]
  },
  {
   "cell_type": "code",
   "execution_count": 6,
   "metadata": {},
   "outputs": [],
   "source": [
    "# Add QPQ7 pairs with MgII redshifts\n",
    "c_QPQ9 = SkyCoord(ra=QPQ9['FG_RA']*u.deg, dec=QPQ9['FG_DEC']*u.deg)\n",
    "for qq,cc in enumerate(c_QPQ7):\n",
    "    # do not copy the entry with wrong spectral file \n",
    "    wrong_c = SkyCoord(ra=8.59753707028004*u.deg,dec=-10.832307685613417*u.deg)\n",
    "    if c_QPQ7_bg[qq].separation(wrong_c).to('arcsec') < 0.5*u.arcsec:\n",
    "        continue\n",
    "    if len(np.where(cc.separation(c_QPQ9).to('arcsec') < 1*u.arcsec)[0]) == 0:\n",
    "        if kpc_amin[qq]*ang_sep[qq] < 300*u.kpc:\n",
    "            if QPQ7['Z_FSIG'][qq] < 300:\n",
    "                QPQ9.add_row({'FG_RA':QPQ7['RAD'][qq],'FG_DEC':QPQ7['DECD'][qq],\n",
    "                              'NAME':QPQ7['QSO_BG'][qq],'RA':QPQ7['RAD_BG'][qq],\n",
    "                              'DEC':QPQ7['DECD_BG'][qq],'Z_FG':QPQ7['Z_FG'][qq],\n",
    "                              'Z_FSIG':272,'BG_Z':QPQ7['Z_BG'][qq],\n",
    "                              'R_PHYS':QPQ7['R_PHYS'][qq],'ZFG_LINE':'MgII',\n",
    "                              'G_UV':QPQ7['G_UV'][qq]})\n",
    "\n",
    "QPQ9.sort(['FG_RA','FG_DEC'])"
   ]
  },
  {
   "cell_type": "code",
   "execution_count": 7,
   "metadata": {},
   "outputs": [
    {
     "data": {
      "text/plain": [
       "(59, <Column name='NAME' dtype='str14' length=20>\n",
       " BOSSJ0057-0001\n",
       " SDSSJ0149-0021\n",
       " BOSSJ0230-0333\n",
       " SDSSJ0341-0000\n",
       " SDSSJ0409-0411\n",
       " SDSSJ0752+4011\n",
       "  APOJ0800+3542\n",
       " SDSSJ0828+4545\n",
       " APOJ0837+3630 \n",
       "  APOJ0837+3837\n",
       " BOSSJ0841+3921\n",
       " BOSSJ0853-0011\n",
       "  APOJ0910+0414\n",
       " BOSSJ0913-0107\n",
       " BOSSJ0914+0109\n",
       " APOJ0924+3929 \n",
       "  APOJ0932+0925\n",
       " BOSSJ0936-0058\n",
       "  APOJ0938+5317\n",
       " BOSSJ1002+0020)"
      ]
     },
     "execution_count": 7,
     "output_type": "execute_result",
     "metadata": {}
    }
   ],
   "source": [
    "len(QPQ9),QPQ9['NAME'][0:20]"
   ]
  },
  {
   "cell_type": "code",
   "execution_count": 8,
   "metadata": {},
   "outputs": [],
   "source": [
    "# write\n",
    "Table(QPQ9).write('qpq9_final.fits',format='fits',overwrite=True)"
   ]
  },
  {
   "cell_type": "markdown",
   "metadata": {},
   "source": [
    "## Add pairs in QPQ database with newly measured redshifts "
   ]
  },
  {
   "cell_type": "code",
   "execution_count": 9,
   "metadata": {},
   "outputs": [
    {
     "name": "stdout",
     "output_type": "stream",
     "text": [
      "Database is QPQ\n",
      "Created on 2017-Jan-31\n",
      "(u'08h14m19.58s +32d50m18.7s', 'added')\n",
      "(u'09h25m43.8s +37d25m04.9s', 'added')\n",
      "(u'02h39m46.43s -01d06m40.4s', 'added')\n",
      "(u'00h34m23.05s -10d50m02s', 'added')\n",
      "(u'02h50m38.68s -00d47m39.2s', 'added')\n",
      "(u'07h50m09.25s +27d24m05.2s', 'added')\n",
      "(u'10h19m47.1s +49d48m35.8s', 'added')\n",
      "(u'12h15m59s +57d16m16.6s', 'added')\n"
     ]
    }
   ],
   "source": [
    "QPQ9 = QTable(fits.open('qpq9_final.fits')[1].data)\n",
    "c_QPQ9 = SkyCoord(QPQ9['FG_RA']*u.deg,QPQ9['FG_DEC']*u.deg)\n",
    "c_QPQ9_bg = SkyCoord(ra=QPQ9['RA']*u.deg,dec=QPQ9['DEC']*u.deg)\n",
    "qpq_fil = '/Users/lwymarie/Documents/Databases/qpq_oir_spec.hdf5'\n",
    "qpqsp = SpecDB(db_file=qpq_fil,verbose=False,idkey='QPQ_ID')\n",
    "ID_fg,ID_bg = qpqsp.qcat.pairs(0.92*u.arcmin, 3000.*u.km/u.s)\n",
    "c_qpqsp = SkyCoord(qpqsp.cat['RA'][ID_fg]*u.deg,qpqsp.cat['DEC'][ID_fg]*u.deg)\n",
    "c_qpqsp_bg = SkyCoord(qpqsp.cat['RA'][ID_bg]*u.deg,qpqsp.cat['DEC'][ID_bg]*u.deg)\n",
    "kpc_amin = cosmo.kpc_proper_per_arcmin(qpqsp.cat['zem'][ID_fg])\n",
    "ang_sep = c_qpqsp.separation(c_qpqsp_bg).to('arcmin')\n",
    "for qq,cc in enumerate(c_qpqsp):\n",
    "    if kpc_amin[qq]*ang_sep[qq] < 300 *u.kpc: \n",
    "        if len(np.where(cc.separation(c_QPQ9) < 0.5*u.arcsec)[0]) == 0: # pair not in QPQ9 already\n",
    "            if len(np.where(cc.separation(zem_coord) < 1*u.arcsec)[0]) > 0:\n",
    "                #J0225 has no good line measured. Skip.\n",
    "                if cc.separation(SkyCoord('02h25m17.68s +00d48m22s')) < 1*u.arcsec:\n",
    "                    continue\n",
    "                #J0239 add [OIII]. Did not pass Lyb cut. Add back. \n",
    "                #J1112 has good Hb, but currently it's MgII from QPQ7. \n",
    "                #The redshift from QPQ7 or Hb here does not pass the > 3000 km/s requirement. Skip. \n",
    "                if cc.separation(SkyCoord('11h12m42.69s +66d11m52.8s')) < 1*u.arcsec:\n",
    "                    continue\n",
    "                #J1215 add [OIII].\n",
    "                #J2338 add [OIII]. \n",
    "                name = 'BOSSJ'\n",
    "                name = name + c_qpqsp_bg[qq].to_string('hmsdms')[0:2] + c_qpqsp_bg[qq].to_string('hmsdms')[3:5]\n",
    "                ipos = c_qpqsp_bg[qq].to_string('hmsdms').rfind(' ')+1\n",
    "                name = name + c_qpqsp_bg[qq].to_string('hmsdms')[ipos:ipos+3] + \\\n",
    "                c_qpqsp_bg[qq].to_string('hmsdms')[ipos+4:ipos+6]\n",
    "                index = np.where(zem_coord.separation(cc) < 1*u.arcsec)[0]\n",
    "                if len(index) == 0:\n",
    "                    print('no match found for',cc.to_string('hmsdms'),c_qpqsp_bg[qq].to_string('hmsdms'))\n",
    "                    continue\n",
    "                QPQ9.add_row({'FG_RA':qpqsp.cat[ID_fg[qq]]['RA'],'FG_DEC':qpqsp.cat[ID_fg[qq]]['DEC'],\n",
    "                              'NAME':name,'RA':qpqsp.cat[ID_bg[qq]]['RA'],'DEC':qpqsp.cat[ID_bg[qq]]['DEC'],\n",
    "                              'Z_FG':zem_list[index[0]]['ZSYS_ZSYS'][0],\n",
    "                              'Z_FSIG':np.rint(zem_list[index[0]]['ZSYS_ERR'][0]),\n",
    "                              'BG_Z':qpqsp.cat[ID_bg[qq]]['zem'],'R_PHYS':(kpc_amin[qq]*ang_sep[qq]).value,\n",
    "                              'ZFG_LINE':zsys_line[np.min([zem_list[index[0]]['ZSYS_FLAG'][0],3])]})\n",
    "                print(cc.to_string('hmsdms'),'added')\n",
    "QPQ9.sort(['FG_RA','FG_DEC'])"
   ]
  },
  {
   "cell_type": "code",
   "execution_count": 10,
   "metadata": {},
   "outputs": [
    {
     "data": {
      "text/plain": [
       "(67, <QTable length=20>\n",
       "       RA             DEC             G_UV     ...     R_PHYS     ZFG_LINE\n",
       "    float64         float64         float64    ...    float64      str36  \n",
       " ------------- ----------------- ------------- ... ------------- ---------\n",
       "        8.5975    -10.8323055556           0.0 ... 67.1230838982      MgII\n",
       " 14.3287633684  -0.0263108702349 897.407834846 ... 270.712499511    [OIII]\n",
       " 27.3227662484   -0.366242429577 1726.12219238 ... 154.683044434      MgII\n",
       " 37.5832882888    -3.55444111362 1011.23883057 ... 220.653686523      MgII\n",
       " 39.9435416667          -1.11225           0.0 ... 31.6279553361    [OIII]\n",
       " 42.6659166667   -0.797111111111           0.0 ...  174.68978497      MgII\n",
       " 55.4133096521 -0.00353495681141 274.194061279 ... 190.162078857      MgII\n",
       " 62.4758752949    -4.19363997107 515.653686523 ... 235.123641968      MgII\n",
       " 117.534458333          27.40125           0.0 ... 114.302432635      MgII\n",
       " 118.246405235     40.1884027001 749.980773926 ... 110.227485657      MgII\n",
       "  120.20306832     35.7086976546 1463.32499572 ... 200.727334478    [OIII]\n",
       " 123.584916667     32.8378055556           0.0 ... 89.5037916425    [OIII]\n",
       " 127.186963574     45.7550664137 371.397277832 ... 137.483764648      MgII\n",
       " 129.302880827     36.5104726848 3560.37475586 ... 91.5955505371      MgII\n",
       " 129.488047957     38.6228928363 6039.00788114 ... 89.2255343659 H$\\alpha$\n",
       " 130.496910456     39.3611075347 1064.01439616 ... 182.693675263    [OIII]\n",
       " 133.489553874   -0.185051255203 862.632024349 ... 111.641532541    [OIII]\n",
       " 137.694534516     4.24677023888  8357.8273817 ... 95.3714964791    [OIII]\n",
       "  138.41238463    -1.11795134614 4181.93532299 ...  88.838035754      MgII\n",
       " 138.628526573     1.15763854863 854.440681244 ... 199.204801066    [OIII])"
      ]
     },
     "execution_count": 10,
     "output_type": "execute_result",
     "metadata": {}
    }
   ],
   "source": [
    "len(QPQ9),QPQ9[0:20]"
   ]
  },
  {
   "cell_type": "code",
   "execution_count": 11,
   "metadata": {},
   "outputs": [],
   "source": [
    "# write\n",
    "Table(QPQ9).write('qpq9_final.fits',format='fits',overwrite=True)"
   ]
  },
  {
   "cell_type": "markdown",
   "metadata": {},
   "source": [
    "## Add pairs in igmspec with newly measured redshifts"
   ]
  },
  {
   "cell_type": "code",
   "execution_count": 12,
   "metadata": {},
   "outputs": [
    {
     "name": "stdout",
     "output_type": "stream",
     "text": [
      "Loading igmspec from /Users/lwymarie/Documents/Databases/IGMspec_DB_v02.1.hdf5\n",
      "Database is igmspec\n",
      "Created on 2017-Sep-18\n",
      "(u'00h42m20.6566s +00d32m18.6839s', 'added')\n",
      "(u'00h47m45.4931s +31d01m20.2527s', 'added')\n",
      "(u'01h22m28.0063s +30d17m34.7976s', 'added')\n",
      "(u'01h43m28.7665s +29d54m36.8018s', 'added')\n",
      "(u'02h25m26.3271s -01d14m34.3976s', 'added')\n",
      "(u'02h26m30.7915s -05d05m52.215s', 'added')\n",
      "(u'02h32m26.5389s -00d11m45.1292s', 'added')\n",
      "(u'02h33m15.4029s -00d03m03.5561s', 'added')\n",
      "(u'02h46m03.6827s -00d32m11.7543s', 'added')\n",
      "(u'07h27m39.5462s +39d28m55.3406s', 'added')\n",
      "(u'08h05m37.2907s +47d23m39.3058s', 'added')\n",
      "(u'08h09m38.7284s +50d09m47.7073s', 'added')\n",
      "(u'08h23m07.087s +53d47m38.3889s', 'added')\n",
      "(u'08h23m46.0482s +53d25m27.8191s', 'added')\n",
      "(u'08h24m21.0108s +53d12m49.2937s', 'added')\n",
      "(u'08h35m26.7843s +46d20m07.4548s', 'added')\n",
      "(u'08h43m38.8552s +44d26m08.6726s', 'added')\n",
      "(u'08h45m11.8996s +46d41m35.5249s', 'added')\n",
      "(u'08h46m18.1828s +45d39m00.306s', 'added')\n",
      "(u'08h50m19.4257s +47d55m38.5209s', 'added')\n",
      "(u'08h51m18.4127s +48d43m42.239s', 'added')\n",
      "(u'08h51m51.3843s +52d29m01.6336s', 'added')\n",
      "(u'08h52m49.4528s +47d14m23.096s', 'added')\n",
      "(u'08h53m43.0737s +45d06m59.946s', 'added')\n",
      "(u'09h03m00.3222s +46d54m19.6358s', 'added')\n",
      "(u'09h15m48.4849s +46d40m20.7249s', 'added')\n",
      "(u'09h21m22.8866s +56d31m27.8655s', 'added')\n",
      "(u'09h24m05.059s +47d46m11.3924s', 'added')\n",
      "(u'09h29m52.7501s +48d41m39.2493s', 'added')\n",
      "(u'09h39m36.8288s +48d21m15.0396s', 'added')\n",
      "(u'09h39m52.5992s +50d52m07.4394s', 'added')\n",
      "(u'09h47m53.4427s +50d44m07.3417s', 'added')\n",
      "(u'09h49m06.2988s +46d59m38.4155s', 'added')\n",
      "(u'09h51m27.0584s +49d32m48.3069s', 'added')\n",
      "(u'09h55m52.4811s +50d10m18.7278s', 'added')\n",
      "(u'09h56m16.125s +47d16m49.2066s', 'added')\n",
      "(u'09h58m58.8844s +49d12m53.0596s', 'added')\n",
      "(u'09h59m39.4703s +47d03m44.4058s', 'added')\n",
      "(u'10h00m13.0737s +46d54m08.6107s', 'added')\n",
      "(u'10h01m20.1006s +55d13m07.6881s', 'added')\n",
      "(u'10h22m59.3317s +49d11m25.7851s', 'added')\n",
      "(u'10h28m21.2572s +24d01m21.7985s', 'added')\n",
      "(u'10h39m46.9171s +45d47m16.9908s', 'added')\n",
      "(u'10h46m17.9434s +47d07m21.8201s', 'added')\n",
      "(u'10h49m55.0146s +23d13m58.2344s', 'added')\n",
      "(u'10h52m46.4969s +64d18m32.25s', 'added')\n",
      "(u'11h11m07.6139s +46d41m59.3775s', 'added')\n",
      "(u'11h28m58.8885s +64d44m40.3775s', 'added')\n",
      "(u'11h29m40.3633s +36d37m08.1231s', 'added')\n",
      "(u'11h44m39.509s +45d41m15.816s', 'added')\n",
      "(u'11h48m35.9338s +45d07m28.7575s', 'added')\n",
      "(u'11h54m57.1645s +47d11m49.3039s', 'added')\n",
      "(u'11h55m02.4482s +21d32m35.4717s', 'added')\n",
      "(u'11h55m29.493s +46d34m13.113s', 'added')\n",
      "(u'12h16m57.8175s +15d27m06.5676s', 'added')\n",
      "(u'12h16m59.3556s +01d12m39.3135s', 'added')\n",
      "(u'12h26m41.1062s +45d38m41.3504s', 'added')\n",
      "(u'12h30m27.9268s +47d03m04.2174s', 'added')\n",
      "(u'12h38m52.4769s +46d04m59.3607s', 'added')\n",
      "(u'12h53m39.461s +47d51m12.6106s', 'added')\n",
      "(u'13h07m14.7922s +46d35m36.6361s', 'added')\n",
      "(u'13h13m41.3189s +45d46m54.6011s', 'added')\n",
      "(u'13h18m31.9108s +30d20m02.6641s', 'added')\n",
      "(u'13h28m48.1788s +47d12m10.1752s', 'added')\n",
      "(u'13h29m22.5144s +43d20m49.2875s', 'added')\n",
      "(u'13h30m26.1963s +41d14m32.9864s', 'added')\n",
      "(u'13h39m24.0217s +46d28m08.164s', 'added')\n",
      "(u'13h42m10.2418s +47d14m03.9402s', 'added')\n",
      "(u'13h48m17.4089s +46d42m17.1122s', 'added')\n",
      "(u'13h53m06.3464s +11d38m04.7313s', 'added')\n",
      "(u'14h03m55.1546s +37d34m01.7382s', 'added')\n",
      "(u'14h09m39.4934s +54d05m32.5855s', 'added')\n",
      "(u'14h17m13.6153s +45d07m37.8024s', 'added')\n",
      "(u'14h17m23.869s +07d03m17.9001s', 'added')\n",
      "(u'14h18m38.9999s +51d52m53.6832s', 'added')\n",
      "(u'14h19m05.552s +52d02m17.7524s', 'added')\n",
      "(u'14h36m09.1502s +31d34m26.6726s', 'added')\n",
      "(u'14h42m11.2479s +53d02m52.008s', 'added')\n",
      "(u'15h16m11.4962s +22d25m15.2581s', 'added')\n",
      "(u'15h40m59.8681s +49d19m23.3286s', 'added')\n",
      "(u'15h43m49.117s +44d45m14.7343s', 'added')\n",
      "(u'15h48m16.4303s +54d59m41.9243s', 'added')\n",
      "(u'15h57m33.9794s +29d28m44.3408s', 'added')\n",
      "(u'16h54m42.2078s +25d12m49.232s', 'added')\n",
      "(u'17h14m37.2723s +30d48m16.6903s', 'added')\n",
      "(u'21h48m13.2563s +26d30m59.4348s', 'added')\n",
      "(u'21h49m38.2853s +01d13m50.022s', 'added')\n",
      "(u'23h38m45.1943s -00d03m27.1218s', 'added')\n",
      "(u'23h51m41.6173s +27d37m30.0542s', 'added')\n",
      "(u'23h55m05.2234s +32d00m58.9725s', 'added')\n",
      "(u'23h58m19.9214s +34d24m55.787s', 'added')\n",
      "(u'00h47m57.2575s +14d47m41.9604s', 'added')\n",
      "(u'01h03m23.8409s -00d02m54.204s', 'added')\n",
      "(u'02h14m16.9579s -00d52m29.1468s', 'added')\n",
      "(u'02h24m47.8961s -00d47m00.3552s', 'added')\n",
      "(u'08h09m45.1728s +45d39m18.108s', 'added')\n",
      "(u'08h12m23.1689s +26d20m00.906s', 'added')\n",
      "(u'08h18m32.8654s +12d32m19.9032s', 'added')\n",
      "(u'08h30m30.3792s +54d52m28.7724s', 'added')\n",
      "(u'08h38m54.5237s +46d21m24.3936s', 'added')\n",
      "(u'08h56m29.4814s +55d14m50.244s', 'added')\n",
      "(u'08h57m37.5814s +39d01m20.4636s', 'added')\n",
      "(u'09h04m17.9402s +00d41m48.2496s', 'added')\n",
      "(u'09h06m57.7973s +10d01m21.4356s', 'added')\n",
      "(u'09h12m17.5714s +41d39m33.516s', 'added')\n",
      "(u'09h12m34.273s +30d56m16.2168s', 'added')\n",
      "(u'09h15m51.7238s +01d19m00.1776s', 'added')\n",
      "(u'09h33m17.4271s +59d20m27.4488s', 'added')\n",
      "(u'09h41m33.642s +23d08m40.0524s', 'added')\n",
      "(u'10h00m46.4472s +03d37m08.8284s', 'added')\n",
      "(u'10h09m13.9118s +02d36m12.3768s', 'added')\n",
      "(u'10h13m23.8999s +03d30m16.956s', 'added')\n",
      "(u'10h17m53.3789s +62d26m53.3688s', 'added')\n",
      "(u'10h20m07.2979s +61d19m55.9632s', 'added')\n",
      "(u'10h34m43.6241s +08d57m02.9808s', 'added')\n",
      "(u'10h36m28.1959s +50d11m57.876s', 'added')\n",
      "(u'10h42m44.8404s +65d00m02.7072s', 'added')\n",
      "(u'10h44m35.6242s +31d39m50.7168s', 'added')\n",
      "(u'10h52m21.7706s +55d52m53.5044s', 'added')\n",
      "(u'11h06m17.1715s +46d35m24.648s', 'added')\n",
      "(u'11h13m39.8599s +33d06m04.7628s', 'added')\n",
      "(u'11h18m50.4365s +40d25m53.7852s', 'added')\n",
      "(u'11h38m52.6462s +63d29m34.0224s', 'added')\n",
      "(u'11h52m53.0918s +15d07m06.4596s', 'added')\n",
      "(u'11h55m33.6178s +39d33m59.1984s', 'added')\n",
      "(u'12h02m24.6761s +07d48m00.2628s', 'added')\n",
      "(u'12h11m59.8001s +32d40m09.966s', 'added')\n",
      "(u'12h13m44.28s +47d19m58.7172s', 'added')\n",
      "(u'12h25m14.2939s +57d09m42.3396s', 'added')\n",
      "(u'12h46m32.3023s +23d45m31.158s', 'added')\n",
      "(u'12h48m46.0469s +40d57m58.1508s', 'added')\n",
      "(u'13h25m14.9746s +54d09m30.564s', 'added')\n",
      "(u'13h46m50.0789s +19d52m35.2056s', 'added')\n",
      "(u'14h22m15.57s +46d52m30.72s', 'added')\n",
      "(u'14h33m12.5556s +08d26m51.7596s', 'added')\n",
      "(u'15h34m56.0201s +21d53m42.3204s', 'added')\n",
      "(u'15h39m54.744s +31d46m29.2836s', 'added')\n",
      "(u'15h44m21.403s +50d26m45.8808s', 'added')\n",
      "(u'15h54m22.8773s +12d44m38.0076s', 'added')\n",
      "(u'16h19m30.937s +19d26m20.8968s', 'added')\n",
      "(u'16h31m21.7442s +43d33m17.298s', 'added')\n",
      "(u'22h55m35.6662s -00d01m56.8416s', 'added')\n",
      "(u'01h11m50.07s +14d01m41.5s', 'added')\n"
     ]
    }
   ],
   "source": [
    "QPQ9 = QTable(fits.open('qpq9_final.fits')[1].data)\n",
    "c_QPQ9 = SkyCoord(QPQ9['FG_RA']*u.deg,QPQ9['FG_DEC']*u.deg)\n",
    "c_QPQ9_bg = SkyCoord(ra=QPQ9['RA']*u.deg,dec=QPQ9['DEC']*u.deg)\n",
    "igmsp = IgmSpec(version=\"02.1\",verbose=False,\n",
    "                groups=['BOSS_DR12','COS-Dwarfs','COS-Halos',\n",
    "                        'ESI_DLA','GGG','HD-LLS_DR1',\n",
    "                        'HDLA100','HSTQSO','HST_z2',\n",
    "                        'KODIAQ_DR1','SDSS_DR7','XQ-100',\n",
    "                        'UVES_Dall','UVpSM4','MUSoDLA'])\n",
    "ID_fg,ID_bg = igmsp.qcat.pairs(0.92*u.arcmin,3000.*u.km/u.s) # at z = 0.4, 0.92' = 300 kpc\n",
    "c_igmsp = SkyCoord(igmsp.cat['RA'][ID_fg]*u.deg,igmsp.cat['DEC'][ID_fg]*u.deg)\n",
    "c_igmsp_bg = SkyCoord(igmsp.cat['RA'][ID_bg]*u.deg,igmsp.cat['DEC'][ID_bg]*u.deg)\n",
    "kpc_amin = cosmo.kpc_proper_per_arcmin(igmsp.cat['zem'][ID_fg])\n",
    "ang_sep = c_igmsp.separation(c_igmsp_bg).to('arcmin')\n",
    "for qq,cc in enumerate(c_igmsp):\n",
    "    if kpc_amin[qq]*ang_sep[qq] < 300 *u.kpc: \n",
    "        if len(np.where(cc.separation(c_QPQ9) < 0.5*u.arcsec)[0]) == 0: # pair not in QPQ9 already\n",
    "            if len(np.where(cc.separation(zem_coord) < 1*u.arcsec)[0]) > 0:\n",
    "                # Skip J0225. No good line measured. \n",
    "                if cc.separation(SkyCoord('02h25m17.68s +00d48m22s')) < 5*u.arcsec:\n",
    "                    continue\n",
    "                # Skip J0201. Binary quasar, with wrong redshift in catalog. \n",
    "                if cc.separation(SkyCoord('02h01m43.4873s +00d32m22.713s')) < 5*u.arcsec:\n",
    "                    continue\n",
    "                name = 'SDSSJ'\n",
    "                name = name + c_igmsp_bg[qq].to_string('hmsdms')[0:2] + c_igmsp_bg[qq].to_string('hmsdms')[3:5]\n",
    "                ipos = c_igmsp_bg[qq].to_string('hmsdms').rfind(' ')+1\n",
    "                name = name + c_igmsp_bg[qq].to_string('hmsdms')[ipos:ipos+3] + \\\n",
    "                c_igmsp_bg[qq].to_string('hmsdms')[ipos+4:ipos+6]\n",
    "                index = np.where(zem_coord.separation(cc) < 1*u.arcsec)[0]\n",
    "                QPQ9.add_row({'FG_RA':igmsp.cat[ID_fg[qq]]['RA'],'FG_DEC':igmsp.cat[ID_fg[qq]]['DEC'],\n",
    "                              'NAME':name,'RA':igmsp.cat[ID_bg[qq]]['RA'],'DEC':igmsp.cat[ID_bg[qq]]['DEC'],\n",
    "                              'Z_FG':zem_list[index[0]]['ZSYS_ZSYS'][0],\n",
    "                              'Z_FSIG':np.rint(zem_list[index[0]]['ZSYS_ERR'][0]),'BG_Z':igmsp.cat[ID_bg[qq]]['zem'],\n",
    "                              'R_PHYS':(kpc_amin[qq]*ang_sep[qq]).value,\n",
    "                              'ZFG_LINE':zsys_line[np.min([zem_list[index[0]]['ZSYS_FLAG'][0],3])]})\n",
    "                print(cc.to_string('hmsdms'),'added')\n",
    "QPQ9.sort(['FG_RA','FG_DEC'])"
   ]
  },
  {
   "cell_type": "code",
   "execution_count": 13,
   "metadata": {},
   "outputs": [
    {
     "data": {
      "text/plain": [
       "(210, <QTable length=20>\n",
       "      NAME          FG_RA         FG_DEC   \n",
       "     str14         float64       float64   \n",
       " -------------- ------------- -------------\n",
       " BOSSJ1508+3635 227.058590007 36.5914880608\n",
       " SDSSJ1516+2225 229.047900888 22.4209050325\n",
       " BOSSJ1533+1425 233.370129953 14.4284725638\n",
       " SDSSJ1534+2153    233.733417     21.895089\n",
       " SDSSJ1539+3146      234.9781     31.774801\n",
       " SDSSJ1541+4919 235.249450505 49.3231468351\n",
       " SDSSJ1543+4445 235.954654103 44.7540928733\n",
       " SDSSJ1544+5027    236.089179     50.446078\n",
       " SDSSJ1548+5459 237.068459669 54.9949789692\n",
       "  APOJ1553+1921 238.356698707 19.3613755865\n",
       " SDSSJ1554+1244    238.595322     12.743891\n",
       " SDSSJ1557+2929 239.391580654 29.4789835582\n",
       "  APOJ1559+4943 239.948892303 49.7186922034\n",
       "  APOJ1605+5113 241.448356284 51.2251511404\n",
       " SDSSJ1619+1926    244.878904     19.439138\n",
       " BOSSJ1627+2215  246.90165871  22.260579174\n",
       "  APOJ1627+4606 246.910970979 46.0939966094\n",
       " SDSSJ1631+4333    247.840601     43.554805\n",
       " SDSSJ1654+2513 253.675865835 25.2136755441\n",
       " BOSSJ1657+3105 254.320219028 31.0872159093)"
      ]
     },
     "execution_count": 13,
     "output_type": "execute_result",
     "metadata": {}
    }
   ],
   "source": [
    "len(QPQ9),QPQ9['NAME','FG_RA','FG_DEC'][180:200]"
   ]
  },
  {
   "cell_type": "code",
   "execution_count": 14,
   "metadata": {},
   "outputs": [],
   "source": [
    "# write\n",
    "Table(QPQ9).write('qpq9_final.fits',format='fits',overwrite=True)"
   ]
  },
  {
   "cell_type": "markdown",
   "metadata": {},
   "source": [
    "## Add pairs of z_fg < 1.6 and measured by SDSS-HW "
   ]
  },
  {
   "cell_type": "code",
   "execution_count": 15,
   "metadata": {},
   "outputs": [],
   "source": [
    "QPQ9 = QTable(fits.open('qpq9_final.fits')[1].data)\n",
    "c_QPQ9 = SkyCoord(QPQ9['FG_RA']*u.deg,QPQ9['FG_DEC']*u.deg)\n",
    "c_QPQ9_bg = SkyCoord(ra=QPQ9['RA']*u.deg,dec=QPQ9['DEC']*u.deg)\n",
    "for qq,cc in enumerate(c_igmsp):\n",
    "    if kpc_amin[qq]*ang_sep[qq] < 300 *u.kpc: \n",
    "        if 'SDSS-HW' in igmsp.cat[ID_fg[qq]]['flag_zem']: # good z\n",
    "            # Match Johnson+15 and Farina+ samples' redshifts, and MgII redshift or better \n",
    "            if (igmsp.cat[ID_fg[qq]]['zem'] >= 0.4) & (igmsp.cat[ID_fg[qq]]['zem'] <= 1.6): \n",
    "                # Lya forest cut for MgII stack \n",
    "                if 2796.354*(1+igmsp.cat['zem'][ID_fg[qq]]) > (1215.6701+15.)*(1+igmsp.cat['zem'][ID_bg[qq]]):\n",
    "                    if len(np.where(cc.separation(c_QPQ9) < 0.5*u.arcsec)[0]) > 0: # in QPQ9 already\n",
    "                        continue\n",
    "                    if np.mod(igmsp.cat['flag_group'][ID_fg[qq]],2) == 0:\n",
    "                        name = 'BOSSJ'\n",
    "                    else:\n",
    "                        name = 'SDSSJ'  \n",
    "                    name = name + c_igmsp_bg[qq].to_string('hmsdms')[0:2]\n",
    "                    name = name + c_igmsp_bg[qq].to_string('hmsdms')[3:5]\n",
    "                    ipos = c_igmsp_bg[qq].to_string('hmsdms').rfind(' ')+1\n",
    "                    name = name + c_igmsp_bg[qq].to_string('hmsdms')[ipos:ipos+3] \n",
    "                    name = name + c_igmsp_bg[qq].to_string('hmsdms')[ipos+4:ipos+6]\n",
    "                    QPQ9.add_row({'FG_RA':igmsp.cat['RA'][ID_fg[qq]],'FG_DEC':igmsp.cat['DEC'][ID_fg[qq]],'NAME':name,\n",
    "                                  'RA':igmsp.cat['RA'][ID_bg[qq]],'DEC':igmsp.cat['DEC'][ID_bg[qq]],\n",
    "                                  'Z_FG':igmsp.cat['zem'][ID_fg[qq]],'Z_FSIG':272,'BG_Z':igmsp.cat['zem'][ID_bg[qq]],\n",
    "                                  'R_PHYS':(kpc_amin[qq]*ang_sep[qq]).value,'ZFG_LINE':'SDSS-HW'})\n",
    "QPQ9.sort(['FG_RA','FG_DEC'])"
   ]
  },
  {
   "cell_type": "code",
   "execution_count": 16,
   "metadata": {},
   "outputs": [
    {
     "data": {
      "text/plain": [
       "(670, <QTable length=3>\n",
       "      NAME           Z_FG     ZFG_LINE     FG_RA         FG_DEC   \n",
       "     str14         float64     str36      float64       float64   \n",
       " -------------- ------------- -------- ------------- -------------\n",
       " SDSSJ1543+4445 1.85299101525     MgII 235.954654103 44.7540928733\n",
       " SDSSJ1544+5027 1.60675870161     MgII    236.089179     50.446078\n",
       " BOSSJ1545+2239 1.00233602524  SDSS-HW    236.472613     22.669987)"
      ]
     },
     "execution_count": 16,
     "output_type": "execute_result",
     "metadata": {}
    }
   ],
   "source": [
    "len(QPQ9),QPQ9['NAME','Z_FG','ZFG_LINE','FG_RA','FG_DEC'][580:583]"
   ]
  },
  {
   "cell_type": "code",
   "execution_count": 17,
   "metadata": {},
   "outputs": [],
   "source": [
    "# write\n",
    "Table(QPQ9).write('qpq9_final.fits',format='fits',overwrite=True)"
   ]
  },
  {
   "cell_type": "markdown",
   "metadata": {},
   "source": [
    "## Add and update g_UV values"
   ]
  },
  {
   "cell_type": "code",
   "execution_count": 19,
   "metadata": {},
   "outputs": [],
   "source": [
    "# Search SDSS DR12 catalog for magnitudes \n",
    "QPQ9 = QTable(fits.open('qpq9_final.fits')[1].data)\n",
    "c_QPQ9 = SkyCoord(QPQ9['FG_RA']*u.deg,QPQ9['FG_DEC']*u.deg)\n",
    "c_QPQ9_bg = SkyCoord(ra=QPQ9['RA']*u.deg,dec=QPQ9['DEC']*u.deg)\n",
    "hdulist = fits.open('/Volumes/Data/Data of surveys/SDSS/DR12Q.fits')\n",
    "SDSSdr12 = hdulist[1].data\n",
    "c_SDSSdr12 = SkyCoord(list(SDSSdr12.field('RA'))*u.deg,list(SDSSdr12.field('DEC'))*u.deg)\n",
    "hdulist = fits.open('/Volumes/Data/Data of surveys/SDSS/dr7qso.fit')\n",
    "SDSSdr7 = hdulist[1].data\n",
    "c_SDSSdr7 = SkyCoord(list(SDSSdr7.field('RA'))*u.deg,list(SDSSdr7.field('DEC'))*u.deg)"
   ]
  },
  {
   "cell_type": "code",
   "execution_count": 20,
   "metadata": {},
   "outputs": [
    {
     "name": "stdout",
     "output_type": "stream",
     "text": [
      "(u'01h11m50.07s +14d01m41.5s', 2.4851422501937015, <Angle 35.64055373774893 arcsec>, 30)\n"
     ]
    }
   ],
   "source": [
    "# Put in g_UV by hand for a quasar that does not have SDSS spectra but photometry and no existing g_UV values \n",
    "for qq,cc in enumerate(c_QPQ9):\n",
    "    if QPQ9[qq]['G_UV'] == 0.:\n",
    "        if len(np.where(cc.separation(c_SDSSdr12) < 0.5*u.arcsec)[0]) == 0:\n",
    "            if len(np.where(cc.separation(c_SDSSdr7) < 0.5*u.arcsec)[0]) == 0:\n",
    "                ang_sep = cc.separation(c_QPQ9_bg[qq]).to('arcsec')\n",
    "                print(cc.to_string('hmsdms'),QPQ9[qq]['Z_FG'],ang_sep,qq)\n",
    "                QPQ9[qq]['G_UV'] = 4624"
   ]
  },
  {
   "cell_type": "code",
   "execution_count": 21,
   "metadata": {},
   "outputs": [],
   "source": [
    "# Write a file for IDL input, for rescaling QPQ g_UV values to F.-G. Lya forest flux \n",
    "gUV_exist = np.where(QPQ9['G_UV'] != 0.)[0]\n",
    "data = Table([QPQ9[gUV_exist]['FG_RA'],QPQ9[gUV_exist]['FG_DEC'],QPQ9[gUV_exist]['Z_FG'],QPQ9[gUV_exist]['G_UV']],\n",
    "             names=['FG_RA','FG_DEC','Z_FG','OLD_GUV'])\n",
    "ascii.write(data,'QPQ_gUV_idl_input.txt',overwrite=True)\n",
    "# Write a file for IDL input, for calculating new g_UV values \n",
    "gUV_none = np.where(QPQ9['G_UV'] == 0.)[0]\n",
    "ang_sep = []\n",
    "SDSSfilter = []\n",
    "mag = []\n",
    "filter_beg = [3125.0, 3880.0, 5480.0, 6790.0, 8090.0]\n",
    "filter_names = ['u','g','r','i','z']\n",
    "for qq,cc in enumerate(c_QPQ9[gUV_none]):\n",
    "    ang_sep.append(cc.separation(c_QPQ9_bg[gUV_none[qq]]).to('arcsec').value)\n",
    "    min_beg = 1215.6701*(1+QPQ9[gUV_none[qq]]['Z_FG'])\n",
    "    good_inds = np.where(filter_beg >= min_beg)\n",
    "    SDSSfilter.append(filter_names[np.min(good_inds)])\n",
    "    in_dr12 = np.where(cc.separation(c_SDSSdr12) < 0.5*u.arcsec)[0]\n",
    "    if len(in_dr12) == 1:\n",
    "        mag.append((SDSSdr12[in_dr12].field('PSFMAG')[0][good_inds]-\n",
    "                    SDSSdr12[in_dr12].field('EXTINCTION')[0][good_inds])[0])\n",
    "    else:\n",
    "        in_dr7 = np.where(cc.separation(c_SDSSdr7) < 0.5*u.arcsec)[0]\n",
    "        psfmag = [SDSSdr7[in_dr7].field('UMAG'),SDSSdr7[in_dr7].field('GMAG'),SDSSdr7[in_dr7].field('RMAG'),\n",
    "                  SDSSdr7[in_dr7].field('IMAG'),SDSSdr7[in_dr7].field('ZMAG')]\n",
    "        extinct = SDSSdr7[in_dr7].field('AU')*np.array([1,0.736,0.534,0.405,0.287])\n",
    "        mag.append((psfmag[np.min(good_inds)]-extinct[np.min(good_inds)])[0])\n",
    "data = Table([QPQ9[gUV_none]['FG_RA'],QPQ9[gUV_none]['FG_DEC'],QPQ9[gUV_none]['Z_FG'],ang_sep,SDSSfilter,mag],\n",
    "             names=['FG_RA','FG_DEC','Z_FG','theta','filter','mag'])\n",
    "ascii.write(data,'no_gUV_idl_input.txt',overwrite=True)"
   ]
  },
  {
   "cell_type": "code",
   "execution_count": 22,
   "metadata": {},
   "outputs": [],
   "source": [
    "# Go to run IDL\n",
    "\n",
    "# Read IDL output for rescaled QPQ g_UV values \n",
    "data = ascii.read('QPQ_gUV_idl_output.txt')\n",
    "c_idl = SkyCoord(data['FG_RA']*u.deg,data['FG_DEC']*u.deg)\n",
    "for qq,cc in enumerate(c_QPQ9):\n",
    "    index = np.where(cc.separation(c_idl) < 0.5*u.arcsec)[0]\n",
    "    if len(index) == 1:\n",
    "        QPQ9[qq]['G_UV'] = data[index]['NEW_GUV']\n",
    "# Read IDL output for new g_UV values\n",
    "data = ascii.read('no_gUV_idl_output.txt')\n",
    "c_idl = SkyCoord(data['FG_RA']*u.deg,data['FG_DEC']*u.deg)\n",
    "for qq,cc in enumerate(c_QPQ9):\n",
    "    index = np.where(cc.separation(c_idl) < 0.5*u.arcsec)[0]\n",
    "    if len(index) == 1:\n",
    "        QPQ9[qq]['G_UV'] = data[index]['GUV']"
   ]
  },
  {
   "cell_type": "code",
   "execution_count": 23,
   "metadata": {},
   "outputs": [
    {
     "data": {
      "text/plain": [
       "(array([], dtype=int64),)"
      ]
     },
     "execution_count": 23,
     "output_type": "execute_result",
     "metadata": {}
    }
   ],
   "source": [
    "np.where(QPQ9['G_UV'] == 0.)"
   ]
  },
  {
   "cell_type": "code",
   "execution_count": 24,
   "metadata": {},
   "outputs": [
    {
     "data": {
      "text/html": [
       "&lt;QTable length=3&gt;\n",
       "<table id=\"table4705903568\" class=\"table-striped table-bordered table-condensed\">\n",
       "<thead><tr><th>FG_RA</th><th>FG_DEC</th></tr></thead>\n",
       "<thead><tr><th>float64</th><th>float64</th></tr></thead>\n",
       "<tr><td>235.954654103</td><td>44.7540928733</td></tr>\n",
       "<tr><td>236.089179</td><td>50.446078</td></tr>\n",
       "<tr><td>236.472613</td><td>22.669987</td></tr>\n",
       "</table>"
      ]
     },
     "output_type": "execute_result",
     "metadata": {}
    }
   ],
   "source": [
    "QPQ9['FG_RA','FG_DEC'][580:583]"
   ]
  },
  {
   "cell_type": "code",
   "execution_count": 25,
   "metadata": {},
   "outputs": [],
   "source": [
    "# write\n",
    "Table(QPQ9).write('qpq9_final.fits',format='fits',overwrite=True)"
   ]
  },
  {
   "cell_type": "markdown",
   "metadata": {},
   "source": [
    "## Update systematic offsets and scatters of emission lines to Shen+16 "
   ]
  },
  {
   "cell_type": "code",
   "execution_count": 26,
   "metadata": {},
   "outputs": [],
   "source": [
    "# Add the systematic biases, intrinsic scatter + measurement scatter\n",
    "QPQ9 = QTable(fits.open('qpq9_final.fits')[1].data)\n",
    "for ii,qq in enumerate(QPQ9):\n",
    "    if qq['ZFG_LINE'] == 'MgII':\n",
    "        # bring to z_em \n",
    "        qq['Z_FG'] = ltu.z_from_dv(+70.*u.km/u.s,qq['Z_FG'])\n",
    "        # bring to z_sys\n",
    "        qq['Z_FG'] = ltu.z_from_dv(+57.*u.km/u.s,qq['Z_FG'])\n",
    "        # scatter\n",
    "        qq['Z_FSIG'] = 226\n",
    "    if qq['ZFG_LINE'] == 'H$\\\\beta$':\n",
    "        # bring to z_sys\n",
    "        qq['Z_FG'] = ltu.z_from_dv(+109.*u.km/u.s,qq['Z_FG'])\n",
    "        # scatter \n",
    "        qq['Z_FSIG'] = 417\n",
    "    if qq['ZFG_LINE'] == '[OIII]':\n",
    "        # bring to z_em \n",
    "        qq['Z_FG'] = ltu.z_from_dv(-27.*u.km/u.s,qq['Z_FG'])\n",
    "        # bring to z_sys\n",
    "        qq['Z_FG'] = ltu.z_from_dv(+48.*u.km/u.s,qq['Z_FG'])\n",
    "        # scatter\n",
    "        qq['Z_FSIG'] = 68\n",
    "    if qq['ZFG_LINE'] == 'H$\\\\alpha$':\n",
    "        # scatter\n",
    "        qq['Z_FSIG'] = 300\n",
    "    if qq['ZFG_LINE'] == 'SDSS-HW':\n",
    "        if qq['Z_FG'] >= 0.84:\n",
    "            # MgII redshift, bring to z_sys\n",
    "            qq['Z_FG'] = ltu.z_from_dv(+57.*u.km/u.s,qq['Z_FG'])\n",
    "            # scatter\n",
    "            qq['Z_FSIG'] = 226\n",
    "        else:\n",
    "            # [OIII] redshift, bring to zsys\n",
    "            qq['Z_FG'] = ltu.z_from_dv(+48.*u.km/u.s,qq['Z_FG'])\n",
    "            # scatter\n",
    "            qq['Z_FSIG'] = 68"
   ]
  },
  {
   "cell_type": "code",
   "execution_count": 27,
   "metadata": {},
   "outputs": [],
   "source": [
    "# write\n",
    "Table(QPQ9).write('qpq9_final.fits',format='fits',overwrite=True)"
   ]
  },
  {
   "cell_type": "markdown",
   "metadata": {},
   "source": [
    "## copy to enigma"
   ]
  },
  {
   "cell_type": "code",
   "execution_count": 28,
   "metadata": {},
   "outputs": [
    {
     "data": {
      "text/plain": [
       "670"
      ]
     },
     "execution_count": 28,
     "output_type": "execute_result",
     "metadata": {}
    }
   ],
   "source": [
    "!cp qpq9_final.fits /Users/lwymarie/python/enigma/enigma/data/qpq/qpq9_final.fits\n",
    "#!cp /Users/lwymarie/python/enigma/enigma/data/qpq/qpq9_final.fits qpq_final.fits\n",
    "len(QPQ9)"
   ]
  },
  {
   "cell_type": "code",
   "execution_count": 29,
   "metadata": {},
   "outputs": [
    {
     "data": {
      "text/html": [
       "&lt;QTable length=20&gt;\n",
       "<table id=\"table4701460368\" class=\"table-striped table-bordered table-condensed\">\n",
       "<thead><tr><th>NAME</th><th>RA</th><th>DEC</th><th>Z_FG</th><th>BG_Z</th></tr></thead>\n",
       "<thead><tr><th>str14</th><th>float64</th><th>float64</th><th>float64</th><th>float64</th></tr></thead>\n",
       "<tr><td>SDSSJ0939+4820</td><td>144.912373128</td><td>48.3498439811</td><td>1.88780396121</td><td>2.41459201199</td></tr>\n",
       "<tr><td>SDSSJ0939+5051</td><td>144.97813827</td><td>50.8635518455</td><td>1.61045174969</td><td>2.47634572075</td></tr>\n",
       "<tr><td>BOSSJ0941+3058</td><td>145.305848815</td><td>30.9673281517</td><td>1.19488029089</td><td>2.73344566311</td></tr>\n",
       "<tr><td>BOSSJ0941+3251</td><td>145.371275774</td><td>32.8619651249</td><td>1.06858622492</td><td>2.38920955929</td></tr>\n",
       "<tr><td>SDSSJ0941+2308</td><td>145.398374434</td><td>23.146068427</td><td>1.77619046657</td><td>2.55107683578</td></tr>\n",
       "<tr><td>BOSSJ0942+0716</td><td>145.574568511</td><td>7.26677619945</td><td>0.803799808173</td><td>2.54694621275</td></tr>\n",
       "<tr><td>BOSSJ0943+5842</td><td>145.857402363</td><td>58.7077452527</td><td>0.757433382413</td><td>2.01750978774</td></tr>\n",
       "<tr><td>BOSSJ0944+4807</td><td>146.031517132</td><td>48.1305794445</td><td>1.11508013045</td><td>2.35010844785</td></tr>\n",
       "<tr><td>BOSSJ0944+2321</td><td>146.05431893</td><td>23.3612505552</td><td>1.52541905716</td><td>2.98069514796</td></tr>\n",
       "<tr><td>BOSSJ0944+4514</td><td>146.077674319</td><td>45.2414967368</td><td>1.44335754342</td><td>2.01677132344</td></tr>\n",
       "<tr><td>SDSSJ0947+5043</td><td>146.98448533</td><td>50.73114583</td><td>1.81635625108</td><td>3.25959876164</td></tr>\n",
       "<tr><td>BOSSJ0948+0022</td><td>147.231742</td><td>0.377574</td><td>0.585382839141</td><td>1.56889998913</td></tr>\n",
       "<tr><td>SDSSJ0949+4659</td><td>147.27718711</td><td>46.9860105785</td><td>1.72037784585</td><td>2.17337192997</td></tr>\n",
       "<tr><td>BOSSJ0949+5603</td><td>147.394624234</td><td>56.063613374</td><td>0.754246825175</td><td>2.40614901659</td></tr>\n",
       "<tr><td>BOSSJ0949+1753</td><td>147.406819913</td><td>17.8871868297</td><td>0.694309229315</td><td>2.38693641151</td></tr>\n",
       "<tr><td>SDSSJ0951+4932</td><td>147.859266011</td><td>49.5385579181</td><td>1.74074492723</td><td>1.82983661854</td></tr>\n",
       "<tr><td>BOSSJ0952+5909</td><td>148.037081686</td><td>59.1627239788</td><td>0.52530020196</td><td>2.20783257603</td></tr>\n",
       "<tr><td>BOSSJ0952+0429</td><td>148.051161498</td><td>4.49957602167</td><td>0.727031517208</td><td>2.06307083684</td></tr>\n",
       "<tr><td>BOSSJ0952+2746</td><td>148.055158445</td><td>27.7691098415</td><td>0.586203964979</td><td>0.988190181149</td></tr>\n",
       "<tr><td>BOSSJ0953+5644</td><td>148.331613063</td><td>56.7457819937</td><td>0.940765989897</td><td>2.9219043325</td></tr>\n",
       "</table>"
      ]
     },
     "output_type": "execute_result",
     "metadata": {}
    }
   ],
   "source": [
    "QPQ9 = QTable(fits.open('qpq9_final.fits')[1].data)\n",
    "QPQ9['NAME','RA','DEC','Z_FG','BG_Z'][200:220]"
   ]
  },
  {
   "cell_type": "code",
   "execution_count": 49,
   "metadata": {},
   "outputs": [
    {
     "data": {
      "text/plain": [
       "(3657.9530343, 3621.5295122904486, 3694.7428857709247)"
      ]
     },
     "execution_count": 49,
     "output_type": "execute_result",
     "metadata": {}
    }
   ],
   "source": [
    "1334.5323*(1+1.741),1334.5323*(1+ltu.z_from_dv(-3000*u.km/u.s,1.741)),1334.5323*(1+ltu.z_from_dv(3000*u.km/u.s,1.741))"
   ]
  },
  {
   "cell_type": "code",
   "execution_count": 51,
   "metadata": {},
   "outputs": [
    {
     "name": "stdout",
     "output_type": "stream",
     "text": [
      "Database is QPQ\n",
      "Created on 2017-Jan-31\n",
      "Loading igmspec from /Users/lwymarie/Documents/Databases/IGMspec_DB_v02.1.hdf5\n",
      "Database is igmspec\n",
      "Created on 2017-Sep-18\n",
      "Your search yielded 1 match[es] within radius=1 arcsec\n",
      "Staged 1 spectra totalling 9.3e-05 Gb\n",
      "Loaded spectra\n",
      "Staged 1 spectra totalling 8e-05 Gb\n",
      "Loaded spectra\n"
     ]
    }
   ],
   "source": [
    "qpq_fil = '/Users/lwymarie/Documents/Databases/qpq_oir_spec.hdf5'\n",
    "qpqsp = SpecDB(db_file=qpq_fil,verbose=False,idkey='QPQ_ID')\n",
    "igmsp = IgmSpec(version=\"02.1\",verbose=False,\n",
    "                groups=['BOSS_DR12','COS-Dwarfs','COS-Halos',\n",
    "                        'ESI_DLA','GGG','HD-LLS_DR1',\n",
    "                        'HDLA100','HSTQSO','HST_z2',\n",
    "                        'KODIAQ_DR1','SDSS_DR7','XQ-100',\n",
    "                        'UVES_Dall','UVpSM4','MUSoDLA'])\n",
    "specs,metas = igmsp.spectra_from_coord(SkyCoord(147.859266011*u.deg,49.5385579181*u.deg),tol=1*u.arcsec)\n",
    "metas\n",
    "specs[0].plot()"
   ]
  },
  {
   "cell_type": "code",
   "execution_count": null,
   "metadata": {},
   "outputs": [],
   "source": [
    ""
   ]
  }
 ],
 "metadata": {
  "kernelspec": {
   "display_name": "Python 2",
   "language": "python",
   "name": "python2"
  },
  "language_info": {
   "codemirror_mode": {
    "name": "ipython",
    "version": 2.0
   },
   "file_extension": ".py",
   "mimetype": "text/x-python",
   "name": "python",
   "nbconvert_exporter": "python",
   "pygments_lexer": "ipython2",
   "version": "2.7.12"
  }
 },
 "nbformat": 4,
 "nbformat_minor": 0
}