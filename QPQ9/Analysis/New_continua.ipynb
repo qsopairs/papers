{
 "cells": [
  {
   "cell_type": "markdown",
   "metadata": {},
   "source": [
    "# Generate new continua"
   ]
  },
  {
   "cell_type": "code",
   "execution_count": 1,
   "metadata": {
    "collapsed": true
   },
   "outputs": [],
   "source": [
    "# Load QPQ9, do a qpqsp.spec_from_coord search, if return is not None,  \n",
    "# plot with continuum, prompt for generating new continuum, launch continuum fitting GUI, \n",
    "# save to a file \n",
    "# import\n",
    "from specdb.specdb import SpecDB, IgmSpec\n",
    "from astropy import units as u\n",
    "from astropy.io import fits\n",
    "from astropy.coordinates import SkyCoord\n",
    "from xastropy.xutils import fits as xxf\n",
    "import linetools.utils as ltu\n",
    "import numpy as np\n",
    "import warnings\n",
    "import linetools.spectra.xspectrum1d as lsx\n",
    "import pdb,os.path\n",
    "import matplotlib.pyplot as plt\n",
    "warnings.filterwarnings('ignore')"
   ]
  },
  {
   "cell_type": "code",
   "execution_count": 3,
   "metadata": {
    "collapsed": false
   },
   "outputs": [
    {
     "name": "stdout",
     "output_type": "stream",
     "text": [
      "x.fits.bintab_to_table: Reading /Users/lwymarie/python/enigma/enigma/data/qpq/qpq9_final.fits\n",
      "Database is QPQ\n",
      "Created on 2017-Jan-31\n",
      "Loading igmspec from /Users/lwymarie/Documents/Databases/IGMspec_DB_v02.1.hdf5\n",
      "Database is igmspec\n",
      "Created on 2017-Sep-18\n"
     ]
    }
   ],
   "source": [
    "# Load QPQ9 \n",
    "QPQ9 = xxf.bintab_to_table('/Users/lwymarie/python/enigma/enigma/data/qpq/qpq9_final.fits')\n",
    "# Load QPQ database\n",
    "qpq_fil = '/Users/lwymarie/Documents/Databases/qpq_oir_spec.hdf5'\n",
    "qpqsp = SpecDB(db_file=qpq_fil,verbose=False,idkey='QPQ_ID')\n",
    "igmsp = IgmSpec(version=\"02.1\")"
   ]
  },
  {
   "cell_type": "code",
   "execution_count": 10,
   "metadata": {
    "collapsed": true
   },
   "outputs": [],
   "source": [
    "radec = '144429.40+311321.2'"
   ]
  },
  {
   "cell_type": "code",
   "execution_count": null,
   "metadata": {
    "collapsed": false
   },
   "outputs": [],
   "source": [
    "skip_records = 0\n",
    "for ii,qq in enumerate(QPQ9):\n",
    "    if ii < skip_records:\n",
    "        continue\n",
    "    if (ltu.radec_to_coord(radec)).separation(SkyCoord(qq['RA']*u.deg,qq['DEC']*u.deg)) >= 1*u.arcsec:\n",
    "        continue\n",
    "    specs,metas = qpqsp.spectra_from_coord((qq['RA']*u.deg,qq['DEC']*u.deg),verbose=False)\n",
    "    print(metas)\n",
    "    if metas is not None:\n",
    "        for ss,meta in enumerate(metas):\n",
    "            # Check if continuum file already exists\n",
    "            conti_path = '/Users/lwymarie/Dropbox/Marie_X/QPQ9/Continua/QPQ/data/'\n",
    "            ipos1 = meta['SPEC_FILE'].rfind('data/')+5\n",
    "            ipos2 = meta['SPEC_FILE'].rfind('.fits')\n",
    "            if ipos2 == -1: # filename not in standard format \n",
    "                pdb.set_trace()\n",
    "            if 'BOSS' in meta['SPEC_FILE'][0]:\n",
    "                outfil = conti_path + meta['SPEC_FILE'][ipos1:ipos2] + '_c.fits'\n",
    "            else:\n",
    "                outfil = conti_path + meta['SPEC_FILE'][ipos1:ipos2] + '_c.fits.gz'\n",
    "            if os.path.isfile(outfil):\n",
    "                continue\n",
    "            # Inspect continuum \n",
    "            %matplotlib inline\n",
    "            specs[ss].plot()\n",
    "            print(SkyCoord(meta['RA_GROUP']*u.deg,meta['DEC_GROUP']*u.deg).to_string('hmsdms'))\n",
    "            fit_conti = raw_input('Fit continuum? y/n ')\n",
    "            if fit_conti == 'n':\n",
    "                continue\n",
    "            # Fit continuum\n",
    "            !rm -f _knots.jsn\n",
    "            specs[ss].co = None\n",
    "            %pylab\n",
    "            specs[ss].fit_continuum(kind='QSO',redshift=qq['BG_Z'])\n",
    "            prihdu = fits.PrimaryHDU(specs[ss].co.value)\n",
    "            # Save continuum to file \n",
    "            hdu = fits.HDUList([prihdu])\n",
    "            hdu.writeto(outfil,clobber=True)\n",
    "            print('Saved to:',outfil)"
   ]
  },
  {
   "cell_type": "code",
   "execution_count": 6,
   "metadata": {
    "collapsed": false
   },
   "outputs": [],
   "source": [
    "# Load igmspec database\n",
    "skip_records = 0\n",
    "for ii,qq in enumerate(QPQ9):\n",
    "    # Skip if less than this \n",
    "    if ii < skip_records:\n",
    "        continue\n",
    "    # Skip J1249, not yet fluxed and ingested \n",
    "    if SkyCoord(qq['RA']*u.deg,qq['DEC']*u.deg).separation(SkyCoord('12h49m48.09s +06d07m09.2s')) < 0.5*u.arcsec:\n",
    "        continue\n",
    "    # Skip if in QPQ database\n",
    "    specs,metas = qpqsp.spectra_from_coord((qq['RA']*u.deg,qq['DEC']*u.deg),verbose=False)\n",
    "    if metas is not None:\n",
    "        continue\n",
    "    specs,metas = igmsp.spectra_from_coord((qq['RA']*u.deg,qq['DEC']*u.deg),verbose=False)\n",
    "    print(SkyCoord(qq['RA']*u.deg,qq['DEC']*u.deg).to_string('hmsdms'))\n",
    "    for ss,meta in enumerate(metas):\n",
    "        # Check if continuum file already exists\n",
    "        conti_path = '/Users/lwymarie/Dropbox/Marie_X/QPQ9/Continua/igmspec/'\n",
    "        ipos1 = 0\n",
    "        fileext = '.fits.gz'\n",
    "        ipos2 = meta['SPEC_FILE'][0].rfind(fileext)\n",
    "        if ipos2 == -1: \n",
    "            fileext = '.fit.gz'\n",
    "            ipos2 = meta['SPEC_FILE'][0].rfind(fileext)\n",
    "        if ipos2 == -1: # filename not in standard format\n",
    "            pdb.set_trace()\n",
    "        outfil = conti_path + meta['SPEC_FILE'][0][ipos1:ipos2] + '_c'+fileext\n",
    "        if os.path.isfile(outfil):\n",
    "            continue\n",
    "        # Inspect continuum \n",
    "        %matplotlib inline\n",
    "        specs[ss].plot()\n",
    "        print('CII lies in',np.rint(1334.5323*(1+ltu.z_from_v(qq['Z_FG'],-3000))),'to',\n",
    "              np.rint(1334.5323*(1+ltu.z_from_v(qq['Z_FG'],3000))),\n",
    "              'MgII lies in',np.rint(2796.352*(1+ltu.z_from_v(qq['Z_FG'],-3000))),'to',\n",
    "              np.rint(2796.352*(1+ltu.z_from_v(qq['Z_FG'],3000))))\n",
    "        fit_conti = raw_input('Fit continuum? y/n ')\n",
    "        if fit_conti == 'n':\n",
    "            continue\n",
    "        # Fit continuum\n",
    "        !rm -f _knots.jsn\n",
    "        specs[ss].co = None\n",
    "        %pylab\n",
    "        specs[ss].fit_continuum(kind='QSO',redshift=qq['BG_Z'])\n",
    "        prihdu = fits.PrimaryHDU(specs[ss].co.value)\n",
    "        # Save continuum to file \n",
    "        hdu = fits.HDUList([prihdu])\n",
    "        hdu.writeto(outfil,clobber=True)\n",
    "        print('Saved to:',outfil)"
   ]
  },
  {
   "cell_type": "markdown",
   "metadata": {},
   "source": [
    "# Generate continua for foreground quasars "
   ]
  },
  {
   "cell_type": "code",
   "execution_count": null,
   "metadata": {
    "collapsed": false
   },
   "outputs": [
    {
     "name": "stdout",
     "output_type": "stream",
     "text": [
      "Staged 1 spectra totalling 8.4e-05 Gb\n",
      "Loaded spectra\n",
      "14h44m29.4s +31d13m21.2s\n"
     ]
    },
    {
     "data": {
      "image/png": "[encoded data removed]",
      "text/plain": [
       "<matplotlib.figure.Figure at 0x11691c450>"
      ]
     },
     "metadata": {},
     "output_type": "display_data"
    },
    {
     "name": "stdout",
     "output_type": "stream",
     "text": [
      "('CII lies in', 3614.0, 'to', 3687.0, 'CIV lies in', 4193.0, 'to', 4278.0, 'MgII lies in', 7573.0, 'to', 7726.0)\n"
     ]
    }
   ],
   "source": [
    "# Only for z > 1.6\n",
    "high_z = np.where(QPQ9['Z_FG'] > 1.6)[0]\n",
    "skip_records = 70\n",
    "for ii,qq in enumerate(QPQ9[high_z]):\n",
    "    # Skip if less than this \n",
    "    if ii < skip_records:\n",
    "        continue\n",
    "    specs,metas = qpqsp.spectra_from_coord((qq['FG_RA']*u.deg,qq['FG_DEC']*u.deg),verbose=False)\n",
    "    if metas is None:\n",
    "        specs,metas = igmsp.spectra_from_coord((qq['FG_RA']*u.deg,qq['FG_DEC']*u.deg),verbose=False)\n",
    "        if metas is None:\n",
    "            continue\n",
    "        for ss,meta in enumerate(metas):\n",
    "            print(SkyCoord(meta['RA_GROUP']*u.deg,meta['DEC_GROUP']*u.deg).to_string('hmsdms'))\n",
    "            conti_path = '/Users/lwymarie/Dropbox/Marie_X/QPQ9/Continua/igmspec/'\n",
    "            ipos1 = 0\n",
    "            fileext = '.fit.gz'\n",
    "            ipos2 = meta['SPEC_FILE'].rfind(fileext)\n",
    "            if ipos2 == -1:\n",
    "                fileext = '.fits.gz'\n",
    "                ipos2 = meta['SPEC_FILE'].rfind(fileext)\n",
    "            if ipos2 == -1:\n",
    "                pdb.set_trace()\n",
    "            outfil = conti_path + meta['SPEC_FILE'][ipos1:ipos2]+'_c'+fileext\n",
    "            if os.path.isfile(outfil):\n",
    "                continue\n",
    "            covered = 0\n",
    "            if ((meta['WV_MAX'] > 2796.352*(1+ltu.z_from_dv(3000*u.km/u.s,qq['Z_FG']))) & \n",
    "                (meta['WV_MIN'] < 2796.352*(1+ltu.z_from_dv(-3000*u.km/u.s,qq['Z_FG'])))):\n",
    "                covered = 1\n",
    "            if ((meta['WV_MAX'] > 1548.195*(1+ltu.z_from_dv(3000*u.km/u.s,qq['Z_FG']))) & \n",
    "                (meta['WV_MIN'] < 1548.195*(1+ltu.z_from_dv(-3000*u.km/u.s,qq['Z_FG'])))):\n",
    "                covered = 1\n",
    "            if ((meta['WV_MAX'] > 1334.5323*(1+ltu.z_from_dv(3000*u.km/u.s,qq['Z_FG']))) & \n",
    "                (meta['WV_MIN'] < 1334.5323*(1+ltu.z_from_dv(-3000*u.km/u.s,qq['Z_FG'])))):\n",
    "                covered = 1\n",
    "            if covered == 0:\n",
    "                continue\n",
    "            %matplotlib inline\n",
    "            specs[ss].plot()\n",
    "            print('CII lies in',np.rint(1334.5323*(1+ltu.z_from_dv(-3000*u.km/u.s,qq['Z_FG']))),'to',\n",
    "                  np.rint(1334.5323*(1+ltu.z_from_dv(3000*u.km/u.s,qq['Z_FG']))),\n",
    "                  'CIV lies in',np.rint(1548.195*(1+ltu.z_from_dv(-3000*u.km/u.s,qq['Z_FG']))),'to',\n",
    "                  np.rint(1548.195*(1+ltu.z_from_dv(3000*u.km/u.s,qq['Z_FG']))),\n",
    "                  'MgII lies in',np.rint(2796.352*(1+ltu.z_from_dv(-3000*u.km/u.s,qq['Z_FG']))),'to',\n",
    "                  np.rint(2796.352*(1+ltu.z_from_dv(3000*u.km/u.s,qq['Z_FG']))))\n",
    "            fit_conti = raw_input('Fit continuum? y/n ')\n",
    "            if fit_conti == 'n':\n",
    "                continue\n",
    "            !rm -f _knots.jsn\n",
    "            specs[ss].co = None\n",
    "            %pylab\n",
    "            specs[ss].fit_continuum(kind='QSO',redshift=qq['Z_FG'])\n",
    "            prihdu = fits.PrimaryHDU(specs[ss].co.value) \n",
    "            hdu = fits.HDUList([prihdu])\n",
    "            hdu.writeto(outfil,clobber=True)\n",
    "            print('Saved to:',outfil)\n",
    "    else:\n",
    "#        continue # skip doing QPQ continua, done alraedy\n",
    "        for ss,meta in enumerate(metas):\n",
    "            print(SkyCoord(meta['RA_GROUP']*u.deg,meta['DEC_GROUP']*u.deg).to_string('hmsdms'))\n",
    "            # Check if continuum file already exists\n",
    "            conti_path = '/Users/lwymarie/Dropbox/Marie_X/QPQ9/Continua/QPQ/data/'\n",
    "            ipos1 = meta['SPEC_FILE'].rfind('data/')+5\n",
    "            fileext = '.fits.gz'\n",
    "            ipos2 = meta['SPEC_FILE'].rfind(fileext)\n",
    "            if ipos2 == -1: \n",
    "                fileext = '.fit.gz'\n",
    "                ipos2 = meta['SPEC_FILE'].rfind(fileext)\n",
    "            if ipos2 == -1:\n",
    "                fileext = '.fits'\n",
    "                ipos2 = meta['SPEC_FILE'].rfind(fileext)\n",
    "            if ipos2 == -1: # filename not in standard format\n",
    "                pdb.set_trace()\n",
    "            outfil = conti_path + meta['SPEC_FILE'][ipos1:ipos2] + '_c'+fileext\n",
    "            if os.path.isfile(outfil):\n",
    "                continue\n",
    "            # check if CII, CIV, MgII at z_fg is covered \n",
    "            covered = 0\n",
    "            if ((meta['WV_MAX'] > 2796.352*(1+ltu.z_from_dv(3000*u.km/u.s,qq['Z_FG']))) & \n",
    "                (meta['WV_MIN'] < 2796.352*(1+ltu.z_from_dv(-3000*u.km/u.s,qq['Z_FG'])))):\n",
    "                covered = 1\n",
    "            if ((meta['WV_MAX'] > 1548.195*(1+ltu.z_from_dv(3000*u.km/u.s,qq['Z_FG']))) & \n",
    "                (meta['WV_MIN'] < 1548.195*(1+ltu.z_from_dv(-3000*u.km/u.s,qq['Z_FG'])))):\n",
    "                covered = 1\n",
    "            if ((meta['WV_MAX'] > 1334.5323*(1+ltu.z_from_dv(3000*u.km/u.s,qq['Z_FG']))) & \n",
    "                (meta['WV_MIN'] < 1334.5323*(1+ltu.z_from_dv(-3000*u.km/u.s,qq['Z_FG'])))):\n",
    "                covered = 1\n",
    "            if covered == 0:\n",
    "                continue\n",
    "            # Inspect continuum \n",
    "            %matplotlib inline\n",
    "            specs[ss].plot()\n",
    "            print('CII lies in',np.rint(1334.5323*(1+ltu.z_from_dv(-3000*u.km/u.s,qq['Z_FG']))),'to',\n",
    "                  np.rint(1334.5323*(1+ltu.z_from_dv(3000*u.km/u.s,qq['Z_FG']))),\n",
    "                  'CIV lies in',np.rint(1548.195*(1+ltu.z_from_dv(-3000*u.km/u.s,qq['Z_FG']))),'to',\n",
    "                  np.rint(1548.195*(1+ltu.z_from_dv(3000*u.km/u.s,qq['Z_FG']))),\n",
    "                  'MgII lies in',np.rint(2796.352*(1+ltu.z_from_dv(-3000*u.km/u.s,qq['Z_FG']))),'to',\n",
    "                  np.rint(2796.352*(1+ltu.z_from_dv(3000*u.km/u.s,qq['Z_FG']))))\n",
    "            fit_conti = raw_input('Fit continuum? y/n ')\n",
    "            if fit_conti == 'n':\n",
    "                continue\n",
    "            # Fit continuum\n",
    "            !rm -f _knots.jsn\n",
    "            specs[ss].co = None\n",
    "            %pylab\n",
    "            specs[ss].fit_continuum(kind='QSO',redshift=qq['Z_FG'])\n",
    "            prihdu = fits.PrimaryHDU(specs[ss].co.value)\n",
    "            # Save continuum to file \n",
    "            hdu = fits.HDUList([prihdu])\n",
    "            hdu.writeto(outfil,clobber=True)\n",
    "            print('Saved to:',outfil)"
   ]
  },
  {
   "cell_type": "code",
   "execution_count": 4,
   "metadata": {
    "collapsed": false
   },
   "outputs": [
    {
     "name": "stdout",
     "output_type": "stream",
     "text": [
      "Staged 1 spectra totalling 0.00016 Gb\n",
      "Loaded spectra\n",
      "in QPQ\n",
      "('CII at z_em', 4287.8522799000002)\n",
      "('CIV at z_em', 4974.3505349999996)\n",
      "('MgII at z_em', 8984.6854019999992)\n"
     ]
    }
   ],
   "source": [
    "# for examining continua\n",
    "radec = '081420.38 +325016.1'\n",
    "specs,metas = qpqsp.spectra_from_coord(radec,verbose=False)\n",
    "if metas is not None:\n",
    "    print('in QPQ')\n",
    "    for ss,meta in enumerate(metas):\n",
    "        print('CII at z_em',(1+meta['zem_GROUP'])*1334.5323)\n",
    "        print('CIV at z_em',(1+meta['zem_GROUP'])*1548.195)\n",
    "        print('MgII at z_em',(1+meta['zem_GROUP'])*2796.354)\n",
    "        conti_path = '/Users/lwymarie/Dropbox/Marie_X/QPQ9/Continua/QPQ/data/'\n",
    "        ipos1 = meta['SPEC_FILE'].rfind('data/')+5\n",
    "        fileext = '.fits.gz'\n",
    "        ipos2 = meta['SPEC_FILE'].rfind(fileext)\n",
    "        if ipos2 == -1: \n",
    "            fileext = '.fit.gz'\n",
    "            ipos2 = meta['SPEC_FILE'].rfind(fileext)\n",
    "        if ipos2 == -1:\n",
    "            fileext = '.fits'\n",
    "            ipos2 = meta['SPEC_FILE'].rfind(fileext)\n",
    "        if ipos2 == -1: # filename not in standard format\n",
    "            pdb.set_trace()\n",
    "        cfil = conti_path + meta['SPEC_FILE'][ipos1:ipos2]+'_c'+fileext\n",
    "        if os.path.isfile(cfil):\n",
    "            print(cfil)\n",
    "            conti = fits.open(cfil)[0].data\n",
    "            specs[ss].co = conti\n",
    "        specs[ss].plot()\n",
    "    \n",
    "specs,metas = igmsp.spectra_from_coord(radec,verbose=False)\n",
    "if metas is not None:\n",
    "    print('in igmspec')\n",
    "    for ss,meta in enumerate(metas):\n",
    "        print('CII at z_em',(1+meta['zem_GROUP'])*1334.5323)\n",
    "        print('CIV at z_em',(1+meta['zem_GROUP'])*1548.195)\n",
    "        print('MgII at z_em',(1+meta['zem_GROUP'])*2796.354)\n",
    "        conti_path = '/Users/lwymarie/Dropbox/Marie_X/QPQ9/Continua/igmspec/'\n",
    "        ipos1 = 0\n",
    "        fileext = '.fit.gz'\n",
    "        ipos2 = meta['SPEC_FILE'].rfind(fileext)\n",
    "        if ipos2 == -1:\n",
    "            fileext = '.fits.gz'\n",
    "            ipos2 = meta['SPEC_FILE'].rfind(fileext)\n",
    "        if ipos2 == -1:\n",
    "            pdb.set_trace()\n",
    "        cfil = conti_path + meta['SPEC_FILE'][ipos1:ipos2]+'_c'+fileext\n",
    "        if os.path.isfile(cfil):\n",
    "            print(cfil)\n",
    "            conti = fits.open(cfil)[0].data\n",
    "            specs[ss].co = conti\n",
    "        specs[ss].plot()"
   ]
  },
  {
   "cell_type": "code",
   "execution_count": 4,
   "metadata": {
    "collapsed": false
   },
   "outputs": [
    {
     "name": "stdout",
     "output_type": "stream",
     "text": [
      "Staged 1 spectra totalling 0.0001 Gb\n",
      "Loaded spectra\n",
      "Staged 1 spectra totalling 0.00016 Gb\n",
      "Loaded spectra\n",
      "Staged 1 spectra totalling 2.4e-05 Gb\n",
      "Loaded spectra\n"
     ]
    },
    {
     "data": {
      "text/html": [
       "&lt;Table masked=True length=3&gt;\n",
       "<table id=\"table4473836496\" class=\"table-striped table-bordered table-condensed\">\n",
       "<thead><tr><th>RA_GROUP</th><th>DEC_GROUP</th><th>STYPE</th><th>zem_GROUP</th><th>sig_zem</th><th>flag_zem</th><th>IGM_ID</th><th>DATE-OBS</th><th>R</th><th>DISPERSER</th><th>TELESCOPE</th><th>INSTR</th><th>EPOCH</th><th>GROUP_ID</th><th>QPQ_ID</th><th>NPIX</th><th>WV_MIN</th><th>WV_MAX</th><th>SPEC_FILE</th><th>GROUP</th><th>VERSION</th></tr></thead>\n",
       "<thead><tr><th>float64</th><th>float64</th><th>str3</th><th>float64</th><th>float64</th><th>str8</th><th>int64</th><th>str10</th><th>float64</th><th>str12</th><th>str12</th><th>str6</th><th>float64</th><th>int64</th><th>int64</th><th>int64</th><th>float64</th><th>float64</th><th>str86</th><th>str4</th><th>str7</th></tr></thead>\n",
       "<tr><td>123.5816</td><td>32.8385</td><td>QSO</td><td>2.174</td><td>0.0</td><td>QPQ</td><td>51317</td><td>2004-11-18</td><td>1872.0</td><td>B1200+_G5301</td><td>Gemini-North</td><td>GMOS-N</td><td>2000.0</td><td>11</td><td>226</td><td>3215</td><td>3377.4</td><td>4881.1</td><td>/u/xavier/Dropbox//QSOPairs/data/GMOS_redux//./SDSSJ081419.59+325018.7_b1200_F.fits.gz</td><td>GMOS</td><td>--</td></tr>\n",
       "<tr><td>123.5816</td><td>32.8385</td><td>QSO</td><td>2.171</td><td>0.0</td><td>BOSS_PCA</td><td>51317</td><td>2000-01-01</td><td>2100.0</td><td>BOTH</td><td>SDSS 2.5-M</td><td>BOSS</td><td>2000.0</td><td>227</td><td>226</td><td>4616</td><td>3570.3</td><td>10332.4</td><td>/u/xavier/Dropbox//QSOPairs/data/BOSS/v5_5_0/SDSSJ081419.58+325018.7.fits</td><td>BOSS</td><td>v5_5_0</td></tr>\n",
       "<tr><td>123.5816</td><td>32.8385</td><td>QSO</td><td>2.171</td><td>0.0</td><td>BOSS_PCA</td><td>51317</td><td>2006-03-06</td><td>940.0</td><td>Hgrism_G5203</td><td>Gemini-North</td><td>NIRI</td><td>2000.0</td><td>3</td><td>226</td><td>1023</td><td>14066.1</td><td>19364.9</td><td>/u/xavier/Dropbox//QSOPairs/data/NIRI_redux//./SDSSJ081419.58+325018.7.fits</td><td>NIRI</td><td>--</td></tr>\n",
       "</table>"
      ]
     },
     "metadata": {},
     "output_type": "execute_result"
    }
   ],
   "source": [
    "specs,metas = qpqsp.spectra_from_coord(radec,verbose=False)\n",
    "metas"
   ]
  },
  {
   "cell_type": "code",
   "execution_count": 13,
   "metadata": {
    "collapsed": false
   },
   "outputs": [
    {
     "data": {
      "text/plain": [
       "True"
      ]
     },
     "execution_count": 13,
     "metadata": {},
     "output_type": "execute_result"
    }
   ],
   "source": [
    "specs[0].co_is_set"
   ]
  },
  {
   "cell_type": "code",
   "execution_count": 15,
   "metadata": {
    "collapsed": false
   },
   "outputs": [
    {
     "data": {
      "text/plain": [
       "4235.9699"
      ]
     },
     "execution_count": 15,
     "metadata": {},
     "output_type": "execute_result"
    }
   ],
   "source": []
  }
 ],
 "metadata": {
  "kernelspec": {
   "display_name": "Python 2",
   "language": "python",
   "name": "python2"
  },
  "language_info": {
   "codemirror_mode": {
    "name": "ipython",
    "version": 2
   },
   "file_extension": ".py",
   "mimetype": "text/x-python",
   "name": "python",
   "nbconvert_exporter": "python",
   "pygments_lexer": "ipython2",
   "version": "2.7.12"
  }
 },
 "nbformat": 4,
 "nbformat_minor": 0
}
