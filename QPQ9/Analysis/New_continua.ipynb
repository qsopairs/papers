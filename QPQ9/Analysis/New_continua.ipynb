{
 "cells": [
  {
   "cell_type": "markdown",
   "metadata": {},
   "source": [
    "# Generate new continua"
   ]
  },
  {
   "cell_type": "code",
   "execution_count": 18,
   "metadata": {},
   "outputs": [],
   "source": [
    "# Load QPQ9, do a qpqsp.spec_from_coord search, if return is not None,  \n",
    "# plot with continuum, prompt for generating new continuum, launch continuum fitting GUI, \n",
    "# save to a file \n",
    "# import\n",
    "from specdb.specdb import SpecDB, IgmSpec\n",
    "from astropy import units as u\n",
    "from astropy.io import fits\n",
    "from astropy.table import Table, vstack\n",
    "from astropy.coordinates import SkyCoord\n",
    "from xastropy.xutils import fits as xxf\n",
    "import linetools.utils as ltu\n",
    "import numpy as np\n",
    "import warnings\n",
    "import linetools.spectra.xspectrum1d as lsx\n",
    "import linetools.spectra.utils as ltsu\n",
    "import pdb,os.path\n",
    "import matplotlib.pyplot as plt\n",
    "warnings.filterwarnings('ignore')"
   ]
  },
  {
   "cell_type": "code",
   "execution_count": 2,
   "metadata": {},
   "outputs": [
    {
     "name": "stdout",
     "output_type": "stream",
     "text": [
      "x.fits.bintab_to_table: Reading /Users/lwymarie/python/enigma/enigma/data/qpq/qpq9_final.fits\n",
      "Database is QPQ\n",
      "Created on 2017-Jan-31\n",
      "Loading igmspec from /Users/lwymarie/Documents/Databases/IGMspec_DB_v02.1.hdf5\n",
      "Database is igmspec\n",
      "Created on 2017-Sep-18\n"
     ]
    }
   ],
   "source": [
    "# Load QPQ9 \n",
    "QPQ9 = xxf.bintab_to_table('/Users/lwymarie/python/enigma/enigma/data/qpq/qpq9_final.fits')\n",
    "# Load QPQ database\n",
    "qpq_fil = '/Users/lwymarie/Documents/Databases/qpq_oir_spec.hdf5'\n",
    "qpqsp = SpecDB(db_file=qpq_fil,verbose=False,idkey='QPQ_ID')\n",
    "igmsp = IgmSpec(version=\"02.1\")"
   ]
  },
  {
   "cell_type": "code",
   "execution_count": 5,
   "metadata": {},
   "outputs": [
    {
     "name": "stdout",
     "output_type": "stream",
     "text": [
      "Staged 1 spectra totalling 8.4e-05 Gb\n",
      "Loaded spectra\n",
      "RA_GROUP DEC_GROUP STYPE zem_GROUP ... INSTR TELESCOPE GROUP\n",
      "-------- --------- ----- --------- ... ----- --------- -----\n",
      "221.1165   31.2205   QSO     1.795 ... LRISb    Keck-I  LRIS\n"
     ]
    },
    {
     "data": {
      "image/png": "[encoded data removed]"
     },
     "output_type": "display_data",
     "metadata": {}
    },
    {
     "name": "stdout",
     "output_type": "stream",
     "text": [
      "14h44m27.97s +31d13m13.8s\n",
      "Fit continuum? y/n n\n"
     ]
    }
   ],
   "source": [
    "skip_records = 0\n",
    "for ii,qq in enumerate(QPQ9):\n",
    "    if ii < skip_records:\n",
    "        continue\n",
    "    specs,metas = qpqsp.spectra_from_coord((qq['RA']*u.deg,qq['DEC']*u.deg),verbose=False)\n",
    "    print(metas)\n",
    "    if metas is not None:\n",
    "        for ss,meta in enumerate(metas):\n",
    "            # Check if continuum file already exists\n",
    "            conti_path = '/Users/lwymarie/Dropbox/Marie_X/QPQ9/Continua/QPQ/data/'\n",
    "            ipos1 = meta['SPEC_FILE'].rfind('data/')+5\n",
    "            ipos2 = meta['SPEC_FILE'].rfind('.fits')\n",
    "            if ipos2 == -1: # filename not in standard format \n",
    "                pdb.set_trace()\n",
    "            if 'BOSS' in meta['SPEC_FILE'][0]:\n",
    "                outfil = conti_path + meta['SPEC_FILE'][ipos1:ipos2] + '_c.fits'\n",
    "            else:\n",
    "                outfil = conti_path + meta['SPEC_FILE'][ipos1:ipos2] + '_c.fits.gz'\n",
    "            if os.path.isfile(outfil):\n",
    "                continue\n",
    "            # Inspect continuum \n",
    "            %matplotlib inline\n",
    "            specs[ss].plot()\n",
    "            print(SkyCoord(meta['RA_GROUP']*u.deg,meta['DEC_GROUP']*u.deg).to_string('hmsdms'))\n",
    "            fit_conti = raw_input('Fit continuum? y/n ')\n",
    "            if fit_conti == 'n':\n",
    "                continue\n",
    "            # Fit continuum\n",
    "            !rm -f _knots.jsn\n",
    "            specs[ss].co = None\n",
    "            %pylab\n",
    "            specs[ss].fit_continuum(kind='QSO',redshift=qq['BG_Z'])\n",
    "            prihdu = fits.PrimaryHDU(specs[ss].co.value)\n",
    "            # Save continuum to file \n",
    "            hdu = fits.HDUList([prihdu])\n",
    "            hdu.writeto(outfil,clobber=True)\n",
    "            print('Saved to:',outfil)"
   ]
  },
  {
   "cell_type": "code",
   "execution_count": 6,
   "metadata": {},
   "outputs": [],
   "source": [
    "# Load igmspec database\n",
    "skip_records = 0\n",
    "for ii,qq in enumerate(QPQ9):\n",
    "    # Skip if less than this \n",
    "    if ii < skip_records:\n",
    "        continue\n",
    "    # Skip J1249, not yet fluxed and ingested \n",
    "    if SkyCoord(qq['RA']*u.deg,qq['DEC']*u.deg).separation(SkyCoord('12h49m48.09s +06d07m09.2s')) < 0.5*u.arcsec:\n",
    "        continue\n",
    "    # Skip if in QPQ database\n",
    "    specs,metas = qpqsp.spectra_from_coord((qq['RA']*u.deg,qq['DEC']*u.deg),verbose=False)\n",
    "    if metas is not None:\n",
    "        continue\n",
    "    specs,metas = igmsp.spectra_from_coord((qq['RA']*u.deg,qq['DEC']*u.deg),verbose=False)\n",
    "    print(SkyCoord(qq['RA']*u.deg,qq['DEC']*u.deg).to_string('hmsdms'))\n",
    "    for ss,meta in enumerate(metas):\n",
    "        # Check if continuum file already exists\n",
    "        conti_path = '/Users/lwymarie/Dropbox/Marie_X/QPQ9/Continua/igmspec/'\n",
    "        ipos1 = 0\n",
    "        fileext = '.fits.gz'\n",
    "        ipos2 = meta['SPEC_FILE'][0].rfind(fileext)\n",
    "        if ipos2 == -1: \n",
    "            fileext = '.fit.gz'\n",
    "            ipos2 = meta['SPEC_FILE'][0].rfind(fileext)\n",
    "        if ipos2 == -1: # filename not in standard format\n",
    "            pdb.set_trace()\n",
    "        outfil = conti_path + meta['SPEC_FILE'][0][ipos1:ipos2] + '_c'+fileext\n",
    "        if os.path.isfile(outfil):\n",
    "            continue\n",
    "        # Inspect continuum \n",
    "        %matplotlib inline\n",
    "        specs[ss].plot()\n",
    "        print('CII lies in',np.rint(1334.5323*(1+ltu.z_from_v(qq['Z_FG'],-3000))),'to',\n",
    "              np.rint(1334.5323*(1+ltu.z_from_v(qq['Z_FG'],3000))),\n",
    "              'MgII lies in',np.rint(2796.352*(1+ltu.z_from_v(qq['Z_FG'],-3000))),'to',\n",
    "              np.rint(2796.352*(1+ltu.z_from_v(qq['Z_FG'],3000))))\n",
    "        fit_conti = raw_input('Fit continuum? y/n ')\n",
    "        if fit_conti == 'n':\n",
    "            continue\n",
    "        # Fit continuum\n",
    "        !rm -f _knots.jsn\n",
    "        specs[ss].co = None\n",
    "        %pylab\n",
    "        specs[ss].fit_continuum(kind='QSO',redshift=qq['BG_Z'])\n",
    "        prihdu = fits.PrimaryHDU(specs[ss].co.value)\n",
    "        # Save continuum to file \n",
    "        hdu = fits.HDUList([prihdu])\n",
    "        hdu.writeto(outfil,clobber=True)\n",
    "        print('Saved to:',outfil)"
   ]
  },
  {
   "cell_type": "markdown",
   "metadata": {},
   "source": [
    "# Generate continua for foreground quasars "
   ]
  },
  {
   "cell_type": "code",
   "execution_count": 11,
   "metadata": {},
   "outputs": [
    {
     "name": "stdout",
     "output_type": "stream",
     "text": [
      "Staged 1 spectra totalling 8.4e-05 Gb\n",
      "Loaded spectra\n",
      "14h44m29.4s +31d13m21.2s\n"
     ]
    },
    {
     "data": {
      "image/png": "[encoded data removed]"
     },
     "output_type": "display_data",
     "metadata": {}
    },
    {
     "name": "stdout",
     "output_type": "stream",
     "text": [
      "('CII lies in', 3614.0, 'to', 3687.0, 'CIV lies in', 4193.0, 'to', 4278.0, 'MgII lies in', 7573.0, 'to', 7726.0)\n"
     ]
    },
    {
     "ename": "KeyboardInterrupt",
     "evalue": "",
     "output_type": "error",
     "traceback": [
      "\u001b[0;31m---------------------------------------------------------------------------\u001b[0m",
      "\u001b[0;31mKeyboardInterrupt\u001b[0m                         Traceback (most recent call last)",
      "\u001b[0;32m<ipython-input-11-7352b7cfa0c8>\u001b[0m in \u001b[0;36m<module>\u001b[0;34m()\u001b[0m\n\u001b[1;32m    100\u001b[0m                   \u001b[0;34m'MgII lies in'\u001b[0m\u001b[0;34m,\u001b[0m\u001b[0mnp\u001b[0m\u001b[0;34m.\u001b[0m\u001b[0mrint\u001b[0m\u001b[0;34m(\u001b[0m\u001b[0;36m2796.352\u001b[0m\u001b[0;34m*\u001b[0m\u001b[0;34m(\u001b[0m\u001b[0;36m1\u001b[0m\u001b[0;34m+\u001b[0m\u001b[0mltu\u001b[0m\u001b[0;34m.\u001b[0m\u001b[0mz_from_dv\u001b[0m\u001b[0;34m(\u001b[0m\u001b[0;34m-\u001b[0m\u001b[0;36m3000\u001b[0m\u001b[0;34m*\u001b[0m\u001b[0mu\u001b[0m\u001b[0;34m.\u001b[0m\u001b[0mkm\u001b[0m\u001b[0;34m/\u001b[0m\u001b[0mu\u001b[0m\u001b[0;34m.\u001b[0m\u001b[0ms\u001b[0m\u001b[0;34m,\u001b[0m\u001b[0mqq\u001b[0m\u001b[0;34m[\u001b[0m\u001b[0;34m'Z_FG'\u001b[0m\u001b[0;34m]\u001b[0m\u001b[0;34m)\u001b[0m\u001b[0;34m)\u001b[0m\u001b[0;34m)\u001b[0m\u001b[0;34m,\u001b[0m\u001b[0;34m'to'\u001b[0m\u001b[0;34m,\u001b[0m\u001b[0;34m\u001b[0m\u001b[0m\n\u001b[1;32m    101\u001b[0m                   np.rint(2796.352*(1+ltu.z_from_dv(3000*u.km/u.s,qq['Z_FG']))))\n\u001b[0;32m--> 102\u001b[0;31m             \u001b[0mfit_conti\u001b[0m \u001b[0;34m=\u001b[0m \u001b[0mraw_input\u001b[0m\u001b[0;34m(\u001b[0m\u001b[0;34m'Fit continuum? y/n '\u001b[0m\u001b[0;34m)\u001b[0m\u001b[0;34m\u001b[0m\u001b[0m\n\u001b[0m\u001b[1;32m    103\u001b[0m             \u001b[0;32mif\u001b[0m \u001b[0mfit_conti\u001b[0m \u001b[0;34m==\u001b[0m \u001b[0;34m'n'\u001b[0m\u001b[0;34m:\u001b[0m\u001b[0;34m\u001b[0m\u001b[0m\n\u001b[1;32m    104\u001b[0m                 \u001b[0;32mcontinue\u001b[0m\u001b[0;34m\u001b[0m\u001b[0m\n",
      "\u001b[0;32m/Users/lwymarie/anaconda/lib/python2.7/site-packages/ipykernel/kernelbase.pyc\u001b[0m in \u001b[0;36mraw_input\u001b[0;34m(self, prompt)\u001b[0m\n\u001b[1;32m    675\u001b[0m             \u001b[0mself\u001b[0m\u001b[0;34m.\u001b[0m\u001b[0m_parent_ident\u001b[0m\u001b[0;34m,\u001b[0m\u001b[0;34m\u001b[0m\u001b[0m\n\u001b[1;32m    676\u001b[0m             \u001b[0mself\u001b[0m\u001b[0;34m.\u001b[0m\u001b[0m_parent_header\u001b[0m\u001b[0;34m,\u001b[0m\u001b[0;34m\u001b[0m\u001b[0m\n\u001b[0;32m--> 677\u001b[0;31m             \u001b[0mpassword\u001b[0m\u001b[0;34m=\u001b[0m\u001b[0mFalse\u001b[0m\u001b[0;34m,\u001b[0m\u001b[0;34m\u001b[0m\u001b[0m\n\u001b[0m\u001b[1;32m    678\u001b[0m         )\n\u001b[1;32m    679\u001b[0m \u001b[0;34m\u001b[0m\u001b[0m\n",
      "\u001b[0;32m/Users/lwymarie/anaconda/lib/python2.7/site-packages/ipykernel/kernelbase.pyc\u001b[0m in \u001b[0;36m_input_request\u001b[0;34m(self, prompt, ident, parent, password)\u001b[0m\n\u001b[1;32m    705\u001b[0m             \u001b[0;32mexcept\u001b[0m \u001b[0mKeyboardInterrupt\u001b[0m\u001b[0;34m:\u001b[0m\u001b[0;34m\u001b[0m\u001b[0m\n\u001b[1;32m    706\u001b[0m                 \u001b[0;31m# re-raise KeyboardInterrupt, to truncate traceback\u001b[0m\u001b[0;34m\u001b[0m\u001b[0;34m\u001b[0m\u001b[0m\n\u001b[0;32m--> 707\u001b[0;31m                 \u001b[0;32mraise\u001b[0m \u001b[0mKeyboardInterrupt\u001b[0m\u001b[0;34m\u001b[0m\u001b[0m\n\u001b[0m\u001b[1;32m    708\u001b[0m             \u001b[0;32melse\u001b[0m\u001b[0;34m:\u001b[0m\u001b[0;34m\u001b[0m\u001b[0m\n\u001b[1;32m    709\u001b[0m                 \u001b[0;32mbreak\u001b[0m\u001b[0;34m\u001b[0m\u001b[0m\n",
      "\u001b[0;31mKeyboardInterrupt\u001b[0m: "
     ]
    }
   ],
   "source": [
    "# Only for z > 1.6\n",
    "high_z = np.where(QPQ9['Z_FG'] > 1.6)[0]\n",
    "skip_records = 70\n",
    "for ii,qq in enumerate(QPQ9[high_z]):\n",
    "    # Skip if less than this \n",
    "    if ii < skip_records:\n",
    "        continue\n",
    "    specs,metas = qpqsp.spectra_from_coord((qq['FG_RA']*u.deg,qq['FG_DEC']*u.deg),verbose=False)\n",
    "    if metas is None:\n",
    "        specs,metas = igmsp.spectra_from_coord((qq['FG_RA']*u.deg,qq['FG_DEC']*u.deg),verbose=False)\n",
    "        if metas is None:\n",
    "            continue\n",
    "        for ss,meta in enumerate(metas):\n",
    "            print(SkyCoord(meta['RA_GROUP']*u.deg,meta['DEC_GROUP']*u.deg).to_string('hmsdms'))\n",
    "            conti_path = '/Users/lwymarie/Dropbox/Marie_X/QPQ9/Continua/igmspec/'\n",
    "            ipos1 = 0\n",
    "            fileext = '.fit.gz'\n",
    "            ipos2 = meta['SPEC_FILE'].rfind(fileext)\n",
    "            if ipos2 == -1:\n",
    "                fileext = '.fits.gz'\n",
    "                ipos2 = meta['SPEC_FILE'].rfind(fileext)\n",
    "            if ipos2 == -1:\n",
    "                pdb.set_trace()\n",
    "            outfil = conti_path + meta['SPEC_FILE'][ipos1:ipos2]+'_c'+fileext\n",
    "            if os.path.isfile(outfil):\n",
    "                continue\n",
    "            covered = 0\n",
    "            if ((meta['WV_MAX'] > 2796.352*(1+ltu.z_from_dv(3000*u.km/u.s,qq['Z_FG']))) & \n",
    "                (meta['WV_MIN'] < 2796.352*(1+ltu.z_from_dv(-3000*u.km/u.s,qq['Z_FG'])))):\n",
    "                covered = 1\n",
    "            if ((meta['WV_MAX'] > 1548.195*(1+ltu.z_from_dv(3000*u.km/u.s,qq['Z_FG']))) & \n",
    "                (meta['WV_MIN'] < 1548.195*(1+ltu.z_from_dv(-3000*u.km/u.s,qq['Z_FG'])))):\n",
    "                covered = 1\n",
    "            if ((meta['WV_MAX'] > 1334.5323*(1+ltu.z_from_dv(3000*u.km/u.s,qq['Z_FG']))) & \n",
    "                (meta['WV_MIN'] < 1334.5323*(1+ltu.z_from_dv(-3000*u.km/u.s,qq['Z_FG'])))):\n",
    "                covered = 1\n",
    "            if covered == 0:\n",
    "                continue\n",
    "            %matplotlib inline\n",
    "            specs[ss].plot()\n",
    "            print('CII lies in',np.rint(1334.5323*(1+ltu.z_from_dv(-3000*u.km/u.s,qq['Z_FG']))),'to',\n",
    "                  np.rint(1334.5323*(1+ltu.z_from_dv(3000*u.km/u.s,qq['Z_FG']))),\n",
    "                  'CIV lies in',np.rint(1548.195*(1+ltu.z_from_dv(-3000*u.km/u.s,qq['Z_FG']))),'to',\n",
    "                  np.rint(1548.195*(1+ltu.z_from_dv(3000*u.km/u.s,qq['Z_FG']))),\n",
    "                  'MgII lies in',np.rint(2796.352*(1+ltu.z_from_dv(-3000*u.km/u.s,qq['Z_FG']))),'to',\n",
    "                  np.rint(2796.352*(1+ltu.z_from_dv(3000*u.km/u.s,qq['Z_FG']))))\n",
    "            fit_conti = raw_input('Fit continuum? y/n ')\n",
    "            if fit_conti == 'n':\n",
    "                continue\n",
    "            !rm -f _knots.jsn\n",
    "            specs[ss].co = None\n",
    "            %pylab\n",
    "            specs[ss].fit_continuum(kind='QSO',redshift=qq['Z_FG'])\n",
    "            prihdu = fits.PrimaryHDU(specs[ss].co.value) \n",
    "            hdu = fits.HDUList([prihdu])\n",
    "            hdu.writeto(outfil,clobber=True)\n",
    "            print('Saved to:',outfil)\n",
    "    else:\n",
    "#        continue # skip doing QPQ continua, done alraedy\n",
    "        for ss,meta in enumerate(metas):\n",
    "            print(SkyCoord(meta['RA_GROUP']*u.deg,meta['DEC_GROUP']*u.deg).to_string('hmsdms'))\n",
    "            # Check if continuum file already exists\n",
    "            conti_path = '/Users/lwymarie/Dropbox/Marie_X/QPQ9/Continua/QPQ/data/'\n",
    "            ipos1 = meta['SPEC_FILE'].rfind('data/')+5\n",
    "            fileext = '.fits.gz'\n",
    "            ipos2 = meta['SPEC_FILE'].rfind(fileext)\n",
    "            if ipos2 == -1: \n",
    "                fileext = '.fit.gz'\n",
    "                ipos2 = meta['SPEC_FILE'].rfind(fileext)\n",
    "            if ipos2 == -1:\n",
    "                fileext = '.fits'\n",
    "                ipos2 = meta['SPEC_FILE'].rfind(fileext)\n",
    "            if ipos2 == -1: # filename not in standard format\n",
    "                pdb.set_trace()\n",
    "            outfil = conti_path + meta['SPEC_FILE'][ipos1:ipos2] + '_c'+fileext\n",
    "            if os.path.isfile(outfil):\n",
    "                continue\n",
    "            # check if CII, CIV, MgII at z_fg is covered \n",
    "            covered = 0\n",
    "            if ((meta['WV_MAX'] > 2796.352*(1+ltu.z_from_dv(3000*u.km/u.s,qq['Z_FG']))) & \n",
    "                (meta['WV_MIN'] < 2796.352*(1+ltu.z_from_dv(-3000*u.km/u.s,qq['Z_FG'])))):\n",
    "                covered = 1\n",
    "            if ((meta['WV_MAX'] > 1548.195*(1+ltu.z_from_dv(3000*u.km/u.s,qq['Z_FG']))) & \n",
    "                (meta['WV_MIN'] < 1548.195*(1+ltu.z_from_dv(-3000*u.km/u.s,qq['Z_FG'])))):\n",
    "                covered = 1\n",
    "            if ((meta['WV_MAX'] > 1334.5323*(1+ltu.z_from_dv(3000*u.km/u.s,qq['Z_FG']))) & \n",
    "                (meta['WV_MIN'] < 1334.5323*(1+ltu.z_from_dv(-3000*u.km/u.s,qq['Z_FG'])))):\n",
    "                covered = 1\n",
    "            if covered == 0:\n",
    "                continue\n",
    "            # Inspect continuum \n",
    "            %matplotlib inline\n",
    "            specs[ss].plot()\n",
    "            print('CII lies in',np.rint(1334.5323*(1+ltu.z_from_dv(-3000*u.km/u.s,qq['Z_FG']))),'to',\n",
    "                  np.rint(1334.5323*(1+ltu.z_from_dv(3000*u.km/u.s,qq['Z_FG']))),\n",
    "                  'CIV lies in',np.rint(1548.195*(1+ltu.z_from_dv(-3000*u.km/u.s,qq['Z_FG']))),'to',\n",
    "                  np.rint(1548.195*(1+ltu.z_from_dv(3000*u.km/u.s,qq['Z_FG']))),\n",
    "                  'MgII lies in',np.rint(2796.352*(1+ltu.z_from_dv(-3000*u.km/u.s,qq['Z_FG']))),'to',\n",
    "                  np.rint(2796.352*(1+ltu.z_from_dv(3000*u.km/u.s,qq['Z_FG']))))\n",
    "            fit_conti = raw_input('Fit continuum? y/n ')\n",
    "            if fit_conti == 'n':\n",
    "                continue\n",
    "            # Fit continuum\n",
    "            !rm -f _knots.jsn\n",
    "            specs[ss].co = None\n",
    "            %pylab\n",
    "            specs[ss].fit_continuum(kind='QSO',redshift=qq['Z_FG'])\n",
    "            prihdu = fits.PrimaryHDU(specs[ss].co.value)\n",
    "            # Save continuum to file \n",
    "            hdu = fits.HDUList([prihdu])\n",
    "            hdu.writeto(outfil,clobber=True)\n",
    "            print('Saved to:',outfil)"
   ]
  },
  {
   "cell_type": "code",
   "execution_count": 4,
   "metadata": {},
   "outputs": [
    {
     "name": "stdout",
     "output_type": "stream",
     "text": [
      "Staged 1 spectra totalling 0.00016 Gb\n",
      "Loaded spectra\n",
      "in QPQ\n",
      "('CII at z_em', 4287.8522799000002)\n",
      "('CIV at z_em', 4974.3505349999996)\n",
      "('MgII at z_em', 8984.6854019999992)\n"
     ]
    }
   ],
   "source": [
    "# for examining continua\n",
    "radec = '081420.38 +325016.1'\n",
    "specs,metas = qpqsp.spectra_from_coord(radec,verbose=False)\n",
    "if metas is not None:\n",
    "    print('in QPQ')\n",
    "    for ss,meta in enumerate(metas):\n",
    "        print('CII at z_em',(1+meta['zem_GROUP'])*1334.5323)\n",
    "        print('CIV at z_em',(1+meta['zem_GROUP'])*1548.195)\n",
    "        print('MgII at z_em',(1+meta['zem_GROUP'])*2796.354)\n",
    "        conti_path = '/Users/lwymarie/Dropbox/Marie_X/QPQ9/Continua/QPQ/data/'\n",
    "        ipos1 = meta['SPEC_FILE'].rfind('data/')+5\n",
    "        fileext = '.fits.gz'\n",
    "        ipos2 = meta['SPEC_FILE'].rfind(fileext)\n",
    "        if ipos2 == -1: \n",
    "            fileext = '.fit.gz'\n",
    "            ipos2 = meta['SPEC_FILE'].rfind(fileext)\n",
    "        if ipos2 == -1:\n",
    "            fileext = '.fits'\n",
    "            ipos2 = meta['SPEC_FILE'].rfind(fileext)\n",
    "        if ipos2 == -1: # filename not in standard format\n",
    "            pdb.set_trace()\n",
    "        cfil = conti_path + meta['SPEC_FILE'][ipos1:ipos2]+'_c'+fileext\n",
    "        if os.path.isfile(cfil):\n",
    "            print(cfil)\n",
    "            conti = fits.open(cfil)[0].data\n",
    "            specs[ss].co = conti\n",
    "        specs[ss].plot()\n",
    "    \n",
    "specs,metas = igmsp.spectra_from_coord(radec,verbose=False)\n",
    "if metas is not None:\n",
    "    print('in igmspec')\n",
    "    for ss,meta in enumerate(metas):\n",
    "        print('CII at z_em',(1+meta['zem_GROUP'])*1334.5323)\n",
    "        print('CIV at z_em',(1+meta['zem_GROUP'])*1548.195)\n",
    "        print('MgII at z_em',(1+meta['zem_GROUP'])*2796.354)\n",
    "        conti_path = '/Users/lwymarie/Dropbox/Marie_X/QPQ9/Continua/igmspec/'\n",
    "        ipos1 = 0\n",
    "        fileext = '.fit.gz'\n",
    "        ipos2 = meta['SPEC_FILE'].rfind(fileext)\n",
    "        if ipos2 == -1:\n",
    "            fileext = '.fits.gz'\n",
    "            ipos2 = meta['SPEC_FILE'].rfind(fileext)\n",
    "        if ipos2 == -1:\n",
    "            pdb.set_trace()\n",
    "        cfil = conti_path + meta['SPEC_FILE'][ipos1:ipos2]+'_c'+fileext\n",
    "        if os.path.isfile(cfil):\n",
    "            print(cfil)\n",
    "            conti = fits.open(cfil)[0].data\n",
    "            specs[ss].co = conti\n",
    "        specs[ss].plot()"
   ]
  },
  {
   "cell_type": "code",
   "execution_count": 22,
   "metadata": {},
   "outputs": [
    {
     "name": "stdout",
     "output_type": "stream",
     "text": [
      "Staged 1 spectra totalling 0.0001 Gb\n",
      "Loaded spectra\n",
      "Staged 1 spectra totalling 0.0007 Gb\n",
      "Loaded spectra\n",
      "Staged 1 spectra totalling 8.4e-05 Gb\n",
      "Loaded spectra\n",
      "Staged 1 spectra totalling 0.0008 Gb\n",
      "Loaded spectra\n",
      "('CII at z_em', 4402.6384241960122)\n",
      "('CIV at z_em', 5107.5142918220454)\n",
      "('MgII at z_em', 9225.2061400493749)\n"
     ]
    },
    {
     "data": {
      "text/html": [
       "&lt;Table masked=True length=4&gt;\n",
       "<table id=\"table4378076816\" class=\"table-striped table-bordered table-condensed\">\n",
       "<thead><tr><th>RA_GROUP</th><th>DEC_GROUP</th><th>STYPE</th><th>zem_GROUP</th><th>sig_zem</th><th>flag_zem</th><th>IGM_ID</th><th>DATE-OBS</th><th>TELESCOPE</th><th>INSTR</th><th>R</th><th>EPOCH</th><th>GROUP_ID</th><th>QPQ_ID</th><th>NPIX</th><th>WV_MIN</th><th>WV_MAX</th><th>SPEC_FILE</th><th>DISPERSER</th><th>GROUP</th><th>VERSION</th></tr></thead>\n",
       "<thead><tr><th>float64</th><th>float64</th><th>str3</th><th>float64</th><th>float64</th><th>str8</th><th>int64</th><th>str10</th><th>str10</th><th>str8</th><th>float64</th><th>float64</th><th>int64</th><th>int64</th><th>int64</th><th>float64</th><th>float64</th><th>str86</th><th>str9</th><th>str8</th><th>str7</th></tr></thead>\n",
       "<tr><td>39.9435</td><td>-1.1123</td><td>QSO</td><td>3.129</td><td>0.0</td><td>QPQ</td><td>38195</td><td>2012-08-26</td><td>ESO-VLT-U2</td><td>XSHOOTER</td><td>8000.0</td><td>2000.0</td><td>6</td><td>134</td><td>39840</td><td>3100.0</td><td>22752.7</td><td>/u/xavier/Dropbox//QSOPairs/data/XSHOOTER_redux//./SDSSJ023946.44-010644.2_F.fits.gz</td><td>ALL</td><td>XSHOOTER</td><td>--</td></tr>\n",
       "<tr><td>39.9435</td><td>-1.1123</td><td>QSO</td><td>3.124</td><td>0.0</td><td>QPQ</td><td>38195</td><td>2000-01-01</td><td>SDSS 2.5-M</td><td>BOSS</td><td>2100.0</td><td>2000.0</td><td>135</td><td>134</td><td>4621</td><td>3567.0</td><td>10334.8</td><td>/u/xavier/Dropbox//QSOPairs/data/BOSS/v5_5_0/SDSSJ023946.45-010644.1.fits</td><td>BOTH</td><td>BOSS</td><td>v5_5_0</td></tr>\n",
       "<tr><td>39.9435</td><td>-1.1123</td><td>QSO</td><td>3.124</td><td>0.0</td><td>QPQ</td><td>38195</td><td>2014-02-05</td><td>Keck-II</td><td>ESI</td><td>4545.0</td><td>2000.0</td><td>11</td><td>134</td><td>27930</td><td>3993.0</td><td>10129.9</td><td>/u/xavier/Dropbox//QSOPairs/data/ESI_redux//./SDSSJ023946.44-010644.1_F.fits.gz</td><td>ECH</td><td>ESI</td><td>--</td></tr>\n",
       "<tr><td>39.9435</td><td>-1.1123</td><td>QSO</td><td>3.124</td><td>0.0</td><td>QPQ</td><td>38195</td><td>2007-01-18</td><td>Keck-I</td><td>LRISb</td><td>2180.0</td><td>2000.0</td><td>74</td><td>134</td><td>2048</td><td>3293.9</td><td>4329.7</td><td>/u/xavier/Dropbox//QSOPairs/data/LRIS_redux//./SDSSJ023946.44-010644.1_b1200_F.fits.gz</td><td>1200/3400</td><td>LRIS</td><td>--</td></tr>\n",
       "</table>"
      ]
     },
     "output_type": "execute_result",
     "metadata": {}
    }
   ],
   "source": [
    "radec = '023946.45-010644.1'\n",
    "for ii,qq in enumerate(QPQ9):\n",
    "    if (ltu.radec_to_coord(radec)).separation(SkyCoord(qq['RA']*u.deg,qq['DEC']*u.deg)) >= 1*u.arcsec:\n",
    "        continue\n",
    "    specs,metas = qpqsp.spectra_from_coord((qq['RA']*u.deg,qq['DEC']*u.deg),verbose=False)\n",
    "    if metas is None:\n",
    "        specs,metas = igmsp.spectra_from_coord((qq['RA']*u.deg,qq['DEC']*u.deg),verbose=False)\n",
    "    print('CII at z_em',(1+qq['Z_FG'])*1334.5323)\n",
    "    print('CIV at z_em',(1+qq['Z_FG'])*1548.195)\n",
    "    print('MgII at z_em',(1+qq['Z_FG'])*2796.354)\n",
    "    break\n",
    "    \n",
    "metas"
   ]
  },
  {
   "cell_type": "code",
   "execution_count": 25,
   "metadata": {},
   "outputs": [],
   "source": [
    "specs[1].plot()"
   ]
  },
  {
   "cell_type": "code",
   "execution_count": 62,
   "metadata": {},
   "outputs": [
    {
     "name": "stdout",
     "output_type": "stream",
     "text": [
      "Staged 1 spectra totalling 0.0001 Gb\n",
      "Loaded spectra\n",
      "Staged 1 spectra totalling 0.0007 Gb\n",
      "Loaded spectra\n",
      "Staged 1 spectra totalling 8.4e-05 Gb\n",
      "Loaded spectra\n",
      "Staged 1 spectra totalling 0.0008 Gb\n",
      "Loaded spectra\n",
      "Staged 1 spectra totalling 9.3e-05 Gb\n",
      "Loaded spectra\n",
      "Staged 1 spectra totalling 8e-05 Gb\n",
      "Loaded spectra\n"
     ]
    }
   ],
   "source": [
    "radec = '023946.45-010644.1'\n",
    "qpq_specs,qpq_metas = qpqsp.spectra_from_coord(radec,verbose=False)\n",
    "igm_specs,igm_metas = igmsp.spectra_from_coord(radec,verbose=False)\n",
    "specs = ltsu.collate([qpq_specs,igm_specs],masking='edges')\n",
    "specs[3].plot()\n",
    "#plt.plot(specs[1].wavelength,specs[1].flux)\n",
    "#plt.show()"
   ]
  },
  {
   "cell_type": "code",
   "execution_count": 27,
   "metadata": {},
   "outputs": [
    {
     "data": {
      "text/html": [
       "&lt;Table masked=True length=6&gt;\n",
       "<table id=\"table4948900368\" class=\"table-striped table-bordered table-condensed\">\n",
       "<thead><tr><th>RA_GROUP</th><th>DEC_GROUP</th><th>STYPE</th><th>zem_GROUP</th><th>sig_zem</th><th>flag_zem</th><th>IGM_ID</th><th>DATE-OBS</th><th>TELESCOPE</th><th>INSTR</th><th>R</th><th>EPOCH</th><th>GROUP_ID</th><th>QPQ_ID</th><th>NPIX</th><th>WV_MIN</th><th>WV_MAX</th><th>SPEC_FILE</th><th>DISPERSER</th><th>GROUP</th><th>VERSION</th><th>SDSS_NAME</th><th>THING_ID</th><th>PLATE</th><th>MJD</th><th>FIBERID</th><th>Z_VI</th><th>Z_PIPE</th><th>ERR_ZPIPE</th><th>ZWARNING</th><th>Z_PCA</th><th>ERR_ZPCA</th><th>PCA_QUAL</th><th>Z_CIV</th><th>Z_CIII</th><th>Z_MGII</th><th>SDSS_MORPHO</th><th>BOSS_TARGET1</th><th>ANCILLARY_TARGET1</th><th>ANCILLARY_TARGET2</th><th>EBOSS_TARGET0</th><th>NSPEC_BOSS</th><th>PLATE_DUPLICATE [32]</th><th>MJD_DUPLICATE [32]</th><th>FIBERID_DUPLICATE [32]</th><th>SDSS_DR7</th><th>PLATE_DR7</th><th>MJD_DR7</th><th>FIBERID_DR7</th><th>UNIFORM</th><th>ALPHA_NU</th><th>SNR_SPEC</th><th>SNR_DUPLICATE [32]</th><th>SNR_1700</th><th>SNR_3000</th><th>SNR_5150</th><th>FWHM_CIV</th><th>BHWHM_CIV</th><th>RHWHM_CIV</th><th>AMP_CIV</th><th>REWE_CIV</th><th>ERR_REWE_CIV</th><th>FWHM_CIII</th><th>BHWHM_CIII</th><th>RHWHM_CIII</th><th>AMP_CIII</th><th>REWE_CIII</th><th>ERR_REWE_CIII</th><th>FWHM_MGII</th><th>BHWHM_MGII</th><th>RHWHM_MGII</th><th>AMP_MGII</th><th>REWE_MGII</th><th>ERR_REWE_MGII</th><th>BAL_FLAG_VI</th><th>BI_CIV</th><th>ERR_BI_CIV</th><th>AI_CIV</th><th>ERR_AI_CIV</th><th>CHI2TROUGH</th><th>NCIV_2000</th><th>VMIN_CIV_2000</th><th>VMAX_CIV_2000</th><th>NCIV_450</th><th>VMIN_CIV_450</th><th>VMAX_CIV_450</th><th>REW_SIIV</th><th>REW_CIV</th><th>REW_ALIII</th><th>RUN_NUMBER</th><th>PHOTO_MJD</th><th>RERUN_NUMBER</th><th>COL_NUMBER</th><th>FIELD_NUMBER</th><th>OBJ_ID</th><th>PSFFLUX [5]</th><th>IVAR_PSFFLUX [5]</th><th>PSFMAG [5]</th><th>ERR_PSFMAG [5]</th><th>TARGET_FLUX [5]</th><th>MI</th><th>DGMI</th><th>EXTINCTION [5]</th><th>EXTINCTION_RECAL [5]</th><th>HI_GAL</th><th>VAR_MATCHED</th><th>VAR_CHI2</th><th>VAR_A</th><th>VAR_GAMMA</th><th>RASS_COUNTS</th><th>RASS_COUNTS_SNR</th><th>SDSS2ROSAT_SEP</th><th>N_DETECTION_XMM</th><th>FLUX02_12KEV_SGL</th><th>ERR_FLUX02_12KEV_SGL</th><th>FLUX02_2KEV</th><th>ERR_FLUX02_2KEV</th><th>FLUX2_12KEV</th><th>ERR_FLUX2_12KEV</th><th>FLUX02_12KEV</th><th>ERR_FLUX02_12KEV</th><th>LUM02_2KEV_SGL</th><th>LUM05_2KEV</th><th>LUM2_12KEV</th><th>LUM02_2KEV</th><th>LUMX2_10_UPPER</th><th>SDSS2XMM_SEP</th><th>GALEX_MATCHED</th><th>FUV</th><th>FUV_IVAR</th><th>NUV</th><th>NUV_IVAR</th><th>JMAG</th><th>ERR_JMAG</th><th>JSNR</th><th>JRDFLAG</th><th>HMAG</th><th>ERR_HMAG</th><th>HSNR</th><th>HRDFLAG</th><th>KMAG</th><th>ERR_KMAG</th><th>KSNR</th><th>KRDFLAG</th><th>SDSS2MASS_SEP</th><th>W1MAG</th><th>ERR_W1MAG</th><th>W1SNR</th><th>W1CHI2</th><th>W2MAG</th><th>ERR_W2MAG</th><th>W2SNR</th><th>W2CHI2</th><th>W3MAG</th><th>ERR_W3MAG</th><th>W3SNR</th><th>W3CHI2</th><th>W4MAG</th><th>ERR_W4MAG</th><th>W4SNR</th><th>W4CHI2</th><th>CC_FLAGS</th><th>PH_FLAG</th><th>SDSS2WISE_SEP</th><th>UKIDSS_MATCHED</th><th>YFLUX</th><th>YFLUX_ERR</th><th>JFLUX</th><th>JFLUX_ERR</th><th>HFLUX</th><th>HFLUX_ERR</th><th>KFLUX</th><th>KFLUX_ERR</th><th>FIRST_MATCHED</th><th>FIRST_FLUX</th><th>FIRST_SNR</th><th>SDSS2FIRST_SEP</th><th>CAT</th><th>SDSSJ</th><th>UMAG</th><th>UMAGERR</th><th>GMAG</th><th>GMAGERR</th><th>RMAG</th><th>RMAGERR</th><th>IMAG</th><th>IMAGERR</th><th>ZMAG</th><th>ZMAGERR</th><th>AU</th><th>logNH</th><th>FIRSTMAG</th><th>FIRSTSN</th><th>FIRSTDEL</th><th>RASSCNT</th><th>RASSSN</th><th>RASSDEL</th><th>JMAGERR</th><th>HMAGERR</th><th>KMAGERR</th><th>MASSDEL</th><th>MASSFLG</th><th>MIMAG</th><th>MFLAG</th><th>SPFLAG</th><th>MODEFLAG</th><th>USELFLAG</th><th>BESTFLAG</th><th>LZFLAG</th><th>HZFLAG</th><th>FTFLAG</th><th>RTFLAG</th><th>SRFLAG</th><th>STFLAG</th><th>GXFLAG</th><th>RUN</th><th>RMJD</th><th>SMJD</th><th>FIBER</th><th>RERUN</th><th>CAMCOL</th><th>FIELD</th><th>OBJECT</th><th>TFLAG</th><th>LZTFLAG</th><th>HZTFLAG</th><th>FTTFLAG</th><th>RTTFLAG</th><th>SRTFLAG</th><th>STTFLAG</th><th>GXTFLAG</th><th>UTMAG</th><th>UTMAGERR</th><th>GTMAG</th><th>GTMAGERR</th><th>RTMAG</th><th>RTMAGERR</th><th>ITMAG</th><th>ITMAGERR</th><th>ZTMAG</th><th>ZTMAGERR</th><th>BESTID</th><th>SPECOID</th><th>ONAME</th></tr></thead>\n",
       "<thead><tr><th>float64</th><th>float64</th><th>str3</th><th>float64</th><th>float64</th><th>str10</th><th>int64</th><th>str10</th><th>str10</th><th>str8</th><th>float64</th><th>float64</th><th>int64</th><th>int64</th><th>int64</th><th>float64</th><th>float64</th><th>str86</th><th>str9</th><th>str9</th><th>str7</th><th>str18</th><th>int32</th><th>int32</th><th>int32</th><th>int32</th><th>float64</th><th>float64</th><th>float64</th><th>int32</th><th>float64</th><th>float64</th><th>float64</th><th>float64</th><th>float64</th><th>float64</th><th>int32</th><th>int64</th><th>int64</th><th>int64</th><th>int64</th><th>int32</th><th>int32</th><th>int32</th><th>int32</th><th>int32</th><th>int32</th><th>int32</th><th>int32</th><th>int16</th><th>float64</th><th>float64</th><th>float64</th><th>float64</th><th>float64</th><th>float64</th><th>float64</th><th>float64</th><th>float64</th><th>float64</th><th>float64</th><th>float64</th><th>float64</th><th>float64</th><th>float64</th><th>float64</th><th>float64</th><th>float64</th><th>float64</th><th>float64</th><th>float64</th><th>float64</th><th>float64</th><th>float64</th><th>int32</th><th>float64</th><th>float64</th><th>float64</th><th>float64</th><th>float64</th><th>int32</th><th>float64</th><th>float64</th><th>int32</th><th>float64</th><th>float64</th><th>float64</th><th>float64</th><th>float64</th><th>int16</th><th>int32</th><th>str3</th><th>int16</th><th>int16</th><th>str19</th><th>float64</th><th>float64</th><th>float64</th><th>float64</th><th>float64</th><th>float64</th><th>float64</th><th>float64</th><th>float32</th><th>float64</th><th>int16</th><th>float64</th><th>float64</th><th>float64</th><th>float64</th><th>float64</th><th>float64</th><th>int16</th><th>float64</th><th>float64</th><th>float64</th><th>float64</th><th>float64</th><th>float64</th><th>float64</th><th>float64</th><th>float64</th><th>float64</th><th>float64</th><th>float64</th><th>int16</th><th>float64</th><th>int16</th><th>float64</th><th>float64</th><th>float64</th><th>float64</th><th>float64</th><th>float64</th><th>float64</th><th>int32</th><th>float64</th><th>float64</th><th>float64</th><th>int32</th><th>float64</th><th>float64</th><th>float64</th><th>int32</th><th>float64</th><th>float64</th><th>float64</th><th>float64</th><th>float64</th><th>float64</th><th>float64</th><th>float64</th><th>float64</th><th>float64</th><th>float64</th><th>float64</th><th>float64</th><th>float64</th><th>float64</th><th>float64</th><th>float64</th><th>str4</th><th>str4</th><th>float64</th><th>int16</th><th>float32</th><th>float32</th><th>float32</th><th>float32</th><th>float32</th><th>float32</th><th>float32</th><th>float32</th><th>int16</th><th>float64</th><th>float64</th><th>float64</th><th>str5</th><th>str31</th><th>float64</th><th>float64</th><th>float64</th><th>float64</th><th>float64</th><th>float64</th><th>float64</th><th>float64</th><th>float64</th><th>float64</th><th>float64</th><th>float64</th><th>float64</th><th>float64</th><th>float64</th><th>float64</th><th>float64</th><th>float64</th><th>float64</th><th>float64</th><th>float64</th><th>float64</th><th>int32</th><th>float64</th><th>int32</th><th>int32</th><th>int32</th><th>int32</th><th>int32</th><th>int32</th><th>int32</th><th>int32</th><th>int32</th><th>int32</th><th>int32</th><th>int32</th><th>int32</th><th>int32</th><th>int32</th><th>int32</th><th>int32</th><th>int32</th><th>int32</th><th>int32</th><th>int32</th><th>int32</th><th>int32</th><th>int32</th><th>int32</th><th>int32</th><th>int32</th><th>int32</th><th>float64</th><th>float64</th><th>float64</th><th>float64</th><th>float64</th><th>float64</th><th>float64</th><th>float64</th><th>float64</th><th>float64</th><th>str31</th><th>str31</th><th>str31</th></tr></thead>\n",
       "<tr><td>39.9435</td><td>-1.1123</td><td>QSO</td><td>3.129</td><td>0.0</td><td>QPQ</td><td>38195</td><td>2012-08-26</td><td>ESO-VLT-U2</td><td>XSHOOTER</td><td>8000.0</td><td>2000.0</td><td>6</td><td>134</td><td>39840</td><td>3100.0</td><td>22752.7</td><td>/u/xavier/Dropbox//QSOPairs/data/XSHOOTER_redux//./SDSSJ023946.44-010644.2_F.fits.gz</td><td>ALL</td><td>XSHOOTER</td><td>--</td><td>--</td><td>--</td><td>--</td><td>--</td><td>--</td><td>--</td><td>--</td><td>--</td><td>--</td><td>--</td><td>--</td><td>--</td><td>--</td><td>--</td><td>--</td><td>--</td><td>--</td><td>--</td><td>--</td><td>--</td><td>--</td><td>-- .. --</td><td>-- .. --</td><td>-- .. --</td><td>--</td><td>--</td><td>--</td><td>--</td><td>--</td><td>--</td><td>--</td><td>-- .. --</td><td>--</td><td>--</td><td>--</td><td>--</td><td>--</td><td>--</td><td>--</td><td>--</td><td>--</td><td>--</td><td>--</td><td>--</td><td>--</td><td>--</td><td>--</td><td>--</td><td>--</td><td>--</td><td>--</td><td>--</td><td>--</td><td>--</td><td>--</td><td>--</td><td>--</td><td>--</td><td>--</td><td>--</td><td>--</td><td>--</td><td>--</td><td>--</td><td>--</td><td>--</td><td>--</td><td>--</td><td>--</td><td>--</td><td>--</td><td>--</td><td>--</td><td>--</td><td>-- .. --</td><td>-- .. --</td><td>-- .. --</td><td>-- .. --</td><td>-- .. --</td><td>--</td><td>--</td><td>-- .. --</td><td>-- .. --</td><td>--</td><td>--</td><td>--</td><td>--</td><td>--</td><td>--</td><td>--</td><td>--</td><td>--</td><td>--</td><td>--</td><td>--</td><td>--</td><td>--</td><td>--</td><td>--</td><td>--</td><td>--</td><td>--</td><td>--</td><td>--</td><td>--</td><td>--</td><td>--</td><td>--</td><td>--</td><td>--</td><td>--</td><td>--</td><td>--</td><td>--</td><td>--</td><td>--</td><td>--</td><td>--</td><td>--</td><td>--</td><td>--</td><td>--</td><td>--</td><td>--</td><td>--</td><td>--</td><td>--</td><td>--</td><td>--</td><td>--</td><td>--</td><td>--</td><td>--</td><td>--</td><td>--</td><td>--</td><td>--</td><td>--</td><td>--</td><td>--</td><td>--</td><td>--</td><td>--</td><td>--</td><td>--</td><td>--</td><td>--</td><td>--</td><td>--</td><td>--</td><td>--</td><td>--</td><td>--</td><td>--</td><td>--</td><td>--</td><td>--</td><td>--</td><td>--</td><td>--</td><td>--</td><td>--</td><td>--</td><td>--</td><td>--</td><td>--</td><td>--</td><td>--</td><td>--</td><td>--</td><td>--</td><td>--</td><td>--</td><td>--</td><td>--</td><td>--</td><td>--</td><td>--</td><td>--</td><td>--</td><td>--</td><td>--</td><td>--</td><td>--</td><td>--</td><td>--</td><td>--</td><td>--</td><td>--</td><td>--</td><td>--</td><td>--</td><td>--</td><td>--</td><td>--</td><td>--</td><td>--</td><td>--</td><td>--</td><td>--</td><td>--</td><td>--</td><td>--</td><td>--</td><td>--</td><td>--</td><td>--</td><td>--</td><td>--</td><td>--</td><td>--</td><td>--</td><td>--</td><td>--</td><td>--</td><td>--</td><td>--</td><td>--</td><td>--</td><td>--</td><td>--</td><td>--</td><td>--</td></tr>\n",
       "<tr><td>39.9435</td><td>-1.1123</td><td>QSO</td><td>3.124</td><td>0.0</td><td>QPQ</td><td>38195</td><td>2000-01-01</td><td>SDSS 2.5-M</td><td>BOSS</td><td>2100.0</td><td>2000.0</td><td>135</td><td>134</td><td>4621</td><td>3567.0</td><td>10334.8</td><td>/u/xavier/Dropbox//QSOPairs/data/BOSS/v5_5_0/SDSSJ023946.45-010644.1.fits</td><td>BOTH</td><td>BOSS</td><td>v5_5_0</td><td>--</td><td>--</td><td>--</td><td>--</td><td>--</td><td>--</td><td>--</td><td>--</td><td>--</td><td>--</td><td>--</td><td>--</td><td>--</td><td>--</td><td>--</td><td>--</td><td>--</td><td>--</td><td>--</td><td>--</td><td>--</td><td>-- .. --</td><td>-- .. --</td><td>-- .. --</td><td>--</td><td>--</td><td>--</td><td>--</td><td>--</td><td>--</td><td>--</td><td>-- .. --</td><td>--</td><td>--</td><td>--</td><td>--</td><td>--</td><td>--</td><td>--</td><td>--</td><td>--</td><td>--</td><td>--</td><td>--</td><td>--</td><td>--</td><td>--</td><td>--</td><td>--</td><td>--</td><td>--</td><td>--</td><td>--</td><td>--</td><td>--</td><td>--</td><td>--</td><td>--</td><td>--</td><td>--</td><td>--</td><td>--</td><td>--</td><td>--</td><td>--</td><td>--</td><td>--</td><td>--</td><td>--</td><td>--</td><td>--</td><td>--</td><td>--</td><td>--</td><td>-- .. --</td><td>-- .. --</td><td>-- .. --</td><td>-- .. --</td><td>-- .. --</td><td>--</td><td>--</td><td>-- .. --</td><td>-- .. --</td><td>--</td><td>--</td><td>--</td><td>--</td><td>--</td><td>--</td><td>--</td><td>--</td><td>--</td><td>--</td><td>--</td><td>--</td><td>--</td><td>--</td><td>--</td><td>--</td><td>--</td><td>--</td><td>--</td><td>--</td><td>--</td><td>--</td><td>--</td><td>--</td><td>--</td><td>--</td><td>--</td><td>--</td><td>--</td><td>--</td><td>--</td><td>--</td><td>--</td><td>--</td><td>--</td><td>--</td><td>--</td><td>--</td><td>--</td><td>--</td><td>--</td><td>--</td><td>--</td><td>--</td><td>--</td><td>--</td><td>--</td><td>--</td><td>--</td><td>--</td><td>--</td><td>--</td><td>--</td><td>--</td><td>--</td><td>--</td><td>--</td><td>--</td><td>--</td><td>--</td><td>--</td><td>--</td><td>--</td><td>--</td><td>--</td><td>--</td><td>--</td><td>--</td><td>--</td><td>--</td><td>--</td><td>--</td><td>--</td><td>--</td><td>--</td><td>--</td><td>--</td><td>--</td><td>--</td><td>--</td><td>--</td><td>--</td><td>--</td><td>--</td><td>--</td><td>--</td><td>--</td><td>--</td><td>--</td><td>--</td><td>--</td><td>--</td><td>--</td><td>--</td><td>--</td><td>--</td><td>--</td><td>--</td><td>--</td><td>--</td><td>--</td><td>--</td><td>--</td><td>--</td><td>--</td><td>--</td><td>--</td><td>--</td><td>--</td><td>--</td><td>--</td><td>--</td><td>--</td><td>--</td><td>--</td><td>--</td><td>--</td><td>--</td><td>--</td><td>--</td><td>--</td><td>--</td><td>--</td><td>--</td><td>--</td><td>--</td><td>--</td><td>--</td><td>--</td><td>--</td><td>--</td><td>--</td><td>--</td><td>--</td><td>--</td><td>--</td><td>--</td><td>--</td><td>--</td><td>--</td></tr>\n",
       "<tr><td>39.9435</td><td>-1.1123</td><td>QSO</td><td>3.124</td><td>0.0</td><td>QPQ</td><td>38195</td><td>2014-02-05</td><td>Keck-II</td><td>ESI</td><td>4545.0</td><td>2000.0</td><td>11</td><td>134</td><td>27930</td><td>3993.0</td><td>10129.9</td><td>/u/xavier/Dropbox//QSOPairs/data/ESI_redux//./SDSSJ023946.44-010644.1_F.fits.gz</td><td>ECH</td><td>ESI</td><td>--</td><td>--</td><td>--</td><td>--</td><td>--</td><td>--</td><td>--</td><td>--</td><td>--</td><td>--</td><td>--</td><td>--</td><td>--</td><td>--</td><td>--</td><td>--</td><td>--</td><td>--</td><td>--</td><td>--</td><td>--</td><td>--</td><td>-- .. --</td><td>-- .. --</td><td>-- .. --</td><td>--</td><td>--</td><td>--</td><td>--</td><td>--</td><td>--</td><td>--</td><td>-- .. --</td><td>--</td><td>--</td><td>--</td><td>--</td><td>--</td><td>--</td><td>--</td><td>--</td><td>--</td><td>--</td><td>--</td><td>--</td><td>--</td><td>--</td><td>--</td><td>--</td><td>--</td><td>--</td><td>--</td><td>--</td><td>--</td><td>--</td><td>--</td><td>--</td><td>--</td><td>--</td><td>--</td><td>--</td><td>--</td><td>--</td><td>--</td><td>--</td><td>--</td><td>--</td><td>--</td><td>--</td><td>--</td><td>--</td><td>--</td><td>--</td><td>--</td><td>--</td><td>-- .. --</td><td>-- .. --</td><td>-- .. --</td><td>-- .. --</td><td>-- .. --</td><td>--</td><td>--</td><td>-- .. --</td><td>-- .. --</td><td>--</td><td>--</td><td>--</td><td>--</td><td>--</td><td>--</td><td>--</td><td>--</td><td>--</td><td>--</td><td>--</td><td>--</td><td>--</td><td>--</td><td>--</td><td>--</td><td>--</td><td>--</td><td>--</td><td>--</td><td>--</td><td>--</td><td>--</td><td>--</td><td>--</td><td>--</td><td>--</td><td>--</td><td>--</td><td>--</td><td>--</td><td>--</td><td>--</td><td>--</td><td>--</td><td>--</td><td>--</td><td>--</td><td>--</td><td>--</td><td>--</td><td>--</td><td>--</td><td>--</td><td>--</td><td>--</td><td>--</td><td>--</td><td>--</td><td>--</td><td>--</td><td>--</td><td>--</td><td>--</td><td>--</td><td>--</td><td>--</td><td>--</td><td>--</td><td>--</td><td>--</td><td>--</td><td>--</td><td>--</td><td>--</td><td>--</td><td>--</td><td>--</td><td>--</td><td>--</td><td>--</td><td>--</td><td>--</td><td>--</td><td>--</td><td>--</td><td>--</td><td>--</td><td>--</td><td>--</td><td>--</td><td>--</td><td>--</td><td>--</td><td>--</td><td>--</td><td>--</td><td>--</td><td>--</td><td>--</td><td>--</td><td>--</td><td>--</td><td>--</td><td>--</td><td>--</td><td>--</td><td>--</td><td>--</td><td>--</td><td>--</td><td>--</td><td>--</td><td>--</td><td>--</td><td>--</td><td>--</td><td>--</td><td>--</td><td>--</td><td>--</td><td>--</td><td>--</td><td>--</td><td>--</td><td>--</td><td>--</td><td>--</td><td>--</td><td>--</td><td>--</td><td>--</td><td>--</td><td>--</td><td>--</td><td>--</td><td>--</td><td>--</td><td>--</td><td>--</td><td>--</td><td>--</td><td>--</td><td>--</td><td>--</td><td>--</td><td>--</td><td>--</td><td>--</td><td>--</td></tr>\n",
       "<tr><td>39.9435</td><td>-1.1123</td><td>QSO</td><td>3.124</td><td>0.0</td><td>QPQ</td><td>38195</td><td>2007-01-18</td><td>Keck-I</td><td>LRISb</td><td>2180.0</td><td>2000.0</td><td>74</td><td>134</td><td>2048</td><td>3293.9</td><td>4329.7</td><td>/u/xavier/Dropbox//QSOPairs/data/LRIS_redux//./SDSSJ023946.44-010644.1_b1200_F.fits.gz</td><td>1200/3400</td><td>LRIS</td><td>--</td><td>--</td><td>--</td><td>--</td><td>--</td><td>--</td><td>--</td><td>--</td><td>--</td><td>--</td><td>--</td><td>--</td><td>--</td><td>--</td><td>--</td><td>--</td><td>--</td><td>--</td><td>--</td><td>--</td><td>--</td><td>--</td><td>-- .. --</td><td>-- .. --</td><td>-- .. --</td><td>--</td><td>--</td><td>--</td><td>--</td><td>--</td><td>--</td><td>--</td><td>-- .. --</td><td>--</td><td>--</td><td>--</td><td>--</td><td>--</td><td>--</td><td>--</td><td>--</td><td>--</td><td>--</td><td>--</td><td>--</td><td>--</td><td>--</td><td>--</td><td>--</td><td>--</td><td>--</td><td>--</td><td>--</td><td>--</td><td>--</td><td>--</td><td>--</td><td>--</td><td>--</td><td>--</td><td>--</td><td>--</td><td>--</td><td>--</td><td>--</td><td>--</td><td>--</td><td>--</td><td>--</td><td>--</td><td>--</td><td>--</td><td>--</td><td>--</td><td>--</td><td>-- .. --</td><td>-- .. --</td><td>-- .. --</td><td>-- .. --</td><td>-- .. --</td><td>--</td><td>--</td><td>-- .. --</td><td>-- .. --</td><td>--</td><td>--</td><td>--</td><td>--</td><td>--</td><td>--</td><td>--</td><td>--</td><td>--</td><td>--</td><td>--</td><td>--</td><td>--</td><td>--</td><td>--</td><td>--</td><td>--</td><td>--</td><td>--</td><td>--</td><td>--</td><td>--</td><td>--</td><td>--</td><td>--</td><td>--</td><td>--</td><td>--</td><td>--</td><td>--</td><td>--</td><td>--</td><td>--</td><td>--</td><td>--</td><td>--</td><td>--</td><td>--</td><td>--</td><td>--</td><td>--</td><td>--</td><td>--</td><td>--</td><td>--</td><td>--</td><td>--</td><td>--</td><td>--</td><td>--</td><td>--</td><td>--</td><td>--</td><td>--</td><td>--</td><td>--</td><td>--</td><td>--</td><td>--</td><td>--</td><td>--</td><td>--</td><td>--</td><td>--</td><td>--</td><td>--</td><td>--</td><td>--</td><td>--</td><td>--</td><td>--</td><td>--</td><td>--</td><td>--</td><td>--</td><td>--</td><td>--</td><td>--</td><td>--</td><td>--</td><td>--</td><td>--</td><td>--</td><td>--</td><td>--</td><td>--</td><td>--</td><td>--</td><td>--</td><td>--</td><td>--</td><td>--</td><td>--</td><td>--</td><td>--</td><td>--</td><td>--</td><td>--</td><td>--</td><td>--</td><td>--</td><td>--</td><td>--</td><td>--</td><td>--</td><td>--</td><td>--</td><td>--</td><td>--</td><td>--</td><td>--</td><td>--</td><td>--</td><td>--</td><td>--</td><td>--</td><td>--</td><td>--</td><td>--</td><td>--</td><td>--</td><td>--</td><td>--</td><td>--</td><td>--</td><td>--</td><td>--</td><td>--</td><td>--</td><td>--</td><td>--</td><td>--</td><td>--</td><td>--</td><td>--</td><td>--</td><td>--</td><td>--</td><td>--</td><td>--</td></tr>\n",
       "<tr><td>39.9435</td><td>-1.1123</td><td>QSO</td><td>3.137</td><td>0.00350664739978</td><td>BOSS_PCA</td><td>38195</td><td>2010-09-16</td><td>SDSS 2.5-M</td><td>BOSS</td><td>2100.0</td><td>2000.0</td><td>38234</td><td>--</td><td>4607</td><td>3567.0</td><td>10301.5</td><td>spec-4240-55455-0374.fits.gz</td><td>BOTH</td><td>BOSS_DR12</td><td>--</td><td>023946.44-010644.1</td><td>68815692</td><td>4240</td><td>55455</td><td>374</td><td>3.12694954872</td><td>3.12694954872</td><td>0.000292498792987</td><td>0</td><td>3.13665712502</td><td>0.00350664739978</td><td>0.0945370473018</td><td>3.12789905483</td><td>3.14910672187</td><td>-1.0</td><td>0</td><td>2199023259648</td><td>0</td><td>0</td><td>0</td><td>1</td><td>3745 .. -1</td><td>55234 .. -1</td><td>2 .. -1</td><td>1</td><td>706</td><td>52199</td><td>133</td><td>2</td><td>0.373687414137</td><td>1.50201263399</td><td>3.00337854653 .. -1.0</td><td>1.96093908059</td><td>-1.0</td><td>-1.0</td><td>4507.82712218</td><td>1626.42773504</td><td>2881.39938714</td><td>5.44971730538</td><td>32.6921698318</td><td>1.06850762288</td><td>9315.82155691</td><td>2165.99747196</td><td>7149.82408495</td><td>1.94263356404</td><td>26.8377673733</td><td>7.37899833753</td><td>-1.0</td><td>-1.0</td><td>-1.0</td><td>-1.0</td><td>-1.0</td><td>-1.0</td><td>0</td><td>0.0</td><td>0.0</td><td>0.0</td><td>0.0</td><td>0.0</td><td>0</td><td>0.0</td><td>0.0</td><td>0</td><td>0.0</td><td>0.0</td><td>0.0</td><td>0.0</td><td>0.0</td><td>3388</td><td>52558</td><td>301</td><td>1</td><td>586</td><td>1237660024521228541</td><td>0.721907794476 .. 11.1153736115</td><td>9.26551151276 .. 1.2279727459</td><td>22.8150901794 .. 19.8804092407</td><td>0.460655868053 .. 0.0873755440116</td><td>-1.0 .. -1.0</td><td>-26.5120443928</td><td>-0.00569251179695</td><td>0.151148200035 .. 0.0433653108776</td><td>0.193569 .. 0.0576735</td><td>21.8575586326</td><td>53</td><td>3.50089526176</td><td>0.0789277926087</td><td>0.158987611532</td><td>0.0</td><td>0.0</td><td>0.0</td><td>0</td><td>0.0</td><td>0.0</td><td>0.0</td><td>0.0</td><td>0.0</td><td>0.0</td><td>0.0</td><td>0.0</td><td>0.0</td><td>0.0</td><td>0.0</td><td>0.0</td><td>0</td><td>0.0</td><td>1</td><td>0.0</td><td>0.0</td><td>0.0</td><td>0.0</td><td>0.0</td><td>0.0</td><td>0.0</td><td>0</td><td>0.0</td><td>0.0</td><td>0.0</td><td>0</td><td>0.0</td><td>0.0</td><td>0.0</td><td>0</td><td>0.0</td><td>0.0</td><td>0.0</td><td>0.0</td><td>0.0</td><td>0.0</td><td>0.0</td><td>0.0</td><td>0.0</td><td>0.0</td><td>0.0</td><td>0.0</td><td>0.0</td><td>0.0</td><td>0.0</td><td>0.0</td><td>0.0</td><td></td><td></td><td>0.0</td><td>1</td><td>3.09501e-31</td><td>3.80247e-32</td><td>5.36699e-31</td><td>5.9106e-32</td><td>3.94353e-31</td><td>6.2758e-32</td><td>4.62541e-31</td><td>5.919e-32</td><td>0</td><td>0.0</td><td>0.0</td><td>0.0</td><td>DR12Q</td><td>--</td><td>--</td><td>--</td><td>--</td><td>--</td><td>--</td><td>--</td><td>--</td><td>--</td><td>--</td><td>--</td><td>--</td><td>--</td><td>--</td><td>--</td><td>--</td><td>--</td><td>--</td><td>--</td><td>--</td><td>--</td><td>--</td><td>--</td><td>--</td><td>--</td><td>--</td><td>--</td><td>--</td><td>--</td><td>--</td><td>--</td><td>--</td><td>--</td><td>--</td><td>--</td><td>--</td><td>--</td><td>--</td><td>--</td><td>--</td><td>--</td><td>--</td><td>--</td><td>--</td><td>--</td><td>--</td><td>--</td><td>--</td><td>--</td><td>--</td><td>--</td><td>--</td><td>--</td><td>--</td><td>--</td><td>--</td><td>--</td><td>--</td><td>--</td><td>--</td><td>--</td><td>--</td><td>--</td><td>--</td><td>--</td><td>--</td></tr>\n",
       "<tr><td>39.9435</td><td>-1.1123</td><td>QSO</td><td>3.134</td><td>0.0</td><td>SDSS-HW</td><td>38195</td><td>2001-10-17</td><td>SDSS 2.5-M</td><td>SDSS</td><td>2000.0</td><td>2000.0</td><td>6747</td><td>--</td><td>3841</td><td>3802.8</td><td>9206.6</td><td>spSpec-52199-0706-133.fit.gz</td><td>BOTH</td><td>SDSS_DR7</td><td>--</td><td>--</td><td>--</td><td>706</td><td>--</td><td>--</td><td>--</td><td>--</td><td>--</td><td>--</td><td>--</td><td>--</td><td>--</td><td>--</td><td>--</td><td>--</td><td>--</td><td>--</td><td>--</td><td>--</td><td>--</td><td>--</td><td>-- .. --</td><td>-- .. --</td><td>-- .. --</td><td>--</td><td>--</td><td>--</td><td>--</td><td>--</td><td>--</td><td>--</td><td>-- .. --</td><td>--</td><td>--</td><td>--</td><td>--</td><td>--</td><td>--</td><td>--</td><td>--</td><td>--</td><td>--</td><td>--</td><td>--</td><td>--</td><td>--</td><td>--</td><td>--</td><td>--</td><td>--</td><td>--</td><td>--</td><td>--</td><td>--</td><td>--</td><td>--</td><td>--</td><td>--</td><td>--</td><td>--</td><td>--</td><td>--</td><td>--</td><td>--</td><td>--</td><td>--</td><td>--</td><td>--</td><td>--</td><td>--</td><td>--</td><td>--</td><td>--</td><td>--</td><td>-- .. --</td><td>-- .. --</td><td>-- .. --</td><td>-- .. --</td><td>-- .. --</td><td>--</td><td>0.009</td><td>-- .. --</td><td>-- .. --</td><td>--</td><td>--</td><td>--</td><td>--</td><td>--</td><td>--</td><td>--</td><td>--</td><td>--</td><td>--</td><td>--</td><td>--</td><td>--</td><td>--</td><td>--</td><td>--</td><td>--</td><td>--</td><td>--</td><td>--</td><td>--</td><td>--</td><td>--</td><td>--</td><td>--</td><td>--</td><td>--</td><td>--</td><td>17.667</td><td>--</td><td>--</td><td>--</td><td>0.0</td><td>--</td><td>--</td><td>--</td><td>0.0</td><td>--</td><td>--</td><td>--</td><td>--</td><td>--</td><td>--</td><td>--</td><td>--</td><td>--</td><td>--</td><td>--</td><td>--</td><td>--</td><td>--</td><td>--</td><td>--</td><td>--</td><td>--</td><td>--</td><td>--</td><td>--</td><td>--</td><td>--</td><td>--</td><td>--</td><td>--</td><td>--</td><td>--</td><td>--</td><td>--</td><td>--</td><td>--</td><td>--</td><td>--</td><td>--</td><td>--</td><td>--</td><td>023946.44-010644.1</td><td>22.949</td><td>0.324</td><td>20.317</td><td>0.041</td><td>20.045</td><td>0.026</td><td>19.982</td><td>0.039</td><td>19.946</td><td>0.088</td><td>0.151</td><td>20.477</td><td>0.0</td><td>0.0</td><td>0.0</td><td>-9.0</td><td>0.0</td><td>0.0</td><td>0.353</td><td>0.0</td><td>0.0</td><td>0.0</td><td>18</td><td>-26.45</td><td>0</td><td>0</td><td>1</td><td>0</td><td>33554433</td><td>0</td><td>1</td><td>0</td><td>0</td><td>0</td><td>0</td><td>0</td><td>3325</td><td>52522</td><td>52199</td><td>133</td><td>41</td><td>1</td><td>375</td><td>68</td><td>33554433</td><td>0</td><td>1</td><td>0</td><td>0</td><td>0</td><td>0</td><td>0</td><td>22.949</td><td>0.324</td><td>20.317</td><td>0.041</td><td>20.045</td><td>0.026</td><td>19.982</td><td>0.039</td><td>19.946</td><td>0.088</td><td>588015507676266564</td><td>198945527113449472</td><td>SDSS J023946.44-010644.1</td></tr>\n",
       "</table>"
      ]
     },
     "output_type": "execute_result",
     "metadata": {}
    }
   ],
   "source": [
    "vstack([qpq_metas,igm_metas])"
   ]
  },
  {
   "cell_type": "code",
   "execution_count": null,
   "metadata": {},
   "outputs": [],
   "source": [
    ""
   ]
  }
 ],
 "metadata": {
  "kernelspec": {
   "display_name": "Python 2",
   "language": "python",
   "name": "python2"
  },
  "language_info": {
   "codemirror_mode": {
    "name": "ipython",
    "version": 2.0
   },
   "file_extension": ".py",
   "mimetype": "text/x-python",
   "name": "python",
   "nbconvert_exporter": "python",
   "pygments_lexer": "ipython2",
   "version": "2.7.12"
  }
 },
 "nbformat": 4,
 "nbformat_minor": 0
}