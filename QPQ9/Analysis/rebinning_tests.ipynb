{
 "cells": [
  {
   "cell_type": "markdown",
   "metadata": {},
   "source": [
    "## Rebinning Tests"
   ]
  },
  {
   "cell_type": "markdown",
   "metadata": {},
   "source": [
    "### Ryan's idea"
   ]
  },
  {
   "cell_type": "code",
   "execution_count": 40,
   "metadata": {
    "collapsed": true
   },
   "outputs": [],
   "source": [
    "# Setup the old and new wavelength arrays\n",
    "v_old = 3.0   # velocity of old scale\n",
    "n_old = 100  # number of data points\n",
    "v_new = 7.6  # velocity of new scale\n",
    "\n",
    "# Generate fake data (wavelength array to start at 5000A)\n",
    "f_old = np.random.normal(1.0,0.1,n_old)\n",
    "w_old = 5000.0*(1.0+v_old/299792.458)**np.arange(n_old)"
   ]
  },
  {
   "cell_type": "code",
   "execution_count": 41,
   "metadata": {
    "collapsed": true
   },
   "outputs": [],
   "source": [
    "# Generate new wavelength array\n",
    "n_new = 1+np.int(np.log10((w_old[-1]/w_old[0]))/np.log10((1.0+v_new/299792.458)))\n",
    "w_new = 5000.0*(1.0+v_new/299792.458)**np.arange(n_new)\n",
    "\n",
    "# Create a spline representation of the old wavelength array, k=1 forces linear interpolation\n",
    "spl = InterpolatedUnivariateSpline(w_old, f_old, k=1)"
   ]
  },
  {
   "cell_type": "code",
   "execution_count": 42,
   "metadata": {
    "collapsed": true
   },
   "outputs": [],
   "source": [
    "# linearly interpolate onto new flux array\n",
    "f_new = spl(w_new)"
   ]
  },
  {
   "cell_type": "code",
   "execution_count": 43,
   "metadata": {
    "collapsed": false
   },
   "outputs": [
    {
     "data": {
      "image/png": "[encoded data removed]",
      "text/plain": [
       "<matplotlib.figure.Figure at 0x10f3ac0d0>"
      ]
     },
     "metadata": {},
     "output_type": "display_data"
    }
   ],
   "source": [
    "plt.plot(w_old,f_old,'b-',drawstyle='steps')\n",
    "plt.plot(w_new,f_new,'r-',drawstyle='steps')\n",
    "plt.show()"
   ]
  },
  {
   "cell_type": "code",
   "execution_count": 48,
   "metadata": {
    "collapsed": false
   },
   "outputs": [
    {
     "name": "stdout",
     "output_type": "stream",
     "text": [
      "The sums are old=60.1306, new=60.0575\n"
     ]
    }
   ],
   "source": [
    "# Check flux conserving\n",
    "gd_old = np.where( (w_old > 5001.) & (w_old < 5004.) )[0]\n",
    "gd_new = np.where( (w_new > 5001.) & (w_new < 5004.) )[0]\n",
    "sum_old = np.sum( f_old[gd_old] )\n",
    "sum_new = np.sum( f_old[gd_new] * v_new/v_old )\n",
    "print('The sums are old={:g}, new={:g}'.format(sum_old, sum_new))"
   ]
  },
  {
   "cell_type": "markdown",
   "metadata": {},
   "source": [
    "### Idea with cumsum"
   ]
  },
  {
   "cell_type": "code",
   "execution_count": 104,
   "metadata": {
    "collapsed": false
   },
   "outputs": [],
   "source": [
    "# Endpoints of original pixels\n",
    "npix = len(w_old)\n",
    "#wvl = (w_old + np.roll(w_old, 1))/2.\n",
    "wvh = (w_old + np.roll(w_old, -1))/2.\n",
    "#wvl[0] = w_old[0] - (w_old[1] - w_old[0])/2.\n",
    "wvh[npix-1] = w_old[npix-1] + (w_old[npix-1] - w_old[npix-2])/2."
   ]
  },
  {
   "cell_type": "code",
   "execution_count": 55,
   "metadata": {
    "collapsed": false
   },
   "outputs": [],
   "source": [
    "# Cumulative Sum\n",
    "cumsum = np.cumsum(f_old)"
   ]
  },
  {
   "cell_type": "code",
   "execution_count": 74,
   "metadata": {
    "collapsed": false
   },
   "outputs": [],
   "source": [
    "# Interpolate\n",
    "fcum = interp1d(wvh, cumsum, fill_value=0., bounds_error=False)"
   ]
  },
  {
   "cell_type": "code",
   "execution_count": 71,
   "metadata": {
    "collapsed": false
   },
   "outputs": [],
   "source": [
    "# Endpoints of new pixels\n",
    "nnew = len(w_new)\n",
    "#wvl = (w_old + np.roll(w_old, 1))/2.\n",
    "nwvh = (w_new + np.roll(w_new, -1))/2.\n",
    "nwvh[nnew-1] = w_new[nnew-1] + (w_new[nnew-1] - w_new[nnew-2])/2.\n",
    "#\n",
    "allnwv = np.zeros(nnew+1)\n",
    "allnwv[0] = w_new[0] - (w_new[1] - w_new[0])/2.\n",
    "allnwv[1:] = nwvh"
   ]
  },
  {
   "cell_type": "code",
   "execution_count": 105,
   "metadata": {
    "collapsed": false
   },
   "outputs": [],
   "source": [
    "# Evaluate\n",
    "newcum = fcum(allnwv)\n",
    "if (allnwv[-1] > wvh[-1]):\n",
    "    newcum[-1] = cumsum[-1]"
   ]
  },
  {
   "cell_type": "code",
   "execution_count": 88,
   "metadata": {
    "collapsed": false
   },
   "outputs": [
    {
     "name": "stdout",
     "output_type": "stream",
     "text": [
      "5001.02580974\n",
      "20.7619849296\n",
      "20.7619849296\n"
     ]
    }
   ],
   "source": [
    "print(wvh[20])\n",
    "print(cumsum[20])\n",
    "print(fcum(wvh[20]))"
   ]
  },
  {
   "cell_type": "code",
   "execution_count": 89,
   "metadata": {
    "collapsed": false
   },
   "outputs": [
    {
     "name": "stdout",
     "output_type": "stream",
     "text": [
      "20.7619849296\n",
      "21.6198423593\n",
      "21.1909136444\n"
     ]
    }
   ],
   "source": [
    "print(fcum(wvh[20]))\n",
    "print(fcum(wvh[21]))\n",
    "print(fcum((wvh[20]+wvh[21])/2.))"
   ]
  },
  {
   "cell_type": "code",
   "execution_count": 92,
   "metadata": {
    "collapsed": false
   },
   "outputs": [
    {
     "data": {
      "text/plain": [
       "0.0"
      ]
     },
     "execution_count": 92,
     "metadata": {},
     "output_type": "execute_result"
    }
   ],
   "source": [
    "newcum[0]"
   ]
  },
  {
   "cell_type": "code",
   "execution_count": 103,
   "metadata": {
    "collapsed": false
   },
   "outputs": [
    {
     "data": {
      "image/png": "[encoded data removed]",
      "text/plain": [
       "<matplotlib.figure.Figure at 0x10ffb2150>"
      ]
     },
     "metadata": {},
     "output_type": "display_data"
    }
   ],
   "source": [
    "# Cumulative Plot\n",
    "plt.clf()\n",
    "plt.plot(wvh,cumsum,'b-', drawstyle='steps')\n",
    "plt.plot(allnwv,newcum,'r+')\n",
    "plt.show()\n",
    "# This looks goofy but I think is correct"
   ]
  },
  {
   "cell_type": "code",
   "execution_count": 108,
   "metadata": {
    "collapsed": false
   },
   "outputs": [],
   "source": [
    "# Rebinned flux\n",
    "new_fx = (np.roll(newcum,-1)-newcum)[:-1]\n",
    "#new_fx"
   ]
  },
  {
   "cell_type": "code",
   "execution_count": 109,
   "metadata": {
    "collapsed": false
   },
   "outputs": [
    {
     "data": {
      "image/png": "[encoded data removed]",
      "text/plain": [
       "<matplotlib.figure.Figure at 0x10fe5af90>"
      ]
     },
     "metadata": {},
     "output_type": "display_data"
    }
   ],
   "source": [
    "# Plot\n",
    "plt.plot(w_old,f_old,'b-',drawstyle='steps')\n",
    "plt.plot(w_new,f_new,'r-',drawstyle='steps')\n",
    "plt.plot(w_new,new_fx*v_old/v_new,'g-',drawstyle='steps')\n",
    "plt.show()"
   ]
  },
  {
   "cell_type": "code",
   "execution_count": 110,
   "metadata": {
    "collapsed": false
   },
   "outputs": [
    {
     "data": {
      "text/plain": [
       "array([ 3000.,  3005.,  3010., ...,  8985.,  8990.,  8995.])"
      ]
     },
     "execution_count": 110,
     "metadata": {},
     "output_type": "execute_result"
    }
   ],
   "source": [
    "np.arange(3000.,9000,5)"
   ]
  },
  {
   "cell_type": "code",
   "execution_count": 111,
   "metadata": {
    "collapsed": false
   },
   "outputs": [
    {
     "data": {
      "text/plain": [
       "array([-5.07261715,  0.12675436,  0.12675596,  0.12675918,  0.12676239,\n",
       "        0.1267656 ,  0.12676882,  0.12677203,  0.12677524,  0.12677846,\n",
       "        0.12678167,  0.12678489,  0.1267881 ,  0.12679131,  0.12679453,\n",
       "        0.12679774,  0.12680096,  0.12680417,  0.12680739,  0.1268106 ,\n",
       "        0.12681382,  0.12681703,  0.12682025,  0.12682346,  0.12682668,\n",
       "        0.12682989,  0.12683311,  0.12683632,  0.12683954,  0.12684275,\n",
       "        0.12684597,  0.12684918,  0.1268524 ,  0.12685562,  0.12685883,\n",
       "        0.12686205,  0.12686526,  0.12686848,  0.1268717 ,  0.12687491,\n",
       "        0.12687652])"
      ]
     },
     "execution_count": 111,
     "metadata": {},
     "output_type": "execute_result"
    }
   ],
   "source": [
    "dwv = allnwv - np.roll(allnwv,1)\n",
    "dwv"
   ]
  },
  {
   "cell_type": "code",
   "execution_count": null,
   "metadata": {
    "collapsed": true
   },
   "outputs": [],
   "source": []
  }
 ],
 "metadata": {
  "kernelspec": {
   "display_name": "Python 2",
   "language": "python",
   "name": "python2"
  },
  "language_info": {
   "codemirror_mode": {
    "name": "ipython",
    "version": 2
   },
   "file_extension": ".py",
   "mimetype": "text/x-python",
   "name": "python",
   "nbconvert_exporter": "python",
   "pygments_lexer": "ipython2",
   "version": "2.7.9"
  }
 },
 "nbformat": 4,
 "nbformat_minor": 0
}
