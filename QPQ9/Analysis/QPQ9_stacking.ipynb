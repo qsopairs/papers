{
 "cells": [
  {
   "cell_type": "markdown",
   "metadata": {},
   "source": [
    "# Notebook for QPQ9 stacking"
   ]
  },
  {
   "cell_type": "code",
   "execution_count": 1,
   "metadata": {
    "collapsed": true
   },
   "outputs": [],
   "source": [
    "%matplotlib inline"
   ]
  },
  {
   "cell_type": "code",
   "execution_count": 1,
   "metadata": {
    "collapsed": false
   },
   "outputs": [],
   "source": [
    "# imports\n",
    "import qpq9_analy as qpa\n",
    "\n",
    "from scipy.interpolate import InterpolatedUnivariateSpline, interp1d\n",
    "\n",
    "\n",
    "import matplotlib as mpl\n",
    "mpl.rcParams['font.family'] = 'stixgeneral'\n",
    "from matplotlib.backends.backend_pdf import PdfPages\n",
    "from matplotlib import pyplot as plt\n",
    "import matplotlib.gridspec as gridspec\n",
    "\n",
    "from xastropy.plotting import utils as xputils\n",
    "\n",
    "from matplotlib import pyplot as plt"
   ]
  },
  {
   "cell_type": "markdown",
   "metadata": {},
   "source": [
    "## Read QPQ9"
   ]
  },
  {
   "cell_type": "code",
   "execution_count": 2,
   "metadata": {
    "collapsed": false
   },
   "outputs": [
    {
     "data": {
      "text/plain": [
       "32"
      ]
     },
     "execution_count": 2,
     "metadata": {},
     "output_type": "execute_result"
    }
   ],
   "source": [
    "qpq9 = QTable.read('qpq9_final.fits')\n",
    "len(qpq9)"
   ]
  },
  {
   "cell_type": "code",
   "execution_count": 3,
   "metadata": {
    "collapsed": false
   },
   "outputs": [
    {
     "data": {
      "text/html": [
       "&lt;QTable masked=False length=5&gt;\n",
       "<table id=\"table4620434640\">\n",
       "<thead><tr><th>NAME</th><th>LYA_FILE</th><th>ZFG_LINE</th><th>FG_ZIR</th><th>FG_SIG_ZIR</th><th>R_PHYS</th><th>BG_Z</th></tr></thead>\n",
       "<thead><tr><th></th><th></th><th></th><th></th><th>km / s</th><th>kpc</th><th></th></tr></thead>\n",
       "<thead><tr><th>string112</th><th>string312</th><th>string288</th><th>float64</th><th>float32</th><th>float64</th><th>float64</th></tr></thead>\n",
       "<tr><td>BOSSJ0057-0001</td><td>SDSSJ005718.90-000134.7.fits</td><td>[OIII]</td><td>2.16085586032</td><td>44.0 km / s</td><td>270.712499511 kpc</td><td>2.51139140129</td></tr>\n",
       "<tr><td>BOSSJ0225+0048</td><td>SDSSJ022519.50+004823.7_F.fits.gz</td><td>[OII]</td><td>2.71900010109</td><td>-1.0 km / s</td><td>225.711728565 kpc</td><td>2.81952381134</td></tr>\n",
       "<tr><td>APOJ0800+3542</td><td>SDSSJ080048.74+354231.3_b1200_F.fits.gz</td><td>[OIII]</td><td>1.98231124769</td><td>44.0 km / s</td><td>200.727334478 kpc</td><td>2.06590008736</td></tr>\n",
       "<tr><td>APOJ0837+3837</td><td>SDSSJ083757.13+383722.4_b1200_F.fits.gz</td><td>H$\\alpha$</td><td>2.06242066408</td><td>109.0 km / s</td><td>89.2255343659 kpc</td><td>2.25099992752</td></tr>\n",
       "<tr><td>BOSSJ0841+3921</td><td>SDSSJ084159.26+392140.0_b1200_F.fits.gz</td><td>[OIII]</td><td>2.04117606611</td><td>44.0 km / s</td><td>182.693675263 kpc</td><td>2.21369838715</td></tr>\n",
       "</table>"
      ],
      "text/plain": [
       "<QTable masked=False length=5>\n",
       "     NAME                      LYA_FILE                ...      BG_Z    \n",
       "                                                       ...              \n",
       "  string112                   string312                ...    float64   \n",
       "-------------- --------------------------------------- ... -------------\n",
       "BOSSJ0057-0001            SDSSJ005718.90-000134.7.fits ... 2.51139140129\n",
       "BOSSJ0225+0048       SDSSJ022519.50+004823.7_F.fits.gz ... 2.81952381134\n",
       " APOJ0800+3542 SDSSJ080048.74+354231.3_b1200_F.fits.gz ... 2.06590008736\n",
       " APOJ0837+3837 SDSSJ083757.13+383722.4_b1200_F.fits.gz ... 2.25099992752\n",
       "BOSSJ0841+3921 SDSSJ084159.26+392140.0_b1200_F.fits.gz ... 2.21369838715"
      ]
     },
     "execution_count": 3,
     "metadata": {},
     "output_type": "execute_result"
    }
   ],
   "source": [
    "cols = ['NAME', 'LYA_FILE', 'ZFG_LINE', 'FG_ZIR', 'FG_SIG_ZIR', 'R_PHYS', 'BG_Z']\n",
    "qpq9[cols][0:5]"
   ]
  },
  {
   "cell_type": "markdown",
   "metadata": {},
   "source": [
    "## Vanilla (interpolation + average/median)"
   ]
  },
  {
   "cell_type": "markdown",
   "metadata": {},
   "source": [
    "### At Ly$\\alpha$"
   ]
  },
  {
   "cell_type": "code",
   "execution_count": 4,
   "metadata": {
    "collapsed": true
   },
   "outputs": [],
   "source": [
    "wrest = 1215.6701 * u.AA"
   ]
  },
  {
   "cell_type": "code",
   "execution_count": 6,
   "metadata": {
    "collapsed": false
   },
   "outputs": [
    {
     "name": "stdout",
     "output_type": "stream",
     "text": [
      "Size of QPQ9 sample is 21\n"
     ]
    },
    {
     "data": {
      "text/plain": [
       "array([ True, False,  True, False,  True,  True,  True, False,  True,\n",
       "        True,  True, False,  True, False, False,  True, False,  True,\n",
       "        True,  True, False, False,  True,  True,  True,  True, False,\n",
       "        True,  True, False,  True,  True], dtype=bool)"
      ]
     },
     "execution_count": 6,
     "metadata": {},
     "output_type": "execute_result"
    }
   ],
   "source": [
    "# Cut on Lyb\n",
    "reload(qpa)\n",
    "msk = qpa.cut_sample(qpq9,wrest,3)\n",
    "print('Size of QPQ9 sample is {:d}'.format(len(np.where(msk == True)[0])))\n",
    "qpq9[cols][msk]"
   ]
  },
  {
   "cell_type": "code",
   "execution_count": 7,
   "metadata": {
    "collapsed": false
   },
   "outputs": [
    {
     "name": "stdout",
     "output_type": "stream",
     "text": [
      "No spectrum found for BOSSJ0057-0001!\n",
      "Using /Users/joe/Dropbox//QSOPairs/data/LRIS_redux/SDSSJ080048.74+354231.3_b1200_F.fits.gz for APOJ0800+3542\n",
      "Using /Users/joe/Dropbox//QSOPairs/data/LRIS_redux/SDSSJ084159.26+392140.0_b1200_F.fits.gz for BOSSJ0841+3921\n",
      "Using /Users/joe/Dropbox//QSOPairs/data/MAGE_redux/SDSSJ085357.49-001106.1_F.fits.gz for BOSSJ0853-0011\n",
      "Using /Users/joe/Dropbox//QSOPairs/data/MAGE_redux/SDSSJ091046.69+041448.4_F.fits.gz for APOJ0910+0414\n",
      "Using /Users/joe/Dropbox//QSOPairs/data/LRIS_redux/SDSSJ091430.85+010927.5_b1200_F.fits.gz for BOSSJ0914+0109\n",
      "Using /Users/joe/Dropbox//QSOPairs/data/MAGE_redux/SDSSJ093225.60+092500.2_F.fits.gz for APOJ0932+0925\n",
      "Using /Users/joe/Dropbox//QSOPairs/data/LRIS_redux/SDSSJ093804.84+531743.0_b1200_F.fits.gz for APOJ0938+5317\n",
      "Using /Users/joe/Dropbox//QSOPairs/data/LRIS_redux/SDSSJ100627.10+480429.9_b1200_F.fits.gz for BOSSJ1006+4804\n",
      "Using /Users/joe/Dropbox//QSOPairs/data/ESI_redux/SDSSJ103900.01+502652.8_F.fits.gz for BOSSJ1039+5026\n",
      "Using /Users/joe/Dropbox//QSOPairs/data/MIKE_redux/SDSSJ114436.65+095904.9_b_F.fits.gz for BOSSJ1144+0959\n",
      "Using /Users/joe/Dropbox//QSOPairs/data/MAGE_redux/SDSSJ120416.69+022111.0_F.fits.gz for BOSSJ1204+0221\n",
      "Using /Users/joe/Dropbox//QSOPairs/data/LRIS_redux/SDSSJ124948.13+060709.0_b1200_F.fits.gz for APOJ1249+0607\n",
      "Using /Users/joe/Dropbox//QSOPairs/data/LRIS_redux/SDSSJ140209.53+470117.8_b1200_F.fits.gz for BOSSJ1402+4701\n",
      "No continuum: /Users/joe/Dropbox//QSOPairs/data/ESI_redux/SDSSJ142004.12+022708.8_F_c.fits\n",
      "No spectrum found for BOSSJ1420+0227!\n",
      "Using /Users/joe/Dropbox//QSOPairs/data/MAGE_redux/SDSSJ142054.92+160342.9_F.fits.gz for APOJ1420+1603\n",
      "Using /Users/joe/Dropbox//QSOPairs/data/MIKE_redux/SDSSJ142758.74-012136.2_b_F.fits.gz for BOSSJ1427-0121\n",
      "Using /Users/joe/Dropbox//QSOPairs/data/MAGE_redux/SDSSJ155325.89+192137.7_F.fits.gz for APOJ1553+1921\n",
      "Using /Users/joe/Dropbox//QSOPairs/data/ESI_redux/SDSSJ162737.25+460609.3_F.fits.gz for APOJ1627+4606\n",
      "Using /Users/joe/Dropbox//QSOPairs/data/MAGE_redux/SDSSJ214620.98-075303.8_F.fits.gz for APOJ2146-0753\n",
      "Using /Users/joe/Dropbox//QSOPairs/data/LRIS_redux/SDSSJ220248.30+123656.2_b1200_F.fits.gz for BOSSJ2202+1236\n"
     ]
    },
    {
     "name": "stderr",
     "output_type": "stream",
     "text": [
      "/Users/joe/python/linetools/linetools/spectra/io.py:290: UserWarning: WARNING: CDELT1 < 1e-4, Assuming log wavelength scale\n",
      "  warnings.warn('WARNING: CDELT1 < 1e-4, Assuming log wavelength scale')\n"
     ]
    }
   ],
   "source": [
    "# Stack\n",
    "reload(qpa)\n",
    "lya_velo,lya_fx,_ = qpa.stack_avg((qpq9[msk],wrest))#,debug=True)"
   ]
  },
  {
   "cell_type": "code",
   "execution_count": 8,
   "metadata": {
    "collapsed": false
   },
   "outputs": [
    {
     "data": {
      "image/png": "[encoded data removed]",
      "text/plain": [
       "<matplotlib.figure.Figure at 0x1141c7710>"
      ]
     },
     "metadata": {},
     "output_type": "display_data"
    }
   ],
   "source": [
    "%matplotlib inline\n",
    "# Plot\n",
    "plt.figure(figsize=(9, 5),dpi=800)\n",
    "plt.clf()\n",
    "gs = gridspec.GridSpec(1,1)\n",
    "\n",
    "# Axis\n",
    "ax = plt.subplot(gs[0,0])\n",
    "ax.set_xlabel('Velocity (km/s)')\n",
    "ax.set_ylabel('Average Flux')\n",
    "#ax.set_xlim(xrnge)\n",
    "yrnge = (0., 1.)\n",
    "ax.set_ylim(yrnge)\n",
    "\n",
    "# Data\n",
    "ax.plot(lya_velo, lya_fx, drawstyle='steps')\n",
    "\n",
    "# zero line\n",
    "ax.plot( [0.]*2, yrnge, 'r--')\n",
    "\n",
    "# Label\n",
    "ax.text(-2500., 0.2, r'Ly$\\alpha$', size=18.)\n",
    "\n",
    "# Font size\n",
    "xputils.set_fontsize(ax,14.)\n",
    "\n",
    "# Layout and save\n",
    "plt.tight_layout(pad=0.2,h_pad=0.,w_pad=0.1)\n",
    "plt.savefig('lyastack_1.0.pdf')\n",
    "plt.show()\n",
    "plt.close()"
   ]
  },
  {
   "cell_type": "markdown",
   "metadata": {},
   "source": [
    "### CII 1334"
   ]
  },
  {
   "cell_type": "code",
   "execution_count": 9,
   "metadata": {
    "collapsed": true
   },
   "outputs": [],
   "source": [
    "wrest = 1334.5323 * u.AA"
   ]
  },
  {
   "cell_type": "code",
   "execution_count": 10,
   "metadata": {
    "collapsed": false
   },
   "outputs": [
    {
     "name": "stdout",
     "output_type": "stream",
     "text": [
      "Size of QPQ9 sample is 21\n"
     ]
    },
    {
     "data": {
      "text/html": [
       "&lt;QTable masked=False length=21&gt;\n",
       "<table id=\"table4612938384\">\n",
       "<thead><tr><th>NAME</th><th>LYA_FILE</th><th>ZFG_LINE</th><th>FG_ZIR</th><th>FG_SIG_ZIR</th><th>R_PHYS</th><th>BG_Z</th></tr></thead>\n",
       "<thead><tr><th></th><th></th><th></th><th></th><th>km / s</th><th>kpc</th><th></th></tr></thead>\n",
       "<thead><tr><th>string112</th><th>string312</th><th>string288</th><th>float64</th><th>float32</th><th>float64</th><th>float64</th></tr></thead>\n",
       "<tr><td>BOSSJ0057-0001</td><td>SDSSJ005718.90-000134.7.fits</td><td>[OIII]</td><td>2.16085586032</td><td>44.0 km / s</td><td>270.712499511 kpc</td><td>2.51139140129</td></tr>\n",
       "<tr><td>APOJ0800+3542</td><td>SDSSJ080048.74+354231.3_b1200_F.fits.gz</td><td>[OIII]</td><td>1.98231124769</td><td>44.0 km / s</td><td>200.727334478 kpc</td><td>2.06590008736</td></tr>\n",
       "<tr><td>BOSSJ0841+3921</td><td>SDSSJ084159.26+392140.0_b1200_F.fits.gz</td><td>[OIII]</td><td>2.04117606611</td><td>44.0 km / s</td><td>182.693675263 kpc</td><td>2.21369838715</td></tr>\n",
       "<tr><td>BOSSJ0853-0011</td><td>SDSSJ085357.49-001106.1_F.fits.gz</td><td>[OIII]</td><td>2.40137010963</td><td>44.0 km / s</td><td>111.641532541 kpc</td><td>2.57923269272</td></tr>\n",
       "<tr><td>APOJ0910+0414</td><td>SDSSJ091046.69+041448.4_F.fits.gz</td><td>[OIII]</td><td>2.04589174873</td><td>44.0 km / s</td><td>95.3714964791 kpc</td><td>2.37700009346</td></tr>\n",
       "<tr><td>BOSSJ0914+0109</td><td>SDSSJ091430.85+010927.5_b1200_F.fits.gz</td><td>[OIII]</td><td>2.14020345837</td><td>44.0 km / s</td><td>199.204801066 kpc</td><td>2.4754948616</td></tr>\n",
       "<tr><td>APOJ0932+0925</td><td>SDSSJ093225.60+092500.2_F.fits.gz</td><td>[OIII]</td><td>2.41699563207</td><td>44.0 km / s</td><td>237.906701175 kpc</td><td>2.60199999809</td></tr>\n",
       "<tr><td>APOJ0938+5317</td><td>SDSSJ093804.84+531743.0_b1200_F.fits.gz</td><td>[OIII]</td><td>2.06702972987</td><td>44.0 km / s</td><td>48.5403931709 kpc</td><td>2.32299995422</td></tr>\n",
       "<tr><td>BOSSJ1006+4804</td><td>SDSSJ100627.10+480429.9_b1200_F.fits.gz</td><td>[OIII]</td><td>2.30315270609</td><td>44.0 km / s</td><td>90.097642893 kpc</td><td>2.59740161896</td></tr>\n",
       "<tr><td>BOSSJ1039+5026</td><td>SDSSJ103900.01+502652.8_F.fits.gz</td><td>[OIII]</td><td>3.13222350225</td><td>44.0 km / s</td><td>233.309681131 kpc</td><td>3.23582863808</td></tr>\n",
       "<tr><td>BOSSJ1144+0959</td><td>SDSSJ114436.65+095904.9_b_F.fits.gz</td><td>[OIII]</td><td>2.97308431575</td><td>44.0 km / s</td><td>189.139866522 kpc</td><td>3.16017150879</td></tr>\n",
       "<tr><td>BOSSJ1204+0221</td><td>SDSSJ120416.69+022111.0_F.fits.gz</td><td>[OIII]</td><td>2.43579176169</td><td>44.0 km / s</td><td>112.11515776 kpc</td><td>2.53188967705</td></tr>\n",
       "<tr><td>APOJ1249+0607</td><td>SDSSJ124948.13+060709.0_b1200_F.fits.gz</td><td>[OIII]</td><td>2.00586513565</td><td>44.0 km / s</td><td>43.364116096 kpc</td><td>2.37599992752</td></tr>\n",
       "<tr><td>BOSSJ1402+4701</td><td>SDSSJ140209.53+470117.8_b1200_F.fits.gz</td><td>[OIII]</td><td>1.91591926753</td><td>44.0 km / s</td><td>139.711620425 kpc</td><td>2.2688267231</td></tr>\n",
       "<tr><td>BOSSJ1420+0227</td><td>SDSSJ142004.12+022708.8_F.fits.gz</td><td>[OIII]</td><td>3.61664193881</td><td>44.0 km / s</td><td>144.465054427 kpc</td><td>4.19136476517</td></tr>\n",
       "<tr><td>APOJ1420+1603</td><td>SDSSJ142054.92+160342.9_F.fits.gz</td><td>[OIII]</td><td>2.02187030259</td><td>44.0 km / s</td><td>103.843642376 kpc</td><td>2.0569999218</td></tr>\n",
       "<tr><td>BOSSJ1427-0121</td><td>SDSSJ142758.74-012136.2_b_F.fits.gz</td><td>[OIII]</td><td>2.27354492215</td><td>44.0 km / s</td><td>53.2431282313 kpc</td><td>2.35379481316</td></tr>\n",
       "<tr><td>APOJ1553+1921</td><td>SDSSJ155325.89+192137.7_F.fits.gz</td><td>[OIII]</td><td>2.00983275513</td><td>44.0 km / s</td><td>44.3676243036 kpc</td><td>2.09800004959</td></tr>\n",
       "<tr><td>APOJ1627+4606</td><td>SDSSJ162737.25+460609.3_F.fits.gz</td><td>[OIII]</td><td>3.81457607451</td><td>44.0 km / s</td><td>252.825397594 kpc</td><td>4.11000013351</td></tr>\n",
       "<tr><td>APOJ2146-0753</td><td>SDSSJ214620.98-075303.8_F.fits.gz</td><td>[OIII]</td><td>2.11526539332</td><td>44.0 km / s</td><td>119.858997293 kpc</td><td>2.57699990273</td></tr>\n",
       "<tr><td>BOSSJ2202+1236</td><td>SDSSJ220248.30+123656.2_b1200_F.fits.gz</td><td>[OIII]</td><td>2.06949168297</td><td>44.0 km / s</td><td>100.470162968 kpc</td><td>2.51222491264</td></tr>\n",
       "</table>"
      ],
      "text/plain": [
       "<QTable masked=False length=21>\n",
       "     NAME                      LYA_FILE                ...      BG_Z    \n",
       "                                                       ...              \n",
       "  string112                   string312                ...    float64   \n",
       "-------------- --------------------------------------- ... -------------\n",
       "BOSSJ0057-0001            SDSSJ005718.90-000134.7.fits ... 2.51139140129\n",
       " APOJ0800+3542 SDSSJ080048.74+354231.3_b1200_F.fits.gz ... 2.06590008736\n",
       "BOSSJ0841+3921 SDSSJ084159.26+392140.0_b1200_F.fits.gz ... 2.21369838715\n",
       "BOSSJ0853-0011       SDSSJ085357.49-001106.1_F.fits.gz ... 2.57923269272\n",
       " APOJ0910+0414       SDSSJ091046.69+041448.4_F.fits.gz ... 2.37700009346\n",
       "BOSSJ0914+0109 SDSSJ091430.85+010927.5_b1200_F.fits.gz ...  2.4754948616\n",
       " APOJ0932+0925       SDSSJ093225.60+092500.2_F.fits.gz ... 2.60199999809\n",
       " APOJ0938+5317 SDSSJ093804.84+531743.0_b1200_F.fits.gz ... 2.32299995422\n",
       "BOSSJ1006+4804 SDSSJ100627.10+480429.9_b1200_F.fits.gz ... 2.59740161896\n",
       "BOSSJ1039+5026       SDSSJ103900.01+502652.8_F.fits.gz ... 3.23582863808\n",
       "BOSSJ1144+0959     SDSSJ114436.65+095904.9_b_F.fits.gz ... 3.16017150879\n",
       "BOSSJ1204+0221       SDSSJ120416.69+022111.0_F.fits.gz ... 2.53188967705\n",
       " APOJ1249+0607 SDSSJ124948.13+060709.0_b1200_F.fits.gz ... 2.37599992752\n",
       "BOSSJ1402+4701 SDSSJ140209.53+470117.8_b1200_F.fits.gz ...  2.2688267231\n",
       "BOSSJ1420+0227       SDSSJ142004.12+022708.8_F.fits.gz ... 4.19136476517\n",
       " APOJ1420+1603       SDSSJ142054.92+160342.9_F.fits.gz ...  2.0569999218\n",
       "BOSSJ1427-0121     SDSSJ142758.74-012136.2_b_F.fits.gz ... 2.35379481316\n",
       " APOJ1553+1921       SDSSJ155325.89+192137.7_F.fits.gz ... 2.09800004959\n",
       " APOJ1627+4606       SDSSJ162737.25+460609.3_F.fits.gz ... 4.11000013351\n",
       " APOJ2146-0753       SDSSJ214620.98-075303.8_F.fits.gz ... 2.57699990273\n",
       "BOSSJ2202+1236 SDSSJ220248.30+123656.2_b1200_F.fits.gz ... 2.51222491264"
      ]
     },
     "execution_count": 10,
     "metadata": {},
     "output_type": "execute_result"
    }
   ],
   "source": [
    "# Cut on Lyb\n",
    "reload(qpa)\n",
    "msk = qpa.cut_sample(qpq9,wrest,3)\n",
    "print('Size of QPQ9 sample is {:d}'.format(len(np.where(msk == True)[0])))\n",
    "qpq9[cols][msk]"
   ]
  },
  {
   "cell_type": "code",
   "execution_count": 11,
   "metadata": {
    "collapsed": false
   },
   "outputs": [
    {
     "name": "stdout",
     "output_type": "stream",
     "text": [
      "No spectrum found for BOSSJ0057-0001!\n",
      "Using /Users/joe/Dropbox//QSOPairs/data/LRIS_redux/SDSSJ080048.74+354231.3_b1200_F.fits.gz for APOJ0800+3542\n",
      "Using /Users/joe/Dropbox//QSOPairs/data/LRIS_redux/SDSSJ084159.26+392140.0_b1200_F.fits.gz for BOSSJ0841+3921\n",
      "Using /Users/joe/Dropbox//QSOPairs/data/MAGE_redux/SDSSJ085357.49-001106.1_F.fits.gz for BOSSJ0853-0011\n",
      "No continuum: /Users/joe/Dropbox//QSOPairs/data/LRIS_redux/SDSSJ091046.69+041448.4_b1200_F_c.fits\n",
      "Using /Users/joe/Dropbox//QSOPairs/data/MAGE_redux/SDSSJ091046.69+041448.4_F.fits.gz for APOJ0910+0414\n",
      "No spectrum found for BOSSJ0914+0109!\n",
      "Using /Users/joe/Dropbox//QSOPairs/data/MAGE_redux/SDSSJ093225.60+092500.2_F.fits.gz for APOJ0932+0925\n",
      "Using /Users/joe/Dropbox//QSOPairs/data/LRIS_redux/SDSSJ093804.84+531743.0_b1200_F.fits.gz for APOJ0938+5317\n",
      "No spectrum found for BOSSJ1006+4804!\n",
      "Using /Users/joe/Dropbox//QSOPairs/data/ESI_redux/SDSSJ103900.01+502652.8_F.fits.gz for BOSSJ1039+5026\n",
      "Using /Users/joe/Dropbox//QSOPairs/data/ESI_redux/SDSSJ114436.66+095904.9_F.fits.gz for BOSSJ1144+0959\n",
      "No continuum: /Users/joe/Dropbox//QSOPairs/data/GMOS_redux/SDSSJ120416.69+022111.0_b1200_F_c.fits\n",
      "Using /Users/joe/Dropbox//QSOPairs/data/MAGE_redux/SDSSJ120416.69+022111.0_F.fits.gz for BOSSJ1204+0221\n",
      "Using /Users/joe/Dropbox//QSOPairs/data/LRIS_redux/SDSSJ124948.13+060709.0_b1200_F.fits.gz for APOJ1249+0607\n",
      "No continuum: /Users/joe/Dropbox//QSOPairs/data/NIRI_redux/SDSSJ140209.52+470117.8_c.fits\n",
      "Using /Users/joe/Dropbox//QSOPairs/data/SDSS/SDSSJ140209.53+470117.8.fits.gz for BOSSJ1402+4701\n",
      "No continuum: /Users/joe/Dropbox//QSOPairs/data/ESI_redux/SDSSJ142004.12+022708.8_F_c.fits\n",
      "No spectrum found for BOSSJ1420+0227!\n",
      "Using /Users/joe/Dropbox//QSOPairs/data/MAGE_redux/SDSSJ142054.92+160342.9_F.fits.gz for APOJ1420+1603\n",
      "No continuum: /Users/joe/Dropbox//QSOPairs/data/GMOS_redux/SDSSJ142758.74-012136.2_b1200_F_c.fits\n",
      "Using /Users/joe/Dropbox//QSOPairs/data/MAGE_redux/SDSSJ142758.74-012136.2_F.fits.gz for BOSSJ1427-0121\n",
      "Using /Users/joe/Dropbox//QSOPairs/data/MAGE_redux/SDSSJ155325.89+192137.7_F.fits.gz for APOJ1553+1921\n",
      "Using /Users/joe/Dropbox//QSOPairs/data/ESI_redux/SDSSJ162737.25+460609.3_F.fits.gz for APOJ1627+4606\n",
      "Using /Users/joe/Dropbox//QSOPairs/data/MAGE_redux/SDSSJ214620.98-075303.8_F.fits.gz for APOJ2146-0753\n",
      "No continuum: /Users/joe/Dropbox//QSOPairs/data/NIRI_redux/SDSSJ220248.31+123656.3_c.fits\n",
      "No spectrum found for BOSSJ2202+1236!\n"
     ]
    }
   ],
   "source": [
    "# Stack\n",
    "#%gui qt\n",
    "reload(qpa)\n",
    "# The following may hit a stop on a bad continuum\n",
    "CII_velo,CII_fx,_ = qpa.stack_avg((qpq9[msk],wrest))#,debug=True)"
   ]
  },
  {
   "cell_type": "code",
   "execution_count": 12,
   "metadata": {
    "collapsed": false
   },
   "outputs": [
    {
     "data": {
      "text/latex": [
       "$[-3000,~-2900,~-2800,~-2700,~-2600,~-2500,~-2400,~-2300,~-2200,~-2100,~-2000,~-1900,~-1800,~-1700,~-1600,~-1500,~-1400,~-1300,~-1200,~-1100,~-1000,~-900,~-800,~-700,~-600,~-500,~-400,~-300,~-200,~-100,~0,~100,~200,~300,~400,~500,~600,~700,~800,~900,~1000,~1100,~1200,~1300,~1400,~1500,~1600,~1700,~1800,~1900,~2000,~2100,~2200,~2300,~2400,~2500,~2600,~2700,~2800,~2900,~3000] \\; \\mathrm{\\frac{km}{s}}$"
      ],
      "text/plain": [
       "<Quantity [-3000.,-2900.,-2800.,-2700.,-2600.,-2500.,-2400.,-2300.,-2200.,\n",
       "           -2100.,-2000.,-1900.,-1800.,-1700.,-1600.,-1500.,-1400.,-1300.,\n",
       "           -1200.,-1100.,-1000., -900., -800., -700., -600., -500., -400.,\n",
       "            -300., -200., -100.,    0.,  100.,  200.,  300.,  400.,  500.,\n",
       "             600.,  700.,  800.,  900., 1000., 1100., 1200., 1300., 1400.,\n",
       "            1500., 1600., 1700., 1800., 1900., 2000., 2100., 2200., 2300.,\n",
       "            2400., 2500., 2600., 2700., 2800., 2900., 3000.] km / s>"
      ]
     },
     "execution_count": 12,
     "metadata": {},
     "output_type": "execute_result"
    }
   ],
   "source": [
    "CII_velo"
   ]
  },
  {
   "cell_type": "code",
   "execution_count": null,
   "metadata": {
    "collapsed": true
   },
   "outputs": [],
   "source": []
  },
  {
   "cell_type": "code",
   "execution_count": null,
   "metadata": {
    "collapsed": true
   },
   "outputs": [],
   "source": []
  },
  {
   "cell_type": "code",
   "execution_count": null,
   "metadata": {
    "collapsed": true
   },
   "outputs": [],
   "source": []
  }
 ],
 "metadata": {
  "kernelspec": {
   "display_name": "Python 2",
   "language": "python",
   "name": "python2"
  },
  "language_info": {
   "codemirror_mode": {
    "name": "ipython",
    "version": 2
   },
   "file_extension": ".py",
   "mimetype": "text/x-python",
   "name": "python",
   "nbconvert_exporter": "python",
   "pygments_lexer": "ipython2",
   "version": "2.7.10"
  }
 },
 "nbformat": 4,
 "nbformat_minor": 0
}
