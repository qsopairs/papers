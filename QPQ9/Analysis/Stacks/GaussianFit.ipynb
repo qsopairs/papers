{
 "cells": [
  {
   "cell_type": "code",
   "execution_count": 1,
   "metadata": {
    "collapsed": true
   },
   "outputs": [],
   "source": [
    "%matplotlib inline\n",
    "from astropy.io import fits, ascii\n",
    "from astropy.table import Table\n",
    "from astropy import units as u\n",
    "import numpy as np\n",
    "import matplotlib.pyplot as plt\n",
    "from astropy.modeling import models, fitting"
   ]
  },
  {
   "cell_type": "markdown",
   "metadata": {},
   "source": [
    "# CIV, OIII stack "
   ]
  },
  {
   "cell_type": "markdown",
   "metadata": {},
   "source": [
    "## Mean stack"
   ]
  },
  {
   "cell_type": "code",
   "execution_count": 15,
   "metadata": {
    "collapsed": false
   },
   "outputs": [
    {
     "name": "stderr",
     "output_type": "stream",
     "text": [
      "WARNING: AstropyDeprecationWarning: CIV_OIII_mean_fit.dat already exists. Automatically overwriting ASCII files is deprecated. Use the argument 'overwrite=True' in the future. [astropy.io.ascii.ui]\n",
      "WARNING:astropy:AstropyDeprecationWarning: CIV_OIII_mean_fit.dat already exists. Automatically overwriting ASCII files is deprecated. Use the argument 'overwrite=True' in the future.\n"
     ]
    },
    {
     "name": "stdout",
     "output_type": "stream",
     "text": [
      "('Centroid velocity in km/s = ', Parameter('mean_1', value=129.508548311))\n",
      "('Error in centroid and dispersion = ', 29.637050569450917, 36.888585313717826)\n"
     ]
    },
    {
     "data": {
      "text/plain": [
       "<CompoundModel23(amplitude_0=0.9820864004272982, amplitude_1=0.12067924773354133, mean_1=129.5085483107168, stddev_1=252.44004484384865, amplitude_2=0.12067924773354133, mean_2=627.5085483107168, stddev_2=252.44004484384865)>"
      ]
     },
     "execution_count": 15,
     "metadata": {},
     "output_type": "execute_result"
    },
    {
     "data": {
      "image/png": "[encoded data removed]",
      "text/plain": [
       "<matplotlib.figure.Figure at 0x1121bb890>"
      ]
     },
     "metadata": {},
     "output_type": "display_data"
    }
   ],
   "source": [
    "stack = fits.open('Output/QPQ9_zOIII_1548_mean.fits')\n",
    "relativistic_equiv = u.doppler_relativistic(1548.195*u.AA)\n",
    "velo = (stack[1].data*u.AA).to(u.km/u.s,equivalencies=relativistic_equiv)\n",
    "g_1548_init = models.GaussianAbsorption1D(amplitude=0.1,mean=243.,stddev=235.)\n",
    "g_1550_init = models.GaussianAbsorption1D(amplitude=0.05,mean=243.+498.,stddev=235.)\n",
    "c_init = models.Const1D(amplitude=0.98)\n",
    "model_init = c_init*g_1548_init*g_1550_init\n",
    "def tie_mean2(model):\n",
    "    mean_2 = model.mean_1 + 498.\n",
    "    return mean_2\n",
    "def tie_stddev2(model):\n",
    "    stddev_2 = model.stddev_1 \n",
    "    return stddev_2\n",
    "def tie_amplitude2(model):\n",
    "    amplitude_2 = model.amplitude_1\n",
    "    return amplitude_2\n",
    "model_init.amplitude_2.tied = tie_amplitude2\n",
    "#model_init.amplitude_2.bounds = [0.072,1]\n",
    "model_init.mean_2.tied = tie_mean2\n",
    "model_init.stddev_2.tied = tie_stddev2\n",
    "fit = fitting.LevMarLSQFitter()\n",
    "model_final = fit(model_init,velo,stack[0].data)\n",
    "plt.figure(figsize=(8,5))\n",
    "plt.plot(velo.value,stack[0].data,drawstyle='steps-mid',linewidth=2.)\n",
    "plt.plot(velo.value,model_final(velo.value),label='Gaussian')\n",
    "plt.plot([model_final.mean_1.value,model_final.mean_1.value],[0,2],'g--')\n",
    "plt.axis([-3000,3000,0.65,1.05])\n",
    "print('Centroid velocity in km/s = ',model_final.mean_1)\n",
    "print('Error in centroid and dispersion = ',np.sqrt(fit.fit_info['param_cov'][2][2]),np.sqrt(fit.fit_info['param_cov'][3][3]))\n",
    "dict = {}\n",
    "for ii,pp in enumerate(model_final.parameters):\n",
    "    dict[model_final.param_names[ii]] = [pp]\n",
    "ascii.write(Table(dict),'CIV_OIII_mean_fit.dat')\n",
    "model_final"
   ]
  },
  {
   "cell_type": "markdown",
   "metadata": {},
   "source": [
    "## Median stack"
   ]
  },
  {
   "cell_type": "code",
   "execution_count": 16,
   "metadata": {
    "collapsed": false
   },
   "outputs": [
    {
     "name": "stderr",
     "output_type": "stream",
     "text": [
      "WARNING: AstropyDeprecationWarning: CIV_OIII_median_fit.dat already exists. Automatically overwriting ASCII files is deprecated. Use the argument 'overwrite=True' in the future. [astropy.io.ascii.ui]\n",
      "WARNING:astropy:AstropyDeprecationWarning: CIV_OIII_median_fit.dat already exists. Automatically overwriting ASCII files is deprecated. Use the argument 'overwrite=True' in the future.\n"
     ]
    },
    {
     "name": "stdout",
     "output_type": "stream",
     "text": [
      "('Centroid velocity in km/s = ', Parameter('mean_1', value=240.343638623))\n"
     ]
    },
    {
     "data": {
      "text/plain": [
       "<CompoundModel25(amplitude_0=0.98, amplitude_1=0.04834590645254944, mean_1=240.34363862320157, stddev_1=225.92484396161674, amplitude_2=0.04834590645254944, mean_2=738.3436386232015, stddev_2=225.92484396161674)>"
      ]
     },
     "execution_count": 16,
     "metadata": {},
     "output_type": "execute_result"
    },
    {
     "data": {
      "image/png": "[encoded data removed]",
      "text/plain": [
       "<matplotlib.figure.Figure at 0x1123caa50>"
      ]
     },
     "metadata": {},
     "output_type": "display_data"
    }
   ],
   "source": [
    "stack = fits.open('Output/QPQ9_zOIII_1548_med.fits')\n",
    "relativistic_equiv = u.doppler_relativistic(1548.195*u.AA)\n",
    "velo = (stack[1].data*u.AA).to(u.km/u.s,equivalencies=relativistic_equiv)\n",
    "g_1548_init = models.GaussianAbsorption1D(amplitude=0.1,mean=243.,stddev=235.)\n",
    "g_1550_init = models.GaussianAbsorption1D(amplitude=0.05,mean=243.+498.,stddev=235.)\n",
    "c_init = models.Const1D(amplitude=0.98)\n",
    "model_init = c_init*g_1548_init*g_1550_init\n",
    "model_init.amplitude_0.fixed = True\n",
    "def tie_mean2(model):\n",
    "    mean_2 = model.mean_1 + 498.\n",
    "    return mean_2\n",
    "def tie_stddev2(model):\n",
    "    stddev_2 = model.stddev_1 \n",
    "    return stddev_2\n",
    "def tie_amplitude2(model):\n",
    "    amplitude_2 = model.amplitude_1\n",
    "    return amplitude_2\n",
    "model_init.amplitude_2.tied = tie_amplitude2\n",
    "#model_init.amplitude_2.bounds = [0,0.062]\n",
    "model_init.mean_2.tied = tie_mean2\n",
    "model_init.stddev_2.tied = tie_stddev2\n",
    "fit = fitting.LevMarLSQFitter()\n",
    "model_final = fit(model_init,velo,stack[0].data)\n",
    "plt.figure(figsize=(8,5))\n",
    "plt.plot(velo.value, stack[0].data,drawstyle='steps-mid',linewidth=2.)\n",
    "plt.plot(velo.value,model_final(velo.value),label='Gaussian')\n",
    "plt.plot([model_final.mean_1.value,model_final.mean_1.value],[0,2],'g--')\n",
    "plt.axis([-3000,3000,0.65,1.05])\n",
    "print('Centroid velocity in km/s = ',model_final.mean_1)\n",
    "# for some reason this line failed\n",
    "#print('Error in centroid and dispersion = ',np.sqrt(fit.fit_info['param_cov'][2][2]),np.sqrt(fit.fit_info['param_cov'][3][3]))\n",
    "dict = {}\n",
    "for ii,pp in enumerate(model_final.parameters):\n",
    "    dict[model_final.param_names[ii]] = [pp]\n",
    "ascii.write(Table(dict),'CIV_OIII_median_fit.dat')\n",
    "model_final"
   ]
  },
  {
   "cell_type": "markdown",
   "metadata": {},
   "source": [
    "# CIV, MgII stack"
   ]
  },
  {
   "cell_type": "markdown",
   "metadata": {},
   "source": [
    "## Mean stack"
   ]
  },
  {
   "cell_type": "code",
   "execution_count": 7,
   "metadata": {
    "collapsed": false
   },
   "outputs": [
    {
     "name": "stdout",
     "output_type": "stream",
     "text": [
      "('Centroid velocity in km/s = ', Parameter('mean_1', value=6.63270714717))\n"
     ]
    },
    {
     "data": {
      "text/plain": [
       "<CompoundModel10(amplitude_0=0.9823256479556469, amplitude_1=0.0569624319711676, mean_1=6.632707147169211, stddev_1=306.6063387083451, amplitude_2=0.0569624319711676, mean_2=504.6327071471692, stddev_2=306.6063387083451)>"
      ]
     },
     "execution_count": 7,
     "metadata": {},
     "output_type": "execute_result"
    },
    {
     "data": {
      "image/png": "[encoded data removed]",
      "text/plain": [
       "<matplotlib.figure.Figure at 0x10e8c47d0>"
      ]
     },
     "metadata": {},
     "output_type": "display_data"
    }
   ],
   "source": [
    "stack = fits.open('Output/QPQ9_zIRMgII_1548_mean.fits')\n",
    "relativistic_equiv = u.doppler_relativistic(1548.195*u.AA)\n",
    "velo = (stack[1].data*u.AA).to(u.km/u.s,equivalencies=relativistic_equiv)\n",
    "g_1548_init = models.GaussianAbsorption1D(amplitude=0.1,mean=100,stddev=300.)\n",
    "g_1550_init = models.GaussianAbsorption1D(amplitude=0.05,mean=100.+498.,stddev=300.)\n",
    "c_init = models.Const1D(amplitude=0.97)\n",
    "model_init = c_init*g_1548_init*g_1550_init\n",
    "def tie_mean2(model):\n",
    "    mean_2 = model.mean_1 + 498.\n",
    "    return mean_2\n",
    "def tie_stddev2(model):\n",
    "    stddev_2 = model.stddev_1 \n",
    "    return stddev_2\n",
    "def tie_amplitude2(model):\n",
    "    amplitude_2 = model.amplitude_1\n",
    "    return amplitude_2\n",
    "model_init.amplitude_2.tied = tie_amplitude2\n",
    "model_init.mean_2.tied = tie_mean2\n",
    "model_init.stddev_2.tied = tie_stddev2\n",
    "fit = fitting.LevMarLSQFitter()\n",
    "model_final = fit(model_init,velo,stack[0].data)\n",
    "plt.figure(figsize=(8,5))\n",
    "plt.plot(velo.value,stack[0].data,drawstyle='steps-mid',linewidth=2.)\n",
    "plt.plot(velo.value,model_final(velo.value),label='Gaussian')\n",
    "plt.plot([model_final.mean_1.value,model_final.mean_1.value],[0,2],'g--')\n",
    "plt.axis([-3000,3000,0.65,1.05])\n",
    "print('Centroid velocity in km/s = ',model_final.mean_1)\n",
    "#print('Error in centroid and dispersion = ',np.sqrt(fit.fit_info['param_cov'][2][2]),np.sqrt(fit.fit_info['param_cov'][3][3]))\n",
    "dict = {}\n",
    "for ii,pp in enumerate(model_final.parameters):\n",
    "    dict[model_final.param_names[ii]] = [pp]\n",
    "ascii.write(Table(dict),'CIV_MgII_mean_fit.dat')\n",
    "model_final"
   ]
  },
  {
   "cell_type": "code",
   "execution_count": 8,
   "metadata": {
    "collapsed": false
   },
   "outputs": [
    {
     "name": "stdout",
     "output_type": "stream",
     "text": [
      "('Centroid velocity in km/s = ', Parameter('mean_1', value=59.3121179388))\n"
     ]
    },
    {
     "data": {
      "text/plain": [
       "<CompoundModel12(amplitude_0=0.9908611930573403, amplitude_1=0.02825819625554942, mean_1=59.31211793875291, stddev_1=312.54811232880064, amplitude_2=0.02825819625554942, mean_2=557.3121179387529, stddev_2=312.54811232880064)>"
      ]
     },
     "execution_count": 8,
     "metadata": {},
     "output_type": "execute_result"
    },
    {
     "data": {
      "image/png": "[encoded data removed]",
      "text/plain": [
       "<matplotlib.figure.Figure at 0x1117e5790>"
      ]
     },
     "metadata": {},
     "output_type": "display_data"
    }
   ],
   "source": [
    "stack = fits.open('Output/QPQ9_zIRMgII_1548_med.fits')\n",
    "relativistic_equiv = u.doppler_relativistic(1548.195*u.AA)\n",
    "velo = (stack[1].data*u.AA).to(u.km/u.s,equivalencies=relativistic_equiv)\n",
    "g_1548_init = models.GaussianAbsorption1D(amplitude=0.1,mean=100,stddev=235.)\n",
    "g_1550_init = models.GaussianAbsorption1D(amplitude=0.05,mean=100.+498.,stddev=235.)\n",
    "c_init = models.Const1D(amplitude=0.98)\n",
    "model_init = c_init*g_1548_init*g_1550_init\n",
    "def tie_mean2(model):\n",
    "    mean_2 = model.mean_1 + 498.\n",
    "    return mean_2\n",
    "def tie_stddev2(model):\n",
    "    stddev_2 = model.stddev_1 \n",
    "    return stddev_2\n",
    "def tie_amplitude2(model):\n",
    "    amplitude_2 = model.amplitude_1\n",
    "    return amplitude_2\n",
    "model_init.amplitude_2.tied = tie_amplitude2\n",
    "model_init.mean_2.tied = tie_mean2\n",
    "model_init.stddev_2.tied = tie_stddev2\n",
    "fit = fitting.LevMarLSQFitter()\n",
    "model_final = fit(model_init,velo,stack[0].data)\n",
    "plt.figure(figsize=(8,5))\n",
    "plt.plot(velo.value,stack[0].data,drawstyle='steps-mid',linewidth=2.)\n",
    "plt.plot(velo.value,model_final(velo.value),label='Gaussian')\n",
    "plt.plot([model_final.mean_1.value,model_final.mean_1.value],[0,2],'g--')\n",
    "plt.axis([-3000,3000,0.65,1.05])\n",
    "print('Centroid velocity in km/s = ',model_final.mean_1)\n",
    "#print('Error in centroid and dispersion = ',np.sqrt(fit.fit_info['param_cov'][2][2]),np.sqrt(fit.fit_info['param_cov'][3][3]))\n",
    "dict = {}\n",
    "for ii,pp in enumerate(model_final.parameters):\n",
    "    dict[model_final.param_names[ii]] = [pp]\n",
    "ascii.write(Table(dict),'CIV_MgII_median_fit.dat')\n",
    "model_final"
   ]
  },
  {
   "cell_type": "markdown",
   "metadata": {},
   "source": [
    "# CII, OIII stack"
   ]
  },
  {
   "cell_type": "markdown",
   "metadata": {},
   "source": [
    "## Mean stack"
   ]
  },
  {
   "cell_type": "code",
   "execution_count": 5,
   "metadata": {
    "collapsed": false
   },
   "outputs": [
    {
     "name": "stdout",
     "output_type": "stream",
     "text": [
      "('Centroid velocity in km/s = ', Parameter('mean_1', value=220.110989003))\n",
      "('Error in centroid and dispersion = ', 25.787496671999477, 27.70107494553584)\n"
     ]
    },
    {
     "data": {
      "text/plain": [
       "<CompoundModel3(amplitude_0=0.9816792466160813, amplitude_1=0.1546990341203578, mean_1=220.11098900277293, stddev_1=362.3200772177433)>"
      ]
     },
     "execution_count": 5,
     "metadata": {},
     "output_type": "execute_result"
    },
    {
     "data": {
      "image/png": "[encoded data removed]",
      "text/plain": [
       "<matplotlib.figure.Figure at 0x1109e8c90>"
      ]
     },
     "metadata": {},
     "output_type": "display_data"
    }
   ],
   "source": [
    "stack = fits.open('Output/QPQ9_zOIII_1334_mean.fits')\n",
    "relativistic_equiv = u.doppler_relativistic(1334.5323*u.AA)\n",
    "velo = (stack[1].data*u.AA).to(u.km/u.s,equivalencies=relativistic_equiv)\n",
    "g_init = models.GaussianAbsorption1D(amplitude=0.2,mean=170.,stddev=388.)\n",
    "c_init = models.Const1D(amplitude=0.98)\n",
    "model_init = c_init*g_init\n",
    "fit = fitting.LevMarLSQFitter()\n",
    "model_final = fit(model_init,velo,stack[0].data)\n",
    "plt.figure(figsize=(8,5))\n",
    "plt.plot(velo.value,stack[0].data,drawstyle='steps-mid',linewidth=2.)\n",
    "plt.plot(velo.value,model_final(velo.value),label='Gaussian')\n",
    "plt.plot([model_final.mean_1.value,model_final.mean_1.value],[0,2],'g--')\n",
    "plt.axis([-3000,3000,0.65,1.05])\n",
    "print('Centroid velocity in km/s = ',model_final.mean_1)\n",
    "print('Error in centroid and dispersion = ',np.sqrt(fit.fit_info['param_cov'][2][2]),np.sqrt(fit.fit_info['param_cov'][3][3]))\n",
    "dict = {}\n",
    "for ii,pp in enumerate(model_final.parameters):\n",
    "    dict[model_final.param_names[ii]] = [pp]\n",
    "ascii.write(Table(dict),'CII_OIII_mean_fit.dat')\n",
    "model_final"
   ]
  },
  {
   "cell_type": "markdown",
   "metadata": {},
   "source": [
    "## Median stack"
   ]
  },
  {
   "cell_type": "code",
   "execution_count": 6,
   "metadata": {
    "collapsed": false
   },
   "outputs": [
    {
     "name": "stderr",
     "output_type": "stream",
     "text": [
      "WARNING: AstropyDeprecationWarning: CII_OIII_median_fit.dat already exists. Automatically overwriting ASCII files is deprecated. Use the argument 'overwrite=True' in the future. [astropy.io.ascii.ui]\n",
      "WARNING:astropy:AstropyDeprecationWarning: CII_OIII_median_fit.dat already exists. Automatically overwriting ASCII files is deprecated. Use the argument 'overwrite=True' in the future.\n"
     ]
    },
    {
     "name": "stdout",
     "output_type": "stream",
     "text": [
      "('Centroid velocity in km/s = ', Parameter('mean_1', value=154.313346609))\n",
      "('Error in centroid and dispersion = ', 64.094313817702243, 67.901069186458997)\n"
     ]
    },
    {
     "data": {
      "text/plain": [
       "<CompoundModel4(amplitude_0=0.9909298963450428, amplitude_1=0.030029700985339434, mean_1=154.31334660866992, stddev_1=307.8717452305234)>"
      ]
     },
     "execution_count": 6,
     "metadata": {},
     "output_type": "execute_result"
    },
    {
     "data": {
      "image/png": "[encoded data removed]",
      "text/plain": [
       "<matplotlib.figure.Figure at 0x1109e8b50>"
      ]
     },
     "metadata": {},
     "output_type": "display_data"
    }
   ],
   "source": [
    "stack = fits.open('Output/QPQ9_zOIII_1334_med.fits')\n",
    "relativistic_equiv = u.doppler_relativistic(1334.5323*u.AA)\n",
    "velo = (stack[1].data*u.AA).to(u.km/u.s,equivalencies=relativistic_equiv)\n",
    "g_init = models.GaussianAbsorption1D(amplitude=0.2,mean=257.,stddev=268.)\n",
    "c_init = models.Const1D(amplitude=0.98)\n",
    "model_init = c_init*g_init\n",
    "fit = fitting.LevMarLSQFitter()\n",
    "model_final = fit(model_init,velo,stack[0].data)\n",
    "plt.figure(figsize=(8,5))\n",
    "plt.plot(velo.value,stack[0].data,drawstyle='steps-mid',linewidth=2.)\n",
    "plt.plot(velo.value,model_final(velo.value),label='Gaussian')\n",
    "plt.plot([model_final.mean_1.value,model_final.mean_1.value],[0,2],'g--')\n",
    "plt.axis([-3000,3000,0.65,1.05])\n",
    "print('Centroid velocity in km/s = ',model_final.mean_1)\n",
    "print('Error in centroid and dispersion = ',np.sqrt(fit.fit_info['param_cov'][2][2]),np.sqrt(fit.fit_info['param_cov'][3][3]))\n",
    "dict = {}\n",
    "for ii,pp in enumerate(model_final.parameters):\n",
    "    dict[model_final.param_names[ii]] = [pp]\n",
    "ascii.write(Table(dict),'CII_OIII_median_fit.dat')\n",
    "model_final"
   ]
  },
  {
   "cell_type": "markdown",
   "metadata": {},
   "source": [
    "# CII, MgII stack "
   ]
  },
  {
   "cell_type": "markdown",
   "metadata": {},
   "source": [
    "## Mean stack"
   ]
  },
  {
   "cell_type": "code",
   "execution_count": 2,
   "metadata": {
    "collapsed": false
   },
   "outputs": [
    {
     "name": "stderr",
     "output_type": "stream",
     "text": [
      "WARNING: AstropyDeprecationWarning: CII_MgII_mean_fit.dat already exists. Automatically overwriting ASCII files is deprecated. Use the argument 'overwrite=True' in the future. [astropy.io.ascii.ui]\n",
      "WARNING:astropy:AstropyDeprecationWarning: CII_MgII_mean_fit.dat already exists. Automatically overwriting ASCII files is deprecated. Use the argument 'overwrite=True' in the future.\n"
     ]
    },
    {
     "name": "stdout",
     "output_type": "stream",
     "text": [
      "('Centroid velocity in km/s = ', Parameter('mean_1', value=226.617099774))\n",
      "('Error in amplitude =', 0.010551513988380406)\n",
      "('Error in centroid and dispersion = ', 32.656692580419922, 34.616153661093065)\n"
     ]
    },
    {
     "data": {
      "text/plain": [
       "<CompoundModel0(amplitude_0=0.9782648629727789, amplitude_1=0.11412377204535307, mean_1=226.61709977403444, stddev_1=310.2574929062832)>"
      ]
     },
     "execution_count": 2,
     "metadata": {},
     "output_type": "execute_result"
    },
    {
     "data": {
      "image/png": "[encoded data removed]",
      "text/plain": [
       "<matplotlib.figure.Figure at 0x10e8cc450>"
      ]
     },
     "metadata": {},
     "output_type": "display_data"
    }
   ],
   "source": [
    "stack = fits.open('Output/QPQ9_zIRMgII_1334_mean.fits')\n",
    "relativistic_equiv = u.doppler_relativistic(1334.5323*u.AA)\n",
    "velo = (stack[1].data*u.AA).to(u.km/u.s,equivalencies=relativistic_equiv)\n",
    "g_init = models.GaussianAbsorption1D(amplitude=0.2,mean=100.,stddev=300.)\n",
    "c_init = models.Const1D(amplitude=0.98)\n",
    "model_init = c_init*g_init\n",
    "fit = fitting.LevMarLSQFitter()\n",
    "model_final = fit(model_init,velo,stack[0].data)\n",
    "plt.figure(figsize=(8,5))\n",
    "plt.plot(velo.value,stack[0].data,drawstyle='steps-mid',linewidth=2.)\n",
    "plt.plot(velo.value,model_final(velo.value),label='Gaussian')\n",
    "plt.plot([model_final.mean_1.value,model_final.mean_1.value],[0,2],'g--')\n",
    "plt.axis([-3000,3000,0.65,1.05])\n",
    "print('Centroid velocity in km/s = ',model_final.mean_1)\n",
    "print('Error in amplitude =',np.sqrt(fit.fit_info['param_cov'][1][1]))\n",
    "print('Error in centroid and dispersion = ',np.sqrt(fit.fit_info['param_cov'][2][2]),np.sqrt(fit.fit_info['param_cov'][3][3]))\n",
    "dict = {}\n",
    "for ii,pp in enumerate(model_final.parameters):\n",
    "    dict[model_final.param_names[ii]] = [pp]\n",
    "ascii.write(Table(dict),'CII_MgII_mean_fit.dat')\n",
    "model_final"
   ]
  },
  {
   "cell_type": "markdown",
   "metadata": {},
   "source": [
    "## Median stack "
   ]
  },
  {
   "cell_type": "code",
   "execution_count": 3,
   "metadata": {
    "collapsed": false
   },
   "outputs": [
    {
     "name": "stderr",
     "output_type": "stream",
     "text": [
      "WARNING: AstropyDeprecationWarning: CII_MgII_median_fit.dat already exists. Automatically overwriting ASCII files is deprecated. Use the argument 'overwrite=True' in the future. [astropy.io.ascii.ui]\n",
      "WARNING:astropy:AstropyDeprecationWarning: CII_MgII_median_fit.dat already exists. Automatically overwriting ASCII files is deprecated. Use the argument 'overwrite=True' in the future.\n"
     ]
    },
    {
     "name": "stdout",
     "output_type": "stream",
     "text": [
      "('Centroid velocity in km/s = ', Parameter('mean_1', value=104.822938177))\n",
      "('Error in centroid and dispersion = ', 48.662336182772414, 51.275604087736411)\n"
     ]
    },
    {
     "data": {
      "text/plain": [
       "<CompoundModel1(amplitude_0=0.9875605656713918, amplitude_1=0.03385227066360782, mean_1=104.82293817718184, stddev_1=285.1360142013273)>"
      ]
     },
     "execution_count": 3,
     "metadata": {},
     "output_type": "execute_result"
    },
    {
     "data": {
      "image/png": "[encoded data removed]",
      "text/plain": [
       "<matplotlib.figure.Figure at 0x10e18b190>"
      ]
     },
     "metadata": {},
     "output_type": "display_data"
    }
   ],
   "source": [
    "stack = fits.open('Output/QPQ9_zIRMgII_1334_med.fits')\n",
    "relativistic_equiv = u.doppler_relativistic(1334.5323*u.AA)\n",
    "velo = (stack[1].data*u.AA).to(u.km/u.s,equivalencies=relativistic_equiv)\n",
    "g_init = models.GaussianAbsorption1D(amplitude=0.2,mean=100.,stddev=300.)\n",
    "c_init = models.Const1D(amplitude=0.98)\n",
    "model_init = c_init*g_init\n",
    "fit = fitting.LevMarLSQFitter()\n",
    "model_final = fit(model_init,velo,stack[0].data)\n",
    "plt.figure(figsize=(8,5))\n",
    "plt.plot(velo.value,stack[0].data,drawstyle='steps-mid',linewidth=2.)\n",
    "plt.plot(velo.value,model_final(velo.value),label='Gaussian')\n",
    "plt.plot([model_final.mean_1.value,model_final.mean_1.value],[0,2],'g--')\n",
    "plt.axis([-3000,3000,0.65,1.05])\n",
    "print('Centroid velocity in km/s = ',model_final.mean_1)\n",
    "print('Error in centroid and dispersion = ',np.sqrt(fit.fit_info['param_cov'][2][2]),np.sqrt(fit.fit_info['param_cov'][3][3]))\n",
    "dict = {}\n",
    "for ii,pp in enumerate(model_final.parameters):\n",
    "    dict[model_final.param_names[ii]] = [pp]\n",
    "ascii.write(Table(dict),'CII_MgII_median_fit.dat')\n",
    "model_final"
   ]
  },
  {
   "cell_type": "markdown",
   "metadata": {},
   "source": [
    "# MgII, OIII stack"
   ]
  },
  {
   "cell_type": "markdown",
   "metadata": {},
   "source": [
    "## Mean stack "
   ]
  },
  {
   "cell_type": "code",
   "execution_count": 14,
   "metadata": {
    "collapsed": false
   },
   "outputs": [
    {
     "name": "stdout",
     "output_type": "stream",
     "text": [
      "('Centroid velocity in km/s = ', Parameter('mean_1', value=211.522538652))\n"
     ]
    },
    {
     "data": {
      "text/plain": [
       "<CompoundModel19(amplitude_0=0.9543861215362727, amplitude_1=0.1888930700315003, mean_1=211.5225386522155, stddev_1=231.41179517410805, amplitude_2=0.15707341455877014, mean_2=980.5225386522155, stddev_2=231.41179517410805)>"
      ]
     },
     "execution_count": 14,
     "metadata": {},
     "output_type": "execute_result"
    },
    {
     "data": {
      "image/png": "[encoded data removed]",
      "text/plain": [
       "<matplotlib.figure.Figure at 0x110edda50>"
      ]
     },
     "metadata": {},
     "output_type": "display_data"
    }
   ],
   "source": [
    "stack = fits.open('Output/QPQ9_zOIII_2796_mean.fits')\n",
    "relativistic_equiv = u.doppler_relativistic(2796.354*u.AA)\n",
    "velo = (stack[1].data*u.AA).to(u.km/u.s,equivalencies=relativistic_equiv)\n",
    "g_2796_init = models.GaussianAbsorption1D(amplitude=0.3,mean=200.,stddev=250.)\n",
    "g_2803_init = models.GaussianAbsorption1D(amplitude=0.15,mean=969.,stddev=250.)\n",
    "c_init = models.Const1D(amplitude=0.95)\n",
    "model_init = c_init*g_2796_init*g_2803_init\n",
    "def tie_mean2(model):\n",
    "    mean_2 = model.mean_1 + 769.\n",
    "    return mean_2\n",
    "def tie_stddev2(model):\n",
    "    stddev_2 = model.stddev_1 \n",
    "    return stddev_2\n",
    "model_init.mean_2.tied = tie_mean2\n",
    "model_init.stddev_2.tied = tie_stddev2\n",
    "fit = fitting.LevMarLSQFitter()\n",
    "model_final = fit(model_init,velo,stack[0].data)\n",
    "plt.figure(figsize=(8,5))\n",
    "plt.plot(velo.value,stack[0].data,drawstyle='steps-mid',linewidth=2.)\n",
    "plt.plot(velo.value,model_final(velo.value),label='Gaussian')\n",
    "plt.plot([model_final.mean_1.value,model_final.mean_1.value],[0,2],'g--')\n",
    "plt.axis([-3000,3000,0.65,1.05])\n",
    "print('Centroid velocity in km/s = ',model_final.mean_1)\n",
    "#print('Error in centroid and dispersion = ',np.sqrt(fit.fit_info['param_cov'][2][2]),np.sqrt(fit.fit_info['param_cov'][3][3]))\n",
    "dict = {}\n",
    "for ii,pp in enumerate(model_final.parameters):\n",
    "    dict[model_final.param_names[ii]] = [pp]\n",
    "ascii.write(Table(dict),'MgII_OIII_mean_fit.dat')\n",
    "model_final"
   ]
  },
  {
   "cell_type": "markdown",
   "metadata": {},
   "source": [
    "## Median stack"
   ]
  },
  {
   "cell_type": "code",
   "execution_count": 15,
   "metadata": {
    "collapsed": false
   },
   "outputs": [
    {
     "name": "stdout",
     "output_type": "stream",
     "text": [
      "('Centroid velocity in km/s = ', Parameter('mean_1', value=242.024536723))\n"
     ]
    },
    {
     "data": {
      "text/plain": [
       "<CompoundModel21(amplitude_0=0.9776137888494534, amplitude_1=0.14192152288881557, mean_1=242.0245367233401, stddev_1=180.07545829400934, amplitude_2=0.06294756960996699, mean_2=1011.0245367233401, stddev_2=180.07545829400934)>"
      ]
     },
     "execution_count": 15,
     "metadata": {},
     "output_type": "execute_result"
    },
    {
     "data": {
      "image/png": "[encoded data removed]",
      "text/plain": [
       "<matplotlib.figure.Figure at 0x111826b10>"
      ]
     },
     "metadata": {},
     "output_type": "display_data"
    }
   ],
   "source": [
    "stack = fits.open('Output/QPQ9_zOIII_2796_med.fits')\n",
    "relativistic_equiv = u.doppler_relativistic(2796.354*u.AA)\n",
    "velo = (stack[1].data*u.AA).to(u.km/u.s,equivalencies=relativistic_equiv)\n",
    "g_2796_init = models.GaussianAbsorption1D(amplitude=0.3,mean=250.,stddev=250.)\n",
    "g_2803_init = models.GaussianAbsorption1D(amplitude=0.15,mean=1019.,stddev=250.)\n",
    "c_init = models.Const1D(amplitude=0.95)\n",
    "model_init = c_init*g_2796_init*g_2803_init\n",
    "def tie_mean2(model):\n",
    "    mean_2 = model.mean_1 + 769.\n",
    "    return mean_2\n",
    "def tie_stddev2(model):\n",
    "    stddev_2 = model.stddev_1 \n",
    "    return stddev_2\n",
    "model_init.mean_2.tied = tie_mean2\n",
    "model_init.stddev_2.tied = tie_stddev2\n",
    "fit = fitting.LevMarLSQFitter()\n",
    "model_final = fit(model_init,velo,stack[0].data)\n",
    "plt.figure(figsize=(8,5))\n",
    "plt.plot(velo.value,stack[0].data,drawstyle='steps-mid',linewidth=2.)\n",
    "plt.plot(velo.value,model_final(velo.value),label='Gaussian')\n",
    "plt.plot([model_final.mean_1.value,model_final.mean_1.value],[0,2],'g--')\n",
    "plt.axis([-3000,3000,0.6,1.05])\n",
    "print('Centroid velocity in km/s = ',model_final.mean_1)\n",
    "#print('Error in centroid and dispersion = ',np.sqrt(fit.fit_info['param_cov'][2][2]),np.sqrt(fit.fit_info['param_cov'][3][3]))\n",
    "dict = {}\n",
    "for ii,pp in enumerate(model_final.parameters):\n",
    "    dict[model_final.param_names[ii]] = [pp]\n",
    "ascii.write(Table(dict),'MgII_OIII_median_fit.dat')\n",
    "model_final"
   ]
  },
  {
   "cell_type": "markdown",
   "metadata": {
    "collapsed": true
   },
   "source": [
    "# MgII, MgII stack "
   ]
  },
  {
   "cell_type": "markdown",
   "metadata": {},
   "source": [
    "## Mean stack"
   ]
  },
  {
   "cell_type": "code",
   "execution_count": 5,
   "metadata": {
    "collapsed": false
   },
   "outputs": [
    {
     "name": "stderr",
     "output_type": "stream",
     "text": [
      "WARNING: AstropyDeprecationWarning: MgII_MgII_mean_fit.dat already exists. Automatically overwriting ASCII files is deprecated. Use the argument 'overwrite=True' in the future. [astropy.io.ascii.ui]\n",
      "WARNING:astropy:AstropyDeprecationWarning: MgII_MgII_mean_fit.dat already exists. Automatically overwriting ASCII files is deprecated. Use the argument 'overwrite=True' in the future.\n"
     ]
    },
    {
     "name": "stdout",
     "output_type": "stream",
     "text": [
      "('Centroid velocity in km/s = ', Parameter('mean_1', value=219.538921341))\n",
      "('Error in centroid and dispersion = ', 39.060280410378027, 29.735161772334919)\n"
     ]
    },
    {
     "data": {
      "text/plain": [
       "<CompoundModel6(amplitude_0=0.9903550736804922, amplitude_1=0.07979256143974363, mean_1=219.53892134143598, stddev_1=290.58997394900075, amplitude_2=0.060833441917267785, mean_2=988.538921341436, stddev_2=290.58997394900075)>"
      ]
     },
     "execution_count": 5,
     "metadata": {},
     "output_type": "execute_result"
    },
    {
     "data": {
      "image/png": "[encoded data removed]",
      "text/plain": [
       "<matplotlib.figure.Figure at 0x110de7d10>"
      ]
     },
     "metadata": {},
     "output_type": "display_data"
    }
   ],
   "source": [
    "stack = fits.open('Output/QPQ9_zIRMgII_2796_mean.fits')\n",
    "relativistic_equiv = u.doppler_relativistic(2796.354*u.AA)\n",
    "velo = (stack[1].data*u.AA).to(u.km/u.s,equivalencies=relativistic_equiv)\n",
    "g_2796_init = models.GaussianAbsorption1D(amplitude=0.3,mean=400.,stddev=250.)\n",
    "g_2803_init = models.GaussianAbsorption1D(amplitude=0.15,mean=1169.,stddev=250.)\n",
    "c_init = models.Const1D(amplitude=0.95)\n",
    "model_init = c_init*g_2796_init*g_2803_init\n",
    "def tie_mean2(model):\n",
    "    mean_2 = model.mean_1 + 769.\n",
    "    return mean_2\n",
    "def tie_stddev2(model):\n",
    "    stddev_2 = model.stddev_1 \n",
    "    return stddev_2\n",
    "model_init.mean_2.tied = tie_mean2\n",
    "model_init.stddev_2.tied = tie_stddev2\n",
    "fit = fitting.LevMarLSQFitter()\n",
    "model_final = fit(model_init,velo,stack[0].data)\n",
    "plt.figure(figsize=(8,5))\n",
    "plt.plot(velo.value,stack[0].data,drawstyle='steps-mid',linewidth=2.)\n",
    "plt.plot(velo.value,model_final(velo.value),label='Gaussian')\n",
    "plt.plot([model_final.mean_1.value,model_final.mean_1.value],[0,2],'g--')\n",
    "plt.axis([-3000,3000,0.65,1.05])\n",
    "print('Centroid velocity in km/s = ',model_final.mean_1)\n",
    "#for some reason this line failed\n",
    "print('Error in centroid and dispersion = ',np.sqrt(fit.fit_info['param_cov'][2][2]),np.sqrt(fit.fit_info['param_cov'][3][3]))\n",
    "dict = {}\n",
    "for ii,pp in enumerate(model_final.parameters):\n",
    "    dict[model_final.param_names[ii]] = [pp]\n",
    "ascii.write(Table(dict),'MgII_MgII_mean_fit.dat')\n",
    "model_final"
   ]
  },
  {
   "cell_type": "markdown",
   "metadata": {},
   "source": [
    "## Median stack"
   ]
  },
  {
   "cell_type": "code",
   "execution_count": 6,
   "metadata": {
    "collapsed": false
   },
   "outputs": [
    {
     "name": "stderr",
     "output_type": "stream",
     "text": [
      "WARNING: AstropyDeprecationWarning: MgII_MgII_median_fit.dat already exists. Automatically overwriting ASCII files is deprecated. Use the argument 'overwrite=True' in the future. [astropy.io.ascii.ui]\n",
      "WARNING:astropy:AstropyDeprecationWarning: MgII_MgII_median_fit.dat already exists. Automatically overwriting ASCII files is deprecated. Use the argument 'overwrite=True' in the future.\n"
     ]
    },
    {
     "name": "stdout",
     "output_type": "stream",
     "text": [
      "('Centroid velocity in km/s = ', Parameter('mean_1', value=134.10857435))\n"
     ]
    },
    {
     "data": {
      "text/plain": [
       "<CompoundModel8(amplitude_0=0.9914064663043097, amplitude_1=0.026529244094623122, mean_1=134.1085743498757, stddev_1=295.27540560543616, amplitude_2=0.026529244094623122, mean_2=903.1085743498757, stddev_2=295.27540560543616)>"
      ]
     },
     "execution_count": 6,
     "metadata": {},
     "output_type": "execute_result"
    },
    {
     "data": {
      "image/png": "[encoded data removed]",
      "text/plain": [
       "<matplotlib.figure.Figure at 0x10e8c4790>"
      ]
     },
     "metadata": {},
     "output_type": "display_data"
    }
   ],
   "source": [
    "stack = fits.open('Output/QPQ9_zIRMgII_2796_med.fits')\n",
    "relativistic_equiv = u.doppler_relativistic(2796.354*u.AA)\n",
    "velo = (stack[1].data*u.AA).to(u.km/u.s,equivalencies=relativistic_equiv)\n",
    "g_2796_init = models.GaussianAbsorption1D(amplitude=0.1,mean=100.,stddev=250.)\n",
    "g_2803_init = models.GaussianAbsorption1D(amplitude=0.05,mean=869.,stddev=250.)\n",
    "c_init = models.Const1D(amplitude=0.99)\n",
    "model_init = c_init*g_2796_init*g_2803_init\n",
    "def tie_amplitude2(model):\n",
    "    amplitude_2 = model.amplitude_1\n",
    "    return amplitude_2\n",
    "def tie_mean2(model):\n",
    "    mean_2 = model.mean_1 + 769.\n",
    "    return mean_2\n",
    "def tie_stddev2(model):\n",
    "    stddev_2 = model.stddev_1 \n",
    "    return stddev_2\n",
    "model_init.amplitude_2.tied = tie_amplitude2\n",
    "model_init.mean_2.tied = tie_mean2\n",
    "model_init.stddev_2.tied = tie_stddev2\n",
    "fit = fitting.LevMarLSQFitter()\n",
    "model_final = fit(model_init,velo,stack[0].data)\n",
    "plt.figure(figsize=(8,5))\n",
    "plt.plot(velo.value,stack[0].data,drawstyle='steps-mid',linewidth=2.)\n",
    "plt.plot(velo.value,model_final(velo.value),label='Gaussian')\n",
    "plt.plot([model_final.mean_1.value,model_final.mean_1.value],[0,2],'g--')\n",
    "plt.axis([-3000,3000,0.65,1.05])\n",
    "print('Centroid velocity in km/s = ',model_final.mean_1)\n",
    "#For some reason this line failed\n",
    "#print('Error in centroid and dispersion = ',np.sqrt(fit.fit_info['param_cov'][2][2]),np.sqrt(fit.fit_info['param_cov'][3][3]))\n",
    "dict = {}\n",
    "for ii,pp in enumerate(model_final.parameters):\n",
    "    dict[model_final.param_names[ii]] = [pp]\n",
    "ascii.write(Table(dict),'MgII_MgII_median_fit.dat')\n",
    "model_final"
   ]
  },
  {
   "cell_type": "markdown",
   "metadata": {},
   "source": [
    "# MgII at z = 1 stack"
   ]
  },
  {
   "cell_type": "markdown",
   "metadata": {},
   "source": [
    "## Mean stack  "
   ]
  },
  {
   "cell_type": "code",
   "execution_count": 3,
   "metadata": {
    "collapsed": false
   },
   "outputs": [
    {
     "name": "stdout",
     "output_type": "stream",
     "text": [
      "('Centroid velocity in km/s = ', Parameter('mean_1', value=-9.38346169633))\n"
     ]
    },
    {
     "data": {
      "text/plain": [
       "<CompoundModel3(amplitude_0=0.9928443313665107, amplitude_1=0.03487518929446777, mean_1=-9.383461696325682, stddev_1=160.7750854212131, amplitude_2=0.02552420690073549, mean_2=759.6165383036744, stddev_2=160.7750854212131)>"
      ]
     },
     "execution_count": 3,
     "metadata": {},
     "output_type": "execute_result"
    },
    {
     "data": {
      "image/png": "[encoded data removed]",
      "text/plain": [
       "<matplotlib.figure.Figure at 0x10829e850>"
      ]
     },
     "metadata": {},
     "output_type": "display_data"
    }
   ],
   "source": [
    "stack = fits.open('Output/QPQ9_zIRMgII_2796_z1_mean.fits')\n",
    "relativistic_equiv = u.doppler_relativistic(2796.354*u.AA)\n",
    "velo = (stack[1].data*u.AA).to(u.km/u.s,equivalencies=relativistic_equiv)\n",
    "g_2796_init = models.GaussianAbsorption1D(amplitude=0.3,mean=0.,stddev=250.)\n",
    "g_2803_init = models.GaussianAbsorption1D(amplitude=0.15,mean=769.,stddev=250.)\n",
    "c_init = models.Const1D(amplitude=0.95)\n",
    "model_init = c_init*g_2796_init*g_2803_init\n",
    "def tie_mean2(model):\n",
    "    mean_2 = model.mean_1 + 769.\n",
    "    return mean_2\n",
    "def tie_stddev2(model):\n",
    "    stddev_2 = model.stddev_1 \n",
    "    return stddev_2\n",
    "model_init.mean_2.tied = tie_mean2\n",
    "model_init.stddev_2.tied = tie_stddev2\n",
    "fit = fitting.LevMarLSQFitter()\n",
    "model_final = fit(model_init,velo,stack[0].data)\n",
    "plt.figure(figsize=(8,5))\n",
    "plt.plot(velo.value,stack[0].data,drawstyle='steps-mid',linewidth=2.)\n",
    "plt.plot(velo.value,model_final(velo.value),label='Gaussian')\n",
    "plt.plot([model_final.mean_1.value,model_final.mean_1.value],[0,2],'g--')\n",
    "plt.axis([-3000,3000,0.65,1.05])\n",
    "print('Centroid velocity in km/s = ',model_final.mean_1)\n",
    "#print('Error in centroid and dispersion = ',np.sqrt(fit.fit_info['param_cov'][2][2]),np.sqrt(fit.fit_info['param_cov'][3][3]))\n",
    "dict = {}\n",
    "for ii,pp in enumerate(model_final.parameters):\n",
    "    dict[model_final.param_names[ii]] = [pp]\n",
    "ascii.write(Table(dict),'MgII_z1_mean_fit.dat')\n",
    "model_final"
   ]
  },
  {
   "cell_type": "code",
   "execution_count": 3,
   "metadata": {
    "collapsed": false
   },
   "outputs": [
    {
     "name": "stdout",
     "output_type": "stream",
     "text": [
      "[[  1.40682905e-04   4.99447689e-05  -6.31738043e-01]\n",
      " [  4.99447689e-05   3.59389607e+03  -2.36196703e-01]\n",
      " [ -6.31738043e-01  -2.36196703e-01   3.85551901e+03]]\n"
     ]
    },
    {
     "data": {
      "text/plain": [
       "(u'amplitude_0',\n",
       " u'amplitude_1',\n",
       " u'mean_1',\n",
       " u'stddev_1',\n",
       " u'amplitude_2',\n",
       " u'mean_2',\n",
       " u'stddev_2')"
      ]
     },
     "execution_count": 3,
     "metadata": {},
     "output_type": "execute_result"
    }
   ],
   "source": [
    "print(fit.fit_info['param_cov'])\n",
    "model_final.param_names"
   ]
  },
  {
   "cell_type": "markdown",
   "metadata": {},
   "source": [
    "## Median stack "
   ]
  },
  {
   "cell_type": "code",
   "execution_count": 3,
   "metadata": {
    "collapsed": false
   },
   "outputs": [
    {
     "name": "stdout",
     "output_type": "stream",
     "text": [
      "('Centroid velocity in km/s = ', Parameter('mean_1', value=-99.6009144825))\n"
     ]
    },
    {
     "data": {
      "text/plain": [
       "<CompoundModel3(amplitude_0=0.9985079631680934, amplitude_1=0.01649071099317348, mean_1=-99.6009144825078, stddev_1=177.62512659419423, amplitude_2=0.012711027697178192, mean_2=669.3990855174922, stddev_2=177.62512659419423)>"
      ]
     },
     "execution_count": 3,
     "metadata": {},
     "output_type": "execute_result"
    },
    {
     "data": {
      "image/png": "[encoded data removed]",
      "text/plain": [
       "<matplotlib.figure.Figure at 0x10816c0d0>"
      ]
     },
     "metadata": {},
     "output_type": "display_data"
    }
   ],
   "source": [
    "stack = fits.open('Output/QPQ9_zIRMgII_2796_z1_med.fits')\n",
    "relativistic_equiv = u.doppler_relativistic(2796.354*u.AA)\n",
    "velo = (stack[1].data*u.AA).to(u.km/u.s,equivalencies=relativistic_equiv)\n",
    "g_2796_init = models.GaussianAbsorption1D(amplitude=0.3,mean=0.,stddev=250.)\n",
    "g_2803_init = models.GaussianAbsorption1D(amplitude=0.15,mean=769.,stddev=250.)\n",
    "c_init = models.Const1D(amplitude=0.95)\n",
    "model_init = c_init*g_2796_init*g_2803_init\n",
    "def tie_mean2(model):\n",
    "    mean_2 = model.mean_1 + 769.\n",
    "    return mean_2\n",
    "def tie_stddev2(model):\n",
    "    stddev_2 = model.stddev_1 \n",
    "    return stddev_2\n",
    "model_init.mean_2.tied = tie_mean2\n",
    "model_init.stddev_2.tied = tie_stddev2\n",
    "fit = fitting.LevMarLSQFitter()\n",
    "model_final = fit(model_init,velo,stack[0].data)\n",
    "plt.figure(figsize=(8,5))\n",
    "plt.plot(velo.value,stack[0].data,drawstyle='steps-mid',linewidth=2.)\n",
    "plt.plot(velo.value,model_final(velo.value),label='Gaussian')\n",
    "plt.plot([model_final.mean_1.value,model_final.mean_1.value],[0,2],'g--')\n",
    "plt.axis([-3000,3000,0.65,1.05])\n",
    "print('Centroid velocity in km/s = ',model_final.mean_1)\n",
    "#print('Error in centroid and dispersion = ',np.sqrt(fit.fit_info['param_cov'][2][2]),np.sqrt(fit.fit_info['param_cov'][3][3]))\n",
    "dict = {}\n",
    "for ii,pp in enumerate(model_final.parameters):\n",
    "    dict[model_final.param_names[ii]] = [pp]\n",
    "ascii.write(Table(dict),'MgII_z1_median_fit.dat')\n",
    "model_final"
   ]
  },
  {
   "cell_type": "markdown",
   "metadata": {
    "collapsed": true
   },
   "source": [
    "# CIV foreground quasar stack "
   ]
  },
  {
   "cell_type": "code",
   "execution_count": 60,
   "metadata": {
    "collapsed": false
   },
   "outputs": [
    {
     "data": {
      "text/plain": [
       "<CompoundModel92(slope_0=1.6216453676836206e-06, intercept_0=0.9835803072187345, amplitude_1=0.028672582135876, mean_1=-2512.039953476008, stddev_1=2079.834165724614, amplitude_2=0.028672582135876, mean_2=-2014.0399534760081, stddev_2=2079.834165724614)>"
      ]
     },
     "execution_count": 60,
     "metadata": {},
     "output_type": "execute_result"
    },
    {
     "data": {
      "image/png": "[encoded data removed]",
      "text/plain": [
       "<matplotlib.figure.Figure at 0x112a95b50>"
      ]
     },
     "metadata": {},
     "output_type": "display_data"
    }
   ],
   "source": [
    "CIV_stack = fits.open('Output/QPQ9_1548_fg_mean.fits')\n",
    "relativistic_equiv = u.doppler_relativistic(1548.195*u.AA)\n",
    "velo = (CIV_stack[1].data*u.AA).to(u.km/u.s,equivalencies=relativistic_equiv)\n",
    "g1_1548_init = models.GaussianAbsorption1D(amplitude=0.05,mean=-4000.,stddev=1000.)\n",
    "g1_1550_init = models.GaussianAbsorption1D(amplitude=0.05,mean=-4000.+498.,stddev=1000.)\n",
    "#g2_1548_init = models.GaussianAbsorption1D(amplitude=0.01,mean=-400.,stddev=500.)\n",
    "#g2_1550_init = models.GaussianAbsorption1D(amplitude=0.01,mean=-400.+498.,stddev=500.)\n",
    "l_init = models.Linear1D(intercept=0.97,slope=0.00001)\n",
    "#model_init = l_init*(g1_1548_init*g1_1550_init)*(g2_1548_init*g2_1550_init)\n",
    "model_init = l_init*(g1_1548_init*g1_1550_init)\n",
    "def tie_mean2(model):\n",
    "    mean_2 = model.mean_1 + 498.\n",
    "    return mean_2\n",
    "def tie_stddev2(model):\n",
    "    stddev_2 = model.stddev_1 \n",
    "    return stddev_2\n",
    "def tie_amplitude2(model):\n",
    "    amplitude_2 = model.amplitude_1\n",
    "    return amplitude_2\n",
    "#def tie_mean4(model):\n",
    "#    mean_4 = model.mean_3 + 498.\n",
    "#    return mean_4\n",
    "#def tie_stddev4(model):\n",
    "#    stddev_4 = model.stddev_3\n",
    "#    return stddev_4\n",
    "model_init.mean_2.tied = tie_mean2\n",
    "model_init.stddev_2.tied = tie_stddev2\n",
    "model_init.amplitude_2.tied = tie_amplitude2\n",
    "#model_init.mean_4.tied = tie_mean4\n",
    "#model_init.stddev_4.tied = tie_stddev4\n",
    "fit = fitting.LevMarLSQFitter()\n",
    "model_final = fit(model_init,velo,CIV_stack[0].data)\n",
    "plt.figure(figsize=(8,5))\n",
    "plt.plot(velo.value, CIV_stack[0].data,drawstyle='steps-mid',linewidth=2.)\n",
    "plt.plot(velo.value, model_final(velo.value), label='Gaussian')\n",
    "plt.axis([-10000,10000,0.90,1.05])\n",
    "model_final\n"
   ]
  },
  {
   "cell_type": "code",
   "execution_count": null,
   "metadata": {
    "collapsed": true
   },
   "outputs": [],
   "source": []
  }
 ],
 "metadata": {
  "kernelspec": {
   "display_name": "Python 2",
   "language": "python",
   "name": "python2"
  },
  "language_info": {
   "codemirror_mode": {
    "name": "ipython",
    "version": 2
   },
   "file_extension": ".py",
   "mimetype": "text/x-python",
   "name": "python",
   "nbconvert_exporter": "python",
   "pygments_lexer": "ipython2",
   "version": "2.7.12"
  }
 },
 "nbformat": 4,
 "nbformat_minor": 0
}
