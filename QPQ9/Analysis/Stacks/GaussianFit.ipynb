{
 "cells": [
  {
   "cell_type": "code",
   "execution_count": 1,
   "metadata": {
    "collapsed": true
   },
   "outputs": [],
   "source": [
    "%matplotlib inline\n",
    "from astropy.io import fits, ascii\n",
    "from astropy.table import Table\n",
    "from astropy import units as u\n",
    "import numpy as np\n",
    "import matplotlib.pyplot as plt\n",
    "from astropy.modeling import models, fitting"
   ]
  },
  {
   "cell_type": "code",
   "execution_count": 4,
   "metadata": {
    "collapsed": false
   },
   "outputs": [
    {
     "name": "stderr",
     "output_type": "stream",
     "text": [
      "WARNING: AstropyDeprecationWarning: The GaussianAbsorption1D class is deprecated and may be removed in a future version.\n",
      "        Use Gaussian1D and subtract it off Const1D instead. [astropy.utils.decorators]\n",
      "WARNING:astropy:AstropyDeprecationWarning: The GaussianAbsorption1D class is deprecated and may be removed in a future version.\n",
      "        Use Gaussian1D and subtract it off Const1D instead.\n",
      "WARNING: AstropyDeprecationWarning: The GaussianAbsorption1D class is deprecated and may be removed in a future version.\n",
      "        Use Gaussian1D and subtract it off Const1D instead. [astropy.utils.decorators]\n",
      "WARNING:astropy:AstropyDeprecationWarning: The GaussianAbsorption1D class is deprecated and may be removed in a future version.\n",
      "        Use Gaussian1D and subtract it off Const1D instead.\n"
     ]
    },
    {
     "name": "stdout",
     "output_type": "stream",
     "text": [
      "('Errors in wide Gaussian = ', 720.99652008478915, 1731.4301888413277, 0.0093164453376331433)\n"
     ]
    },
    {
     "data": {
      "text/plain": [
       "<CompoundModel1(amplitude_0=0.029755459325138633, mean_0=496.0966303222374, stddev_0=3613.6340407266794, amplitude_1=0.11230992908773976, mean_1=234.13842037761034, stddev_1=277.35511880602934)>"
      ]
     },
     "execution_count": 4,
     "metadata": {},
     "output_type": "execute_result"
    },
    {
     "data": {
      "image/png": "[encoded data removed]",
      "text/plain": [
       "<matplotlib.figure.Figure at 0x102e26350>"
      ]
     },
     "metadata": {},
     "output_type": "display_data"
    }
   ],
   "source": [
    "# test\n",
    "stack = fits.open('Output/QPQ9_zIRMgII_1334_mean.fits')\n",
    "relativistic_equiv = u.doppler_relativistic(1334.5323*u.AA)\n",
    "velo = (stack[1].data*u.AA).to(u.km/u.s,equivalencies=relativistic_equiv)\n",
    "g_init = models.GaussianAbsorption1D(amplitude=0.2,mean=100.,stddev=300.)\n",
    "c_init = models.GaussianAbsorption1D(amplitude=0.1,mean=100.,stddev=2000.)\n",
    "model_init = c_init*g_init\n",
    "fit = fitting.LevMarLSQFitter()\n",
    "model_final = fit(model_init,velo.value,stack[0].data)\n",
    "plt.figure(figsize=(8,5))\n",
    "plt.plot(velo.value,stack[0].data,drawstyle='steps-mid',linewidth=2.)\n",
    "plt.plot(velo.value,model_final(velo.value),label='Gaussian')\n",
    "plt.plot([model_final.mean_1.value,model_final.mean_1.value],[0,2],'g--')\n",
    "plt.axis([-3000,3000,0.65,1.05])\n",
    "dict = {}\n",
    "for ii,pp in enumerate(model_final.parameters):\n",
    "    dict[model_final.param_names[ii]] = [pp]\n",
    "print('Errors in wide Gaussian = ',np.sqrt(fit.fit_info['param_cov'][1][1]),np.sqrt(fit.fit_info['param_cov'][2][2]),\n",
    "      np.sqrt(fit.fit_info['param_cov'][3][3]))\n",
    "model_final"
   ]
  },
  {
   "cell_type": "code",
   "execution_count": 27,
   "metadata": {
    "collapsed": false
   },
   "outputs": [
    {
     "name": "stderr",
     "output_type": "stream",
     "text": [
      "WARNING: AstropyDeprecationWarning: The GaussianAbsorption1D class is deprecated and may be removed in a future version.\n",
      "        Use Gaussian1D and subtract it off Const1D instead. [astropy.utils.decorators]\n",
      "WARNING:astropy:AstropyDeprecationWarning: The GaussianAbsorption1D class is deprecated and may be removed in a future version.\n",
      "        Use Gaussian1D and subtract it off Const1D instead.\n"
     ]
    },
    {
     "data": {
      "text/plain": [
       "<GaussianAbsorption1D(amplitude=0.035385737316555234, mean=38.47995213957867, stddev=269.45175816883886)>"
      ]
     },
     "execution_count": 27,
     "metadata": {},
     "output_type": "execute_result"
    },
    {
     "data": {
      "image/png": "[encoded data removed]",
      "text/plain": [
       "<matplotlib.figure.Figure at 0x1a142c7890>"
      ]
     },
     "metadata": {},
     "output_type": "display_data"
    }
   ],
   "source": [
    "# test2\n",
    "velo = (stack[1].data*u.AA).to(u.km/u.s,equivalencies=relativistic_equiv)\n",
    "from scipy.stats import norm\n",
    "flux = (1-norm.pdf(velo.value,0,250)*100.*0.2)*(1-norm.pdf(velo.value,278,250)*100.*0.2*0.2)\n",
    "plt.plot(velo.value,flux)\n",
    "g_init = models.GaussianAbsorption1D(amplitude=0.2,mean=20.,stddev=300.)\n",
    "model_init = g_init\n",
    "fit = fitting.LevMarLSQFitter()\n",
    "model_final = fit(model_init,velo.value,flux)\n",
    "model_final"
   ]
  },
  {
   "cell_type": "markdown",
   "metadata": {},
   "source": [
    "# CIV, OIII stack "
   ]
  },
  {
   "cell_type": "markdown",
   "metadata": {},
   "source": [
    "## Mean stack"
   ]
  },
  {
   "cell_type": "code",
   "execution_count": 40,
   "metadata": {
    "collapsed": false
   },
   "outputs": [
    {
     "name": "stderr",
     "output_type": "stream",
     "text": [
      "WARNING: AstropyDeprecationWarning: The GaussianAbsorption1D class is deprecated and may be removed in a future version.\n",
      "        Use Gaussian1D and subtract it off Const1D instead. [astropy.utils.decorators]\n",
      "WARNING:astropy:AstropyDeprecationWarning: The GaussianAbsorption1D class is deprecated and may be removed in a future version.\n",
      "        Use Gaussian1D and subtract it off Const1D instead.\n",
      "WARNING: AstropyDeprecationWarning: The GaussianAbsorption1D class is deprecated and may be removed in a future version.\n",
      "        Use Gaussian1D and subtract it off Const1D instead. [astropy.utils.decorators]\n",
      "WARNING:astropy:AstropyDeprecationWarning: The GaussianAbsorption1D class is deprecated and may be removed in a future version.\n",
      "        Use Gaussian1D and subtract it off Const1D instead.\n"
     ]
    },
    {
     "name": "stdout",
     "output_type": "stream",
     "text": [
      "('Centroid velocity in km/s = ', Parameter('mean_1', value=129.691196823))\n"
     ]
    },
    {
     "data": {
      "text/plain": [
       "<CompoundModel77(amplitude_0=0.9821739220408479, amplitude_1=0.11820669961932903, mean_1=129.69119682316008, stddev_1=254.62473617349477, amplitude_2=0.1181, mean_2=627.6911968231601, stddev_2=254.62473617349477)>"
      ]
     },
     "execution_count": 40,
     "metadata": {},
     "output_type": "execute_result"
    },
    {
     "data": {
      "image/png": "[encoded data removed]",
      "text/plain": [
       "<matplotlib.figure.Figure at 0x18140f0410>"
      ]
     },
     "metadata": {},
     "output_type": "display_data"
    }
   ],
   "source": [
    "stack = fits.open('Output/QPQ9_zOIII_1548_mean.fits')\n",
    "relativistic_equiv = u.doppler_relativistic(1548.195*u.AA)\n",
    "velo = (stack[1].data*u.AA).to(u.km/u.s,equivalencies=relativistic_equiv)\n",
    "g_1548_init = models.GaussianAbsorption1D(amplitude=0.1,mean=243.,stddev=235.)\n",
    "g_1550_init = models.GaussianAbsorption1D(amplitude=0.05,mean=243.+498.,stddev=235.)\n",
    "c_init = models.Const1D(amplitude=0.98)\n",
    "model_init = c_init*g_1548_init*g_1550_init\n",
    "def tie_mean2(model):\n",
    "    mean_2 = model.mean_1 + 498.\n",
    "    return mean_2\n",
    "def tie_stddev2(model):\n",
    "    stddev_2 = model.stddev_1 \n",
    "    return stddev_2\n",
    "def tie_amplitude2(model):\n",
    "    amplitude_2 = model.amplitude_1*0.5\n",
    "    return amplitude_2\n",
    "#model_init.amplitude_2.tied = tie_amplitude2\n",
    "model_init.amplitude_2.bounds = [0.,0.1181]\n",
    "model_init.mean_2.tied = tie_mean2\n",
    "model_init.stddev_2.tied = tie_stddev2\n",
    "fit = fitting.LevMarLSQFitter()\n",
    "model_final = fit(model_init,velo.value,stack[0].data)\n",
    "plt.figure(figsize=(8,5))\n",
    "plt.plot(velo.value,stack[0].data,drawstyle='steps-mid',linewidth=2.)\n",
    "plt.plot(velo.value,model_final(velo.value),label='Gaussian')\n",
    "plt.plot([model_final.mean_1.value,model_final.mean_1.value],[0,2],'g--')\n",
    "plt.axis([-3000,3000,0.65,1.05])\n",
    "print('Centroid velocity in km/s = ',model_final.mean_1)\n",
    "#print('Error in centroid and dispersion = ',np.sqrt(fit.fit_info['param_cov'][2][2]),np.sqrt(fit.fit_info['param_cov'][3][3]))\n",
    "dict = {}\n",
    "for ii,pp in enumerate(model_final.parameters):\n",
    "    dict[model_final.param_names[ii]] = [pp]\n",
    "ascii.write(Table(dict),'CIV_OIII_mean_fit.dat')\n",
    "model_final"
   ]
  },
  {
   "cell_type": "markdown",
   "metadata": {},
   "source": [
    "## Median stack"
   ]
  },
  {
   "cell_type": "code",
   "execution_count": 52,
   "metadata": {
    "collapsed": false
   },
   "outputs": [
    {
     "name": "stderr",
     "output_type": "stream",
     "text": [
      "WARNING: AstropyDeprecationWarning: The GaussianAbsorption1D class is deprecated and may be removed in a future version.\n",
      "        Use Gaussian1D and subtract it off Const1D instead. [astropy.utils.decorators]\n",
      "WARNING:astropy:AstropyDeprecationWarning: The GaussianAbsorption1D class is deprecated and may be removed in a future version.\n",
      "        Use Gaussian1D and subtract it off Const1D instead.\n",
      "WARNING: AstropyDeprecationWarning: The GaussianAbsorption1D class is deprecated and may be removed in a future version.\n",
      "        Use Gaussian1D and subtract it off Const1D instead. [astropy.utils.decorators]\n",
      "WARNING:astropy:AstropyDeprecationWarning: The GaussianAbsorption1D class is deprecated and may be removed in a future version.\n",
      "        Use Gaussian1D and subtract it off Const1D instead.\n"
     ]
    },
    {
     "name": "stdout",
     "output_type": "stream",
     "text": [
      "('Centroid velocity in km/s = ', Parameter('mean_1', value=210.120080663))\n"
     ]
    },
    {
     "data": {
      "text/plain": [
       "<CompoundModel101(amplitude_0=0.98, amplitude_1=0.04822334177964836, mean_1=210.12008066250974, stddev_1=211.3376373411521, amplitude_2=0.0482, mean_2=708.1200806625097, stddev_2=211.3376373411521)>"
      ]
     },
     "execution_count": 52,
     "metadata": {},
     "output_type": "execute_result"
    },
    {
     "data": {
      "image/png": "[encoded data removed]",
      "text/plain": [
       "<matplotlib.figure.Figure at 0x1813bb7550>"
      ]
     },
     "metadata": {},
     "output_type": "display_data"
    }
   ],
   "source": [
    "stack = fits.open('Output/QPQ9_zOIII_1548_med.fits')\n",
    "relativistic_equiv = u.doppler_relativistic(1548.195*u.AA)\n",
    "velo = (stack[1].data*u.AA).to(u.km/u.s,equivalencies=relativistic_equiv)\n",
    "g_1548_init = models.GaussianAbsorption1D(amplitude=0.1,mean=243.,stddev=235.)\n",
    "g_1550_init = models.GaussianAbsorption1D(amplitude=0.05,mean=243.+498.,stddev=235.)\n",
    "c_init = models.Const1D(amplitude=0.98)\n",
    "model_init = c_init*g_1548_init*g_1550_init\n",
    "model_init.amplitude_0.fixed = True\n",
    "def tie_mean2(model):\n",
    "    mean_2 = model.mean_1 + 498.\n",
    "    return mean_2\n",
    "def tie_stddev2(model):\n",
    "    stddev_2 = model.stddev_1 \n",
    "    return stddev_2\n",
    "def tie_amplitude2(model):\n",
    "    amplitude_2 = model.amplitude_1*0.5\n",
    "    return amplitude_2\n",
    "#model_init.amplitude_2.tied = tie_amplitude2\n",
    "model_init.amplitude_2.bounds = [0,0.0482]\n",
    "model_init.mean_2.tied = tie_mean2\n",
    "model_init.stddev_2.tied = tie_stddev2\n",
    "fit = fitting.LevMarLSQFitter()\n",
    "model_final = fit(model_init,velo.value,stack[0].data)\n",
    "plt.figure(figsize=(8,5))\n",
    "plt.plot(velo.value, stack[0].data,drawstyle='steps-mid',linewidth=2.)\n",
    "plt.plot(velo.value,model_final(velo.value),label='Gaussian')\n",
    "plt.plot([model_final.mean_1.value,model_final.mean_1.value],[0,2],'g--')\n",
    "plt.axis([-3000,3000,0.65,1.05])\n",
    "print('Centroid velocity in km/s = ',model_final.mean_1)\n",
    "# for some reason this line failed\n",
    "#print('Error in centroid and dispersion = ',np.sqrt(fit.fit_info['param_cov'][2][2]),np.sqrt(fit.fit_info['param_cov'][3][3]))\n",
    "dict = {}\n",
    "for ii,pp in enumerate(model_final.parameters):\n",
    "    dict[model_final.param_names[ii]] = [pp]\n",
    "ascii.write(Table(dict),'CIV_OIII_median_fit.dat')\n",
    "model_final"
   ]
  },
  {
   "cell_type": "markdown",
   "metadata": {},
   "source": [
    "# CIV, MgII stack"
   ]
  },
  {
   "cell_type": "markdown",
   "metadata": {},
   "source": [
    "## Mean stack"
   ]
  },
  {
   "cell_type": "code",
   "execution_count": 50,
   "metadata": {
    "collapsed": false
   },
   "outputs": [
    {
     "name": "stderr",
     "output_type": "stream",
     "text": [
      "WARNING: AstropyDeprecationWarning: The GaussianAbsorption1D class is deprecated and may be removed in a future version.\n",
      "        Use Gaussian1D and subtract it off Const1D instead. [astropy.utils.decorators]\n",
      "WARNING:astropy:AstropyDeprecationWarning: The GaussianAbsorption1D class is deprecated and may be removed in a future version.\n",
      "        Use Gaussian1D and subtract it off Const1D instead.\n",
      "WARNING: AstropyDeprecationWarning: The GaussianAbsorption1D class is deprecated and may be removed in a future version.\n",
      "        Use Gaussian1D and subtract it off Const1D instead. [astropy.utils.decorators]\n",
      "WARNING:astropy:AstropyDeprecationWarning: The GaussianAbsorption1D class is deprecated and may be removed in a future version.\n",
      "        Use Gaussian1D and subtract it off Const1D instead.\n"
     ]
    },
    {
     "name": "stdout",
     "output_type": "stream",
     "text": [
      "('Centroid velocity in km/s = ', Parameter('mean_1', value=10.8885423697))\n"
     ]
    },
    {
     "data": {
      "text/plain": [
       "<CompoundModel97(amplitude_0=0.982702532525435, amplitude_1=0.059012464541401986, mean_1=10.888542369697745, stddev_1=302.5783798023647, amplitude_2=0.0589, mean_2=508.88854236969775, stddev_2=302.5783798023647)>"
      ]
     },
     "execution_count": 50,
     "metadata": {},
     "output_type": "execute_result"
    },
    {
     "data": {
      "image/png": "[encoded data removed]",
      "text/plain": [
       "<matplotlib.figure.Figure at 0x18142c78d0>"
      ]
     },
     "metadata": {},
     "output_type": "display_data"
    }
   ],
   "source": [
    "stack = fits.open('Output/QPQ9_zIRMgII_1548_mean.fits')\n",
    "relativistic_equiv = u.doppler_relativistic(1548.195*u.AA)\n",
    "velo = (stack[1].data*u.AA).to(u.km/u.s,equivalencies=relativistic_equiv)\n",
    "g_1548_init = models.GaussianAbsorption1D(amplitude=0.1,mean=100,stddev=300.)\n",
    "g_1550_init = models.GaussianAbsorption1D(amplitude=0.05,mean=100.+498.,stddev=300.)\n",
    "c_init = models.Const1D(amplitude=0.97)\n",
    "model_init = c_init*g_1548_init*g_1550_init\n",
    "def tie_mean2(model):\n",
    "    mean_2 = model.mean_1 + 498.\n",
    "    return mean_2\n",
    "def tie_stddev2(model):\n",
    "    stddev_2 = model.stddev_1 \n",
    "    return stddev_2\n",
    "def tie_amplitude2(model):\n",
    "    amplitude_2 = model.amplitude_1*0.5\n",
    "    return amplitude_2\n",
    "#model_init.amplitude_2.tied = tie_amplitude2\n",
    "model_init.amplitude_2.bounds = [0.0,0.0589]\n",
    "model_init.mean_2.tied = tie_mean2\n",
    "model_init.stddev_2.tied = tie_stddev2\n",
    "fit = fitting.LevMarLSQFitter()\n",
    "model_final = fit(model_init,velo.value,stack[0].data)\n",
    "plt.figure(figsize=(8,5))\n",
    "plt.plot(velo.value,stack[0].data,drawstyle='steps-mid',linewidth=2.)\n",
    "plt.plot(velo.value,model_final(velo.value),label='Gaussian')\n",
    "plt.plot([model_final.mean_1.value,model_final.mean_1.value],[0,2],'g--')\n",
    "plt.axis([-3000,3000,0.65,1.05])\n",
    "print('Centroid velocity in km/s = ',model_final.mean_1)\n",
    "#print('Error in centroid and dispersion = ',np.sqrt(fit.fit_info['param_cov'][2][2]),np.sqrt(fit.fit_info['param_cov'][3][3]))\n",
    "dict = {}\n",
    "for ii,pp in enumerate(model_final.parameters):\n",
    "    dict[model_final.param_names[ii]] = [pp]\n",
    "ascii.write(Table(dict),'CIV_MgII_mean_fit.dat')\n",
    "model_final"
   ]
  },
  {
   "cell_type": "code",
   "execution_count": 48,
   "metadata": {
    "collapsed": false
   },
   "outputs": [
    {
     "name": "stderr",
     "output_type": "stream",
     "text": [
      "WARNING: AstropyDeprecationWarning: The GaussianAbsorption1D class is deprecated and may be removed in a future version.\n",
      "        Use Gaussian1D and subtract it off Const1D instead. [astropy.utils.decorators]\n",
      "WARNING:astropy:AstropyDeprecationWarning: The GaussianAbsorption1D class is deprecated and may be removed in a future version.\n",
      "        Use Gaussian1D and subtract it off Const1D instead.\n",
      "WARNING: AstropyDeprecationWarning: The GaussianAbsorption1D class is deprecated and may be removed in a future version.\n",
      "        Use Gaussian1D and subtract it off Const1D instead. [astropy.utils.decorators]\n",
      "WARNING:astropy:AstropyDeprecationWarning: The GaussianAbsorption1D class is deprecated and may be removed in a future version.\n",
      "        Use Gaussian1D and subtract it off Const1D instead.\n"
     ]
    },
    {
     "name": "stdout",
     "output_type": "stream",
     "text": [
      "('Centroid velocity in km/s = ', Parameter('mean_1', value=188.718296072))\n"
     ]
    },
    {
     "data": {
      "text/plain": [
       "<CompoundModel93(amplitude_0=0.9903488455071711, amplitude_1=0.052320896014269994, mean_1=188.7182960724386, stddev_1=217.74500646751858, amplitude_2=0.0251, mean_2=686.7182960724385, stddev_2=217.74500646751858)>"
      ]
     },
     "execution_count": 48,
     "metadata": {},
     "output_type": "execute_result"
    },
    {
     "data": {
      "image/png": "[encoded data removed]",
      "text/plain": [
       "<matplotlib.figure.Figure at 0x1814545690>"
      ]
     },
     "metadata": {},
     "output_type": "display_data"
    }
   ],
   "source": [
    "stack = fits.open('Output/QPQ9_zIRMgII_1548_med.fits')\n",
    "relativistic_equiv = u.doppler_relativistic(1548.195*u.AA)\n",
    "velo = (stack[1].data*u.AA).to(u.km/u.s,equivalencies=relativistic_equiv)\n",
    "g_1548_init = models.GaussianAbsorption1D(amplitude=0.1,mean=100,stddev=235.)\n",
    "g_1550_init = models.GaussianAbsorption1D(amplitude=0.05,mean=100.+498.,stddev=235.)\n",
    "c_init = models.Const1D(amplitude=0.98)\n",
    "model_init = c_init*g_1548_init*g_1550_init\n",
    "def tie_mean2(model):\n",
    "    mean_2 = model.mean_1 + 498.\n",
    "    return mean_2\n",
    "def tie_stddev2(model):\n",
    "    stddev_2 = model.stddev_1 \n",
    "    return stddev_2\n",
    "def tie_amplitude2(model):\n",
    "    amplitude_2 = model.amplitude_1*1\n",
    "    return amplitude_2\n",
    "#model_init.amplitude_2.tied = tie_amplitude2\n",
    "model_init.amplitude_2.bounds = [0.0251,1]\n",
    "model_init.mean_2.tied = tie_mean2\n",
    "model_init.stddev_2.tied = tie_stddev2\n",
    "fit = fitting.LevMarLSQFitter()\n",
    "model_final = fit(model_init,velo.value,stack[0].data)\n",
    "plt.figure(figsize=(8,5))\n",
    "plt.plot(velo.value,stack[0].data,drawstyle='steps-mid',linewidth=2.)\n",
    "plt.plot(velo.value,model_final(velo.value),label='Gaussian')\n",
    "plt.plot([model_final.mean_1.value,model_final.mean_1.value],[0,2],'g--')\n",
    "plt.axis([-3000,3000,0.65,1.05])\n",
    "print('Centroid velocity in km/s = ',model_final.mean_1)\n",
    "#print('Error in centroid and dispersion = ',np.sqrt(fit.fit_info['param_cov'][2][2]),np.sqrt(fit.fit_info['param_cov'][3][3]))\n",
    "dict = {}\n",
    "for ii,pp in enumerate(model_final.parameters):\n",
    "    dict[model_final.param_names[ii]] = [pp]\n",
    "ascii.write(Table(dict),'CIV_MgII_median_fit.dat')\n",
    "model_final"
   ]
  },
  {
   "cell_type": "markdown",
   "metadata": {},
   "source": [
    "# CII, OIII stack"
   ]
  },
  {
   "cell_type": "markdown",
   "metadata": {},
   "source": [
    "## Mean stack"
   ]
  },
  {
   "cell_type": "code",
   "execution_count": 28,
   "metadata": {
    "collapsed": false
   },
   "outputs": [
    {
     "name": "stderr",
     "output_type": "stream",
     "text": [
      "WARNING: AstropyDeprecationWarning: CII_OIII_mean_fit.dat already exists. Automatically overwriting ASCII files is deprecated. Use the argument 'overwrite=True' in the future. [astropy.io.ascii.ui]\n",
      "WARNING:astropy:AstropyDeprecationWarning: CII_OIII_mean_fit.dat already exists. Automatically overwriting ASCII files is deprecated. Use the argument 'overwrite=True' in the future.\n"
     ]
    },
    {
     "name": "stdout",
     "output_type": "stream",
     "text": [
      "('Centroid velocity in km/s = ', Parameter('mean_1', value=235.037402947))\n",
      "('Error in centroid and dispersion = ', 21.758647982507323, 23.176250127508062)\n"
     ]
    },
    {
     "data": {
      "text/plain": [
       "<CompoundModel48(amplitude_0=0.9828063290869944, amplitude_1=0.17186703613569365, mean_1=235.0374029468159, stddev_1=329.8439971881484)>"
      ]
     },
     "execution_count": 28,
     "metadata": {},
     "output_type": "execute_result"
    },
    {
     "data": {
      "image/png": "[encoded data removed]",
      "text/plain": [
       "<matplotlib.figure.Figure at 0x112b3e7d0>"
      ]
     },
     "metadata": {},
     "output_type": "display_data"
    }
   ],
   "source": [
    "stack = fits.open('Output/QPQ9_zOIII_1334_mean.fits')\n",
    "relativistic_equiv = u.doppler_relativistic(1334.5323*u.AA)\n",
    "velo = (stack[1].data*u.AA).to(u.km/u.s,equivalencies=relativistic_equiv)\n",
    "g_init = models.GaussianAbsorption1D(amplitude=0.2,mean=170.,stddev=388.)\n",
    "c_init = models.Const1D(amplitude=0.98)\n",
    "model_init = c_init*g_init\n",
    "fit = fitting.LevMarLSQFitter()\n",
    "model_final = fit(model_init,velo,stack[0].data)\n",
    "plt.figure(figsize=(8,5))\n",
    "plt.plot(velo.value,stack[0].data,drawstyle='steps-mid',linewidth=2.)\n",
    "plt.plot(velo.value,model_final(velo.value),label='Gaussian')\n",
    "plt.plot([model_final.mean_1.value,model_final.mean_1.value],[0,2],'g--')\n",
    "plt.axis([-3000,3000,0.65,1.05])\n",
    "print('Centroid velocity in km/s = ',model_final.mean_1)\n",
    "print('Error in centroid and dispersion = ',np.sqrt(fit.fit_info['param_cov'][2][2]),np.sqrt(fit.fit_info['param_cov'][3][3]))\n",
    "dict = {}\n",
    "for ii,pp in enumerate(model_final.parameters):\n",
    "    dict[model_final.param_names[ii]] = [pp]\n",
    "ascii.write(Table(dict),'CII_OIII_mean_fit.dat')\n",
    "model_final"
   ]
  },
  {
   "cell_type": "markdown",
   "metadata": {},
   "source": [
    "## Median stack"
   ]
  },
  {
   "cell_type": "code",
   "execution_count": 29,
   "metadata": {
    "collapsed": false
   },
   "outputs": [
    {
     "name": "stderr",
     "output_type": "stream",
     "text": [
      "WARNING: AstropyDeprecationWarning: CII_OIII_median_fit.dat already exists. Automatically overwriting ASCII files is deprecated. Use the argument 'overwrite=True' in the future. [astropy.io.ascii.ui]\n",
      "WARNING:astropy:AstropyDeprecationWarning: CII_OIII_median_fit.dat already exists. Automatically overwriting ASCII files is deprecated. Use the argument 'overwrite=True' in the future.\n"
     ]
    },
    {
     "name": "stdout",
     "output_type": "stream",
     "text": [
      "('Centroid velocity in km/s = ', Parameter('mean_1', value=255.838082952))\n",
      "('Error in centroid and dispersion = ', 13.16595812450697, 13.449199181020159)\n"
     ]
    },
    {
     "data": {
      "text/plain": [
       "<CompoundModel49(amplitude_0=0.9893749229146203, amplitude_1=0.08999249475202964, mean_1=255.83808295245916, stddev_1=103.40726151672845)>"
      ]
     },
     "execution_count": 29,
     "metadata": {},
     "output_type": "execute_result"
    },
    {
     "data": {
      "image/png": "[encoded data removed]",
      "text/plain": [
       "<matplotlib.figure.Figure at 0x1122a1190>"
      ]
     },
     "metadata": {},
     "output_type": "display_data"
    }
   ],
   "source": [
    "stack = fits.open('Output/QPQ9_zOIII_1334_med.fits')\n",
    "relativistic_equiv = u.doppler_relativistic(1334.5323*u.AA)\n",
    "velo = (stack[1].data*u.AA).to(u.km/u.s,equivalencies=relativistic_equiv)\n",
    "g_init = models.GaussianAbsorption1D(amplitude=0.2,mean=257.,stddev=268.)\n",
    "c_init = models.Const1D(amplitude=0.98)\n",
    "model_init = c_init*g_init\n",
    "fit = fitting.LevMarLSQFitter()\n",
    "model_final = fit(model_init,velo,stack[0].data)\n",
    "plt.figure(figsize=(8,5))\n",
    "plt.plot(velo.value,stack[0].data,drawstyle='steps-mid',linewidth=2.)\n",
    "plt.plot(velo.value,model_final(velo.value),label='Gaussian')\n",
    "plt.plot([model_final.mean_1.value,model_final.mean_1.value],[0,2],'g--')\n",
    "plt.axis([-3000,3000,0.65,1.05])\n",
    "print('Centroid velocity in km/s = ',model_final.mean_1)\n",
    "print('Error in centroid and dispersion = ',np.sqrt(fit.fit_info['param_cov'][2][2]),np.sqrt(fit.fit_info['param_cov'][3][3]))\n",
    "dict = {}\n",
    "for ii,pp in enumerate(model_final.parameters):\n",
    "    dict[model_final.param_names[ii]] = [pp]\n",
    "ascii.write(Table(dict),'CII_OIII_median_fit.dat')\n",
    "model_final"
   ]
  },
  {
   "cell_type": "markdown",
   "metadata": {},
   "source": [
    "# CII, MgII stack "
   ]
  },
  {
   "cell_type": "markdown",
   "metadata": {},
   "source": [
    "## Mean stack"
   ]
  },
  {
   "cell_type": "code",
   "execution_count": 2,
   "metadata": {
    "collapsed": false
   },
   "outputs": [
    {
     "name": "stderr",
     "output_type": "stream",
     "text": [
      "WARNING: AstropyDeprecationWarning: The GaussianAbsorption1D class is deprecated and may be removed in a future version.\n",
      "        Use Gaussian1D and subtract it off Const1D instead. [astropy.utils.decorators]\n",
      "WARNING:astropy:AstropyDeprecationWarning: The GaussianAbsorption1D class is deprecated and may be removed in a future version.\n",
      "        Use Gaussian1D and subtract it off Const1D instead.\n",
      "WARNING: AstropyDeprecationWarning: CII_MgII_mean_fit.dat already exists. Automatically overwriting ASCII files is deprecated. Use the argument 'overwrite=True' in the future. [astropy.io.ascii.ui]\n",
      "WARNING:astropy:AstropyDeprecationWarning: CII_MgII_mean_fit.dat already exists. Automatically overwriting ASCII files is deprecated. Use the argument 'overwrite=True' in the future.\n"
     ]
    },
    {
     "name": "stdout",
     "output_type": "stream",
     "text": [
      "('Centroid velocity in km/s = ', Parameter('mean_1', value=232.055835549))\n",
      "('Error in amplitude =', 0.0086416088033910189)\n",
      "('Error in centroid and dispersion = ', 25.110258698775155, 26.507569045633456)\n"
     ]
    },
    {
     "data": {
      "text/plain": [
       "<CompoundModel0(amplitude_0=0.9747193419873246, amplitude_1=0.11493358237491968, mean_1=232.05583554865098, stddev_1=293.0484211777181)>"
      ]
     },
     "execution_count": 2,
     "metadata": {},
     "output_type": "execute_result"
    },
    {
     "data": {
      "image/png": "[encoded data removed]",
      "text/plain": [
       "<matplotlib.figure.Figure at 0x1812d87650>"
      ]
     },
     "metadata": {},
     "output_type": "display_data"
    }
   ],
   "source": [
    "stack = fits.open('Output/QPQ9_zIRMgII_1334_mean.fits')\n",
    "relativistic_equiv = u.doppler_relativistic(1334.5323*u.AA)\n",
    "velo = (stack[1].data*u.AA).to(u.km/u.s,equivalencies=relativistic_equiv)\n",
    "g_init = models.GaussianAbsorption1D(amplitude=0.2,mean=100.,stddev=300.)\n",
    "c_init = models.Const1D(amplitude=0.98)\n",
    "model_init = c_init*g_init\n",
    "fit = fitting.LevMarLSQFitter()\n",
    "model_final = fit(model_init,velo.value,stack[0].data)\n",
    "plt.figure(figsize=(8,5))\n",
    "plt.plot(velo.value,stack[0].data,drawstyle='steps-mid',linewidth=2.)\n",
    "plt.plot(velo.value,model_final(velo.value),label='Gaussian')\n",
    "plt.plot([model_final.mean_1.value,model_final.mean_1.value],[0,2],'g--')\n",
    "plt.axis([-3000,3000,0.65,1.05])\n",
    "print('Centroid velocity in km/s = ',model_final.mean_1)\n",
    "print('Error in amplitude =',np.sqrt(fit.fit_info['param_cov'][1][1]))\n",
    "print('Error in centroid and dispersion = ',np.sqrt(fit.fit_info['param_cov'][2][2]),np.sqrt(fit.fit_info['param_cov'][3][3]))\n",
    "dict = {}\n",
    "for ii,pp in enumerate(model_final.parameters):\n",
    "    dict[model_final.param_names[ii]] = [pp]\n",
    "ascii.write(Table(dict),'CII_MgII_mean_fit.dat')\n",
    "model_final"
   ]
  },
  {
   "cell_type": "markdown",
   "metadata": {},
   "source": [
    "## Median stack "
   ]
  },
  {
   "cell_type": "code",
   "execution_count": 5,
   "metadata": {
    "collapsed": false
   },
   "outputs": [
    {
     "name": "stderr",
     "output_type": "stream",
     "text": [
      "WARNING: AstropyDeprecationWarning: CII_MgII_median_fit.dat already exists. Automatically overwriting ASCII files is deprecated. Use the argument 'overwrite=True' in the future. [astropy.io.ascii.ui]\n",
      "WARNING:astropy:AstropyDeprecationWarning: CII_MgII_median_fit.dat already exists. Automatically overwriting ASCII files is deprecated. Use the argument 'overwrite=True' in the future.\n"
     ]
    },
    {
     "name": "stdout",
     "output_type": "stream",
     "text": [
      "('Centroid velocity in km/s = ', Parameter('mean_1', value=119.496434872))\n"
     ]
    },
    {
     "data": {
      "text/plain": [
       "<CompoundModel2(amplitude_0=0.9853994071975105, amplitude_1=0.05348619453434846, mean_1=119.49643487195853, stddev_1=137.1813271899856)>"
      ]
     },
     "execution_count": 5,
     "metadata": {},
     "output_type": "execute_result"
    },
    {
     "data": {
      "image/png": "[encoded data removed]",
      "text/plain": [
       "<matplotlib.figure.Figure at 0x10e752f90>"
      ]
     },
     "metadata": {},
     "output_type": "display_data"
    }
   ],
   "source": [
    "stack = fits.open('Output/QPQ9_zIRMgII_1334_med.fits')\n",
    "relativistic_equiv = u.doppler_relativistic(1334.5323*u.AA)\n",
    "velo = (stack[1].data*u.AA).to(u.km/u.s,equivalencies=relativistic_equiv)\n",
    "g_init = models.GaussianAbsorption1D(amplitude=0.2,mean=100.,stddev=300.)\n",
    "c_init = models.Const1D(amplitude=0.98)\n",
    "model_init = c_init*g_init\n",
    "fit = fitting.LevMarLSQFitter()\n",
    "model_final = fit(model_init,velo,stack[0].data)\n",
    "plt.figure(figsize=(8,5))\n",
    "plt.plot(velo.value,stack[0].data,drawstyle='steps-mid',linewidth=2.)\n",
    "plt.plot(velo.value,model_final(velo.value),label='Gaussian')\n",
    "plt.plot([model_final.mean_1.value,model_final.mean_1.value],[0,2],'g--')\n",
    "plt.axis([-3000,3000,0.65,1.05])\n",
    "print('Centroid velocity in km/s = ',model_final.mean_1)\n",
    "#print('Error in centroid and dispersion = ',np.sqrt(fit.fit_info['param_cov'][2][2]),np.sqrt(fit.fit_info['param_cov'][3][3]))\n",
    "dict = {}\n",
    "for ii,pp in enumerate(model_final.parameters):\n",
    "    dict[model_final.param_names[ii]] = [pp]\n",
    "ascii.write(Table(dict),'CII_MgII_median_fit.dat')\n",
    "model_final"
   ]
  },
  {
   "cell_type": "markdown",
   "metadata": {},
   "source": [
    "# MgII, OIII stack"
   ]
  },
  {
   "cell_type": "markdown",
   "metadata": {},
   "source": [
    "## Mean stack "
   ]
  },
  {
   "cell_type": "code",
   "execution_count": 34,
   "metadata": {
    "collapsed": false
   },
   "outputs": [
    {
     "name": "stderr",
     "output_type": "stream",
     "text": [
      "WARNING: AstropyDeprecationWarning: MgII_OIII_mean_fit.dat already exists. Automatically overwriting ASCII files is deprecated. Use the argument 'overwrite=True' in the future. [astropy.io.ascii.ui]\n",
      "WARNING:astropy:AstropyDeprecationWarning: MgII_OIII_mean_fit.dat already exists. Automatically overwriting ASCII files is deprecated. Use the argument 'overwrite=True' in the future.\n"
     ]
    },
    {
     "name": "stdout",
     "output_type": "stream",
     "text": [
      "('Centroid velocity in km/s = ', Parameter('mean_1', value=209.659504075))\n"
     ]
    },
    {
     "data": {
      "text/plain": [
       "<CompoundModel57(amplitude_0=0.9539354570114796, amplitude_1=0.19137954318296543, mean_1=209.65950407468154, stddev_1=235.4380022094075, amplitude_2=0.1624577799714105, mean_2=978.6595040746815, stddev_2=235.4380022094075)>"
      ]
     },
     "execution_count": 34,
     "metadata": {},
     "output_type": "execute_result"
    },
    {
     "data": {
      "image/png": "[encoded data removed]",
      "text/plain": [
       "<matplotlib.figure.Figure at 0x112366550>"
      ]
     },
     "metadata": {},
     "output_type": "display_data"
    }
   ],
   "source": [
    "stack = fits.open('Output/QPQ9_zOIII_2796_mean.fits')\n",
    "relativistic_equiv = u.doppler_relativistic(2796.354*u.AA)\n",
    "velo = (stack[1].data*u.AA).to(u.km/u.s,equivalencies=relativistic_equiv)\n",
    "g_2796_init = models.GaussianAbsorption1D(amplitude=0.3,mean=200.,stddev=250.)\n",
    "g_2803_init = models.GaussianAbsorption1D(amplitude=0.15,mean=969.,stddev=250.)\n",
    "c_init = models.Const1D(amplitude=0.95)\n",
    "model_init = c_init*g_2796_init*g_2803_init\n",
    "def tie_mean2(model):\n",
    "    mean_2 = model.mean_1 + 769.\n",
    "    return mean_2\n",
    "def tie_stddev2(model):\n",
    "    stddev_2 = model.stddev_1 \n",
    "    return stddev_2\n",
    "model_init.mean_2.tied = tie_mean2\n",
    "model_init.stddev_2.tied = tie_stddev2\n",
    "fit = fitting.LevMarLSQFitter()\n",
    "model_final = fit(model_init,velo,stack[0].data)\n",
    "plt.figure(figsize=(8,5))\n",
    "plt.plot(velo.value,stack[0].data,drawstyle='steps-mid',linewidth=2.)\n",
    "plt.plot(velo.value,model_final(velo.value),label='Gaussian')\n",
    "plt.plot([model_final.mean_1.value,model_final.mean_1.value],[0,2],'g--')\n",
    "plt.axis([-3000,3000,0.65,1.05])\n",
    "print('Centroid velocity in km/s = ',model_final.mean_1)\n",
    "#print('Error in centroid and dispersion = ',np.sqrt(fit.fit_info['param_cov'][2][2]),np.sqrt(fit.fit_info['param_cov'][3][3]))\n",
    "dict = {}\n",
    "for ii,pp in enumerate(model_final.parameters):\n",
    "    dict[model_final.param_names[ii]] = [pp]\n",
    "ascii.write(Table(dict),'MgII_OIII_mean_fit.dat')\n",
    "model_final"
   ]
  },
  {
   "cell_type": "markdown",
   "metadata": {},
   "source": [
    "## Median stack"
   ]
  },
  {
   "cell_type": "code",
   "execution_count": 35,
   "metadata": {
    "collapsed": false
   },
   "outputs": [
    {
     "name": "stderr",
     "output_type": "stream",
     "text": [
      "WARNING: AstropyDeprecationWarning: MgII_OIII_median_fit.dat already exists. Automatically overwriting ASCII files is deprecated. Use the argument 'overwrite=True' in the future. [astropy.io.ascii.ui]\n",
      "WARNING:astropy:AstropyDeprecationWarning: MgII_OIII_median_fit.dat already exists. Automatically overwriting ASCII files is deprecated. Use the argument 'overwrite=True' in the future.\n"
     ]
    },
    {
     "name": "stdout",
     "output_type": "stream",
     "text": [
      "('Centroid velocity in km/s = ', Parameter('mean_1', value=243.770553673))\n"
     ]
    },
    {
     "data": {
      "text/plain": [
       "<CompoundModel59(amplitude_0=0.9760841665330048, amplitude_1=0.1517703886651988, mean_1=243.7705536733073, stddev_1=175.49410138551147, amplitude_2=0.0612977920567321, mean_2=1012.7705536733073, stddev_2=175.49410138551147)>"
      ]
     },
     "execution_count": 35,
     "metadata": {},
     "output_type": "execute_result"
    },
    {
     "data": {
      "image/png": "[encoded data removed]",
      "text/plain": [
       "<matplotlib.figure.Figure at 0x110f1e690>"
      ]
     },
     "metadata": {},
     "output_type": "display_data"
    }
   ],
   "source": [
    "stack = fits.open('Output/QPQ9_zOIII_2796_med.fits')\n",
    "relativistic_equiv = u.doppler_relativistic(2796.354*u.AA)\n",
    "velo = (stack[1].data*u.AA).to(u.km/u.s,equivalencies=relativistic_equiv)\n",
    "g_2796_init = models.GaussianAbsorption1D(amplitude=0.3,mean=250.,stddev=250.)\n",
    "g_2803_init = models.GaussianAbsorption1D(amplitude=0.15,mean=1019.,stddev=250.)\n",
    "c_init = models.Const1D(amplitude=0.95)\n",
    "model_init = c_init*g_2796_init*g_2803_init\n",
    "def tie_mean2(model):\n",
    "    mean_2 = model.mean_1 + 769.\n",
    "    return mean_2\n",
    "def tie_stddev2(model):\n",
    "    stddev_2 = model.stddev_1 \n",
    "    return stddev_2\n",
    "model_init.mean_2.tied = tie_mean2\n",
    "model_init.stddev_2.tied = tie_stddev2\n",
    "fit = fitting.LevMarLSQFitter()\n",
    "model_final = fit(model_init,velo,stack[0].data)\n",
    "plt.figure(figsize=(8,5))\n",
    "plt.plot(velo.value,stack[0].data,drawstyle='steps-mid',linewidth=2.)\n",
    "plt.plot(velo.value,model_final(velo.value),label='Gaussian')\n",
    "plt.plot([model_final.mean_1.value,model_final.mean_1.value],[0,2],'g--')\n",
    "plt.axis([-3000,3000,0.6,1.05])\n",
    "print('Centroid velocity in km/s = ',model_final.mean_1)\n",
    "#print('Error in centroid and dispersion = ',np.sqrt(fit.fit_info['param_cov'][2][2]),np.sqrt(fit.fit_info['param_cov'][3][3]))\n",
    "dict = {}\n",
    "for ii,pp in enumerate(model_final.parameters):\n",
    "    dict[model_final.param_names[ii]] = [pp]\n",
    "ascii.write(Table(dict),'MgII_OIII_median_fit.dat')\n",
    "model_final"
   ]
  },
  {
   "cell_type": "markdown",
   "metadata": {
    "collapsed": true
   },
   "source": [
    "# MgII, MgII stack "
   ]
  },
  {
   "cell_type": "markdown",
   "metadata": {},
   "source": [
    "## Mean stack"
   ]
  },
  {
   "cell_type": "code",
   "execution_count": 32,
   "metadata": {
    "collapsed": false
   },
   "outputs": [
    {
     "name": "stderr",
     "output_type": "stream",
     "text": [
      "WARNING: AstropyDeprecationWarning: MgII_MgII_mean_fit.dat already exists. Automatically overwriting ASCII files is deprecated. Use the argument 'overwrite=True' in the future. [astropy.io.ascii.ui]\n",
      "WARNING:astropy:AstropyDeprecationWarning: MgII_MgII_mean_fit.dat already exists. Automatically overwriting ASCII files is deprecated. Use the argument 'overwrite=True' in the future.\n"
     ]
    },
    {
     "name": "stdout",
     "output_type": "stream",
     "text": [
      "('Centroid velocity in km/s = ', Parameter('mean_1', value=215.309638294))\n",
      "('Error in centroid and dispersion = ', 39.794250057519129, 30.435602941196318)\n"
     ]
    },
    {
     "data": {
      "text/plain": [
       "<CompoundModel53(amplitude_0=0.9907120831902485, amplitude_1=0.08190967008087269, mean_1=215.3096382939954, stddev_1=295.095957110265, amplitude_2=0.06140421950684329, mean_2=984.3096382939954, stddev_2=295.095957110265)>"
      ]
     },
     "execution_count": 32,
     "metadata": {},
     "output_type": "execute_result"
    },
    {
     "data": {
      "image/png": "[encoded data removed]",
      "text/plain": [
       "<matplotlib.figure.Figure at 0x1125fbb50>"
      ]
     },
     "metadata": {},
     "output_type": "display_data"
    }
   ],
   "source": [
    "stack = fits.open('Output/QPQ9_zIRMgII_2796_mean.fits')\n",
    "relativistic_equiv = u.doppler_relativistic(2796.354*u.AA)\n",
    "velo = (stack[1].data*u.AA).to(u.km/u.s,equivalencies=relativistic_equiv)\n",
    "g_2796_init = models.GaussianAbsorption1D(amplitude=0.3,mean=400.,stddev=250.)\n",
    "g_2803_init = models.GaussianAbsorption1D(amplitude=0.15,mean=1169.,stddev=250.)\n",
    "c_init = models.Const1D(amplitude=0.95)\n",
    "model_init = c_init*g_2796_init*g_2803_init\n",
    "def tie_mean2(model):\n",
    "    mean_2 = model.mean_1 + 769.\n",
    "    return mean_2\n",
    "def tie_stddev2(model):\n",
    "    stddev_2 = model.stddev_1 \n",
    "    return stddev_2\n",
    "model_init.mean_2.tied = tie_mean2\n",
    "model_init.stddev_2.tied = tie_stddev2\n",
    "fit = fitting.LevMarLSQFitter()\n",
    "model_final = fit(model_init,velo,stack[0].data)\n",
    "plt.figure(figsize=(8,5))\n",
    "plt.plot(velo.value,stack[0].data,drawstyle='steps-mid',linewidth=2.)\n",
    "plt.plot(velo.value,model_final(velo.value),label='Gaussian')\n",
    "plt.plot([model_final.mean_1.value,model_final.mean_1.value],[0,2],'g--')\n",
    "plt.axis([-3000,3000,0.65,1.05])\n",
    "print('Centroid velocity in km/s = ',model_final.mean_1)\n",
    "#for some reason this line failed\n",
    "print('Error in centroid and dispersion = ',np.sqrt(fit.fit_info['param_cov'][2][2]),np.sqrt(fit.fit_info['param_cov'][3][3]))\n",
    "dict = {}\n",
    "for ii,pp in enumerate(model_final.parameters):\n",
    "    dict[model_final.param_names[ii]] = [pp]\n",
    "ascii.write(Table(dict),'MgII_MgII_mean_fit.dat')\n",
    "model_final"
   ]
  },
  {
   "cell_type": "markdown",
   "metadata": {},
   "source": [
    "## Median stack"
   ]
  },
  {
   "cell_type": "code",
   "execution_count": 33,
   "metadata": {
    "collapsed": false
   },
   "outputs": [
    {
     "name": "stderr",
     "output_type": "stream",
     "text": [
      "WARNING: AstropyDeprecationWarning: MgII_MgII_median_fit.dat already exists. Automatically overwriting ASCII files is deprecated. Use the argument 'overwrite=True' in the future. [astropy.io.ascii.ui]\n",
      "WARNING:astropy:AstropyDeprecationWarning: MgII_MgII_median_fit.dat already exists. Automatically overwriting ASCII files is deprecated. Use the argument 'overwrite=True' in the future.\n"
     ]
    },
    {
     "name": "stdout",
     "output_type": "stream",
     "text": [
      "('Centroid velocity in km/s = ', Parameter('mean_1', value=120.701917808))\n"
     ]
    },
    {
     "data": {
      "text/plain": [
       "<CompoundModel55(amplitude_0=0.9910811022182671, amplitude_1=0.02986512864162725, mean_1=120.7019178078707, stddev_1=276.11765505124106, amplitude_2=0.02986512864162725, mean_2=889.7019178078707, stddev_2=276.11765505124106)>"
      ]
     },
     "execution_count": 33,
     "metadata": {},
     "output_type": "execute_result"
    },
    {
     "data": {
      "image/png": "[encoded data removed]",
      "text/plain": [
       "<matplotlib.figure.Figure at 0x112e3b110>"
      ]
     },
     "metadata": {},
     "output_type": "display_data"
    }
   ],
   "source": [
    "stack = fits.open('Output/QPQ9_zIRMgII_2796_med.fits')\n",
    "relativistic_equiv = u.doppler_relativistic(2796.354*u.AA)\n",
    "velo = (stack[1].data*u.AA).to(u.km/u.s,equivalencies=relativistic_equiv)\n",
    "g_2796_init = models.GaussianAbsorption1D(amplitude=0.1,mean=100.,stddev=250.)\n",
    "g_2803_init = models.GaussianAbsorption1D(amplitude=0.05,mean=869.,stddev=250.)\n",
    "c_init = models.Const1D(amplitude=0.99)\n",
    "model_init = c_init*g_2796_init*g_2803_init\n",
    "def tie_amplitude2(model):\n",
    "    amplitude_2 = model.amplitude_1\n",
    "    return amplitude_2\n",
    "def tie_mean2(model):\n",
    "    mean_2 = model.mean_1 + 769.\n",
    "    return mean_2\n",
    "def tie_stddev2(model):\n",
    "    stddev_2 = model.stddev_1 \n",
    "    return stddev_2\n",
    "model_init.amplitude_2.tied = tie_amplitude2\n",
    "model_init.mean_2.tied = tie_mean2\n",
    "model_init.stddev_2.tied = tie_stddev2\n",
    "fit = fitting.LevMarLSQFitter()\n",
    "model_final = fit(model_init,velo,stack[0].data)\n",
    "plt.figure(figsize=(8,5))\n",
    "plt.plot(velo.value,stack[0].data,drawstyle='steps-mid',linewidth=2.)\n",
    "plt.plot(velo.value,model_final(velo.value),label='Gaussian')\n",
    "plt.plot([model_final.mean_1.value,model_final.mean_1.value],[0,2],'g--')\n",
    "plt.axis([-3000,3000,0.65,1.05])\n",
    "print('Centroid velocity in km/s = ',model_final.mean_1)\n",
    "#For some reason this line failed\n",
    "#print('Error in centroid and dispersion = ',np.sqrt(fit.fit_info['param_cov'][2][2]),np.sqrt(fit.fit_info['param_cov'][3][3]))\n",
    "dict = {}\n",
    "for ii,pp in enumerate(model_final.parameters):\n",
    "    dict[model_final.param_names[ii]] = [pp]\n",
    "ascii.write(Table(dict),'MgII_MgII_median_fit.dat')\n",
    "model_final"
   ]
  },
  {
   "cell_type": "markdown",
   "metadata": {},
   "source": [
    "# MgII at z = 1 stack"
   ]
  },
  {
   "cell_type": "markdown",
   "metadata": {},
   "source": [
    "## Mean stack  "
   ]
  },
  {
   "cell_type": "code",
   "execution_count": 40,
   "metadata": {
    "collapsed": false
   },
   "outputs": [
    {
     "name": "stdout",
     "output_type": "stream",
     "text": [
      "('Centroid velocity in km/s = ', Parameter('mean_1', value=-11.0114846073))\n"
     ]
    },
    {
     "data": {
      "text/plain": [
       "<CompoundModel69(amplitude_0=0.992815647302289, amplitude_1=0.03566230962133366, mean_1=-11.011484607315001, stddev_1=172.4128495111441, amplitude_2=0.025262334360866057, mean_2=757.988515392685, stddev_2=172.4128495111441)>"
      ]
     },
     "execution_count": 40,
     "metadata": {},
     "output_type": "execute_result"
    },
    {
     "data": {
      "image/png": "[encoded data removed]",
      "text/plain": [
       "<matplotlib.figure.Figure at 0x112e89210>"
      ]
     },
     "metadata": {},
     "output_type": "display_data"
    }
   ],
   "source": [
    "stack = fits.open('Output/QPQ9_zIRMgII_2796_z1_mean.fits')\n",
    "relativistic_equiv = u.doppler_relativistic(2796.354*u.AA)\n",
    "velo = (stack[1].data*u.AA).to(u.km/u.s,equivalencies=relativistic_equiv)\n",
    "g_2796_init = models.GaussianAbsorption1D(amplitude=0.3,mean=0.,stddev=250.)\n",
    "g_2803_init = models.GaussianAbsorption1D(amplitude=0.15,mean=769.,stddev=250.)\n",
    "c_init = models.Const1D(amplitude=0.95)\n",
    "model_init = c_init*g_2796_init*g_2803_init\n",
    "def tie_mean2(model):\n",
    "    mean_2 = model.mean_1 + 769.\n",
    "    return mean_2\n",
    "def tie_stddev2(model):\n",
    "    stddev_2 = model.stddev_1 \n",
    "    return stddev_2\n",
    "model_init.mean_2.tied = tie_mean2\n",
    "model_init.stddev_2.tied = tie_stddev2\n",
    "fit = fitting.LevMarLSQFitter()\n",
    "model_final = fit(model_init,velo,stack[0].data)\n",
    "plt.figure(figsize=(8,5))\n",
    "plt.plot(velo.value,stack[0].data,drawstyle='steps-mid',linewidth=2.)\n",
    "plt.plot(velo.value,model_final(velo.value),label='Gaussian')\n",
    "plt.plot([model_final.mean_1.value,model_final.mean_1.value],[0,2],'g--')\n",
    "plt.axis([-3000,3000,0.65,1.05])\n",
    "print('Centroid velocity in km/s = ',model_final.mean_1)\n",
    "#print('Error in centroid and dispersion = ',np.sqrt(fit.fit_info['param_cov'][2][2]),np.sqrt(fit.fit_info['param_cov'][3][3]))\n",
    "dict = {}\n",
    "for ii,pp in enumerate(model_final.parameters):\n",
    "    dict[model_final.param_names[ii]] = [pp]\n",
    "ascii.write(Table(dict),'MgII_z1_mean_fit.dat')\n",
    "model_final"
   ]
  },
  {
   "cell_type": "code",
   "execution_count": 3,
   "metadata": {
    "collapsed": false
   },
   "outputs": [
    {
     "name": "stdout",
     "output_type": "stream",
     "text": [
      "[[  1.40682905e-04   4.99447689e-05  -6.31738043e-01]\n",
      " [  4.99447689e-05   3.59389607e+03  -2.36196703e-01]\n",
      " [ -6.31738043e-01  -2.36196703e-01   3.85551901e+03]]\n"
     ]
    },
    {
     "data": {
      "text/plain": [
       "(u'amplitude_0',\n",
       " u'amplitude_1',\n",
       " u'mean_1',\n",
       " u'stddev_1',\n",
       " u'amplitude_2',\n",
       " u'mean_2',\n",
       " u'stddev_2')"
      ]
     },
     "execution_count": 3,
     "metadata": {},
     "output_type": "execute_result"
    }
   ],
   "source": [
    "print(fit.fit_info['param_cov'])\n",
    "model_final.param_names"
   ]
  },
  {
   "cell_type": "markdown",
   "metadata": {},
   "source": [
    "## Median stack "
   ]
  },
  {
   "cell_type": "code",
   "execution_count": 41,
   "metadata": {
    "collapsed": false
   },
   "outputs": [
    {
     "name": "stdout",
     "output_type": "stream",
     "text": [
      "('Centroid velocity in km/s = ', Parameter('mean_1', value=-101.385498587))\n"
     ]
    },
    {
     "data": {
      "text/plain": [
       "<CompoundModel71(amplitude_0=0.998431522218579, amplitude_1=0.016519108112235444, mean_1=-101.38549858662505, stddev_1=186.53182715565427, amplitude_2=0.012729884718598983, mean_2=667.6145014133749, stddev_2=186.53182715565427)>"
      ]
     },
     "execution_count": 41,
     "metadata": {},
     "output_type": "execute_result"
    },
    {
     "data": {
      "image/png": "[encoded data removed]",
      "text/plain": [
       "<matplotlib.figure.Figure at 0x110d47f10>"
      ]
     },
     "metadata": {},
     "output_type": "display_data"
    }
   ],
   "source": [
    "stack = fits.open('Output/QPQ9_zIRMgII_2796_z1_med.fits')\n",
    "relativistic_equiv = u.doppler_relativistic(2796.354*u.AA)\n",
    "velo = (stack[1].data*u.AA).to(u.km/u.s,equivalencies=relativistic_equiv)\n",
    "g_2796_init = models.GaussianAbsorption1D(amplitude=0.3,mean=0.,stddev=250.)\n",
    "g_2803_init = models.GaussianAbsorption1D(amplitude=0.15,mean=769.,stddev=250.)\n",
    "c_init = models.Const1D(amplitude=0.95)\n",
    "model_init = c_init*g_2796_init*g_2803_init\n",
    "def tie_mean2(model):\n",
    "    mean_2 = model.mean_1 + 769.\n",
    "    return mean_2\n",
    "def tie_stddev2(model):\n",
    "    stddev_2 = model.stddev_1 \n",
    "    return stddev_2\n",
    "model_init.mean_2.tied = tie_mean2\n",
    "model_init.stddev_2.tied = tie_stddev2\n",
    "fit = fitting.LevMarLSQFitter()\n",
    "model_final = fit(model_init,velo,stack[0].data)\n",
    "plt.figure(figsize=(8,5))\n",
    "plt.plot(velo.value,stack[0].data,drawstyle='steps-mid',linewidth=2.)\n",
    "plt.plot(velo.value,model_final(velo.value),label='Gaussian')\n",
    "plt.plot([model_final.mean_1.value,model_final.mean_1.value],[0,2],'g--')\n",
    "plt.axis([-3000,3000,0.65,1.05])\n",
    "print('Centroid velocity in km/s = ',model_final.mean_1)\n",
    "#print('Error in centroid and dispersion = ',np.sqrt(fit.fit_info['param_cov'][2][2]),np.sqrt(fit.fit_info['param_cov'][3][3]))\n",
    "dict = {}\n",
    "for ii,pp in enumerate(model_final.parameters):\n",
    "    dict[model_final.param_names[ii]] = [pp]\n",
    "ascii.write(Table(dict),'MgII_z1_median_fit.dat')\n",
    "model_final"
   ]
  },
  {
   "cell_type": "markdown",
   "metadata": {
    "collapsed": true
   },
   "source": [
    "# CIV foreground quasar stack "
   ]
  },
  {
   "cell_type": "code",
   "execution_count": 60,
   "metadata": {
    "collapsed": false
   },
   "outputs": [
    {
     "data": {
      "text/plain": [
       "<CompoundModel92(slope_0=1.6216453676836206e-06, intercept_0=0.9835803072187345, amplitude_1=0.028672582135876, mean_1=-2512.039953476008, stddev_1=2079.834165724614, amplitude_2=0.028672582135876, mean_2=-2014.0399534760081, stddev_2=2079.834165724614)>"
      ]
     },
     "execution_count": 60,
     "metadata": {},
     "output_type": "execute_result"
    },
    {
     "data": {
      "image/png": "[encoded data removed]",
      "text/plain": [
       "<matplotlib.figure.Figure at 0x112a95b50>"
      ]
     },
     "metadata": {},
     "output_type": "display_data"
    }
   ],
   "source": [
    "CIV_stack = fits.open('Output/QPQ9_1548_fg_mean.fits')\n",
    "relativistic_equiv = u.doppler_relativistic(1548.195*u.AA)\n",
    "velo = (CIV_stack[1].data*u.AA).to(u.km/u.s,equivalencies=relativistic_equiv)\n",
    "g1_1548_init = models.GaussianAbsorption1D(amplitude=0.05,mean=-4000.,stddev=1000.)\n",
    "g1_1550_init = models.GaussianAbsorption1D(amplitude=0.05,mean=-4000.+498.,stddev=1000.)\n",
    "#g2_1548_init = models.GaussianAbsorption1D(amplitude=0.01,mean=-400.,stddev=500.)\n",
    "#g2_1550_init = models.GaussianAbsorption1D(amplitude=0.01,mean=-400.+498.,stddev=500.)\n",
    "l_init = models.Linear1D(intercept=0.97,slope=0.00001)\n",
    "#model_init = l_init*(g1_1548_init*g1_1550_init)*(g2_1548_init*g2_1550_init)\n",
    "model_init = l_init*(g1_1548_init*g1_1550_init)\n",
    "def tie_mean2(model):\n",
    "    mean_2 = model.mean_1 + 498.\n",
    "    return mean_2\n",
    "def tie_stddev2(model):\n",
    "    stddev_2 = model.stddev_1 \n",
    "    return stddev_2\n",
    "def tie_amplitude2(model):\n",
    "    amplitude_2 = model.amplitude_1\n",
    "    return amplitude_2\n",
    "#def tie_mean4(model):\n",
    "#    mean_4 = model.mean_3 + 498.\n",
    "#    return mean_4\n",
    "#def tie_stddev4(model):\n",
    "#    stddev_4 = model.stddev_3\n",
    "#    return stddev_4\n",
    "model_init.mean_2.tied = tie_mean2\n",
    "model_init.stddev_2.tied = tie_stddev2\n",
    "model_init.amplitude_2.tied = tie_amplitude2\n",
    "#model_init.mean_4.tied = tie_mean4\n",
    "#model_init.stddev_4.tied = tie_stddev4\n",
    "fit = fitting.LevMarLSQFitter()\n",
    "model_final = fit(model_init,velo,CIV_stack[0].data)\n",
    "plt.figure(figsize=(8,5))\n",
    "plt.plot(velo.value, CIV_stack[0].data,drawstyle='steps-mid',linewidth=2.)\n",
    "plt.plot(velo.value, model_final(velo.value), label='Gaussian')\n",
    "plt.axis([-10000,10000,0.90,1.05])\n",
    "model_final\n"
   ]
  },
  {
   "cell_type": "code",
   "execution_count": null,
   "metadata": {
    "collapsed": true
   },
   "outputs": [],
   "source": []
  }
 ],
 "metadata": {
  "kernelspec": {
   "display_name": "Python 2",
   "language": "python",
   "name": "python2"
  },
  "language_info": {
   "codemirror_mode": {
    "name": "ipython",
    "version": 2
   },
   "file_extension": ".py",
   "mimetype": "text/x-python",
   "name": "python",
   "nbconvert_exporter": "python",
   "pygments_lexer": "ipython2",
   "version": "2.7.12"
  }
 },
 "nbformat": 4,
 "nbformat_minor": 0
}
