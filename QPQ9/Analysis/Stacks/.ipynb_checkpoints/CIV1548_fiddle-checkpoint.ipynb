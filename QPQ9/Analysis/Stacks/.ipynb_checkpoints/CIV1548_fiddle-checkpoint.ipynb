{
 "cells": [
  {
   "cell_type": "code",
   "execution_count": null,
   "metadata": {
    "collapsed": true
   },
   "outputs": [],
   "source": [
    "# skip J0913 and J2146 for stacking CIV\n",
    "# if mask DLA J1553, number 27 for wrest = 1548\n",
    "# if mask noisy spectra J1002, number 11 for 1548 \n",
    "%matplotlib inline\n",
    "import glob,os,sys,copy \n",
    "sys.path.append(os.path.abspath(\"./py\"))\n",
    "import qpq9_stacks as qpq9k\n",
    "import astropy.units as u\n",
    "qpq9k.plt_qpq9(wrest=1548.195*u.AA)"
   ]
  }
 ],
 "metadata": {
  "kernelspec": {
   "display_name": "Python 2",
   "language": "python",
   "name": "python2"
  },
  "language_info": {
   "codemirror_mode": {
    "name": "ipython",
    "version": 2
   },
   "file_extension": ".py",
   "mimetype": "text/x-python",
   "name": "python",
   "nbconvert_exporter": "python",
   "pygments_lexer": "ipython2",
   "version": "2.7.12"
  }
 },
 "nbformat": 4,
 "nbformat_minor": 0
}
