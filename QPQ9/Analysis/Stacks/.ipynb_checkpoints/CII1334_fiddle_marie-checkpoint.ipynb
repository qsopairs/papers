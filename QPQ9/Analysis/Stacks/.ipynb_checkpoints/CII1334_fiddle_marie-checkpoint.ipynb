{
 "cells": [
  {
   "cell_type": "markdown",
   "metadata": {},
   "source": [
    "# Fiddling with CII 1334 stacks from QPQ7 + MgII"
   ]
  },
  {
   "cell_type": "code",
   "execution_count": 1,
   "metadata": {
    "collapsed": true
   },
   "outputs": [],
   "source": [
    "%matplotlib inline"
   ]
  },
  {
   "cell_type": "code",
   "execution_count": 2,
   "metadata": {
    "collapsed": false,
    "scrolled": false
   },
   "outputs": [
    {
     "name": "stderr",
     "output_type": "stream",
     "text": [
      "/Users/lwymarie/anaconda/lib/python2.7/site-packages/astroquery/sdss/__init__.py:28: UserWarning: Experimental: SDSS has not yet been refactored to have its API match the rest of astroquery (but it's nearly there).\n",
      "  warnings.warn(\"Experimental: SDSS has not yet been refactored to have its API \"\n"
     ]
    },
    {
     "ename": "ImportError",
     "evalue": "cannot import name spec_marie",
     "output_type": "error",
     "traceback": [
      "\u001b[0;31m---------------------------------------------------------------------------\u001b[0m",
      "\u001b[0;31mImportError\u001b[0m                               Traceback (most recent call last)",
      "\u001b[0;32m<ipython-input-2-9117d2e26743>\u001b[0m in \u001b[0;36m<module>\u001b[0;34m()\u001b[0m\n\u001b[1;32m     22\u001b[0m \u001b[0msys\u001b[0m\u001b[0;34m.\u001b[0m\u001b[0mpath\u001b[0m\u001b[0;34m.\u001b[0m\u001b[0mappend\u001b[0m\u001b[0;34m(\u001b[0m\u001b[0mos\u001b[0m\u001b[0;34m.\u001b[0m\u001b[0mpath\u001b[0m\u001b[0;34m.\u001b[0m\u001b[0mabspath\u001b[0m\u001b[0;34m(\u001b[0m\u001b[0;34m\"../../../../py\"\u001b[0m\u001b[0;34m)\u001b[0m\u001b[0;34m)\u001b[0m\u001b[0;34m\u001b[0m\u001b[0m\n\u001b[1;32m     23\u001b[0m \u001b[0;32mfrom\u001b[0m \u001b[0menigma\u001b[0m\u001b[0;34m.\u001b[0m\u001b[0mqpq\u001b[0m \u001b[0;32mimport\u001b[0m \u001b[0mutils\u001b[0m \u001b[0;32mas\u001b[0m \u001b[0mqpqutils\u001b[0m\u001b[0;34m\u001b[0m\u001b[0m\n\u001b[0;32m---> 24\u001b[0;31m \u001b[0;32mfrom\u001b[0m \u001b[0menigma\u001b[0m\u001b[0;34m.\u001b[0m\u001b[0mqpq\u001b[0m \u001b[0;32mimport\u001b[0m \u001b[0mspec_marie\u001b[0m \u001b[0;32mas\u001b[0m \u001b[0mqpqs\u001b[0m\u001b[0;34m\u001b[0m\u001b[0m\n\u001b[0m\u001b[1;32m     25\u001b[0m \u001b[0;32mfrom\u001b[0m \u001b[0menigma\u001b[0m\u001b[0;34m.\u001b[0m\u001b[0mqpq\u001b[0m \u001b[0;32mimport\u001b[0m \u001b[0mstacks_marie\u001b[0m \u001b[0;32mas\u001b[0m \u001b[0mqpqk\u001b[0m\u001b[0;34m\u001b[0m\u001b[0m\n\u001b[1;32m     26\u001b[0m \u001b[0;32mimport\u001b[0m \u001b[0mcopy\u001b[0m\u001b[0;34m\u001b[0m\u001b[0m\n",
      "\u001b[0;31mImportError\u001b[0m: cannot import name spec_marie"
     ]
    }
   ],
   "source": [
    "# imports\n",
    "from __future__ import print_function,absolute_import,division,unicode_literals\n",
    "import numpy as np\n",
    "import glob,os,sys,copy \n",
    "from scipy import stats as scistats\n",
    "import matplotlib as mpl\n",
    "mpl.rcParams['font.family']='stixgeneral'\n",
    "from matplotlib.backends.backend_pdf import PdfPages\n",
    "from matplotlib import pyplot as plt\n",
    "import matplotlib.gridspec as gridspec\n",
    "from astropy.table import QTable,Table\n",
    "from astropy.io import ascii\n",
    "from astropy import units as u\n",
    "from astropy import constants as const\n",
    "from linetools.spectralline import AbsLine\n",
    "from xastropy.igm.abs_sys import abssys_utils as abssys\n",
    "from xastropy import spec as xpsec\n",
    "from xastropy.plotting import utils as xputils\n",
    "from xastropy.xutils import xdebug as xdb\n",
    "from xastropy.obs import radec as xor\n",
    "from xastropy.atomic import ionization as xai\n",
    "sys.path.append(os.path.abspath(\"../../../../py\"))\n",
    "from enigma.qpq import utils as qpqutils\n",
    "from enigma.qpq import spec as qpqs\n",
    "from enigma.qpq import stacks as qpqk\n",
    "sys.path.append(os.path.abspath(\"../py\"))\n",
    "import qpq9_analy as qpq9a\n",
    "sys.path.append(os.path.abspath(\"./py\"))\n",
    "import qpq9_stacks_marie as qpq9k"
   ]
  },
  {
   "cell_type": "markdown",
   "metadata": {},
   "source": [
    "## Load stack_tup"
   ]
  },
  {
   "cell_type": "code",
   "execution_count": 3,
   "metadata": {
    "collapsed": false,
    "scrolled": true
   },
   "outputs": [
    {
     "name": "stdout",
     "output_type": "stream",
     "text": [
      "Reading /Users/lwymarie/QSOClustering//tex/QPQ9/Analysis/qpq9_final.fits\n",
      "QPQ sample size =\n",
      "13\n",
      "Using /Users/lwymarie/Dropbox//QSOPairs/data/LRIS_redux/SDSSJ080048.74+354231.3_b1200_F.fits.gz for APOJ0800+3542\n",
      "Using /Users/lwymarie/Dropbox//QSOPairs/data/LRIS_redux/SDSSJ084159.26+392140.0_b1200_F.fits.gz for BOSSJ0841+3921\n",
      "Using /Users/lwymarie/Dropbox//QSOPairs/data/MAGE_redux/SDSSJ085357.49-001106.1_F.fits.gz for BOSSJ0853-0011\n",
      "Using /Users/lwymarie/Dropbox//QSOPairs/data/MAGE_redux/SDSSJ093225.60+092500.2_F.fits.gz for APOJ0932+0925\n",
      "Using /Users/lwymarie/Dropbox//QSOPairs/data/LRIS_redux/SDSSJ093804.84+531743.0_b1200_F.fits.gz for APOJ0938+5317\n",
      "No spectrum found for BOSSJ1006+4804 and wvobs=4408.16 Angstrom!\n",
      "Using /Users/lwymarie/Dropbox//QSOPairs/data/ESI_redux/SDSSJ103900.01+502652.8_F.fits.gz for BOSSJ1039+5026\n",
      "Using /Users/lwymarie/Dropbox//QSOPairs/data/ESI_redux/SDSSJ114436.66+095904.9_F.fits.gz for BOSSJ1144+0959"
     ]
    },
    {
     "name": "stderr",
     "output_type": "stream",
     "text": [
      "/Users/lwymarie/python/linetools/linetools/spectra/xspectrum1d.py:155: UserWarning: Assuming wavelength unit is Angstroms\n",
      "  warnings.warn(\"Assuming wavelength unit is Angstroms\")\n",
      "/Users/lwymarie/anaconda/lib/python2.7/site-packages/astropy/units/quantity.py:831: RuntimeWarning: invalid value encountered in true_divide\n",
      "  return super(Quantity, self).__itruediv__(other)\n"
     ]
    },
    {
     "name": "stdout",
     "output_type": "stream",
     "text": [
      "\n",
      "No continuum: /Users/lwymarie/Dropbox//QSOPairs/data/HIRES_redux/SDSSJ120416.69+022111.0_f_c.fits\n",
      "Using conti=1 for HIRES\n",
      "Using /Users/lwymarie/Dropbox//QSOPairs/data/HIRES_redux/SDSSJ120416.69+022111.0_f.fits for BOSSJ1204+0221\n",
      "Using /Users/lwymarie/Dropbox//QSOPairs/data/MAGE_redux/SDSSJ142054.92+160342.9_F.fits.gz for APOJ1420+1603\n",
      "Using /Users/lwymarie/Dropbox//QSOPairs/data/MIKE_redux/SDSSJ142758.74-012136.2_b_F.fits.gz for BOSSJ1427-0121\n",
      "Using /Users/lwymarie/Dropbox//QSOPairs/data/MAGE_redux/SDSSJ155325.89+192137.7_F.fits.gz for APOJ1553+1921\n",
      "Using /Users/lwymarie/Dropbox//QSOPairs/data/ESI_redux/SDSSJ162737.25+460609.3_F.fits.gz for APOJ1627+4606\n"
     ]
    },
    {
     "name": "stderr",
     "output_type": "stream",
     "text": [
      "/Users/lwymarie/anaconda/lib/python2.7/site-packages/astropy/units/quantity.py:831: RuntimeWarning: divide by zero encountered in true_divide\n",
      "  return super(Quantity, self).__itruediv__(other)\n"
     ]
    }
   ],
   "source": [
    "reload(qpqk)\n",
    "reload(qpq9k)\n",
    "stack_tup0 = qpq9k.qpq7_mgii(passback=True)"
   ]
  },
  {
   "cell_type": "markdown",
   "metadata": {},
   "source": [
    "## Stack and Plot"
   ]
  },
  {
   "cell_type": "markdown",
   "metadata": {},
   "source": [
    "### All"
   ]
  },
  {
   "cell_type": "code",
   "execution_count": 4,
   "metadata": {
    "collapsed": false
   },
   "outputs": [
    {
     "data": {
      "image/png": "[encoded data removed]",
      "text/plain": [
       "<matplotlib.figure.Figure at 0x10c7ca610>"
      ]
     },
     "metadata": {},
     "output_type": "display_data"
    }
   ],
   "source": [
    "fin_velo, stck_img, stck_msk, all_dict = stack_tup0\n",
    "stack_tup = (fin_velo, stck_img, stck_msk, all_dict)\n",
    "#\n",
    "fin_velo, fin_flx, all_dict = qpqk.stack_avg(stack_tup)\n",
    "plt.figure(figsize=(8,5),dpi=1200)\n",
    "plt.plot(fin_velo, fin_flx, drawstyle='steps',linewidth=2.)\n",
    "plt.xlabel('Relative Velocity', size=12.)\n",
    "plt.show()"
   ]
  },
  {
   "cell_type": "markdown",
   "metadata": {},
   "source": [
    "### Mask DLA"
   ]
  },
  {
   "cell_type": "code",
   "execution_count": 5,
   "metadata": {
    "collapsed": true
   },
   "outputs": [],
   "source": [
    "# Mask\n",
    "fin_velo, stck_img, stck_msk, all_dict = stack_tup0\n",
    "stck_mskN = copy.deepcopy(stck_msk)"
   ]
  },
  {
   "cell_type": "code",
   "execution_count": 6,
   "metadata": {
    "collapsed": false
   },
   "outputs": [
    {
     "data": {
      "text/plain": [
       "13"
      ]
     },
     "execution_count": 6,
     "metadata": {},
     "output_type": "execute_result"
    }
   ],
   "source": [
    "len(stck_mskN)"
   ]
  },
  {
   "cell_type": "code",
   "execution_count": 7,
   "metadata": {
    "collapsed": false
   },
   "outputs": [
    {
     "data": {
      "image/png": "[encoded data removed]",
      "text/plain": [
       "<matplotlib.figure.Figure at 0x10cea45d0>"
      ]
     },
     "metadata": {},
     "output_type": "display_data"
    }
   ],
   "source": [
    "idx_mask = [11]\n",
    "for idx in idx_mask:\n",
    "    stck_mskN[idx,:] = 0.\n",
    "# Stack\n",
    "stack_tup = (fin_velo, stck_img, stck_mskN, all_dict)\n",
    "fin_velo, fin_flx, all_dict = qpqk.stack_avg(stack_tup)\n",
    "# Plot\n",
    "plt.figure(figsize=(8,5),dpi=1200)\n",
    "plt.plot(fin_velo, fin_flx, drawstyle='steps',linewidth=2.)\n",
    "plt.xlim(-2000, 2000)\n",
    "plt.xlabel('Relative Velocity', size=12.)\n",
    "plt.show()"
   ]
  },
  {
   "cell_type": "markdown",
   "metadata": {},
   "source": [
    "### DLA and noisy spectra"
   ]
  },
  {
   "cell_type": "code",
   "execution_count": 8,
   "metadata": {
    "collapsed": true
   },
   "outputs": [],
   "source": [
    "# Mask\n",
    "fin_velo, stck_img, stck_msk, all_dict = stack_tup0\n",
    "stck_mskN = copy.deepcopy(stck_msk)"
   ]
  },
  {
   "cell_type": "code",
   "execution_count": 9,
   "metadata": {
    "collapsed": false
   },
   "outputs": [
    {
     "data": {
      "text/plain": [
       "13"
      ]
     },
     "execution_count": 9,
     "metadata": {},
     "output_type": "execute_result"
    }
   ],
   "source": [
    "len(stck_mskN)"
   ]
  },
  {
   "cell_type": "code",
   "execution_count": 10,
   "metadata": {
    "collapsed": false
   },
   "outputs": [
    {
     "ename": "IndexError",
     "evalue": "index 15 is out of bounds for axis 0 with size 13",
     "output_type": "error",
     "traceback": [
      "\u001b[0;31m---------------------------------------------------------------------------\u001b[0m",
      "\u001b[0;31mIndexError\u001b[0m                                Traceback (most recent call last)",
      "\u001b[0;32m<ipython-input-10-343e25d394b6>\u001b[0m in \u001b[0;36m<module>\u001b[0;34m()\u001b[0m\n\u001b[1;32m      1\u001b[0m \u001b[0midx_mask\u001b[0m \u001b[0;34m=\u001b[0m \u001b[0;34m[\u001b[0m\u001b[0;36m10\u001b[0m\u001b[0;34m,\u001b[0m\u001b[0;36m15\u001b[0m\u001b[0;34m]\u001b[0m\u001b[0;34m\u001b[0m\u001b[0m\n\u001b[1;32m      2\u001b[0m \u001b[0;32mfor\u001b[0m \u001b[0midx\u001b[0m \u001b[0;32min\u001b[0m \u001b[0midx_mask\u001b[0m\u001b[0;34m:\u001b[0m\u001b[0;34m\u001b[0m\u001b[0m\n\u001b[0;32m----> 3\u001b[0;31m     \u001b[0mstck_mskN\u001b[0m\u001b[0;34m[\u001b[0m\u001b[0midx\u001b[0m\u001b[0;34m,\u001b[0m\u001b[0;34m:\u001b[0m\u001b[0;34m]\u001b[0m \u001b[0;34m=\u001b[0m \u001b[0;36m0.\u001b[0m\u001b[0;34m\u001b[0m\u001b[0m\n\u001b[0m\u001b[1;32m      4\u001b[0m \u001b[0;31m# Stack\u001b[0m\u001b[0;34m\u001b[0m\u001b[0;34m\u001b[0m\u001b[0m\n\u001b[1;32m      5\u001b[0m \u001b[0mstack_tup\u001b[0m \u001b[0;34m=\u001b[0m \u001b[0;34m(\u001b[0m\u001b[0mfin_velo\u001b[0m\u001b[0;34m,\u001b[0m \u001b[0mstck_img\u001b[0m\u001b[0;34m,\u001b[0m \u001b[0mstck_mskN\u001b[0m\u001b[0;34m,\u001b[0m \u001b[0mall_dict\u001b[0m\u001b[0;34m)\u001b[0m\u001b[0;34m\u001b[0m\u001b[0m\n",
      "\u001b[0;31mIndexError\u001b[0m: index 15 is out of bounds for axis 0 with size 13"
     ]
    }
   ],
   "source": [
    "idx_mask = [10,15]\n",
    "for idx in idx_mask:\n",
    "    stck_mskN[idx,:] = 0.\n",
    "# Stack\n",
    "stack_tup = (fin_velo, stck_img, stck_mskN, all_dict)\n",
    "fin_velo, fin_flx, all_dict = qpqk.stack_avg(stack_tup)\n",
    "# Plot\n",
    "plt.figure(figsize=(12,8),dpi=1200)\n",
    "plt.plot(fin_velo, fin_flx, drawstyle='steps',linewidth=2.)\n",
    "plt.xlim(-2000, 2000)\n",
    "plt.xlabel('Relative Velocity', size=12.)\n",
    "plt.show()"
   ]
  },
  {
   "cell_type": "code",
   "execution_count": null,
   "metadata": {
    "collapsed": true
   },
   "outputs": [],
   "source": []
  }
 ],
 "metadata": {
  "kernelspec": {
   "display_name": "Python 2",
   "language": "python",
   "name": "python2"
  },
  "language_info": {
   "codemirror_mode": {
    "name": "ipython",
    "version": 2
   },
   "file_extension": ".py",
   "mimetype": "text/x-python",
   "name": "python",
   "nbconvert_exporter": "python",
   "pygments_lexer": "ipython2",
   "version": "2.7.11"
  }
 },
 "nbformat": 4,
 "nbformat_minor": 0
}
