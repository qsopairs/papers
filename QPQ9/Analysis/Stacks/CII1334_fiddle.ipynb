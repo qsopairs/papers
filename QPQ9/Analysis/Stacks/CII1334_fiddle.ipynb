{
 "cells": [
  {
   "cell_type": "code",
   "execution_count": 1,
   "metadata": {
    "collapsed": true
   },
   "outputs": [],
   "source": [
    "%matplotlib inline"
   ]
  },
  {
   "cell_type": "code",
   "execution_count": 2,
   "metadata": {
    "collapsed": false
   },
   "outputs": [
    {
     "name": "stderr",
     "output_type": "stream",
     "text": [
      "/Users/lwymarie/anaconda/lib/python2.7/site-packages/astroquery/sdss/__init__.py:28: UserWarning: Experimental: SDSS has not yet been refactored to have its API match the rest of astroquery (but it's nearly there).\n",
      "  warnings.warn(\"Experimental: SDSS has not yet been refactored to have its API \"\n"
     ]
    }
   ],
   "source": [
    "# imports\n",
    "from __future__ import print_function,absolute_import,division,unicode_literals\n",
    "import numpy as np\n",
    "import glob,os,sys,copy,imp \n",
    "from scipy import stats as scistats\n",
    "import matplotlib as mpl\n",
    "mpl.rcParams['font.family']='stixgeneral'\n",
    "from matplotlib.backends.backend_pdf import PdfPages\n",
    "from matplotlib import pyplot as plt\n",
    "import matplotlib.gridspec as gridspec\n",
    "from astropy.table import QTable,Table\n",
    "from astropy.io import ascii,fits\n",
    "from astropy import units as u\n",
    "from astropy import constants as const\n",
    "from astropy.coordinates import SkyCoord\n",
    "from linetools.spectralline import AbsLine\n",
    "import linetools.utils as ltu\n",
    "from xastropy.igm.abs_sys import abssys_utils as abssys\n",
    "from xastropy import spec as xpsec\n",
    "from xastropy.plotting import utils as xputils\n",
    "from xastropy.xutils import xdebug as xdb\n",
    "from xastropy.obs import radec as xor\n",
    "from xastropy.atomic import ionization as xai\n",
    "from xastropy.xutils import fits as xxf\n",
    "sys.path.append(os.path.abspath(\"../../../../py\"))\n",
    "from enigma.qpq import utils as qpqutils\n",
    "from enigma.qpq import spec as qpqs\n",
    "from enigma.qpq import stacks as qpqk\n",
    "sys.path.append(os.path.abspath(\"../Bootstrap/py\"))\n",
    "import qpq9_boot as qpq9b\n",
    "sys.path.append(os.path.abspath(\"./py\"))\n",
    "import qpq9_stacks as qpq9k"
   ]
  },
  {
   "cell_type": "markdown",
   "metadata": {},
   "source": [
    "## Load stack_tup"
   ]
  },
  {
   "cell_type": "code",
   "execution_count": 3,
   "metadata": {
    "collapsed": false,
    "scrolled": true
   },
   "outputs": [
    {
     "name": "stderr",
     "output_type": "stream",
     "text": [
      "/Users/lwymarie/python/specdb/specdb/query_catalog.py:140: UserWarning: No sources found at your coordinate within tol=0.5 arcsec.  Returning None\n",
      "  warnings.warn(\"No sources found at your coordinate within tol={:g}.  Returning None\".format(tol))\n",
      "/Users/lwymarie/python/linetools/linetools/spectra/xspectrum1d.py:295: UserWarning: No unit given to wavelength, assuming Angstroms.\n",
      "  warnings.warn(\"No unit given to wavelength, assuming Angstroms.\")\n"
     ]
    },
    {
     "name": "stdout",
     "output_type": "stream",
     "text": [
      "Reading /Users/lwymarie/python/enigma/enigma/data/qpq/qpq9_final.fits\n",
      "4.5030178527 1 / Angstrom\n",
      "No spectrum found for BOSSJ0008-0039 and wvobs=3920.97 Angstrom!\n",
      "3.96814209033 1 / Angstrom\n",
      "No spectrum found for BOSSJ0042+1350 and wvobs=3704.79 Angstrom!\n",
      "81.1223225091 1 / Angstrom\n",
      "44.1513656402 1 / Angstrom\n",
      "Using /u/xavier/Dropbox//QSOPairs/data/GMOS_redux//./SDSSJ034139.19-000012.7_b1200_F.fits.gz for SDSSJ0341-0000\n",
      "S/N 81.1223225091 1 / Angstrom\n",
      "91.8691590217 1 / Angstrom\n",
      "Using /u/xavier/Dropbox//QSOPairs/data/LRIS_redux//./SDSSJ080048.74+354231.3_b1200_F.fits.gz for APOJ0800+3542\n",
      "S/N 91.8691590217 1 / Angstrom\n",
      "6.82627542183 1 / Angstrom\n",
      "Using spec-7328-56715-0428.fits.gz for BOSSJ0809+4539\n",
      "S/N 6.82627542183 1 / Angstrom\n",
      "No spectrum found for BOSSJ0826+4708 and wvobs=3734.97 Angstrom!\n",
      "7.18768185783 1 / Angstrom\n",
      "30.4325951329 1 / Angstrom\n",
      "Using /u/xavier/Dropbox//QSOPairs/data/LRIS_redux//./SDSSJ082844.87+454518.2_b1200_F.fits.gz for SDSSJ0828+4545\n",
      "S/N 30.4325951329 1 / Angstrom\n",
      "30.2325672808 1 / Angstrom\n",
      "Using /u/xavier/Dropbox//QSOPairs/data/LRIS_redux//./SDSSJ083757.13+383722.4_b1200_F.fits.gz for APOJ0837+3837\n",
      "S/N 30.2325672808 1 / Angstrom\n",
      "14.3637472477 1 / Angstrom\n",
      "Using /u/xavier/Dropbox//QSOPairs/data/BOSS/v5_5_0/SDSSJ084159.26+392140.0.fits for BOSSJ0841+3921\n",
      "S/N 14.3637472477 1 / Angstrom\n",
      "98.9433999318 1 / Angstrom\n",
      "Using /u/xavier/Dropbox//QSOPairs/data/MAGE_redux//./SDSSJ085357.49-001106.1_F.fits.gz for BOSSJ0853-0011\n",
      "S/N 98.9433999318 1 / Angstrom\n",
      "1.62381004726 1 / Angstrom\n",
      "No spectrum found for BOSSJ0903+5133 and wvobs=3827.56 Angstrom!\n",
      "No spectrum found for BOSSJ0904+0042 and wvobs=3493.83 Angstrom!\n",
      "150.03949429 1 / Angstrom\n",
      "17.3991571859 1 / Angstrom\n",
      "Using /u/xavier/Dropbox//QSOPairs/data/XSHOOTER_redux//./SDSSJ091338.97-010704.6_F.fits.gz for BOSSJ0913-0107\n",
      "S/N 150.03949429 1 / Angstrom\n",
      "10.8041188824 1 / Angstrom\n",
      "Using /u/xavier/Dropbox//QSOPairs/data/BOSS/v5_5_0/SDSSJ091553.38+011911.3.fits for BOSSJ0915+0119\n",
      "S/N 10.8041188824 1 / Angstrom\n",
      "73.81824179 1 / Angstrom\n",
      "Using /u/xavier/Dropbox//QSOPairs/data/LRIS_redux//./SDSSJ092416.73+392914.6_b1200_F.fits.gz for APOJ0924+3929\n",
      "S/N 73.81824179 1 / Angstrom\n",
      "63.9766522587 1 / Angstrom\n",
      "Using /u/xavier/Dropbox//QSOPairs/data/MAGE_redux//./SDSSJ093225.60+092500.2_F.fits.gz for APOJ0932+0925\n",
      "S/N 63.9766522587 1 / Angstrom\n",
      "3.9769376434 1 / Angstrom\n",
      "No spectrum found for BOSSJ1002+0020 and wvobs=4239.54 Angstrom!\n",
      "61.5398404705 1 / Angstrom\n",
      "Using /u/xavier/Dropbox//QSOPairs/data/LRIS_redux//./SDSSJ100507.08+501929.8_b1200_F.fits.gz for SDSSJ1005+5019\n",
      "S/N 61.5398404705 1 / Angstrom\n",
      "5.73742272355 1 / Angstrom\n",
      "Using /u/xavier/Dropbox//QSOPairs/data/BOSS/v5_6_0/SDSSJ100940.58+250053.9.fits for APOJ1009+2500\n",
      "S/N 5.73742272355 1 / Angstrom\n",
      "108.634313678 1 / Angstrom\n",
      "Using /u/xavier/Dropbox//QSOPairs/data/ESI_redux//./SDSSJ102616.12+461420.8_F.fits.gz for APOJ1026+4614\n",
      "S/N 108.634313678 1 / Angstrom\n",
      "18.4091862035 1 / Angstrom\n",
      "Using spec-6702-56381-0508.fits.gz for BOSSJ1036+5012\n",
      "S/N 18.4091862035 1 / Angstrom\n",
      "47.8324556688 1 / Angstrom\n",
      "14.4231604961 1 / Angstrom\n",
      "56.6214028343 1 / Angstrom\n",
      "Using /u/xavier/Dropbox//QSOPairs/data/ESI_redux//./SDSSJ103900.01+502652.8_F.fits.gz for BOSSJ1039+5026\n",
      "S/N 56.6214028343 1 / Angstrom\n",
      "13.0086514544 1 / Angstrom\n",
      "Using spec-7083-56722-0068.fits.gz for BOSSJ1042+6459\n",
      "S/N 13.0086514544 1 / Angstrom\n",
      "52.1925547055 1 / Angstrom\n",
      "24.7137380174 1 / Angstrom\n",
      "No continuum: /u/xavier/Dropbox//QSOPairs/data/LRIS_redux//./SDSSJ114145.43+072423.3_b400_F.fits.gz\n",
      "Using /u/xavier/Dropbox//QSOPairs/data/GMOS_redux//./SDSSJ114145.43+072423.3_b600_F.fits.gz for APOJ1141+0724\n",
      "S/N 52.1925547055 1 / Angstrom\n",
      "68.393253611 1 / Angstrom"
     ]
    },
    {
     "name": "stderr",
     "output_type": "stream",
     "text": [
      "/Users/lwymarie/python/specdb/specdb/query_catalog.py:145: UserWarning: Found multiple sources in the catalog. Taking the closest one\n",
      "  warnings.warn(\"Found multiple sources in the catalog. Taking the closest one\")\n",
      "/Users/lwymarie/anaconda/lib/python2.7/site-packages/astropy/units/quantity.py:850: RuntimeWarning: invalid value encountered in true_divide\n",
      "  return super(Quantity, self).__itruediv__(other)\n"
     ]
    },
    {
     "name": "stdout",
     "output_type": "stream",
     "text": [
      "\n",
      "143.628373235 1 / Angstrom\n",
      "Using /u/xavier/Dropbox//QSOPairs/data/ESI_redux//./SDSSJ114436.66+095904.9_F.fits.gz for BOSSJ1144+0959\n",
      "S/N 143.628373235 1 / Angstrom\n",
      "No continuum: /u/xavier/Dropbox//QSOPairs/data/GMOS_redux//./SDSSJ120416.69+022111.0_b1200_F.fits.gz\n",
      "No continuum: /u/xavier/Dropbox//QSOPairs/data/HIRES_redux//./SDSSJ120416.69+022111.0_f.fits.gz\n",
      "Using conti=1 for HIRES\n",
      "142.871410019 1 / Angstrom\n",
      "47.2201789204 1 / Angstrom\n",
      "Using /u/xavier/Dropbox//QSOPairs/data/HIRES_redux//./SDSSJ120416.69+022111.0_f.fits.gz for BOSSJ1204+0221\n",
      "S/N 142.871410019 1 / Angstrom\n",
      "15.4016156076 1 / Angstrom\n",
      "Using /u/xavier/Dropbox//QSOPairs/data/SDSS//./SDSSJ121558.80+571555.4.fits.gz for BOSSJ1215+5715\n",
      "S/N 15.4016156076 1 / Angstrom\n",
      "78.1873569683 1 / Angstrom\n",
      "12.5385900365 1 / Angstrom\n",
      "30.4123138554 1 / Angstrom\n",
      "Using /u/xavier/Dropbox//QSOPairs/data/GMOS_redux//./SDSSJ123141.73+002913.9_b600_F.fits.gz for BOSSJ1231+0029\n",
      "S/N 78.1873569683 1 / Angstrom\n",
      "5.74372243786 1 / Angstrom\n",
      "Using spec-6482-56358-0110.fits.gz for BOSSJ1244+3208\n",
      "S/N 5.74372243786 1 / Angstrom\n",
      "3.27963612433 1 / Angstrom\n",
      "No spectrum found for BOSSJ1253+6327 and wvobs=3960.22 Angstrom!\n",
      "32.2260362938 1 / Angstrom\n",
      "Using /u/xavier/Dropbox//QSOPairs/data/LRIS_redux//./SDSSJ130603.55+615835.2_b1200_F.fits.gz for APOJ1306+6158\n",
      "S/N 32.2260362938 1 / Angstrom\n",
      "34.4735060467 1 / Angstrom\n",
      "5.29411699216 1 / Angstrom\n",
      "Using /u/xavier/Dropbox//QSOPairs/data/LRIS_redux//./SDSSJ135629.54+613310.4_b1200_F.fits.gz for BOSSJ1356+6133\n",
      "S/N 34.4735060467 1 / Angstrom\n",
      "15.1103513223 1 / Angstrom\n",
      "Using /u/xavier/Dropbox//QSOPairs/data/BOSS/v5_6_0/SDSSJ135849.54+273756.9.fits for APOJ1358+2737\n",
      "S/N 15.1103513223 1 / Angstrom\n",
      "43.8456885446 1 / Angstrom\n",
      "Using /u/xavier/Dropbox//QSOPairs/data/MAGE_redux//./SDSSJ142054.92+160342.9_F.fits.gz for APOJ1420+1603\n",
      "S/N 43.8456885446 1 / Angstrom\n",
      "No continuum: /u/xavier/Dropbox//QSOPairs/data/GMOS_redux//./SDSSJ142758.74-012136.2_b1200_F.fits.gz\n",
      "138.502983858 1 / Angstrom\n",
      "105.739031052 1 / Angstrom\n",
      "Using /u/xavier/Dropbox//QSOPairs/data/MIKE_redux//./SDSSJ142758.74-012136.2_b_F.fits.gz for BOSSJ1427-0121\n",
      "S/N 138.502983858 1 / Angstrom\n",
      "22.5711986597 1 / Angstrom\n",
      "Using /u/xavier/Dropbox//QSOPairs/data/BOSS/v5_4_45/SDSSJ143344.55+064111.9.fits for BOSSJ1433+0641\n",
      "S/N 22.5711986597 1 / Angstrom\n",
      "22.0937672202 1 / Angstrom\n",
      "Using /u/xavier/Dropbox//QSOPairs/data/MAGE_redux//./SDSSJ155325.89+192137.7_F.fits.gz for APOJ1553+1921\n",
      "S/N 22.0937672202 1 / Angstrom\n",
      "24.779005478 1 / Angstrom\n",
      "Using /u/xavier/Dropbox//QSOPairs/data/LRIS_redux//./SDSSJ155946.28+494326.5_b1200_F.fits.gz for APOJ1559+4943\n",
      "S/N 24.779005478 1 / Angstrom\n",
      "17.6300410978 1 / Angstrom\n",
      "Using /u/xavier/Dropbox//QSOPairs/data/BOSS/v5_6_0/SDSSJ160546.67+511323.0.fits for BOSSJ1605+5113\n",
      "S/N 17.6300410978 1 / Angstrom\n",
      "1.30299972739 1 / Angstrom\n",
      "No spectrum found for BOSSJ1618+1842 and wvobs=4067.76 Angstrom!\n",
      "121.295573564 1 / Angstrom\n",
      "Using /u/xavier/Dropbox//QSOPairs/data/ESI_redux//./SDSSJ162737.25+460609.3_F.fits.gz for APOJ1627+4606\n",
      "S/N 121.295573564 1 / Angstrom\n",
      "10.3337297074 1 / Angstrom\n",
      "Using /u/xavier/Dropbox//QSOPairs/data/BOSS/v5_5_0/SDSSJ225549.55-000927.7.fits for BOSSJ2255-0009\n",
      "S/N 10.3337297074 1 / Angstrom\n"
     ]
    },
    {
     "name": "stderr",
     "output_type": "stream",
     "text": [
      "/Users/lwymarie/anaconda/lib/python2.7/site-packages/astropy/units/quantity.py:850: RuntimeWarning: divide by zero encountered in true_divide\n",
      "  return super(Quantity, self).__itruediv__(other)\n",
      "/Users/lwymarie/python/linetools/linetools/spectra/xspectrum1d.py:807: UserWarning: Ignoring NAN and inf in flux\n",
      "  warnings.warn(\"Ignoring NAN and inf in flux\")\n"
     ]
    }
   ],
   "source": [
    "stack_tup0 = qpq9k.qpq9_IRMgII(passback=True,wrest=1334.5323*u.AA,S2N_cut=5.5/u.AA,zfg_mnx=(1.6,9999),plot_indiv=False)\n",
    "# Mask\n",
    "fin_velo, stck_img, stck_msk, all_dict = stack_tup0\n",
    "stck_mskN = copy.deepcopy(stck_msk)\n",
    "idx_mask = []\n",
    "for ii,dd in enumerate(all_dict):\n",
    "    if dd is None:\n",
    "        continue\n",
    "    if 'J1508+3635' in dd['qpq']['NAME']: #DLA not excluded by forest cut, should be excluded now\n",
    "        idx_mask.append(ii)\n",
    "for idx in idx_mask:\n",
    "    stck_mskN[idx,:] = 0."
   ]
  },
  {
   "cell_type": "code",
   "execution_count": 39,
   "metadata": {
    "collapsed": false
   },
   "outputs": [
    {
     "name": "stdout",
     "output_type": "stream",
     "text": [
      "[ 34.  34.  34.  34.  34.  34.  34.  34.  34.  34.  34.  34.  34.  34.  34.\n",
      "  34.  34.  34.  34.  34.  34.  34.  34.  34.  34.  34.  34.  34.  34.  34.\n",
      "  34.  34.  34.  34.  34.  34.  34.  34.  34.  34.  34.  34.  34.  34.  34.\n",
      "  34.  34.  34.  34.  34.  34.  34.  34.  34.  34.  34.  34.  34.  34.  34.\n",
      "  34.]\n"
     ]
    },
    {
     "data": {
      "text/plain": [
       "(2.0323045180781749, 179.56190792887546)"
      ]
     },
     "execution_count": 39,
     "metadata": {},
     "output_type": "execute_result"
    }
   ],
   "source": [
    "print(np.sum(stck_mskN,0))\n",
    "sv_zfg = []\n",
    "sv_Rperp = []\n",
    "for ii,dd in enumerate(all_dict):\n",
    "    if dd is None:\n",
    "        continue\n",
    "    if np.sum(stck_mskN[ii,:]) == 0:\n",
    "        continue\n",
    "    sv_zfg.append(dd['qpq']['Z_FG'])\n",
    "    sv_Rperp.append(dd['qpq']['R_PHYS'])\n",
    "np.median(sv_zfg),np.median(sv_Rperp)"
   ]
  },
  {
   "cell_type": "markdown",
   "metadata": {},
   "source": [
    "## Stack and Plot"
   ]
  },
  {
   "cell_type": "markdown",
   "metadata": {},
   "source": [
    "### Mean"
   ]
  },
  {
   "cell_type": "code",
   "execution_count": 3,
   "metadata": {
    "collapsed": false,
    "scrolled": false
   },
   "outputs": [],
   "source": [
    "stack_tup = (fin_velo, stck_img, stck_mskN, all_dict)\n",
    "fin_velo, fin_flx, all_dict = qpqk.stack_avg(stack_tup)\n",
    "plt.figure(figsize=(8,5),dpi=1200)\n",
    "plt.plot(fin_velo, fin_flx, drawstyle='steps-mid',linewidth=2.)\n",
    "plt.xlabel('Relative Velocity', size=12.)\n",
    "plt.show()"
   ]
  },
  {
   "cell_type": "markdown",
   "metadata": {},
   "source": [
    "### Median"
   ]
  },
  {
   "cell_type": "code",
   "execution_count": 4,
   "metadata": {
    "collapsed": false
   },
   "outputs": [],
   "source": [
    "fin_velo, fin_flx_med, all_dict = qpqk.stack_med(stack_tup)\n",
    "plt.figure(figsize=(8,5),dpi=1200)\n",
    "plt.plot(fin_velo, fin_flx_med, drawstyle='steps-mid',linewidth=2.)\n",
    "plt.xlabel('Relative Velocity', size=12.)\n",
    "plt.show()"
   ]
  },
  {
   "cell_type": "markdown",
   "metadata": {},
   "source": [
    "### Write "
   ]
  },
  {
   "cell_type": "code",
   "execution_count": 5,
   "metadata": {
    "collapsed": false
   },
   "outputs": [
    {
     "name": "stdout",
     "output_type": "stream",
     "text": [
      "Wrote spectrum to Output/QPQ9_zIRMgII_1334_mean.fits\n",
      "Wrote spectrum to Output/QPQ9_zIRMgII_1334_med.fits\n"
     ]
    }
   ],
   "source": [
    "from linetools.spectra.xspectrum1d import XSpectrum1D\n",
    "outfil = 'Output/QPQ9_zIRMgII_1334_mean.fits'\n",
    "relativistic_equiv = u.doppler_relativistic(1334.5323*u.AA)\n",
    "fin_wave = fin_velo.to(u.AA,equivalencies=relativistic_equiv)\n",
    "xspec1d = XSpectrum1D.from_tuple((fin_wave, u.Quantity(fin_flx)))\n",
    "xspec1d.write_to_fits(outfil,clobber=True)\n",
    "outfil = 'Output/QPQ9_zIRMgII_1334_med.fits'\n",
    "xspec1d = XSpectrum1D.from_tuple((fin_wave, u.Quantity(fin_flx_med)))\n",
    "xspec1d.write_to_fits(outfil,clobber=True)"
   ]
  },
  {
   "cell_type": "markdown",
   "metadata": {},
   "source": [
    "## Bootstrap"
   ]
  },
  {
   "cell_type": "code",
   "execution_count": 6,
   "metadata": {
    "collapsed": false
   },
   "outputs": [
    {
     "name": "stderr",
     "output_type": "stream",
     "text": [
      "WARNING: The fit may be unsuccessful; check fit_info['message'] for more information. [astropy.modeling.fitting]\n",
      "WARNING:astropy:The fit may be unsuccessful; check fit_info['message'] for more information.\n"
     ]
    },
    {
     "name": "stdout",
     "output_type": "stream",
     "text": [
      "Equivalent width skewness: Mean=0.417164, Median=0.40831, std=0.265803 for Ntrials=10000\n",
      "Centroid: Mean = 158.03, scatter=119.357\n",
      "Dispersion and scatter of it:  365.918698441 95.6159636114\n",
      "max and min centroid:  571.763975008 -285.584594473\n",
      "Wrote ../Bootstrap/Output/IRMgII_1334_mean.fits\n"
     ]
    }
   ],
   "source": [
    "#Mean \n",
    "reload(qpq9b)\n",
    "qpq9b.boot_trans(wrest=1334.5323*u.AA,outfil='../Bootstrap/Output/IRMgII_1334_mean.fits',stack_tup0=stack_tup)"
   ]
  },
  {
   "cell_type": "code",
   "execution_count": 7,
   "metadata": {
    "collapsed": false
   },
   "outputs": [],
   "source": [
    "# plot trials\n",
    "stack_tup = (fin_velo, stck_img, stck_mskN, all_dict)\n",
    "fin_velo, fin_flx, all_dict = qpqk.stack_avg(stack_tup)\n",
    "plt.figure(figsize=(8,5),dpi=1200)\n",
    "hdulist = fits.open('../Bootstrap/Output/IRMgII_1334_mean.fits')\n",
    "boot_img = hdulist[1].data\n",
    "for bb in np.arange(np.shape(boot_img)[0]):\n",
    "    plt.plot(fin_velo,boot_img[bb,:],drawstyle='step-mid',linewidth=0.1,color='gray')\n",
    "plt.plot(fin_velo, fin_flx, drawstyle='steps-mid',linewidth=2.)\n",
    "plt.axis([-3000,3000,0.55,1.1])\n",
    "plt.xlabel('Relative Velocity (km/s)', size=12.)\n",
    "plt.ylabel('Normalized Flux', size=12.)\n",
    "plt.show()"
   ]
  },
  {
   "cell_type": "code",
   "execution_count": 8,
   "metadata": {
    "collapsed": false
   },
   "outputs": [
    {
     "data": {
      "text/plain": [
       "0.1081"
      ]
     },
     "execution_count": 8,
     "metadata": {},
     "output_type": "execute_result"
    }
   ],
   "source": [
    "# Plot centroids\n",
    "tau_cen = hdulist[3].data\n",
    "n, bins, patches = plt.hist(tau_cen, 50, normed=1, facecolor='green', alpha=0.5,range=(-1000,3000))\n",
    "plt.xlabel('Centroid Velocity (km/s)')\n",
    "plt.ylabel('Probability')\n",
    "len(np.where(tau_cen < 0)[0])/len(tau_cen)"
   ]
  },
  {
   "cell_type": "code",
   "execution_count": 9,
   "metadata": {
    "collapsed": false
   },
   "outputs": [
    {
     "name": "stdout",
     "output_type": "stream",
     "text": [
      "Equivalent width skewness: Mean=0.170405, Median=0.190188, std=0.323572 for Ntrials=10000\n",
      "Centroid: Mean = 52.3208, scatter=146.343\n",
      "Dispersion and scatter of it:  292.609246607 175.339303867\n",
      "max and min centroid:  1458.28985762 -844.621351453\n",
      "Wrote ../Bootstrap/Output/IRMgII_1334_med.fits\n"
     ]
    }
   ],
   "source": [
    "#Median\n",
    "qpq9b.boot_trans(wrest=1334.5323*u.AA,outfil='../Bootstrap/Output/IRMgII_1334_med.fits',stack_tup0=stack_tup,median=True)"
   ]
  },
  {
   "cell_type": "code",
   "execution_count": 10,
   "metadata": {
    "collapsed": false
   },
   "outputs": [],
   "source": [
    "# plot trials\n",
    "stack_tup = (fin_velo, stck_img, stck_mskN, all_dict)\n",
    "fin_velo, fin_flx, all_dict = qpqk.stack_med(stack_tup)\n",
    "plt.figure(figsize=(8,5),dpi=1200)\n",
    "hdulist = fits.open('../Bootstrap/Output/IRMgII_1334_med.fits')\n",
    "boot_img = hdulist[1].data\n",
    "for bb in np.arange(np.shape(boot_img)[0]):\n",
    "    plt.plot(fin_velo,boot_img[bb,:],drawstyle='step-mid',linewidth=0.1,color='gray')\n",
    "plt.plot(fin_velo, fin_flx, drawstyle='steps-mid',linewidth=2.)\n",
    "plt.axis([-3000,3000,0.55,1.1])\n",
    "plt.xlabel('Relative Velocity (km/s)', size=12.)\n",
    "plt.ylabel('Normalized Flux', size=12.)\n",
    "plt.show()"
   ]
  },
  {
   "cell_type": "markdown",
   "metadata": {},
   "source": [
    "# [OIII] only"
   ]
  },
  {
   "cell_type": "code",
   "execution_count": 3,
   "metadata": {
    "collapsed": false
   },
   "outputs": [
    {
     "name": "stdout",
     "output_type": "stream",
     "text": [
      "Reading /Users/lwymarie/python/enigma/enigma/data/qpq/qpq9_final.fits\n",
      "91.8691590217 1 / Angstrom"
     ]
    },
    {
     "name": "stderr",
     "output_type": "stream",
     "text": [
      "/Users/lwymarie/python/linetools/linetools/spectra/xspectrum1d.py:295: UserWarning: No unit given to wavelength, assuming Angstroms.\n",
      "  warnings.warn(\"No unit given to wavelength, assuming Angstroms.\")\n",
      "/Users/lwymarie/python/specdb/specdb/query_catalog.py:145: UserWarning: Found multiple sources in the catalog. Taking the closest one\n",
      "  warnings.warn(\"Found multiple sources in the catalog. Taking the closest one\")\n"
     ]
    },
    {
     "name": "stdout",
     "output_type": "stream",
     "text": [
      "\n",
      "Using /u/xavier/Dropbox//QSOPairs/data/LRIS_redux//./SDSSJ080048.74+354231.3_b1200_F.fits.gz for APOJ0800+3542\n",
      "S/N 91.8691590217 1 / Angstrom\n",
      "14.3637472477 1 / Angstrom\n",
      "Using /u/xavier/Dropbox//QSOPairs/data/BOSS/v5_5_0/SDSSJ084159.26+392140.0.fits for BOSSJ0841+3921\n",
      "S/N 14.3637472477 1 / Angstrom\n",
      "98.9433999318 1 / Angstrom\n",
      "Using /u/xavier/Dropbox//QSOPairs/data/MAGE_redux//./SDSSJ085357.49-001106.1_F.fits.gz for BOSSJ0853-0011\n",
      "S/N 98.9433999318 1 / Angstrom\n",
      "63.9766522587 1 / Angstrom\n",
      "Using /u/xavier/Dropbox//QSOPairs/data/MAGE_redux//./SDSSJ093225.60+092500.2_F.fits.gz for APOJ0932+0925\n",
      "S/N 63.9766522587 1 / Angstrom\n",
      "47.8324556688 1 / Angstrom\n",
      "14.4231604961 1 / Angstrom\n",
      "56.6214028343 1 / Angstrom\n",
      "Using /u/xavier/Dropbox//QSOPairs/data/ESI_redux//./SDSSJ103900.01+502652.8_F.fits.gz for BOSSJ1039+5026\n",
      "S/N 56.6214028343 1 / Angstrom\n",
      "68.393253611 1 / Angstrom\n",
      "143.628373235 1 / Angstrom\n",
      "Using /u/xavier/Dropbox//QSOPairs/data/ESI_redux//./SDSSJ114436.66+095904.9_F.fits.gz for BOSSJ1144+0959\n",
      "S/N 143.628373235 1 / Angstrom\n",
      "No continuum: /u/xavier/Dropbox//QSOPairs/data/GMOS_redux//./SDSSJ120416.69+022111.0_b1200_F.fits.gz\n",
      "No continuum: /u/xavier/Dropbox//QSOPairs/data/HIRES_redux//./SDSSJ120416.69+022111.0_f.fits.gz\n",
      "Using conti=1 for HIRES\n",
      "142.871410019 1 / Angstrom\n",
      "47.2201789204 1 / Angstrom\n",
      "Using /u/xavier/Dropbox//QSOPairs/data/HIRES_redux//./SDSSJ120416.69+022111.0_f.fits.gz for BOSSJ1204+0221\n",
      "S/N 142.871410019 1 / Angstrom\n",
      "15.4016156076 1 / Angstrom\n",
      "Using /u/xavier/Dropbox//QSOPairs/data/SDSS//./SDSSJ121558.80+571555.4.fits.gz for BOSSJ1215+5715\n",
      "S/N 15.4016156076 1 / Angstrom\n",
      "78.1873569683 1 / Angstrom\n",
      "12.5385900365 1 / Angstrom\n",
      "30.4123138554 1 / Angstrom\n",
      "Using /u/xavier/Dropbox//QSOPairs/data/GMOS_redux//./SDSSJ123141.73+002913.9_b600_F.fits.gz for BOSSJ1231+0029\n",
      "S/N 78.1873569683 1 / Angstrom\n",
      "43.8456885446 1 / Angstrom\n",
      "Using /u/xavier/Dropbox//QSOPairs/data/MAGE_redux//./SDSSJ142054.92+160342.9_F.fits.gz for APOJ1420+1603\n",
      "S/N 43.8456885446 1 / Angstrom\n",
      "No continuum: /u/xavier/Dropbox//QSOPairs/data/GMOS_redux//./SDSSJ142758.74-012136.2_b1200_F.fits.gz\n",
      "138.502983858 1 / Angstrom\n",
      "105.739031052 1 / Angstrom\n",
      "Using /u/xavier/Dropbox//QSOPairs/data/MIKE_redux//./SDSSJ142758.74-012136.2_b_F.fits.gz for BOSSJ1427-0121\n",
      "S/N 138.502983858 1 / Angstrom\n",
      "22.5711986597 1 / Angstrom\n",
      "Using /u/xavier/Dropbox//QSOPairs/data/BOSS/v5_4_45/SDSSJ143344.55+064111.9.fits for BOSSJ1433+0641\n",
      "S/N 22.5711986597 1 / Angstrom\n",
      "22.0937672202 1 / Angstrom\n",
      "Using /u/xavier/Dropbox//QSOPairs/data/MAGE_redux//./SDSSJ155325.89+192137.7_F.fits.gz for APOJ1553+1921\n",
      "S/N 22.0937672202 1 / Angstrom\n",
      "121.295573564 1 / Angstrom\n",
      "Using /u/xavier/Dropbox//QSOPairs/data/ESI_redux//./SDSSJ162737.25+460609.3_F.fits.gz for APOJ1627+4606\n",
      "S/N 121.295573564 1 / Angstrom\n"
     ]
    },
    {
     "name": "stderr",
     "output_type": "stream",
     "text": [
      "/Users/lwymarie/anaconda/lib/python2.7/site-packages/astropy/units/quantity.py:850: RuntimeWarning: invalid value encountered in true_divide\n",
      "  return super(Quantity, self).__itruediv__(other)\n",
      "/Users/lwymarie/anaconda/lib/python2.7/site-packages/astropy/units/quantity.py:850: RuntimeWarning: divide by zero encountered in true_divide\n",
      "  return super(Quantity, self).__itruediv__(other)\n",
      "/Users/lwymarie/python/linetools/linetools/spectra/xspectrum1d.py:807: UserWarning: Ignoring NAN and inf in flux\n",
      "  warnings.warn(\"Ignoring NAN and inf in flux\")\n"
     ]
    }
   ],
   "source": [
    "stack_tup0 = qpq9k.qpq9_IRMgII(passback=True,wrest=1334.5323*u.AA,vsig_cut=50*u.km/u.s,S2N_cut=5.5/u.AA,zfg_mnx=(1.6,9999),\n",
    "                              plot_indiv=False)\n",
    "# Mask\n",
    "fin_velo, stck_img, stck_msk, all_dict = stack_tup0\n",
    "stck_mskN = copy.deepcopy(stck_msk)\n",
    "idx_mask = []\n",
    "for ii,dd in enumerate(all_dict):\n",
    "    if dd is None:\n",
    "        continue\n",
    "    if 'J1508+3635' in dd['qpq']['NAME']: #DLA not excluded by forest cut, should be excluded now\n",
    "        idx_mask.append(ii) \n",
    "for idx in idx_mask:\n",
    "    stck_mskN[idx,:] = 0."
   ]
  },
  {
   "cell_type": "code",
   "execution_count": 71,
   "metadata": {
    "collapsed": false
   },
   "outputs": [
    {
     "data": {
      "text/plain": [
       "(2.3475470474694551, 183.37371946093424)"
      ]
     },
     "execution_count": 71,
     "metadata": {},
     "output_type": "execute_result"
    }
   ],
   "source": [
    "np.sum(stck_mskN,0)\n",
    "sv_zfg = []\n",
    "sv_Rperp = []\n",
    "for ii,dd in enumerate(all_dict):\n",
    "    if dd is None:\n",
    "        continue\n",
    "    if np.sum(stck_mskN[ii,:]) == 0:\n",
    "        continue\n",
    "    sv_zfg.append(dd['qpq']['Z_FG'])\n",
    "    sv_Rperp.append(dd['qpq']['R_PHYS'])\n",
    "np.median(sv_zfg),np.median(sv_Rperp)"
   ]
  },
  {
   "cell_type": "code",
   "execution_count": 4,
   "metadata": {
    "collapsed": false
   },
   "outputs": [
    {
     "data": {
      "image/png": "[encoded data removed]",
      "text/plain": [
       "<matplotlib.figure.Figure at 0x10ee49b90>"
      ]
     },
     "metadata": {},
     "output_type": "display_data"
    }
   ],
   "source": [
    "stack_tup = (fin_velo, stck_img, stck_mskN, all_dict)\n",
    "fin_velo, fin_flx, all_dict = qpqk.stack_avg(stack_tup)\n",
    "plt.figure(figsize=(8,5),dpi=1200)\n",
    "plt.plot(fin_velo, fin_flx, drawstyle='steps-mid',linewidth=2.)\n",
    "plt.xlabel('Relative Velocity', size=12.)\n",
    "plt.show()"
   ]
  },
  {
   "cell_type": "code",
   "execution_count": 5,
   "metadata": {
    "collapsed": false
   },
   "outputs": [
    {
     "data": {
      "image/png": "[encoded data removed]",
      "text/plain": [
       "<matplotlib.figure.Figure at 0x10f6ce690>"
      ]
     },
     "metadata": {},
     "output_type": "display_data"
    }
   ],
   "source": [
    "fin_velo, fin_flx_med, all_dict = qpqk.stack_med(stack_tup)\n",
    "plt.figure(figsize=(8,5),dpi=1200)\n",
    "plt.plot(fin_velo, fin_flx_med, drawstyle='steps-mid',linewidth=2.)\n",
    "plt.xlabel('Relative Velocity', size=12.)\n",
    "plt.show()"
   ]
  },
  {
   "cell_type": "markdown",
   "metadata": {},
   "source": [
    "### Write"
   ]
  },
  {
   "cell_type": "code",
   "execution_count": 6,
   "metadata": {
    "collapsed": false
   },
   "outputs": [
    {
     "name": "stdout",
     "output_type": "stream",
     "text": [
      "Wrote spectrum to Output/QPQ9_zOIII_1334_mean.fits\n",
      "Wrote spectrum to Output/QPQ9_zOIII_1334_med.fits\n"
     ]
    }
   ],
   "source": [
    "from linetools.spectra.xspectrum1d import XSpectrum1D\n",
    "outfil = 'Output/QPQ9_zOIII_1334_mean.fits'\n",
    "relativistic_equiv = u.doppler_relativistic(1334.5323*u.AA)\n",
    "fin_wave = fin_velo.to(u.AA,equivalencies=relativistic_equiv)\n",
    "xspec1d = XSpectrum1D.from_tuple((fin_wave, u.Quantity(fin_flx)))\n",
    "xspec1d.write_to_fits(outfil,clobber=True)\n",
    "outfil = 'Output/QPQ9_zOIII_1334_med.fits'\n",
    "xspec1d = XSpectrum1D.from_tuple((fin_wave, u.Quantity(fin_flx_med)))\n",
    "xspec1d.write_to_fits(outfil,clobber=True)"
   ]
  },
  {
   "cell_type": "markdown",
   "metadata": {},
   "source": [
    "## Bootstrap"
   ]
  },
  {
   "cell_type": "code",
   "execution_count": 13,
   "metadata": {
    "collapsed": false
   },
   "outputs": [
    {
     "name": "stdout",
     "output_type": "stream",
     "text": [
      "Equivalent width skewness: Mean=0.327044, Median=0.346127, std=0.224779 for Ntrials=10000\n",
      "Centroid: Mean = 195.586, scatter=139.191\n",
      "Dispersion and scatter of it:  359.352453283 312.322674507\n",
      "max and min centroid:  915.795342576 -620.374353648\n",
      "Wrote ../Bootstrap/Output/OIII_1334_mean.fits\n"
     ]
    }
   ],
   "source": [
    "#Mean \n",
    "reload(qpq9b)\n",
    "qpq9b.boot_trans(wrest=1334.5323*u.AA,outfil='../Bootstrap/Output/OIII_1334_mean.fits',stack_tup0=stack_tup,nboot=10000)"
   ]
  },
  {
   "cell_type": "code",
   "execution_count": 16,
   "metadata": {
    "collapsed": false
   },
   "outputs": [
    {
     "data": {
      "image/png": "[encoded data removed]",
      "text/plain": [
       "<matplotlib.figure.Figure at 0x144acc510>"
      ]
     },
     "metadata": {},
     "output_type": "display_data"
    }
   ],
   "source": [
    "# plot trials\n",
    "stack_tup = (fin_velo, stck_img, stck_mskN, all_dict)\n",
    "fin_velo, fin_flx, all_dict = qpqk.stack_avg(stack_tup)\n",
    "plt.figure(figsize=(8,5),dpi=1200)\n",
    "hdulist = fits.open('../Bootstrap/Output/OIII_1334_mean.fits')\n",
    "boot_img = hdulist[1].data\n",
    "for bb in np.arange(np.shape(boot_img)[0]):\n",
    "    plt.plot(fin_velo,boot_img[bb,:],drawstyle='step-mid',linewidth=0.1,color='gray')\n",
    "plt.plot(fin_velo, fin_flx, drawstyle='steps-mid',linewidth=2.)\n",
    "plt.axis([-3000,3000,0.55,1.1])\n",
    "plt.xlabel('Relative Velocity (km/s)', size=12.)\n",
    "plt.ylabel('Normalized Flux', size=12.)\n",
    "plt.show()"
   ]
  },
  {
   "cell_type": "code",
   "execution_count": 17,
   "metadata": {
    "collapsed": false
   },
   "outputs": [
    {
     "data": {
      "text/plain": [
       "0.0846"
      ]
     },
     "execution_count": 17,
     "metadata": {},
     "output_type": "execute_result"
    },
    {
     "data": {
      "image/png": "[encoded data removed]",
      "text/plain": [
       "<matplotlib.figure.Figure at 0x12d990dd0>"
      ]
     },
     "metadata": {},
     "output_type": "display_data"
    }
   ],
   "source": [
    "# Plot centroids\n",
    "tau_cen = hdulist[3].data\n",
    "n, bins, patches = plt.hist(tau_cen, 50, normed=1, facecolor='green', alpha=0.5,range=(-1000,3000))\n",
    "plt.xlabel('Centroid Velocity (km/s)')\n",
    "plt.ylabel('Probability')\n",
    "len(np.where(tau_cen < 0)[0])/len(tau_cen)"
   ]
  },
  {
   "cell_type": "code",
   "execution_count": 18,
   "metadata": {
    "collapsed": false
   },
   "outputs": [
    {
     "name": "stdout",
     "output_type": "stream",
     "text": [
      "Equivalent width skewness: Mean=0.156118, Median=0.172817, std=0.38756 for Ntrials=10000\n",
      "Centroid: Mean = 83.0191, scatter=219.539\n",
      "Dispersion and scatter of it:  369.300333091 667.283637162\n",
      "max and min centroid:  1076.75506601 -1197.05298786\n",
      "Wrote ../Bootstrap/Output/OIII_1334_med.fits\n"
     ]
    }
   ],
   "source": [
    "#Median\n",
    "qpq9b.boot_trans(wrest=1334.5323*u.AA,outfil='../Bootstrap/Output/OIII_1334_med.fits',stack_tup0=stack_tup,median=True)"
   ]
  },
  {
   "cell_type": "code",
   "execution_count": null,
   "metadata": {
    "collapsed": false
   },
   "outputs": [],
   "source": [
    "# plot \n",
    "stack_tup = (fin_velo, stck_img, stck_mskN, all_dict)\n",
    "fin_velo, fin_flx, all_dict = qpqk.stack_med(stack_tup)\n",
    "plt.figure(figsize=(8,5),dpi=1200)\n",
    "hdulist = fits.open('../Bootstrap/Output/OIII_1334_med.fits')\n",
    "boot_img = hdulist[1].data\n",
    "for bb in np.arange(np.shape(boot_img)[0]):\n",
    "    plt.plot(fin_velo,boot_img[bb,:],drawstyle='step-mid',linewidth=0.1,color='gray')\n",
    "plt.plot(fin_velo, fin_flx_med, drawstyle='steps-mid',linewidth=2.)\n",
    "plt.xlabel('Relative Velocity (km/s)', size=12.)\n",
    "plt.ylabel('Normalized Flux', size=12.)\n",
    "plt.show()"
   ]
  },
  {
   "cell_type": "markdown",
   "metadata": {},
   "source": [
    "# Plot individual spectra "
   ]
  },
  {
   "cell_type": "code",
   "execution_count": null,
   "metadata": {
    "collapsed": false
   },
   "outputs": [],
   "source": [
    "qpq9k.plt_qpq9(wrest=1334.5323*u.AA,S2N_cut=5.5/u.AA,stack_fg=True,zfg_mnx=(1.6,9999))"
   ]
  },
  {
   "cell_type": "markdown",
   "metadata": {},
   "source": [
    "# Split in two bins of g_UV"
   ]
  },
  {
   "cell_type": "markdown",
   "metadata": {},
   "source": [
    "## MgII redshift stack"
   ]
  },
  {
   "cell_type": "code",
   "execution_count": null,
   "metadata": {
    "collapsed": false
   },
   "outputs": [],
   "source": [
    "# Load QPQ9 data structure\n",
    "enigma_path = imp.find_module('enigma')[1]\n",
    "QPQ9 = xxf.bintab_to_table(enigma_path+'/data/qpq/qpq9_final.fits')\n",
    "c_QPQ9 = SkyCoord(QPQ9['FG_RA']*u.deg,QPQ9['FG_DEC']*u.deg)\n",
    "# Find median g_UV\n",
    "stack_tup0 = qpq9k.qpq9_IRMgII(passback=True,wrest=1334.5323*u.AA,S2N_cut=5.5/u.AA,zfg_mnx=(1.6,9999))\n",
    "fin_velo, stck_img, stck_msk, all_dict = stack_tup0\n",
    "sv_gUV = []\n",
    "for idict in all_dict:\n",
    "    if idict == None:\n",
    "        continue\n",
    "    c_stacked = SkyCoord(idict['qpq']['FG_RA']*u.deg,idict['qpq']['FG_DEC']*u.deg)\n",
    "    sv_gUV.append(QPQ9[np.where(c_stacked.separation(c_QPQ9) < 0.5*u.arcsec)[0]]['G_UV'][0])\n",
    "med_gUV = np.median(sv_gUV)"
   ]
  },
  {
   "cell_type": "code",
   "execution_count": null,
   "metadata": {
    "collapsed": false
   },
   "outputs": [],
   "source": [
    "# Mask spectra of gUV below median \n",
    "stck_mskN = copy.deepcopy(stck_msk)\n",
    "idx_mask = []\n",
    "for ii,idict in enumerate(all_dict):\n",
    "    if idict is None:\n",
    "        continue\n",
    "    if 'J1508+3635' in idict['qpq']['NAME']: #DLA not excluded by forest cut, should be excluded now\n",
    "        idx_mask.append(ii) \n",
    "    c_stacked = SkyCoord(idict['qpq']['FG_RA']*u.deg,idict['qpq']['FG_DEC']*u.deg)\n",
    "    gUV = QPQ9[np.where(c_stacked.separation(c_QPQ9) < 0.5*u.arcsec)[0]]['G_UV'][0]\n",
    "    if gUV <= med_gUV:\n",
    "        idx_mask.append(ii)\n",
    "for idx in idx_mask:\n",
    "    stck_mskN[idx,:] = 0.\n",
    "stack_tup = (fin_velo, stck_img, stck_mskN, all_dict)\n",
    "fin_velo, fin_flx, all_dict = qpqk.stack_avg(stack_tup)\n",
    "plt.figure(figsize=(8,5),dpi=1200)\n",
    "plt.plot(fin_velo, fin_flx, drawstyle='steps-mid',linewidth=2.)\n",
    "plt.xlabel('Relative Velocity', size=12.)\n",
    "plt.show()"
   ]
  },
  {
   "cell_type": "code",
   "execution_count": null,
   "metadata": {
    "collapsed": false
   },
   "outputs": [],
   "source": [
    "# Mask spectra of gUV above median \n",
    "stck_mskN = copy.deepcopy(stck_msk)\n",
    "idx_mask = []\n",
    "for ii,idict in enumerate(all_dict):\n",
    "    if idict is None:\n",
    "        continue\n",
    "    if 'J1508+3635' in idict['qpq']['NAME']: #DLA not excluded by forest cut, should be excluded now\n",
    "        idx_mask.append(ii) \n",
    "    c_stacked = SkyCoord(idict['qpq']['FG_RA']*u.deg,idict['qpq']['FG_DEC']*u.deg)\n",
    "    gUV = QPQ9[np.where(c_stacked.separation(c_QPQ9) < 0.5*u.arcsec)[0]]['G_UV'][0]\n",
    "    if gUV >= med_gUV:\n",
    "        idx_mask.append(ii)\n",
    "for idx in idx_mask:\n",
    "    stck_mskN[idx,:] = 0.\n",
    "stack_tup = (fin_velo, stck_img, stck_mskN, all_dict)\n",
    "fin_velo, fin_flx, all_dict = qpqk.stack_avg(stack_tup)\n",
    "plt.figure(figsize=(8,5),dpi=1200)\n",
    "plt.plot(fin_velo, fin_flx, drawstyle='steps-mid',linewidth=2.)\n",
    "plt.xlabel('Relative Velocity', size=12.)\n",
    "plt.show()"
   ]
  },
  {
   "cell_type": "markdown",
   "metadata": {},
   "source": [
    "## [OIII] redshift stack"
   ]
  },
  {
   "cell_type": "code",
   "execution_count": null,
   "metadata": {
    "collapsed": false
   },
   "outputs": [],
   "source": [
    "# Find median g_UV\n",
    "stack_tup0 = qpq9k.qpq9_IRMgII(passback=True,wrest=1334.5323*u.AA,vsig_cut=50*u.km/u.s,S2N_cut=5.5/u.AA,zfg_mnx=(1.6,9999))\n",
    "fin_velo, stck_img, stck_msk, all_dict = stack_tup0\n",
    "sv_gUV = []\n",
    "for idict in all_dict:\n",
    "    if idict == None:\n",
    "        continue\n",
    "    c_stacked = SkyCoord(idict['qpq']['FG_RA']*u.deg,idict['qpq']['FG_DEC']*u.deg)\n",
    "    sv_gUV.append(QPQ9[np.where(c_stacked.separation(c_QPQ9) < 0.5*u.arcsec)[0]]['G_UV'][0])\n",
    "med_gUV = np.median(sv_gUV)"
   ]
  },
  {
   "cell_type": "code",
   "execution_count": null,
   "metadata": {
    "collapsed": false
   },
   "outputs": [],
   "source": [
    "# Mask spectra of gUV below median \n",
    "stck_mskN = copy.deepcopy(stck_msk)\n",
    "idx_mask = []\n",
    "for ii,idict in enumerate(all_dict):\n",
    "    if idict is None:\n",
    "        continue\n",
    "    if 'J1508+3635' in idict['qpq']['NAME']: #DLA not excluded by forest cut, should be excluded now\n",
    "        idx_mask.append(ii) \n",
    "    c_stacked = SkyCoord(idict['qpq']['FG_RA']*u.deg,idict['qpq']['FG_DEC']*u.deg)\n",
    "    gUV = QPQ9[np.where(c_stacked.separation(c_QPQ9) < 0.5*u.arcsec)[0]]['G_UV'][0]\n",
    "    if gUV <= med_gUV:\n",
    "        idx_mask.append(ii)\n",
    "for idx in idx_mask:\n",
    "    stck_mskN[idx,:] = 0.\n",
    "stack_tup = (fin_velo, stck_img, stck_mskN, all_dict)\n",
    "fin_velo, fin_flx, all_dict = qpqk.stack_avg(stack_tup)\n",
    "plt.figure(figsize=(8,5),dpi=1200)\n",
    "plt.plot(fin_velo, fin_flx, drawstyle='steps-mid',linewidth=2.)\n",
    "plt.xlabel('Relative Velocity', size=12.)\n",
    "plt.show()"
   ]
  },
  {
   "cell_type": "code",
   "execution_count": null,
   "metadata": {
    "collapsed": false
   },
   "outputs": [],
   "source": [
    "# Mask spectra of gUV above median \n",
    "stck_mskN = copy.deepcopy(stck_msk)\n",
    "idx_mask = []\n",
    "for ii,idict in enumerate(all_dict):\n",
    "    if idict is None:\n",
    "        continue\n",
    "    if 'J1508+3635' in idict['qpq']['NAME']: #DLA not excluded by forest cut, should be excluded now\n",
    "        idx_mask.append(ii) \n",
    "    c_stacked = SkyCoord(idict['qpq']['FG_RA']*u.deg,idict['qpq']['FG_DEC']*u.deg)\n",
    "    gUV = QPQ9[np.where(c_stacked.separation(c_QPQ9) < 0.5*u.arcsec)[0]]['G_UV'][0]\n",
    "    if gUV >= med_gUV:\n",
    "        idx_mask.append(ii)\n",
    "for idx in idx_mask:\n",
    "    stck_mskN[idx,:] = 0.\n",
    "stack_tup = (fin_velo, stck_img, stck_mskN, all_dict)\n",
    "fin_velo, fin_flx, all_dict = qpqk.stack_avg(stack_tup)\n",
    "plt.figure(figsize=(8,5),dpi=1200)\n",
    "plt.plot(fin_velo, fin_flx, drawstyle='steps-mid',linewidth=2.)\n",
    "plt.xlabel('Relative Velocity', size=12.)\n",
    "plt.show()"
   ]
  },
  {
   "cell_type": "markdown",
   "metadata": {},
   "source": [
    "# Split in two bins of R_phys"
   ]
  },
  {
   "cell_type": "markdown",
   "metadata": {},
   "source": [
    "## MgII redshift stack "
   ]
  },
  {
   "cell_type": "code",
   "execution_count": null,
   "metadata": {
    "collapsed": false
   },
   "outputs": [],
   "source": [
    "# Find median R_phys\n",
    "stack_tup0 = qpq9k.qpq9_IRMgII(passback=True,wrest=1334.5323*u.AA,S2N_cut=5.5/u.AA,zfg_mnx=(1.6,9999))\n",
    "fin_velo, stck_img, stck_msk, all_dict = stack_tup0\n",
    "sv_Rphys = []\n",
    "for idict in all_dict:\n",
    "    if idict == None:\n",
    "        continue\n",
    "    c_stacked = SkyCoord(idict['qpq']['FG_RA']*u.deg,idict['qpq']['FG_DEC']*u.deg)\n",
    "    sv_Rphys.append(QPQ9[np.where(c_stacked.separation(c_QPQ9) < 0.5*u.arcsec)[0]]['R_PHYS'][0])\n",
    "med_Rphys = np.median(sv_Rphys)"
   ]
  },
  {
   "cell_type": "code",
   "execution_count": null,
   "metadata": {
    "collapsed": false
   },
   "outputs": [],
   "source": [
    "# Mask spectra of R_phys below median \n",
    "stck_mskN = copy.deepcopy(stck_msk)\n",
    "idx_mask = []\n",
    "for ii,idict in enumerate(all_dict):\n",
    "    if idict is None:\n",
    "        continue\n",
    "    if 'J1508+3635' in idict['qpq']['NAME']: #DLA not excluded by forest cut, should be excluded now\n",
    "        idx_mask.append(ii) \n",
    "    c_stacked = SkyCoord(idict['qpq']['FG_RA']*u.deg,idict['qpq']['FG_DEC']*u.deg)\n",
    "    R_phys = QPQ9[np.where(c_stacked.separation(c_QPQ9) < 0.5*u.arcsec)[0]]['R_PHYS'][0]\n",
    "    if R_phys <= med_Rphys:\n",
    "        idx_mask.append(ii)\n",
    "for idx in idx_mask:\n",
    "    stck_mskN[idx,:] = 0.\n",
    "stack_tup = (fin_velo, stck_img, stck_mskN, all_dict)\n",
    "fin_velo, fin_flx, all_dict = qpqk.stack_avg(stack_tup)\n",
    "plt.figure(figsize=(8,5),dpi=1200)\n",
    "plt.plot(fin_velo, fin_flx, drawstyle='steps-mid',linewidth=2.)\n",
    "plt.xlabel('Relative Velocity', size=12.)\n",
    "plt.show()"
   ]
  },
  {
   "cell_type": "code",
   "execution_count": null,
   "metadata": {
    "collapsed": false
   },
   "outputs": [],
   "source": [
    "# Mask spectra of R_phys above median \n",
    "stck_mskN = copy.deepcopy(stck_msk)\n",
    "idx_mask = []\n",
    "for ii,idict in enumerate(all_dict):\n",
    "    if idict is None:\n",
    "        continue\n",
    "    if 'J1508+3635' in idict['qpq']['NAME']: #DLA not excluded by forest cut, should be excluded now\n",
    "        idx_mask.append(ii) \n",
    "    c_stacked = SkyCoord(idict['qpq']['FG_RA']*u.deg,idict['qpq']['FG_DEC']*u.deg)\n",
    "    R_phys = QPQ9[np.where(c_stacked.separation(c_QPQ9) < 0.5*u.arcsec)[0]]['R_PHYS'][0]\n",
    "    if R_phys >= med_Rphys:\n",
    "        idx_mask.append(ii)\n",
    "for idx in idx_mask:\n",
    "    stck_mskN[idx,:] = 0.\n",
    "stack_tup = (fin_velo, stck_img, stck_mskN, all_dict)\n",
    "fin_velo, fin_flx, all_dict = qpqk.stack_avg(stack_tup)\n",
    "plt.figure(figsize=(8,5),dpi=1200)\n",
    "plt.plot(fin_velo, fin_flx, drawstyle='steps-mid',linewidth=2.)\n",
    "plt.xlabel('Relative Velocity', size=12.)\n",
    "plt.show()"
   ]
  },
  {
   "cell_type": "markdown",
   "metadata": {},
   "source": [
    "## [OIII] redshift stack"
   ]
  },
  {
   "cell_type": "code",
   "execution_count": null,
   "metadata": {
    "collapsed": false
   },
   "outputs": [],
   "source": [
    "# Find median R_phys\n",
    "stack_tup0 = qpq9k.qpq9_IRMgII(passback=True,wrest=1334.5323*u.AA,vsig_cut=50*u.km/u.s,S2N_cut=5.5/u.AA,zfg_mnx=(1.6,9999))\n",
    "fin_velo, stck_img, stck_msk, all_dict = stack_tup0\n",
    "sv_Rphys = []\n",
    "for idict in all_dict:\n",
    "    if idict == None:\n",
    "        continue\n",
    "    c_stacked = SkyCoord(idict['qpq']['FG_RA']*u.deg,idict['qpq']['FG_DEC']*u.deg)\n",
    "    sv_Rphys.append(QPQ9[np.where(c_stacked.separation(c_QPQ9) < 0.5*u.arcsec)[0]]['R_PHYS'][0])\n",
    "med_Rphys = np.median(sv_Rphys)"
   ]
  },
  {
   "cell_type": "code",
   "execution_count": null,
   "metadata": {
    "collapsed": false
   },
   "outputs": [],
   "source": [
    "# Mask spectra of R_phys below median \n",
    "stck_mskN = copy.deepcopy(stck_msk)\n",
    "idx_mask = []\n",
    "for ii,idict in enumerate(all_dict):\n",
    "    if idict is None:\n",
    "        continue\n",
    "    if 'J1508+3635' in idict['qpq']['NAME']: #DLA not excluded by forest cut, should be excluded now\n",
    "        idx_mask.append(ii) \n",
    "    c_stacked = SkyCoord(idict['qpq']['FG_RA']*u.deg,idict['qpq']['FG_DEC']*u.deg)\n",
    "    R_phys = QPQ9[np.where(c_stacked.separation(c_QPQ9) < 0.5*u.arcsec)[0]]['R_PHYS'][0]\n",
    "    if R_phys <= med_Rphys:\n",
    "        idx_mask.append(ii)\n",
    "for idx in idx_mask:\n",
    "    stck_mskN[idx,:] = 0.\n",
    "stack_tup = (fin_velo, stck_img, stck_mskN, all_dict)\n",
    "fin_velo, fin_flx, all_dict = qpqk.stack_avg(stack_tup)\n",
    "plt.figure(figsize=(8,5),dpi=1200)\n",
    "plt.plot(fin_velo, fin_flx, drawstyle='steps-mid',linewidth=2.)\n",
    "plt.xlabel('Relative Velocity', size=12.)\n",
    "plt.show()"
   ]
  },
  {
   "cell_type": "code",
   "execution_count": null,
   "metadata": {
    "collapsed": false
   },
   "outputs": [],
   "source": [
    "# Mask spectra of R_phys above median \n",
    "stck_mskN = copy.deepcopy(stck_msk)\n",
    "idx_mask = []\n",
    "for ii,idict in enumerate(all_dict):\n",
    "    if idict is None:\n",
    "        continue\n",
    "    if 'J1508+3635' in idict['qpq']['NAME']: #DLA not excluded by forest cut, should be excluded now\n",
    "        idx_mask.append(ii) \n",
    "    c_stacked = SkyCoord(idict['qpq']['FG_RA']*u.deg,idict['qpq']['FG_DEC']*u.deg)\n",
    "    R_phys = QPQ9[np.where(c_stacked.separation(c_QPQ9) < 0.5*u.arcsec)[0]]['R_PHYS'][0]\n",
    "    if R_phys >= med_Rphys:\n",
    "        idx_mask.append(ii)\n",
    "for idx in idx_mask:\n",
    "    stck_mskN[idx,:] = 0.\n",
    "stack_tup = (fin_velo, stck_img, stck_mskN, all_dict)\n",
    "fin_velo, fin_flx, all_dict = qpqk.stack_avg(stack_tup)\n",
    "plt.figure(figsize=(8,5),dpi=1200)\n",
    "plt.plot(fin_velo, fin_flx, drawstyle='steps-mid',linewidth=2.)\n",
    "plt.xlabel('Relative Velocity', size=12.)\n",
    "plt.show()"
   ]
  },
  {
   "cell_type": "markdown",
   "metadata": {},
   "source": [
    "# Split in two bins of velocity separations "
   ]
  },
  {
   "cell_type": "markdown",
   "metadata": {},
   "source": [
    "## MgII redshift stack "
   ]
  },
  {
   "cell_type": "code",
   "execution_count": null,
   "metadata": {
    "collapsed": false,
    "scrolled": false
   },
   "outputs": [],
   "source": [
    "# Find median velocity separation \n",
    "stack_tup0 = qpq9k.qpq9_IRMgII(passback=True,wrest=1334.5323*u.AA,S2N_cut=5.5/u.AA,zfg_mnx=(1.6,9999),atmosphere_cut=True)\n",
    "fin_velo, stck_img, stck_msk, all_dict = stack_tup0\n",
    "sv_dv = []\n",
    "for idict in all_dict:\n",
    "    if idict == None:\n",
    "        continue\n",
    "    sv_dv.append(ltu.v_from_z(idict['qpq']['BG_Z'],idict['qpq']['Z_FG']).value)\n",
    "med_dv = np.median(sv_dv)"
   ]
  },
  {
   "cell_type": "code",
   "execution_count": null,
   "metadata": {
    "collapsed": false
   },
   "outputs": [],
   "source": [
    "# Mask spectra of velocity separation below median \n",
    "stck_mskN = copy.deepcopy(stck_msk)\n",
    "idx_mask = []\n",
    "sv_z = []\n",
    "for ii,idict in enumerate(all_dict):\n",
    "    if idict is None:\n",
    "        continue\n",
    "    if 'J1508+3635' in idict['qpq']['NAME']: #DLA not excluded by forest cut, should be excluded now\n",
    "        idx_mask.append(ii) \n",
    "    dv = ltu.v_from_z(idict['qpq']['BG_Z'],idict['qpq']['Z_FG']).value\n",
    "    if dv <= med_dv:\n",
    "        idx_mask.append(ii)\n",
    "        sv_z.append(idict['qpq']['Z_FG'])\n",
    "for idx in idx_mask:\n",
    "    stck_mskN[idx,:] = 0.\n",
    "stack_tup = (fin_velo, stck_img, stck_mskN, all_dict)\n",
    "fin_velo, fin_flx, all_dict = qpqk.stack_avg(stack_tup)\n",
    "plt.figure(figsize=(8,5),dpi=1200)\n",
    "plt.plot(fin_velo, fin_flx, drawstyle='steps-mid',linewidth=2.)\n",
    "plt.xlabel('Relative Velocity', size=12.)\n",
    "plt.show()\n",
    "print('median z_fg of this stack =',np.median(sv_z))"
   ]
  },
  {
   "cell_type": "code",
   "execution_count": null,
   "metadata": {
    "collapsed": false
   },
   "outputs": [],
   "source": [
    "# Mask spectra of velocity separation above median \n",
    "stck_mskN = copy.deepcopy(stck_msk)\n",
    "idx_mask = []\n",
    "sv_z = []\n",
    "for ii,idict in enumerate(all_dict):\n",
    "    if idict is None:\n",
    "        continue\n",
    "    if 'J1508+3635' in idict['qpq']['NAME']: #DLA not excluded by forest cut, should be excluded now\n",
    "        idx_mask.append(ii) \n",
    "    dv = ltu.v_from_z(idict['qpq']['BG_Z'],idict['qpq']['Z_FG']).value\n",
    "    if dv >= med_dv:\n",
    "        idx_mask.append(ii)\n",
    "        sv_z.append(idict['qpq']['Z_FG'])\n",
    "for idx in idx_mask:\n",
    "    stck_mskN[idx,:] = 0.\n",
    "stack_tup = (fin_velo, stck_img, stck_mskN, all_dict)\n",
    "fin_velo, fin_flx, all_dict = qpqk.stack_avg(stack_tup)\n",
    "plt.figure(figsize=(8,5),dpi=1200)\n",
    "plt.plot(fin_velo, fin_flx, drawstyle='steps-mid',linewidth=2.)\n",
    "plt.xlabel('Relative Velocity', size=12.)\n",
    "plt.show()\n",
    "print('median z_fg of this stack =',np.median(sv_z))"
   ]
  },
  {
   "cell_type": "markdown",
   "metadata": {},
   "source": [
    "## [OIII] redshift stack"
   ]
  },
  {
   "cell_type": "code",
   "execution_count": null,
   "metadata": {
    "collapsed": false
   },
   "outputs": [],
   "source": [
    "# Find median velocity separation \n",
    "stack_tup0 = qpq9k.qpq9_IRMgII(passback=True,wrest=1334.5323*u.AA,vsig_cut=50*u.km/u.s,S2N_cut=5.5/u.AA,zfg_mnx=(1.6,9999))\n",
    "fin_velo, stck_img, stck_msk, all_dict = stack_tup0\n",
    "sv_dv = []\n",
    "for idict in all_dict:\n",
    "    if idict == None:\n",
    "        continue\n",
    "    sv_dv.append(ltu.v_from_z(idict['qpq']['BG_Z'],idict['qpq']['Z_FG']).value)\n",
    "print(sv_dv)\n",
    "med_dv = np.median(sv_dv)"
   ]
  },
  {
   "cell_type": "code",
   "execution_count": null,
   "metadata": {
    "collapsed": false
   },
   "outputs": [],
   "source": [
    "# Mask spectra of velocity separation below median \n",
    "stck_mskN = copy.deepcopy(stck_msk)\n",
    "idx_mask = []\n",
    "sv_z = []\n",
    "for ii,idict in enumerate(all_dict):\n",
    "    if idict is None:\n",
    "        continue\n",
    "    if 'J1508+3635' in idict['qpq']['NAME']: #DLA not excluded by forest cut, should be excluded now\n",
    "        idx_mask.append(ii) \n",
    "    dv = ltu.v_from_z(idict['qpq']['BG_Z'],idict['qpq']['Z_FG']).value\n",
    "    if dv <= med_dv:\n",
    "        idx_mask.append(ii)\n",
    "        sv_z.append(idict['qpq']['Z_FG'])\n",
    "for idx in idx_mask:\n",
    "    stck_mskN[idx,:] = 0.\n",
    "stack_tup = (fin_velo, stck_img, stck_mskN, all_dict)\n",
    "fin_velo, fin_flx, all_dict = qpqk.stack_avg(stack_tup)\n",
    "plt.figure(figsize=(8,5),dpi=1200)\n",
    "plt.plot(fin_velo, fin_flx, drawstyle='steps-mid',linewidth=2.)\n",
    "plt.xlabel('Relative Velocity', size=12.)\n",
    "plt.show()\n",
    "print('median z_fg of this stack =',np.median(sv_z))"
   ]
  },
  {
   "cell_type": "code",
   "execution_count": null,
   "metadata": {
    "collapsed": false
   },
   "outputs": [],
   "source": [
    "# Mask spectra of velocity separation above median \n",
    "stck_mskN = copy.deepcopy(stck_msk)\n",
    "idx_mask = []\n",
    "sv_z = []\n",
    "for ii,idict in enumerate(all_dict):\n",
    "    if idict is None:\n",
    "        continue\n",
    "    if 'J1508+3635' in idict['qpq']['NAME']: #DLA not excluded by forest cut, should be excluded now\n",
    "        idx_mask.append(ii) \n",
    "    dv = ltu.v_from_z(idict['qpq']['BG_Z'],idict['qpq']['Z_FG']).value\n",
    "    if dv >= med_dv:\n",
    "        idx_mask.append(ii)\n",
    "        sv_z.append(idict['qpq']['Z_FG'])\n",
    "for idx in idx_mask:\n",
    "    stck_mskN[idx,:] = 0.\n",
    "stack_tup = (fin_velo, stck_img, stck_mskN, all_dict)\n",
    "fin_velo, fin_flx, all_dict = qpqk.stack_avg(stack_tup)\n",
    "plt.figure(figsize=(8,5),dpi=1200)\n",
    "plt.plot(fin_velo, fin_flx, drawstyle='steps-mid',linewidth=2.)\n",
    "plt.xlabel('Relative Velocity', size=12.)\n",
    "plt.show()\n",
    "print('median z_fg of this stack =',np.median(sv_z))"
   ]
  },
  {
   "cell_type": "code",
   "execution_count": null,
   "metadata": {
    "collapsed": true
   },
   "outputs": [],
   "source": []
  }
 ],
 "metadata": {
  "kernelspec": {
   "display_name": "Python 2",
   "language": "python",
   "name": "python2"
  },
  "language_info": {
   "codemirror_mode": {
    "name": "ipython",
    "version": 2
   },
   "file_extension": ".py",
   "mimetype": "text/x-python",
   "name": "python",
   "nbconvert_exporter": "python",
   "pygments_lexer": "ipython2",
   "version": "2.7.12"
  }
 },
 "nbformat": 4,
 "nbformat_minor": 0
}
