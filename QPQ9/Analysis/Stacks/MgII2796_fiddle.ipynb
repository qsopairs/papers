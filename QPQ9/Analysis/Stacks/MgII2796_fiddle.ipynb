{
 "cells": [
  {
   "cell_type": "markdown",
   "metadata": {},
   "source": [
    "# Load stack_tup"
   ]
  },
  {
   "cell_type": "code",
   "execution_count": 1,
   "metadata": {
    "collapsed": false
   },
   "outputs": [
    {
     "name": "stderr",
     "output_type": "stream",
     "text": [
      "/Users/lwymarie/anaconda/lib/python2.7/site-packages/astroquery/sdss/__init__.py:28: UserWarning: Experimental: SDSS has not yet been refactored to have its API match the rest of astroquery (but it's nearly there).\n",
      "  warnings.warn(\"Experimental: SDSS has not yet been refactored to have its API \"\n"
     ]
    }
   ],
   "source": [
    "%matplotlib inline\n",
    "from __future__ import print_function,absolute_import,division,unicode_literals\n",
    "import numpy as np\n",
    "import glob,os,sys,copy,imp \n",
    "from scipy import stats as scistats\n",
    "import matplotlib as mpl\n",
    "mpl.rcParams['font.family']='stixgeneral'\n",
    "from matplotlib.backends.backend_pdf import PdfPages\n",
    "from matplotlib import pyplot as plt\n",
    "import matplotlib.gridspec as gridspec\n",
    "from astropy.table import QTable,Table\n",
    "from astropy.io import ascii,fits\n",
    "from astropy import units as u\n",
    "from astropy import constants as const\n",
    "from astropy.coordinates import SkyCoord\n",
    "from linetools.spectralline import AbsLine\n",
    "import linetools.utils as ltu\n",
    "from xastropy.igm.abs_sys import abssys_utils as abssys\n",
    "from xastropy import spec as xpsec\n",
    "from xastropy.plotting import utils as xputils\n",
    "from xastropy.xutils import xdebug as xdb\n",
    "from xastropy.obs import radec as xor\n",
    "from xastropy.atomic import ionization as xai\n",
    "from xastropy.xutils import fits as xxf\n",
    "sys.path.append(os.path.abspath(\"../../../../py\"))\n",
    "from enigma.qpq import utils as qpqutils\n",
    "from enigma.qpq import spec as qpqs\n",
    "from enigma.qpq import stacks as qpqk\n",
    "sys.path.append(os.path.abspath(\"../Bootstrap/py\"))\n",
    "import qpq9_boot as qpq9b\n",
    "sys.path.append(os.path.abspath(\"./py\"))\n",
    "import qpq9_stacks as qpq9k"
   ]
  },
  {
   "cell_type": "code",
   "execution_count": 2,
   "metadata": {
    "collapsed": false
   },
   "outputs": [
    {
     "name": "stderr",
     "output_type": "stream",
     "text": [
      "/Users/lwymarie/python/specdb/specdb/query_catalog.py:140: UserWarning: No sources found at your coordinate within tol=0.5 arcsec.  Returning None\n",
      "  warnings.warn(\"No sources found at your coordinate within tol={:g}.  Returning None\".format(tol))\n",
      "/Users/lwymarie/python/linetools/linetools/spectra/xspectrum1d.py:295: UserWarning: No unit given to wavelength, assuming Angstroms.\n",
      "  warnings.warn(\"No unit given to wavelength, assuming Angstroms.\")\n"
     ]
    },
    {
     "name": "stdout",
     "output_type": "stream",
     "text": [
      "Reading /Users/lwymarie/python/enigma/enigma/data/qpq/qpq9_final.fits\n",
      "2.05354233698 1 / Angstrom\n",
      "No spectrum found for BOSSJ0001+0000 and wvobs=8361.46 Angstrom!\n",
      "3.90192123402 1 / Angstrom\n",
      "No spectrum found for BOSSJ0008-0039 and wvobs=7307.97 Angstrom!\n",
      "3.24156538 1 / Angstrom\n",
      "No spectrum found for BOSSJ0008-0039 and wvobs=8217.49 Angstrom!\n",
      "5.14455653104 1 / Angstrom\n",
      "No spectrum found for BOSSJ0042+1350 and wvobs=7764.42 Angstrom!\n",
      "21.526337965 1 / Angstrom"
     ]
    },
    {
     "name": "stderr",
     "output_type": "stream",
     "text": [
      "/Users/lwymarie/anaconda/lib/python2.7/site-packages/astropy/units/quantity.py:850: RuntimeWarning: divide by zero encountered in true_divide\n",
      "  return super(Quantity, self).__itruediv__(other)\n",
      "/Users/lwymarie/anaconda/lib/python2.7/site-packages/astropy/units/quantity.py:850: RuntimeWarning: invalid value encountered in true_divide\n",
      "  return super(Quantity, self).__itruediv__(other)\n",
      "/Users/lwymarie/python/linetools/linetools/spectra/xspectrum1d.py:269: RuntimeWarning: invalid value encountered in greater\n",
      "  gdsigval = np.where(self.data['sig'][kk].data > 0.)[0]\n",
      "/Users/lwymarie/python/linetools/linetools/spectra/xspectrum1d.py:270: RuntimeWarning: invalid value encountered in less_equal\n",
      "  badsigval = self.data['sig'][kk].data <= 0.\n",
      "/Users/lwymarie/python/linetools/linetools/spectra/xspectrum1d.py:807: UserWarning: Ignoring NAN and inf in flux\n",
      "  warnings.warn(\"Ignoring NAN and inf in flux\")\n",
      "/Users/lwymarie/python/linetools/linetools/spectra/xspectrum1d.py:879: RuntimeWarning: invalid value encountered in less_equal\n",
      "  bad = np.where(self.sig.value <= 0.)[0]\n",
      "/Users/lwymarie/python/specdb/specdb/query_catalog.py:145: UserWarning: Found multiple sources in the catalog. Taking the closest one\n",
      "  warnings.warn(\"Found multiple sources in the catalog. Taking the closest one\")\n"
     ]
    },
    {
     "name": "stdout",
     "output_type": "stream",
     "text": [
      "\n",
      "15.5019315536 1 / Angstrom\n",
      "Using spec-6203-56266-0300.fits.gz for BOSSJ0047+1447\n",
      "S/N 21.526337965 1 / Angstrom\n",
      "0.967666750206 1 / Angstrom\n",
      "No spectrum found for BOSSJ0057-0001 and wvobs=8838.08 Angstrom!\n",
      "7.1410473492 1 / Angstrom\n",
      "BOSSJ0103-0002 does not survive atmosphere cut\n",
      "No spectrum found for BOSSJ0103-0002 and wvobs=7701.9 Angstrom!\n",
      "5.10694602535 1 / Angstrom\n",
      "No spectrum found for BOSSJ0106+0056 and wvobs=8022.34 Angstrom!\n",
      "7.96741968573 1 / Angstrom\n",
      "Using /u/xavier/Dropbox//QSOPairs/data/SDSS//./SDSSJ014917.46-002158.4.fits.gz for SDSSJ0149-0021\n",
      "S/N 7.96741968573 1 / Angstrom\n",
      "1.42609588714 1 / Angstrom\n",
      "No spectrum found for BOSSJ0154+0020 and wvobs=7756.98 Angstrom!\n",
      "1.63097023529 1 / Angstrom\n",
      "No spectrum found for BOSSJ0206+2238 and wvobs=7281.59 Angstrom!\n",
      "2.76824267336 1 / Angstrom\n",
      "No spectrum found for BOSSJ0214-0052 and wvobs=7836.65 Angstrom!\n",
      "5.4011269235 1 / Angstrom\n",
      "2.68501291121 1 / Angstrom\n",
      "No spectrum found for BOSSJ0224-0046 and wvobs=7540.17 Angstrom!\n",
      "4.32232214483 1 / Angstrom\n",
      "No spectrum found for BOSSJ0230-0333 and wvobs=9456.36 Angstrom!\n",
      "3.28738634298 1 / Angstrom\n",
      "No continuum: /u/xavier/Dropbox//QSOPairs/data/ESI_redux//./SDSSJ023946.44-010644.1_F.fits.gz\n",
      "No spectrum found for BOSSJ0239-0106 and wvobs=9223.73 Angstrom!\n",
      "2.12718746176 1 / Angstrom\n",
      "No spectrum found for BOSSJ0242-0046 and wvobs=7748.21 Angstrom!\n",
      "4.98507183859 1 / Angstrom\n",
      "No spectrum found for BOSSJ0250-0047 and wvobs=7977.63 Angstrom!\n",
      "3.79390620428 1 / Angstrom\n",
      "No spectrum found for BOSSJ0334-0058 and wvobs=7339.95 Angstrom!\n",
      "36.6873229692 1 / Angstrom\n",
      "Using /u/xavier/Dropbox//QSOPairs/data/MAGE_redux//./SDSSJ034139.19-000012.7_F.fits.gz for SDSSJ0341-0000\n",
      "S/N 36.6873229692 1 / Angstrom\n",
      "54.2586870867 1 / Angstrom\n",
      "SDSSJ0409-0411 does not survive atmosphere cut\n",
      "No spectrum found for SDSSJ0409-0411 and wvobs=7596.71 Angstrom!\n",
      "2.74204785959 1 / Angstrom\n",
      "No spectrum found for BOSSJ0749+3702 and wvobs=8268.48 Angstrom!\n",
      "7.12385461896 1 / Angstrom\n",
      "Using /u/xavier/Dropbox//QSOPairs/data/SDSS//./SDSSJ075259.14+401118.4.fits.gz for SDSSJ0752+4011\n",
      "S/N 7.12385461896 1 / Angstrom\n",
      "No spectrum found for APOJ0800+3542 and wvobs=8338.85 Angstrom!\n",
      "3.23935494838 1 / Angstrom\n",
      "No spectrum found for BOSSJ0809+4539 and wvobs=8505.85 Angstrom!\n",
      "11.1962094414 1 / Angstrom\n",
      "Using spec-4463-55868-0778.fits.gz for BOSSJ0812+2620\n",
      "S/N 11.1962094414 1 / Angstrom\n",
      "2.77563246322 1 / Angstrom\n",
      "No spectrum found for BOSSJ0814+0402 and wvobs=7731.9 Angstrom!\n",
      "8.16499749376 1 / Angstrom\n",
      "BOSSJ0818+1527 does not survive atmosphere cut\n",
      "5.30894557535 1 / Angstrom\n",
      "No spectrum found for BOSSJ0818+1527 and wvobs=7708.34 Angstrom!\n",
      "10.3380599447 1 / Angstrom\n",
      "BOSSJ0818+1232 does not survive atmosphere cut\n",
      "No spectrum found for BOSSJ0818+1232 and wvobs=7555.83 Angstrom!\n",
      "4.61471806762 1 / Angstrom\n",
      "No spectrum found for BOSSJ0826+4708 and wvobs=7827.68 Angstrom!\n",
      "11.4593104838 1 / Angstrom\n",
      "6.68435877429 1 / Angstrom\n",
      "Using /u/xavier/Dropbox//QSOPairs/data/BOSS/v5_5_0/SDSSJ082844.87+454518.2.fits for SDSSJ0828+4545\n",
      "S/N 11.4593104838 1 / Angstrom\n",
      "9.49717325278 1 / Angstrom\n",
      "Using spec-7277-56748-0713.fits.gz for BOSSJ0830+5452\n",
      "S/N 9.49717325278 1 / Angstrom\n",
      "5.44807921329 1 / Angstrom\n",
      "No spectrum found for BOSSJ0833+4823 and wvobs=7274.29 Angstrom!\n",
      "1.89283860479 1 / Angstrom\n",
      "No spectrum found for BOSSJ0837+0810 and wvobs=8298.1 Angstrom!\n",
      "No spectrum found for APOJ0837+3630 and wvobs=7931.52 Angstrom!\n",
      "No spectrum found for APOJ0837+3837 and wvobs=8563.61 Angstrom!\n",
      "4.99102661796 1 / Angstrom\n",
      "No spectrum found for BOSSJ0838+4621 and wvobs=7721.97 Angstrom!\n",
      "6.78768103203 1 / Angstrom\n",
      "Using /u/xavier/Dropbox//QSOPairs/data/BOSS/v5_5_0/SDSSJ084159.26+392140.0.fits for BOSSJ0841+3921\n",
      "S/N 6.78768103203 1 / Angstrom\n",
      "6.56721428569 1 / Angstrom\n",
      "BOSSJ0844+4839 does not survive atmosphere cut\n",
      "No spectrum found for BOSSJ0844+4839 and wvobs=7557.89 Angstrom!\n",
      "1.05951704744 1 / Angstrom"
     ]
    },
    {
     "name": "stderr",
     "output_type": "stream",
     "text": [
      "/Users/lwymarie/anaconda/lib/python2.7/site-packages/astropy/units/quantity.py:858: RuntimeWarning: divide by zero encountered in true_divide\n",
      "  return super(Quantity, self).__rtruediv__(other)\n",
      "/Users/lwymarie/anaconda/lib/python2.7/site-packages/astropy/units/quantity.py:841: RuntimeWarning: divide by zero encountered in true_divide\n",
      "  return super(Quantity, self).__truediv__(other)\n"
     ]
    },
    {
     "name": "stdout",
     "output_type": "stream",
     "text": [
      "\n",
      "No spectrum found for BOSSJ0845+3202 and wvobs=8059.56 Angstrom!\n",
      "27.2845778713 1 / Angstrom\n",
      "Using /u/xavier/Dropbox//QSOPairs/data/MAGE_redux//./SDSSJ085357.49-001106.1_F.fits.gz for BOSSJ0853-0011\n",
      "S/N 27.2845778713 1 / Angstrom\n",
      "1.78267431245 1 / Angstrom\n",
      "No spectrum found for BOSSJ0856+5514 and wvobs=7331.48 Angstrom!\n",
      "11.9333270272 1 / Angstrom\n",
      "Using spec-4608-55973-0634.fits.gz for BOSSJ0857+3901\n",
      "S/N 11.9333270272 1 / Angstrom\n",
      "3.57501966476 1 / Angstrom\n",
      "No spectrum found for BOSSJ0902+3602 and wvobs=7721.69 Angstrom!\n",
      "2.19736268953 1 / Angstrom\n",
      "No spectrum found for BOSSJ0903+5133 and wvobs=8021.71 Angstrom!\n",
      "5.94427237861 1 / Angstrom\n",
      "Using spSpec-51929-0470-486.fit.gz for BOSSJ0904+0042\n",
      "S/N 5.94427237861 1 / Angstrom\n",
      "6.67648671528 1 / Angstrom\n",
      "Using spec-5299-55927-0744.fits.gz for BOSSJ0906+1001\n",
      "S/N 6.67648671528 1 / Angstrom\n",
      "4.67309343034 1 / Angstrom\n",
      "No spectrum found for BOSSJ0907+2802 and wvobs=7705.77 Angstrom!\n",
      "36.8739229288 1 / Angstrom\n",
      "Using /u/xavier/Dropbox//QSOPairs/data/MAGE_redux//./SDSSJ091046.69+041448.4_F.fits.gz for APOJ0910+0414\n",
      "S/N 36.8739229288 1 / Angstrom\n",
      "1.50011379783 1 / Angstrom\n",
      "No spectrum found for BOSSJ0911+4905 and wvobs=7813.02 Angstrom!\n",
      "4.90797647339 1 / Angstrom\n",
      "No spectrum found for BOSSJ0912+4139 and wvobs=7767 Angstrom!\n",
      "2.96831894326 1 / Angstrom\n",
      "No spectrum found for BOSSJ0912+2518 and wvobs=7417.35 Angstrom!\n",
      "34.6605109331 1 / Angstrom\n",
      "Using spec-5809-56353-0052.fits.gz for BOSSJ0912+3056\n",
      "S/N 34.6605109331 1 / Angstrom\n",
      "50.8167596286 1 / Angstrom\n",
      "Using /u/xavier/Dropbox//QSOPairs/data/XSHOOTER_redux//./SDSSJ091338.97-010704.6_F.fits.gz for BOSSJ0913-0107\n",
      "S/N 50.8167596286 1 / Angstrom\n",
      "1.45875651475 1 / Angstrom\n",
      "No spectrum found for BOSSJ0913+3151 and wvobs=7534.74 Angstrom!\n",
      "5.43589590482 1 / Angstrom\n",
      "No spectrum found for BOSSJ0914+0109 and wvobs=8780.33 Angstrom!\n",
      "2.97831651094 1 / Angstrom\n",
      "No spectrum found for BOSSJ0915+0119 and wvobs=8310.54 Angstrom!\n",
      "1.93658587374 1 / Angstrom\n",
      "No spectrum found for BOSSJ0916+4250 and wvobs=7661.96 Angstrom!\n",
      "5.79639271724 1 / Angstrom\n",
      "BOSSJ0920+3340 does not survive atmosphere cut\n",
      "No spectrum found for BOSSJ0920+3340 and wvobs=7645.89 Angstrom!\n",
      "No spectrum found for APOJ0924+3929 and wvobs=8071.51 Angstrom!\n",
      "3.24636624814 1 / Angstrom\n",
      "No spectrum found for BOSSJ0932+0843 and wvobs=7722.62 Angstrom!\n",
      "23.4428237957 1 / Angstrom\n",
      "Using /u/xavier/Dropbox//QSOPairs/data/MAGE_redux//./SDSSJ093225.60+092500.2_F.fits.gz for APOJ0932+0925\n",
      "S/N 23.4428237957 1 / Angstrom\n",
      "7.58008356361 1 / Angstrom\n",
      "Using spec-5716-56684-0357.fits.gz for BOSSJ0933+5920\n",
      "S/N 7.58008356361 1 / Angstrom\n",
      "5.65814928849 1 / Angstrom\n",
      "Using spec-4695-55957-0570.fits.gz for BOSSJ0935+4532\n",
      "S/N 5.65814928849 1 / Angstrom\n",
      "1.6377446865 1 / Angstrom\n",
      "No spectrum found for BOSSJ0936-0058 and wvobs=8975.76 Angstrom!\n",
      "No spectrum found for APOJ0938+5317 and wvobs=8575.73 Angstrom!\n",
      "1.25090303172 1 / Angstrom\n",
      "No spectrum found for BOSSJ0940+3345 and wvobs=7790.62 Angstrom!\n",
      "7.32129208193 1 / Angstrom\n",
      "Using spec-5788-56255-0380.fits.gz for BOSSJ0941+2308\n",
      "S/N 7.32129208193 1 / Angstrom\n",
      "1.60914106966 1 / Angstrom\n",
      "No spectrum found for BOSSJ0942+1347 and wvobs=7554.98 Angstrom!\n",
      "2.44471928441 1 / Angstrom\n",
      "No spectrum found for BOSSJ0956+0248 and wvobs=8432.45 Angstrom!\n",
      "2.77142840898 1 / Angstrom\n",
      "No spectrum found for BOSSJ1000+0337 and wvobs=7549.41 Angstrom!\n",
      "3.46985011598 1 / Angstrom\n",
      "No spectrum found for BOSSJ1001+4023 and wvobs=7909.18 Angstrom!\n",
      "14.8117682134 1 / Angstrom\n",
      "Using /u/xavier/Dropbox//QSOPairs/data/SDSS//./SDSSJ100507.08+501929.6.fits.gz for SDSSJ1005+5019\n",
      "S/N 14.8117682134 1 / Angstrom\n",
      "6.97736065934 1 / Angstrom\n",
      "Using /u/xavier/Dropbox//QSOPairs/data/BOSS/v5_6_0/SDSSJ100627.10+480429.9.fits for BOSSJ1006+4804\n",
      "S/N 6.97736065934 1 / Angstrom\n",
      "3.2987495365 1 / Angstrom\n",
      "No spectrum found for BOSSJ1009+1749 and wvobs=8345.98 Angstrom!\n",
      "5.80930497715 1 / Angstrom\n",
      "BOSSJ1009+0236 does not survive atmosphere cut\n",
      "No spectrum found for BOSSJ1009+0236 and wvobs=7652.31 Angstrom!\n",
      "7.75206107623 1 / Angstrom\n",
      "Using /u/xavier/Dropbox//QSOPairs/data/BOSS/v5_6_0/SDSSJ100940.58+250053.9.fits for APOJ1009+2500\n",
      "S/N 7.75206107623 1 / Angstrom\n",
      "13.7953483268 1 / Angstrom\n",
      "Using /u/xavier/Dropbox//QSOPairs/data/BOSS/v5_5_0/SDSSJ101003.47+403754.9.fits for BOSSJ1010+4037\n",
      "S/N 13.7953483268 1 / Angstrom\n",
      "3.75366014101 1 / Angstrom\n",
      "No spectrum found for BOSSJ1010+4517 and wvobs=7790.05 Angstrom!\n",
      "1.74043910641 1 / Angstrom\n",
      "No spectrum found for BOSSJ1010+0821 and wvobs=8032.07 Angstrom!\n",
      "3.9710235479 1 / Angstrom\n",
      "No spectrum found for BOSSJ1013+0330 and wvobs=8229.15 Angstrom!\n",
      "4.99894746874 1 / Angstrom\n",
      "No spectrum found for BOSSJ1014+2653 and wvobs=7631.38 Angstrom!\n",
      "1.19633183793 1 / Angstrom\n",
      "No spectrum found for BOSSJ1015+1245 and wvobs=7500.93 Angstrom!\n",
      "10.0753806535 1 / Angstrom\n",
      "Using spec-7081-56684-0951.fits.gz for BOSSJ1017+6226\n",
      "S/N 10.0753806535 1 / Angstrom\n",
      "2.65951485778 1 / Angstrom\n",
      "No spectrum found for BOSSJ1020+6119 and wvobs=7798.18 Angstrom!\n",
      "5.15233422557 1 / Angstrom\n",
      "No spectrum found for BOSSJ1024+0354 and wvobs=7463.29 Angstrom!\n",
      "14.3172749752 1 / Angstrom\n",
      "Using spec-6463-56340-0210.fits.gz for BOSSJ1024+2616\n",
      "S/N 14.3172749752 1 / Angstrom\n",
      "3.1448487883 1 / Angstrom\n",
      "No spectrum found for BOSSJ1028+5121 and wvobs=7469.5 Angstrom!\n",
      "5.98209886357 1 / Angstrom\n",
      "Using spec-5344-55924-0888.fits.gz for BOSSJ1034+0856\n",
      "S/N 5.98209886357 1 / Angstrom\n",
      "8.59579731348 1 / Angstrom\n",
      "Using spec-6702-56381-0508.fits.gz for BOSSJ1036+5012\n",
      "S/N 8.59579731348 1 / Angstrom\n",
      "No spectrum found for BOSSJ1039+5026 and wvobs=11554.1 Angstrom!\n",
      "No spectrum found for APOJ1041+1957 and wvobs=7963.22 Angstrom!\n",
      "4.71831983356 1 / Angstrom\n",
      "No spectrum found for BOSSJ1042+6459 and wvobs=8352.76 Angstrom!\n",
      "4.81843074485 1 / Angstrom\n",
      "No spectrum found for BOSSJ1044+3139 and wvobs=7569.91 Angstrom!\n",
      "No spectrum found for APOJ1045+4351 and wvobs=9590.77 Angstrom!\n",
      "2.97798482351 1 / Angstrom\n",
      "No spectrum found for BOSSJ1045+1000 and wvobs=8448.77 Angstrom!\n",
      "6.28992270977 1 / Angstrom\n",
      "Using spec-7094-56660-0184.fits.gz for BOSSJ1052+5553\n",
      "S/N 6.28992270977 1 / Angstrom\n",
      "1.69631873038 1 / Angstrom\n",
      "No spectrum found for BOSSJ1059+6255 and wvobs=7672.57 Angstrom!\n",
      "22.711915253 1 / Angstrom\n",
      "Using spec-6693-56384-0164.fits.gz for BOSSJ1106+4635\n",
      "S/N 22.711915253 1 / Angstrom\n",
      "5.47850512743 1 / Angstrom\n",
      "No spectrum found for BOSSJ1113+3305 and wvobs=8089.52 Angstrom!\n",
      "4.36592818531 1 / Angstrom\n",
      "No spectrum found for BOSSJ1118+4025 and wvobs=8175.98 Angstrom!\n",
      "1.19336660365 1 / Angstrom\n",
      "No spectrum found for BOSSJ1136-0029 and wvobs=7303.11 Angstrom!\n",
      "9.3429041464 1 / Angstrom\n",
      "Using spec-7113-56711-0152.fits.gz for BOSSJ1138+6329\n",
      "S/N 9.3429041464 1 / Angstrom\n",
      "9.31679144611 1 / Angstrom\n",
      "BOSSJ1140+2709 does not survive atmosphere cut\n",
      "4.11518031282 1 / Angstrom\n",
      "No spectrum found for BOSSJ1140+2709 and wvobs=7603.58 Angstrom!\n",
      "2.78001414536 1 / Angstrom\n",
      "No spectrum found for BOSSJ1142+2822 and wvobs=7551.17 Angstrom!\n",
      "2.64151254644 1 / Angstrom\n",
      "No spectrum found for BOSSJ1142+1128 and wvobs=7303.05 Angstrom!\n",
      "No spectrum found for BOSSJ1144+0959 and wvobs=11109.1 Angstrom!\n",
      "64.5807281572 1 / Angstrom\n",
      "Using /u/xavier/Dropbox//QSOPairs/data/MAGE_redux//./SDSSJ114546.22+032251.9_F.fits.gz for BOSSJ1145+0322\n",
      "S/N 64.5807281572 1 / Angstrom\n",
      "5.85429938538 1 / Angstrom\n",
      "BOSSJ1150+5802 does not survive atmosphere cut\n",
      "No spectrum found for BOSSJ1150+5802 and wvobs=7667.92 Angstrom!\n",
      "15.3023458582 1 / Angstrom\n",
      "12.271046446 1 / Angstrom\n",
      "Using spec-5383-56013-0218.fits.gz for BOSSJ1152+1507\n",
      "S/N 15.3023458582 1 / Angstrom\n",
      "11.5513717625 1 / Angstrom\n",
      "Using spec-4697-55660-0326.fits.gz for BOSSJ1155+3934\n",
      "S/N 11.5513717625 1 / Angstrom\n",
      "2.30296992014 1 / Angstrom\n",
      "No spectrum found for BOSSJ1159+1433 and wvobs=7579.96 Angstrom!\n",
      "1.40155766332 1 / Angstrom\n",
      "No spectrum found for BOSSJ1200+0129 and wvobs=8507.82 Angstrom!\n",
      "9.54378040578 1 / Angstrom\n",
      "Using spec-5389-55953-0264.fits.gz for BOSSJ1202+0747\n",
      "S/N 9.54378040578 1 / Angstrom\n",
      "No continuum: /u/xavier/Dropbox//QSOPairs/data/GMOS_redux//./SDSSJ120416.69+022111.0_b1200_F.fits.gz\n",
      "No continuum: /u/xavier/Dropbox//QSOPairs/data/HIRES_redux//./SDSSJ120416.69+022111.0_f.fits.gz\n",
      "Using conti=1 for HIRES\n",
      "17.0918921873 1 / Angstrom\n",
      "Using /u/xavier/Dropbox//QSOPairs/data/MAGE_redux//./SDSSJ120416.69+022111.0_F.fits.gz for BOSSJ1204+0221\n",
      "S/N 17.0918921873 1 / Angstrom\n",
      "15.4230417749 1 / Angstrom\n",
      "Using /u/xavier/Dropbox//QSOPairs/data/MAGE_redux//./SDSSJ120857.16+073727.3_F.fits.gz for APOJ1208+0737\n",
      "S/N 15.4230417749 1 / Angstrom\n",
      "7.09914617822 1 / Angstrom\n",
      "Using /u/xavier/Dropbox//QSOPairs/data/BOSS/v5_5_0/SDSSJ121201.68+324013.3.fits for BOSSJ1212+3240\n",
      "S/N 7.09914617822 1 / Angstrom\n",
      "8.33652465524 1 / Angstrom\n",
      "Using spec-6640-56385-0544.fits.gz for BOSSJ1213+4719\n",
      "S/N 8.33652465524 1 / Angstrom\n",
      "21.3074967848 1 / Angstrom\n",
      "Using /u/xavier/Dropbox//QSOPairs/data/SDSS//./SDSSJ121558.80+571555.4.fits.gz for BOSSJ1215+5715\n",
      "S/N 21.3074967848 1 / Angstrom\n",
      "3.70375596353 1 / Angstrom\n",
      "No spectrum found for BOSSJ1225+5709 and wvobs=8102.88 Angstrom!\n",
      "No spectrum found for BOSSJ1231+0029 and wvobs=11746.9 Angstrom!\n",
      "1.80241159324 1 / Angstrom\n",
      "No spectrum found for BOSSJ1239+3955 and wvobs=7947.87 Angstrom!\n",
      "8.67905347772 1 / Angstrom\n",
      "BOSSJ1242+5331 does not survive atmosphere cut\n",
      "No spectrum found for BOSSJ1242+5331 and wvobs=7599.97 Angstrom!\n",
      "8.57535833769 1 / Angstrom\n",
      "Using spec-3972-55589-0570.fits.gz for BOSSJ1244+3916\n",
      "S/N 8.57535833769 1 / Angstrom\n",
      "6.95813198058 1 / Angstrom\n",
      "Using spec-6482-56358-0110.fits.gz for BOSSJ1244+3208\n",
      "S/N 6.95813198058 1 / Angstrom\n",
      "1.13032687784 1 / Angstrom\n",
      "No spectrum found for BOSSJ1245+5922 and wvobs=8154.78 Angstrom!\n",
      "5.58194530101 1 / Angstrom\n",
      "Using spec-5986-56328-0112.fits.gz for BOSSJ1246+2345\n",
      "S/N 5.58194530101 1 / Angstrom\n",
      "13.3043456512 1 / Angstrom\n",
      "Using spec-4703-55617-0350.fits.gz for BOSSJ1248+4058\n",
      "S/N 13.3043456512 1 / Angstrom\n",
      "0.924125815361 1 / Angstrom\n",
      "No spectrum found for BOSSJ1253+6327 and wvobs=8299.75 Angstrom!\n",
      "2.18056270067 1 / Angstrom\n",
      "No spectrum found for BOSSJ1255+2234 and wvobs=7876.86 Angstrom!\n",
      "6.41940888063 1 / Angstrom\n",
      "Using /u/xavier/Dropbox//QSOPairs/data/SDSS//./SDSSJ130125.67+475930.8.fits.gz for SDSSJ1301+4759\n",
      "S/N 6.41940888063 1 / Angstrom\n",
      "No spectrum found for APOJ1306+6158 and wvobs=8693.68 Angstrom!\n",
      "1.35726480371 1 / Angstrom\n",
      "No spectrum found for BOSSJ1310+1134 and wvobs=8160.49 Angstrom!\n",
      "1.84508573206 1 / Angstrom\n",
      "No spectrum found for BOSSJ1319+2138 and wvobs=7724.94 Angstrom!\n",
      "9.57867260724 1 / Angstrom\n",
      "Using spec-6828-56430-0134.fits.gz for BOSSJ1325+5409\n",
      "S/N 9.57867260724 1 / Angstrom\n",
      "No spectrum found for APOJ1327+3423 and wvobs=7409.21 Angstrom!\n",
      "1.14719054579 1 / Angstrom\n",
      "No spectrum found for BOSSJ1335+4330 and wvobs=8355.25 Angstrom!\n",
      "3.40731880619 1 / Angstrom\n",
      "No spectrum found for BOSSJ1346+1952 and wvobs=8579.4 Angstrom!\n",
      "3.42469303886 1 / Angstrom\n",
      "No spectrum found for BOSSJ1356+6133 and wvobs=8456.2 Angstrom!\n",
      "8.03895178733 1 / Angstrom\n",
      "Using /u/xavier/Dropbox//QSOPairs/data/BOSS/v5_6_0/SDSSJ135849.54+273756.9.fits for APOJ1358+2737\n",
      "S/N 8.03895178733 1 / Angstrom\n",
      "3.21047507554 1 / Angstrom\n",
      "No spectrum found for BOSSJ1402+4701 and wvobs=8153.21 Angstrom!\n",
      "1.0944315043 1 / Angstrom\n",
      "No spectrum found for BOSSJ1410+4804 and wvobs=7790.18 Angstrom!\n",
      "28.4741128914 1 / Angstrom\n",
      "Using /u/xavier/Dropbox//QSOPairs/data/BOSS/v5_5_0/SDSSJ141337.96+271511.0.fits for SDSSJ1413+2715\n",
      "S/N 28.4741128914 1 / Angstrom\n",
      "No spectrum found for BOSSJ1420+0227 and wvobs=12908.6 Angstrom!\n",
      "47.4146463086 1 / Angstrom\n",
      "Using /u/xavier/Dropbox//QSOPairs/data/MAGE_redux//./SDSSJ142054.92+160342.9_F.fits.gz for APOJ1420+1603\n",
      "S/N 47.4146463086 1 / Angstrom\n",
      "3.86859258233 1 / Angstrom\n",
      "No spectrum found for BOSSJ1422+4652 and wvobs=7683.01 Angstrom!\n",
      "No continuum: /u/xavier/Dropbox//QSOPairs/data/GMOS_redux//./SDSSJ142758.74-012136.2_b1200_F.fits.gz\n",
      "52.9102791753 1 / Angstrom\n",
      "Using /u/xavier/Dropbox//QSOPairs/data/MAGE_redux//./SDSSJ142758.74-012136.2_F.fits.gz for BOSSJ1427-0121\n",
      "S/N 52.9102791753 1 / Angstrom\n",
      "1.36923882768 1 / Angstrom\n",
      "No spectrum found for BOSSJ1428+5509 and wvobs=7740.49 Angstrom!\n",
      "7.6056370584 1 / Angstrom\n",
      "Using /u/xavier/Dropbox//QSOPairs/data/BOSS/v5_6_0/SDSSJ143109.22+572726.4.fits for APOJ1431+5727\n",
      "S/N 7.6056370584 1 / Angstrom\n",
      "8.38987718578 1 / Angstrom\n",
      "Using spec-5467-55973-0438.fits.gz for BOSSJ1433+0827\n",
      "S/N 8.38987718578 1 / Angstrom\n",
      "12.514466071 1 / Angstrom\n",
      "Using /u/xavier/Dropbox//QSOPairs/data/BOSS/v5_4_45/SDSSJ143344.55+064111.9.fits for BOSSJ1433+0641\n",
      "S/N 12.514466071 1 / Angstrom\n",
      "19.7373415307 1 / Angstrom\n",
      "Using /u/xavier/Dropbox//QSOPairs/data/BOSS/v5_5_0/SDSSJ144231.91+013734.8.fits for BOSSJ1442+0137\n",
      "S/N 19.7373415307 1 / Angstrom\n",
      "1.19873135351 1 / Angstrom\n",
      "No spectrum found for BOSSJ1448+5649 and wvobs=7861.03 Angstrom!\n",
      "2.07252305999 1 / Angstrom\n",
      "No spectrum found for BOSSJ1457+0237 and wvobs=7856.4 Angstrom!\n",
      "7.38431874757 1 / Angstrom\n",
      "Using /u/xavier/Dropbox//QSOPairs/data/BOSS/v5_5_0/SDSSJ150812.80+363530.3.fits for BOSSJ1508+3635\n",
      "S/N 7.38431874757 1 / Angstrom\n",
      "4.31448050201 1 / Angstrom\n",
      "No spectrum found for BOSSJ1515+2627 and wvobs=8202.99 Angstrom!\n",
      "2.18785155949 1 / Angstrom\n",
      "No spectrum found for BOSSJ1517+2002 and wvobs=7600.8 Angstrom!\n",
      "1.33587250955 1 / Angstrom\n",
      "No spectrum found for BOSSJ1530+2515 and wvobs=7814.18 Angstrom!\n",
      "13.971894468 1 / Angstrom\n",
      "Using /u/xavier/Dropbox//QSOPairs/data/BOSS/v5_5_0/SDSSJ153329.17+142537.8.fits for BOSSJ1533+1425\n",
      "S/N 13.971894468 1 / Angstrom\n",
      "9.56120213559 1 / Angstrom\n",
      "Using spec-3949-55650-0016.fits.gz for BOSSJ1534+2153\n",
      "S/N 9.56120213559 1 / Angstrom\n",
      "2.15891367922 1 / Angstrom\n",
      "No spectrum found for BOSSJ1538+5707 and wvobs=8197.48 Angstrom!\n",
      "6.62181089949 1 / Angstrom\n",
      "Using spec-4723-56033-0012.fits.gz for BOSSJ1539+3146\n",
      "S/N 6.62181089949 1 / Angstrom\n",
      "1.62940992593 1 / Angstrom\n",
      "No spectrum found for BOSSJ1544+5027 and wvobs=7270.96 Angstrom!\n",
      "38.4180431859 1 / Angstrom\n",
      "Using /u/xavier/Dropbox//QSOPairs/data/MAGE_redux//./SDSSJ155325.89+192137.7_F.fits.gz for APOJ1553+1921\n",
      "S/N 38.4180431859 1 / Angstrom\n",
      "11.1176005078 1 / Angstrom\n",
      "Using spec-4900-55739-0026.fits.gz for BOSSJ1554+1244\n",
      "S/N 11.1176005078 1 / Angstrom\n",
      "1.91721365225 1 / Angstrom\n",
      "No spectrum found for BOSSJ1556+3040 and wvobs=8419.92 Angstrom!\n",
      "3.85970771792 1 / Angstrom\n",
      "No spectrum found for BOSSJ1557+0434 and wvobs=8000.72 Angstrom!\n",
      "No spectrum found for APOJ1559+4943 and wvobs=8001.74 Angstrom!\n",
      "24.8447467012 1 / Angstrom\n",
      "Using /u/xavier/Dropbox//QSOPairs/data/BOSS/v5_6_0/SDSSJ160546.67+511323.0.fits for BOSSJ1605+5113\n",
      "S/N 24.8447467012 1 / Angstrom\n",
      "1.13808437164 1 / Angstrom\n",
      "No spectrum found for BOSSJ1618+1842 and wvobs=8525.12 Angstrom!\n",
      "4.10392226345 1 / Angstrom\n",
      "No spectrum found for BOSSJ1619+1926 and wvobs=7779.24 Angstrom!\n",
      "No spectrum found for APOJ1627+4606 and wvobs=13462 Angstrom!\n",
      "6.61550483198 1 / Angstrom\n",
      "BOSSJ1628+2342 does not survive atmosphere cut\n",
      "No spectrum found for BOSSJ1628+2342 and wvobs=7608.53 Angstrom!\n",
      "4.53143344152 1 / Angstrom\n",
      "No spectrum found for BOSSJ1631+4333 and wvobs=8437.09 Angstrom!\n",
      "4.51622258702 1 / Angstrom\n",
      "No spectrum found for BOSSJ1631+3659 and wvobs=7382.66 Angstrom!\n",
      "4.03070919938 1 / Angstrom\n",
      "No spectrum found for BOSSJ1635+2547 and wvobs=8024.57 Angstrom!\n",
      "1.72603336053 1 / Angstrom\n",
      "No spectrum found for BOSSJ1651+3410 and wvobs=7464.45 Angstrom!\n",
      "No spectrum found for BOSSJ1657+3105 and wvobs=8761.3 Angstrom!\n",
      "1.87724995513 1 / Angstrom\n",
      "No spectrum found for BOSSJ2053-0104 and wvobs=8427.69 Angstrom!\n",
      "26.8120820912 1 / Angstrom\n",
      "Using /u/xavier/Dropbox//QSOPairs/data/MAGE_redux//./SDSSJ214620.98-075303.8_F.fits.gz for APOJ2146-0753\n",
      "S/N 26.8120820912 1 / Angstrom\n",
      "0.287391674588 1 / Angstrom\n",
      "No spectrum found for BOSSJ2156-0003 and wvobs=7492.33 Angstrom!\n",
      "8.25991186407 1 / Angstrom\n",
      "Using /u/xavier/Dropbox//QSOPairs/data/BOSS/v5_5_0/SDSSJ220248.31+123656.3.fits for BOSSJ2202+1236\n",
      "S/N 8.25991186407 1 / Angstrom\n",
      "0.406561624397 1 / Angstrom\n",
      "No spectrum found for BOSSJ2212-0011 and wvobs=8338.68 Angstrom!\n",
      "5.3888218269 1 / Angstrom\n",
      "No spectrum found for BOSSJ2255-0001 and wvobs=7641.57 Angstrom!\n",
      "9.57877449302 1 / Angstrom\n",
      "Using /u/xavier/Dropbox//QSOPairs/data/BOSS/v5_5_0/SDSSJ225549.55-000927.7.fits for BOSSJ2255-0009\n",
      "S/N 9.57877449302 1 / Angstrom\n",
      "2.89500562191 1 / Angstrom\n",
      "No spectrum found for BOSSJ2314-0108 and wvobs=7401.94 Angstrom!\n",
      "1.9177057993 1 / Angstrom\n",
      "No spectrum found for BOSSJ2338-0003 and wvobs=9617.68 Angstrom!\n",
      "10.8739172451 1 / Angstrom\n",
      "BOSSJ2341-0041 does not survive atmosphere cut\n",
      "5.64335550492 1 / Angstrom\n",
      "BOSSJ2341-0041 does not survive atmosphere cut\n",
      "No spectrum found for BOSSJ2341-0041 and wvobs=7638.82 Angstrom!\n",
      "4.09584174769 1 / Angstrom\n",
      "No spectrum found for BOSSJ2348+0110 and wvobs=7536.22 Angstrom!\n",
      "0.642767597904 1 / Angstrom\n",
      "No spectrum found for BOSSJ2352-0015 and wvobs=7628.61 Angstrom!\n",
      "0.575278261436 1 / Angstrom\n",
      "No spectrum found for BOSSJ2354-0019 and wvobs=7702.39 Angstrom!\n"
     ]
    }
   ],
   "source": [
    "stack_tup0 = qpq9k.qpq9_IRMgII(passback=True,wrest=2796.354*u.AA,S2N_cut=5.5/u.AA,zfg_mnx=(1.6,9999),\n",
    "                               vsig_cut=400*u.km/u.s,plot_indiv=False)\n",
    "fin_velo, stck_img, stck_msk, all_dict = stack_tup0\n",
    "stck_mskN = copy.deepcopy(stck_msk)\n",
    "idx_mask = []\n",
    "for ii,dd in enumerate(all_dict):\n",
    "    if dd is None:\n",
    "        continue\n",
    "    if 'J0822+1319' in dd['qpq']['NAME']: #BAL\n",
    "        idx_mask.append(ii) \n",
    "for idx in idx_mask:\n",
    "    stck_mskN[idx,:] = 0."
   ]
  },
  {
   "cell_type": "code",
   "execution_count": 3,
   "metadata": {
    "collapsed": false
   },
   "outputs": [
    {
     "name": "stdout",
     "output_type": "stream",
     "text": [
      "[ 63.  63.  62.  62.  62.  62.  62.  62.  62.  62.  62.  62.  62.  63.  63.\n",
      "  63.  62.  62.  62.  62.  62.  62.  62.  62.  62.  62.  63.  63.  63.  63.\n",
      "  63.  63.  63.  63.  63.  63.  63.  63.  63.  63.  63.  63.  63.  63.  63.\n",
      "  63.  63.  63.  63.  63.  63.  63.  63.  63.  63.  63.  63.  63.  63.  63.\n",
      "  63.]\n"
     ]
    },
    {
     "data": {
      "text/plain": [
       "(1.8849384621693419, 154.68304443359375)"
      ]
     },
     "execution_count": 3,
     "metadata": {},
     "output_type": "execute_result"
    }
   ],
   "source": [
    "print(np.sum(stck_mskN,0))\n",
    "sv_zfg = []\n",
    "sv_Rperp = []\n",
    "for ii,dd in enumerate(all_dict):\n",
    "    if dd is None:\n",
    "        continue\n",
    "    if np.sum(stck_mskN[ii,:]) == 0:\n",
    "        continue\n",
    "    sv_zfg.append(dd['qpq']['Z_FG'])\n",
    "    sv_Rperp.append(dd['qpq']['R_PHYS'])\n",
    "np.median(sv_zfg),np.median(sv_Rperp)"
   ]
  },
  {
   "cell_type": "markdown",
   "metadata": {},
   "source": [
    "## Stack and plot"
   ]
  },
  {
   "cell_type": "markdown",
   "metadata": {},
   "source": [
    "### Mean"
   ]
  },
  {
   "cell_type": "code",
   "execution_count": 4,
   "metadata": {
    "collapsed": false
   },
   "outputs": [
    {
     "data": {
      "image/png": "[encoded data removed]",
      "text/plain": [
       "<matplotlib.figure.Figure at 0x1053a5550>"
      ]
     },
     "metadata": {},
     "output_type": "display_data"
    }
   ],
   "source": [
    "stack_tup = (fin_velo, stck_img, stck_mskN, all_dict)\n",
    "fin_velo, fin_flx, all_dict = qpqk.stack_avg(stack_tup)\n",
    "plt.figure(figsize=(8,5),dpi=1200)\n",
    "plt.plot(fin_velo, fin_flx, drawstyle='steps-mid',linewidth=2.)\n",
    "plt.xlabel('Relative Velocity', size=12.)\n",
    "plt.show()"
   ]
  },
  {
   "cell_type": "markdown",
   "metadata": {},
   "source": [
    "### Median"
   ]
  },
  {
   "cell_type": "code",
   "execution_count": 5,
   "metadata": {
    "collapsed": false
   },
   "outputs": [
    {
     "data": {
      "image/png": "[encoded data removed]",
      "text/plain": [
       "<matplotlib.figure.Figure at 0x2372b4b90>"
      ]
     },
     "metadata": {},
     "output_type": "display_data"
    }
   ],
   "source": [
    "fin_velo, fin_flx_med, all_dict = qpqk.stack_med(stack_tup)\n",
    "plt.figure(figsize=(8,5),dpi=1200)\n",
    "plt.plot(fin_velo, fin_flx_med, drawstyle='steps-mid',linewidth=2.)\n",
    "plt.xlabel('Relative Velocity', size=12.)\n",
    "plt.show()"
   ]
  },
  {
   "cell_type": "markdown",
   "metadata": {},
   "source": [
    "### Write"
   ]
  },
  {
   "cell_type": "code",
   "execution_count": 8,
   "metadata": {
    "collapsed": false
   },
   "outputs": [
    {
     "name": "stdout",
     "output_type": "stream",
     "text": [
      "Wrote spectrum to Output/QPQ9_zIRMgII_2796_mean.fits\n",
      "Wrote spectrum to Output/QPQ9_zIRMgII_2796_med.fits\n"
     ]
    }
   ],
   "source": [
    "from linetools.spectra.xspectrum1d import XSpectrum1D\n",
    "outfil = 'Output/QPQ9_zIRMgII_2796_mean.fits'\n",
    "relativistic_equiv = u.doppler_relativistic(2796.354*u.AA)\n",
    "fin_wave = fin_velo.to(u.AA,equivalencies=relativistic_equiv)\n",
    "xspec1d = XSpectrum1D.from_tuple((fin_wave, u.Quantity(fin_flx)))\n",
    "xspec1d.write_to_fits(outfil,clobber=True)\n",
    "outfil = 'Output/QPQ9_zIRMgII_2796_med.fits'\n",
    "xspec1d = XSpectrum1D.from_tuple((fin_wave,u.Quantity(fin_flx_med)))\n",
    "xspec1d.write_to_fits(outfil,clobber=True)"
   ]
  },
  {
   "cell_type": "markdown",
   "metadata": {},
   "source": [
    "## Bootstrap"
   ]
  },
  {
   "cell_type": "code",
   "execution_count": 9,
   "metadata": {
    "collapsed": false
   },
   "outputs": [
    {
     "name": "stderr",
     "output_type": "stream",
     "text": [
      "WARNING: The fit may be unsuccessful; check fit_info['message'] for more information. [astropy.modeling.fitting]\n",
      "WARNING:astropy:The fit may be unsuccessful; check fit_info['message'] for more information.\n"
     ]
    },
    {
     "name": "stdout",
     "output_type": "stream",
     "text": [
      "Equivalent width skewness: Mean=0.754828, Median=0.742547, std=0.200016 for Ntrials=10000\n",
      "Centroid: Mean = 187.629, scatter=162.331\n",
      "Dispersion and scatter of it:  327.344992458 123.210803999\n",
      "max and min centroid:  2970.14711751 -1000.54939112\n",
      "Wrote ../Bootstrap/Output/IRMgII_2796_mean.fits\n"
     ]
    }
   ],
   "source": [
    "#Mean\n",
    "reload(qpq9b)\n",
    "qpq9b.boot_trans(wrest=2796.354*u.AA,outfil='../Bootstrap/Output/IRMgII_2796_mean.fits',stack_tup0=stack_tup)"
   ]
  },
  {
   "cell_type": "code",
   "execution_count": 10,
   "metadata": {
    "collapsed": false
   },
   "outputs": [
    {
     "data": {
      "image/png": "[encoded data removed]",
      "text/plain": [
       "<matplotlib.figure.Figure at 0x12fda3650>"
      ]
     },
     "metadata": {},
     "output_type": "display_data"
    }
   ],
   "source": [
    "# plot \n",
    "stack_tup = (fin_velo, stck_img, stck_mskN, all_dict)\n",
    "fin_velo, fin_flx, all_dict = qpqk.stack_avg(stack_tup)\n",
    "plt.figure(figsize=(8,5),dpi=1200)\n",
    "hdulist = fits.open('../Bootstrap/Output/IRMgII_2796_mean.fits')\n",
    "boot_img = hdulist[1].data\n",
    "for bb in np.arange(np.shape(boot_img)[0]):\n",
    "    plt.plot(fin_velo,boot_img[bb,:],drawstyle='step-mid',linewidth=0.1,color='gray')\n",
    "plt.plot(fin_velo, fin_flx, drawstyle='steps-mid',linewidth=2.)\n",
    "plt.xlabel('Relative Velocity (km/s)', size=12.)\n",
    "plt.ylabel('Normalized Flux', size=12.)\n",
    "plt.show()"
   ]
  },
  {
   "cell_type": "code",
   "execution_count": 11,
   "metadata": {
    "collapsed": false
   },
   "outputs": [
    {
     "data": {
      "text/plain": [
       "0.1058"
      ]
     },
     "execution_count": 11,
     "metadata": {},
     "output_type": "execute_result"
    },
    {
     "data": {
      "image/png": "[encoded data removed]",
      "text/plain": [
       "<matplotlib.figure.Figure at 0x12fd98550>"
      ]
     },
     "metadata": {},
     "output_type": "display_data"
    }
   ],
   "source": [
    "# Plot centroids\n",
    "tau_cen = hdulist[3].data\n",
    "n, bins, patches = plt.hist(tau_cen, 50, normed=1, facecolor='green', alpha=0.5, range=(-1000,3000))\n",
    "plt.xlabel('Centroid Velocity (km/s)')\n",
    "plt.ylabel('Probability')\n",
    "len(np.where(tau_cen < 0)[0])/len(tau_cen)"
   ]
  },
  {
   "cell_type": "code",
   "execution_count": 14,
   "metadata": {
    "collapsed": false
   },
   "outputs": [
    {
     "name": "stdout",
     "output_type": "stream",
     "text": [
      "Equivalent width skewness: Mean=0.654445, Median=0.614525, std=0.346928 for Ntrials=10000\n",
      "Centroid: Mean = 101.425, scatter=339.549\n",
      "Dispersion and scatter of it:  341.821839636 204.30454131\n",
      "max and min centroid:  6798.42051325 -1006.27780541\n",
      "Wrote ../Bootstrap/Output/IRMgII_2796_med.fits\n"
     ]
    }
   ],
   "source": [
    "#Median\n",
    "reload(qpq9b)\n",
    "qpq9b.boot_trans(wrest=2796.354*u.AA,outfil='../Bootstrap/Output/IRMgII_2796_med.fits',stack_tup0=stack_tup,median=True)"
   ]
  },
  {
   "cell_type": "code",
   "execution_count": 15,
   "metadata": {
    "collapsed": false
   },
   "outputs": [
    {
     "data": {
      "image/png": "[encoded data removed]",
      "text/plain": [
       "<matplotlib.figure.Figure at 0x14f3d9350>"
      ]
     },
     "metadata": {},
     "output_type": "display_data"
    }
   ],
   "source": [
    "# plot trials\n",
    "stack_tup = (fin_velo, stck_img, stck_mskN, all_dict)\n",
    "fin_velo, fin_flx, all_dict = qpqk.stack_med(stack_tup)\n",
    "plt.figure(figsize=(8,5),dpi=1200)\n",
    "hdulist = fits.open('../Bootstrap/Output/IRMgII_2796_med.fits')\n",
    "boot_img = hdulist[1].data\n",
    "for bb in np.arange(np.shape(boot_img)[0]):\n",
    "    plt.plot(fin_velo,boot_img[bb,:],drawstyle='step-mid',linewidth=0.1,color='gray')\n",
    "plt.plot(fin_velo, fin_flx, drawstyle='steps-mid',linewidth=2.)\n",
    "plt.axis([-3000,3000,0.55,1.1])\n",
    "plt.xlabel('Relative Velocity (km/s)', size=12.)\n",
    "plt.ylabel('Normalized Flux', size=12.)\n",
    "plt.show()"
   ]
  },
  {
   "cell_type": "markdown",
   "metadata": {},
   "source": [
    "# [OIII] only"
   ]
  },
  {
   "cell_type": "code",
   "execution_count": 16,
   "metadata": {
    "collapsed": false
   },
   "outputs": [
    {
     "name": "stdout",
     "output_type": "stream",
     "text": [
      "Reading /Users/lwymarie/python/enigma/enigma/data/qpq/qpq9_final.fits\n",
      "0.967666750206 1 / Angstrom\n",
      "No spectrum found for BOSSJ0057-0001 and wvobs=8838.08 Angstrom!\n",
      "3.28738634298 1 / Angstrom\n",
      "No continuum: /u/xavier/Dropbox//QSOPairs/data/ESI_redux//./SDSSJ023946.44-010644.1_F.fits.gz\n",
      "No spectrum found for BOSSJ0239-0106 and wvobs=9223.73 Angstrom!\n",
      "No spectrum found for APOJ0800+3542 and wvobs=8338.85 Angstrom!\n",
      "6.78768103203 1 / Angstrom\n",
      "Using /u/xavier/Dropbox//QSOPairs/data/BOSS/v5_5_0/SDSSJ084159.26+392140.0.fits for BOSSJ0841+3921\n",
      "S/N 6.78768103203 1 / Angstrom\n",
      "27.2845778713 1 / Angstrom\n",
      "Using /u/xavier/Dropbox//QSOPairs/data/MAGE_redux//./SDSSJ085357.49-001106.1_F.fits.gz for BOSSJ0853-0011\n",
      "S/N 27.2845778713 1 / Angstrom\n",
      "36.8739229288 1 / Angstrom\n",
      "Using /u/xavier/Dropbox//QSOPairs/data/MAGE_redux//./SDSSJ091046.69+041448.4_F.fits.gz for APOJ0910+0414\n",
      "S/N 36.8739229288 1 / Angstrom\n",
      "5.43589590482 1 / Angstrom\n",
      "No spectrum found for BOSSJ0914+0109 and wvobs=8780.33 Angstrom!\n",
      "23.4428237957 1 / Angstrom\n",
      "Using /u/xavier/Dropbox//QSOPairs/data/MAGE_redux//./SDSSJ093225.60+092500.2_F.fits.gz for APOJ0932+0925\n",
      "S/N 23.4428237957 1 / Angstrom\n",
      "No spectrum found for APOJ0938+5317 and wvobs=8575.73 Angstrom!\n",
      "6.97736065934 1 / Angstrom\n",
      "Using /u/xavier/Dropbox//QSOPairs/data/BOSS/v5_6_0/SDSSJ100627.10+480429.9.fits for BOSSJ1006+4804\n",
      "S/N 6.97736065934 1 / Angstrom\n",
      "No spectrum found for BOSSJ1039+5026 and wvobs=11554.1 Angstrom!\n",
      "No spectrum found for BOSSJ1144+0959 and wvobs=11109.1 Angstrom!\n",
      "No continuum: /u/xavier/Dropbox//QSOPairs/data/GMOS_redux//./SDSSJ120416.69+022111.0_b1200_F.fits.gz\n",
      "No continuum: /u/xavier/Dropbox//QSOPairs/data/HIRES_redux//./SDSSJ120416.69+022111.0_f.fits.gz\n",
      "Using conti=1 for HIRES\n",
      "17.0918921873 1 / Angstrom\n",
      "Using /u/xavier/Dropbox//QSOPairs/data/MAGE_redux//./SDSSJ120416.69+022111.0_F.fits.gz for BOSSJ1204+0221\n",
      "S/N 17.0918921873 1 / Angstrom\n",
      "21.3074967848 1 / Angstrom\n",
      "Using /u/xavier/Dropbox//QSOPairs/data/SDSS//./SDSSJ121558.80+571555.4.fits.gz for BOSSJ1215+5715\n",
      "S/N 21.3074967848 1 / Angstrom\n",
      "No spectrum found for BOSSJ1231+0029 and wvobs=11746.9 Angstrom!\n",
      "3.21047507554 1 / Angstrom\n",
      "No spectrum found for BOSSJ1402+4701 and wvobs=8153.21 Angstrom!\n",
      "No spectrum found for BOSSJ1420+0227 and wvobs=12908.6 Angstrom!\n",
      "47.4146463086 1 / Angstrom\n",
      "Using /u/xavier/Dropbox//QSOPairs/data/MAGE_redux//./SDSSJ142054.92+160342.9_F.fits.gz for APOJ1420+1603\n",
      "S/N 47.4146463086 1 / Angstrom\n",
      "No continuum: /u/xavier/Dropbox//QSOPairs/data/GMOS_redux//./SDSSJ142758.74-012136.2_b1200_F.fits.gz\n",
      "52.9102791753 1 / Angstrom\n",
      "Using /u/xavier/Dropbox//QSOPairs/data/MAGE_redux//./SDSSJ142758.74-012136.2_F.fits.gz for BOSSJ1427-0121\n",
      "S/N 52.9102791753 1 / Angstrom\n",
      "12.514466071 1 / Angstrom\n",
      "Using /u/xavier/Dropbox//QSOPairs/data/BOSS/v5_4_45/SDSSJ143344.55+064111.9.fits for BOSSJ1433+0641\n",
      "S/N 12.514466071 1 / Angstrom\n",
      "38.4180431859 1 / Angstrom\n",
      "Using /u/xavier/Dropbox//QSOPairs/data/MAGE_redux//./SDSSJ155325.89+192137.7_F.fits.gz for APOJ1553+1921\n",
      "S/N 38.4180431859 1 / Angstrom\n",
      "No spectrum found for APOJ1627+4606 and wvobs=13462 Angstrom!\n",
      "26.8120820912 1 / Angstrom\n",
      "Using /u/xavier/Dropbox//QSOPairs/data/MAGE_redux//./SDSSJ214620.98-075303.8_F.fits.gz for APOJ2146-0753\n",
      "S/N 26.8120820912 1 / Angstrom\n",
      "8.25991186407 1 / Angstrom\n",
      "Using /u/xavier/Dropbox//QSOPairs/data/BOSS/v5_5_0/SDSSJ220248.31+123656.3.fits for BOSSJ2202+1236\n",
      "S/N 8.25991186407 1 / Angstrom\n",
      "1.9177057993 1 / Angstrom\n",
      "No spectrum found for BOSSJ2338-0003 and wvobs=9617.68 Angstrom!\n"
     ]
    }
   ],
   "source": [
    "stack_tup0 = qpq9k.qpq9_IRMgII(passback=True,wrest=2796.354*u.AA,vsig_cut=70*u.km/u.s,S2N_cut=5.5/u.AA,\n",
    "                               plot_indiv=False)\n",
    "fin_velo, stck_img, stck_msk, all_dict = stack_tup0\n",
    "stck_mskN = copy.deepcopy(stck_msk)\n",
    "idx_mask = []\n",
    "for ii,dd in enumerate(all_dict):\n",
    "    if dd is None:\n",
    "        continue\n",
    "    if 'J0822+1319' in dd['qpq']['NAME']: #BAL\n",
    "        idx_mask.append(ii) \n",
    "for idx in idx_mask:\n",
    "    stck_mskN[idx,:] = 0."
   ]
  },
  {
   "cell_type": "code",
   "execution_count": 17,
   "metadata": {
    "collapsed": false
   },
   "outputs": [
    {
     "data": {
      "text/plain": [
       "(2.1149848379705354, 111.64153254054823)"
      ]
     },
     "execution_count": 17,
     "metadata": {},
     "output_type": "execute_result"
    }
   ],
   "source": [
    "np.sum(stck_mskN,0)\n",
    "sv_zfg = []\n",
    "sv_Rperp = []\n",
    "for ii,dd in enumerate(all_dict):\n",
    "    if dd is None:\n",
    "        continue\n",
    "    if np.sum(stck_mskN[ii,:]) == 0:\n",
    "        continue\n",
    "    sv_zfg.append(dd['qpq']['Z_FG'])\n",
    "    sv_Rperp.append(dd['qpq']['R_PHYS'])\n",
    "np.median(sv_zfg),np.median(sv_Rperp)"
   ]
  },
  {
   "cell_type": "code",
   "execution_count": 18,
   "metadata": {
    "collapsed": false
   },
   "outputs": [
    {
     "data": {
      "image/png": "[encoded data removed]",
      "text/plain": [
       "<matplotlib.figure.Figure at 0x110a28bd0>"
      ]
     },
     "metadata": {},
     "output_type": "display_data"
    }
   ],
   "source": [
    "stack_tup = (fin_velo, stck_img, stck_mskN, all_dict)\n",
    "fin_velo, fin_flx, all_dict = qpqk.stack_avg(stack_tup)\n",
    "plt.figure(figsize=(8,5),dpi=1200)\n",
    "plt.plot(fin_velo, fin_flx, drawstyle='steps-mid',linewidth=2.)\n",
    "plt.xlabel('Relative Velocity', size=12.)\n",
    "plt.show()"
   ]
  },
  {
   "cell_type": "code",
   "execution_count": 19,
   "metadata": {
    "collapsed": false
   },
   "outputs": [
    {
     "data": {
      "image/png": "[encoded data removed]",
      "text/plain": [
       "<matplotlib.figure.Figure at 0x11075e350>"
      ]
     },
     "metadata": {},
     "output_type": "display_data"
    }
   ],
   "source": [
    "fin_velo, fin_flx_med, all_dict = qpqk.stack_med(stack_tup)\n",
    "plt.figure(figsize=(8,5),dpi=1200)\n",
    "plt.plot(fin_velo, fin_flx_med, drawstyle='steps-mid',linewidth=2.)\n",
    "plt.xlabel('Relative Velocity', size=12.)\n",
    "plt.show()"
   ]
  },
  {
   "cell_type": "code",
   "execution_count": 20,
   "metadata": {
    "collapsed": false
   },
   "outputs": [
    {
     "name": "stdout",
     "output_type": "stream",
     "text": [
      "Wrote spectrum to Output/QPQ9_zOIII_2796_mean.fits\n",
      "Wrote spectrum to Output/QPQ9_zOIII_2796_med.fits\n"
     ]
    }
   ],
   "source": [
    "from linetools.spectra.xspectrum1d import XSpectrum1D\n",
    "outfil = 'Output/QPQ9_zOIII_2796_mean.fits'\n",
    "relativistic_equiv = u.doppler_relativistic(2796.354*u.AA)\n",
    "fin_wave = fin_velo.to(u.AA,equivalencies=relativistic_equiv)\n",
    "xspec1d = XSpectrum1D.from_tuple((fin_wave, u.Quantity(fin_flx)))\n",
    "xspec1d.write_to_fits(outfil,clobber=True)\n",
    "outfil = 'Output/QPQ9_zOIII_2796_med.fits'\n",
    "xspec1d = XSpectrum1D.from_tuple((fin_wave, u.Quantity(fin_flx_med)))\n",
    "xspec1d.write_to_fits(outfil,clobber=True)"
   ]
  },
  {
   "cell_type": "markdown",
   "metadata": {
    "collapsed": true
   },
   "source": [
    "## Bootstrap"
   ]
  },
  {
   "cell_type": "code",
   "execution_count": 21,
   "metadata": {
    "collapsed": false
   },
   "outputs": [
    {
     "name": "stdout",
     "output_type": "stream",
     "text": [
      "Equivalent width skewness: Mean=0.902703, Median=0.797807, std=2.04669 for Ntrials=10000\n",
      "Centroid: Mean = 319.015, scatter=158.733\n",
      "Dispersion and scatter of it:  290.340168797 162.047531867\n",
      "max and min centroid:  1187.49887332 -399.570802475\n",
      "Wrote ../Bootstrap/Output/OIII_2796_mean.fits\n"
     ]
    }
   ],
   "source": [
    "#Mean \n",
    "reload(qpq9b)\n",
    "qpq9b.boot_trans(wrest=2796.354*u.AA,outfil='../Bootstrap/Output/OIII_2796_mean.fits',stack_tup0=stack_tup)"
   ]
  },
  {
   "cell_type": "code",
   "execution_count": 22,
   "metadata": {
    "collapsed": false
   },
   "outputs": [
    {
     "data": {
      "image/png": "[encoded data removed]",
      "text/plain": [
       "<matplotlib.figure.Figure at 0x16ebf28d0>"
      ]
     },
     "metadata": {},
     "output_type": "display_data"
    }
   ],
   "source": [
    "# plot \n",
    "stack_tup = (fin_velo, stck_img, stck_mskN, all_dict)\n",
    "fin_velo, fin_flx, all_dict = qpqk.stack_avg(stack_tup)\n",
    "plt.figure(figsize=(8,5),dpi=1200)\n",
    "hdulist = fits.open('../Bootstrap/Output/OIII_2796_mean.fits')\n",
    "boot_img = hdulist[1].data\n",
    "for bb in np.arange(np.shape(boot_img)[0]):\n",
    "    plt.plot(fin_velo,boot_img[bb,:],drawstyle='step-mid',linewidth=0.1,color='gray')\n",
    "plt.plot(fin_velo, fin_flx, drawstyle='steps-mid',linewidth=2.)\n",
    "plt.xlabel('Relative Velocity (km/s)', size=12.)\n",
    "plt.ylabel('Normalized Flux', size=12.)\n",
    "plt.show()"
   ]
  },
  {
   "cell_type": "code",
   "execution_count": 23,
   "metadata": {
    "collapsed": false
   },
   "outputs": [
    {
     "data": {
      "text/plain": [
       "0.0445"
      ]
     },
     "execution_count": 23,
     "metadata": {},
     "output_type": "execute_result"
    },
    {
     "data": {
      "image/png": "[encoded data removed]",
      "text/plain": [
       "<matplotlib.figure.Figure at 0x16ebe7610>"
      ]
     },
     "metadata": {},
     "output_type": "display_data"
    }
   ],
   "source": [
    "# Plot centroids\n",
    "tau_cen = hdulist[3].data\n",
    "n, bins, patches = plt.hist(tau_cen, 50, normed=1, facecolor='green', alpha=0.5, range =(-1000,3000))\n",
    "plt.xlabel('Centroid Velocity (km/s)')\n",
    "plt.ylabel('Probability')\n",
    "len(np.where(tau_cen < 0)[0])/len(tau_cen)"
   ]
  },
  {
   "cell_type": "code",
   "execution_count": 24,
   "metadata": {
    "collapsed": false
   },
   "outputs": [
    {
     "name": "stdout",
     "output_type": "stream",
     "text": [
      "Equivalent width skewness: Mean=0.369272, Median=0.686202, std=35.5008 for Ntrials=10000\n",
      "Centroid: Mean = 270.672, scatter=207.585\n",
      "Dispersion and scatter of it:  297.153815932 194.958914888\n",
      "max and min centroid:  2110.96489944 -1036.47675332\n",
      "Wrote ../Bootstrap/Output/OIII_2796_med.fits\n"
     ]
    }
   ],
   "source": [
    "#Median\n",
    "reload(qpq9b)\n",
    "qpq9b.boot_trans(wrest=2796.354*u.AA,outfil='../Bootstrap/Output/OIII_2796_med.fits',stack_tup0=stack_tup,median=True)"
   ]
  },
  {
   "cell_type": "code",
   "execution_count": 25,
   "metadata": {
    "collapsed": false
   },
   "outputs": [
    {
     "data": {
      "image/png": "[encoded data removed]",
      "text/plain": [
       "<matplotlib.figure.Figure at 0x18b4d5e90>"
      ]
     },
     "metadata": {},
     "output_type": "display_data"
    }
   ],
   "source": [
    "# plot \n",
    "stack_tup = (fin_velo, stck_img, stck_mskN, all_dict)\n",
    "fin_velo, fin_flx, all_dict = qpqk.stack_med(stack_tup)\n",
    "plt.figure(figsize=(8,5),dpi=1200)\n",
    "hdulist = fits.open('../Bootstrap/Output/OIII_2796_med.fits')\n",
    "boot_img = hdulist[1].data\n",
    "for bb in np.arange(np.shape(boot_img)[0]):\n",
    "    plt.plot(fin_velo,boot_img[bb,:],drawstyle='step-mid',linewidth=0.1,color='gray')\n",
    "plt.plot(fin_velo, fin_flx_med, drawstyle='steps-mid',linewidth=2.)\n",
    "plt.xlabel('Relative Velocity (km/s)', size=12.)\n",
    "plt.ylabel('Normalized Flux', size=12.)\n",
    "plt.show()"
   ]
  },
  {
   "cell_type": "markdown",
   "metadata": {},
   "source": [
    "# Plot individual spectra"
   ]
  },
  {
   "cell_type": "code",
   "execution_count": 44,
   "metadata": {
    "collapsed": false
   },
   "outputs": [
    {
     "name": "stdout",
     "output_type": "stream",
     "text": [
      "Reading /Users/lwymarie/python/enigma/enigma/data/qpq/qpq9_final.fits\n",
      "5.59863354536 1 / Angstrom\n",
      "Using spSpec-52203-0685-134.fit.gz for BOSSJ0001+0000\n",
      "S/N 5.59863354536 1 / Angstrom\n",
      "7.03421660111 1 / Angstrom\n",
      "Using spSpec-52519-0686-169.fit.gz for BOSSJ0008-0039\n",
      "S/N 7.03421660111 1 / Angstrom\n",
      "2.53864644477 1 / Angstrom\n",
      "No spectrum found for BOSSJ0008-0039 and wvobs=8215.93 Angstrom!\n",
      "No spectrum found for BOSSJ0042+1350 and wvobs=7762.94 Angstrom!\n",
      "11.5360605851 1 / Angstrom\n",
      "Using spSpec-51871-0420-304.fit.gz for BOSSJ0047+1447\n",
      "S/N 11.5360605851 1 / Angstrom\n",
      "5.55364004328 1 / Angstrom\n",
      "Using spSpec-51783-0395-432.fit.gz for BOSSJ0057-0001\n",
      "S/N 5.55364004328 1 / Angstrom\n",
      "8.10635926971 1 / Angstrom\n",
      "BOSSJ0103-0002 does not survive atmosphere cut\n",
      "No spectrum found for BOSSJ0103-0002 and wvobs=7700.44 Angstrom!\n",
      "11.5060184733 1 / Angstrom\n",
      "Using spSpec-52209-0694-371.fit.gz for BOSSJ0106+0056\n",
      "S/N 11.5060184733 1 / Angstrom\n",
      "No continuum: /u/xavier/Dropbox//QSOPairs/data/LRIS_redux//./SDSSJ011150.07+140141.4_b1200_F.fits.gz\n",
      "No spectrum found for SDSSJ0111+1402 and wvobs=9745.69 Angstrom!\n",
      "No spectrum found for SDSSJ0149-0021 and wvobs=7500.52 Angstrom!\n",
      "5.05882068124 1 / Angstrom\n",
      "No spectrum found for BOSSJ0154+0020 and wvobs=7755.51 Angstrom!\n",
      "28.6114501387 1 / Angstrom\n",
      "Using spSpec-53349-2066-440.fit.gz for BOSSJ0206+2238\n",
      "S/N 28.6114501387 1 / Angstrom\n",
      "8.90735084802 1 / Angstrom\n",
      "Using spSpec-52209-0703-259.fit.gz for BOSSJ0214-0052\n",
      "S/N 8.90735084802 1 / Angstrom\n",
      "5.17502577173 1 / Angstrom\n",
      "No spectrum found for BOSSJ0224-0046 and wvobs=7538.74 Angstrom!\n",
      "6.42344380826 1 / Angstrom\n",
      "Using spec-4386-55540-0546.fits.gz for BOSSJ0230-0333\n",
      "S/N 6.42344380826 1 / Angstrom\n",
      "49.6078393944 1 / Angstrom\n",
      "No continuum: /u/xavier/Dropbox//QSOPairs/data/LRIS_redux//./SDSSJ023946.43-010640.4_b1200_F.fits.gz\n",
      "No continuum: /u/xavier/Dropbox//QSOPairs/data/ESI_redux//./SDSSJ023946.43-010640.4_F.fits.gz\n",
      "Using /u/xavier/Dropbox//QSOPairs/data/XSHOOTER_redux//./SDSSJ023946.43-010640.5_F.fits.gz for BOSSJ0239-0106\n",
      "S/N 49.6078393944 1 / Angstrom\n",
      "3.53933680214 1 / Angstrom\n",
      "No spectrum found for BOSSJ0242-0046 and wvobs=7746.73 Angstrom!\n",
      "No spectrum found for BOSSJ0250-0047 and wvobs=7976.11 Angstrom!\n",
      "4.89384623122 1 / Angstrom\n",
      "No spectrum found for BOSSJ0334-0058 and wvobs=7338.56 Angstrom!\n",
      "17.2856258107 1 / Angstrom\n",
      "Using /u/xavier/Dropbox//QSOPairs/data/MAGE_redux//./SDSSJ034138.16+000002.9_F.fits.gz for SDSSJ0341-0000\n",
      "S/N 17.2856258107 1 / Angstrom\n",
      "56.1062518906 1 / Angstrom\n",
      "SDSSJ0409-0411 does not survive atmosphere cut\n",
      "No spectrum found for SDSSJ0409-0411 and wvobs=7593.5 Angstrom!\n",
      "6.33552988023 1 / Angstrom\n",
      "Using spSpec-52017-0543-220.fit.gz for BOSSJ0749+3702\n",
      "S/N 6.33552988023 1 / Angstrom\n",
      "No continuum: /u/xavier/Dropbox//QSOPairs/data/LRIS_redux//./SDSSJ075259.82+401128.2_b1200_F.fits.gz\n",
      "No spectrum found for SDSSJ0752+4011 and wvobs=8062.44 Angstrom!\n",
      "12.3530727603 1 / Angstrom\n",
      "Using /u/xavier/Dropbox//QSOPairs/data/SDSS//./SDSSJ080049.90+354249.6.fits.gz for APOJ0800+3542\n",
      "S/N 12.3530727603 1 / Angstrom\n",
      "3.21369773436 1 / Angstrom\n",
      "No spectrum found for BOSSJ0809+4539 and wvobs=8504.23 Angstrom!\n",
      "17.5230741784 1 / Angstrom\n",
      "Using spSpec-52670-1206-098.fit.gz for BOSSJ0812+2620\n",
      "S/N 17.5230741784 1 / Angstrom\n",
      "9.96148168434 1 / Angstrom\n",
      "BOSSJ0814+0402 does not survive atmosphere cut\n",
      "No spectrum found for BOSSJ0814+0402 and wvobs=7730.43 Angstrom!\n",
      "24.1576179818 1 / Angstrom\n",
      "BOSSJ0818+1527 does not survive atmosphere cut\n",
      "No spectrum found for BOSSJ0818+1527 and wvobs=7706.88 Angstrom!\n",
      "No spectrum found for BOSSJ0818+1232 and wvobs=7554.4 Angstrom!\n",
      "5.02357736999 1 / Angstrom\n",
      "No spectrum found for BOSSJ0826+4708 and wvobs=7826.2 Angstrom!\n",
      "No spectrum found for SDSSJ0828+4545 and wvobs=8030.56 Angstrom!\n",
      "13.5673557342 1 / Angstrom\n",
      "Using spSpec-53383-1782-638.fit.gz for BOSSJ0830+5452\n",
      "S/N 13.5673557342 1 / Angstrom\n",
      "9.63001013262 1 / Angstrom\n",
      "Using spSpec-51959-0550-353.fit.gz for BOSSJ0833+4823\n",
      "S/N 9.63001013262 1 / Angstrom\n",
      "10.0534692205 1 / Angstrom\n",
      "Using spSpec-53081-1759-133.fit.gz for BOSSJ0837+0810\n",
      "S/N 10.0534692205 1 / Angstrom\n",
      "No spectrum found for APOJ0837+3630 and wvobs=7928.16 Angstrom!\n",
      "No spectrum found for APOJ0837+3837 and wvobs=8563.61 Angstrom!\n",
      "9.41736370304 1 / Angstrom\n",
      "BOSSJ0838+4621 does not survive atmosphere cut\n",
      "No spectrum found for BOSSJ0838+4621 and wvobs=7720.51 Angstrom!\n",
      "8.58180337536 1 / Angstrom\n",
      "Using /u/xavier/Dropbox//QSOPairs/data/SDSS//./SDSSJ084158.47+392121.0.fits.gz for BOSSJ0841+3921\n",
      "S/N 8.58180337536 1 / Angstrom\n",
      "12.0364962511 1 / Angstrom\n",
      "BOSSJ0844+4839 does not survive atmosphere cut\n",
      "No spectrum found for BOSSJ0844+4839 and wvobs=7556.45 Angstrom!\n",
      "4.20434868214 1 / Angstrom\n",
      "No spectrum found for BOSSJ0845+3202 and wvobs=8058.03 Angstrom!\n",
      "8.83427207038 1 / Angstrom\n",
      "Using /u/xavier/Dropbox//QSOPairs/data/MAGE_redux//./SDSSJ085358.36-001108.0_F.fits.gz for BOSSJ0853-0011\n",
      "S/N 8.83427207038 1 / Angstrom\n",
      "18.2129128966 1 / Angstrom\n",
      "Using spSpec-51900-0448-053.fit.gz for BOSSJ0856+5514\n",
      "S/N 18.2129128966 1 / Angstrom\n",
      "8.84144186807 1 / Angstrom\n",
      "Using spSpec-52703-1199-204.fit.gz for BOSSJ0857+3901\n",
      "S/N 8.84144186807 1 / Angstrom\n",
      "4.75810072516 1 / Angstrom\n",
      "No spectrum found for BOSSJ0902+3602 and wvobs=7720.22 Angstrom!\n",
      "15.1136903846 1 / Angstrom\n",
      "Using spSpec-51992-0552-490.fit.gz for BOSSJ0903+5133\n",
      "S/N 15.1136903846 1 / Angstrom\n",
      "15.1134477641 1 / Angstrom\n",
      "Using spSpec-51913-0469-031.fit.gz for BOSSJ0904+0042\n",
      "S/N 15.1134477641 1 / Angstrom\n",
      "28.8216606039 1 / Angstrom\n",
      "Using spSpec-53050-1739-297.fit.gz for BOSSJ0906+1001\n",
      "S/N 28.8216606039 1 / Angstrom\n",
      "12.9027512737 1 / Angstrom\n",
      "BOSSJ0907+2802 does not survive atmosphere cut\n",
      "No spectrum found for BOSSJ0907+2802 and wvobs=7704.3 Angstrom!\n",
      "44.695495616 1 / Angstrom\n",
      "Using /u/xavier/Dropbox//QSOPairs/data/MAGE_redux//./SDSSJ091046.40+041458.5_F.fits.gz for APOJ0910+0414\n",
      "S/N 44.695495616 1 / Angstrom\n",
      "10.7379268624 1 / Angstrom\n",
      "Using spSpec-52254-0765-638.fit.gz for BOSSJ0911+4905\n",
      "S/N 10.7379268624 1 / Angstrom\n",
      "13.0196791334 1 / Angstrom\n",
      "Using spSpec-52668-1200-583.fit.gz for BOSSJ0912+4139\n",
      "S/N 13.0196791334 1 / Angstrom\n",
      "15.8829127006 1 / Angstrom\n",
      "Using spSpec-53415-2087-281.fit.gz for BOSSJ0912+2518\n",
      "S/N 15.8829127006 1 / Angstrom\n",
      "12.3371237686 1 / Angstrom\n",
      "Using spSpec-53330-1936-524.fit.gz for BOSSJ0912+3056\n",
      "S/N 12.3371237686 1 / Angstrom\n",
      "No spectrum found for BOSSJ0913-0107 and wvobs=10479.4 Angstrom!\n",
      "15.3414035578 1 / Angstrom\n",
      "Using spSpec-54550-2961-292.fit.gz for BOSSJ0913+3151\n",
      "S/N 15.3414035578 1 / Angstrom\n",
      "41.4482610112 1 / Angstrom\n",
      "No continuum: /u/xavier/Dropbox//QSOPairs/data/LRIS_redux//./SDSSJ091432.02+010912.4_b1200_F.fits.gz\n",
      "Using /u/xavier/Dropbox//QSOPairs/data/XSHOOTER_redux//./SDSSJ091432.02+010912.4_F.fits.gz for BOSSJ0914+0109\n",
      "S/N 41.4482610112 1 / Angstrom\n",
      "8.96444977871 1 / Angstrom\n",
      "Using spSpec-51929-0473-269.fit.gz for BOSSJ0915+0119\n",
      "S/N 8.96444977871 1 / Angstrom\n",
      "8.1072359558 1 / Angstrom\n",
      "BOSSJ0916+4250 does not survive atmosphere cut\n",
      "No spectrum found for BOSSJ0916+4250 and wvobs=7660.5 Angstrom!\n",
      "8.83914615469 1 / Angstrom\n",
      "BOSSJ0920+3340 does not survive atmosphere cut\n",
      "No spectrum found for BOSSJ0920+3340 and wvobs=7644.44 Angstrom!\n",
      "No spectrum found for APOJ0924+3929 and wvobs=8068.09 Angstrom!\n",
      "25.0401781683 1 / Angstrom\n",
      "BOSSJ0932+0843 does not survive atmosphere cut\n",
      "No spectrum found for BOSSJ0932+0843 and wvobs=7721.15 Angstrom!\n",
      "29.1527123248 1 / Angstrom\n",
      "8.88584680264 1 / Angstrom\n",
      "Using /u/xavier/Dropbox//QSOPairs/data/XSHOOTER_redux//./SDSSJ093226.34+092526.1_F.fits.gz for APOJ0932+0925\n",
      "S/N 29.1527123248 1 / Angstrom\n",
      "11.551917389 1 / Angstrom\n",
      "Using spSpec-51911-0452-409.fit.gz for BOSSJ0933+5920\n",
      "S/N 11.551917389 1 / Angstrom\n",
      "3.24085638576 1 / Angstrom\n",
      "No spectrum found for BOSSJ0935+4532 and wvobs=8647.47 Angstrom!\n",
      "8.6888630848 1 / Angstrom\n",
      "Using spec-3767-55214-0874.fits.gz for BOSSJ0936-0058\n",
      "S/N 8.6888630848 1 / Angstrom\n",
      "No spectrum found for APOJ0938+5317 and wvobs=8576.5 Angstrom!\n",
      "12.0082434589 1 / Angstrom\n",
      "Using spSpec-53386-1943-551.fit.gz for BOSSJ0940+3345\n",
      "S/N 12.0082434589 1 / Angstrom\n",
      "21.0067588091 1 / Angstrom\n",
      "Using spSpec-53735-2296-131.fit.gz for BOSSJ0941+2308\n",
      "S/N 21.0067588091 1 / Angstrom\n",
      "14.6517001837 1 / Angstrom\n",
      "BOSSJ0942+1347 does not survive atmosphere cut\n",
      "No spectrum found for BOSSJ0942+1347 and wvobs=7553.55 Angstrom!\n",
      "7.60317937308 1 / Angstrom\n",
      "Using spSpec-51994-0500-414.fit.gz for BOSSJ0956+0248\n",
      "S/N 7.60317937308 1 / Angstrom\n",
      "8.73685962996 1 / Angstrom\n",
      "BOSSJ1000+0337 does not survive atmosphere cut\n",
      "No spectrum found for BOSSJ1000+0337 and wvobs=7547.97 Angstrom!\n",
      "13.9074098317 1 / Angstrom\n",
      "Using spSpec-53033-1356-376.fit.gz for BOSSJ1001+4023\n",
      "S/N 13.9074098317 1 / Angstrom\n",
      "12.0890305796 1 / Angstrom\n",
      "No continuum: J100246.8+002103a.fits.gz\n",
      "Using spSpec-51910-0269-386.fit.gz for BOSSJ1002+0020\n",
      "S/N 12.0890305796 1 / Angstrom\n",
      "No spectrum found for SDSSJ1005+5019 and wvobs=7875.72 Angstrom!\n",
      "No continuum: /u/xavier/Dropbox//QSOPairs/data/LRIS_redux//./SDSSJ100627.47+480420.0_b1200_F.fits.gz\n",
      "No spectrum found for BOSSJ1006+4804 and wvobs=9236.78 Angstrom!\n",
      "8.96177833147 1 / Angstrom\n",
      "Using spSpec-54138-2587-371.fit.gz for BOSSJ1009+1749\n",
      "S/N 8.96177833147 1 / Angstrom\n",
      "16.816948347 1 / Angstrom\n",
      "BOSSJ1009+0236 does not survive atmosphere cut\n",
      "No spectrum found for BOSSJ1009+0236 and wvobs=7650.85 Angstrom!\n",
      "No spectrum found for APOJ1009+2500 and wvobs=8022.84 Angstrom!\n",
      "19.9264368885 1 / Angstrom\n",
      "Using spec-4562-55570-0592.fits.gz for BOSSJ1010+4037\n",
      "S/N 19.9264368885 1 / Angstrom\n",
      "35.9491066022 1 / Angstrom\n",
      "Using /u/xavier/Dropbox//QSOPairs/data/SDSS//./SDSSJ101053.98+451817.1.fits.gz for BOSSJ1010+4517\n",
      "S/N 35.9491066022 1 / Angstrom\n",
      "6.91969197789 1 / Angstrom\n",
      "Using spSpec-52762-1237-316.fit.gz for BOSSJ1010+0821\n",
      "S/N 6.91969197789 1 / Angstrom\n",
      "5.16302868623 1 / Angstrom\n",
      "No spectrum found for BOSSJ1013+0330 and wvobs=8227.58 Angstrom!\n",
      "16.5379282714 1 / Angstrom\n",
      "BOSSJ1014+2653 does not survive atmosphere cut\n",
      "No spectrum found for BOSSJ1014+2653 and wvobs=7629.92 Angstrom!\n",
      "21.291178856 1 / Angstrom\n",
      "Using spSpec-53061-1745-557.fit.gz for BOSSJ1015+1245\n",
      "S/N 21.291178856 1 / Angstrom\n",
      "11.2507671328 1 / Angstrom\n",
      "Using spSpec-52375-0772-350.fit.gz for BOSSJ1017+6226\n",
      "S/N 11.2507671328 1 / Angstrom\n",
      "8.69156279582 1 / Angstrom\n",
      "Using spSpec-52370-0771-114.fit.gz for BOSSJ1020+6119\n",
      "S/N 8.69156279582 1 / Angstrom\n",
      "13.6391646352 1 / Angstrom\n",
      "Using spSpec-52319-0575-174.fit.gz for BOSSJ1024+0354\n",
      "S/N 13.6391646352 1 / Angstrom\n",
      "7.3050390057 1 / Angstrom\n",
      "Using spSpec-53765-2350-027.fit.gz for BOSSJ1024+2616\n",
      "S/N 7.3050390057 1 / Angstrom\n",
      "No continuum: /u/xavier/Dropbox//QSOPairs/data/LRIS_redux//./SDSSJ102618.81+461445.3_b400_F.fits.gz\n",
      "No spectrum found for APOJ1026+4614 and wvobs=12165.5 Angstrom!\n",
      "17.1254568564 1 / Angstrom\n",
      "Using spSpec-52707-1008-588.fit.gz for BOSSJ1028+5121\n",
      "S/N 17.1254568564 1 / Angstrom\n",
      "13.813522381 1 / Angstrom\n",
      "Using spSpec-52734-1240-271.fit.gz for BOSSJ1034+0856\n",
      "S/N 13.813522381 1 / Angstrom\n",
      "11.8545196658 1 / Angstrom\n",
      "Using spSpec-52354-0875-478.fit.gz for BOSSJ1036+5012\n",
      "S/N 11.8545196658 1 / Angstrom\n",
      "No spectrum found for BOSSJ1039+5026 and wvobs=11555.2 Angstrom!\n",
      "No spectrum found for APOJ1041+1957 and wvobs=7959.85 Angstrom!\n",
      "6.91494195089 1 / Angstrom\n",
      "Using spSpec-51930-0489-120.fit.gz for BOSSJ1042+6459\n",
      "S/N 6.91494195089 1 / Angstrom\n",
      "12.8323516154 1 / Angstrom\n",
      "BOSSJ1044+3139 does not survive atmosphere cut\n",
      "No spectrum found for BOSSJ1044+3139 and wvobs=7568.47 Angstrom!\n",
      "7.28479416863 1 / Angstrom\n",
      "Using /u/xavier/Dropbox//QSOPairs/data/BOSS/v5_5_0/SDSSJ104508.88+435118.2.fits for APOJ1045+4351\n",
      "S/N 7.28479416863 1 / Angstrom\n",
      "9.16668345287 1 / Angstrom\n",
      "Using spSpec-53491-2147-459.fit.gz for BOSSJ1045+1000\n",
      "S/N 9.16668345287 1 / Angstrom\n",
      "10.0798276031 1 / Angstrom\n",
      "Using spSpec-52373-0907-431.fit.gz for BOSSJ1052+5553\n",
      "S/N 10.0798276031 1 / Angstrom\n",
      "11.3091106288 1 / Angstrom\n",
      "BOSSJ1059+6255 does not survive atmosphere cut\n",
      "No spectrum found for BOSSJ1059+6255 and wvobs=7671.11 Angstrom!\n",
      "13.2843961659 1 / Angstrom\n",
      "Using spSpec-53054-1438-399.fit.gz for BOSSJ1106+4635\n",
      "S/N 13.2843961659 1 / Angstrom\n",
      "12.0794026558 1 / Angstrom\n",
      "Using spSpec-53786-2107-200.fit.gz for BOSSJ1113+3305\n",
      "S/N 12.0794026558 1 / Angstrom\n",
      "5.58550777033 1 / Angstrom\n",
      "Using spSpec-53433-1980-586.fit.gz for BOSSJ1118+4025\n",
      "S/N 5.58550777033 1 / Angstrom\n",
      "13.7317154508 1 / Angstrom\n",
      "No continuum: J113651.5-002836a.fits.gz\n",
      "Using spSpec-51658-0282-153.fit.gz for BOSSJ1136-0029\n",
      "S/N 13.7317154508 1 / Angstrom\n",
      "16.4707872717 1 / Angstrom\n",
      "Using spSpec-52059-0597-055.fit.gz for BOSSJ1138+6329\n",
      "S/N 16.4707872717 1 / Angstrom\n",
      "15.1679723269 1 / Angstrom\n",
      "BOSSJ1140+2709 does not survive atmosphere cut\n",
      "No spectrum found for BOSSJ1140+2709 and wvobs=7602.13 Angstrom!\n",
      "24.3132100735 1 / Angstrom\n",
      "No continuum: /u/xavier/Dropbox//QSOPairs/data/LRIS_redux//./SDSSJ114146.19+072411.0_b400_F.fits.gz\n",
      "Using /u/xavier/Dropbox//QSOPairs/data/XSHOOTER_redux//./SDSSJ114146.19+072411.0_F.fits.gz for APOJ1141+0724\n",
      "S/N 24.3132100735 1 / Angstrom\n",
      "43.1195277553 1 / Angstrom\n",
      "BOSSJ1142+2822 does not survive atmosphere cut\n",
      "No spectrum found for BOSSJ1142+2822 and wvobs=7549.73 Angstrom!\n",
      "14.376807344 1 / Angstrom\n",
      "Using spSpec-53138-1608-215.fit.gz for BOSSJ1142+1128\n",
      "S/N 14.376807344 1 / Angstrom\n",
      "No spectrum found for BOSSJ1144+0959 and wvobs=11110.2 Angstrom!\n",
      "No spectrum found for BOSSJ1145+0322 and wvobs=7732.53 Angstrom!\n",
      "15.9260910989 1 / Angstrom\n",
      "BOSSJ1150+5802 does not survive atmosphere cut\n",
      "No spectrum found for BOSSJ1150+5802 and wvobs=7666.46 Angstrom!\n",
      "7.51030542447 1 / Angstrom\n",
      "Using spSpec-53463-1763-345.fit.gz for BOSSJ1152+1507\n",
      "S/N 7.51030542447 1 / Angstrom\n",
      "17.8327479033 1 / Angstrom\n",
      "Using spSpec-53401-1976-296.fit.gz for BOSSJ1155+3934\n",
      "S/N 17.8327479033 1 / Angstrom\n",
      "8.93072349423 1 / Angstrom\n",
      "BOSSJ1159+1433 does not survive atmosphere cut\n",
      "No spectrum found for BOSSJ1159+1433 and wvobs=7578.52 Angstrom!\n",
      "11.2443199141 1 / Angstrom\n",
      "No continuum: J120030.3+012917a.fits.gz\n",
      "Using spSpec-52017-0516-208.fit.gz for BOSSJ1200+0129\n",
      "S/N 11.2443199141 1 / Angstrom\n",
      "19.1379270256 1 / Angstrom\n",
      "Using spSpec-53089-1623-463.fit.gz for BOSSJ1202+0747\n",
      "S/N 19.1379270256 1 / Angstrom\n",
      "27.8416471884 1 / Angstrom\n",
      "Using /u/xavier/Dropbox//QSOPairs/data/MAGE_redux//./SDSSJ120417.47+022104.7_F.fits.gz for BOSSJ1204+0221\n",
      "S/N 27.8416471884 1 / Angstrom\n",
      "16.5682368888 1 / Angstrom\n",
      "Using /u/xavier/Dropbox//QSOPairs/data/MAGE_redux//./SDSSJ120856.94+073741.2_F.fits.gz for APOJ1208+0737\n",
      "S/N 16.5682368888 1 / Angstrom\n",
      "10.278113304 1 / Angstrom\n",
      "Using spSpec-53737-2004-488.fit.gz for BOSSJ1212+3240\n",
      "S/N 10.278113304 1 / Angstrom\n",
      "8.00860156123 1 / Angstrom\n",
      "Using spSpec-53116-1449-040.fit.gz for BOSSJ1213+4719\n",
      "S/N 8.00860156123 1 / Angstrom\n",
      "No continuum: /u/xavier/Dropbox//QSOPairs/data/LRIS_redux//./SDSSJ121559.00+571616.6_b1200_F.fits.gz\n",
      "No spectrum found for BOSSJ1215+5715 and wvobs=8192.7 Angstrom!\n",
      "6.4065035669 1 / Angstrom\n",
      "Using spSpec-52790-1316-278.fit.gz for BOSSJ1225+5709\n",
      "S/N 6.4065035669 1 / Angstrom\n",
      "42.1354323433 1 / Angstrom\n",
      "Using /u/xavier/Dropbox//QSOPairs/data/XSHOOTER_redux//./SDSSJ123143.09+002846.2_F.fits.gz for BOSSJ1231+0029\n",
      "S/N 42.1354323433 1 / Angstrom\n",
      "2.84184162416 1 / Angstrom\n",
      "No spectrum found for BOSSJ1239+3955 and wvobs=7946.36 Angstrom!\n",
      "5.2262071024 1 / Angstrom\n",
      "No spectrum found for BOSSJ1242+5331 and wvobs=7598.53 Angstrom!\n",
      "2.6453858104 1 / Angstrom\n",
      "No spectrum found for BOSSJ1244+3916 and wvobs=8381.62 Angstrom!\n",
      "3.35207728292 1 / Angstrom\n",
      "No spectrum found for BOSSJ1244+3208 and wvobs=8363.89 Angstrom!\n",
      "4.91191135864 1 / Angstrom\n",
      "No spectrum found for BOSSJ1245+5922 and wvobs=8153.23 Angstrom!\n",
      "13.5907038432 1 / Angstrom\n",
      "Using spSpec-54485-2648-563.fit.gz for BOSSJ1246+2345\n",
      "S/N 13.5907038432 1 / Angstrom\n",
      "11.136307423 1 / Angstrom\n",
      "Using spSpec-53431-1985-528.fit.gz for BOSSJ1248+4058\n",
      "S/N 11.136307423 1 / Angstrom\n",
      "9.57885569164 1 / Angstrom\n",
      "Using spSpec-52320-0782-411.fit.gz for BOSSJ1253+6327\n",
      "S/N 9.57885569164 1 / Angstrom\n",
      "14.7745170816 1 / Angstrom\n",
      "Using spSpec-54212-2649-507.fit.gz for BOSSJ1255+2234\n",
      "S/N 14.7745170816 1 / Angstrom\n",
      "26.7847746147 1 / Angstrom\n",
      "8.98813566518 1 / Angstrom\n",
      "Using spec-6665-56390-0158.fits.gz for SDSSJ1301+4759\n",
      "S/N 26.7847746147 1 / Angstrom\n",
      "1.16798195951 1 / Angstrom\n",
      "No spectrum found for APOJ1306+6158 and wvobs=8693.68 Angstrom!\n",
      "9.93840229738 1 / Angstrom\n",
      "Using spSpec-53142-1697-305.fit.gz for BOSSJ1310+1134\n",
      "S/N 9.93840229738 1 / Angstrom\n",
      "17.3811474404 1 / Angstrom\n",
      "BOSSJ1319+2138 does not survive atmosphere cut\n",
      "No spectrum found for BOSSJ1319+2138 and wvobs=7723.47 Angstrom!\n",
      "10.9326811939 1 / Angstrom\n",
      "Using spSpec-52722-1040-635.fit.gz for BOSSJ1325+5409\n",
      "S/N 10.9326811939 1 / Angstrom\n",
      "No spectrum found for APOJ1327+3423 and wvobs=7406.07 Angstrom!\n",
      "7.74419434331 1 / Angstrom\n",
      "Using spSpec-52792-1344-172.fit.gz for BOSSJ1335+4330\n",
      "S/N 7.74419434331 1 / Angstrom\n",
      "11.0025779683 1 / Angstrom\n",
      "Using spSpec-54507-2755-366.fit.gz for BOSSJ1346+1952\n",
      "S/N 11.0025779683 1 / Angstrom\n",
      "No spectrum found for BOSSJ1356+6133 and wvobs=8454.59 Angstrom!\n",
      "No continuum: /u/xavier/Dropbox//QSOPairs/data/LRIS_redux//./SDSSJ135849.72+273806.9_b1200_F.fits.gz\n",
      "No spectrum found for APOJ1358+2737 and wvobs=8108.32 Angstrom!\n",
      "No continuum: /u/xavier/Dropbox//QSOPairs/data/LRIS_redux//./SDSSJ140208.10+470111.1_b1200_F.fits.gz\n",
      "No spectrum found for BOSSJ1402+4701 and wvobs=8153.94 Angstrom!\n",
      "6.33697003205 1 / Angstrom\n",
      "Using spSpec-53446-1671-001.fit.gz for BOSSJ1410+4804\n",
      "S/N 6.33697003205 1 / Angstrom\n",
      "No spectrum found for SDSSJ1413+2715 and wvobs=7520.27 Angstrom!\n"
     ]
    },
    {
     "ename": "TypeError",
     "evalue": "'NoneType' object has no attribute '__getitem__'",
     "output_type": "error",
     "traceback": [
      "\u001b[0;31m---------------------------------------------------------------------------\u001b[0m",
      "\u001b[0;31mTypeError\u001b[0m                                 Traceback (most recent call last)",
      "\u001b[0;32m<ipython-input-44-116fc4689cab>\u001b[0m in \u001b[0;36m<module>\u001b[0;34m()\u001b[0m\n\u001b[1;32m      1\u001b[0m \u001b[0mreload\u001b[0m\u001b[0;34m(\u001b[0m\u001b[0mqpq9k\u001b[0m\u001b[0;34m)\u001b[0m\u001b[0;34m\u001b[0m\u001b[0m\n\u001b[0;32m----> 2\u001b[0;31m \u001b[0mqpq9k\u001b[0m\u001b[0;34m.\u001b[0m\u001b[0mplt_qpq9\u001b[0m\u001b[0;34m(\u001b[0m\u001b[0mwrest\u001b[0m\u001b[0;34m=\u001b[0m\u001b[0;36m2796.354\u001b[0m\u001b[0;34m*\u001b[0m\u001b[0mu\u001b[0m\u001b[0;34m.\u001b[0m\u001b[0mAA\u001b[0m\u001b[0;34m,\u001b[0m\u001b[0mS2N_cut\u001b[0m\u001b[0;34m=\u001b[0m\u001b[0;36m5.5\u001b[0m\u001b[0;34m/\u001b[0m\u001b[0mu\u001b[0m\u001b[0;34m.\u001b[0m\u001b[0mAA\u001b[0m\u001b[0;34m,\u001b[0m\u001b[0mstack_fg\u001b[0m\u001b[0;34m=\u001b[0m\u001b[0mTrue\u001b[0m\u001b[0;34m,\u001b[0m\u001b[0mzfg_mnx\u001b[0m\u001b[0;34m=\u001b[0m\u001b[0;34m(\u001b[0m\u001b[0;36m1.6\u001b[0m\u001b[0;34m,\u001b[0m\u001b[0;36m9999\u001b[0m\u001b[0;34m)\u001b[0m\u001b[0;34m)\u001b[0m\u001b[0;34m\u001b[0m\u001b[0m\n\u001b[0m",
      "\u001b[0;32m/Users/lwymarie/Dropbox/Marie_Enrico/papers/QPQ9/Analysis/Stacks/py/qpq9_stacks.pyc\u001b[0m in \u001b[0;36mplt_qpq9\u001b[0;34m(stack_tup, wrest, S2N_cut, atmosphere_cut, stack_fg, zfg_mnx, plot_indiv)\u001b[0m\n\u001b[1;32m     87\u001b[0m                                 \u001b[0mstack_fg\u001b[0m\u001b[0;34m=\u001b[0m\u001b[0mstack_fg\u001b[0m\u001b[0;34m,\u001b[0m\u001b[0mzfg_mnx\u001b[0m\u001b[0;34m=\u001b[0m\u001b[0mzfg_mnx\u001b[0m\u001b[0;34m,\u001b[0m\u001b[0;34m\u001b[0m\u001b[0m\n\u001b[1;32m     88\u001b[0m                                 \u001b[0mplot_indiv\u001b[0m\u001b[0;34m=\u001b[0m\u001b[0mplot_indiv\u001b[0m\u001b[0;34m,\u001b[0m\u001b[0;34m\u001b[0m\u001b[0m\n\u001b[0;32m---> 89\u001b[0;31m                                 passback=True)\n\u001b[0m\u001b[1;32m     90\u001b[0m     \u001b[0mfin_velo\u001b[0m\u001b[0;34m,\u001b[0m \u001b[0mstck_img\u001b[0m\u001b[0;34m,\u001b[0m \u001b[0mstck_msk\u001b[0m\u001b[0;34m,\u001b[0m \u001b[0mall_dict\u001b[0m \u001b[0;34m=\u001b[0m \u001b[0mstack_tup\u001b[0m\u001b[0;34m\u001b[0m\u001b[0m\n\u001b[1;32m     91\u001b[0m \u001b[0;34m\u001b[0m\u001b[0m\n",
      "\u001b[0;32m/Users/lwymarie/Dropbox/Marie_Enrico/papers/QPQ9/Analysis/Stacks/py/qpq9_stacks.pyc\u001b[0m in \u001b[0;36mqpq9_IRMgII\u001b[0;34m(wrest, outfil, nboot, vmnx, vsig_cut, zfg_mnx, S2N_cut, atmosphere_cut, stack_fg, plot_indiv, stack_tup, passback, debug)\u001b[0m\n\u001b[1;32m     54\u001b[0m         stack_tup = qpqk.load_stack_img(qpq9.data,wrest,vmnx=vmnx,spec_dv=100.*u.km/u.s,high_res=0,\n\u001b[1;32m     55\u001b[0m                                         \u001b[0mS2N_cut\u001b[0m\u001b[0;34m=\u001b[0m\u001b[0mS2N_cut\u001b[0m\u001b[0;34m,\u001b[0m\u001b[0matmosphere_cut\u001b[0m\u001b[0;34m=\u001b[0m\u001b[0matmosphere_cut\u001b[0m\u001b[0;34m,\u001b[0m\u001b[0;34m\u001b[0m\u001b[0m\n\u001b[0;32m---> 56\u001b[0;31m                                         stack_fg=stack_fg,plot_indiv=plot_indiv)\n\u001b[0m\u001b[1;32m     57\u001b[0m         \u001b[0;32mif\u001b[0m \u001b[0mpassback\u001b[0m\u001b[0;34m:\u001b[0m\u001b[0;34m\u001b[0m\u001b[0m\n\u001b[1;32m     58\u001b[0m             \u001b[0;32mreturn\u001b[0m \u001b[0mstack_tup\u001b[0m\u001b[0;34m\u001b[0m\u001b[0m\n",
      "\u001b[0;32m/Users/lwymarie/python/enigma/enigma/qpq/stacks.pyc\u001b[0m in \u001b[0;36mload_stack_img\u001b[0;34m(qpqS, wrest, vmnx, spec_dv, debug, high_res, S2N_cut, atmosphere_cut, stack_sig, chk_conti, stack_fg, plot_indiv)\u001b[0m\n\u001b[1;32m     89\u001b[0m                                         \u001b[0mradec\u001b[0m\u001b[0;34m=\u001b[0m\u001b[0;34m(\u001b[0m\u001b[0mqpq\u001b[0m\u001b[0;34m[\u001b[0m\u001b[0;34m'FG_RA'\u001b[0m\u001b[0;34m]\u001b[0m\u001b[0;34m,\u001b[0m\u001b[0mqpq\u001b[0m\u001b[0;34m[\u001b[0m\u001b[0;34m'FG_DEC'\u001b[0m\u001b[0;34m]\u001b[0m\u001b[0;34m)\u001b[0m\u001b[0;34m,\u001b[0m\u001b[0;34m\u001b[0m\u001b[0m\n\u001b[1;32m     90\u001b[0m                                         \u001b[0mhigh_res\u001b[0m\u001b[0;34m=\u001b[0m\u001b[0mhigh_res\u001b[0m\u001b[0;34m,\u001b[0m\u001b[0mS2N_cut\u001b[0m\u001b[0;34m=\u001b[0m\u001b[0mS2N_cut\u001b[0m\u001b[0;34m,\u001b[0m\u001b[0;34m\u001b[0m\u001b[0m\n\u001b[0;32m---> 91\u001b[0;31m                                         atmosphere_cut=atmosphere_cut)\n\u001b[0m\u001b[1;32m     92\u001b[0m         \u001b[0;32melse\u001b[0m\u001b[0;34m:\u001b[0m\u001b[0;34m\u001b[0m\u001b[0m\n\u001b[1;32m     93\u001b[0m             spec_dict = qpqs.spec_wvobs(qpq['NAME'],wvobs,zfg,\n",
      "\u001b[0;32m/Users/lwymarie/python/enigma/enigma/qpq/spec.pyc\u001b[0m in \u001b[0;36mspec_wvobs\u001b[0;34m(bgqso, wvobs, zfg, verbose, high_res, vmnx, radec, normalize, S2N_cut, atmosphere_cut)\u001b[0m\n\u001b[1;32m    149\u001b[0m                                                      'UVES_Dall','UVpSM4','MUSoDLA'],\n\u001b[1;32m    150\u001b[0m                                              verbose=False)\n\u001b[0;32m--> 151\u001b[0;31m     \u001b[0;32mif\u001b[0m \u001b[0;34m'080948.22+453929.0'\u001b[0m \u001b[0;32min\u001b[0m \u001b[0mmetas\u001b[0m\u001b[0;34m[\u001b[0m\u001b[0;36m0\u001b[0m\u001b[0;34m]\u001b[0m\u001b[0;34m[\u001b[0m\u001b[0;34m'SPEC_FILE'\u001b[0m\u001b[0;34m]\u001b[0m\u001b[0;34m[\u001b[0m\u001b[0;36m0\u001b[0m\u001b[0;34m]\u001b[0m\u001b[0;34m:\u001b[0m \u001b[0;31m# Kludge for J0809+4539, get v5_7_0\u001b[0m\u001b[0;34m\u001b[0m\u001b[0m\n\u001b[0m\u001b[1;32m    152\u001b[0m         \u001b[0migmsp\u001b[0m \u001b[0;34m=\u001b[0m \u001b[0mIgmSpec\u001b[0m\u001b[0;34m(\u001b[0m\u001b[0mverbose\u001b[0m\u001b[0;34m=\u001b[0m\u001b[0mFalse\u001b[0m\u001b[0;34m)\u001b[0m\u001b[0;34m\u001b[0m\u001b[0m\n\u001b[1;32m    153\u001b[0m         \u001b[0;31m# Skip 2QZ survey\u001b[0m\u001b[0;34m\u001b[0m\u001b[0;34m\u001b[0m\u001b[0m\n",
      "\u001b[0;31mTypeError\u001b[0m: 'NoneType' object has no attribute '__getitem__'"
     ]
    }
   ],
   "source": [
    "reload(qpq9k)\n",
    "qpq9k.plt_qpq9(wrest=2796.354*u.AA,S2N_cut=5.5/u.AA,stack_fg=True,zfg_mnx=(1.6,9999))"
   ]
  },
  {
   "cell_type": "markdown",
   "metadata": {},
   "source": [
    "# Split in two bins of g_UV"
   ]
  },
  {
   "cell_type": "markdown",
   "metadata": {},
   "source": [
    "## MgII redshift stack"
   ]
  },
  {
   "cell_type": "code",
   "execution_count": null,
   "metadata": {
    "collapsed": false
   },
   "outputs": [],
   "source": [
    "# Load QPQ9 data structure\n",
    "enigma_path = imp.find_module('enigma')[1]\n",
    "QPQ9 = xxf.bintab_to_table(enigma_path+'/data/qpq/qpq9_final.fits')\n",
    "c_QPQ9 = SkyCoord(QPQ9['FG_RA']*u.deg,QPQ9['FG_DEC']*u.deg)\n",
    "# Find median g_UV\n",
    "stack_tup0 = qpq9k.qpq9_IRMgII(passback=True,wrest=2796.354*u.AA,S2N_cut=5.5/u.AA,zfg_mnx=(1.6,9999))\n",
    "fin_velo, stck_img, stck_msk, all_dict = stack_tup0\n",
    "sv_gUV = []\n",
    "for idict in all_dict:\n",
    "    if idict == None:\n",
    "        continue\n",
    "    c_stacked = SkyCoord(idict['qpq']['FG_RA']*u.deg,idict['qpq']['FG_DEC']*u.deg)\n",
    "    sv_gUV.append(QPQ9[np.where(c_stacked.separation(c_QPQ9) < 0.5*u.arcsec)[0]]['G_UV'][0])\n",
    "med_gUV = np.median(sv_gUV)"
   ]
  },
  {
   "cell_type": "code",
   "execution_count": null,
   "metadata": {
    "collapsed": false
   },
   "outputs": [],
   "source": [
    "# Mask spectra of gUV below median \n",
    "stck_mskN = copy.deepcopy(stck_msk)\n",
    "idx_mask = []\n",
    "for ii,idict in enumerate(all_dict):\n",
    "    if idict is None:\n",
    "        continue\n",
    "    if 'J0822+1319' in idict['qpq']['NAME']: \n",
    "        idx_mask.append(ii) \n",
    "    c_stacked = SkyCoord(idict['qpq']['FG_RA']*u.deg,idict['qpq']['FG_DEC']*u.deg)\n",
    "    gUV = QPQ9[np.where(c_stacked.separation(c_QPQ9) < 0.5*u.arcsec)[0]]['G_UV'][0]\n",
    "    if gUV <= med_gUV:\n",
    "        idx_mask.append(ii)\n",
    "for idx in idx_mask:\n",
    "    stck_mskN[idx,:] = 0.\n",
    "stack_tup = (fin_velo, stck_img, stck_mskN, all_dict)\n",
    "fin_velo, fin_flx, all_dict = qpqk.stack_avg(stack_tup)\n",
    "plt.figure(figsize=(8,5),dpi=1200)\n",
    "plt.plot(fin_velo, fin_flx, drawstyle='steps-mid',linewidth=2.)\n",
    "plt.xlabel('Relative Velocity', size=12.)\n",
    "plt.show()"
   ]
  },
  {
   "cell_type": "code",
   "execution_count": null,
   "metadata": {
    "collapsed": false
   },
   "outputs": [],
   "source": [
    "# Mask spectra of gUV above median \n",
    "stck_mskN = copy.deepcopy(stck_msk)\n",
    "idx_mask = []\n",
    "for ii,idict in enumerate(all_dict):\n",
    "    if idict is None:\n",
    "        continue\n",
    "    if 'J0822+1319' in idict['qpq']['NAME']: \n",
    "        idx_mask.append(ii) \n",
    "    c_stacked = SkyCoord(idict['qpq']['FG_RA']*u.deg,idict['qpq']['FG_DEC']*u.deg)\n",
    "    gUV = QPQ9[np.where(c_stacked.separation(c_QPQ9) < 0.5*u.arcsec)[0]]['G_UV'][0]\n",
    "    if gUV >= med_gUV:\n",
    "        idx_mask.append(ii)\n",
    "for idx in idx_mask:\n",
    "    stck_mskN[idx,:] = 0.\n",
    "stack_tup = (fin_velo, stck_img, stck_mskN, all_dict)\n",
    "fin_velo, fin_flx, all_dict = qpqk.stack_avg(stack_tup)\n",
    "plt.figure(figsize=(8,5),dpi=1200)\n",
    "plt.plot(fin_velo, fin_flx, drawstyle='steps-mid',linewidth=2.)\n",
    "plt.xlabel('Relative Velocity', size=12.)\n",
    "plt.show()"
   ]
  },
  {
   "cell_type": "markdown",
   "metadata": {},
   "source": [
    "## [OIII] redshift stack"
   ]
  },
  {
   "cell_type": "code",
   "execution_count": null,
   "metadata": {
    "collapsed": false
   },
   "outputs": [],
   "source": [
    "# Find median g_UV\n",
    "stack_tup0 = qpq9k.qpq9_IRMgII(passback=True,wrest=2796.354*u.AA,vsig_cut=50*u.km/u.s,S2N_cut=5.5/u.AA,zfg_mnx=(1.6,9999))\n",
    "fin_velo, stck_img, stck_msk, all_dict = stack_tup0\n",
    "sv_gUV = []\n",
    "for idict in all_dict:\n",
    "    if idict == None:\n",
    "        continue\n",
    "    c_stacked = SkyCoord(idict['qpq']['FG_RA']*u.deg,idict['qpq']['FG_DEC']*u.deg)\n",
    "    sv_gUV.append(QPQ9[np.where(c_stacked.separation(c_QPQ9) < 0.5*u.arcsec)[0]]['G_UV'][0])\n",
    "med_gUV = np.median(sv_gUV)"
   ]
  },
  {
   "cell_type": "code",
   "execution_count": null,
   "metadata": {
    "collapsed": false
   },
   "outputs": [],
   "source": [
    "# Mask spectra of gUV below median \n",
    "stck_mskN = copy.deepcopy(stck_msk)\n",
    "idx_mask = []\n",
    "for ii,idict in enumerate(all_dict):\n",
    "    if idict is None:\n",
    "        continue\n",
    "    if 'J0822+1319' in idict['qpq']['NAME']: \n",
    "        idx_mask.append(ii) \n",
    "    c_stacked = SkyCoord(idict['qpq']['FG_RA']*u.deg,idict['qpq']['FG_DEC']*u.deg)\n",
    "    gUV = QPQ9[np.where(c_stacked.separation(c_QPQ9) < 0.5*u.arcsec)[0]]['G_UV'][0]\n",
    "    if gUV <= med_gUV:\n",
    "        idx_mask.append(ii)\n",
    "for idx in idx_mask:\n",
    "    stck_mskN[idx,:] = 0.\n",
    "stack_tup = (fin_velo, stck_img, stck_mskN, all_dict)\n",
    "fin_velo, fin_flx, all_dict = qpqk.stack_avg(stack_tup)\n",
    "plt.figure(figsize=(8,5),dpi=1200)\n",
    "plt.plot(fin_velo, fin_flx, drawstyle='steps-mid',linewidth=2.)\n",
    "plt.xlabel('Relative Velocity', size=12.)\n",
    "plt.show()"
   ]
  },
  {
   "cell_type": "code",
   "execution_count": null,
   "metadata": {
    "collapsed": false
   },
   "outputs": [],
   "source": [
    "# Mask spectra of gUV above median \n",
    "stck_mskN = copy.deepcopy(stck_msk)\n",
    "idx_mask = []\n",
    "for ii,idict in enumerate(all_dict):\n",
    "    if idict is None:\n",
    "        continue\n",
    "    if 'J0822+1319' in idict['qpq']['NAME']: \n",
    "        idx_mask.append(ii) \n",
    "    c_stacked = SkyCoord(idict['qpq']['FG_RA']*u.deg,idict['qpq']['FG_DEC']*u.deg)\n",
    "    gUV = QPQ9[np.where(c_stacked.separation(c_QPQ9) < 0.5*u.arcsec)[0]]['G_UV'][0]\n",
    "    if gUV >= med_gUV:\n",
    "        idx_mask.append(ii)\n",
    "for idx in idx_mask:\n",
    "    stck_mskN[idx,:] = 0.\n",
    "stack_tup = (fin_velo, stck_img, stck_mskN, all_dict)\n",
    "fin_velo, fin_flx, all_dict = qpqk.stack_avg(stack_tup)\n",
    "plt.figure(figsize=(8,5),dpi=1200)\n",
    "plt.plot(fin_velo, fin_flx, drawstyle='steps-mid',linewidth=2.)\n",
    "plt.xlabel('Relative Velocity', size=12.)\n",
    "plt.show()"
   ]
  },
  {
   "cell_type": "markdown",
   "metadata": {},
   "source": [
    "# Split in two bins of R_phys"
   ]
  },
  {
   "cell_type": "markdown",
   "metadata": {},
   "source": [
    "## MgII redshift stack "
   ]
  },
  {
   "cell_type": "code",
   "execution_count": null,
   "metadata": {
    "collapsed": false
   },
   "outputs": [],
   "source": [
    "# Find median R_phys\n",
    "stack_tup0 = qpq9k.qpq9_IRMgII(passback=True,wrest=2796.354*u.AA,S2N_cut=5.5/u.AA,zfg_mnx=(1.6,9999))\n",
    "fin_velo, stck_img, stck_msk, all_dict = stack_tup0\n",
    "sv_Rphys = []\n",
    "for idict in all_dict:\n",
    "    if idict == None:\n",
    "        continue\n",
    "    c_stacked = SkyCoord(idict['qpq']['FG_RA']*u.deg,idict['qpq']['FG_DEC']*u.deg)\n",
    "    sv_Rphys.append(QPQ9[np.where(c_stacked.separation(c_QPQ9) < 0.5*u.arcsec)[0]]['R_PHYS'][0])\n",
    "med_Rphys = np.median(sv_Rphys)"
   ]
  },
  {
   "cell_type": "code",
   "execution_count": null,
   "metadata": {
    "collapsed": false
   },
   "outputs": [],
   "source": [
    "# Mask spectra of R_phys below median \n",
    "stck_mskN = copy.deepcopy(stck_msk)\n",
    "idx_mask = []\n",
    "for ii,idict in enumerate(all_dict):\n",
    "    if idict is None:\n",
    "        continue\n",
    "    if 'J0822+1319' in idict['qpq']['NAME']: \n",
    "        idx_mask.append(ii) \n",
    "    c_stacked = SkyCoord(idict['qpq']['FG_RA']*u.deg,idict['qpq']['FG_DEC']*u.deg)\n",
    "    R_phys = QPQ9[np.where(c_stacked.separation(c_QPQ9) < 0.5*u.arcsec)[0]]['R_PHYS'][0]\n",
    "    if R_phys <= med_Rphys:\n",
    "        idx_mask.append(ii)\n",
    "for idx in idx_mask:\n",
    "    stck_mskN[idx,:] = 0.\n",
    "stack_tup = (fin_velo, stck_img, stck_mskN, all_dict)\n",
    "fin_velo, fin_flx, all_dict = qpqk.stack_avg(stack_tup)\n",
    "plt.figure(figsize=(8,5),dpi=1200)\n",
    "plt.plot(fin_velo, fin_flx, drawstyle='steps-mid',linewidth=2.)\n",
    "plt.xlabel('Relative Velocity', size=12.)\n",
    "plt.show()"
   ]
  },
  {
   "cell_type": "code",
   "execution_count": null,
   "metadata": {
    "collapsed": false
   },
   "outputs": [],
   "source": [
    "# Mask spectra of R_phys above median \n",
    "stck_mskN = copy.deepcopy(stck_msk)\n",
    "idx_mask = []\n",
    "for ii,idict in enumerate(all_dict):\n",
    "    if idict is None:\n",
    "        continue\n",
    "    if 'J0822+1319' in idict['qpq']['NAME']: \n",
    "        idx_mask.append(ii) \n",
    "    c_stacked = SkyCoord(idict['qpq']['FG_RA']*u.deg,idict['qpq']['FG_DEC']*u.deg)\n",
    "    R_phys = QPQ9[np.where(c_stacked.separation(c_QPQ9) < 0.5*u.arcsec)[0]]['R_PHYS'][0]\n",
    "    if R_phys >= med_Rphys:\n",
    "        idx_mask.append(ii)\n",
    "for idx in idx_mask:\n",
    "    stck_mskN[idx,:] = 0.\n",
    "stack_tup = (fin_velo, stck_img, stck_mskN, all_dict)\n",
    "fin_velo, fin_flx, all_dict = qpqk.stack_avg(stack_tup)\n",
    "plt.figure(figsize=(8,5),dpi=1200)\n",
    "plt.plot(fin_velo, fin_flx, drawstyle='steps-mid',linewidth=2.)\n",
    "plt.xlabel('Relative Velocity', size=12.)\n",
    "plt.show()"
   ]
  },
  {
   "cell_type": "markdown",
   "metadata": {},
   "source": [
    "## [OIII] redshift stack"
   ]
  },
  {
   "cell_type": "code",
   "execution_count": null,
   "metadata": {
    "collapsed": false
   },
   "outputs": [],
   "source": [
    "# Find median R_phys\n",
    "stack_tup0 = qpq9k.qpq9_IRMgII(passback=True,wrest=2796.354*u.AA,vsig_cut=50*u.km/u.s,S2N_cut=5.5/u.AA,zfg_mnx=(1.6,9999))\n",
    "fin_velo, stck_img, stck_msk, all_dict = stack_tup0\n",
    "sv_Rphys = []\n",
    "for idict in all_dict:\n",
    "    if idict == None:\n",
    "        continue\n",
    "    c_stacked = SkyCoord(idict['qpq']['FG_RA']*u.deg,idict['qpq']['FG_DEC']*u.deg)\n",
    "    sv_Rphys.append(QPQ9[np.where(c_stacked.separation(c_QPQ9) < 0.5*u.arcsec)[0]]['R_PHYS'][0])\n",
    "med_Rphys = np.median(sv_Rphys)"
   ]
  },
  {
   "cell_type": "code",
   "execution_count": null,
   "metadata": {
    "collapsed": false
   },
   "outputs": [],
   "source": [
    "# Mask spectra of R_phys below median \n",
    "stck_mskN = copy.deepcopy(stck_msk)\n",
    "idx_mask = []\n",
    "for ii,idict in enumerate(all_dict):\n",
    "    if idict is None:\n",
    "        continue\n",
    "    if 'J0822+1319' in idict['qpq']['NAME']: \n",
    "        idx_mask.append(ii) \n",
    "    c_stacked = SkyCoord(idict['qpq']['FG_RA']*u.deg,idict['qpq']['FG_DEC']*u.deg)\n",
    "    R_phys = QPQ9[np.where(c_stacked.separation(c_QPQ9) < 0.5*u.arcsec)[0]]['R_PHYS'][0]\n",
    "    if R_phys <= med_Rphys:\n",
    "        idx_mask.append(ii)\n",
    "for idx in idx_mask:\n",
    "    stck_mskN[idx,:] = 0.\n",
    "stack_tup = (fin_velo, stck_img, stck_mskN, all_dict)\n",
    "fin_velo, fin_flx, all_dict = qpqk.stack_avg(stack_tup)\n",
    "plt.figure(figsize=(8,5),dpi=1200)\n",
    "plt.plot(fin_velo, fin_flx, drawstyle='steps-mid',linewidth=2.)\n",
    "plt.xlabel('Relative Velocity', size=12.)\n",
    "plt.show()"
   ]
  },
  {
   "cell_type": "code",
   "execution_count": null,
   "metadata": {
    "collapsed": false
   },
   "outputs": [],
   "source": [
    "# Mask spectra of R_phys above median \n",
    "stck_mskN = copy.deepcopy(stck_msk)\n",
    "idx_mask = []\n",
    "for ii,idict in enumerate(all_dict):\n",
    "    if idict is None:\n",
    "        continue\n",
    "    if 'J0822+1319' in idict['qpq']['NAME']: \n",
    "        idx_mask.append(ii) \n",
    "    c_stacked = SkyCoord(idict['qpq']['FG_RA']*u.deg,idict['qpq']['FG_DEC']*u.deg)\n",
    "    R_phys = QPQ9[np.where(c_stacked.separation(c_QPQ9) < 0.5*u.arcsec)[0]]['R_PHYS'][0]\n",
    "    if R_phys >= med_Rphys:\n",
    "        idx_mask.append(ii)\n",
    "for idx in idx_mask:\n",
    "    stck_mskN[idx,:] = 0.\n",
    "stack_tup = (fin_velo, stck_img, stck_mskN, all_dict)\n",
    "fin_velo, fin_flx, all_dict = qpqk.stack_avg(stack_tup)\n",
    "plt.figure(figsize=(8,5),dpi=1200)\n",
    "plt.plot(fin_velo, fin_flx, drawstyle='steps-mid',linewidth=2.)\n",
    "plt.xlabel('Relative Velocity', size=12.)\n",
    "plt.show()"
   ]
  },
  {
   "cell_type": "markdown",
   "metadata": {},
   "source": [
    "# Split in two bins of velocity separations "
   ]
  },
  {
   "cell_type": "markdown",
   "metadata": {},
   "source": [
    "## MgII redshift stack "
   ]
  },
  {
   "cell_type": "code",
   "execution_count": null,
   "metadata": {
    "collapsed": false
   },
   "outputs": [],
   "source": [
    "# Find median velocity separation \n",
    "stack_tup0 = qpq9k.qpq9_IRMgII(passback=True,wrest=2796.354*u.AA,S2N_cut=5.5/u.AA,zfg_mnx=(1.6,9999))\n",
    "fin_velo, stck_img, stck_msk, all_dict = stack_tup0\n",
    "sv_dv = []\n",
    "for idict in all_dict:\n",
    "    if idict == None:\n",
    "        continue\n",
    "    sv_dv.append(ltu.v_from_z(idict['qpq']['BG_Z'],idict['qpq']['Z_FG']).value)\n",
    "med_dv = np.median(sv_dv)"
   ]
  },
  {
   "cell_type": "code",
   "execution_count": null,
   "metadata": {
    "collapsed": false
   },
   "outputs": [],
   "source": [
    "# Mask spectra of velocity separation below median \n",
    "stck_mskN = copy.deepcopy(stck_msk)\n",
    "idx_mask = []\n",
    "sv_z = []\n",
    "for ii,idict in enumerate(all_dict):\n",
    "    if idict is None:\n",
    "        continue\n",
    "    if 'J0822+1319' in idict['qpq']['NAME']: \n",
    "        idx_mask.append(ii) \n",
    "    dv = ltu.v_from_z(idict['qpq']['BG_Z'],idict['qpq']['Z_FG']).value\n",
    "    if dv <= med_dv:\n",
    "        idx_mask.append(ii)\n",
    "        sv_z.append(idict['qpq']['Z_FG'])\n",
    "for idx in idx_mask:\n",
    "    stck_mskN[idx,:] = 0.\n",
    "stack_tup = (fin_velo, stck_img, stck_mskN, all_dict)\n",
    "fin_velo, fin_flx, all_dict = qpqk.stack_avg(stack_tup)\n",
    "plt.figure(figsize=(8,5),dpi=1200)\n",
    "plt.plot(fin_velo, fin_flx, drawstyle='steps-mid',linewidth=2.)\n",
    "plt.xlabel('Relative Velocity', size=12.)\n",
    "plt.show()\n",
    "print('median z_fg of this stack =',np.median(sv_z))"
   ]
  },
  {
   "cell_type": "code",
   "execution_count": null,
   "metadata": {
    "collapsed": false
   },
   "outputs": [],
   "source": [
    "# Mask spectra of velocity separation above median \n",
    "stck_mskN = copy.deepcopy(stck_msk)\n",
    "idx_mask = []\n",
    "sv_z = []\n",
    "for ii,idict in enumerate(all_dict):\n",
    "    if idict is None:\n",
    "        continue\n",
    "    if 'J0822+1319' in idict['qpq']['NAME']: \n",
    "        idx_mask.append(ii) \n",
    "    dv = ltu.v_from_z(idict['qpq']['BG_Z'],idict['qpq']['Z_FG']).value\n",
    "    if dv >= med_dv:\n",
    "        idx_mask.append(ii)\n",
    "        sv_z.append(idict['qpq']['Z_FG'])\n",
    "for idx in idx_mask:\n",
    "    stck_mskN[idx,:] = 0.\n",
    "stack_tup = (fin_velo, stck_img, stck_mskN, all_dict)\n",
    "fin_velo, fin_flx, all_dict = qpqk.stack_avg(stack_tup)\n",
    "plt.figure(figsize=(8,5),dpi=1200)\n",
    "plt.plot(fin_velo, fin_flx, drawstyle='steps-mid',linewidth=2.)\n",
    "plt.xlabel('Relative Velocity', size=12.)\n",
    "plt.show()\n",
    "print('median z_fg of this stack =',np.median(sv_z))"
   ]
  },
  {
   "cell_type": "markdown",
   "metadata": {},
   "source": [
    "## [OIII] redshift stack"
   ]
  },
  {
   "cell_type": "code",
   "execution_count": null,
   "metadata": {
    "collapsed": false
   },
   "outputs": [],
   "source": [
    "# Find median velocity separation \n",
    "stack_tup0 = qpq9k.qpq9_IRMgII(passback=True,wrest=2796.354*u.AA,vsig_cut=50*u.km/u.s,S2N_cut=5.5/u.AA,zfg_mnx=(1.6,9999))\n",
    "fin_velo, stck_img, stck_msk, all_dict = stack_tup0\n",
    "sv_dv = []\n",
    "for idict in all_dict:\n",
    "    if idict == None:\n",
    "        continue\n",
    "    sv_dv.append(ltu.v_from_z(idict['qpq']['BG_Z'],idict['qpq']['Z_FG']).value)\n",
    "print(sv_dv)\n",
    "med_dv = np.median(sv_dv)"
   ]
  },
  {
   "cell_type": "code",
   "execution_count": null,
   "metadata": {
    "collapsed": false
   },
   "outputs": [],
   "source": [
    "# Mask spectra of velocity separation below median \n",
    "stck_mskN = copy.deepcopy(stck_msk)\n",
    "idx_mask = []\n",
    "sv_z = []\n",
    "for ii,idict in enumerate(all_dict):\n",
    "    if idict is None:\n",
    "        continue\n",
    "    if 'J0822+1319' in idict['qpq']['NAME']: \n",
    "        idx_mask.append(ii) \n",
    "    dv = ltu.v_from_z(idict['qpq']['BG_Z'],idict['qpq']['Z_FG']).value\n",
    "    if dv <= med_dv:\n",
    "        idx_mask.append(ii)\n",
    "        sv_z.append(idict['qpq']['Z_FG'])\n",
    "for idx in idx_mask:\n",
    "    stck_mskN[idx,:] = 0.\n",
    "stack_tup = (fin_velo, stck_img, stck_mskN, all_dict)\n",
    "fin_velo, fin_flx, all_dict = qpqk.stack_avg(stack_tup)\n",
    "plt.figure(figsize=(8,5),dpi=1200)\n",
    "plt.plot(fin_velo, fin_flx, drawstyle='steps-mid',linewidth=2.)\n",
    "plt.xlabel('Relative Velocity', size=12.)\n",
    "plt.show()\n",
    "print('median z_fg of this stack =',np.median(sv_z))"
   ]
  },
  {
   "cell_type": "code",
   "execution_count": null,
   "metadata": {
    "collapsed": false
   },
   "outputs": [],
   "source": [
    "# Mask spectra of velocity separation above median \n",
    "stck_mskN = copy.deepcopy(stck_msk)\n",
    "idx_mask = []\n",
    "sv_z = []\n",
    "for ii,idict in enumerate(all_dict):\n",
    "    if idict is None:\n",
    "        continue\n",
    "    if 'J0822+1319' in idict['qpq']['NAME']: \n",
    "        idx_mask.append(ii) \n",
    "    dv = ltu.v_from_z(idict['qpq']['BG_Z'],idict['qpq']['Z_FG']).value\n",
    "    if dv >= med_dv:\n",
    "        idx_mask.append(ii)\n",
    "        sv_z.append(idict['qpq']['Z_FG'])\n",
    "for idx in idx_mask:\n",
    "    stck_mskN[idx,:] = 0.\n",
    "stack_tup = (fin_velo, stck_img, stck_mskN, all_dict)\n",
    "fin_velo, fin_flx, all_dict = qpqk.stack_avg(stack_tup)\n",
    "plt.figure(figsize=(8,5),dpi=1200)\n",
    "plt.plot(fin_velo, fin_flx, drawstyle='steps-mid',linewidth=2.)\n",
    "plt.xlabel('Relative Velocity', size=12.)\n",
    "plt.show()\n",
    "print('median z_fg of this stack =',np.median(sv_z))"
   ]
  },
  {
   "cell_type": "code",
   "execution_count": null,
   "metadata": {
    "collapsed": true
   },
   "outputs": [],
   "source": []
  }
 ],
 "metadata": {
  "kernelspec": {
   "display_name": "Python 2",
   "language": "python",
   "name": "python2"
  },
  "language_info": {
   "codemirror_mode": {
    "name": "ipython",
    "version": 2
   },
   "file_extension": ".py",
   "mimetype": "text/x-python",
   "name": "python",
   "nbconvert_exporter": "python",
   "pygments_lexer": "ipython2",
   "version": "2.7.12"
  }
 },
 "nbformat": 4,
 "nbformat_minor": 0
}
