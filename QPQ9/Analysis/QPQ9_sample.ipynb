{
 "cells": [
  {
   "cell_type": "markdown",
   "metadata": {},
   "source": [
    "# QPQ9 Sample"
   ]
  },
  {
   "cell_type": "code",
   "execution_count": 1,
   "metadata": {
    "collapsed": true
   },
   "outputs": [],
   "source": [
    "%matplotlib inline"
   ]
  },
  {
   "cell_type": "code",
   "execution_count": 2,
   "metadata": {
    "collapsed": true
   },
   "outputs": [],
   "source": [
    "# imports\n",
    "from scipy.io import readsav as scirs\n",
    "import copy, os, glob, imp\n",
    "import numpy as np\n",
    "\n",
    "from astropy.coordinates import SkyCoord\n",
    "from astropy import units as u\n",
    "from astropy.table import Column, Table\n",
    "from astropy.io import fits, ascii\n",
    "\n",
    "from xastropy.xutils import fits as xxf\n",
    "\n",
    "from specdb.specdb import IgmSpec, SpecDB\n",
    "from specdb import query_catalog as spqcat\n",
    "from specdb import interface_group as spigp\n",
    "from specdb import utils as spdbu\n",
    "\n",
    "from linetools import utils as ltu\n",
    "\n",
    "from astropy.cosmology import FlatLambdaCDM\n",
    "cosmo = FlatLambdaCDM(H0=70, Om0=0.26)\n",
    "\n",
    "import enigma"
   ]
  },
  {
   "cell_type": "markdown",
   "metadata": {},
   "source": [
    "## QPQ Sample Code\n",
    "Modifying lya_qpq_sample.pro in pro/data/photo\n",
    "\n",
    "Created QPQ-CGM-IR  [Joe did]\n",
    "\n",
    "QPQ-CGM-IR_00.000-00.300_Sat-Apr-25-21:33:45-2015.sav\n",
    "\n",
    "### Try MgII $z_{\\rm em}$ someday"
   ]
  },
  {
   "cell_type": "markdown",
   "metadata": {},
   "source": [
    "## Read the Sample and Collate"
   ]
  },
  {
   "cell_type": "code",
   "execution_count": 236,
   "metadata": {
    "collapsed": false
   },
   "outputs": [
    {
     "name": "stdout",
     "output_type": "stream",
     "text": [
      "x.fits.bintab_to_table: Reading /Users/lwymarie/Dropbox//QSOPairs/QPQ-CGM-IR/QPQ-CGM-IR_00.000-00.300_Tue-May-26-18:12:57-2015_qsobg.fits\n",
      "x.fits.bintab_to_table: Reading /Users/lwymarie/Dropbox//QSOPairs/QPQ-CGM-IR/QPQ-CGM-IR_00.000-00.300_Tue-May-26-18:12:57-2015_qsofg.fits\n"
     ]
    }
   ],
   "source": [
    "# IDL savefile read failed..\n",
    "#dat = scirs(os.getenv('DROPBOX_DIR')+'/QSOPairs/QSO-CGM-IR/QPQ-CGM-IR_00.000-00.300_Sat-Apr-25-21:33:45-2015.sav',verbose=True)\n",
    "#dat\n",
    "\n",
    "# Wrote a binary FITS table from IDL\n",
    "#bgfil = 'QPQ-CGM-IR_00.000-00.300_Sat-Apr-25-21:33:45-2015_qsobg.fits.gz'\n",
    "#fgfil = 'QPQ-CGM-IR_00.000-00.300_Sat-Apr-25-21:33:45-2015_qsofg.fits.gz'\n",
    "#\n",
    "bgfil = 'QPQ-CGM-IR_00.000-00.300_Tue-May-26-18:12:57-2015_qsobg.fits'\n",
    "fgfil = 'QPQ-CGM-IR_00.000-00.300_Tue-May-26-18:12:57-2015_qsofg.fits'\n",
    "#\n",
    "qso_bg = xxf.bintab_to_table(os.getenv('DROPBOX_DIR')+'/QSOPairs/QPQ-CGM-IR/'+bgfil)\n",
    "#\n",
    "qso_fg = xxf.bintab_to_table(os.getenv('DROPBOX_DIR')+'/QSOPairs/QPQ-CGM-IR/'+fgfil)\n",
    "#qso_fg[['NAME','LYA_FILE', 'Z_IR']]"
   ]
  },
  {
   "cell_type": "code",
   "execution_count": 237,
   "metadata": {
    "collapsed": false
   },
   "outputs": [
    {
     "data": {
      "text/plain": [
       "34"
      ]
     },
     "execution_count": 237,
     "metadata": {},
     "output_type": "execute_result"
    }
   ],
   "source": [
    "# Collate Tables, calculate R_perp\n",
    "qpq9 = copy.deepcopy(qso_bg)\n",
    "# Add/replce key columns from qso_fg\n",
    "oldc = ['Z_IR','SIGMA_ZIR', 'RA', 'DEC']\n",
    "newc = ['FG_ZIR', 'FG_SIG_ZIR', 'FG_RA', 'FG_DEC']\n",
    "for jj,ioldc in enumerate(oldc):\n",
    "    tmpc = Column( qso_fg[ioldc], name=newc[jj])\n",
    "    #print newc[jj]\n",
    "    qpq9.add_column( tmpc )\n",
    "# \n",
    "qpq9['G_UV'] = qso_fg['G_UV']\n",
    "qpq9.add_column( Column( qso_bg['Z_TOT'], name='BG_Z') )\n",
    "len(qpq9)"
   ]
  },
  {
   "cell_type": "markdown",
   "metadata": {},
   "source": [
    "### Rphys"
   ]
  },
  {
   "cell_type": "code",
   "execution_count": 238,
   "metadata": {
    "collapsed": false
   },
   "outputs": [
    {
     "data": {
      "text/plain": [
       "34"
      ]
     },
     "execution_count": 238,
     "metadata": {},
     "output_type": "execute_result"
    }
   ],
   "source": [
    "# Coordinates\n",
    "c_fg = SkyCoord(ra=qpq9['FG_RA']*u.deg, dec=qpq9['FG_DEC']*u.deg)\n",
    "c_bg = SkyCoord(ra=qpq9['RA']*u.deg, dec=qpq9['DEC']*u.deg)\n",
    "# Separation\n",
    "kpc_amin = cosmo.kpc_proper_per_arcmin( qpq9['FG_ZIR'] ) # kpc per arcmin\n",
    "ang_sep = c_fg.separation(c_bg).to('arcmin')\n",
    "Rphys = kpc_amin * ang_sep\n",
    "# Add\n",
    "if 'R_PHYS' not in qpq9.dtype.names:\n",
    "    qpq9.add_column(Column( Rphys, name='R_PHYS'))\n",
    "len(qpq9)"
   ]
  },
  {
   "cell_type": "markdown",
   "metadata": {},
   "source": [
    "## Cuts"
   ]
  },
  {
   "cell_type": "code",
   "execution_count": 239,
   "metadata": {
    "collapsed": false
   },
   "outputs": [
    {
     "name": "stdout",
     "output_type": "stream",
     "text": [
      "We have 33 pairs in QPQ9\n"
     ]
    }
   ],
   "source": [
    "# Lya beta\n",
    "zLya_beta = (qpq9['BG_Z']+1)*1025.7223 / 1215.6701 - 1\n",
    "dv_beta = ltu.v_from_z(qpq9['FG_ZIR'], zLya_beta)\n",
    "gd_beta = dv_beta > (-500*u.km/u.s)\n",
    "#\n",
    "qpq9 = qpq9[gd_beta]\n",
    "print('We have {:d} pairs in QPQ9'.format(len(qpq9)))\n",
    "#xdb.xpcol(zLya_beta, qpq9['FG_ZIR'], qpq9['BG_Z'])"
   ]
  },
  {
   "cell_type": "markdown",
   "metadata": {},
   "source": [
    "## Write"
   ]
  },
  {
   "cell_type": "code",
   "execution_count": 25,
   "metadata": {
    "collapsed": true
   },
   "outputs": [],
   "source": [
    "# Don't write. The current qpq9_zIR.fits made by Joe/X have more columns then what the code above gives. \n",
    "#xxf.table_to_fits(qpq9, 'qpq9_zIR.fits')"
   ]
  },
  {
   "cell_type": "markdown",
   "metadata": {},
   "source": [
    "# list of NIR redshifts "
   ]
  },
  {
   "cell_type": "code",
   "execution_count": 275,
   "metadata": {
    "collapsed": false,
    "scrolled": true
   },
   "outputs": [
    {
     "name": "stdout",
     "output_type": "stream",
     "text": [
      "x.fits.bintab_to_table: Reading /Users/lwymarie/Dropbox/Marie_Enrico/papers/QPQ9/Analysis/Redshifts/zem/SDSSJ011150.07+140141.4_zem.fits\n",
      "x.fits.bintab_to_table: Reading /Users/lwymarie/Dropbox/Marie_Enrico/papers/QPQ9/Analysis/Redshifts/zem/SDSSJ020143.49+003222.7_F_zem.fits\n",
      "x.fits.bintab_to_table: Reading /Users/lwymarie/Dropbox/Marie_Enrico/papers/QPQ9/Analysis/Redshifts/zem/SDSSJ023946.43-010640.5_F_zem.fits\n",
      "x.fits.bintab_to_table: Reading /Users/lwymarie/Dropbox/Marie_Enrico/papers/QPQ9/Analysis/Redshifts/zem/SDSSJ091338.30-010708.7_F_zem.fits\n",
      "x.fits.bintab_to_table: Reading /Users/lwymarie/Dropbox/Marie_Enrico/papers/QPQ9/Analysis/Redshifts/zem/SDSSJ111242.69+661152.8_zem.fits\n",
      "x.fits.bintab_to_table: Reading /Users/lwymarie/Dropbox/Marie_Enrico/papers/QPQ9/Analysis/Redshifts/zem/SDSSJ121559.00+571616.7_zem.fits\n",
      "x.fits.bintab_to_table: Reading /Users/lwymarie/Dropbox/Marie_Enrico/papers/QPQ9/Analysis/Redshifts/zem/SDSSJ123143.09+002846.2_F_zem.fits\n",
      "x.fits.bintab_to_table: Reading /Users/lwymarie/Dropbox/Marie_Enrico/papers/QPQ9/Analysis/Redshifts/zem/SDSSJ143345.50+064110.0_F_zem.fits\n",
      "x.fits.bintab_to_table: Reading /Users/lwymarie/Dropbox/Marie_Enrico/papers/QPQ9/Analysis/Redshifts/zem/SDSSJ233845.19-000327.2_F_zem.fits\n"
     ]
    }
   ],
   "source": [
    "# Load masterlists\n",
    "path = enigma.__path__[0]+'/data/redshifts/'\n",
    "c_NIR = []\n",
    "gnirs = Table.read(path+'gnirs_masterlist.dat',guess=False,format='ascii.csv',comment='#')\n",
    "for qq in gnirs:\n",
    "    c_NIR.append(ltu.radec_to_coord(qq['ra_qso']+' '+qq['dec_qso']))\n",
    "niri = Table.read(path+'niri_masterlist.dat',guess=False,format='ascii.csv',comment='#')\n",
    "for qq in niri:\n",
    "    c_NIR.append(ltu.radec_to_coord(qq['ra_qso']+' '+qq['dec_qso']))\n",
    "nirspec = Table.read(path+'nirspec_masterlist.dat',guess=False,format='ascii.csv',comment='#')\n",
    "for qq in nirspec:\n",
    "    c_NIR.append(ltu.radec_to_coord(qq['ra_qso']+' '+qq['dec_qso']))\n",
    "xshooter = Table.read(path+'xshooter_masterlist.dat',guess=False,format='ascii.csv',comment='#')\n",
    "for qq in xshooter:\n",
    "    c_NIR.append(ltu.radec_to_coord(qq['ra_qso']+' '+qq['dec_qso']))\n",
    "tspec = Table.read(path+'triplespec_masterlist.dat',guess=False,format='ascii.csv',comment='#')\n",
    "for qq in tspec:\n",
    "    c_NIR.append(ltu.radec_to_coord(qq['ra_qso']+' '+qq['dec_qso']))\n",
    "isaac = Table.read(path+'isaac_masterlist.dat',guess=False,format='ascii.csv',comment='#')\n",
    "for qq in isaac:\n",
    "    c_NIR.append(ltu.radec_to_coord(qq['ra_qso']+' '+qq['dec_qso']))\n",
    "lucifer = Table.read(path+'lucifer_masterlist.dat',guess=False,format='ascii.csv',comment='#')\n",
    "for qq in lucifer:\n",
    "    c_NIR.append(ltu.radec_to_coord(qq['ra_qso']+' '+qq['dec_qso']))    \n",
    "liam = Table.read(path+'masterlist_liam.fits')\n",
    "for qq in liam:\n",
    "    c_NIR.append(SkyCoord(qq['RAJ2000']+qq['DEJ2000'],frame='fk5'))\n",
    "c_NIR = SkyCoord(c_NIR)\n",
    "\n",
    "# Load zem structures\n",
    "zem_fil = glob.glob(os.getenv('DROPBOX_DIR')+'Marie_Enrico/papers/QPQ9/Analysis/Redshifts/zem/*')\n",
    "zsys_line = ['H$\\\\alpha$','H$\\\\beta$','MgII','[OIII]']\n",
    "zem_list = []\n",
    "zem_coord = []\n",
    "for ff in zem_fil:\n",
    "    zem = xxf.bintab_to_table(ff)\n",
    "    zem_list.append(zem)\n",
    "    ipos = zem['SPEC_FIL'][0].rfind('/SDSSJ')+6\n",
    "    radec = zem['SPEC_FIL'][0][ipos:]\n",
    "    RA = radec[0:2]+'h'+radec[2:4]+'m'+radec[4:9]+'s'\n",
    "    dec = radec[9:12]+'d'+radec[12:14]+'m'+radec[14:18]+'s'\n",
    "    zem_coord.append(SkyCoord(RA,dec))\n",
    "zem_coord = SkyCoord(zem_coord)"
   ]
  },
  {
   "cell_type": "markdown",
   "metadata": {},
   "source": [
    "# Make a new sample merging QPQ9_zIR and QPQ7"
   ]
  },
  {
   "cell_type": "code",
   "execution_count": 3,
   "metadata": {
    "collapsed": false
   },
   "outputs": [
    {
     "name": "stdout",
     "output_type": "stream",
     "text": [
      "x.fits.bintab_to_table: Reading qpq9_zIR.fits\n",
      "x.fits.bintab_to_table: Reading /Users/lwymarie/python/enigma/enigma/data/qpq/qpq7_pairs.fits.gz\n"
     ]
    }
   ],
   "source": [
    "zIR_fil = 'qpq9_zIR.fits'\n",
    "QPQ7_fil = imp.find_module('enigma')[1] + '/data/qpq/qpq7_pairs.fits.gz'\n",
    "QPQ_zIR = xxf.bintab_to_table(zIR_fil)\n",
    "QPQ7 = xxf.bintab_to_table(QPQ7_fil)"
   ]
  },
  {
   "cell_type": "code",
   "execution_count": 7,
   "metadata": {
    "collapsed": false
   },
   "outputs": [
    {
     "data": {
      "text/html": [
       "&lt;Column name=&apos;FG_SIG_ZIR&apos; dtype=&apos;float32&apos; length=32&gt;\n",
       "<table>\n",
       "<tr><td>44.0</td></tr>\n",
       "<tr><td>-1.0</td></tr>\n",
       "<tr><td>44.0</td></tr>\n",
       "<tr><td>109.0</td></tr>\n",
       "<tr><td>44.0</td></tr>\n",
       "<tr><td>44.0</td></tr>\n",
       "<tr><td>44.0</td></tr>\n",
       "<tr><td>109.0</td></tr>\n",
       "<tr><td>44.0</td></tr>\n",
       "<tr><td>44.0</td></tr>\n",
       "<tr><td>44.0</td></tr>\n",
       "<tr><td>109.0</td></tr>\n",
       "<tr><td>...</td></tr>\n",
       "<tr><td>109.0</td></tr>\n",
       "<tr><td>109.0</td></tr>\n",
       "<tr><td>44.0</td></tr>\n",
       "<tr><td>44.0</td></tr>\n",
       "<tr><td>44.0</td></tr>\n",
       "<tr><td>44.0</td></tr>\n",
       "<tr><td>9999.0</td></tr>\n",
       "<tr><td>44.0</td></tr>\n",
       "<tr><td>44.0</td></tr>\n",
       "<tr><td>109.0</td></tr>\n",
       "<tr><td>44.0</td></tr>\n",
       "<tr><td>44.0</td></tr>\n",
       "</table>"
      ],
      "text/plain": [
       "<Column name='FG_SIG_ZIR' dtype='float32' length=32>\n",
       "  44.0\n",
       "  -1.0\n",
       "  44.0\n",
       " 109.0\n",
       "  44.0\n",
       "  44.0\n",
       "  44.0\n",
       " 109.0\n",
       "  44.0\n",
       "  44.0\n",
       "  44.0\n",
       " 109.0\n",
       "   ...\n",
       " 109.0\n",
       " 109.0\n",
       "  44.0\n",
       "  44.0\n",
       "  44.0\n",
       "  44.0\n",
       "9999.0\n",
       "  44.0\n",
       "  44.0\n",
       " 109.0\n",
       "  44.0\n",
       "  44.0"
      ]
     },
     "execution_count": 7,
     "metadata": {},
     "output_type": "execute_result"
    }
   ],
   "source": [
    "QPQ_zIR['FG_SIG_ZIR']"
   ]
  },
  {
   "cell_type": "code",
   "execution_count": 277,
   "metadata": {
    "collapsed": false
   },
   "outputs": [
    {
     "data": {
      "text/plain": [
       "31"
      ]
     },
     "execution_count": 277,
     "metadata": {},
     "output_type": "execute_result"
    }
   ],
   "source": [
    "QPQ9 = copy.deepcopy(QPQ_zIR)\n",
    "QPQ9.rename_column('FG_ZIR', 'Z_FG')\n",
    "QPQ9.rename_column('FG_SIG_ZIR','Z_FSIG')\n",
    "for ii,qq in enumerate(QPQ9):\n",
    "    try:\n",
    "        assert 'J0225+0048' in qq['NAME'] # redshift is marked to be OII by mistake\n",
    "        QPQ9.remove_row(ii)\n",
    "    except AssertionError:\n",
    "        pass\n",
    "    try:\n",
    "        assert 'J0913-0107' in qq['NAME'] # Hb redshift is not good, use MgII\n",
    "        for zz,zem in enumerate(zem_list):\n",
    "            if SkyCoord(qq['FG_RA']*u.deg,qq['FG_DEC']*u.deg).separation(zem_coord[zz]) < 5*u.arcsec:\n",
    "                qq['Z_FG'] = zem['ZSYS_ZSYS'][0]\n",
    "                qq['Z_FSIG'] = np.rint(zem['ZSYS_ERR'][0])\n",
    "                qq['ZFG_LINE'] = zsys_line[np.min([zem['ZSYS_FLAG'][0],3])]   \n",
    "    except AssertionError:\n",
    "        pass\n",
    "    try:\n",
    "        assert 'J1433+0641' in qq['NAME'] # redshift is Null in the zIR structure \n",
    "        for zz,zem in enumerate(zem_list):\n",
    "            if SkyCoord(qq['FG_RA']*u.deg,qq['FG_DEC']*u.deg).separation(zem_coord[zz]) < 5*u.arcsec:\n",
    "                qq['Z_FG'] = zem['ZSYS_ZSYS'][0]\n",
    "                qq['Z_FSIG'] = np.rint(zem['ZSYS_ERR'][0])\n",
    "                qq['ZFG_LINE'] = zsys_line[np.min([zem['ZSYS_FLAG'][0],3])]\n",
    "    except AssertionError:\n",
    "        pass\n",
    "len(QPQ9)"
   ]
  },
  {
   "cell_type": "code",
   "execution_count": 278,
   "metadata": {
    "collapsed": false
   },
   "outputs": [
    {
     "name": "stdout",
     "output_type": "stream",
     "text": [
      "12h31m43.0985s +00d28m46.2929s\n"
     ]
    }
   ],
   "source": [
    "# Add QPQ7 pairs with NIR redshifts already measured \n",
    "c_QPQzIR = SkyCoord(ra=QPQ_zIR['FG_RA']*u.deg, dec=QPQ_zIR['FG_DEC']*u.deg)\n",
    "c_QPQ7 = SkyCoord(ra=QPQ7['RAD']*u.deg, dec=QPQ7['DECD']*u.deg)\n",
    "c_QPQ7_bg = SkyCoord(ra=QPQ7['RAD_BG']*u.deg,dec=QPQ7['DECD_BG']*u.deg)\n",
    "kpc_amin = cosmo.kpc_proper_per_arcmin(QPQ7['Z_FG'])\n",
    "ang_sep = c_QPQ7.separation(c_QPQ7_bg).to('arcmin')\n",
    "                                          \n",
    "for qq,cc in enumerate(c_QPQ7):\n",
    "    # do not copy the entry with wrong spectral file \n",
    "    wrong_c = SkyCoord(ra=8.59753707028004*u.deg,dec=-10.832307685613417*u.deg)\n",
    "    if c_QPQ7_bg[qq].separation(wrong_c).to('arcsec') < 0.5*u.arcsec:\n",
    "        continue\n",
    "    if len(np.where(cc.separation(c_QPQzIR).to('arcsec') < 0.5*u.arcsec)[0]) == 0:\n",
    "        if kpc_amin[qq]*ang_sep[qq] < 300*u.kpc:\n",
    "            if len(np.where(cc.separation(c_NIR) < 5*u.arcsec)[0]) > 0:\n",
    "                print(cc.to_string('hmsdms'))\n",
    "                for zz,zem in enumerate(zem_list):\n",
    "                    if cc.separation(zem_coord[zz]) < 5*u.arcsec:\n",
    "                        QPQ9.add_row({'FG_RA':QPQ7[qq]['RAD'],'FG_DEC':QPQ7[qq]['DECD'],'NAME':QPQ7[qq]['QSO_BG'],\n",
    "                                      'RA':QPQ7[qq]['RAD_BG'],'DEC':QPQ7[qq]['DECD_BG'],\n",
    "                                      'Z_FG':zem['ZSYS_ZSYS'][0],'Z_FSIG':np.rint(zem['ZSYS_ERR'][0]),\n",
    "                                      'BG_Z':QPQ7[qq]['Z_BG'],'R_PHYS':QPQ7[qq]['R_PHYS'],\n",
    "                                      'ZFG_LINE':zsys_line[np.min([zem['ZSYS_FLAG'][0],3])],\n",
    "                                      'G_UV':QPQ7[qq]['G_UV']})\n",
    "                        \n",
    "QPQ9.sort(['FG_RA','FG_DEC'])"
   ]
  },
  {
   "cell_type": "code",
   "execution_count": 279,
   "metadata": {
    "collapsed": false
   },
   "outputs": [],
   "source": [
    "# Add QPQ7 pairs with MgII redshifts\n",
    "c_QPQ9 = SkyCoord(ra=QPQ9['FG_RA']*u.deg, dec=QPQ9['FG_DEC']*u.deg)\n",
    "for qq,cc in enumerate(c_QPQ7):\n",
    "    # do not copy the entry with wrong spectral file \n",
    "    wrong_c = SkyCoord(ra=8.59753707028004*u.deg,dec=-10.832307685613417*u.deg)\n",
    "    if c_QPQ7_bg[qq].separation(wrong_c).to('arcsec') < 0.5*u.arcsec:\n",
    "        continue\n",
    "    if len(np.where(cc.separation(c_QPQ9).to('arcsec') < 0.5*u.arcsec)[0]) == 0:\n",
    "        if kpc_amin[qq]*ang_sep[qq] < 300*u.kpc:\n",
    "            if QPQ7['Z_FSIG'][qq] < 300:\n",
    "                QPQ9.add_row({'FG_RA':QPQ7['RAD'][qq],'FG_DEC':QPQ7['DECD'][qq],'NAME':QPQ7['QSO_BG'][qq],\n",
    "                              'RA':QPQ7['RAD_BG'][qq],'DEC':QPQ7['DECD_BG'][qq],'Z_FG':QPQ7['Z_FG'][qq],'Z_FSIG':272,\n",
    "                              'BG_Z':QPQ7['Z_BG'][qq],'R_PHYS':QPQ7['R_PHYS'][qq],'ZFG_LINE':'MgII',\n",
    "                              'G_UV':QPQ7['G_UV'][qq]})\n",
    "\n",
    "QPQ9.sort(['FG_RA','FG_DEC'])"
   ]
  },
  {
   "cell_type": "code",
   "execution_count": 280,
   "metadata": {
    "collapsed": false
   },
   "outputs": [
    {
     "data": {
      "text/plain": [
       "(56, <QTable length=20>\n",
       "       RA             DEC             NAME      ...      Z_FG          G_UV    \n",
       "    float64         float64          str14      ...    float64       float64   \n",
       " ------------- ----------------- -------------- ... ------------- -------------\n",
       " 14.3287633684  -0.0263108702349 BOSSJ0057-0001 ... 2.16085586032 897.407834846\n",
       " 27.3227662484   -0.366242429577 SDSSJ0149-0021 ... 1.68225049973 1726.12219238\n",
       " 37.5832882888    -3.55444111362 BOSSJ0230-0333 ... 2.38024330139 1011.23883057\n",
       " 55.4133096521 -0.00353495681141 SDSSJ0341-0000 ... 2.12328910828 274.194061279\n",
       " 62.4758752949    -4.19363997107 SDSSJ0409-0411 ... 1.71549904346 515.653686523\n",
       " 118.246405235     40.1884027001 SDSSJ0752+4011 ...  1.8831974268 749.980773926\n",
       "  120.20306832     35.7086976546  APOJ0800+3542 ... 1.98231124769 1463.32499572\n",
       " 127.186963574     45.7550664137 SDSSJ0828+4545 ... 1.87179803848 371.397277832\n",
       " 129.302880827     36.5104726848 APOJ0837+3630  ...  1.8351764679 3560.37475586\n",
       " 129.488047957     38.6228928363  APOJ0837+3837 ... 2.06242066408 6039.00788114\n",
       " 130.496910456     39.3611075347 BOSSJ0841+3921 ... 2.04117606611 1064.01439616\n",
       " 133.489553874   -0.185051255203 BOSSJ0853-0011 ... 2.40137010963 862.632024349\n",
       " 137.694534516     4.24677023888  APOJ0910+0414 ... 2.04589174873  8357.8273817\n",
       "  138.41238463    -1.11795134614 BOSSJ0913-0107 ... 2.74752968212 4181.93532299\n",
       " 138.628526573     1.15763854863 BOSSJ0914+0109 ... 2.14020345837 854.440681244\n",
       " 141.069658864     39.4873917566 APOJ0924+3929  ... 1.88521802425 1971.92492676\n",
       " 143.106668658      9.4167245148  APOJ0932+0925 ... 2.41699563207 542.825426022\n",
       " 144.175816168   -0.975366043318 BOSSJ0936-0058 ... 2.20844912529 347.614013672\n",
       " 144.520152516     53.2952951998  APOJ0938+5317 ... 2.06702972987 5349.26297805\n",
       " 150.696425115    0.348057780352 BOSSJ1002+0020 ... 2.17679772456 20272.9742575)"
      ]
     },
     "execution_count": 280,
     "metadata": {},
     "output_type": "execute_result"
    }
   ],
   "source": [
    "len(QPQ9),QPQ9['RA','DEC','NAME','ZFG_LINE','BG_Z','Z_FG','G_UV'][0:20]"
   ]
  },
  {
   "cell_type": "code",
   "execution_count": 289,
   "metadata": {
    "collapsed": false
   },
   "outputs": [],
   "source": [
    "# write\n",
    "xxf.table_to_fits(QPQ9,'qpq9_final.fits')"
   ]
  },
  {
   "cell_type": "markdown",
   "metadata": {},
   "source": [
    "# Check pairs in QPQ database and have NIR"
   ]
  },
  {
   "cell_type": "code",
   "execution_count": 291,
   "metadata": {
    "collapsed": false
   },
   "outputs": [
    {
     "name": "stdout",
     "output_type": "stream",
     "text": [
      "x.fits.bintab_to_table: Reading qpq9_final.fits\n",
      "02h25m17.68s +00d48m22s\n",
      "02h39m46.43s -01d06m40.4s\n",
      "11h12m42.69s +66d11m52.8s\n",
      "12h15m59s +57d16m16.6s\n",
      "23h38m45.19s -00d03m27.2s\n"
     ]
    },
    {
     "name": "stderr",
     "output_type": "stream",
     "text": [
      "/Users/lwymarie/anaconda/lib/python2.7/site-packages/ipykernel/__main__.py:34: VisibleDeprecationWarning: converting an array with ndim > 0 to an index will result in an error in the future\n",
      "/Users/lwymarie/anaconda/lib/python2.7/site-packages/ipykernel/__main__.py:36: VisibleDeprecationWarning: converting an array with ndim > 0 to an index will result in an error in the future\n"
     ]
    }
   ],
   "source": [
    "# Find and add those pairs \n",
    "QPQ9 = xxf.bintab_to_table('qpq9_final.fits')\n",
    "c_QPQ9 = SkyCoord(QPQ9['FG_RA']*u.deg,QPQ9['FG_DEC']*u.deg)\n",
    "c_QPQ9_bg = SkyCoord(ra=QPQ9['RA']*u.deg,dec=QPQ9['DEC']*u.deg)\n",
    "qpq_fil = '/Users/lwymarie/Desktop/qpq_optical.hdf5'\n",
    "qpqsp = SpecDB(db_file=qpq_fil,verbose=False,idkey='PRIV_ID')\n",
    "ID_fg, ID_bg = qpqsp.qcat.pairs(0.92*u.arcmin, 3000.*u.km/u.s)\n",
    "c_qpqsp = SkyCoord(qpqsp.cat['RA'][ID_fg]*u.deg,qpqsp.cat['DEC'][ID_fg]*u.deg)\n",
    "c_qpqsp_bg = SkyCoord(qpqsp.cat['RA'][ID_bg]*u.deg,qpqsp.cat['DEC'][ID_bg]*u.deg)\n",
    "kpc_amin = cosmo.kpc_proper_per_arcmin(qpqsp.cat['zem'][ID_fg])\n",
    "ang_sep = c_qpqsp.separation(c_qpqsp_bg).to('arcmin')\n",
    "for qq,cc in enumerate(c_qpqsp):\n",
    "    if kpc_amin[qq]*ang_sep[qq] < 300 *u.kpc: \n",
    "        if len(np.where(cc.separation(c_QPQ9) < 0.5*u.arcsec)[0]) == 0: # pair not in QPQ9 already\n",
    "            if len(np.where(cc.separation(c_NIR) < 5*u.arcsec)[0]) > 0:\n",
    "                print(cc.to_string('hmsdms'))\n",
    "                #J0225 has no good line measured. Skip.\n",
    "                if cc.separation(SkyCoord('02h25m17.68s +00d48m22s')) < 5*u.arcsec:\n",
    "                    continue\n",
    "                #J0239 add [OIII]. Did not pass Lyb cut. Add back. \n",
    "                #J1112 has good Hb, but currently it's MgII from QPQ7. \n",
    "                #The redshift from QPQ7 or Hb here does not pass the > 3000 km/s requirement. Skip. \n",
    "                if cc.separation(SkyCoord('11h12m42.69s +66d11m52.8s')) < 5*u.arcsec:\n",
    "                    continue\n",
    "                #J1215 add [OIII].\n",
    "                #J2338 add [OIII]. \n",
    "                name = 'BOSSJ'\n",
    "                name = name + c_qpqsp_bg[qq].to_string('hmsdms')[0:2] + c_qpqsp_bg[qq].to_string('hmsdms')[3:5]\n",
    "                ipos = c_qpqsp_bg[qq].to_string('hmsdms').rfind(' ')+1\n",
    "                name = name + c_qpqsp_bg[qq].to_string('hmsdms')[ipos:ipos+3] + c_qpqsp_bg[qq].to_string('hmsdms')[ipos+4:ipos+6]\n",
    "                index = np.where(zem_coord.separation(cc) < 5*u.arcsec)[0]\n",
    "                QPQ9.add_row({'FG_RA':qpqsp.cat[ID_fg[qq]]['RA'],'FG_DEC':qpqsp.cat[ID_fg[qq]]['DEC'],'NAME':name,\n",
    "                              'RA':qpqsp.cat[ID_bg[qq]]['RA'],'DEC':qpqsp.cat[ID_bg[qq]]['DEC'],\n",
    "                              'Z_FG':zem_list[index]['ZSYS_ZSYS'][0],'Z_FSIG':np.rint(zem_list[index]['ZSYS_ERR'][0]),\n",
    "                                      'BG_Z':qpqsp.cat[ID_bg[qq]]['zem'],'R_PHYS':(kpc_amin[qq]*ang_sep[qq]).value,\n",
    "                                      'ZFG_LINE':zsys_line[np.min([zem_list[index]['ZSYS_FLAG'][0],3])]})\n",
    "QPQ9.sort(['FG_RA','FG_DEC'])"
   ]
  },
  {
   "cell_type": "code",
   "execution_count": 292,
   "metadata": {
    "collapsed": true
   },
   "outputs": [],
   "source": [
    "# write\n",
    "xxf.table_to_fits(QPQ9,'qpq9_final.fits')"
   ]
  },
  {
   "cell_type": "markdown",
   "metadata": {},
   "source": [
    "# Find igmspec pairs with NIR spectra"
   ]
  },
  {
   "cell_type": "code",
   "execution_count": 293,
   "metadata": {
    "collapsed": false
   },
   "outputs": [
    {
     "name": "stdout",
     "output_type": "stream",
     "text": [
      "x.fits.bintab_to_table: Reading qpq9_final.fits\n",
      "02h25m17.6775s +00d48m21.9398s\n",
      "02h01m43.4873s +00d32m22.713s\n",
      "01h11m50.07s +14d01m41.5s\n"
     ]
    },
    {
     "name": "stderr",
     "output_type": "stream",
     "text": [
      "/Users/lwymarie/anaconda/lib/python2.7/site-packages/ipykernel/__main__.py:30: VisibleDeprecationWarning: converting an array with ndim > 0 to an index will result in an error in the future\n",
      "/Users/lwymarie/anaconda/lib/python2.7/site-packages/ipykernel/__main__.py:32: VisibleDeprecationWarning: converting an array with ndim > 0 to an index will result in an error in the future\n"
     ]
    }
   ],
   "source": [
    "# Find and add those pairs \n",
    "QPQ9 = xxf.bintab_to_table('qpq9_final.fits')\n",
    "c_QPQ9 = SkyCoord(QPQ9['FG_RA']*u.deg,QPQ9['FG_DEC']*u.deg)\n",
    "c_QPQ9_bg = SkyCoord(ra=QPQ9['RA']*u.deg,dec=QPQ9['DEC']*u.deg)\n",
    "igmsp = IgmSpec()\n",
    "ID_fg, ID_bg = igmsp.qcat.pairs(0.92*u.arcmin, 3000.*u.km/u.s) # at z = 0.4, 0.92' = 300 kpc\n",
    "c_igmsp = SkyCoord(igmsp.cat['RA'][ID_fg]*u.deg,igmsp.cat['DEC'][ID_fg]*u.deg)\n",
    "c_igmsp_bg = SkyCoord(igmsp.cat['RA'][ID_bg]*u.deg,igmsp.cat['DEC'][ID_bg]*u.deg)\n",
    "kpc_amin = cosmo.kpc_proper_per_arcmin(igmsp.cat['zem'][ID_fg])\n",
    "ang_sep = c_igmsp.separation(c_igmsp_bg).to('arcmin')\n",
    "\n",
    "for qq,cc in enumerate(c_igmsp):\n",
    "    if kpc_amin[qq]*ang_sep[qq] < 300 *u.kpc: \n",
    "        if len(np.where(cc.separation(c_QPQ9) < 0.5*u.arcsec)[0]) == 0: # pair not in QPQ9 already\n",
    "            if len(np.where(cc.separation(c_NIR) < 5*u.arcsec)[0]) > 0:\n",
    "                print(cc.to_string('hmsdms'))         \n",
    "                # Skip J0225. No good line measured. \n",
    "                if cc.separation(SkyCoord('02h25m17.68s +00d48m22s')) < 5*u.arcsec:\n",
    "                    continue\n",
    "                # Skip J0201. Binary quasar, with wrong redshift in catalog. \n",
    "                if cc.separation(SkyCoord('02h01m43.4873s +00d32m22.713s')) < 5*u.arcsec:\n",
    "                    continue\n",
    "                name = 'SDSSJ'\n",
    "                name = name + c_igmsp_bg[qq].to_string('hmsdms')[0:2] + c_igmsp_bg[qq].to_string('hmsdms')[3:5]\n",
    "                ipos = c_igmsp_bg[qq].to_string('hmsdms').rfind(' ')+1\n",
    "                name = name + c_igmsp_bg[qq].to_string('hmsdms')[ipos:ipos+3] + c_igmsp_bg[qq].to_string('hmsdms')[ipos+4:ipos+6]\n",
    "                index = np.where(zem_coord.separation(cc) < 5*u.arcsec)[0]\n",
    "                QPQ9.add_row({'FG_RA':igmsp.cat[ID_fg[qq]]['RA'],'FG_DEC':igmsp.cat[ID_fg[qq]]['DEC'],'NAME':name,\n",
    "                              'RA':igmsp.cat[ID_bg[qq]]['RA'],'DEC':igmsp.cat[ID_bg[qq]]['DEC'],\n",
    "                              'Z_FG':zem_list[index]['ZSYS_ZSYS'][0],'Z_FSIG':np.rint(zem_list[index]['ZSYS_ERR'][0]),\n",
    "                                      'BG_Z':igmsp.cat[ID_bg[qq]]['zem'],'R_PHYS':(kpc_amin[qq]*ang_sep[qq]).value,\n",
    "                                      'ZFG_LINE':zsys_line[np.min([zem_list[index]['ZSYS_FLAG'][0],3])]})\n",
    "QPQ9.sort(['FG_RA','FG_DEC'])\n",
    "                "
   ]
  },
  {
   "cell_type": "code",
   "execution_count": 294,
   "metadata": {
    "collapsed": false
   },
   "outputs": [
    {
     "data": {
      "text/plain": [
       "(60, <QTable length=20>\n",
       "  ZFG_LINE      NAME     \n",
       "   str36       str14     \n",
       " --------- --------------\n",
       "    [OIII] BOSSJ0057-0001\n",
       "  H$\\beta$ SDSSJ0111+1402\n",
       "      MgII SDSSJ0149-0021\n",
       "      MgII BOSSJ0230-0333\n",
       "    [OIII] BOSSJ0239-0106\n",
       "      MgII SDSSJ0341-0000\n",
       "      MgII SDSSJ0409-0411\n",
       "      MgII SDSSJ0752+4011\n",
       "    [OIII]  APOJ0800+3542\n",
       "      MgII SDSSJ0828+4545\n",
       "      MgII  APOJ0837+3630\n",
       " H$\\alpha$  APOJ0837+3837\n",
       "    [OIII] BOSSJ0841+3921\n",
       "    [OIII] BOSSJ0853-0011\n",
       "    [OIII]  APOJ0910+0414\n",
       "      MgII BOSSJ0913-0107\n",
       "    [OIII] BOSSJ0914+0109\n",
       "      MgII  APOJ0924+3929\n",
       "    [OIII]  APOJ0932+0925\n",
       "      MgII BOSSJ0936-0058)"
      ]
     },
     "execution_count": 294,
     "metadata": {},
     "output_type": "execute_result"
    }
   ],
   "source": [
    "len(QPQ9),QPQ9['ZFG_LINE','NAME'][0:20]"
   ]
  },
  {
   "cell_type": "code",
   "execution_count": 295,
   "metadata": {
    "collapsed": true
   },
   "outputs": [],
   "source": [
    "# write\n",
    "xxf.table_to_fits(QPQ9,'qpq9_final.fits')"
   ]
  },
  {
   "cell_type": "markdown",
   "metadata": {
    "collapsed": false
   },
   "source": [
    "# Add igmspec pairs with HW10 redshifts "
   ]
  },
  {
   "cell_type": "code",
   "execution_count": 296,
   "metadata": {
    "collapsed": false
   },
   "outputs": [
    {
     "name": "stdout",
     "output_type": "stream",
     "text": [
      "00h01m25.1443s +00d00m09.4356s\n",
      "00h03m16.3195s -00d21m48.9276s\n",
      "00h08m04.2269s -00d39m22.9824s\n",
      "00h08m05.1814s -00d39m46.782s\n",
      "00h12m57.2542s +01d15m27.342s\n",
      "00h21m49.9378s +16d02m08.718s\n",
      "00h24m44.1209s +00d32m21.2136s\n",
      "00h25m49.3752s -00d54m20.592s\n",
      "00h26m23.7881s +13d55m23.538s\n",
      "00h29m28.8019s +00d02m08.1744s\n",
      "00h30m33.258s +00d55m06.042s\n",
      "00h33m49.8674s +15d46m13.3104s\n",
      "00h36m44.718s +16d08m30.6996s\n",
      "00h39m05.9023s -00d07m01.6824s\n",
      "00h40m39.719s +14d08m27.4524s\n",
      "00h41m26.6724s +01d14m37.2696s\n",
      "00h41m36.325s +13d55m33.294s\n",
      "00h42m38.2385s +13d50m54.8052s\n",
      "00h43m38.2918s +00d05m23.8056s\n",
      "00h44m42.0742s -00d42m10.296s\n",
      "00h45m54.642s +00d11m11.8212s\n",
      "00h47m57.2575s +14d47m41.9604s\n",
      "00h56m14.8121s +01d03m33.0336s\n",
      "00h57m19.7537s -01d00m10.4112s\n",
      "00h58m28.9363s +00d13m46.8696s\n",
      "01h00m07.2816s -00d32m18.5496s\n",
      "01h03m23.8409s -00d02m54.204s\n",
      "01h03m48.1382s +15d01m57.3312s\n",
      "01h06m16.3968s +00d56m56.85s\n",
      "01h09m28.3505s +01d04m32.034s\n",
      "01h10m34.7911s +00d02m30.4656s\n",
      "01h12m39.6792s +00d19m43.4712s\n",
      "01h14m30.2426s +00d04m20.9388s\n",
      "01h21m27.1344s +13d29m52.3644s\n",
      "01h22m40.1299s -00d32m39.7392s\n",
      "01h29m14.7588s -00d32m29.1048s\n",
      "01h31m45.3226s +00d47m54.1788s\n",
      "01h34m57.7181s -00d14m30.678s\n",
      "01h35m00.828s -00d40m54.39s\n",
      "01h38m01.771s +14d43m36.48s\n",
      "01h43m50.1914s +01d08m22.236s\n",
      "01h46m30.1426s +00d15m21.3408s\n",
      "01h46m32.3256s +00d15m57.0708s\n",
      "01h48m40.1026s +00d12m24.3324s\n",
      "01h51m00.767s +00d56m34.9152s\n",
      "01h52m31.8797s +14d08m47.0292s\n",
      "01h52m39.3156s -07d59m13.794s\n",
      "01h53m22.686s -00d19m11.7156s\n",
      "01h54m01.265s +00d47m10.2264s\n",
      "01h54m48.9377s +00d20m42.774s\n",
      "02h06m00.4834s +22d38m40.4952s\n",
      "02h14m16.9579s -00d52m29.1468s\n",
      "02h15m52.5326s +01d10m00.1956s\n",
      "02h19m53.0414s -00d44m34.2204s\n",
      "02h21m58.7803s -00d10m44.4324s\n",
      "02h24m47.8961s -00d47m00.3552s\n",
      "02h42m57.2066s -00d45m49.5072s\n",
      "02h42m59.0083s -00d10m38.3268s\n",
      "02h50m38.6916s -00d47m39.1056s\n",
      "02h53m33.5441s +00d16m34.2768s\n",
      "02h55m12.6818s -07d34m56.8704s\n",
      "02h56m02.5673s +00d52m55.4088s\n",
      "02h56m54.426s -01d14m55.4604s\n",
      "03h00m56.5733s -00d30m44.6004s\n",
      "03h32m16.7621s +00d30m29.6712s\n",
      "03h34m44.0342s -00d58m26.1984s\n",
      "03h36m09.5429s -06d19m13.1916s\n",
      "03h38m54.2186s -00d23m16.9836s\n",
      "03h39m10.489s +00d29m16.638s\n",
      "07h39m58.127s +32d42m23.0472s\n",
      "07h47m29.0436s +32d47m44.5992s\n",
      "07h49m54.1073s +37d02m16.7676s\n",
      "07h52m21.9386s +43d03m06.7428s\n",
      "07h54m18.8791s +36d36m02.6712s\n",
      "07h57m01.6366s +51d10m12.6588s\n",
      "08h04m09.7654s +31d56m56.3532s\n",
      "08h04m21.3655s +53d00m20.9484s\n",
      "08h05m54.7687s +15d07m05.8584s\n",
      "08h06m13.0361s +21d01m12.4968s\n",
      "08h06m25.1018s +23d32m27.8268s\n",
      "08h07m43.567s +09d55m36.8184s\n",
      "08h09m45.1728s +45d39m18.108s\n",
      "08h09m54.3866s +07d43m55.1784s\n",
      "08h12m23.1689s +26d20m00.906s\n",
      "08h14m27.2102s +04d02m29.1336s\n",
      "08h14m34.1357s +46d04m58.6056s\n",
      "08h15m09.3252s +07d17m22.272s\n",
      "08h15m46.0894s +55d01m30.0576s\n",
      "08h18m00.4913s +15d28m04.422s\n",
      "08h18m32.8654s +12d32m19.9032s\n",
      "08h20m06.3454s +29d05m28.1004s\n",
      "08h20m47.3666s +58d28m45.2352s\n",
      "08h22m16.463s +13d20m25.044s\n",
      "08h25m33.1882s +45d59m36.0024s\n",
      "08h26m42.8635s +47d08m29.5296s\n",
      "08h28m27.966s +46d36m58.7268s\n",
      "08h30m30.3792s +54d52m28.7724s\n",
      "08h30m34.4808s +07d16m38.9064s\n",
      "08h31m58.4966s +50d34m44.1588s\n",
      "08h32m05.9597s +52d43m59.1996s\n",
      "08h33m14.2442s +48d23m35.5416s\n",
      "08h33m30.8671s +33d57m18.5256s\n",
      "08h33m33.661s +23d49m43.5864s\n",
      "08h36m57.4855s +31d43m42.168s\n",
      "08h37m05.8325s +08d10m02.4636s\n",
      "08h37m22.0315s +22d08m55.6008s\n",
      "08h38m36.4675s +29d33m25.0452s\n",
      "08h38m54.5237s +46d21m24.3936s\n",
      "08h38m58.6591s +17d14m35.9916s\n",
      "08h41m02.0266s +32d01m01.4628s\n",
      "08h41m32.7686s +22d22m50.556s\n",
      "08h41m41.6738s +40d52m37.6644s\n",
      "08h41m51.4934s +32d15m29.5488s\n",
      "08h42m57.3816s +47d33m42.516s\n",
      "08h44m33.547s +48d39m41.0004s\n",
      "08h45m36.5338s +32d02m27.3192s\n",
      "08h45m41.5248s +07d11m52.332s\n",
      "08h46m08.8217s +52d06m00.7488s\n",
      "08h48m21.5126s +12d01m03.6912s\n",
      "08h49m52.8614s +28d32m56.6376s\n",
      "08h53m59.7725s +01d47m08.9088s\n",
      "08h56m29.4814s +55d14m50.244s\n",
      "08h57m28.0586s +00d50m16.7712s\n",
      "08h57m37.5814s +39d01m20.4636s\n",
      "08h59m15.1565s +42d41m23.6148s\n",
      "09h02m12.2304s +00d24m17.7444s\n",
      "09h02m34.4078s +17d52m53.5368s\n",
      "09h02m50.0153s +36d02m55.1364s\n",
      "09h03m37.5672s +20d56m14.4564s\n",
      "09h03m59.1398s +51d32m46.842s\n",
      "09h04m17.9402s +00d41m48.2496s\n",
      "09h06m57.7973s +10d01m21.4356s\n",
      "09h07m02.8128s +01d17m44.3616s\n",
      "09h07m39.5088s +28d03m01.8756s\n",
      "09h08m35.8109s +42d15m27.504s\n",
      "09h09m33.5734s +34d22m04.782s\n",
      "09h11m15.1282s +49d05m38.5332s\n",
      "09h11m21.1013s +35d51m36.2988s\n",
      "09h11m45.0343s +14d55m56.8344s\n",
      "09h12m17.5714s +41d39m33.516s\n",
      "09h12m20.1504s +25d17m53.2032s\n",
      "09h12m33.5484s +15d11m14.0352s\n",
      "09h12m34.273s +30d56m16.2168s\n",
      "09h12m54.5234s -00d36m30.1752s\n",
      "09h13m22.4573s +60d36m27.6264s\n",
      "09h13m42.6202s +07d20m47.2704s\n",
      "09h13m56.0695s +31d51m36.2124s\n",
      "09h15m25.1561s +07d21m46.7532s\n",
      "09h15m51.7238s +01d19m00.1776s\n",
      "09h16m04.157s +41d24m21.222s\n",
      "09h16m13.7407s +42d50m09.618s\n",
      "09h20m06.1111s +33d06m42.6924s\n",
      "09h20m49.3742s +33d41m14.37s\n",
      "09h22m23.0827s +06d27m53.7732s\n",
      "09h25m58.4203s +24d18m30.4164s\n",
      "09h26m11.4934s +47d24m29.4192s\n",
      "09h27m22.3596s +02d44m07.9332s\n",
      "09h29m07.4448s +35d09m42.0732s\n",
      "09h29m12.1032s +39d51m37.548s\n",
      "09h29m53.7214s +18d16m33.4812s\n",
      "09h31m30.7013s +60d11m06.2232s\n",
      "09h31m48.3002s +34d16m39.8964s\n",
      "09h32m07.8924s +08d44m10.554s\n",
      "09h32m55.453s +28d40m36.768s\n",
      "09h32m57.042s +10d00m57.924s\n",
      "09h33m17.4271s +59d20m27.4488s\n",
      "09h33m54.6619s +53d29m48.3576s\n",
      "09h35m30.8861s +45d32m26.9268s\n",
      "09h36m01.7398s +59d08m56.1084s\n",
      "09h36m12.7848s +46d13m00.7608s\n",
      "09h37m10.5547s +06d33m23.3964s\n",
      "09h39m00.569s +40d53m01.1652s\n",
      "09h39m05.7972s +33d35m51.5436s\n",
      "09h40m07.3822s +33d46m09.6132s\n",
      "09h41m15.3718s +30d58m10.344s\n",
      "09h41m28.5576s +32d51m20.9412s\n",
      "09h41m33.642s +23d08m40.0524s\n",
      "09h42m16.8132s +07d16m31.7964s\n",
      "09h42m43.471s +13d47m16.8756s\n",
      "09h43m29.3064s +58d42m32.8104s\n",
      "09h44m09.7658s +48d08m12.3576s\n",
      "09h44m11.8702s +23d21m28.9872s\n",
      "09h44m20.3232s +45d14m31.9704s\n",
      "09h48m57.3182s +00d22m25.5108s\n",
      "09h49m32.5222s +56d04m07.23s\n",
      "09h49m39.7651s +17d52m49.3644s\n",
      "09h52m04.3003s +59d09m25.0488s\n",
      "09h52m11.6501s +04d30m24.2424s\n",
      "09h52m15.6878s +27d46m13.0656s\n",
      "09h53m20.173s +56d44m10.0356s\n",
      "09h54m56.413s +20d53m50.3448s\n",
      "09h56m42.713s +02d48m12.6756s\n",
      "09h57m26.5594s +25d09m05.6736s\n",
      "09h58m40.9423s +33d22m11.568s\n",
      "09h59m18.121s +11d14m35.2788s\n",
      "09h59m33.6444s +45d30m12.3192s\n",
      "09h59m44.4775s +05d11m58.3764s\n",
      "10h00m29.1509s +27d52m12.2016s\n",
      "10h00m46.4472s +03d37m08.8284s\n",
      "10h01m06.4543s +40d23m41.6976s\n",
      "10h03m13.3699s +27d46m49.5984s\n",
      "10h04m50.6455s +09d39m26.4564s\n",
      "10h06m19.8696s +16d50m23.2188s\n",
      "10h06m26.2853s +46d13m32.88s\n",
      "10h06m58.1167s +44d55m31.6596s\n",
      "10h09m03.2057s +17d50m24.162s\n",
      "10h09m13.9118s +02d36m12.3768s\n",
      "10h10m53.9842s +45d18m17.0064s\n",
      "10h10m57.3866s +08d22m03.6372s\n",
      "10h10m59.0201s +29d53m26.5272s\n",
      "10h11m09.5366s +24d15m52.398s\n",
      "10h12m44.532s +51d35m02.9364s\n",
      "10h12m45.4562s +13d45m11.8152s\n",
      "10h13m23.8999s +03d30m16.956s\n",
      "10h14m21.373s +26d53m26.0988s\n",
      "10h14m50.4936s +03d49m05.106s\n",
      "10h15m27.5882s +12d45m20.9664s\n",
      "10h16m48.9941s +04d19m28.1892s\n",
      "10h17m30.2062s +47d39m59.9904s\n",
      "10h17m53.3789s +62d26m53.3688s\n",
      "10h18m15.0902s +29d13m14.7468s\n",
      "10h20m07.2979s +61d19m55.9632s\n",
      "10h20m10.206s +43d23m52.2996s\n",
      "10h22m20.3575s +29d25m35.7312s\n",
      "10h22m28.3654s +29d45m13.8096s\n",
      "10h23m45.2335s +12d20m34.5732s\n",
      "10h24m10.1926s +03d54m47.9052s\n",
      "10h24m22.9447s +32d22m18.8184s\n",
      "10h24m43.9865s +26d16m15.0636s\n",
      "10h24m55.031s +40d50m43.2456s\n",
      "10h25m19.2266s +31d56m14.46s\n",
      "10h28m05.2798s +51d21m24.624s\n",
      "10h32m54.4246s +18d50m33.9s\n",
      "10h34m43.6241s +08d57m02.9808s\n",
      "10h35m33.7906s +22d50m46.8024s\n",
      "10h36m28.1959s +50d11m57.876s\n",
      "10h37m02.3746s +44d02m12.066s\n",
      "10h37m19.6603s +07d35m54.7656s\n",
      "10h39m33.1306s +63d36m34.7796s\n",
      "10h40m42.0286s +45d29m31.9884s\n",
      "10h41m36.8026s +29d29m51.7236s\n",
      "10h41m46.776s +52d33m28.2132s\n",
      "10h42m07.7131s +06d45m44.1828s\n",
      "10h42m44.8404s +65d00m02.7072s\n",
      "10h44m24.9526s +46d52m13.1844s\n",
      "10h44m31.7316s +61d38m48.4152s\n",
      "10h44m35.6242s +31d39m50.7168s\n",
      "10h44m40.4023s +29d56m53.0808s\n",
      "10h45m25.8442s +10d00m18.414s\n",
      "10h45m40.5746s +31d03m20.2284s\n",
      "10h46m10.0462s +08d21m31.626s\n",
      "10h46m58.019s +47d17m26.9556s\n",
      "10h48m59.4804s +31d33m26.1036s\n",
      "10h50m21.1826s +60d28m08.328s\n",
      "10h50m35.5051s +10d30m36.2052s\n",
      "10h52m21.7706s +55d52m53.5044s\n",
      "10h52m56.5013s +40d53m04.1532s\n",
      "10h56m26.2711s +07d36m24.1956s\n",
      "10h56m37.9841s +10d03m07.236s\n",
      "10h56m54.0588s +30d48m26.4132s\n",
      "10h59m09.8426s +37d55m35.8212s\n",
      "10h59m41.4319s +62d55m34.3488s\n",
      "10h59m41.7607s +28d04m45.156s\n",
      "11h06m00.6874s +47d04m46.074s\n",
      "11h06m17.1715s +46d35m24.648s\n",
      "11h06m21.8762s +14d06m54.6408s\n",
      "11h08m07.901s +33d06m11.2896s\n",
      "11h08m37.5163s +45d21m29.934s\n",
      "11h11m26.2025s +35d15m21.6216s\n",
      "11h11m33.8273s +08d12m06.7968s\n",
      "11h12m02.8709s +23d00m38.1384s\n",
      "11h12m15.4517s +11d29m19.2804s\n",
      "11h12m18.6756s +45d49m12.2412s\n",
      "11h12m41.1338s +60d18m56.3256s\n",
      "11h13m39.8599s +33d06m04.7628s\n",
      "11h14m39.1188s +31d49m17.3028s\n",
      "11h15m11.0983s +12d18m47.2392s\n",
      "11h15m50.2654s +37d19m48.9972s\n",
      "11h18m50.4365s +40d25m53.7852s\n",
      "11h18m58.6236s +38d28m52.2012s\n",
      "11h20m30.3566s +54d44m28.6476s\n",
      "11h20m46.4748s +08d56m55.4424s\n",
      "11h24m53.2764s -01d17m40.4376s\n",
      "11h25m20.7929s +26d37m49.3968s\n",
      "11h27m56.437s +36d51m13.374s\n",
      "11h29m12.2736s +42d28m53.9436s\n",
      "11h29m39.9854s +06d16m44.7492s\n",
      "11h29m50.833s +46d29m05.046s\n",
      "11h30m20.0249s +06d28m27.5916s\n",
      "11h30m45.3005s +62d29m26.2032s\n",
      "11h31m45.7181s +07d35m01.1112s\n",
      "11h34m57.6221s +25d55m27.9156s\n",
      "11h36m51.5494s -00d28m36.0048s\n",
      "11h37m02.6959s +46d16m12.2664s\n",
      "11h37m15.3221s +59d42m33.7896s\n",
      "11h38m41.5006s +39d49m39.1692s\n",
      "11h38m52.6462s +63d29m34.0224s\n",
      "11h39m13.5881s +36d18m14.7708s\n",
      "11h40m18.9907s +27d09m47.5596s\n",
      "11h41m07.0786s +45d49m22.0224s\n",
      "11h42m09.8446s +28d22m56.7912s\n",
      "11h42m18.1687s +11d28m15.4236s\n",
      "11h44m25.5818s +31d35m47.8896s\n",
      "11h46m54.2882s +32d36m52.3512s\n",
      "11h46m59.7982s +39d04m37.2288s\n",
      "11h47m44.2202s +60d13m18.4692s\n",
      "11h50m24.7632s +52d52m24.1572s\n",
      "11h50m39.162s +58d02m59.2656s\n",
      "11h50m47.543s +27d13m42.4776s\n",
      "11h50m52.2696s +50d26m27.0384s\n",
      "11h52m09.1126s +19d11m59.0316s\n",
      "11h52m53.0918s +15d07m06.4596s\n",
      "11h55m33.6178s +39d33m59.1984s\n",
      "11h56m24.0842s +04d27m11.0592s\n",
      "11h56m43.261s +12d15m33.7104s\n",
      "11h59m44.0162s +14d33m05.0364s\n",
      "12h00m30.3487s +01d29m18.3552s\n",
      "12h01m22.9906s +56d41m11.8896s\n",
      "12h02m15.3034s +57d22m54.8724s\n",
      "12h02m24.6761s +07d48m00.2628s\n",
      "12h03m10.7998s +44d06m14.1624s\n",
      "12h03m54.2446s +59d54m43.8012s\n",
      "12h04m29.5738s +41d11m46.9068s\n",
      "12h04m36.0252s +25d30m07.2936s\n",
      "12h04m51.1872s +11d42m37.5804s\n",
      "12h06m24.6238s +58d14m50.2836s\n",
      "12h07m00.0516s +46d34m28.0668s\n",
      "12h10m37.3517s +52d53m41.9028s\n",
      "12h11m59.8001s +32d40m09.966s\n",
      "12h13m33.804s +20d07m21.8496s\n",
      "12h13m44.28s +47d19m58.7172s\n",
      "12h14m57.677s +65d38m18.078s\n",
      "12h15m31.099s +19d55m04.44s\n",
      "12h15m51.563s +31d26m28.3848s\n",
      "12h18m13.1534s +57d39m11.2572s\n",
      "12h19m04.6788s +58d01m02.6976s\n",
      "12h24m53.0774s +37d21m37.656s\n",
      "12h24m55.0742s +43d07m45.6888s\n",
      "12h25m14.2939s +57d09m42.3396s\n",
      "12h27m24.4826s +35d18m28.4364s\n",
      "12h27m58.3214s -00d15m19.8648s\n",
      "12h29m04.3836s +34d31m02.694s\n",
      "12h31m37.6922s +35d15m47.9448s\n",
      "12h32m14.5694s +56d55m55.9344s\n",
      "12h33m40.2535s +12d45m58.6224s\n",
      "12h35m03.6317s +37d58m33.4632s\n",
      "12h35m10.673s +42d57m41.0724s\n",
      "12h35m46.8336s +64d51m36.6984s\n",
      "12h38m23.37s +46d34m39.09s\n",
      "12h38m58.6394s +38d02m13.4124s\n",
      "12h39m32.6815s +38d16m05.754s\n",
      "12h39m47.4833s +22d18m34.9092s\n",
      "12h40m02.2286s +39d55m55.4736s\n",
      "12h41m04.1014s +45d48m20.6856s\n",
      "12h42m15.7618s +49d23m30.0264s\n",
      "12h42m27.7838s +53d31m25.6836s\n",
      "12h42m39.1253s +24d19m07.086s\n",
      "12h42m48.2575s +18d17m17.8368s\n",
      "12h43m59.4629s +59d21m48.6648s\n",
      "12h44m07.2139s +34d42m13.7052s\n",
      "12h44m20.8397s +39d16m07.968s\n",
      "12h44m31.3702s +32d08m23.8668s\n",
      "12h44m39.9926s +29d15m40.7052s\n",
      "12h44m43.0147s +47d27m41.5512s\n",
      "12h44m50.1806s +64d28m28.3944s\n",
      "12h44m52.0822s +03d39m50.9544s\n",
      "12h45m08.539s +46d14m52.2024s\n",
      "12h45m17.0369s +59d22m18.1452s\n",
      "12h46m32.3023s +23d45m31.158s\n",
      "12h47m06.5856s +15d12m39.9132s\n",
      "12h47m17.4122s +31d53m52.8828s\n",
      "12h47m32.4749s +39d42m39.7512s\n",
      "12h47m49.8192s +63d11m57.1632s\n",
      "12h48m12.5294s +03d41m12.9084s\n",
      "12h48m46.0469s +40d57m58.1508s\n",
      "12h49m30.7073s +11d34m07.4028s\n",
      "12h49m33.6914s +46d00m06.408s\n",
      "12h50m12.4776s +36d45m14.4504s\n",
      "12h50m43.8866s +19d14m36.1896s\n",
      "12h52m17.8411s +28d49m48.0144s\n",
      "12h53m04.5701s +63d27m18.5976s\n",
      "12h53m08.6088s +22d17m43.9116s\n",
      "12h53m51.3845s +47d41m09.6288s\n",
      "12h55m15.5808s +49d57m47.8332s\n",
      "12h55m52.5958s +22d34m24.4092s\n",
      "12h59m50.1929s +55d31m59.5272s\n",
      "13h04m10.5s +35d36m51.9444s\n",
      "13h04m19.7239s +54d42m52.038s\n",
      "13h06m26.4535s +54d28m49.062s\n",
      "13h07m11.8505s +01d56m39.4188s\n",
      "13h08m32.1007s +03d44m03.9768s\n",
      "13h08m39.6667s +23d49m53.0292s\n",
      "13h09m38.1509s +65d16m57.5436s\n",
      "13h10m04.9222s +52d59m18.2472s\n",
      "13h10m17.9899s +11d34m25.0572s\n",
      "13h10m37.357s -00d47m43.9764s\n",
      "13h10m50.1283s +47d20m57.0228s\n",
      "13h13m40.037s +21d52m16.8528s\n",
      "13h14m30.7877s +46d27m58.2336s\n",
      "13h15m17.7353s +56d29m43.638s\n",
      "13h15m35.4365s +48d07m14.3832s\n",
      "13h15m54.2849s +55d21m30.366s\n",
      "13h17m26.4718s +58d54m17.19s\n",
      "13h18m29.681s +48d00m32.1228s\n",
      "13h18m48.6766s +49d41m13.9524s\n",
      "13h19m27.6994s +46d04m50.3832s\n",
      "13h19m39.4594s +21d38m06.7344s\n",
      "13h22m18.5844s +31d14m39.4656s\n",
      "13h23m19.7741s +46d13m02.8452s\n",
      "13h23m24.1471s +25d18m09.6048s\n",
      "13h25m14.9746s +54d09m30.564s\n",
      "13h26m15.9626s +44d20m43.5732s\n",
      "13h27m09.4152s +30d54m30.024s\n",
      "13h28m31.2605s +47d03m56.5056s\n",
      "13h28m58.8432s +50d30m01.1556s\n",
      "13h30m59.7278s +29d30m05.976s\n",
      "13h31m01.6757s -02d36m31.5144s\n",
      "13h31m12.6348s +51d36m14.7024s\n",
      "13h31m18.7658s +26d09m33.1524s\n",
      "13h35m15.324s +43d30m12.2832s\n",
      "13h38m47.0448s +11d26m10.3236s\n",
      "13h39m06.1325s +00d41m37.7304s\n",
      "13h40m21.4051s -01d00m31.3416s\n",
      "13h40m50.4144s +20d21m48.5856s\n",
      "13h44m46.0985s +34d05m33.5904s\n",
      "13h45m06.5304s +50d37m12.6732s\n",
      "13h46m50.0789s +19d52m35.2056s\n",
      "13h46m54.9811s +51d46m46.7112s\n",
      "13h48m12.7826s +66d39m35.6004s\n",
      "13h51m54.7289s +30d03m01.512s\n",
      "13h53m08.9122s +35d29m22.1028s\n",
      "13h55m12.487s +65d47m48.768s\n",
      "13h56m32.419s +61d33m00.6048s\n",
      "14h01m06.5376s +42d04m47.6724s\n",
      "14h04m50.5853s +49d27m21.9348s\n",
      "14h05m29.5248s +35d03m27.9756s\n",
      "14h06m37.733s +10d56m32.4384s\n",
      "14h06m46.1172s +23d48m21.078s\n",
      "14h07m35.9904s +49d45m17.8308s\n",
      "14h09m41.987s +06d28m42.9924s\n",
      "14h10m18.781s +48d04m46.578s\n",
      "14h11m23.3566s +48d34m13.584s\n",
      "14h13m25.3699s +16d07m55.8516s\n",
      "14h16m04.1206s +22d14m09.3372s\n",
      "14h16m50.3633s +51d11m08.3544s\n",
      "14h17m15.5066s +48d29m07.2528s\n",
      "14h18m55.4143s +24d41m08.9088s\n",
      "14h20m21.4584s +59d40m24.0528s\n",
      "14h21m59.8798s +04d36m40.8312s\n",
      "14h22m00.7742s +23d07m33.7008s\n",
      "14h22m15.57s +46d52m30.72s\n",
      "14h23m53.9316s +55d35m29.4972s\n",
      "14h28m29.4206s +55d09m42.7968s\n",
      "14h33m12.5556s +08d26m51.7596s\n",
      "14h35m17.707s +63d42m59.2452s\n",
      "14h37m46.639s +44d32m58.5924s\n",
      "14h38m42.361s +46d13m20.3988s\n",
      "14h39m56.7228s +22d45m22.0932s\n",
      "14h40m43.085s +56d58m22.5228s\n",
      "14h40m59.1494s +34d36m44.7228s\n",
      "14h43m57.499s +10d56m00.5748s\n",
      "14h44m58.7911s +23d15m54.8208s\n",
      "14h46m22.0018s +01d10m43.716s\n",
      "14h47m55.5756s +10d00m40.032s\n",
      "14h48m21.8402s +56d50m16.1088s\n",
      "14h49m23.3969s +12d20m00.7332s\n",
      "14h49m31.8643s +01d43m24.3156s\n",
      "14h52m14.857s +07d51m04.5576s\n",
      "14h53m07.1234s +42d00m04.4388s\n",
      "14h54m12.0336s +07d49m42.1788s\n",
      "14h54m20.0606s +30d24m16.38s\n",
      "14h54m48.1426s +42d46m55.2252s\n",
      "14h57m23.4499s +39d55m54.0912s\n",
      "14h57m24.0084s +45d21m57.8376s\n",
      "14h57m27.4915s +02d37m28.4268s\n",
      "14h58m06.2258s +36d05m07.6092s\n",
      "14h59m15.3206s +57d17m59.7624s\n",
      "15h03m21.1639s +09d06m44.2296s\n",
      "15h05m08.9861s +10d45m05.3784s\n",
      "15h06m24.6223s +41d35m55.2696s\n",
      "15h06m38.5505s +57d34m59.0592s\n",
      "15h10m17.8222s +42d21m54.9612s\n",
      "15h11m00.653s +54d40m35.8572s\n",
      "15h11m34.0834s +27d39m27.8928s\n",
      "15h12m24.5947s +05d38m18.528s\n",
      "15h12m48.3842s +50d40m11.226s\n",
      "15h14m17.1821s +09d54m51.9048s\n",
      "15h15m15.0581s +26d28m14.6604s\n",
      "15h16m32.6724s +15d46m39.1548s\n",
      "15h17m44.7936s +20d03m04.3596s\n",
      "15h18m39.6432s +19d09m51.4116s\n",
      "15h20m36.6077s +31d11m50.9892s\n",
      "15h21m56.7014s +33d07m17.5656s\n",
      "15h26m51.2789s +40d29m46.9356s\n",
      "15h27m10.2204s +14d22m55.3512s\n",
      "15h27m32.4578s +34d37m31.098s\n",
      "15h28m47.0009s +31d51m54.468s\n",
      "15h29m49.362s +40d40m11.1936s\n",
      "15h30m07.968s +48d09m32.0652s\n",
      "15h30m27.3293s +25d15m08.3556s\n",
      "15h31m23.0316s +14d12m21.5064s\n",
      "15h32m15.2042s +08d12m34.2576s\n",
      "15h34m56.0201s +21d53m42.3204s\n",
      "15h38m51.977s +57d08m14.514s\n",
      "15h39m54.744s +31d46m29.2836s\n",
      "15h40m34.1566s +47d43m57.1908s\n",
      "15h44m21.403s +50d26m45.8808s\n",
      "15h45m53.4271s +22d40m11.9532s\n",
      "15h47m44.6438s +07d50m18.8736s\n",
      "15h48m02.6273s +57d08m23.6256s\n",
      "15h48m09.5798s +40d54m05.4756s\n",
      "15h48m45.0053s +34d02m13.3836s\n",
      "15h52m04.2182s +14d17m10.1292s\n",
      "15h54m22.8773s +12d44m38.0076s\n",
      "15h55m25.8156s +12d29m20.7708s\n",
      "15h56m20.754s +30d41m21.9372s\n",
      "15h57m43.0658s +04d34m39.2016s\n",
      "15h58m31.8298s +44d09m11.5272s\n",
      "16h01m08.4348s +42d29m37.5036s\n",
      "16h04m11.995s +06d32m05.5788s\n",
      "16h04m24.1666s +27d17m59.136s\n",
      "16h05m47.5944s +51d13m30.198s\n",
      "16h14m30.7596s +51d16m29.0892s\n",
      "16h18m16.4453s +18d42m08.208s\n",
      "16h18m25.9598s +51d43m04.0908s\n",
      "16h19m30.937s +19d26m20.8968s\n",
      "16h22m11.8222s +51d24m07.2144s\n",
      "16h22m14.4612s +26d24m02.0088s\n",
      "16h22m29.9302s +35d31m25.2552s\n",
      "16h22m32.2956s +20d32m03.9444s\n",
      "16h24m34.3308s +51d02m58.6932s\n",
      "16h24m49.6032s +49d30m32.7528s\n",
      "16h24m58.4213s +42d31m07.4784s\n",
      "16h26m07.1498s +14d00m27.5616s\n",
      "16h28m24.5196s +23d42m27.828s\n",
      "16h29m24.4368s +18d08m24.8028s\n",
      "16h31m21.7442s +43d33m17.298s\n",
      "16h31m30.2076s +36d59m22.2648s\n",
      "16h32m04.1554s +48d07m34.0572s\n",
      "16h35m46.2979s +25d47m59.0388s\n",
      "16h40m03.7262s +25d48m00.0072s\n",
      "16h41m45.2822s +27d36m22.8636s\n",
      "16h43m27.977s +29d18m21.9348s\n",
      "16h45m57.7114s +29d47m30.3684s\n",
      "16h47m18.8594s +31d32m43.8792s\n",
      "16h51m59.0059s +34d10m48.648s\n",
      "16h52m43.0375s +18d58m38.4708s\n",
      "16h57m34.1417s +38d41m59.064s\n",
      "16h58m39.3125s +26d07m54.5412s\n",
      "16h59m40.0291s +37d05m48.6816s\n",
      "17h13m50.6822s +33d58m23.988s\n",
      "17h14m04.2065s +30d27m00.3096s\n",
      "17h27m04.6798s +59d37m36.6348s\n",
      "20h43m33.2021s -00d11m04.29s\n",
      "20h53m03.4759s -01d04m15.0852s\n",
      "21h02m25.3279s -00d48m41.8788s\n",
      "21h18m53.987s +01d11m04.7472s\n",
      "21h20m24.5486s +00d07m33.2076s\n",
      "21h27m24.3295s +00d47m18.2112s\n",
      "21h35m20.5104s -01d03m18.378s\n",
      "21h43m06.6034s -00d42m11.394s\n",
      "21h50m20.9892s +00d58m22.1376s\n",
      "21h56m55.1374s -00d04m00.9732s\n",
      "21h57m49.6637s +00d39m57.6828s\n",
      "21h59m56.4871s +00d53m40.8048s\n",
      "22h01m52.3858s -00d17m20.8392s\n",
      "22h06m44.4811s -00d39m06.2316s\n",
      "22h12m27.4366s -00d11m58.4412s\n",
      "22h18m06.6737s +00d52m23.5956s\n",
      "22h21m10.7515s -00d11m59.8884s\n",
      "22h27m21.757s -01d06m37.7964s\n",
      "22h27m48.7262s +00d32m19.2336s\n",
      "22h27m48.8657s +12d15m35.8056s\n",
      "22h49m50.8548s -00d14m32.982s\n",
      "22h55m35.6662s -00d01m56.8416s\n",
      "22h55m50.4007s -00d09m17.73s\n",
      "22h59m02.9045s +00d32m44.0196s\n",
      "23h03m33.6756s +01d03m50.454s\n",
      "23h07m51.9022s -00d30m16.3044s\n",
      "23h11m21.0986s +00d51m33.822s\n",
      "23h12m26.5937s -00d18m15.8364s\n",
      "23h14m25.1326s -01d09m02.9268s\n",
      "23h17m42.689s +01d14m25.2276s\n",
      "23h23m25.9205s -01d00m52.9812s\n",
      "23h26m40.013s -00d30m41.418s\n",
      "23h31m29.8342s -00d49m33.3228s\n",
      "23h31m55.0183s -01d15m15.0696s\n",
      "23h34m51.7495s +00d43m39.1224s\n",
      "23h41m09.3132s -00d41m32.7048s\n",
      "23h48m30.984s +01d10m37.6608s\n",
      "23h52m32.0748s -00d15m03.9456s\n",
      "23h53m14.9983s -00d50m34.8828s\n",
      "23h54m17.7324s +13d58m11.7696s\n",
      "23h54m21.3528s -00d19m12.1476s\n"
     ]
    }
   ],
   "source": [
    "for qq,cc in enumerate(c_igmsp):\n",
    "    if kpc_amin[qq]*ang_sep[qq] < 300 *u.kpc: \n",
    "        if len(np.where(cc.separation(c_QPQ9) < 0.5*u.arcsec)[0]) == 0: # pair not in QPQ9 already\n",
    "            if len(np.where(cc.separation(c_NIR) < 0.5*u.arcsec)[0]) == 0:                 \n",
    "                if 'SDSS-HW' in igmsp.cat[ID_fg[qq]]['flag_zem']: # good z\n",
    "                    # Match Johnson+15 and Farina+ samples' redshifts, and MgII redshift or better \n",
    "                    if (igmsp.cat[ID_fg[qq]]['zem'] >= 0.4) & (igmsp.cat[ID_fg[qq]]['zem'] <= 2.1): \n",
    "                        # Lya forest cut for MgII stack \n",
    "                        if 2796.352*(1+igmsp.cat['zem'][ID_fg[qq]]) > (1215.6701+6.)*(1+igmsp.cat['zem'][ID_bg[qq]]):\n",
    "                            print(cc.to_string('hmsdms')) \n",
    "                            if np.mod(igmsp.cat['flag_group'][ID_fg[qq]],2) == 0:\n",
    "                                name = 'BOSSJ'\n",
    "                            else:\n",
    "                                name = 'SDSSJ'  \n",
    "                            name = name + c_igmsp_bg[qq].to_string('hmsdms')[0:2]\n",
    "                            name = name + c_igmsp_bg[qq].to_string('hmsdms')[3:5]\n",
    "                            ipos = c_igmsp_bg[qq].to_string('hmsdms').rfind(' ')+1\n",
    "                            name = name + c_igmsp_bg[qq].to_string('hmsdms')[ipos:ipos+3] \n",
    "                            name = name + c_igmsp_bg[qq].to_string('hmsdms')[ipos+4:ipos+6]\n",
    "                            QPQ9.add_row({'FG_RA':igmsp.cat['RA'][ID_fg[qq]],'FG_DEC':igmsp.cat['DEC'][ID_fg[qq]],\n",
    "                                          'NAME':name,\n",
    "                                          'RA':igmsp.cat['RA'][ID_bg[qq]],'DEC':igmsp.cat['DEC'][ID_bg[qq]],\n",
    "                                          'Z_FG':igmsp.cat['zem'][ID_fg[qq]],'Z_FSIG':272,\n",
    "                                          'BG_Z':igmsp.cat['zem'][ID_bg[qq]],\n",
    "                                          'R_PHYS':(kpc_amin[qq]*ang_sep[qq]).value,'ZFG_LINE':'SDSS-HW'})\n",
    "QPQ9.sort(['FG_RA','FG_DEC'])"
   ]
  },
  {
   "cell_type": "code",
   "execution_count": 297,
   "metadata": {
    "collapsed": false
   },
   "outputs": [
    {
     "data": {
      "text/plain": [
       "(654, <QTable length=20>\n",
       "      NAME      ZFG_LINE      Z_FG     \n",
       "     str14       str36      float64    \n",
       " -------------- -------- --------------\n",
       " BOSSJ0001+0000  SDSS-HW  1.98956203461\n",
       " BOSSJ0003-0022  SDSS-HW 0.519200026989\n",
       " BOSSJ0008-0039  SDSS-HW  1.61289596558\n",
       " BOSSJ0008-0039  SDSS-HW  1.93808495998\n",
       " BOSSJ0012+0115  SDSS-HW 0.504666984081\n",
       " BOSSJ0021+1602  SDSS-HW 0.836601018906\n",
       " BOSSJ0024+0032  SDSS-HW 0.402581989765\n",
       " BOSSJ0025-0054  SDSS-HW 0.561591982841\n",
       " BOSSJ0026+1354  SDSS-HW  1.31915104389\n",
       " BOSSJ0029+0001  SDSS-HW 0.980237007141\n",
       " BOSSJ0030+0054  SDSS-HW  1.45808899403\n",
       " BOSSJ0033+1546  SDSS-HW  1.26510596275\n",
       " BOSSJ0036+1609  SDSS-HW  0.46544200182\n",
       " BOSSJ0039-0007  SDSS-HW  1.01221096516\n",
       " BOSSJ0040+1409  SDSS-HW 0.672659993172\n",
       " BOSSJ0041+0115  SDSS-HW  1.19738805294\n",
       " BOSSJ0041+1355  SDSS-HW 0.882438004017\n",
       " BOSSJ0042+1350  SDSS-HW  1.77609395981\n",
       " BOSSJ0043+0005  SDSS-HW  0.82183098793\n",
       " BOSSJ0044-0042  SDSS-HW 0.558131992817)"
      ]
     },
     "execution_count": 297,
     "metadata": {},
     "output_type": "execute_result"
    }
   ],
   "source": [
    "len(QPQ9),QPQ9['NAME','ZFG_LINE','Z_FG'][0:20]"
   ]
  },
  {
   "cell_type": "code",
   "execution_count": 298,
   "metadata": {
    "collapsed": true
   },
   "outputs": [],
   "source": [
    "# write\n",
    "xxf.table_to_fits(QPQ9,'qpq9_final.fits')"
   ]
  },
  {
   "cell_type": "code",
   "execution_count": 5,
   "metadata": {
    "collapsed": false
   },
   "outputs": [
    {
     "name": "stdout",
     "output_type": "stream",
     "text": [
      "x.fits.bintab_to_table: Reading qpq9_final.fits\n",
      "(2.4860000610351562, u'15h29m29.03s +23d14m20s', u'15h29m28.38s +23d14m15.9s')\n",
      "(3.2240000000000002, u'08h51m59.89s +16d55m34.6s', u'08h51m59.07s +16d55m32.5s')\n",
      "(2.3959717750549316, u'10h39m31.8s +18d44m56.8s', u'10h39m31.72s +18d44m51.7s')\n",
      "(2.5510000000000002, u'11h49m08.77s +03d46m13.2s', u'11h49m09.77s +03d46m16.8s')\n",
      "(2.5120000839233398, u'13h43m42.1s +00d19m20.8s', u'13h43m43.03s +00d19m02.4s')\n",
      "(2.5630000000000002, u'22h51m42.1s +01d37m02.4s', u'22h51m41.39s +01d36m54s')\n",
      "(1.6200000000000001, u'10h19m47.1s +49d48m35.8s', u'10h19m47s +49d48m49.1s')\n",
      "(2.21, u'11h12m42.69s +66d11m52.8s', u'11h12m45.71s +66d12m15.4s')\n",
      "(2.2599999999999998, u'13h44m41.1s -00d49m50.2s', u'13h44m40.36s -00d50m04.7s')\n",
      "(2.42793869972229, u'02h58m37.57s -04d44m26s', u'02h58m36.62s -04d44m38.5s')\n",
      "(2.3900000000000001, u'00h16m05.89s +00d56m54.3s', u'00h16m07.27s +00d56m53s')\n",
      "(2.3570001125335693, u'01h54m12.13s -04d54m24.6s', u'01h54m10.83s -04d54m08.1s')\n",
      "(2.5310000000000001, u'07h54m46.06s +33d32m02.2s', u'07h54m45.02s +33d32m15.7s')\n",
      "(2.4740000000000002, u'09h53m48.32s +14d26m10.8s', u'09h53m48.86s +14d26m09.3s')\n",
      "(2.4430000000000001, u'11h02m04.27s +46d10m55.4s', u'11h02m07.49s +46d11m02.4s')\n",
      "(2.3940000000000001, u'12h28m36.37s +50d31m11.3s', u'12h28m38.51s +50d31m37.9s')\n",
      "(2.2000000000000002, u'12h57m17.73s +10d46m36.4s', u'12h57m17.41s +10d46m48.8s')\n",
      "(2.5049999999999999, u'13h27m46.87s +01d37m22.9s', u'13h27m45.5s +01d37m46.5s')\n",
      "(2.4020000000000001, u'14h12m52.81s +08d39m48.1s', u'14h12m53.56s +08d39m28.7s')\n",
      "(2.3591005802154541, u'16h20m05.35s +13d45m48.2s', u'16h20m07.54s +13d45m51.3s')\n",
      "(2.355, u'17h15m21.87s +60d16m47.8s', u'17h15m17.56s +60d16m37.2s')\n",
      "(2.4579999446868896, u'22h09m02.41s +09d35m29.2s', u'22h09m01.88s +09d36m02.5s')\n"
     ]
    }
   ],
   "source": [
    "# Find pairs in QPQ database that have [OIII] at accessible wavelengths, but not in QPQ9 \n",
    "QPQ9 = xxf.bintab_to_table('qpq9_final.fits')\n",
    "c_QPQ9 = SkyCoord(QPQ9['FG_RA']*u.deg,QPQ9['FG_DEC']*u.deg)\n",
    "c_QPQ9_bg = SkyCoord(ra=QPQ9['RA']*u.deg,dec=QPQ9['DEC']*u.deg)\n",
    "qpq_fil = '/Users/lwymarie/Desktop/qpq_optical.hdf5'\n",
    "qpqsp = SpecDB(db_file=qpq_fil,verbose=False,idkey='PRIV_ID')\n",
    "ID_fg, ID_bg = qpqsp.qcat.pairs(0.92*u.arcmin, 3000.*u.km/u.s)\n",
    "c_qpqsp = SkyCoord(qpqsp.cat['RA'][ID_fg]*u.deg,qpqsp.cat['DEC'][ID_fg]*u.deg)\n",
    "c_qpqsp_bg = SkyCoord(qpqsp.cat['RA'][ID_bg]*u.deg,qpqsp.cat['DEC'][ID_bg]*u.deg)\n",
    "kpc_amin = cosmo.kpc_proper_per_arcmin(qpqsp.cat['zem'][ID_fg])\n",
    "ang_sep = c_qpqsp.separation(c_qpqsp_bg).to('arcmin')\n",
    "for qq,cc in enumerate(c_qpqsp):\n",
    "    if kpc_amin[qq]*ang_sep[qq] < 300 *u.kpc: \n",
    "        if len(np.where(cc.separation(c_QPQ9) < 0.5*u.arcsec)[0]) == 0: # pair not in QPQ9 already\n",
    "                if (((qpqsp.cat['zem'][ID_fg[qq]] > 1.6) & (qpqsp.cat['zem'][ID_fg[qq]] < 1.67)) | \n",
    "                    ((qpqsp.cat['zem'][ID_fg[qq]] > 1.99) & (qpqsp.cat['zem'][ID_fg[qq]] < 2.60)) | \n",
    "                    ((qpqsp.cat['zem'][ID_fg[qq]] > 3.08) & (qpqsp.cat['zem'][ID_fg[qq]] < 3.76))):\n",
    "                    print(qpqsp.cat['zem'][ID_fg[qq]],cc.to_string('hmsdms'),c_qpqsp_bg[qq].to_string('hmsdms'))"
   ]
  },
  {
   "cell_type": "code",
   "execution_count": null,
   "metadata": {
    "collapsed": true
   },
   "outputs": [],
   "source": [
    "# Try 13h44m41.1s -00d49m50.2s with TSpec "
   ]
  },
  {
   "cell_type": "code",
   "execution_count": 7,
   "metadata": {
    "collapsed": false
   },
   "outputs": [
    {
     "name": "stdout",
     "output_type": "stream",
     "text": [
      "(2.3232432428230712, u'00h04m14.4243s +11d51m42.8145s', u'00h04m12.8195s +11d51m18.7254s')\n",
      "(2.5451976422676061, u'00h05m28.3173s +25d45m54.0934s', u'00h05m28.1689s +25d46m17.0817s')\n",
      "(2.2538284488614395, u'00h09m46.9977s +12d04m13.2562s', u'00h09m45.7658s +12d03m56.687s')\n",
      "(1.9968066267917532, u'00h09m56.5739s +26d16m28.7461s', u'00h09m57.5029s +26d16m42.8444s')\n",
      "(2.0434456426466707, u'00h10m10.1842s +32d59m51.1173s', u'00h10m10.8187s +32d59m43.7841s')\n",
      "(2.5286297980607966, u'00h11m15.9015s -04d01m18.4792s', u'00h11m16.3926s -04d00m57.5678s')\n",
      "(2.289553017102417, u'00h11m20.2281s +26d01m09.211s', u'00h11m21.5604s +26d01m35.0305s')\n",
      "(2.4082524925671165, u'00h16m05.8874s +00d56m54.2634s', u'00h16m07.2699s +00d56m53.0248s')\n",
      "(2.2825119043009221, u'00h18m45.6397s +33d03m23.0599s', u'00h18m44.4297s +33d03m42.6317s')\n",
      "(2.242640902424569, u'00h22m45.4832s +16d31m24.0169s', u'00h22m44.2515s +16d31m03.7559s')\n",
      "(2.1019204566133625, u'00h25m29.7984s +00d13m39.6908s', u'00h25m29.5333s +00d13m21.0791s')\n",
      "(2.2562149978158805, u'00h27m22.5886s +32d51m08.9871s', u'00h27m22.4674s +32d51m30.0908s')\n",
      "(2.2951883709959047, u'00h36m04.0987s -02d56m33.3556s', u'00h36m04.0915s -02d56m02.4302s')\n",
      "(2.409292459487915, u'00h38m20.4647s +00d27m29.8959s', u'00h38m21.9646s +00d27m13.728s')\n",
      "(2.2228518176054344, u'00h43m06.0116s -00d53m32.7444s', u'00h43m03.9365s -00d53m44.1807s')\n",
      "(2.2099076447777057, u'00h43m41.0343s +14d01m05.5885s', u'00h43m42.1762s +14d00m51.5871s')\n",
      "(2.2534088723982988, u'00h54m42.2354s +21d27m08.5687s', u'00h54m43.6813s +21d26m42.38s')\n",
      "(2.1022075157531024, u'00h55m33.476s +12d34m36.9518s', u'00h55m35.0583s +12d34m51.0351s')\n",
      "(2.3829727586067841, u'00h55m50.1293s +02d36m34.2838s', u'00h55m51.9544s +02d36m49.526s')\n",
      "(2.2708094936622558, u'00h57m20.1095s -00d01m10.6806s', u'00h57m18.9036s -00d01m34.7213s')\n",
      "(2.234497072893034, u'00h59m55.3603s +04d18m18.9873s', u'00h59m55.9168s +04d18m51.6199s')\n",
      "(2.3183724907815701, u'01h00m35.2372s +26d02m47.8435s', u'01h00m36.3013s +26d02m59.8552s')\n",
      "(2.1449543018223496, u'01h05m23.6955s -00d25m38.8283s', u'01h05m24.3964s -00d25m27.1357s')\n",
      "(2.2301602176348436, u'01h07m57.8788s +18d24m03.4988s', u'01h07m57.4424s +18d24m36.2278s')\n",
      "(2.0110312240746544, u'01h08m10.8853s +22d14m06.0755s', u'01h08m10.3123s +22d13m58.301s')\n",
      "(2.5200151697946898, u'01h18m15.2234s +08d21m14.8775s', u'01h18m15.8341s +08d21m21.533s')\n",
      "(2.3383849452396182, u'01h18m32.3903s -07d03m15.5242s', u'01h18m32.4003s -07d03m46.1499s')\n",
      "(2.4072846269984276, u'01h24m37.4002s +13d58m38.7194s', u'01h24m36.8693s +13d58m14.7453s')\n",
      "(1.6276258322969908, u'01h40m52.1788s +24d33m27.1135s', u'01h40m53.7622s +24d33m09.4997s')\n",
      "(2.5623768811233312, u'01h41m31.0262s +01d01m00.5989s', u'01h41m32.8604s +01d00m41.4793s')\n",
      "(2.3154139075642615, u'01h54m01.3781s +26d48m41.217s', u'01h54m03.7904s +26d48m28.115s')\n",
      "(2.3561733847438391, u'01h54m12.1328s -04d54m24.6629s', u'01h54m10.8312s -04d54m08.1562s')\n",
      "(2.3605870622705085, u'01h54m25.6581s +07d00m11.8109s', u'01h54m24.4207s +07d00m25.9839s')\n",
      "(2.1814402788335525, u'01h59m03.874s +26d54m41.7996s', u'01h59m06.3833s +26d54m49.8807s')\n",
      "(2.4198718675619739, u'02h04m18.5834s +02d11m25.9437s', u'02h04m16.3601s +02d11m22.4094s')\n",
      "(1.6257650020134164, u'02h10m01.8405s -05d17m38.2791s', u'02h10m00.0562s -05d17m33.5101s')\n",
      "(2.2052436056365576, u'02h14m14.4239s +01d05m12.1733s', u'02h14m15.2489s +01d05m22.9182s')\n",
      "(2.2317087909128812, u'02h15m40.4216s -08d18m41.5179s', u'02h15m39.9555s -08d18m51.3577s')\n",
      "(1.6270190150265464, u'02h25m26.3271s -01d14m34.3976s', u'02h25m28.1664s -01d14m16.5452s')\n",
      "(1.6601697804395745, u'02h26m30.7915s -05d05m52.215s', u'02h26m30.5208s -05d05m29.1943s')\n",
      "(2.182114672158701, u'02h27m51.245s -05d01m01.316s', u'02h27m52.5364s -05d01m28.8584s')\n",
      "(2.3927948435270943, u'02h28m57.6365s -04d07m33.28s', u'02h28m58.1577s -04d07m40.1849s')\n",
      "(2.4867257256222079, u'02h29m14.1201s -07d57m37.3241s', u'02h29m15.1291s -07d57m12.8189s')\n",
      "(2.1065060874434054, u'02h31m16.7227s -05d52m33.5672s', u'02h31m18.6674s -05d52m39.732s')\n",
      "(2.3770836684231353, u'02h31m39.5343s +00d17m58.3939s', u'02h31m41.1119s +00d17m34.095s')\n",
      "(2.5497030216576135, u'02h45m07.8665s -00d39m21.3816s', u'02h45m09.5674s -00d39m19.2136s')\n",
      "(1.6006625549461397, u'02h46m03.6827s -00d32m11.7543s', u'02h46m02.3475s -00d32m21.6101s')\n",
      "(2.4225388023949574, u'02h58m37.5665s -04d44m26.0129s', u'02h58m36.6156s -04d44m38.6s')\n",
      "(2.1647767969466991, u'07h31m26.6824s +40d39m17.903s', u'07h31m24.7097s +40d39m18.6031s')\n",
      "(2.3440602202941387, u'07h40m31.1527s +22d46m16.1334s', u'07h40m29.7741s +22d45m57.2274s')\n",
      "(2.3272182620821114, u'07h45m44.5322s +40d31m12.2937s', u'07h45m43.5117s +40d31m36.0172s')\n",
      "(2.2534109830798319, u'07h50m28.1228s +32d43m29.7964s', u'07h50m30.1123s +32d43m11.3436s')\n",
      "(2.5131114507230867, u'07h54m35.4021s +48d06m31.3165s', u'07h54m37.6779s +48d06m11.3301s')\n",
      "(2.5262422754209006, u'07h54m46.06s +33d32m02.278s', u'07h54m45.0201s +33d32m15.6365s')\n",
      "(2.0128775859069283, u'07h55m56.1981s +41d12m32.6778s', u'07h55m58.1257s +41d12m22.4442s')\n",
      "(3.1791629523280851, u'07h56m52.4024s +45d02m38.4697s', u'07h56m52.0723s +45d02m58.8637s')\n",
      "(2.1765381976636489, u'08h01m32.1615s +09d57m31.2927s', u'08h01m31.532s +09d57m42.5475s')\n",
      "(2.0494330984224698, u'08h05m07.8235s +52d44m15.5014s', u'08h05m09.3069s +52d44m41.7234s')\n",
      "(2.4568757727980093, u'08h07m37.1398s +17d59m30.0089s', u'08h07m36.0264s +17d58m58.8552s')\n",
      "(1.6498495562411857, u'08h09m38.7284s +50d09m47.7073s', u'08h09m40.5859s +50d09m43.7608s')\n",
      "(2.2995286551640781, u'08h11m36.7907s +02d11m37.9946s', u'08h11m34.8214s +02d11m35.8241s')\n",
      "(2.2739355717853442, u'08h15m23.6439s +49d40m11.6466s', u'08h15m25.1743s +49d40m31.6837s')\n",
      "(2.2476149578786901, u'08h16m10.0354s +43d16m01.3845s', u'08h16m09.0025s +43d15m53.7403s')\n",
      "(2.2784417277530431, u'08h23m34.7729s +44d15m12.4559s', u'08h23m32.4258s +44d14m48.5382s')\n",
      "(1.6456309461762038, u'08h23m46.0482s +53d25m27.8191s', u'08h23m47.4921s +53d25m19.1178s')\n",
      "(2.0929245108043939, u'08h24m21.0108s +53d12m49.2937s', u'08h24m20.0216s +53d13m15.221s')\n",
      "(2.2903777585905245, u'08h26m41.5679s +45d44m42.0171s', u'08h26m42.2878s +45d44m39.3566s')\n",
      "(2.1787810699144554, u'08h29m10.8339s +38d37m14.0102s', u'08h29m12.5362s +38d37m18.8989s')\n",
      "(2.3021898336688587, u'08h29m25.5076s +43d10m32.0598s', u'08h29m28.2557s +43d10m43.1031s')\n",
      "(2.0209500298738585, u'08h35m26.7843s +46d20m07.4548s', u'08h35m26.2517s +46d19m51.8837s')\n",
      "(2.3045915993574586, u'08h35m33.5465s +21d22m21.7987s', u'08h35m35.6892s +21d22m40.1332s')\n",
      "(2.2318539541674025, u'08h35m48.7567s +45d39m32.7636s', u'08h35m50.4498s +45d39m09.2706s')\n",
      "(2.1716520154342387, u'08h41m48.3485s +39d38m25.6211s', u'08h41m48.9462s +39d38m08.4106s')\n",
      "(1.6250188256873779, u'08h45m11.8996s +46d41m35.5249s', u'08h45m09.643s +46d41m13.046s')\n",
      "(2.5290342913997979, u'08h50m09.65s +14d05m59.4103s', u'08h50m10.0616s +14d05m58.5505s')\n",
      "(2.3896460884856903, u'08h50m30.7113s +35d54m44.3013s', u'08h50m31.5786s +35d54m28.6612s')\n",
      "(2.0237098940141514, u'08h51m18.4127s +48d43m42.239s', u'08h51m15.2268s +48d43m40.8852s')\n",
      "(2.3216166456006482, u'08h51m44.1819s +22d51m28.7995s', u'08h51m45.1195s +22d51m31.7531s')\n",
      "(1.6450293141559782, u'08h52m49.4528s +47d14m23.096s', u'08h52m48.5497s +47d14m19.3133s')\n",
      "(2.0505951501965098, u'08h55m14.6736s +48d00m55.8709s', u'08h55m16.4825s +48d00m42.1591s')\n",
      "(2.2671924054388923, u'08h55m27.3786s +30d20m23.3317s', u'08h55m25.2287s +30d20m15.877s')\n",
      "(2.4163879992772266, u'08h57m48.4437s +09d47m00.0552s', u'08h57m48.9274s +09d46m30.4702s')\n",
      "(2.5370240693798554, u'08h59m01.712s +18d01m19.8231s', u'08h59m01.1741s +18d00m57.1193s')\n",
      "(2.1823605783861773, u'08h59m39.258s +17d07m45.3549s', u'08h59m39.4747s +17d08m20.0419s')\n",
      "(2.4731717556049939, u'09h05m17.1683s +26d22m46.9394s', u'09h05m15.5509s +26d23m09.5587s')\n",
      "(2.5527355745034583, u'09h11m58.4006s +22d07m32.5044s', u'09h12m00.1609s +22d07m20.8951s')\n",
      "(2.5143383400648864, u'09h12m09.6579s +46d21m50.8266s', u'09h12m12.6612s +46d21m48.5502s')\n",
      "(2.3787964695122712, u'09h14m25.8493s +60d51m37.9429s', u'09h14m23.5181s +60d51m34.2664s')\n",
      "(2.1406560558236181, u'09h21m12.8723s -01d17m41.7959s', u'09h21m11.2313s -01d17m52.7643s')\n",
      "(2.0565903728250063, u'09h24m05.059s +47d46m11.3924s', u'09h24m02.8466s +47d46m00.6587s')\n",
      "(2.0709340708569139, u'09h25m43.803s +37d25m04.9434s', u'09h25m44.7142s +37d25m03.4985s')\n",
      "(2.4722009404450453, u'09h31m12.8579s +19d05m04.0838s', u'09h31m14.9443s +19d05m10.2394s')\n",
      "(2.3343526881457315, u'09h35m13.2257s +07d29m46.1504s', u'09h35m15.038s +07d29m33.2582s')\n",
      "(2.2543932378063074, u'09h35m38.9415s +40d55m59.7843s', u'09h35m38.3636s +40d56m12.232s')\n",
      "(2.3374023177912764, u'09h39m18.6778s +12d57m31.0508s', u'09h39m19.4636s +12d57m29.1309s')\n",
      "(3.2182227680293356, u'09h39m47.4134s +33d55m56.8565s', u'09h39m49.4242s +33d55m48.3796s')\n",
      "(1.6121493815402428, u'09h39m52.5992s +50d52m07.4394s', u'09h39m54.7532s +50d51m48.7866s')\n",
      "(2.2568797059352099, u'09h44m10.9017s +47d52m46.3047s', u'09h44m12.8048s +47d52m44.1298s')\n",
      "(2.3311843027061938, u'09h44m35.5612s +26d37m49.7217s', u'09h44m35.0621s +26d37m40.909s')\n",
      "(2.2019928845362058, u'09h45m46.1477s +55d20m23.1011s', u'09h45m47.4163s +55d20m06.9065s')\n",
      "(2.2011303396140813, u'09h50m42.7324s +52d33m18.3848s', u'09h50m40.9311s +52d32m55.2076s')\n",
      "(2.1543306998192313, u'09h52m14.2057s +29d18m01.377s', u'09h52m14.1239s +29d18m06.7837s')\n",
      "(2.4707167653716504, u'09h53m48.3195s +14d26m10.7288s', u'09h53m48.8648s +14d26m09.3173s')\n",
      "(2.3654601944205274, u'09h53m55.4123s +42d30m20.6483s', u'09h53m55.8925s +42d30m38.9178s')\n",
      "(2.0265669585362289, u'09h55m52.4811s +50d10m18.7278s', u'09h55m53.3048s +50d10m41.204s')\n",
      "(2.0428893561875672, u'09h58m58.8844s +49d12m53.0596s', u'09h58m58.056s +49d13m07.5147s')\n",
      "(1.6176110877348986, u'10h01m20.1006s +55d13m07.6881s', u'10h01m18.5487s +55d13m07.973s')\n",
      "(2.4075650242017588, u'10h03m10.614s +11d54m00.0721s', u'10h03m09.2548s +11d54m24.4487s')\n",
      "(1.6285472519286179, u'10h05m38.5918s +46d26m20.3582s', u'10h05m39.5796s +46d26m51.3861s')\n",
      "(2.2066553364884638, u'10h07m42.3429s +57d09m04.4295s', u'10h07m38.6863s +57d09m11.55s')\n",
      "(2.3104170074420161, u'10h10m59.099s +48d25m37.5464s', u'10h10m59.9912s +48d25m31.2897s')\n",
      "(2.2492738113614807, u'10h13m05.3252s +39d17m45.8451s', u'10h13m05.6259s +39d18m16.5969s')\n",
      "(2.4838218015061608, u'10h13m55.5048s -01d14m38.6979s', u'10h13m54.857s -01d14m10.4753s')\n",
      "(2.4912958349239931, u'10h14m58.052s +24d16m05.6729s', u'10h14m57.3218s +24d16m39.9013s')\n",
      "(2.1065969450160011, u'10h15m43.0191s +12d40m52.7822s', u'10h15m42.8402s +12d40m58.2729s')\n",
      "(1.6233592464688646, u'10h19m47.0819s +49d48m35.8406s', u'10h19m46.9882s +49d48m48.6468s')\n",
      "(2.2022471559217198, u'10h32m03.9568s +15d04m39.4027s', u'10h32m04.7743s +15d04m50.6664s')\n",
      "(2.2834925182262364, u'10h36m20.6666s +15d47m57.1545s', u'10h36m21.1663s +15d48m29.6626s')\n",
      "(1.6186548610210798, u'10h37m31.7674s +23d57m07.2965s', u'10h37m30.9804s +23d57m03.5703s')\n",
      "(2.3950734016659134, u'10h39m31.7979s +18d44m56.7901s', u'10h39m31.722s +18d44m51.7166s')\n",
      "(2.2213705920510916, u'10h42m45.2214s +24d43m24.5359s', u'10h42m44.8363s +24d43m16.1093s')\n",
      "(2.3535956955152204, u'10h45m15.4232s +17d20m07.8512s', u'10h45m13.8668s +17d19m52.2885s')\n",
      "(1.6480926127453661, u'10h46m17.9434s +47d07m21.8201s', u'10h46m16.172s +47d06m58.5903s')\n",
      "(2.2668297064746579, u'10h48m33.6258s +27d58m28.0939s', u'10h48m32.5497s +27d58m58.5298s')\n",
      "(2.3267884035127508, u'10h49m21.9346s +26d39m41.0334s', u'10h49m20.0146s +26d39m43.1069s')\n",
      "(1.6428027868414972, u'10h52m46.4969s +64d18m32.25s', u'10h52m51.4235s +64d18m38.5414s')\n",
      "(2.2109403163200483, u'10h55m16.7853s +40d31m21.3928s', u'10h55m19.1594s +40d31m06.2257s')\n",
      "(2.3513594436412966, u'10h57m37.4116s +19d32m25.4832s', u'10h57m35.922s +19d32m51.1215s')\n",
      "(2.3221763657799301, u'11h01m01.2981s +25d19m39.0124s', u'11h00m59.5147s +25d19m20.5602s')\n",
      "(2.4382198187546229, u'11h02m04.2757s +46d10m55.4735s', u'11h02m07.4965s +46d11m02.4157s')\n",
      "(2.0232941519255943, u'11h02m27.3909s +48d37m49.582s', u'11h02m28.2183s +48d37m21.3946s')\n",
      "(2.2138854630450249, u'11h03m22.1044s +64d42m06.3032s', u'11h03m21.4786s +64d42m39.4157s')\n",
      "(2.3838808456566949, u'11h07m59.1233s +64d08m29.6949s', u'11h08m01.5426s +64d09m01.0832s')\n",
      "(2.4822203718882458, u'11h08m11.6375s +47d59m16.5712s', u'11h08m11.4718s +47d59m41.3882s')\n",
      "(2.4103069593794237, u'11h08m12.4949s +05d42m39.2559s', u'11h08m10.6778s +05d42m49.8352s')\n",
      "(2.1953407357117514, u'11h10m06.6545s +13d30m57.0377s', u'11h10m05.6579s +13d30m32.2801s')\n",
      "(2.3643625779181683, u'11h12m05.15s +24d25m35.9003s', u'11h12m07.2532s +24d25m56.3921s')\n",
      "(1.647248180808107, u'11h13m45.2498s +31d42m19.4162s', u'11h13m46.9588s +31d42m16.1684s')\n",
      "(2.1923963396477286, u'11h21m08.2521s +00d34m20.9083s', u'11h21m07.708s +00d34m45.0266s')\n",
      "(2.3134586388655989, u'11h23m58.8632s +14d29m34.7922s', u'11h24m00.7698s +14d29m15.1841s')\n",
      "(1.6202325410030185, u'11h28m19.346s +03d19m36.6435s', u'11h28m19.8837s +03d20m00.4682s')\n",
      "(2.2645264001136312, u'11h28m57.1572s +07d28m51.1125s', u'11h28m56.3653s +07d28m51.3555s')\n",
      "(1.6536530256310722, u'11h28m58.8885s +64d44m40.3775s', u'11h28m54.1436s +64d44m27.4499s')\n",
      "(2.115396071558171, u'11h29m33.4155s +61d57m07.8199s', u'11h29m33.746s +61d56m48.7167s')\n",
      "(2.3294126694380073, u'11h33m23.5183s +32d35m19.6988s', u'11h33m24.784s +32d34m49.2735s')\n",
      "(1.6039038682916802, u'11h37m29.7878s +45d31m49.8555s', u'11h37m32.179s +45d31m56.1171s')\n",
      "(2.4320593191220565, u'11h43m25.3675s +14d25m26.236s', u'11h43m24.9825s +14d25m28.1535s')\n",
      "(2.1456186998842601, u'11h43m53.1437s +64d29m28.8101s', u'11h43m50.4687s +64d29m47.7749s')\n",
      "(2.0366360099249561, u'11h45m15.0212s +46d52m38.0019s', u'11h45m12.1968s +46d52m41.7515s')\n",
      "(2.417567466428463, u'11h45m38.6438s +07d22m13.3535s', u'11h45m38.7389s +07d21m48.442s')\n",
      "(2.368040739093626, u'11h46m02.3798s +53d30m14.6899s', u'11h46m01.2157s +53d30m05.7198s')\n",
      "(2.546032885383656, u'11h49m08.7682s +03d46m13.1649s', u'11h49m09.7695s +03d46m16.7991s')\n",
      "(2.2716250842007661, u'11h49m48.8515s +23d57m56.2282s', u'11h49m47.6941s +23d57m37.3595s')\n",
      "(2.3194792217069327, u'11h51m09.8314s +41d45m04.7606s', u'11h51m07.8685s +41d45m02.8514s')\n",
      "(2.3908303791535741, u'11h52m01.3012s +24d00m49.8864s', u'11h52m01.3307s +24d01m04.3247s')\n",
      "(2.4166574656905784, u'11h53m01.9023s +35d30m02.9898s', u'11h53m02.5208s +35d30m08.0976s')\n",
      "(1.6495630146441569, u'11h55m29.493s +46d34m13.113s', u'11h55m28.7495s +46d34m42.9459s')\n",
      "(2.2094132317680515, u'11h58m15.953s +46d42m55.6565s', u'11h58m14.6239s +46d43m15.4655s')\n",
      "(2.1085915891436269, u'12h05m21.3253s +62d04m48.453s', u'12h05m22.6514s +62d04m45.4821s')\n",
      "(2.3529060522780454, u'12h13m16.7986s +17d23m34.791s', u'12h13m16.2406s +17d23m23.1098s')\n",
      "(2.352219592301493, u'12h17m55.5917s +45d39m02.1792s', u'12h17m54.5451s +45d38m48.0943s')\n",
      "(2.1646423244914437, u'12h18m05.0626s +51d30m16.5023s', u'12h18m01.8126s +51d30m30.707s')\n",
      "(2.154325552799901, u'12h18m58.4831s +00d14m10.9356s', u'12h18m56.766s +00d14m32.6112s')\n",
      "(2.4512452965974667, u'12h19m17.6937s +36d57m23.5779s', u'12h19m15.4203s +36d57m18.5745s')\n",
      "(2.276362938556399, u'12h20m16.1848s +28d36m22.0529s', u'12h20m15.08s +28d36m27.3378s')\n",
      "(2.567141032788542, u'12h24m58.1361s +47d27m12.6019s', u'12h24m58.0908s +47d26m43.9766s')\n",
      "(2.4760580925033029, u'12h39m38.2022s -01d22m29.6039s', u'12h39m36.686s -01d22m54.4733s')\n",
      "(2.1793330704196436, u'12h44m00.1955s +15d15m22.7747s', u'12h44m01.0373s +15d15m15.3593s')\n",
      "(2.3727143724626978, u'12h45m40.8426s +05d07m16.2152s', u'12h45m40.0918s +05d07m45.4883s')\n",
      "(2.2562833899477259, u'12h46m37.2699s +25d14m03.3144s', u'12h46m36.5293s +25d13m43.2878s')\n",
      "(2.2709903693459146, u'12h58m19.6435s +19d11m23.0841s', u'12h58m19.5463s +19d11m47.244s')\n",
      "(2.417293460395705, u'13h01m19.7693s +44d53m41.6418s', u'13h01m18.309s +44d53m50.2483s')\n",
      "(2.1687205682561506, u'13h03m30.0721s +62d18m40.0541s', u'13h03m32.4038s +62d19m00.6113s')\n",
      "(2.5456542583955164, u'13h04m27.6167s +10d41m48.277s', u'13h04m26.0458s +10d41m59.3258s')\n",
      "(1.6206128819756245, u'13h07m14.7922s +46d35m36.6361s', u'13h07m16.0737s +46d35m11.1794s')\n",
      "(2.2065064742409009, u'13h10m18.8925s +03d08m35.1099s', u'13h10m20.8591s +03d08m35.0885s')\n",
      "(2.4425814649191024, u'13h13m58.7964s +47d15m15.1022s', u'13h14m00.1236s +47d15m00.142s')\n",
      "(2.5858003390574793, u'13h20m16.0597s +28d37m46.3858s', u'13h20m14.9298s +28d38m11.2169s')\n",
      "(1.6337562113085309, u'13h21m05.5789s +45d09m14.2946s', u'13h21m05.8183s +45d09m12.0266s')\n",
      "(2.1815806397120441, u'13h21m17.3876s +24d06m47.9382s', u'13h21m15.7766s +24d06m29.4701s')\n",
      "(2.1040428006644851, u'13h22m00.0804s +49d22m26.3683s', u'13h22m01.5082s +49d22m37.6756s')\n",
      "(2.1831436662740038, u'13h23m37.6819s +26d49m16.3651s', u'13h23m39.6651s +26d49m27.8277s')\n",
      "(2.3193213522485285, u'13h24m33.3313s +48d03m11.1914s', u'13h24m35.067s +48d03m41.259s')\n",
      "(2.443671525413583, u'13h25m14.5116s +13d23m41.929s', u'13h25m14.317s +13d23m13.8451s')\n",
      "(2.3560225540236188, u'13h27m45.3239s +35d32m18.1853s', u'13h27m46.3247s +35d32m11.9398s')\n",
      "(2.1915263326755112, u'13h29m07.7777s +13d14m53.9551s', u'13h29m08.0526s +13d15m25.3539s')\n",
      "(1.6001302030958064, u'13h29m22.5144s +43d20m49.2875s', u'13h29m20.7006s +43d20m27.9007s')\n",
      "(2.2074814107937391, u'13h29m36.8403s +49d00m07.3831s', u'13h29m38.667s +48d59m52.3573s')\n",
      "(2.0758350227209115, u'13h30m26.1963s +41d14m32.9864s', u'13h30m23.6694s +41d14m45.9431s')\n",
      "(2.4120935688221978, u'13h35m34.3997s +54d40m14.646s', u'13h35m36.6553s +54d40m40.3238s')\n",
      "(2.3060134968042747, u'13h40m51.4215s +15d25m17.0156s', u'13h40m53.5167s +15d25m27.3461s')\n",
      "(2.4554075717988209, u'13h43m56.3129s +47d44m32.6517s', u'13h43m57.036s +47d45m00.6635s')\n",
      "(2.2493219972612111, u'13h47m55.9121s +09d49m28.8786s', u'13h47m54.1373s +09d49m25.8038s')\n",
      "(3.1478018673392172, u'13h51m13.8257s +26d55m14.7916s', u'13h51m12.3303s +26d54m53.5261s')\n",
      "(2.2799833143271595, u'13h51m31.9232s +22d33m55.4491s', u'13h51m32.9554s +22d34m16.7731s')\n",
      "(1.6351843928641678, u'13h53m06.3464s +11d38m04.7313s', u'13h53m07.9994s +11d38m05.5101s')\n",
      "(2.2464560904164421, u'13h53m19.6717s +62d05m31.7435s', u'13h53m20.8585s +62d05m48.7916s')\n",
      "(2.1586024294587931, u'13h54m53.4949s +09d00m14.6004s', u'13h54m53.5241s +09d00m03.934s')\n",
      "(2.1080527187936924, u'14h01m49.4034s +19d00m49.7188s', u'14h01m48.4401s +19d00m52.6731s')\n",
      "(2.264304267177113, u'14h02m00.741s +29d04m12.422s', u'14h02m01.5049s +29d04m38.1966s')\n",
      "(1.6496469135894656, u'14h03m55.1546s +37d34m01.7382s', u'14h03m52.9802s +37d34m17.2065s')\n",
      "(1.6205092302185078, u'14h09m39.4934s +54d05m32.5855s', u'14h09m40.4533s +54d05m00.083s')\n",
      "(2.4099762489648811, u'14h12m52.8183s +08d39m48.1156s', u'14h12m53.5607s +08d39m28.7159s')\n",
      "(2.4726417970807968, u'14h16m33.0413s +35d10m57.0295s', u'14h16m33.5302s +35d10m42.6792s')\n",
      "(2.4355929399645615, u'14h16m45.6552s +43d42m56.3306s', u'14h16m44.6901s +43d42m48.4809s')\n",
      "(1.6020078200936296, u'14h17m23.869s +07d03m17.9001s', u'14h17m22.105s +07d03m10.1346s')\n",
      "(2.2490051858158613, u'14h17m38.4733s +18d39m16.2876s', u'14h17m38.0791s +18d39m16.4136s')\n",
      "(2.0475706331029087, u'14h18m23.077s +52d41m18.9876s', u'14h18m24.0801s +52d41m46.7179s')\n",
      "(2.5716372934468805, u'14h19m21.8275s +30d26m33.1976s', u'14h19m23.2328s +30d26m08.3328s')\n",
      "(2.1580744475168703, u'14h20m58.3249s +34d51m14.5789s', u'14h21m00.9242s +34d51m15.0818s')\n",
      "(2.1063606633834722, u'14h22m35.0172s +52d00m10.2669s', u'14h22m34.6071s +51d59m48.9696s')\n",
      "(2.420087358935973, u'14h24m05.0614s +09d13m55.7063s', u'14h24m03.8282s +09d13m51.7518s')\n",
      "(2.2354265246239193, u'14h24m16.2917s +49d51m44.1883s', u'14h24m18.9777s +49d51m27.3667s')\n",
      "(2.1852312716821891, u'14h24m23.7625s +00d14m51.0707s', u'14h24m23.7722s +00d15m09.395s')\n",
      "(2.1592283962599508, u'14h30m37.5599s +16d12m59.5018s', u'14h30m38.4501s +16d12m37.3148s')\n",
      "(2.1996800747955869, u'14h36m21.416s +55d08m07.8961s', u'14h36m19.9491s +55d08m39.1107s')\n",
      "(2.0231467646726569, u'14h36m29.8605s +33d16m39.4725s', u'14h36m27.4989s +33d16m30.6373s')\n",
      "(2.5113367194997522, u'14h37m00.1442s +24d48m37.2338s', u'14h37m00.3059s +24d48m02.2383s')\n",
      "(2.1963719017592904, u'14h37m10.256s +27d39m42.7087s', u'14h37m10.3171s +27d40m09.5218s')\n",
      "(2.5253203781655644, u'14h38m31.2391s +22d21m07.5195s', u'14h38m32.366s +22d20m40.637s')\n",
      "(2.1943114287303125, u'14h40m06.4301s +62d58m39.7465s', u'14h40m02.2447s +62d58m23.7159s')\n",
      "(1.6479279559520079, u'14h42m11.2479s +53d02m52.008s', u'14h42m09.976s +53d03m08.9684s')\n",
      "(2.1708694589378399, u'14h42m29.3361s +40d35m33.2923s', u'14h42m28.6939s +40d35m10.5091s')\n",
      "(2.1623807028631008, u'14h42m31.2226s +48d28m25.4662s', u'14h42m27.9824s +48d28m13.0713s')\n",
      "(3.2516735229770068, u'14h51m21.0225s +39d14m07.6842s', u'14h51m20.6511s +39d13m50.5231s')\n",
      "(2.5253627304000021, u'14h51m48.4261s +50d27m08.8491s', u'14h51m47.3299s +50d27m27.9692s')\n",
      "(2.4083102191750001, u'14h53m39.5921s +05d46m06.1604s', u'14h53m39.7322s +05d45m48.5802s')\n",
      "(3.3169583786590242, u'15h03m55.0372s +42d56m38.3276s', u'15h03m58.2578s +42d56m42.321s')\n",
      "(2.2880081207890028, u'15h05m50.7227s +14d06m32.019s', u'15h05m50.6781s +14d06m43.757s')\n",
      "(2.2021542381550545, u'15h08m21.6315s +57d33m24.4089s', u'15h08m21.9398s +57d33m22.3841s')\n",
      "(2.1295228807385556, u'15h09m21.2356s +27d57m38.0383s', u'15h09m22.4474s +27d58m02.2776s')\n",
      "(2.3508539857637252, u'15h09m40.5332s +54d28m12.4315s', u'15h09m38.4557s +54d28m27.7013s')\n",
      "(2.1797727854123896, u'15h14m19.5366s +21d01m26.6804s', u'15h14m19.2535s +21d01m18.4016s')\n",
      "(1.999070236315414, u'15h16m11.4962s +22d25m15.2581s', u'15h16m09.8456s +22d25m07.7986s')\n",
      "(1.999351978302002, u'15h23m00.9409s +16d08m44.6753s', u'15h22m59.7081s +16d08m48.5326s')\n",
      "(2.4856167312410138, u'15h29m29.0345s +23d14m20.0867s', u'15h29m28.3773s +23d14m15.8816s')\n",
      "(2.321224013192619, u'15h32m31.6973s +15d33m51.2148s', u'15h32m31.2715s +15d33m57.6113s')\n",
      "(2.3689184740674074, u'15h34m11.8055s +07d48m30.9335s', u'15h34m09.9737s +07d48m19.9344s')\n",
      "(2.0438607782968203, u'15h40m59.8681s +49d19m23.3286s', u'15h41m01.5482s +49d19m31.4117s')\n",
      "(1.667045364477699, u'15h45m21.6251s +30d15m00.9422s', u'15h45m23.3485s +30d15m02.1768s')\n",
      "(2.1430607793434078, u'15h52m11.9621s +09d22m22.6344s', u'15h52m13.2468s +09d22m08.6941s')\n",
      "(2.1768599230184305, u'15h52m26.2573s +45d09m32.3815s', u'15h52m27.337s +45d09m58.6412s')\n",
      "(2.26251026996745, u'16h09m08.1984s +13d13m34.0765s', u'16h09m10.1897s +13d13m20.4132s')\n",
      "(2.2022401938049851, u'16h18m17.3112s +18d42m30.1337s', u'16h18m16.6997s +18d42m43.0155s')\n",
      "(2.3564359533227011, u'16h20m05.3516s +13d45m48.2676s', u'16h20m07.5346s +13d45m51.2962s')\n",
      "(2.2518576852607985, u'16h20m19.0558s +13d08m40.7302s', u'16h20m18.8041s +13d09m05.9707s')\n",
      "(2.219085386497325, u'16h51m32.5958s +50d52m49.2651s', u'16h51m30.225s +50d52m49.7619s')\n",
      "(2.1582055466155574, u'21h12m58.0002s +00d51m03.5641s', u'21h12m59.4104s +00d50m57.7907s')\n",
      "(2.3641019175773041, u'21h14m32.564s -01d13m09.1041s', u'21h14m33.7875s -01d13m30.9782s')\n",
      "(2.065377317259403, u'21h29m59.4551s +01d01m25.2133s', u'21h29m58.6846s +01d01m47.9922s')\n",
      "(2.1949106686784563, u'21h38m25.9181s +01d41m09.3536s', u'21h38m25.5597s +01d41m09.6753s')\n",
      "(2.085673647805514, u'21h46m18.8608s +00d38m13.1136s', u'21h46m18.9482s +00d38m41.8045s')\n",
      "(2.1370105250345439, u'21h47m56.361s +00d12m05.5479s', u'21h47m57.4976s +00d11m47.4489s')\n",
      "(1.6334666698610103, u'21h48m13.2563s +26d30m59.4348s', u'21h48m14.3612s +26d31m29.6901s')\n",
      "(2.4229664137587039, u'21h50m19.6379s +01d04m53.8284s', u'21h50m17.7324s +01d05m08.9406s')\n",
      "(2.2196843900297565, u'21h50m57.2887s +08d23m03.7084s', u'21h50m55.5765s +08d22m49.6077s')\n",
      "(2.0568740974011983, u'21h57m40.5764s +00d41m40.0657s', u'21h57m38.9736s +00d42m00.3955s')\n",
      "(2.3573938867836426, u'21h57m54.6067s +08d27m36.622s', u'21h57m53.7035s +08d28m08.5501s')\n",
      "(2.0868550105969037, u'21h59m47.385s +00d20m12.8972s', u'21h59m48.2712s +00d19m59.5523s')\n",
      "(2.5035990218414002, u'22h01m22.1871s +09d09m58.2744s', u'22h01m21.1357s +09d09m30.8869s')\n",
      "(2.361209463094625, u'22h08m17.2105s +18d47m46.7364s', u'22h08m15.4888s +18d47m22.2613s')\n",
      "(2.4591806722288534, u'22h09m02.41s +09d35m29.246s', u'22h09m01.8829s +09d36m02.4749s')\n",
      "(2.4214864457670582, u'22h14m17.2333s +10d52m45.7319s', u'22h14m15.2947s +10d52m24.8931s')\n",
      "(2.2325473695252387, u'22h16m49.4065s +10d18m30.6207s', u'22h16m50.0314s +10d19m00.4963s')\n",
      "(2.3489666307468657, u'22h21m08.714s -00d19m40.1016s', u'22h21m09.7133s -00d19m46.9864s')\n",
      "(2.2053040395100592, u'22h21m53.8743s +07d18m53.8232s', u'22h21m52.6453s +07d19m20.2173s')\n",
      "(2.2155941748637784, u'22h23m22.9647s +14d55m09.5788s', u'22h23m24.815s +14d55m28.2386s')\n",
      "(2.467405485508849, u'22h23m47.0315s -01d57m02.9895s', u'22h23m45.4541s -01d56m46.0181s')\n",
      "(2.3341493983240174, u'22h35m53.1172s +26d17m47.2697s', u'22h35m50.9755s +26d17m37.649s')\n",
      "(2.2133801949228453, u'22h38m19.314s +32d05m15.0514s', u'22h38m19.2899s +32d05m39.0376s')\n",
      "(2.4130656205737111, u'22h38m41.7474s +10d52m18.6477s', u'22h38m43.7855s +10d52m12.3195s')\n",
      "(2.4017831034003359, u'22h54m44.5744s +28d43m08.5823s', u'22h54m42.8837s +28d42m43.4687s')\n",
      "(2.2746959062795047, u'22h55m57.8953s +11d58m20.1068s', u'22h55m57.5904s +11d57m56.0956s')\n",
      "(2.4390125316095785, u'22h57m38.5714s -00d59m11.096s', u'22h57m38.1723s -00d59m29.7304s')\n",
      "(2.5067884237759559, u'23h10m51.3721s +15d41m42.7614s', u'23h10m50.6064s +15d41m20.2177s')\n",
      "(2.2865119605565036, u'23h11m24.1017s +25d07m49.9016s', u'23h11m22.6055s +25d07m24.7212s')\n",
      "(2.1692646671800873, u'23h14m26.5623s +06d51m09.8514s', u'23h14m25.4456s +06d51m22.5619s')\n",
      "(2.1806409278583065, u'23h16m44.059s +07d38m53.9919s', u'23h16m45.5496s +07d39m13.152s')\n",
      "(2.2728187546693572, u'23h28m06.7177s +22d54m59.2576s', u'23h28m05.0987s +22d54m37.7981s')\n",
      "(2.3691970235241233, u'23h29m43.3034s +16d58m34.3174s', u'23h29m41.5703s +16d58m19.1846s')\n",
      "(2.0152757340395269, u'23h30m16.638s +23d42m20.8886s', u'23h30m17.0389s +23d42m33.1198s')\n",
      "(2.2243572066361912, u'23h40m06.9023s +23d42m07.7306s', u'23h40m08.4811s +23d42m09.4082s')\n",
      "(2.1952624243646399, u'23h40m41.2454s +15d40m36.4139s', u'23h40m41.3974s +15d41m00.0044s')\n",
      "(1.6552932343262892, u'23h42m12.6227s +19d07m33.7321s', u'23h42m14.7173s +19d07m21.5583s')\n",
      "(2.2736702396101021, u'23h44m50.3347s +21d00m03.8001s', u'23h44m49.2183s +21d00m26.6816s')\n",
      "(2.2389218714679742, u'23h52m32.1665s +09d56m02.4401s', u'23h52m31.4287s +09d56m21.8844s')\n",
      "(1.621434430397424, u'23h58m19.9214s +34d24m55.787s', u'23h58m19.3348s +34d25m06.5189s')\n",
      "(2.4324231147766113, u'00h22m23.2934s -09d17m02.5188s', u'00h22m22.068s -09d16m47.9856s')\n",
      "(2.1828811168670654, u'07h42m54.5837s +29d47m14.8668s', u'07h42m54.1355s +29d47m03.0935s')\n",
      "(2.1118021011352539, u'07h59m11.7802s +31d33m37.0008s', u'07h59m13.3312s +31d33m27.1686s')\n",
      "(2.1144859790802002, u'08h42m36.0514s +25d26m47.6916s', u'08h42m34.6164s +25d26m59.9268s')\n",
      "(2.1232690811157227, u'09h08m26.665s +41d34m56.9568s', u'09h08m26.0654s +41d34m51.7263s')\n",
      "(2.1533410549163818, u'10h14m25.1136s +03d20m03.7068s', u'10h14m24.8653s +03d19m58.0298s')\n",
      "(2.2088360786437988, u'11h31m52.2422s -02d22m52.9248s', u'11h31m52.8257s -02d22m46.7568s')\n",
      "(2.1233320236206055, u'12h19m20.4406s +37d16m50.0916s', u'12h19m20.9359s +37d16m39.968s')\n",
      "(2.1062541007995605, u'14h36m24.0833s +56d49m09.1956s', u'14h36m20.6136s +56d49m02.9913s')\n",
      "(2.1203579902648926, u'14h56m43.5946s +12d46m44.5944s', u'14h56m43.3478s +12d46m47.8031s')\n",
      "(2.2767000198364258, u'15h01m58.3598s +36d53m48.5124s', u'15h01m58.2165s +36d54m06.7352s')\n",
      "(1.6331, u'23h40m16.65s -31d14m39.6s', u'23h40m18.51s -31d14m26.4s')\n"
     ]
    }
   ],
   "source": [
    "# Find pairs in igmspec database that have [OIII] at accessible wavelengths, but not in QPQ9 \n",
    "igmsp = IgmSpec()\n",
    "ID_fg, ID_bg = igmsp.qcat.pairs(0.92*u.arcmin, 3000.*u.km/u.s)\n",
    "c_igmsp = SkyCoord(igmsp.cat['RA'][ID_fg]*u.deg,igmsp.cat['DEC'][ID_fg]*u.deg)\n",
    "c_igmsp_bg = SkyCoord(igmsp.cat['RA'][ID_bg]*u.deg,igmsp.cat['DEC'][ID_bg]*u.deg)\n",
    "kpc_amin = cosmo.kpc_proper_per_arcmin(igmsp.cat['zem'][ID_fg])\n",
    "ang_sep = c_igmsp.separation(c_igmsp_bg).to('arcmin')\n",
    "for qq,cc in enumerate(c_igmsp):\n",
    "    if kpc_amin[qq]*ang_sep[qq] < 300 *u.kpc: \n",
    "        if len(np.where(cc.separation(c_QPQ9) < 0.5*u.arcsec)[0]) == 0: # pair not in QPQ9 already\n",
    "                if (((igmsp.cat['zem'][ID_fg[qq]] > 1.6) & (igmsp.cat['zem'][ID_fg[qq]] < 1.67)) | \n",
    "                    ((igmsp.cat['zem'][ID_fg[qq]] > 1.99) & (igmsp.cat['zem'][ID_fg[qq]] < 2.60)) | \n",
    "                    ((igmsp.cat['zem'][ID_fg[qq]] > 3.08) & (igmsp.cat['zem'][ID_fg[qq]] < 3.76))):\n",
    "                    print(igmsp.cat['zem'][ID_fg[qq]],cc.to_string('hmsdms'),c_igmsp_bg[qq].to_string('hmsdms'))"
   ]
  },
  {
   "cell_type": "markdown",
   "metadata": {},
   "source": [
    "# Add and update g_UV values "
   ]
  },
  {
   "cell_type": "code",
   "execution_count": 693,
   "metadata": {
    "collapsed": false
   },
   "outputs": [
    {
     "name": "stdout",
     "output_type": "stream",
     "text": [
      "x.fits.bintab_to_table: Reading qpq9_final.fits\n"
     ]
    }
   ],
   "source": [
    "# Search SDSS DR12 catalog for magnitudes \n",
    "QPQ9 = xxf.bintab_to_table('qpq9_final.fits')\n",
    "c_QPQ9 = SkyCoord(QPQ9['FG_RA']*u.deg,QPQ9['FG_DEC']*u.deg)\n",
    "c_QPQ9_bg = SkyCoord(ra=QPQ9['RA']*u.deg,dec=QPQ9['DEC']*u.deg)\n",
    "hdulist = fits.open('/Users/lwymarie/Desktop/DR12Q.fits')\n",
    "SDSSdr12 = hdulist[1].data\n",
    "c_SDSSdr12 = SkyCoord(list(SDSSdr12.field('RA'))*u.deg,list(SDSSdr12.field('DEC'))*u.deg)\n",
    "hdulist = fits.open('/Users/lwymarie/Desktop/dr7qso.fit')\n",
    "SDSSdr7 = hdulist[1].data\n",
    "c_SDSSdr7 = SkyCoord(list(SDSSdr7.field('RA'))*u.deg,list(SDSSdr7.field('DEC'))*u.deg)"
   ]
  },
  {
   "cell_type": "code",
   "execution_count": 711,
   "metadata": {
    "collapsed": false
   },
   "outputs": [],
   "source": [
    "# Put in g_UV by hand for a quasar that does not have SDSS spectra but photometry and no existing g_UV values \n",
    "for qq,cc in enumerate(c_QPQ9):\n",
    "    if QPQ9[qq]['G_UV'] == 0.:\n",
    "        if len(np.where(cc.separation(c_SDSSdr12) < 0.5*u.arcsec)[0]) == 0:\n",
    "            if len(np.where(cc.separation(c_SDSSdr7) < 0.5*u.arcsec)[0]) == 0:\n",
    "                ang_sep = cc.separation(c_QPQ9_bg[qq]).to('arcsec')\n",
    "                print(cc.to_string('hmsdms'),QPQ9[qq]['Z_FG'],ang_sep,qq)\n",
    "                QPQ9[qq]['G_UV'] = 4624"
   ]
  },
  {
   "cell_type": "code",
   "execution_count": 741,
   "metadata": {
    "collapsed": false
   },
   "outputs": [],
   "source": [
    "# Write a file for IDL input, for rescaling QPQ g_UV values to F.-G. Lya forest flux \n",
    "gUV_exist = np.where(QPQ9['G_UV'] != 0.)[0]\n",
    "data = Table([QPQ9[gUV_exist]['FG_RA'],QPQ9[gUV_exist]['FG_DEC'],QPQ9[gUV_exist]['Z_FG'],QPQ9[gUV_exist]['G_UV']],\n",
    "             names=['FG_RA','FG_DEC','Z_FG','OLD_GUV'])\n",
    "ascii.write(data,'QPQ_gUV_idl_input.txt')\n",
    "\n",
    "# Write a file for IDL input, for calculating new g_UV values \n",
    "gUV_none = np.where(QPQ9['G_UV'] == 0.)[0]\n",
    "ang_sep = []\n",
    "SDSSfilter = []\n",
    "mag = []\n",
    "filter_beg = [3125.0, 3880.0, 5480.0, 6790.0, 8090.0]\n",
    "filter_names = ['u','g','r','i','z']\n",
    "for qq,cc in enumerate(c_QPQ9[gUV_none]):\n",
    "    ang_sep.append(cc.separation(c_QPQ9_bg[gUV_none[qq]]).to('arcsec').value)\n",
    "    min_beg = 1215.6701*(1+QPQ9[gUV_none[qq]]['Z_FG'])\n",
    "    good_inds = np.where(filter_beg >= min_beg)\n",
    "    SDSSfilter.append(filter_names[np.min(good_inds)])\n",
    "    in_dr12 = np.where(cc.separation(c_SDSSdr12) < 0.5*u.arcsec)[0]\n",
    "    if len(in_dr12) == 1:\n",
    "        mag.append((SDSSdr12[in_dr12].field('PSFMAG')[0][good_inds]-\n",
    "                    SDSSdr12[in_dr12].field('EXTINCTION')[0][good_inds])[0])\n",
    "    else:\n",
    "        in_dr7 = np.where(cc.separation(c_SDSSdr7) < 0.5*u.arcsec)[0]\n",
    "        psfmag = [SDSSdr7[in_dr7].field('UMAG'),SDSSdr7[in_dr7].field('GMAG'),SDSSdr7[in_dr7].field('RMAG'),\n",
    "                  SDSSdr7[in_dr7].field('IMAG'),SDSSdr7[in_dr7].field('ZMAG')]\n",
    "        extinct = SDSSdr7[in_dr7].field('AU')*np.array([1,0.736,0.534,0.405,0.287])\n",
    "        mag.append((psfmag[np.min(good_inds)]-extinct[np.min(good_inds)])[0])\n",
    "data = Table([QPQ9[gUV_none]['FG_RA'],QPQ9[gUV_none]['FG_DEC'],QPQ9[gUV_none]['Z_FG'],ang_sep,SDSSfilter,mag],\n",
    "             names=['FG_RA','FG_DEC','Z_FG','theta','filter','mag'])\n",
    "ascii.write(data,'no_gUV_idl_input.txt')"
   ]
  },
  {
   "cell_type": "code",
   "execution_count": 745,
   "metadata": {
    "collapsed": false
   },
   "outputs": [],
   "source": [
    "# Read IDL output for rescaled QPQ g_UV values \n",
    "data = ascii.read('QPQ_gUV_idl_output.txt')\n",
    "c_idl = SkyCoord(data['FG_RA']*u.deg,data['FG_DEC']*u.deg)\n",
    "for qq,cc in enumerate(c_QPQ9):\n",
    "    index = np.where(cc.separation(c_idl) < 0.5*u.arcsec)[0]\n",
    "    if len(index) == 1:\n",
    "        QPQ9[qq]['G_UV'] = data[index]['NEW_GUV']\n",
    "# Read IDL output for new g_UV values\n",
    "data = ascii.read('no_gUV_idl_output.txt')\n",
    "c_idl = SkyCoord(data['FG_RA']*u.deg,data['FG_DEC']*u.deg)\n",
    "for qq,cc in enumerate(c_QPQ9):\n",
    "    index = np.where(cc.separation(c_idl) < 0.5*u.arcsec)[0]\n",
    "    if len(index) == 1:\n",
    "        QPQ9[qq]['G_UV'] = data[index]['GUV']"
   ]
  },
  {
   "cell_type": "code",
   "execution_count": 749,
   "metadata": {
    "collapsed": true
   },
   "outputs": [],
   "source": [
    "# write\n",
    "xxf.table_to_fits(QPQ9,'qpq9_final.fits')"
   ]
  },
  {
   "cell_type": "markdown",
   "metadata": {},
   "source": [
    "# copy to enigma"
   ]
  },
  {
   "cell_type": "code",
   "execution_count": 750,
   "metadata": {
    "collapsed": false
   },
   "outputs": [
    {
     "data": {
      "text/plain": [
       "654"
      ]
     },
     "execution_count": 750,
     "metadata": {},
     "output_type": "execute_result"
    }
   ],
   "source": [
    "!cp qpq9_final.fits /Users/lwymarie/python/enigma/enigma/data/qpq/qpq9_final.fits\n",
    "len(QPQ9)"
   ]
  },
  {
   "cell_type": "code",
   "execution_count": 2,
   "metadata": {
    "collapsed": false
   },
   "outputs": [
    {
     "name": "stdout",
     "output_type": "stream",
     "text": [
      "x.fits.bintab_to_table: Reading qpq9_final.fits\n"
     ]
    }
   ],
   "source": [
    "QPQ9 = xxf.bintab_to_table('qpq9_final.fits')\n"
   ]
  },
  {
   "cell_type": "code",
   "execution_count": 20,
   "metadata": {
    "collapsed": false
   },
   "outputs": [
    {
     "data": {
      "text/plain": [
       "(3714.7120459722519, 3690.2721271908049)"
      ]
     },
     "execution_count": 20,
     "metadata": {},
     "output_type": "execute_result"
    }
   ],
   "source": [
    "(QPQ9[335]['BG_Z']+1)*(1215.6701+18.),(QPQ9[335]['Z_FG']+1)*1334.5323"
   ]
  },
  {
   "cell_type": "code",
   "execution_count": 33,
   "metadata": {
    "collapsed": false
   },
   "outputs": [
    {
     "data": {
      "text/html": [
       "&lt;Row index=493&gt;\n",
       "<table id=\"table4566138256\">\n",
       "<thead><tr><th>RUN</th><th>RERUN</th><th>CAMCOL</th><th>FIELD</th><th>ID</th><th>PARENT</th><th>NCHILD</th><th>OBJC_TYPE</th><th>OBJC_PROB_PSF</th><th>OBJC_FLAGS</th><th>OBJC_FLAGS2</th><th>OBJC_ROWC</th><th>OBJC_ROWCERR</th><th>OBJC_COLC</th><th>OBJC_COLCERR</th><th>ROWV</th><th>ROWVERR</th><th>COLV</th><th>COLVERR</th><th>ROWC [5]</th><th>ROWCERR [5]</th><th>COLC [5]</th><th>COLCERR [5]</th><th>PSFCOUNTSERR [5]</th><th>FIBERCOUNTSERR [5]</th><th>FIBER2COUNTSERR [5]</th><th>PETROCOUNTSERR [5]</th><th>PETRORAD [5]</th><th>PETRORADERR [5]</th><th>PETROR50 [5]</th><th>PETROR50ERR [5]</th><th>PETROR90 [5]</th><th>PETROR90ERR [5]</th><th>Q [5]</th><th>QERR [5]</th><th>U [5]</th><th>UERR [5]</th><th>M_E1 [5]</th><th>M_E2 [5]</th><th>M_E1E1ERR [5]</th><th>M_E1E2ERR [5]</th><th>M_E2E2ERR [5]</th><th>M_RR_CC [5]</th><th>M_RR_CCERR [5]</th><th>M_CR4 [5]</th><th>M_E1_PSF [5]</th><th>M_E2_PSF [5]</th><th>M_RR_CC_PSF [5]</th><th>M_CR4_PSF [5]</th><th>ISO_ROWC [5]</th><th>ISO_ROWCERR [5]</th><th>ISO_ROWCGRAD [5]</th><th>ISO_COLC [5]</th><th>ISO_COLCERR [5]</th><th>ISO_COLCGRAD [5]</th><th>ISO_A [5]</th><th>ISO_AERR [5]</th><th>ISO_AGRAD [5]</th><th>ISO_B [5]</th><th>ISO_BERR [5]</th><th>ISO_BGRAD [5]</th><th>ISO_PHIGRAD [5]</th><th>R_DEV [5]</th><th>R_DEVERR [5]</th><th>AB_DEV [5]</th><th>AB_DEVERR [5]</th><th>COUNTS_DEVERR [5]</th><th>R_EXP [5]</th><th>R_EXPERR [5]</th><th>AB_EXP [5]</th><th>AB_EXPERR [5]</th><th>COUNTS_EXPERR [5]</th><th>COUNTS_MODELERR [5]</th><th>STAR_LNL [5]</th><th>EXP_LNL [5]</th><th>DEV_LNL [5]</th><th>FRACPSF [5]</th><th>FLAGS [5]</th><th>FLAGS2 [5]</th><th>TYPE [5]</th><th>PROB_PSF [5]</th><th>NPROF [5]</th><th>TAI [5]</th><th>PSP_STATUS [5]</th><th>PIXSCALE [5]</th><th>RA</th><th>DEC</th><th>OFFSETRA [5]</th><th>OFFSETDEC [5]</th><th>PSF_FWHM [5]</th><th>MJD</th><th>AIRMASS [5]</th><th>PHI_OFFSET [5]</th><th>PHI_ISO_DEG [5]</th><th>PHI_DEV_DEG [5]</th><th>PHI_EXP_DEG [5]</th><th>EXTINCTION [5]</th><th>SKYFLUX [5]</th><th>SKYFLUX_IVAR [5]</th><th>PSFFLUX [5]</th><th>PSFFLUX_IVAR [5]</th><th>FIBERFLUX [5]</th><th>FIBERFLUX_IVAR [5]</th><th>FIBER2FLUX [5]</th><th>FIBER2FLUX_IVAR [5]</th><th>MODELFLUX [5]</th><th>MODELFLUX_IVAR [5]</th><th>PETROFLUX [5]</th><th>PETROFLUX_IVAR [5]</th><th>DEVFLUX [5]</th><th>DEVFLUX_IVAR [5]</th><th>EXPFLUX [5]</th><th>EXPFLUX_IVAR [5]</th><th>APERFLUX [5,15]</th><th>APERFLUX_IVAR [5,15]</th><th>CLOUDCAM [5]</th><th>CALIB_STATUS [5]</th><th>NMGYPERCOUNT [5]</th><th>NMGYPERCOUNT_IVAR [5]</th><th>RESOLVE_STATUS</th><th>THING_ID</th><th>IFIELD</th><th>BALKAN_ID</th><th>NOBSERVE</th><th>NDETECT</th><th>NEDGE</th><th>TWOQZ_NAME</th><th>TWOQZ_RA</th><th>TWOQZ_DEC</th><th>TWOQZ_CAT_NUMBER</th><th>TWOQZ_CAT_NAME</th><th>TWOQZ_SECTOR</th><th>TWOQZ_UKST_FIELD</th><th>TWOQZ_B</th><th>TWOQZ_U_MIN_B</th><th>TWOQZ_B_MIN_R</th><th>TWOQZ_Z</th><th>TWOQZ_Q</th><th>TWOQZ_ID</th><th>TWOQZ_DATE</th><th>TWOQZ_FIELD</th><th>TWOQZ_FIBRE</th><th>TWOQZ_S_N</th><th>TWOQZ_RADIO</th><th>TWOQZ_XRAY</th><th>TWOQZ_COMMENTS1</th><th>TWOQZ_COMMENTS2</th><th>TWOQZ_QSO</th><th>TWOQZ_NMATCH</th><th>TWOQZ_MATCHDIST</th><th>FIRST_RA</th><th>FIRST_DEC</th><th>FIRST_WARNING</th><th>FIRST_FINT</th><th>FIRST_FPEAK</th><th>FIRST_RMS</th><th>FIRST_MAJ</th><th>FIRST_MIN</th><th>FIRST_PA</th><th>FIRST_FMAJ</th><th>FIRST_FMIN</th><th>FIRST_FPA</th><th>FIRST_SKYRMS</th><th>FIRST_MATCHDIST</th><th>FIRST_NMATCH</th><th>TMASS_RA</th><th>TMASS_DEC</th><th>TMASS_ERR_MAJ</th><th>TMASS_ERR_MIN</th><th>TMASS_ERR_ANG</th><th>TMASS_J</th><th>TMASS_J_IVAR</th><th>TMASS_H</th><th>TMASS_H_IVAR</th><th>TMASS_K</th><th>TMASS_K_IVAR</th><th>TMASS_PH_QUAL</th><th>TMASS_RD_FLG</th><th>TMASS_BL_FLG</th><th>TMASS_CC_FLG</th><th>TMASS_GAL_CONTAM</th><th>TMASS_MP_FLG</th><th>TMASS_JDATE</th><th>TMASS_DUP_SRC</th><th>TMASS_MATCHDIST</th><th>TMASS_NMATCH</th><th>LYA_RA</th><th>LYA_DEC</th><th>TELESCOPE</th><th>Z_TOT</th><th>Z_IR</th><th>SIGMA_ZIR</th><th>IR_OBS</th><th>IR_ZFLAG</th><th>IR_ZLINE</th><th>LYA_ZPHOT</th><th>LYA_ZMIN</th><th>LYA_ZMAX</th><th>PLATE</th><th>FIBERID</th><th>MJD_SPEC</th><th>RUN2D</th><th>RUN1D</th><th>Z</th><th>Z_ERR</th><th>Z_PERSON</th><th>Z_CONF_PERSON</th><th>ZEM</th><th>CLASS_PERSON</th><th>SPECPRIMARY</th><th>ZWARNING</th><th>CLASS</th><th>PROGRAMNAME</th><th>PRIMTARGET</th><th>SURVEY</th><th>SOURCE</th><th>SPECTRO_NMATCH</th><th>MYERS_MATCH</th><th>G_UV</th><th>LOGLV</th><th>M912</th><th>F_C_QSO</th><th>F_C_UVB</th><th>LOG_DNDT</th><th>SB_QSO</th><th>SB_UVB</th><th>J_AB</th><th>H_AB</th><th>K_AB</th><th>NAME</th><th>LYA_INSTRUMENT</th><th>LYA_FILE</th><th>LYA_FILEPATH</th><th>SN_RATIO</th><th>LRIS_SPEC</th><th>LRIS_BLU_FILES [5]</th><th>LRIS_NBLU</th><th>LRIS_RED_FILES [5]</th><th>LRIS_NRED</th><th>GMOS_SPEC</th><th>GMOS_FILES [5]</th><th>GMOS_NFIL</th><th>MODS_SPEC</th><th>MODS_BLU_FILE</th><th>MODS_RED_FILE</th><th>MMT_SPEC</th><th>MMT_FILE</th><th>MAGE_SPEC</th><th>MAGE_FILE</th><th>ESI_SPEC</th><th>ESI_FILE</th><th>XSHOOTER_SPEC</th><th>XSHOOTER_FILE</th><th>MIKE_SPEC</th><th>MIKE_FILE</th><th>SDSS_SPEC</th><th>SDSS_FILE</th><th>BOSS_SPEC</th><th>BOSS_FILE</th><th>BOSS_PUBLIC</th><th>STAR_ID</th><th>Z_FG</th><th>Z_FSIG</th><th>FG_RA</th><th>FG_DEC</th><th>BG_Z</th><th>R_PHYS</th><th>ZFG_LINE</th><th>M_i</th></tr></thead>\n",
       "<thead><tr><th>int32</th><th>str3</th><th>int32</th><th>int32</th><th>int32</th><th>int32</th><th>int32</th><th>int32</th><th>float32</th><th>int32</th><th>int32</th><th>float32</th><th>float32</th><th>float32</th><th>float32</th><th>float32</th><th>float32</th><th>float32</th><th>float32</th><th>float32</th><th>float32</th><th>float32</th><th>float32</th><th>float32</th><th>float32</th><th>float32</th><th>float32</th><th>float32</th><th>float32</th><th>float32</th><th>float32</th><th>float32</th><th>float32</th><th>float32</th><th>float32</th><th>float32</th><th>float32</th><th>float32</th><th>float32</th><th>float32</th><th>float32</th><th>float32</th><th>float32</th><th>float32</th><th>float32</th><th>float32</th><th>float32</th><th>float32</th><th>float32</th><th>float32</th><th>float32</th><th>float32</th><th>float32</th><th>float32</th><th>float32</th><th>float32</th><th>float32</th><th>float32</th><th>float32</th><th>float32</th><th>float32</th><th>float32</th><th>float32</th><th>float32</th><th>float32</th><th>float32</th><th>float32</th><th>float32</th><th>float32</th><th>float32</th><th>float32</th><th>float32</th><th>float32</th><th>float32</th><th>float32</th><th>float32</th><th>float32</th><th>int32</th><th>int32</th><th>int32</th><th>float32</th><th>int32</th><th>float64</th><th>int32</th><th>float32</th><th>float64</th><th>float64</th><th>float32</th><th>float32</th><th>float32</th><th>int32</th><th>float32</th><th>float32</th><th>float32</th><th>float32</th><th>float32</th><th>float32</th><th>float32</th><th>float32</th><th>float32</th><th>float32</th><th>float32</th><th>float32</th><th>float32</th><th>float32</th><th>float32</th><th>float32</th><th>float32</th><th>float32</th><th>float32</th><th>float32</th><th>float32</th><th>float32</th><th>float32</th><th>float32</th><th>int16</th><th>int16</th><th>float32</th><th>float32</th><th>int16</th><th>int32</th><th>int32</th><th>int32</th><th>int16</th><th>int16</th><th>int16</th><th>str3</th><th>float64</th><th>float64</th><th>str3</th><th>str3</th><th>str3</th><th>int32</th><th>float32</th><th>float32</th><th>float32</th><th>float32</th><th>int32</th><th>str3</th><th>str3</th><th>int32</th><th>int32</th><th>float32</th><th>float32</th><th>float32</th><th>str3</th><th>str3</th><th>int32</th><th>int32</th><th>float64</th><th>float64</th><th>float64</th><th>str1</th><th>float32</th><th>float32</th><th>float32</th><th>float32</th><th>float32</th><th>float32</th><th>float32</th><th>float32</th><th>float32</th><th>float32</th><th>float32</th><th>int16</th><th>float64</th><th>float64</th><th>float32</th><th>float32</th><th>float32</th><th>float32</th><th>float32</th><th>float32</th><th>float32</th><th>float32</th><th>float32</th><th>str3</th><th>int16</th><th>int16</th><th>str3</th><th>uint8</th><th>uint8</th><th>float64</th><th>uint8</th><th>float32</th><th>int16</th><th>float64</th><th>float64</th><th>str59</th><th>float64</th><th>float64</th><th>float32</th><th>int32</th><th>int32</th><th>str4</th><th>float32</th><th>float32</th><th>float32</th><th>int32</th><th>int32</th><th>int32</th><th>str6</th><th>str6</th><th>float32</th><th>float32</th><th>float32</th><th>int32</th><th>float32</th><th>int32</th><th>uint8</th><th>int32</th><th>str6</th><th>str27</th><th>int32</th><th>str6</th><th>str27</th><th>int32</th><th>int32</th><th>float64</th><th>float32</th><th>float32</th><th>float64</th><th>float64</th><th>float64</th><th>float64</th><th>float64</th><th>float64</th><th>float32</th><th>float32</th><th>str14</th><th>str8</th><th>str39</th><th>str15</th><th>float32</th><th>int32</th><th>str39</th><th>int32</th><th>str39</th><th>int32</th><th>int32</th><th>str39</th><th>int32</th><th>int32</th><th>str1</th><th>str1</th><th>int32</th><th>str1</th><th>int32</th><th>str33</th><th>int32</th><th>str33</th><th>int32</th><th>str30</th><th>int32</th><th>str35</th><th>int32</th><th>str28</th><th>int32</th><th>str28</th><th>int32</th><th>int32</th><th>float64</th><th>float32</th><th>float64</th><th>float64</th><th>float64</th><th>float64</th><th>str36</th><th>float64</th></tr></thead>\n",
       "<tr><td>5318</td><td>301</td><td>5</td><td>88</td><td>148</td><td>-1</td><td>0</td><td>6</td><td>1.0</td><td>268435968</td><td>16</td><td>300.588</td><td>0.0296236</td><td>1722.29</td><td>0.0296807</td><td>0.00831517</td><td>0.0139911</td><td>0.00839345</td><td>0.0144877</td><td>307.82 .. 308.676</td><td>0.080942 .. 0.114278</td><td>1724.48 .. 1725.03</td><td>0.0698653 .. 0.0959216</td><td>42.529 .. 41.4123</td><td>37.0303 .. 45.9103</td><td>26.7503 .. 31.0737</td><td>61.7083 .. 88.5346</td><td>4.9214 .. 17.6954</td><td>0.381329 .. 14.3606</td><td>2.27556 .. 2.02842</td><td>0.0994419 .. 0.218799</td><td>4.78818 .. 5.70811</td><td>0.546023 .. 1.39386</td><td>-0.0423899 .. -0.0386429</td><td>0.026085 .. 0.0534001</td><td>0.0431951 .. 0.102901</td><td>0.0260868 .. 0.0538822</td><td>-0.126339 .. -0.142377</td><td>0.108069 .. 0.139901</td><td>0.0420166 .. 0.0987858</td><td>0.00494919 .. 0.0140854</td><td>0.0421079 .. 0.098821</td><td>5.82836 .. 3.38187</td><td>0.25234 .. 0.347925</td><td>2.2187 .. 2.04425</td><td>-0.0136677 .. -0.0530209</td><td>-0.000139082 .. 0.0252431</td><td>4.57846 .. 3.67581</td><td>2.12765 .. 2.08505</td><td>308.032 .. -9999.0</td><td>-1000.0 .. -9999.0</td><td>0.0822145 .. -9999.0</td><td>1724.35 .. -9999.0</td><td>-1000.0 .. -9999.0</td><td>-0.040485 .. -9999.0</td><td>9.88001 .. -9999.0</td><td>-1000.0 .. -9999.0</td><td>2.57839 .. -9999.0</td><td>6.94001 .. -9999.0</td><td>-1000.0 .. -9999.0</td><td>1.52442 .. -9999.0</td><td>-4.20286 .. -9999.0</td><td>0.870944 .. 0.26256</td><td>0.294291 .. 0.480284</td><td>0.392876 .. 0.0900378</td><td>0.321696 .. 44.2643</td><td>46.9029 .. 48.7954</td><td>1.09414 .. 0.409819</td><td>0.272542 .. 0.435729</td><td>0.354978 .. 0.0938166</td><td>0.272325 .. 25.5399</td><td>45.6211 .. 48.8062</td><td>42.6691 .. 43.1606</td><td>-16.0568 .. -0.102481</td><td>-11.7037 .. -0.175144</td><td>-11.0267 .. -0.175705</td><td>1.0 .. 1.0</td><td>268468224 .. 402686464</td><td>64 .. 64</td><td>6 .. 6</td><td>1.0 .. 1.0</td><td>7 .. 8</td><td>4622513147.49 .. 4622513219.16</td><td>0 .. 0</td><td>0.395938 .. 0.395964</td><td>215.228817946</td><td>16.0619212535</td><td>0.0333302 .. 0.0109571</td><td>0.0389623 .. 0.0668923</td><td>1.41068 .. 1.26408</td><td>53501</td><td>1.0977 .. 1.09942</td><td>-8.70964 .. -8.70964</td><td>54.3682 .. -9990.29</td><td>78.0981 .. 80.4252</td><td>79.7653 .. 80.6071</td><td>0.123914 .. 0.0355517</td><td>1.16085 .. 22.2013</td><td>1100.89 .. 159.538</td><td>10.7144 .. 17.2615</td><td>6.76297 .. 1.05043</td><td>8.23443 .. 12.7789</td><td>8.92058 .. 0.854681</td><td>5.07045 .. 8.04058</td><td>17.0942 .. 1.86568</td><td>11.0195 .. 17.5723</td><td>6.71864 .. 0.967052</td><td>11.9492 .. 19.3618</td><td>3.21233 .. 0.229825</td><td>12.2326 .. 17.5346</td><td>5.56042 .. 0.756599</td><td>11.8828 .. 17.5348</td><td>5.87729 .. 0.756266</td><td>0.556331 .. -3.19354e+08</td><td>207.777 .. 0.0</td><td>0 .. 0</td><td>1 .. 1</td><td>0.00904162 .. 0.0235607</td><td>0.171185 .. 2.59557</td><td>1</td><td>-1</td><td>-1</td><td>-1</td><td>0</td><td>0</td><td>0</td><td>str</td><td>0.0</td><td>0.0</td><td>str</td><td>str</td><td>str</td><td>0</td><td>0.0</td><td>0.0</td><td>0.0</td><td>0.0</td><td>0</td><td>str</td><td>str</td><td>0</td><td>0</td><td>0.0</td><td>0.0</td><td>0.0</td><td>str</td><td>str</td><td>0</td><td>0</td><td>0.0</td><td>0.0</td><td>0.0</td><td></td><td>0.0</td><td>0.0</td><td>0.0</td><td>0.0</td><td>0.0</td><td>0.0</td><td>0.0</td><td>0.0</td><td>0.0</td><td>0.142479</td><td>0.0</td><td>0</td><td>0.0</td><td>0.0</td><td>0.0</td><td>0.0</td><td>0.0</td><td>0.0</td><td>0.0</td><td>0.0</td><td>0.0</td><td>0.0</td><td>0.0</td><td></td><td>0</td><td>0</td><td></td><td>0</td><td>0</td><td>0.0</td><td>0</td><td>0.0</td><td>0</td><td>215.228833333</td><td>16.0619222222</td><td>LRIS,NIRI,MAGE,APO</td><td>2.0569999218</td><td>2.0569999</td><td>0.0</td><td>1</td><td>0</td><td>none</td><td>0.0</td><td>0.0</td><td>0.0</td><td>0</td><td>0</td><td>0</td><td></td><td></td><td>0.0</td><td>0.0</td><td>0.0</td><td>0</td><td>0.0</td><td>0</td><td>0</td><td>0</td><td></td><td></td><td>0</td><td></td><td></td><td>0</td><td>0</td><td>7811.344</td><td>30.7257</td><td>19.6303</td><td>0.0</td><td>0.0</td><td>56.6739726073</td><td>0.0</td><td>0.0</td><td>19.4220767027</td><td>19.301</td><td>19.1949</td><td>APOJ1420+1603</td><td>MAGE</td><td>SDSSJ142054.92+160342.9_F.fits.gz</td><td>MAGE_redux/</td><td>-1.0</td><td>1</td><td>SDSSJ142054.92+160342.9_b1200_F.fits.gz ..</td><td>1</td><td>SDSSJ142054.92+160342.9_r300_N.fits.gz ..</td><td>1</td><td>0</td><td>..</td><td>0</td><td>0</td><td></td><td></td><td>0</td><td></td><td>1</td><td>SDSSJ142054.92+160342.9_F.fits.gz</td><td>0</td><td></td><td>0</td><td></td><td>0</td><td></td><td>0</td><td></td><td>0</td><td></td><td>0</td><td>25</td><td>2.02187030259</td><td>44.0</td><td>215.226740468</td><td>16.0592607535</td><td>2.0569999218</td><td>103.843642376</td><td>[OIII]</td><td>-26.2394541184</td></tr>\n",
       "</table>"
      ],
      "text/plain": [
       "<Row index=493>\n",
       " RUN  RERUN CAMCOL FIELD   ID  PARENT NCHILD OBJC_TYPE OBJC_PROB_PSF OBJC_FLAGS OBJC_FLAGS2 OBJC_ROWC OBJC_ROWCERR OBJC_COLC OBJC_COLCERR    ROWV     ROWVERR     COLV     COLVERR       ROWC [5]         ROWCERR [5]           COLC [5]           COLCERR [5]        PSFCOUNTSERR [5] FIBERCOUNTSERR [5] FIBER2COUNTSERR [5] PETROCOUNTSERR [5]    PETRORAD [5]     PETRORADERR [5]      PETROR50 [5]       PETROR50ERR [5]       PETROR90 [5]      PETROR90ERR [5]            Q [5]                  QERR [5]               U [5]                UERR [5]               M_E1 [5]              M_E2 [5]           M_E1E1ERR [5]           M_E1E2ERR [5]          M_E2E2ERR [5]        M_RR_CC [5]        M_RR_CCERR [5]       M_CR4 [5]           M_E1_PSF [5]              M_E2_PSF [5]        M_RR_CC_PSF [5]     M_CR4_PSF [5]       ISO_ROWC [5]     ISO_ROWCERR [5]     ISO_ROWCGRAD [5]      ISO_COLC [5]     ISO_COLCERR [5]     ISO_COLCGRAD [5]       ISO_A [5]         ISO_AERR [5]      ISO_AGRAD [5]        ISO_B [5]         ISO_BERR [5]      ISO_BGRAD [5]      ISO_PHIGRAD [5]        R_DEV [5]          R_DEVERR [5]           AB_DEV [5]         AB_DEVERR [5]    COUNTS_DEVERR [5]       R_EXP [5]          R_EXPERR [5]           AB_EXP [5]         AB_EXPERR [5]    COUNTS_EXPERR [5]  COUNTS_MODELERR [5]      STAR_LNL [5]          EXP_LNL [5]           DEV_LNL [5]      FRACPSF [5]       FLAGS [5]        FLAGS2 [5] TYPE [5] PROB_PSF [5] NPROF [5]            TAI [5]             PSP_STATUS [5]     PIXSCALE [5]           RA           DEC           OFFSETRA [5]          OFFSETDEC [5]         PSF_FWHM [5]     MJD     AIRMASS [5]       PHI_OFFSET [5]      PHI_ISO_DEG [5]    PHI_DEV_DEG [5]    PHI_EXP_DEG [5]       EXTINCTION [5]       SKYFLUX [5]      SKYFLUX_IVAR [5]     PSFFLUX [5]      PSFFLUX_IVAR [5]    FIBERFLUX [5]     FIBERFLUX_IVAR [5]   FIBER2FLUX [5]   FIBER2FLUX_IVAR [5]   MODELFLUX [5]     MODELFLUX_IVAR [5]   PETROFLUX [5]     PETROFLUX_IVAR [5]    DEVFLUX [5]       DEVFLUX_IVAR [5]     EXPFLUX [5]       EXPFLUX_IVAR [5]      APERFLUX [5,15]      APERFLUX_IVAR [5,15] CLOUDCAM [5] CALIB_STATUS [5]     NMGYPERCOUNT [5]    NMGYPERCOUNT_IVAR [5] RESOLVE_STATUS THING_ID IFIELD BALKAN_ID NOBSERVE NDETECT NEDGE TWOQZ_NAME TWOQZ_RA TWOQZ_DEC TWOQZ_CAT_NUMBER TWOQZ_CAT_NAME TWOQZ_SECTOR TWOQZ_UKST_FIELD TWOQZ_B TWOQZ_U_MIN_B TWOQZ_B_MIN_R TWOQZ_Z TWOQZ_Q TWOQZ_ID TWOQZ_DATE TWOQZ_FIELD TWOQZ_FIBRE TWOQZ_S_N TWOQZ_RADIO TWOQZ_XRAY TWOQZ_COMMENTS1 TWOQZ_COMMENTS2 TWOQZ_QSO TWOQZ_NMATCH TWOQZ_MATCHDIST FIRST_RA FIRST_DEC FIRST_WARNING FIRST_FINT FIRST_FPEAK FIRST_RMS FIRST_MAJ FIRST_MIN FIRST_PA FIRST_FMAJ FIRST_FMIN FIRST_FPA FIRST_SKYRMS FIRST_MATCHDIST FIRST_NMATCH TMASS_RA TMASS_DEC TMASS_ERR_MAJ TMASS_ERR_MIN TMASS_ERR_ANG TMASS_J TMASS_J_IVAR TMASS_H TMASS_H_IVAR TMASS_K TMASS_K_IVAR TMASS_PH_QUAL TMASS_RD_FLG TMASS_BL_FLG TMASS_CC_FLG TMASS_GAL_CONTAM TMASS_MP_FLG TMASS_JDATE TMASS_DUP_SRC TMASS_MATCHDIST TMASS_NMATCH     LYA_RA       LYA_DEC        TELESCOPE         Z_TOT        Z_IR   SIGMA_ZIR IR_OBS IR_ZFLAG IR_ZLINE LYA_ZPHOT LYA_ZMIN LYA_ZMAX PLATE FIBERID MJD_SPEC RUN2D RUN1D    Z     Z_ERR  Z_PERSON Z_CONF_PERSON   ZEM   CLASS_PERSON SPECPRIMARY ZWARNING CLASS PROGRAMNAME PRIMTARGET SURVEY SOURCE SPECTRO_NMATCH MYERS_MATCH   G_UV    LOGLV    M912  F_C_QSO F_C_UVB    LOG_DNDT    SB_QSO  SB_UVB      J_AB       H_AB    K_AB       NAME     LYA_INSTRUMENT              LYA_FILE             LYA_FILEPATH SN_RATIO LRIS_SPEC              LRIS_BLU_FILES [5]             LRIS_NBLU             LRIS_RED_FILES [5]             LRIS_NRED GMOS_SPEC GMOS_FILES [5] GMOS_NFIL MODS_SPEC MODS_BLU_FILE MODS_RED_FILE MMT_SPEC MMT_FILE MAGE_SPEC             MAGE_FILE             ESI_SPEC ESI_FILE XSHOOTER_SPEC XSHOOTER_FILE MIKE_SPEC MIKE_FILE SDSS_SPEC SDSS_FILE BOSS_SPEC BOSS_FILE BOSS_PUBLIC STAR_ID      Z_FG      Z_FSIG     FG_RA         FG_DEC        BG_Z         R_PHYS    ZFG_LINE      M_i      \n",
       "int32  str3 int32  int32 int32 int32  int32    int32      float32      int32       int32     float32    float32     float32    float32     float32    float32   float32    float32       float32            float32             float32              float32              float32           float32             float32            float32            float32            float32            float32              float32             float32             float32               float32                 float32               float32               float32                float32               float32               float32                 float32                float32             float32             float32            float32              float32                   float32               float32            float32            float32            float32             float32             float32            float32             float32             float32            float32            float32            float32            float32            float32             float32             float32             float32               float32              float32            float32             float32             float32               float32              float32            float32             float32              float32               float32               float32          float32           int32            int32     int32     float32      int32              float64                 int32            float32           float64       float64           float32                float32              float32       int32      float32            float32              float32            float32            float32              float32             float32            float32            float32            float32            float32             float32            float32             float32            float32             float32            float32             float32            float32             float32            float32             float32               float32                float32           int16          int16               float32                float32            int16       int32   int32    int32    int16    int16  int16    str3    float64   float64        str3            str3          str3          int32       float32    float32       float32    float32  int32    str3      str3       int32       int32     float32    float32    float32         str3            str3        int32      int32         float64     float64   float64       str1      float32     float32    float32   float32   float32  float32   float32    float32    float32    float32        float32        int16     float64   float64     float32       float32       float32    float32   float32    float32   float32    float32   float32         str3        int16        int16         str3          uint8          uint8       float64       uint8         float32        int16        float64       float64          str59          float64     float64   float32  int32   int32     str4    float32  float32  float32  int32  int32   int32    str6  str6 float32 float32 float32      int32     float32    int32        uint8     int32    str6    str27      int32     str6  str27      int32         int32    float64  float32 float32 float64 float64    float64    float64 float64    float64    float32 float32     str14          str8                    str39                  str15     float32    int32                      str39                      int32                     str39                      int32     int32       str39        int32     int32        str1          str1      int32     str1     int32                 str33                int32    str33       int32         str30       int32     str35     int32     str28     int32     str28      int32     int32     float64    float32    float64       float64      float64       float64     str36      float64    \n",
       "----- ----- ------ ----- ----- ------ ------ --------- ------------- ---------- ----------- --------- ------------ --------- ------------ ---------- --------- ---------- --------- ----------------- -------------------- ------------------ ---------------------- ----------------- ------------------ ------------------- ------------------ ----------------- ------------------- ------------------ --------------------- ------------------ ------------------- ------------------------ --------------------- --------------------- ---------------------- ---------------------- -------------------- ---------------------- ----------------------- --------------------- ------------------ ------------------- ----------------- ------------------------ ------------------------- ------------------ ------------------ ------------------ ------------------ -------------------- ------------------ ------------------ -------------------- ------------------ ------------------ ------------------ ------------------ ------------------ ------------------ ------------------- ------------------- -------------------- --------------------- ------------------- ------------------ ------------------- -------------------- --------------------- ------------------- ------------------ ------------------- --------------------- --------------------- --------------------- ----------- ---------------------- ---------- -------- ------------ --------- ------------------------------ -------------- -------------------- ------------- ------------- ---------------------- ---------------------- ------------------ ----- ----------------- -------------------- ------------------- ------------------ ------------------ --------------------- ------------------ ------------------ ------------------ ------------------ ------------------ ------------------- ------------------ ------------------- ------------------ ------------------- ------------------ ------------------- ------------------ ------------------- ------------------ ------------------- ------------------------ -------------------- ------------ ---------------- ----------------------- --------------------- -------------- -------- ------ --------- -------- ------- ----- ---------- -------- --------- ---------------- -------------- ------------ ---------------- ------- ------------- ------------- ------- ------- -------- ---------- ----------- ----------- --------- ----------- ---------- --------------- --------------- --------- ------------ --------------- -------- --------- ------------- ---------- ----------- --------- --------- --------- -------- ---------- ---------- --------- ------------ --------------- ------------ -------- --------- ------------- ------------- ------------- ------- ------------ ------- ------------ ------- ------------ ------------- ------------ ------------ ------------ ---------------- ------------ ----------- ------------- --------------- ------------ ------------- ------------- ------------------ ------------ --------- --------- ------ -------- -------- --------- -------- -------- ----- ------- -------- ----- ----- ------- ------- -------- ------------- ------- ------------ ----------- -------- ----- ----------- ---------- ------ ------ -------------- ----------- -------- ------- ------- ------- ------- ------------- ------- ------- ------------- ------- ------- ------------- -------------- --------------------------------- ------------ -------- --------- ------------------------------------------- --------- ------------------------------------------ --------- --------- -------------- --------- --------- ------------- ------------- -------- -------- --------- --------------------------------- -------- -------- ------------- ------------- --------- --------- --------- --------- --------- --------- ----------- ------- ------------- ------- ------------- ------------- ------------ ------------- -------- --------------\n",
       " 5318   301      5    88   148     -1      0         6           1.0  268435968          16   300.588    0.0296236   1722.29    0.0296807 0.00831517 0.0139911 0.00839345 0.0144877 307.82 .. 308.676 0.080942 .. 0.114278 1724.48 .. 1725.03 0.0698653 .. 0.0959216 42.529 .. 41.4123 37.0303 .. 45.9103  26.7503 .. 31.0737 61.7083 .. 88.5346 4.9214 .. 17.6954 0.381329 .. 14.3606 2.27556 .. 2.02842 0.0994419 .. 0.218799 4.78818 .. 5.70811 0.546023 .. 1.39386 -0.0423899 .. -0.0386429 0.026085 .. 0.0534001 0.0431951 .. 0.102901 0.0260868 .. 0.0538822 -0.126339 .. -0.142377 0.108069 .. 0.139901 0.0420166 .. 0.0987858 0.00494919 .. 0.0140854 0.0421079 .. 0.098821 5.82836 .. 3.38187 0.25234 .. 0.347925 2.2187 .. 2.04425 -0.0136677 .. -0.0530209 -0.000139082 .. 0.0252431 4.57846 .. 3.67581 2.12765 .. 2.08505 308.032 .. -9999.0 -1000.0 .. -9999.0 0.0822145 .. -9999.0 1724.35 .. -9999.0 -1000.0 .. -9999.0 -0.040485 .. -9999.0 9.88001 .. -9999.0 -1000.0 .. -9999.0 2.57839 .. -9999.0 6.94001 .. -9999.0 -1000.0 .. -9999.0 1.52442 .. -9999.0 -4.20286 .. -9999.0 0.870944 .. 0.26256 0.294291 .. 0.480284 0.392876 .. 0.0900378 0.321696 .. 44.2643 46.9029 .. 48.7954 1.09414 .. 0.409819 0.272542 .. 0.435729 0.354978 .. 0.0938166 0.272325 .. 25.5399 45.6211 .. 48.8062  42.6691 .. 43.1606 -16.0568 .. -0.102481 -11.7037 .. -0.175144 -11.0267 .. -0.175705  1.0 .. 1.0 268468224 .. 402686464   64 .. 64   6 .. 6   1.0 .. 1.0    7 .. 8 4622513147.49 .. 4622513219.16         0 .. 0 0.395938 .. 0.395964 215.228817946 16.0619212535 0.0333302 .. 0.0109571 0.0389623 .. 0.0668923 1.41068 .. 1.26408 53501 1.0977 .. 1.09942 -8.70964 .. -8.70964 54.3682 .. -9990.29 78.0981 .. 80.4252 79.7653 .. 80.6071 0.123914 .. 0.0355517 1.16085 .. 22.2013 1100.89 .. 159.538 10.7144 .. 17.2615 6.76297 .. 1.05043 8.23443 .. 12.7789 8.92058 .. 0.854681 5.07045 .. 8.04058  17.0942 .. 1.86568 11.0195 .. 17.5723 6.71864 .. 0.967052 11.9492 .. 19.3618 3.21233 .. 0.229825 12.2326 .. 17.5346 5.56042 .. 0.756599 11.8828 .. 17.5348 5.87729 .. 0.756266 0.556331 .. -3.19354e+08       207.777 .. 0.0       0 .. 0           1 .. 1 0.00904162 .. 0.0235607   0.171185 .. 2.59557              1       -1     -1        -1        0       0     0        str      0.0       0.0              str            str          str                0     0.0           0.0           0.0     0.0       0      str        str           0           0       0.0         0.0        0.0             str             str         0            0             0.0      0.0       0.0                      0.0         0.0       0.0       0.0       0.0      0.0        0.0        0.0       0.0     0.142479             0.0            0      0.0       0.0           0.0           0.0           0.0     0.0          0.0     0.0          0.0     0.0          0.0                          0            0                             0            0         0.0             0             0.0            0 215.228833333 16.0619222222 LRIS,NIRI,MAGE,APO 2.0569999218 2.0569999       0.0      1        0     none       0.0      0.0      0.0     0       0        0                 0.0     0.0      0.0             0     0.0            0           0        0                            0                            0           0 7811.344 30.7257 19.6303     0.0     0.0 56.6739726073     0.0     0.0 19.4220767027  19.301 19.1949 APOJ1420+1603           MAGE SDSSJ142054.92+160342.9_F.fits.gz  MAGE_redux/     -1.0         1 SDSSJ142054.92+160342.9_b1200_F.fits.gz ..          1 SDSSJ142054.92+160342.9_r300_N.fits.gz ..          1         0            ..          0         0                                    0                  1 SDSSJ142054.92+160342.9_F.fits.gz        0                      0                       0                   0                   0                     0      25 2.02187030259    44.0 215.226740468 16.0592607535 2.0569999218 103.843642376   [OIII] -26.2394541184"
      ]
     },
     "execution_count": 33,
     "metadata": {},
     "output_type": "execute_result"
    }
   ],
   "source": [
    "QPQ9[493]"
   ]
  },
  {
   "cell_type": "code",
   "execution_count": 19,
   "metadata": {
    "collapsed": false
   },
   "outputs": [
    {
     "data": {
      "text/plain": [
       "17.78542809214389"
      ]
     },
     "execution_count": 19,
     "metadata": {},
     "output_type": "execute_result"
    }
   ],
   "source": [
    "(3000./299792+1386./299792)*1215.6701"
   ]
  },
  {
   "cell_type": "code",
   "execution_count": 34,
   "metadata": {
    "collapsed": false
   },
   "outputs": [
    {
     "name": "stdout",
     "output_type": "stream",
     "text": [
      "x.fits.bintab_to_table: Reading qpq9_zIR.fits\n"
     ]
    }
   ],
   "source": [
    "NIR = xxf.bintab_to_table('qpq9_zIR.fits')"
   ]
  },
  {
   "cell_type": "code",
   "execution_count": 40,
   "metadata": {
    "collapsed": false
   },
   "outputs": [
    {
     "data": {
      "text/html": [
       "&lt;Row index=24&gt;\n",
       "<table id=\"table4506991120\">\n",
       "<thead><tr><th>RUN</th><th>RERUN</th><th>CAMCOL</th><th>FIELD</th><th>ID</th><th>PARENT</th><th>NCHILD</th><th>OBJC_TYPE</th><th>OBJC_PROB_PSF</th><th>OBJC_FLAGS</th><th>OBJC_FLAGS2</th><th>OBJC_ROWC</th><th>OBJC_ROWCERR</th><th>OBJC_COLC</th><th>OBJC_COLCERR</th><th>ROWV</th><th>ROWVERR</th><th>COLV</th><th>COLVERR</th><th>ROWC [5]</th><th>ROWCERR [5]</th><th>COLC [5]</th><th>COLCERR [5]</th><th>PSFCOUNTSERR [5]</th><th>FIBERCOUNTSERR [5]</th><th>FIBER2COUNTSERR [5]</th><th>PETROCOUNTSERR [5]</th><th>PETRORAD [5]</th><th>PETRORADERR [5]</th><th>PETROR50 [5]</th><th>PETROR50ERR [5]</th><th>PETROR90 [5]</th><th>PETROR90ERR [5]</th><th>Q [5]</th><th>QERR [5]</th><th>U [5]</th><th>UERR [5]</th><th>M_E1 [5]</th><th>M_E2 [5]</th><th>M_E1E1ERR [5]</th><th>M_E1E2ERR [5]</th><th>M_E2E2ERR [5]</th><th>M_RR_CC [5]</th><th>M_RR_CCERR [5]</th><th>M_CR4 [5]</th><th>M_E1_PSF [5]</th><th>M_E2_PSF [5]</th><th>M_RR_CC_PSF [5]</th><th>M_CR4_PSF [5]</th><th>ISO_ROWC [5]</th><th>ISO_ROWCERR [5]</th><th>ISO_ROWCGRAD [5]</th><th>ISO_COLC [5]</th><th>ISO_COLCERR [5]</th><th>ISO_COLCGRAD [5]</th><th>ISO_A [5]</th><th>ISO_AERR [5]</th><th>ISO_AGRAD [5]</th><th>ISO_B [5]</th><th>ISO_BERR [5]</th><th>ISO_BGRAD [5]</th><th>ISO_PHIGRAD [5]</th><th>R_DEV [5]</th><th>R_DEVERR [5]</th><th>AB_DEV [5]</th><th>AB_DEVERR [5]</th><th>COUNTS_DEVERR [5]</th><th>R_EXP [5]</th><th>R_EXPERR [5]</th><th>AB_EXP [5]</th><th>AB_EXPERR [5]</th><th>COUNTS_EXPERR [5]</th><th>COUNTS_MODELERR [5]</th><th>STAR_LNL [5]</th><th>EXP_LNL [5]</th><th>DEV_LNL [5]</th><th>FRACPSF [5]</th><th>FLAGS [5]</th><th>FLAGS2 [5]</th><th>TYPE [5]</th><th>PROB_PSF [5]</th><th>NPROF [5]</th><th>TAI [5]</th><th>PSP_STATUS [5]</th><th>PIXSCALE [5]</th><th>RA</th><th>DEC</th><th>OFFSETRA [5]</th><th>OFFSETDEC [5]</th><th>PSF_FWHM [5]</th><th>MJD</th><th>AIRMASS [5]</th><th>PHI_OFFSET [5]</th><th>PHI_ISO_DEG [5]</th><th>PHI_DEV_DEG [5]</th><th>PHI_EXP_DEG [5]</th><th>EXTINCTION [5]</th><th>SKYFLUX [5]</th><th>SKYFLUX_IVAR [5]</th><th>PSFFLUX [5]</th><th>PSFFLUX_IVAR [5]</th><th>FIBERFLUX [5]</th><th>FIBERFLUX_IVAR [5]</th><th>FIBER2FLUX [5]</th><th>FIBER2FLUX_IVAR [5]</th><th>MODELFLUX [5]</th><th>MODELFLUX_IVAR [5]</th><th>PETROFLUX [5]</th><th>PETROFLUX_IVAR [5]</th><th>DEVFLUX [5]</th><th>DEVFLUX_IVAR [5]</th><th>EXPFLUX [5]</th><th>EXPFLUX_IVAR [5]</th><th>APERFLUX [5,15]</th><th>APERFLUX_IVAR [5,15]</th><th>CLOUDCAM [5]</th><th>CALIB_STATUS [5]</th><th>NMGYPERCOUNT [5]</th><th>NMGYPERCOUNT_IVAR [5]</th><th>RESOLVE_STATUS</th><th>THING_ID</th><th>IFIELD</th><th>BALKAN_ID</th><th>NOBSERVE</th><th>NDETECT</th><th>NEDGE</th><th>TWOQZ_NAME</th><th>TWOQZ_RA</th><th>TWOQZ_DEC</th><th>TWOQZ_CAT_NUMBER</th><th>TWOQZ_CAT_NAME</th><th>TWOQZ_SECTOR</th><th>TWOQZ_UKST_FIELD</th><th>TWOQZ_B</th><th>TWOQZ_U_MIN_B</th><th>TWOQZ_B_MIN_R</th><th>TWOQZ_Z</th><th>TWOQZ_Q</th><th>TWOQZ_ID</th><th>TWOQZ_DATE</th><th>TWOQZ_FIELD</th><th>TWOQZ_FIBRE</th><th>TWOQZ_S_N</th><th>TWOQZ_RADIO</th><th>TWOQZ_XRAY</th><th>TWOQZ_COMMENTS1</th><th>TWOQZ_COMMENTS2</th><th>TWOQZ_QSO</th><th>TWOQZ_NMATCH</th><th>TWOQZ_MATCHDIST</th><th>FIRST_RA</th><th>FIRST_DEC</th><th>FIRST_WARNING</th><th>FIRST_FINT</th><th>FIRST_FPEAK</th><th>FIRST_RMS</th><th>FIRST_MAJ</th><th>FIRST_MIN</th><th>FIRST_PA</th><th>FIRST_FMAJ</th><th>FIRST_FMIN</th><th>FIRST_FPA</th><th>FIRST_SKYRMS</th><th>FIRST_MATCHDIST</th><th>FIRST_NMATCH</th><th>TMASS_RA</th><th>TMASS_DEC</th><th>TMASS_ERR_MAJ</th><th>TMASS_ERR_MIN</th><th>TMASS_ERR_ANG</th><th>TMASS_J</th><th>TMASS_J_IVAR</th><th>TMASS_H</th><th>TMASS_H_IVAR</th><th>TMASS_K</th><th>TMASS_K_IVAR</th><th>TMASS_PH_QUAL</th><th>TMASS_RD_FLG</th><th>TMASS_BL_FLG</th><th>TMASS_CC_FLG</th><th>TMASS_GAL_CONTAM</th><th>TMASS_MP_FLG</th><th>TMASS_JDATE</th><th>TMASS_DUP_SRC</th><th>TMASS_MATCHDIST</th><th>TMASS_NMATCH</th><th>LYA_RA</th><th>LYA_DEC</th><th>TELESCOPE</th><th>Z_TOT</th><th>Z_IR</th><th>SIGMA_ZIR</th><th>IR_OBS</th><th>IR_ZFLAG</th><th>IR_ZLINE</th><th>LYA_ZPHOT</th><th>LYA_ZMIN</th><th>LYA_ZMAX</th><th>PLATE</th><th>FIBERID</th><th>MJD_SPEC</th><th>RUN2D</th><th>RUN1D</th><th>Z</th><th>Z_ERR</th><th>Z_PERSON</th><th>Z_CONF_PERSON</th><th>ZEM</th><th>CLASS_PERSON</th><th>SPECPRIMARY</th><th>ZWARNING</th><th>CLASS</th><th>PROGRAMNAME</th><th>PRIMTARGET</th><th>SURVEY</th><th>SOURCE</th><th>SPECTRO_NMATCH</th><th>MYERS_MATCH</th><th>G_UV</th><th>LOGLV</th><th>M912</th><th>F_C_QSO</th><th>F_C_UVB</th><th>LOG_DNDT</th><th>SB_QSO</th><th>SB_UVB</th><th>J_AB</th><th>H_AB</th><th>K_AB</th><th>NAME</th><th>LYA_INSTRUMENT</th><th>LYA_FILE</th><th>LYA_FILEPATH</th><th>SN_RATIO</th><th>LRIS_SPEC</th><th>LRIS_BLU_FILES [5]</th><th>LRIS_NBLU</th><th>LRIS_RED_FILES [5]</th><th>LRIS_NRED</th><th>GMOS_SPEC</th><th>GMOS_FILES [5]</th><th>GMOS_NFIL</th><th>MODS_SPEC</th><th>MODS_BLU_FILE</th><th>MODS_RED_FILE</th><th>MMT_SPEC</th><th>MMT_FILE</th><th>MAGE_SPEC</th><th>MAGE_FILE</th><th>ESI_SPEC</th><th>ESI_FILE</th><th>XSHOOTER_SPEC</th><th>XSHOOTER_FILE</th><th>MIKE_SPEC</th><th>MIKE_FILE</th><th>SDSS_SPEC</th><th>SDSS_FILE</th><th>BOSS_SPEC</th><th>BOSS_FILE</th><th>BOSS_PUBLIC</th><th>STAR_ID</th><th>FG_ZIR</th><th>FG_SIG_ZIR</th><th>FG_RA</th><th>FG_DEC</th><th>BG_Z</th><th>R_PHYS</th><th>ZFG_LINE</th><th>M_i</th></tr></thead>\n",
       "<thead><tr><th>int32</th><th>str3</th><th>int32</th><th>int32</th><th>int32</th><th>int32</th><th>int32</th><th>int32</th><th>float32</th><th>int32</th><th>int32</th><th>float32</th><th>float32</th><th>float32</th><th>float32</th><th>float32</th><th>float32</th><th>float32</th><th>float32</th><th>float32</th><th>float32</th><th>float32</th><th>float32</th><th>float32</th><th>float32</th><th>float32</th><th>float32</th><th>float32</th><th>float32</th><th>float32</th><th>float32</th><th>float32</th><th>float32</th><th>float32</th><th>float32</th><th>float32</th><th>float32</th><th>float32</th><th>float32</th><th>float32</th><th>float32</th><th>float32</th><th>float32</th><th>float32</th><th>float32</th><th>float32</th><th>float32</th><th>float32</th><th>float32</th><th>float32</th><th>float32</th><th>float32</th><th>float32</th><th>float32</th><th>float32</th><th>float32</th><th>float32</th><th>float32</th><th>float32</th><th>float32</th><th>float32</th><th>float32</th><th>float32</th><th>float32</th><th>float32</th><th>float32</th><th>float32</th><th>float32</th><th>float32</th><th>float32</th><th>float32</th><th>float32</th><th>float32</th><th>float32</th><th>float32</th><th>float32</th><th>float32</th><th>int32</th><th>int32</th><th>int32</th><th>float32</th><th>int32</th><th>float64</th><th>int32</th><th>float32</th><th>float64</th><th>float64</th><th>float32</th><th>float32</th><th>float32</th><th>int32</th><th>float32</th><th>float32</th><th>float32</th><th>float32</th><th>float32</th><th>float32</th><th>float32</th><th>float32</th><th>float32</th><th>float32</th><th>float32</th><th>float32</th><th>float32</th><th>float32</th><th>float32</th><th>float32</th><th>float32</th><th>float32</th><th>float32</th><th>float32</th><th>float32</th><th>float32</th><th>float32</th><th>float32</th><th>int16</th><th>int16</th><th>float32</th><th>float32</th><th>int16</th><th>int32</th><th>int32</th><th>int32</th><th>int16</th><th>int16</th><th>int16</th><th>str3</th><th>float64</th><th>float64</th><th>str3</th><th>str3</th><th>str3</th><th>int32</th><th>float32</th><th>float32</th><th>float32</th><th>float32</th><th>int32</th><th>str3</th><th>str3</th><th>int32</th><th>int32</th><th>float32</th><th>float32</th><th>float32</th><th>str3</th><th>str3</th><th>int32</th><th>int32</th><th>float64</th><th>float64</th><th>float64</th><th>str1</th><th>float32</th><th>float32</th><th>float32</th><th>float32</th><th>float32</th><th>float32</th><th>float32</th><th>float32</th><th>float32</th><th>float32</th><th>float32</th><th>int16</th><th>float64</th><th>float64</th><th>float32</th><th>float32</th><th>float32</th><th>float32</th><th>float32</th><th>float32</th><th>float32</th><th>float32</th><th>float32</th><th>str3</th><th>int16</th><th>int16</th><th>str3</th><th>uint8</th><th>uint8</th><th>float64</th><th>uint8</th><th>float32</th><th>int16</th><th>float64</th><th>float64</th><th>str59</th><th>float64</th><th>float64</th><th>float32</th><th>int32</th><th>int32</th><th>str4</th><th>float32</th><th>float32</th><th>float32</th><th>int32</th><th>int32</th><th>int32</th><th>str6</th><th>str6</th><th>float32</th><th>float32</th><th>float32</th><th>int32</th><th>float32</th><th>int32</th><th>uint8</th><th>int32</th><th>str6</th><th>str27</th><th>int32</th><th>str6</th><th>str27</th><th>int32</th><th>int32</th><th>float64</th><th>float32</th><th>float32</th><th>float64</th><th>float64</th><th>float64</th><th>float64</th><th>float64</th><th>float64</th><th>float32</th><th>float32</th><th>str14</th><th>str8</th><th>str39</th><th>str15</th><th>float32</th><th>int32</th><th>str39</th><th>int32</th><th>str39</th><th>int32</th><th>int32</th><th>str39</th><th>int32</th><th>int32</th><th>str1</th><th>str1</th><th>int32</th><th>str1</th><th>int32</th><th>str33</th><th>int32</th><th>str33</th><th>int32</th><th>str30</th><th>int32</th><th>str35</th><th>int32</th><th>str28</th><th>int32</th><th>str28</th><th>int32</th><th>int32</th><th>float64</th><th>float32</th><th>float64</th><th>float64</th><th>float64</th><th>float64</th><th>str36</th><th>float64</th></tr></thead>\n",
       "<tr><td>5318</td><td>301</td><td>5</td><td>88</td><td>148</td><td>-1</td><td>0</td><td>6</td><td>1.0</td><td>268435968</td><td>16</td><td>300.588</td><td>0.0296236</td><td>1722.29</td><td>0.0296807</td><td>0.00831517</td><td>0.0139911</td><td>0.00839345</td><td>0.0144877</td><td>307.82 .. 308.676</td><td>0.080942 .. 0.114278</td><td>1724.48 .. 1725.03</td><td>0.0698653 .. 0.0959216</td><td>42.529 .. 41.4123</td><td>37.0303 .. 45.9103</td><td>26.7503 .. 31.0737</td><td>61.7083 .. 88.5346</td><td>4.9214 .. 17.6954</td><td>0.381329 .. 14.3606</td><td>2.27556 .. 2.02842</td><td>0.0994419 .. 0.218799</td><td>4.78818 .. 5.70811</td><td>0.546023 .. 1.39386</td><td>-0.0423899 .. -0.0386429</td><td>0.026085 .. 0.0534001</td><td>0.0431951 .. 0.102901</td><td>0.0260868 .. 0.0538822</td><td>-0.126339 .. -0.142377</td><td>0.108069 .. 0.139901</td><td>0.0420166 .. 0.0987858</td><td>0.00494919 .. 0.0140854</td><td>0.0421079 .. 0.098821</td><td>5.82836 .. 3.38187</td><td>0.25234 .. 0.347925</td><td>2.2187 .. 2.04425</td><td>-0.0136677 .. -0.0530209</td><td>-0.000139082 .. 0.0252431</td><td>4.57846 .. 3.67581</td><td>2.12765 .. 2.08505</td><td>308.032 .. -9999.0</td><td>-1000.0 .. -9999.0</td><td>0.0822145 .. -9999.0</td><td>1724.35 .. -9999.0</td><td>-1000.0 .. -9999.0</td><td>-0.040485 .. -9999.0</td><td>9.88001 .. -9999.0</td><td>-1000.0 .. -9999.0</td><td>2.57839 .. -9999.0</td><td>6.94001 .. -9999.0</td><td>-1000.0 .. -9999.0</td><td>1.52442 .. -9999.0</td><td>-4.20286 .. -9999.0</td><td>0.870944 .. 0.26256</td><td>0.294291 .. 0.480284</td><td>0.392876 .. 0.0900378</td><td>0.321696 .. 44.2643</td><td>46.9029 .. 48.7954</td><td>1.09414 .. 0.409819</td><td>0.272542 .. 0.435729</td><td>0.354978 .. 0.0938166</td><td>0.272325 .. 25.5399</td><td>45.6211 .. 48.8062</td><td>42.6691 .. 43.1606</td><td>-16.0568 .. -0.102481</td><td>-11.7037 .. -0.175144</td><td>-11.0267 .. -0.175705</td><td>1.0 .. 1.0</td><td>268468224 .. 402686464</td><td>64 .. 64</td><td>6 .. 6</td><td>1.0 .. 1.0</td><td>7 .. 8</td><td>4622513147.49 .. 4622513219.16</td><td>0 .. 0</td><td>0.395938 .. 0.395964</td><td>215.228817946</td><td>16.0619212535</td><td>0.0333302 .. 0.0109571</td><td>0.0389623 .. 0.0668923</td><td>1.41068 .. 1.26408</td><td>53501</td><td>1.0977 .. 1.09942</td><td>-8.70964 .. -8.70964</td><td>54.3682 .. -9990.29</td><td>78.0981 .. 80.4252</td><td>79.7653 .. 80.6071</td><td>0.123914 .. 0.0355517</td><td>1.16085 .. 22.2013</td><td>1100.89 .. 159.538</td><td>10.7144 .. 17.2615</td><td>6.76297 .. 1.05043</td><td>8.23443 .. 12.7789</td><td>8.92058 .. 0.854681</td><td>5.07045 .. 8.04058</td><td>17.0942 .. 1.86568</td><td>11.0195 .. 17.5723</td><td>6.71864 .. 0.967052</td><td>11.9492 .. 19.3618</td><td>3.21233 .. 0.229825</td><td>12.2326 .. 17.5346</td><td>5.56042 .. 0.756599</td><td>11.8828 .. 17.5348</td><td>5.87729 .. 0.756266</td><td>0.556331 .. -3.19354e+08</td><td>207.777 .. 0.0</td><td>0 .. 0</td><td>1 .. 1</td><td>0.00904162 .. 0.0235607</td><td>0.171185 .. 2.59557</td><td>1</td><td>-1</td><td>-1</td><td>-1</td><td>0</td><td>0</td><td>0</td><td>str</td><td>0.0</td><td>0.0</td><td>str</td><td>str</td><td>str</td><td>0</td><td>0.0</td><td>0.0</td><td>0.0</td><td>0.0</td><td>0</td><td>str</td><td>str</td><td>0</td><td>0</td><td>0.0</td><td>0.0</td><td>0.0</td><td>str</td><td>str</td><td>0</td><td>0</td><td>0.0</td><td>0.0</td><td>0.0</td><td></td><td>0.0</td><td>0.0</td><td>0.0</td><td>0.0</td><td>0.0</td><td>0.0</td><td>0.0</td><td>0.0</td><td>0.0</td><td>0.142479</td><td>0.0</td><td>0</td><td>0.0</td><td>0.0</td><td>0.0</td><td>0.0</td><td>0.0</td><td>0.0</td><td>0.0</td><td>0.0</td><td>0.0</td><td>0.0</td><td>0.0</td><td></td><td>0</td><td>0</td><td></td><td>0</td><td>0</td><td>0.0</td><td>0</td><td>0.0</td><td>0</td><td>215.228833333</td><td>16.0619222222</td><td>LRIS,NIRI,MAGE,APO</td><td>2.0569999218</td><td>2.0569999</td><td>0.0</td><td>1</td><td>0</td><td>none</td><td>0.0</td><td>0.0</td><td>0.0</td><td>0</td><td>0</td><td>0</td><td></td><td></td><td>0.0</td><td>0.0</td><td>0.0</td><td>0</td><td>0.0</td><td>0</td><td>0</td><td>0</td><td></td><td></td><td>0</td><td></td><td></td><td>0</td><td>0</td><td>5502.06363366</td><td>30.7257</td><td>19.6303</td><td>0.0</td><td>0.0</td><td>56.6739726073</td><td>0.0</td><td>0.0</td><td>19.4220767027</td><td>19.301</td><td>19.1949</td><td>APOJ1420+1603</td><td>MAGE</td><td>SDSSJ142054.92+160342.9_F.fits.gz</td><td>MAGE_redux/</td><td>-1.0</td><td>1</td><td>SDSSJ142054.92+160342.9_b1200_F.fits.gz ..</td><td>1</td><td>SDSSJ142054.92+160342.9_r300_N.fits.gz  ..</td><td>1</td><td>0</td><td>..</td><td>0</td><td>0</td><td></td><td></td><td>0</td><td></td><td>1</td><td>SDSSJ142054.92+160342.9_F.fits.gz</td><td>0</td><td></td><td>0</td><td></td><td>0</td><td></td><td>0</td><td></td><td>0</td><td></td><td>0</td><td>25</td><td>2.02187030259</td><td>44.0</td><td>215.226740468</td><td>16.0592607535</td><td>2.0569999218</td><td>103.843642376</td><td>[OIII]</td><td>-26.2394541184</td></tr>\n",
       "</table>"
      ],
      "text/plain": [
       "<Row index=24>\n",
       " RUN  RERUN CAMCOL FIELD   ID  PARENT NCHILD OBJC_TYPE OBJC_PROB_PSF OBJC_FLAGS OBJC_FLAGS2 OBJC_ROWC OBJC_ROWCERR OBJC_COLC OBJC_COLCERR    ROWV     ROWVERR     COLV     COLVERR       ROWC [5]         ROWCERR [5]           COLC [5]           COLCERR [5]        PSFCOUNTSERR [5] FIBERCOUNTSERR [5] FIBER2COUNTSERR [5] PETROCOUNTSERR [5]    PETRORAD [5]     PETRORADERR [5]      PETROR50 [5]       PETROR50ERR [5]       PETROR90 [5]      PETROR90ERR [5]            Q [5]                  QERR [5]               U [5]                UERR [5]               M_E1 [5]              M_E2 [5]           M_E1E1ERR [5]           M_E1E2ERR [5]          M_E2E2ERR [5]        M_RR_CC [5]        M_RR_CCERR [5]       M_CR4 [5]           M_E1_PSF [5]              M_E2_PSF [5]        M_RR_CC_PSF [5]     M_CR4_PSF [5]       ISO_ROWC [5]     ISO_ROWCERR [5]     ISO_ROWCGRAD [5]      ISO_COLC [5]     ISO_COLCERR [5]     ISO_COLCGRAD [5]       ISO_A [5]         ISO_AERR [5]      ISO_AGRAD [5]        ISO_B [5]         ISO_BERR [5]      ISO_BGRAD [5]      ISO_PHIGRAD [5]        R_DEV [5]          R_DEVERR [5]           AB_DEV [5]         AB_DEVERR [5]    COUNTS_DEVERR [5]       R_EXP [5]          R_EXPERR [5]           AB_EXP [5]         AB_EXPERR [5]    COUNTS_EXPERR [5]  COUNTS_MODELERR [5]      STAR_LNL [5]          EXP_LNL [5]           DEV_LNL [5]      FRACPSF [5]       FLAGS [5]        FLAGS2 [5] TYPE [5] PROB_PSF [5] NPROF [5]            TAI [5]             PSP_STATUS [5]     PIXSCALE [5]           RA           DEC           OFFSETRA [5]          OFFSETDEC [5]         PSF_FWHM [5]     MJD     AIRMASS [5]       PHI_OFFSET [5]      PHI_ISO_DEG [5]    PHI_DEV_DEG [5]    PHI_EXP_DEG [5]       EXTINCTION [5]       SKYFLUX [5]      SKYFLUX_IVAR [5]     PSFFLUX [5]      PSFFLUX_IVAR [5]    FIBERFLUX [5]     FIBERFLUX_IVAR [5]   FIBER2FLUX [5]   FIBER2FLUX_IVAR [5]   MODELFLUX [5]     MODELFLUX_IVAR [5]   PETROFLUX [5]     PETROFLUX_IVAR [5]    DEVFLUX [5]       DEVFLUX_IVAR [5]     EXPFLUX [5]       EXPFLUX_IVAR [5]      APERFLUX [5,15]      APERFLUX_IVAR [5,15] CLOUDCAM [5] CALIB_STATUS [5]     NMGYPERCOUNT [5]    NMGYPERCOUNT_IVAR [5] RESOLVE_STATUS THING_ID IFIELD BALKAN_ID NOBSERVE NDETECT NEDGE TWOQZ_NAME TWOQZ_RA TWOQZ_DEC TWOQZ_CAT_NUMBER TWOQZ_CAT_NAME TWOQZ_SECTOR TWOQZ_UKST_FIELD TWOQZ_B TWOQZ_U_MIN_B TWOQZ_B_MIN_R TWOQZ_Z TWOQZ_Q TWOQZ_ID TWOQZ_DATE TWOQZ_FIELD TWOQZ_FIBRE TWOQZ_S_N TWOQZ_RADIO TWOQZ_XRAY TWOQZ_COMMENTS1 TWOQZ_COMMENTS2 TWOQZ_QSO TWOQZ_NMATCH TWOQZ_MATCHDIST FIRST_RA FIRST_DEC FIRST_WARNING FIRST_FINT FIRST_FPEAK FIRST_RMS FIRST_MAJ FIRST_MIN FIRST_PA FIRST_FMAJ FIRST_FMIN FIRST_FPA FIRST_SKYRMS FIRST_MATCHDIST FIRST_NMATCH TMASS_RA TMASS_DEC TMASS_ERR_MAJ TMASS_ERR_MIN TMASS_ERR_ANG TMASS_J TMASS_J_IVAR TMASS_H TMASS_H_IVAR TMASS_K TMASS_K_IVAR TMASS_PH_QUAL TMASS_RD_FLG TMASS_BL_FLG TMASS_CC_FLG TMASS_GAL_CONTAM TMASS_MP_FLG TMASS_JDATE TMASS_DUP_SRC TMASS_MATCHDIST TMASS_NMATCH     LYA_RA       LYA_DEC        TELESCOPE         Z_TOT        Z_IR   SIGMA_ZIR IR_OBS IR_ZFLAG IR_ZLINE LYA_ZPHOT LYA_ZMIN LYA_ZMAX PLATE FIBERID MJD_SPEC RUN2D RUN1D    Z     Z_ERR  Z_PERSON Z_CONF_PERSON   ZEM   CLASS_PERSON SPECPRIMARY ZWARNING CLASS PROGRAMNAME PRIMTARGET SURVEY SOURCE SPECTRO_NMATCH MYERS_MATCH      G_UV      LOGLV    M912  F_C_QSO F_C_UVB    LOG_DNDT    SB_QSO  SB_UVB      J_AB       H_AB    K_AB       NAME     LYA_INSTRUMENT              LYA_FILE             LYA_FILEPATH SN_RATIO LRIS_SPEC                                 LRIS_BLU_FILES [5]                                 LRIS_NBLU                                 LRIS_RED_FILES [5]                                 LRIS_NRED GMOS_SPEC                                   GMOS_FILES [5]                                   GMOS_NFIL MODS_SPEC MODS_BLU_FILE MODS_RED_FILE MMT_SPEC MMT_FILE MAGE_SPEC             MAGE_FILE             ESI_SPEC ESI_FILE XSHOOTER_SPEC XSHOOTER_FILE MIKE_SPEC MIKE_FILE SDSS_SPEC SDSS_FILE BOSS_SPEC BOSS_FILE BOSS_PUBLIC STAR_ID     FG_ZIR    FG_SIG_ZIR     FG_RA         FG_DEC        BG_Z         R_PHYS    ZFG_LINE      M_i      \n",
       "int32  str3 int32  int32 int32 int32  int32    int32      float32      int32       int32     float32    float32     float32    float32     float32    float32   float32    float32       float32            float32             float32              float32              float32           float32             float32            float32            float32            float32            float32              float32             float32             float32               float32                 float32               float32               float32                float32               float32               float32                 float32                float32             float32             float32            float32              float32                   float32               float32            float32            float32            float32             float32             float32            float32             float32             float32            float32            float32            float32            float32            float32             float32             float32             float32               float32              float32            float32             float32             float32               float32              float32            float32             float32              float32               float32               float32          float32           int32            int32     int32     float32      int32              float64                 int32            float32           float64       float64           float32                float32              float32       int32      float32            float32              float32            float32            float32              float32             float32            float32            float32            float32            float32             float32            float32             float32            float32             float32            float32             float32            float32             float32            float32             float32               float32                float32           int16          int16               float32                float32            int16       int32   int32    int32    int16    int16  int16    str3    float64   float64        str3            str3          str3          int32       float32    float32       float32    float32  int32    str3      str3       int32       int32     float32    float32    float32         str3            str3        int32      int32         float64     float64   float64       str1      float32     float32    float32   float32   float32  float32   float32    float32    float32    float32        float32        int16     float64   float64     float32       float32       float32    float32   float32    float32   float32    float32   float32         str3        int16        int16         str3          uint8          uint8       float64       uint8         float32        int16        float64       float64          str59          float64     float64   float32  int32   int32     str4    float32  float32  float32  int32  int32   int32    str6  str6 float32 float32 float32      int32     float32    int32        uint8     int32    str6    str27      int32     str6  str27      int32         int32       float64    float32 float32 float64 float64    float64    float64 float64    float64    float32 float32     str14          str8                    str39                  str15     float32    int32                                         str39                                          int32                                         str39                                          int32     int32                                         str39                                          int32     int32        str1          str1      int32     str1     int32                 str33                int32    str33       int32         str30       int32     str35     int32     str28     int32     str28      int32     int32     float64     float32      float64       float64      float64       float64     str36      float64    \n",
       "----- ----- ------ ----- ----- ------ ------ --------- ------------- ---------- ----------- --------- ------------ --------- ------------ ---------- --------- ---------- --------- ----------------- -------------------- ------------------ ---------------------- ----------------- ------------------ ------------------- ------------------ ----------------- ------------------- ------------------ --------------------- ------------------ ------------------- ------------------------ --------------------- --------------------- ---------------------- ---------------------- -------------------- ---------------------- ----------------------- --------------------- ------------------ ------------------- ----------------- ------------------------ ------------------------- ------------------ ------------------ ------------------ ------------------ -------------------- ------------------ ------------------ -------------------- ------------------ ------------------ ------------------ ------------------ ------------------ ------------------ ------------------- ------------------- -------------------- --------------------- ------------------- ------------------ ------------------- -------------------- --------------------- ------------------- ------------------ ------------------- --------------------- --------------------- --------------------- ----------- ---------------------- ---------- -------- ------------ --------- ------------------------------ -------------- -------------------- ------------- ------------- ---------------------- ---------------------- ------------------ ----- ----------------- -------------------- ------------------- ------------------ ------------------ --------------------- ------------------ ------------------ ------------------ ------------------ ------------------ ------------------- ------------------ ------------------- ------------------ ------------------- ------------------ ------------------- ------------------ ------------------- ------------------ ------------------- ------------------------ -------------------- ------------ ---------------- ----------------------- --------------------- -------------- -------- ------ --------- -------- ------- ----- ---------- -------- --------- ---------------- -------------- ------------ ---------------- ------- ------------- ------------- ------- ------- -------- ---------- ----------- ----------- --------- ----------- ---------- --------------- --------------- --------- ------------ --------------- -------- --------- ------------- ---------- ----------- --------- --------- --------- -------- ---------- ---------- --------- ------------ --------------- ------------ -------- --------- ------------- ------------- ------------- ------- ------------ ------- ------------ ------- ------------ ------------- ------------ ------------ ------------ ---------------- ------------ ----------- ------------- --------------- ------------ ------------- ------------- ------------------ ------------ --------- --------- ------ -------- -------- --------- -------- -------- ----- ------- -------- ----- ----- ------- ------- -------- ------------- ------- ------------ ----------- -------- ----- ----------- ---------- ------ ------ -------------- ----------- ------------- ------- ------- ------- ------- ------------- ------- ------- ------------- ------- ------- ------------- -------------- --------------------------------- ------------ -------- --------- ---------------------------------------------------------------------------------- --------- ---------------------------------------------------------------------------------- --------- --------- ---------------------------------------------------------------------------------- --------- --------- ------------- ------------- -------- -------- --------- --------------------------------- -------- -------- ------------- ------------- --------- --------- --------- --------- --------- --------- ----------- ------- ------------- ---------- ------------- ------------- ------------ ------------- -------- --------------\n",
       " 5318   301      5    88   148     -1      0         6           1.0  268435968          16   300.588    0.0296236   1722.29    0.0296807 0.00831517 0.0139911 0.00839345 0.0144877 307.82 .. 308.676 0.080942 .. 0.114278 1724.48 .. 1725.03 0.0698653 .. 0.0959216 42.529 .. 41.4123 37.0303 .. 45.9103  26.7503 .. 31.0737 61.7083 .. 88.5346 4.9214 .. 17.6954 0.381329 .. 14.3606 2.27556 .. 2.02842 0.0994419 .. 0.218799 4.78818 .. 5.70811 0.546023 .. 1.39386 -0.0423899 .. -0.0386429 0.026085 .. 0.0534001 0.0431951 .. 0.102901 0.0260868 .. 0.0538822 -0.126339 .. -0.142377 0.108069 .. 0.139901 0.0420166 .. 0.0987858 0.00494919 .. 0.0140854 0.0421079 .. 0.098821 5.82836 .. 3.38187 0.25234 .. 0.347925 2.2187 .. 2.04425 -0.0136677 .. -0.0530209 -0.000139082 .. 0.0252431 4.57846 .. 3.67581 2.12765 .. 2.08505 308.032 .. -9999.0 -1000.0 .. -9999.0 0.0822145 .. -9999.0 1724.35 .. -9999.0 -1000.0 .. -9999.0 -0.040485 .. -9999.0 9.88001 .. -9999.0 -1000.0 .. -9999.0 2.57839 .. -9999.0 6.94001 .. -9999.0 -1000.0 .. -9999.0 1.52442 .. -9999.0 -4.20286 .. -9999.0 0.870944 .. 0.26256 0.294291 .. 0.480284 0.392876 .. 0.0900378 0.321696 .. 44.2643 46.9029 .. 48.7954 1.09414 .. 0.409819 0.272542 .. 0.435729 0.354978 .. 0.0938166 0.272325 .. 25.5399 45.6211 .. 48.8062  42.6691 .. 43.1606 -16.0568 .. -0.102481 -11.7037 .. -0.175144 -11.0267 .. -0.175705  1.0 .. 1.0 268468224 .. 402686464   64 .. 64   6 .. 6   1.0 .. 1.0    7 .. 8 4622513147.49 .. 4622513219.16         0 .. 0 0.395938 .. 0.395964 215.228817946 16.0619212535 0.0333302 .. 0.0109571 0.0389623 .. 0.0668923 1.41068 .. 1.26408 53501 1.0977 .. 1.09942 -8.70964 .. -8.70964 54.3682 .. -9990.29 78.0981 .. 80.4252 79.7653 .. 80.6071 0.123914 .. 0.0355517 1.16085 .. 22.2013 1100.89 .. 159.538 10.7144 .. 17.2615 6.76297 .. 1.05043 8.23443 .. 12.7789 8.92058 .. 0.854681 5.07045 .. 8.04058  17.0942 .. 1.86568 11.0195 .. 17.5723 6.71864 .. 0.967052 11.9492 .. 19.3618 3.21233 .. 0.229825 12.2326 .. 17.5346 5.56042 .. 0.756599 11.8828 .. 17.5348 5.87729 .. 0.756266 0.556331 .. -3.19354e+08       207.777 .. 0.0       0 .. 0           1 .. 1 0.00904162 .. 0.0235607   0.171185 .. 2.59557              1       -1     -1        -1        0       0     0        str      0.0       0.0              str            str          str                0     0.0           0.0           0.0     0.0       0      str        str           0           0       0.0         0.0        0.0             str             str         0            0             0.0      0.0       0.0                      0.0         0.0       0.0       0.0       0.0      0.0        0.0        0.0       0.0     0.142479             0.0            0      0.0       0.0           0.0           0.0           0.0     0.0          0.0     0.0          0.0     0.0          0.0                          0            0                             0            0         0.0             0             0.0            0 215.228833333 16.0619222222 LRIS,NIRI,MAGE,APO 2.0569999218 2.0569999       0.0      1        0     none       0.0      0.0      0.0     0       0        0                 0.0     0.0      0.0             0     0.0            0           0        0                            0                            0           0 5502.06363366 30.7257 19.6303     0.0     0.0 56.6739726073     0.0     0.0 19.4220767027  19.301 19.1949 APOJ1420+1603           MAGE SDSSJ142054.92+160342.9_F.fits.gz  MAGE_redux/     -1.0         1 SDSSJ142054.92+160342.9_b1200_F.fits.gz ..                                                 1 SDSSJ142054.92+160342.9_r300_N.fits.gz  ..                                                 1         0                                         ..                                                 0         0                                    0                  1 SDSSJ142054.92+160342.9_F.fits.gz        0                      0                       0                   0                   0                     0      25 2.02187030259       44.0 215.226740468 16.0592607535 2.0569999218 103.843642376   [OIII] -26.2394541184"
      ]
     },
     "execution_count": 40,
     "metadata": {},
     "output_type": "execute_result"
    }
   ],
   "source": [
    "NIR[24]"
   ]
  },
  {
   "cell_type": "code",
   "execution_count": null,
   "metadata": {
    "collapsed": true
   },
   "outputs": [],
   "source": []
  }
 ],
 "metadata": {
  "kernelspec": {
   "display_name": "Python 2",
   "language": "python",
   "name": "python2"
  },
  "language_info": {
   "codemirror_mode": {
    "name": "ipython",
    "version": 2
   },
   "file_extension": ".py",
   "mimetype": "text/x-python",
   "name": "python",
   "nbconvert_exporter": "python",
   "pygments_lexer": "ipython2",
   "version": "2.7.12"
  }
 },
 "nbformat": 4,
 "nbformat_minor": 0
}
