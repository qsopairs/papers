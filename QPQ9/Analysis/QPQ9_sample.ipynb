{
 "cells": [
  {
   "cell_type": "markdown",
   "metadata": {},
   "source": [
    "# QPQ9 Sample"
   ]
  },
  {
   "cell_type": "code",
   "execution_count": 1,
   "metadata": {
    "collapsed": true
   },
   "outputs": [],
   "source": [
    "%matplotlib inline"
   ]
  },
  {
   "cell_type": "code",
   "execution_count": 2,
   "metadata": {
    "collapsed": true
   },
   "outputs": [],
   "source": [
    "# imports\n",
    "from scipy.io import readsav as scirs\n",
    "import copy, os, glob, imp\n",
    "import numpy as np\n",
    "\n",
    "from astropy.coordinates import SkyCoord\n",
    "from astropy import units as u\n",
    "from astropy.table import Column, Table\n",
    "from astropy.io import fits, ascii\n",
    "\n",
    "from xastropy.xutils import fits as xxf\n",
    "from xastropy.xutils import xdebug as xdb\n",
    "\n",
    "from specdb.specdb import IgmSpec, SpecDB\n",
    "from specdb import query_catalog as spqcat\n",
    "from specdb import interface_group as spigp\n",
    "from specdb import utils as spdbu\n",
    "\n",
    "from linetools import utils as ltu\n",
    "\n",
    "from astropy.cosmology import FlatLambdaCDM\n",
    "cosmo = FlatLambdaCDM(H0=70, Om0=0.26)\n",
    "\n",
    "import enigma"
   ]
  },
  {
   "cell_type": "markdown",
   "metadata": {},
   "source": [
    "## QPQ Sample Code\n",
    "Modifying lya_qpq_sample.pro in pro/data/photo\n",
    "\n",
    "Created QPQ-CGM-IR  [Joe did]\n",
    "\n",
    "QPQ-CGM-IR_00.000-00.300_Sat-Apr-25-21:33:45-2015.sav\n",
    "\n",
    "### Try MgII $z_{\\rm em}$ someday"
   ]
  },
  {
   "cell_type": "markdown",
   "metadata": {},
   "source": [
    "## Read the Sample and Collate"
   ]
  },
  {
   "cell_type": "code",
   "execution_count": 3,
   "metadata": {
    "collapsed": false
   },
   "outputs": [
    {
     "data": {
      "text/plain": [
       "\"\\n# IDL savefile read failed..\\n#dat = scirs(os.getenv('DROPBOX_DIR')+'/QSOPairs/QSO-CGM-IR/QPQ-CGM-IR_00.000-00.300_Sat-Apr-25-21:33:45-2015.sav',verbose=True)\\n#dat\\n\\n# Wrote a binary FITS table from IDL\\n#bgfil = 'QPQ-CGM-IR_00.000-00.300_Sat-Apr-25-21:33:45-2015_qsobg.fits.gz'\\n#fgfil = 'QPQ-CGM-IR_00.000-00.300_Sat-Apr-25-21:33:45-2015_qsofg.fits.gz'\\n#\\nbgfil = 'QPQ-CGM-IR_00.000-00.300_Tue-May-26-18:12:57-2015_qsobg.fits'\\nfgfil = 'QPQ-CGM-IR_00.000-00.300_Tue-May-26-18:12:57-2015_qsofg.fits'\\n#\\nqso_bg = xxf.bintab_to_table(os.getenv('DROPBOX_DIR')+'/QSOPairs/QPQ-CGM-IR/'+bgfil)\\n#\\nqso_fg = xxf.bintab_to_table(os.getenv('DROPBOX_DIR')+'/QSOPairs/QPQ-CGM-IR/'+fgfil)\\n#qso_fg[['NAME','LYA_FILE', 'Z_IR']]\\n\""
      ]
     },
     "execution_count": 3,
     "metadata": {},
     "output_type": "execute_result"
    }
   ],
   "source": [
    "'''\n",
    "# IDL savefile read failed..\n",
    "#dat = scirs(os.getenv('DROPBOX_DIR')+'/QSOPairs/QSO-CGM-IR/QPQ-CGM-IR_00.000-00.300_Sat-Apr-25-21:33:45-2015.sav',verbose=True)\n",
    "#dat\n",
    "\n",
    "# Wrote a binary FITS table from IDL\n",
    "#bgfil = 'QPQ-CGM-IR_00.000-00.300_Sat-Apr-25-21:33:45-2015_qsobg.fits.gz'\n",
    "#fgfil = 'QPQ-CGM-IR_00.000-00.300_Sat-Apr-25-21:33:45-2015_qsofg.fits.gz'\n",
    "#\n",
    "bgfil = 'QPQ-CGM-IR_00.000-00.300_Tue-May-26-18:12:57-2015_qsobg.fits'\n",
    "fgfil = 'QPQ-CGM-IR_00.000-00.300_Tue-May-26-18:12:57-2015_qsofg.fits'\n",
    "#\n",
    "qso_bg = xxf.bintab_to_table(os.getenv('DROPBOX_DIR')+'/QSOPairs/QPQ-CGM-IR/'+bgfil)\n",
    "#\n",
    "qso_fg = xxf.bintab_to_table(os.getenv('DROPBOX_DIR')+'/QSOPairs/QPQ-CGM-IR/'+fgfil)\n",
    "#qso_fg[['NAME','LYA_FILE', 'Z_IR']]\n",
    "'''"
   ]
  },
  {
   "cell_type": "code",
   "execution_count": 4,
   "metadata": {
    "collapsed": false
   },
   "outputs": [
    {
     "data": {
      "text/plain": [
       "\"\\n# Collate Tables, calculate R_perp\\nqpq9 = copy.deepcopy(qso_bg)\\n# Add/replce key columns from qso_fg\\noldc = ['Z_IR','SIGMA_ZIR', 'RA', 'DEC']\\nnewc = ['FG_ZIR', 'FG_SIG_ZIR', 'FG_RA', 'FG_DEC']\\nfor jj,ioldc in enumerate(oldc):\\n    tmpc = Column( qso_fg[ioldc], name=newc[jj])\\n    #print newc[jj]\\n    qpq9.add_column( tmpc )\\n# \\nqpq9['G_UV'] = qso_fg['G_UV']\\nqpq9.add_column( Column( qso_bg['Z_TOT'], name='BG_Z') )\\nlen(qpq9)\\n\""
      ]
     },
     "execution_count": 4,
     "metadata": {},
     "output_type": "execute_result"
    }
   ],
   "source": [
    "'''\n",
    "# Collate Tables, calculate R_perp\n",
    "qpq9 = copy.deepcopy(qso_bg)\n",
    "# Add/replce key columns from qso_fg\n",
    "oldc = ['Z_IR','SIGMA_ZIR', 'RA', 'DEC']\n",
    "newc = ['FG_ZIR', 'FG_SIG_ZIR', 'FG_RA', 'FG_DEC']\n",
    "for jj,ioldc in enumerate(oldc):\n",
    "    tmpc = Column( qso_fg[ioldc], name=newc[jj])\n",
    "    #print newc[jj]\n",
    "    qpq9.add_column( tmpc )\n",
    "# \n",
    "qpq9['G_UV'] = qso_fg['G_UV']\n",
    "qpq9.add_column( Column( qso_bg['Z_TOT'], name='BG_Z') )\n",
    "len(qpq9)\n",
    "'''"
   ]
  },
  {
   "cell_type": "markdown",
   "metadata": {},
   "source": [
    "### Rphys"
   ]
  },
  {
   "cell_type": "code",
   "execution_count": 5,
   "metadata": {
    "collapsed": false
   },
   "outputs": [
    {
     "data": {
      "text/plain": [
       "\"\\n# Coordinates\\nc_fg = SkyCoord(ra=qpq9['FG_RA']*u.deg, dec=qpq9['FG_DEC']*u.deg)\\nc_bg = SkyCoord(ra=qpq9['RA']*u.deg, dec=qpq9['DEC']*u.deg)\\n# Separation\\nkpc_amin = cosmo.kpc_proper_per_arcmin( qpq9['FG_ZIR'] ) # kpc per arcmin\\nang_sep = c_fg.separation(c_bg).to('arcmin')\\nRphys = kpc_amin * ang_sep\\n# Add\\nif 'R_PHYS' not in qpq9.dtype.names:\\n    qpq9.add_column(Column( Rphys, name='R_PHYS'))\\nlen(qpq9)\\n\""
      ]
     },
     "execution_count": 5,
     "metadata": {},
     "output_type": "execute_result"
    }
   ],
   "source": [
    "'''\n",
    "# Coordinates\n",
    "c_fg = SkyCoord(ra=qpq9['FG_RA']*u.deg, dec=qpq9['FG_DEC']*u.deg)\n",
    "c_bg = SkyCoord(ra=qpq9['RA']*u.deg, dec=qpq9['DEC']*u.deg)\n",
    "# Separation\n",
    "kpc_amin = cosmo.kpc_proper_per_arcmin( qpq9['FG_ZIR'] ) # kpc per arcmin\n",
    "ang_sep = c_fg.separation(c_bg).to('arcmin')\n",
    "Rphys = kpc_amin * ang_sep\n",
    "# Add\n",
    "if 'R_PHYS' not in qpq9.dtype.names:\n",
    "    qpq9.add_column(Column( Rphys, name='R_PHYS'))\n",
    "len(qpq9)\n",
    "'''"
   ]
  },
  {
   "cell_type": "markdown",
   "metadata": {},
   "source": [
    "## Cuts"
   ]
  },
  {
   "cell_type": "code",
   "execution_count": 6,
   "metadata": {
    "collapsed": false
   },
   "outputs": [
    {
     "data": {
      "text/plain": [
       "\"\\n# Lya beta\\nzLya_beta = (qpq9['BG_Z']+1)*1025.7223 / 1215.6701 - 1\\ndv_beta = ltu.v_from_z(qpq9['FG_ZIR'], zLya_beta)\\ngd_beta = dv_beta > (-500*u.km/u.s)\\n#\\nqpq9 = qpq9[gd_beta]\\nprint('We have {:d} pairs in QPQ9'.format(len(qpq9)))\\n#xdb.xpcol(zLya_beta, qpq9['FG_ZIR'], qpq9['BG_Z'])\\n\""
      ]
     },
     "execution_count": 6,
     "metadata": {},
     "output_type": "execute_result"
    }
   ],
   "source": [
    "'''\n",
    "# Lya beta\n",
    "zLya_beta = (qpq9['BG_Z']+1)*1025.7223 / 1215.6701 - 1\n",
    "dv_beta = ltu.v_from_z(qpq9['FG_ZIR'], zLya_beta)\n",
    "gd_beta = dv_beta > (-500*u.km/u.s)\n",
    "#\n",
    "qpq9 = qpq9[gd_beta]\n",
    "print('We have {:d} pairs in QPQ9'.format(len(qpq9)))\n",
    "#xdb.xpcol(zLya_beta, qpq9['FG_ZIR'], qpq9['BG_Z'])\n",
    "'''"
   ]
  },
  {
   "cell_type": "markdown",
   "metadata": {},
   "source": [
    "## Write"
   ]
  },
  {
   "cell_type": "code",
   "execution_count": 7,
   "metadata": {
    "collapsed": true
   },
   "outputs": [],
   "source": [
    "# Don't write. The current qpq9_zIR.fits made by Joe/X have more columns then what the code above gives. \n",
    "#xxf.table_to_fits(qpq9, 'qpq9_zIR.fits')"
   ]
  },
  {
   "cell_type": "markdown",
   "metadata": {},
   "source": [
    "# list of NIR redshifts "
   ]
  },
  {
   "cell_type": "code",
   "execution_count": 9,
   "metadata": {
    "collapsed": false
   },
   "outputs": [
    {
     "name": "stdout",
     "output_type": "stream",
     "text": [
      "x.fits.bintab_to_table: Reading /Users/lwymarie/Documents/papers/QPQ9/Analysis/Redshifts/zem/From_X_Joe/SDSSJ005717.36-000113.3_zem.fits\n",
      "x.fits.bintab_to_table: Reading /Users/lwymarie/Documents/papers/QPQ9/Analysis/Redshifts/zem/From_X_Joe/SDSSJ022517.68+004821.9_zem.fits\n",
      "x.fits.bintab_to_table: Reading /Users/lwymarie/Documents/papers/QPQ9/Analysis/Redshifts/zem/From_X_Joe/SDSSJ080049.89+354249.6_zem.fits\n",
      "x.fits.bintab_to_table: Reading /Users/lwymarie/Documents/papers/QPQ9/Analysis/Redshifts/zem/From_X_Joe/SDSSJ083757.91+383727.1_zem.fits\n",
      "x.fits.bintab_to_table: Reading /Users/lwymarie/Documents/papers/QPQ9/Analysis/Redshifts/zem/From_X_Joe/SDSSJ084158.47+392121.0_zem.fits\n",
      "x.fits.bintab_to_table: Reading /Users/lwymarie/Documents/papers/QPQ9/Analysis/Redshifts/zem/From_X_Joe/SDSSJ085358.36-001108.0_zem.fits\n",
      "x.fits.bintab_to_table: Reading /Users/lwymarie/Documents/papers/QPQ9/Analysis/Redshifts/zem/From_X_Joe/SDSSJ091046.40+041458.5_zem.fits\n",
      "x.fits.bintab_to_table: Reading /Users/lwymarie/Documents/papers/QPQ9/Analysis/Redshifts/zem/From_X_Joe/SDSSJ091338.30-010708.7_F_zem.fits\n",
      "x.fits.bintab_to_table: Reading /Users/lwymarie/Documents/papers/QPQ9/Analysis/Redshifts/zem/From_X_Joe/SDSSJ091432.02+010912.4_F_zem.fits\n",
      "x.fits.bintab_to_table: Reading /Users/lwymarie/Documents/papers/QPQ9/Analysis/Redshifts/zem/From_X_Joe/SDSSJ093226.34+092526.1_F_zem.fits\n",
      "x.fits.bintab_to_table: Reading /Users/lwymarie/Documents/papers/QPQ9/Analysis/Redshifts/zem/From_X_Joe/SDSSJ093804.22+531743.9_zem.fits\n",
      "x.fits.bintab_to_table: Reading /Users/lwymarie/Documents/papers/QPQ9/Analysis/Redshifts/zem/From_X_Joe/SDSSJ100246.85+002103.9_zem.fits\n",
      "x.fits.bintab_to_table: Reading /Users/lwymarie/Documents/papers/QPQ9/Analysis/Redshifts/zem/From_X_Joe/SDSSJ100627.47+480420.0_zem.fits\n",
      "x.fits.bintab_to_table: Reading /Users/lwymarie/Documents/papers/QPQ9/Analysis/Redshifts/zem/From_X_Joe/SDSSJ101001.50+403755.5_zem.fits\n",
      "x.fits.bintab_to_table: Reading /Users/lwymarie/Documents/papers/QPQ9/Analysis/Redshifts/zem/From_X_Joe/SDSSJ102618.80+461445.2_zem.fits\n",
      "x.fits.bintab_to_table: Reading /Users/lwymarie/Documents/papers/QPQ9/Analysis/Redshifts/zem/From_X_Joe/SDSSJ103857.37+502708.0_zem.fits\n",
      "x.fits.bintab_to_table: Reading /Users/lwymarie/Documents/papers/QPQ9/Analysis/Redshifts/zem/From_X_Joe/SDSSJ114146.19+072411.0_F_zem.fits\n",
      "x.fits.bintab_to_table: Reading /Users/lwymarie/Documents/papers/QPQ9/Analysis/Redshifts/zem/From_X_Joe/SDSSJ114435.53+095921.6_zem.fits\n",
      "x.fits.bintab_to_table: Reading /Users/lwymarie/Documents/papers/QPQ9/Analysis/Redshifts/zem/From_X_Joe/SDSSJ120417.47+022104.7_zem.fits\n",
      "x.fits.bintab_to_table: Reading /Users/lwymarie/Documents/papers/QPQ9/Analysis/Redshifts/zem/From_X_Joe/SDSSJ124948.18+060714.0_zem.fits\n",
      "x.fits.bintab_to_table: Reading /Users/lwymarie/Documents/papers/QPQ9/Analysis/Redshifts/zem/From_X_Joe/SDSSJ130124.73+475909.6_zem.fits\n",
      "x.fits.bintab_to_table: Reading /Users/lwymarie/Documents/papers/QPQ9/Analysis/Redshifts/zem/From_X_Joe/SDSSJ130605.19+615823.7_zem.fits\n",
      "x.fits.bintab_to_table: Reading /Users/lwymarie/Documents/papers/QPQ9/Analysis/Redshifts/zem/From_X_Joe/SDSSJ140208.10+470111.1_zem.fits\n",
      "x.fits.bintab_to_table: Reading /Users/lwymarie/Documents/papers/QPQ9/Analysis/Redshifts/zem/From_X_Joe/SDSSJ142003.67+022726.7_zem.fits\n",
      "x.fits.bintab_to_table: Reading /Users/lwymarie/Documents/papers/QPQ9/Analysis/Redshifts/zem/From_X_Joe/SDSSJ142054.418+160333.340_F_zem.fits\n",
      "x.fits.bintab_to_table: Reading /Users/lwymarie/Documents/papers/QPQ9/Analysis/Redshifts/zem/From_X_Joe/SDSSJ142758.88-012130.3_zem.fits\n",
      "x.fits.bintab_to_table: Reading /Users/lwymarie/Documents/papers/QPQ9/Analysis/Redshifts/zem/From_X_Joe/SDSSJ155325.61+192140.9_F_zem.fits\n",
      "x.fits.bintab_to_table: Reading /Users/lwymarie/Documents/papers/QPQ9/Analysis/Redshifts/zem/From_X_Joe/SDSSJ162736.40+221538.1_zem.fits\n",
      "x.fits.bintab_to_table: Reading /Users/lwymarie/Documents/papers/QPQ9/Analysis/Redshifts/zem/From_X_Joe/SDSSJ162738.63+460538.4_zem.fits\n",
      "x.fits.bintab_to_table: Reading /Users/lwymarie/Documents/papers/QPQ9/Analysis/Redshifts/zem/From_X_Joe/SDSSJ214620.68-075250.6_zem.fits\n",
      "x.fits.bintab_to_table: Reading /Users/lwymarie/Documents/papers/QPQ9/Analysis/Redshifts/zem/From_X_Joe/SDSSJ220248.61+123645.5_zem.fits\n",
      "x.fits.bintab_to_table: Reading /Users/lwymarie/Documents/papers/QPQ9/Analysis/Redshifts/zem/SDSSJ004238.23+135054.8_zem.fits\n",
      "x.fits.bintab_to_table: Reading /Users/lwymarie/Documents/papers/QPQ9/Analysis/Redshifts/zem/SDSSJ004757.26+144742.0_zem.fits\n",
      "x.fits.bintab_to_table: Reading /Users/lwymarie/Documents/papers/QPQ9/Analysis/Redshifts/zem/SDSSJ010323.84-000254.3_zem.fits\n",
      "x.fits.bintab_to_table: Reading /Users/lwymarie/Documents/papers/QPQ9/Analysis/Redshifts/zem/SDSSJ011150.07+140141.4_zem.fits\n",
      "x.fits.bintab_to_table: Reading /Users/lwymarie/Documents/papers/QPQ9/Analysis/Redshifts/zem/SDSSJ020143.49+003222.7_F_zem.fits\n",
      "x.fits.bintab_to_table: Reading /Users/lwymarie/Documents/papers/QPQ9/Analysis/Redshifts/zem/SDSSJ021416.96-005229.1_zem.fits\n",
      "x.fits.bintab_to_table: Reading /Users/lwymarie/Documents/papers/QPQ9/Analysis/Redshifts/zem/SDSSJ022447.90-004700.4_zem.fits\n",
      "x.fits.bintab_to_table: Reading /Users/lwymarie/Documents/papers/QPQ9/Analysis/Redshifts/zem/SDSSJ023946.43-010640.5_F_zem.fits\n",
      "x.fits.bintab_to_table: Reading /Users/lwymarie/Documents/papers/QPQ9/Analysis/Redshifts/zem/SDSSJ025038.68-004739.1_zem.fits\n",
      "x.fits.bintab_to_table: Reading /Users/lwymarie/Documents/papers/QPQ9/Analysis/Redshifts/zem/SDSSJ080945.17+453918.2_zem.fits\n",
      "x.fits.bintab_to_table: Reading /Users/lwymarie/Documents/papers/QPQ9/Analysis/Redshifts/zem/SDSSJ081223.17+262000.9_zem.fits\n",
      "x.fits.bintab_to_table: Reading /Users/lwymarie/Documents/papers/QPQ9/Analysis/Redshifts/zem/SDSSJ081419.58+325018.7_zem.fits\n",
      "x.fits.bintab_to_table: Reading /Users/lwymarie/Documents/papers/QPQ9/Analysis/Redshifts/zem/SDSSJ081832.87+123219.9_zem.fits\n",
      "x.fits.bintab_to_table: Reading /Users/lwymarie/Documents/papers/QPQ9/Analysis/Redshifts/zem/SDSSJ082642.86+470829.5_zem.fits\n",
      "x.fits.bintab_to_table: Reading /Users/lwymarie/Documents/papers/QPQ9/Analysis/Redshifts/zem/SDSSJ083030.38+545228.8_zem.fits\n",
      "x.fits.bintab_to_table: Reading /Users/lwymarie/Documents/papers/QPQ9/Analysis/Redshifts/zem/SDSSJ083854.53+462124.3_zem.fits\n",
      "x.fits.bintab_to_table: Reading /Users/lwymarie/Documents/papers/QPQ9/Analysis/Redshifts/zem/SDSSJ085629.48+551450.3_zem.fits\n",
      "x.fits.bintab_to_table: Reading /Users/lwymarie/Documents/papers/QPQ9/Analysis/Redshifts/zem/SDSSJ085737.58+390120.5_zem.fits\n",
      "x.fits.bintab_to_table: Reading /Users/lwymarie/Documents/papers/QPQ9/Analysis/Redshifts/zem/SDSSJ090417.94+004148.2_zem.fits\n",
      "x.fits.bintab_to_table: Reading /Users/lwymarie/Documents/papers/QPQ9/Analysis/Redshifts/zem/SDSSJ090657.80+100121.4_zem.fits\n",
      "x.fits.bintab_to_table: Reading /Users/lwymarie/Documents/papers/QPQ9/Analysis/Redshifts/zem/SDSSJ091217.57+413933.6_zem.fits\n",
      "x.fits.bintab_to_table: Reading /Users/lwymarie/Documents/papers/QPQ9/Analysis/Redshifts/zem/SDSSJ091234.27+305616.2_zem.fits\n",
      "x.fits.bintab_to_table: Reading /Users/lwymarie/Documents/papers/QPQ9/Analysis/Redshifts/zem/SDSSJ091338.30-010708.7_F_zem.fits\n",
      "x.fits.bintab_to_table: Reading /Users/lwymarie/Documents/papers/QPQ9/Analysis/Redshifts/zem/SDSSJ091551.72+011900.2_zem.fits\n",
      "x.fits.bintab_to_table: Reading /Users/lwymarie/Documents/papers/QPQ9/Analysis/Redshifts/zem/SDSSJ093317.43+592027.5_zem.fits\n",
      "x.fits.bintab_to_table: Reading /Users/lwymarie/Documents/papers/QPQ9/Analysis/Redshifts/zem/SDSSJ093530.89+453226.9_zem.fits\n",
      "x.fits.bintab_to_table: Reading /Users/lwymarie/Documents/papers/QPQ9/Analysis/Redshifts/zem/SDSSJ094133.65+230840.1_zem.fits\n",
      "x.fits.bintab_to_table: Reading /Users/lwymarie/Documents/papers/QPQ9/Analysis/Redshifts/zem/SDSSJ100046.45+033708.8_zem.fits\n",
      "x.fits.bintab_to_table: Reading /Users/lwymarie/Documents/papers/QPQ9/Analysis/Redshifts/zem/SDSSJ100714.29+321057.4_zem.fits\n",
      "x.fits.bintab_to_table: Reading /Users/lwymarie/Documents/papers/QPQ9/Analysis/Redshifts/zem/SDSSJ100913.91+023612.3_zem.fits\n",
      "x.fits.bintab_to_table: Reading /Users/lwymarie/Documents/papers/QPQ9/Analysis/Redshifts/zem/SDSSJ101323.90+033017.0_zem.fits\n",
      "x.fits.bintab_to_table: Reading /Users/lwymarie/Documents/papers/QPQ9/Analysis/Redshifts/zem/SDSSJ101753.38+622653.4_zem.fits\n",
      "x.fits.bintab_to_table: Reading /Users/lwymarie/Documents/papers/QPQ9/Analysis/Redshifts/zem/SDSSJ102007.30+611956.0_zem.fits\n",
      "x.fits.bintab_to_table: Reading /Users/lwymarie/Documents/papers/QPQ9/Analysis/Redshifts/zem/SDSSJ102443.99+261615.1_zem.fits\n",
      "x.fits.bintab_to_table: Reading /Users/lwymarie/Documents/papers/QPQ9/Analysis/Redshifts/zem/SDSSJ103443.62+085702.0_zem.fits\n",
      "x.fits.bintab_to_table: Reading /Users/lwymarie/Documents/papers/QPQ9/Analysis/Redshifts/zem/SDSSJ103628.21+501158.0_zem.fits\n",
      "x.fits.bintab_to_table: Reading /Users/lwymarie/Documents/papers/QPQ9/Analysis/Redshifts/zem/SDSSJ104244.84+650002.7_zem.fits\n",
      "x.fits.bintab_to_table: Reading /Users/lwymarie/Documents/papers/QPQ9/Analysis/Redshifts/zem/SDSSJ104435.63+313950.7_zem.fits\n",
      "x.fits.bintab_to_table: Reading /Users/lwymarie/Documents/papers/QPQ9/Analysis/Redshifts/zem/SDSSJ105221.77+555253.5_zem.fits\n",
      "x.fits.bintab_to_table: Reading /Users/lwymarie/Documents/papers/QPQ9/Analysis/Redshifts/zem/SDSSJ110617.17+463524.6_zem.fits\n",
      "x.fits.bintab_to_table: Reading /Users/lwymarie/Documents/papers/QPQ9/Analysis/Redshifts/zem/SDSSJ111242.69+661152.8_zem.fits\n",
      "x.fits.bintab_to_table: Reading /Users/lwymarie/Documents/papers/QPQ9/Analysis/Redshifts/zem/SDSSJ111339.86+330604.8_zem.fits\n",
      "x.fits.bintab_to_table: Reading /Users/lwymarie/Documents/papers/QPQ9/Analysis/Redshifts/zem/SDSSJ111850.44+402553.8_zem.fits\n",
      "x.fits.bintab_to_table: Reading /Users/lwymarie/Documents/papers/QPQ9/Analysis/Redshifts/zem/SDSSJ113852.64+632934.1_zem.fits\n",
      "x.fits.bintab_to_table: Reading /Users/lwymarie/Documents/papers/QPQ9/Analysis/Redshifts/zem/SDSSJ115253.09+150706.5_zem.fits\n",
      "x.fits.bintab_to_table: Reading /Users/lwymarie/Documents/papers/QPQ9/Analysis/Redshifts/zem/SDSSJ115533.62+393359.2_zem.fits\n",
      "x.fits.bintab_to_table: Reading /Users/lwymarie/Documents/papers/QPQ9/Analysis/Redshifts/zem/SDSSJ120224.68+074800.3_zem.fits\n",
      "x.fits.bintab_to_table: Reading /Users/lwymarie/Documents/papers/QPQ9/Analysis/Redshifts/zem/SDSSJ121159.80+324010.0_zem.fits\n",
      "x.fits.bintab_to_table: Reading /Users/lwymarie/Documents/papers/QPQ9/Analysis/Redshifts/zem/SDSSJ121344.28+471958.7_zem.fits\n",
      "x.fits.bintab_to_table: Reading /Users/lwymarie/Documents/papers/QPQ9/Analysis/Redshifts/zem/SDSSJ121559.00+571616.7_zem.fits\n",
      "x.fits.bintab_to_table: Reading /Users/lwymarie/Documents/papers/QPQ9/Analysis/Redshifts/zem/SDSSJ122514.28+570942.3_zem.fits\n",
      "x.fits.bintab_to_table: Reading /Users/lwymarie/Documents/papers/QPQ9/Analysis/Redshifts/zem/SDSSJ123143.09+002846.2_F_zem.fits\n",
      "x.fits.bintab_to_table: Reading /Users/lwymarie/Documents/papers/QPQ9/Analysis/Redshifts/zem/SDSSJ124002.23+395555.5_zem.fits\n",
      "x.fits.bintab_to_table: Reading /Users/lwymarie/Documents/papers/QPQ9/Analysis/Redshifts/zem/SDSSJ124420.84+391608.0_zem.fits\n",
      "x.fits.bintab_to_table: Reading /Users/lwymarie/Documents/papers/QPQ9/Analysis/Redshifts/zem/SDSSJ124632.30+234531.2_zem.fits\n",
      "x.fits.bintab_to_table: Reading /Users/lwymarie/Documents/papers/QPQ9/Analysis/Redshifts/zem/SDSSJ124846.05+405758.2_zem.fits\n",
      "x.fits.bintab_to_table: Reading /Users/lwymarie/Documents/papers/QPQ9/Analysis/Redshifts/zem/SDSSJ132514.97+540930.6_zem.fits\n",
      "x.fits.bintab_to_table: Reading /Users/lwymarie/Documents/papers/QPQ9/Analysis/Redshifts/zem/SDSSJ134650.08+195235.2_zem.fits\n",
      "x.fits.bintab_to_table: Reading /Users/lwymarie/Documents/papers/QPQ9/Analysis/Redshifts/zem/SDSSJ135632.43+613300.5_zem.fits\n",
      "x.fits.bintab_to_table: Reading /Users/lwymarie/Documents/papers/QPQ9/Analysis/Redshifts/zem/SDSSJ142215.57+465230.7_zem.fits\n",
      "x.fits.bintab_to_table: Reading /Users/lwymarie/Documents/papers/QPQ9/Analysis/Redshifts/zem/SDSSJ143312.56+082651.8_zem.fits\n",
      "x.fits.bintab_to_table: Reading /Users/lwymarie/Documents/papers/QPQ9/Analysis/Redshifts/zem/SDSSJ143345.50+064110.0_F_zem.fits\n",
      "x.fits.bintab_to_table: Reading /Users/lwymarie/Documents/papers/QPQ9/Analysis/Redshifts/zem/SDSSJ153456.02+215342.3_zem.fits\n",
      "x.fits.bintab_to_table: Reading /Users/lwymarie/Documents/papers/QPQ9/Analysis/Redshifts/zem/SDSSJ153954.74+314629.3_zem.fits\n",
      "x.fits.bintab_to_table: Reading /Users/lwymarie/Documents/papers/QPQ9/Analysis/Redshifts/zem/SDSSJ154421.40+502645.9_zem.fits\n",
      "x.fits.bintab_to_table: Reading /Users/lwymarie/Documents/papers/QPQ9/Analysis/Redshifts/zem/SDSSJ155422.88+124438.0_zem.fits\n",
      "x.fits.bintab_to_table: Reading /Users/lwymarie/Documents/papers/QPQ9/Analysis/Redshifts/zem/SDSSJ160547.60+511330.2_zem.fits\n",
      "x.fits.bintab_to_table: Reading /Users/lwymarie/Documents/papers/QPQ9/Analysis/Redshifts/zem/SDSSJ161930.94+192620.9_zem.fits\n",
      "x.fits.bintab_to_table: Reading /Users/lwymarie/Documents/papers/QPQ9/Analysis/Redshifts/zem/SDSSJ163121.75+433317.3_zem.fits\n",
      "x.fits.bintab_to_table: Reading /Users/lwymarie/Documents/papers/QPQ9/Analysis/Redshifts/zem/SDSSJ225535.67-000156.8_zem.fits\n",
      "x.fits.bintab_to_table: Reading /Users/lwymarie/Documents/papers/QPQ9/Analysis/Redshifts/zem/SDSSJ225550.40-000917.7_zem.fits\n",
      "x.fits.bintab_to_table: Reading /Users/lwymarie/Documents/papers/QPQ9/Analysis/Redshifts/zem/SDSSJ233845.19-000327.2_F_zem.fits\n"
     ]
    }
   ],
   "source": [
    "# Load masterlists\n",
    "path = enigma.__path__[0]+'/data/redshifts/'\n",
    "c_NIR = []\n",
    "gnirs = Table.read(path+'gnirs_masterlist.dat',guess=False,format='ascii.csv',comment='#')\n",
    "for qq in gnirs:\n",
    "    c_NIR.append(ltu.radec_to_coord(qq['ra_qso']+' '+qq['dec_qso']))\n",
    "niri = Table.read(path+'niri_masterlist.dat',guess=False,format='ascii.csv',comment='#')\n",
    "for qq in niri:\n",
    "    c_NIR.append(ltu.radec_to_coord(qq['ra_qso']+' '+qq['dec_qso']))\n",
    "nirspec = Table.read(path+'nirspec_masterlist.dat',guess=False,format='ascii.csv',comment='#')\n",
    "for qq in nirspec:\n",
    "    c_NIR.append(ltu.radec_to_coord(qq['ra_qso']+' '+qq['dec_qso']))\n",
    "xshooter = Table.read(path+'xshooter_masterlist.dat',guess=False,format='ascii.csv',comment='#')\n",
    "for qq in xshooter:\n",
    "    c_NIR.append(ltu.radec_to_coord(qq['ra_qso']+' '+qq['dec_qso']))\n",
    "tspec = Table.read(path+'triplespec_masterlist.dat',guess=False,format='ascii.csv',comment='#')\n",
    "for qq in tspec:\n",
    "    c_NIR.append(ltu.radec_to_coord(qq['ra_qso']+' '+qq['dec_qso']))\n",
    "isaac = Table.read(path+'isaac_masterlist.dat',guess=False,format='ascii.csv',comment='#')\n",
    "for qq in isaac:\n",
    "    c_NIR.append(ltu.radec_to_coord(qq['ra_qso']+' '+qq['dec_qso']))\n",
    "lucifer = Table.read(path+'lucifer_masterlist.dat',guess=False,format='ascii.csv',comment='#')\n",
    "for qq in lucifer:\n",
    "    c_NIR.append(ltu.radec_to_coord(qq['ra_qso']+' '+qq['dec_qso']))    \n",
    "liam = Table.read(path+'masterlist_liam.fits')\n",
    "for qq in liam:\n",
    "    c_NIR.append(SkyCoord(qq['RAJ2000'],qq['DEJ2000']))\n",
    "c_NIR = SkyCoord(c_NIR)\n",
    "\n",
    "# Load zem structures\n",
    "zsys_line = ['H$\\\\alpha$','H$\\\\beta$','MgII','[OIII]']\n",
    "zem_list = []\n",
    "zem_coord = []\n",
    "zem_fil = glob.glob(os.getenv('QPQ9')+'Analysis/Redshifts/zem/From_X_Joe/*')\n",
    "for ff in zem_fil:\n",
    "    zem = xxf.bintab_to_table(ff)\n",
    "    zem_list.append(zem)\n",
    "    ipos = zem['SPEC_FIL'][0].rfind('/SDSSJ')+6\n",
    "    radec = zem['SPEC_FIL'][0][ipos:]\n",
    "    ipos2 = radec.rfind('+')\n",
    "    if ipos2 == -1:\n",
    "        ipos2 = radec.rfind('-')\n",
    "    ipos3 = radec.rfind('_F.fits')\n",
    "    if ipos3 == -1:\n",
    "        ipos3 = radec.rfind('.fits')\n",
    "    RA = radec[0:2]+'h'+radec[2:4]+'m'+radec[4:ipos2]+'s'\n",
    "    dec = radec[ipos2:ipos2+3]+'d'+radec[ipos2+3:ipos2+5]+'m'+radec[ipos2+5:ipos3]+'s'\n",
    "    zem_coord.append(SkyCoord(RA,dec))\n",
    "zem_fil = glob.glob(os.getenv('QPQ9')+'Analysis/Redshifts/zem/*_zem.fits')\n",
    "for ff in zem_fil:\n",
    "    zem = xxf.bintab_to_table(ff)\n",
    "    zem_list.append(zem)\n",
    "    ipos = zem['SPEC_FIL'][0].rfind('/SDSSJ')+6\n",
    "    radec = zem['SPEC_FIL'][0][ipos:]\n",
    "    RA = radec[0:2]+'h'+radec[2:4]+'m'+radec[4:9]+'s'\n",
    "    dec = radec[9:12]+'d'+radec[12:14]+'m'+radec[14:18]+'s'\n",
    "    zem_coord.append(SkyCoord(RA,dec))\n",
    "zem_coord = SkyCoord(zem_coord)"
   ]
  },
  {
   "cell_type": "markdown",
   "metadata": {},
   "source": [
    "# Make a new sample merging QPQ9_zIR and QPQ7"
   ]
  },
  {
   "cell_type": "code",
   "execution_count": 10,
   "metadata": {
    "collapsed": false
   },
   "outputs": [
    {
     "name": "stdout",
     "output_type": "stream",
     "text": [
      "x.fits.bintab_to_table: Reading qpq9_zIR.fits\n",
      "x.fits.bintab_to_table: Reading /Users/lwymarie/python/enigma/enigma/data/qpq/qpq7_pairs.fits.gz\n"
     ]
    }
   ],
   "source": [
    "zIR_fil = 'qpq9_zIR.fits'\n",
    "QPQ7_fil = imp.find_module('enigma')[1] + '/data/qpq/qpq7_pairs.fits.gz'\n",
    "QPQ_zIR = xxf.bintab_to_table(zIR_fil)\n",
    "QPQ7 = xxf.bintab_to_table(QPQ7_fil)"
   ]
  },
  {
   "cell_type": "code",
   "execution_count": 11,
   "metadata": {
    "collapsed": false
   },
   "outputs": [
    {
     "data": {
      "text/plain": [
       "31"
      ]
     },
     "execution_count": 11,
     "metadata": {},
     "output_type": "execute_result"
    }
   ],
   "source": [
    "QPQ9 = copy.deepcopy(QPQ_zIR)\n",
    "QPQ9.rename_column('FG_ZIR', 'Z_FG')\n",
    "QPQ9.rename_column('FG_SIG_ZIR','Z_FSIG')\n",
    "for ii,qq in enumerate(QPQ9):\n",
    "    try:\n",
    "        assert 'J0225+0048' in qq['NAME'] # redshift is marked to be OII by mistake\n",
    "        QPQ9.remove_row(ii)\n",
    "    except AssertionError:\n",
    "        pass\n",
    "    try:\n",
    "        assert 'J0913-0107' in qq['NAME'] # Hb redshift is not good, use MgII\n",
    "        for zz,zem in enumerate(zem_list):\n",
    "            if SkyCoord(qq['FG_RA']*u.deg,qq['FG_DEC']*u.deg).separation(zem_coord[zz]) < 5*u.arcsec:\n",
    "                qq['Z_FG'] = zem['ZSYS_ZSYS'][0]\n",
    "                qq['Z_FSIG'] = np.rint(zem['ZSYS_ERR'][0])\n",
    "                qq['ZFG_LINE'] = zsys_line[np.min([zem['ZSYS_FLAG'][0],3])]   \n",
    "    except AssertionError:\n",
    "        pass\n",
    "    try:\n",
    "        assert 'J1433+0641' in qq['NAME'] # redshift is Null in the zIR structure \n",
    "        for zz,zem in enumerate(zem_list):\n",
    "            if SkyCoord(qq['FG_RA']*u.deg,qq['FG_DEC']*u.deg).separation(zem_coord[zz]) < 5*u.arcsec:\n",
    "                qq['Z_FG'] = zem['ZSYS_ZSYS'][0]\n",
    "                qq['Z_FSIG'] = np.rint(zem['ZSYS_ERR'][0])\n",
    "                qq['ZFG_LINE'] = zsys_line[np.min([zem['ZSYS_FLAG'][0],3])]\n",
    "    except AssertionError:\n",
    "        pass\n",
    "len(QPQ9)"
   ]
  },
  {
   "cell_type": "code",
   "execution_count": 12,
   "metadata": {
    "collapsed": false
   },
   "outputs": [
    {
     "name": "stdout",
     "output_type": "stream",
     "text": [
      "12h31m43.0985s +00d28m46.2929s\n"
     ]
    }
   ],
   "source": [
    "# Add QPQ7 pairs with NIR redshifts already measured \n",
    "c_QPQzIR = SkyCoord(ra=QPQ_zIR['FG_RA']*u.deg, dec=QPQ_zIR['FG_DEC']*u.deg)\n",
    "c_QPQ7 = SkyCoord(ra=QPQ7['RAD']*u.deg, dec=QPQ7['DECD']*u.deg)\n",
    "c_QPQ7_bg = SkyCoord(ra=QPQ7['RAD_BG']*u.deg,dec=QPQ7['DECD_BG']*u.deg)\n",
    "kpc_amin = cosmo.kpc_proper_per_arcmin(QPQ7['Z_FG'])\n",
    "ang_sep = c_QPQ7.separation(c_QPQ7_bg).to('arcmin')\n",
    "                                          \n",
    "for qq,cc in enumerate(c_QPQ7):\n",
    "    # do not copy the entry with wrong spectral file \n",
    "    wrong_c = SkyCoord(ra=8.59753707028004*u.deg,dec=-10.832307685613417*u.deg)\n",
    "    if c_QPQ7_bg[qq].separation(wrong_c).to('arcsec') < 0.5*u.arcsec:\n",
    "        continue\n",
    "    if len(np.where(cc.separation(c_QPQzIR).to('arcsec') < 0.5*u.arcsec)[0]) == 0:\n",
    "        if kpc_amin[qq]*ang_sep[qq] < 300*u.kpc:\n",
    "            if len(np.where(cc.separation(c_NIR) < 5*u.arcsec)[0]) > 0:\n",
    "                print(cc.to_string('hmsdms'))\n",
    "                for zz,zem in enumerate(zem_list):\n",
    "                    if cc.separation(zem_coord[zz]) < 5*u.arcsec:\n",
    "                        QPQ9.add_row({'FG_RA':QPQ7[qq]['RAD'],'FG_DEC':QPQ7[qq]['DECD'],'NAME':QPQ7[qq]['QSO_BG'],\n",
    "                                      'RA':QPQ7[qq]['RAD_BG'],'DEC':QPQ7[qq]['DECD_BG'],\n",
    "                                      'Z_FG':zem['ZSYS_ZSYS'][0],'Z_FSIG':np.rint(zem['ZSYS_ERR'][0]),\n",
    "                                      'BG_Z':QPQ7[qq]['Z_BG'],'R_PHYS':QPQ7[qq]['R_PHYS'],\n",
    "                                      'ZFG_LINE':zsys_line[np.min([zem['ZSYS_FLAG'][0],3])],\n",
    "                                      'G_UV':QPQ7[qq]['G_UV']})\n",
    "                        \n",
    "QPQ9.sort(['FG_RA','FG_DEC'])"
   ]
  },
  {
   "cell_type": "code",
   "execution_count": 13,
   "metadata": {
    "collapsed": true
   },
   "outputs": [],
   "source": [
    "# Add QPQ7 pairs with MgII redshifts\n",
    "c_QPQ9 = SkyCoord(ra=QPQ9['FG_RA']*u.deg, dec=QPQ9['FG_DEC']*u.deg)\n",
    "for qq,cc in enumerate(c_QPQ7):\n",
    "    # do not copy the entry with wrong spectral file \n",
    "    wrong_c = SkyCoord(ra=8.59753707028004*u.deg,dec=-10.832307685613417*u.deg)\n",
    "    if c_QPQ7_bg[qq].separation(wrong_c).to('arcsec') < 0.5*u.arcsec:\n",
    "        continue\n",
    "    if len(np.where(cc.separation(c_QPQ9).to('arcsec') < 0.5*u.arcsec)[0]) == 0:\n",
    "        if kpc_amin[qq]*ang_sep[qq] < 300*u.kpc:\n",
    "            if QPQ7['Z_FSIG'][qq] < 300:\n",
    "                QPQ9.add_row({'FG_RA':QPQ7['RAD'][qq],'FG_DEC':QPQ7['DECD'][qq],'NAME':QPQ7['QSO_BG'][qq],\n",
    "                              'RA':QPQ7['RAD_BG'][qq],'DEC':QPQ7['DECD_BG'][qq],'Z_FG':QPQ7['Z_FG'][qq],'Z_FSIG':272,\n",
    "                              'BG_Z':QPQ7['Z_BG'][qq],'R_PHYS':QPQ7['R_PHYS'][qq],'ZFG_LINE':'MgII',\n",
    "                              'G_UV':QPQ7['G_UV'][qq]})\n",
    "\n",
    "QPQ9.sort(['FG_RA','FG_DEC'])"
   ]
  },
  {
   "cell_type": "code",
   "execution_count": 14,
   "metadata": {
    "collapsed": true
   },
   "outputs": [],
   "source": [
    "# write\n",
    "xxf.table_to_fits(QPQ9,'qpq9_final.fits')"
   ]
  },
  {
   "cell_type": "markdown",
   "metadata": {},
   "source": [
    "# Check pairs in QPQ database and have NIR"
   ]
  },
  {
   "cell_type": "code",
   "execution_count": 15,
   "metadata": {
    "collapsed": false
   },
   "outputs": [
    {
     "name": "stdout",
     "output_type": "stream",
     "text": [
      "x.fits.bintab_to_table: Reading qpq9_final.fits\n",
      "Database is QPQ\n",
      "Created on 2017-Jan-31\n",
      "08h14m19.58s +32d50m18.7s\n",
      "02h25m17.68s +00d48m22s\n",
      "02h39m46.43s -01d06m40.4s\n",
      "11h12m42.69s +66d11m52.8s\n",
      "12h15m59s +57d16m16.6s\n"
     ]
    }
   ],
   "source": [
    "# Find and add those pairs \n",
    "QPQ9 = xxf.bintab_to_table('qpq9_final.fits')\n",
    "c_QPQ9 = SkyCoord(QPQ9['FG_RA']*u.deg,QPQ9['FG_DEC']*u.deg)\n",
    "c_QPQ9_bg = SkyCoord(ra=QPQ9['RA']*u.deg,dec=QPQ9['DEC']*u.deg)\n",
    "qpq_fil = '/Users/lwymarie/Documents/Databases/qpq_oir_spec.hdf5'\n",
    "qpqsp = SpecDB(db_file=qpq_fil,verbose=False,idkey='QPQ_ID')\n",
    "ID_fg, ID_bg = qpqsp.qcat.pairs(0.92*u.arcmin, 3000.*u.km/u.s)\n",
    "c_qpqsp = SkyCoord(qpqsp.cat['RA'][ID_fg]*u.deg,qpqsp.cat['DEC'][ID_fg]*u.deg)\n",
    "c_qpqsp_bg = SkyCoord(qpqsp.cat['RA'][ID_bg]*u.deg,qpqsp.cat['DEC'][ID_bg]*u.deg)\n",
    "kpc_amin = cosmo.kpc_proper_per_arcmin(qpqsp.cat['zem'][ID_fg])\n",
    "ang_sep = c_qpqsp.separation(c_qpqsp_bg).to('arcmin')\n",
    "for qq,cc in enumerate(c_qpqsp):\n",
    "    if kpc_amin[qq]*ang_sep[qq] < 300 *u.kpc: \n",
    "        if len(np.where(cc.separation(c_QPQ9) < 0.5*u.arcsec)[0]) == 0: # pair not in QPQ9 already\n",
    "            if len(np.where(cc.separation(c_NIR) < 5*u.arcsec)[0]) > 0:\n",
    "                print(cc.to_string('hmsdms'))\n",
    "                #J0225 has no good line measured. Skip.\n",
    "                if cc.separation(SkyCoord('02h25m17.68s +00d48m22s')) < 5*u.arcsec:\n",
    "                    continue\n",
    "                #J0239 add [OIII]. Did not pass Lyb cut. Add back. \n",
    "                #J1112 has good Hb, but currently it's MgII from QPQ7. \n",
    "                #The redshift from QPQ7 or Hb here does not pass the > 3000 km/s requirement. Skip. \n",
    "                if cc.separation(SkyCoord('11h12m42.69s +66d11m52.8s')) < 5*u.arcsec:\n",
    "                    continue\n",
    "                #J1215 add [OIII].\n",
    "                #J2338 add [OIII]. \n",
    "                name = 'BOSSJ'\n",
    "                name = name + c_qpqsp_bg[qq].to_string('hmsdms')[0:2] + c_qpqsp_bg[qq].to_string('hmsdms')[3:5]\n",
    "                ipos = c_qpqsp_bg[qq].to_string('hmsdms').rfind(' ')+1\n",
    "                name = name + c_qpqsp_bg[qq].to_string('hmsdms')[ipos:ipos+3] + c_qpqsp_bg[qq].to_string('hmsdms')[ipos+4:ipos+6]\n",
    "                index = np.where(zem_coord.separation(cc) < 5*u.arcsec)[0]\n",
    "                if len(index) == 0:\n",
    "                    print('no match found for',cc.to_string('hmsdms'),c_qpqsp_bg[qq].to_string('hmsdms'))\n",
    "                    continue\n",
    "                QPQ9.add_row({'FG_RA':qpqsp.cat[ID_fg[qq]]['RA'],'FG_DEC':qpqsp.cat[ID_fg[qq]]['DEC'],'NAME':name,\n",
    "                              'RA':qpqsp.cat[ID_bg[qq]]['RA'],'DEC':qpqsp.cat[ID_bg[qq]]['DEC'],\n",
    "                              'Z_FG':zem_list[index[0]]['ZSYS_ZSYS'][0],'Z_FSIG':np.rint(zem_list[index[0]]['ZSYS_ERR'][0]),\n",
    "                                      'BG_Z':qpqsp.cat[ID_bg[qq]]['zem'],'R_PHYS':(kpc_amin[qq]*ang_sep[qq]).value,\n",
    "                                      'ZFG_LINE':zsys_line[np.min([zem_list[index[0]]['ZSYS_FLAG'][0],3])]})\n",
    "QPQ9.sort(['FG_RA','FG_DEC'])"
   ]
  },
  {
   "cell_type": "code",
   "execution_count": 16,
   "metadata": {
    "collapsed": true
   },
   "outputs": [],
   "source": [
    "# write\n",
    "xxf.table_to_fits(QPQ9,'qpq9_final.fits')"
   ]
  },
  {
   "cell_type": "markdown",
   "metadata": {},
   "source": [
    "# Find igmspec pairs with NIR spectra"
   ]
  },
  {
   "cell_type": "code",
   "execution_count": 17,
   "metadata": {
    "collapsed": false
   },
   "outputs": [
    {
     "name": "stdout",
     "output_type": "stream",
     "text": [
      "x.fits.bintab_to_table: Reading qpq9_final.fits\n",
      "Loading igmspec from /Users/lwymarie/Documents/Databases/IGMspec_DB_v02.1.hdf5\n",
      "Database is igmspec\n",
      "Created on 2017-Sep-18\n",
      "02h25m17.6775s +00d48m21.9398s\n",
      "23h38m45.1943s -00d03m27.1218s\n",
      "02h01m43.4873s +00d32m22.713s\n",
      "01h11m50.07s +14d01m41.5s\n"
     ]
    }
   ],
   "source": [
    "# Find and add those pairs \n",
    "QPQ9 = xxf.bintab_to_table('qpq9_final.fits')\n",
    "c_QPQ9 = SkyCoord(QPQ9['FG_RA']*u.deg,QPQ9['FG_DEC']*u.deg)\n",
    "c_QPQ9_bg = SkyCoord(ra=QPQ9['RA']*u.deg,dec=QPQ9['DEC']*u.deg)\n",
    "#igmsp = IgmSpec()\n",
    "igmsp = IgmSpec(version=\"02.1\",\n",
    "                groups=['BOSS_DR12','COS-Dwarfs','COS-Halos',\n",
    "                        'ESI_DLA','GGG','HD-LLS_DR1',\n",
    "                        'HDLA100','HSTQSO','HST_z2',\n",
    "                        'KODIAQ_DR1','SDSS_DR7','XQ-100',\n",
    "                        'UVES_Dall','UVpSM4','MUSoDLA'])\n",
    "ID_fg, ID_bg = igmsp.qcat.pairs(0.92*u.arcmin, 3000.*u.km/u.s) # at z = 0.4, 0.92' = 300 kpc\n",
    "c_igmsp = SkyCoord(igmsp.cat['RA'][ID_fg]*u.deg,igmsp.cat['DEC'][ID_fg]*u.deg)\n",
    "c_igmsp_bg = SkyCoord(igmsp.cat['RA'][ID_bg]*u.deg,igmsp.cat['DEC'][ID_bg]*u.deg)\n",
    "kpc_amin = cosmo.kpc_proper_per_arcmin(igmsp.cat['zem'][ID_fg])\n",
    "ang_sep = c_igmsp.separation(c_igmsp_bg).to('arcmin')\n",
    "\n",
    "for qq,cc in enumerate(c_igmsp):\n",
    "    if kpc_amin[qq]*ang_sep[qq] < 300 *u.kpc: \n",
    "        if len(np.where(cc.separation(c_QPQ9) < 0.5*u.arcsec)[0]) == 0: # pair not in QPQ9 already\n",
    "            if len(np.where(cc.separation(c_NIR) < 5*u.arcsec)[0]) > 0:\n",
    "                print(cc.to_string('hmsdms'))         \n",
    "                # Skip J0225. No good line measured. \n",
    "                if cc.separation(SkyCoord('02h25m17.68s +00d48m22s')) < 5*u.arcsec:\n",
    "                    continue\n",
    "                # Skip J0201. Binary quasar, with wrong redshift in catalog. \n",
    "                if cc.separation(SkyCoord('02h01m43.4873s +00d32m22.713s')) < 5*u.arcsec:\n",
    "                    continue\n",
    "                name = 'SDSSJ'\n",
    "                name = name + c_igmsp_bg[qq].to_string('hmsdms')[0:2] + c_igmsp_bg[qq].to_string('hmsdms')[3:5]\n",
    "                ipos = c_igmsp_bg[qq].to_string('hmsdms').rfind(' ')+1\n",
    "                name = name + c_igmsp_bg[qq].to_string('hmsdms')[ipos:ipos+3] + c_igmsp_bg[qq].to_string('hmsdms')[ipos+4:ipos+6]\n",
    "                index = np.where(zem_coord.separation(cc) < 5*u.arcsec)[0]\n",
    "                QPQ9.add_row({'FG_RA':igmsp.cat[ID_fg[qq]]['RA'],'FG_DEC':igmsp.cat[ID_fg[qq]]['DEC'],'NAME':name,\n",
    "                              'RA':igmsp.cat[ID_bg[qq]]['RA'],'DEC':igmsp.cat[ID_bg[qq]]['DEC'],\n",
    "                              'Z_FG':zem_list[index[0]]['ZSYS_ZSYS'][0],'Z_FSIG':np.rint(zem_list[index[0]]['ZSYS_ERR'][0]),\n",
    "                                      'BG_Z':igmsp.cat[ID_bg[qq]]['zem'],'R_PHYS':(kpc_amin[qq]*ang_sep[qq]).value,\n",
    "                                      'ZFG_LINE':zsys_line[np.min([zem_list[index[0]]['ZSYS_FLAG'][0],3])]})\n",
    "QPQ9.sort(['FG_RA','FG_DEC'])"
   ]
  },
  {
   "cell_type": "code",
   "execution_count": 18,
   "metadata": {
    "collapsed": true
   },
   "outputs": [],
   "source": [
    "# write\n",
    "xxf.table_to_fits(QPQ9,'qpq9_final.fits')"
   ]
  },
  {
   "cell_type": "markdown",
   "metadata": {},
   "source": [
    "# Add igmspec pairs with HW10 redshifts "
   ]
  },
  {
   "cell_type": "code",
   "execution_count": 54,
   "metadata": {
    "collapsed": false,
    "scrolled": false
   },
   "outputs": [
    {
     "name": "stdout",
     "output_type": "stream",
     "text": [
      "x.fits.bintab_to_table: Reading qpq9_final.fits\n",
      "Staged 1 spectra totalling 9.3e-05 Gb\n",
      "Loaded spectra\n",
      "(u'00h02m54.7157s +21d39m06.0465s', 1.8773361261016361, 2.6916261150827276)\n",
      "Staged 1 spectra totalling 9.3e-05 Gb\n",
      "Loaded spectra\n",
      "(u'00h09m56.5739s +26d16m28.7461s', 1.9968066267917532, 2.4392336788494138)\n",
      "Staged 1 spectra totalling 9.3e-05 Gb\n",
      "Loaded spectra\n",
      "(u'00h10m10.1842s +32d59m51.1173s', 2.0434456426466707, 2.2232947651795292)\n",
      "Staged 1 spectra totalling 9.3e-05 Gb\n",
      "Loaded spectra\n",
      "Staged 1 spectra totalling 8e-05 Gb\n",
      "Loaded spectra\n",
      "(u'00h42m20.6566s +00d32m18.6839s', 1.9263012534510169, 3.0480374551098768)\n",
      "Staged 1 spectra totalling 9.3e-05 Gb\n",
      "Loaded spectra\n",
      "(u'00h47m45.4931s +31d01m20.2527s', 1.9700115532542901, 2.6954714993689)\n",
      "Staged 1 spectra totalling 9.3e-05 Gb\n",
      "Loaded spectra\n",
      "Staged 1 spectra totalling 9.3e-05 Gb\n",
      "Loaded spectra\n",
      "(u'01h03m38.5234s +27d38m23.7954s', 1.9453210850068485, 2.1768046232607845)\n",
      "Staged 1 spectra totalling 9.3e-05 Gb\n",
      "Loaded spectra\n",
      "(u'01h08m10.8853s +22d14m06.0755s', 2.0110312240746544, 2.2369912310098625)\n",
      "Staged 1 spectra totalling 8e-05 Gb\n",
      "Loaded spectra\n",
      "(u'01h14m31.0259s +00d26m21.4729s', 1.7418035577071382, 1.8539210557937622)\n",
      "Staged 1 spectra totalling 9.3e-05 Gb\n",
      "Loaded spectra\n",
      "(u'01h22m28.0063s +30d17m34.7976s', 1.746836606338724, 2.1092728773447678)\n",
      "Staged 1 spectra totalling 9.3e-05 Gb\n",
      "Loaded spectra\n",
      "(u'01h32m57.801s +32d54m46.8984s', 1.895284969288753, 2.4580830709658565)\n",
      "Staged 1 spectra totalling 9.3e-05 Gb\n",
      "Loaded spectra\n",
      "(u'01h40m52.1788s +24d33m27.1135s', 1.6276258322969908, 2.2015718947836733)\n",
      "Staged 1 spectra totalling 9.3e-05 Gb\n",
      "Loaded spectra\n",
      "(u'01h43m28.7665s +29d54m36.8018s', 1.7932614772652886, 2.0182949803650621)\n",
      "Staged 1 spectra totalling 9.3e-05 Gb\n",
      "Loaded spectra\n",
      "(u'02h10m01.8405s -05d17m38.2791s', 1.6257650020134164, 1.7867986525820441)\n",
      "Staged 1 spectra totalling 9.3e-05 Gb\n",
      "Loaded spectra\n",
      "(u'02h25m26.3271s -01d14m34.3976s', 1.6270190150265464, 2.724425072771659)\n",
      "Staged 1 spectra totalling 9.3e-05 Gb\n",
      "Loaded spectra\n",
      "(u'02h26m30.7915s -05d05m52.215s', 1.6601697804395745, 2.3780064149152045)\n",
      "Staged 1 spectra totalling 9.3e-05 Gb\n",
      "Loaded spectra\n",
      "(u'02h32m26.5389s -00d11m45.1292s', 1.7350430634566123, 1.9579095090271936)\n",
      "Staged 1 spectra totalling 9.3e-05 Gb\n",
      "Loaded spectra\n",
      "(u'02h33m15.4029s -00d03m03.5561s', 1.7210980995356879, 1.8394406762558746)\n",
      "Staged 1 spectra totalling 9.3e-05 Gb\n",
      "Loaded spectra\n",
      "Staged 1 spectra totalling 8e-05 Gb\n",
      "Loaded spectra\n",
      "(u'02h46m03.6827s -00d32m11.7543s', 1.6006625549461397, 2.1530899904503977)\n",
      "Staged 1 spectra totalling 9.3e-05 Gb\n",
      "Loaded spectra\n",
      "(u'07h27m39.5462s +39d28m55.3406s', 1.9861815292553875, 2.4327220215813905)\n",
      "Staged 1 spectra totalling 9.3e-05 Gb\n",
      "Loaded spectra\n",
      "(u'07h55m56.1981s +41d12m32.6778s', 2.0128775859069283, 2.6062892085095903)\n",
      "Staged 1 spectra totalling 9.3e-05 Gb\n",
      "Loaded spectra\n",
      "(u'08h05m07.8235s +52d44m15.5014s', 2.0494330984224698, 2.6967269635639841)\n",
      "Staged 1 spectra totalling 9.3e-05 Gb\n",
      "Loaded spectra\n",
      "(u'08h05m29.0955s +55d03m12.8139s', 1.9126009142843674, 2.3806704617077363)\n",
      "Staged 1 spectra totalling 9.3e-05 Gb\n",
      "Loaded spectra\n",
      "(u'08h05m37.2907s +47d23m39.3058s', 1.8847937910363102, 2.9635630126261123)\n",
      "Staged 1 spectra totalling 9.3e-05 Gb\n",
      "Loaded spectra\n",
      "(u'08h09m38.7284s +50d09m47.7073s', 1.6498495562411857, 2.2318473074741885)\n",
      "Staged 1 spectra totalling 9.3e-05 Gb\n",
      "Loaded spectra\n",
      "Staged 1 spectra totalling 8e-05 Gb\n",
      "Loaded spectra\n",
      "(u'08h22m15.7317s +25d18m53.2782s', 1.8076215059448644, 2.7395892652055172)\n",
      "Staged 1 spectra totalling 9.3e-05 Gb\n",
      "Loaded spectra\n",
      "(u'08h23m07.087s +53d47m38.3889s', 1.8272915380369776, 2.0256017695233743)\n",
      "Staged 1 spectra totalling 9.3e-05 Gb\n",
      "Loaded spectra\n",
      "(u'08h23m46.0482s +53d25m27.8191s', 1.6456309461762038, 1.8598730566429396)\n",
      "Staged 1 spectra totalling 9.3e-05 Gb\n",
      "Loaded spectra\n",
      "(u'08h24m21.0108s +53d12m49.2937s', 2.0929245108043939, 2.164737457071352)\n",
      "Staged 1 spectra totalling 9.3e-05 Gb\n",
      "Loaded spectra\n",
      "(u'08h35m26.7843s +46d20m07.4548s', 2.0209500298738585, 2.9613020369788687)\n",
      "Staged 1 spectra totalling 9.3e-05 Gb\n",
      "Loaded spectra\n",
      "(u'08h38m48.6664s +54d58m04.778s', 1.7474942221607079, 1.7822171130598892)\n",
      "Staged 1 spectra totalling 9.3e-05 Gb\n",
      "Loaded spectra\n",
      "(u'08h42m45.8878s +47d05m56.0699s', 1.8706929047194891, 2.4492042446511286)\n",
      "Staged 1 spectra totalling 9.3e-05 Gb\n",
      "Loaded spectra\n",
      "(u'08h43m38.8552s +44d26m08.6726s', 1.775847445082021, 2.0370975997375811)\n",
      "Staged 1 spectra totalling 9.3e-05 Gb\n",
      "Loaded spectra\n",
      "(u'08h45m11.8996s +46d41m35.5249s', 1.6250188256873779, 1.8981702861559888)\n",
      "Staged 1 spectra totalling 9.3e-05 Gb\n",
      "Loaded spectra\n",
      "(u'08h46m18.1828s +45d39m00.306s', 1.740353443577795, 1.9984867425853119)\n",
      "Staged 1 spectra totalling 9.3e-05 Gb\n",
      "Loaded spectra\n",
      "(u'08h47m49.1716s +53d25m04.3591s', 1.7216404515454766, 1.9233862235962536)\n",
      "Staged 1 spectra totalling 9.3e-05 Gb\n",
      "Loaded spectra\n",
      "(u'08h50m19.4257s +47d55m38.5209s', 1.816738689992994, 1.8912210521625539)\n",
      "Staged 1 spectra totalling 9.3e-05 Gb\n",
      "Loaded spectra\n",
      "(u'08h51m18.4127s +48d43m42.239s', 2.0237098940141514, 2.3766554553739709)\n",
      "Staged 1 spectra totalling 9.3e-05 Gb\n",
      "Loaded spectra\n",
      "(u'08h51m51.3843s +52d29m01.6336s', 1.970415547292498, 2.0313110296683754)\n",
      "Staged 1 spectra totalling 9.3e-05 Gb\n",
      "Loaded spectra\n",
      "(u'08h52m49.4528s +47d14m23.096s', 1.6450293141559782, 1.6881864736019192)\n",
      "Staged 1 spectra totalling 9.3e-05 Gb\n",
      "Loaded spectra\n",
      "(u'08h53m43.0737s +45d06m59.946s', 1.7453060155762563, 2.0968298111900618)\n",
      "Staged 1 spectra totalling 9.3e-05 Gb\n",
      "Loaded spectra\n",
      "(u'08h54m02.3863s +49d44m15.9758s', 1.9581146226730068, 2.3388605391872495)\n",
      "Staged 1 spectra totalling 9.3e-05 Gb\n",
      "Loaded spectra\n",
      "(u'08h55m14.6736s +48d00m55.8709s', 2.0505951501965098, 2.1699674075288469)\n",
      "Staged 1 spectra totalling 9.3e-05 Gb\n",
      "Loaded spectra\n",
      "(u'09h03m00.3222s +46d54m19.6358s', 1.7132464035305548, 1.7755912915663434)\n",
      "Staged 1 spectra totalling 9.3e-05 Gb\n",
      "Loaded spectra\n",
      "(u'09h15m48.4849s +46d40m20.7249s', 1.7455174519840519, 3.289279470067207)\n",
      "Staged 1 spectra totalling 9.3e-05 Gb\n",
      "Loaded spectra\n",
      "(u'09h21m14.8813s +46d36m12.2805s', 1.815524499665808, 2.5164908644258985)\n",
      "Staged 1 spectra totalling 9.3e-05 Gb\n",
      "Loaded spectra\n",
      "(u'09h21m22.8866s +56d31m27.8655s', 1.7354952459623045, 2.8367741188608173)\n",
      "Staged 1 spectra totalling 9.3e-05 Gb\n",
      "Loaded spectra\n",
      "(u'09h24m05.059s +47d46m11.3924s', 2.0565903728250063, 2.0981624431392425)\n",
      "Staged 1 spectra totalling 9.3e-05 Gb\n",
      "Loaded spectra\n",
      "Staged 1 spectra totalling 8e-05 Gb\n",
      "Loaded spectra\n",
      "(u'09h25m20.9561s +37d06m02.1858s', 1.8585248083098567, 2.0811739464380707)\n",
      "Staged 1 spectra totalling 9.3e-05 Gb\n",
      "Loaded spectra\n",
      "(u'09h25m43.803s +37d25m04.9434s', 2.0709340708569139, 2.3324566292179405)\n",
      "Staged 1 spectra totalling 9.3e-05 Gb\n",
      "Loaded spectra\n",
      "(u'09h29m52.7501s +48d41m39.2493s', 1.7331572174421859, 1.8844398899135744)\n",
      "Staged 1 spectra totalling 9.3e-05 Gb\n",
      "Loaded spectra\n",
      "Staged 1 spectra totalling 8e-05 Gb\n",
      "Loaded spectra\n",
      "(u'09h39m36.8288s +48d21m15.0396s', 1.8881193069379338, 2.4145920119901922)\n",
      "Staged 1 spectra totalling 9.3e-05 Gb\n",
      "Loaded spectra\n",
      "(u'09h39m52.5992s +50d52m07.4394s', 1.6121493815402428, 2.4763457207539319)\n",
      "Staged 1 spectra totalling 9.3e-05 Gb\n",
      "Loaded spectra\n",
      "(u'09h42m21.3446s +49d32m16.3045s', 1.8180510997489825, 1.9434938584421597)\n",
      "Staged 1 spectra totalling 9.3e-05 Gb\n",
      "Loaded spectra\n",
      "(u'09h46m20.4744s +49d39m40.1984s', 1.7856174081144935, 2.3995199502220665)\n",
      "Staged 1 spectra totalling 9.3e-05 Gb\n",
      "Loaded spectra\n",
      "(u'09h47m53.4427s +50d44m07.3417s', 1.8145306695044729, 3.2595987616357558)\n",
      "Staged 1 spectra totalling 9.3e-05 Gb\n",
      "Loaded spectra\n",
      "(u'09h49m06.2988s +46d59m38.4155s', 1.71684312472696, 2.1733719299701342)\n",
      "Staged 1 spectra totalling 9.3e-05 Gb\n",
      "Loaded spectra\n",
      "Staged 1 spectra totalling 8e-05 Gb\n",
      "Loaded spectra\n",
      "(u'09h51m27.0584s +49d32m48.3069s', 1.7427955791753815, 1.8298366185446953)\n",
      "Staged 1 spectra totalling 9.3e-05 Gb\n",
      "Loaded spectra\n",
      "(u'09h53m06.1241s +45d38m16.1156s', 1.8623254545294956, 2.2056959961315368)\n",
      "Staged 1 spectra totalling 9.3e-05 Gb\n",
      "Loaded spectra\n",
      "(u'09h55m52.4811s +50d10m18.7278s', 2.0265669585362289, 2.1820367054745353)\n",
      "Staged 1 spectra totalling 9.3e-05 Gb\n",
      "Loaded spectra\n",
      "(u'09h56m16.125s +47d16m49.2066s', 1.7075943915524494, 2.1880839018945677)\n",
      "Staged 1 spectra totalling 9.3e-05 Gb\n",
      "Loaded spectra\n",
      "(u'09h58m58.8844s +49d12m53.0596s', 2.0428893561875672, 2.1545688055126209)\n",
      "Staged 1 spectra totalling 9.3e-05 Gb\n",
      "Loaded spectra\n",
      "(u'09h59m39.4703s +47d03m44.4058s', 1.8334062668241924, 2.0574716110593525)\n",
      "Staged 1 spectra totalling 9.3e-05 Gb\n",
      "Loaded spectra\n",
      "(u'10h00m13.0737s +46d54m08.6107s', 1.9808250486251893, 3.1792163324955793)\n",
      "Staged 1 spectra totalling 9.3e-05 Gb\n",
      "Loaded spectra\n",
      "(u'10h01m20.1006s +55d13m07.6881s', 1.6176110877348986, 2.5399853790896851)\n",
      "Staged 1 spectra totalling 9.3e-05 Gb\n",
      "Loaded spectra\n",
      "(u'10h05m38.5918s +46d26m20.3582s', 1.6285472519286179, 2.113861036180551)\n",
      "Staged 1 spectra totalling 9.3e-05 Gb\n",
      "Loaded spectra\n",
      "Staged 1 spectra totalling 8e-05 Gb\n",
      "Loaded spectra\n",
      "(u'10h06m47.717s +60d27m16.0109s', 1.8261071443557739, 2.0938354277556783)\n",
      "Staged 1 spectra totalling 9.3e-05 Gb\n",
      "Loaded spectra\n",
      "(u'10h13m42.0441s +46d28m52.4364s', 1.733348685130417, 1.8051720218317122)\n",
      "Staged 1 spectra totalling 9.3e-05 Gb\n",
      "Loaded spectra\n",
      "(u'10h18m47.5305s +49d26m07.9652s', 1.8702404396993468, 2.4801263039528099)\n",
      "Staged 1 spectra totalling 8e-05 Gb\n",
      "Loaded spectra\n",
      "(u'10h19m47.0819s +49d48m35.8406s', 1.6233592464688646, 1.6513210535049438)\n",
      "Staged 1 spectra totalling 9.3e-05 Gb\n",
      "Loaded spectra\n",
      "(u'10h22m59.3317s +49d11m25.7851s', 1.981689106628173, 2.4693080070648503)\n",
      "Staged 1 spectra totalling 9.3e-05 Gb\n",
      "Loaded spectra\n",
      "(u'10h28m21.2572s +24d01m21.7985s', 1.8679502737722877, 2.4138621806185219)\n",
      "Staged 1 spectra totalling 9.3e-05 Gb\n",
      "Loaded spectra\n",
      "Staged 1 spectra totalling 8e-05 Gb\n",
      "Loaded spectra\n",
      "(u'10h31m57.5172s +45d35m27.5015s', 1.9181686155423094, 3.7175946323234079)\n",
      "Staged 1 spectra totalling 9.3e-05 Gb\n",
      "Loaded spectra\n",
      "(u'10h37m31.7674s +23d57m07.2965s', 1.6186548610210798, 2.2532187246351909)\n",
      "Staged 1 spectra totalling 9.3e-05 Gb\n",
      "Loaded spectra\n",
      "(u'10h39m46.9171s +45d47m16.9908s', 1.8697956259284392, 2.4560526893696539)\n",
      "Staged 1 spectra totalling 9.3e-05 Gb\n",
      "Loaded spectra\n",
      "(u'10h46m17.9434s +47d07m21.8201s', 1.6480926127453661, 1.7887111385768211)\n",
      "Staged 1 spectra totalling 9.3e-05 Gb\n",
      "Loaded spectra\n",
      "(u'10h49m55.0146s +23d13m58.2344s', 1.8407229119268027, 2.1709764308077619)\n",
      "Staged 1 spectra totalling 9.3e-05 Gb\n",
      "Loaded spectra\n",
      "(u'10h50m56.2201s +23d09m10.6623s', 1.7836762259599579, 1.9703348336363997)\n",
      "Staged 1 spectra totalling 9.3e-05 Gb\n",
      "Loaded spectra\n",
      "(u'10h52m46.4969s +64d18m32.25s', 1.6428027868414972, 2.9360920686673619)\n",
      "Staged 1 spectra totalling 9.3e-05 Gb\n",
      "Loaded spectra\n",
      "Staged 1 spectra totalling 8e-05 Gb\n",
      "Loaded spectra\n",
      "(u'11h02m27.3909s +48d37m49.582s', 2.0232941519255943, 3.167972797683551)\n",
      "Staged 1 spectra totalling 9.3e-05 Gb\n",
      "Loaded spectra\n",
      "Staged 1 spectra totalling 8e-05 Gb\n",
      "Loaded spectra\n",
      "(u'11h06m46.6871s +48d38m50.0987s', 1.7235547362434072, 2.0030181721347167)\n",
      "Staged 1 spectra totalling 9.3e-05 Gb\n",
      "Loaded spectra\n",
      "(u'11h08m54.143s +65d43m01.745s', 1.8013799236320929, 2.116302268945963)\n",
      "Staged 1 spectra totalling 9.3e-05 Gb\n",
      "Loaded spectra\n",
      "(u'11h11m07.6139s +46d41m59.3775s', 1.9180061600186209, 2.1088128014174639)\n",
      "Staged 1 spectra totalling 9.3e-05 Gb\n",
      "Loaded spectra\n",
      "(u'11h13m45.2498s +31d42m19.4162s', 1.647248180808107, 2.924808785104084)\n",
      "Staged 1 spectra totalling 9.3e-05 Gb\n",
      "Loaded spectra\n",
      "(u'11h24m23.8306s +45d29m02.8098s', 1.8337840261853311, 2.5067041035488189)\n",
      "Staged 1 spectra totalling 9.3e-05 Gb\n",
      "Loaded spectra\n",
      "(u'11h28m19.346s +03d19m36.6435s', 1.6202325410030185, 2.4128271676970043)\n",
      "Staged 1 spectra totalling 9.3e-05 Gb\n",
      "Loaded spectra\n",
      "(u'11h28m58.8885s +64d44m40.3775s', 1.6536530256310722, 2.216725902965524)\n",
      "Staged 1 spectra totalling 9.3e-05 Gb\n",
      "Loaded spectra\n",
      "(u'11h29m40.3633s +36d37m08.1231s', 1.7292466956826038, 2.0795677355936659)\n",
      "Staged 1 spectra totalling 9.3e-05 Gb\n",
      "Loaded spectra\n",
      "(u'11h37m29.7878s +45d31m49.8555s', 1.6039038682916802, 2.1336206754108584)\n",
      "Staged 1 spectra totalling 9.3e-05 Gb\n",
      "Loaded spectra\n",
      "(u'11h40m17.3235s +12d41m38.954s', 1.8423013829428163, 2.5713333037681259)\n",
      "Staged 1 spectra totalling 9.3e-05 Gb\n",
      "Loaded spectra\n",
      "(u'11h44m39.509s +45d41m15.816s', 1.6860784834778584, 2.5920311614736344)\n",
      "Staged 1 spectra totalling 9.3e-05 Gb\n",
      "Loaded spectra\n",
      "(u'11h45m15.0212s +46d52m38.0019s', 2.0366360099249561, 2.2150745332793527)\n",
      "Staged 1 spectra totalling 9.3e-05 Gb\n",
      "Loaded spectra\n",
      "Staged 1 spectra totalling 9.3e-05 Gb\n",
      "Loaded spectra\n",
      "(u'11h48m35.4143s +47d02m21.1403s', 1.7571736410801404, 2.2557832113761616)\n",
      "Staged 1 spectra totalling 9.3e-05 Gb\n",
      "Loaded spectra\n",
      "(u'11h48m35.9338s +45d07m28.7575s', 1.7206988867398207, 1.8546271256805891)\n",
      "Staged 1 spectra totalling 9.3e-05 Gb\n",
      "Loaded spectra\n",
      "(u'11h50m40.713s +45d33m18.3243s', 1.7547161142420464, 1.8103013353470063)\n",
      "Staged 1 spectra totalling 8e-05 Gb\n",
      "Loaded spectra\n",
      "(u'11h54m57.1645s +47d11m49.3039s', 1.6755471826223887, 1.9469870328903198)\n",
      "Staged 1 spectra totalling 9.3e-05 Gb\n",
      "Loaded spectra\n",
      "(u'11h55m02.4482s +21d32m35.4717s', 1.9639074273499135, 2.6945167909812673)\n",
      "Staged 1 spectra totalling 9.3e-05 Gb\n",
      "Loaded spectra\n",
      "(u'11h55m29.493s +46d34m13.113s', 1.6495630146441569, 2.3292755384459185)\n",
      "Staged 1 spectra totalling 9.3e-05 Gb\n",
      "Loaded spectra\n",
      "(u'11h56m17.5114s +45d10m59.2059s', 1.9556069525443487, 2.3255619139014025)\n",
      "Staged 1 spectra totalling 9.3e-05 Gb\n",
      "Loaded spectra\n",
      "(u'12h05m47.3656s +47d45m21.8582s', 1.7882530799847673, 2.2723415732903454)\n",
      "Staged 1 spectra totalling 9.3e-05 Gb\n",
      "Loaded spectra\n",
      "(u'12h14m01.258s +47d17m02.152s', 1.9683195413827617, 2.2275214407235948)\n",
      "Staged 1 spectra totalling 9.3e-05 Gb\n",
      "Loaded spectra\n",
      "(u'12h16m57.8175s +15d27m06.5676s', 1.9470393324990283, 2.3175087236983933)\n",
      "Staged 1 spectra totalling 9.3e-05 Gb\n",
      "Loaded spectra\n",
      "(u'12h16m59.3556s +01d12m39.3135s', 1.883694686354541, 2.4481463387785718)\n",
      "Staged 1 spectra totalling 9.3e-05 Gb\n",
      "Loaded spectra\n",
      "(u'12h19m13.625s +46d00m52.6016s', 1.8579211324919906, 2.2689427112874081)\n",
      "Staged 1 spectra totalling 9.3e-05 Gb\n",
      "Loaded spectra\n",
      "(u'12h26m41.1062s +45d38m41.3504s', 1.9030825108475757, 2.0831809518433775)\n",
      "Staged 1 spectra totalling 9.3e-05 Gb\n",
      "Loaded spectra\n",
      "(u'12h30m27.9268s +47d03m04.2174s', 1.684754842187502, 1.8134823093535171)\n",
      "Staged 1 spectra totalling 9.3e-05 Gb\n",
      "Loaded spectra\n",
      "(u'12h37m29.1783s +46d57m02.8161s', 1.7618734930508084, 2.4199356262973013)\n",
      "Staged 1 spectra totalling 9.3e-05 Gb\n",
      "Loaded spectra\n",
      "(u'12h38m52.4769s +46d04m59.3607s', 1.7625570383658185, 1.9866464601615084)\n",
      "Staged 1 spectra totalling 9.3e-05 Gb\n",
      "Loaded spectra\n",
      "(u'12h48m03.5757s +46d44m07.6849s', 1.9239042148389254, 2.3332989334629133)\n",
      "Staged 1 spectra totalling 8e-05 Gb\n",
      "Loaded spectra\n",
      "(u'12h51m13.9086s +21d53m55.6908s', 1.6870734691619873, 1.9822709560394287)\n",
      "Staged 1 spectra totalling 9.3e-05 Gb\n",
      "Loaded spectra\n",
      "(u'12h53m39.461s +47d51m12.6106s', 1.8386155067952261, 2.0479157976768065)\n",
      "Staged 1 spectra totalling 9.3e-05 Gb\n",
      "Loaded spectra\n",
      "Staged 1 spectra totalling 8e-05 Gb\n",
      "Loaded spectra\n",
      "(u'12h55m30.4868s +61d31m37.9543s', 1.8293250478109699, 2.9614754463370625)\n",
      "Staged 1 spectra totalling 9.3e-05 Gb\n",
      "Loaded spectra\n",
      "(u'13h07m14.7922s +46d35m36.6361s', 1.6206128819756245, 2.2475849913475359)\n",
      "Staged 1 spectra totalling 9.3e-05 Gb\n",
      "Loaded spectra\n",
      "(u'13h13m41.3189s +45d46m54.6011s', 1.6891696053048948, 2.240692589286609)\n",
      "Staged 1 spectra totalling 9.3e-05 Gb\n",
      "Loaded spectra\n",
      "(u'13h14m30.2703s +46d07m59.8902s', 1.7922950689765318, 2.1683859575401345)\n",
      "Staged 1 spectra totalling 9.3e-05 Gb\n",
      "Loaded spectra\n",
      "(u'13h15m25.4655s +48d10m06.8902s', 1.8141058609339542, 2.5597692278564477)\n",
      "Staged 1 spectra totalling 9.3e-05 Gb\n",
      "Loaded spectra\n",
      "(u'13h18m31.9108s +30d20m02.6641s', 1.7225692502805781, 3.0099607150626184)\n",
      "Staged 1 spectra totalling 9.3e-05 Gb\n",
      "Loaded spectra\n",
      "(u'13h21m05.5789s +45d09m14.2946s', 1.6337562113085309, 2.3552060987751342)\n",
      "Staged 1 spectra totalling 9.3e-05 Gb\n",
      "Loaded spectra\n",
      "(u'13h24m49.453s +47d55m48.0389s', 1.8293922572648644, 2.6546791901902598)\n",
      "Staged 1 spectra totalling 9.3e-05 Gb\n",
      "Loaded spectra\n",
      "(u'13h28m48.1788s +47d12m10.1752s', 1.726113933749196, 3.2922639875086519)\n",
      "Staged 1 spectra totalling 9.3e-05 Gb\n",
      "Loaded spectra\n",
      "(u'13h29m22.5144s +43d20m49.2875s', 1.6001302030958064, 2.3374216160727275)\n",
      "Staged 1 spectra totalling 9.3e-05 Gb\n",
      "Loaded spectra\n",
      "(u'13h30m26.1963s +41d14m32.9864s', 2.0758350227209115, 2.21722052046101)\n",
      "Staged 1 spectra totalling 9.3e-05 Gb\n",
      "Loaded spectra\n",
      "Staged 1 spectra totalling 8e-05 Gb\n",
      "Loaded spectra\n",
      "(u'13h39m24.0217s +46d28m08.164s', 1.8517557124036339, 3.3906395034888939)\n",
      "Staged 1 spectra totalling 9.3e-05 Gb\n",
      "Loaded spectra\n",
      "(u'13h42m10.2418s +47d14m03.9402s', 1.6717871924696694, 2.1219022254403361)\n",
      "Staged 1 spectra totalling 9.3e-05 Gb\n",
      "Loaded spectra\n",
      "(u'13h48m17.4089s +46d42m17.1122s', 1.8279336117866216, 3.3484691043578927)\n",
      "Staged 1 spectra totalling 9.3e-05 Gb\n",
      "Loaded spectra\n",
      "(u'13h53m06.3464s +11d38m04.7313s', 1.6351843928641678, 2.4305273070377611)\n",
      "Staged 1 spectra totalling 9.3e-05 Gb\n",
      "Loaded spectra\n",
      "(u'14h03m55.1546s +37d34m01.7382s', 1.6496469135894656, 2.9101341273897963)\n",
      "Staged 1 spectra totalling 9.3e-05 Gb\n",
      "Loaded spectra\n",
      "(u'14h07m39.3884s +50d41m02.5873s', 1.8256969574185995, 2.3110956286298672)\n",
      "Staged 1 spectra totalling 9.3e-05 Gb\n",
      "Loaded spectra\n",
      "Staged 1 spectra totalling 8e-05 Gb\n",
      "Loaded spectra\n",
      "(u'14h09m18.0035s +52d25m52.3789s', 1.8868418923060879, 2.114416207493409)\n",
      "Staged 1 spectra totalling 9.3e-05 Gb\n",
      "Loaded spectra\n",
      "(u'14h09m39.4934s +54d05m32.5855s', 1.6205092302185078, 2.2459170043090371)\n",
      "Staged 1 spectra totalling 9.3e-05 Gb\n",
      "Loaded spectra\n",
      "(u'14h10m19.7132s +43d34m13.7707s', 1.9781902986221291, 2.4979386194852751)\n",
      "Staged 1 spectra totalling 9.3e-05 Gb\n",
      "Loaded spectra\n",
      "(u'14h11m41.0657s +53d59m15.1543s', 1.9523094082649215, 2.3200006890000999)\n",
      "Staged 1 spectra totalling 9.3e-05 Gb\n",
      "Loaded spectra\n",
      "(u'14h15m04.6366s +53d00m53.5943s', 1.6723941930162887, 1.7560744950911313)\n",
      "Staged 1 spectra totalling 9.3e-05 Gb\n",
      "Loaded spectra\n",
      "(u'14h17m13.6153s +45d07m37.8024s', 1.6798954745944408, 2.0801028992226582)\n",
      "Staged 1 spectra totalling 9.3e-05 Gb\n",
      "Loaded spectra\n",
      "(u'14h17m23.869s +07d03m17.9001s', 1.6020078200936296, 2.3927012959290397)\n",
      "Staged 1 spectra totalling 9.3e-05 Gb\n",
      "Loaded spectra\n",
      "(u'14h18m23.077s +52d41m18.9876s', 2.0475706331029087, 2.9754250257424935)\n",
      "Staged 1 spectra totalling 9.3e-05 Gb\n",
      "Loaded spectra\n",
      "(u'14h18m38.9999s +51d52m53.6832s', 1.8880887426566417, 2.2959920782291192)\n",
      "Staged 1 spectra totalling 9.3e-05 Gb\n",
      "Loaded spectra\n",
      "(u'14h19m05.552s +52d02m17.7524s', 1.7246933160097695, 2.1661437016735046)\n",
      "Staged 1 spectra totalling 9.3e-05 Gb\n",
      "Loaded spectra\n",
      "(u'14h20m23.3168s +52d25m56.9062s', 1.9746372677751685, 3.3861335072388483)\n",
      "Staged 1 spectra totalling 9.3e-05 Gb\n",
      "Loaded spectra\n",
      "(u'14h21m17.6682s +53d51m15.4092s', 1.762220006181703, 1.8772318004817632)\n",
      "Staged 1 spectra totalling 9.3e-05 Gb\n",
      "Loaded spectra\n",
      "(u'14h22m38.8224s +52d29m05.1792s', 1.7615592940944926, 3.0185673542678941)\n",
      "Staged 1 spectra totalling 9.3e-05 Gb\n",
      "Loaded spectra\n",
      "(u'14h25m35.3288s +53d05m21.3571s', 1.8428728882434184, 1.9810104764443166)\n",
      "Staged 1 spectra totalling 9.3e-05 Gb\n",
      "Loaded spectra\n",
      "(u'14h36m09.1502s +31d34m26.6726s', 1.8760362396795514, 2.5616013287440689)\n",
      "Staged 1 spectra totalling 9.3e-05 Gb\n",
      "Loaded spectra\n",
      "(u'14h36m29.8605s +33d16m39.4725s', 2.0231467646726569, 2.3689800415829043)\n",
      "Staged 1 spectra totalling 9.3e-05 Gb\n",
      "Loaded spectra\n",
      "(u'14h42m11.2479s +53d02m52.008s', 1.6479279559520079, 2.6321833968166182)\n",
      "Staged 1 spectra totalling 9.3e-05 Gb\n",
      "Loaded spectra\n",
      "(u'14h56m19.3319s +11d37m34.2557s', 1.9306971055846252, 2.8361565773255997)\n",
      "Staged 1 spectra totalling 9.3e-05 Gb\n",
      "Loaded spectra\n",
      "(u'15h16m11.4962s +22d25m15.2581s', 1.999070236315414, 2.7873123418319428)\n",
      "Staged 1 spectra totalling 8e-05 Gb\n",
      "Loaded spectra\n",
      "Staged 1 spectra totalling 9.3e-05 Gb\n",
      "Loaded spectra\n",
      "(u'15h23m00.9409s +16d08m44.6753s', 1.999351978302002, 2.4010343138202734)\n",
      "Staged 1 spectra totalling 9.3e-05 Gb\n",
      "Loaded spectra\n",
      "(u'15h40m59.8681s +49d19m23.3286s', 2.0438607782968203, 3.3386625184721654)\n",
      "Staged 1 spectra totalling 9.3e-05 Gb\n",
      "Loaded spectra\n",
      "(u'15h43m49.117s +44d45m14.7343s', 1.8440452884904497, 3.4353977917497001)\n",
      "Staged 1 spectra totalling 9.3e-05 Gb\n",
      "Loaded spectra\n",
      "(u'15h45m21.6251s +30d15m00.9422s', 1.667045364477699, 2.9689851912909209)\n",
      "Staged 1 spectra totalling 9.3e-05 Gb\n",
      "Loaded spectra\n",
      "(u'15h48m16.4303s +54d59m41.9243s', 1.7779900184536179, 2.385943953804508)\n",
      "Staged 1 spectra totalling 9.3e-05 Gb\n",
      "Loaded spectra\n",
      "(u'15h57m33.9794s +29d28m44.3408s', 1.9658648587758454, 3.084608115498634)\n",
      "Staged 1 spectra totalling 9.3e-05 Gb\n",
      "Loaded spectra\n",
      "Staged 1 spectra totalling 9.3e-05 Gb\n",
      "Loaded spectra\n",
      "(u'16h54m42.2078s +25d12m49.232s', 1.723500000532477, 2.3413921323150038)\n",
      "Staged 1 spectra totalling 9.3e-05 Gb\n",
      "Loaded spectra\n",
      "Staged 1 spectra totalling 8e-05 Gb\n",
      "Loaded spectra\n",
      "(u'17h14m37.2723s +30d48m16.6903s', 1.9462796104047762, 3.9741457184958326)\n",
      "Staged 1 spectra totalling 9.3e-05 Gb\n",
      "Loaded spectra\n",
      "(u'21h29m59.4551s +01d01m25.2133s', 2.065377317259403, 3.2130608762926274)\n",
      "Staged 1 spectra totalling 9.3e-05 Gb\n",
      "Loaded spectra\n",
      "(u'21h39m34.3921s +00d35m59.0459s', 1.8413438002341764, 2.820460718404612)\n",
      "Staged 1 spectra totalling 9.3e-05 Gb\n",
      "Loaded spectra\n",
      "(u'21h46m18.8608s +00d38m13.1136s', 2.085673647805514, 2.3980793470927639)\n",
      "Staged 1 spectra totalling 9.3e-05 Gb\n",
      "Loaded spectra\n",
      "(u'21h48m13.2563s +26d30m59.4348s', 1.6334666698610103, 3.2860615460946292)\n",
      "Staged 1 spectra totalling 9.3e-05 Gb\n",
      "Loaded spectra\n",
      "(u'21h49m38.2853s +01d13m50.022s', 1.8761450556998687, 2.7567001090903371)\n",
      "Staged 1 spectra totalling 9.3e-05 Gb\n",
      "Loaded spectra\n",
      "(u'21h57m40.5764s +00d41m40.0657s', 2.0568740974011983, 2.9428737412536639)\n",
      "Staged 1 spectra totalling 9.3e-05 Gb\n",
      "Loaded spectra\n",
      "(u'21h59m47.385s +00d20m12.8972s', 2.0868550105969037, 3.2696710630817925)\n",
      "Staged 1 spectra totalling 9.3e-05 Gb\n",
      "Loaded spectra\n",
      "(u'23h16m42.9176s +15d28m24.5354s', 1.7619619553734329, 2.0962818971756714)\n",
      "Staged 1 spectra totalling 9.3e-05 Gb\n",
      "Loaded spectra\n",
      "(u'23h20m33.5194s +10d21m09.2168s', 1.7340105193086433, 2.5155617600564804)\n",
      "Staged 1 spectra totalling 9.3e-05 Gb\n",
      "Loaded spectra\n",
      "(u'23h28m10.2198s +13d37m04.7155s', 1.7102104163680389, 2.3791825220691671)\n",
      "Staged 1 spectra totalling 9.3e-05 Gb\n",
      "Loaded spectra\n",
      "(u'23h30m16.638s +23d42m20.8886s', 2.0152757340395269, 2.1388410319594295)\n",
      "Staged 1 spectra totalling 9.3e-05 Gb\n",
      "Loaded spectra\n",
      "(u'23h42m12.6227s +19d07m33.7321s', 1.6552932343262892, 2.5890666069851287)\n",
      "Staged 1 spectra totalling 9.3e-05 Gb\n",
      "Loaded spectra\n",
      "(u'23h51m41.6173s +27d37m30.0542s', 1.7256516993877671, 2.8195539276254635)\n",
      "Staged 1 spectra totalling 9.3e-05 Gb\n",
      "Loaded spectra\n",
      "(u'23h55m05.2234s +32d00m58.9725s', 1.8128170485856481, 2.3666899216772697)\n",
      "Staged 1 spectra totalling 9.3e-05 Gb\n",
      "Loaded spectra\n",
      "(u'23h58m19.9214s +34d24m55.787s', 1.621434430397424, 2.0196107824331411)\n",
      "Staged 1 spectra totalling 9.3e-05 Gb\n",
      "Loaded spectra\n",
      "(u'11h12m58.25s +00d24m53.8s', 1.8493999999999999, 2.4983165518248485)\n",
      "Staged 1 spectra totalling 9.3e-05 Gb\n",
      "Loaded spectra\n",
      "(u'11h36m39.23s -00d31m22.4s', 1.6497999999999999, 2.2286030697357724)\n",
      "Staged 1 spectra totalling 9.3e-05 Gb\n",
      "Loaded spectra\n",
      "(u'11h50m06.52s +00d15m58.9s', 1.6531, 2.3055630886809242)\n",
      "Staged 1 spectra totalling 9.3e-05 Gb\n",
      "Loaded spectra\n",
      "(u'11h55m46.31s -01d31m37.7s', 1.8747, 2.140950985542037)\n",
      "Staged 1 spectra totalling 9.3e-05 Gb\n",
      "Loaded spectra\n",
      "Staged 1 spectra totalling 8e-05 Gb\n",
      "Loaded spectra\n",
      "(u'12h52m28.96s +00d10m03s', 1.9750000000000001, 3.555674094984099)\n",
      "Staged 1 spectra totalling 9.3e-05 Gb\n",
      "Loaded spectra\n",
      "(u'12h53m59.7s +00d26m31.4s', 1.7716000000000001, 2.5077116082549695)\n",
      "Staged 1 spectra totalling 9.3e-05 Gb\n",
      "Loaded spectra\n",
      "(u'13h16m37.06s -00d05m37.1s', 1.6515, 2.3824411237347962)\n",
      "Staged 1 spectra totalling 9.3e-05 Gb\n",
      "Loaded spectra\n",
      "(u'13h33m48.9s +01d05m59.5s', 1.7438, 2.4499172396371578)\n",
      "Staged 1 spectra totalling 9.3e-05 Gb\n",
      "Loaded spectra\n",
      "(u'13h38m59.11s +00d11m30s', 1.6511, 2.9630876567158153)\n",
      "Staged 1 spectra totalling 9.3e-05 Gb\n",
      "Loaded spectra\n",
      "(u'13h54m40.29s +00d32m03.4s', 1.6403000000000001, 3.265014525893136)\n",
      "Staged 1 spectra totalling 9.3e-05 Gb\n",
      "Loaded spectra\n",
      "Staged 1 spectra totalling 9.3e-05 Gb\n",
      "Loaded spectra\n",
      "(u'14h35m44.8s -00d08m56.4s', 1.8077000000000001, 2.231982479943226)\n"
     ]
    },
    {
     "data": {
      "text/plain": [
       "180"
      ]
     },
     "execution_count": 54,
     "metadata": {},
     "output_type": "execute_result"
    }
   ],
   "source": [
    "count = 0 \n",
    "QPQ9 = xxf.bintab_to_table('qpq9_final.fits')\n",
    "for qq,cc in enumerate(c_igmsp):\n",
    "    if kpc_amin[qq]*ang_sep[qq] < 300 *u.kpc: \n",
    "        if len(np.where(cc.separation(c_QPQ9) < 0.5*u.arcsec)[0]) == 0: # pair not in QPQ9 already\n",
    "            if len(np.where(cc.separation(c_NIR) < 0.5*u.arcsec)[0]) == 0:                 \n",
    "                if 'SDSS-HW' in igmsp.cat[ID_fg[qq]]['flag_zem']: # good z\n",
    "                    # Match Johnson+15 and Farina+ samples' redshifts, and MgII redshift or better \n",
    "                    if (igmsp.cat[ID_fg[qq]]['zem'] >= 0.4) & (igmsp.cat[ID_fg[qq]]['zem'] <= 2.1): \n",
    "                        # Lya forest cut for MgII stack \n",
    "                        if 2796.354*(1+igmsp.cat['zem'][ID_fg[qq]]) > (1215.6701+6.)*(1+igmsp.cat['zem'][ID_bg[qq]]):\n",
    "                            #print(cc.to_string('hmsdms')) \n",
    "                            if np.mod(igmsp.cat['flag_group'][ID_fg[qq]],2) == 0:\n",
    "                                name = 'BOSSJ'\n",
    "                            else:\n",
    "                                name = 'SDSSJ'  \n",
    "                            name = name + c_igmsp_bg[qq].to_string('hmsdms')[0:2]\n",
    "                            name = name + c_igmsp_bg[qq].to_string('hmsdms')[3:5]\n",
    "                            ipos = c_igmsp_bg[qq].to_string('hmsdms').rfind(' ')+1\n",
    "                            name = name + c_igmsp_bg[qq].to_string('hmsdms')[ipos:ipos+3] \n",
    "                            name = name + c_igmsp_bg[qq].to_string('hmsdms')[ipos+4:ipos+6]\n",
    "                            QPQ9.add_row({'FG_RA':igmsp.cat['RA'][ID_fg[qq]],'FG_DEC':igmsp.cat['DEC'][ID_fg[qq]],\n",
    "                                          'NAME':name,\n",
    "                                          'RA':igmsp.cat['RA'][ID_bg[qq]],'DEC':igmsp.cat['DEC'][ID_bg[qq]],\n",
    "                                          'Z_FG':igmsp.cat['zem'][ID_fg[qq]],'Z_FSIG':272,\n",
    "                                          'BG_Z':igmsp.cat['zem'][ID_bg[qq]],\n",
    "                                          'R_PHYS':(kpc_amin[qq]*ang_sep[qq]).value,'ZFG_LINE':'SDSS-HW'})\n",
    "#                            print(igmsp.cat['IGM_ID'][ID_fg[qq]],ID_fg[qq],igmsp.cat['IGM_ID'][ID_bg[qq]],ID_bg[qq])\n",
    "                else: \n",
    "                    if (igmsp.cat[ID_fg[qq]]['zem'] >= 1.6) & (igmsp.cat[ID_fg[qq]]['zem'] <= 2.1): # where MgII accessible\n",
    "                        bg_coord = SkyCoord(igmsp.cat['RA'][ID_bg[qq]]*u.deg,igmsp.cat['DEC'][ID_bg[qq]]*u.deg)\n",
    "                        specs,metas = igmsp.spectra_from_coord(bg_coord,tol=0.5*u.arcsec,verbose=False,\n",
    "                                                               groups=['BOSS_DR12','COS-Dwarfs','COS-Halos',\n",
    "                                                                       'ESI_DLA','GGG','HD-LLS_DR1',\n",
    "                                                                       'HDLA100','HSTQSO','HST_z2',\n",
    "                                                                       'KODIAQ_DR1','SDSS_DR7','XQ-100',\n",
    "                                                                       'UVES_Dall','UVpSM4','MUSoDLA'])\n",
    "                        if metas is None:\n",
    "                            continue\n",
    "                        gd = 0 \n",
    "                        Aband = [7595,7680]\n",
    "                        Bband = [6868,6926]\n",
    "                        # CII good\n",
    "                        if 1334.5323*(1+igmsp.cat['zem'][ID_fg[qq]]) > (1215.6701+15.)*(1+igmsp.cat['zem'][ID_bg[qq]]):\n",
    "                            for meta in metas:\n",
    "                                stck_wvmin = 1334.5323*(1+ltu.z_from_dv(3000*u.km/u.s,igmsp.cat['zem'][ID_fg[qq]]))\n",
    "                                stck_wvmax = 1334.5323*(1+ltu.z_from_dv(3000*u.km/u.s,igmsp.cat['zem'][ID_fg[qq]]))\n",
    "                                if ((stck_wvmin > meta['WV_MIN']) and (stck_wvmax < meta['WV_MAX'])):\n",
    "                                    if (((stck_wvmin >= Aband[0]) and (stck_wvmin <= Aband[1]) or \n",
    "                                         (stck_wvmax >= Aband[0]) and (stck_wvmax <= Aband[1])) or \n",
    "                                        ((stck_wvmin >= Bband[0]) and (stck_wvmin <= Bband[1]) or \n",
    "                                         (stck_wvmax >= Bband[0]) and (stck_wvmax <= Bband[1]))):\n",
    "                                        continue\n",
    "                                    gd = 1\n",
    "                        # CIV good \n",
    "                        if 1548.195*(1+igmsp.cat['zem'][ID_fg[qq]]) > (1215.6701+15.)*(1+igmsp.cat['zem'][ID_bg[qq]]):\n",
    "                            for meta in metas: \n",
    "                                stck_wvmin = 1548.195*(1+ltu.z_from_dv(3000*u.km/u.s,igmsp.cat['zem'][ID_fg[qq]]))\n",
    "                                stck_wvmax = 1548.195*(1+ltu.z_from_dv(3000*u.km/u.s,igmsp.cat['zem'][ID_fg[qq]]))\n",
    "                                if ((stck_wvmin > meta['WV_MIN']) and (stck_wvmax < meta['WV_MAX'])):\n",
    "                                    if (((stck_wvmin >= Aband[0]) and (stck_wvmin <= Aband[1]) or \n",
    "                                         (stck_wvmax >= Aband[0]) and (stck_wvmax <= Aband[1])) or \n",
    "                                        ((stck_wvmin >= Bband[0]) and (stck_wvmin <= Bband[1]) or \n",
    "                                         (stck_wvmax >= Bband[0]) and (stck_wvmax <= Bband[1]))):\n",
    "                                        continue\n",
    "                                    gd = 1\n",
    "                        # MgII good\n",
    "                        if 2796.354*(1+igmsp.cat['zem'][ID_fg[qq]]) > (1215.6701+15.)*(1+igmsp.cat['zem'][ID_bg[qq]]):\n",
    "                            for meta in metas:\n",
    "                                stck_wvmin = 2796.354*(1+ltu.z_from_dv(3000*u.km/u.s,igmsp.cat['zem'][ID_fg[qq]]))\n",
    "                                stck_wvmax = 2796.354*(1+ltu.z_from_dv(3000*u.km/u.s,igmsp.cat['zem'][ID_fg[qq]]))\n",
    "                                if ((stck_wvmin > meta['WV_MIN']) and (stck_wvmax < meta['WV_MAX'])):\n",
    "                                    if (((stck_wvmin >= Aband[0]) and (stck_wvmin <= Aband[1]) or \n",
    "                                         (stck_wvmax >= Aband[0]) and (stck_wvmax <= Aband[1])) or \n",
    "                                        ((stck_wvmin >= Bband[0]) and (stck_wvmin <= Bband[1]) or \n",
    "                                         (stck_wvmax >= Bband[0]) and (stck_wvmax <= Bband[1]))):\n",
    "                                        continue\n",
    "                                    gd = 1\n",
    "                        if gd == 1:\n",
    "                            count +=1 \n",
    "                            print(cc.to_string('hmsdms',),igmsp.cat['zem'][ID_fg[qq]],igmsp.cat['zem'][ID_bg[qq]]) \n",
    "QPQ9.sort(['FG_RA','FG_DEC'])\n",
    "count"
   ]
  },
  {
   "cell_type": "code",
   "execution_count": 36,
   "metadata": {
    "collapsed": false
   },
   "outputs": [
    {
     "data": {
      "text/plain": [
       "(655, <QTable length=25>\n",
       "      NAME      ZFG_LINE      Z_FG     \n",
       "     str14       str36      float64    \n",
       " -------------- -------- --------------\n",
       " BOSSJ1225+5709  SDSS-HW  1.89710700512\n",
       " BOSSJ1227+3518  SDSS-HW  1.14139699936\n",
       " BOSSJ1227-0015  SDSS-HW 0.628700017929\n",
       " BOSSJ1229+3430  SDSS-HW  1.24029195309\n",
       " BOSSJ1231+3515  SDSS-HW  1.56726396084\n",
       " BOSSJ1231+0029   [OIII]  3.20117358704\n",
       " BOSSJ1232+5655  SDSS-HW 0.428507000208\n",
       " BOSSJ1233+1246  SDSS-HW  1.54952001572\n",
       " BOSSJ1235+3758  SDSS-HW  1.21141600609\n",
       " BOSSJ1235+4258  SDSS-HW  1.18074905872\n",
       "            ...      ...            ...\n",
       " BOSSJ1239+3955  SDSS-HW  1.84168601036\n",
       " BOSSJ1241+4548  SDSS-HW 0.472916007042\n",
       " BOSSJ1242+4924  SDSS-HW 0.566568017006\n",
       " BOSSJ1242+5331  SDSS-HW  1.71729803085\n",
       " BOSSJ1242+2419  SDSS-HW  1.48176300526\n",
       " BOSSJ1242+1817  SDSS-HW 0.976599991322\n",
       " BOSSJ1243+5922  SDSS-HW  1.34902095795\n",
       " BOSSJ1244+3442  SDSS-HW   1.1418479681\n",
       " BOSSJ1244+3916  SDSS-HW  1.99733901024\n",
       " BOSSJ1244+3208  SDSS-HW  1.99100005627)"
      ]
     },
     "execution_count": 36,
     "metadata": {},
     "output_type": "execute_result"
    }
   ],
   "source": [
    "len(QPQ9),QPQ9['NAME','ZFG_LINE','Z_FG'][375:400]"
   ]
  },
  {
   "cell_type": "code",
   "execution_count": 41,
   "metadata": {
    "collapsed": true
   },
   "outputs": [],
   "source": [
    "# write\n",
    "xxf.table_to_fits(QPQ9,'qpq9_final.fits')"
   ]
  },
  {
   "cell_type": "code",
   "execution_count": null,
   "metadata": {
    "collapsed": false
   },
   "outputs": [],
   "source": [
    "# Find pairs in QPQ database that have [OIII] at accessible wavelengths, but not in QPQ9 \n",
    "QPQ9 = xxf.bintab_to_table('qpq9_final.fits')\n",
    "c_QPQ9 = SkyCoord(QPQ9['FG_RA']*u.deg,QPQ9['FG_DEC']*u.deg)\n",
    "c_QPQ9_bg = SkyCoord(ra=QPQ9['RA']*u.deg,dec=QPQ9['DEC']*u.deg)\n",
    "qpq_fil = '/Users/lwymarie/Documents/Databases/qpq_oir_spec.hdf5'\n",
    "qpqsp = SpecDB(db_file=qpq_fil,verbose=False,idkey='QPQ_ID')\n",
    "ID_fg, ID_bg = qpqsp.qcat.pairs(0.92*u.arcmin, 3000.*u.km/u.s)\n",
    "c_qpqsp = SkyCoord(qpqsp.cat['RA'][ID_fg]*u.deg,qpqsp.cat['DEC'][ID_fg]*u.deg)\n",
    "c_qpqsp_bg = SkyCoord(qpqsp.cat['RA'][ID_bg]*u.deg,qpqsp.cat['DEC'][ID_bg]*u.deg)\n",
    "kpc_amin = cosmo.kpc_proper_per_arcmin(qpqsp.cat['zem'][ID_fg])\n",
    "ang_sep = c_qpqsp.separation(c_qpqsp_bg).to('arcmin')\n",
    "for qq,cc in enumerate(c_qpqsp):\n",
    "    if kpc_amin[qq]*ang_sep[qq] < 300 *u.kpc: \n",
    "        if len(np.where(cc.separation(c_QPQ9) < 0.5*u.arcsec)[0]) == 0: # pair not in QPQ9 already\n",
    "                if (((qpqsp.cat['zem'][ID_fg[qq]] > 1.6) & (qpqsp.cat['zem'][ID_fg[qq]] < 1.67)) | \n",
    "                    ((qpqsp.cat['zem'][ID_fg[qq]] > 1.99) & (qpqsp.cat['zem'][ID_fg[qq]] < 2.60)) | \n",
    "                    ((qpqsp.cat['zem'][ID_fg[qq]] > 3.08) & (qpqsp.cat['zem'][ID_fg[qq]] < 3.76))):\n",
    "                    print(qpqsp.cat['zem'][ID_fg[qq]],cc.to_string('hmsdms'),c_qpqsp_bg[qq].to_string('hmsdms'))"
   ]
  },
  {
   "cell_type": "code",
   "execution_count": null,
   "metadata": {
    "collapsed": true
   },
   "outputs": [],
   "source": [
    "# Try 13h44m41.1s -00d49m50.2s with TSpec"
   ]
  },
  {
   "cell_type": "code",
   "execution_count": null,
   "metadata": {
    "collapsed": false
   },
   "outputs": [],
   "source": [
    "# Find pairs in igmspec database that have [OIII] at accessible wavelengths, but not in QPQ9 \n",
    "igmsp = IgmSpec()\n",
    "ID_fg, ID_bg = igmsp.qcat.pairs(0.92*u.arcmin, 3000.*u.km/u.s)\n",
    "c_igmsp = SkyCoord(igmsp.cat['RA'][ID_fg]*u.deg,igmsp.cat['DEC'][ID_fg]*u.deg)\n",
    "c_igmsp_bg = SkyCoord(igmsp.cat['RA'][ID_bg]*u.deg,igmsp.cat['DEC'][ID_bg]*u.deg)\n",
    "kpc_amin = cosmo.kpc_proper_per_arcmin(igmsp.cat['zem'][ID_fg])\n",
    "ang_sep = c_igmsp.separation(c_igmsp_bg).to('arcmin')\n",
    "for qq,cc in enumerate(c_igmsp):\n",
    "    if kpc_amin[qq]*ang_sep[qq] < 300 *u.kpc: \n",
    "        if len(np.where(cc.separation(c_QPQ9) < 0.5*u.arcsec)[0]) == 0: # pair not in QPQ9 already\n",
    "                if (((igmsp.cat['zem'][ID_fg[qq]] > 1.6) & (igmsp.cat['zem'][ID_fg[qq]] < 1.67)) | \n",
    "                    ((igmsp.cat['zem'][ID_fg[qq]] > 1.99) & (igmsp.cat['zem'][ID_fg[qq]] < 2.60)) | \n",
    "                    ((igmsp.cat['zem'][ID_fg[qq]] > 3.08) & (igmsp.cat['zem'][ID_fg[qq]] < 3.76))):\n",
    "                    print(igmsp.cat['zem'][ID_fg[qq]],cc.to_string('hmsdms'),c_igmsp_bg[qq].to_string('hmsdms'))"
   ]
  },
  {
   "cell_type": "markdown",
   "metadata": {},
   "source": [
    "# Replace HW10 redshifts with MgII redshifts re-measured"
   ]
  },
  {
   "cell_type": "code",
   "execution_count": 42,
   "metadata": {
    "collapsed": false
   },
   "outputs": [
    {
     "name": "stderr",
     "output_type": "stream",
     "text": [
      "WARNING: hdu= was not specified but multiple tables are present, reading in first available table (hdu=1) [astropy.io.fits.connect]\n",
      "WARNING:astropy:hdu= was not specified but multiple tables are present, reading in first available table (hdu=1)\n"
     ]
    },
    {
     "name": "stdout",
     "output_type": "stream",
     "text": [
      "x.fits.bintab_to_table: Reading qpq9_final.fits\n",
      "(u'00h47m57.2575s +14d47m41.9604s', 'replaced')\n",
      "(u'01h03m23.8409s -00d02m54.204s', 'replaced')\n",
      "(u'02h14m16.9579s -00d52m29.1468s', 'replaced')\n",
      "(u'02h24m47.8961s -00d47m00.3552s', 'replaced')\n",
      "(u'02h50m38.6916s -00d47m39.1056s', 'replaced')\n",
      "(u'08h09m45.1728s +45d39m18.108s', 'replaced')\n",
      "(u'08h12m23.1689s +26d20m00.906s', 'replaced')\n",
      "(u'08h18m32.8654s +12d32m19.9032s', 'replaced')\n",
      "(u'08h26m42.8635s +47d08m29.5296s', 'replaced')\n",
      "(u'08h30m30.3792s +54d52m28.7724s', 'replaced')\n",
      "(u'08h38m54.5237s +46d21m24.3936s', 'replaced')\n",
      "(u'08h56m29.4814s +55d14m50.244s', 'replaced')\n",
      "(u'08h57m37.5814s +39d01m20.4636s', 'replaced')\n",
      "(u'09h04m17.9402s +00d41m48.2496s', 'replaced')\n",
      "(u'09h06m57.7973s +10d01m21.4356s', 'replaced')\n",
      "(u'09h12m17.5714s +41d39m33.516s', 'replaced')\n",
      "(u'09h12m34.273s +30d56m16.2168s', 'replaced')\n",
      "(u'09h15m51.7238s +01d19m00.1776s', 'replaced')\n",
      "(u'09h33m17.4271s +59d20m27.4488s', 'replaced')\n",
      "(u'09h41m33.642s +23d08m40.0524s', 'replaced')\n",
      "(u'10h00m46.4472s +03d37m08.8284s', 'replaced')\n",
      "(u'10h09m13.9118s +02d36m12.3768s', 'replaced')\n",
      "(u'10h13m23.8999s +03d30m16.956s', 'replaced')\n",
      "(u'10h17m53.3789s +62d26m53.3688s', 'replaced')\n",
      "(u'10h20m07.2979s +61d19m55.9632s', 'replaced')\n",
      "(u'10h24m43.9865s +26d16m15.0636s', 'replaced')\n",
      "(u'10h34m43.6241s +08d57m02.9808s', 'replaced')\n",
      "(u'10h36m28.1959s +50d11m57.876s', 'replaced')\n",
      "(u'10h42m44.8404s +65d00m02.7072s', 'replaced')\n",
      "(u'10h44m35.6242s +31d39m50.7168s', 'replaced')\n",
      "(u'10h52m21.7706s +55d52m53.5044s', 'replaced')\n",
      "(u'11h06m17.1715s +46d35m24.648s', 'replaced')\n",
      "(u'11h13m39.8599s +33d06m04.7628s', 'replaced')\n",
      "(u'11h18m50.4365s +40d25m53.7852s', 'replaced')\n",
      "(u'11h38m52.6462s +63d29m34.0224s', 'replaced')\n",
      "(u'11h52m53.0918s +15d07m06.4596s', 'replaced')\n",
      "(u'11h55m33.6178s +39d33m59.1984s', 'replaced')\n",
      "(u'12h02m24.6761s +07d48m00.2628s', 'replaced')\n",
      "(u'12h11m59.8001s +32d40m09.966s', 'replaced')\n",
      "(u'12h13m44.28s +47d19m58.7172s', 'replaced')\n",
      "(u'12h25m14.2939s +57d09m42.3396s', 'replaced')\n",
      "(u'12h46m32.3023s +23d45m31.158s', 'replaced')\n",
      "(u'12h48m46.0469s +40d57m58.1508s', 'replaced')\n",
      "(u'13h25m14.9746s +54d09m30.564s', 'replaced')\n",
      "(u'13h46m50.0789s +19d52m35.2056s', 'replaced')\n",
      "(u'14h22m15.57s +46d52m30.72s', 'replaced')\n",
      "(u'14h33m12.5556s +08d26m51.7596s', 'replaced')\n",
      "(u'15h34m56.0201s +21d53m42.3204s', 'replaced')\n",
      "(u'15h39m54.744s +31d46m29.2836s', 'replaced')\n",
      "(u'15h44m21.403s +50d26m45.8808s', 'replaced')\n",
      "(u'15h54m22.8773s +12d44m38.0076s', 'replaced')\n",
      "(u'16h05m47.5944s +51d13m30.198s', 'replaced')\n",
      "(u'16h19m30.937s +19d26m20.8968s', 'replaced')\n",
      "(u'16h31m21.7442s +43d33m17.298s', 'replaced')\n",
      "(u'22h55m35.6662s -00d01m56.8416s', 'replaced')\n",
      "('Removing', <Column name='NAME' dtype='str14' length=82>\n",
      "BOSSJ0001+0000\n",
      "BOSSJ0008-0039\n",
      "BOSSJ0008-0039\n",
      "BOSSJ0042+1350\n",
      "BOSSJ0106+0056\n",
      "BOSSJ0154+0020\n",
      "BOSSJ0206+2238\n",
      "BOSSJ0242-0046\n",
      "BOSSJ0334-0058\n",
      "BOSSJ0749+3702\n",
      "BOSSJ0814+0402\n",
      "BOSSJ0818+1527\n",
      "           ...\n",
      "BOSSJ1631+3659\n",
      "BOSSJ1635+2547\n",
      "BOSSJ1651+3410\n",
      "BOSSJ2053-0104\n",
      "BOSSJ2156-0003\n",
      "BOSSJ2212-0011\n",
      "BOSSJ2255-0009\n",
      "BOSSJ2314-0108\n",
      "BOSSJ2341-0041\n",
      "BOSSJ2348+0110\n",
      "BOSSJ2352-0015\n",
      "BOSSJ2354-0019)\n"
     ]
    }
   ],
   "source": [
    "# Load QPQ9\n",
    "QPQ9 = xxf.bintab_to_table('qpq9_final.fits')\n",
    "c_QPQ9 = SkyCoord(QPQ9['FG_RA']*u.deg,QPQ9['FG_DEC']*u.deg)\n",
    "# Load the zem structures \n",
    "zem_list = []\n",
    "zem_coord = []\n",
    "zem_fil = glob.glob(os.getenv('QPQ9')+'Analysis/Redshifts/QPQ_on_HW/zem/*')\n",
    "for ff in zem_fil:\n",
    "    zem = Table.read(ff)\n",
    "    zem_list.append(zem)\n",
    "    ipos = zem['SPEC_FIL'][0].rfind('/SDSSJ')+6\n",
    "    radec = zem['SPEC_FIL'][0][ipos:]\n",
    "    ipos2 = radec.rfind('+')\n",
    "    if ipos2 == -1:\n",
    "        ipos2 = radec.rfind('-')\n",
    "    ipos3 = radec.rfind('_F.fits')\n",
    "    if ipos3 == -1:\n",
    "        ipos3 = radec.rfind('.fits')\n",
    "    RA = radec[0:2]+'h'+radec[2:4]+'m'+radec[4:ipos2]+'s'\n",
    "    dec = radec[ipos2:ipos2+3]+'d'+radec[ipos2+3:ipos2+5]+'m'+radec[ipos2+5:ipos3]+'s'\n",
    "    zem_coord.append(SkyCoord(RA,dec))\n",
    "zem_coord = SkyCoord(zem_coord)\n",
    "# Match coordinates and replace redshifts\n",
    "for qq,cc in enumerate(c_QPQ9):\n",
    "    match = np.where(SkyCoord(cc).separation(zem_coord) < 5*u.arcsec)[0]\n",
    "    if len(match) > 1:\n",
    "        pdb.set_trace()\n",
    "    if (len(match) == 1) and (zem_list[match[0]]['MGII_MODE'][0] != -1):\n",
    "        QPQ9[qq]['Z_FG'] = zem_list[match[0]]['ZSYS_ZSYS'][0]\n",
    "        QPQ9[qq]['ZFG_LINE'] = 'MgII'\n",
    "        print(SkyCoord(cc).to_string('hmsdms'),'replaced')\n",
    "# Remove z > 1.6 quasars with no good MgII\n",
    "sv_qq = []\n",
    "for qq,cc in enumerate(c_QPQ9): \n",
    "    if (cc.separation(SkyCoord('10h24m43.99s +26d16m15.1s')) < 5*u.arcsec): \n",
    "        sv_qq.append(qq)\n",
    "    if (QPQ9[qq]['Z_FG'] > 1.6) and (QPQ9[qq]['ZFG_LINE'] == 'SDSS-HW'):\n",
    "        sv_qq.append(qq)\n",
    "print('Removing',QPQ9[sv_qq]['NAME'])\n",
    "QPQ9.remove_rows(sv_qq)"
   ]
  },
  {
   "cell_type": "code",
   "execution_count": 5,
   "metadata": {
    "collapsed": false
   },
   "outputs": [
    {
     "data": {
      "text/plain": [
       "(573, <QTable length=20>\n",
       " ZFG_LINE      NAME     \n",
       "  str36       str14     \n",
       " -------- --------------\n",
       "  SDSS-HW BOSSJ1017+4740\n",
       "     MgII BOSSJ1017+6226\n",
       "  SDSS-HW BOSSJ1018+2913\n",
       "     MgII BOSSJ1020+6119\n",
       "  SDSS-HW BOSSJ1020+4323\n",
       "  SDSS-HW BOSSJ1022+2925\n",
       "  SDSS-HW BOSSJ1022+2945\n",
       "  SDSS-HW BOSSJ1023+1220\n",
       "  SDSS-HW BOSSJ1024+3222\n",
       "  SDSS-HW BOSSJ1024+4051\n",
       "  SDSS-HW BOSSJ1025+3156\n",
       " H$\\beta$  APOJ1026+4614\n",
       "  SDSS-HW BOSSJ1032+1850\n",
       "     MgII BOSSJ1034+0856\n",
       "  SDSS-HW BOSSJ1035+2250\n",
       "     MgII BOSSJ1036+5012\n",
       "  SDSS-HW BOSSJ1037+4401\n",
       "  SDSS-HW BOSSJ1037+0736\n",
       "   [OIII] BOSSJ1039+5026\n",
       "  SDSS-HW BOSSJ1039+6336)"
      ]
     },
     "execution_count": 5,
     "metadata": {},
     "output_type": "execute_result"
    }
   ],
   "source": [
    "len(QPQ9),QPQ9['ZFG_LINE','NAME'][210:230]"
   ]
  },
  {
   "cell_type": "code",
   "execution_count": 43,
   "metadata": {
    "collapsed": true
   },
   "outputs": [],
   "source": [
    "## write\n",
    "xxf.table_to_fits(QPQ9,'qpq9_final.fits')"
   ]
  },
  {
   "cell_type": "markdown",
   "metadata": {},
   "source": [
    "# Add and update g_UV values "
   ]
  },
  {
   "cell_type": "code",
   "execution_count": 4,
   "metadata": {
    "collapsed": false
   },
   "outputs": [
    {
     "name": "stdout",
     "output_type": "stream",
     "text": [
      "x.fits.bintab_to_table: Reading qpq9_final.fits\n"
     ]
    }
   ],
   "source": [
    "# Search SDSS DR12 catalog for magnitudes \n",
    "QPQ9 = xxf.bintab_to_table('qpq9_final.fits')\n",
    "c_QPQ9 = SkyCoord(QPQ9['FG_RA']*u.deg,QPQ9['FG_DEC']*u.deg)\n",
    "c_QPQ9_bg = SkyCoord(ra=QPQ9['RA']*u.deg,dec=QPQ9['DEC']*u.deg)\n",
    "hdulist = fits.open('/Volumes/Data/Data of surveys/SDSS/DR12Q.fits')\n",
    "SDSSdr12 = hdulist[1].data\n",
    "c_SDSSdr12 = SkyCoord(list(SDSSdr12.field('RA'))*u.deg,list(SDSSdr12.field('DEC'))*u.deg)\n",
    "hdulist = fits.open('/Volumes/Data/Data of surveys/SDSS/dr7qso.fit')\n",
    "SDSSdr7 = hdulist[1].data\n",
    "c_SDSSdr7 = SkyCoord(list(SDSSdr7.field('RA'))*u.deg,list(SDSSdr7.field('DEC'))*u.deg)"
   ]
  },
  {
   "cell_type": "code",
   "execution_count": 6,
   "metadata": {
    "collapsed": false
   },
   "outputs": [
    {
     "name": "stdout",
     "output_type": "stream",
     "text": [
      "(u'01h11m50.07s +14d01m41.5s', 2.4851422501937015, <Angle 35.64055373774893 arcsec>, 27)\n"
     ]
    }
   ],
   "source": [
    "# Put in g_UV by hand for a quasar that does not have SDSS spectra but photometry and no existing g_UV values \n",
    "for qq,cc in enumerate(c_QPQ9):\n",
    "    if QPQ9[qq]['G_UV'] == 0.:\n",
    "        if len(np.where(cc.separation(c_SDSSdr12) < 0.5*u.arcsec)[0]) == 0:\n",
    "            if len(np.where(cc.separation(c_SDSSdr7) < 0.5*u.arcsec)[0]) == 0:\n",
    "                ang_sep = cc.separation(c_QPQ9_bg[qq]).to('arcsec')\n",
    "                print(cc.to_string('hmsdms'),QPQ9[qq]['Z_FG'],ang_sep,qq)\n",
    "                QPQ9[qq]['G_UV'] = 4624"
   ]
  },
  {
   "cell_type": "code",
   "execution_count": 7,
   "metadata": {
    "collapsed": false
   },
   "outputs": [
    {
     "name": "stderr",
     "output_type": "stream",
     "text": [
      "WARNING: AstropyDeprecationWarning: QPQ_gUV_idl_input.txt already exists. Automatically overwriting ASCII files is deprecated. Use the argument 'overwrite=True' in the future. [astropy.io.ascii.ui]\n",
      "WARNING:astropy:AstropyDeprecationWarning: QPQ_gUV_idl_input.txt already exists. Automatically overwriting ASCII files is deprecated. Use the argument 'overwrite=True' in the future.\n",
      "WARNING: AstropyDeprecationWarning: no_gUV_idl_input.txt already exists. Automatically overwriting ASCII files is deprecated. Use the argument 'overwrite=True' in the future. [astropy.io.ascii.ui]\n",
      "WARNING:astropy:AstropyDeprecationWarning: no_gUV_idl_input.txt already exists. Automatically overwriting ASCII files is deprecated. Use the argument 'overwrite=True' in the future.\n"
     ]
    }
   ],
   "source": [
    "# Write a file for IDL input, for rescaling QPQ g_UV values to F.-G. Lya forest flux \n",
    "gUV_exist = np.where(QPQ9['G_UV'] != 0.)[0]\n",
    "data = Table([QPQ9[gUV_exist]['FG_RA'],QPQ9[gUV_exist]['FG_DEC'],QPQ9[gUV_exist]['Z_FG'],QPQ9[gUV_exist]['G_UV']],\n",
    "             names=['FG_RA','FG_DEC','Z_FG','OLD_GUV'])\n",
    "ascii.write(data,'QPQ_gUV_idl_input.txt')\n",
    "\n",
    "# Write a file for IDL input, for calculating new g_UV values \n",
    "gUV_none = np.where(QPQ9['G_UV'] == 0.)[0]\n",
    "ang_sep = []\n",
    "SDSSfilter = []\n",
    "mag = []\n",
    "filter_beg = [3125.0, 3880.0, 5480.0, 6790.0, 8090.0]\n",
    "filter_names = ['u','g','r','i','z']\n",
    "for qq,cc in enumerate(c_QPQ9[gUV_none]):\n",
    "    ang_sep.append(cc.separation(c_QPQ9_bg[gUV_none[qq]]).to('arcsec').value)\n",
    "    min_beg = 1215.6701*(1+QPQ9[gUV_none[qq]]['Z_FG'])\n",
    "    good_inds = np.where(filter_beg >= min_beg)\n",
    "    SDSSfilter.append(filter_names[np.min(good_inds)])\n",
    "    in_dr12 = np.where(cc.separation(c_SDSSdr12) < 0.5*u.arcsec)[0]\n",
    "    if len(in_dr12) == 1:\n",
    "        mag.append((SDSSdr12[in_dr12].field('PSFMAG')[0][good_inds]-\n",
    "                    SDSSdr12[in_dr12].field('EXTINCTION')[0][good_inds])[0])\n",
    "    else:\n",
    "        in_dr7 = np.where(cc.separation(c_SDSSdr7) < 0.5*u.arcsec)[0]\n",
    "        psfmag = [SDSSdr7[in_dr7].field('UMAG'),SDSSdr7[in_dr7].field('GMAG'),SDSSdr7[in_dr7].field('RMAG'),\n",
    "                  SDSSdr7[in_dr7].field('IMAG'),SDSSdr7[in_dr7].field('ZMAG')]\n",
    "        extinct = SDSSdr7[in_dr7].field('AU')*np.array([1,0.736,0.534,0.405,0.287])\n",
    "        mag.append((psfmag[np.min(good_inds)]-extinct[np.min(good_inds)])[0])\n",
    "data = Table([QPQ9[gUV_none]['FG_RA'],QPQ9[gUV_none]['FG_DEC'],QPQ9[gUV_none]['Z_FG'],ang_sep,SDSSfilter,mag],\n",
    "             names=['FG_RA','FG_DEC','Z_FG','theta','filter','mag'])\n",
    "ascii.write(data,'no_gUV_idl_input.txt')"
   ]
  },
  {
   "cell_type": "code",
   "execution_count": 8,
   "metadata": {
    "collapsed": true
   },
   "outputs": [],
   "source": [
    "# Read IDL output for rescaled QPQ g_UV values \n",
    "data = ascii.read('QPQ_gUV_idl_output.txt')\n",
    "c_idl = SkyCoord(data['FG_RA']*u.deg,data['FG_DEC']*u.deg)\n",
    "for qq,cc in enumerate(c_QPQ9):\n",
    "    index = np.where(cc.separation(c_idl) < 0.5*u.arcsec)[0]\n",
    "    if len(index) == 1:\n",
    "        QPQ9[qq]['G_UV'] = data[index]['NEW_GUV']\n",
    "# Read IDL output for new g_UV values\n",
    "data = ascii.read('no_gUV_idl_output.txt')\n",
    "c_idl = SkyCoord(data['FG_RA']*u.deg,data['FG_DEC']*u.deg)\n",
    "for qq,cc in enumerate(c_QPQ9):\n",
    "    index = np.where(cc.separation(c_idl) < 0.5*u.arcsec)[0]\n",
    "    if len(index) == 1:\n",
    "        QPQ9[qq]['G_UV'] = data[index]['GUV']"
   ]
  },
  {
   "cell_type": "code",
   "execution_count": 9,
   "metadata": {
    "collapsed": true
   },
   "outputs": [],
   "source": [
    "# write\n",
    "xxf.table_to_fits(QPQ9,'qpq9_final.fits')"
   ]
  },
  {
   "cell_type": "markdown",
   "metadata": {},
   "source": [
    "# Update systematic offsets and scatters of emission lines to Shen+16 "
   ]
  },
  {
   "cell_type": "code",
   "execution_count": 10,
   "metadata": {
    "collapsed": false
   },
   "outputs": [
    {
     "name": "stdout",
     "output_type": "stream",
     "text": [
      "x.fits.bintab_to_table: Reading qpq9_final.fits\n"
     ]
    }
   ],
   "source": [
    "# Add the systematic biases, intrinsic scatter + measurement scatter\n",
    "QPQ9 = xxf.bintab_to_table('qpq9_final.fits')\n",
    "for ii,qq in enumerate(QPQ9):\n",
    "    if qq['ZFG_LINE'] == 'MgII':\n",
    "        # bring to z_em \n",
    "        qq['Z_FG'] = ltu.z_from_dv(+70.*u.km/u.s,qq['Z_FG'])\n",
    "        # bring to z_sys\n",
    "        qq['Z_FG'] = ltu.z_from_dv(+57.*u.km/u.s,qq['Z_FG'])\n",
    "        # scatter\n",
    "        qq['Z_FSIG'] = 226\n",
    "    if qq['ZFG_LINE'] == 'H$\\\\beta$':\n",
    "        # bring to z_sys\n",
    "        qq['Z_FG'] = ltu.z_from_dv(+109.*u.km/u.s,qq['Z_FG'])\n",
    "        # scatter \n",
    "        qq['Z_FSIG'] = 417\n",
    "    if qq['ZFG_LINE'] == '[OIII]':\n",
    "        # bring to z_em \n",
    "        qq['Z_FG'] = ltu.z_from_dv(-27.*u.km/u.s,qq['Z_FG'])\n",
    "        # bring to z_sys\n",
    "        qq['Z_FG'] = ltu.z_from_dv(+48.*u.km/u.s,qq['Z_FG'])\n",
    "        # scatter\n",
    "        qq['Z_FSIG'] = 68\n",
    "    if qq['ZFG_LINE'] == 'H$\\\\alpha$':\n",
    "        # scatter\n",
    "        qq['Z_FSIG'] = 300\n",
    "    if qq['ZFG_LINE'] == 'SDSS-HW':\n",
    "        if qq['Z_FG'] >= 0.84:\n",
    "            # MgII redshift, bring to z_sys\n",
    "            qq['Z_FG'] = ltu.z_from_dv(+57.*u.km/u.s,qq['Z_FG'])\n",
    "            # scatter\n",
    "            qq['Z_FSIG'] = 226\n",
    "        else:\n",
    "            # [OIII] redshift, bring to zsys\n",
    "            qq['Z_FG'] = ltu.z_from_dv(+48.*u.km/u.s,qq['Z_FG'])\n",
    "            # scatter\n",
    "            qq['Z_FSIG'] = 68"
   ]
  },
  {
   "cell_type": "code",
   "execution_count": 11,
   "metadata": {
    "collapsed": true
   },
   "outputs": [],
   "source": [
    "# write\n",
    "xxf.table_to_fits(QPQ9,'qpq9_final.fits')"
   ]
  },
  {
   "cell_type": "markdown",
   "metadata": {},
   "source": [
    "# copy to enigma"
   ]
  },
  {
   "cell_type": "code",
   "execution_count": 14,
   "metadata": {
    "collapsed": false
   },
   "outputs": [
    {
     "data": {
      "text/plain": [
       "573"
      ]
     },
     "execution_count": 14,
     "metadata": {},
     "output_type": "execute_result"
    }
   ],
   "source": [
    "!cp qpq9_final.fits /Users/lwymarie/python/enigma/enigma/data/qpq/qpq9_final.fits\n",
    "len(QPQ9)"
   ]
  },
  {
   "cell_type": "code",
   "execution_count": 12,
   "metadata": {
    "collapsed": false
   },
   "outputs": [
    {
     "name": "stdout",
     "output_type": "stream",
     "text": [
      "x.fits.bintab_to_table: Reading qpq9_final.fits\n"
     ]
    }
   ],
   "source": [
    "QPQ9 = xxf.bintab_to_table('qpq9_final.fits')"
   ]
  },
  {
   "cell_type": "code",
   "execution_count": 13,
   "metadata": {
    "collapsed": false
   },
   "outputs": [
    {
     "data": {
      "text/plain": [
       "(573, <QTable length=20>\n",
       "      Z_FG      ZFG_LINE      NAME     \n",
       "    float64      str36       str14     \n",
       " -------------- -------- --------------\n",
       " 0.803720759758  SDSS-HW BOSSJ1215+6538\n",
       " 0.471676613109  SDSS-HW BOSSJ1215+1954\n",
       "  1.11163241918  SDSS-HW BOSSJ1215+3126\n",
       "    1.929984981   [OIII] BOSSJ1215+5715\n",
       " 0.619317262336  SDSS-HW BOSSJ1218+5739\n",
       " 0.790264645043  SDSS-HW BOSSJ1219+5801\n",
       " 0.585753877852  SDSS-HW BOSSJ1224+3721\n",
       " 0.499351039751  SDSS-HW BOSSJ1224+4307\n",
       "  1.89531880539     MgII BOSSJ1225+5709\n",
       "  1.14180418517  SDSS-HW BOSSJ1227+3518\n",
       " 0.628960811216  SDSS-HW BOSSJ1227-0015\n",
       "  1.24071794373  SDSS-HW BOSSJ1229+3430\n",
       "  1.56775212509  SDSS-HW BOSSJ1231+3515\n",
       "  3.20146788309   [OIII] BOSSJ1231+0029\n",
       " 0.428735737871  SDSS-HW BOSSJ1232+5655\n",
       "  1.55000480596  SDSS-HW BOSSJ1233+1246\n",
       "  1.21183650599  SDSS-HW BOSSJ1235+3758\n",
       "  1.18116372731  SDSS-HW BOSSJ1235+4258\n",
       " 0.558830560183  SDSS-HW BOSSJ1235+6451\n",
       "  1.41772768038  SDSS-HW BOSSJ1238+4634)"
      ]
     },
     "execution_count": 13,
     "metadata": {},
     "output_type": "execute_result"
    }
   ],
   "source": [
    "len(QPQ9),QPQ9['Z_FG','ZFG_LINE','NAME'][320:340]"
   ]
  },
  {
   "cell_type": "code",
   "execution_count": 5,
   "metadata": {
    "collapsed": true
   },
   "outputs": [],
   "source": [
    "from enigma.qpq.qpq import QPQ"
   ]
  },
  {
   "cell_type": "code",
   "execution_count": 6,
   "metadata": {
    "collapsed": false
   },
   "outputs": [
    {
     "name": "stdout",
     "output_type": "stream",
     "text": [
      "Reading /Users/lwymarie/python/enigma/enigma/data/qpq/qpq9_final.fits\n"
     ]
    }
   ],
   "source": []
  },
  {
   "cell_type": "code",
   "execution_count": 13,
   "metadata": {
    "collapsed": false
   },
   "outputs": [
    {
     "name": "stdout",
     "output_type": "stream",
     "text": [
      "Reading /Users/lwymarie/python/enigma/enigma/data/qpq/qpq9_final.fits\n"
     ]
    },
    {
     "data": {
      "text/plain": [
       "63"
      ]
     },
     "execution_count": 13,
     "metadata": {},
     "output_type": "execute_result"
    }
   ],
   "source": [
    "qpq9 = QPQ('QPQ9')\n",
    "qpq9.cull(1334.5323*u.AA,4)\n",
    "len(qpq9.data)\n",
    "qpq9.cull(1334.5323*u.AA,4,vsig_cut=400*u.km/u.s)\n",
    "len(qpq9.data)"
   ]
  },
  {
   "cell_type": "code",
   "execution_count": 35,
   "metadata": {
    "collapsed": false
   },
   "outputs": [
    {
     "name": "stdout",
     "output_type": "stream",
     "text": [
      "(u'01h49m17.1049s -00d21m41.6461s', 1.6833870125798169)\n",
      "(u'04h09m55.872s -04d11m26.9365s', 1.7166496442640746)\n",
      "(u'07h52m59.8146s +40d11m28.2199s', 1.8844190841086819)\n",
      "(u'08h28m43.368s +45d45m17.2955s', 1.8730148656904626)\n",
      "(u'08h37m13.5609s +36d30m37.3449s', 1.8363777779524164)\n",
      "(u'09h24m17.6496s +39d29m20.2547s', 1.8864405377263427)\n",
      "(u'10h05m09.5996s +50d19m29.7953s', 1.8176172572629186)\n",
      "(u'10h09m41.3471s +25d01m04.0768s', 1.8702530472315959)\n",
      "(u'10h41m43.0992s +19d57m22.1954s', 1.8477168805195892)\n",
      "(u'11h45m46.54s +03d22m36.7476s', 1.7663892099787759)\n",
      "(u'13h27m40.582s +34d23m23.7427s', 1.6495955829403552)\n",
      "(u'13h58m49.7126s +27d38m06.8626s', 1.9008334067438883)\n",
      "(u'14h13m37.1791s +27d15m17.0969s', 1.6904535135359973)\n",
      "(u'14h31m09.6746s +57d27m28.9987s', 1.6801735572566385)\n",
      "(u'14h42m32.9167s +01d37m30.4042s', 1.8079358659220282)\n",
      "(u'15h08m14.0616s +36d35m29.357s', 1.8493088795958224)\n",
      "(u'15h33m28.8312s +14d25m42.5012s', 2.0781896649076277)\n",
      "(u'15h59m47.7342s +49d43m07.2919s', 1.8614915067315916)\n",
      "Database is igmspec\n",
      "Created on 2016-Dec-13\n"
     ]
    }
   ],
   "source": [
    "for qq in QPQ9:\n",
    "    if (1.6 < qq['Z_FG'] < 2.1) and (qq['ZFG_LINE'] == 'MgII'):\n",
    "        print(SkyCoord(qq['FG_RA']*u.deg,qq['FG_DEC']*u.deg).to_string('hmsdms'),qq['Z_FG'])\n",
    "igmsp = IgmSpec()\n",
    "ID_fg, ID_bg = igmsp.qcat.pairs(0.92*u.arcmin, 3000.*u.km/u.s) # at z = 0.4, 0.92' = 300 kpc\n",
    "c_igmsp = SkyCoord(igmsp.cat['RA'][ID_fg]*u.deg,igmsp.cat['DEC'][ID_fg]*u.deg)\n",
    "c_igmsp_bg = SkyCoord(igmsp.cat['RA'][ID_bg]*u.deg,igmsp.cat['DEC'][ID_bg]*u.deg)\n",
    "kpc_amin = cosmo.kpc_proper_per_arcmin(igmsp.cat['zem'][ID_fg])\n",
    "ang_sep = c_igmsp.separation(c_igmsp_bg).to('arcmin')"
   ]
  },
  {
   "cell_type": "code",
   "execution_count": 100,
   "metadata": {
    "collapsed": false
   },
   "outputs": [
    {
     "data": {
      "text/plain": [
       "(array([], dtype=int64), <SkyCoord (ICRS): (ra, dec) in deg\n",
       "     []>)"
      ]
     },
     "execution_count": 100,
     "metadata": {},
     "output_type": "execute_result"
    }
   ],
   "source": [
    "overlap = np.where(c_igmsp.separation(SkyCoord('15h59m47.7342s +49d43m07.2919s'))\n",
    "                                      < 5*u.arcsec)[0]\n",
    "overlap,c_igmsp[overlap]\n",
    "#print(ltu.z_from_dv(+57.*u.km/u.s,igmsp.cat['zem'][ID_fg[overlap]][0]))"
   ]
  },
  {
   "cell_type": "code",
   "execution_count": 20,
   "metadata": {
    "collapsed": false
   },
   "outputs": [
    {
     "data": {
      "text/plain": [
       "0"
      ]
     },
     "execution_count": 20,
     "metadata": {},
     "output_type": "execute_result"
    }
   ],
   "source": [
    "count = 0 \n",
    "for qq in QPQ9:\n",
    "    if (qq['ZFG_LINE'] == 'SDSS-HW') and (1.6 < qq['Z_FG']):\n",
    "        print(SkyCoord(qq['FG_RA']*u.deg,qq['FG_DEC']*u.deg).to_string('hmsdms'),qq['Z_FG'],qq['BG_Z'])\n",
    "        count += 1\n",
    "count"
   ]
  },
  {
   "cell_type": "code",
   "execution_count": 7,
   "metadata": {
    "collapsed": false
   },
   "outputs": [
    {
     "data": {
      "text/plain": [
       "2897.6905000000006"
      ]
     },
     "execution_count": 7,
     "metadata": {},
     "output_type": "execute_result"
    }
   ],
   "source": [
    "2800*(1+1.6002)-1215*(1+2.6073)"
   ]
  },
  {
   "cell_type": "code",
   "execution_count": null,
   "metadata": {
    "collapsed": true
   },
   "outputs": [],
   "source": []
  }
 ],
 "metadata": {
  "kernelspec": {
   "display_name": "Python 2",
   "language": "python",
   "name": "python2"
  },
  "language_info": {
   "codemirror_mode": {
    "name": "ipython",
    "version": 2
   },
   "file_extension": ".py",
   "mimetype": "text/x-python",
   "name": "python",
   "nbconvert_exporter": "python",
   "pygments_lexer": "ipython2",
   "version": "2.7.12"
  }
 },
 "nbformat": 4,
 "nbformat_minor": 0
}
