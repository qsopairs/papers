{
 "cells": [
  {
   "cell_type": "markdown",
   "metadata": {},
   "source": [
    "# QPQ9 Sample"
   ]
  },
  {
   "cell_type": "code",
   "execution_count": 1,
   "metadata": {
    "collapsed": true
   },
   "outputs": [],
   "source": [
    "%matplotlib inline"
   ]
  },
  {
   "cell_type": "code",
   "execution_count": 2,
   "metadata": {
    "collapsed": true
   },
   "outputs": [],
   "source": [
    "# imports\n",
    "from scipy.io import readsav as scirs\n",
    "import copy, os, glob, imp\n",
    "import numpy as np\n",
    "\n",
    "from astropy.coordinates import SkyCoord\n",
    "from astropy import units as u\n",
    "from astropy.table import Column, Table\n",
    "\n",
    "from xastropy.xutils import fits as xxf\n",
    "from specdb.specdb import IgmSpec\n",
    "\n",
    "from linetools import utils as ltu\n",
    "\n",
    "from astropy.cosmology import FlatLambdaCDM\n",
    "cosmo = FlatLambdaCDM(H0=70, Om0=0.26)"
   ]
  },
  {
   "cell_type": "markdown",
   "metadata": {},
   "source": [
    "## QPQ Sample Code\n",
    "Modifying lya_qpq_sample.pro in pro/data/photo\n",
    "\n",
    "Created QPQ-CGM-IR  [Joe did]\n",
    "\n",
    "QPQ-CGM-IR_00.000-00.300_Sat-Apr-25-21:33:45-2015.sav\n",
    "\n",
    "### Try MgII $z_{\\rm em}$ someday"
   ]
  },
  {
   "cell_type": "markdown",
   "metadata": {},
   "source": [
    "## Read the Sample and Collate"
   ]
  },
  {
   "cell_type": "code",
   "execution_count": 319,
   "metadata": {
    "collapsed": false
   },
   "outputs": [
    {
     "name": "stdout",
     "output_type": "stream",
     "text": [
      "x.fits.bintab_to_table: Reading /Users/lwymarie/Dropbox//QSOPairs/QPQ-CGM-IR/QPQ-CGM-IR_00.000-00.300_Tue-May-26-18:12:57-2015_qsobg.fits\n",
      "x.fits.bintab_to_table: Reading /Users/lwymarie/Dropbox//QSOPairs/QPQ-CGM-IR/QPQ-CGM-IR_00.000-00.300_Tue-May-26-18:12:57-2015_qsofg.fits\n"
     ]
    }
   ],
   "source": [
    "# IDL savefile read failed..\n",
    "#dat = scirs(os.getenv('DROPBOX_DIR')+'/QSOPairs/QSO-CGM-IR/QPQ-CGM-IR_00.000-00.300_Sat-Apr-25-21:33:45-2015.sav',verbose=True)\n",
    "#dat\n",
    "\n",
    "# Wrote a binary FITS table from IDL\n",
    "#bgfil = 'QPQ-CGM-IR_00.000-00.300_Sat-Apr-25-21:33:45-2015_qsobg.fits.gz'\n",
    "#fgfil = 'QPQ-CGM-IR_00.000-00.300_Sat-Apr-25-21:33:45-2015_qsofg.fits.gz'\n",
    "#\n",
    "bgfil = 'QPQ-CGM-IR_00.000-00.300_Tue-May-26-18:12:57-2015_qsobg.fits'\n",
    "fgfil = 'QPQ-CGM-IR_00.000-00.300_Tue-May-26-18:12:57-2015_qsofg.fits'\n",
    "#\n",
    "qso_bg = xxf.bintab_to_table(os.getenv('DROPBOX_DIR')+'/QSOPairs/QPQ-CGM-IR/'+bgfil)\n",
    "#\n",
    "qso_fg = xxf.bintab_to_table(os.getenv('DROPBOX_DIR')+'/QSOPairs/QPQ-CGM-IR/'+fgfil)\n",
    "#qso_fg[['NAME','LYA_FILE', 'Z_IR']]"
   ]
  },
  {
   "cell_type": "code",
   "execution_count": 321,
   "metadata": {
    "collapsed": false
   },
   "outputs": [
    {
     "data": {
      "text/plain": [
       "34"
      ]
     },
     "execution_count": 321,
     "metadata": {},
     "output_type": "execute_result"
    }
   ],
   "source": [
    "# Collate Tables, calculate R_perp\n",
    "qpq9 = copy.deepcopy(qso_bg)\n",
    "# Add/replce key columns from qso_fg\n",
    "oldc = ['Z_IR','SIGMA_ZIR', 'RA', 'DEC']\n",
    "newc = ['FG_ZIR', 'FG_SIG_ZIR', 'FG_RA', 'FG_DEC']\n",
    "for jj,ioldc in enumerate(oldc):\n",
    "    tmpc = Column( qso_fg[ioldc], name=newc[jj])\n",
    "    #print newc[jj]\n",
    "    qpq9.add_column( tmpc )\n",
    "# \n",
    "qpq9['G_UV'] = qso_fg['G_UV']\n",
    "qpq9.add_column( Column( qso_bg['Z_TOT'], name='BG_Z') )\n",
    "len(qpq9)"
   ]
  },
  {
   "cell_type": "markdown",
   "metadata": {},
   "source": [
    "### Rphys"
   ]
  },
  {
   "cell_type": "code",
   "execution_count": 322,
   "metadata": {
    "collapsed": true
   },
   "outputs": [],
   "source": [
    "# Coordinates\n",
    "c_fg = SkyCoord(ra=qpq9['FG_RA']*u.deg, dec=qpq9['FG_DEC']*u.deg)\n",
    "c_bg = SkyCoord(ra=qpq9['RA']*u.deg, dec=qpq9['DEC']*u.deg)\n",
    "# Separation\n",
    "kpc_amin = cosmo.kpc_proper_per_arcmin( qpq9['FG_ZIR'] ) # kpc per arcmin\n",
    "ang_sep = c_fg.separation(c_bg).to('arcmin')\n",
    "Rphys = kpc_amin * ang_sep\n",
    "# Add\n",
    "if 'R_PHYS' not in qpq9.dtype.names:\n",
    "    qpq9.add_column(Column( Rphys, name='R_PHYS'))\n",
    "#qpq9[['NAME', 'RA', 'DEC', 'R_PHYS', 'LYA_FILE', 'FG_ZIR']][0:3]\n",
    "#xdb.xhist(qpq9['R_PHYS'].value)"
   ]
  },
  {
   "cell_type": "markdown",
   "metadata": {},
   "source": [
    "## Cuts"
   ]
  },
  {
   "cell_type": "code",
   "execution_count": 331,
   "metadata": {
    "collapsed": false
   },
   "outputs": [
    {
     "name": "stdout",
     "output_type": "stream",
     "text": [
      "We have 33 pairs in QPQ9\n"
     ]
    },
    {
     "data": {
      "text/plain": [
       "(['RUN',\n",
       "  'RERUN',\n",
       "  'CAMCOL',\n",
       "  'FIELD',\n",
       "  'ID',\n",
       "  'PARENT',\n",
       "  'NCHILD',\n",
       "  'OBJC_TYPE',\n",
       "  'OBJC_PROB_PSF',\n",
       "  'OBJC_FLAGS',\n",
       "  'OBJC_FLAGS2',\n",
       "  'OBJC_ROWC',\n",
       "  'OBJC_ROWCERR',\n",
       "  'OBJC_COLC',\n",
       "  'OBJC_COLCERR',\n",
       "  'ROWV',\n",
       "  'ROWVERR',\n",
       "  'COLV',\n",
       "  'COLVERR',\n",
       "  'ROWC',\n",
       "  'ROWCERR',\n",
       "  'COLC',\n",
       "  'COLCERR',\n",
       "  'PSFCOUNTSERR',\n",
       "  'FIBERCOUNTSERR',\n",
       "  'FIBER2COUNTSERR',\n",
       "  'PETROCOUNTSERR',\n",
       "  'PETRORAD',\n",
       "  'PETRORADERR',\n",
       "  'PETROR50',\n",
       "  'PETROR50ERR',\n",
       "  'PETROR90',\n",
       "  'PETROR90ERR',\n",
       "  'Q',\n",
       "  'QERR',\n",
       "  'U',\n",
       "  'UERR',\n",
       "  'M_E1',\n",
       "  'M_E2',\n",
       "  'M_E1E1ERR',\n",
       "  'M_E1E2ERR',\n",
       "  'M_E2E2ERR',\n",
       "  'M_RR_CC',\n",
       "  'M_RR_CCERR',\n",
       "  'M_CR4',\n",
       "  'M_E1_PSF',\n",
       "  'M_E2_PSF',\n",
       "  'M_RR_CC_PSF',\n",
       "  'M_CR4_PSF',\n",
       "  'ISO_ROWC',\n",
       "  'ISO_ROWCERR',\n",
       "  'ISO_ROWCGRAD',\n",
       "  'ISO_COLC',\n",
       "  'ISO_COLCERR',\n",
       "  'ISO_COLCGRAD',\n",
       "  'ISO_A',\n",
       "  'ISO_AERR',\n",
       "  'ISO_AGRAD',\n",
       "  'ISO_B',\n",
       "  'ISO_BERR',\n",
       "  'ISO_BGRAD',\n",
       "  'ISO_PHIGRAD',\n",
       "  'R_DEV',\n",
       "  'R_DEVERR',\n",
       "  'AB_DEV',\n",
       "  'AB_DEVERR',\n",
       "  'COUNTS_DEVERR',\n",
       "  'R_EXP',\n",
       "  'R_EXPERR',\n",
       "  'AB_EXP',\n",
       "  'AB_EXPERR',\n",
       "  'COUNTS_EXPERR',\n",
       "  'COUNTS_MODELERR',\n",
       "  'STAR_LNL',\n",
       "  'EXP_LNL',\n",
       "  'DEV_LNL',\n",
       "  'FRACPSF',\n",
       "  'FLAGS',\n",
       "  'FLAGS2',\n",
       "  'TYPE',\n",
       "  'PROB_PSF',\n",
       "  'NPROF',\n",
       "  'TAI',\n",
       "  'PSP_STATUS',\n",
       "  'PIXSCALE',\n",
       "  'RA',\n",
       "  'DEC',\n",
       "  'OFFSETRA',\n",
       "  'OFFSETDEC',\n",
       "  'PSF_FWHM',\n",
       "  'MJD',\n",
       "  'AIRMASS',\n",
       "  'PHI_OFFSET',\n",
       "  'PHI_ISO_DEG',\n",
       "  'PHI_DEV_DEG',\n",
       "  'PHI_EXP_DEG',\n",
       "  'EXTINCTION',\n",
       "  'SKYFLUX',\n",
       "  'SKYFLUX_IVAR',\n",
       "  'PSFFLUX',\n",
       "  'PSFFLUX_IVAR',\n",
       "  'FIBERFLUX',\n",
       "  'FIBERFLUX_IVAR',\n",
       "  'FIBER2FLUX',\n",
       "  'FIBER2FLUX_IVAR',\n",
       "  'MODELFLUX',\n",
       "  'MODELFLUX_IVAR',\n",
       "  'PETROFLUX',\n",
       "  'PETROFLUX_IVAR',\n",
       "  'DEVFLUX',\n",
       "  'DEVFLUX_IVAR',\n",
       "  'EXPFLUX',\n",
       "  'EXPFLUX_IVAR',\n",
       "  'APERFLUX',\n",
       "  'APERFLUX_IVAR',\n",
       "  'CLOUDCAM',\n",
       "  'CALIB_STATUS',\n",
       "  'NMGYPERCOUNT',\n",
       "  'NMGYPERCOUNT_IVAR',\n",
       "  'RESOLVE_STATUS',\n",
       "  'THING_ID',\n",
       "  'IFIELD',\n",
       "  'BALKAN_ID',\n",
       "  'NOBSERVE',\n",
       "  'NDETECT',\n",
       "  'NEDGE',\n",
       "  'TWOQZ_NAME',\n",
       "  'TWOQZ_RA',\n",
       "  'TWOQZ_DEC',\n",
       "  'TWOQZ_CAT_NUMBER',\n",
       "  'TWOQZ_CAT_NAME',\n",
       "  'TWOQZ_SECTOR',\n",
       "  'TWOQZ_UKST_FIELD',\n",
       "  'TWOQZ_B',\n",
       "  'TWOQZ_U_MIN_B',\n",
       "  'TWOQZ_B_MIN_R',\n",
       "  'TWOQZ_Z',\n",
       "  'TWOQZ_Q',\n",
       "  'TWOQZ_ID',\n",
       "  'TWOQZ_DATE',\n",
       "  'TWOQZ_FIELD',\n",
       "  'TWOQZ_FIBRE',\n",
       "  'TWOQZ_S_N',\n",
       "  'TWOQZ_RADIO',\n",
       "  'TWOQZ_XRAY',\n",
       "  'TWOQZ_COMMENTS1',\n",
       "  'TWOQZ_COMMENTS2',\n",
       "  'TWOQZ_QSO',\n",
       "  'TWOQZ_NMATCH',\n",
       "  'TWOQZ_MATCHDIST',\n",
       "  'FIRST_RA',\n",
       "  'FIRST_DEC',\n",
       "  'FIRST_WARNING',\n",
       "  'FIRST_FINT',\n",
       "  'FIRST_FPEAK',\n",
       "  'FIRST_RMS',\n",
       "  'FIRST_MAJ',\n",
       "  'FIRST_MIN',\n",
       "  'FIRST_PA',\n",
       "  'FIRST_FMAJ',\n",
       "  'FIRST_FMIN',\n",
       "  'FIRST_FPA',\n",
       "  'FIRST_SKYRMS',\n",
       "  'FIRST_MATCHDIST',\n",
       "  'FIRST_NMATCH',\n",
       "  'TMASS_RA',\n",
       "  'TMASS_DEC',\n",
       "  'TMASS_ERR_MAJ',\n",
       "  'TMASS_ERR_MIN',\n",
       "  'TMASS_ERR_ANG',\n",
       "  'TMASS_J',\n",
       "  'TMASS_J_IVAR',\n",
       "  'TMASS_H',\n",
       "  'TMASS_H_IVAR',\n",
       "  'TMASS_K',\n",
       "  'TMASS_K_IVAR',\n",
       "  'TMASS_PH_QUAL',\n",
       "  'TMASS_RD_FLG',\n",
       "  'TMASS_BL_FLG',\n",
       "  'TMASS_CC_FLG',\n",
       "  'TMASS_GAL_CONTAM',\n",
       "  'TMASS_MP_FLG',\n",
       "  'TMASS_JDATE',\n",
       "  'TMASS_DUP_SRC',\n",
       "  'TMASS_MATCHDIST',\n",
       "  'TMASS_NMATCH',\n",
       "  'LYA_RA',\n",
       "  'LYA_DEC',\n",
       "  'TELESCOPE',\n",
       "  'Z_TOT',\n",
       "  'Z_IR',\n",
       "  'SIGMA_ZIR',\n",
       "  'IR_OBS',\n",
       "  'IR_ZFLAG',\n",
       "  'IR_ZLINE',\n",
       "  'LYA_ZPHOT',\n",
       "  'LYA_ZMIN',\n",
       "  'LYA_ZMAX',\n",
       "  'PLATE',\n",
       "  'FIBERID',\n",
       "  'MJD_SPEC',\n",
       "  'RUN2D',\n",
       "  'RUN1D',\n",
       "  'Z',\n",
       "  'Z_ERR',\n",
       "  'Z_PERSON',\n",
       "  'Z_CONF_PERSON',\n",
       "  'ZEM',\n",
       "  'CLASS_PERSON',\n",
       "  'SPECPRIMARY',\n",
       "  'ZWARNING',\n",
       "  'CLASS',\n",
       "  'PROGRAMNAME',\n",
       "  'PRIMTARGET',\n",
       "  'SURVEY',\n",
       "  'SOURCE',\n",
       "  'SPECTRO_NMATCH',\n",
       "  'MYERS_MATCH',\n",
       "  'G_UV',\n",
       "  'LOGLV',\n",
       "  'M912',\n",
       "  'F_C_QSO',\n",
       "  'F_C_UVB',\n",
       "  'LOG_DNDT',\n",
       "  'SB_QSO',\n",
       "  'SB_UVB',\n",
       "  'J_AB',\n",
       "  'H_AB',\n",
       "  'K_AB',\n",
       "  'NAME',\n",
       "  'LYA_INSTRUMENT',\n",
       "  'LYA_FILE',\n",
       "  'LYA_FILEPATH',\n",
       "  'SN_RATIO',\n",
       "  'LRIS_SPEC',\n",
       "  'LRIS_BLU_FILES',\n",
       "  'LRIS_NBLU',\n",
       "  'LRIS_RED_FILES',\n",
       "  'LRIS_NRED',\n",
       "  'GMOS_SPEC',\n",
       "  'GMOS_FILES',\n",
       "  'GMOS_NFIL',\n",
       "  'MODS_SPEC',\n",
       "  'MODS_BLU_FILE',\n",
       "  'MODS_RED_FILE',\n",
       "  'MMT_SPEC',\n",
       "  'MMT_FILE',\n",
       "  'MAGE_SPEC',\n",
       "  'MAGE_FILE',\n",
       "  'ESI_SPEC',\n",
       "  'ESI_FILE',\n",
       "  'XSHOOTER_SPEC',\n",
       "  'XSHOOTER_FILE',\n",
       "  'MIKE_SPEC',\n",
       "  'MIKE_FILE',\n",
       "  'SDSS_SPEC',\n",
       "  'SDSS_FILE',\n",
       "  'BOSS_SPEC',\n",
       "  'BOSS_FILE',\n",
       "  'BOSS_PUBLIC',\n",
       "  'STAR_ID',\n",
       "  'FG_ZIR',\n",
       "  'FG_SIG_ZIR',\n",
       "  'FG_RA',\n",
       "  'FG_DEC',\n",
       "  'BG_Z',\n",
       "  'R_PHYS'],\n",
       " 'BOSSJ1231+0029')"
      ]
     },
     "execution_count": 331,
     "metadata": {},
     "output_type": "execute_result"
    }
   ],
   "source": [
    "# Lya beta\n",
    "zLya_beta = (qpq9['BG_Z']+1)*1025.7223 / 1215.6701 - 1\n",
    "dv_beta = ltu.v_from_z(qpq9['FG_ZIR'], zLya_beta)\n",
    "gd_beta = dv_beta > (-500*u.km/u.s)\n",
    "#\n",
    "qpq9 = qpq9[gd_beta]\n",
    "print('We have {:d} pairs in QPQ9'.format(len(qpq9)))\n",
    "#xdb.xpcol(zLya_beta, qpq9['FG_ZIR'], qpq9['BG_Z'])"
   ]
  },
  {
   "cell_type": "markdown",
   "metadata": {},
   "source": [
    "## Write"
   ]
  },
  {
   "cell_type": "code",
   "execution_count": 25,
   "metadata": {
    "collapsed": true
   },
   "outputs": [],
   "source": [
    "# Don't write. The current qpq9_zIR.fits made by Joe/X have more columns then what the code above gives. \n",
    "#xxf.table_to_fits(qpq9, 'qpq9_zIR.fits')"
   ]
  },
  {
   "cell_type": "markdown",
   "metadata": {},
   "source": [
    "# Make a new sample merging QPQ9_zIR and QPQ7 cut for MgII and 300 kpc"
   ]
  },
  {
   "cell_type": "code",
   "execution_count": 32,
   "metadata": {
    "collapsed": false
   },
   "outputs": [
    {
     "name": "stdout",
     "output_type": "stream",
     "text": [
      "x.fits.bintab_to_table: Reading qpq9_zIR.fits\n",
      "x.fits.bintab_to_table: Reading /Users/lwymarie/python/enigma/enigma/data/qpq/qpq7_pairs.fits.gz\n"
     ]
    }
   ],
   "source": [
    "zIR_fil = 'qpq9_zIR.fits'\n",
    "QPQ7_fil = imp.find_module('enigma')[1] + '/data/qpq/qpq7_pairs.fits.gz'\n",
    "QPQ_zIR = xxf.bintab_to_table(zIR_fil)\n",
    "QPQ7 = xxf.bintab_to_table(QPQ7_fil)"
   ]
  },
  {
   "cell_type": "code",
   "execution_count": 50,
   "metadata": {
    "collapsed": false
   },
   "outputs": [
    {
     "data": {
      "text/html": [
       "&lt;Row index=26&gt;\n",
       "<table id=\"table4381300368\">\n",
       "<thead><tr><th>ZEM</th><th>Z_TOT</th><th>FG_ZIR</th></tr></thead>\n",
       "<thead><tr><th>float32</th><th>float64</th><th>float64</th></tr></thead>\n",
       "<tr><td>2.33995</td><td>2.33995008469</td><td>2.2750001</td></tr>\n",
       "</table>"
      ],
      "text/plain": [
       "<Row index=26>\n",
       "  ZEM       Z_TOT       FG_ZIR \n",
       "float32    float64     float64 \n",
       "------- ------------- ---------\n",
       "2.33995 2.33995008469 2.2750001"
      ]
     },
     "execution_count": 50,
     "metadata": {},
     "output_type": "execute_result"
    }
   ],
   "source": [
    "c = SkyCoord(QPQ_zIR['FG_RA']*u.deg,QPQ_zIR['FG_DEC']*u.deg)\n",
    "c.to_string('hmsdms')[26]\n",
    "QPQ_zIR['ZEM','Z_TOT','FG_ZIR'][26]"
   ]
  },
  {
   "cell_type": "code",
   "execution_count": 15,
   "metadata": {
    "collapsed": false
   },
   "outputs": [
    {
     "data": {
      "text/plain": [
       "31"
      ]
     },
     "execution_count": 15,
     "metadata": {},
     "output_type": "execute_result"
    }
   ],
   "source": [
    "new_qpq9 = copy.deepcopy(QPQ_zIR)\n",
    "new_qpq9.rename_column('FG_ZIR', 'Z_FG')\n",
    "new_qpq9.rename_column('FG_SIG_ZIR','Z_FSIG')\n",
    "for ii,qq in enumerate(new_qpq9):\n",
    "    try:\n",
    "        assert 'J1433+0641' in qq['NAME'] # redshift is Null in the zIR structure \n",
    "        new_qpq9.remove_row(ii)\n",
    "        break\n",
    "    except AssertionError:\n",
    "        pass\n",
    "len(new_qpq9)"
   ]
  },
  {
   "cell_type": "code",
   "execution_count": 16,
   "metadata": {
    "collapsed": false
   },
   "outputs": [],
   "source": [
    "c_QPQzIR = SkyCoord(ra=QPQ_zIR['FG_RA']*u.deg, dec=QPQ_zIR['FG_DEC']*u.deg)\n",
    "c_QPQ7 = SkyCoord(ra=QPQ7['RAD']*u.deg, dec=QPQ7['DECD']*u.deg)\n",
    "c_QPQ7_bg = SkyCoord(ra=QPQ7['RAD_BG']*u.deg,dec=QPQ7['DECD_BG']*u.deg)\n",
    "kpc_amin = cosmo.kpc_proper_per_arcmin(QPQ7['Z_FG'])\n",
    "ang_sep = c_QPQ7.separation(c_QPQ7_bg).to('arcmin')\n",
    "                                          \n",
    "for qq,cc in enumerate(c_QPQ7):\n",
    "    # do not copy the entry with wrong spectral file \n",
    "    wrong_c = SkyCoord(ra=8.59753707028004*u.deg,dec=-10.832307685613417*u.deg)\n",
    "    if c_QPQ7_bg[qq].separation(wrong_c).to('arcsec') < 0.5*u.arcsec:\n",
    "        continue\n",
    "    if len(np.where(cc.separation(c_QPQzIR).to('arcsec') < 0.5*u.arcsec)[0]) == 0:\n",
    "        if kpc_amin[qq]*ang_sep[qq] < 300*u.kpc:\n",
    "            if QPQ7['Z_FSIG'][qq] < 300:\n",
    "                new_qpq9.add_row({'FG_RA':QPQ7['RAD'][qq],'FG_DEC':QPQ7['DECD'][qq],'NAME':QPQ7['QSO_BG'][qq],\n",
    "                        'RA':QPQ7['RAD_BG'][qq],'DEC':QPQ7['DECD_BG'][qq],'Z_FG':QPQ7['Z_FG'][qq],'Z_FSIG':272,\n",
    "                        'BG_Z':QPQ7['Z_BG'][qq],'R_PHYS':QPQ7['R_PHYS'][qq],'ZFG_LINE':'MgII'})\n",
    "\n",
    "new_qpq9.sort(['FG_RA','FG_DEC'])"
   ]
  },
  {
   "cell_type": "code",
   "execution_count": 17,
   "metadata": {
    "collapsed": false
   },
   "outputs": [
    {
     "data": {
      "text/plain": [
       "55"
      ]
     },
     "execution_count": 17,
     "metadata": {},
     "output_type": "execute_result"
    }
   ],
   "source": [
    "# write\n",
    "xxf.table_to_fits(new_qpq9,'qpq9_final.fits')\n",
    "len(new_qpq9)"
   ]
  },
  {
   "cell_type": "code",
   "execution_count": 10,
   "metadata": {
    "collapsed": false
   },
   "outputs": [
    {
     "data": {
      "text/html": [
       "&lt;QTable length=55&gt;\n",
       "<table id=\"table4539264528\" class=\"table-striped table-bordered table-condensed\">\n",
       "<thead><tr><th>RA</th><th>DEC</th><th>NAME</th><th>ZFG_LINE</th></tr></thead>\n",
       "<thead><tr><th>float64</th><th>float64</th><th>str14</th><th>str36</th></tr></thead>\n",
       "<tr><td>14.3287633684</td><td>-0.0263108702349</td><td>BOSSJ0057-0001</td><td>[OIII]</td></tr>\n",
       "<tr><td>27.3227662484</td><td>-0.366242429577</td><td>SDSSJ0149-0021</td><td>MgII</td></tr>\n",
       "<tr><td>36.3312696693</td><td>0.806583821575</td><td>BOSSJ0225+0048</td><td>[OII]</td></tr>\n",
       "<tr><td>37.5832882888</td><td>-3.55444111362</td><td>BOSSJ0230-0333</td><td>MgII</td></tr>\n",
       "<tr><td>55.4133096521</td><td>-0.00353495681141</td><td>SDSSJ0341-0000</td><td>MgII</td></tr>\n",
       "<tr><td>62.4758752949</td><td>-4.19363997107</td><td>SDSSJ0409-0411</td><td>MgII</td></tr>\n",
       "<tr><td>118.246405235</td><td>40.1884027001</td><td>SDSSJ0752+4011</td><td>MgII</td></tr>\n",
       "<tr><td>120.20306832</td><td>35.7086976546</td><td>APOJ0800+3542</td><td>[OIII]</td></tr>\n",
       "<tr><td>127.186963574</td><td>45.7550664137</td><td>SDSSJ0828+4545</td><td>MgII</td></tr>\n",
       "<tr><td>129.302880827</td><td>36.5104726848</td><td>APOJ0837+3630</td><td>MgII</td></tr>\n",
       "<tr><td>...</td><td>...</td><td>...</td><td>...</td></tr>\n",
       "<tr><td>220.632974393</td><td>1.62632570381</td><td>BOSSJ1442+0137</td><td>MgII</td></tr>\n",
       "<tr><td>227.053328443</td><td>36.5917417532</td><td>BOSSJ1508+3635</td><td>MgII</td></tr>\n",
       "<tr><td>233.371547373</td><td>14.4271589391</td><td>BOSSJ1533+1425</td><td>MgII</td></tr>\n",
       "<tr><td>238.357860234</td><td>19.3604704977</td><td>APOJ1553+1921</td><td>[OIII]</td></tr>\n",
       "<tr><td>239.942831927</td><td>49.7240966633</td><td>APOJ1559+4943</td><td>MgII</td></tr>\n",
       "<tr><td>246.907944561</td><td>22.2525847664</td><td>BOSSJ1627+2215</td><td>H$\\beta$</td></tr>\n",
       "<tr><td>246.905200677</td><td>46.1025927908</td><td>APOJ1627+4606</td><td>[OIII]</td></tr>\n",
       "<tr><td>254.318837964</td><td>31.0901376598</td><td>BOSSJ1657+3105</td><td>MgII</td></tr>\n",
       "<tr><td>326.587443252</td><td>-7.88438252337</td><td>APOJ2146-0753</td><td>[OIII]</td></tr>\n",
       "<tr><td>330.701280585</td><td>12.6156341156</td><td>BOSSJ2202+1236</td><td>[OIII]</td></tr>\n",
       "</table>"
      ],
      "text/plain": [
       "<QTable length=55>\n",
       "      RA             DEC             NAME      ZFG_LINE\n",
       "   float64         float64          str14       str36  \n",
       "------------- ----------------- -------------- --------\n",
       "14.3287633684  -0.0263108702349 BOSSJ0057-0001   [OIII]\n",
       "27.3227662484   -0.366242429577 SDSSJ0149-0021     MgII\n",
       "36.3312696693    0.806583821575 BOSSJ0225+0048    [OII]\n",
       "37.5832882888    -3.55444111362 BOSSJ0230-0333     MgII\n",
       "55.4133096521 -0.00353495681141 SDSSJ0341-0000     MgII\n",
       "62.4758752949    -4.19363997107 SDSSJ0409-0411     MgII\n",
       "118.246405235     40.1884027001 SDSSJ0752+4011     MgII\n",
       " 120.20306832     35.7086976546  APOJ0800+3542   [OIII]\n",
       "127.186963574     45.7550664137 SDSSJ0828+4545     MgII\n",
       "129.302880827     36.5104726848 APOJ0837+3630      MgII\n",
       "          ...               ...            ...      ...\n",
       "220.632974393     1.62632570381 BOSSJ1442+0137     MgII\n",
       "227.053328443     36.5917417532 BOSSJ1508+3635     MgII\n",
       "233.371547373     14.4271589391 BOSSJ1533+1425     MgII\n",
       "238.357860234     19.3604704977  APOJ1553+1921   [OIII]\n",
       "239.942831927     49.7240966633 APOJ1559+4943      MgII\n",
       "246.907944561     22.2525847664 BOSSJ1627+2215 H$\\beta$\n",
       "246.905200677     46.1025927908  APOJ1627+4606   [OIII]\n",
       "254.318837964     31.0901376598 BOSSJ1657+3105     MgII\n",
       "326.587443252    -7.88438252337  APOJ2146-0753   [OIII]\n",
       "330.701280585     12.6156341156 BOSSJ2202+1236   [OIII]"
      ]
     },
     "execution_count": 10,
     "metadata": {},
     "output_type": "execute_result"
    }
   ],
   "source": [
    "new_qpq9['RA','DEC','NAME','ZFG_LINE'][0:100]"
   ]
  },
  {
   "cell_type": "markdown",
   "metadata": {},
   "source": [
    "# New XSHOOTER redshifts "
   ]
  },
  {
   "cell_type": "code",
   "execution_count": 18,
   "metadata": {
    "collapsed": false
   },
   "outputs": [
    {
     "name": "stdout",
     "output_type": "stream",
     "text": [
      "x.fits.bintab_to_table: Reading qpq9_final.fits\n"
     ]
    }
   ],
   "source": [
    "new_qpq9 = xxf.bintab_to_table('qpq9_final.fits')\n",
    "c_newqpq9 = SkyCoord(new_qpq9['FG_RA']*u.deg,new_qpq9['FG_DEC']*u.deg)"
   ]
  },
  {
   "cell_type": "code",
   "execution_count": 19,
   "metadata": {
    "collapsed": false
   },
   "outputs": [
    {
     "name": "stdout",
     "output_type": "stream",
     "text": [
      "Using /Users/lwymarie/Desktop/IGMspec_DB_v02.hdf5 for the catalog file\n",
      "Using /Users/lwymarie/Desktop/IGMspec_DB_v02.hdf5 for the DB file\n",
      "Available surveys: [u'BOSS_DR12', u'HSTQSO', u'SDSS_DR7', u'KODIAQ_DR1', u'MUSoDLA', u'HD-LLS_DR1', u'2QZ', u'ESI_DLA', u'HDLA100', u'GGG', u'COS-Halos', u'HST_z2', u'COS-Dwarfs', u'XQ-100']\n",
      "Database is igmspec\n",
      "Created on 2016-Oct-25\n",
      "x.fits.bintab_to_table: Reading /Users/lwymarie/Dropbox/Marie_Enrico/papers/QPQ9/Analysis/Redshifts/zem/SDSSJ091338.30-010708.7_F_zem.fits\n",
      "09h13m38.3s -01d07m08.7s\n",
      "x.fits.bintab_to_table: Reading /Users/lwymarie/Dropbox/Marie_Enrico/papers/QPQ9/Analysis/Redshifts/zem/SDSSJ123143.09+002846.2_F_zem.fits\n",
      "12h31m43.09s +00d28m46.2s\n",
      "x.fits.bintab_to_table: Reading /Users/lwymarie/Dropbox/Marie_Enrico/papers/QPQ9/Analysis/Redshifts/zem/SDSSJ143345.50+064110.0_F_zem.fits\n",
      "14h33m45.5s +06d41m10s\n",
      "x.fits.bintab_to_table: Reading /Users/lwymarie/Dropbox/Marie_Enrico/papers/QPQ9/Analysis/Redshifts/zem/SDSSJ233845.19-000327.2_F_zem.fits\n",
      "23h38m45.19s -00d03m27.2s\n"
     ]
    }
   ],
   "source": [
    "zem_fil = glob.glob(os.getenv('DROPBOX_DIR')+'Marie_Enrico/papers/QPQ9/Analysis/Redshifts/zem/*')\n",
    "zsys_line = ['H$\\\\alpha$','H$\\\\beta$','MgII','[OIII]']\n",
    "igmsp = IgmSpec()\n",
    "ID_fg,ID_bg = igmsp.pairs(0.69*u.arcmin, 3000.*u.km/u.s)\n",
    "c_igmsp = SkyCoord(igmsp.cat['RA'][ID_fg]*u.deg,igmsp.cat['DEC'][ID_fg]*u.deg)\n",
    "c_igmsp_bg = SkyCoord(igmsp.cat['RA'][ID_bg]*u.deg,igmsp.cat['DEC'][ID_bg]*u.deg)\n",
    "for ff in zem_fil:\n",
    "    zem = xxf.bintab_to_table(ff)\n",
    "    ipos1 = zem['SPEC_FIL'][0].rfind('/SDSSJ')+6\n",
    "    ipos2 = zem['SPEC_FIL'][0].rfind('_F_zem.fits')-9\n",
    "    radec = zem['SPEC_FIL'][0][ipos1:ipos2]\n",
    "    RA = radec[0:2]+'h'+radec[2:4]+'m'+radec[4:9]+'s'\n",
    "    dec = radec[9:12]+'d'+radec[12:14]+'m'+radec[14:18]+'s'\n",
    "    zem_coord = SkyCoord(RA,dec)\n",
    "    print(zem_coord.to_string('hmsdms'))\n",
    "    if '09h13m38.3s -01d07m08.7s' in zem_coord.to_string('hmsdms'):\n",
    "        # redshift is Null in the zIR structure \n",
    "        for ii,qq in enumerate(new_qpq9):\n",
    "            try:\n",
    "                assert 'J0913-0107' in qq['NAME'] \n",
    "                qq['Z_FG'] = zem['ZSYS_ZSYS'][0]\n",
    "                qq['Z_FSIG'] = np.rint(zem['ZSYS_ERR'][0])\n",
    "                qq['ZFG_LINE'] = zsys_line[np.min([zem['ZSYS_FLAG'][0],3])]\n",
    "                break\n",
    "            except AssertionError:\n",
    "                pass\n",
    "    if '12h31m43.09s +00d28m46.2s' in zem_coord.to_string('hmsdms'):\n",
    "        # in QPQ7, not in QPQ9 yet \n",
    "        index = np.where(zem_coord.separation(c_QPQ7) < 5*u.arcsec)[0]\n",
    "        new_qpq9.add_row({'FG_RA':QPQ7['RAD'][index],'FG_DEC':QPQ7['DECD'][index],'NAME':QPQ7['QSO_BG'][index],\n",
    "                          'RA':QPQ7['RAD_BG'][index],'DEC':QPQ7['DECD_BG'][index],\n",
    "                          'Z_FG':zem['ZSYS_ZSYS'][0],'Z_FSIG':np.rint(zem['ZSYS_ERR'][0]),\n",
    "                          'BG_Z':QPQ7['Z_BG'][index],'R_PHYS':QPQ7['R_PHYS'][index],\n",
    "                          'ZFG_LINE':zsys_line[np.min([zem['ZSYS_FLAG'][0],3])]})\n",
    "    if '14h33m45.5s +06d41m10s' in zem_coord.to_string('hmsdms') or '23h38m45.19s -00d03m27.2s' in zem_coord.to_string('hmsdms'):\n",
    "        # in igmspec, not in QPQ9 yet\n",
    "        index = np.where(zem_coord.separation(c_igmsp) < 5*u.arcsec)[0]\n",
    "        kpc_amin = cosmo.kpc_proper_per_arcmin(igmsp.cat['zem'][ID_fg][index]) # kpc per arcmin\n",
    "        ang_sep = c_igmsp[index].separation(c_igmsp_bg[index])*60*u.arcmin/u.deg\n",
    "        name = 'BOSSJ'\n",
    "        name = name + c_igmsp_bg[index][0].to_string('hmsdms')[0:2] + c_igmsp_bg[index][0].to_string('hmsdms')[3:5]\n",
    "        ipos = c_igmsp_bg[index][0].to_string('hmsdms').rfind(' ')+1\n",
    "        name = name + c_igmsp_bg[index][0].to_string('hmsdms')[ipos:ipos+3] + c_igmsp_bg[index][0].to_string('hmsdms')[ipos+4:ipos+6]\n",
    "        new_qpq9.add_row({'FG_RA':c_igmsp[index][0].ra.degree,'FG_DEC':c_igmsp[index][0].dec.degree,'NAME':name,\n",
    "                         'RA':c_igmsp_bg[index][0].ra.degree,'DEC':c_igmsp_bg[index][0].dec.degree,\n",
    "                         'Z_FG':zem['ZSYS_ZSYS'][0],'Z_FSIG':np.rint(zem['ZSYS_ERR'][0]),\n",
    "                         'BG_Z':igmsp.cat['zem'][ID_bg][index][0],'R_PHYS':kpc_amin[0]*ang_sep[0]/u.kpc,\n",
    "                         'ZFG_LINE':zsys_line[np.min([zem['ZSYS_FLAG'][0],3])]})\n",
    "new_qpq9.sort(['FG_RA','FG_DEC'])"
   ]
  },
  {
   "cell_type": "code",
   "execution_count": 20,
   "metadata": {
    "collapsed": false
   },
   "outputs": [
    {
     "data": {
      "text/plain": [
       "58"
      ]
     },
     "execution_count": 20,
     "metadata": {},
     "output_type": "execute_result"
    }
   ],
   "source": [
    "# write\n",
    "xxf.table_to_fits(new_qpq9, 'qpq9_final.fits')\n",
    "len(new_qpq9)"
   ]
  },
  {
   "cell_type": "markdown",
   "metadata": {
    "collapsed": false
   },
   "source": [
    "# Add igmspec QSO pairs with HW10 redshifts "
   ]
  },
  {
   "cell_type": "code",
   "execution_count": 28,
   "metadata": {
    "collapsed": false
   },
   "outputs": [
    {
     "name": "stdout",
     "output_type": "stream",
     "text": [
      "Using /Users/lwymarie/Desktop/IGMspec_DB_v02.hdf5 for the catalog file\n",
      "Using /Users/lwymarie/Desktop/IGMspec_DB_v02.hdf5 for the DB file\n",
      "Available surveys: [u'BOSS_DR12', u'HSTQSO', u'SDSS_DR7', u'KODIAQ_DR1', u'MUSoDLA', u'HD-LLS_DR1', u'2QZ', u'ESI_DLA', u'HDLA100', u'GGG', u'COS-Halos', u'HST_z2', u'COS-Dwarfs', u'XQ-100']\n",
      "Database is igmspec\n",
      "Created on 2016-Oct-25\n",
      "x.fits.bintab_to_table: Reading qpq9_final.fits\n"
     ]
    }
   ],
   "source": [
    "# Load the different catalogs \n",
    "igmsp = IgmSpec()\n",
    "ID_fg, ID_bg = igmsp.pairs(0.92*u.arcmin, 3000.*u.km/u.s) # at z = 0.4, 0.92' = 300 kpc\n",
    "c_igmsp = SkyCoord(igmsp.cat['RA'][ID_fg]*u.deg,igmsp.cat['DEC'][ID_fg]*u.deg,frame='icrs')\n",
    "c_igmsp_bg = SkyCoord(igmsp.cat['RA'][ID_bg]*u.deg,igmsp.cat['DEC'][ID_bg]*u.deg,frame='icrs')\n",
    "kpc_amin = cosmo.kpc_proper_per_arcmin(igmsp.cat['zem'][ID_fg])\n",
    "ang_sep = c_igmsp.separation(c_igmsp_bg).to('arcmin')\n",
    "\n",
    "myers = Table(igmsp.idb.hdf['quasars'].value)\n",
    "c_myers = SkyCoord(myers['RA']*u.deg,myers['DEC']*u.deg,frame='icrs')\n",
    "\n",
    "QPQ9 = xxf.bintab_to_table('qpq9_final.fits')\n",
    "c_QPQ9 = SkyCoord(QPQ9['FG_RA']*u.deg,QPQ9['FG_DEC']*u.deg,frame='icrs')\n",
    "c_QPQ9_bg = SkyCoord(ra=QPQ9['RA']*u.deg,dec=QPQ9['DEC']*u.deg)"
   ]
  },
  {
   "cell_type": "code",
   "execution_count": 31,
   "metadata": {
    "collapsed": false
   },
   "outputs": [
    {
     "data": {
      "text/plain": [
       "(1.5767871388786463, 2.7800567771399662)"
      ]
     },
     "execution_count": 31,
     "metadata": {},
     "output_type": "execute_result"
    }
   ],
   "source": [
    "igmsp.cat['zem'][ID_fg[0]],igmsp.cat['zem'][ID_bg[0]]"
   ]
  },
  {
   "cell_type": "code",
   "execution_count": 41,
   "metadata": {
    "collapsed": false
   },
   "outputs": [
    {
     "data": {
      "text/plain": [
       "array([ 0.24605309,  0.34757165,  0.354768  ,  0.36691473,  0.47647179,\n",
       "        0.48912201,  0.49583333,  0.579626  ,  0.62899647,  0.68083455,\n",
       "        0.72798194,  0.817998  ,  0.85552545,  1.02977806,  1.06010137,\n",
       "        1.07041667,  1.23403894,  1.253513  ,  1.36798882,  1.424536  ,\n",
       "        1.68968052,  1.76227486,  1.79495545,  1.905     ,  1.92741246,\n",
       "        2.017612  ,  2.021589  ,  2.13391569,  2.16923339,  2.23221006,\n",
       "        2.25858948,  2.26116021,  2.29366667,  2.300746  ,  2.3619725 ,\n",
       "        2.37911925,  2.44582357,  2.48477215,  2.48572464,  2.54243424,\n",
       "        2.57223797,  2.59081126,  2.61993575,  2.66826272,  2.81625611,\n",
       "        2.83428385,  2.84692426,  2.94195   ,  3.01893545,  3.05310989,\n",
       "        3.238559  ,  3.29211254,  3.42745766,  3.43349615,  3.44005658,\n",
       "        3.76045833,  3.88524245,  3.90554167,  3.939006  ,  3.99497251,\n",
       "        4.02453087,  4.02736419,  4.05658333,  4.08486532,  4.237507  ,\n",
       "        4.24361007,  4.298186  ,  4.36258333,  4.39895619,  4.59803982,\n",
       "        4.65756667,  4.65903587,  4.69016529,  4.83395833,  4.87723674,\n",
       "        4.912927  ,  4.98885391,  5.007538  ,  5.09165059,  5.20399232,\n",
       "        5.35876016,  5.44479167,  5.45364461,  5.45687215,  5.458074  ,\n",
       "        5.46525   ,  5.527125  ,  5.597056  ,  5.65168649,  5.657938  ,\n",
       "        5.68541406,  5.68951341,  5.74089682,  5.75088057,  5.76684123,\n",
       "        5.86681894,  5.87776809,  5.97941089,  6.07233992])"
      ]
     },
     "execution_count": 41,
     "metadata": {},
     "output_type": "execute_result"
    }
   ],
   "source": [
    "c_bg_sorted = copy.deepcopy(c_igmsp_bg)\n",
    "c_bg_sorted.ra.sort()\n",
    "c_bg_sorted.ra.deg[1:100]\n",
    "c_fg_sorted = copy.deepcopy(c_igmsp)\n",
    "c_fg_sorted.ra.sort()\n",
    "c_fg_sorted.ra.deg[1:100]"
   ]
  },
  {
   "cell_type": "code",
   "execution_count": 132,
   "metadata": {
    "collapsed": false
   },
   "outputs": [
    {
     "data": {
      "text/latex": [
       "$300.02728 \\; \\mathrm{kpc}$"
      ],
      "text/plain": [
       "<Quantity 300.0272802178239 kpc>"
      ]
     },
     "execution_count": 132,
     "metadata": {},
     "output_type": "execute_result"
    }
   ],
   "source": [
    "cosmo.kpc_proper_per_arcmin(0.4)*0.92*u.arcmin"
   ]
  },
  {
   "cell_type": "code",
   "execution_count": 49,
   "metadata": {
    "collapsed": false
   },
   "outputs": [],
   "source": [
    "for qq,cc in enumerate(c_igmsp):\n",
    "    if kpc_amin[qq]*ang_sep[qq] < 300 *u.kpc: \n",
    "        if len(np.where(cc.separation(c_QPQ9) < 5*u.arcsec)[0]) == 0: # not in QPQ9 yet \n",
    "            if len(np.where(cc.separation(c_myers) < 5*u.arcsec)[0]) > 0: # in Myers \n",
    "                # Checked no two close by sources both have HW10 redshifts  \n",
    "                # Checked HW10 redshifts are always the first returned result \n",
    "                if myers['ZEM_SOURCE'][np.where(cc.separation(c_myers) < 5*u.arcsec)[0][0]] == 'SDSS-HW': # good z\n",
    "                    # MgII redshift or better\n",
    "                    if myers['ZEM'][np.where(cc.separation(c_myers) < 5*u.arcsec)[0][0]] <= 2.1: \n",
    "                        # Match Johnson+15 and Farina+ samples\n",
    "                        if myers['ZEM'][np.where(cc.separation(c_myers) < 5*u.arcsec)[0][0]] >= 0.4: \n",
    "                            # Lya forest cut for MgII stack  \n",
    "                            if 2796.352*(1+igmsp.cat['zem'][ID_fg][qq]) > (1215.6701+6.)*(1+igmsp.cat['zem'][ID_bg][qq]):\n",
    "                                if np.mod(igmsp.cat['flag_survey'][ID_fg][qq],2) == 0:\n",
    "                                    name = 'BOSSJ'\n",
    "                                else:\n",
    "                                    name = 'SDSSJ'  \n",
    "                                name = name + c_igmsp_bg[qq].to_string('hmsdms')[0:2]\n",
    "                                name = name + c_igmsp_bg[qq].to_string('hmsdms')[3:5]\n",
    "                                ipos = c_igmsp_bg[qq].to_string('hmsdms').rfind(' ')+1\n",
    "                                name = name + c_igmsp_bg[qq].to_string('hmsdms')[ipos:ipos+3] \n",
    "                                name = name + c_igmsp_bg[qq].to_string('hmsdms')[ipos+4:ipos+6]\n",
    "                                QPQ9.add_row({'FG_RA':igmsp.cat['RA'][ID_fg][qq],\n",
    "                                                  'FG_DEC':igmsp.cat['DEC'][ID_fg][qq],\n",
    "                                                  'NAME':name,\n",
    "                                                  'RA':igmsp.cat['RA'][ID_bg][qq],\n",
    "                                                  'DEC':igmsp.cat['DEC'][ID_bg][qq],\n",
    "                                                  'Z_FG':igmsp.cat['zem'][ID_fg][qq],\n",
    "                                                  'Z_FSIG':272,\n",
    "                                                  'BG_Z':igmsp.cat['zem'][ID_bg][qq],\n",
    "                                                  'R_PHYS':kpc_amin[qq]*ang_sep[qq]/u.kpc,\n",
    "                                                  'ZFG_LINE':'SDSS-HW'})\n",
    "QPQ9.sort(['FG_RA','FG_DEC'])"
   ]
  },
  {
   "cell_type": "code",
   "execution_count": 370,
   "metadata": {
    "collapsed": false
   },
   "outputs": [],
   "source": [
    "# save and copy to enigma\n",
    "xxf.table_to_fits(QPQ9,'qpq9_final.fits')\n",
    "!cp qpq9_final.fits /Users/lwymarie/python/enigma/enigma/data/qpq/qpq9_final.fits"
   ]
  },
  {
   "cell_type": "code",
   "execution_count": 51,
   "metadata": {
    "collapsed": false
   },
   "outputs": [
    {
     "name": "stdout",
     "output_type": "stream",
     "text": [
      "x.fits.bintab_to_table: Reading /Users/lwymarie/python/enigma/enigma/data/qpq/qpq9_final.fits\n"
     ]
    },
    {
     "data": {
      "text/plain": [
       "[u'00h01m25.1443s +00d00m09.4356s',\n",
       " u'00h08m04.2269s -00d39m22.9824s',\n",
       " u'00h08m05.1814s -00d39m46.782s',\n",
       " u'00h42m38.2385s +13d50m54.8052s',\n",
       " u'00h47m57.2575s +14d47m41.9604s',\n",
       " u'00h57m17.3646s -00d01m13.3303s',\n",
       " u'01h03m23.8409s -00d02m54.204s',\n",
       " u'01h06m16.3968s +00d56m56.85s',\n",
       " u'01h49m17.1049s -00d21m41.6461s',\n",
       " u'01h54m48.9377s +00d20m42.774s',\n",
       " u'02h14m16.9579s -00d52m29.1468s',\n",
       " u'02h24m47.8961s -00d47m00.3552s',\n",
       " u'02h25m17.6801s +00d48m21.966s',\n",
       " u'02h25m26.3271s -01d14m34.3976s',\n",
       " u'02h30m18.2659s -03d33m19.4168s',\n",
       " u'02h32m26.5389s -00d11m45.1292s',\n",
       " u'02h42m57.2066s -00d45m49.5072s',\n",
       " u'02h46m03.6827s -00d32m11.7543s',\n",
       " u'02h50m38.6916s -00d47m39.1056s',\n",
       " u'03h34m44.0342s -00d58m26.1984s',\n",
       " u'03h41m38.1578s +00d00m02.9332s',\n",
       " u'04h09m55.872s -04d11m26.9365s',\n",
       " u'07h49m54.1073s +37d02m16.7676s',\n",
       " u'07h52m59.8146s +40d11m28.2199s',\n",
       " u'08h00m49.8934s +35d42m49.6331s',\n",
       " u'08h09m45.1728s +45d39m18.108s',\n",
       " u'08h12m23.1689s +26d20m00.906s',\n",
       " u'08h14m27.2102s +04d02m29.1336s',\n",
       " u'08h18m00.4913s +15d28m04.422s',\n",
       " u'08h18m32.8654s +12d32m19.9032s',\n",
       " u'08h26m42.8635s +47d08m29.5296s',\n",
       " u'08h28m43.368s +45d45m17.2955s',\n",
       " u'08h30m30.3792s +54d52m28.7724s',\n",
       " u'08h33m14.2442s +48d23m35.5416s',\n",
       " u'08h37m05.8325s +08d10m02.4636s',\n",
       " u'08h37m13.5609s +36d30m37.3449s',\n",
       " u'08h37m57.9144s +38d37m27.1164s',\n",
       " u'08h38m54.5237s +46d21m24.3936s',\n",
       " u'08h41m58.4701s +39d21m20.9741s',\n",
       " u'08h44m33.547s +48d39m41.0004s',\n",
       " u'08h45m36.5338s +32d02m27.3192s',\n",
       " u'08h53m58.3643s -00d11m08.0473s',\n",
       " u'08h56m29.4814s +55d14m50.244s',\n",
       " u'08h57m37.5814s +39d01m20.4636s',\n",
       " u'09h02m50.0153s +36d02m55.1364s',\n",
       " u'09h03m59.1398s +51d32m46.842s',\n",
       " u'09h04m17.9402s +00d41m48.2496s',\n",
       " u'09h06m57.7973s +10d01m21.4356s',\n",
       " u'09h07m39.5088s +28d03m01.8756s',\n",
       " u'09h10m46.4006s +04d14m58.5125s',\n",
       " u'09h11m15.1282s +49d05m38.5332s',\n",
       " u'09h12m17.5714s +41d39m33.516s',\n",
       " u'09h12m20.1504s +25d17m53.2032s',\n",
       " u'09h12m34.273s +30d56m16.2168s',\n",
       " u'09h13m38.304s -01d07m08.6819s',\n",
       " u'09h13m56.0695s +31d51m36.2124s',\n",
       " u'09h14m32.0166s +01d09m12.4277s',\n",
       " u'09h15m51.7238s +01d19m00.1776s',\n",
       " u'09h16m13.7407s +42d50m09.618s',\n",
       " u'09h20m49.3742s +33d41m14.37s',\n",
       " u'09h21m22.8866s +56d31m27.8655s',\n",
       " u'09h24m17.6496s +39d29m20.2547s',\n",
       " u'09h32m07.8924s +08d44m10.554s',\n",
       " u'09h32m26.3442s +09d25m26.1095s',\n",
       " u'09h33m17.4271s +59d20m27.4488s',\n",
       " u'09h35m30.8861s +45d32m26.9268s',\n",
       " u'09h36m40.3458s -00d58m40.0921s',\n",
       " u'09h38m04.2177s +53d17m43.9106s',\n",
       " u'09h40m07.3822s +33d46m09.6132s',\n",
       " u'09h41m33.642s +23d08m40.0524s',\n",
       " u'09h42m43.471s +13d47m16.8756s',\n",
       " u'09h56m42.713s +02d48m12.6756s',\n",
       " u'10h00m46.4472s +03d37m08.8284s',\n",
       " u'10h01m06.4543s +40d23m41.6976s',\n",
       " u'10h02m46.8558s +00d21m03.9938s',\n",
       " u'10h05m09.5996s +50d19m29.7953s',\n",
       " u'10h06m27.4687s +48d04m20.047s',\n",
       " u'10h09m03.2057s +17d50m24.162s',\n",
       " u'10h09m13.9118s +02d36m12.3768s',\n",
       " u'10h09m41.3471s +25d01m04.0768s',\n",
       " u'10h10m01.5087s +40d37m55.4805s',\n",
       " u'10h10m53.9842s +45d18m17.0064s',\n",
       " u'10h10m57.3866s +08d22m03.6372s',\n",
       " u'10h13m23.8999s +03d30m16.956s',\n",
       " u'10h14m21.373s +26d53m26.0988s',\n",
       " u'10h15m27.5882s +12d45m20.9664s',\n",
       " u'10h17m53.3789s +62d26m53.3688s',\n",
       " u'10h20m07.2979s +61d19m55.9632s',\n",
       " u'10h24m10.1926s +03d54m47.9052s',\n",
       " u'10h24m43.9865s +26d16m15.0636s',\n",
       " u'10h26m18.8051s +46d14m45.2755s',\n",
       " u'10h28m05.2798s +51d21m24.624s',\n",
       " u'10h28m21.2572s +24d01m21.7985s',\n",
       " u'10h34m43.6241s +08d57m02.9808s',\n",
       " u'10h36m28.1959s +50d11m57.876s',\n",
       " u'10h38m57.371s +50d27m07.9806s',\n",
       " u'10h41m43.0992s +19d57m22.1954s',\n",
       " u'10h42m44.8404s +65d00m02.7072s',\n",
       " u'10h44m35.6242s +31d39m50.7168s',\n",
       " u'10h45m08.8768s +43d51m18.2108s',\n",
       " u'10h45m25.8442s +10d00m18.414s',\n",
       " u'10h52m21.7706s +55d52m53.5044s',\n",
       " u'10h59m41.4319s +62d55m34.3488s',\n",
       " u'11h06m17.1715s +46d35m24.648s',\n",
       " u'11h13m39.8599s +33d06m04.7628s',\n",
       " u'11h18m50.4365s +40d25m53.7852s',\n",
       " u'11h36m51.5494s -00d28m36.0048s',\n",
       " u'11h38m52.6462s +63d29m34.0224s',\n",
       " u'11h40m18.9907s +27d09m47.5596s',\n",
       " u'11h41m46.1872s +07d24m10.9899s',\n",
       " u'11h42m09.8446s +28d22m56.7912s',\n",
       " u'11h42m18.1687s +11d28m15.4236s',\n",
       " u'11h44m35.5364s +09d59m21.6938s',\n",
       " u'11h45m46.54s +03d22m36.7476s',\n",
       " u'11h50m39.162s +58d02m59.2656s',\n",
       " u'11h52m53.0918s +15d07m06.4596s',\n",
       " u'11h55m33.6178s +39d33m59.1984s',\n",
       " u'11h59m44.0162s +14d33m05.0364s',\n",
       " u'12h00m30.3487s +01d29m18.3552s',\n",
       " u'12h02m24.6761s +07d48m00.2628s',\n",
       " u'12h04m17.4689s +02d21m04.7146s',\n",
       " u'12h08m56.94s +07d37m41.2172s',\n",
       " u'12h11m59.8001s +32d40m09.966s',\n",
       " u'12h13m44.28s +47d19m58.7172s',\n",
       " u'12h16m57.8175s +15d27m06.5676s',\n",
       " u'12h25m14.2939s +57d09m42.3396s',\n",
       " u'12h31m43.0985s +00d28m46.2929s',\n",
       " u'12h40m02.2286s +39d55m55.4736s',\n",
       " u'12h42m27.7838s +53d31m25.6836s',\n",
       " u'12h44m20.8397s +39d16m07.968s',\n",
       " u'12h44m31.3702s +32d08m23.8668s',\n",
       " u'12h45m17.0369s +59d22m18.1452s',\n",
       " u'12h46m32.3023s +23d45m31.158s',\n",
       " u'12h48m46.0469s +40d57m58.1508s',\n",
       " u'12h49m48.1823s +06d07m14.0471s',\n",
       " u'12h53m04.5701s +63d27m18.5976s',\n",
       " u'12h55m52.5958s +22d34m24.4092s',\n",
       " u'13h01m24.7375s +47d59m09.6285s',\n",
       " u'13h06m05.19s +61d58m23.7262s',\n",
       " u'13h10m17.9899s +11d34m25.0572s',\n",
       " u'13h19m39.4594s +21d38m06.7344s',\n",
       " u'13h25m14.9746s +54d09m30.564s',\n",
       " u'13h27m40.582s +34d23m23.7427s',\n",
       " u'13h35m15.324s +43d30m12.2832s',\n",
       " u'13h46m50.0789s +19d52m35.2056s',\n",
       " u'13h53m06.3464s +11d38m04.7313s',\n",
       " u'13h56m32.419s +61d33m00.6048s',\n",
       " u'13h58m49.7126s +27d38m06.8626s',\n",
       " u'14h02m08.0965s +47d01m11.1266s',\n",
       " u'14h03m55.1546s +37d34m01.7382s',\n",
       " u'14h10m18.781s +48d04m46.578s',\n",
       " u'14h13m37.1791s +27d15m17.0969s',\n",
       " u'14h15m51.7526s -01d50m53.8944s',\n",
       " u'14h20m03.67s +02d27m26.6692s',\n",
       " u'14h20m54.4177s +16d03m33.3387s',\n",
       " u'14h22m15.57s +46d52m30.72s',\n",
       " u'14h27m58.8881s -01d21m30.3734s',\n",
       " u'14h28m29.4206s +55d09m42.7968s',\n",
       " u'14h31m09.6746s +57d27m28.9987s',\n",
       " u'14h33m12.5556s +08d26m51.7596s',\n",
       " u'14h33m45.501s +06d41m09.9867s',\n",
       " u'14h36m09.1502s +31d34m26.6726s',\n",
       " u'14h42m32.9167s +01d37m30.4042s',\n",
       " u'14h48m21.8402s +56d50m16.1088s',\n",
       " u'14h56m19.3319s +11d37m34.2557s',\n",
       " u'14h57m27.4915s +02d37m28.4268s',\n",
       " u'15h08m14.0616s +36d35m29.357s',\n",
       " u'15h15m15.0581s +26d28m14.6604s',\n",
       " u'15h17m44.7936s +20d03m04.3596s',\n",
       " u'15h30m27.3293s +25d15m08.3556s',\n",
       " u'15h33m28.8312s +14d25m42.5012s',\n",
       " u'15h34m56.0201s +21d53m42.3204s',\n",
       " u'15h38m51.977s +57d08m14.514s',\n",
       " u'15h39m54.744s +31d46m29.2836s',\n",
       " u'15h43m49.117s +44d45m14.7343s',\n",
       " u'15h53m25.6077s +19d21m40.9521s',\n",
       " u'15h54m22.8773s +12d44m38.0076s',\n",
       " u'15h56m20.754s +30d41m21.9372s',\n",
       " u'15h57m33.9794s +29d28m44.3408s',\n",
       " u'15h57m43.0658s +04d34m39.2016s',\n",
       " u'15h59m47.7342s +49d43m07.2919s',\n",
       " u'16h05m47.5944s +51d13m30.198s',\n",
       " u'16h18m16.4453s +18d42m08.208s',\n",
       " u'16h19m30.937s +19d26m20.8968s',\n",
       " u'16h27m36.3981s +22d15m38.085s',\n",
       " u'16h27m38.633s +46d05m38.3878s',\n",
       " u'16h28m24.5196s +23d42m27.828s',\n",
       " u'16h31m21.7442s +43d33m17.298s',\n",
       " u'16h31m30.2076s +36d59m22.2648s',\n",
       " u'16h35m46.2979s +25d47m59.0388s',\n",
       " u'16h51m59.0059s +34d10m48.648s',\n",
       " u'16h54m42.2078s +25d12m49.232s',\n",
       " u'16h57m16.8526s +31d05m13.9773s',\n",
       " u'20h53m03.4759s -01d04m15.0852s',\n",
       " u'21h46m20.6876s -07d52m50.6088s',\n",
       " u'21h56m55.1374s -00d04m00.9732s',\n",
       " u'22h02m48.6104s +12d36m45.5447s',\n",
       " u'22h12m27.4366s -00d11m58.4412s',\n",
       " u'22h55m35.6662s -00d01m56.8416s',\n",
       " u'22h55m50.4007s -00d09m17.73s',\n",
       " u'23h14m25.1326s -01d09m02.9268s',\n",
       " u'23h38m45.1943s -00d03m27.1218s',\n",
       " u'23h41m09.3132s -00d41m32.7048s',\n",
       " u'23h48m30.984s +01d10m37.6608s',\n",
       " u'23h52m32.0748s -00d15m03.9456s',\n",
       " u'23h54m21.3528s -00d19m12.1476s']"
      ]
     },
     "execution_count": 51,
     "metadata": {},
     "output_type": "execute_result"
    }
   ],
   "source": [
    "QPQ9 = xxf.bintab_to_table('/Users/lwymarie/python/enigma/enigma/data/qpq/qpq9_final.fits')\n",
    "index = np.where((QPQ9['Z_FG'] >= 1.6))\n",
    "c = SkyCoord(QPQ9['FG_RA'][index]*u.deg,QPQ9['FG_DEC'][index]*u.deg)\n",
    "c.to_string('hmsdms')"
   ]
  },
  {
   "cell_type": "code",
   "execution_count": 212,
   "metadata": {
    "collapsed": false
   },
   "outputs": [
    {
     "data": {
      "image/png": "[encoded data removed]",
      "text/plain": [
       "<matplotlib.figure.Figure at 0x1362105d0>"
      ]
     },
     "metadata": {},
     "output_type": "display_data"
    }
   ],
   "source": [
    "specs[0].plot()"
   ]
  },
  {
   "cell_type": "code",
   "execution_count": 214,
   "metadata": {
    "collapsed": false,
    "scrolled": true
   },
   "outputs": [
    {
     "data": {
      "image/png": "[encoded data removed]",
      "text/plain": [
       "<matplotlib.figure.Figure at 0x114875550>"
      ]
     },
     "metadata": {},
     "output_type": "display_data"
    }
   ],
   "source": [
    "[specs[1].plot()]"
   ]
  }
 ],
 "metadata": {
  "kernelspec": {
   "display_name": "Python 2",
   "language": "python",
   "name": "python2"
  },
  "language_info": {
   "codemirror_mode": {
    "name": "ipython",
    "version": 2
   },
   "file_extension": ".py",
   "mimetype": "text/x-python",
   "name": "python",
   "nbconvert_exporter": "python",
   "pygments_lexer": "ipython2",
   "version": "2.7.12"
  }
 },
 "nbformat": 4,
 "nbformat_minor": 0
}
