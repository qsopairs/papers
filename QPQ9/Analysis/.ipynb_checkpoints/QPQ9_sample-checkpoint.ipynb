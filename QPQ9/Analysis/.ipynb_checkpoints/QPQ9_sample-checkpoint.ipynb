{
 "cells": [
  {
   "cell_type": "markdown",
   "metadata": {},
   "source": [
    "# QPQ9 Sample"
   ]
  },
  {
   "cell_type": "code",
   "execution_count": 1,
   "metadata": {
    "collapsed": true
   },
   "outputs": [],
   "source": [
    " %matplotlib inline"
   ]
  },
  {
   "cell_type": "code",
   "execution_count": 2,
   "metadata": {
    "collapsed": false
   },
   "outputs": [],
   "source": [
    "# imports\n",
    "from scipy.io import readsav as scirs\n",
    "import copy\n",
    "\n",
    "from astropy.coordinates import SkyCoord\n",
    "from astropy.units import Unit\n",
    "\n",
    "from xastropy.xutils import fits as xxf"
   ]
  },
  {
   "cell_type": "markdown",
   "metadata": {},
   "source": [
    "## QPQ Sample Code\n",
    "Modifying lya_qpq_sample.pro in pro/data/photo\n",
    "\n",
    "Created QPQ-CGM-IR  [Joe did]\n",
    "\n",
    "QPQ-CGM-IR_00.000-00.300_Sat-Apr-25-21:33:45-2015.sav\n",
    "\n",
    "### Try MgII $z_{\\rm em}$ someday"
   ]
  },
  {
   "cell_type": "markdown",
   "metadata": {
    "collapsed": true
   },
   "source": [
    "## Read the Sample and Collate"
   ]
  },
  {
   "cell_type": "code",
   "execution_count": 3,
   "metadata": {
    "collapsed": false
   },
   "outputs": [
    {
     "name": "stdout",
     "output_type": "stream",
     "text": [
      "x.fits.bintab_to_table: Reading /u/xavier/Dropbox//QSOPairs/QPQ-CGM-IR/QPQ-CGM-IR_00.000-00.300_Tue-May-26-18:12:57-2015_qsobg.fits\n",
      "x.fits.bintab_to_table: Reading /u/xavier/Dropbox//QSOPairs/QPQ-CGM-IR/QPQ-CGM-IR_00.000-00.300_Tue-May-26-18:12:57-2015_qsofg.fits\n"
     ]
    }
   ],
   "source": [
    "# IDL savefile read failed..\n",
    "#dat = scirs(os.getenv('DROPBOX_DIR')+'/QSOPairs/QSO-CGM-IR/QPQ-CGM-IR_00.000-00.300_Sat-Apr-25-21:33:45-2015.sav',verbose=True)\n",
    "#dat\n",
    "\n",
    "# Wrote a binary FITS table from IDL\n",
    "#bgfil = 'QPQ-CGM-IR_00.000-00.300_Sat-Apr-25-21:33:45-2015_qsobg.fits.gz'\n",
    "#fgfil = 'QPQ-CGM-IR_00.000-00.300_Sat-Apr-25-21:33:45-2015_qsofg.fits.gz'\n",
    "#\n",
    "bgfil = 'QPQ-CGM-IR_00.000-00.300_Tue-May-26-18:12:57-2015_qsobg.fits'\n",
    "fgfil = 'QPQ-CGM-IR_00.000-00.300_Tue-May-26-18:12:57-2015_qsofg.fits'\n",
    "#\n",
    "qso_bg = xxf.bintab_to_table(os.getenv('DROPBOX_DIR')+'/QSOPairs/QPQ-CGM-IR/'+bgfil)\n",
    "#\n",
    "qso_fg = xxf.bintab_to_table(os.getenv('DROPBOX_DIR')+'/QSOPairs/QPQ-CGM-IR/'+fgfil)\n",
    "#qso_fg[['NAME','LYA_FILE', 'Z_IR']]"
   ]
  },
  {
   "cell_type": "code",
   "execution_count": 5,
   "metadata": {
    "collapsed": false
   },
   "outputs": [
    {
     "data": {
      "text/html": [
       "&lt;QTable masked=False length=34&gt;\n",
       "<table id=\"table4588985744\">\n",
       "<thead><tr><th>NAME</th><th>RA</th><th>DEC</th><th>LYA_FILE</th><th>FG_ZIR</th><th>BG_Z</th></tr></thead>\n",
       "<thead><tr><th>string112</th><th>float64</th><th>float64</th><th>string312</th><th>float64</th><th>float64</th></tr></thead>\n",
       "<tr><td>BOSSJ0057-0001</td><td>14.3287633684</td><td>-0.0263108702349</td><td>SDSSJ005718.90-000134.7.fits</td><td>2.1571517</td><td>2.51139140129</td></tr>\n",
       "<tr><td>BOSSJ0225+0048</td><td>36.3312696693</td><td>0.806583821575</td><td></td><td>2.73</td><td>2.81952381134</td></tr>\n",
       "<tr><td>BOSSJ0239-0106</td><td>39.9435234454</td><td>-1.11226496071</td><td></td><td>2.3039999</td><td>3.12694954872</td></tr>\n",
       "<tr><td>APOJ0800+3542</td><td>120.20306832</td><td>35.7086976546</td><td>SDSSJ080048.74+354231.3_b1200_F.fits.gz</td><td>1.9822341</td><td>2.06590008736</td></tr>\n",
       "<tr><td>APOJ0837+3837</td><td>129.488047957</td><td>38.6228928363</td><td>SDSSJ083757.13+383722.4_b1200_F.fits.gz</td><td>2.052</td><td>2.25099992752</td></tr>\n",
       "<tr><td>BOSSJ0841+3921</td><td>130.496910456</td><td>39.3611075347</td><td>SDSSJ084159.26+392140.0_b1200_F.fits.gz</td><td>2.04125</td><td>2.21369838715</td></tr>\n",
       "<tr><td>BOSSJ0853-0011</td><td>133.489553874</td><td>-0.185051255203</td><td></td><td>2.4059999</td><td>2.57923269272</td></tr>\n",
       "<tr><td>APOJ0910+0414</td><td>137.694534516</td><td>4.24677023888</td><td></td><td>2.0439999</td><td>2.37700009346</td></tr>\n",
       "<tr><td>BOSSJ0913-0107</td><td>138.41238463</td><td>-1.11795134614</td><td></td><td>2.75</td><td>2.91608047485</td></tr>\n",
       "<tr><td>BOSSJ0914+0109</td><td>138.628526573</td><td>1.15763854863</td><td>SDSSJ091430.85+010927.5_b1200_F.fits.gz</td><td>2.142</td><td>2.4754948616</td></tr>\n",
       "<tr><td>...</td><td>...</td><td>...</td><td>...</td><td>...</td><td>...</td></tr>\n",
       "<tr><td>BOSSJ1402+4701</td><td>210.539674644</td><td>47.02161953</td><td>SDSSJ140209.53+470117.8_b1200_F.fits.gz</td><td>1.9169</td><td>2.2688267231</td></tr>\n",
       "<tr><td>BOSSJ1420+0227</td><td>215.017149223</td><td>2.45243406362</td><td></td><td>3.612</td><td>4.19136476517</td></tr>\n",
       "<tr><td>APOJ1420+1603</td><td>215.228817946</td><td>16.0619212535</td><td></td><td>2.0120001</td><td>2.0569999218</td></tr>\n",
       "<tr><td>BOSSJ1427-0121</td><td>216.994735211</td><td>-1.36004997278</td><td></td><td>2.2734809</td><td>2.35379481316</td></tr>\n",
       "<tr><td>BOSSJ1433+0641</td><td>218.435626532</td><td>6.68664870213</td><td>SDSSJ143344.55+064111.9.fits</td><td>2.2750001</td><td>2.33995008469</td></tr>\n",
       "<tr><td>APOJ1553+1921</td><td>238.357860234</td><td>19.3604704977</td><td></td><td>2.0139999</td><td>2.09800004959</td></tr>\n",
       "<tr><td>APOJ1627+4606</td><td>246.905200677</td><td>46.1025927908</td><td></td><td>3.8134601</td><td>4.11000013351</td></tr>\n",
       "<tr><td>BOSSJ1627+2215</td><td>246.907944561</td><td>22.2525847664</td><td></td><td>3.2509999</td><td>3.70697069168</td></tr>\n",
       "<tr><td>APOJ2146-0753</td><td>326.587443252</td><td>-7.88438252337</td><td></td><td>2.1144548</td><td>2.57699990273</td></tr>\n",
       "<tr><td>BOSSJ2202+1236</td><td>330.701280585</td><td>12.6156341156</td><td>SDSSJ220248.30+123656.2_b1200_F.fits.gz</td><td>2.0676329</td><td>2.51222491264</td></tr>\n",
       "</table>"
      ],
      "text/plain": [
       "<QTable masked=False length=34>\n",
       "     NAME            RA            DEC        ...   FG_ZIR       BG_Z    \n",
       "  string112       float64        float64      ...  float64     float64   \n",
       "-------------- ------------- ---------------- ... --------- -------------\n",
       "BOSSJ0057-0001 14.3287633684 -0.0263108702349 ... 2.1571517 2.51139140129\n",
       "BOSSJ0225+0048 36.3312696693   0.806583821575 ...      2.73 2.81952381134\n",
       "BOSSJ0239-0106 39.9435234454   -1.11226496071 ... 2.3039999 3.12694954872\n",
       "APOJ0800+3542   120.20306832    35.7086976546 ... 1.9822341 2.06590008736\n",
       "APOJ0837+3837  129.488047957    38.6228928363 ...     2.052 2.25099992752\n",
       "BOSSJ0841+3921 130.496910456    39.3611075347 ...   2.04125 2.21369838715\n",
       "BOSSJ0853-0011 133.489553874  -0.185051255203 ... 2.4059999 2.57923269272\n",
       "APOJ0910+0414  137.694534516    4.24677023888 ... 2.0439999 2.37700009346\n",
       "BOSSJ0913-0107  138.41238463   -1.11795134614 ...      2.75 2.91608047485\n",
       "BOSSJ0914+0109 138.628526573    1.15763854863 ...     2.142  2.4754948616\n",
       "           ...           ...              ... ...       ...           ...\n",
       "BOSSJ1402+4701 210.539674644      47.02161953 ...    1.9169  2.2688267231\n",
       "BOSSJ1420+0227 215.017149223    2.45243406362 ...     3.612 4.19136476517\n",
       "APOJ1420+1603  215.228817946    16.0619212535 ... 2.0120001  2.0569999218\n",
       "BOSSJ1427-0121 216.994735211   -1.36004997278 ... 2.2734809 2.35379481316\n",
       "BOSSJ1433+0641 218.435626532    6.68664870213 ... 2.2750001 2.33995008469\n",
       "APOJ1553+1921  238.357860234    19.3604704977 ... 2.0139999 2.09800004959\n",
       "APOJ1627+4606  246.905200677    46.1025927908 ... 3.8134601 4.11000013351\n",
       "BOSSJ1627+2215 246.907944561    22.2525847664 ... 3.2509999 3.70697069168\n",
       "APOJ2146-0753  326.587443252   -7.88438252337 ... 2.1144548 2.57699990273\n",
       "BOSSJ2202+1236 330.701280585    12.6156341156 ... 2.0676329 2.51222491264"
      ]
     },
     "execution_count": 5,
     "metadata": {},
     "output_type": "execute_result"
    }
   ],
   "source": [
    "# Collate Tables, calculate R_perp\n",
    "qpq9 = copy.deepcopy(qso_bg)\n",
    "# Add/replce key columns from qso_fg\n",
    "oldc = ['Z_IR','SIGMA_ZIR', 'RA', 'DEC']\n",
    "newc = ['FG_ZIR', 'FG_SIG_ZIR', 'FG_RA', 'FG_DEC']\n",
    "for jj,ioldc in enumerate(oldc):\n",
    "    tmpc = Column( qso_fg[ioldc], name=newc[jj])\n",
    "    #print newc[jj]\n",
    "    qpq9.add_column( tmpc )\n",
    "# \n",
    "qpq9['G_UV'] = qso_fg['G_UV']\n",
    "qpq9.add_column( Column( qso_bg['Z_TOT'], name='BG_Z') )\n",
    "#\n",
    "qpq9[['NAME', 'RA', 'DEC', 'LYA_FILE', 'FG_ZIR', 'BG_Z']]"
   ]
  },
  {
   "cell_type": "markdown",
   "metadata": {},
   "source": [
    "### Rphys"
   ]
  },
  {
   "cell_type": "code",
   "execution_count": 4,
   "metadata": {
    "collapsed": false
   },
   "outputs": [
    {
     "data": {
      "text/plain": [
       "FlatLambdaCDM(H0=70 km / (Mpc s), Om0=0.26, Tcmb0=2.725 K, Neff=3.04, m_nu=[ 0.  0.  0.] eV, Ob0=None)"
      ]
     },
     "execution_count": 4,
     "metadata": {},
     "output_type": "execute_result"
    }
   ],
   "source": [
    "# Cosmology\n",
    "from astropy.cosmology import FlatLambdaCDM\n",
    "cosmo = FlatLambdaCDM(H0=70, Om0=0.26)\n",
    "cosmo"
   ]
  },
  {
   "cell_type": "code",
   "execution_count": 5,
   "metadata": {
    "collapsed": false
   },
   "outputs": [],
   "source": [
    "# Coordinates\n",
    "c_fg = SkyCoord(ra=qpq9['FG_RA']*u.degree, dec=qpq9['FG_DEC']*u.degree)\n",
    "c_bg = SkyCoord(ra=qpq9['RA']*u.degree, dec=qpq9['DEC']*u.degree)"
   ]
  },
  {
   "cell_type": "code",
   "execution_count": 6,
   "metadata": {
    "collapsed": false
   },
   "outputs": [],
   "source": [
    "# Separation\n",
    "kpc_amin = cosmo.kpc_proper_per_arcmin( qpq9['FG_ZIR'] ) # kpc per arcmin\n",
    "ang_sep = c_fg.separation(c_bg).to('arcmin')\n",
    "Rphys = kpc_amin * ang_sep\n",
    "# Add\n",
    "if 'R_PHYS' not in qpq9.dtype.names:\n",
    "    qpq9.add_column(Column( Rphys, name='R_PHYS'))\n",
    "#qpq9[['NAME', 'RA', 'DEC', 'R_PHYS', 'LYA_FILE', 'FG_ZIR']][0:3]\n",
    "#xdb.xhist(qpq9['R_PHYS'].value)"
   ]
  },
  {
   "cell_type": "markdown",
   "metadata": {},
   "source": [
    "## Cuts"
   ]
  },
  {
   "cell_type": "code",
   "execution_count": 7,
   "metadata": {
    "collapsed": false
   },
   "outputs": [
    {
     "name": "stdout",
     "output_type": "stream",
     "text": [
      "We have 32 pairs in QPQ9\n"
     ]
    }
   ],
   "source": [
    "from astropy.relativity import velocities as arv\n",
    "\n",
    "# Lya beta\n",
    "zLya_beta = (qpq9['BG_Z']+1)*1025.7223 / 1215.6701 - 1\n",
    "dv_beta = arv.v_from_z(qpq9['FG_ZIR'], zLya_beta)\n",
    "gd_beta = dv_beta > (-500.*Unit('km/s'))\n",
    "#\n",
    "qpq9 = qpq9[gd_beta]\n",
    "print('We have {:d} pairs in QPQ9'.format(len(qpq9)))\n",
    "#xdb.xpcol(zLya_beta, qpq9['FG_ZIR'], qpq9['BG_Z'])"
   ]
  },
  {
   "cell_type": "markdown",
   "metadata": {},
   "source": [
    "## Write"
   ]
  },
  {
   "cell_type": "code",
   "execution_count": 6,
   "metadata": {
    "collapsed": false
   },
   "outputs": [],
   "source": [
    "xxf.table_to_fits(qpq9, 'qpq9_final.fits')"
   ]
  },
  {
   "cell_type": "code",
   "execution_count": 7,
   "metadata": {
    "collapsed": true
   },
   "outputs": [],
   "source": [
    "##"
   ]
  },
  {
   "cell_type": "code",
   "execution_count": 8,
   "metadata": {
    "collapsed": false
   },
   "outputs": [
    {
     "data": {
      "text/plain": [
       "1e-10"
      ]
     },
     "execution_count": 8,
     "metadata": {},
     "output_type": "execute_result"
    }
   ],
   "source": [
    "1./(100*1e3)**2"
   ]
  },
  {
   "cell_type": "code",
   "execution_count": null,
   "metadata": {
    "collapsed": true
   },
   "outputs": [],
   "source": []
  }
 ],
 "metadata": {
  "kernelspec": {
   "display_name": "Python 2",
   "language": "python",
   "name": "python2"
  },
  "language_info": {
   "codemirror_mode": {
    "name": "ipython",
    "version": 2
   },
   "file_extension": ".py",
   "mimetype": "text/x-python",
   "name": "python",
   "nbconvert_exporter": "python",
   "pygments_lexer": "ipython2",
   "version": "2.7.12"
  }
 },
 "nbformat": 4,
 "nbformat_minor": 0
}
