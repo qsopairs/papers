{
 "cells": [
  {
   "cell_type": "markdown",
   "metadata": {},
   "source": [
    "# QPQ9 Sample"
   ]
  },
  {
   "cell_type": "code",
   "execution_count": 1,
   "metadata": {
    "collapsed": true
   },
   "outputs": [],
   "source": [
    "%matplotlib inline"
   ]
  },
  {
   "cell_type": "code",
   "execution_count": 53,
   "metadata": {
    "collapsed": true
   },
   "outputs": [],
   "source": [
    "# imports\n",
    "from scipy.io import readsav as scirs\n",
    "import copy, os, glob, imp\n",
    "import numpy as np\n",
    "\n",
    "from astropy.coordinates import SkyCoord\n",
    "from astropy import units as u\n",
    "from astropy.table import Column, Table\n",
    "\n",
    "from xastropy.xutils import fits as xxf\n",
    "from specdb.specdb import IgmSpec\n",
    "\n",
    "from linetools import utils as ltu\n",
    "\n",
    "from astropy.cosmology import FlatLambdaCDM\n",
    "cosmo = FlatLambdaCDM(H0=70, Om0=0.26)\n",
    "\n",
    "import enigma"
   ]
  },
  {
   "cell_type": "markdown",
   "metadata": {},
   "source": [
    "## QPQ Sample Code\n",
    "Modifying lya_qpq_sample.pro in pro/data/photo\n",
    "\n",
    "Created QPQ-CGM-IR  [Joe did]\n",
    "\n",
    "QPQ-CGM-IR_00.000-00.300_Sat-Apr-25-21:33:45-2015.sav\n",
    "\n",
    "### Try MgII $z_{\\rm em}$ someday"
   ]
  },
  {
   "cell_type": "markdown",
   "metadata": {},
   "source": [
    "## Read the Sample and Collate"
   ]
  },
  {
   "cell_type": "code",
   "execution_count": 3,
   "metadata": {
    "collapsed": false
   },
   "outputs": [
    {
     "name": "stdout",
     "output_type": "stream",
     "text": [
      "x.fits.bintab_to_table: Reading /Users/lwymarie/Dropbox//QSOPairs/QPQ-CGM-IR/QPQ-CGM-IR_00.000-00.300_Tue-May-26-18:12:57-2015_qsobg.fits\n",
      "x.fits.bintab_to_table: Reading /Users/lwymarie/Dropbox//QSOPairs/QPQ-CGM-IR/QPQ-CGM-IR_00.000-00.300_Tue-May-26-18:12:57-2015_qsofg.fits\n"
     ]
    }
   ],
   "source": [
    "# IDL savefile read failed..\n",
    "#dat = scirs(os.getenv('DROPBOX_DIR')+'/QSOPairs/QSO-CGM-IR/QPQ-CGM-IR_00.000-00.300_Sat-Apr-25-21:33:45-2015.sav',verbose=True)\n",
    "#dat\n",
    "\n",
    "# Wrote a binary FITS table from IDL\n",
    "#bgfil = 'QPQ-CGM-IR_00.000-00.300_Sat-Apr-25-21:33:45-2015_qsobg.fits.gz'\n",
    "#fgfil = 'QPQ-CGM-IR_00.000-00.300_Sat-Apr-25-21:33:45-2015_qsofg.fits.gz'\n",
    "#\n",
    "bgfil = 'QPQ-CGM-IR_00.000-00.300_Tue-May-26-18:12:57-2015_qsobg.fits'\n",
    "fgfil = 'QPQ-CGM-IR_00.000-00.300_Tue-May-26-18:12:57-2015_qsofg.fits'\n",
    "#\n",
    "qso_bg = xxf.bintab_to_table(os.getenv('DROPBOX_DIR')+'/QSOPairs/QPQ-CGM-IR/'+bgfil)\n",
    "#\n",
    "qso_fg = xxf.bintab_to_table(os.getenv('DROPBOX_DIR')+'/QSOPairs/QPQ-CGM-IR/'+fgfil)\n",
    "#qso_fg[['NAME','LYA_FILE', 'Z_IR']]"
   ]
  },
  {
   "cell_type": "code",
   "execution_count": 4,
   "metadata": {
    "collapsed": false
   },
   "outputs": [
    {
     "data": {
      "text/plain": [
       "34"
      ]
     },
     "execution_count": 4,
     "metadata": {},
     "output_type": "execute_result"
    }
   ],
   "source": [
    "# Collate Tables, calculate R_perp\n",
    "qpq9 = copy.deepcopy(qso_bg)\n",
    "# Add/replce key columns from qso_fg\n",
    "oldc = ['Z_IR','SIGMA_ZIR', 'RA', 'DEC']\n",
    "newc = ['FG_ZIR', 'FG_SIG_ZIR', 'FG_RA', 'FG_DEC']\n",
    "for jj,ioldc in enumerate(oldc):\n",
    "    tmpc = Column( qso_fg[ioldc], name=newc[jj])\n",
    "    #print newc[jj]\n",
    "    qpq9.add_column( tmpc )\n",
    "# \n",
    "qpq9['G_UV'] = qso_fg['G_UV']\n",
    "qpq9.add_column( Column( qso_bg['Z_TOT'], name='BG_Z') )\n",
    "len(qpq9)"
   ]
  },
  {
   "cell_type": "markdown",
   "metadata": {},
   "source": [
    "### Rphys"
   ]
  },
  {
   "cell_type": "code",
   "execution_count": 5,
   "metadata": {
    "collapsed": true
   },
   "outputs": [],
   "source": [
    "# Coordinates\n",
    "c_fg = SkyCoord(ra=qpq9['FG_RA']*u.deg, dec=qpq9['FG_DEC']*u.deg)\n",
    "c_bg = SkyCoord(ra=qpq9['RA']*u.deg, dec=qpq9['DEC']*u.deg)\n",
    "# Separation\n",
    "kpc_amin = cosmo.kpc_proper_per_arcmin( qpq9['FG_ZIR'] ) # kpc per arcmin\n",
    "ang_sep = c_fg.separation(c_bg).to('arcmin')\n",
    "Rphys = kpc_amin * ang_sep\n",
    "# Add\n",
    "if 'R_PHYS' not in qpq9.dtype.names:\n",
    "    qpq9.add_column(Column( Rphys, name='R_PHYS'))\n",
    "#qpq9[['NAME', 'RA', 'DEC', 'R_PHYS', 'LYA_FILE', 'FG_ZIR']][0:3]\n",
    "#xdb.xhist(qpq9['R_PHYS'].value)"
   ]
  },
  {
   "cell_type": "markdown",
   "metadata": {},
   "source": [
    "## Cuts"
   ]
  },
  {
   "cell_type": "code",
   "execution_count": 6,
   "metadata": {
    "collapsed": false
   },
   "outputs": [
    {
     "name": "stdout",
     "output_type": "stream",
     "text": [
      "We have 33 pairs in QPQ9\n"
     ]
    }
   ],
   "source": [
    "# Lya beta\n",
    "zLya_beta = (qpq9['BG_Z']+1)*1025.7223 / 1215.6701 - 1\n",
    "dv_beta = ltu.v_from_z(qpq9['FG_ZIR'], zLya_beta)\n",
    "gd_beta = dv_beta > (-500*u.km/u.s)\n",
    "#\n",
    "qpq9 = qpq9[gd_beta]\n",
    "print('We have {:d} pairs in QPQ9'.format(len(qpq9)))\n",
    "#xdb.xpcol(zLya_beta, qpq9['FG_ZIR'], qpq9['BG_Z'])"
   ]
  },
  {
   "cell_type": "code",
   "execution_count": 168,
   "metadata": {
    "collapsed": false
   },
   "outputs": [
    {
     "data": {
      "text/plain": [
       "[u'00h57m18.9032s -00d01m34.7191s',\n",
       " u'02h25m19.5047s +00d48m23.7018s',\n",
       " u'08h00m48.7364s +35d42m31.3116s',\n",
       " u'08h37m57.1315s +38d37m22.4142s',\n",
       " u'08h41m59.2585s +39d21m39.9871s',\n",
       " u'08h53m57.4929s -00d11m06.1845s',\n",
       " u'09h10m46.6883s +04d14m48.3729s',\n",
       " u'09h13m38.9723s -01d07m04.6248s',\n",
       " u'09h14m30.8464s +01d09m27.4988s',\n",
       " u'09h32m25.6005s +09d25m00.2083s',\n",
       " u'09h38m04.8366s +53d17m43.0627s',\n",
       " u'10h02m47.142s +00d20m53.008s',\n",
       " u'10h06m27.1001s +48d04m29.9489s',\n",
       " u'10h10m03.4655s +40d37m54.8799s',\n",
       " u'10h26m16.115s +46d14m20.8283s',\n",
       " u'10h39m00.0131s +50d26m52.8353s',\n",
       " u'11h41m45.4274s +07d24m23.2702s',\n",
       " u'11h44m36.6522s +09d59m04.9441s',\n",
       " u'12h04m16.6875s +02d21m10.9974s',\n",
       " u'12h31m41.7338s +00d29m13.9414s',\n",
       " u'12h49m48.094s +06d07m09.2248s',\n",
       " u'13h01m25.6722s +47d59m30.8175s',\n",
       " u'13h06m03.55s +61d58m35.2s',\n",
       " u'14h02m09.5219s +47d01m17.8303s',\n",
       " u'14h20m04.1158s +02d27m08.7626s',\n",
       " u'14h20m54.9163s +16d03m42.9165s',\n",
       " u'14h27m58.7365s -01d21m36.1799s',\n",
       " u'14h33m44.5504s +06d41m11.9353s',\n",
       " u'15h53m25.8865s +19d21m37.6938s',\n",
       " u'16h27m37.2482s +46d06m09.334s',\n",
       " u'16h27m37.9067s +22d15m09.3052s',\n",
       " u'21h46m20.9864s -07d53m03.7771s',\n",
       " u'22h02m48.3073s +12d36m56.2828s']"
      ]
     },
     "execution_count": 168,
     "metadata": {},
     "output_type": "execute_result"
    }
   ],
   "source": [
    "c = SkyCoord(qpq9['RA']*u.deg,qpq9['DEC']*u.deg)\n",
    "c.to_string('hmsdms')"
   ]
  },
  {
   "cell_type": "markdown",
   "metadata": {},
   "source": [
    "## Write"
   ]
  },
  {
   "cell_type": "code",
   "execution_count": 25,
   "metadata": {
    "collapsed": true
   },
   "outputs": [],
   "source": [
    "# Don't write. The current qpq9_zIR.fits made by Joe/X have more columns then what the code above gives. \n",
    "#xxf.table_to_fits(qpq9, 'qpq9_zIR.fits')"
   ]
  },
  {
   "cell_type": "markdown",
   "metadata": {},
   "source": [
    "# Make a new sample merging QPQ9_zIR and QPQ7 cut for MgII and 300 kpc"
   ]
  },
  {
   "cell_type": "code",
   "execution_count": 7,
   "metadata": {
    "collapsed": false
   },
   "outputs": [
    {
     "name": "stdout",
     "output_type": "stream",
     "text": [
      "x.fits.bintab_to_table: Reading qpq9_zIR.fits\n",
      "x.fits.bintab_to_table: Reading /Users/lwymarie/python/enigma/enigma/data/qpq/qpq7_pairs.fits.gz\n"
     ]
    }
   ],
   "source": [
    "zIR_fil = 'qpq9_zIR.fits'\n",
    "QPQ7_fil = imp.find_module('enigma')[1] + '/data/qpq/qpq7_pairs.fits.gz'\n",
    "QPQ_zIR = xxf.bintab_to_table(zIR_fil)\n",
    "QPQ7 = xxf.bintab_to_table(QPQ7_fil)"
   ]
  },
  {
   "cell_type": "code",
   "execution_count": 18,
   "metadata": {
    "collapsed": false
   },
   "outputs": [
    {
     "data": {
      "text/plain": [
       "[u'00h02m11.7688s -05d29m08.4859s',\n",
       " u'00h04m26.43s +00d57m03.5887s',\n",
       " u'00h05m36.2925s +00d09m22.7864s',\n",
       " u'00h06m29.9219s -00d15m59.1245s',\n",
       " u'00h08m39.3164s -00d53m36.7938s',\n",
       " u'00h10m28.7854s -00d51m55.7185s',\n",
       " u'00h16m31.7156s -01d04m26.9079s',\n",
       " u'00h16m37.1051s +00d59m36.7986s',\n",
       " u'00h21m26.1023s -02d52m22.0575s',\n",
       " u'00h26m13.6347s -01d01m32.2601s',\n",
       " u'00h28m01.1844s -10d49m33.955s',\n",
       " u'00h31m35.5779s +00d34m21.2896s',\n",
       " u'00h34m23.0635s -10d50m02.0012s',\n",
       " u'00h39m24.5416s +00d25m01.5903s',\n",
       " u'00h46m00.4766s +00d05m43.6494s',\n",
       " u'00h47m38.1967s +00d19m55.3507s',\n",
       " u'01h01m34.9302s +03d17m01.4335s',\n",
       " u'01h08m57.2104s +00d01m54.5883s',\n",
       " u'01h11m44.0659s +14d04m01.6467s',\n",
       " u'01h11m50.0669s +14d01m41.3775s',\n",
       " u'01h12m24.284s +00d35m53.3073s',\n",
       " u'01h27m41.2039s +15d06m55.8824s',\n",
       " u'01h27m42.5738s +15d07m38.4275s',\n",
       " u'01h27m43.5328s +15d06m48.3938s',\n",
       " u'01h30m40.4298s +04d40m53.0692s',\n",
       " u'01h31m34.3283s -01d03m49.0185s',\n",
       " u'01h32m10.5003s +13d17m11.7203s',\n",
       " u'01h36m57.9743s +09d57m49.8345s',\n",
       " u'01h40m12.0392s +02d39m47.0414s',\n",
       " u'01h41m00.8376s +02d28m17.3809s',\n",
       " u'01h42m16.4061s +00d23m28.5542s',\n",
       " u'01h45m20.8165s +00d20m21.7982s',\n",
       " u'01h49m17.1049s -00d21m41.6461s',\n",
       " u'01h52m41.1833s -00d33m35.3197s',\n",
       " u'01h52m45.8355s +00d38m49.5753s',\n",
       " u'01h52m59.0946s +05d37m58.6888s',\n",
       " u'01h56m54.2664s +03d09m53.0906s',\n",
       " u'02h02m39.5446s +00d16m36.3708s',\n",
       " u'02h03m40.4033s -00d02m01.8419s',\n",
       " u'02h04m20.739s +05d08m19.0371s',\n",
       " u'02h25m13.4135s +00d47m42.3092s',\n",
       " u'02h25m17.6802s +00d48m21.9685s',\n",
       " u'02h30m11.2838s +00d59m13.6139s',\n",
       " u'02h30m18.2659s -03d33m19.4168s',\n",
       " u'02h30m46.1653s -04d33m50.808s',\n",
       " u'02h33m12.0778s -00d24m50.1192s',\n",
       " u'02h34m03.3692s +04d25m41.271s',\n",
       " u'02h37m29.948s +03d46m42.2965s',\n",
       " u'02h42m16.7303s -02d59m15.2637s',\n",
       " u'02h44m09.831s -00d02m11.6759s',\n",
       " u'02h44m27.4664s +01d01m20.4843s',\n",
       " u'02h44m47.8791s +01d02m50.0017s',\n",
       " u'02h46m37.505s -00d09m17.7998s',\n",
       " u'02h47m20.7812s -00d00m38.8751s',\n",
       " u'02h57m52.9299s -01d03m34.2195s',\n",
       " u'03h41m35.3771s -00d00m38.8734s',\n",
       " u'03h41m38.1578s +00d00m02.9332s',\n",
       " u'03h50m53.05s -00d32m00.077s',\n",
       " u'03h50m53.2936s -00d31m14.7371s',\n",
       " u'04h09m55.872s -04d11m26.9365s',\n",
       " u'07h29m09.143s +32d44m18.6534s',\n",
       " u'07h32m04.253s +37d39m09.0753s',\n",
       " u'07h34m30.6998s +36d27m47.4842s',\n",
       " u'07h42m13.2064s +34d11m34.5228s',\n",
       " u'07h43m51.5117s +30d09m05.3328s',\n",
       " u'07h43m57.0673s +30d07m42.6979s',\n",
       " u'07h44m16.177s +25d00m06.3848s',\n",
       " u'07h45m19.4113s +47d55m53.347s',\n",
       " u'07h46m54.9148s +37d54m57.4638s',\n",
       " u'07h48m31.8594s +39d29m13.2647s',\n",
       " u'07h48m48.4087s +26d50m23.9785s',\n",
       " u'07h50m41.0682s +43d35m30.9214s',\n",
       " u'07h51m21.3671s +42d56m51.6403s',\n",
       " u'07h52m59.8146s +40d11m28.2199s',\n",
       " u'07h53m58.0241s +19d35m47.9348s',\n",
       " u'07h55m16.076s +49d27m43.7919s',\n",
       " u'07h56m38.8647s +38d26m29.2644s',\n",
       " u'07h58m24.3461s +45d56m14.4582s',\n",
       " u'07h58m58.1621s +51d30m01.9118s',\n",
       " u'07h59m32.2022s +28d17m40.0101s',\n",
       " u'08h00m49.8934s +35d42m49.6331s',\n",
       " u'08h01m50.9502s +11d34m55.5752s',\n",
       " u'08h04m37.1725s +33d17m41.7673s',\n",
       " u'08h05m45.72s +30d19m44.4028s',\n",
       " u'08h06m14.6748s +42d31m04.1721s',\n",
       " u'08h09m16.8896s +45d40m42.0276s',\n",
       " u'08h11m49.8637s +32d15m55.7056s',\n",
       " u'08h13m08.5612s +10d10m31.1105s',\n",
       " u'08h13m12.2507s +20d06m02.1312s',\n",
       " u'08h13m45.0072s +41d46m03.7459s',\n",
       " u'08h16m43.1973s +47d55m55.5471s',\n",
       " u'08h16m55.2794s +47d56m11.8657s',\n",
       " u'08h17m01.9097s +38d59m36.3525s',\n",
       " u'08h18m13.1484s +07d20m54.9421s',\n",
       " u'08h19m31.0352s +36d54m06.9175s',\n",
       " u'08h21m50.9362s +13d22m30.7615s',\n",
       " u'08h27m04.2177s +32d30m26.9422s',\n",
       " u'08h27m04.2177s +32d30m26.9422s',\n",
       " u'08h27m27.7943s +35d24m04.5925s',\n",
       " u'08h27m27.7943s +35d24m04.5925s',\n",
       " u'08h27m34.5054s +10d46m24.7868s',\n",
       " u'08h27m38.5879s +35d25m05.1484s',\n",
       " u'08h27m50.4691s +36d00m07.0221s',\n",
       " u'08h28m43.368s +45d45m17.2955s',\n",
       " u'08h28m57.771s +28d27m02.9542s',\n",
       " u'08h29m13.9238s +26d53m36.0501s',\n",
       " u'08h29m23.8828s +19d16m06.2146s',\n",
       " u'08h31m11.8362s +51d04m18.0405s',\n",
       " u'08h32m03.5502s +14d47m01.6976s',\n",
       " u'08h37m13.5609s +36d30m37.3449s',\n",
       " u'08h37m57.9143s +38d37m27.1164s',\n",
       " u'08h41m07.2413s +33d39m21.7188s',\n",
       " u'08h41m58.4701s +39d21m20.9741s',\n",
       " u'08h45m34.8976s +38d04m33.6126s',\n",
       " u'08h45m36.1953s +06d41m01.7759s',\n",
       " u'08h47m25.1889s +41d26m49.7917s',\n",
       " u'08h51m59.8912s +16d55m34.6109s',\n",
       " u'08h53m58.3643s -00d11m08.0445s',\n",
       " u'08h55m40.1886s +35d10m12.3041s',\n",
       " u'09h07m53.7393s -01d10m57.5317s',\n",
       " u'09h10m15.8312s -00d32m24.1302s',\n",
       " u'09h10m46.4005s +04d14m58.5137s',\n",
       " u'09h13m38.3041s -01d07m08.6799s',\n",
       " u'09h14m32.0166s +01d09m12.4292s',\n",
       " u'09h24m11.306s +39d30m38.1973s',\n",
       " u'09h24m11.306s +39d30m38.1973s',\n",
       " u'09h24m17.6496s +39d29m20.2547s',\n",
       " u'09h27m43.0141s +29d07m34.7207s',\n",
       " u'09h29m43.9624s +00d00m37.1848s',\n",
       " u'09h32m26.3442s +09d25m26.1109s',\n",
       " u'09h33m33.0164s +02d26m15.7991s',\n",
       " u'09h36m40.3458s -00d58m40.0921s',\n",
       " u'09h38m04.2176s +53d17m43.9099s',\n",
       " u'09h42m06.951s +35d23m07.4753s',\n",
       " u'09h44m45.4525s +03d37m13.6392s',\n",
       " u'09h48m26.4451s +03d58m34.5478s',\n",
       " u'09h49m10.9694s +03d59m01.0455s',\n",
       " u'09h49m40.4703s +38d29m34.4653s',\n",
       " u'09h50m32.7368s +01d04m14.4846s',\n",
       " u'09h50m59.4908s -01d38m10.8087s',\n",
       " u'09h51m02.6399s +42d48m01.9743s',\n",
       " u'09h51m50.9433s +00d33m28.1743s',\n",
       " u'09h52m29.9922s +43d32m12.5369s',\n",
       " u'09h56m12.548s +05d37m51.6322s',\n",
       " u'10h00m52.4423s +06d24m54.0877s',\n",
       " u'10h00m56.8224s -01d00m13.2619s',\n",
       " u'10h02m08.1009s +44d51m16.5578s',\n",
       " u'10h02m23.112s +37d38m29.3541s',\n",
       " u'10h02m48.6884s -02d01m17.7936s',\n",
       " u'10h05m09.5996s +50d19m29.7953s',\n",
       " u'10h06m27.4684s +48d04m20.0462s',\n",
       " u'10h07m24.8069s +03d47m39.8979s',\n",
       " u'10h09m41.3471s +25d01m04.0768s',\n",
       " u'10h10m01.5087s +40d37m55.4801s',\n",
       " u'10h10m40.9644s +41d51m25.2864s',\n",
       " u'10h14m02.7612s -00d26m03.7206s',\n",
       " u'10h19m14.5112s +41d18m20.4461s',\n",
       " u'10h19m57.602s +37d51m09.1961s',\n",
       " u'10h20m06.757s +06d24m14.5864s',\n",
       " u'10h23m38.3462s -00d57m59.5934s',\n",
       " u'10h23m57.3101s +04d44m05.5197s',\n",
       " u'10h24m26.2969s +43d47m31.3998s',\n",
       " u'10h25m02.8079s +37d17m36.9366s',\n",
       " u'10h25m16.4301s +58d19m42.4451s',\n",
       " u'10h25m42.9684s +00d10m51.1958s',\n",
       " u'10h26m18.805s +46d14m45.2749s',\n",
       " u'10h29m45.8387s +36d14m31.9783s',\n",
       " u'10h34m28.1541s +01d27m26.7623s',\n",
       " u'10h38m57.371s +50d27m07.9798s',\n",
       " u'10h39m54.2085s +34d52m07.9889s',\n",
       " u'10h41m21.8978s +56d30m01.3339s',\n",
       " u'10h41m43.0992s +19d57m22.1954s',\n",
       " u'10h45m08.8768s +43d51m18.2108s',\n",
       " u'10h46m55.2111s -00d45m30.4257s',\n",
       " u'10h49m41.5967s -02d32m31.3812s',\n",
       " u'10h51m33.8513s -00d14m15.622s',\n",
       " u'10h53m00.5707s +36d46m33.2964s',\n",
       " u'10h53m57.4376s +06d28m45.8532s',\n",
       " u'10h56m09.9279s +03d58m21.0522s',\n",
       " u'11h00m10.8773s +33d55m35.6546s',\n",
       " u'11h01m29.8898s +41d17m09.8619s',\n",
       " u'11h07m58.437s -00d01m23.9888s',\n",
       " u'11h12m26.0621s +66d12m25.2497s',\n",
       " u'11h12m42.6889s +66d11m52.8476s',\n",
       " u'11h12m45.7075s +66d12m15.4025s',\n",
       " u'11h15m20.3776s +01d34m22.6033s',\n",
       " u'11h16m20.0274s +36d04m37.8677s',\n",
       " u'11h21m09.6622s +37d47m16.8069s',\n",
       " u'11h23m21.2422s +01d41m16.0414s',\n",
       " u'11h31m52.2418s -02d22m52.9108s',\n",
       " u'11h32m53.9117s +03d24m46.546s',\n",
       " u'11h32m55.5619s +00d23m32.6907s',\n",
       " u'11h33m23.5214s +32d35m19.4492s',\n",
       " u'11h34m22.9803s +40d52m29.1135s',\n",
       " u'11h34m45.7618s +37d40m15.397s',\n",
       " u'11h41m46.1872s +07d24m10.9906s',\n",
       " u'11h41m55.4256s +53d13m07.9705s',\n",
       " u'11h42m18.6974s -00d13m45.9714s',\n",
       " u'11h43m56.2585s +36d29m18.0303s',\n",
       " u'11h44m35.5363s +09d59m21.6965s',\n",
       " u'11h45m46.54s +03d22m36.7476s',\n",
       " u'11h46m57.151s +39d04m44.3416s',\n",
       " u'11h47m06.5133s +35d31m50.4354s',\n",
       " u'11h49m08.7683s +03d46m13.1707s',\n",
       " u'11h50m13.4454s +00d02m26.0601s',\n",
       " u'11h52m10.4284s +45d18m25.8784s',\n",
       " u'11h53m34.6438s -02d46m10.2899s',\n",
       " u'11h57m36.7606s -00d09m17.0405s',\n",
       " u'11h58m09.6525s +34d38m02.7527s',\n",
       " u'12h04m17.4691s +02d21m04.7177s',\n",
       " u'12h04m22.3094s +02d22m16.8432s',\n",
       " u'12h04m22.3094s +02d22m16.8432s',\n",
       " u'12h05m50.3544s +00d40m13.6265s',\n",
       " u'12h08m08.115s +39d46m10.0993s',\n",
       " u'12h08m15.6321s +39d31m44.2918s',\n",
       " u'12h08m56.94s +07d37m41.2172s',\n",
       " u'12h08m57.1624s +07d37m27.3039s',\n",
       " u'12h13m43.0368s +34d37m11.7761s',\n",
       " u'12h15m32.8358s -03d08m39.3085s',\n",
       " u'12h17m50.3103s +33d58m26.2955s',\n",
       " u'12h19m59.688s +00d26m03.5627s',\n",
       " u'12h21m05.7651s +16d56m22.8238s',\n",
       " u'12h24m50.7073s -02d27m27.3395s',\n",
       " u'12h25m16.7994s +04d25m37.7971s',\n",
       " u'12h27m01.9844s -02d28m28.8355s',\n",
       " u'12h27m28.4152s -00d32m46.2952s',\n",
       " u'12h28m32.944s -02d20m05.4208s',\n",
       " u'12h29m47.9047s -00d24m17.7939s',\n",
       " u'12h30m41.9987s +36d35m27.5798s',\n",
       " u'12h31m05.4805s +05d26m44.5861s',\n",
       " u'12h31m43.0985s +00d28m46.2929s',\n",
       " u'12h33m59.12s +37d04m01.1634s',\n",
       " u'12h34m30.1636s +35d19m37.0334s',\n",
       " u'12h34m34.6753s +38d25m40.7801s',\n",
       " u'12h35m11.0998s -01d08m29.4992s',\n",
       " u'12h36m09.1784s +00d11m25.8331s',\n",
       " u'12h37m47.4701s +05d29m46.2657s',\n",
       " u'12h39m36.3389s +36d14m04.2429s',\n",
       " u'12h41m03.1288s -00d04m40.5889s',\n",
       " u'12h41m04.8787s +02d51m34.7378s',\n",
       " u'12h41m05.1403s +02d25m42.6883s',\n",
       " u'12h47m00.9777s +37d39m36.3471s',\n",
       " u'12h49m48.1823s +06d07m14.0484s',\n",
       " u'12h51m01.6785s +42d36m17.4847s',\n",
       " u'12h51m25.4818s +36d35m02.1551s',\n",
       " u'12h51m31.7176s +35d16m37.7186s',\n",
       " u'12h54m30.5875s -00d13m07.6263s',\n",
       " u'12h56m09.1077s +42d04m02.6996s',\n",
       " u'12h56m24.798s +14d42m00.0157s',\n",
       " u'12h58m18.4711s +02d04m50.8497s',\n",
       " u'13h02m22.6525s +03d45m34.9708s',\n",
       " u'13h03m24.638s +03d11m47.0502s',\n",
       " u'13h05m24.904s +03d11m35.1706s',\n",
       " u'13h06m05.1901s +61d58m23.7241s',\n",
       " u'13h08m38.9185s +02d26m31.0102s',\n",
       " u'13h11m31.4789s +34d59m03.2882s',\n",
       " u'13h11m33.7462s +34d57m39.8478s',\n",
       " u'13h14m33.7931s +28d17m02.6315s',\n",
       " u'13h19m11.162s -00d36m29.5069s',\n",
       " u'13h21m26.4651s +35d39m22.9738s',\n",
       " u'13h27m40.582s +34d23m23.7427s',\n",
       " u'13h31m17.9979s +39d24m06.2482s',\n",
       " u'13h33m18.9864s +36d23m48.2184s',\n",
       " u'13h39m05.8595s +35d05m32.6445s',\n",
       " u'13h40m23.2234s +40d09m35.1247s',\n",
       " u'13h41m15.5609s +01d08m12.7868s',\n",
       " u'13h43m17.7388s +32d45m23.8426s',\n",
       " u'13h43m42.1053s +00d19m20.7877s',\n",
       " u'13h43m58.5935s +35d59m16.0987s',\n",
       " u'13h49m22.789s +34d33m14.5918s',\n",
       " u'13h50m29.9215s -01d43m31.5977s',\n",
       " u'13h51m47.1056s +34d12m14.7666s',\n",
       " u'13h53m20.4451s +39d34m06.5655s',\n",
       " u'13h54m17.9057s +33d48m59.8137s',\n",
       " u'13h55m04.5823s +36d38m02.0099s',\n",
       " u'13h56m32.4439s +61d33m00.692s',\n",
       " u'13h57m19.0825s +01d17m05.4372s',\n",
       " u'13h58m49.7126s +27d38m06.8626s',\n",
       " u'14h02m08.0965s +47d01m11.1266s',\n",
       " u'14h04m06.7562s +36d58m41.3209s',\n",
       " u'14h05m12.7128s +34d11m40.8194s',\n",
       " u'14h09m18.0061s +52d25m52.3684s',\n",
       " u'14h11m37.1131s +30d55m48.2288s',\n",
       " u'14h12m06.3177s +30d54m35.8022s',\n",
       " u'14h12m26.8953s +05d21m46.8845s',\n",
       " u'14h13m21.9753s +06d05m35.5954s',\n",
       " u'14h13m37.1791s +27d15m17.0969s',\n",
       " u'14h14m22.7748s +30d53m11.5023s',\n",
       " u'14h14m58.3686s +38d05m42.5328s',\n",
       " u'14h16m33.0418s +35d10m57.0299s',\n",
       " u'14h18m21.3771s +04d40m39.6663s',\n",
       " u'14h18m23.8435s +31d06m08.86s',\n",
       " u'14h19m21.8263s +30d26m33.2154s',\n",
       " u'14h19m28.1321s +30d27m31.3365s',\n",
       " u'14h21m29.417s -02d33m00.1545s',\n",
       " u'14h22m49.1871s +42d02m46.0821s',\n",
       " u'14h23m43.0891s +32d33m00.5043s',\n",
       " u'14h24m28.0764s +33d23m32.5737s',\n",
       " u'14h25m22.4004s +31d42m06.5996s',\n",
       " u'14h26m24.6385s +03d00m43.5877s',\n",
       " u'14h27m58.8881s -01d21m30.3709s',\n",
       " u'14h28m14.1165s +33d48m59.3816s',\n",
       " u'14h29m17.4963s +32d04m43.6898s',\n",
       " u'14h30m53.8496s +07d17m11.6737s',\n",
       " u'14h31m05.953s +57d29m07.9435s',\n",
       " u'14h31m09.6746s +57d27m28.9987s',\n",
       " u'14h31m28.4283s -00d44m50.0621s',\n",
       " u'14h32m25.4364s -02d16m24.2035s',\n",
       " u'14h35m29.6975s +02d11m29.3714s',\n",
       " u'14h37m31.2625s +02d34m00.751s',\n",
       " u'14h38m22.9495s +00d37m30.8579s',\n",
       " u'14h42m32.9167s +01d37m30.4042s',\n",
       " u'14h44m29.3999s +31d13m21.2384s',\n",
       " u'14h45m13.5661s +07d56m45.9852s',\n",
       " u'14h53m26.1511s +00d23m57.1128s',\n",
       " u'14h53m39.5928s +05d46m06.151s',\n",
       " u'14h56m28.7616s +01d02m49.7329s',\n",
       " u'15h08m06.5412s -01d49m25.1379s',\n",
       " u'15h08m14.0616s +36d35m29.357s',\n",
       " u'15h10m07.7125s +15d47m47.0501s',\n",
       " u'15h10m49.4772s +21d01m30.8601s',\n",
       " u'15h11m04.5166s +26d42m58.3442s',\n",
       " u'15h14m19.5366s +21d01m26.6764s',\n",
       " u'15h16m19.0458s +24d54m06.8364s',\n",
       " u'15h16m31.7727s +04d13m01.8706s',\n",
       " u'15h18m01.7794s +27d05m40.3847s',\n",
       " u'15h19m20.7533s +37d49m02.281s',\n",
       " u'15h19m59.749s +33d17m40.839s',\n",
       " u'15h24m22.0581s +01d39m56.7938s',\n",
       " u'15h25m09.9857s +07d17m05.5092s',\n",
       " u'15h26m20.7545s +05d21m28.3974s',\n",
       " u'15h27m36.787s +17d54m03.2993s',\n",
       " u'15h32m31.6973s +15d33m51.2163s',\n",
       " u'15h33m28.8312s +14d25m42.5012s',\n",
       " u'15h40m58.7135s +47d38m27.6688s',\n",
       " u'15h42m26.9076s +17d33m00.4854s',\n",
       " u'15h45m44.1538s +51d13m07.5055s',\n",
       " u'15h48m31.9264s +31d19m51.4755s',\n",
       " u'15h52m11.7382s +14d11m58.9386s',\n",
       " u'15h53m25.6077s +19d21m40.9522s',\n",
       " u'15h53m52.8892s +06d19m33.542s',\n",
       " u'15h54m34.7679s +28d43m03.4873s',\n",
       " u'15h54m49.9394s +18d58m53.4282s',\n",
       " u'15h56m41.7413s +07d00m41.1479s',\n",
       " u'15h59m09.6577s +10d57m01.45s',\n",
       " u'15h59m44.942s +19d22m41.1339s',\n",
       " u'15h59m47.7342s +49d43m07.2919s',\n",
       " u'15h59m47.7342s +49d43m07.2919s',\n",
       " u'16h01m00.7557s +04d34m25.6025s',\n",
       " u'16h01m22.3017s +05d43m43.5239s',\n",
       " u'16h05m47.6055s +51d13m30.5441s',\n",
       " u'16h06m20.3026s +32d14m22.7716s',\n",
       " u'16h06m39.7585s +29d50m19.4577s',\n",
       " u'16h10m24.8894s +04d42m18.408s',\n",
       " u'16h10m34.5079s +27d25m18.3988s',\n",
       " u'16h10m57.6867s +03d23m57.6973s',\n",
       " u'16h11m06.3036s +19d38m12.2077s',\n",
       " u'16h12m22.2975s +36d10m45.1758s',\n",
       " u'16h19m01.7241s +32d14m54.9655s',\n",
       " u'16h21m41.0132s +35d07m12.7671s',\n",
       " u'16h21m41.0132s +35d07m12.7671s',\n",
       " u'16h23m23.6712s +33d12m32.6129s',\n",
       " u'16h24m35.9168s +13d37m39.876s',\n",
       " u'16h24m41.9773s +44d00m48.7484s',\n",
       " u'16h26m02.3726s +26d43m37.8134s',\n",
       " u'16h26m32.2941s +12d38m44.7097s',\n",
       " u'16h27m36.3981s +22d15m38.0855s',\n",
       " u'16h27m38.6328s +46d05m38.3874s',\n",
       " u'16h32m06.43s +19d37m52.2963s',\n",
       " u'16h33m05.8531s +22d27m19.7513s',\n",
       " u'16h39m00.9277s +21d16m07.2895s',\n",
       " u'16h45m22.4909s +22d21m30.9346s',\n",
       " u'16h45m47.2839s +22d45m34.4454s',\n",
       " u'16h47m38.0298s +17d10m28.0622s',\n",
       " u'16h47m50.8721s +23d04m39.4918s',\n",
       " u'16h53m19.3457s +21d32m57.2902s',\n",
       " u'16h57m16.8526s +31d05m13.9773s',\n",
       " u'16h57m40.6366s +32d05m50.8431s',\n",
       " u'17h07m50.2306s +23d04m30.1488s',\n",
       " u'17h10m39.9892s +22d15m23.1334s',\n",
       " u'17h13m56.1459s +33d58m43.9793s',\n",
       " u'17h17m41.4674s +23d58m27.5966s',\n",
       " u'17h19m37.8641s +29d18m04.9932s',\n",
       " u'17h21m44.7016s +26d52m05.6972s',\n",
       " u'17h23m16.3458s +32d57m23.2097s',\n",
       " u'17h28m40.2057s +28d00m45.3024s',\n",
       " u'21h16m59.1824s +01d05m45.5392s',\n",
       " u'21h22m08.7421s -00d18m13.8321s',\n",
       " u'21h22m21.985s +07d37m59.2989s',\n",
       " u'21h22m32.7621s -00d20m35.6505s',\n",
       " u'21h30m53.9207s +06d27m44.8953s',\n",
       " u'21h34m38.9652s +00d09m53.7509s',\n",
       " u'21h35m20.6079s -01d07m49.5243s',\n",
       " u'21h36m10.37s +08d42m02.3425s',\n",
       " u'21h41m02.8134s -00d19m46.0846s',\n",
       " u'21h41m50.9951s +06d30m34.8745s',\n",
       " u'21h43m18.7567s +01d07m51.2864s',\n",
       " u'21h46m20.6876s -07d52m50.6078s',\n",
       " u'21h49m03.8473s +04d25m39.3166s',\n",
       " u'21h49m54.9857s +01d13m35.3412s',\n",
       " u'21h56m04.177s +00d37m42.3573s',\n",
       " u'21h56m21.0175s -00d31m33.5538s',\n",
       " u'21h56m44.0001s +06d11m49.6141s',\n",
       " u'21h59m47.5769s +00d52m40.7985s',\n",
       " u'22h02m48.6104s +12d36m45.5459s',\n",
       " u'22h06m24.3365s +01d16m06.194s',\n",
       " u'22h06m33.8545s +03d06m57.5655s',\n",
       " u'22h07m55.3757s +13d00m09.0243s',\n",
       " u'22h09m02.4102s +09d35m29.2576s',\n",
       " u'22h11m47.1233s +11d16m42.7329s',\n",
       " u'22h22m45.6733s -00d26m17.7345s',\n",
       " u'22h23m07.0592s -00d21m18.5559s',\n",
       " u'22h28m34.7854s +02d33m19.6692s',\n",
       " u'22h29m08.6247s +00d10m34.1146s',\n",
       " u'22h31m29.8935s +00d15m03.7428s',\n",
       " u'22h33m58.8816s -01d00m00.5036s',\n",
       " u'22h39m40.9916s +00d34m39.4992s',\n",
       " u'22h45m48.5702s +00d46m20.1133s',\n",
       " u'22h51m30.2637s +04d15m24.7921s',\n",
       " u'23h00m15.6902s +00d31m19.2987s',\n",
       " u'23h00m22.5714s +00d30m17.8781s',\n",
       " u'23h14m59.7457s -00d13m09.0266s',\n",
       " u'23h21m32.629s -01d53m43.6026s',\n",
       " u'23h22m38.393s +00d50m25.7933s',\n",
       " u'23h36m48.5121s +02d37m24.6526s',\n",
       " u'23h39m26.56s +00d29m03.4038s',\n",
       " u'23h47m04.2508s +15d01m46.3839s']"
      ]
     },
     "execution_count": 18,
     "metadata": {},
     "output_type": "execute_result"
    }
   ],
   "source": [
    "SkyCoord(QPQ7['RAD']*u.deg,QPQ7['DECD']*u.deg).to_string('hmsdms')"
   ]
  },
  {
   "cell_type": "code",
   "execution_count": 8,
   "metadata": {
    "collapsed": false
   },
   "outputs": [
    {
     "data": {
      "text/plain": [
       "31"
      ]
     },
     "execution_count": 8,
     "metadata": {},
     "output_type": "execute_result"
    }
   ],
   "source": [
    "new_qpq9 = copy.deepcopy(QPQ_zIR)\n",
    "new_qpq9.rename_column('FG_ZIR', 'Z_FG')\n",
    "new_qpq9.rename_column('FG_SIG_ZIR','Z_FSIG')\n",
    "for ii,qq in enumerate(new_qpq9):\n",
    "    try:\n",
    "        assert 'J1433+0641' in qq['NAME'] # redshift is Null in the zIR structure \n",
    "        new_qpq9.remove_row(ii)\n",
    "        break\n",
    "    except AssertionError:\n",
    "        pass\n",
    "len(new_qpq9)"
   ]
  },
  {
   "cell_type": "code",
   "execution_count": 9,
   "metadata": {
    "collapsed": false
   },
   "outputs": [],
   "source": [
    "c_QPQzIR = SkyCoord(ra=QPQ_zIR['FG_RA']*u.deg, dec=QPQ_zIR['FG_DEC']*u.deg)\n",
    "c_QPQ7 = SkyCoord(ra=QPQ7['RAD']*u.deg, dec=QPQ7['DECD']*u.deg)\n",
    "c_QPQ7_bg = SkyCoord(ra=QPQ7['RAD_BG']*u.deg,dec=QPQ7['DECD_BG']*u.deg)\n",
    "kpc_amin = cosmo.kpc_proper_per_arcmin(QPQ7['Z_FG'])\n",
    "ang_sep = c_QPQ7.separation(c_QPQ7_bg).to('arcmin')\n",
    "                                          \n",
    "for qq,cc in enumerate(c_QPQ7):\n",
    "    # do not copy the entry with wrong spectral file \n",
    "    wrong_c = SkyCoord(ra=8.59753707028004*u.deg,dec=-10.832307685613417*u.deg)\n",
    "    if c_QPQ7_bg[qq].separation(wrong_c).to('arcsec') < 0.5*u.arcsec:\n",
    "        continue\n",
    "    if len(np.where(cc.separation(c_QPQzIR).to('arcsec') < 0.5*u.arcsec)[0]) == 0:\n",
    "        if kpc_amin[qq]*ang_sep[qq] < 300*u.kpc:\n",
    "            if QPQ7['Z_FSIG'][qq] < 300:\n",
    "                new_qpq9.add_row({'FG_RA':QPQ7['RAD'][qq],'FG_DEC':QPQ7['DECD'][qq],'NAME':QPQ7['QSO_BG'][qq],\n",
    "                        'RA':QPQ7['RAD_BG'][qq],'DEC':QPQ7['DECD_BG'][qq],'Z_FG':QPQ7['Z_FG'][qq],'Z_FSIG':272,\n",
    "                        'BG_Z':QPQ7['Z_BG'][qq],'R_PHYS':QPQ7['R_PHYS'][qq],'ZFG_LINE':'MgII'})\n",
    "\n",
    "new_qpq9.sort(['FG_RA','FG_DEC'])"
   ]
  },
  {
   "cell_type": "code",
   "execution_count": 10,
   "metadata": {
    "collapsed": false
   },
   "outputs": [
    {
     "data": {
      "text/plain": [
       "55"
      ]
     },
     "execution_count": 10,
     "metadata": {},
     "output_type": "execute_result"
    }
   ],
   "source": [
    "# write\n",
    "xxf.table_to_fits(new_qpq9,'qpq9_final.fits')\n",
    "len(new_qpq9)"
   ]
  },
  {
   "cell_type": "code",
   "execution_count": 174,
   "metadata": {
    "collapsed": false
   },
   "outputs": [
    {
     "data": {
      "text/html": [
       "&lt;Row index=34&gt;\n",
       "<table id=\"table4572459216\">\n",
       "<thead><tr><th>RA</th><th>DEC</th><th>NAME</th><th>ZFG_LINE</th><th>BG_Z</th></tr></thead>\n",
       "<thead><tr><th>float64</th><th>float64</th><th>str14</th><th>str36</th><th>float64</th></tr></thead>\n",
       "<tr><td>192.450391578</td><td>6.11922910393</td><td>APOJ1249+0607</td><td>[OIII]</td><td>2.37599992752</td></tr>\n",
       "</table>"
      ],
      "text/plain": [
       "<Row index=34>\n",
       "      RA           DEC           NAME     ZFG_LINE      BG_Z    \n",
       "   float64       float64        str14      str36      float64   \n",
       "------------- ------------- ------------- -------- -------------\n",
       "192.450391578 6.11922910393 APOJ1249+0607   [OIII] 2.37599992752"
      ]
     },
     "execution_count": 174,
     "metadata": {},
     "output_type": "execute_result"
    }
   ],
   "source": [
    "new_qpq9['RA','DEC','NAME','ZFG_LINE','BG_Z'][34]\n",
    "#c = SkyCoord(new_qpq9['RA']*u.deg,new_qpq9['DEC']*u.deg)\n",
    "#c.to_string('hmsdms')"
   ]
  },
  {
   "cell_type": "markdown",
   "metadata": {},
   "source": [
    "# New XSHOOTER redshifts "
   ]
  },
  {
   "cell_type": "code",
   "execution_count": 11,
   "metadata": {
    "collapsed": false
   },
   "outputs": [
    {
     "name": "stdout",
     "output_type": "stream",
     "text": [
      "x.fits.bintab_to_table: Reading qpq9_final.fits\n"
     ]
    }
   ],
   "source": [
    "new_qpq9 = xxf.bintab_to_table('qpq9_final.fits')\n",
    "c_newqpq9 = SkyCoord(new_qpq9['FG_RA']*u.deg,new_qpq9['FG_DEC']*u.deg)"
   ]
  },
  {
   "cell_type": "code",
   "execution_count": 12,
   "metadata": {
    "collapsed": false
   },
   "outputs": [
    {
     "name": "stdout",
     "output_type": "stream",
     "text": [
      "x.fits.bintab_to_table: Reading /Users/lwymarie/Dropbox/Marie_Enrico/papers/QPQ9/Analysis/Redshifts/zem/SDSSJ091338.30-010708.7_F_zem.fits\n",
      "09h13m38.3s -01d07m08.7s\n",
      "x.fits.bintab_to_table: Reading /Users/lwymarie/Dropbox/Marie_Enrico/papers/QPQ9/Analysis/Redshifts/zem/SDSSJ123143.09+002846.2_F_zem.fits\n",
      "12h31m43.09s +00d28m46.2s\n",
      "x.fits.bintab_to_table: Reading /Users/lwymarie/Dropbox/Marie_Enrico/papers/QPQ9/Analysis/Redshifts/zem/SDSSJ143345.50+064110.0_F_zem.fits\n",
      "14h33m45.5s +06d41m10s\n",
      "x.fits.bintab_to_table: Reading /Users/lwymarie/Dropbox/Marie_Enrico/papers/QPQ9/Analysis/Redshifts/zem/SDSSJ233845.19-000327.2_F_zem.fits\n",
      "23h38m45.19s -00d03m27.2s\n"
     ]
    }
   ],
   "source": [
    "zem_fil = glob.glob(os.getenv('DROPBOX_DIR')+'Marie_Enrico/papers/QPQ9/Analysis/Redshifts/zem/*')\n",
    "zsys_line = ['H$\\\\alpha$','H$\\\\beta$','MgII','[OIII]']\n",
    "igmsp = IgmSpec()\n",
    "ID_fg,ID_bg = igmsp.qcat.pairs(0.69*u.arcmin, 3000.*u.km/u.s)\n",
    "c_igmsp = SkyCoord(igmsp.cat['RA'][ID_fg]*u.deg,igmsp.cat['DEC'][ID_fg]*u.deg)\n",
    "c_igmsp_bg = SkyCoord(igmsp.cat['RA'][ID_bg]*u.deg,igmsp.cat['DEC'][ID_bg]*u.deg)\n",
    "for ff in zem_fil:\n",
    "    zem = xxf.bintab_to_table(ff)\n",
    "    ipos1 = zem['SPEC_FIL'][0].rfind('/SDSSJ')+6\n",
    "    ipos2 = zem['SPEC_FIL'][0].rfind('_F_zem.fits')-9\n",
    "    radec = zem['SPEC_FIL'][0][ipos1:ipos2]\n",
    "    RA = radec[0:2]+'h'+radec[2:4]+'m'+radec[4:9]+'s'\n",
    "    dec = radec[9:12]+'d'+radec[12:14]+'m'+radec[14:18]+'s'\n",
    "    zem_coord = SkyCoord(RA,dec)\n",
    "    print(zem_coord.to_string('hmsdms'))\n",
    "    if '09h13m38.3s -01d07m08.7s' in zem_coord.to_string('hmsdms'):\n",
    "        # redshift is Null in the zIR structure \n",
    "        for ii,qq in enumerate(new_qpq9):\n",
    "            try:\n",
    "                assert 'J0913-0107' in qq['NAME'] \n",
    "                qq['Z_FG'] = zem['ZSYS_ZSYS'][0]\n",
    "                qq['Z_FSIG'] = np.rint(zem['ZSYS_ERR'][0])\n",
    "                qq['ZFG_LINE'] = zsys_line[np.min([zem['ZSYS_FLAG'][0],3])]\n",
    "                break\n",
    "            except AssertionError:\n",
    "                pass\n",
    "    if '12h31m43.09s +00d28m46.2s' in zem_coord.to_string('hmsdms'):\n",
    "        # in QPQ7, not in QPQ9 yet \n",
    "        index = np.where(zem_coord.separation(c_QPQ7) < 5*u.arcsec)[0]\n",
    "        new_qpq9.add_row({'FG_RA':QPQ7['RAD'][index],'FG_DEC':QPQ7['DECD'][index],'NAME':QPQ7['QSO_BG'][index],\n",
    "                          'RA':QPQ7['RAD_BG'][index],'DEC':QPQ7['DECD_BG'][index],\n",
    "                          'Z_FG':zem['ZSYS_ZSYS'][0],'Z_FSIG':np.rint(zem['ZSYS_ERR'][0]),\n",
    "                          'BG_Z':QPQ7['Z_BG'][index],'R_PHYS':QPQ7['R_PHYS'][index],\n",
    "                          'ZFG_LINE':zsys_line[np.min([zem['ZSYS_FLAG'][0],3])]})\n",
    "    if '14h33m45.5s +06d41m10s' in zem_coord.to_string('hmsdms') or '23h38m45.19s -00d03m27.2s' in zem_coord.to_string('hmsdms'):\n",
    "        # in igmspec, not in QPQ9 yet\n",
    "        index = np.where(zem_coord.separation(c_igmsp) < 5*u.arcsec)[0]\n",
    "        kpc_amin = cosmo.kpc_proper_per_arcmin(igmsp.cat['zem'][ID_fg][index]) # kpc per arcmin\n",
    "        ang_sep = c_igmsp[index].separation(c_igmsp_bg[index])*60*u.arcmin/u.deg\n",
    "        name = 'BOSSJ'\n",
    "        name = name + c_igmsp_bg[index][0].to_string('hmsdms')[0:2] + c_igmsp_bg[index][0].to_string('hmsdms')[3:5]\n",
    "        ipos = c_igmsp_bg[index][0].to_string('hmsdms').rfind(' ')+1\n",
    "        name = name + c_igmsp_bg[index][0].to_string('hmsdms')[ipos:ipos+3] + c_igmsp_bg[index][0].to_string('hmsdms')[ipos+4:ipos+6]\n",
    "        new_qpq9.add_row({'FG_RA':c_igmsp[index][0].ra.degree,'FG_DEC':c_igmsp[index][0].dec.degree,'NAME':name,\n",
    "                         'RA':c_igmsp_bg[index][0].ra.degree,'DEC':c_igmsp_bg[index][0].dec.degree,\n",
    "                         'Z_FG':zem['ZSYS_ZSYS'][0],'Z_FSIG':np.rint(zem['ZSYS_ERR'][0]),\n",
    "                         'BG_Z':igmsp.cat['zem'][ID_bg][index][0],'R_PHYS':kpc_amin[0]*ang_sep[0]/u.kpc,\n",
    "                         'ZFG_LINE':zsys_line[np.min([zem['ZSYS_FLAG'][0],3])]})\n",
    "new_qpq9.sort(['FG_RA','FG_DEC'])"
   ]
  },
  {
   "cell_type": "code",
   "execution_count": 13,
   "metadata": {
    "collapsed": false
   },
   "outputs": [
    {
     "data": {
      "text/plain": [
       "58"
      ]
     },
     "execution_count": 13,
     "metadata": {},
     "output_type": "execute_result"
    }
   ],
   "source": [
    "# write\n",
    "xxf.table_to_fits(new_qpq9, 'qpq9_final.fits')\n",
    "len(new_qpq9)"
   ]
  },
  {
   "cell_type": "code",
   "execution_count": 14,
   "metadata": {
    "collapsed": false
   },
   "outputs": [
    {
     "data": {
      "text/plain": [
       "[u'00h57m17.3646s -00d01m13.3303s',\n",
       " u'01h49m17.1049s -00d21m41.6461s',\n",
       " u'02h25m17.6801s +00d48m21.966s',\n",
       " u'02h30m18.2659s -03d33m19.4168s',\n",
       " u'03h41m38.1578s +00d00m02.9332s',\n",
       " u'04h09m55.872s -04d11m26.9365s',\n",
       " u'07h52m59.8146s +40d11m28.2199s',\n",
       " u'08h00m49.8934s +35d42m49.6331s',\n",
       " u'08h28m43.368s +45d45m17.2955s',\n",
       " u'08h37m13.5609s +36d30m37.3449s',\n",
       " u'08h37m57.9144s +38d37m27.1164s',\n",
       " u'08h41m58.4701s +39d21m20.9741s',\n",
       " u'08h53m58.3643s -00d11m08.0473s',\n",
       " u'09h10m46.4006s +04d14m58.5125s',\n",
       " u'09h13m38.304s -01d07m08.6819s',\n",
       " u'09h14m32.0166s +01d09m12.4277s',\n",
       " u'09h24m17.6496s +39d29m20.2547s',\n",
       " u'09h32m26.3442s +09d25m26.1095s',\n",
       " u'09h36m40.3458s -00d58m40.0921s',\n",
       " u'09h38m04.2177s +53d17m43.9106s',\n",
       " u'10h02m46.8558s +00d21m03.9938s',\n",
       " u'10h05m09.5996s +50d19m29.7953s',\n",
       " u'10h06m27.4687s +48d04m20.047s',\n",
       " u'10h09m41.3471s +25d01m04.0768s',\n",
       " u'10h10m01.5087s +40d37m55.4805s',\n",
       " u'10h26m18.8051s +46d14m45.2755s',\n",
       " u'10h38m57.371s +50d27m07.9806s',\n",
       " u'10h41m43.0992s +19d57m22.1954s',\n",
       " u'10h45m08.8768s +43d51m18.2108s',\n",
       " u'11h41m46.1872s +07d24m10.9899s',\n",
       " u'11h44m35.5364s +09d59m21.6938s',\n",
       " u'11h45m46.54s +03d22m36.7476s',\n",
       " u'12h04m17.4689s +02d21m04.7146s',\n",
       " u'12h08m56.94s +07d37m41.2172s',\n",
       " u'12h31m43.0985s +00d28m46.2929s',\n",
       " u'12h49m48.1823s +06d07m14.0471s',\n",
       " u'13h01m24.7375s +47d59m09.6285s',\n",
       " u'13h06m05.19s +61d58m23.7262s',\n",
       " u'13h27m40.582s +34d23m23.7427s',\n",
       " u'13h58m49.7126s +27d38m06.8626s',\n",
       " u'14h02m08.0965s +47d01m11.1266s',\n",
       " u'14h13m37.1791s +27d15m17.0969s',\n",
       " u'14h20m03.67s +02d27m26.6692s',\n",
       " u'14h20m54.4177s +16d03m33.3387s',\n",
       " u'14h27m58.8881s -01d21m30.3734s',\n",
       " u'14h31m09.6746s +57d27m28.9987s',\n",
       " u'14h33m45.501s +06d41m09.9867s',\n",
       " u'14h42m32.9167s +01d37m30.4042s',\n",
       " u'15h08m14.0616s +36d35m29.357s',\n",
       " u'15h33m28.8312s +14d25m42.5012s',\n",
       " u'15h53m25.6077s +19d21m40.9521s',\n",
       " u'15h59m47.7342s +49d43m07.2919s',\n",
       " u'16h27m36.3981s +22d15m38.085s',\n",
       " u'16h27m38.633s +46d05m38.3878s',\n",
       " u'16h57m16.8526s +31d05m13.9773s',\n",
       " u'21h46m20.6876s -07d52m50.6088s',\n",
       " u'22h02m48.6104s +12d36m45.5447s',\n",
       " u'23h38m45.1943s -00d03m27.1218s']"
      ]
     },
     "execution_count": 14,
     "metadata": {},
     "output_type": "execute_result"
    }
   ],
   "source": [
    "SkyCoord(new_qpq9['FG_RA']*u.deg,new_qpq9['FG_DEC']*u.deg).to_string('hmsdms')"
   ]
  },
  {
   "cell_type": "markdown",
   "metadata": {},
   "source": [
    "# Check pairs in QPQ database and have NIR"
   ]
  },
  {
   "cell_type": "code",
   "execution_count": 82,
   "metadata": {
    "collapsed": false
   },
   "outputs": [
    {
     "name": "stdout",
     "output_type": "stream",
     "text": [
      "x.fits.bintab_to_table: Reading qpq9_final.fits\n"
     ]
    },
    {
     "ename": "TypeError",
     "evalue": "Can only get separation to another SkyCoord or a coordinate frame with data",
     "output_type": "error",
     "traceback": [
      "\u001b[0;31m---------------------------------------------------------------------------\u001b[0m",
      "\u001b[0;31mTypeError\u001b[0m                                 Traceback (most recent call last)",
      "\u001b[0;32m<ipython-input-82-7b43782bea5e>\u001b[0m in \u001b[0;36m<module>\u001b[0;34m()\u001b[0m\n\u001b[1;32m     18\u001b[0m     \u001b[0;32mif\u001b[0m \u001b[0mkpc_amin\u001b[0m\u001b[0;34m[\u001b[0m\u001b[0mqq\u001b[0m\u001b[0;34m]\u001b[0m\u001b[0;34m*\u001b[0m\u001b[0mang_sep\u001b[0m\u001b[0;34m[\u001b[0m\u001b[0mqq\u001b[0m\u001b[0;34m]\u001b[0m \u001b[0;34m<\u001b[0m \u001b[0;36m300\u001b[0m \u001b[0;34m*\u001b[0m\u001b[0mu\u001b[0m\u001b[0;34m.\u001b[0m\u001b[0mkpc\u001b[0m\u001b[0;34m:\u001b[0m\u001b[0;34m\u001b[0m\u001b[0m\n\u001b[1;32m     19\u001b[0m         \u001b[0;32mif\u001b[0m \u001b[0mlen\u001b[0m\u001b[0;34m(\u001b[0m\u001b[0mnp\u001b[0m\u001b[0;34m.\u001b[0m\u001b[0mwhere\u001b[0m\u001b[0;34m(\u001b[0m\u001b[0mcc\u001b[0m\u001b[0;34m.\u001b[0m\u001b[0mseparation\u001b[0m\u001b[0;34m(\u001b[0m\u001b[0mc_QPQ9\u001b[0m\u001b[0;34m)\u001b[0m \u001b[0;34m<\u001b[0m \u001b[0;36m5\u001b[0m\u001b[0;34m*\u001b[0m\u001b[0mu\u001b[0m\u001b[0;34m.\u001b[0m\u001b[0marcsec\u001b[0m\u001b[0;34m)\u001b[0m\u001b[0;34m[\u001b[0m\u001b[0;36m0\u001b[0m\u001b[0;34m]\u001b[0m\u001b[0;34m)\u001b[0m \u001b[0;34m==\u001b[0m \u001b[0;36m0\u001b[0m\u001b[0;34m:\u001b[0m \u001b[0;31m# pair not in QPQ9 already\u001b[0m\u001b[0;34m\u001b[0m\u001b[0m\n\u001b[0;32m---> 20\u001b[0;31m             \u001b[0;32mif\u001b[0m \u001b[0mlen\u001b[0m\u001b[0;34m(\u001b[0m\u001b[0mnp\u001b[0m\u001b[0;34m.\u001b[0m\u001b[0mwhere\u001b[0m\u001b[0;34m(\u001b[0m\u001b[0mcc\u001b[0m\u001b[0;34m.\u001b[0m\u001b[0mseparation\u001b[0m\u001b[0;34m(\u001b[0m\u001b[0mc_NIR\u001b[0m\u001b[0;34m)\u001b[0m \u001b[0;34m<\u001b[0m \u001b[0;36m5\u001b[0m\u001b[0;34m*\u001b[0m\u001b[0mu\u001b[0m\u001b[0;34m.\u001b[0m\u001b[0marcsec\u001b[0m\u001b[0;34m)\u001b[0m\u001b[0;34m[\u001b[0m\u001b[0;36m0\u001b[0m\u001b[0;34m]\u001b[0m\u001b[0;34m)\u001b[0m \u001b[0;34m>\u001b[0m \u001b[0;36m0\u001b[0m\u001b[0;34m:\u001b[0m\u001b[0;34m\u001b[0m\u001b[0m\n\u001b[0m\u001b[1;32m     21\u001b[0m                 \u001b[0;32mprint\u001b[0m\u001b[0;34m(\u001b[0m\u001b[0mcc\u001b[0m\u001b[0;34m.\u001b[0m\u001b[0mto_string\u001b[0m\u001b[0;34m(\u001b[0m\u001b[0;34m'hmsdms'\u001b[0m\u001b[0;34m)\u001b[0m\u001b[0;34m)\u001b[0m\u001b[0;34m\u001b[0m\u001b[0m\n\u001b[1;32m     22\u001b[0m \u001b[0;31m# verified none of them have NIR except one CII coverage in SDSS only\u001b[0m\u001b[0;34m\u001b[0m\u001b[0;34m\u001b[0m\u001b[0m\n",
      "\u001b[0;32m/Users/lwymarie/anaconda/lib/python2.7/site-packages/astropy/coordinates/sky_coordinate.pyc\u001b[0m in \u001b[0;36mseparation\u001b[0;34m(self, other)\u001b[0m\n\u001b[1;32m    645\u001b[0m             \u001b[0mself_in_other_system\u001b[0m \u001b[0;34m=\u001b[0m \u001b[0mself\u001b[0m\u001b[0;34m.\u001b[0m\u001b[0mtransform_to\u001b[0m\u001b[0;34m(\u001b[0m\u001b[0mother\u001b[0m\u001b[0;34m)\u001b[0m\u001b[0;34m\u001b[0m\u001b[0m\n\u001b[1;32m    646\u001b[0m         \u001b[0;32melse\u001b[0m\u001b[0;34m:\u001b[0m\u001b[0;34m\u001b[0m\u001b[0m\n\u001b[0;32m--> 647\u001b[0;31m             raise TypeError('Can only get separation to another SkyCoord or a '\n\u001b[0m\u001b[1;32m    648\u001b[0m                             'coordinate frame with data')\n\u001b[1;32m    649\u001b[0m \u001b[0;34m\u001b[0m\u001b[0m\n",
      "\u001b[0;31mTypeError\u001b[0m: Can only get separation to another SkyCoord or a coordinate frame with data"
     ]
    }
   ],
   "source": [
    "from specdb import query_catalog as spqcat\n",
    "from specdb import interface_group as spgigp\n",
    "from specdb import utils as spdbu\n",
    "from specdb.specdb import SpecDB\n",
    "QPQ9 = xxf.bintab_to_table('qpq9_final.fits')\n",
    "c_QPQ9 = SkyCoord(QPQ9['FG_RA']*u.deg,QPQ9['FG_DEC']*u.deg)\n",
    "c_QPQ9_bg = SkyCoord(ra=QPQ9['RA']*u.deg,dec=QPQ9['DEC']*u.deg)\n",
    "c_QPQ7 = SkyCoord(QPQ7['RAD']*u.deg,QPQ7['DECD']*u.deg)\n",
    "c_QPQ7_bg = SkyCoord(QPQ7['RAD_BG']*u.deg,QPQ7['DECD_BG']*u.deg)\n",
    "qpq_fil = '/Users/lwymarie/Desktop/qpq_optical.hdf5'\n",
    "qpqsp = SpecDB(db_file=qpq_fil,verbose=False,idkey='PRIV_ID')\n",
    "ID_fg, ID_bg = qpqsp.qcat.pairs(0.92*u.arcmin, 3000.*u.km/u.s)\n",
    "c_qpqsp = SkyCoord(qpqsp.cat['RA'][ID_fg]*u.deg,qpqsp.cat['DEC'][ID_fg]*u.deg)\n",
    "c_qpqsp_bg = SkyCoord(qpqsp.cat['RA'][ID_bg]*u.deg,qpqsp.cat['DEC'][ID_bg]*u.deg)\n",
    "kpc_amin = cosmo.kpc_proper_per_arcmin(qpqsp.cat['zem'][ID_fg])\n",
    "ang_sep = c_qpqsp.separation(c_qpqsp_bg).to('arcmin')\n",
    "for qq,cc in enumerate(c_qpqsp):\n",
    "    if kpc_amin[qq]*ang_sep[qq] < 300 *u.kpc: \n",
    "        if len(np.where(cc.separation(c_QPQ9) < 5*u.arcsec)[0]) == 0: # pair not in QPQ9 already\n",
    "            if len(np.where(cc.separation(c_NIR) < 5*u.arcsec)[0]) > 0:\n",
    "                print(cc.to_string('hmsdms'))\n",
    "# verified none of them have NIR except one CII coverage in SDSS only "
   ]
  },
  {
   "cell_type": "code",
   "execution_count": 86,
   "metadata": {
    "collapsed": false
   },
   "outputs": [
    {
     "data": {
      "text/plain": [
       "<SkyCoord (ICRS): (ra, dec) in deg\n",
       "    [(14.32235253, -0.02036954), (27.32127036, -0.36156836),\n",
       "     (36.32366704, 0.80610166), (37.57610809, -3.55539354),\n",
       "     (55.40899064, 0.00081479), (62.48279991, -4.1908157),\n",
       "     (118.2492275, 40.1911722), (120.20788923, 35.71378697),\n",
       "     (127.18069992, 45.7548043), (129.30650367, 36.51037358),\n",
       "     (129.49131001, 38.62419901), (130.49362542, 39.35582615),\n",
       "     (133.49318448, -0.18556871), (137.69333583, 4.24958681),\n",
       "     (138.40960016, -1.11907832), (138.63340266, 1.15345214),\n",
       "     (141.07353995, 39.48895963), (143.10976749, 9.42391931),\n",
       "     (144.16810746, -0.97780336), (144.51757364, 53.29553071),\n",
       "     (150.69523242, 0.3511094), (151.28999819, 50.32494314),\n",
       "     (151.61445282, 48.07223529), (152.42227961, 25.01779912),\n",
       "     (152.5062863, 40.63207792), (156.57835445, 46.24590985),\n",
       "     (159.73904586, 50.45221684), (160.42958015, 19.9561654),\n",
       "     (161.28698685, 43.85505857), (175.44244664, 7.40305274),\n",
       "     (176.14806841, 9.9893594), (176.44391687, 3.37687433),\n",
       "     (181.07278695, 2.35130961), (182.23725012, 7.62811588),\n",
       "     (187.92957694, 0.47952582), (192.45075949, 6.12056865),\n",
       "     (195.35307299, 47.98600792), (196.52162501, 61.97325728),\n",
       "     (201.91909167, 34.38992854), (209.7071357, 27.63523961),\n",
       "     (210.53373532, 47.0197574), (213.40491284, 27.25474915),\n",
       "     (215.01529184, 2.4574081), (215.22674047, 16.05926075),\n",
       "     (216.99536694, -1.35843706), (217.79031085, 57.45805519),\n",
       "     (218.43958749, 6.68610741), (220.63715273, 1.62511227),\n",
       "     (227.05859001, 36.59148806), (233.37012995, 14.42847256),\n",
       "     (238.35669871, 19.36137559), (239.9488923, 49.7186922),\n",
       "     (246.90165871, 22.26057917), (246.91097098, 46.09399661),\n",
       "     (254.32021903, 31.08721591), (326.58619823, -7.88072467),\n",
       "     (330.70254328, 12.6126513), (354.68830947, -0.05753382)]>"
      ]
     },
     "execution_count": 86,
     "metadata": {},
     "output_type": "execute_result"
    }
   ],
   "source": [
    "c_QPQ9"
   ]
  },
  {
   "cell_type": "code",
   "execution_count": null,
   "metadata": {
    "collapsed": false
   },
   "outputs": [],
   "source": [
    "path = enigma.__path__[0]+'/data/redshifts/'\n",
    "c_NIR = []\n",
    "gnirs = Table.read(path+'gnirs_masterlist.dat',guess=False,format='ascii.csv',comment='#')\n",
    "for qq in gnirs:\n",
    "    c_NIR.append(ltu.radec_to_coord(qq['ra_qso']+' '+qq['dec_qso']))\n",
    "niri = Table.read(path+'niri_masterlist.dat',guess=False,format='ascii.csv',comment='#')\n",
    "for qq in niri:\n",
    "    c_NIR.append(ltu.radec_to_coord(qq['ra_qso']+' '+qq['dec_qso']))\n",
    "nirspec = Table.read(path+'nirspec_masterlist.dat',guess=False,format='ascii.csv',comment='#')\n",
    "for qq in nirspec:\n",
    "    c_NIR.append(ltu.radec_to_coord(qq['ra_qso']+' '+qq['dec_qso']))\n",
    "xshooter = Table.read(path+'xshooter_masterlist.dat',guess=False,format='ascii.csv',comment='#')\n",
    "for qq in xshooter:\n",
    "    c_NIR.append(ltu.radec_to_coord(qq['ra_qso']+' '+qq['dec_qso']))\n",
    "tspec = Table.read(path+'triplespec_masterlist.dat',guess=False,format='ascii.csv',comment='#')\n",
    "for qq in tspec:\n",
    "    c_NIR.append(ltu.radec_to_coord(qq['ra_qso']+' '+qq['dec_qso']))\n",
    "isaac = Table.read(path+'isaac_masterlist.dat',guess=False,format='ascii.csv',comment='#')\n",
    "for qq in isaac:\n",
    "    c_NIR.append(ltu.radec_to_coord(qq['ra_qso']+' '+qq['dec_qso']))\n",
    "lucifer = Table.read(path+'lucifer_masterlist.dat',guess=False,format='ascii.csv',comment='#')\n",
    "for qq in lucifer:\n",
    "    c_NIR.append(ltu.radec_to_coord(qq['ra_qso']+' '+qq['dec_qso']))    \n",
    "SkyCoord(c_NIR)\n",
    "    #liam = Table.read(path+'masterlist_liam.fits')\n",
    "#for qq in liam:\n",
    "#    c_NIR.append(SkyCoord(qq['RAJ2000']+qq['DEJ2000'],frame='fk5'))"
   ]
  },
  {
   "cell_type": "code",
   "execution_count": 93,
   "metadata": {
    "collapsed": false
   },
   "outputs": [
    {
     "data": {
      "text/plain": [
       "<SkyCoord (ICRS): (ra, dec) in deg\n",
       "    (4.28533333, 81.58558333)>"
      ]
     },
     "execution_count": 93,
     "metadata": {},
     "output_type": "execute_result"
    }
   ],
   "source": [
    "SkyCoord(SkyCoord(ltu.radec_to_coord(tspec[0]['ra_qso']+' '+tspec[0]['dec_qso'])).to_string('hmsdms'))"
   ]
  },
  {
   "cell_type": "markdown",
   "metadata": {},
   "source": [
    "# Find igmspec pairs with NIR spectra"
   ]
  },
  {
   "cell_type": "code",
   "execution_count": null,
   "metadata": {
    "collapsed": true
   },
   "outputs": [],
   "source": [
    "# Load NIR spectra lists \n",
    "GNIRs = Table"
   ]
  },
  {
   "cell_type": "markdown",
   "metadata": {
    "collapsed": false
   },
   "source": [
    "# Add igmspec QSO pairs with HW10 redshifts "
   ]
  },
  {
   "cell_type": "code",
   "execution_count": 28,
   "metadata": {
    "collapsed": false
   },
   "outputs": [
    {
     "name": "stdout",
     "output_type": "stream",
     "text": [
      "Using /Users/lwymarie/Desktop/IGMspec_DB_v02.hdf5 for the catalog file\n",
      "Using /Users/lwymarie/Desktop/IGMspec_DB_v02.hdf5 for the DB file\n",
      "Available surveys: [u'BOSS_DR12', u'HSTQSO', u'SDSS_DR7', u'KODIAQ_DR1', u'MUSoDLA', u'HD-LLS_DR1', u'2QZ', u'ESI_DLA', u'HDLA100', u'GGG', u'COS-Halos', u'HST_z2', u'COS-Dwarfs', u'XQ-100']\n",
      "Database is igmspec\n",
      "Created on 2016-Oct-25\n",
      "x.fits.bintab_to_table: Reading qpq9_final.fits\n"
     ]
    }
   ],
   "source": [
    "# Load the different catalogs \n",
    "igmsp = IgmSpec()\n",
    "ID_fg, ID_bg = igmsp.pairs(0.92*u.arcmin, 3000.*u.km/u.s) # at z = 0.4, 0.92' = 300 kpc\n",
    "c_igmsp = SkyCoord(igmsp.cat['RA'][ID_fg]*u.deg,igmsp.cat['DEC'][ID_fg]*u.deg,frame='icrs')\n",
    "c_igmsp_bg = SkyCoord(igmsp.cat['RA'][ID_bg]*u.deg,igmsp.cat['DEC'][ID_bg]*u.deg,frame='icrs')\n",
    "kpc_amin = cosmo.kpc_proper_per_arcmin(igmsp.cat['zem'][ID_fg])\n",
    "ang_sep = c_igmsp.separation(c_igmsp_bg).to('arcmin')\n",
    "\n",
    "myers = Table(igmsp.idb.hdf['quasars'].value)\n",
    "c_myers = SkyCoord(myers['RA']*u.deg,myers['DEC']*u.deg,frame='icrs')\n",
    "\n",
    "QPQ9 = xxf.bintab_to_table('qpq9_final.fits')\n",
    "c_QPQ9 = SkyCoord(QPQ9['FG_RA']*u.deg,QPQ9['FG_DEC']*u.deg,frame='icrs')\n",
    "c_QPQ9_bg = SkyCoord(ra=QPQ9['RA']*u.deg,dec=QPQ9['DEC']*u.deg)"
   ]
  },
  {
   "cell_type": "code",
   "execution_count": 31,
   "metadata": {
    "collapsed": false
   },
   "outputs": [
    {
     "data": {
      "text/plain": [
       "(1.5767871388786463, 2.7800567771399662)"
      ]
     },
     "execution_count": 31,
     "metadata": {},
     "output_type": "execute_result"
    }
   ],
   "source": [
    "igmsp.cat['zem'][ID_fg[0]],igmsp.cat['zem'][ID_bg[0]]"
   ]
  },
  {
   "cell_type": "code",
   "execution_count": 41,
   "metadata": {
    "collapsed": false
   },
   "outputs": [
    {
     "data": {
      "text/plain": [
       "array([ 0.24605309,  0.34757165,  0.354768  ,  0.36691473,  0.47647179,\n",
       "        0.48912201,  0.49583333,  0.579626  ,  0.62899647,  0.68083455,\n",
       "        0.72798194,  0.817998  ,  0.85552545,  1.02977806,  1.06010137,\n",
       "        1.07041667,  1.23403894,  1.253513  ,  1.36798882,  1.424536  ,\n",
       "        1.68968052,  1.76227486,  1.79495545,  1.905     ,  1.92741246,\n",
       "        2.017612  ,  2.021589  ,  2.13391569,  2.16923339,  2.23221006,\n",
       "        2.25858948,  2.26116021,  2.29366667,  2.300746  ,  2.3619725 ,\n",
       "        2.37911925,  2.44582357,  2.48477215,  2.48572464,  2.54243424,\n",
       "        2.57223797,  2.59081126,  2.61993575,  2.66826272,  2.81625611,\n",
       "        2.83428385,  2.84692426,  2.94195   ,  3.01893545,  3.05310989,\n",
       "        3.238559  ,  3.29211254,  3.42745766,  3.43349615,  3.44005658,\n",
       "        3.76045833,  3.88524245,  3.90554167,  3.939006  ,  3.99497251,\n",
       "        4.02453087,  4.02736419,  4.05658333,  4.08486532,  4.237507  ,\n",
       "        4.24361007,  4.298186  ,  4.36258333,  4.39895619,  4.59803982,\n",
       "        4.65756667,  4.65903587,  4.69016529,  4.83395833,  4.87723674,\n",
       "        4.912927  ,  4.98885391,  5.007538  ,  5.09165059,  5.20399232,\n",
       "        5.35876016,  5.44479167,  5.45364461,  5.45687215,  5.458074  ,\n",
       "        5.46525   ,  5.527125  ,  5.597056  ,  5.65168649,  5.657938  ,\n",
       "        5.68541406,  5.68951341,  5.74089682,  5.75088057,  5.76684123,\n",
       "        5.86681894,  5.87776809,  5.97941089,  6.07233992])"
      ]
     },
     "execution_count": 41,
     "metadata": {},
     "output_type": "execute_result"
    }
   ],
   "source": [
    "c_bg_sorted = copy.deepcopy(c_igmsp_bg)\n",
    "c_bg_sorted.ra.sort()\n",
    "c_bg_sorted.ra.deg[1:100]\n",
    "c_fg_sorted = copy.deepcopy(c_igmsp)\n",
    "c_fg_sorted.ra.sort()\n",
    "c_fg_sorted.ra.deg[1:100]"
   ]
  },
  {
   "cell_type": "code",
   "execution_count": 132,
   "metadata": {
    "collapsed": false
   },
   "outputs": [
    {
     "data": {
      "text/latex": [
       "$300.02728 \\; \\mathrm{kpc}$"
      ],
      "text/plain": [
       "<Quantity 300.0272802178239 kpc>"
      ]
     },
     "execution_count": 132,
     "metadata": {},
     "output_type": "execute_result"
    }
   ],
   "source": [
    "cosmo.kpc_proper_per_arcmin(0.4)*0.92*u.arcmin"
   ]
  },
  {
   "cell_type": "code",
   "execution_count": 49,
   "metadata": {
    "collapsed": false
   },
   "outputs": [],
   "source": [
    "for qq,cc in enumerate(c_igmsp):\n",
    "    if kpc_amin[qq]*ang_sep[qq] < 300 *u.kpc: \n",
    "        if len(np.where(cc.separation(c_QPQ9) < 5*u.arcsec)[0]) == 0: # not in QPQ9 yet \n",
    "            if len(np.where(cc.separation(c_myers) < 5*u.arcsec)[0]) > 0: # in Myers \n",
    "                # Checked no two close by sources both have HW10 redshifts  \n",
    "                # Checked HW10 redshifts are always the first returned result \n",
    "                if myers['ZEM_SOURCE'][np.where(cc.separation(c_myers) < 5*u.arcsec)[0][0]] == 'SDSS-HW': # good z\n",
    "                    # MgII redshift or better\n",
    "                    if myers['ZEM'][np.where(cc.separation(c_myers) < 5*u.arcsec)[0][0]] <= 2.1: \n",
    "                        # Match Johnson+15 and Farina+ samples\n",
    "                        if myers['ZEM'][np.where(cc.separation(c_myers) < 5*u.arcsec)[0][0]] >= 0.4: \n",
    "                            # Lya forest cut for MgII stack  \n",
    "                            if 2796.352*(1+igmsp.cat['zem'][ID_fg][qq]) > (1215.6701+6.)*(1+igmsp.cat['zem'][ID_bg][qq]):\n",
    "                                if np.mod(igmsp.cat['flag_survey'][ID_fg][qq],2) == 0:\n",
    "                                    name = 'BOSSJ'\n",
    "                                else:\n",
    "                                    name = 'SDSSJ'  \n",
    "                                name = name + c_igmsp_bg[qq].to_string('hmsdms')[0:2]\n",
    "                                name = name + c_igmsp_bg[qq].to_string('hmsdms')[3:5]\n",
    "                                ipos = c_igmsp_bg[qq].to_string('hmsdms').rfind(' ')+1\n",
    "                                name = name + c_igmsp_bg[qq].to_string('hmsdms')[ipos:ipos+3] \n",
    "                                name = name + c_igmsp_bg[qq].to_string('hmsdms')[ipos+4:ipos+6]\n",
    "                                QPQ9.add_row({'FG_RA':igmsp.cat['RA'][ID_fg][qq],\n",
    "                                                  'FG_DEC':igmsp.cat['DEC'][ID_fg][qq],\n",
    "                                                  'NAME':name,\n",
    "                                                  'RA':igmsp.cat['RA'][ID_bg][qq],\n",
    "                                                  'DEC':igmsp.cat['DEC'][ID_bg][qq],\n",
    "                                                  'Z_FG':igmsp.cat['zem'][ID_fg][qq],\n",
    "                                                  'Z_FSIG':272,\n",
    "                                                  'BG_Z':igmsp.cat['zem'][ID_bg][qq],\n",
    "                                                  'R_PHYS':kpc_amin[qq]*ang_sep[qq]/u.kpc,\n",
    "                                                  'ZFG_LINE':'SDSS-HW'})\n",
    "QPQ9.sort(['FG_RA','FG_DEC'])"
   ]
  },
  {
   "cell_type": "code",
   "execution_count": 370,
   "metadata": {
    "collapsed": false
   },
   "outputs": [],
   "source": [
    "# save and copy to enigma\n",
    "xxf.table_to_fits(QPQ9,'qpq9_final.fits')\n",
    "!cp qpq9_final.fits /Users/lwymarie/python/enigma/enigma/data/qpq/qpq9_final.fits"
   ]
  },
  {
   "cell_type": "code",
   "execution_count": 154,
   "metadata": {
    "collapsed": false
   },
   "outputs": [
    {
     "name": "stdout",
     "output_type": "stream",
     "text": [
      "x.fits.bintab_to_table: Reading /Users/lwymarie/python/enigma/enigma/data/qpq/qpq9_final.fits\n"
     ]
    },
    {
     "data": {
      "text/plain": [
       "(u'21h46m20.6876s -07d52m50.6088s', <Row index=654>\n",
       "      Z_FG         Z_TOT    \n",
       "    float64       float64   \n",
       " ------------- -------------\n",
       " 2.11526539332 2.57699990273)"
      ]
     },
     "execution_count": 154,
     "metadata": {},
     "output_type": "execute_result"
    }
   ],
   "source": [
    "QPQ9 = xxf.bintab_to_table('/Users/lwymarie/python/enigma/enigma/data/qpq/qpq9_final.fits')\n",
    "c = SkyCoord(QPQ9['FG_RA']*u.deg,QPQ9['FG_DEC']*u.deg)\n",
    "c[654].to_string('hmsdms'),QPQ9['Z_FG','Z_TOT'][654]"
   ]
  },
  {
   "cell_type": "code",
   "execution_count": 155,
   "metadata": {
    "collapsed": false
   },
   "outputs": [
    {
     "data": {
      "text/plain": [
       "(4346.055, 4155.8102)"
      ]
     },
     "execution_count": 155,
     "metadata": {},
     "output_type": "execute_result"
    }
   ],
   "source": [
    "1215*(1+2.5770),1334*(1+2.1153)"
   ]
  },
  {
   "cell_type": "code",
   "execution_count": 214,
   "metadata": {
    "collapsed": false,
    "scrolled": true
   },
   "outputs": [
    {
     "data": {
      "image/png": "[encoded data removed]",
      "text/plain": [
       "<matplotlib.figure.Figure at 0x114875550>"
      ]
     },
     "metadata": {},
     "output_type": "display_data"
    }
   ],
   "source": [
    "[specs[1].plot()]"
   ]
  }
 ],
 "metadata": {
  "kernelspec": {
   "display_name": "Python 2",
   "language": "python",
   "name": "python2"
  },
  "language_info": {
   "codemirror_mode": {
    "name": "ipython",
    "version": 2
   },
   "file_extension": ".py",
   "mimetype": "text/x-python",
   "name": "python",
   "nbconvert_exporter": "python",
   "pygments_lexer": "ipython2",
   "version": "2.7.12"
  }
 },
 "nbformat": 4,
 "nbformat_minor": 0
}
