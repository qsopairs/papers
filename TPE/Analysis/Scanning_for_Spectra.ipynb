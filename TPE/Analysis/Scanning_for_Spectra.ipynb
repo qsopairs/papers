{
 "cells": [
  {
   "cell_type": "markdown",
   "metadata": {},
   "source": [
    "# Scanning igmspec and qpq for spectra"
   ]
  },
  {
   "cell_type": "code",
   "execution_count": 48,
   "metadata": {
    "collapsed": true
   },
   "outputs": [],
   "source": [
    "# imports\n",
    "import pdb\n",
    "from collections import OrderedDict\n",
    "\n",
    "from astropy.coordinates import SkyCoord\n",
    "from astropy.table import Table\n",
    "\n",
    "from specdb.specdb import IgmSpec\n",
    "from specdb import specdb as sdbsdb\n",
    "from specdb.cat_utils import flags_to_groups"
   ]
  },
  {
   "cell_type": "markdown",
   "metadata": {},
   "source": [
    "## Load TPE + spectral datasets"
   ]
  },
  {
   "cell_type": "code",
   "execution_count": 3,
   "metadata": {
    "collapsed": true
   },
   "outputs": [],
   "source": [
    "tpe_file = 'TPE_DR12_31.2_spec.fits'"
   ]
  },
  {
   "cell_type": "code",
   "execution_count": 4,
   "metadata": {
    "collapsed": false
   },
   "outputs": [
    {
     "name": "stdout",
     "output_type": "stream",
     "text": [
      "Database is igmspec\n",
      "Created on 2017-Jan-05\n",
      "Database is QPQ\n",
      "Created on 2017-Jan-02\n"
     ]
    }
   ],
   "source": [
    "reload(sdbsdb)\n",
    "igmsp = sdbsdb.IgmSpec()\n",
    "qpq_file = os.getenv('DROPBOX_DIR')+'/QSOPairs/spectra/qpq_oir_spec.hdf5'\n",
    "qpq = sdbsdb.IgmSpec(db_file=qpq_file, skip_test=True)\n",
    "# Load TPE table\n",
    "tpe = Table.read(tpe_file)\n",
    "b_coords = SkyCoord(ra=tpe['BG_RA'], dec=tpe['BG_DEC'], unit='deg')"
   ]
  },
  {
   "cell_type": "markdown",
   "metadata": {},
   "source": [
    "## Query catalogs"
   ]
  },
  {
   "cell_type": "markdown",
   "metadata": {},
   "source": [
    "### igmspec"
   ]
  },
  {
   "cell_type": "code",
   "execution_count": 10,
   "metadata": {
    "collapsed": false
   },
   "outputs": [
    {
     "name": "stdout",
     "output_type": "stream",
     "text": [
      "Your search yielded 195 matches from 196 input coordinates\n"
     ]
    }
   ],
   "source": [
    "igm_cat_match, igm_cat, igm_ID = igmsp.qcat.query_coords(b_coords)"
   ]
  },
  {
   "cell_type": "code",
   "execution_count": 11,
   "metadata": {
    "collapsed": false
   },
   "outputs": [
    {
     "data": {
      "text/html": [
       "&lt;Table length=1&gt;\n",
       "<table id=\"table4708135440\" class=\"table-striped table-bordered table-condensed\">\n",
       "<thead><tr><th>FG_Z</th><th>FG_LOGLV</th><th>FG_G_UV</th><th>FG_RA</th><th>FG_DEC</th><th>BG_Z</th><th>BG_RA</th><th>BG_DEC</th><th>BG_LYA_INSTRUMENT</th><th>BG_LYA_FILE</th></tr></thead>\n",
       "<thead><tr><th>float64</th><th>float32</th><th>float64</th><th>float64</th><th>float64</th><th>float64</th><th>float64</th><th>float64</th><th>str8</th><th>str39</th></tr></thead>\n",
       "<tr><td>1.73456704617</td><td>31.3287</td><td>2145.93843303</td><td>221.122497067</td><td>31.2225650079</td><td>1.79499995708</td><td>221.11651431</td><td>31.2205412644</td><td>LRIS</td><td>SDSSJ144427.97+311313.8_b1200_F.fits.gz</td></tr>\n",
       "</table>"
      ],
      "text/plain": [
       "<Table length=1>\n",
       "     FG_Z     FG_LOGLV ...               BG_LYA_FILE              \n",
       "   float64    float32  ...                  str39                 \n",
       "------------- -------- ... ---------------------------------------\n",
       "1.73456704617  31.3287 ... SDSSJ144427.97+311313.8_b1200_F.fits.gz"
      ]
     },
     "execution_count": 11,
     "metadata": {},
     "output_type": "execute_result"
    }
   ],
   "source": [
    "tpe[~igm_cat_match]"
   ]
  },
  {
   "cell_type": "markdown",
   "metadata": {},
   "source": [
    "### QPQ"
   ]
  },
  {
   "cell_type": "code",
   "execution_count": 12,
   "metadata": {
    "collapsed": false
   },
   "outputs": [
    {
     "name": "stdout",
     "output_type": "stream",
     "text": [
      "Your search yielded 15 matches from 196 input coordinates\n"
     ]
    }
   ],
   "source": [
    "qpq_cat_match, qpq_cat, qpq_ID = qpq.qcat.query_coords(b_coords)"
   ]
  },
  {
   "cell_type": "code",
   "execution_count": 15,
   "metadata": {
    "collapsed": false
   },
   "outputs": [
    {
     "data": {
      "text/html": [
       "&lt;Table length=3&gt;\n",
       "<table id=\"table4623357008\" class=\"table-striped table-bordered table-condensed\">\n",
       "<thead><tr><th>flag_group</th><th>sig_zem</th><th>flag_zem</th><th>RA</th><th>DEC</th><th>STYPE</th><th>zem</th><th>QPQ_ID</th></tr></thead>\n",
       "<thead><tr><th>int64</th><th>float64</th><th>str8</th><th>float64</th><th>float64</th><th>str3</th><th>float64</th><th>int64</th></tr></thead>\n",
       "<tr><td>2</td><td>0.0</td><td>QPQ</td><td>4.557875</td><td>14.4154444444</td><td>QSO</td><td>4.23</td><td>2330</td></tr>\n",
       "<tr><td>64</td><td>0.0</td><td>QPQ</td><td>17.9558333333</td><td>14.0377222222</td><td>QSO</td><td>2.927</td><td>2552</td></tr>\n",
       "<tr><td>64</td><td>0.0</td><td>BOSS_PCA</td><td>24.1307916667</td><td>15.0384444444</td><td>QSO</td><td>3.3882958889</td><td>2744</td></tr>\n",
       "</table>"
      ],
      "text/plain": [
       "<Table length=3>\n",
       "flag_group sig_zem flag_zem       RA      ... STYPE     zem      QPQ_ID\n",
       "  int64    float64   str8      float64    ...  str3   float64    int64 \n",
       "---------- ------- -------- ------------- ... ----- ------------ ------\n",
       "         2     0.0      QPQ      4.557875 ...   QSO         4.23   2330\n",
       "        64     0.0      QPQ 17.9558333333 ...   QSO        2.927   2552\n",
       "        64     0.0 BOSS_PCA 24.1307916667 ...   QSO 3.3882958889   2744"
      ]
     },
     "execution_count": 15,
     "metadata": {},
     "output_type": "execute_result"
    }
   ],
   "source": [
    "qpq_cat[qpq_cat_match][0:3]"
   ]
  },
  {
   "cell_type": "code",
   "execution_count": 17,
   "metadata": {
    "collapsed": false
   },
   "outputs": [
    {
     "data": {
      "text/plain": [
       "array([u'ESI', u'LRIS', u'LRIS', u'SDSS', u'ESI', u'LRIS,SDSS,NIRI',\n",
       "       u'SDSS', u'SDSS', u'BOSS', u'LRIS', u'SDSS', u'BOSS', u'ESI',\n",
       "       u'BOSS', u'LRIS,MAGE'], \n",
       "      dtype='<U14')"
      ]
     },
     "execution_count": 17,
     "metadata": {},
     "output_type": "execute_result"
    }
   ],
   "source": [
    "qpq_gnames = flags_to_groups(qpq_cat['flag_group'][qpq_cat_match], qpq.group_dict)\n",
    "qpq_gnames"
   ]
  },
  {
   "cell_type": "markdown",
   "metadata": {},
   "source": [
    "## Generate lists of meta tables"
   ]
  },
  {
   "cell_type": "code",
   "execution_count": 14,
   "metadata": {
    "collapsed": false
   },
   "outputs": [
    {
     "name": "stdout",
     "output_type": "stream",
     "text": [
      "Your search yielded 195 matches from 196 input coordinates\n",
      "Final query yielded 195 matches.\n"
     ]
    }
   ],
   "source": [
    "igm_meta_match, igm_meta_list = igmsp.meta_from_coords(b_coords, first=False)"
   ]
  },
  {
   "cell_type": "code",
   "execution_count": 15,
   "metadata": {
    "collapsed": false
   },
   "outputs": [
    {
     "name": "stdout",
     "output_type": "stream",
     "text": [
      "Your search yielded 15 matches from 196 input coordinates\n",
      "Final query yielded 15 matches.\n"
     ]
    }
   ],
   "source": [
    "qpq_meta_match, qpq_meta_list = qpq.meta_from_coords(b_coords, first=False)"
   ]
  },
  {
   "cell_type": "markdown",
   "metadata": {},
   "source": [
    "## Instrument Priority"
   ]
  },
  {
   "cell_type": "code",
   "execution_count": 81,
   "metadata": {
    "collapsed": false
   },
   "outputs": [
    {
     "data": {
      "text/plain": [
       "OrderedDict([('SDSS', ''),\n",
       "             ('BOSS', ''),\n",
       "             ('LRISb', '1200/3400'),\n",
       "             ('MagE', ''),\n",
       "             ('ESI', 'ECH'),\n",
       "             ('UVES', ''),\n",
       "             ('HIRES', '')])"
      ]
     },
     "execution_count": 81,
     "metadata": {},
     "output_type": "execute_result"
    }
   ],
   "source": [
    "# Instrument, disperser pairs in reverse order of preference;  '' means any disperser is allowed\n",
    "instr_prior = OrderedDict()\n",
    "instr_prior['SDSS'] = ''\n",
    "instr_prior['BOSS'] = ''\n",
    "instr_prior['LRISb'] = '1200/3400'\n",
    "instr_prior['MagE'] = ''\n",
    "instr_prior['ESI'] = 'ECH'\n",
    "instr_prior['UVES'] = ''\n",
    "instr_prior['HIRES'] = ''\n",
    "instr_prior"
   ]
  },
  {
   "cell_type": "markdown",
   "metadata": {},
   "source": [
    "## Loop on Sources to build dbase,group,instr,grating + restrict on Lya"
   ]
  },
  {
   "cell_type": "code",
   "execution_count": 88,
   "metadata": {
    "collapsed": true
   },
   "outputs": [],
   "source": [
    "def add_to_specmeta(dbase, meta, qq, spec_meta, zabs, buff=50.):\n",
    "    for ss,row in enumerate(meta):\n",
    "        wv_lya = (1+zabs) * 1215.67\n",
    "        if np.any([(row['WV_MIN'] > wv_lya-buff),(row['WV_MAX'] < wv_lya+buff)]):\n",
    "            continue\n",
    "        # \n",
    "        if spec_meta[qq]['nspec'] > 0:\n",
    "            spec_meta[qq]['specm'] += ';'\n",
    "        spec_meta[qq]['specm'] += ','.join([dbase,row['GROUP'], row['INSTR'], row['DISPERSER']])\n",
    "        spec_meta[qq]['nspec'] += 1\n",
    "        # Priority\n",
    "        try:\n",
    "            aok = instr_prior[row['INSTR']] in row['DISPERSER']\n",
    "        except KeyError:\n",
    "            print('Instr = {:s} not in Priority dict'.format(row['INSTR']))\n",
    "        else:\n",
    "            if aok:  # Better choice?\n",
    "                spec_meta[qq]['nok'] += 1\n",
    "                pri = instr_prior.keys().index(row['INSTR'])\n",
    "                if pri > spec_meta[qq]['ibest']:\n",
    "                    spec_meta[qq]['best_row'] = ss\n",
    "                    spec_meta[qq]['ibest'] = pri\n",
    "                    spec_meta[qq]['best_spec'] = ','.join([dbase,row['GROUP'], row['INSTR'], row['DISPERSER']])"
   ]
  },
  {
   "cell_type": "code",
   "execution_count": 89,
   "metadata": {
    "collapsed": false
   },
   "outputs": [
    {
     "name": "stdout",
     "output_type": "stream",
     "text": [
      "Instr = 2dF not in Priority dict\n",
      "Instr = 2dF not in Priority dict\n",
      "Instr = 2dF not in Priority dict\n",
      "Instr = 2dF not in Priority dict\n",
      "Instr = GMOS-N not in Priority dict\n",
      "Instr = 2dF not in Priority dict\n",
      "Instr = 2dF not in Priority dict\n",
      "Instr = 2dF not in Priority dict\n",
      "Instr = 2dF not in Priority dict\n",
      "Instr = 2dF not in Priority dict\n",
      "Instr = 2dF not in Priority dict\n",
      "Instr = 2dF not in Priority dict\n"
     ]
    }
   ],
   "source": [
    "# Build\n",
    "spec_dict = dict(specm='', best_spec='', nspec=0, ibest=-1, nok=0, best_row=-1)\n",
    "spec_meta = [spec_dict.copy() for i in range(len(tpe))]\n",
    "# \n",
    "for qq,pair in enumerate(tpe):\n",
    "    # igmspec\n",
    "    if igm_meta_match[qq]:\n",
    "        # Grab all meta\n",
    "        meta = igm_meta_list[qq]\n",
    "        # Add\n",
    "        add_to_specmeta('igmsp', meta, qq, spec_meta, pair['FG_Z'])\n",
    "    # QPQ\n",
    "    if qpq_meta_match[qq]:\n",
    "        # Meta + add\n",
    "        add_to_specmeta('qpq', qpq_meta_list[qq], qq, spec_meta, pair['FG_Z'])"
   ]
  },
  {
   "cell_type": "code",
   "execution_count": 90,
   "metadata": {
    "collapsed": false
   },
   "outputs": [
    {
     "data": {
      "text/plain": [
       "[{'best_row': 0,\n",
       "  'best_spec': 'igmsp,BOSS_DR12,BOSS,BOTH',\n",
       "  'ibest': 1,\n",
       "  'nok': 2,\n",
       "  'nspec': 2,\n",
       "  'specm': 'igmsp,BOSS_DR12,BOSS,BOTH;igmsp,SDSS_DR7,SDSS,BOTH'},\n",
       " {'best_row': 0,\n",
       "  'best_spec': 'qpq,ESI,ESI,ECH',\n",
       "  'ibest': 4,\n",
       "  'nok': 3,\n",
       "  'nspec': 3,\n",
       "  'specm': 'igmsp,BOSS_DR12,BOSS,BOTH;igmsp,SDSS_DR7,SDSS,BOTH;qpq,ESI,ESI,ECH'},\n",
       " {'best_row': 0,\n",
       "  'best_spec': 'igmsp,BOSS_DR12,BOSS,BOTH',\n",
       "  'ibest': 1,\n",
       "  'nok': 2,\n",
       "  'nspec': 2,\n",
       "  'specm': 'igmsp,BOSS_DR12,BOSS,BOTH;igmsp,SDSS_DR7,SDSS,BOTH'},\n",
       " {'best_row': 0,\n",
       "  'best_spec': 'igmsp,BOSS_DR12,BOSS,BOTH',\n",
       "  'ibest': 1,\n",
       "  'nok': 2,\n",
       "  'nspec': 2,\n",
       "  'specm': 'igmsp,BOSS_DR12,BOSS,BOTH;igmsp,SDSS_DR7,SDSS,BOTH'},\n",
       " {'best_row': 0,\n",
       "  'best_spec': 'igmsp,BOSS_DR12,BOSS,BOTH',\n",
       "  'ibest': 1,\n",
       "  'nok': 2,\n",
       "  'nspec': 2,\n",
       "  'specm': 'igmsp,BOSS_DR12,BOSS,BOTH;igmsp,SDSS_DR7,SDSS,BOTH'}]"
      ]
     },
     "execution_count": 90,
     "metadata": {},
     "output_type": "execute_result"
    }
   ],
   "source": [
    "spec_meta[0:5]"
   ]
  },
  {
   "cell_type": "markdown",
   "metadata": {},
   "source": [
    "## Convert to Table"
   ]
  },
  {
   "cell_type": "code",
   "execution_count": 91,
   "metadata": {
    "collapsed": false
   },
   "outputs": [
    {
     "data": {
      "text/html": [
       "&lt;Table length=196&gt;\n",
       "<table id=\"table5133371536\" class=\"table-striped table-bordered table-condensed\">\n",
       "<thead><tr><th>specm</th><th>best_spec</th><th>nok</th><th>ibest</th><th>best_row</th><th>nspec</th></tr></thead>\n",
       "<thead><tr><th>str182</th><th>str27</th><th>int64</th><th>int64</th><th>int64</th><th>int64</th></tr></thead>\n",
       "<tr><td>igmsp,BOSS_DR12,BOSS,BOTH;igmsp,SDSS_DR7,SDSS,BOTH</td><td>igmsp,BOSS_DR12,BOSS,BOTH</td><td>2</td><td>1</td><td>0</td><td>2</td></tr>\n",
       "<tr><td>igmsp,BOSS_DR12,BOSS,BOTH;igmsp,SDSS_DR7,SDSS,BOTH;qpq,ESI,ESI,ECH</td><td>qpq,ESI,ESI,ECH</td><td>3</td><td>4</td><td>0</td><td>3</td></tr>\n",
       "<tr><td>igmsp,BOSS_DR12,BOSS,BOTH;igmsp,SDSS_DR7,SDSS,BOTH</td><td>igmsp,BOSS_DR12,BOSS,BOTH</td><td>2</td><td>1</td><td>0</td><td>2</td></tr>\n",
       "<tr><td>igmsp,BOSS_DR12,BOSS,BOTH;igmsp,SDSS_DR7,SDSS,BOTH</td><td>igmsp,BOSS_DR12,BOSS,BOTH</td><td>2</td><td>1</td><td>0</td><td>2</td></tr>\n",
       "<tr><td>igmsp,BOSS_DR12,BOSS,BOTH;igmsp,SDSS_DR7,SDSS,BOTH</td><td>igmsp,BOSS_DR12,BOSS,BOTH</td><td>2</td><td>1</td><td>0</td><td>2</td></tr>\n",
       "<tr><td>igmsp,BOSS_DR12,BOSS,BOTH;igmsp,SDSS_DR7,SDSS,BOTH</td><td>igmsp,BOSS_DR12,BOSS,BOTH</td><td>2</td><td>1</td><td>0</td><td>2</td></tr>\n",
       "<tr><td>igmsp,BOSS_DR12,BOSS,BOTH;igmsp,SDSS_DR7,SDSS,BOTH;qpq,LRIS,LRISb,1200/3400</td><td>qpq,LRIS,LRISb,1200/3400</td><td>3</td><td>2</td><td>0</td><td>3</td></tr>\n",
       "<tr><td>igmsp,BOSS_DR12,BOSS,BOTH;igmsp,SDSS_DR7,SDSS,BOTH</td><td>igmsp,BOSS_DR12,BOSS,BOTH</td><td>2</td><td>1</td><td>0</td><td>2</td></tr>\n",
       "<tr><td>igmsp,BOSS_DR12,BOSS,BOTH;igmsp,SDSS_DR7,SDSS,BOTH</td><td>igmsp,BOSS_DR12,BOSS,BOTH</td><td>2</td><td>1</td><td>0</td><td>2</td></tr>\n",
       "<tr><td>igmsp,BOSS_DR12,BOSS,BOTH;qpq,LRIS,LRISb,400/3400</td><td>igmsp,BOSS_DR12,BOSS,BOTH</td><td>1</td><td>1</td><td>0</td><td>2</td></tr>\n",
       "<tr><td>...</td><td>...</td><td>...</td><td>...</td><td>...</td><td>...</td></tr>\n",
       "<tr><td>igmsp,BOSS_DR12,BOSS,BOTH;igmsp,SDSS_DR7,SDSS,BOTH;qpq,BOSS,BOSS,BOTH;qpq,BOSS,BOSS,BOTH;qpq,BOSS,BOSS,BOTH</td><td>igmsp,BOSS_DR12,BOSS,BOTH</td><td>5</td><td>1</td><td>0</td><td>5</td></tr>\n",
       "<tr><td>igmsp,BOSS_DR12,BOSS,BOTH;igmsp,SDSS_DR7,SDSS,BOTH</td><td>igmsp,BOSS_DR12,BOSS,BOTH</td><td>2</td><td>1</td><td>0</td><td>2</td></tr>\n",
       "<tr><td>igmsp,SDSS_DR7,SDSS,BOTH</td><td>igmsp,SDSS_DR7,SDSS,BOTH</td><td>1</td><td>0</td><td>0</td><td>1</td></tr>\n",
       "<tr><td>igmsp,BOSS_DR12,BOSS,BOTH;qpq,LRIS,LRISb,400/3400;qpq,MAGE,MagE,N/A</td><td>qpq,MAGE,MagE,N/A</td><td>2</td><td>3</td><td>2</td><td>3</td></tr>\n",
       "<tr><td>igmsp,BOSS_DR12,BOSS,BOTH;igmsp,SDSS_DR7,SDSS,BOTH</td><td>igmsp,BOSS_DR12,BOSS,BOTH</td><td>2</td><td>1</td><td>0</td><td>2</td></tr>\n",
       "<tr><td>igmsp,SDSS_DR7,SDSS,BOTH</td><td>igmsp,SDSS_DR7,SDSS,BOTH</td><td>1</td><td>0</td><td>0</td><td>1</td></tr>\n",
       "<tr><td>igmsp,SDSS_DR7,SDSS,BOTH</td><td>igmsp,SDSS_DR7,SDSS,BOTH</td><td>1</td><td>0</td><td>0</td><td>1</td></tr>\n",
       "<tr><td></td><td></td><td>0</td><td>-1</td><td>-1</td><td>0</td></tr>\n",
       "<tr><td>igmsp,BOSS_DR12,BOSS,BOTH;igmsp,SDSS_DR7,SDSS,BOTH</td><td>igmsp,BOSS_DR12,BOSS,BOTH</td><td>2</td><td>1</td><td>0</td><td>2</td></tr>\n",
       "<tr><td>igmsp,BOSS_DR12,BOSS,BOTH</td><td>igmsp,BOSS_DR12,BOSS,BOTH</td><td>1</td><td>1</td><td>0</td><td>1</td></tr>\n",
       "</table>"
      ],
      "text/plain": [
       "<Table length=196>\n",
       "                                                   specm                                                    ...\n",
       "                                                   str182                                                   ...\n",
       "----------------------------------------------------------------------------------------------------------- ...\n",
       "                                                         igmsp,BOSS_DR12,BOSS,BOTH;igmsp,SDSS_DR7,SDSS,BOTH ...\n",
       "                                         igmsp,BOSS_DR12,BOSS,BOTH;igmsp,SDSS_DR7,SDSS,BOTH;qpq,ESI,ESI,ECH ...\n",
       "                                                         igmsp,BOSS_DR12,BOSS,BOTH;igmsp,SDSS_DR7,SDSS,BOTH ...\n",
       "                                                         igmsp,BOSS_DR12,BOSS,BOTH;igmsp,SDSS_DR7,SDSS,BOTH ...\n",
       "                                                         igmsp,BOSS_DR12,BOSS,BOTH;igmsp,SDSS_DR7,SDSS,BOTH ...\n",
       "                                                         igmsp,BOSS_DR12,BOSS,BOTH;igmsp,SDSS_DR7,SDSS,BOTH ...\n",
       "                                igmsp,BOSS_DR12,BOSS,BOTH;igmsp,SDSS_DR7,SDSS,BOTH;qpq,LRIS,LRISb,1200/3400 ...\n",
       "                                                         igmsp,BOSS_DR12,BOSS,BOTH;igmsp,SDSS_DR7,SDSS,BOTH ...\n",
       "                                                         igmsp,BOSS_DR12,BOSS,BOTH;igmsp,SDSS_DR7,SDSS,BOTH ...\n",
       "                                                          igmsp,BOSS_DR12,BOSS,BOTH;qpq,LRIS,LRISb,400/3400 ...\n",
       "                                                                                                        ... ...\n",
       "igmsp,BOSS_DR12,BOSS,BOTH;igmsp,SDSS_DR7,SDSS,BOTH;qpq,BOSS,BOSS,BOTH;qpq,BOSS,BOSS,BOTH;qpq,BOSS,BOSS,BOTH ...\n",
       "                                                         igmsp,BOSS_DR12,BOSS,BOTH;igmsp,SDSS_DR7,SDSS,BOTH ...\n",
       "                                                                                   igmsp,SDSS_DR7,SDSS,BOTH ...\n",
       "                                        igmsp,BOSS_DR12,BOSS,BOTH;qpq,LRIS,LRISb,400/3400;qpq,MAGE,MagE,N/A ...\n",
       "                                                         igmsp,BOSS_DR12,BOSS,BOTH;igmsp,SDSS_DR7,SDSS,BOTH ...\n",
       "                                                                                   igmsp,SDSS_DR7,SDSS,BOTH ...\n",
       "                                                                                   igmsp,SDSS_DR7,SDSS,BOTH ...\n",
       "                                                                                                            ...\n",
       "                                                         igmsp,BOSS_DR12,BOSS,BOTH;igmsp,SDSS_DR7,SDSS,BOTH ...\n",
       "                                                                                  igmsp,BOSS_DR12,BOSS,BOTH ..."
      ]
     },
     "execution_count": 91,
     "metadata": {},
     "output_type": "execute_result"
    }
   ],
   "source": [
    "spec_tbl = Table()\n",
    "for key in spec_dict.keys():\n",
    "    clm = [sdict[key] for sdict in spec_meta]\n",
    "    spec_tbl[key] = clm\n",
    "#\n",
    "spec_tbl"
   ]
  },
  {
   "cell_type": "markdown",
   "metadata": {},
   "source": [
    "## Grab spec \n",
    "\n",
    "### Need to do igmspec and qpq separately -- think about a way to join?\n",
    "\n",
    "### Grab on XSpectrum1D then the other, collate then splice"
   ]
  },
  {
   "cell_type": "code",
   "execution_count": 94,
   "metadata": {
    "collapsed": false
   },
   "outputs": [
    {
     "data": {
      "text/plain": [
       "176"
      ]
     },
     "execution_count": 94,
     "metadata": {},
     "output_type": "execute_result"
    }
   ],
   "source": [
    "np.sum(spec_tbl['ibest'] >= 0)"
   ]
  },
  {
   "cell_type": "code",
   "execution_count": null,
   "metadata": {
    "collapsed": true
   },
   "outputs": [],
   "source": []
  }
 ],
 "metadata": {
  "kernelspec": {
   "display_name": "Python 2",
   "language": "python",
   "name": "python2"
  },
  "language_info": {
   "codemirror_mode": {
    "name": "ipython",
    "version": 2
   },
   "file_extension": ".py",
   "mimetype": "text/x-python",
   "name": "python",
   "nbconvert_exporter": "python",
   "pygments_lexer": "ipython2",
   "version": "2.7.11"
  }
 },
 "nbformat": 4,
 "nbformat_minor": 0
}
