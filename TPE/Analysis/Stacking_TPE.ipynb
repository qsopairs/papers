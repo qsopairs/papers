{
 "cells": [
  {
   "cell_type": "markdown",
   "metadata": {},
   "source": [
    "# Stacking a bit of TPE"
   ]
  },
  {
   "cell_type": "code",
   "execution_count": 1,
   "metadata": {
    "collapsed": true
   },
   "outputs": [],
   "source": [
    "%matplotlib notebook"
   ]
  },
  {
   "cell_type": "code",
   "execution_count": 2,
   "metadata": {
    "collapsed": true
   },
   "outputs": [],
   "source": [
    "# imports\n",
    "import sys, os\n",
    "\n",
    "from astropy.coordinates import SkyCoord\n",
    "\n",
    "from specdb.specdb import IgmSpec\n",
    "\n",
    "sys.path.append(os.path.abspath(\"py/\"))\n",
    "import tpe_sample as tps"
   ]
  },
  {
   "cell_type": "markdown",
   "metadata": {},
   "source": [
    "## Load sample"
   ]
  },
  {
   "cell_type": "code",
   "execution_count": 3,
   "metadata": {
    "collapsed": true
   },
   "outputs": [],
   "source": [
    "smpl = Table.read('TPE_DR12_31.0_spec.fits')"
   ]
  },
  {
   "cell_type": "code",
   "execution_count": 4,
   "metadata": {
    "collapsed": false
   },
   "outputs": [
    {
     "data": {
      "text/html": [
       "&lt;Table length=3&gt;\n",
       "<table id=\"table4556639056\" class=\"table-striped table-bordered table-condensed\">\n",
       "<thead><tr><th>FG_Z</th><th>FG_LOGLV</th><th>FG_G_UV</th><th>FG_RA</th><th>FG_DEC</th><th>BG_Z</th><th>BG_RA</th><th>BG_DEC</th><th>BG_LYA_INSTRUMENT</th><th>BG_LYA_FILE</th></tr></thead>\n",
       "<thead><tr><th>float64</th><th>float32</th><th>float64</th><th>float64</th><th>float64</th><th>float64</th><th>float64</th><th>float64</th><th>str8</th><th>str39</th></tr></thead>\n",
       "<tr><td>2.23420000076</td><td>31.1204</td><td>4.27259340729</td><td>0.0390858434422</td><td>13.9384516497</td><td>2.39124894142</td><td>359.986388689</td><td>13.8588229467</td><td>BOSS</td><td>SDSSJ235956.73+135131.8.fits</td></tr>\n",
       "<tr><td>2.45235800743</td><td>31.0914</td><td>1.71231944356</td><td>1.10069611811</td><td>-8.84667730526</td><td>3.0</td><td>1.21108880091</td><td>-8.74711951072</td><td>XSHOOTER</td><td>SDSSJ000450.66-084449.6_F.fits</td></tr>\n",
       "<tr><td>2.45235800743</td><td>31.0914</td><td>1.70515829001</td><td>1.10069611811</td><td>-8.84667730526</td><td>3.0</td><td>1.21211054377</td><td>-8.74777302962</td><td>XSHOOTER</td><td>SDSSJ000450.90-084452.0_F.fits</td></tr>\n",
       "</table>"
      ],
      "text/plain": [
       "<Table length=3>\n",
       "     FG_Z     FG_LOGLV ... BG_LYA_INSTRUMENT          BG_LYA_FILE          \n",
       "   float64    float32  ...        str8                   str39             \n",
       "------------- -------- ... ----------------- ------------------------------\n",
       "2.23420000076  31.1204 ...              BOSS   SDSSJ235956.73+135131.8.fits\n",
       "2.45235800743  31.0914 ...          XSHOOTER SDSSJ000450.66-084449.6_F.fits\n",
       "2.45235800743  31.0914 ...          XSHOOTER SDSSJ000450.90-084452.0_F.fits"
      ]
     },
     "execution_count": 4,
     "metadata": {},
     "output_type": "execute_result"
    }
   ],
   "source": [
    "smpl[0:3]"
   ]
  },
  {
   "cell_type": "markdown",
   "metadata": {},
   "source": [
    "## Check a few"
   ]
  },
  {
   "cell_type": "code",
   "execution_count": 5,
   "metadata": {
    "collapsed": false
   },
   "outputs": [
    {
     "name": "stdout",
     "output_type": "stream",
     "text": [
      "Using /u/xavier/local/Python/igmspec/DB/IGMspec_DB_v02.hdf5 for the catalog file\n",
      "Using /u/xavier/local/Python/igmspec/DB/IGMspec_DB_v02.hdf5 for the DB file\n",
      "Available surveys: [u'BOSS_DR12', u'HSTQSO', u'SDSS_DR7', u'KODIAQ_DR1', u'MUSoDLA', u'HD-LLS_DR1', u'2QZ', u'ESI_DLA', u'HDLA100', u'GGG', u'COS-Halos', u'HST_z2', u'COS-Dwarfs', u'XQ-100']\n",
      "Database is igmspec\n",
      "Created on 2016-Oct-25\n",
      "Using /u/xavier/Dropbox//QSOPairs/spectra/qpq_oir_spec.hdf5 for the catalog file\n",
      "Using /u/xavier/Dropbox//QSOPairs/spectra/qpq_oir_spec.hdf5 for the DB file\n",
      "Available surveys: [u'GMOS', u'MODS', u'HIRES', u'GNIRS', u'MMT', u'XSHOOTER', u'MIKE', u'BOSS', u'MOSFIRE', u'NIRSPEC', u'TRIPLESPEC', u'ESI', u'LRIS', u'ISAAC', u'SDSS', u'NIRI', u'MAGE']\n",
      "Database is QPQ\n",
      "Created on 2016-Oct-27\n"
     ]
    }
   ],
   "source": [
    "igmsp = IgmSpec()\n",
    "qpq_file = os.getenv('DROPBOX_DIR')+'/QSOPairs/spectra/qpq_oir_spec.hdf5'\n",
    "qpq = IgmSpec(db_file=qpq_file, skip_test=True)"
   ]
  },
  {
   "cell_type": "markdown",
   "metadata": {},
   "source": [
    "### i0"
   ]
  },
  {
   "cell_type": "code",
   "execution_count": 6,
   "metadata": {
    "collapsed": true
   },
   "outputs": [],
   "source": [
    "s0 = smpl[0]"
   ]
  },
  {
   "cell_type": "code",
   "execution_count": 7,
   "metadata": {
    "collapsed": false
   },
   "outputs": [],
   "source": [
    "#spec0, meta0 = igmsp.spec_from_coord((s0['BG_RA'], s0['BG_DEC']), isurvey='BOSS_DR12')\n",
    "#spec0[0].plot()"
   ]
  },
  {
   "cell_type": "markdown",
   "metadata": {},
   "source": [
    "### i1 (X-Shooter)"
   ]
  },
  {
   "cell_type": "code",
   "execution_count": 8,
   "metadata": {
    "collapsed": true
   },
   "outputs": [],
   "source": [
    "s1 = smpl[1]"
   ]
  },
  {
   "cell_type": "code",
   "execution_count": 9,
   "metadata": {
    "collapsed": false
   },
   "outputs": [
    {
     "name": "stdout",
     "output_type": "stream",
     "text": [
      "Your search yielded 4 match[es]\n",
      "Staged 0 spectra totalling 0 Gb\n",
      "No spectra matching in survey BOSS\n",
      "Staged 0 spectra totalling 0 Gb\n",
      "No spectra matching in survey ESI\n",
      "Staged 0 spectra totalling 0 Gb\n",
      "No spectra matching in survey GMOS\n",
      "Staged 0 spectra totalling 0 Gb\n",
      "No spectra matching in survey GNIRS\n",
      "Staged 0 spectra totalling 0 Gb\n",
      "No spectra matching in survey HIRES\n",
      "Staged 0 spectra totalling 0 Gb\n",
      "No spectra matching in survey ISAAC\n",
      "Staged 4 spectra totalling 0.000336 Gb\n",
      "Loaded spectra\n",
      "Staged 2 spectra totalling 0.00072 Gb\n",
      "Loaded spectra\n",
      "Staged 0 spectra totalling 0 Gb\n",
      "No spectra matching in survey MIKE\n",
      "Staged 0 spectra totalling 0 Gb\n",
      "No spectra matching in survey MMT\n",
      "Staged 0 spectra totalling 0 Gb\n",
      "No spectra matching in survey MODS\n",
      "Staged 0 spectra totalling 0 Gb\n",
      "No spectra matching in survey MOSFIRE\n",
      "Staged 0 spectra totalling 0 Gb\n",
      "No spectra matching in survey NIRI\n",
      "Staged 0 spectra totalling 0 Gb\n",
      "No spectra matching in survey NIRSPEC\n",
      "Staged 0 spectra totalling 0 Gb\n",
      "No spectra matching in survey SDSS\n",
      "Staged 0 spectra totalling 0 Gb\n",
      "No spectra matching in survey TRIPLESPEC\n",
      "Staged 3 spectra totalling 0.0024 Gb\n",
      "Loaded spectra\n"
     ]
    },
    {
     "name": "stderr",
     "output_type": "stream",
     "text": [
      "/Users/xavier/local/Python/specdb/specdb/specdb.py:89: UserWarning: Found multiple sources.  Hope you expected that.\n",
      "  warnings.warn(\"Found multiple sources.  Hope you expected that.\")\n",
      "/Users/xavier/local/Python/linetools/linetools/spectra/xspectrum1d.py:248: UserWarning: No unit given to wavelength, assuming Angstroms.\n",
      "  warnings.warn(\"No unit given to wavelength, assuming Angstroms.\")\n"
     ]
    },
    {
     "data": {
      "text/plain": [
       "[<Table length=4>\n",
       " sig_zem flag_zem flag_survey       RA      ... INSTR TELESCOPE SURVEY_ID\n",
       " float64   str9      int64       float64    ...  str5    str6      str5  \n",
       " ------- -------- ----------- ------------- ... ----- --------- ---------\n",
       "     0.0      QPQ           1 1.21108333333 ... LRISb    Keck-I     DUMMY\n",
       "     0.0      QPQ           1 1.21108333333 ... LRISr    Keck-I     DUMMY\n",
       "     0.0      QPQ           1 1.21208333333 ... LRISb    Keck-I     DUMMY\n",
       "     0.0      QPQ           1 1.21208333333 ... LRISr    Keck-I     DUMMY,\n",
       " <Table length=2>\n",
       " sig_zem flag_zem flag_survey ... GRATING SURVEY_ID\n",
       " float64   str9      int64    ...   str3     str5  \n",
       " ------- -------- ----------- ... ------- ---------\n",
       "     0.0      QPQ           1 ...     N/A     DUMMY\n",
       "     0.0      QPQ           1 ...     N/A     DUMMY,\n",
       " <Table length=3>\n",
       " sig_zem flag_zem flag_survey ... GRATING SURVEY_ID\n",
       " float64   str9      int64    ...   str3     str5  \n",
       " ------- -------- ----------- ... ------- ---------\n",
       "     0.0      QPQ           1 ...     ALL     DUMMY\n",
       "     0.0      QPQ           1 ...     ALL     DUMMY\n",
       "     0.0      QPQ           1 ...     ALL     DUMMY]"
      ]
     },
     "execution_count": 9,
     "metadata": {},
     "output_type": "execute_result"
    }
   ],
   "source": [
    "spec1, meta1 = qpq.spec_from_coord((s1['BG_RA'], s1['BG_DEC']))#, isurvey='BOSS_DR12')\n",
    "meta1"
   ]
  },
  {
   "cell_type": "code",
   "execution_count": 10,
   "metadata": {
    "collapsed": true
   },
   "outputs": [],
   "source": [
    "xs = Table(qpq.idb.hdf['XSHOOTER/meta'].value)"
   ]
  },
  {
   "cell_type": "code",
   "execution_count": 11,
   "metadata": {
    "collapsed": false
   },
   "outputs": [
    {
     "data": {
      "text/html": [
       "&lt;Table length=4&gt;\n",
       "<table id=\"table4556639184\" class=\"table-striped table-bordered table-condensed\">\n",
       "<thead><tr><th>sig_zem</th><th>flag_zem</th><th>flag_survey</th><th>RA</th><th>DEC</th><th>STYPE</th><th>zem</th><th>IGM_ID</th><th>DATE-OBS</th><th>TELESCOPE</th><th>INSTR</th><th>R</th><th>EPOCH</th><th>PRIV_ID</th><th>NPIX</th><th>WV_MIN</th><th>WV_MAX</th><th>SPEC_FILE</th><th>GRATING</th><th>SURVEY_ID</th></tr></thead>\n",
       "<thead><tr><th>float64</th><th>str9</th><th>int64</th><th>float64</th><th>float64</th><th>str3</th><th>float64</th><th>int64</th><th>str10</th><th>str10</th><th>str8</th><th>float64</th><th>float64</th><th>int64</th><th>int64</th><th>float64</th><th>float64</th><th>str84</th><th>str3</th><th>str5</th></tr></thead>\n",
       "<tr><td>0.0</td><td>QPQ</td><td>1</td><td>1.21108333333</td><td>-8.74711111111</td><td>QSO</td><td>3.0</td><td>-9999</td><td>2013-07-12</td><td>ESO-VLT-U2</td><td>XSHOOTER</td><td>8000.0</td><td>2000.0</td><td>8016</td><td>39840</td><td>3100.00718196</td><td>22752.6941029</td><td>/u/xavier/Dropbox//QSOPairs/data/XSHOOTER_redux//./SDSSJ000450.66-084449.6_F.fits.gz</td><td>ALL</td><td>DUMMY</td></tr>\n",
       "<tr><td>0.0</td><td>QPQ</td><td>1</td><td>1.21208333333</td><td>-8.74777777778</td><td>QSO</td><td>3.0</td><td>-9999</td><td>2013-08-08</td><td>ESO-VLT-U2</td><td>XSHOOTER</td><td>8000.0</td><td>2000.0</td><td>8018</td><td>39840</td><td>3100.00718199</td><td>22752.6941025</td><td>/u/xavier/Dropbox//QSOPairs/data/XSHOOTER_redux//./SDSSJ000450.90-084452.0_F.fits.gz</td><td>ALL</td><td>DUMMY</td></tr>\n",
       "<tr><td>0.0</td><td>QPQ</td><td>1</td><td>1.212125</td><td>-8.74777777778</td><td>QSO</td><td>3.0</td><td>-9999</td><td>2013-08-08</td><td>ESO-VLT-U2</td><td>XSHOOTER</td><td>8000.0</td><td>2000.0</td><td>8018</td><td>39840</td><td>3100.00718199</td><td>22752.6941025</td><td>/u/xavier/Dropbox//QSOPairs/data/XSHOOTER_redux//./SDSSJ000450.91-084452.0_F.fits.gz</td><td>ALL</td><td>DUMMY</td></tr>\n",
       "<tr><td>0.0</td><td>QPQ</td><td>1</td><td>7.89825</td><td>0.572583333333</td><td>QSO</td><td>2.267</td><td>8844</td><td>2011-10-03</td><td>ESO-VLT-U2</td><td>XSHOOTER</td><td>8000.0</td><td>2000.0</td><td>8541</td><td>39596</td><td>3100.00718199</td><td>22752.6941025</td><td>/u/xavier/Dropbox//QSOPairs/data/XSHOOTER_redux//./SDSSJ003135.58+003421.3_F.fits.gz</td><td>ALL</td><td>DUMMY</td></tr>\n",
       "</table>"
      ],
      "text/plain": [
       "<Table length=4>\n",
       "sig_zem flag_zem flag_survey ... GRATING SURVEY_ID\n",
       "float64   str9      int64    ...   str3     str5  \n",
       "------- -------- ----------- ... ------- ---------\n",
       "    0.0      QPQ           1 ...     ALL     DUMMY\n",
       "    0.0      QPQ           1 ...     ALL     DUMMY\n",
       "    0.0      QPQ           1 ...     ALL     DUMMY\n",
       "    0.0      QPQ           1 ...     ALL     DUMMY"
      ]
     },
     "execution_count": 11,
     "metadata": {},
     "output_type": "execute_result"
    }
   ],
   "source": [
    "xs[0:4]"
   ]
  },
  {
   "cell_type": "code",
   "execution_count": 12,
   "metadata": {
    "collapsed": false
   },
   "outputs": [
    {
     "data": {
      "text/html": [
       "&lt;Row index=1&gt;\n",
       "<table id=\"table4619632016\">\n",
       "<thead><tr><th>FG_Z</th><th>FG_LOGLV</th><th>FG_G_UV</th><th>FG_RA</th><th>FG_DEC</th><th>BG_Z</th><th>BG_RA</th><th>BG_DEC</th><th>BG_LYA_INSTRUMENT</th><th>BG_LYA_FILE</th></tr></thead>\n",
       "<thead><tr><th>float64</th><th>float32</th><th>float64</th><th>float64</th><th>float64</th><th>float64</th><th>float64</th><th>float64</th><th>str8</th><th>str39</th></tr></thead>\n",
       "<tr><td>2.45235800743</td><td>31.0914</td><td>1.71231944356</td><td>1.10069611811</td><td>-8.84667730526</td><td>3.0</td><td>1.21108880091</td><td>-8.74711951072</td><td>XSHOOTER</td><td>SDSSJ000450.66-084449.6_F.fits</td></tr>\n",
       "</table>"
      ],
      "text/plain": [
       "<Row index=1>\n",
       "     FG_Z     FG_LOGLV    FG_G_UV        FG_RA         FG_DEC       BG_Z      BG_RA         BG_DEC     BG_LYA_INSTRUMENT          BG_LYA_FILE          \n",
       "   float64    float32     float64       float64       float64     float64    float64       float64            str8                   str39             \n",
       "------------- -------- ------------- ------------- -------------- ------- ------------- -------------- ----------------- ------------------------------\n",
       "2.45235800743  31.0914 1.71231944356 1.10069611811 -8.84667730526     3.0 1.21108880091 -8.74711951072          XSHOOTER SDSSJ000450.66-084449.6_F.fits"
      ]
     },
     "execution_count": 12,
     "metadata": {},
     "output_type": "execute_result"
    }
   ],
   "source": [
    "s1"
   ]
  },
  {
   "cell_type": "code",
   "execution_count": 13,
   "metadata": {
    "collapsed": true
   },
   "outputs": [],
   "source": [
    "c1 = SkyCoord(ra=s1['BG_RA'], dec=s1['BG_DEC'], unit='deg')"
   ]
  },
  {
   "cell_type": "code",
   "execution_count": 14,
   "metadata": {
    "collapsed": true
   },
   "outputs": [],
   "source": [
    "xc = SkyCoord(ra=xs['RA'], dec=xs['DEC'], unit='deg')"
   ]
  },
  {
   "cell_type": "code",
   "execution_count": 15,
   "metadata": {
    "collapsed": true
   },
   "outputs": [],
   "source": [
    "sep = c1.separation(xc)"
   ]
  },
  {
   "cell_type": "code",
   "execution_count": 16,
   "metadata": {
    "collapsed": false
   },
   "outputs": [
    {
     "data": {
      "text/latex": [
       "$0^\\circ00{}^\\prime00.036{}^{\\prime\\prime}$"
      ],
      "text/plain": [
       "<Angle 9.987814229104912e-06 deg>"
      ]
     },
     "execution_count": 16,
     "metadata": {},
     "output_type": "execute_result"
    }
   ],
   "source": [
    "np.min(sep)"
   ]
  },
  {
   "cell_type": "code",
   "execution_count": 17,
   "metadata": {
    "collapsed": true
   },
   "outputs": [],
   "source": [
    "qcat = qpq.qcat.cat"
   ]
  },
  {
   "cell_type": "code",
   "execution_count": 18,
   "metadata": {
    "collapsed": true
   },
   "outputs": [],
   "source": [
    "cc = SkyCoord(ra=qcat['RA'], dec=qcat['DEC'], unit='deg')"
   ]
  },
  {
   "cell_type": "code",
   "execution_count": 19,
   "metadata": {
    "collapsed": true
   },
   "outputs": [],
   "source": [
    "sep2 = c1.separation(cc)"
   ]
  },
  {
   "cell_type": "code",
   "execution_count": 20,
   "metadata": {
    "collapsed": false
   },
   "outputs": [
    {
     "data": {
      "text/plain": [
       "8016"
      ]
     },
     "execution_count": 20,
     "metadata": {},
     "output_type": "execute_result"
    }
   ],
   "source": [
    "np.argmin(sep2)"
   ]
  },
  {
   "cell_type": "code",
   "execution_count": 21,
   "metadata": {
    "collapsed": false
   },
   "outputs": [
    {
     "data": {
      "text/html": [
       "&lt;Row index=8016&gt;\n",
       "<table id=\"table4619747152\">\n",
       "<thead><tr><th>sig_zem</th><th>flag_zem</th><th>flag_survey</th><th>RA</th><th>DEC</th><th>STYPE</th><th>zem</th><th>PRIV_ID</th></tr></thead>\n",
       "<thead><tr><th>float64</th><th>str9</th><th>int64</th><th>float64</th><th>float64</th><th>str3</th><th>float64</th><th>int64</th></tr></thead>\n",
       "<tr><td>0.000</td><td>QPQ</td><td>131200</td><td>1.2111</td><td>-8.7471</td><td>QSO</td><td>3.000</td><td>8016</td></tr>\n",
       "</table>"
      ],
      "text/plain": [
       "<Row index=8016>\n",
       "sig_zem flag_zem flag_survey    RA      DEC    STYPE   zem   PRIV_ID\n",
       "float64   str9      int64    float64  float64   str3 float64  int64 \n",
       "------- -------- ----------- -------- -------- ----- ------- -------\n",
       "  0.000      QPQ      131200   1.2111  -8.7471   QSO   3.000    8016"
      ]
     },
     "execution_count": 21,
     "metadata": {},
     "output_type": "execute_result"
    }
   ],
   "source": [
    "qcat[8016]"
   ]
  },
  {
   "cell_type": "code",
   "execution_count": null,
   "metadata": {
    "collapsed": true
   },
   "outputs": [],
   "source": []
  }
 ],
 "metadata": {
  "kernelspec": {
   "display_name": "Python 2",
   "language": "python",
   "name": "python2"
  },
  "language_info": {
   "codemirror_mode": {
    "name": "ipython",
    "version": 2
   },
   "file_extension": ".py",
   "mimetype": "text/x-python",
   "name": "python",
   "nbconvert_exporter": "python",
   "pygments_lexer": "ipython2",
   "version": "2.7.11"
  }
 },
 "nbformat": 4,
 "nbformat_minor": 0
}
