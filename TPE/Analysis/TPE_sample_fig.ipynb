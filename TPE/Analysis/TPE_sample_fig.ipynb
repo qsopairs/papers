{
 "cells": [
  {
   "cell_type": "markdown",
   "metadata": {},
   "source": [
    "# Plots of TPE spectra"
   ]
  },
  {
   "cell_type": "code",
   "execution_count": 1,
   "metadata": {
    "collapsed": true
   },
   "outputs": [],
   "source": [
    "# imports"
   ]
  },
  {
   "cell_type": "markdown",
   "metadata": {},
   "source": [
    "## zem lines"
   ]
  },
  {
   "cell_type": "code",
   "execution_count": 7,
   "metadata": {
    "collapsed": false
   },
   "outputs": [
    {
     "data": {
      "text/html": [
       "&lt;Table length=10&gt;\n",
       "<table id=\"table4587953936\" class=\"table-striped table-bordered table-condensed\">\n",
       "<thead><tr><th>LINENAME</th><th>LINEWAVELAB</th><th>LINEWAVESHIFT</th><th>LINEWAVEFIT</th><th>LINEGAUSSCEN</th><th>LINEZ</th><th>LINEZ_ERR</th><th>LINESIGMA</th><th>LINESIGMA_ERR</th><th>LINEAREA</th><th>LINEAREA_ERR</th><th>LINEEW</th><th>LINEEW_ERR</th><th>LINEEW_EFF</th><th>LINEEW_EFF_ERR</th><th>LINECONTLEVEL</th><th>LINECONTLEVEL_ERR</th><th>LINEALLBUTLEVEL</th><th>LINEALLBUTLEVEL_ERR</th><th>LINENPIXLEFT</th><th>LINENPIXRIGHT</th><th>LINEGPIXLEFT</th><th>LINEGPIXRIGHT</th><th>LINEDOF</th><th>LINEDVPIX</th><th>LINECHI2</th><th>LINEPEAK</th><th>LINEPIX</th><th>LINE_SN</th><th>LINE_SN500</th><th>LINEZ_MODE</th><th>LINEMODE</th><th>Z_SYS</th><th>PEAK_FRAC</th><th>REDCHI2</th><th>INNER_FITMASK [39839]</th><th>YFIT [39839]</th><th>BFIT [39839]</th><th>ALLBUTLINE [39839]</th><th>FITMASK [39839]</th><th>ZFLAG</th><th>MIN_SN</th><th>MAX_X2</th></tr></thead>\n",
       "<thead><tr><th>str10</th><th>float64</th><th>float64</th><th>float64</th><th>float64</th><th>float64</th><th>float64</th><th>float64</th><th>float64</th><th>float64</th><th>float64</th><th>float64</th><th>float64</th><th>float64</th><th>float64</th><th>float64</th><th>float64</th><th>float64</th><th>float64</th><th>int32</th><th>int32</th><th>int32</th><th>int32</th><th>float64</th><th>float64</th><th>float64</th><th>float64</th><th>int32</th><th>float64</th><th>float64</th><th>float64</th><th>float64</th><th>float64</th><th>float64</th><th>float64</th><th>uint8</th><th>float64</th><th>float64</th><th>float64</th><th>uint8</th><th>int32</th><th>float64</th><th>float64</th></tr></thead>\n",
       "<tr><td>Ly_alpha</td><td>1215.67</td><td>1218.2121</td><td>0.0</td><td>0.0</td><td>0.0</td><td>0.0</td><td>0.0</td><td>0.0</td><td>0.0</td><td>0.0</td><td>0.0</td><td>0.0</td><td>0.0</td><td>0.0</td><td>0.0</td><td>0.0</td><td>0.0</td><td>0.0</td><td>0</td><td>0</td><td>201</td><td>201</td><td>0.0</td><td>0.0</td><td>0.0</td><td>13.2690830231</td><td>3334</td><td>0.0</td><td>0.0</td><td>0.0</td><td>3662.75522941</td><td>0.0</td><td>0.0</td><td>0.0</td><td>0 .. 0</td><td>6.69461870193 .. 0.186431244016</td><td>0.0 .. 0.0</td><td>0.0 .. 0.0</td><td>0 .. 0</td><td>0</td><td>10.0</td><td>25.0</td></tr>\n",
       "<tr><td>Si_IV_1396</td><td>1396.76</td><td>1396.8014659</td><td>1396.76</td><td>4203.63689443</td><td>2.00956276986</td><td>0.00105577689848</td><td>2553.10726473</td><td>124.414314389</td><td>137.792788446</td><td>7.83389182873</td><td>25.2857733752</td><td>1.44635624343</td><td>21.9456408937</td><td>1.25529934369</td><td>5.4494195768</td><td>0.0343166217208</td><td>5.4494195768</td><td>0.0343166217208</td><td>255</td><td>239</td><td>255</td><td>256</td><td>491.0</td><td>14.9996252907</td><td>862.550511124</td><td>1.53554665641</td><td>6087</td><td>9.46077476412</td><td>54.6224908243</td><td>2.00886169652</td><td>4202.65766324</td><td>0.0</td><td>0.6</td><td>1.75672201858</td><td>0 .. 0</td><td>5.90899635287e-171 .. 1.03030293663e-93</td><td>0.0 .. 0.0</td><td>5.90899635287e-171 .. 1.03030293663e-93</td><td>1 .. 1</td><td>1</td><td>10.0</td><td>25.0</td></tr>\n",
       "<tr><td>C_IV_1549</td><td>1549.06</td><td>1544.66227456</td><td>1544.66227456</td><td>4662.72500997</td><td>2.0186048347</td><td>0.000248944072689</td><td>2266.00490016</td><td>59.0687855976</td><td>194.45348743</td><td>5.70740143486</td><td>36.5439985363</td><td>1.08564735312</td><td>31.7201434576</td><td>0.94234049816</td><td>5.32107856882</td><td>0.0244318507612</td><td>5.32118411406</td><td>0.0244318507612</td><td>212</td><td>206</td><td>227</td><td>227</td><td>415.909088135</td><td>14.9996252907</td><td>621.179100561</td><td>2.2011309119</td><td>8158</td><td>13.6529718299</td><td>78.8264541853</td><td>2.01680413235</td><td>4659.94353298</td><td>0.0</td><td>0.6</td><td>1.49354538836</td><td>0 .. 0</td><td>4.76718674669e-172 .. 4.62289581839e-92</td><td>0.0 .. 0.0</td><td>4.76718674669e-172 .. 4.62289581839e-92</td><td>1 .. 1</td><td>1</td><td>10.0</td><td>25.0</td></tr>\n",
       "<tr><td>C_III_1908</td><td>1908.73</td><td>1903.90966717</td><td>1908.73</td><td>5722.10868555</td><td>1.99786176439</td><td>0.0011814228963</td><td>4463.40336036</td><td>138.117680603</td><td>524.348332354</td><td>21.5058935611</td><td>110.644516024</td><td>4.64674267879</td><td>95.9221660782</td><td>4.02844749089</td><td>4.73903588897</td><td>0.0427988097072</td><td>4.73903588897</td><td>0.0427988097072</td><td>441</td><td>440</td><td>446</td><td>446</td><td>878.5</td><td>14.9996252907</td><td>1232.43923417</td><td>2.45543497071</td><td>12250</td><td>7.17447706384</td><td>41.4223800227</td><td>1.99604232281</td><td>5718.63586281</td><td>0.0</td><td>0.6</td><td>1.40289042023</td><td>0 .. 0</td><td>5.90899635287e-171 .. 1.03030293663e-93</td><td>0.0 .. 0.0</td><td>5.90899635287e-171 .. 1.03030293663e-93</td><td>1 .. 1</td><td>1</td><td>10.0</td><td>25.0</td></tr>\n",
       "<tr><td>Mg_II_2799</td><td>2798.75</td><td>2799.40256021</td><td>2799.40256021</td><td>8450.29552638</td><td>2.01860677221</td><td>0.000248944232475</td><td>2643.26265079</td><td>83.4398843069</td><td>155.567466369</td><td>5.54836740799</td><td>57.3710116301</td><td>2.06053054748</td><td>49.7308144655</td><td>1.7861261192</td><td>2.71160403049</td><td>0.0114831877872</td><td>2.71160403049</td><td>0.0114831877872</td><td>251</td><td>251</td><td>264</td><td>264</td><td>499.909088135</td><td>14.9996252907</td><td>813.791442584</td><td>0.832985316782</td><td>20043</td><td>13.1266130531</td><td>75.787482413</td><td>2.01791383444</td><td>8448.35571461</td><td>0.0</td><td>0.6</td><td>1.62787887218</td><td>0 .. 0</td><td>4.76718674669e-172 .. 4.62289581839e-92</td><td>0.0 .. 0.0</td><td>4.76718674669e-172 .. 4.62289581839e-92</td><td>1 .. 1</td><td>1</td><td>10.0</td><td>25.0</td></tr>\n",
       "<tr><td>O_II_3727</td><td>3728.3</td><td>3728.3</td><td>3728.3</td><td>11254.2585666</td><td>2.01860326867</td><td>0.000248943943539</td><td>424.955603337</td><td>-0.0</td><td>0.0</td><td>-1.0</td><td>0.0</td><td>-3.0</td><td>0.0</td><td>-3.0</td><td>0.734441649283</td><td>0.00419069593772</td><td>0.734441649283</td><td>0.00419069593772</td><td>42</td><td>43</td><td>42</td><td>43</td><td>82.9090881348</td><td>14.9996252907</td><td>177.085743685</td><td>0.0</td><td>25770</td><td>3.26193449882</td><td>18.8330228415</td><td>2.01993152402</td><td>11259.210701</td><td>0.0</td><td>0.6</td><td>2.1359026817</td><td>0 .. 0</td><td>4.76718674669e-172 .. 4.62289581839e-92</td><td>0.0 .. 0.0</td><td>4.76718674669e-172 .. 4.62289581839e-92</td><td>1 .. 1</td><td>1</td><td>10.0</td><td>25.0</td></tr>\n",
       "<tr><td>H_beta</td><td>4862.68</td><td>4862.68</td><td>4862.68</td><td>14721.2148157</td><td>2.02738712308</td><td>0.00141409313006</td><td>2829.46010679</td><td>180.210539558</td><td>52.9608519675</td><td>4.10856469127</td><td>125.46908779</td><td>9.85232647792</td><td>108.643980234</td><td>8.531152828</td><td>0.422102789623</td><td>0.00513088190928</td><td>0.422102789745</td><td>0.00513088190928</td><td>283</td><td>282</td><td>283</td><td>283</td><td>562.0</td><td>14.9996252907</td><td>1055.2433572</td><td>0.152068240861</td><td>31137</td><td>5.72587519753</td><td>33.0587687833</td><td>2.02486749308</td><td>14708.9626613</td><td>0.0</td><td>0.6</td><td>1.87765721921</td><td>0 .. 0</td><td>5.90899635287e-171 .. 1.03030293663e-93</td><td>0.0 .. 0.0</td><td>5.90899635287e-171 .. 1.03030293663e-93</td><td>1 .. 1</td><td>1</td><td>10.0</td><td>25.0</td></tr>\n",
       "<tr><td>O_III_4959</td><td>4960.3</td><td>4960.3</td><td>4960.3</td><td>14973.175725</td><td>2.01860285164</td><td>0.000248943909146</td><td>850.000036613</td><td>-0.0</td><td>5.20267616266</td><td>0.361852024961</td><td>12.3697576512</td><td>0.867873422617</td><td>10.2083623753</td><td>0.716227968546</td><td>0.420596450582</td><td>0.00388210196979</td><td>0.439226697151</td><td>0.00388210196979</td><td>85</td><td>85</td><td>85</td><td>85</td><td>168.909088135</td><td>14.9996252907</td><td>264.501186433</td><td>0.048890526339</td><td>31476</td><td>6.10673986304</td><td>35.2577194206</td><td>2.01982879515</td><td>14979.2567726</td><td>0.0</td><td>0.6</td><td>1.56593815853</td><td>0 .. 0</td><td>4.76718674669e-172 .. 4.62289581839e-92</td><td>0.0 .. 0.0</td><td>4.76718674669e-172 .. 4.62289581839e-92</td><td>1 .. 1</td><td>1</td><td>10.0</td><td>25.0</td></tr>\n",
       "<tr><td>O_III_5007</td><td>5008.24</td><td>5008.24</td><td>5008.24</td><td>15130.5835342</td><td>2.02113787163</td><td>0.000914591897348</td><td>850.000036613</td><td>-0.0</td><td>14.290470539</td><td>1.09814776646</td><td>33.7192178472</td><td>2.60255236708</td><td>29.0541917179</td><td>2.24249138196</td><td>0.423807889132</td><td>0.00305928033777</td><td>0.426183211908</td><td>0.00305928033777</td><td>85</td><td>85</td><td>85</td><td>85</td><td>168.5</td><td>14.9996252907</td><td>238.580438168</td><td>0.13289317923</td><td>31685</td><td>5.37507024495</td><td>31.0333701472</td><td>2.02249534803</td><td>15137.3821018</td><td>0.0</td><td>0.6</td><td>1.41590764491</td><td>0 .. 0</td><td>5.90899635287e-171 .. 1.03030293663e-93</td><td>0.0 .. 0.0</td><td>5.90899635287e-171 .. 1.03030293663e-93</td><td>1 .. 1</td><td>1</td><td>10.0</td><td>25.0</td></tr>\n",
       "<tr><td>H_alpha</td><td>6564.61</td><td>6564.61</td><td>6564.61</td><td>19815.9511796</td><td>2.01860296036</td><td>0.000248943918112</td><td>2022.67298447</td><td>49.9354957305</td><td>169.109905392</td><td>4.35193050644</td><td>547.390429392</td><td>16.1776909853</td><td>475.296274875</td><td>14.0470052973</td><td>0.308938367044</td><td>0.00448966631666</td><td>0.308938367044</td><td>0.00448966631666</td><td>202</td><td>203</td><td>202</td><td>203</td><td>402.909088135</td><td>14.9996252907</td><td>644.753536392</td><td>0.504613927924</td><td>37077</td><td>7.74004523743</td><td>44.6877301809</td><td>2.02032834637</td><td>19827.2776659</td><td>0.0</td><td>0.6</td><td>1.60024570152</td><td>0 .. 0</td><td>4.76718674669e-172 .. 4.62289581839e-92</td><td>0.0 .. 0.0</td><td>4.76718674669e-172 .. 0.0</td><td>1 .. 1</td><td>1</td><td>10.0</td><td>25.0</td></tr>\n",
       "</table>"
      ],
      "text/plain": [
       "<Table length=10>\n",
       " LINENAME  LINEWAVELAB LINEWAVESHIFT  LINEWAVEFIT  ... ZFLAG  MIN_SN  MAX_X2\n",
       "  str10      float64      float64       float64    ... int32 float64 float64\n",
       "---------- ----------- ------------- ------------- ... ----- ------- -------\n",
       "Ly_alpha       1215.67     1218.2121           0.0 ...     0    10.0    25.0\n",
       "Si_IV_1396     1396.76  1396.8014659       1396.76 ...     1    10.0    25.0\n",
       "C_IV_1549      1549.06 1544.66227456 1544.66227456 ...     1    10.0    25.0\n",
       "C_III_1908     1908.73 1903.90966717       1908.73 ...     1    10.0    25.0\n",
       "Mg_II_2799     2798.75 2799.40256021 2799.40256021 ...     1    10.0    25.0\n",
       "O_II_3727       3728.3        3728.3        3728.3 ...     1    10.0    25.0\n",
       "H_beta         4862.68       4862.68       4862.68 ...     1    10.0    25.0\n",
       "O_III_4959      4960.3        4960.3        4960.3 ...     1    10.0    25.0\n",
       "O_III_5007     5008.24       5008.24       5008.24 ...     1    10.0    25.0\n",
       "H_alpha        6564.61       6564.61       6564.61 ...     1    10.0    25.0"
      ]
     },
     "execution_count": 7,
     "metadata": {},
     "output_type": "execute_result"
    }
   ],
   "source": [
    "ex_file = '/Users/xavier/paper/QSOClustering/tex/QPQ9/Analysis/Redshifts/zem/SDSSJ142054.418+160333.340_F_zem.fits'\n",
    "exmpl_hdu = fits.open(ex_file)\n",
    "zstruct = Table(exmpl_hdu[2].data)\n",
    "zstruct"
   ]
  },
  {
   "cell_type": "markdown",
   "metadata": {},
   "source": [
    "## Bright (L_V > 31.5)"
   ]
  },
  {
   "cell_type": "code",
   "execution_count": 2,
   "metadata": {
    "collapsed": true
   },
   "outputs": [],
   "source": [
    "tpe = Table.read('TPE_31.5_4pMpc.fits')"
   ]
  },
  {
   "cell_type": "code",
   "execution_count": 3,
   "metadata": {
    "collapsed": false
   },
   "outputs": [
    {
     "data": {
      "text/html": [
       "&lt;Table masked=True length=3&gt;\n",
       "<table id=\"table4584839120\" class=\"table-striped table-bordered table-condensed\">\n",
       "<thead><tr><th>FG_Z</th><th>FG_LOGLV</th><th>FG_RA</th><th>FG_DEC</th><th>FG_IGM_ID</th><th>FG_QPQ_ID</th><th>FG_MYERS_ZEM_SOURCE</th><th>BG_Z</th><th>BG_RA</th><th>BG_DEC</th><th>BG_IGM_ID</th><th>BG_QPQ_ID</th><th>specm</th><th>best_spec</th><th>nok</th><th>ibest</th><th>best_row</th><th>nspec</th><th>DBASE</th><th>GROUP</th><th>GROUP_ID</th><th>SPEC_FILE</th><th>R_phys</th></tr></thead>\n",
       "<thead><tr><th></th><th></th><th></th><th></th><th></th><th></th><th></th><th></th><th></th><th></th><th></th><th></th><th></th><th></th><th></th><th></th><th></th><th></th><th></th><th></th><th></th><th></th><th>kpc</th></tr></thead>\n",
       "<thead><tr><th>float64</th><th>float64</th><th>float64</th><th>float64</th><th>int64</th><th>int64</th><th>str8</th><th>float64</th><th>float64</th><th>float64</th><th>int64</th><th>int64</th><th>str182</th><th>str27</th><th>int64</th><th>int64</th><th>int64</th><th>int64</th><th>str7</th><th>str10</th><th>int64</th><th>str86</th><th>float64</th></tr></thead>\n",
       "<tr><td>2.14969205856</td><td>31.657671229</td><td>235.872802734</td><td>33.9857521057</td><td>246288</td><td>-1</td><td>SDSS-HW</td><td>2.34400010109</td><td>235.91634</td><td>33.933099</td><td>246347</td><td>-1</td><td>igmsp,BOSS_DR12,BOSS,BOTH</td><td>igmsp,BOSS_DR12,BOSS,BOTH</td><td>1</td><td>1</td><td>0</td><td>1</td><td>igmspec</td><td>BOSS_DR12</td><td>246412</td><td>spec-4971-55747-0842.fits.gz</td><td>1954.5326276</td></tr>\n",
       "<tr><td>3.09072995186</td><td>31.754088972</td><td>233.00669</td><td>37.000662</td><td>242296</td><td>-1</td><td>SDSS-HW</td><td>3.15195798874</td><td>232.87015</td><td>36.958381</td><td>242099</td><td>-1</td><td>igmsp,BOSS_DR12,BOSS,BOTH;igmsp,SDSS_DR7,SDSS,BOTH</td><td>igmsp,BOSS_DR12,BOSS,BOTH</td><td>2</td><td>1</td><td>0</td><td>2</td><td>igmspec</td><td>BOSS_DR12</td><td>242164</td><td>spec-4978-56036-0974.fits.gz</td><td>3292.69833065</td></tr>\n",
       "<tr><td>2.53133010864</td><td>31.6257508656</td><td>246.45332</td><td>26.782996</td><td>258556</td><td>2152</td><td>SDSS-HW</td><td>2.60573792458</td><td>246.4891</td><td>26.746716</td><td>258582</td><td>736</td><td>igmsp,BOSS_DR12,BOSS,BOTH;igmsp,SDSS_DR7,SDSS,BOTH;igmsp,KODIAQ_DR1,HIRES,BLUE;igmsp,KODIAQ_DR1,HIRES,BLUE;qpq,BOSS,BOSS,BOTH;qpq,BOSS,BOSS,BOTH;qpq,BOSS,BOSS,BOTH;qpq,BOSS,BOSS,BOTH</td><td>igmsp,KODIAQ_DR1,HIRES,BLUE</td><td>8</td><td>11</td><td>3</td><td>8</td><td>igmspec</td><td>KODIAQ_DR1</td><td>179</td><td>J162557+264448_f.fits</td><td>1435.57864004</td></tr>\n",
       "</table>"
      ],
      "text/plain": [
       "<Table masked=True length=3>\n",
       "     FG_Z        FG_LOGLV   ...          SPEC_FILE               R_phys   \n",
       "                            ...                                   kpc     \n",
       "   float64       float64    ...            str86                float64   \n",
       "------------- ------------- ... ---------------------------- -------------\n",
       "2.14969205856  31.657671229 ... spec-4971-55747-0842.fits.gz  1954.5326276\n",
       "3.09072995186  31.754088972 ... spec-4978-56036-0974.fits.gz 3292.69833065\n",
       "2.53133010864 31.6257508656 ...        J162557+264448_f.fits 1435.57864004"
      ]
     },
     "execution_count": 3,
     "metadata": {},
     "output_type": "execute_result"
    }
   ],
   "source": [
    "tpe[0:3]"
   ]
  },
  {
   "cell_type": "code",
   "execution_count": 4,
   "metadata": {
    "collapsed": false
   },
   "outputs": [
    {
     "data": {
      "text/plain": [
       "19565.217391304348"
      ]
     },
     "execution_count": 4,
     "metadata": {},
     "output_type": "execute_result"
    }
   ],
   "source": [
    "300./4600*3e5"
   ]
  },
  {
   "cell_type": "code",
   "execution_count": null,
   "metadata": {
    "collapsed": true
   },
   "outputs": [],
   "source": []
  }
 ],
 "metadata": {
  "kernelspec": {
   "display_name": "Python 2",
   "language": "python",
   "name": "python2"
  },
  "language_info": {
   "codemirror_mode": {
    "name": "ipython",
    "version": 2
   },
   "file_extension": ".py",
   "mimetype": "text/x-python",
   "name": "python",
   "nbconvert_exporter": "python",
   "pygments_lexer": "ipython2",
   "version": "2.7.11"
  }
 },
 "nbformat": 4,
 "nbformat_minor": 0
}
