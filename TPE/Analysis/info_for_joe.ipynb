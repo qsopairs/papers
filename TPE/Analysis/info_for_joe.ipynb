{
 "cells": [
  {
   "cell_type": "markdown",
   "metadata": {},
   "source": [
    "# Meta info for Joe modeling"
   ]
  },
  {
   "cell_type": "code",
   "execution_count": 14,
   "metadata": {
    "collapsed": true
   },
   "outputs": [],
   "source": [
    "# imports\n",
    "sys.path.append(os.path.abspath(\"./py\"))\n",
    "import tpe_stack as tstack"
   ]
  },
  {
   "cell_type": "markdown",
   "metadata": {},
   "source": [
    "## Load "
   ]
  },
  {
   "cell_type": "code",
   "execution_count": 20,
   "metadata": {
    "collapsed": false
   },
   "outputs": [
    {
     "name": "stdout",
     "output_type": "stream",
     "text": [
      "Loading spectra from: /u/xavier/Dropbox//QSOPairs/TPE_DR12/TPE_DR12_31.2_spec.hdf5\n",
      "We have 90 spectra after the rho cut.\n",
      "We have 81 spectra after the continuum cut.\n"
     ]
    }
   ],
   "source": [
    "reload(tstack)\n",
    "cuts, xspec, tpe, spec_tbl = tstack.cut_spec(os.getenv('DROPBOX_DIR')+'/QSOPairs/TPE_DR12/TPE_DR12_31.2_spec.hdf5', cut_on_rho=4.)"
   ]
  },
  {
   "cell_type": "markdown",
   "metadata": {},
   "source": [
    "## Parse"
   ]
  },
  {
   "cell_type": "code",
   "execution_count": 21,
   "metadata": {
    "collapsed": true
   },
   "outputs": [],
   "source": [
    "stack_tpe = tpe[cuts]"
   ]
  },
  {
   "cell_type": "code",
   "execution_count": 22,
   "metadata": {
    "collapsed": false
   },
   "outputs": [
    {
     "data": {
      "text/html": [
       "&lt;Table length=81&gt;\n",
       "<table id=\"table4907046928\" class=\"table-striped table-bordered table-condensed\">\n",
       "<thead><tr><th>FG_Z</th><th>FG_LOGLV</th><th>FG_G_UV</th><th>FG_RA</th><th>FG_DEC</th><th>BG_Z</th><th>BG_RA</th><th>BG_DEC</th><th>BG_LYA_INSTRUMENT</th><th>BG_LYA_FILE</th><th>R</th></tr></thead>\n",
       "<thead><tr><th></th><th></th><th></th><th></th><th></th><th></th><th></th><th></th><th></th><th></th><th>kpc</th></tr></thead>\n",
       "<thead><tr><th>float64</th><th>float32</th><th>float64</th><th>float64</th><th>float64</th><th>float64</th><th>float64</th><th>float64</th><th>str8</th><th>str39</th><th>float64</th></tr></thead>\n",
       "<tr><td>2.67487096786</td><td>31.416</td><td>6.59105801546</td><td>8.76572075</td><td>0.278229046341</td><td>3.31621098518</td><td>8.65995326009</td><td>0.238155226842</td><td>BOSS</td><td>SDSSJ003438.39+001417.4.fits</td><td>3315.33213748</td></tr>\n",
       "<tr><td>2.26354598999</td><td>31.2775</td><td>3.78065717013</td><td>11.5881277113</td><td>24.1823462354</td><td>2.44457507133</td><td>11.6897861895</td><td>24.1050092902</td><td>BOSS</td><td>SDSSJ004645.55+240618.0.fits</td><td>3666.94591156</td></tr>\n",
       "<tr><td>2.4849998951</td><td>31.5575</td><td>1115.08614949</td><td>17.9586150746</td><td>14.0281577616</td><td>2.93550395966</td><td>17.9558203147</td><td>14.0377133359</td><td>LRIS</td><td>SDSSJ011149.40+140215.8_b1200_F.fits.gz</td><td>296.174540599</td></tr>\n",
       "<tr><td>2.39916491508</td><td>31.2724</td><td>3.74699182303</td><td>22.5595907086</td><td>-0.110891725119</td><td>2.90742206573</td><td>22.6808727047</td><td>-0.126460294826</td><td>BOSS</td><td>SDSSJ013043.41-000735.3.fits</td><td>3672.69857764</td></tr>\n",
       "<tr><td>3.16700005531</td><td>31.4852</td><td>831.522317098</td><td>24.1232678295</td><td>15.0480795383</td><td>3.38800001144</td><td>24.1307876106</td><td>15.0384509056</td><td>LRIS</td><td>SDSSJ013631.39+150218.4_b400_F.fits.gz</td><td>336.840755852</td></tr>\n",
       "<tr><td>2.72653388977</td><td>31.3401</td><td>28.4453707847</td><td>37.1837244213</td><td>0.038057968483</td><td>2.99216508865</td><td>37.2046746904</td><td>-0.00768860300224</td><td>BOSS</td><td>SDSSJ022849.12-000027.6.fits</td><td>1467.74172619</td></tr>\n",
       "<tr><td>3.29636406898</td><td>31.8152</td><td>49.6218871763</td><td>46.2077418647</td><td>-0.137097009065</td><td>3.45733904839</td><td>46.2745786632</td><td>-0.104609147319</td><td>SDSS</td><td>SDSSJ030505.90-000616.6.fits</td><td>2048.28914919</td></tr>\n",
       "<tr><td>2.49285197258</td><td>31.4128</td><td>20.8832059711</td><td>55.0394438474</td><td>0.27891628581</td><td>2.66767311096</td><td>55.0038641025</td><td>0.329074129225</td><td>SDSS</td><td>SDSSJ034000.93+001944.7.fits</td><td>1832.41193724</td></tr>\n",
       "<tr><td>2.23206305504</td><td>31.2109</td><td>5.79140013535</td><td>114.129251108</td><td>36.4180784288</td><td>2.26430511475</td><td>114.238632392</td><td>36.3983429103</td><td>BOSS</td><td>SDSSJ073657.27+362354.0.fits</td><td>2745.60899679</td></tr>\n",
       "<tr><td>...</td><td>...</td><td>...</td><td>...</td><td>...</td><td>...</td><td>...</td><td>...</td><td>...</td><td>...</td><td>...</td></tr>\n",
       "<tr><td>2.89651489258</td><td>31.4222</td><td>15.9956252643</td><td>235.407004198</td><td>11.7391678413</td><td>3.0717689991</td><td>235.334359602</td><td>11.7116295134</td><td>BOSS</td><td>SDSSJ154120.25+114241.9.fits</td><td>2188.80296772</td></tr>\n",
       "<tr><td>2.0852200985</td><td>31.2111</td><td>3.97262060153</td><td>238.435685647</td><td>5.66059046573</td><td>2.17977595329</td><td>238.542781698</td><td>5.63940274966</td><td>BOSS</td><td>SDSSJ155410.27+053821.8.fits</td><td>3340.65885975</td></tr>\n",
       "<tr><td>2.67291307449</td><td>31.2552</td><td>8.65714267479</td><td>238.688759556</td><td>22.6598164499</td><td>3.06278300285</td><td>238.712498413</td><td>22.7388175028</td><td>BOSS</td><td>SDSSJ155451.00+224419.8.fits</td><td>2403.47290992</td></tr>\n",
       "<tr><td>2.56533193588</td><td>31.2218</td><td>39.2516575125</td><td>238.776705163</td><td>36.8989334706</td><td>2.99117398262</td><td>238.748773913</td><td>36.8701924469</td><td>BOSS</td><td>SDSSJ155459.70+365212.7.fits</td><td>1077.7846487</td></tr>\n",
       "<tr><td>2.11624407768</td><td>31.2197</td><td>4.43034165764</td><td>254.510902452</td><td>36.0844726112</td><td>2.58117604256</td><td>254.563347508</td><td>35.9895623293</td><td>BOSS</td><td>SDSSJ165815.20+355922.5.fits</td><td>3189.52110919</td></tr>\n",
       "<tr><td>2.56228208542</td><td>31.4017</td><td>17.838509148</td><td>324.122696443</td><td>10.4978423815</td><td>2.96244096756</td><td>324.063949926</td><td>10.4651130914</td><td>BOSS</td><td>SDSSJ213615.35+102754.4.fits</td><td>1966.28098185</td></tr>\n",
       "<tr><td>2.25060009956</td><td>31.2726</td><td>36.0255833933</td><td>333.071995474</td><td>0.540825220745</td><td>2.46805906296</td><td>333.110047127</td><td>0.548692504361</td><td>BOSS</td><td>SDSSJ221226.41+003255.3.fits</td><td>1180.85942213</td></tr>\n",
       "<tr><td>2.4597890377</td><td>31.3931</td><td>4.41817551408</td><td>352.887650278</td><td>-9.04635550154</td><td>2.6601319313</td><td>352.985293904</td><td>-9.13390726808</td><td>SDSS</td><td>SDSSJ233156.49-090802.0.fits</td><td>3891.82506782</td></tr>\n",
       "<tr><td>2.58129405975</td><td>31.3135</td><td>16.759431991</td><td>354.68562521</td><td>8.40122726383</td><td>2.97970104218</td><td>354.702839438</td><td>8.34153103265</td><td>BOSS</td><td>SDSSJ233848.69+082029.4.fits</td><td>1835.32843453</td></tr>\n",
       "<tr><td>2.085105896</td><td>31.3571</td><td>8.48283312403</td><td>355.098610898</td><td>-0.890817702864</td><td>2.26220011711</td><td>355.011518333</td><td>-0.878359687695</td><td>BOSS</td><td>SDSSJ234002.76-005242.1.fits</td><td>2704.50880623</td></tr>\n",
       "</table>"
      ],
      "text/plain": [
       "<Table length=81>\n",
       "     FG_Z     FG_LOGLV ...               BG_LYA_FILE                     R      \n",
       "                       ...                                              kpc     \n",
       "   float64    float32  ...                  str39                     float64   \n",
       "------------- -------- ... --------------------------------------- -------------\n",
       "2.67487096786   31.416 ...            SDSSJ003438.39+001417.4.fits 3315.33213748\n",
       "2.26354598999  31.2775 ...            SDSSJ004645.55+240618.0.fits 3666.94591156\n",
       " 2.4849998951  31.5575 ... SDSSJ011149.40+140215.8_b1200_F.fits.gz 296.174540599\n",
       "2.39916491508  31.2724 ...            SDSSJ013043.41-000735.3.fits 3672.69857764\n",
       "3.16700005531  31.4852 ...  SDSSJ013631.39+150218.4_b400_F.fits.gz 336.840755852\n",
       "2.72653388977  31.3401 ...            SDSSJ022849.12-000027.6.fits 1467.74172619\n",
       "3.29636406898  31.8152 ...            SDSSJ030505.90-000616.6.fits 2048.28914919\n",
       "2.49285197258  31.4128 ...            SDSSJ034000.93+001944.7.fits 1832.41193724\n",
       "2.23206305504  31.2109 ...            SDSSJ073657.27+362354.0.fits 2745.60899679\n",
       "          ...      ... ...                                     ...           ...\n",
       "2.89651489258  31.4222 ...            SDSSJ154120.25+114241.9.fits 2188.80296772\n",
       " 2.0852200985  31.2111 ...            SDSSJ155410.27+053821.8.fits 3340.65885975\n",
       "2.67291307449  31.2552 ...            SDSSJ155451.00+224419.8.fits 2403.47290992\n",
       "2.56533193588  31.2218 ...            SDSSJ155459.70+365212.7.fits  1077.7846487\n",
       "2.11624407768  31.2197 ...            SDSSJ165815.20+355922.5.fits 3189.52110919\n",
       "2.56228208542  31.4017 ...            SDSSJ213615.35+102754.4.fits 1966.28098185\n",
       "2.25060009956  31.2726 ...            SDSSJ221226.41+003255.3.fits 1180.85942213\n",
       " 2.4597890377  31.3931 ...            SDSSJ233156.49-090802.0.fits 3891.82506782\n",
       "2.58129405975  31.3135 ...            SDSSJ233848.69+082029.4.fits 1835.32843453\n",
       "  2.085105896  31.3571 ...            SDSSJ234002.76-005242.1.fits 2704.50880623"
      ]
     },
     "execution_count": 22,
     "metadata": {},
     "output_type": "execute_result"
    }
   ],
   "source": [
    "stack_tpe"
   ]
  },
  {
   "cell_type": "code",
   "execution_count": null,
   "metadata": {
    "collapsed": true
   },
   "outputs": [],
   "source": []
  }
 ],
 "metadata": {
  "kernelspec": {
   "display_name": "Python 2",
   "language": "python",
   "name": "python2"
  },
  "language_info": {
   "codemirror_mode": {
    "name": "ipython",
    "version": 2
   },
   "file_extension": ".py",
   "mimetype": "text/x-python",
   "name": "python",
   "nbconvert_exporter": "python",
   "pygments_lexer": "ipython2",
   "version": "2.7.11"
  }
 },
 "nbformat": 4,
 "nbformat_minor": 0
}
